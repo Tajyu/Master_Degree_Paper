{
  "nbformat": 4,
  "nbformat_minor": 0,
  "metadata": {
    "colab": {
      "name": "3Class_Genus_BatchNormal_Input_dim_Layer_5.ipynb",
      "provenance": [],
      "collapsed_sections": [],
      "mount_file_id": "12V88qoOL-rXyJeS4A9zNL5frpNIY7WXu",
      "authorship_tag": "ABX9TyPRWYGJz4+Bajn+VlOkN7vb",
      "include_colab_link": true
    },
    "kernelspec": {
      "name": "python3",
      "display_name": "Python 3"
    },
    "language_info": {
      "name": "python"
    },
    "accelerator": "GPU"
  },
  "cells": [
    {
      "cell_type": "markdown",
      "metadata": {
        "id": "view-in-github",
        "colab_type": "text"
      },
      "source": [
        "<a href=\"https://colab.research.google.com/github/Tajyu/Master_Degree_Paper/blob/main/Code/Filter_32/Input_dim/3Class_Genus_BatchNormal_Input_dim_Layer_5.ipynb\" target=\"_parent\"><img src=\"https://colab.research.google.com/assets/colab-badge.svg\" alt=\"Open In Colab\"/></a>"
      ]
    },
    {
      "cell_type": "code",
      "metadata": {
        "id": "yWckd06_68Em"
      },
      "source": [
        "import tensorflow as tf\n",
        "from tensorflow.keras import datasets, layers, models\n",
        "from keras.preprocessing.image import ImageDataGenerator\n",
        "import numpy as np\n",
        "import matplotlib.pyplot as plt\n",
        "import cv2 as cv\n",
        "import os\n",
        "import pathlib\n",
        "import PIL\n",
        "from tensorflow import keras\n",
        "from tensorflow.keras import layers\n",
        "from tensorflow.keras.models import Sequential\n",
        "from tensorflow.keras.layers import Dense, Flatten, BatchNormalization, Dropout"
      ],
      "execution_count": null,
      "outputs": []
    },
    {
      "cell_type": "code",
      "metadata": {
        "id": "xav9zirHttk_"
      },
      "source": [
        "image_list = os.listdir('/content/drive/MyDrive/Colab Notebooks/Final_Project/Cell_Genus')"
      ],
      "execution_count": null,
      "outputs": []
    },
    {
      "cell_type": "code",
      "metadata": {
        "colab": {
          "base_uri": "https://localhost:8080/"
        },
        "id": "K-wD0dM5tx_E",
        "outputId": "d84465bb-4f67-42eb-8a00-8ba1979d4179"
      },
      "source": [
        "print(image_list)"
      ],
      "execution_count": null,
      "outputs": [
        {
          "output_type": "stream",
          "name": "stdout",
          "text": [
            "['10_Genus_Stauroneis_Ehrenberg', '10_Genus_Staurosira_Ehrenberg', '11_Genus_Craspedostauros_E.J_Cox_1999', '11_Genus_Staurosirella_Williams_and_Round', '12_Genus_Caloneis_Cleve_1894', '12_Genus_Synedra_Ehrenberg', '13_Genus_Pinnularia_Ehrenberg_1843', '1_Genus_Acanthoceras_Honigmann', '1_Genus_Achnanthes_Bory', '1_Genus_Actinocyclus_Ehrenberg', '1_Genus_Aphanocapsa_Nageli_1849', '1_Genus_Asterionella_Hassall', '1_Genus_Aulacoseira', '1_Genus_Biremis_Mann_et_Cox_in_Round_Crawford_and_Mann', '1_Genus_Characium_A_Braun_in_Kutzing_1849', '1_Genus_Chroococcus_Nageli', '1_Genus_Closterium_Nitzsch_ex_Ralfs_1848', '1_Genus_Coelastrum_Nageli_1849', '1_Genus_Cylindrocystis_Meneghini_ex_de_Bary_1858', '1_Genus_Dictyosphaerium_Nageli_1849', '1_Genus_Docidium_Brebisson_ex_Ralfs_1848', '1_Genus_Eunotia_Ehrenberg', '1_Genus_Geitlerinema_(Anagnostidis_et_Komarek)_Anagnostidis_1989', '1_Genus_Gonatozygon_de_Bary_1856', '1_Genus_Hydrodictyon_Roth_1797', '1_Genus_Hydrosera_whampoensis', '1_Genus_Jaaginema_Anagnostidis_et_Komarek_1988', '1_Genus_Lyngbya_C_Agardh_ex_Gomont_1892', '1_Genus_Melosira_Agardh', '1_Genus_Micractinium_Fresenius_1858', '1_Genus_Micrasterias_Ralfs_1848', '1_Genus_Microcystis_Kutzing_ex_Lemmermann_1907', '1_Genus_Oscillatoria_Vaucher_ex_Gomont_1982', '1_Genus_Pediastrum_Meyen_1829', '1_Genus_Penium_Brebisson_ex_Ralfs_in_Ralfs_1848', '1_Genus_Phormidium_Kutzing_ex_Gomont_1892', '1_Genus_Planktothrix_Anagnostidis_et_Komarek_1988', '1_Genus_Pleurosira_laevis_(Ehrenberg)', '1_Genus_Rhizosolenia_Ehrenberg', '1_Genus_Schizochlamydella_Korshikov_1953', '1_Genus_Staurodesmus_Teiling_1848', '1_Genus_Trochiscia_Kutzing_1834', '1_Scenedesmus_Hegewald_1978', '2_Acutodesmus_Hegewald_1978', '2_Genus_Achnanthidium_Kutzing', '2_Genus_Actinastrum_Lagerheim_1882', '2_Genus_Actinella_Lewis', '2_Genus_Ankyra_Fott_1957', '2_Genus_Caloneis_Cleve', '2_Genus_Chaetoceros_Ehrenberg', '2_Genus_Coenochloris_Korshikov_1953', '2_Genus_Cyclotella', '2_Genus_Diatoma_Bory', '2_Genus_Dimorphococcus_A_Braun_1855', '2_Genus_Golenkinia_Chodat_1894', '2_Genus_Haplotaenium_Bando_1988', '2_Genus_Leibleinia_(Gomont)_L_Hoffman_1985', '2_Genus_Leptolyngbya_Anagnostidis_et_Komarek_1988', '2_Genus_Merismopedia_Meyen_1839', '2_Genus_Netrium_(Nageli)_Itzigsohn_et_Rothe_in_Rabenhorst_1856', '2_Genus_Orthoseira_Thwaites_1848', '2_Genus_Phormidium_Kutzing_ex_Gomont_1892', '2_Genus_Sorastrum_Kutzing_1845', '2_Genus_Staurastrum_Meyen_ex_Ralfs_1848', '3_Desmodesmus_Chodat_1926', '3_Genus_Acanthosphaera_Lemmerman_1899', '3_Genus_Anorthoneis_Grunow', '3_Genus_Cyclostephanos_Round', '3_Genus_Dichotomococcus_Korshikov_1928', '3_Genus_Heteroleibleinia_(Geitler)_L_Hoffmann_1985', '3_Genus_Limnothrix_Meffert_1988', '3_Genus_Meridion_Agardh', '3_Genus_Paradoxia_Svirenko_1928', '3_Genus_Peronia_Bebisson_and_Arnott_ex_Kitton', '3_Genus_Phormidiochaete_Komarek_in_Anagnostidis_2001', '3_Genus_Pinnularia_Ehrenberg_1', '3_Genus_Pleurotaenium_Nageli_1849', '3_Genus_Radiococcus_Schmidle_1902', '3_Genus_Snowella_Elenkin_1938', '3_Genus_Spirotaenia_Brebisson_in_Ralfs_1848', '4_Genus_Botryococcus_Kutzing_1849', '4_Genus_Cocconeis_Ehrenberg', '4_Genus_Eutetramorus_Walton_1918', '4_Genus_Leptolyngbya_Anagnostidis_et_Komarek_1988', '4_Genus_Opephora_Petit', '4_Genus_Pinnularia_Ehrenberg_2', '4_Genus_Schroederia_Lemmermann_1898', '4_Genus_Stephanodiscus_Ehrenberg', '4_Genus_Synechocystis_Sauvageau_1892', '4_Genus_Tortitaenia_A_J_Brook_1998', '5_Genus_Caloneis_Cleve', '5_Genus_Coenocystis_Korshikov_1953', '5_Genus_Planktolyngbya_Anagnostidis_et_Komarek_1988', '5_Genus_Tabellaria_Ehrenberg', '5_Genus_Thalassiosira_Cleve', '5_Genus_Woronichinia_Elenkin_1933', '6_Genus_Anomoeoneis_Pfitzer', '6_Genus_Fragilaria_Lyngbye', '6_Genus_Gloeocystis_Nageli_1849', '6_Genus_Pseudanabaena_Lauterborn_1915', '6_Genus_Skeletonema_Greville', '7_Genus_Caloneis_Cleve', '7_Genus_Hannaea_Patrick', '8_Genus_Diploneis(Ehrenberg)_Cleve', '8_Genus_Pseudostaurosira_Williams_and_Round', '9_Genus_Neidium_Pfitzer', '9_Genus_Punctastriata_Williams_and_Round']\n"
          ]
        }
      ]
    },
    {
      "cell_type": "code",
      "metadata": {
        "id": "o-0DvzEHt8VE"
      },
      "source": [
        "data_generator = ImageDataGenerator(rescale = 1./255)\n",
        "\n",
        "data_dir = \"/content/drive/MyDrive/Colab Notebooks/Final_Project/Cell_Genus\""
      ],
      "execution_count": null,
      "outputs": []
    },
    {
      "cell_type": "code",
      "metadata": {
        "id": "7aTCfEm3t10n"
      },
      "source": [
        "batch_size = 32\n",
        "img_height = 180\n",
        "img_width = 180"
      ],
      "execution_count": null,
      "outputs": []
    },
    {
      "cell_type": "code",
      "metadata": {
        "colab": {
          "base_uri": "https://localhost:8080/"
        },
        "id": "9Smg-miEt22s",
        "outputId": "376926d3-b96f-4fff-9853-39e93a035030"
      },
      "source": [
        "train_ds = tf.keras.preprocessing.image_dataset_from_directory(\n",
        "  data_dir,\n",
        "  color_mode = \"grayscale\",\n",
        "  validation_split=0.2,\n",
        "  subset=\"training\",\n",
        "  seed=123,\n",
        "  image_size=(img_height, img_width),\n",
        "  batch_size=batch_size)"
      ],
      "execution_count": null,
      "outputs": [
        {
          "output_type": "stream",
          "name": "stdout",
          "text": [
            "Found 6226 files belonging to 107 classes.\n",
            "Using 4981 files for training.\n"
          ]
        }
      ]
    },
    {
      "cell_type": "code",
      "metadata": {
        "colab": {
          "base_uri": "https://localhost:8080/"
        },
        "id": "1nR0WdQGt44x",
        "outputId": "6d161902-276f-4672-f0fa-558bc9fe3033"
      },
      "source": [
        "val_ds = tf.keras.preprocessing.image_dataset_from_directory(\n",
        "  data_dir,\n",
        "  color_mode = \"grayscale\",\n",
        "  validation_split=0.2,\n",
        "  subset=\"validation\",\n",
        "  seed=123,\n",
        "  image_size=(img_height, img_width),\n",
        "  batch_size=batch_size)"
      ],
      "execution_count": null,
      "outputs": [
        {
          "output_type": "stream",
          "name": "stdout",
          "text": [
            "Found 6226 files belonging to 107 classes.\n",
            "Using 1245 files for validation.\n"
          ]
        }
      ]
    },
    {
      "cell_type": "code",
      "metadata": {
        "colab": {
          "base_uri": "https://localhost:8080/"
        },
        "id": "F-cz_CtGug8Y",
        "outputId": "ac4428a5-e4e4-4cf9-e0b4-04368552f4b2"
      },
      "source": [
        "class_names = train_ds.class_names\n",
        "print(class_names)"
      ],
      "execution_count": null,
      "outputs": [
        {
          "output_type": "stream",
          "name": "stdout",
          "text": [
            "['10_Genus_Stauroneis_Ehrenberg', '10_Genus_Staurosira_Ehrenberg', '11_Genus_Craspedostauros_E.J_Cox_1999', '11_Genus_Staurosirella_Williams_and_Round', '12_Genus_Caloneis_Cleve_1894', '12_Genus_Synedra_Ehrenberg', '13_Genus_Pinnularia_Ehrenberg_1843', '1_Genus_Acanthoceras_Honigmann', '1_Genus_Achnanthes_Bory', '1_Genus_Actinocyclus_Ehrenberg', '1_Genus_Aphanocapsa_Nageli_1849', '1_Genus_Asterionella_Hassall', '1_Genus_Aulacoseira', '1_Genus_Biremis_Mann_et_Cox_in_Round_Crawford_and_Mann', '1_Genus_Characium_A_Braun_in_Kutzing_1849', '1_Genus_Chroococcus_Nageli', '1_Genus_Closterium_Nitzsch_ex_Ralfs_1848', '1_Genus_Coelastrum_Nageli_1849', '1_Genus_Cylindrocystis_Meneghini_ex_de_Bary_1858', '1_Genus_Dictyosphaerium_Nageli_1849', '1_Genus_Docidium_Brebisson_ex_Ralfs_1848', '1_Genus_Eunotia_Ehrenberg', '1_Genus_Geitlerinema_(Anagnostidis_et_Komarek)_Anagnostidis_1989', '1_Genus_Gonatozygon_de_Bary_1856', '1_Genus_Hydrodictyon_Roth_1797', '1_Genus_Hydrosera_whampoensis', '1_Genus_Jaaginema_Anagnostidis_et_Komarek_1988', '1_Genus_Lyngbya_C_Agardh_ex_Gomont_1892', '1_Genus_Melosira_Agardh', '1_Genus_Micractinium_Fresenius_1858', '1_Genus_Micrasterias_Ralfs_1848', '1_Genus_Microcystis_Kutzing_ex_Lemmermann_1907', '1_Genus_Oscillatoria_Vaucher_ex_Gomont_1982', '1_Genus_Pediastrum_Meyen_1829', '1_Genus_Penium_Brebisson_ex_Ralfs_in_Ralfs_1848', '1_Genus_Phormidium_Kutzing_ex_Gomont_1892', '1_Genus_Planktothrix_Anagnostidis_et_Komarek_1988', '1_Genus_Pleurosira_laevis_(Ehrenberg)', '1_Genus_Rhizosolenia_Ehrenberg', '1_Genus_Schizochlamydella_Korshikov_1953', '1_Genus_Staurodesmus_Teiling_1848', '1_Genus_Trochiscia_Kutzing_1834', '1_Scenedesmus_Hegewald_1978', '2_Acutodesmus_Hegewald_1978', '2_Genus_Achnanthidium_Kutzing', '2_Genus_Actinastrum_Lagerheim_1882', '2_Genus_Actinella_Lewis', '2_Genus_Ankyra_Fott_1957', '2_Genus_Caloneis_Cleve', '2_Genus_Chaetoceros_Ehrenberg', '2_Genus_Coenochloris_Korshikov_1953', '2_Genus_Cyclotella', '2_Genus_Diatoma_Bory', '2_Genus_Dimorphococcus_A_Braun_1855', '2_Genus_Golenkinia_Chodat_1894', '2_Genus_Haplotaenium_Bando_1988', '2_Genus_Leibleinia_(Gomont)_L_Hoffman_1985', '2_Genus_Leptolyngbya_Anagnostidis_et_Komarek_1988', '2_Genus_Merismopedia_Meyen_1839', '2_Genus_Netrium_(Nageli)_Itzigsohn_et_Rothe_in_Rabenhorst_1856', '2_Genus_Orthoseira_Thwaites_1848', '2_Genus_Phormidium_Kutzing_ex_Gomont_1892', '2_Genus_Sorastrum_Kutzing_1845', '2_Genus_Staurastrum_Meyen_ex_Ralfs_1848', '3_Desmodesmus_Chodat_1926', '3_Genus_Acanthosphaera_Lemmerman_1899', '3_Genus_Anorthoneis_Grunow', '3_Genus_Cyclostephanos_Round', '3_Genus_Dichotomococcus_Korshikov_1928', '3_Genus_Heteroleibleinia_(Geitler)_L_Hoffmann_1985', '3_Genus_Limnothrix_Meffert_1988', '3_Genus_Meridion_Agardh', '3_Genus_Paradoxia_Svirenko_1928', '3_Genus_Peronia_Bebisson_and_Arnott_ex_Kitton', '3_Genus_Phormidiochaete_Komarek_in_Anagnostidis_2001', '3_Genus_Pinnularia_Ehrenberg_1', '3_Genus_Pleurotaenium_Nageli_1849', '3_Genus_Radiococcus_Schmidle_1902', '3_Genus_Snowella_Elenkin_1938', '3_Genus_Spirotaenia_Brebisson_in_Ralfs_1848', '4_Genus_Botryococcus_Kutzing_1849', '4_Genus_Cocconeis_Ehrenberg', '4_Genus_Eutetramorus_Walton_1918', '4_Genus_Leptolyngbya_Anagnostidis_et_Komarek_1988', '4_Genus_Opephora_Petit', '4_Genus_Pinnularia_Ehrenberg_2', '4_Genus_Schroederia_Lemmermann_1898', '4_Genus_Stephanodiscus_Ehrenberg', '4_Genus_Synechocystis_Sauvageau_1892', '4_Genus_Tortitaenia_A_J_Brook_1998', '5_Genus_Caloneis_Cleve', '5_Genus_Coenocystis_Korshikov_1953', '5_Genus_Planktolyngbya_Anagnostidis_et_Komarek_1988', '5_Genus_Tabellaria_Ehrenberg', '5_Genus_Thalassiosira_Cleve', '5_Genus_Woronichinia_Elenkin_1933', '6_Genus_Anomoeoneis_Pfitzer', '6_Genus_Fragilaria_Lyngbye', '6_Genus_Gloeocystis_Nageli_1849', '6_Genus_Pseudanabaena_Lauterborn_1915', '6_Genus_Skeletonema_Greville', '7_Genus_Caloneis_Cleve', '7_Genus_Hannaea_Patrick', '8_Genus_Diploneis(Ehrenberg)_Cleve', '8_Genus_Pseudostaurosira_Williams_and_Round', '9_Genus_Neidium_Pfitzer', '9_Genus_Punctastriata_Williams_and_Round']\n"
          ]
        }
      ]
    },
    {
      "cell_type": "code",
      "metadata": {
        "colab": {
          "base_uri": "https://localhost:8080/"
        },
        "id": "5EQOikPAukic",
        "outputId": "9b143102-5ae6-464e-ef1a-19ce503308a5"
      },
      "source": [
        "for image_batch, labels_batch in train_ds:\n",
        "  print(image_batch.shape)\n",
        "  print(labels_batch.shape)\n",
        "  break"
      ],
      "execution_count": null,
      "outputs": [
        {
          "output_type": "stream",
          "name": "stdout",
          "text": [
            "(32, 180, 180, 1)\n",
            "(32,)\n"
          ]
        }
      ]
    },
    {
      "cell_type": "code",
      "metadata": {
        "id": "9eVl7tiDux9q"
      },
      "source": [
        "from tensorflow.keras import layers\n",
        "\n",
        "normalization_layer = tf.keras.layers.experimental.preprocessing.Rescaling(1./255)"
      ],
      "execution_count": null,
      "outputs": []
    },
    {
      "cell_type": "code",
      "metadata": {
        "colab": {
          "base_uri": "https://localhost:8080/"
        },
        "id": "AiIrsxzZuzEo",
        "outputId": "eba83a44-9a70-4f89-dde9-631fd3f00387"
      },
      "source": [
        "normalized_ds = train_ds.map(lambda x, y: (normalization_layer(x), y))\n",
        "image_batch, labels_batch = next(iter(normalized_ds))\n",
        "first_image = image_batch[0]\n",
        "# Notice the pixels values are now in `[0,1]`.\n",
        "print(np.min(first_image), np.max(first_image))"
      ],
      "execution_count": null,
      "outputs": [
        {
          "output_type": "stream",
          "name": "stdout",
          "text": [
            "0.0 1.0\n"
          ]
        }
      ]
    },
    {
      "cell_type": "code",
      "metadata": {
        "id": "__WbVabru0Bp"
      },
      "source": [
        "AUTOTUNE = tf.data.experimental.AUTOTUNE\n",
        "\n",
        "train_ds = train_ds.cache().prefetch(buffer_size=AUTOTUNE)\n",
        "val_ds = val_ds.cache().prefetch(buffer_size=AUTOTUNE)"
      ],
      "execution_count": null,
      "outputs": []
    },
    {
      "cell_type": "code",
      "metadata": {
        "id": "g1GeYFXCu2gV"
      },
      "source": [
        "num_classes = 107\n",
        "model = tf.keras.Sequential([\n",
        "    layers.experimental.preprocessing.Rescaling(1./255),\n",
        "    layers.Conv2D(32, 3,input_shape = image_batch, activation='relu'),\n",
        "    layers.MaxPooling2D(),\n",
        "    layers.Conv2D(32, 3, activation='relu'),\n",
        "    layers.MaxPooling2D(),\n",
        "    layers.Conv2D(32, 3, activation='relu'),\n",
        "    layers.MaxPooling2D(),\n",
        "    layers.Flatten(),\n",
        "    BatchNormalization(),\n",
        "    layers.Dense(128, input_dim = 107, activation='relu'),\n",
        "    BatchNormalization(),\n",
        "    layers.Dense(128, activation='relu'),\n",
        "    BatchNormalization(),\n",
        "    layers.Dense(128, activation='relu'),\n",
        "    BatchNormalization(),\n",
        "    layers.Dense(128, activation='relu'),\n",
        "    BatchNormalization(),\n",
        "    layers.Dense(107, activation='softmax'),\n",
        "    BatchNormalization(),\n",
        "    layers.Dense(num_classes)\n",
        "    ])"
      ],
      "execution_count": null,
      "outputs": []
    },
    {
      "cell_type": "code",
      "metadata": {
        "id": "wU4xPAvNYWry"
      },
      "source": [
        "model.compile(\n",
        "    optimizer='adam',\n",
        "    loss=tf.losses.SparseCategoricalCrossentropy(from_logits=True),\n",
        "    metrics=['accuracy'])"
      ],
      "execution_count": null,
      "outputs": []
    },
    {
      "cell_type": "code",
      "metadata": {
        "colab": {
          "base_uri": "https://localhost:8080/"
        },
        "id": "Tk8ssrbHu44p",
        "outputId": "d38a9a32-f5e6-477f-b9c0-ab2c5b0d9bcd"
      },
      "source": [
        "epochs=50\n",
        "history = model.fit(\n",
        "  train_ds,\n",
        "  validation_data=val_ds,\n",
        "  epochs=epochs\n",
        ")"
      ],
      "execution_count": null,
      "outputs": [
        {
          "output_type": "stream",
          "name": "stdout",
          "text": [
            "Epoch 1/50\n",
            "156/156 [==============================] - 714s 5s/step - loss: 3.4683 - accuracy: 0.2740 - val_loss: 4.2554 - val_accuracy: 0.1221\n",
            "Epoch 2/50\n",
            "156/156 [==============================] - 3s 18ms/step - loss: 2.3342 - accuracy: 0.4080 - val_loss: 3.8268 - val_accuracy: 0.2394\n",
            "Epoch 3/50\n",
            "156/156 [==============================] - 3s 18ms/step - loss: 1.7844 - accuracy: 0.5314 - val_loss: 3.1928 - val_accuracy: 0.3157\n",
            "Epoch 4/50\n",
            "156/156 [==============================] - 3s 18ms/step - loss: 1.4085 - accuracy: 0.6290 - val_loss: 2.6003 - val_accuracy: 0.3719\n",
            "Epoch 5/50\n",
            "156/156 [==============================] - 3s 17ms/step - loss: 1.0780 - accuracy: 0.7147 - val_loss: 2.4100 - val_accuracy: 0.4177\n",
            "Epoch 6/50\n",
            "156/156 [==============================] - 3s 18ms/step - loss: 0.8161 - accuracy: 0.7834 - val_loss: 2.5795 - val_accuracy: 0.4273\n",
            "Epoch 7/50\n",
            "156/156 [==============================] - 3s 18ms/step - loss: 0.6298 - accuracy: 0.8336 - val_loss: 2.5615 - val_accuracy: 0.4329\n",
            "Epoch 8/50\n",
            "156/156 [==============================] - 3s 18ms/step - loss: 0.4653 - accuracy: 0.8854 - val_loss: 2.5056 - val_accuracy: 0.4482\n",
            "Epoch 9/50\n",
            "156/156 [==============================] - 3s 18ms/step - loss: 0.3461 - accuracy: 0.9197 - val_loss: 2.3992 - val_accuracy: 0.4803\n",
            "Epoch 10/50\n",
            "156/156 [==============================] - 3s 18ms/step - loss: 0.2493 - accuracy: 0.9460 - val_loss: 2.4864 - val_accuracy: 0.4835\n",
            "Epoch 11/50\n",
            "156/156 [==============================] - 3s 17ms/step - loss: 0.1801 - accuracy: 0.9594 - val_loss: 2.4822 - val_accuracy: 0.4964\n",
            "Epoch 12/50\n",
            "156/156 [==============================] - 3s 18ms/step - loss: 0.1246 - accuracy: 0.9771 - val_loss: 2.5024 - val_accuracy: 0.4980\n",
            "Epoch 13/50\n",
            "156/156 [==============================] - 3s 18ms/step - loss: 0.0791 - accuracy: 0.9884 - val_loss: 2.4572 - val_accuracy: 0.5092\n",
            "Epoch 14/50\n",
            "156/156 [==============================] - 3s 18ms/step - loss: 0.0525 - accuracy: 0.9928 - val_loss: 2.4741 - val_accuracy: 0.5269\n",
            "Epoch 15/50\n",
            "156/156 [==============================] - 3s 17ms/step - loss: 0.0366 - accuracy: 0.9966 - val_loss: 2.4799 - val_accuracy: 0.5357\n",
            "Epoch 16/50\n",
            "156/156 [==============================] - 3s 17ms/step - loss: 0.0289 - accuracy: 0.9962 - val_loss: 2.4895 - val_accuracy: 0.5261\n",
            "Epoch 17/50\n",
            "156/156 [==============================] - 3s 18ms/step - loss: 0.0258 - accuracy: 0.9972 - val_loss: 2.6257 - val_accuracy: 0.5213\n",
            "Epoch 18/50\n",
            "156/156 [==============================] - 3s 18ms/step - loss: 0.0138 - accuracy: 0.9994 - val_loss: 2.5283 - val_accuracy: 0.5357\n",
            "Epoch 19/50\n",
            "156/156 [==============================] - 3s 17ms/step - loss: 0.0154 - accuracy: 0.9974 - val_loss: 2.7452 - val_accuracy: 0.5092\n",
            "Epoch 20/50\n",
            "156/156 [==============================] - 3s 18ms/step - loss: 0.0406 - accuracy: 0.9930 - val_loss: 3.1571 - val_accuracy: 0.4554\n",
            "Epoch 21/50\n",
            "156/156 [==============================] - 3s 17ms/step - loss: 0.4383 - accuracy: 0.8824 - val_loss: 5.1334 - val_accuracy: 0.3229\n",
            "Epoch 22/50\n",
            "156/156 [==============================] - 3s 17ms/step - loss: 0.5197 - accuracy: 0.8486 - val_loss: 3.2919 - val_accuracy: 0.4361\n",
            "Epoch 23/50\n",
            "156/156 [==============================] - 3s 17ms/step - loss: 0.2081 - accuracy: 0.9402 - val_loss: 2.7860 - val_accuracy: 0.5100\n",
            "Epoch 24/50\n",
            "156/156 [==============================] - 3s 18ms/step - loss: 0.0589 - accuracy: 0.9878 - val_loss: 2.6916 - val_accuracy: 0.5301\n",
            "Epoch 25/50\n",
            "156/156 [==============================] - 3s 17ms/step - loss: 0.0184 - accuracy: 0.9990 - val_loss: 2.6353 - val_accuracy: 0.5357\n",
            "Epoch 26/50\n",
            "156/156 [==============================] - 3s 18ms/step - loss: 0.0089 - accuracy: 1.0000 - val_loss: 2.6275 - val_accuracy: 0.5382\n",
            "Epoch 27/50\n",
            "156/156 [==============================] - 3s 17ms/step - loss: 0.0062 - accuracy: 1.0000 - val_loss: 2.6553 - val_accuracy: 0.5357\n",
            "Epoch 28/50\n",
            "156/156 [==============================] - 3s 18ms/step - loss: 0.0050 - accuracy: 1.0000 - val_loss: 2.6801 - val_accuracy: 0.5349\n",
            "Epoch 29/50\n",
            "156/156 [==============================] - 3s 17ms/step - loss: 0.0042 - accuracy: 1.0000 - val_loss: 2.7044 - val_accuracy: 0.5333\n",
            "Epoch 30/50\n",
            "156/156 [==============================] - 3s 18ms/step - loss: 0.0036 - accuracy: 1.0000 - val_loss: 2.7270 - val_accuracy: 0.5357\n",
            "Epoch 31/50\n",
            "156/156 [==============================] - 3s 17ms/step - loss: 0.0032 - accuracy: 1.0000 - val_loss: 2.7495 - val_accuracy: 0.5357\n",
            "Epoch 32/50\n",
            "156/156 [==============================] - 3s 17ms/step - loss: 0.0028 - accuracy: 1.0000 - val_loss: 2.7710 - val_accuracy: 0.5373\n",
            "Epoch 33/50\n",
            "156/156 [==============================] - 3s 17ms/step - loss: 0.0025 - accuracy: 1.0000 - val_loss: 2.7916 - val_accuracy: 0.5390\n",
            "Epoch 34/50\n",
            "156/156 [==============================] - 3s 18ms/step - loss: 0.0022 - accuracy: 1.0000 - val_loss: 2.8123 - val_accuracy: 0.5390\n",
            "Epoch 35/50\n",
            "156/156 [==============================] - 3s 17ms/step - loss: 0.0020 - accuracy: 1.0000 - val_loss: 2.8325 - val_accuracy: 0.5390\n",
            "Epoch 36/50\n",
            "156/156 [==============================] - 3s 17ms/step - loss: 0.0018 - accuracy: 1.0000 - val_loss: 2.8526 - val_accuracy: 0.5390\n",
            "Epoch 37/50\n",
            "156/156 [==============================] - 3s 18ms/step - loss: 0.0016 - accuracy: 1.0000 - val_loss: 2.8726 - val_accuracy: 0.5373\n",
            "Epoch 38/50\n",
            "156/156 [==============================] - 3s 17ms/step - loss: 0.0014 - accuracy: 1.0000 - val_loss: 2.8924 - val_accuracy: 0.5365\n",
            "Epoch 39/50\n",
            "156/156 [==============================] - 3s 18ms/step - loss: 0.0013 - accuracy: 1.0000 - val_loss: 2.9122 - val_accuracy: 0.5357\n",
            "Epoch 40/50\n",
            "156/156 [==============================] - 3s 17ms/step - loss: 0.0012 - accuracy: 1.0000 - val_loss: 2.9318 - val_accuracy: 0.5349\n",
            "Epoch 41/50\n",
            "156/156 [==============================] - 3s 18ms/step - loss: 0.0011 - accuracy: 1.0000 - val_loss: 2.9512 - val_accuracy: 0.5349\n",
            "Epoch 42/50\n",
            "156/156 [==============================] - 3s 18ms/step - loss: 9.7422e-04 - accuracy: 1.0000 - val_loss: 2.9706 - val_accuracy: 0.5349\n",
            "Epoch 43/50\n",
            "156/156 [==============================] - 3s 18ms/step - loss: 8.8778e-04 - accuracy: 1.0000 - val_loss: 2.9900 - val_accuracy: 0.5349\n",
            "Epoch 44/50\n",
            "156/156 [==============================] - 3s 18ms/step - loss: 8.0987e-04 - accuracy: 1.0000 - val_loss: 3.0095 - val_accuracy: 0.5333\n",
            "Epoch 45/50\n",
            "156/156 [==============================] - 3s 17ms/step - loss: 7.3953e-04 - accuracy: 1.0000 - val_loss: 3.0290 - val_accuracy: 0.5333\n",
            "Epoch 46/50\n",
            "156/156 [==============================] - 3s 18ms/step - loss: 6.7582e-04 - accuracy: 1.0000 - val_loss: 3.0482 - val_accuracy: 0.5333\n",
            "Epoch 47/50\n",
            "156/156 [==============================] - 3s 17ms/step - loss: 6.1804e-04 - accuracy: 1.0000 - val_loss: 3.0675 - val_accuracy: 0.5325\n",
            "Epoch 48/50\n",
            "156/156 [==============================] - 3s 17ms/step - loss: 5.6553e-04 - accuracy: 1.0000 - val_loss: 3.0866 - val_accuracy: 0.5317\n",
            "Epoch 49/50\n",
            "156/156 [==============================] - 3s 17ms/step - loss: 5.1774e-04 - accuracy: 1.0000 - val_loss: 3.1057 - val_accuracy: 0.5309\n",
            "Epoch 50/50\n",
            "156/156 [==============================] - 3s 18ms/step - loss: 4.7421e-04 - accuracy: 1.0000 - val_loss: 3.1252 - val_accuracy: 0.5309\n"
          ]
        }
      ]
    },
    {
      "cell_type": "code",
      "metadata": {
        "colab": {
          "base_uri": "https://localhost:8080/",
          "height": 499
        },
        "id": "f1z_vHocu59c",
        "outputId": "80325a4f-27cd-4371-e0e5-8885cd8c2813"
      },
      "source": [
        "acc = history.history['accuracy']\n",
        "val_acc = history.history['val_accuracy']\n",
        "\n",
        "loss=history.history['loss']\n",
        "val_loss=history.history['val_loss']\n",
        "\n",
        "epochs_range = range(epochs)\n",
        "\n",
        "plt.figure(figsize=(8, 8))\n",
        "plt.subplot(1, 2, 1)\n",
        "plt.plot(epochs_range, acc, label='Training Accuracy')\n",
        "plt.plot(epochs_range, val_acc, label='Validation Accuracy')\n",
        "plt.legend(loc='lower right')\n",
        "plt.title('Training and Validation Accuracy')\n",
        "\n",
        "plt.subplot(1, 2, 2)\n",
        "plt.plot(epochs_range, loss, label='Training Loss')\n",
        "plt.plot(epochs_range, val_loss, label='Validation Loss')\n",
        "plt.legend(loc='upper right')\n",
        "plt.title('Training and Validation Loss')\n",
        "plt.show()"
      ],
      "execution_count": null,
      "outputs": [
        {
          "output_type": "display_data",
          "data": {
            "image/png": "[encoded data removed]",
            "text/plain": [
              "<Figure size 576x576 with 2 Axes>"
            ]
          },
          "metadata": {
            "needs_background": "light"
          }
        }
      ]
    },
    {
      "cell_type": "code",
      "metadata": {
        "id": "XinJ6xXD9YNO"
      },
      "source": [
        "data_augmentation = keras.Sequential(\n",
        "  [\n",
        "    layers.experimental.preprocessing.RandomFlip(\"horizontal\", \n",
        "                                                 input_shape=(img_height, \n",
        "                                                              img_width,\n",
        "                                                              1)),\n",
        "    layers.experimental.preprocessing.RandomRotation(0.1),\n",
        "    layers.experimental.preprocessing.RandomZoom(0.1),\n",
        "  ]\n",
        ")"
      ],
      "execution_count": null,
      "outputs": []
    },
    {
      "cell_type": "code",
      "metadata": {
        "id": "8WT2BYElEYZj"
      },
      "source": [
        "model = Sequential([\n",
        "  data_augmentation,\n",
        "  layers.experimental.preprocessing.Rescaling(1./255),\n",
        "  layers.Conv2D(32, 3,input_shape = image_batch, activation='relu'),\n",
        "  layers.MaxPooling2D(),\n",
        "  layers.Conv2D(32, 3, padding='same', activation='relu'),\n",
        "  layers.MaxPooling2D(),\n",
        "  layers.Conv2D(32, 3, padding='same', activation='relu'),\n",
        "  layers.MaxPooling2D(),\n",
        "  layers.Dropout(0.2),\n",
        "  layers.Flatten(),\n",
        "  layers.Dense(128, input_dim = 107, activation='relu'),\n",
        "  BatchNormalization(),\n",
        "  layers.Dense(128, activation='relu'),\n",
        "  BatchNormalization(),\n",
        "  layers.Dense(128, activation='relu'),\n",
        "  BatchNormalization(),\n",
        "  layers.Dense(128, activation='relu'),\n",
        "  BatchNormalization(),\n",
        "  layers.Dense(107, activation='softmax'),\n",
        "  BatchNormalization(),\n",
        "  layers.Dense(num_classes)\n",
        "])"
      ],
      "execution_count": null,
      "outputs": []
    },
    {
      "cell_type": "code",
      "metadata": {
        "id": "opOHP3auEdsw",
        "colab": {
          "base_uri": "https://localhost:8080/"
        },
        "outputId": "283a4e81-8a22-49d7-8a04-afcca962a257"
      },
      "source": [
        "BatchNormalization(),model.compile(\n",
        "    optimizer='adam',\n",
        "    loss=tf.losses.SparseCategoricalCrossentropy(from_logits=True),\n",
        "    metrics=['accuracy'])"
      ],
      "execution_count": null,
      "outputs": [
        {
          "output_type": "execute_result",
          "data": {
            "text/plain": [
              "(<keras.layers.normalization.batch_normalization.BatchNormalization at 0x7f756ca64050>,\n",
              " None)"
            ]
          },
          "metadata": {},
          "execution_count": 19
        }
      ]
    },
    {
      "cell_type": "code",
      "metadata": {
        "colab": {
          "base_uri": "https://localhost:8080/"
        },
        "id": "3Ay4tlHlEfBX",
        "outputId": "2bf4c55b-a424-4142-cd94-28d2b2d9b225"
      },
      "source": [
        "model.summary()"
      ],
      "execution_count": null,
      "outputs": [
        {
          "output_type": "stream",
          "name": "stdout",
          "text": [
            "Model: \"sequential_2\"\n",
            "_________________________________________________________________\n",
            " Layer (type)                Output Shape              Param #   \n",
            "=================================================================\n",
            " sequential_1 (Sequential)   (None, 180, 180, 1)       0         \n",
            "                                                                 \n",
            " rescaling_2 (Rescaling)     (None, 180, 180, 1)       0         \n",
            "                                                                 \n",
            " conv2d_3 (Conv2D)           (None, 178, 178, 32)      320       \n",
            "                                                                 \n",
            " max_pooling2d_3 (MaxPooling  (None, 89, 89, 32)       0         \n",
            " 2D)                                                             \n",
            "                                                                 \n",
            " conv2d_4 (Conv2D)           (None, 89, 89, 32)        9248      \n",
            "                                                                 \n",
            " max_pooling2d_4 (MaxPooling  (None, 44, 44, 32)       0         \n",
            " 2D)                                                             \n",
            "                                                                 \n",
            " conv2d_5 (Conv2D)           (None, 44, 44, 32)        9248      \n",
            "                                                                 \n",
            " max_pooling2d_5 (MaxPooling  (None, 22, 22, 32)       0         \n",
            " 2D)                                                             \n",
            "                                                                 \n",
            " dropout (Dropout)           (None, 22, 22, 32)        0         \n",
            "                                                                 \n",
            " flatten_1 (Flatten)         (None, 15488)             0         \n",
            "                                                                 \n",
            " dense_6 (Dense)             (None, 128)               1982592   \n",
            "                                                                 \n",
            " batch_normalization_6 (Batc  (None, 128)              512       \n",
            " hNormalization)                                                 \n",
            "                                                                 \n",
            " dense_7 (Dense)             (None, 128)               16512     \n",
            "                                                                 \n",
            " batch_normalization_7 (Batc  (None, 128)              512       \n",
            " hNormalization)                                                 \n",
            "                                                                 \n",
            " dense_8 (Dense)             (None, 128)               16512     \n",
            "                                                                 \n",
            " batch_normalization_8 (Batc  (None, 128)              512       \n",
            " hNormalization)                                                 \n",
            "                                                                 \n",
            " dense_9 (Dense)             (None, 128)               16512     \n",
            "                                                                 \n",
            " batch_normalization_9 (Batc  (None, 128)              512       \n",
            " hNormalization)                                                 \n",
            "                                                                 \n",
            " dense_10 (Dense)            (None, 107)               13803     \n",
            "                                                                 \n",
            " batch_normalization_10 (Bat  (None, 107)              428       \n",
            " chNormalization)                                                \n",
            "                                                                 \n",
            " dense_11 (Dense)            (None, 107)               11556     \n",
            "                                                                 \n",
            "=================================================================\n",
            "Total params: 2,078,779\n",
            "Trainable params: 2,077,541\n",
            "Non-trainable params: 1,238\n",
            "_________________________________________________________________\n"
          ]
        }
      ]
    },
    {
      "cell_type": "code",
      "metadata": {
        "colab": {
          "base_uri": "https://localhost:8080/"
        },
        "id": "Jc8rD_v9Ef41",
        "outputId": "699a893b-f1c7-4d13-cedd-a406fc22fcce"
      },
      "source": [
        "epochs = 50\n",
        "history = model.fit(\n",
        "  train_ds,\n",
        "  validation_data=val_ds,\n",
        "  epochs=epochs\n",
        ")"
      ],
      "execution_count": null,
      "outputs": [
        {
          "output_type": "stream",
          "name": "stdout",
          "text": [
            "Epoch 1/50\n",
            "156/156 [==============================] - 6s 22ms/step - loss: 3.7138 - accuracy: 0.1933 - val_loss: 4.2364 - val_accuracy: 0.1325\n",
            "Epoch 2/50\n",
            "156/156 [==============================] - 3s 19ms/step - loss: 2.8107 - accuracy: 0.2929 - val_loss: 3.5685 - val_accuracy: 0.2297\n",
            "Epoch 3/50\n",
            "156/156 [==============================] - 3s 20ms/step - loss: 2.4774 - accuracy: 0.3359 - val_loss: 3.1627 - val_accuracy: 0.2635\n",
            "Epoch 4/50\n",
            "156/156 [==============================] - 3s 20ms/step - loss: 2.2834 - accuracy: 0.3778 - val_loss: 2.4575 - val_accuracy: 0.3566\n",
            "Epoch 5/50\n",
            "156/156 [==============================] - 3s 20ms/step - loss: 2.1309 - accuracy: 0.4063 - val_loss: 2.7501 - val_accuracy: 0.3229\n",
            "Epoch 6/50\n",
            "156/156 [==============================] - 3s 19ms/step - loss: 2.0178 - accuracy: 0.4280 - val_loss: 2.6636 - val_accuracy: 0.3470\n",
            "Epoch 7/50\n",
            "156/156 [==============================] - 3s 20ms/step - loss: 1.8951 - accuracy: 0.4483 - val_loss: 2.4149 - val_accuracy: 0.3823\n",
            "Epoch 8/50\n",
            "156/156 [==============================] - 3s 20ms/step - loss: 1.7914 - accuracy: 0.4714 - val_loss: 2.6110 - val_accuracy: 0.3759\n",
            "Epoch 9/50\n",
            "156/156 [==============================] - 3s 20ms/step - loss: 1.6973 - accuracy: 0.4909 - val_loss: 2.8368 - val_accuracy: 0.3775\n",
            "Epoch 10/50\n",
            "156/156 [==============================] - 3s 20ms/step - loss: 1.6237 - accuracy: 0.5127 - val_loss: 2.6838 - val_accuracy: 0.3952\n",
            "Epoch 11/50\n",
            "156/156 [==============================] - 3s 19ms/step - loss: 1.5560 - accuracy: 0.5346 - val_loss: 2.4873 - val_accuracy: 0.4273\n",
            "Epoch 12/50\n",
            "156/156 [==============================] - 3s 20ms/step - loss: 1.5029 - accuracy: 0.5417 - val_loss: 2.7422 - val_accuracy: 0.3960\n",
            "Epoch 13/50\n",
            "156/156 [==============================] - 3s 19ms/step - loss: 1.4237 - accuracy: 0.5593 - val_loss: 2.7392 - val_accuracy: 0.3912\n",
            "Epoch 14/50\n",
            "156/156 [==============================] - 3s 20ms/step - loss: 1.3638 - accuracy: 0.5758 - val_loss: 2.4809 - val_accuracy: 0.4096\n",
            "Epoch 15/50\n",
            "156/156 [==============================] - 3s 20ms/step - loss: 1.2937 - accuracy: 0.5993 - val_loss: 2.5525 - val_accuracy: 0.3952\n",
            "Epoch 16/50\n",
            "156/156 [==============================] - 3s 19ms/step - loss: 1.2484 - accuracy: 0.6025 - val_loss: 2.5471 - val_accuracy: 0.4177\n",
            "Epoch 17/50\n",
            "156/156 [==============================] - 3s 20ms/step - loss: 1.2079 - accuracy: 0.6141 - val_loss: 2.5607 - val_accuracy: 0.4153\n",
            "Epoch 18/50\n",
            "156/156 [==============================] - 3s 20ms/step - loss: 1.1672 - accuracy: 0.6300 - val_loss: 2.5719 - val_accuracy: 0.4321\n",
            "Epoch 19/50\n",
            "156/156 [==============================] - 3s 19ms/step - loss: 1.1269 - accuracy: 0.6360 - val_loss: 2.4492 - val_accuracy: 0.4442\n",
            "Epoch 20/50\n",
            "156/156 [==============================] - 3s 19ms/step - loss: 1.0762 - accuracy: 0.6505 - val_loss: 2.7640 - val_accuracy: 0.4040\n",
            "Epoch 21/50\n",
            "156/156 [==============================] - 3s 19ms/step - loss: 1.0558 - accuracy: 0.6519 - val_loss: 2.9655 - val_accuracy: 0.3735\n",
            "Epoch 22/50\n",
            "156/156 [==============================] - 3s 20ms/step - loss: 1.0146 - accuracy: 0.6679 - val_loss: 2.8672 - val_accuracy: 0.3904\n",
            "Epoch 23/50\n",
            "156/156 [==============================] - 3s 20ms/step - loss: 0.9754 - accuracy: 0.6850 - val_loss: 2.4632 - val_accuracy: 0.4618\n",
            "Epoch 24/50\n",
            "156/156 [==============================] - 3s 19ms/step - loss: 0.9430 - accuracy: 0.6852 - val_loss: 4.4744 - val_accuracy: 0.2988\n",
            "Epoch 25/50\n",
            "156/156 [==============================] - 3s 19ms/step - loss: 0.8932 - accuracy: 0.7053 - val_loss: 2.6713 - val_accuracy: 0.4217\n",
            "Epoch 26/50\n",
            "156/156 [==============================] - 3s 19ms/step - loss: 0.8914 - accuracy: 0.6977 - val_loss: 2.4877 - val_accuracy: 0.4659\n",
            "Epoch 27/50\n",
            "156/156 [==============================] - 3s 19ms/step - loss: 0.8254 - accuracy: 0.7276 - val_loss: 2.7799 - val_accuracy: 0.4506\n",
            "Epoch 28/50\n",
            "156/156 [==============================] - 3s 19ms/step - loss: 0.8341 - accuracy: 0.7252 - val_loss: 2.1972 - val_accuracy: 0.5068\n",
            "Epoch 29/50\n",
            "156/156 [==============================] - 3s 19ms/step - loss: 0.7986 - accuracy: 0.7348 - val_loss: 2.6865 - val_accuracy: 0.4562\n",
            "Epoch 30/50\n",
            "156/156 [==============================] - 3s 20ms/step - loss: 0.7624 - accuracy: 0.7462 - val_loss: 2.6605 - val_accuracy: 0.4378\n",
            "Epoch 31/50\n",
            "156/156 [==============================] - 3s 19ms/step - loss: 0.7138 - accuracy: 0.7629 - val_loss: 2.5641 - val_accuracy: 0.4723\n",
            "Epoch 32/50\n",
            "156/156 [==============================] - 3s 20ms/step - loss: 0.6928 - accuracy: 0.7645 - val_loss: 2.7460 - val_accuracy: 0.4490\n",
            "Epoch 33/50\n",
            "156/156 [==============================] - 3s 20ms/step - loss: 0.6766 - accuracy: 0.7735 - val_loss: 2.7211 - val_accuracy: 0.4675\n",
            "Epoch 34/50\n",
            "156/156 [==============================] - 3s 19ms/step - loss: 0.6580 - accuracy: 0.7713 - val_loss: 2.8912 - val_accuracy: 0.4321\n",
            "Epoch 35/50\n",
            "156/156 [==============================] - 3s 20ms/step - loss: 0.6326 - accuracy: 0.7916 - val_loss: 2.5716 - val_accuracy: 0.4867\n",
            "Epoch 36/50\n",
            "156/156 [==============================] - 3s 20ms/step - loss: 0.6205 - accuracy: 0.7854 - val_loss: 2.7059 - val_accuracy: 0.4635\n",
            "Epoch 37/50\n",
            "156/156 [==============================] - 3s 20ms/step - loss: 0.6116 - accuracy: 0.7968 - val_loss: 2.9210 - val_accuracy: 0.4530\n",
            "Epoch 38/50\n",
            "156/156 [==============================] - 3s 20ms/step - loss: 0.6101 - accuracy: 0.7968 - val_loss: 2.5653 - val_accuracy: 0.4859\n",
            "Epoch 39/50\n",
            "156/156 [==============================] - 3s 20ms/step - loss: 0.5798 - accuracy: 0.8035 - val_loss: 2.4850 - val_accuracy: 0.5197\n",
            "Epoch 40/50\n",
            "156/156 [==============================] - 3s 20ms/step - loss: 0.5316 - accuracy: 0.8263 - val_loss: 2.6941 - val_accuracy: 0.4851\n",
            "Epoch 41/50\n",
            "156/156 [==============================] - 3s 20ms/step - loss: 0.5073 - accuracy: 0.8330 - val_loss: 2.8046 - val_accuracy: 0.4964\n",
            "Epoch 42/50\n",
            "156/156 [==============================] - 3s 20ms/step - loss: 0.5144 - accuracy: 0.8263 - val_loss: 2.8449 - val_accuracy: 0.4827\n",
            "Epoch 43/50\n",
            "156/156 [==============================] - 3s 20ms/step - loss: 0.4554 - accuracy: 0.8492 - val_loss: 2.8486 - val_accuracy: 0.4787\n",
            "Epoch 44/50\n",
            "156/156 [==============================] - 3s 20ms/step - loss: 0.4655 - accuracy: 0.8492 - val_loss: 2.9004 - val_accuracy: 0.4602\n",
            "Epoch 45/50\n",
            "156/156 [==============================] - 3s 20ms/step - loss: 0.4641 - accuracy: 0.8458 - val_loss: 3.0226 - val_accuracy: 0.4715\n",
            "Epoch 46/50\n",
            "156/156 [==============================] - 3s 20ms/step - loss: 0.4422 - accuracy: 0.8524 - val_loss: 2.5580 - val_accuracy: 0.5133\n",
            "Epoch 47/50\n",
            "156/156 [==============================] - 3s 20ms/step - loss: 0.4193 - accuracy: 0.8653 - val_loss: 2.9575 - val_accuracy: 0.4739\n",
            "Epoch 48/50\n",
            "156/156 [==============================] - 3s 20ms/step - loss: 0.4348 - accuracy: 0.8559 - val_loss: 2.9691 - val_accuracy: 0.4811\n",
            "Epoch 49/50\n",
            "156/156 [==============================] - 3s 20ms/step - loss: 0.4021 - accuracy: 0.8665 - val_loss: 3.0617 - val_accuracy: 0.4699\n",
            "Epoch 50/50\n",
            "156/156 [==============================] - 3s 20ms/step - loss: 0.3675 - accuracy: 0.8886 - val_loss: 3.1059 - val_accuracy: 0.4683\n"
          ]
        }
      ]
    },
    {
      "cell_type": "code",
      "metadata": {
        "colab": {
          "base_uri": "https://localhost:8080/",
          "height": 499
        },
        "id": "ynhS2KjVEhj8",
        "outputId": "8162eca3-80ff-4737-f87c-89e9fcd9231b"
      },
      "source": [
        "acc = history.history['accuracy']\n",
        "val_acc = history.history['val_accuracy']\n",
        "\n",
        "loss = history.history['loss']\n",
        "val_loss = history.history['val_loss']\n",
        "\n",
        "epochs_range = range(epochs)\n",
        "\n",
        "plt.figure(figsize=(8, 8))\n",
        "plt.subplot(1, 2, 1)\n",
        "plt.plot(epochs_range, acc, label='Training Accuracy')\n",
        "plt.plot(epochs_range, val_acc, label='Validation Accuracy')\n",
        "plt.legend(loc='lower right')\n",
        "plt.title('Training and Validation Accuracy')\n",
        "\n",
        "plt.subplot(1, 2, 2)\n",
        "plt.plot(epochs_range, loss, label='Training Loss')\n",
        "plt.plot(epochs_range, val_loss, label='Validation Loss')\n",
        "plt.legend(loc='upper right')\n",
        "plt.title('Training and Validation Loss')\n",
        "plt.show()"
      ],
      "execution_count": null,
      "outputs": [
        {
          "output_type": "display_data",
          "data": {
            "image/png": "[encoded data removed]",
            "text/plain": [
              "<Figure size 576x576 with 2 Axes>"
            ]
          },
          "metadata": {
            "needs_background": "light"
          }
        }
      ]
    },
    {
      "cell_type": "code",
      "metadata": {
        "colab": {
          "base_uri": "https://localhost:8080/"
        },
        "id": "IbEQMrsAH2yZ",
        "outputId": "9746d58c-5db5-4f77-95cb-5a846e60feee"
      },
      "source": [
        "model.compile(\n",
        "    optimizer='adam',\n",
        "    loss=tf.losses.SparseCategoricalCrossentropy(from_logits=True),\n",
        "    metrics=['accuracy'])\n",
        "model.summary()"
      ],
      "execution_count": null,
      "outputs": [
        {
          "output_type": "stream",
          "name": "stdout",
          "text": [
            "Model: \"sequential_2\"\n",
            "_________________________________________________________________\n",
            " Layer (type)                Output Shape              Param #   \n",
            "=================================================================\n",
            " sequential_1 (Sequential)   (None, 180, 180, 1)       0         \n",
            "                                                                 \n",
            " rescaling_2 (Rescaling)     (None, 180, 180, 1)       0         \n",
            "                                                                 \n",
            " conv2d_3 (Conv2D)           (None, 178, 178, 32)      320       \n",
            "                                                                 \n",
            " max_pooling2d_3 (MaxPooling  (None, 89, 89, 32)       0         \n",
            " 2D)                                                             \n",
            "                                                                 \n",
            " conv2d_4 (Conv2D)           (None, 89, 89, 32)        9248      \n",
            "                                                                 \n",
            " max_pooling2d_4 (MaxPooling  (None, 44, 44, 32)       0         \n",
            " 2D)                                                             \n",
            "                                                                 \n",
            " conv2d_5 (Conv2D)           (None, 44, 44, 32)        9248      \n",
            "                                                                 \n",
            " max_pooling2d_5 (MaxPooling  (None, 22, 22, 32)       0         \n",
            " 2D)                                                             \n",
            "                                                                 \n",
            " dropout (Dropout)           (None, 22, 22, 32)        0         \n",
            "                                                                 \n",
            " flatten_1 (Flatten)         (None, 15488)             0         \n",
            "                                                                 \n",
            " dense_6 (Dense)             (None, 128)               1982592   \n",
            "                                                                 \n",
            " batch_normalization_6 (Batc  (None, 128)              512       \n",
            " hNormalization)                                                 \n",
            "                                                                 \n",
            " dense_7 (Dense)             (None, 128)               16512     \n",
            "                                                                 \n",
            " batch_normalization_7 (Batc  (None, 128)              512       \n",
            " hNormalization)                                                 \n",
            "                                                                 \n",
            " dense_8 (Dense)             (None, 128)               16512     \n",
            "                                                                 \n",
            " batch_normalization_8 (Batc  (None, 128)              512       \n",
            " hNormalization)                                                 \n",
            "                                                                 \n",
            " dense_9 (Dense)             (None, 128)               16512     \n",
            "                                                                 \n",
            " batch_normalization_9 (Batc  (None, 128)              512       \n",
            " hNormalization)                                                 \n",
            "                                                                 \n",
            " dense_10 (Dense)            (None, 107)               13803     \n",
            "                                                                 \n",
            " batch_normalization_10 (Bat  (None, 107)              428       \n",
            " chNormalization)                                                \n",
            "                                                                 \n",
            " dense_11 (Dense)            (None, 107)               11556     \n",
            "                                                                 \n",
            "=================================================================\n",
            "Total params: 2,078,779\n",
            "Trainable params: 2,077,541\n",
            "Non-trainable params: 1,238\n",
            "_________________________________________________________________\n"
          ]
        }
      ]
    },
    {
      "cell_type": "code",
      "metadata": {
        "id": "df30HUqFjWre"
      },
      "source": [
        ""
      ],
      "execution_count": null,
      "outputs": []
    }
  ]
}