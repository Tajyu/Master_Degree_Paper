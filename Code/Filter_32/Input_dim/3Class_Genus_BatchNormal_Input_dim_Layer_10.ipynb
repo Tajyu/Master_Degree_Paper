{
  "nbformat": 4,
  "nbformat_minor": 0,
  "metadata": {
    "colab": {
      "name": "3Class_Genus_BatchNormal_Input_dim_Layer_10.ipynb",
      "provenance": [],
      "collapsed_sections": [],
      "mount_file_id": "1mf1iP8NP314HMiLXYt1bM-EzrH7tohdU",
      "authorship_tag": "ABX9TyMeq5D3jMrxHzQaP+LLp/+7",
      "include_colab_link": true
    },
    "kernelspec": {
      "name": "python3",
      "display_name": "Python 3"
    },
    "language_info": {
      "name": "python"
    },
    "accelerator": "GPU"
  },
  "cells": [
    {
      "cell_type": "markdown",
      "metadata": {
        "id": "view-in-github",
        "colab_type": "text"
      },
      "source": [
        "<a href=\"https://colab.research.google.com/github/Tajyu/Master_Degree_Paper/blob/main/Code/Filter_32/Input_dim/3Class_Genus_BatchNormal_Input_dim_Layer_10.ipynb\" target=\"_parent\"><img src=\"https://colab.research.google.com/assets/colab-badge.svg\" alt=\"Open In Colab\"/></a>"
      ]
    },
    {
      "cell_type": "code",
      "metadata": {
        "id": "yWckd06_68Em"
      },
      "source": [
        "import tensorflow as tf\n",
        "from tensorflow.keras import datasets, layers, models\n",
        "from keras.preprocessing.image import ImageDataGenerator\n",
        "import numpy as np\n",
        "import matplotlib.pyplot as plt\n",
        "import cv2 as cv\n",
        "import os\n",
        "import pathlib\n",
        "import PIL\n",
        "from tensorflow import keras\n",
        "from tensorflow.keras import layers\n",
        "from tensorflow.keras.models import Sequential\n",
        "from tensorflow.keras.layers import Dense, Flatten, BatchNormalization, Dropout"
      ],
      "execution_count": null,
      "outputs": []
    },
    {
      "cell_type": "code",
      "metadata": {
        "id": "xav9zirHttk_"
      },
      "source": [
        "image_list = os.listdir('/content/drive/MyDrive/Colab Notebooks/Final_Project/Cell_Genus')"
      ],
      "execution_count": null,
      "outputs": []
    },
    {
      "cell_type": "code",
      "metadata": {
        "colab": {
          "base_uri": "https://localhost:8080/"
        },
        "id": "K-wD0dM5tx_E",
        "outputId": "96bd9f8c-4ac3-4df6-eada-73ed8bb4ac73"
      },
      "source": [
        "print(image_list)"
      ],
      "execution_count": null,
      "outputs": [
        {
          "output_type": "stream",
          "name": "stdout",
          "text": [
            "['10_Genus_Stauroneis_Ehrenberg', '10_Genus_Staurosira_Ehrenberg', '11_Genus_Craspedostauros_E.J_Cox_1999', '11_Genus_Staurosirella_Williams_and_Round', '12_Genus_Caloneis_Cleve_1894', '12_Genus_Synedra_Ehrenberg', '13_Genus_Pinnularia_Ehrenberg_1843', '1_Genus_Acanthoceras_Honigmann', '1_Genus_Achnanthes_Bory', '1_Genus_Actinocyclus_Ehrenberg', '1_Genus_Aphanocapsa_Nageli_1849', '1_Genus_Asterionella_Hassall', '1_Genus_Aulacoseira', '1_Genus_Biremis_Mann_et_Cox_in_Round_Crawford_and_Mann', '1_Genus_Characium_A_Braun_in_Kutzing_1849', '1_Genus_Chroococcus_Nageli', '1_Genus_Closterium_Nitzsch_ex_Ralfs_1848', '1_Genus_Coelastrum_Nageli_1849', '1_Genus_Cylindrocystis_Meneghini_ex_de_Bary_1858', '1_Genus_Dictyosphaerium_Nageli_1849', '1_Genus_Docidium_Brebisson_ex_Ralfs_1848', '1_Genus_Eunotia_Ehrenberg', '1_Genus_Geitlerinema_(Anagnostidis_et_Komarek)_Anagnostidis_1989', '1_Genus_Gonatozygon_de_Bary_1856', '1_Genus_Hydrodictyon_Roth_1797', '1_Genus_Hydrosera_whampoensis', '1_Genus_Jaaginema_Anagnostidis_et_Komarek_1988', '1_Genus_Lyngbya_C_Agardh_ex_Gomont_1892', '1_Genus_Melosira_Agardh', '1_Genus_Micractinium_Fresenius_1858', '1_Genus_Micrasterias_Ralfs_1848', '1_Genus_Microcystis_Kutzing_ex_Lemmermann_1907', '1_Genus_Oscillatoria_Vaucher_ex_Gomont_1982', '1_Genus_Pediastrum_Meyen_1829', '1_Genus_Penium_Brebisson_ex_Ralfs_in_Ralfs_1848', '1_Genus_Phormidium_Kutzing_ex_Gomont_1892', '1_Genus_Planktothrix_Anagnostidis_et_Komarek_1988', '1_Genus_Pleurosira_laevis_(Ehrenberg)', '1_Genus_Rhizosolenia_Ehrenberg', '1_Genus_Schizochlamydella_Korshikov_1953', '1_Genus_Staurodesmus_Teiling_1848', '1_Genus_Trochiscia_Kutzing_1834', '1_Scenedesmus_Hegewald_1978', '2_Acutodesmus_Hegewald_1978', '2_Genus_Achnanthidium_Kutzing', '2_Genus_Actinastrum_Lagerheim_1882', '2_Genus_Actinella_Lewis', '2_Genus_Ankyra_Fott_1957', '2_Genus_Caloneis_Cleve', '2_Genus_Chaetoceros_Ehrenberg', '2_Genus_Coenochloris_Korshikov_1953', '2_Genus_Cyclotella', '2_Genus_Diatoma_Bory', '2_Genus_Dimorphococcus_A_Braun_1855', '2_Genus_Golenkinia_Chodat_1894', '2_Genus_Haplotaenium_Bando_1988', '2_Genus_Leibleinia_(Gomont)_L_Hoffman_1985', '2_Genus_Leptolyngbya_Anagnostidis_et_Komarek_1988', '2_Genus_Merismopedia_Meyen_1839', '2_Genus_Netrium_(Nageli)_Itzigsohn_et_Rothe_in_Rabenhorst_1856', '2_Genus_Orthoseira_Thwaites_1848', '2_Genus_Phormidium_Kutzing_ex_Gomont_1892', '2_Genus_Sorastrum_Kutzing_1845', '2_Genus_Staurastrum_Meyen_ex_Ralfs_1848', '3_Desmodesmus_Chodat_1926', '3_Genus_Acanthosphaera_Lemmerman_1899', '3_Genus_Anorthoneis_Grunow', '3_Genus_Cyclostephanos_Round', '3_Genus_Dichotomococcus_Korshikov_1928', '3_Genus_Heteroleibleinia_(Geitler)_L_Hoffmann_1985', '3_Genus_Limnothrix_Meffert_1988', '3_Genus_Meridion_Agardh', '3_Genus_Paradoxia_Svirenko_1928', '3_Genus_Peronia_Bebisson_and_Arnott_ex_Kitton', '3_Genus_Phormidiochaete_Komarek_in_Anagnostidis_2001', '3_Genus_Pinnularia_Ehrenberg_1', '3_Genus_Pleurotaenium_Nageli_1849', '3_Genus_Radiococcus_Schmidle_1902', '3_Genus_Snowella_Elenkin_1938', '3_Genus_Spirotaenia_Brebisson_in_Ralfs_1848', '4_Genus_Botryococcus_Kutzing_1849', '4_Genus_Cocconeis_Ehrenberg', '4_Genus_Eutetramorus_Walton_1918', '4_Genus_Leptolyngbya_Anagnostidis_et_Komarek_1988', '4_Genus_Opephora_Petit', '4_Genus_Pinnularia_Ehrenberg_2', '4_Genus_Schroederia_Lemmermann_1898', '4_Genus_Stephanodiscus_Ehrenberg', '4_Genus_Synechocystis_Sauvageau_1892', '4_Genus_Tortitaenia_A_J_Brook_1998', '5_Genus_Caloneis_Cleve', '5_Genus_Coenocystis_Korshikov_1953', '5_Genus_Planktolyngbya_Anagnostidis_et_Komarek_1988', '5_Genus_Tabellaria_Ehrenberg', '5_Genus_Thalassiosira_Cleve', '5_Genus_Woronichinia_Elenkin_1933', '6_Genus_Anomoeoneis_Pfitzer', '6_Genus_Fragilaria_Lyngbye', '6_Genus_Gloeocystis_Nageli_1849', '6_Genus_Pseudanabaena_Lauterborn_1915', '6_Genus_Skeletonema_Greville', '7_Genus_Caloneis_Cleve', '7_Genus_Hannaea_Patrick', '8_Genus_Diploneis(Ehrenberg)_Cleve', '8_Genus_Pseudostaurosira_Williams_and_Round', '9_Genus_Neidium_Pfitzer', '9_Genus_Punctastriata_Williams_and_Round']\n"
          ]
        }
      ]
    },
    {
      "cell_type": "code",
      "metadata": {
        "id": "o-0DvzEHt8VE"
      },
      "source": [
        "data_generator = ImageDataGenerator(rescale = 1./255)\n",
        "\n",
        "data_dir = \"/content/drive/MyDrive/Colab Notebooks/Final_Project/Cell_Genus\""
      ],
      "execution_count": null,
      "outputs": []
    },
    {
      "cell_type": "code",
      "metadata": {
        "id": "7aTCfEm3t10n"
      },
      "source": [
        "batch_size = 32\n",
        "img_height = 180\n",
        "img_width = 180"
      ],
      "execution_count": null,
      "outputs": []
    },
    {
      "cell_type": "code",
      "metadata": {
        "id": "9Smg-miEt22s",
        "colab": {
          "base_uri": "https://localhost:8080/"
        },
        "outputId": "2afc8306-e1cc-4c46-9eca-1dc2d0bc63da"
      },
      "source": [
        "train_ds = tf.keras.preprocessing.image_dataset_from_directory(\n",
        "  data_dir,\n",
        "  color_mode = \"grayscale\",\n",
        "  validation_split=0.2,\n",
        "  subset=\"training\",\n",
        "  seed=123,\n",
        "  image_size=(img_height, img_width),\n",
        "  batch_size=batch_size)"
      ],
      "execution_count": null,
      "outputs": [
        {
          "output_type": "stream",
          "name": "stdout",
          "text": [
            "Found 6226 files belonging to 107 classes.\n",
            "Using 4981 files for training.\n"
          ]
        }
      ]
    },
    {
      "cell_type": "code",
      "metadata": {
        "id": "1nR0WdQGt44x",
        "colab": {
          "base_uri": "https://localhost:8080/"
        },
        "outputId": "84d8cd9a-fe4b-4cb0-cea4-c96b2daf652c"
      },
      "source": [
        "val_ds = tf.keras.preprocessing.image_dataset_from_directory(\n",
        "  data_dir,\n",
        "  color_mode = \"grayscale\",\n",
        "  validation_split=0.2,\n",
        "  subset=\"validation\",\n",
        "  seed=123,\n",
        "  image_size=(img_height, img_width),\n",
        "  batch_size=batch_size)"
      ],
      "execution_count": null,
      "outputs": [
        {
          "output_type": "stream",
          "name": "stdout",
          "text": [
            "Found 6226 files belonging to 107 classes.\n",
            "Using 1245 files for validation.\n"
          ]
        }
      ]
    },
    {
      "cell_type": "code",
      "metadata": {
        "id": "F-cz_CtGug8Y",
        "colab": {
          "base_uri": "https://localhost:8080/"
        },
        "outputId": "a253d802-0273-4d74-af23-f069cf6f454e"
      },
      "source": [
        "class_names = train_ds.class_names\n",
        "print(class_names)"
      ],
      "execution_count": null,
      "outputs": [
        {
          "output_type": "stream",
          "name": "stdout",
          "text": [
            "['10_Genus_Stauroneis_Ehrenberg', '10_Genus_Staurosira_Ehrenberg', '11_Genus_Craspedostauros_E.J_Cox_1999', '11_Genus_Staurosirella_Williams_and_Round', '12_Genus_Caloneis_Cleve_1894', '12_Genus_Synedra_Ehrenberg', '13_Genus_Pinnularia_Ehrenberg_1843', '1_Genus_Acanthoceras_Honigmann', '1_Genus_Achnanthes_Bory', '1_Genus_Actinocyclus_Ehrenberg', '1_Genus_Aphanocapsa_Nageli_1849', '1_Genus_Asterionella_Hassall', '1_Genus_Aulacoseira', '1_Genus_Biremis_Mann_et_Cox_in_Round_Crawford_and_Mann', '1_Genus_Characium_A_Braun_in_Kutzing_1849', '1_Genus_Chroococcus_Nageli', '1_Genus_Closterium_Nitzsch_ex_Ralfs_1848', '1_Genus_Coelastrum_Nageli_1849', '1_Genus_Cylindrocystis_Meneghini_ex_de_Bary_1858', '1_Genus_Dictyosphaerium_Nageli_1849', '1_Genus_Docidium_Brebisson_ex_Ralfs_1848', '1_Genus_Eunotia_Ehrenberg', '1_Genus_Geitlerinema_(Anagnostidis_et_Komarek)_Anagnostidis_1989', '1_Genus_Gonatozygon_de_Bary_1856', '1_Genus_Hydrodictyon_Roth_1797', '1_Genus_Hydrosera_whampoensis', '1_Genus_Jaaginema_Anagnostidis_et_Komarek_1988', '1_Genus_Lyngbya_C_Agardh_ex_Gomont_1892', '1_Genus_Melosira_Agardh', '1_Genus_Micractinium_Fresenius_1858', '1_Genus_Micrasterias_Ralfs_1848', '1_Genus_Microcystis_Kutzing_ex_Lemmermann_1907', '1_Genus_Oscillatoria_Vaucher_ex_Gomont_1982', '1_Genus_Pediastrum_Meyen_1829', '1_Genus_Penium_Brebisson_ex_Ralfs_in_Ralfs_1848', '1_Genus_Phormidium_Kutzing_ex_Gomont_1892', '1_Genus_Planktothrix_Anagnostidis_et_Komarek_1988', '1_Genus_Pleurosira_laevis_(Ehrenberg)', '1_Genus_Rhizosolenia_Ehrenberg', '1_Genus_Schizochlamydella_Korshikov_1953', '1_Genus_Staurodesmus_Teiling_1848', '1_Genus_Trochiscia_Kutzing_1834', '1_Scenedesmus_Hegewald_1978', '2_Acutodesmus_Hegewald_1978', '2_Genus_Achnanthidium_Kutzing', '2_Genus_Actinastrum_Lagerheim_1882', '2_Genus_Actinella_Lewis', '2_Genus_Ankyra_Fott_1957', '2_Genus_Caloneis_Cleve', '2_Genus_Chaetoceros_Ehrenberg', '2_Genus_Coenochloris_Korshikov_1953', '2_Genus_Cyclotella', '2_Genus_Diatoma_Bory', '2_Genus_Dimorphococcus_A_Braun_1855', '2_Genus_Golenkinia_Chodat_1894', '2_Genus_Haplotaenium_Bando_1988', '2_Genus_Leibleinia_(Gomont)_L_Hoffman_1985', '2_Genus_Leptolyngbya_Anagnostidis_et_Komarek_1988', '2_Genus_Merismopedia_Meyen_1839', '2_Genus_Netrium_(Nageli)_Itzigsohn_et_Rothe_in_Rabenhorst_1856', '2_Genus_Orthoseira_Thwaites_1848', '2_Genus_Phormidium_Kutzing_ex_Gomont_1892', '2_Genus_Sorastrum_Kutzing_1845', '2_Genus_Staurastrum_Meyen_ex_Ralfs_1848', '3_Desmodesmus_Chodat_1926', '3_Genus_Acanthosphaera_Lemmerman_1899', '3_Genus_Anorthoneis_Grunow', '3_Genus_Cyclostephanos_Round', '3_Genus_Dichotomococcus_Korshikov_1928', '3_Genus_Heteroleibleinia_(Geitler)_L_Hoffmann_1985', '3_Genus_Limnothrix_Meffert_1988', '3_Genus_Meridion_Agardh', '3_Genus_Paradoxia_Svirenko_1928', '3_Genus_Peronia_Bebisson_and_Arnott_ex_Kitton', '3_Genus_Phormidiochaete_Komarek_in_Anagnostidis_2001', '3_Genus_Pinnularia_Ehrenberg_1', '3_Genus_Pleurotaenium_Nageli_1849', '3_Genus_Radiococcus_Schmidle_1902', '3_Genus_Snowella_Elenkin_1938', '3_Genus_Spirotaenia_Brebisson_in_Ralfs_1848', '4_Genus_Botryococcus_Kutzing_1849', '4_Genus_Cocconeis_Ehrenberg', '4_Genus_Eutetramorus_Walton_1918', '4_Genus_Leptolyngbya_Anagnostidis_et_Komarek_1988', '4_Genus_Opephora_Petit', '4_Genus_Pinnularia_Ehrenberg_2', '4_Genus_Schroederia_Lemmermann_1898', '4_Genus_Stephanodiscus_Ehrenberg', '4_Genus_Synechocystis_Sauvageau_1892', '4_Genus_Tortitaenia_A_J_Brook_1998', '5_Genus_Caloneis_Cleve', '5_Genus_Coenocystis_Korshikov_1953', '5_Genus_Planktolyngbya_Anagnostidis_et_Komarek_1988', '5_Genus_Tabellaria_Ehrenberg', '5_Genus_Thalassiosira_Cleve', '5_Genus_Woronichinia_Elenkin_1933', '6_Genus_Anomoeoneis_Pfitzer', '6_Genus_Fragilaria_Lyngbye', '6_Genus_Gloeocystis_Nageli_1849', '6_Genus_Pseudanabaena_Lauterborn_1915', '6_Genus_Skeletonema_Greville', '7_Genus_Caloneis_Cleve', '7_Genus_Hannaea_Patrick', '8_Genus_Diploneis(Ehrenberg)_Cleve', '8_Genus_Pseudostaurosira_Williams_and_Round', '9_Genus_Neidium_Pfitzer', '9_Genus_Punctastriata_Williams_and_Round']\n"
          ]
        }
      ]
    },
    {
      "cell_type": "code",
      "metadata": {
        "id": "5EQOikPAukic",
        "colab": {
          "base_uri": "https://localhost:8080/"
        },
        "outputId": "1810f1f5-c3ba-4380-cd68-e45d685f3022"
      },
      "source": [
        "for image_batch, labels_batch in train_ds:\n",
        "  print(image_batch.shape)\n",
        "  print(labels_batch.shape)\n",
        "  break"
      ],
      "execution_count": null,
      "outputs": [
        {
          "output_type": "stream",
          "name": "stdout",
          "text": [
            "(32, 180, 180, 1)\n",
            "(32,)\n"
          ]
        }
      ]
    },
    {
      "cell_type": "code",
      "metadata": {
        "id": "9eVl7tiDux9q"
      },
      "source": [
        "from tensorflow.keras import layers\n",
        "\n",
        "normalization_layer = tf.keras.layers.experimental.preprocessing.Rescaling(1./255)"
      ],
      "execution_count": null,
      "outputs": []
    },
    {
      "cell_type": "code",
      "metadata": {
        "id": "AiIrsxzZuzEo",
        "colab": {
          "base_uri": "https://localhost:8080/"
        },
        "outputId": "6537a523-197a-4786-cab4-1f1bd59ecb1c"
      },
      "source": [
        "normalized_ds = train_ds.map(lambda x, y: (normalization_layer(x), y))\n",
        "image_batch, labels_batch = next(iter(normalized_ds))\n",
        "first_image = image_batch[0]\n",
        "# Notice the pixels values are now in `[0,1]`.\n",
        "print(np.min(first_image), np.max(first_image))"
      ],
      "execution_count": null,
      "outputs": [
        {
          "output_type": "stream",
          "name": "stdout",
          "text": [
            "0.0 1.0\n"
          ]
        }
      ]
    },
    {
      "cell_type": "code",
      "metadata": {
        "id": "__WbVabru0Bp"
      },
      "source": [
        "AUTOTUNE = tf.data.experimental.AUTOTUNE\n",
        "\n",
        "train_ds = train_ds.cache().prefetch(buffer_size=AUTOTUNE)\n",
        "val_ds = val_ds.cache().prefetch(buffer_size=AUTOTUNE)"
      ],
      "execution_count": null,
      "outputs": []
    },
    {
      "cell_type": "code",
      "metadata": {
        "id": "g1GeYFXCu2gV"
      },
      "source": [
        "num_classes = 107\n",
        "model = tf.keras.Sequential([\n",
        "    layers.experimental.preprocessing.Rescaling(1./255),\n",
        "    layers.Conv2D(32, 3,input_shape = image_batch, activation='relu'),\n",
        "    layers.MaxPooling2D(),\n",
        "    layers.Conv2D(32, 3, activation='relu'),\n",
        "    layers.MaxPooling2D(),\n",
        "    layers.Conv2D(32, 3, activation='relu'),\n",
        "    layers.MaxPooling2D(),\n",
        "    layers.Flatten(),\n",
        "    BatchNormalization(),\n",
        "    layers.Dense(128, input_dim = 107, activation='relu'),\n",
        "    BatchNormalization(),\n",
        "    layers.Dense(128, activation='relu'),\n",
        "    BatchNormalization(),\n",
        "    layers.Dense(128, activation='relu'),\n",
        "    BatchNormalization(),\n",
        "    layers.Dense(128, activation='relu'),\n",
        "    BatchNormalization(),\n",
        "    layers.Dense(128, activation='relu'),\n",
        "    BatchNormalization(),\n",
        "    layers.Dense(128, activation='relu'),\n",
        "    BatchNormalization(),\n",
        "    layers.Dense(128, activation='relu'),\n",
        "    BatchNormalization(),\n",
        "    layers.Dense(128, activation='relu'),\n",
        "    BatchNormalization(),\n",
        "    layers.Dense(128, activation='relu'),\n",
        "    BatchNormalization(),\n",
        "    layers.Dense(107, activation='softmax'),\n",
        "    BatchNormalization(),\n",
        "    layers.Dense(num_classes)\n",
        "    ])"
      ],
      "execution_count": null,
      "outputs": []
    },
    {
      "cell_type": "code",
      "metadata": {
        "id": "wU4xPAvNYWry"
      },
      "source": [
        "model.compile(\n",
        "    optimizer='adam',\n",
        "    loss=tf.losses.SparseCategoricalCrossentropy(from_logits=True),\n",
        "    metrics=['accuracy'])"
      ],
      "execution_count": null,
      "outputs": []
    },
    {
      "cell_type": "code",
      "metadata": {
        "id": "Tk8ssrbHu44p",
        "colab": {
          "base_uri": "https://localhost:8080/"
        },
        "outputId": "ac373d31-902e-42f1-a494-081fd278813c"
      },
      "source": [
        "epochs=50\n",
        "history = model.fit(\n",
        "  train_ds,\n",
        "  validation_data=val_ds,\n",
        "  epochs=epochs\n",
        ")"
      ],
      "execution_count": null,
      "outputs": [
        {
          "output_type": "stream",
          "name": "stdout",
          "text": [
            "Epoch 1/50\n",
            "156/156 [==============================] - 505s 3s/step - loss: 3.7972 - accuracy: 0.2002 - val_loss: 4.1628 - val_accuracy: 0.1912\n",
            "Epoch 2/50\n",
            "156/156 [==============================] - 3s 19ms/step - loss: 2.7382 - accuracy: 0.3208 - val_loss: 3.6882 - val_accuracy: 0.2747\n",
            "Epoch 3/50\n",
            "156/156 [==============================] - 3s 18ms/step - loss: 2.3606 - accuracy: 0.3817 - val_loss: 2.9437 - val_accuracy: 0.3526\n",
            "Epoch 4/50\n",
            "156/156 [==============================] - 3s 19ms/step - loss: 2.0920 - accuracy: 0.4359 - val_loss: 2.5793 - val_accuracy: 0.3382\n",
            "Epoch 5/50\n",
            "156/156 [==============================] - 3s 19ms/step - loss: 1.8926 - accuracy: 0.4770 - val_loss: 2.4240 - val_accuracy: 0.3711\n",
            "Epoch 6/50\n",
            "156/156 [==============================] - 3s 19ms/step - loss: 1.6931 - accuracy: 0.5258 - val_loss: 2.7614 - val_accuracy: 0.3526\n",
            "Epoch 7/50\n",
            "156/156 [==============================] - 3s 19ms/step - loss: 1.5059 - accuracy: 0.5732 - val_loss: 2.3618 - val_accuracy: 0.4257\n",
            "Epoch 8/50\n",
            "156/156 [==============================] - 3s 18ms/step - loss: 1.3269 - accuracy: 0.6240 - val_loss: 2.2931 - val_accuracy: 0.4546\n",
            "Epoch 9/50\n",
            "156/156 [==============================] - 3s 18ms/step - loss: 1.1684 - accuracy: 0.6691 - val_loss: 2.3652 - val_accuracy: 0.4426\n",
            "Epoch 10/50\n",
            "156/156 [==============================] - 3s 18ms/step - loss: 1.0321 - accuracy: 0.7109 - val_loss: 2.6041 - val_accuracy: 0.4209\n",
            "Epoch 11/50\n",
            "156/156 [==============================] - 3s 18ms/step - loss: 0.9397 - accuracy: 0.7350 - val_loss: 2.4513 - val_accuracy: 0.4683\n",
            "Epoch 12/50\n",
            "156/156 [==============================] - 3s 18ms/step - loss: 0.8227 - accuracy: 0.7619 - val_loss: 2.3365 - val_accuracy: 0.4843\n",
            "Epoch 13/50\n",
            "156/156 [==============================] - 3s 19ms/step - loss: 0.7130 - accuracy: 0.8016 - val_loss: 2.5321 - val_accuracy: 0.4667\n",
            "Epoch 14/50\n",
            "156/156 [==============================] - 3s 19ms/step - loss: 0.6090 - accuracy: 0.8322 - val_loss: 3.1204 - val_accuracy: 0.3823\n",
            "Epoch 15/50\n",
            "156/156 [==============================] - 3s 19ms/step - loss: 0.5718 - accuracy: 0.8338 - val_loss: 2.9731 - val_accuracy: 0.4361\n",
            "Epoch 16/50\n",
            "156/156 [==============================] - 3s 18ms/step - loss: 0.4898 - accuracy: 0.8633 - val_loss: 2.9429 - val_accuracy: 0.4474\n",
            "Epoch 17/50\n",
            "156/156 [==============================] - 3s 18ms/step - loss: 0.4117 - accuracy: 0.8842 - val_loss: 2.9437 - val_accuracy: 0.4442\n",
            "Epoch 18/50\n",
            "156/156 [==============================] - 3s 19ms/step - loss: 0.3829 - accuracy: 0.8936 - val_loss: 2.9392 - val_accuracy: 0.4739\n",
            "Epoch 19/50\n",
            "156/156 [==============================] - 3s 19ms/step - loss: 0.3573 - accuracy: 0.8992 - val_loss: 3.0611 - val_accuracy: 0.4554\n",
            "Epoch 20/50\n",
            "156/156 [==============================] - 3s 19ms/step - loss: 0.3255 - accuracy: 0.9111 - val_loss: 2.9565 - val_accuracy: 0.4699\n",
            "Epoch 21/50\n",
            "156/156 [==============================] - 3s 18ms/step - loss: 0.2959 - accuracy: 0.9149 - val_loss: 2.8742 - val_accuracy: 0.4916\n",
            "Epoch 22/50\n",
            "156/156 [==============================] - 3s 18ms/step - loss: 0.2914 - accuracy: 0.9169 - val_loss: 3.3875 - val_accuracy: 0.4707\n",
            "Epoch 23/50\n",
            "156/156 [==============================] - 3s 18ms/step - loss: 0.2744 - accuracy: 0.9221 - val_loss: 3.1300 - val_accuracy: 0.4835\n",
            "Epoch 24/50\n",
            "156/156 [==============================] - 3s 19ms/step - loss: 0.2347 - accuracy: 0.9303 - val_loss: 3.3141 - val_accuracy: 0.4779\n",
            "Epoch 25/50\n",
            "156/156 [==============================] - 3s 19ms/step - loss: 0.2168 - accuracy: 0.9374 - val_loss: 3.1705 - val_accuracy: 0.4956\n",
            "Epoch 26/50\n",
            "156/156 [==============================] - 3s 18ms/step - loss: 0.2008 - accuracy: 0.9414 - val_loss: 3.3820 - val_accuracy: 0.4988\n",
            "Epoch 27/50\n",
            "156/156 [==============================] - 3s 19ms/step - loss: 0.1686 - accuracy: 0.9516 - val_loss: 3.1334 - val_accuracy: 0.5124\n",
            "Epoch 28/50\n",
            "156/156 [==============================] - 3s 19ms/step - loss: 0.1249 - accuracy: 0.9659 - val_loss: 3.4909 - val_accuracy: 0.4932\n",
            "Epoch 29/50\n",
            "156/156 [==============================] - 3s 19ms/step - loss: 0.1093 - accuracy: 0.9713 - val_loss: 3.3312 - val_accuracy: 0.4964\n",
            "Epoch 30/50\n",
            "156/156 [==============================] - 3s 19ms/step - loss: 0.1399 - accuracy: 0.9623 - val_loss: 3.4754 - val_accuracy: 0.4964\n",
            "Epoch 31/50\n",
            "156/156 [==============================] - 3s 19ms/step - loss: 0.1903 - accuracy: 0.9426 - val_loss: 4.1750 - val_accuracy: 0.4361\n",
            "Epoch 32/50\n",
            "156/156 [==============================] - 3s 19ms/step - loss: 0.2251 - accuracy: 0.9358 - val_loss: 3.6864 - val_accuracy: 0.4538\n",
            "Epoch 33/50\n",
            "156/156 [==============================] - 3s 18ms/step - loss: 0.1782 - accuracy: 0.9478 - val_loss: 3.6352 - val_accuracy: 0.4900\n",
            "Epoch 34/50\n",
            "156/156 [==============================] - 3s 19ms/step - loss: 0.1258 - accuracy: 0.9637 - val_loss: 3.4173 - val_accuracy: 0.5060\n",
            "Epoch 35/50\n",
            "156/156 [==============================] - 3s 19ms/step - loss: 0.0946 - accuracy: 0.9753 - val_loss: 3.5102 - val_accuracy: 0.4980\n",
            "Epoch 36/50\n",
            "156/156 [==============================] - 3s 18ms/step - loss: 0.0730 - accuracy: 0.9829 - val_loss: 3.4823 - val_accuracy: 0.5108\n",
            "Epoch 37/50\n",
            "156/156 [==============================] - 3s 18ms/step - loss: 0.0566 - accuracy: 0.9863 - val_loss: 3.4075 - val_accuracy: 0.5133\n",
            "Epoch 38/50\n",
            "156/156 [==============================] - 3s 18ms/step - loss: 0.0605 - accuracy: 0.9859 - val_loss: 3.4953 - val_accuracy: 0.5124\n",
            "Epoch 39/50\n",
            "156/156 [==============================] - 3s 19ms/step - loss: 0.0518 - accuracy: 0.9886 - val_loss: 3.5796 - val_accuracy: 0.5173\n",
            "Epoch 40/50\n",
            "156/156 [==============================] - 3s 18ms/step - loss: 0.0771 - accuracy: 0.9801 - val_loss: 3.5286 - val_accuracy: 0.5020\n",
            "Epoch 41/50\n",
            "156/156 [==============================] - 3s 19ms/step - loss: 0.1872 - accuracy: 0.9468 - val_loss: 4.0158 - val_accuracy: 0.4699\n",
            "Epoch 42/50\n",
            "156/156 [==============================] - 3s 18ms/step - loss: 0.2101 - accuracy: 0.9430 - val_loss: 4.0000 - val_accuracy: 0.4627\n",
            "Epoch 43/50\n",
            "156/156 [==============================] - 3s 18ms/step - loss: 0.1655 - accuracy: 0.9524 - val_loss: 3.6723 - val_accuracy: 0.4900\n",
            "Epoch 44/50\n",
            "156/156 [==============================] - 3s 18ms/step - loss: 0.1237 - accuracy: 0.9655 - val_loss: 3.3039 - val_accuracy: 0.5149\n",
            "Epoch 45/50\n",
            "156/156 [==============================] - 3s 18ms/step - loss: 0.1066 - accuracy: 0.9703 - val_loss: 3.5530 - val_accuracy: 0.5173\n",
            "Epoch 46/50\n",
            "156/156 [==============================] - 3s 19ms/step - loss: 0.0704 - accuracy: 0.9793 - val_loss: 3.6190 - val_accuracy: 0.4956\n",
            "Epoch 47/50\n",
            "156/156 [==============================] - 3s 19ms/step - loss: 0.0485 - accuracy: 0.9882 - val_loss: 3.6213 - val_accuracy: 0.4900\n",
            "Epoch 48/50\n",
            "156/156 [==============================] - 3s 19ms/step - loss: 0.0386 - accuracy: 0.9910 - val_loss: 3.4275 - val_accuracy: 0.5157\n",
            "Epoch 49/50\n",
            "156/156 [==============================] - 3s 19ms/step - loss: 0.0233 - accuracy: 0.9954 - val_loss: 3.4048 - val_accuracy: 0.5406\n",
            "Epoch 50/50\n",
            "156/156 [==============================] - 3s 19ms/step - loss: 0.0144 - accuracy: 0.9974 - val_loss: 3.4164 - val_accuracy: 0.5357\n"
          ]
        }
      ]
    },
    {
      "cell_type": "code",
      "metadata": {
        "id": "f1z_vHocu59c",
        "colab": {
          "base_uri": "https://localhost:8080/",
          "height": 54
        },
        "outputId": "4cd53991-b365-4caa-a552-a97cb39065ec"
      },
      "source": [
        "acc = history.history['accuracy']\n",
        "val_acc = history.history['val_accuracy']\n",
        "\n",
        "loss=history.history['loss']\n",
        "val_loss=history.history['val_loss']\n",
        "\n",
        "epochs_range = range(epochs)\n",
        "\n",
        "plt.figure(figsize=(8, 8))\n",
        "plt.subplot(1, 2, 1)\n",
        "plt.plot(epochs_range, acc, label='Training Accuracy')\n",
        "plt.plot(epochs_range, val_acc, label='Validation Accuracy')\n",
        "plt.legend(loc='lower right')\n",
        "plt.title('Training and Validation Accuracy')\n",
        "\n",
        "plt.subplot(1, 2, 2)\n",
        "plt.plot(epochs_range, loss, label='Training Loss')\n",
        "plt.plot(epochs_range, val_loss, label='Validation Loss')\n",
        "plt.legend(loc='upper right')\n",
        "plt.title('Training and Validation Loss')\n",
        "plt.show()"
      ],
      "execution_count": null,
      "outputs": [
        {
          "output_type": "display_data",
          "data": {
            "image/png": "[encoded data removed]",
            "text/plain": [
              "<Figure size 576x576 with 2 Axes>"
            ]
          },
          "metadata": {
            "needs_background": "light"
          }
        }
      ]
    },
    {
      "cell_type": "code",
      "metadata": {
        "id": "XinJ6xXD9YNO"
      },
      "source": [
        "data_augmentation = keras.Sequential(\n",
        "  [\n",
        "    layers.experimental.preprocessing.RandomFlip(\"horizontal\", \n",
        "                                                 input_shape=(img_height, \n",
        "                                                              img_width,\n",
        "                                                              1)),\n",
        "    layers.experimental.preprocessing.RandomRotation(0.1),\n",
        "    layers.experimental.preprocessing.RandomZoom(0.1),\n",
        "  ]\n",
        ")"
      ],
      "execution_count": null,
      "outputs": []
    },
    {
      "cell_type": "code",
      "metadata": {
        "id": "8WT2BYElEYZj"
      },
      "source": [
        "model = Sequential([\n",
        "  data_augmentation,\n",
        "  layers.experimental.preprocessing.Rescaling(1./255),\n",
        "  layers.Conv2D(32, 3,input_shape = image_batch, activation='relu'),\n",
        "  layers.MaxPooling2D(),\n",
        "  layers.Conv2D(32, 3, padding='same', activation='relu'),\n",
        "  layers.MaxPooling2D(),\n",
        "  layers.Conv2D(32, 3, padding='same', activation='relu'),\n",
        "  layers.MaxPooling2D(),\n",
        "  layers.Dropout(0.2),\n",
        "  layers.Flatten(),\n",
        "  layers.Dense(128, input_dim = 107, activation='relu'),\n",
        "  BatchNormalization(),\n",
        "  layers.Dense(128, activation='relu'),\n",
        "  BatchNormalization(),\n",
        "  layers.Dense(128, activation='relu'),\n",
        "  BatchNormalization(),\n",
        "  layers.Dense(128, activation='relu'),\n",
        "  BatchNormalization(),\n",
        "  layers.Dense(128, activation='relu'),\n",
        "  BatchNormalization(),\n",
        "  layers.Dense(128, activation='relu'),\n",
        "  BatchNormalization(),\n",
        "  layers.Dense(128, activation='relu'),\n",
        "  BatchNormalization(),\n",
        "  layers.Dense(128, activation='relu'),\n",
        "  BatchNormalization(),\n",
        "  layers.Dense(128, activation='relu'),\n",
        "  BatchNormalization(),\n",
        "  layers.Dense(107, activation='softmax'),\n",
        "  BatchNormalization(),\n",
        "  layers.Dense(num_classes)\n",
        "])"
      ],
      "execution_count": null,
      "outputs": []
    },
    {
      "cell_type": "code",
      "metadata": {
        "colab": {
          "base_uri": "https://localhost:8080/"
        },
        "id": "kgdvU5ds7E-1",
        "outputId": "bf640466-e01f-4900-ff85-f1c836c56c1b"
      },
      "source": [
        "from google.colab import drive\n",
        "drive.mount('/content/drive')"
      ],
      "execution_count": null,
      "outputs": [
        {
          "output_type": "stream",
          "name": "stdout",
          "text": [
            "Drive already mounted at /content/drive; to attempt to forcibly remount, call drive.mount(\"/content/drive\", force_remount=True).\n"
          ]
        }
      ]
    },
    {
      "cell_type": "code",
      "metadata": {
        "id": "opOHP3auEdsw",
        "colab": {
          "base_uri": "https://localhost:8080/"
        },
        "outputId": "c3a5970d-1709-4f13-a9cd-6d9a9b057d35"
      },
      "source": [
        "BatchNormalization(),model.compile(\n",
        "    optimizer='adam',\n",
        "    loss=tf.losses.SparseCategoricalCrossentropy(from_logits=True),\n",
        "    metrics=['accuracy'])"
      ],
      "execution_count": null,
      "outputs": [
        {
          "output_type": "execute_result",
          "data": {
            "text/plain": [
              "(<keras.layers.normalization.batch_normalization.BatchNormalization at 0x7f25181a34d0>,\n",
              " None)"
            ]
          },
          "metadata": {},
          "execution_count": 20
        }
      ]
    },
    {
      "cell_type": "code",
      "metadata": {
        "id": "3Ay4tlHlEfBX",
        "colab": {
          "base_uri": "https://localhost:8080/"
        },
        "outputId": "e3137183-d3d6-45a0-f3b7-6098b6214f68"
      },
      "source": [
        "model.summary()"
      ],
      "execution_count": null,
      "outputs": [
        {
          "output_type": "stream",
          "name": "stdout",
          "text": [
            "Model: \"sequential_2\"\n",
            "_________________________________________________________________\n",
            " Layer (type)                Output Shape              Param #   \n",
            "=================================================================\n",
            " sequential_1 (Sequential)   (None, 180, 180, 1)       0         \n",
            "                                                                 \n",
            " rescaling_2 (Rescaling)     (None, 180, 180, 1)       0         \n",
            "                                                                 \n",
            " conv2d_3 (Conv2D)           (None, 178, 178, 32)      320       \n",
            "                                                                 \n",
            " max_pooling2d_3 (MaxPooling  (None, 89, 89, 32)       0         \n",
            " 2D)                                                             \n",
            "                                                                 \n",
            " conv2d_4 (Conv2D)           (None, 89, 89, 32)        9248      \n",
            "                                                                 \n",
            " max_pooling2d_4 (MaxPooling  (None, 44, 44, 32)       0         \n",
            " 2D)                                                             \n",
            "                                                                 \n",
            " conv2d_5 (Conv2D)           (None, 44, 44, 32)        9248      \n",
            "                                                                 \n",
            " max_pooling2d_5 (MaxPooling  (None, 22, 22, 32)       0         \n",
            " 2D)                                                             \n",
            "                                                                 \n",
            " dropout (Dropout)           (None, 22, 22, 32)        0         \n",
            "                                                                 \n",
            " flatten_1 (Flatten)         (None, 15488)             0         \n",
            "                                                                 \n",
            " dense_11 (Dense)            (None, 128)               1982592   \n",
            "                                                                 \n",
            " batch_normalization_11 (Bat  (None, 128)              512       \n",
            " chNormalization)                                                \n",
            "                                                                 \n",
            " dense_12 (Dense)            (None, 128)               16512     \n",
            "                                                                 \n",
            " batch_normalization_12 (Bat  (None, 128)              512       \n",
            " chNormalization)                                                \n",
            "                                                                 \n",
            " dense_13 (Dense)            (None, 128)               16512     \n",
            "                                                                 \n",
            " batch_normalization_13 (Bat  (None, 128)              512       \n",
            " chNormalization)                                                \n",
            "                                                                 \n",
            " dense_14 (Dense)            (None, 128)               16512     \n",
            "                                                                 \n",
            " batch_normalization_14 (Bat  (None, 128)              512       \n",
            " chNormalization)                                                \n",
            "                                                                 \n",
            " dense_15 (Dense)            (None, 128)               16512     \n",
            "                                                                 \n",
            " batch_normalization_15 (Bat  (None, 128)              512       \n",
            " chNormalization)                                                \n",
            "                                                                 \n",
            " dense_16 (Dense)            (None, 128)               16512     \n",
            "                                                                 \n",
            " batch_normalization_16 (Bat  (None, 128)              512       \n",
            " chNormalization)                                                \n",
            "                                                                 \n",
            " dense_17 (Dense)            (None, 128)               16512     \n",
            "                                                                 \n",
            " batch_normalization_17 (Bat  (None, 128)              512       \n",
            " chNormalization)                                                \n",
            "                                                                 \n",
            " dense_18 (Dense)            (None, 128)               16512     \n",
            "                                                                 \n",
            " batch_normalization_18 (Bat  (None, 128)              512       \n",
            " chNormalization)                                                \n",
            "                                                                 \n",
            " dense_19 (Dense)            (None, 128)               16512     \n",
            "                                                                 \n",
            " batch_normalization_19 (Bat  (None, 128)              512       \n",
            " chNormalization)                                                \n",
            "                                                                 \n",
            " dense_20 (Dense)            (None, 107)               13803     \n",
            "                                                                 \n",
            " batch_normalization_20 (Bat  (None, 107)              428       \n",
            " chNormalization)                                                \n",
            "                                                                 \n",
            " dense_21 (Dense)            (None, 107)               11556     \n",
            "                                                                 \n",
            "=================================================================\n",
            "Total params: 2,163,899\n",
            "Trainable params: 2,161,381\n",
            "Non-trainable params: 2,518\n",
            "_________________________________________________________________\n"
          ]
        }
      ]
    },
    {
      "cell_type": "code",
      "metadata": {
        "id": "Jc8rD_v9Ef41",
        "colab": {
          "base_uri": "https://localhost:8080/"
        },
        "outputId": "244edab6-98cb-4fa5-be7d-1807a3bf23dd"
      },
      "source": [
        "epochs = 50\n",
        "history = model.fit(\n",
        "  train_ds,\n",
        "  validation_data=val_ds,\n",
        "  epochs=epochs\n",
        ")"
      ],
      "execution_count": null,
      "outputs": [
        {
          "output_type": "stream",
          "name": "stdout",
          "text": [
            "Epoch 1/50\n",
            "156/156 [==============================] - 6s 23ms/step - loss: 4.0064 - accuracy: 0.1383 - val_loss: 4.1517 - val_accuracy: 0.0980\n",
            "Epoch 2/50\n",
            "156/156 [==============================] - 3s 19ms/step - loss: 3.1610 - accuracy: 0.2206 - val_loss: 3.7845 - val_accuracy: 0.1357\n",
            "Epoch 3/50\n",
            "156/156 [==============================] - 3s 20ms/step - loss: 2.8839 - accuracy: 0.2664 - val_loss: 3.6316 - val_accuracy: 0.1173\n",
            "Epoch 4/50\n",
            "156/156 [==============================] - 3s 20ms/step - loss: 2.6888 - accuracy: 0.2953 - val_loss: 3.5425 - val_accuracy: 0.1727\n",
            "Epoch 5/50\n",
            "156/156 [==============================] - 3s 20ms/step - loss: 2.5316 - accuracy: 0.3204 - val_loss: 3.3776 - val_accuracy: 0.2016\n",
            "Epoch 6/50\n",
            "156/156 [==============================] - 3s 20ms/step - loss: 2.4084 - accuracy: 0.3379 - val_loss: 3.4468 - val_accuracy: 0.2369\n",
            "Epoch 7/50\n",
            "156/156 [==============================] - 3s 21ms/step - loss: 2.3170 - accuracy: 0.3646 - val_loss: 2.8738 - val_accuracy: 0.2996\n",
            "Epoch 8/50\n",
            "156/156 [==============================] - 3s 20ms/step - loss: 2.2109 - accuracy: 0.3762 - val_loss: 2.9048 - val_accuracy: 0.3261\n",
            "Epoch 9/50\n",
            "156/156 [==============================] - 3s 20ms/step - loss: 2.1657 - accuracy: 0.3843 - val_loss: 3.2179 - val_accuracy: 0.2659\n",
            "Epoch 10/50\n",
            "156/156 [==============================] - 3s 20ms/step - loss: 2.0951 - accuracy: 0.4017 - val_loss: 2.8795 - val_accuracy: 0.3165\n",
            "Epoch 11/50\n",
            "156/156 [==============================] - 3s 20ms/step - loss: 2.0397 - accuracy: 0.4100 - val_loss: 2.6671 - val_accuracy: 0.3510\n",
            "Epoch 12/50\n",
            "156/156 [==============================] - 3s 20ms/step - loss: 1.9697 - accuracy: 0.4326 - val_loss: 2.6072 - val_accuracy: 0.3510\n",
            "Epoch 13/50\n",
            "156/156 [==============================] - 3s 19ms/step - loss: 1.9080 - accuracy: 0.4389 - val_loss: 2.3074 - val_accuracy: 0.4096\n",
            "Epoch 14/50\n",
            "156/156 [==============================] - 3s 20ms/step - loss: 1.8576 - accuracy: 0.4479 - val_loss: 2.7747 - val_accuracy: 0.3590\n",
            "Epoch 15/50\n",
            "156/156 [==============================] - 3s 20ms/step - loss: 1.8012 - accuracy: 0.4616 - val_loss: 2.7129 - val_accuracy: 0.3590\n",
            "Epoch 16/50\n",
            "156/156 [==============================] - 3s 20ms/step - loss: 1.7635 - accuracy: 0.4626 - val_loss: 2.5859 - val_accuracy: 0.3936\n",
            "Epoch 17/50\n",
            "156/156 [==============================] - 3s 20ms/step - loss: 1.7201 - accuracy: 0.4842 - val_loss: 2.8205 - val_accuracy: 0.3759\n",
            "Epoch 18/50\n",
            "156/156 [==============================] - 3s 20ms/step - loss: 1.6888 - accuracy: 0.4949 - val_loss: 2.6565 - val_accuracy: 0.3518\n",
            "Epoch 19/50\n",
            "156/156 [==============================] - 3s 20ms/step - loss: 1.6417 - accuracy: 0.4987 - val_loss: 2.5615 - val_accuracy: 0.3920\n",
            "Epoch 20/50\n",
            "156/156 [==============================] - 3s 20ms/step - loss: 1.5998 - accuracy: 0.5089 - val_loss: 2.3160 - val_accuracy: 0.4305\n",
            "Epoch 21/50\n",
            "156/156 [==============================] - 3s 20ms/step - loss: 1.5577 - accuracy: 0.5238 - val_loss: 2.7021 - val_accuracy: 0.3735\n",
            "Epoch 22/50\n",
            "156/156 [==============================] - 3s 20ms/step - loss: 1.5123 - accuracy: 0.5312 - val_loss: 2.7466 - val_accuracy: 0.3880\n",
            "Epoch 23/50\n",
            "156/156 [==============================] - 3s 21ms/step - loss: 1.4749 - accuracy: 0.5382 - val_loss: 2.4445 - val_accuracy: 0.4016\n",
            "Epoch 24/50\n",
            "156/156 [==============================] - 3s 20ms/step - loss: 1.4338 - accuracy: 0.5390 - val_loss: 2.3909 - val_accuracy: 0.4040\n",
            "Epoch 25/50\n",
            "156/156 [==============================] - 3s 20ms/step - loss: 1.4029 - accuracy: 0.5449 - val_loss: 2.5662 - val_accuracy: 0.3944\n",
            "Epoch 26/50\n",
            "156/156 [==============================] - 3s 20ms/step - loss: 1.3874 - accuracy: 0.5585 - val_loss: 2.4483 - val_accuracy: 0.4177\n",
            "Epoch 27/50\n",
            "156/156 [==============================] - 3s 20ms/step - loss: 1.3149 - accuracy: 0.5746 - val_loss: 2.7741 - val_accuracy: 0.3751\n",
            "Epoch 28/50\n",
            "156/156 [==============================] - 3s 20ms/step - loss: 1.2976 - accuracy: 0.5832 - val_loss: 2.5103 - val_accuracy: 0.4040\n",
            "Epoch 29/50\n",
            "156/156 [==============================] - 3s 20ms/step - loss: 1.2764 - accuracy: 0.5860 - val_loss: 2.5114 - val_accuracy: 0.4289\n",
            "Epoch 30/50\n",
            "156/156 [==============================] - 3s 20ms/step - loss: 1.2520 - accuracy: 0.5953 - val_loss: 4.0211 - val_accuracy: 0.2506\n",
            "Epoch 31/50\n",
            "156/156 [==============================] - 3s 20ms/step - loss: 1.2089 - accuracy: 0.6109 - val_loss: 2.6091 - val_accuracy: 0.4056\n",
            "Epoch 32/50\n",
            "156/156 [==============================] - 3s 20ms/step - loss: 1.1955 - accuracy: 0.6117 - val_loss: 2.5719 - val_accuracy: 0.3904\n",
            "Epoch 33/50\n",
            "156/156 [==============================] - 3s 21ms/step - loss: 1.1677 - accuracy: 0.6173 - val_loss: 2.7618 - val_accuracy: 0.3871\n",
            "Epoch 34/50\n",
            "156/156 [==============================] - 3s 20ms/step - loss: 1.1171 - accuracy: 0.6332 - val_loss: 2.9823 - val_accuracy: 0.3863\n",
            "Epoch 35/50\n",
            "156/156 [==============================] - 3s 20ms/step - loss: 1.1404 - accuracy: 0.6262 - val_loss: 2.5234 - val_accuracy: 0.4410\n",
            "Epoch 36/50\n",
            "156/156 [==============================] - 3s 20ms/step - loss: 1.0634 - accuracy: 0.6593 - val_loss: 2.9509 - val_accuracy: 0.3751\n",
            "Epoch 37/50\n",
            "156/156 [==============================] - 3s 20ms/step - loss: 1.0322 - accuracy: 0.6589 - val_loss: 3.1032 - val_accuracy: 0.3775\n",
            "Epoch 38/50\n",
            "156/156 [==============================] - 3s 20ms/step - loss: 1.0241 - accuracy: 0.6631 - val_loss: 2.5760 - val_accuracy: 0.4153\n",
            "Epoch 39/50\n",
            "156/156 [==============================] - 3s 21ms/step - loss: 0.9998 - accuracy: 0.6667 - val_loss: 2.7251 - val_accuracy: 0.4016\n",
            "Epoch 40/50\n",
            "156/156 [==============================] - 3s 20ms/step - loss: 0.9675 - accuracy: 0.6822 - val_loss: 2.8223 - val_accuracy: 0.3928\n",
            "Epoch 41/50\n",
            "156/156 [==============================] - 3s 20ms/step - loss: 0.9302 - accuracy: 0.6886 - val_loss: 2.6991 - val_accuracy: 0.4281\n",
            "Epoch 42/50\n",
            "156/156 [==============================] - 3s 20ms/step - loss: 0.9456 - accuracy: 0.6788 - val_loss: 3.0395 - val_accuracy: 0.3815\n",
            "Epoch 43/50\n",
            "156/156 [==============================] - 3s 20ms/step - loss: 0.9071 - accuracy: 0.6985 - val_loss: 2.7390 - val_accuracy: 0.4201\n",
            "Epoch 44/50\n",
            "156/156 [==============================] - 3s 20ms/step - loss: 0.8889 - accuracy: 0.7053 - val_loss: 2.6982 - val_accuracy: 0.4257\n",
            "Epoch 45/50\n",
            "156/156 [==============================] - 3s 20ms/step - loss: 0.8843 - accuracy: 0.7019 - val_loss: 3.3018 - val_accuracy: 0.3639\n",
            "Epoch 46/50\n",
            "156/156 [==============================] - 3s 20ms/step - loss: 0.8523 - accuracy: 0.7075 - val_loss: 3.1532 - val_accuracy: 0.4072\n",
            "Epoch 47/50\n",
            "156/156 [==============================] - 3s 20ms/step - loss: 0.8322 - accuracy: 0.7288 - val_loss: 2.5006 - val_accuracy: 0.4602\n",
            "Epoch 48/50\n",
            "156/156 [==============================] - 3s 20ms/step - loss: 0.8065 - accuracy: 0.7290 - val_loss: 3.0690 - val_accuracy: 0.4104\n",
            "Epoch 49/50\n",
            "156/156 [==============================] - 3s 20ms/step - loss: 0.7927 - accuracy: 0.7336 - val_loss: 2.8286 - val_accuracy: 0.4458\n",
            "Epoch 50/50\n",
            "156/156 [==============================] - 3s 20ms/step - loss: 0.7507 - accuracy: 0.7501 - val_loss: 3.0598 - val_accuracy: 0.4153\n"
          ]
        }
      ]
    },
    {
      "cell_type": "code",
      "metadata": {
        "id": "ynhS2KjVEhj8",
        "colab": {
          "base_uri": "https://localhost:8080/"
        },
        "outputId": "e69e9e4d-e877-406c-c442-149a5ed73e42"
      },
      "source": [
        "acc = history.history['accuracy']\n",
        "val_acc = history.history['val_accuracy']\n",
        "\n",
        "loss = history.history['loss']\n",
        "val_loss = history.history['val_loss']\n",
        "\n",
        "epochs_range = range(epochs)\n",
        "\n",
        "plt.figure(figsize=(8, 8))\n",
        "plt.subplot(1, 2, 1)\n",
        "plt.plot(epochs_range, acc, label='Training Accuracy')\n",
        "plt.plot(epochs_range, val_acc, label='Validation Accuracy')\n",
        "plt.legend(loc='lower right')\n",
        "plt.title('Training and Validation Accuracy')\n",
        "\n",
        "plt.subplot(1, 2, 2)\n",
        "plt.plot(epochs_range, loss, label='Training Loss')\n",
        "plt.plot(epochs_range, val_loss, label='Validation Loss')\n",
        "plt.legend(loc='upper right')\n",
        "plt.title('Training and Validation Loss')\n",
        "plt.show()"
      ],
      "execution_count": null,
      "outputs": [
        {
          "output_type": "display_data",
          "data": {
            "image/png": "[encoded data removed]",
            "text/plain": [
              "<Figure size 576x576 with 2 Axes>"
            ]
          },
          "metadata": {
            "needs_background": "light"
          }
        }
      ]
    },
    {
      "cell_type": "code",
      "metadata": {
        "id": "IbEQMrsAH2yZ",
        "colab": {
          "base_uri": "https://localhost:8080/"
        },
        "outputId": "62919672-5517-47c9-a5fd-ecbc1d6fdb21"
      },
      "source": [
        "model.compile(\n",
        "    optimizer='adam',\n",
        "    loss=tf.losses.SparseCategoricalCrossentropy(from_logits=True),\n",
        "    metrics=['accuracy'])\n",
        "model.summary()"
      ],
      "execution_count": null,
      "outputs": [
        {
          "output_type": "stream",
          "name": "stdout",
          "text": [
            "Model: \"sequential_2\"\n",
            "_________________________________________________________________\n",
            " Layer (type)                Output Shape              Param #   \n",
            "=================================================================\n",
            " sequential_1 (Sequential)   (None, 180, 180, 1)       0         \n",
            "                                                                 \n",
            " rescaling_2 (Rescaling)     (None, 180, 180, 1)       0         \n",
            "                                                                 \n",
            " conv2d_3 (Conv2D)           (None, 178, 178, 32)      320       \n",
            "                                                                 \n",
            " max_pooling2d_3 (MaxPooling  (None, 89, 89, 32)       0         \n",
            " 2D)                                                             \n",
            "                                                                 \n",
            " conv2d_4 (Conv2D)           (None, 89, 89, 32)        9248      \n",
            "                                                                 \n",
            " max_pooling2d_4 (MaxPooling  (None, 44, 44, 32)       0         \n",
            " 2D)                                                             \n",
            "                                                                 \n",
            " conv2d_5 (Conv2D)           (None, 44, 44, 32)        9248      \n",
            "                                                                 \n",
            " max_pooling2d_5 (MaxPooling  (None, 22, 22, 32)       0         \n",
            " 2D)                                                             \n",
            "                                                                 \n",
            " dropout (Dropout)           (None, 22, 22, 32)        0         \n",
            "                                                                 \n",
            " flatten_1 (Flatten)         (None, 15488)             0         \n",
            "                                                                 \n",
            " dense_11 (Dense)            (None, 128)               1982592   \n",
            "                                                                 \n",
            " batch_normalization_11 (Bat  (None, 128)              512       \n",
            " chNormalization)                                                \n",
            "                                                                 \n",
            " dense_12 (Dense)            (None, 128)               16512     \n",
            "                                                                 \n",
            " batch_normalization_12 (Bat  (None, 128)              512       \n",
            " chNormalization)                                                \n",
            "                                                                 \n",
            " dense_13 (Dense)            (None, 128)               16512     \n",
            "                                                                 \n",
            " batch_normalization_13 (Bat  (None, 128)              512       \n",
            " chNormalization)                                                \n",
            "                                                                 \n",
            " dense_14 (Dense)            (None, 128)               16512     \n",
            "                                                                 \n",
            " batch_normalization_14 (Bat  (None, 128)              512       \n",
            " chNormalization)                                                \n",
            "                                                                 \n",
            " dense_15 (Dense)            (None, 128)               16512     \n",
            "                                                                 \n",
            " batch_normalization_15 (Bat  (None, 128)              512       \n",
            " chNormalization)                                                \n",
            "                                                                 \n",
            " dense_16 (Dense)            (None, 128)               16512     \n",
            "                                                                 \n",
            " batch_normalization_16 (Bat  (None, 128)              512       \n",
            " chNormalization)                                                \n",
            "                                                                 \n",
            " dense_17 (Dense)            (None, 128)               16512     \n",
            "                                                                 \n",
            " batch_normalization_17 (Bat  (None, 128)              512       \n",
            " chNormalization)                                                \n",
            "                                                                 \n",
            " dense_18 (Dense)            (None, 128)               16512     \n",
            "                                                                 \n",
            " batch_normalization_18 (Bat  (None, 128)              512       \n",
            " chNormalization)                                                \n",
            "                                                                 \n",
            " dense_19 (Dense)            (None, 128)               16512     \n",
            "                                                                 \n",
            " batch_normalization_19 (Bat  (None, 128)              512       \n",
            " chNormalization)                                                \n",
            "                                                                 \n",
            " dense_20 (Dense)            (None, 107)               13803     \n",
            "                                                                 \n",
            " batch_normalization_20 (Bat  (None, 107)              428       \n",
            " chNormalization)                                                \n",
            "                                                                 \n",
            " dense_21 (Dense)            (None, 107)               11556     \n",
            "                                                                 \n",
            "=================================================================\n",
            "Total params: 2,163,899\n",
            "Trainable params: 2,161,381\n",
            "Non-trainable params: 2,518\n",
            "_________________________________________________________________\n"
          ]
        }
      ]
    },
    {
      "cell_type": "code",
      "metadata": {
        "id": "df30HUqFjWre"
      },
      "source": [
        ""
      ],
      "execution_count": null,
      "outputs": []
    }
  ]
}