{
  "nbformat": 4,
  "nbformat_minor": 0,
  "metadata": {
    "colab": {
      "name": "3Class_Genus_BatchNormal_Input_dim_Layer_1.ipynb",
      "provenance": [],
      "collapsed_sections": [],
      "mount_file_id": "1R55l7GtNXVwMgGi1_TpCeEU8a0wGR7xv",
      "authorship_tag": "ABX9TyMBBWq+PSoSmPrIOH7msq9+",
      "include_colab_link": true
    },
    "kernelspec": {
      "name": "python3",
      "display_name": "Python 3"
    },
    "language_info": {
      "name": "python"
    },
    "accelerator": "GPU"
  },
  "cells": [
    {
      "cell_type": "markdown",
      "metadata": {
        "id": "view-in-github",
        "colab_type": "text"
      },
      "source": [
        "<a href=\"https://colab.research.google.com/github/Tajyu/Master_Degree_Paper/blob/main/Code/Filter_32/Input_dim/3Class_Genus_BatchNormal_Input_dim_Layer_1.ipynb\" target=\"_parent\"><img src=\"https://colab.research.google.com/assets/colab-badge.svg\" alt=\"Open In Colab\"/></a>"
      ]
    },
    {
      "cell_type": "code",
      "metadata": {
        "id": "yWckd06_68Em"
      },
      "source": [
        "import tensorflow as tf\n",
        "from tensorflow.keras import datasets, layers, models\n",
        "from keras.preprocessing.image import ImageDataGenerator\n",
        "import numpy as np\n",
        "import matplotlib.pyplot as plt\n",
        "import cv2 as cv\n",
        "import os\n",
        "import pathlib\n",
        "import PIL\n",
        "from tensorflow import keras\n",
        "from tensorflow.keras import layers\n",
        "from tensorflow.keras.models import Sequential\n",
        "from tensorflow.keras.layers import Dense, Flatten, BatchNormalization, Dropout"
      ],
      "execution_count": null,
      "outputs": []
    },
    {
      "cell_type": "code",
      "metadata": {
        "colab": {
          "base_uri": "https://localhost:8080/"
        },
        "id": "kEHojDfIYAxL",
        "outputId": "371ddf37-3d0b-4f95-b378-4aaf659fc71b"
      },
      "source": [
        "from google.colab import drive\n",
        "drive.mount('/content/drive')"
      ],
      "execution_count": null,
      "outputs": [
        {
          "output_type": "stream",
          "name": "stdout",
          "text": [
            "Drive already mounted at /content/drive; to attempt to forcibly remount, call drive.mount(\"/content/drive\", force_remount=True).\n"
          ]
        }
      ]
    },
    {
      "cell_type": "code",
      "metadata": {
        "id": "xav9zirHttk_"
      },
      "source": [
        "image_list = os.listdir('/content/drive/MyDrive/Colab Notebooks/Final_Project/Cell_Genus')"
      ],
      "execution_count": null,
      "outputs": []
    },
    {
      "cell_type": "code",
      "metadata": {
        "colab": {
          "base_uri": "https://localhost:8080/"
        },
        "id": "K-wD0dM5tx_E",
        "outputId": "da25232a-ffdb-4901-e36b-84176f20a26d"
      },
      "source": [
        "print(image_list)"
      ],
      "execution_count": null,
      "outputs": [
        {
          "output_type": "stream",
          "name": "stdout",
          "text": [
            "['10_Genus_Stauroneis_Ehrenberg', '10_Genus_Staurosira_Ehrenberg', '11_Genus_Craspedostauros_E.J_Cox_1999', '11_Genus_Staurosirella_Williams_and_Round', '12_Genus_Caloneis_Cleve_1894', '12_Genus_Synedra_Ehrenberg', '13_Genus_Pinnularia_Ehrenberg_1843', '1_Genus_Acanthoceras_Honigmann', '1_Genus_Achnanthes_Bory', '1_Genus_Actinocyclus_Ehrenberg', '1_Genus_Aphanocapsa_Nageli_1849', '1_Genus_Asterionella_Hassall', '1_Genus_Aulacoseira', '1_Genus_Biremis_Mann_et_Cox_in_Round_Crawford_and_Mann', '1_Genus_Characium_A_Braun_in_Kutzing_1849', '1_Genus_Chroococcus_Nageli', '1_Genus_Closterium_Nitzsch_ex_Ralfs_1848', '1_Genus_Coelastrum_Nageli_1849', '1_Genus_Cylindrocystis_Meneghini_ex_de_Bary_1858', '1_Genus_Dictyosphaerium_Nageli_1849', '1_Genus_Docidium_Brebisson_ex_Ralfs_1848', '1_Genus_Eunotia_Ehrenberg', '1_Genus_Geitlerinema_(Anagnostidis_et_Komarek)_Anagnostidis_1989', '1_Genus_Gonatozygon_de_Bary_1856', '1_Genus_Hydrodictyon_Roth_1797', '1_Genus_Hydrosera_whampoensis', '1_Genus_Jaaginema_Anagnostidis_et_Komarek_1988', '1_Genus_Lyngbya_C_Agardh_ex_Gomont_1892', '1_Genus_Melosira_Agardh', '1_Genus_Micractinium_Fresenius_1858', '1_Genus_Micrasterias_Ralfs_1848', '1_Genus_Microcystis_Kutzing_ex_Lemmermann_1907', '1_Genus_Oscillatoria_Vaucher_ex_Gomont_1982', '1_Genus_Pediastrum_Meyen_1829', '1_Genus_Penium_Brebisson_ex_Ralfs_in_Ralfs_1848', '1_Genus_Phormidium_Kutzing_ex_Gomont_1892', '1_Genus_Planktothrix_Anagnostidis_et_Komarek_1988', '1_Genus_Pleurosira_laevis_(Ehrenberg)', '1_Genus_Rhizosolenia_Ehrenberg', '1_Genus_Schizochlamydella_Korshikov_1953', '1_Genus_Staurodesmus_Teiling_1848', '1_Genus_Trochiscia_Kutzing_1834', '1_Scenedesmus_Hegewald_1978', '2_Acutodesmus_Hegewald_1978', '2_Genus_Achnanthidium_Kutzing', '2_Genus_Actinastrum_Lagerheim_1882', '2_Genus_Actinella_Lewis', '2_Genus_Ankyra_Fott_1957', '2_Genus_Caloneis_Cleve', '2_Genus_Chaetoceros_Ehrenberg', '2_Genus_Coenochloris_Korshikov_1953', '2_Genus_Cyclotella', '2_Genus_Diatoma_Bory', '2_Genus_Dimorphococcus_A_Braun_1855', '2_Genus_Golenkinia_Chodat_1894', '2_Genus_Haplotaenium_Bando_1988', '2_Genus_Leibleinia_(Gomont)_L_Hoffman_1985', '2_Genus_Leptolyngbya_Anagnostidis_et_Komarek_1988', '2_Genus_Merismopedia_Meyen_1839', '2_Genus_Netrium_(Nageli)_Itzigsohn_et_Rothe_in_Rabenhorst_1856', '2_Genus_Orthoseira_Thwaites_1848', '2_Genus_Phormidium_Kutzing_ex_Gomont_1892', '2_Genus_Sorastrum_Kutzing_1845', '2_Genus_Staurastrum_Meyen_ex_Ralfs_1848', '3_Desmodesmus_Chodat_1926', '3_Genus_Acanthosphaera_Lemmerman_1899', '3_Genus_Anorthoneis_Grunow', '3_Genus_Cyclostephanos_Round', '3_Genus_Dichotomococcus_Korshikov_1928', '3_Genus_Heteroleibleinia_(Geitler)_L_Hoffmann_1985', '3_Genus_Limnothrix_Meffert_1988', '3_Genus_Meridion_Agardh', '3_Genus_Paradoxia_Svirenko_1928', '3_Genus_Peronia_Bebisson_and_Arnott_ex_Kitton', '3_Genus_Phormidiochaete_Komarek_in_Anagnostidis_2001', '3_Genus_Pinnularia_Ehrenberg_1', '3_Genus_Pleurotaenium_Nageli_1849', '3_Genus_Radiococcus_Schmidle_1902', '3_Genus_Snowella_Elenkin_1938', '3_Genus_Spirotaenia_Brebisson_in_Ralfs_1848', '4_Genus_Botryococcus_Kutzing_1849', '4_Genus_Cocconeis_Ehrenberg', '4_Genus_Eutetramorus_Walton_1918', '4_Genus_Leptolyngbya_Anagnostidis_et_Komarek_1988', '4_Genus_Opephora_Petit', '4_Genus_Pinnularia_Ehrenberg_2', '4_Genus_Schroederia_Lemmermann_1898', '4_Genus_Stephanodiscus_Ehrenberg', '4_Genus_Synechocystis_Sauvageau_1892', '4_Genus_Tortitaenia_A_J_Brook_1998', '5_Genus_Caloneis_Cleve', '5_Genus_Coenocystis_Korshikov_1953', '5_Genus_Planktolyngbya_Anagnostidis_et_Komarek_1988', '5_Genus_Tabellaria_Ehrenberg', '5_Genus_Thalassiosira_Cleve', '5_Genus_Woronichinia_Elenkin_1933', '6_Genus_Anomoeoneis_Pfitzer', '6_Genus_Fragilaria_Lyngbye', '6_Genus_Gloeocystis_Nageli_1849', '6_Genus_Pseudanabaena_Lauterborn_1915', '6_Genus_Skeletonema_Greville', '7_Genus_Caloneis_Cleve', '7_Genus_Hannaea_Patrick', '8_Genus_Diploneis(Ehrenberg)_Cleve', '8_Genus_Pseudostaurosira_Williams_and_Round', '9_Genus_Neidium_Pfitzer', '9_Genus_Punctastriata_Williams_and_Round']\n"
          ]
        }
      ]
    },
    {
      "cell_type": "code",
      "metadata": {
        "id": "o-0DvzEHt8VE"
      },
      "source": [
        "data_generator = ImageDataGenerator(rescale = 1./255)\n",
        "\n",
        "data_dir = \"/content/drive/MyDrive/Colab Notebooks/Final_Project/Cell_Genus\""
      ],
      "execution_count": null,
      "outputs": []
    },
    {
      "cell_type": "code",
      "metadata": {
        "id": "7aTCfEm3t10n"
      },
      "source": [
        "batch_size = 32\n",
        "img_height = 180\n",
        "img_width = 180"
      ],
      "execution_count": null,
      "outputs": []
    },
    {
      "cell_type": "code",
      "metadata": {
        "colab": {
          "base_uri": "https://localhost:8080/"
        },
        "id": "9Smg-miEt22s",
        "outputId": "8771c9b6-7b3a-4c46-f864-ccfe8c5eac1b"
      },
      "source": [
        "train_ds = tf.keras.preprocessing.image_dataset_from_directory(\n",
        "  data_dir,\n",
        "  color_mode = \"grayscale\",\n",
        "  validation_split=0.2,\n",
        "  subset=\"training\",\n",
        "  seed=123,\n",
        "  image_size=(img_height, img_width),\n",
        "  batch_size=batch_size)"
      ],
      "execution_count": null,
      "outputs": [
        {
          "output_type": "stream",
          "name": "stdout",
          "text": [
            "Found 6226 files belonging to 107 classes.\n",
            "Using 4981 files for training.\n"
          ]
        }
      ]
    },
    {
      "cell_type": "code",
      "metadata": {
        "colab": {
          "base_uri": "https://localhost:8080/"
        },
        "id": "1nR0WdQGt44x",
        "outputId": "9e5a376b-1556-4814-eb9b-a74846087293"
      },
      "source": [
        "val_ds = tf.keras.preprocessing.image_dataset_from_directory(\n",
        "  data_dir,\n",
        "  color_mode = \"grayscale\",\n",
        "  validation_split=0.2,\n",
        "  subset=\"validation\",\n",
        "  seed=123,\n",
        "  image_size=(img_height, img_width),\n",
        "  batch_size=batch_size)"
      ],
      "execution_count": null,
      "outputs": [
        {
          "output_type": "stream",
          "name": "stdout",
          "text": [
            "Found 6226 files belonging to 107 classes.\n",
            "Using 1245 files for validation.\n"
          ]
        }
      ]
    },
    {
      "cell_type": "code",
      "metadata": {
        "colab": {
          "base_uri": "https://localhost:8080/"
        },
        "id": "F-cz_CtGug8Y",
        "outputId": "08e404c3-3ed5-4caf-a09b-6a2556c31236"
      },
      "source": [
        "class_names = train_ds.class_names\n",
        "print(class_names)"
      ],
      "execution_count": null,
      "outputs": [
        {
          "output_type": "stream",
          "name": "stdout",
          "text": [
            "['10_Genus_Stauroneis_Ehrenberg', '10_Genus_Staurosira_Ehrenberg', '11_Genus_Craspedostauros_E.J_Cox_1999', '11_Genus_Staurosirella_Williams_and_Round', '12_Genus_Caloneis_Cleve_1894', '12_Genus_Synedra_Ehrenberg', '13_Genus_Pinnularia_Ehrenberg_1843', '1_Genus_Acanthoceras_Honigmann', '1_Genus_Achnanthes_Bory', '1_Genus_Actinocyclus_Ehrenberg', '1_Genus_Aphanocapsa_Nageli_1849', '1_Genus_Asterionella_Hassall', '1_Genus_Aulacoseira', '1_Genus_Biremis_Mann_et_Cox_in_Round_Crawford_and_Mann', '1_Genus_Characium_A_Braun_in_Kutzing_1849', '1_Genus_Chroococcus_Nageli', '1_Genus_Closterium_Nitzsch_ex_Ralfs_1848', '1_Genus_Coelastrum_Nageli_1849', '1_Genus_Cylindrocystis_Meneghini_ex_de_Bary_1858', '1_Genus_Dictyosphaerium_Nageli_1849', '1_Genus_Docidium_Brebisson_ex_Ralfs_1848', '1_Genus_Eunotia_Ehrenberg', '1_Genus_Geitlerinema_(Anagnostidis_et_Komarek)_Anagnostidis_1989', '1_Genus_Gonatozygon_de_Bary_1856', '1_Genus_Hydrodictyon_Roth_1797', '1_Genus_Hydrosera_whampoensis', '1_Genus_Jaaginema_Anagnostidis_et_Komarek_1988', '1_Genus_Lyngbya_C_Agardh_ex_Gomont_1892', '1_Genus_Melosira_Agardh', '1_Genus_Micractinium_Fresenius_1858', '1_Genus_Micrasterias_Ralfs_1848', '1_Genus_Microcystis_Kutzing_ex_Lemmermann_1907', '1_Genus_Oscillatoria_Vaucher_ex_Gomont_1982', '1_Genus_Pediastrum_Meyen_1829', '1_Genus_Penium_Brebisson_ex_Ralfs_in_Ralfs_1848', '1_Genus_Phormidium_Kutzing_ex_Gomont_1892', '1_Genus_Planktothrix_Anagnostidis_et_Komarek_1988', '1_Genus_Pleurosira_laevis_(Ehrenberg)', '1_Genus_Rhizosolenia_Ehrenberg', '1_Genus_Schizochlamydella_Korshikov_1953', '1_Genus_Staurodesmus_Teiling_1848', '1_Genus_Trochiscia_Kutzing_1834', '1_Scenedesmus_Hegewald_1978', '2_Acutodesmus_Hegewald_1978', '2_Genus_Achnanthidium_Kutzing', '2_Genus_Actinastrum_Lagerheim_1882', '2_Genus_Actinella_Lewis', '2_Genus_Ankyra_Fott_1957', '2_Genus_Caloneis_Cleve', '2_Genus_Chaetoceros_Ehrenberg', '2_Genus_Coenochloris_Korshikov_1953', '2_Genus_Cyclotella', '2_Genus_Diatoma_Bory', '2_Genus_Dimorphococcus_A_Braun_1855', '2_Genus_Golenkinia_Chodat_1894', '2_Genus_Haplotaenium_Bando_1988', '2_Genus_Leibleinia_(Gomont)_L_Hoffman_1985', '2_Genus_Leptolyngbya_Anagnostidis_et_Komarek_1988', '2_Genus_Merismopedia_Meyen_1839', '2_Genus_Netrium_(Nageli)_Itzigsohn_et_Rothe_in_Rabenhorst_1856', '2_Genus_Orthoseira_Thwaites_1848', '2_Genus_Phormidium_Kutzing_ex_Gomont_1892', '2_Genus_Sorastrum_Kutzing_1845', '2_Genus_Staurastrum_Meyen_ex_Ralfs_1848', '3_Desmodesmus_Chodat_1926', '3_Genus_Acanthosphaera_Lemmerman_1899', '3_Genus_Anorthoneis_Grunow', '3_Genus_Cyclostephanos_Round', '3_Genus_Dichotomococcus_Korshikov_1928', '3_Genus_Heteroleibleinia_(Geitler)_L_Hoffmann_1985', '3_Genus_Limnothrix_Meffert_1988', '3_Genus_Meridion_Agardh', '3_Genus_Paradoxia_Svirenko_1928', '3_Genus_Peronia_Bebisson_and_Arnott_ex_Kitton', '3_Genus_Phormidiochaete_Komarek_in_Anagnostidis_2001', '3_Genus_Pinnularia_Ehrenberg_1', '3_Genus_Pleurotaenium_Nageli_1849', '3_Genus_Radiococcus_Schmidle_1902', '3_Genus_Snowella_Elenkin_1938', '3_Genus_Spirotaenia_Brebisson_in_Ralfs_1848', '4_Genus_Botryococcus_Kutzing_1849', '4_Genus_Cocconeis_Ehrenberg', '4_Genus_Eutetramorus_Walton_1918', '4_Genus_Leptolyngbya_Anagnostidis_et_Komarek_1988', '4_Genus_Opephora_Petit', '4_Genus_Pinnularia_Ehrenberg_2', '4_Genus_Schroederia_Lemmermann_1898', '4_Genus_Stephanodiscus_Ehrenberg', '4_Genus_Synechocystis_Sauvageau_1892', '4_Genus_Tortitaenia_A_J_Brook_1998', '5_Genus_Caloneis_Cleve', '5_Genus_Coenocystis_Korshikov_1953', '5_Genus_Planktolyngbya_Anagnostidis_et_Komarek_1988', '5_Genus_Tabellaria_Ehrenberg', '5_Genus_Thalassiosira_Cleve', '5_Genus_Woronichinia_Elenkin_1933', '6_Genus_Anomoeoneis_Pfitzer', '6_Genus_Fragilaria_Lyngbye', '6_Genus_Gloeocystis_Nageli_1849', '6_Genus_Pseudanabaena_Lauterborn_1915', '6_Genus_Skeletonema_Greville', '7_Genus_Caloneis_Cleve', '7_Genus_Hannaea_Patrick', '8_Genus_Diploneis(Ehrenberg)_Cleve', '8_Genus_Pseudostaurosira_Williams_and_Round', '9_Genus_Neidium_Pfitzer', '9_Genus_Punctastriata_Williams_and_Round']\n"
          ]
        }
      ]
    },
    {
      "cell_type": "code",
      "metadata": {
        "colab": {
          "base_uri": "https://localhost:8080/"
        },
        "id": "5EQOikPAukic",
        "outputId": "065a8997-6401-4f4b-c892-ef6e8a26c4c4"
      },
      "source": [
        "for image_batch, labels_batch in train_ds:\n",
        "  print(image_batch.shape)\n",
        "  print(labels_batch.shape)\n",
        "  break"
      ],
      "execution_count": null,
      "outputs": [
        {
          "output_type": "stream",
          "name": "stdout",
          "text": [
            "(32, 180, 180, 1)\n",
            "(32,)\n"
          ]
        }
      ]
    },
    {
      "cell_type": "code",
      "metadata": {
        "id": "9eVl7tiDux9q"
      },
      "source": [
        "from tensorflow.keras import layers\n",
        "\n",
        "normalization_layer = tf.keras.layers.experimental.preprocessing.Rescaling(1./255)"
      ],
      "execution_count": null,
      "outputs": []
    },
    {
      "cell_type": "code",
      "metadata": {
        "colab": {
          "base_uri": "https://localhost:8080/"
        },
        "id": "AiIrsxzZuzEo",
        "outputId": "5f482e69-9661-424c-eb5b-e7f81bc314fb"
      },
      "source": [
        "normalized_ds = train_ds.map(lambda x, y: (normalization_layer(x), y))\n",
        "image_batch, labels_batch = next(iter(normalized_ds))\n",
        "first_image = image_batch[0]\n",
        "# Notice the pixels values are now in `[0,1]`.\n",
        "print(np.min(first_image), np.max(first_image))"
      ],
      "execution_count": null,
      "outputs": [
        {
          "output_type": "stream",
          "name": "stdout",
          "text": [
            "0.0 1.0\n"
          ]
        }
      ]
    },
    {
      "cell_type": "code",
      "metadata": {
        "id": "__WbVabru0Bp"
      },
      "source": [
        "AUTOTUNE = tf.data.experimental.AUTOTUNE\n",
        "\n",
        "train_ds = train_ds.cache().prefetch(buffer_size=AUTOTUNE)\n",
        "val_ds = val_ds.cache().prefetch(buffer_size=AUTOTUNE)"
      ],
      "execution_count": null,
      "outputs": []
    },
    {
      "cell_type": "code",
      "metadata": {
        "id": "g1GeYFXCu2gV"
      },
      "source": [
        "num_classes = 107\n",
        "model = tf.keras.Sequential([\n",
        "    layers.experimental.preprocessing.Rescaling(1./255),\n",
        "    layers.Conv2D(32, 3,input_shape = image_batch, activation='relu'),\n",
        "    layers.MaxPooling2D(),\n",
        "    layers.Conv2D(32, 3, activation='relu'),\n",
        "    layers.MaxPooling2D(),\n",
        "    layers.Conv2D(32, 3, activation='relu'),\n",
        "    layers.MaxPooling2D(),\n",
        "    layers.Flatten(),\n",
        "    BatchNormalization(),\n",
        "    layers.Dense(107, input_dim = 107, activation='softmax'),\n",
        "    BatchNormalization(),\n",
        "    layers.Dense(num_classes)\n",
        "    ])"
      ],
      "execution_count": null,
      "outputs": []
    },
    {
      "cell_type": "code",
      "metadata": {
        "id": "wU4xPAvNYWry"
      },
      "source": [
        "model.compile(\n",
        "    optimizer='adam',\n",
        "    loss=tf.losses.SparseCategoricalCrossentropy(from_logits=True),\n",
        "    metrics=['accuracy'])"
      ],
      "execution_count": null,
      "outputs": []
    },
    {
      "cell_type": "code",
      "metadata": {
        "colab": {
          "base_uri": "https://localhost:8080/"
        },
        "id": "Tk8ssrbHu44p",
        "outputId": "be537b37-2f78-4b97-88df-05a563dbcf0d"
      },
      "source": [
        "epochs=50\n",
        "history = model.fit(\n",
        "  train_ds,\n",
        "  validation_data=val_ds,\n",
        "  epochs=epochs\n",
        ")"
      ],
      "execution_count": null,
      "outputs": [
        {
          "output_type": "stream",
          "name": "stdout",
          "text": [
            "Epoch 1/50\n",
            "156/156 [==============================] - 944s 6s/step - loss: 3.2117 - accuracy: 0.3327 - val_loss: 4.2862 - val_accuracy: 0.0980\n",
            "Epoch 2/50\n",
            "156/156 [==============================] - 2s 16ms/step - loss: 1.8356 - accuracy: 0.5599 - val_loss: 3.9481 - val_accuracy: 0.1124\n",
            "Epoch 3/50\n",
            "156/156 [==============================] - 2s 16ms/step - loss: 1.1611 - accuracy: 0.7446 - val_loss: 3.4708 - val_accuracy: 0.3100\n",
            "Epoch 4/50\n",
            "156/156 [==============================] - 3s 16ms/step - loss: 0.7623 - accuracy: 0.8450 - val_loss: 2.7905 - val_accuracy: 0.3622\n",
            "Epoch 5/50\n",
            "156/156 [==============================] - 2s 16ms/step - loss: 0.5160 - accuracy: 0.9034 - val_loss: 2.1550 - val_accuracy: 0.4586\n",
            "Epoch 6/50\n",
            "156/156 [==============================] - 2s 16ms/step - loss: 0.3453 - accuracy: 0.9430 - val_loss: 2.2404 - val_accuracy: 0.4602\n",
            "Epoch 7/50\n",
            "156/156 [==============================] - 3s 16ms/step - loss: 0.2457 - accuracy: 0.9609 - val_loss: 2.3281 - val_accuracy: 0.4602\n",
            "Epoch 8/50\n",
            "156/156 [==============================] - 3s 16ms/step - loss: 0.1735 - accuracy: 0.9723 - val_loss: 2.1098 - val_accuracy: 0.5028\n",
            "Epoch 9/50\n",
            "156/156 [==============================] - 2s 16ms/step - loss: 0.1312 - accuracy: 0.9785 - val_loss: 2.1763 - val_accuracy: 0.4964\n",
            "Epoch 10/50\n",
            "156/156 [==============================] - 3s 16ms/step - loss: 0.1040 - accuracy: 0.9837 - val_loss: 2.2940 - val_accuracy: 0.5084\n",
            "Epoch 11/50\n",
            "156/156 [==============================] - 3s 16ms/step - loss: 0.0812 - accuracy: 0.9865 - val_loss: 2.3190 - val_accuracy: 0.4908\n",
            "Epoch 12/50\n",
            "156/156 [==============================] - 3s 16ms/step - loss: 0.0654 - accuracy: 0.9865 - val_loss: 2.2742 - val_accuracy: 0.4964\n",
            "Epoch 13/50\n",
            "156/156 [==============================] - 3s 16ms/step - loss: 0.0581 - accuracy: 0.9888 - val_loss: 2.3175 - val_accuracy: 0.5068\n",
            "Epoch 14/50\n",
            "156/156 [==============================] - 3s 16ms/step - loss: 0.0490 - accuracy: 0.9908 - val_loss: 2.3162 - val_accuracy: 0.4972\n",
            "Epoch 15/50\n",
            "156/156 [==============================] - 3s 16ms/step - loss: 0.0423 - accuracy: 0.9918 - val_loss: 2.5179 - val_accuracy: 0.4667\n",
            "Epoch 16/50\n",
            "156/156 [==============================] - 3s 16ms/step - loss: 0.0441 - accuracy: 0.9910 - val_loss: 2.6573 - val_accuracy: 0.4386\n",
            "Epoch 17/50\n",
            "156/156 [==============================] - 3s 16ms/step - loss: 0.0419 - accuracy: 0.9930 - val_loss: 2.7446 - val_accuracy: 0.4683\n",
            "Epoch 18/50\n",
            "156/156 [==============================] - 3s 16ms/step - loss: 0.0486 - accuracy: 0.9914 - val_loss: 3.0099 - val_accuracy: 0.4763\n",
            "Epoch 19/50\n",
            "156/156 [==============================] - 2s 16ms/step - loss: 0.0954 - accuracy: 0.9777 - val_loss: 4.1272 - val_accuracy: 0.3590\n",
            "Epoch 20/50\n",
            "156/156 [==============================] - 3s 16ms/step - loss: 0.1413 - accuracy: 0.9681 - val_loss: 4.1369 - val_accuracy: 0.3558\n",
            "Epoch 21/50\n",
            "156/156 [==============================] - 3s 16ms/step - loss: 0.1545 - accuracy: 0.9600 - val_loss: 3.5073 - val_accuracy: 0.4016\n",
            "Epoch 22/50\n",
            "156/156 [==============================] - 2s 16ms/step - loss: 0.1013 - accuracy: 0.9771 - val_loss: 2.8143 - val_accuracy: 0.4835\n",
            "Epoch 23/50\n",
            "156/156 [==============================] - 3s 16ms/step - loss: 0.0670 - accuracy: 0.9865 - val_loss: 2.8050 - val_accuracy: 0.4763\n",
            "Epoch 24/50\n",
            "156/156 [==============================] - 3s 16ms/step - loss: 0.0592 - accuracy: 0.9861 - val_loss: 3.2380 - val_accuracy: 0.4450\n",
            "Epoch 25/50\n",
            "156/156 [==============================] - 3s 16ms/step - loss: 0.0334 - accuracy: 0.9944 - val_loss: 3.0964 - val_accuracy: 0.4747\n",
            "Epoch 26/50\n",
            "156/156 [==============================] - 3s 16ms/step - loss: 0.0256 - accuracy: 0.9954 - val_loss: 2.8670 - val_accuracy: 0.4892\n",
            "Epoch 27/50\n",
            "156/156 [==============================] - 2s 16ms/step - loss: 0.0242 - accuracy: 0.9950 - val_loss: 3.2838 - val_accuracy: 0.4731\n",
            "Epoch 28/50\n",
            "156/156 [==============================] - 2s 16ms/step - loss: 0.0224 - accuracy: 0.9942 - val_loss: 3.3424 - val_accuracy: 0.4602\n",
            "Epoch 29/50\n",
            "156/156 [==============================] - 3s 16ms/step - loss: 0.0162 - accuracy: 0.9970 - val_loss: 2.9832 - val_accuracy: 0.4948\n",
            "Epoch 30/50\n",
            "156/156 [==============================] - 2s 16ms/step - loss: 0.0158 - accuracy: 0.9976 - val_loss: 3.0009 - val_accuracy: 0.5004\n",
            "Epoch 31/50\n",
            "156/156 [==============================] - 3s 16ms/step - loss: 0.0123 - accuracy: 0.9984 - val_loss: 2.8207 - val_accuracy: 0.5028\n",
            "Epoch 32/50\n",
            "156/156 [==============================] - 2s 16ms/step - loss: 0.0104 - accuracy: 0.9986 - val_loss: 2.9269 - val_accuracy: 0.5092\n",
            "Epoch 33/50\n",
            "156/156 [==============================] - 2s 16ms/step - loss: 0.0095 - accuracy: 0.9984 - val_loss: 2.9961 - val_accuracy: 0.4795\n",
            "Epoch 34/50\n",
            "156/156 [==============================] - 2s 16ms/step - loss: 0.0070 - accuracy: 0.9992 - val_loss: 3.0439 - val_accuracy: 0.5141\n",
            "Epoch 35/50\n",
            "156/156 [==============================] - 3s 16ms/step - loss: 0.0065 - accuracy: 0.9992 - val_loss: 3.1890 - val_accuracy: 0.5052\n",
            "Epoch 36/50\n",
            "156/156 [==============================] - 2s 16ms/step - loss: 0.0043 - accuracy: 1.0000 - val_loss: 3.1311 - val_accuracy: 0.5141\n",
            "Epoch 37/50\n",
            "156/156 [==============================] - 2s 16ms/step - loss: 0.0042 - accuracy: 0.9996 - val_loss: 3.0235 - val_accuracy: 0.5133\n",
            "Epoch 38/50\n",
            "156/156 [==============================] - 3s 16ms/step - loss: 0.0033 - accuracy: 0.9998 - val_loss: 3.1256 - val_accuracy: 0.5100\n",
            "Epoch 39/50\n",
            "156/156 [==============================] - 3s 16ms/step - loss: 0.0025 - accuracy: 1.0000 - val_loss: 3.2403 - val_accuracy: 0.5060\n",
            "Epoch 40/50\n",
            "156/156 [==============================] - 2s 16ms/step - loss: 0.0024 - accuracy: 0.9998 - val_loss: 3.1257 - val_accuracy: 0.5060\n",
            "Epoch 41/50\n",
            "156/156 [==============================] - 3s 16ms/step - loss: 0.0021 - accuracy: 1.0000 - val_loss: 3.2357 - val_accuracy: 0.5133\n",
            "Epoch 42/50\n",
            "156/156 [==============================] - 3s 16ms/step - loss: 0.0031 - accuracy: 0.9998 - val_loss: 3.2197 - val_accuracy: 0.5133\n",
            "Epoch 43/50\n",
            "156/156 [==============================] - 2s 16ms/step - loss: 0.0039 - accuracy: 0.9996 - val_loss: 3.5034 - val_accuracy: 0.4924\n",
            "Epoch 44/50\n",
            "156/156 [==============================] - 3s 16ms/step - loss: 0.0106 - accuracy: 0.9974 - val_loss: 3.8810 - val_accuracy: 0.4321\n",
            "Epoch 45/50\n",
            "156/156 [==============================] - 2s 16ms/step - loss: 0.4378 - accuracy: 0.8868 - val_loss: 9.2540 - val_accuracy: 0.1767\n",
            "Epoch 46/50\n",
            "156/156 [==============================] - 2s 16ms/step - loss: 0.6351 - accuracy: 0.8209 - val_loss: 4.2282 - val_accuracy: 0.3791\n",
            "Epoch 47/50\n",
            "156/156 [==============================] - 2s 16ms/step - loss: 0.2026 - accuracy: 0.9440 - val_loss: 3.4206 - val_accuracy: 0.4305\n",
            "Epoch 48/50\n",
            "156/156 [==============================] - 3s 16ms/step - loss: 0.0648 - accuracy: 0.9867 - val_loss: 3.2180 - val_accuracy: 0.4490\n",
            "Epoch 49/50\n",
            "156/156 [==============================] - 3s 16ms/step - loss: 0.0231 - accuracy: 0.9976 - val_loss: 3.0278 - val_accuracy: 0.4827\n",
            "Epoch 50/50\n",
            "156/156 [==============================] - 2s 16ms/step - loss: 0.0120 - accuracy: 0.9996 - val_loss: 3.0375 - val_accuracy: 0.4859\n"
          ]
        }
      ]
    },
    {
      "cell_type": "code",
      "metadata": {
        "colab": {
          "base_uri": "https://localhost:8080/",
          "height": 499
        },
        "id": "f1z_vHocu59c",
        "outputId": "b185f293-0e4f-428d-ed31-de053a930196"
      },
      "source": [
        "acc = history.history['accuracy']\n",
        "val_acc = history.history['val_accuracy']\n",
        "\n",
        "loss=history.history['loss']\n",
        "val_loss=history.history['val_loss']\n",
        "\n",
        "epochs_range = range(epochs)\n",
        "\n",
        "plt.figure(figsize=(8, 8))\n",
        "plt.subplot(1, 2, 1)\n",
        "plt.plot(epochs_range, acc, label='Training Accuracy')\n",
        "plt.plot(epochs_range, val_acc, label='Validation Accuracy')\n",
        "plt.legend(loc='lower right')\n",
        "plt.title('Training and Validation Accuracy')\n",
        "\n",
        "plt.subplot(1, 2, 2)\n",
        "plt.plot(epochs_range, loss, label='Training Loss')\n",
        "plt.plot(epochs_range, val_loss, label='Validation Loss')\n",
        "plt.legend(loc='upper right')\n",
        "plt.title('Training and Validation Loss')\n",
        "plt.show()"
      ],
      "execution_count": null,
      "outputs": [
        {
          "output_type": "display_data",
          "data": {
            "image/png": "[encoded data removed]",
            "text/plain": [
              "<Figure size 576x576 with 2 Axes>"
            ]
          },
          "metadata": {
            "needs_background": "light"
          }
        }
      ]
    },
    {
      "cell_type": "code",
      "metadata": {
        "id": "XinJ6xXD9YNO"
      },
      "source": [
        "data_augmentation = keras.Sequential(\n",
        "  [\n",
        "    layers.experimental.preprocessing.RandomFlip(\"horizontal\", \n",
        "                                                 input_shape=(img_height, \n",
        "                                                              img_width,\n",
        "                                                              1)),\n",
        "    layers.experimental.preprocessing.RandomRotation(0.1),\n",
        "    layers.experimental.preprocessing.RandomZoom(0.1),\n",
        "  ]\n",
        ")"
      ],
      "execution_count": null,
      "outputs": []
    },
    {
      "cell_type": "code",
      "metadata": {
        "id": "8WT2BYElEYZj"
      },
      "source": [
        "model = Sequential([\n",
        "  data_augmentation,\n",
        "  layers.experimental.preprocessing.Rescaling(1./255),\n",
        "  layers.Conv2D(32, 3,input_shape = image_batch, activation='relu'),\n",
        "  layers.MaxPooling2D(),\n",
        "  layers.Conv2D(32, 3, padding='same', activation='relu'),\n",
        "  layers.MaxPooling2D(),\n",
        "  layers.Conv2D(32, 3, padding='same', activation='relu'),\n",
        "  layers.MaxPooling2D(),\n",
        "  layers.Dropout(0.2),\n",
        "  layers.Flatten(),\n",
        "  BatchNormalization(),\n",
        "  layers.Dense(107, input_dim = 107,activation='softmax'),\n",
        "  BatchNormalization(),\n",
        "  layers.Dense(num_classes)\n",
        "])"
      ],
      "execution_count": null,
      "outputs": []
    },
    {
      "cell_type": "code",
      "metadata": {
        "id": "opOHP3auEdsw",
        "colab": {
          "base_uri": "https://localhost:8080/"
        },
        "outputId": "4ff661d1-3f39-4052-c25e-556928df3fe4"
      },
      "source": [
        "BatchNormalization(),model.compile(\n",
        "    optimizer='adam',\n",
        "    loss=tf.losses.SparseCategoricalCrossentropy(from_logits=True),\n",
        "    metrics=['accuracy'])"
      ],
      "execution_count": null,
      "outputs": [
        {
          "output_type": "execute_result",
          "data": {
            "text/plain": [
              "(<keras.layers.normalization.batch_normalization.BatchNormalization at 0x7f2d3024c250>,\n",
              " None)"
            ]
          },
          "metadata": {},
          "execution_count": 20
        }
      ]
    },
    {
      "cell_type": "code",
      "metadata": {
        "colab": {
          "base_uri": "https://localhost:8080/"
        },
        "id": "3Ay4tlHlEfBX",
        "outputId": "710ab481-861d-4be9-de18-7cf952ad634a"
      },
      "source": [
        "model.summary()"
      ],
      "execution_count": null,
      "outputs": [
        {
          "output_type": "stream",
          "name": "stdout",
          "text": [
            "Model: \"sequential_2\"\n",
            "_________________________________________________________________\n",
            " Layer (type)                Output Shape              Param #   \n",
            "=================================================================\n",
            " sequential_1 (Sequential)   (None, 180, 180, 1)       0         \n",
            "                                                                 \n",
            " rescaling_2 (Rescaling)     (None, 180, 180, 1)       0         \n",
            "                                                                 \n",
            " conv2d_3 (Conv2D)           (None, 178, 178, 32)      320       \n",
            "                                                                 \n",
            " max_pooling2d_3 (MaxPooling  (None, 89, 89, 32)       0         \n",
            " 2D)                                                             \n",
            "                                                                 \n",
            " conv2d_4 (Conv2D)           (None, 89, 89, 32)        9248      \n",
            "                                                                 \n",
            " max_pooling2d_4 (MaxPooling  (None, 44, 44, 32)       0         \n",
            " 2D)                                                             \n",
            "                                                                 \n",
            " conv2d_5 (Conv2D)           (None, 44, 44, 32)        9248      \n",
            "                                                                 \n",
            " max_pooling2d_5 (MaxPooling  (None, 22, 22, 32)       0         \n",
            " 2D)                                                             \n",
            "                                                                 \n",
            " dropout (Dropout)           (None, 22, 22, 32)        0         \n",
            "                                                                 \n",
            " flatten_1 (Flatten)         (None, 15488)             0         \n",
            "                                                                 \n",
            " batch_normalization_2 (Batc  (None, 15488)            61952     \n",
            " hNormalization)                                                 \n",
            "                                                                 \n",
            " dense_2 (Dense)             (None, 107)               1657323   \n",
            "                                                                 \n",
            " batch_normalization_3 (Batc  (None, 107)              428       \n",
            " hNormalization)                                                 \n",
            "                                                                 \n",
            " dense_3 (Dense)             (None, 107)               11556     \n",
            "                                                                 \n",
            "=================================================================\n",
            "Total params: 1,750,075\n",
            "Trainable params: 1,718,885\n",
            "Non-trainable params: 31,190\n",
            "_________________________________________________________________\n"
          ]
        }
      ]
    },
    {
      "cell_type": "code",
      "metadata": {
        "colab": {
          "base_uri": "https://localhost:8080/"
        },
        "id": "Jc8rD_v9Ef41",
        "outputId": "30326365-eeee-4725-8718-5e510b289044"
      },
      "source": [
        "epochs = 50\n",
        "history = model.fit(\n",
        "  train_ds,\n",
        "  validation_data=val_ds,\n",
        "  epochs=epochs\n",
        ")"
      ],
      "execution_count": null,
      "outputs": [
        {
          "output_type": "stream",
          "name": "stdout",
          "text": [
            "Epoch 1/50\n",
            "156/156 [==============================] - 5s 21ms/step - loss: 3.6460 - accuracy: 0.2413 - val_loss: 4.1988 - val_accuracy: 0.0980\n",
            "Epoch 2/50\n",
            "156/156 [==============================] - 3s 19ms/step - loss: 2.6160 - accuracy: 0.3435 - val_loss: 3.8293 - val_accuracy: 0.1767\n",
            "Epoch 3/50\n",
            "156/156 [==============================] - 3s 19ms/step - loss: 2.2549 - accuracy: 0.4035 - val_loss: 3.1839 - val_accuracy: 0.3141\n",
            "Epoch 4/50\n",
            "156/156 [==============================] - 3s 19ms/step - loss: 2.0655 - accuracy: 0.4413 - val_loss: 2.4390 - val_accuracy: 0.3904\n",
            "Epoch 5/50\n",
            "156/156 [==============================] - 3s 19ms/step - loss: 1.9160 - accuracy: 0.4736 - val_loss: 2.3215 - val_accuracy: 0.4064\n",
            "Epoch 6/50\n",
            "156/156 [==============================] - 3s 19ms/step - loss: 1.8112 - accuracy: 0.4828 - val_loss: 2.3073 - val_accuracy: 0.4345\n",
            "Epoch 7/50\n",
            "156/156 [==============================] - 3s 19ms/step - loss: 1.7042 - accuracy: 0.5168 - val_loss: 2.6730 - val_accuracy: 0.3831\n",
            "Epoch 8/50\n",
            "156/156 [==============================] - 3s 19ms/step - loss: 1.6189 - accuracy: 0.5266 - val_loss: 2.6387 - val_accuracy: 0.4072\n",
            "Epoch 9/50\n",
            "156/156 [==============================] - 3s 19ms/step - loss: 1.5829 - accuracy: 0.5264 - val_loss: 2.5251 - val_accuracy: 0.4169\n",
            "Epoch 10/50\n",
            "156/156 [==============================] - 3s 19ms/step - loss: 1.4888 - accuracy: 0.5559 - val_loss: 2.7781 - val_accuracy: 0.3791\n",
            "Epoch 11/50\n",
            "156/156 [==============================] - 3s 19ms/step - loss: 1.4250 - accuracy: 0.5712 - val_loss: 2.6765 - val_accuracy: 0.3912\n",
            "Epoch 12/50\n",
            "156/156 [==============================] - 3s 19ms/step - loss: 1.3840 - accuracy: 0.5848 - val_loss: 2.4388 - val_accuracy: 0.4137\n",
            "Epoch 13/50\n",
            "156/156 [==============================] - 3s 19ms/step - loss: 1.3329 - accuracy: 0.5937 - val_loss: 2.4230 - val_accuracy: 0.4273\n",
            "Epoch 14/50\n",
            "156/156 [==============================] - 3s 19ms/step - loss: 1.2787 - accuracy: 0.6157 - val_loss: 2.4397 - val_accuracy: 0.4281\n",
            "Epoch 15/50\n",
            "156/156 [==============================] - 3s 18ms/step - loss: 1.2572 - accuracy: 0.6075 - val_loss: 3.0836 - val_accuracy: 0.3719\n",
            "Epoch 16/50\n",
            "156/156 [==============================] - 3s 19ms/step - loss: 1.1942 - accuracy: 0.6420 - val_loss: 2.4259 - val_accuracy: 0.4329\n",
            "Epoch 17/50\n",
            "156/156 [==============================] - 3s 19ms/step - loss: 1.1762 - accuracy: 0.6372 - val_loss: 2.5048 - val_accuracy: 0.4305\n",
            "Epoch 18/50\n",
            "156/156 [==============================] - 3s 19ms/step - loss: 1.1459 - accuracy: 0.6469 - val_loss: 2.3791 - val_accuracy: 0.4466\n",
            "Epoch 19/50\n",
            "156/156 [==============================] - 3s 19ms/step - loss: 1.1411 - accuracy: 0.6436 - val_loss: 2.6479 - val_accuracy: 0.4369\n",
            "Epoch 20/50\n",
            "156/156 [==============================] - 3s 18ms/step - loss: 1.1169 - accuracy: 0.6479 - val_loss: 2.8821 - val_accuracy: 0.4193\n",
            "Epoch 21/50\n",
            "156/156 [==============================] - 3s 19ms/step - loss: 1.0793 - accuracy: 0.6581 - val_loss: 3.0518 - val_accuracy: 0.3984\n",
            "Epoch 22/50\n",
            "156/156 [==============================] - 3s 19ms/step - loss: 1.0215 - accuracy: 0.6816 - val_loss: 2.9729 - val_accuracy: 0.4072\n",
            "Epoch 23/50\n",
            "156/156 [==============================] - 3s 19ms/step - loss: 1.0370 - accuracy: 0.6673 - val_loss: 2.5238 - val_accuracy: 0.4618\n",
            "Epoch 24/50\n",
            "156/156 [==============================] - 3s 19ms/step - loss: 1.0058 - accuracy: 0.6812 - val_loss: 2.8034 - val_accuracy: 0.4458\n",
            "Epoch 25/50\n",
            "156/156 [==============================] - 3s 19ms/step - loss: 0.9696 - accuracy: 0.6946 - val_loss: 2.5593 - val_accuracy: 0.4691\n",
            "Epoch 26/50\n",
            "156/156 [==============================] - 3s 19ms/step - loss: 0.9699 - accuracy: 0.6950 - val_loss: 2.7224 - val_accuracy: 0.4659\n",
            "Epoch 27/50\n",
            "156/156 [==============================] - 3s 19ms/step - loss: 0.9350 - accuracy: 0.7061 - val_loss: 2.5823 - val_accuracy: 0.4651\n",
            "Epoch 28/50\n",
            "156/156 [==============================] - 3s 19ms/step - loss: 0.9083 - accuracy: 0.7071 - val_loss: 2.8228 - val_accuracy: 0.4522\n",
            "Epoch 29/50\n",
            "156/156 [==============================] - 3s 19ms/step - loss: 0.9010 - accuracy: 0.7117 - val_loss: 2.3718 - val_accuracy: 0.4908\n",
            "Epoch 30/50\n",
            "156/156 [==============================] - 3s 19ms/step - loss: 0.8754 - accuracy: 0.7175 - val_loss: 3.0320 - val_accuracy: 0.4305\n",
            "Epoch 31/50\n",
            "156/156 [==============================] - 3s 19ms/step - loss: 0.8945 - accuracy: 0.7115 - val_loss: 3.0388 - val_accuracy: 0.4313\n",
            "Epoch 32/50\n",
            "156/156 [==============================] - 3s 19ms/step - loss: 0.8768 - accuracy: 0.7175 - val_loss: 2.7117 - val_accuracy: 0.4707\n",
            "Epoch 33/50\n",
            "156/156 [==============================] - 3s 19ms/step - loss: 0.8762 - accuracy: 0.7163 - val_loss: 3.0837 - val_accuracy: 0.4289\n",
            "Epoch 34/50\n",
            "156/156 [==============================] - 3s 19ms/step - loss: 0.8157 - accuracy: 0.7336 - val_loss: 2.8552 - val_accuracy: 0.4434\n",
            "Epoch 35/50\n",
            "156/156 [==============================] - 3s 19ms/step - loss: 0.8021 - accuracy: 0.7440 - val_loss: 2.7732 - val_accuracy: 0.4474\n",
            "Epoch 36/50\n",
            "156/156 [==============================] - 3s 19ms/step - loss: 0.8196 - accuracy: 0.7396 - val_loss: 3.3400 - val_accuracy: 0.4000\n",
            "Epoch 37/50\n",
            "156/156 [==============================] - 3s 19ms/step - loss: 0.7838 - accuracy: 0.7394 - val_loss: 2.9753 - val_accuracy: 0.4305\n",
            "Epoch 38/50\n",
            "156/156 [==============================] - 3s 19ms/step - loss: 0.7863 - accuracy: 0.7478 - val_loss: 3.5159 - val_accuracy: 0.4161\n",
            "Epoch 39/50\n",
            "156/156 [==============================] - 3s 19ms/step - loss: 0.7813 - accuracy: 0.7535 - val_loss: 3.2507 - val_accuracy: 0.4129\n",
            "Epoch 40/50\n",
            "156/156 [==============================] - 3s 19ms/step - loss: 0.7455 - accuracy: 0.7593 - val_loss: 2.6398 - val_accuracy: 0.5052\n",
            "Epoch 41/50\n",
            "156/156 [==============================] - 3s 19ms/step - loss: 0.7358 - accuracy: 0.7643 - val_loss: 2.9005 - val_accuracy: 0.4474\n",
            "Epoch 42/50\n",
            "156/156 [==============================] - 3s 19ms/step - loss: 0.7174 - accuracy: 0.7675 - val_loss: 2.7480 - val_accuracy: 0.4739\n",
            "Epoch 43/50\n",
            "156/156 [==============================] - 3s 19ms/step - loss: 0.7004 - accuracy: 0.7782 - val_loss: 2.9070 - val_accuracy: 0.4562\n",
            "Epoch 44/50\n",
            "156/156 [==============================] - 3s 19ms/step - loss: 0.7098 - accuracy: 0.7733 - val_loss: 3.5488 - val_accuracy: 0.3719\n",
            "Epoch 45/50\n",
            "156/156 [==============================] - 3s 19ms/step - loss: 0.7258 - accuracy: 0.7647 - val_loss: 2.7502 - val_accuracy: 0.4763\n",
            "Epoch 46/50\n",
            "156/156 [==============================] - 3s 19ms/step - loss: 0.6980 - accuracy: 0.7719 - val_loss: 3.2906 - val_accuracy: 0.4201\n",
            "Epoch 47/50\n",
            "156/156 [==============================] - 3s 19ms/step - loss: 0.6934 - accuracy: 0.7790 - val_loss: 3.3494 - val_accuracy: 0.3984\n",
            "Epoch 48/50\n",
            "156/156 [==============================] - 3s 19ms/step - loss: 0.6989 - accuracy: 0.7753 - val_loss: 3.3078 - val_accuracy: 0.4474\n",
            "Epoch 49/50\n",
            "156/156 [==============================] - 3s 19ms/step - loss: 0.7132 - accuracy: 0.7671 - val_loss: 3.3282 - val_accuracy: 0.4289\n",
            "Epoch 50/50\n",
            "156/156 [==============================] - 3s 19ms/step - loss: 0.6527 - accuracy: 0.7878 - val_loss: 3.3017 - val_accuracy: 0.4265\n"
          ]
        }
      ]
    },
    {
      "cell_type": "code",
      "metadata": {
        "colab": {
          "base_uri": "https://localhost:8080/",
          "height": 499
        },
        "id": "ynhS2KjVEhj8",
        "outputId": "9a2bd017-970e-48e4-86f6-02022c2908b7"
      },
      "source": [
        "acc = history.history['accuracy']\n",
        "val_acc = history.history['val_accuracy']\n",
        "\n",
        "loss = history.history['loss']\n",
        "val_loss = history.history['val_loss']\n",
        "\n",
        "epochs_range = range(epochs)\n",
        "\n",
        "plt.figure(figsize=(8, 8))\n",
        "plt.subplot(1, 2, 1)\n",
        "plt.plot(epochs_range, acc, label='Training Accuracy')\n",
        "plt.plot(epochs_range, val_acc, label='Validation Accuracy')\n",
        "plt.legend(loc='lower right')\n",
        "plt.title('Training and Validation Accuracy')\n",
        "\n",
        "plt.subplot(1, 2, 2)\n",
        "plt.plot(epochs_range, loss, label='Training Loss')\n",
        "plt.plot(epochs_range, val_loss, label='Validation Loss')\n",
        "plt.legend(loc='upper right')\n",
        "plt.title('Training and Validation Loss')\n",
        "plt.show()"
      ],
      "execution_count": null,
      "outputs": [
        {
          "output_type": "display_data",
          "data": {
            "image/png": "[encoded data removed]",
            "text/plain": [
              "<Figure size 576x576 with 2 Axes>"
            ]
          },
          "metadata": {
            "needs_background": "light"
          }
        }
      ]
    },
    {
      "cell_type": "code",
      "metadata": {
        "colab": {
          "base_uri": "https://localhost:8080/"
        },
        "id": "IbEQMrsAH2yZ",
        "outputId": "d83481c7-7033-4141-d9d1-a6b2e072daf9"
      },
      "source": [
        "model.compile(\n",
        "    optimizer='adam',\n",
        "    loss=tf.losses.SparseCategoricalCrossentropy(from_logits=True),\n",
        "    metrics=['accuracy'])\n",
        "model.summary()"
      ],
      "execution_count": null,
      "outputs": [
        {
          "output_type": "stream",
          "name": "stdout",
          "text": [
            "Model: \"sequential_2\"\n",
            "_________________________________________________________________\n",
            " Layer (type)                Output Shape              Param #   \n",
            "=================================================================\n",
            " sequential_1 (Sequential)   (None, 180, 180, 1)       0         \n",
            "                                                                 \n",
            " rescaling_2 (Rescaling)     (None, 180, 180, 1)       0         \n",
            "                                                                 \n",
            " conv2d_3 (Conv2D)           (None, 178, 178, 32)      320       \n",
            "                                                                 \n",
            " max_pooling2d_3 (MaxPooling  (None, 89, 89, 32)       0         \n",
            " 2D)                                                             \n",
            "                                                                 \n",
            " conv2d_4 (Conv2D)           (None, 89, 89, 32)        9248      \n",
            "                                                                 \n",
            " max_pooling2d_4 (MaxPooling  (None, 44, 44, 32)       0         \n",
            " 2D)                                                             \n",
            "                                                                 \n",
            " conv2d_5 (Conv2D)           (None, 44, 44, 32)        9248      \n",
            "                                                                 \n",
            " max_pooling2d_5 (MaxPooling  (None, 22, 22, 32)       0         \n",
            " 2D)                                                             \n",
            "                                                                 \n",
            " dropout (Dropout)           (None, 22, 22, 32)        0         \n",
            "                                                                 \n",
            " flatten_1 (Flatten)         (None, 15488)             0         \n",
            "                                                                 \n",
            " batch_normalization_2 (Batc  (None, 15488)            61952     \n",
            " hNormalization)                                                 \n",
            "                                                                 \n",
            " dense_2 (Dense)             (None, 107)               1657323   \n",
            "                                                                 \n",
            " batch_normalization_3 (Batc  (None, 107)              428       \n",
            " hNormalization)                                                 \n",
            "                                                                 \n",
            " dense_3 (Dense)             (None, 107)               11556     \n",
            "                                                                 \n",
            "=================================================================\n",
            "Total params: 1,750,075\n",
            "Trainable params: 1,718,885\n",
            "Non-trainable params: 31,190\n",
            "_________________________________________________________________\n"
          ]
        }
      ]
    },
    {
      "cell_type": "code",
      "metadata": {
        "id": "df30HUqFjWre"
      },
      "source": [
        ""
      ],
      "execution_count": null,
      "outputs": []
    }
  ]
}