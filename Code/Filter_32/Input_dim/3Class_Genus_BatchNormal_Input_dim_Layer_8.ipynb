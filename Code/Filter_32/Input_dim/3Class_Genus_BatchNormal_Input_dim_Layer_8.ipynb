{
  "nbformat": 4,
  "nbformat_minor": 0,
  "metadata": {
    "colab": {
      "name": "3Class_Genus_BatchNormal_Input_dim_Layer_8.ipynb",
      "provenance": [],
      "collapsed_sections": [],
      "mount_file_id": "1bKh1uvSCf3ai5zCuu25ZxUbrqhuKcOmm",
      "authorship_tag": "ABX9TyOb7aPD9YmcQHiV9ORoPkc8",
      "include_colab_link": true
    },
    "kernelspec": {
      "name": "python3",
      "display_name": "Python 3"
    },
    "language_info": {
      "name": "python"
    },
    "accelerator": "GPU"
  },
  "cells": [
    {
      "cell_type": "markdown",
      "metadata": {
        "id": "view-in-github",
        "colab_type": "text"
      },
      "source": [
        "<a href=\"https://colab.research.google.com/github/Tajyu/Master_Degree_Paper/blob/main/Code/Filter_32/Input_dim/3Class_Genus_BatchNormal_Input_dim_Layer_8.ipynb\" target=\"_parent\"><img src=\"https://colab.research.google.com/assets/colab-badge.svg\" alt=\"Open In Colab\"/></a>"
      ]
    },
    {
      "cell_type": "code",
      "metadata": {
        "id": "yWckd06_68Em"
      },
      "source": [
        "import tensorflow as tf\n",
        "from tensorflow.keras import datasets, layers, models\n",
        "from keras.preprocessing.image import ImageDataGenerator\n",
        "import numpy as np\n",
        "import matplotlib.pyplot as plt\n",
        "import cv2 as cv\n",
        "import os\n",
        "import pathlib\n",
        "import PIL\n",
        "from tensorflow import keras\n",
        "from tensorflow.keras import layers\n",
        "from tensorflow.keras.models import Sequential\n",
        "from tensorflow.keras.layers import Dense, Flatten, BatchNormalization, Dropout"
      ],
      "execution_count": null,
      "outputs": []
    },
    {
      "cell_type": "code",
      "metadata": {
        "id": "xav9zirHttk_"
      },
      "source": [
        "image_list = os.listdir('/content/drive/MyDrive/Colab Notebooks/Final_Project/Cell_Genus')"
      ],
      "execution_count": null,
      "outputs": []
    },
    {
      "cell_type": "code",
      "metadata": {
        "colab": {
          "base_uri": "https://localhost:8080/"
        },
        "id": "K-wD0dM5tx_E",
        "outputId": "7a53c60c-29f1-458c-91aa-3479dfe34b23"
      },
      "source": [
        "print(image_list)"
      ],
      "execution_count": null,
      "outputs": [
        {
          "output_type": "stream",
          "name": "stdout",
          "text": [
            "['10_Genus_Stauroneis_Ehrenberg', '10_Genus_Staurosira_Ehrenberg', '11_Genus_Craspedostauros_E.J_Cox_1999', '11_Genus_Staurosirella_Williams_and_Round', '12_Genus_Caloneis_Cleve_1894', '12_Genus_Synedra_Ehrenberg', '13_Genus_Pinnularia_Ehrenberg_1843', '1_Genus_Acanthoceras_Honigmann', '1_Genus_Achnanthes_Bory', '1_Genus_Actinocyclus_Ehrenberg', '1_Genus_Aphanocapsa_Nageli_1849', '1_Genus_Asterionella_Hassall', '1_Genus_Aulacoseira', '1_Genus_Biremis_Mann_et_Cox_in_Round_Crawford_and_Mann', '1_Genus_Characium_A_Braun_in_Kutzing_1849', '1_Genus_Chroococcus_Nageli', '1_Genus_Closterium_Nitzsch_ex_Ralfs_1848', '1_Genus_Coelastrum_Nageli_1849', '1_Genus_Cylindrocystis_Meneghini_ex_de_Bary_1858', '1_Genus_Dictyosphaerium_Nageli_1849', '1_Genus_Docidium_Brebisson_ex_Ralfs_1848', '1_Genus_Eunotia_Ehrenberg', '1_Genus_Geitlerinema_(Anagnostidis_et_Komarek)_Anagnostidis_1989', '1_Genus_Gonatozygon_de_Bary_1856', '1_Genus_Hydrodictyon_Roth_1797', '1_Genus_Hydrosera_whampoensis', '1_Genus_Jaaginema_Anagnostidis_et_Komarek_1988', '1_Genus_Lyngbya_C_Agardh_ex_Gomont_1892', '1_Genus_Melosira_Agardh', '1_Genus_Micractinium_Fresenius_1858', '1_Genus_Micrasterias_Ralfs_1848', '1_Genus_Microcystis_Kutzing_ex_Lemmermann_1907', '1_Genus_Oscillatoria_Vaucher_ex_Gomont_1982', '1_Genus_Pediastrum_Meyen_1829', '1_Genus_Penium_Brebisson_ex_Ralfs_in_Ralfs_1848', '1_Genus_Phormidium_Kutzing_ex_Gomont_1892', '1_Genus_Planktothrix_Anagnostidis_et_Komarek_1988', '1_Genus_Pleurosira_laevis_(Ehrenberg)', '1_Genus_Rhizosolenia_Ehrenberg', '1_Genus_Schizochlamydella_Korshikov_1953', '1_Genus_Staurodesmus_Teiling_1848', '1_Genus_Trochiscia_Kutzing_1834', '1_Scenedesmus_Hegewald_1978', '2_Acutodesmus_Hegewald_1978', '2_Genus_Achnanthidium_Kutzing', '2_Genus_Actinastrum_Lagerheim_1882', '2_Genus_Actinella_Lewis', '2_Genus_Ankyra_Fott_1957', '2_Genus_Caloneis_Cleve', '2_Genus_Chaetoceros_Ehrenberg', '2_Genus_Coenochloris_Korshikov_1953', '2_Genus_Cyclotella', '2_Genus_Diatoma_Bory', '2_Genus_Dimorphococcus_A_Braun_1855', '2_Genus_Golenkinia_Chodat_1894', '2_Genus_Haplotaenium_Bando_1988', '2_Genus_Leibleinia_(Gomont)_L_Hoffman_1985', '2_Genus_Leptolyngbya_Anagnostidis_et_Komarek_1988', '2_Genus_Merismopedia_Meyen_1839', '2_Genus_Netrium_(Nageli)_Itzigsohn_et_Rothe_in_Rabenhorst_1856', '2_Genus_Orthoseira_Thwaites_1848', '2_Genus_Phormidium_Kutzing_ex_Gomont_1892', '2_Genus_Sorastrum_Kutzing_1845', '2_Genus_Staurastrum_Meyen_ex_Ralfs_1848', '3_Desmodesmus_Chodat_1926', '3_Genus_Acanthosphaera_Lemmerman_1899', '3_Genus_Anorthoneis_Grunow', '3_Genus_Cyclostephanos_Round', '3_Genus_Dichotomococcus_Korshikov_1928', '3_Genus_Heteroleibleinia_(Geitler)_L_Hoffmann_1985', '3_Genus_Limnothrix_Meffert_1988', '3_Genus_Meridion_Agardh', '3_Genus_Paradoxia_Svirenko_1928', '3_Genus_Peronia_Bebisson_and_Arnott_ex_Kitton', '3_Genus_Phormidiochaete_Komarek_in_Anagnostidis_2001', '3_Genus_Pinnularia_Ehrenberg_1', '3_Genus_Pleurotaenium_Nageli_1849', '3_Genus_Radiococcus_Schmidle_1902', '3_Genus_Snowella_Elenkin_1938', '3_Genus_Spirotaenia_Brebisson_in_Ralfs_1848', '4_Genus_Botryococcus_Kutzing_1849', '4_Genus_Cocconeis_Ehrenberg', '4_Genus_Eutetramorus_Walton_1918', '4_Genus_Leptolyngbya_Anagnostidis_et_Komarek_1988', '4_Genus_Opephora_Petit', '4_Genus_Pinnularia_Ehrenberg_2', '4_Genus_Schroederia_Lemmermann_1898', '4_Genus_Stephanodiscus_Ehrenberg', '4_Genus_Synechocystis_Sauvageau_1892', '4_Genus_Tortitaenia_A_J_Brook_1998', '5_Genus_Caloneis_Cleve', '5_Genus_Coenocystis_Korshikov_1953', '5_Genus_Planktolyngbya_Anagnostidis_et_Komarek_1988', '5_Genus_Tabellaria_Ehrenberg', '5_Genus_Thalassiosira_Cleve', '5_Genus_Woronichinia_Elenkin_1933', '6_Genus_Anomoeoneis_Pfitzer', '6_Genus_Fragilaria_Lyngbye', '6_Genus_Gloeocystis_Nageli_1849', '6_Genus_Pseudanabaena_Lauterborn_1915', '6_Genus_Skeletonema_Greville', '7_Genus_Caloneis_Cleve', '7_Genus_Hannaea_Patrick', '8_Genus_Diploneis(Ehrenberg)_Cleve', '8_Genus_Pseudostaurosira_Williams_and_Round', '9_Genus_Neidium_Pfitzer', '9_Genus_Punctastriata_Williams_and_Round']\n"
          ]
        }
      ]
    },
    {
      "cell_type": "code",
      "metadata": {
        "id": "o-0DvzEHt8VE"
      },
      "source": [
        "data_generator = ImageDataGenerator(rescale = 1./255)\n",
        "\n",
        "data_dir = \"/content/drive/MyDrive/Colab Notebooks/Final_Project/Cell_Genus\""
      ],
      "execution_count": null,
      "outputs": []
    },
    {
      "cell_type": "code",
      "metadata": {
        "id": "7aTCfEm3t10n"
      },
      "source": [
        "batch_size = 32\n",
        "img_height = 180\n",
        "img_width = 180"
      ],
      "execution_count": null,
      "outputs": []
    },
    {
      "cell_type": "code",
      "metadata": {
        "id": "9Smg-miEt22s",
        "colab": {
          "base_uri": "https://localhost:8080/"
        },
        "outputId": "16ae87d5-4879-485c-9cba-3c1b3ba6933f"
      },
      "source": [
        "train_ds = tf.keras.preprocessing.image_dataset_from_directory(\n",
        "  data_dir,\n",
        "  color_mode = \"grayscale\",\n",
        "  validation_split=0.2,\n",
        "  subset=\"training\",\n",
        "  seed=123,\n",
        "  image_size=(img_height, img_width),\n",
        "  batch_size=batch_size)"
      ],
      "execution_count": null,
      "outputs": [
        {
          "output_type": "stream",
          "name": "stdout",
          "text": [
            "Found 6226 files belonging to 107 classes.\n",
            "Using 4981 files for training.\n"
          ]
        }
      ]
    },
    {
      "cell_type": "code",
      "metadata": {
        "id": "1nR0WdQGt44x",
        "colab": {
          "base_uri": "https://localhost:8080/"
        },
        "outputId": "6fdd8b4e-4892-4bc5-d05f-3c02d6451d5c"
      },
      "source": [
        "val_ds = tf.keras.preprocessing.image_dataset_from_directory(\n",
        "  data_dir,\n",
        "  color_mode = \"grayscale\",\n",
        "  validation_split=0.2,\n",
        "  subset=\"validation\",\n",
        "  seed=123,\n",
        "  image_size=(img_height, img_width),\n",
        "  batch_size=batch_size)"
      ],
      "execution_count": null,
      "outputs": [
        {
          "output_type": "stream",
          "name": "stdout",
          "text": [
            "Found 6226 files belonging to 107 classes.\n",
            "Using 1245 files for validation.\n"
          ]
        }
      ]
    },
    {
      "cell_type": "code",
      "metadata": {
        "id": "F-cz_CtGug8Y",
        "colab": {
          "base_uri": "https://localhost:8080/"
        },
        "outputId": "b20b0ef0-52c0-4728-df02-99515386c2a7"
      },
      "source": [
        "class_names = train_ds.class_names\n",
        "print(class_names)"
      ],
      "execution_count": null,
      "outputs": [
        {
          "output_type": "stream",
          "name": "stdout",
          "text": [
            "['10_Genus_Stauroneis_Ehrenberg', '10_Genus_Staurosira_Ehrenberg', '11_Genus_Craspedostauros_E.J_Cox_1999', '11_Genus_Staurosirella_Williams_and_Round', '12_Genus_Caloneis_Cleve_1894', '12_Genus_Synedra_Ehrenberg', '13_Genus_Pinnularia_Ehrenberg_1843', '1_Genus_Acanthoceras_Honigmann', '1_Genus_Achnanthes_Bory', '1_Genus_Actinocyclus_Ehrenberg', '1_Genus_Aphanocapsa_Nageli_1849', '1_Genus_Asterionella_Hassall', '1_Genus_Aulacoseira', '1_Genus_Biremis_Mann_et_Cox_in_Round_Crawford_and_Mann', '1_Genus_Characium_A_Braun_in_Kutzing_1849', '1_Genus_Chroococcus_Nageli', '1_Genus_Closterium_Nitzsch_ex_Ralfs_1848', '1_Genus_Coelastrum_Nageli_1849', '1_Genus_Cylindrocystis_Meneghini_ex_de_Bary_1858', '1_Genus_Dictyosphaerium_Nageli_1849', '1_Genus_Docidium_Brebisson_ex_Ralfs_1848', '1_Genus_Eunotia_Ehrenberg', '1_Genus_Geitlerinema_(Anagnostidis_et_Komarek)_Anagnostidis_1989', '1_Genus_Gonatozygon_de_Bary_1856', '1_Genus_Hydrodictyon_Roth_1797', '1_Genus_Hydrosera_whampoensis', '1_Genus_Jaaginema_Anagnostidis_et_Komarek_1988', '1_Genus_Lyngbya_C_Agardh_ex_Gomont_1892', '1_Genus_Melosira_Agardh', '1_Genus_Micractinium_Fresenius_1858', '1_Genus_Micrasterias_Ralfs_1848', '1_Genus_Microcystis_Kutzing_ex_Lemmermann_1907', '1_Genus_Oscillatoria_Vaucher_ex_Gomont_1982', '1_Genus_Pediastrum_Meyen_1829', '1_Genus_Penium_Brebisson_ex_Ralfs_in_Ralfs_1848', '1_Genus_Phormidium_Kutzing_ex_Gomont_1892', '1_Genus_Planktothrix_Anagnostidis_et_Komarek_1988', '1_Genus_Pleurosira_laevis_(Ehrenberg)', '1_Genus_Rhizosolenia_Ehrenberg', '1_Genus_Schizochlamydella_Korshikov_1953', '1_Genus_Staurodesmus_Teiling_1848', '1_Genus_Trochiscia_Kutzing_1834', '1_Scenedesmus_Hegewald_1978', '2_Acutodesmus_Hegewald_1978', '2_Genus_Achnanthidium_Kutzing', '2_Genus_Actinastrum_Lagerheim_1882', '2_Genus_Actinella_Lewis', '2_Genus_Ankyra_Fott_1957', '2_Genus_Caloneis_Cleve', '2_Genus_Chaetoceros_Ehrenberg', '2_Genus_Coenochloris_Korshikov_1953', '2_Genus_Cyclotella', '2_Genus_Diatoma_Bory', '2_Genus_Dimorphococcus_A_Braun_1855', '2_Genus_Golenkinia_Chodat_1894', '2_Genus_Haplotaenium_Bando_1988', '2_Genus_Leibleinia_(Gomont)_L_Hoffman_1985', '2_Genus_Leptolyngbya_Anagnostidis_et_Komarek_1988', '2_Genus_Merismopedia_Meyen_1839', '2_Genus_Netrium_(Nageli)_Itzigsohn_et_Rothe_in_Rabenhorst_1856', '2_Genus_Orthoseira_Thwaites_1848', '2_Genus_Phormidium_Kutzing_ex_Gomont_1892', '2_Genus_Sorastrum_Kutzing_1845', '2_Genus_Staurastrum_Meyen_ex_Ralfs_1848', '3_Desmodesmus_Chodat_1926', '3_Genus_Acanthosphaera_Lemmerman_1899', '3_Genus_Anorthoneis_Grunow', '3_Genus_Cyclostephanos_Round', '3_Genus_Dichotomococcus_Korshikov_1928', '3_Genus_Heteroleibleinia_(Geitler)_L_Hoffmann_1985', '3_Genus_Limnothrix_Meffert_1988', '3_Genus_Meridion_Agardh', '3_Genus_Paradoxia_Svirenko_1928', '3_Genus_Peronia_Bebisson_and_Arnott_ex_Kitton', '3_Genus_Phormidiochaete_Komarek_in_Anagnostidis_2001', '3_Genus_Pinnularia_Ehrenberg_1', '3_Genus_Pleurotaenium_Nageli_1849', '3_Genus_Radiococcus_Schmidle_1902', '3_Genus_Snowella_Elenkin_1938', '3_Genus_Spirotaenia_Brebisson_in_Ralfs_1848', '4_Genus_Botryococcus_Kutzing_1849', '4_Genus_Cocconeis_Ehrenberg', '4_Genus_Eutetramorus_Walton_1918', '4_Genus_Leptolyngbya_Anagnostidis_et_Komarek_1988', '4_Genus_Opephora_Petit', '4_Genus_Pinnularia_Ehrenberg_2', '4_Genus_Schroederia_Lemmermann_1898', '4_Genus_Stephanodiscus_Ehrenberg', '4_Genus_Synechocystis_Sauvageau_1892', '4_Genus_Tortitaenia_A_J_Brook_1998', '5_Genus_Caloneis_Cleve', '5_Genus_Coenocystis_Korshikov_1953', '5_Genus_Planktolyngbya_Anagnostidis_et_Komarek_1988', '5_Genus_Tabellaria_Ehrenberg', '5_Genus_Thalassiosira_Cleve', '5_Genus_Woronichinia_Elenkin_1933', '6_Genus_Anomoeoneis_Pfitzer', '6_Genus_Fragilaria_Lyngbye', '6_Genus_Gloeocystis_Nageli_1849', '6_Genus_Pseudanabaena_Lauterborn_1915', '6_Genus_Skeletonema_Greville', '7_Genus_Caloneis_Cleve', '7_Genus_Hannaea_Patrick', '8_Genus_Diploneis(Ehrenberg)_Cleve', '8_Genus_Pseudostaurosira_Williams_and_Round', '9_Genus_Neidium_Pfitzer', '9_Genus_Punctastriata_Williams_and_Round']\n"
          ]
        }
      ]
    },
    {
      "cell_type": "code",
      "metadata": {
        "id": "5EQOikPAukic",
        "colab": {
          "base_uri": "https://localhost:8080/"
        },
        "outputId": "47544f2e-6d07-4470-b4a7-19062907545b"
      },
      "source": [
        "for image_batch, labels_batch in train_ds:\n",
        "  print(image_batch.shape)\n",
        "  print(labels_batch.shape)\n",
        "  break"
      ],
      "execution_count": null,
      "outputs": [
        {
          "output_type": "stream",
          "name": "stdout",
          "text": [
            "(32, 180, 180, 1)\n",
            "(32,)\n"
          ]
        }
      ]
    },
    {
      "cell_type": "code",
      "metadata": {
        "id": "9eVl7tiDux9q"
      },
      "source": [
        "from tensorflow.keras import layers\n",
        "\n",
        "normalization_layer = tf.keras.layers.experimental.preprocessing.Rescaling(1./255)"
      ],
      "execution_count": null,
      "outputs": []
    },
    {
      "cell_type": "code",
      "metadata": {
        "id": "AiIrsxzZuzEo",
        "colab": {
          "base_uri": "https://localhost:8080/"
        },
        "outputId": "cc4926da-c26e-4d80-af62-61453c406cd4"
      },
      "source": [
        "normalized_ds = train_ds.map(lambda x, y: (normalization_layer(x), y))\n",
        "image_batch, labels_batch = next(iter(normalized_ds))\n",
        "first_image = image_batch[0]\n",
        "# Notice the pixels values are now in `[0,1]`.\n",
        "print(np.min(first_image), np.max(first_image))"
      ],
      "execution_count": null,
      "outputs": [
        {
          "output_type": "stream",
          "name": "stdout",
          "text": [
            "0.0 1.0\n"
          ]
        }
      ]
    },
    {
      "cell_type": "code",
      "metadata": {
        "id": "__WbVabru0Bp"
      },
      "source": [
        "AUTOTUNE = tf.data.experimental.AUTOTUNE\n",
        "\n",
        "train_ds = train_ds.cache().prefetch(buffer_size=AUTOTUNE)\n",
        "val_ds = val_ds.cache().prefetch(buffer_size=AUTOTUNE)"
      ],
      "execution_count": null,
      "outputs": []
    },
    {
      "cell_type": "code",
      "metadata": {
        "id": "g1GeYFXCu2gV"
      },
      "source": [
        "num_classes = 107\n",
        "model = tf.keras.Sequential([\n",
        "    layers.experimental.preprocessing.Rescaling(1./255),\n",
        "    layers.Conv2D(32, 3,input_shape = image_batch, activation='relu'),\n",
        "    layers.MaxPooling2D(),\n",
        "    layers.Conv2D(32, 3, activation='relu'),\n",
        "    layers.MaxPooling2D(),\n",
        "    layers.Conv2D(32, 3, activation='relu'),\n",
        "    layers.MaxPooling2D(),\n",
        "    layers.Flatten(),\n",
        "    BatchNormalization(),\n",
        "    layers.Dense(128, input_dim = 107, activation='relu'),\n",
        "    BatchNormalization(),\n",
        "    layers.Dense(128, activation='relu'),\n",
        "    BatchNormalization(),\n",
        "    layers.Dense(128, activation='relu'),\n",
        "    BatchNormalization(),\n",
        "    layers.Dense(128, activation='relu'),\n",
        "    BatchNormalization(),\n",
        "    layers.Dense(128, activation='relu'),\n",
        "    BatchNormalization(),\n",
        "    layers.Dense(128, activation='relu'),\n",
        "    BatchNormalization(),\n",
        "    layers.Dense(128, activation='relu'),\n",
        "    BatchNormalization(),\n",
        "    layers.Dense(107, activation='softmax'),\n",
        "    BatchNormalization(),\n",
        "    layers.Dense(num_classes)\n",
        "    ])"
      ],
      "execution_count": null,
      "outputs": []
    },
    {
      "cell_type": "code",
      "metadata": {
        "id": "wU4xPAvNYWry"
      },
      "source": [
        "model.compile(\n",
        "    optimizer='adam',\n",
        "    loss=tf.losses.SparseCategoricalCrossentropy(from_logits=True),\n",
        "    metrics=['accuracy'])"
      ],
      "execution_count": null,
      "outputs": []
    },
    {
      "cell_type": "code",
      "metadata": {
        "id": "Tk8ssrbHu44p",
        "colab": {
          "base_uri": "https://localhost:8080/"
        },
        "outputId": "6c237c7d-950c-4558-b193-cfecacfe7ca4"
      },
      "source": [
        "epochs=50\n",
        "history = model.fit(\n",
        "  train_ds,\n",
        "  validation_data=val_ds,\n",
        "  epochs=epochs\n",
        ")"
      ],
      "execution_count": null,
      "outputs": [
        {
          "output_type": "stream",
          "name": "stdout",
          "text": [
            "Epoch 1/50\n",
            "156/156 [==============================] - 824s 5s/step - loss: 3.6976 - accuracy: 0.2261 - val_loss: 4.2003 - val_accuracy: 0.0980\n",
            "Epoch 2/50\n",
            "156/156 [==============================] - 3s 17ms/step - loss: 2.6124 - accuracy: 0.3551 - val_loss: 3.6385 - val_accuracy: 0.2610\n",
            "Epoch 3/50\n",
            "156/156 [==============================] - 3s 17ms/step - loss: 2.1754 - accuracy: 0.4264 - val_loss: 2.9372 - val_accuracy: 0.3863\n",
            "Epoch 4/50\n",
            "156/156 [==============================] - 3s 17ms/step - loss: 1.8700 - accuracy: 0.4875 - val_loss: 2.2142 - val_accuracy: 0.4273\n",
            "Epoch 5/50\n",
            "156/156 [==============================] - 3s 17ms/step - loss: 1.6125 - accuracy: 0.5601 - val_loss: 2.1965 - val_accuracy: 0.4305\n",
            "Epoch 6/50\n",
            "156/156 [==============================] - 3s 17ms/step - loss: 1.3588 - accuracy: 0.6282 - val_loss: 2.2648 - val_accuracy: 0.4410\n",
            "Epoch 7/50\n",
            "156/156 [==============================] - 3s 17ms/step - loss: 1.1350 - accuracy: 0.6820 - val_loss: 2.3049 - val_accuracy: 0.4434\n",
            "Epoch 8/50\n",
            "156/156 [==============================] - 3s 17ms/step - loss: 0.9665 - accuracy: 0.7332 - val_loss: 2.3929 - val_accuracy: 0.4651\n",
            "Epoch 9/50\n",
            "156/156 [==============================] - 3s 17ms/step - loss: 0.8263 - accuracy: 0.7770 - val_loss: 2.7067 - val_accuracy: 0.4064\n",
            "Epoch 10/50\n",
            "156/156 [==============================] - 3s 17ms/step - loss: 0.7018 - accuracy: 0.8081 - val_loss: 2.8386 - val_accuracy: 0.4120\n",
            "Epoch 11/50\n",
            "156/156 [==============================] - 3s 17ms/step - loss: 0.5967 - accuracy: 0.8332 - val_loss: 2.7490 - val_accuracy: 0.4418\n",
            "Epoch 12/50\n",
            "156/156 [==============================] - 3s 17ms/step - loss: 0.4968 - accuracy: 0.8667 - val_loss: 2.6847 - val_accuracy: 0.4594\n",
            "Epoch 13/50\n",
            "156/156 [==============================] - 3s 17ms/step - loss: 0.4012 - accuracy: 0.8962 - val_loss: 2.8861 - val_accuracy: 0.4522\n",
            "Epoch 14/50\n",
            "156/156 [==============================] - 3s 17ms/step - loss: 0.3120 - accuracy: 0.9185 - val_loss: 2.8271 - val_accuracy: 0.4667\n",
            "Epoch 15/50\n",
            "156/156 [==============================] - 3s 17ms/step - loss: 0.2576 - accuracy: 0.9337 - val_loss: 3.1608 - val_accuracy: 0.4281\n",
            "Epoch 16/50\n",
            "156/156 [==============================] - 3s 17ms/step - loss: 0.2326 - accuracy: 0.9402 - val_loss: 3.4077 - val_accuracy: 0.4040\n",
            "Epoch 17/50\n",
            "156/156 [==============================] - 3s 17ms/step - loss: 0.2099 - accuracy: 0.9446 - val_loss: 3.2319 - val_accuracy: 0.4586\n",
            "Epoch 18/50\n",
            "156/156 [==============================] - 3s 17ms/step - loss: 0.2096 - accuracy: 0.9418 - val_loss: 3.2924 - val_accuracy: 0.4546\n",
            "Epoch 19/50\n",
            "156/156 [==============================] - 3s 17ms/step - loss: 0.1949 - accuracy: 0.9482 - val_loss: 3.1670 - val_accuracy: 0.4731\n",
            "Epoch 20/50\n",
            "156/156 [==============================] - 3s 17ms/step - loss: 0.1991 - accuracy: 0.9442 - val_loss: 3.2965 - val_accuracy: 0.4779\n",
            "Epoch 21/50\n",
            "156/156 [==============================] - 3s 17ms/step - loss: 0.1818 - accuracy: 0.9496 - val_loss: 3.3845 - val_accuracy: 0.4635\n",
            "Epoch 22/50\n",
            "156/156 [==============================] - 3s 17ms/step - loss: 0.1674 - accuracy: 0.9532 - val_loss: 3.3924 - val_accuracy: 0.4683\n",
            "Epoch 23/50\n",
            "156/156 [==============================] - 3s 17ms/step - loss: 0.1647 - accuracy: 0.9558 - val_loss: 3.2877 - val_accuracy: 0.4707\n",
            "Epoch 24/50\n",
            "156/156 [==============================] - 3s 17ms/step - loss: 0.1779 - accuracy: 0.9522 - val_loss: 3.9749 - val_accuracy: 0.4321\n",
            "Epoch 25/50\n",
            "156/156 [==============================] - 3s 17ms/step - loss: 0.1346 - accuracy: 0.9633 - val_loss: 3.9249 - val_accuracy: 0.4177\n",
            "Epoch 26/50\n",
            "156/156 [==============================] - 3s 17ms/step - loss: 0.0982 - accuracy: 0.9745 - val_loss: 3.5160 - val_accuracy: 0.4675\n",
            "Epoch 27/50\n",
            "156/156 [==============================] - 3s 17ms/step - loss: 0.0591 - accuracy: 0.9865 - val_loss: 3.2674 - val_accuracy: 0.4996\n",
            "Epoch 28/50\n",
            "156/156 [==============================] - 3s 17ms/step - loss: 0.0383 - accuracy: 0.9922 - val_loss: 3.3735 - val_accuracy: 0.5044\n",
            "Epoch 29/50\n",
            "156/156 [==============================] - 3s 17ms/step - loss: 0.0314 - accuracy: 0.9956 - val_loss: 3.2723 - val_accuracy: 0.5060\n",
            "Epoch 30/50\n",
            "156/156 [==============================] - 3s 17ms/step - loss: 0.0217 - accuracy: 0.9970 - val_loss: 3.2997 - val_accuracy: 0.5012\n",
            "Epoch 31/50\n",
            "156/156 [==============================] - 3s 17ms/step - loss: 0.0156 - accuracy: 0.9982 - val_loss: 3.4664 - val_accuracy: 0.5036\n",
            "Epoch 32/50\n",
            "156/156 [==============================] - 3s 17ms/step - loss: 0.0087 - accuracy: 0.9994 - val_loss: 3.3788 - val_accuracy: 0.5052\n",
            "Epoch 33/50\n",
            "156/156 [==============================] - 3s 17ms/step - loss: 0.0061 - accuracy: 0.9996 - val_loss: 3.4406 - val_accuracy: 0.5012\n",
            "Epoch 34/50\n",
            "156/156 [==============================] - 3s 17ms/step - loss: 0.0059 - accuracy: 0.9998 - val_loss: 3.4538 - val_accuracy: 0.5084\n",
            "Epoch 35/50\n",
            "156/156 [==============================] - 3s 17ms/step - loss: 0.0057 - accuracy: 0.9998 - val_loss: 3.4644 - val_accuracy: 0.5124\n",
            "Epoch 36/50\n",
            "156/156 [==============================] - 3s 17ms/step - loss: 0.0034 - accuracy: 0.9998 - val_loss: 3.4953 - val_accuracy: 0.5092\n",
            "Epoch 37/50\n",
            "156/156 [==============================] - 3s 17ms/step - loss: 0.0028 - accuracy: 1.0000 - val_loss: 3.5312 - val_accuracy: 0.5076\n",
            "Epoch 38/50\n",
            "156/156 [==============================] - 3s 17ms/step - loss: 0.0021 - accuracy: 1.0000 - val_loss: 3.5545 - val_accuracy: 0.5060\n",
            "Epoch 39/50\n",
            "156/156 [==============================] - 3s 17ms/step - loss: 0.0018 - accuracy: 1.0000 - val_loss: 3.5838 - val_accuracy: 0.5052\n",
            "Epoch 40/50\n",
            "156/156 [==============================] - 3s 17ms/step - loss: 0.0016 - accuracy: 1.0000 - val_loss: 3.6096 - val_accuracy: 0.5060\n",
            "Epoch 41/50\n",
            "156/156 [==============================] - 3s 17ms/step - loss: 0.0015 - accuracy: 1.0000 - val_loss: 3.6361 - val_accuracy: 0.5060\n",
            "Epoch 42/50\n",
            "156/156 [==============================] - 3s 17ms/step - loss: 0.0013 - accuracy: 1.0000 - val_loss: 3.6620 - val_accuracy: 0.5052\n",
            "Epoch 43/50\n",
            "156/156 [==============================] - 3s 17ms/step - loss: 0.0012 - accuracy: 1.0000 - val_loss: 3.6884 - val_accuracy: 0.5060\n",
            "Epoch 44/50\n",
            "156/156 [==============================] - 3s 17ms/step - loss: 0.0011 - accuracy: 1.0000 - val_loss: 3.7140 - val_accuracy: 0.5060\n",
            "Epoch 45/50\n",
            "156/156 [==============================] - 3s 17ms/step - loss: 9.7796e-04 - accuracy: 1.0000 - val_loss: 3.7395 - val_accuracy: 0.5060\n",
            "Epoch 46/50\n",
            "156/156 [==============================] - 3s 17ms/step - loss: 8.9141e-04 - accuracy: 1.0000 - val_loss: 3.7653 - val_accuracy: 0.5060\n",
            "Epoch 47/50\n",
            "156/156 [==============================] - 3s 17ms/step - loss: 8.1351e-04 - accuracy: 1.0000 - val_loss: 3.7906 - val_accuracy: 0.5068\n",
            "Epoch 48/50\n",
            "156/156 [==============================] - 3s 17ms/step - loss: 7.4332e-04 - accuracy: 1.0000 - val_loss: 3.8167 - val_accuracy: 0.5068\n",
            "Epoch 49/50\n",
            "156/156 [==============================] - 3s 17ms/step - loss: 6.7980e-04 - accuracy: 1.0000 - val_loss: 3.8423 - val_accuracy: 0.5084\n",
            "Epoch 50/50\n",
            "156/156 [==============================] - 3s 17ms/step - loss: 6.2199e-04 - accuracy: 1.0000 - val_loss: 3.8687 - val_accuracy: 0.5076\n"
          ]
        }
      ]
    },
    {
      "cell_type": "code",
      "metadata": {
        "id": "f1z_vHocu59c",
        "colab": {
          "base_uri": "https://localhost:8080/",
          "height": 499
        },
        "outputId": "1b8e2f9a-0023-48c1-a6d1-df581d4a8a5a"
      },
      "source": [
        "acc = history.history['accuracy']\n",
        "val_acc = history.history['val_accuracy']\n",
        "\n",
        "loss=history.history['loss']\n",
        "val_loss=history.history['val_loss']\n",
        "\n",
        "epochs_range = range(epochs)\n",
        "\n",
        "plt.figure(figsize=(8, 8))\n",
        "plt.subplot(1, 2, 1)\n",
        "plt.plot(epochs_range, acc, label='Training Accuracy')\n",
        "plt.plot(epochs_range, val_acc, label='Validation Accuracy')\n",
        "plt.legend(loc='lower right')\n",
        "plt.title('Training and Validation Accuracy')\n",
        "\n",
        "plt.subplot(1, 2, 2)\n",
        "plt.plot(epochs_range, loss, label='Training Loss')\n",
        "plt.plot(epochs_range, val_loss, label='Validation Loss')\n",
        "plt.legend(loc='upper right')\n",
        "plt.title('Training and Validation Loss')\n",
        "plt.show()"
      ],
      "execution_count": null,
      "outputs": [
        {
          "output_type": "display_data",
          "data": {
            "image/png": "[encoded data removed]",
            "text/plain": [
              "<Figure size 576x576 with 2 Axes>"
            ]
          },
          "metadata": {
            "needs_background": "light"
          }
        }
      ]
    },
    {
      "cell_type": "code",
      "metadata": {
        "id": "XinJ6xXD9YNO"
      },
      "source": [
        "data_augmentation = keras.Sequential(\n",
        "  [\n",
        "    layers.experimental.preprocessing.RandomFlip(\"horizontal\", \n",
        "                                                 input_shape=(img_height, \n",
        "                                                              img_width,\n",
        "                                                              1)),\n",
        "    layers.experimental.preprocessing.RandomRotation(0.1),\n",
        "    layers.experimental.preprocessing.RandomZoom(0.1),\n",
        "  ]\n",
        ")"
      ],
      "execution_count": null,
      "outputs": []
    },
    {
      "cell_type": "code",
      "metadata": {
        "id": "8WT2BYElEYZj"
      },
      "source": [
        "model = Sequential([\n",
        "  data_augmentation,\n",
        "  layers.experimental.preprocessing.Rescaling(1./255),\n",
        "  layers.Conv2D(32, 3,input_shape = image_batch, activation='relu'),\n",
        "  layers.MaxPooling2D(),\n",
        "  layers.Conv2D(32, 3, padding='same', activation='relu'),\n",
        "  layers.MaxPooling2D(),\n",
        "  layers.Conv2D(32, 3, padding='same', activation='relu'),\n",
        "  layers.MaxPooling2D(),\n",
        "  layers.Dropout(0.2),\n",
        "  layers.Flatten(),\n",
        "  layers.Dense(128, input_dim = 107, activation='relu'),\n",
        "  BatchNormalization(),\n",
        "  layers.Dense(128, activation='relu'),\n",
        "  BatchNormalization(),\n",
        "  layers.Dense(128, activation='relu'),\n",
        "  BatchNormalization(),\n",
        "  layers.Dense(128, activation='relu'),\n",
        "  BatchNormalization(),\n",
        "  layers.Dense(128, activation='relu'),\n",
        "  BatchNormalization(),\n",
        "  layers.Dense(128, activation='relu'),\n",
        "  BatchNormalization(),\n",
        "  layers.Dense(128, activation='relu'),\n",
        "  BatchNormalization(),\n",
        "  layers.Dense(107, activation='softmax'),\n",
        "  BatchNormalization(),\n",
        "  layers.Dense(num_classes)\n",
        "])"
      ],
      "execution_count": null,
      "outputs": []
    },
    {
      "cell_type": "code",
      "metadata": {
        "id": "opOHP3auEdsw",
        "colab": {
          "base_uri": "https://localhost:8080/"
        },
        "outputId": "07701f5f-6705-46f7-f47f-c6d50e7a39ff"
      },
      "source": [
        "BatchNormalization(),model.compile(\n",
        "    optimizer='adam',\n",
        "    loss=tf.losses.SparseCategoricalCrossentropy(from_logits=True),\n",
        "    metrics=['accuracy'])"
      ],
      "execution_count": null,
      "outputs": [
        {
          "output_type": "execute_result",
          "data": {
            "text/plain": [
              "(<keras.layers.normalization.batch_normalization.BatchNormalization at 0x7ff4357a19d0>,\n",
              " None)"
            ]
          },
          "metadata": {},
          "execution_count": 19
        }
      ]
    },
    {
      "cell_type": "code",
      "metadata": {
        "id": "3Ay4tlHlEfBX",
        "colab": {
          "base_uri": "https://localhost:8080/"
        },
        "outputId": "28504f17-7109-41ab-fb6e-150ff9eb78aa"
      },
      "source": [
        "model.summary()"
      ],
      "execution_count": null,
      "outputs": [
        {
          "output_type": "stream",
          "name": "stdout",
          "text": [
            "Model: \"sequential_2\"\n",
            "_________________________________________________________________\n",
            " Layer (type)                Output Shape              Param #   \n",
            "=================================================================\n",
            " sequential_1 (Sequential)   (None, 180, 180, 1)       0         \n",
            "                                                                 \n",
            " rescaling_2 (Rescaling)     (None, 180, 180, 1)       0         \n",
            "                                                                 \n",
            " conv2d_3 (Conv2D)           (None, 178, 178, 32)      320       \n",
            "                                                                 \n",
            " max_pooling2d_3 (MaxPooling  (None, 89, 89, 32)       0         \n",
            " 2D)                                                             \n",
            "                                                                 \n",
            " conv2d_4 (Conv2D)           (None, 89, 89, 32)        9248      \n",
            "                                                                 \n",
            " max_pooling2d_4 (MaxPooling  (None, 44, 44, 32)       0         \n",
            " 2D)                                                             \n",
            "                                                                 \n",
            " conv2d_5 (Conv2D)           (None, 44, 44, 32)        9248      \n",
            "                                                                 \n",
            " max_pooling2d_5 (MaxPooling  (None, 22, 22, 32)       0         \n",
            " 2D)                                                             \n",
            "                                                                 \n",
            " dropout (Dropout)           (None, 22, 22, 32)        0         \n",
            "                                                                 \n",
            " flatten_1 (Flatten)         (None, 15488)             0         \n",
            "                                                                 \n",
            " dense_9 (Dense)             (None, 128)               1982592   \n",
            "                                                                 \n",
            " batch_normalization_9 (Batc  (None, 128)              512       \n",
            " hNormalization)                                                 \n",
            "                                                                 \n",
            " dense_10 (Dense)            (None, 128)               16512     \n",
            "                                                                 \n",
            " batch_normalization_10 (Bat  (None, 128)              512       \n",
            " chNormalization)                                                \n",
            "                                                                 \n",
            " dense_11 (Dense)            (None, 128)               16512     \n",
            "                                                                 \n",
            " batch_normalization_11 (Bat  (None, 128)              512       \n",
            " chNormalization)                                                \n",
            "                                                                 \n",
            " dense_12 (Dense)            (None, 128)               16512     \n",
            "                                                                 \n",
            " batch_normalization_12 (Bat  (None, 128)              512       \n",
            " chNormalization)                                                \n",
            "                                                                 \n",
            " dense_13 (Dense)            (None, 128)               16512     \n",
            "                                                                 \n",
            " batch_normalization_13 (Bat  (None, 128)              512       \n",
            " chNormalization)                                                \n",
            "                                                                 \n",
            " dense_14 (Dense)            (None, 128)               16512     \n",
            "                                                                 \n",
            " batch_normalization_14 (Bat  (None, 128)              512       \n",
            " chNormalization)                                                \n",
            "                                                                 \n",
            " dense_15 (Dense)            (None, 128)               16512     \n",
            "                                                                 \n",
            " batch_normalization_15 (Bat  (None, 128)              512       \n",
            " chNormalization)                                                \n",
            "                                                                 \n",
            " dense_16 (Dense)            (None, 107)               13803     \n",
            "                                                                 \n",
            " batch_normalization_16 (Bat  (None, 107)              428       \n",
            " chNormalization)                                                \n",
            "                                                                 \n",
            " dense_17 (Dense)            (None, 107)               11556     \n",
            "                                                                 \n",
            "=================================================================\n",
            "Total params: 2,129,851\n",
            "Trainable params: 2,127,845\n",
            "Non-trainable params: 2,006\n",
            "_________________________________________________________________\n"
          ]
        }
      ]
    },
    {
      "cell_type": "code",
      "metadata": {
        "id": "Jc8rD_v9Ef41",
        "colab": {
          "base_uri": "https://localhost:8080/"
        },
        "outputId": "ba6d1322-697a-45a4-89b0-9b0e9eed951e"
      },
      "source": [
        "epochs = 50\n",
        "history = model.fit(\n",
        "  train_ds,\n",
        "  validation_data=val_ds,\n",
        "  epochs=epochs\n",
        ")"
      ],
      "execution_count": null,
      "outputs": [
        {
          "output_type": "stream",
          "name": "stdout",
          "text": [
            "Epoch 1/50\n",
            "156/156 [==============================] - 6s 21ms/step - loss: 3.8576 - accuracy: 0.1759 - val_loss: 4.1595 - val_accuracy: 0.1430\n",
            "Epoch 2/50\n",
            "156/156 [==============================] - 3s 19ms/step - loss: 2.9822 - accuracy: 0.2564 - val_loss: 3.8236 - val_accuracy: 0.1751\n",
            "Epoch 3/50\n",
            "156/156 [==============================] - 3s 19ms/step - loss: 2.6717 - accuracy: 0.3032 - val_loss: 3.1257 - val_accuracy: 0.3084\n",
            "Epoch 4/50\n",
            "156/156 [==============================] - 3s 19ms/step - loss: 2.5003 - accuracy: 0.3403 - val_loss: 3.2042 - val_accuracy: 0.2289\n",
            "Epoch 5/50\n",
            "156/156 [==============================] - 3s 19ms/step - loss: 2.3988 - accuracy: 0.3457 - val_loss: 2.7562 - val_accuracy: 0.3052\n",
            "Epoch 6/50\n",
            "156/156 [==============================] - 3s 19ms/step - loss: 2.2481 - accuracy: 0.3698 - val_loss: 3.2766 - val_accuracy: 0.2337\n",
            "Epoch 7/50\n",
            "156/156 [==============================] - 3s 19ms/step - loss: 2.1597 - accuracy: 0.3891 - val_loss: 2.8496 - val_accuracy: 0.3157\n",
            "Epoch 8/50\n",
            "156/156 [==============================] - 3s 19ms/step - loss: 2.0702 - accuracy: 0.4075 - val_loss: 2.4812 - val_accuracy: 0.3807\n",
            "Epoch 9/50\n",
            "156/156 [==============================] - 3s 19ms/step - loss: 1.9950 - accuracy: 0.4222 - val_loss: 3.2220 - val_accuracy: 0.2723\n",
            "Epoch 10/50\n",
            "156/156 [==============================] - 3s 19ms/step - loss: 1.9188 - accuracy: 0.4296 - val_loss: 2.6455 - val_accuracy: 0.3550\n",
            "Epoch 11/50\n",
            "156/156 [==============================] - 3s 19ms/step - loss: 1.8547 - accuracy: 0.4417 - val_loss: 3.0910 - val_accuracy: 0.2795\n",
            "Epoch 12/50\n",
            "156/156 [==============================] - 3s 19ms/step - loss: 1.8065 - accuracy: 0.4579 - val_loss: 2.6223 - val_accuracy: 0.3735\n",
            "Epoch 13/50\n",
            "156/156 [==============================] - 3s 19ms/step - loss: 1.7348 - accuracy: 0.4744 - val_loss: 2.6521 - val_accuracy: 0.3775\n",
            "Epoch 14/50\n",
            "156/156 [==============================] - 3s 19ms/step - loss: 1.6885 - accuracy: 0.4818 - val_loss: 2.4756 - val_accuracy: 0.4024\n",
            "Epoch 15/50\n",
            "156/156 [==============================] - 3s 19ms/step - loss: 1.6337 - accuracy: 0.5055 - val_loss: 2.4959 - val_accuracy: 0.3912\n",
            "Epoch 16/50\n",
            "156/156 [==============================] - 3s 19ms/step - loss: 1.5661 - accuracy: 0.5194 - val_loss: 3.3273 - val_accuracy: 0.3028\n",
            "Epoch 17/50\n",
            "156/156 [==============================] - 3s 19ms/step - loss: 1.5325 - accuracy: 0.5238 - val_loss: 2.9987 - val_accuracy: 0.3293\n",
            "Epoch 18/50\n",
            "156/156 [==============================] - 3s 19ms/step - loss: 1.4878 - accuracy: 0.5407 - val_loss: 2.4134 - val_accuracy: 0.3976\n",
            "Epoch 19/50\n",
            "156/156 [==============================] - 3s 19ms/step - loss: 1.4449 - accuracy: 0.5523 - val_loss: 2.4405 - val_accuracy: 0.3944\n",
            "Epoch 20/50\n",
            "156/156 [==============================] - 3s 19ms/step - loss: 1.4118 - accuracy: 0.5597 - val_loss: 2.4845 - val_accuracy: 0.3863\n",
            "Epoch 21/50\n",
            "156/156 [==============================] - 3s 19ms/step - loss: 1.3265 - accuracy: 0.5832 - val_loss: 2.5435 - val_accuracy: 0.4072\n",
            "Epoch 22/50\n",
            "156/156 [==============================] - 3s 19ms/step - loss: 1.3025 - accuracy: 0.5939 - val_loss: 2.9569 - val_accuracy: 0.3430\n",
            "Epoch 23/50\n",
            "156/156 [==============================] - 3s 19ms/step - loss: 1.2675 - accuracy: 0.5985 - val_loss: 2.7203 - val_accuracy: 0.3863\n",
            "Epoch 24/50\n",
            "156/156 [==============================] - 3s 19ms/step - loss: 1.2430 - accuracy: 0.5983 - val_loss: 2.4662 - val_accuracy: 0.4072\n",
            "Epoch 25/50\n",
            "156/156 [==============================] - 3s 19ms/step - loss: 1.2141 - accuracy: 0.6039 - val_loss: 2.4197 - val_accuracy: 0.4129\n",
            "Epoch 26/50\n",
            "156/156 [==============================] - 3s 19ms/step - loss: 1.1621 - accuracy: 0.6294 - val_loss: 2.4238 - val_accuracy: 0.4169\n",
            "Epoch 27/50\n",
            "156/156 [==============================] - 3s 19ms/step - loss: 1.1312 - accuracy: 0.6252 - val_loss: 2.7751 - val_accuracy: 0.3791\n",
            "Epoch 28/50\n",
            "156/156 [==============================] - 3s 19ms/step - loss: 1.0799 - accuracy: 0.6440 - val_loss: 2.5819 - val_accuracy: 0.4040\n",
            "Epoch 29/50\n",
            "156/156 [==============================] - 3s 19ms/step - loss: 1.0441 - accuracy: 0.6565 - val_loss: 2.6943 - val_accuracy: 0.3976\n",
            "Epoch 30/50\n",
            "156/156 [==============================] - 3s 19ms/step - loss: 1.0054 - accuracy: 0.6687 - val_loss: 2.6594 - val_accuracy: 0.3992\n",
            "Epoch 31/50\n",
            "156/156 [==============================] - 3s 19ms/step - loss: 0.9971 - accuracy: 0.6720 - val_loss: 2.8126 - val_accuracy: 0.3775\n",
            "Epoch 32/50\n",
            "156/156 [==============================] - 3s 19ms/step - loss: 1.0007 - accuracy: 0.6720 - val_loss: 2.9516 - val_accuracy: 0.3566\n",
            "Epoch 33/50\n",
            "156/156 [==============================] - 3s 19ms/step - loss: 0.9406 - accuracy: 0.6940 - val_loss: 2.9403 - val_accuracy: 0.3880\n",
            "Epoch 34/50\n",
            "156/156 [==============================] - 3s 19ms/step - loss: 0.9264 - accuracy: 0.6922 - val_loss: 3.0191 - val_accuracy: 0.3783\n",
            "Epoch 35/50\n",
            "156/156 [==============================] - 3s 19ms/step - loss: 0.8989 - accuracy: 0.7011 - val_loss: 2.8238 - val_accuracy: 0.4104\n",
            "Epoch 36/50\n",
            "156/156 [==============================] - 3s 19ms/step - loss: 0.8835 - accuracy: 0.7057 - val_loss: 2.6780 - val_accuracy: 0.4209\n",
            "Epoch 37/50\n",
            "156/156 [==============================] - 3s 19ms/step - loss: 0.8421 - accuracy: 0.7181 - val_loss: 3.0616 - val_accuracy: 0.3823\n",
            "Epoch 38/50\n",
            "156/156 [==============================] - 3s 19ms/step - loss: 0.8176 - accuracy: 0.7268 - val_loss: 3.1666 - val_accuracy: 0.3614\n",
            "Epoch 39/50\n",
            "156/156 [==============================] - 3s 19ms/step - loss: 0.7967 - accuracy: 0.7312 - val_loss: 3.0780 - val_accuracy: 0.3783\n",
            "Epoch 40/50\n",
            "156/156 [==============================] - 3s 19ms/step - loss: 0.7695 - accuracy: 0.7432 - val_loss: 2.6330 - val_accuracy: 0.4418\n",
            "Epoch 41/50\n",
            "156/156 [==============================] - 3s 19ms/step - loss: 0.7568 - accuracy: 0.7362 - val_loss: 3.1946 - val_accuracy: 0.3574\n",
            "Epoch 42/50\n",
            "156/156 [==============================] - 3s 19ms/step - loss: 0.7314 - accuracy: 0.7533 - val_loss: 3.5401 - val_accuracy: 0.3365\n",
            "Epoch 43/50\n",
            "156/156 [==============================] - 3s 19ms/step - loss: 0.6965 - accuracy: 0.7667 - val_loss: 2.8841 - val_accuracy: 0.4217\n",
            "Epoch 44/50\n",
            "156/156 [==============================] - 3s 19ms/step - loss: 0.7266 - accuracy: 0.7458 - val_loss: 3.1130 - val_accuracy: 0.3944\n",
            "Epoch 45/50\n",
            "156/156 [==============================] - 3s 19ms/step - loss: 0.6453 - accuracy: 0.7786 - val_loss: 2.6649 - val_accuracy: 0.4297\n",
            "Epoch 46/50\n",
            "156/156 [==============================] - 3s 19ms/step - loss: 0.6688 - accuracy: 0.7739 - val_loss: 3.2480 - val_accuracy: 0.3799\n",
            "Epoch 47/50\n",
            "156/156 [==============================] - 3s 19ms/step - loss: 0.6251 - accuracy: 0.7886 - val_loss: 2.8923 - val_accuracy: 0.4169\n",
            "Epoch 48/50\n",
            "156/156 [==============================] - 3s 19ms/step - loss: 0.6133 - accuracy: 0.7942 - val_loss: 3.2292 - val_accuracy: 0.4145\n",
            "Epoch 49/50\n",
            "156/156 [==============================] - 3s 19ms/step - loss: 0.6079 - accuracy: 0.7976 - val_loss: 3.2501 - val_accuracy: 0.4193\n",
            "Epoch 50/50\n",
            "156/156 [==============================] - 3s 19ms/step - loss: 0.5800 - accuracy: 0.8077 - val_loss: 3.8260 - val_accuracy: 0.3863\n"
          ]
        }
      ]
    },
    {
      "cell_type": "code",
      "metadata": {
        "id": "ynhS2KjVEhj8",
        "colab": {
          "base_uri": "https://localhost:8080/",
          "height": 499
        },
        "outputId": "cfca7146-0727-411c-a671-431ab432c005"
      },
      "source": [
        "acc = history.history['accuracy']\n",
        "val_acc = history.history['val_accuracy']\n",
        "\n",
        "loss = history.history['loss']\n",
        "val_loss = history.history['val_loss']\n",
        "\n",
        "epochs_range = range(epochs)\n",
        "\n",
        "plt.figure(figsize=(8, 8))\n",
        "plt.subplot(1, 2, 1)\n",
        "plt.plot(epochs_range, acc, label='Training Accuracy')\n",
        "plt.plot(epochs_range, val_acc, label='Validation Accuracy')\n",
        "plt.legend(loc='lower right')\n",
        "plt.title('Training and Validation Accuracy')\n",
        "\n",
        "plt.subplot(1, 2, 2)\n",
        "plt.plot(epochs_range, loss, label='Training Loss')\n",
        "plt.plot(epochs_range, val_loss, label='Validation Loss')\n",
        "plt.legend(loc='upper right')\n",
        "plt.title('Training and Validation Loss')\n",
        "plt.show()"
      ],
      "execution_count": null,
      "outputs": [
        {
          "output_type": "display_data",
          "data": {
            "image/png": "[encoded data removed]",
            "text/plain": [
              "<Figure size 576x576 with 2 Axes>"
            ]
          },
          "metadata": {
            "needs_background": "light"
          }
        }
      ]
    },
    {
      "cell_type": "code",
      "metadata": {
        "id": "IbEQMrsAH2yZ",
        "colab": {
          "base_uri": "https://localhost:8080/"
        },
        "outputId": "d8350ed4-9341-4b2e-e5aa-ad9d6e46a25e"
      },
      "source": [
        "model.compile(\n",
        "    optimizer='adam',\n",
        "    loss=tf.losses.SparseCategoricalCrossentropy(from_logits=True),\n",
        "    metrics=['accuracy'])\n",
        "model.summary()"
      ],
      "execution_count": null,
      "outputs": [
        {
          "output_type": "stream",
          "name": "stdout",
          "text": [
            "Model: \"sequential_2\"\n",
            "_________________________________________________________________\n",
            " Layer (type)                Output Shape              Param #   \n",
            "=================================================================\n",
            " sequential_1 (Sequential)   (None, 180, 180, 1)       0         \n",
            "                                                                 \n",
            " rescaling_2 (Rescaling)     (None, 180, 180, 1)       0         \n",
            "                                                                 \n",
            " conv2d_3 (Conv2D)           (None, 178, 178, 32)      320       \n",
            "                                                                 \n",
            " max_pooling2d_3 (MaxPooling  (None, 89, 89, 32)       0         \n",
            " 2D)                                                             \n",
            "                                                                 \n",
            " conv2d_4 (Conv2D)           (None, 89, 89, 32)        9248      \n",
            "                                                                 \n",
            " max_pooling2d_4 (MaxPooling  (None, 44, 44, 32)       0         \n",
            " 2D)                                                             \n",
            "                                                                 \n",
            " conv2d_5 (Conv2D)           (None, 44, 44, 32)        9248      \n",
            "                                                                 \n",
            " max_pooling2d_5 (MaxPooling  (None, 22, 22, 32)       0         \n",
            " 2D)                                                             \n",
            "                                                                 \n",
            " dropout (Dropout)           (None, 22, 22, 32)        0         \n",
            "                                                                 \n",
            " flatten_1 (Flatten)         (None, 15488)             0         \n",
            "                                                                 \n",
            " dense_9 (Dense)             (None, 128)               1982592   \n",
            "                                                                 \n",
            " batch_normalization_9 (Batc  (None, 128)              512       \n",
            " hNormalization)                                                 \n",
            "                                                                 \n",
            " dense_10 (Dense)            (None, 128)               16512     \n",
            "                                                                 \n",
            " batch_normalization_10 (Bat  (None, 128)              512       \n",
            " chNormalization)                                                \n",
            "                                                                 \n",
            " dense_11 (Dense)            (None, 128)               16512     \n",
            "                                                                 \n",
            " batch_normalization_11 (Bat  (None, 128)              512       \n",
            " chNormalization)                                                \n",
            "                                                                 \n",
            " dense_12 (Dense)            (None, 128)               16512     \n",
            "                                                                 \n",
            " batch_normalization_12 (Bat  (None, 128)              512       \n",
            " chNormalization)                                                \n",
            "                                                                 \n",
            " dense_13 (Dense)            (None, 128)               16512     \n",
            "                                                                 \n",
            " batch_normalization_13 (Bat  (None, 128)              512       \n",
            " chNormalization)                                                \n",
            "                                                                 \n",
            " dense_14 (Dense)            (None, 128)               16512     \n",
            "                                                                 \n",
            " batch_normalization_14 (Bat  (None, 128)              512       \n",
            " chNormalization)                                                \n",
            "                                                                 \n",
            " dense_15 (Dense)            (None, 128)               16512     \n",
            "                                                                 \n",
            " batch_normalization_15 (Bat  (None, 128)              512       \n",
            " chNormalization)                                                \n",
            "                                                                 \n",
            " dense_16 (Dense)            (None, 107)               13803     \n",
            "                                                                 \n",
            " batch_normalization_16 (Bat  (None, 107)              428       \n",
            " chNormalization)                                                \n",
            "                                                                 \n",
            " dense_17 (Dense)            (None, 107)               11556     \n",
            "                                                                 \n",
            "=================================================================\n",
            "Total params: 2,129,851\n",
            "Trainable params: 2,127,845\n",
            "Non-trainable params: 2,006\n",
            "_________________________________________________________________\n"
          ]
        }
      ]
    },
    {
      "cell_type": "code",
      "metadata": {
        "id": "df30HUqFjWre"
      },
      "source": [
        ""
      ],
      "execution_count": null,
      "outputs": []
    }
  ]
}