{
  "nbformat": 4,
  "nbformat_minor": 0,
  "metadata": {
    "colab": {
      "name": "3Class_Genus_BatchNormal_Input_dim_Layer_2.ipynb",
      "provenance": [],
      "collapsed_sections": [],
      "mount_file_id": "1TiPuTgt3vJ6wkpNO2TR7fpYo_MijIOwp",
      "authorship_tag": "ABX9TyNDqTmlUyNVmwzYbtwC101p",
      "include_colab_link": true
    },
    "kernelspec": {
      "name": "python3",
      "display_name": "Python 3"
    },
    "language_info": {
      "name": "python"
    },
    "accelerator": "GPU"
  },
  "cells": [
    {
      "cell_type": "markdown",
      "metadata": {
        "id": "view-in-github",
        "colab_type": "text"
      },
      "source": [
        "<a href=\"https://colab.research.google.com/github/Tajyu/Master_Degree_Paper/blob/main/Code/Filter_32/Input_dim/3Class_Genus_BatchNormal_Input_dim_Layer_2.ipynb\" target=\"_parent\"><img src=\"https://colab.research.google.com/assets/colab-badge.svg\" alt=\"Open In Colab\"/></a>"
      ]
    },
    {
      "cell_type": "code",
      "metadata": {
        "id": "yWckd06_68Em"
      },
      "source": [
        "import tensorflow as tf\n",
        "from tensorflow.keras import datasets, layers, models\n",
        "from keras.preprocessing.image import ImageDataGenerator\n",
        "import numpy as np\n",
        "import matplotlib.pyplot as plt\n",
        "import cv2 as cv\n",
        "import os\n",
        "import pathlib\n",
        "import PIL\n",
        "from tensorflow import keras\n",
        "from tensorflow.keras import layers\n",
        "from tensorflow.keras.models import Sequential\n",
        "from tensorflow.keras.layers import Dense, Flatten, BatchNormalization, Dropout"
      ],
      "execution_count": null,
      "outputs": []
    },
    {
      "cell_type": "code",
      "metadata": {
        "id": "xav9zirHttk_"
      },
      "source": [
        "image_list = os.listdir('/content/drive/MyDrive/Colab Notebooks/Final_Project/Cell_Genus')"
      ],
      "execution_count": null,
      "outputs": []
    },
    {
      "cell_type": "code",
      "metadata": {
        "colab": {
          "base_uri": "https://localhost:8080/"
        },
        "id": "K-wD0dM5tx_E",
        "outputId": "9762a63e-6083-47b4-a7d3-3109355b32b5"
      },
      "source": [
        "print(image_list)"
      ],
      "execution_count": null,
      "outputs": [
        {
          "output_type": "stream",
          "name": "stdout",
          "text": [
            "['10_Genus_Stauroneis_Ehrenberg', '10_Genus_Staurosira_Ehrenberg', '11_Genus_Craspedostauros_E.J_Cox_1999', '11_Genus_Staurosirella_Williams_and_Round', '12_Genus_Caloneis_Cleve_1894', '12_Genus_Synedra_Ehrenberg', '13_Genus_Pinnularia_Ehrenberg_1843', '1_Genus_Acanthoceras_Honigmann', '1_Genus_Achnanthes_Bory', '1_Genus_Actinocyclus_Ehrenberg', '1_Genus_Aphanocapsa_Nageli_1849', '1_Genus_Asterionella_Hassall', '1_Genus_Aulacoseira', '1_Genus_Biremis_Mann_et_Cox_in_Round_Crawford_and_Mann', '1_Genus_Characium_A_Braun_in_Kutzing_1849', '1_Genus_Chroococcus_Nageli', '1_Genus_Closterium_Nitzsch_ex_Ralfs_1848', '1_Genus_Coelastrum_Nageli_1849', '1_Genus_Cylindrocystis_Meneghini_ex_de_Bary_1858', '1_Genus_Dictyosphaerium_Nageli_1849', '1_Genus_Docidium_Brebisson_ex_Ralfs_1848', '1_Genus_Eunotia_Ehrenberg', '1_Genus_Geitlerinema_(Anagnostidis_et_Komarek)_Anagnostidis_1989', '1_Genus_Gonatozygon_de_Bary_1856', '1_Genus_Hydrodictyon_Roth_1797', '1_Genus_Hydrosera_whampoensis', '1_Genus_Jaaginema_Anagnostidis_et_Komarek_1988', '1_Genus_Lyngbya_C_Agardh_ex_Gomont_1892', '1_Genus_Melosira_Agardh', '1_Genus_Micractinium_Fresenius_1858', '1_Genus_Micrasterias_Ralfs_1848', '1_Genus_Microcystis_Kutzing_ex_Lemmermann_1907', '1_Genus_Oscillatoria_Vaucher_ex_Gomont_1982', '1_Genus_Pediastrum_Meyen_1829', '1_Genus_Penium_Brebisson_ex_Ralfs_in_Ralfs_1848', '1_Genus_Phormidium_Kutzing_ex_Gomont_1892', '1_Genus_Planktothrix_Anagnostidis_et_Komarek_1988', '1_Genus_Pleurosira_laevis_(Ehrenberg)', '1_Genus_Rhizosolenia_Ehrenberg', '1_Genus_Schizochlamydella_Korshikov_1953', '1_Genus_Staurodesmus_Teiling_1848', '1_Genus_Trochiscia_Kutzing_1834', '1_Scenedesmus_Hegewald_1978', '2_Acutodesmus_Hegewald_1978', '2_Genus_Achnanthidium_Kutzing', '2_Genus_Actinastrum_Lagerheim_1882', '2_Genus_Actinella_Lewis', '2_Genus_Ankyra_Fott_1957', '2_Genus_Caloneis_Cleve', '2_Genus_Chaetoceros_Ehrenberg', '2_Genus_Coenochloris_Korshikov_1953', '2_Genus_Cyclotella', '2_Genus_Diatoma_Bory', '2_Genus_Dimorphococcus_A_Braun_1855', '2_Genus_Golenkinia_Chodat_1894', '2_Genus_Haplotaenium_Bando_1988', '2_Genus_Leibleinia_(Gomont)_L_Hoffman_1985', '2_Genus_Leptolyngbya_Anagnostidis_et_Komarek_1988', '2_Genus_Merismopedia_Meyen_1839', '2_Genus_Netrium_(Nageli)_Itzigsohn_et_Rothe_in_Rabenhorst_1856', '2_Genus_Orthoseira_Thwaites_1848', '2_Genus_Phormidium_Kutzing_ex_Gomont_1892', '2_Genus_Sorastrum_Kutzing_1845', '2_Genus_Staurastrum_Meyen_ex_Ralfs_1848', '3_Desmodesmus_Chodat_1926', '3_Genus_Acanthosphaera_Lemmerman_1899', '3_Genus_Anorthoneis_Grunow', '3_Genus_Cyclostephanos_Round', '3_Genus_Dichotomococcus_Korshikov_1928', '3_Genus_Heteroleibleinia_(Geitler)_L_Hoffmann_1985', '3_Genus_Limnothrix_Meffert_1988', '3_Genus_Meridion_Agardh', '3_Genus_Paradoxia_Svirenko_1928', '3_Genus_Peronia_Bebisson_and_Arnott_ex_Kitton', '3_Genus_Phormidiochaete_Komarek_in_Anagnostidis_2001', '3_Genus_Pinnularia_Ehrenberg_1', '3_Genus_Pleurotaenium_Nageli_1849', '3_Genus_Radiococcus_Schmidle_1902', '3_Genus_Snowella_Elenkin_1938', '3_Genus_Spirotaenia_Brebisson_in_Ralfs_1848', '4_Genus_Botryococcus_Kutzing_1849', '4_Genus_Cocconeis_Ehrenberg', '4_Genus_Eutetramorus_Walton_1918', '4_Genus_Leptolyngbya_Anagnostidis_et_Komarek_1988', '4_Genus_Opephora_Petit', '4_Genus_Pinnularia_Ehrenberg_2', '4_Genus_Schroederia_Lemmermann_1898', '4_Genus_Stephanodiscus_Ehrenberg', '4_Genus_Synechocystis_Sauvageau_1892', '4_Genus_Tortitaenia_A_J_Brook_1998', '5_Genus_Caloneis_Cleve', '5_Genus_Coenocystis_Korshikov_1953', '5_Genus_Planktolyngbya_Anagnostidis_et_Komarek_1988', '5_Genus_Tabellaria_Ehrenberg', '5_Genus_Thalassiosira_Cleve', '5_Genus_Woronichinia_Elenkin_1933', '6_Genus_Anomoeoneis_Pfitzer', '6_Genus_Fragilaria_Lyngbye', '6_Genus_Gloeocystis_Nageli_1849', '6_Genus_Pseudanabaena_Lauterborn_1915', '6_Genus_Skeletonema_Greville', '7_Genus_Caloneis_Cleve', '7_Genus_Hannaea_Patrick', '8_Genus_Diploneis(Ehrenberg)_Cleve', '8_Genus_Pseudostaurosira_Williams_and_Round', '9_Genus_Neidium_Pfitzer', '9_Genus_Punctastriata_Williams_and_Round']\n"
          ]
        }
      ]
    },
    {
      "cell_type": "code",
      "metadata": {
        "id": "o-0DvzEHt8VE"
      },
      "source": [
        "data_generator = ImageDataGenerator(rescale = 1./255)\n",
        "\n",
        "data_dir = \"/content/drive/MyDrive/Colab Notebooks/Final_Project/Cell_Genus\""
      ],
      "execution_count": null,
      "outputs": []
    },
    {
      "cell_type": "code",
      "metadata": {
        "id": "7aTCfEm3t10n"
      },
      "source": [
        "batch_size = 32\n",
        "img_height = 180\n",
        "img_width = 180"
      ],
      "execution_count": null,
      "outputs": []
    },
    {
      "cell_type": "code",
      "metadata": {
        "colab": {
          "base_uri": "https://localhost:8080/"
        },
        "id": "9Smg-miEt22s",
        "outputId": "4282b31c-a4c9-4f0e-e4b5-01856752ef90"
      },
      "source": [
        "train_ds = tf.keras.preprocessing.image_dataset_from_directory(\n",
        "  data_dir,\n",
        "  color_mode = \"grayscale\",\n",
        "  validation_split=0.2,\n",
        "  subset=\"training\",\n",
        "  seed=123,\n",
        "  image_size=(img_height, img_width),\n",
        "  batch_size=batch_size)"
      ],
      "execution_count": null,
      "outputs": [
        {
          "output_type": "stream",
          "name": "stdout",
          "text": [
            "Found 6226 files belonging to 107 classes.\n",
            "Using 4981 files for training.\n"
          ]
        }
      ]
    },
    {
      "cell_type": "code",
      "metadata": {
        "colab": {
          "base_uri": "https://localhost:8080/"
        },
        "id": "1nR0WdQGt44x",
        "outputId": "8449979c-6811-4c92-8c02-6a073e9ac19e"
      },
      "source": [
        "val_ds = tf.keras.preprocessing.image_dataset_from_directory(\n",
        "  data_dir,\n",
        "  color_mode = \"grayscale\",\n",
        "  validation_split=0.2,\n",
        "  subset=\"validation\",\n",
        "  seed=123,\n",
        "  image_size=(img_height, img_width),\n",
        "  batch_size=batch_size)"
      ],
      "execution_count": null,
      "outputs": [
        {
          "output_type": "stream",
          "name": "stdout",
          "text": [
            "Found 6226 files belonging to 107 classes.\n",
            "Using 1245 files for validation.\n"
          ]
        }
      ]
    },
    {
      "cell_type": "code",
      "metadata": {
        "colab": {
          "base_uri": "https://localhost:8080/"
        },
        "id": "F-cz_CtGug8Y",
        "outputId": "e4c411df-57e1-4184-d7e3-a01ed34ee082"
      },
      "source": [
        "class_names = train_ds.class_names\n",
        "print(class_names)"
      ],
      "execution_count": null,
      "outputs": [
        {
          "output_type": "stream",
          "name": "stdout",
          "text": [
            "['10_Genus_Stauroneis_Ehrenberg', '10_Genus_Staurosira_Ehrenberg', '11_Genus_Craspedostauros_E.J_Cox_1999', '11_Genus_Staurosirella_Williams_and_Round', '12_Genus_Caloneis_Cleve_1894', '12_Genus_Synedra_Ehrenberg', '13_Genus_Pinnularia_Ehrenberg_1843', '1_Genus_Acanthoceras_Honigmann', '1_Genus_Achnanthes_Bory', '1_Genus_Actinocyclus_Ehrenberg', '1_Genus_Aphanocapsa_Nageli_1849', '1_Genus_Asterionella_Hassall', '1_Genus_Aulacoseira', '1_Genus_Biremis_Mann_et_Cox_in_Round_Crawford_and_Mann', '1_Genus_Characium_A_Braun_in_Kutzing_1849', '1_Genus_Chroococcus_Nageli', '1_Genus_Closterium_Nitzsch_ex_Ralfs_1848', '1_Genus_Coelastrum_Nageli_1849', '1_Genus_Cylindrocystis_Meneghini_ex_de_Bary_1858', '1_Genus_Dictyosphaerium_Nageli_1849', '1_Genus_Docidium_Brebisson_ex_Ralfs_1848', '1_Genus_Eunotia_Ehrenberg', '1_Genus_Geitlerinema_(Anagnostidis_et_Komarek)_Anagnostidis_1989', '1_Genus_Gonatozygon_de_Bary_1856', '1_Genus_Hydrodictyon_Roth_1797', '1_Genus_Hydrosera_whampoensis', '1_Genus_Jaaginema_Anagnostidis_et_Komarek_1988', '1_Genus_Lyngbya_C_Agardh_ex_Gomont_1892', '1_Genus_Melosira_Agardh', '1_Genus_Micractinium_Fresenius_1858', '1_Genus_Micrasterias_Ralfs_1848', '1_Genus_Microcystis_Kutzing_ex_Lemmermann_1907', '1_Genus_Oscillatoria_Vaucher_ex_Gomont_1982', '1_Genus_Pediastrum_Meyen_1829', '1_Genus_Penium_Brebisson_ex_Ralfs_in_Ralfs_1848', '1_Genus_Phormidium_Kutzing_ex_Gomont_1892', '1_Genus_Planktothrix_Anagnostidis_et_Komarek_1988', '1_Genus_Pleurosira_laevis_(Ehrenberg)', '1_Genus_Rhizosolenia_Ehrenberg', '1_Genus_Schizochlamydella_Korshikov_1953', '1_Genus_Staurodesmus_Teiling_1848', '1_Genus_Trochiscia_Kutzing_1834', '1_Scenedesmus_Hegewald_1978', '2_Acutodesmus_Hegewald_1978', '2_Genus_Achnanthidium_Kutzing', '2_Genus_Actinastrum_Lagerheim_1882', '2_Genus_Actinella_Lewis', '2_Genus_Ankyra_Fott_1957', '2_Genus_Caloneis_Cleve', '2_Genus_Chaetoceros_Ehrenberg', '2_Genus_Coenochloris_Korshikov_1953', '2_Genus_Cyclotella', '2_Genus_Diatoma_Bory', '2_Genus_Dimorphococcus_A_Braun_1855', '2_Genus_Golenkinia_Chodat_1894', '2_Genus_Haplotaenium_Bando_1988', '2_Genus_Leibleinia_(Gomont)_L_Hoffman_1985', '2_Genus_Leptolyngbya_Anagnostidis_et_Komarek_1988', '2_Genus_Merismopedia_Meyen_1839', '2_Genus_Netrium_(Nageli)_Itzigsohn_et_Rothe_in_Rabenhorst_1856', '2_Genus_Orthoseira_Thwaites_1848', '2_Genus_Phormidium_Kutzing_ex_Gomont_1892', '2_Genus_Sorastrum_Kutzing_1845', '2_Genus_Staurastrum_Meyen_ex_Ralfs_1848', '3_Desmodesmus_Chodat_1926', '3_Genus_Acanthosphaera_Lemmerman_1899', '3_Genus_Anorthoneis_Grunow', '3_Genus_Cyclostephanos_Round', '3_Genus_Dichotomococcus_Korshikov_1928', '3_Genus_Heteroleibleinia_(Geitler)_L_Hoffmann_1985', '3_Genus_Limnothrix_Meffert_1988', '3_Genus_Meridion_Agardh', '3_Genus_Paradoxia_Svirenko_1928', '3_Genus_Peronia_Bebisson_and_Arnott_ex_Kitton', '3_Genus_Phormidiochaete_Komarek_in_Anagnostidis_2001', '3_Genus_Pinnularia_Ehrenberg_1', '3_Genus_Pleurotaenium_Nageli_1849', '3_Genus_Radiococcus_Schmidle_1902', '3_Genus_Snowella_Elenkin_1938', '3_Genus_Spirotaenia_Brebisson_in_Ralfs_1848', '4_Genus_Botryococcus_Kutzing_1849', '4_Genus_Cocconeis_Ehrenberg', '4_Genus_Eutetramorus_Walton_1918', '4_Genus_Leptolyngbya_Anagnostidis_et_Komarek_1988', '4_Genus_Opephora_Petit', '4_Genus_Pinnularia_Ehrenberg_2', '4_Genus_Schroederia_Lemmermann_1898', '4_Genus_Stephanodiscus_Ehrenberg', '4_Genus_Synechocystis_Sauvageau_1892', '4_Genus_Tortitaenia_A_J_Brook_1998', '5_Genus_Caloneis_Cleve', '5_Genus_Coenocystis_Korshikov_1953', '5_Genus_Planktolyngbya_Anagnostidis_et_Komarek_1988', '5_Genus_Tabellaria_Ehrenberg', '5_Genus_Thalassiosira_Cleve', '5_Genus_Woronichinia_Elenkin_1933', '6_Genus_Anomoeoneis_Pfitzer', '6_Genus_Fragilaria_Lyngbye', '6_Genus_Gloeocystis_Nageli_1849', '6_Genus_Pseudanabaena_Lauterborn_1915', '6_Genus_Skeletonema_Greville', '7_Genus_Caloneis_Cleve', '7_Genus_Hannaea_Patrick', '8_Genus_Diploneis(Ehrenberg)_Cleve', '8_Genus_Pseudostaurosira_Williams_and_Round', '9_Genus_Neidium_Pfitzer', '9_Genus_Punctastriata_Williams_and_Round']\n"
          ]
        }
      ]
    },
    {
      "cell_type": "code",
      "metadata": {
        "colab": {
          "base_uri": "https://localhost:8080/"
        },
        "id": "5EQOikPAukic",
        "outputId": "7eaa2ff7-adfc-40db-b538-fd2948611b83"
      },
      "source": [
        "for image_batch, labels_batch in train_ds:\n",
        "  print(image_batch.shape)\n",
        "  print(labels_batch.shape)\n",
        "  break"
      ],
      "execution_count": null,
      "outputs": [
        {
          "output_type": "stream",
          "name": "stdout",
          "text": [
            "(32, 180, 180, 1)\n",
            "(32,)\n"
          ]
        }
      ]
    },
    {
      "cell_type": "code",
      "metadata": {
        "id": "9eVl7tiDux9q"
      },
      "source": [
        "from tensorflow.keras import layers\n",
        "\n",
        "normalization_layer = tf.keras.layers.experimental.preprocessing.Rescaling(1./255)"
      ],
      "execution_count": null,
      "outputs": []
    },
    {
      "cell_type": "code",
      "metadata": {
        "colab": {
          "base_uri": "https://localhost:8080/"
        },
        "id": "AiIrsxzZuzEo",
        "outputId": "30d56b89-63f2-4fe0-8e39-bedff2cd2544"
      },
      "source": [
        "normalized_ds = train_ds.map(lambda x, y: (normalization_layer(x), y))\n",
        "image_batch, labels_batch = next(iter(normalized_ds))\n",
        "first_image = image_batch[0]\n",
        "# Notice the pixels values are now in `[0,1]`.\n",
        "print(np.min(first_image), np.max(first_image))"
      ],
      "execution_count": null,
      "outputs": [
        {
          "output_type": "stream",
          "name": "stdout",
          "text": [
            "0.0 1.0\n"
          ]
        }
      ]
    },
    {
      "cell_type": "code",
      "metadata": {
        "id": "__WbVabru0Bp"
      },
      "source": [
        "AUTOTUNE = tf.data.experimental.AUTOTUNE\n",
        "\n",
        "train_ds = train_ds.cache().prefetch(buffer_size=AUTOTUNE)\n",
        "val_ds = val_ds.cache().prefetch(buffer_size=AUTOTUNE)"
      ],
      "execution_count": null,
      "outputs": []
    },
    {
      "cell_type": "code",
      "metadata": {
        "id": "g1GeYFXCu2gV"
      },
      "source": [
        "num_classes = 107\n",
        "model = tf.keras.Sequential([\n",
        "    layers.experimental.preprocessing.Rescaling(1./255),\n",
        "    layers.Conv2D(32, 3,input_shape = image_batch, activation='relu'),\n",
        "    layers.MaxPooling2D(),\n",
        "    layers.Conv2D(32, 3, activation='relu'),\n",
        "    layers.MaxPooling2D(),\n",
        "    layers.Conv2D(32, 3, activation='relu'),\n",
        "    layers.MaxPooling2D(),\n",
        "    layers.Flatten(),\n",
        "    BatchNormalization(),\n",
        "    layers.Dense(128, input_dim = 107, activation='relu'),\n",
        "    BatchNormalization(),\n",
        "    layers.Dense(107, activation='softmax'),\n",
        "    BatchNormalization(),\n",
        "    layers.Dense(num_classes)\n",
        "    ])"
      ],
      "execution_count": null,
      "outputs": []
    },
    {
      "cell_type": "code",
      "metadata": {
        "id": "wU4xPAvNYWry"
      },
      "source": [
        "model.compile(\n",
        "    optimizer='adam',\n",
        "    loss=tf.losses.SparseCategoricalCrossentropy(from_logits=True),\n",
        "    metrics=['accuracy'])"
      ],
      "execution_count": null,
      "outputs": []
    },
    {
      "cell_type": "code",
      "metadata": {
        "colab": {
          "base_uri": "https://localhost:8080/"
        },
        "id": "Tk8ssrbHu44p",
        "outputId": "6c288f0e-ab59-41e4-ba82-fce34b914fcb"
      },
      "source": [
        "epochs=50\n",
        "history = model.fit(\n",
        "  train_ds,\n",
        "  validation_data=val_ds,\n",
        "  epochs=epochs\n",
        ")"
      ],
      "execution_count": null,
      "outputs": [
        {
          "output_type": "stream",
          "name": "stdout",
          "text": [
            "Epoch 1/50\n",
            "156/156 [==============================] - 1683s 11s/step - loss: 3.1894 - accuracy: 0.3317 - val_loss: 4.2320 - val_accuracy: 0.0980\n",
            "Epoch 2/50\n",
            "156/156 [==============================] - 2s 15ms/step - loss: 1.8568 - accuracy: 0.5394 - val_loss: 3.8283 - val_accuracy: 0.2000\n",
            "Epoch 3/50\n",
            "156/156 [==============================] - 2s 15ms/step - loss: 1.1512 - accuracy: 0.7244 - val_loss: 3.0045 - val_accuracy: 0.3237\n",
            "Epoch 4/50\n",
            "156/156 [==============================] - 2s 15ms/step - loss: 0.7197 - accuracy: 0.8440 - val_loss: 2.1779 - val_accuracy: 0.4739\n",
            "Epoch 5/50\n",
            "156/156 [==============================] - 2s 15ms/step - loss: 0.4435 - accuracy: 0.9131 - val_loss: 2.1869 - val_accuracy: 0.4900\n",
            "Epoch 6/50\n",
            "156/156 [==============================] - 2s 15ms/step - loss: 0.2757 - accuracy: 0.9508 - val_loss: 2.2716 - val_accuracy: 0.4795\n",
            "Epoch 7/50\n",
            "156/156 [==============================] - 2s 15ms/step - loss: 0.1699 - accuracy: 0.9759 - val_loss: 1.9902 - val_accuracy: 0.5245\n",
            "Epoch 8/50\n",
            "156/156 [==============================] - 2s 15ms/step - loss: 0.1054 - accuracy: 0.9861 - val_loss: 2.0573 - val_accuracy: 0.5414\n",
            "Epoch 9/50\n",
            "156/156 [==============================] - 2s 15ms/step - loss: 0.0671 - accuracy: 0.9912 - val_loss: 2.1900 - val_accuracy: 0.5189\n",
            "Epoch 10/50\n",
            "156/156 [==============================] - 2s 15ms/step - loss: 0.0475 - accuracy: 0.9946 - val_loss: 2.1405 - val_accuracy: 0.5414\n",
            "Epoch 11/50\n",
            "156/156 [==============================] - 2s 15ms/step - loss: 0.0318 - accuracy: 0.9972 - val_loss: 2.0846 - val_accuracy: 0.5462\n",
            "Epoch 12/50\n",
            "156/156 [==============================] - 2s 15ms/step - loss: 0.0251 - accuracy: 0.9976 - val_loss: 2.1227 - val_accuracy: 0.5542\n",
            "Epoch 13/50\n",
            "156/156 [==============================] - 2s 15ms/step - loss: 0.0195 - accuracy: 0.9988 - val_loss: 2.1484 - val_accuracy: 0.5470\n",
            "Epoch 14/50\n",
            "156/156 [==============================] - 2s 15ms/step - loss: 0.0161 - accuracy: 0.9980 - val_loss: 2.2198 - val_accuracy: 0.5454\n",
            "Epoch 15/50\n",
            "156/156 [==============================] - 2s 15ms/step - loss: 0.0154 - accuracy: 0.9980 - val_loss: 2.2608 - val_accuracy: 0.5301\n",
            "Epoch 16/50\n",
            "156/156 [==============================] - 2s 15ms/step - loss: 0.0150 - accuracy: 0.9976 - val_loss: 2.2745 - val_accuracy: 0.5462\n",
            "Epoch 17/50\n",
            "156/156 [==============================] - 2s 15ms/step - loss: 0.0140 - accuracy: 0.9984 - val_loss: 2.2303 - val_accuracy: 0.5446\n",
            "Epoch 18/50\n",
            "156/156 [==============================] - 2s 15ms/step - loss: 0.0097 - accuracy: 0.9984 - val_loss: 2.2791 - val_accuracy: 0.5293\n",
            "Epoch 19/50\n",
            "156/156 [==============================] - 2s 15ms/step - loss: 0.0065 - accuracy: 0.9988 - val_loss: 2.2807 - val_accuracy: 0.5349\n",
            "Epoch 20/50\n",
            "156/156 [==============================] - 2s 15ms/step - loss: 0.0057 - accuracy: 0.9998 - val_loss: 2.3215 - val_accuracy: 0.5422\n",
            "Epoch 21/50\n",
            "156/156 [==============================] - 2s 15ms/step - loss: 0.0046 - accuracy: 0.9996 - val_loss: 2.3502 - val_accuracy: 0.5414\n",
            "Epoch 22/50\n",
            "156/156 [==============================] - 2s 15ms/step - loss: 0.0043 - accuracy: 0.9996 - val_loss: 2.3590 - val_accuracy: 0.5373\n",
            "Epoch 23/50\n",
            "156/156 [==============================] - 2s 15ms/step - loss: 0.0026 - accuracy: 1.0000 - val_loss: 2.3803 - val_accuracy: 0.5357\n",
            "Epoch 24/50\n",
            "156/156 [==============================] - 2s 15ms/step - loss: 0.0023 - accuracy: 1.0000 - val_loss: 2.3893 - val_accuracy: 0.5382\n",
            "Epoch 25/50\n",
            "156/156 [==============================] - 2s 15ms/step - loss: 0.0017 - accuracy: 1.0000 - val_loss: 2.4178 - val_accuracy: 0.5382\n",
            "Epoch 26/50\n",
            "156/156 [==============================] - 2s 15ms/step - loss: 0.0014 - accuracy: 1.0000 - val_loss: 2.4345 - val_accuracy: 0.5373\n",
            "Epoch 27/50\n",
            "156/156 [==============================] - 2s 15ms/step - loss: 0.0012 - accuracy: 1.0000 - val_loss: 2.4546 - val_accuracy: 0.5390\n",
            "Epoch 28/50\n",
            "156/156 [==============================] - 2s 15ms/step - loss: 0.0011 - accuracy: 1.0000 - val_loss: 2.4727 - val_accuracy: 0.5398\n",
            "Epoch 29/50\n",
            "156/156 [==============================] - 2s 15ms/step - loss: 9.6258e-04 - accuracy: 1.0000 - val_loss: 2.4928 - val_accuracy: 0.5406\n",
            "Epoch 30/50\n",
            "156/156 [==============================] - 2s 15ms/step - loss: 8.6047e-04 - accuracy: 1.0000 - val_loss: 2.5101 - val_accuracy: 0.5414\n",
            "Epoch 31/50\n",
            "156/156 [==============================] - 2s 15ms/step - loss: 7.6935e-04 - accuracy: 1.0000 - val_loss: 2.5298 - val_accuracy: 0.5406\n",
            "Epoch 32/50\n",
            "156/156 [==============================] - 2s 15ms/step - loss: 6.8942e-04 - accuracy: 1.0000 - val_loss: 2.5472 - val_accuracy: 0.5398\n",
            "Epoch 33/50\n",
            "156/156 [==============================] - 2s 15ms/step - loss: 6.1756e-04 - accuracy: 1.0000 - val_loss: 2.5680 - val_accuracy: 0.5398\n",
            "Epoch 34/50\n",
            "156/156 [==============================] - 2s 15ms/step - loss: 5.5543e-04 - accuracy: 1.0000 - val_loss: 2.5852 - val_accuracy: 0.5390\n",
            "Epoch 35/50\n",
            "156/156 [==============================] - 2s 15ms/step - loss: 5.0151e-04 - accuracy: 1.0000 - val_loss: 2.6067 - val_accuracy: 0.5390\n",
            "Epoch 36/50\n",
            "156/156 [==============================] - 2s 15ms/step - loss: 4.5490e-04 - accuracy: 1.0000 - val_loss: 2.6225 - val_accuracy: 0.5398\n",
            "Epoch 37/50\n",
            "156/156 [==============================] - 2s 15ms/step - loss: 4.1318e-04 - accuracy: 1.0000 - val_loss: 2.6456 - val_accuracy: 0.5382\n",
            "Epoch 38/50\n",
            "156/156 [==============================] - 2s 15ms/step - loss: 3.7731e-04 - accuracy: 1.0000 - val_loss: 2.6575 - val_accuracy: 0.5382\n",
            "Epoch 39/50\n",
            "156/156 [==============================] - 2s 15ms/step - loss: 3.4619e-04 - accuracy: 1.0000 - val_loss: 2.6979 - val_accuracy: 0.5349\n",
            "Epoch 40/50\n",
            "156/156 [==============================] - 2s 15ms/step - loss: 3.5581e-04 - accuracy: 1.0000 - val_loss: 2.8031 - val_accuracy: 0.5333\n",
            "Epoch 41/50\n",
            "156/156 [==============================] - 2s 15ms/step - loss: 4.8658e-04 - accuracy: 1.0000 - val_loss: 2.7093 - val_accuracy: 0.5325\n",
            "Epoch 42/50\n",
            "156/156 [==============================] - 2s 15ms/step - loss: 3.4733e-04 - accuracy: 1.0000 - val_loss: 2.7783 - val_accuracy: 0.5373\n",
            "Epoch 43/50\n",
            "156/156 [==============================] - 2s 15ms/step - loss: 3.1509e-04 - accuracy: 1.0000 - val_loss: 2.7455 - val_accuracy: 0.5390\n",
            "Epoch 44/50\n",
            "156/156 [==============================] - 2s 15ms/step - loss: 8.8512e-04 - accuracy: 0.9998 - val_loss: 3.0713 - val_accuracy: 0.5197\n",
            "Epoch 45/50\n",
            "156/156 [==============================] - 2s 15ms/step - loss: 0.6600 - accuracy: 0.8289 - val_loss: 9.9171 - val_accuracy: 0.1149\n",
            "Epoch 46/50\n",
            "156/156 [==============================] - 2s 15ms/step - loss: 0.5969 - accuracy: 0.8298 - val_loss: 2.5628 - val_accuracy: 0.5004\n",
            "Epoch 47/50\n",
            "156/156 [==============================] - 2s 15ms/step - loss: 0.1041 - accuracy: 0.9763 - val_loss: 2.6020 - val_accuracy: 0.5173\n",
            "Epoch 48/50\n",
            "156/156 [==============================] - 2s 15ms/step - loss: 0.0259 - accuracy: 0.9974 - val_loss: 2.4217 - val_accuracy: 0.5382\n",
            "Epoch 49/50\n",
            "156/156 [==============================] - 2s 15ms/step - loss: 0.0111 - accuracy: 0.9994 - val_loss: 2.4302 - val_accuracy: 0.5382\n",
            "Epoch 50/50\n",
            "156/156 [==============================] - 2s 15ms/step - loss: 0.0074 - accuracy: 0.9998 - val_loss: 2.4618 - val_accuracy: 0.5373\n"
          ]
        }
      ]
    },
    {
      "cell_type": "code",
      "metadata": {
        "colab": {
          "base_uri": "https://localhost:8080/",
          "height": 499
        },
        "id": "f1z_vHocu59c",
        "outputId": "7efbfe06-8077-4670-b607-ba92b21a9a9d"
      },
      "source": [
        "acc = history.history['accuracy']\n",
        "val_acc = history.history['val_accuracy']\n",
        "\n",
        "loss=history.history['loss']\n",
        "val_loss=history.history['val_loss']\n",
        "\n",
        "epochs_range = range(epochs)\n",
        "\n",
        "plt.figure(figsize=(8, 8))\n",
        "plt.subplot(1, 2, 1)\n",
        "plt.plot(epochs_range, acc, label='Training Accuracy')\n",
        "plt.plot(epochs_range, val_acc, label='Validation Accuracy')\n",
        "plt.legend(loc='lower right')\n",
        "plt.title('Training and Validation Accuracy')\n",
        "\n",
        "plt.subplot(1, 2, 2)\n",
        "plt.plot(epochs_range, loss, label='Training Loss')\n",
        "plt.plot(epochs_range, val_loss, label='Validation Loss')\n",
        "plt.legend(loc='upper right')\n",
        "plt.title('Training and Validation Loss')\n",
        "plt.show()"
      ],
      "execution_count": null,
      "outputs": [
        {
          "output_type": "display_data",
          "data": {
            "image/png": "[encoded data removed]",
            "text/plain": [
              "<Figure size 576x576 with 2 Axes>"
            ]
          },
          "metadata": {
            "needs_background": "light"
          }
        }
      ]
    },
    {
      "cell_type": "code",
      "metadata": {
        "id": "XinJ6xXD9YNO"
      },
      "source": [
        "data_augmentation = keras.Sequential(\n",
        "  [\n",
        "    layers.experimental.preprocessing.RandomFlip(\"horizontal\", \n",
        "                                                 input_shape=(img_height, \n",
        "                                                              img_width,\n",
        "                                                              1)),\n",
        "    layers.experimental.preprocessing.RandomRotation(0.1),\n",
        "    layers.experimental.preprocessing.RandomZoom(0.1),\n",
        "  ]\n",
        ")"
      ],
      "execution_count": null,
      "outputs": []
    },
    {
      "cell_type": "code",
      "metadata": {
        "id": "8WT2BYElEYZj"
      },
      "source": [
        "model = Sequential([\n",
        "  data_augmentation,\n",
        "  layers.experimental.preprocessing.Rescaling(1./255),\n",
        "  layers.Conv2D(32, 3,input_shape = image_batch, activation='relu'),\n",
        "  layers.MaxPooling2D(),\n",
        "  layers.Conv2D(32, 3, padding='same', activation='relu'),\n",
        "  layers.MaxPooling2D(),\n",
        "  layers.Conv2D(32, 3, padding='same', activation='relu'),\n",
        "  layers.MaxPooling2D(),\n",
        "  layers.Dropout(0.2),\n",
        "  layers.Flatten(),\n",
        "  layers.Dense(128, input_dim = 107, activation='relu'),\n",
        "  BatchNormalization(),\n",
        "  layers.Dense(107, activation='softmax'),\n",
        "  BatchNormalization(),\n",
        "  layers.Dense(num_classes)\n",
        "])"
      ],
      "execution_count": null,
      "outputs": []
    },
    {
      "cell_type": "code",
      "metadata": {
        "id": "opOHP3auEdsw",
        "colab": {
          "base_uri": "https://localhost:8080/"
        },
        "outputId": "07f13b49-c682-4283-efbb-8657308f9557"
      },
      "source": [
        "BatchNormalization(),model.compile(\n",
        "    optimizer='adam',\n",
        "    loss=tf.losses.SparseCategoricalCrossentropy(from_logits=True),\n",
        "    metrics=['accuracy'])"
      ],
      "execution_count": null,
      "outputs": [
        {
          "output_type": "execute_result",
          "data": {
            "text/plain": [
              "(<keras.layers.normalization.batch_normalization.BatchNormalization at 0x7fd67a265890>,\n",
              " None)"
            ]
          },
          "metadata": {},
          "execution_count": 19
        }
      ]
    },
    {
      "cell_type": "code",
      "metadata": {
        "colab": {
          "base_uri": "https://localhost:8080/"
        },
        "id": "3Ay4tlHlEfBX",
        "outputId": "768a6008-8c9a-4b76-832c-3f8c661ec40e"
      },
      "source": [
        "model.summary()"
      ],
      "execution_count": null,
      "outputs": [
        {
          "output_type": "stream",
          "name": "stdout",
          "text": [
            "Model: \"sequential_2\"\n",
            "_________________________________________________________________\n",
            " Layer (type)                Output Shape              Param #   \n",
            "=================================================================\n",
            " sequential_1 (Sequential)   (None, 180, 180, 1)       0         \n",
            "                                                                 \n",
            " rescaling_2 (Rescaling)     (None, 180, 180, 1)       0         \n",
            "                                                                 \n",
            " conv2d_3 (Conv2D)           (None, 178, 178, 32)      320       \n",
            "                                                                 \n",
            " max_pooling2d_3 (MaxPooling  (None, 89, 89, 32)       0         \n",
            " 2D)                                                             \n",
            "                                                                 \n",
            " conv2d_4 (Conv2D)           (None, 89, 89, 32)        9248      \n",
            "                                                                 \n",
            " max_pooling2d_4 (MaxPooling  (None, 44, 44, 32)       0         \n",
            " 2D)                                                             \n",
            "                                                                 \n",
            " conv2d_5 (Conv2D)           (None, 44, 44, 32)        9248      \n",
            "                                                                 \n",
            " max_pooling2d_5 (MaxPooling  (None, 22, 22, 32)       0         \n",
            " 2D)                                                             \n",
            "                                                                 \n",
            " dropout (Dropout)           (None, 22, 22, 32)        0         \n",
            "                                                                 \n",
            " flatten_1 (Flatten)         (None, 15488)             0         \n",
            "                                                                 \n",
            " dense_3 (Dense)             (None, 128)               1982592   \n",
            "                                                                 \n",
            " batch_normalization_3 (Batc  (None, 128)              512       \n",
            " hNormalization)                                                 \n",
            "                                                                 \n",
            " dense_4 (Dense)             (None, 107)               13803     \n",
            "                                                                 \n",
            " batch_normalization_4 (Batc  (None, 107)              428       \n",
            " hNormalization)                                                 \n",
            "                                                                 \n",
            " dense_5 (Dense)             (None, 107)               11556     \n",
            "                                                                 \n",
            "=================================================================\n",
            "Total params: 2,027,707\n",
            "Trainable params: 2,027,237\n",
            "Non-trainable params: 470\n",
            "_________________________________________________________________\n"
          ]
        }
      ]
    },
    {
      "cell_type": "code",
      "metadata": {
        "colab": {
          "base_uri": "https://localhost:8080/"
        },
        "id": "Jc8rD_v9Ef41",
        "outputId": "29de819e-ac27-4bc7-a916-8ff0ebbba993"
      },
      "source": [
        "epochs = 50\n",
        "history = model.fit(\n",
        "  train_ds,\n",
        "  validation_data=val_ds,\n",
        "  epochs=epochs\n",
        ")"
      ],
      "execution_count": null,
      "outputs": [
        {
          "output_type": "stream",
          "name": "stdout",
          "text": [
            "Epoch 1/50\n",
            "156/156 [==============================] - 4s 18ms/step - loss: 3.4969 - accuracy: 0.2457 - val_loss: 4.1285 - val_accuracy: 0.2080\n",
            "Epoch 2/50\n",
            "156/156 [==============================] - 3s 17ms/step - loss: 2.4853 - accuracy: 0.3624 - val_loss: 3.4498 - val_accuracy: 0.3141\n",
            "Epoch 3/50\n",
            "156/156 [==============================] - 3s 17ms/step - loss: 2.1896 - accuracy: 0.4047 - val_loss: 3.0818 - val_accuracy: 0.2876\n",
            "Epoch 4/50\n",
            "156/156 [==============================] - 3s 17ms/step - loss: 1.9667 - accuracy: 0.4485 - val_loss: 2.4557 - val_accuracy: 0.3847\n",
            "Epoch 5/50\n",
            "156/156 [==============================] - 3s 16ms/step - loss: 1.8277 - accuracy: 0.4794 - val_loss: 2.2609 - val_accuracy: 0.4112\n",
            "Epoch 6/50\n",
            "156/156 [==============================] - 3s 17ms/step - loss: 1.6984 - accuracy: 0.5138 - val_loss: 2.5623 - val_accuracy: 0.3815\n",
            "Epoch 7/50\n",
            "156/156 [==============================] - 3s 17ms/step - loss: 1.6063 - accuracy: 0.5284 - val_loss: 2.6929 - val_accuracy: 0.3735\n",
            "Epoch 8/50\n",
            "156/156 [==============================] - 3s 17ms/step - loss: 1.5117 - accuracy: 0.5501 - val_loss: 2.4390 - val_accuracy: 0.4016\n",
            "Epoch 9/50\n",
            "156/156 [==============================] - 3s 17ms/step - loss: 1.4294 - accuracy: 0.5639 - val_loss: 2.5832 - val_accuracy: 0.3968\n",
            "Epoch 10/50\n",
            "156/156 [==============================] - 3s 17ms/step - loss: 1.3677 - accuracy: 0.5840 - val_loss: 2.2680 - val_accuracy: 0.4361\n",
            "Epoch 11/50\n",
            "156/156 [==============================] - 3s 17ms/step - loss: 1.3043 - accuracy: 0.5965 - val_loss: 2.2621 - val_accuracy: 0.4442\n",
            "Epoch 12/50\n",
            "156/156 [==============================] - 3s 17ms/step - loss: 1.2484 - accuracy: 0.6163 - val_loss: 2.4184 - val_accuracy: 0.4369\n",
            "Epoch 13/50\n",
            "156/156 [==============================] - 3s 17ms/step - loss: 1.2258 - accuracy: 0.6183 - val_loss: 2.1031 - val_accuracy: 0.4867\n",
            "Epoch 14/50\n",
            "156/156 [==============================] - 3s 17ms/step - loss: 1.1577 - accuracy: 0.6463 - val_loss: 2.2046 - val_accuracy: 0.4506\n",
            "Epoch 15/50\n",
            "156/156 [==============================] - 3s 17ms/step - loss: 1.1232 - accuracy: 0.6455 - val_loss: 2.0174 - val_accuracy: 0.4980\n",
            "Epoch 16/50\n",
            "156/156 [==============================] - 3s 17ms/step - loss: 1.0624 - accuracy: 0.6653 - val_loss: 2.4759 - val_accuracy: 0.4345\n",
            "Epoch 17/50\n",
            "156/156 [==============================] - 3s 17ms/step - loss: 1.0409 - accuracy: 0.6714 - val_loss: 2.1231 - val_accuracy: 0.4787\n",
            "Epoch 18/50\n",
            "156/156 [==============================] - 3s 17ms/step - loss: 1.0116 - accuracy: 0.6816 - val_loss: 2.2288 - val_accuracy: 0.4771\n",
            "Epoch 19/50\n",
            "156/156 [==============================] - 3s 17ms/step - loss: 0.9779 - accuracy: 0.6952 - val_loss: 2.1912 - val_accuracy: 0.4787\n",
            "Epoch 20/50\n",
            "156/156 [==============================] - 3s 17ms/step - loss: 0.9469 - accuracy: 0.7009 - val_loss: 2.2513 - val_accuracy: 0.4747\n",
            "Epoch 21/50\n",
            "156/156 [==============================] - 3s 17ms/step - loss: 0.8917 - accuracy: 0.7123 - val_loss: 2.3108 - val_accuracy: 0.4715\n",
            "Epoch 22/50\n",
            "156/156 [==============================] - 3s 17ms/step - loss: 0.8611 - accuracy: 0.7229 - val_loss: 2.2281 - val_accuracy: 0.4948\n",
            "Epoch 23/50\n",
            "156/156 [==============================] - 3s 17ms/step - loss: 0.8492 - accuracy: 0.7284 - val_loss: 2.2082 - val_accuracy: 0.4988\n",
            "Epoch 24/50\n",
            "156/156 [==============================] - 3s 17ms/step - loss: 0.8206 - accuracy: 0.7344 - val_loss: 2.5807 - val_accuracy: 0.4610\n",
            "Epoch 25/50\n",
            "156/156 [==============================] - 3s 17ms/step - loss: 0.7821 - accuracy: 0.7494 - val_loss: 2.6730 - val_accuracy: 0.4562\n",
            "Epoch 26/50\n",
            "156/156 [==============================] - 3s 17ms/step - loss: 0.7728 - accuracy: 0.7501 - val_loss: 2.3548 - val_accuracy: 0.4924\n",
            "Epoch 27/50\n",
            "156/156 [==============================] - 3s 17ms/step - loss: 0.7235 - accuracy: 0.7689 - val_loss: 2.4418 - val_accuracy: 0.4707\n",
            "Epoch 28/50\n",
            "156/156 [==============================] - 3s 17ms/step - loss: 0.7204 - accuracy: 0.7631 - val_loss: 2.4417 - val_accuracy: 0.4884\n",
            "Epoch 29/50\n",
            "156/156 [==============================] - 3s 17ms/step - loss: 0.7022 - accuracy: 0.7701 - val_loss: 2.4623 - val_accuracy: 0.4699\n",
            "Epoch 30/50\n",
            "156/156 [==============================] - 3s 17ms/step - loss: 0.6866 - accuracy: 0.7745 - val_loss: 2.5766 - val_accuracy: 0.4651\n",
            "Epoch 31/50\n",
            "156/156 [==============================] - 3s 17ms/step - loss: 0.6717 - accuracy: 0.7782 - val_loss: 2.6531 - val_accuracy: 0.4835\n",
            "Epoch 32/50\n",
            "156/156 [==============================] - 3s 17ms/step - loss: 0.6437 - accuracy: 0.7894 - val_loss: 2.3404 - val_accuracy: 0.4972\n",
            "Epoch 33/50\n",
            "156/156 [==============================] - 3s 17ms/step - loss: 0.6374 - accuracy: 0.7930 - val_loss: 2.2417 - val_accuracy: 0.5430\n",
            "Epoch 34/50\n",
            "156/156 [==============================] - 3s 17ms/step - loss: 0.6053 - accuracy: 0.8049 - val_loss: 2.5847 - val_accuracy: 0.5060\n",
            "Epoch 35/50\n",
            "156/156 [==============================] - 3s 17ms/step - loss: 0.5923 - accuracy: 0.8063 - val_loss: 2.4375 - val_accuracy: 0.5084\n",
            "Epoch 36/50\n",
            "156/156 [==============================] - 3s 17ms/step - loss: 0.5783 - accuracy: 0.8161 - val_loss: 2.3011 - val_accuracy: 0.5157\n",
            "Epoch 37/50\n",
            "156/156 [==============================] - 3s 17ms/step - loss: 0.5681 - accuracy: 0.8175 - val_loss: 2.5397 - val_accuracy: 0.4876\n",
            "Epoch 38/50\n",
            "156/156 [==============================] - 3s 17ms/step - loss: 0.5461 - accuracy: 0.8245 - val_loss: 2.4056 - val_accuracy: 0.5149\n",
            "Epoch 39/50\n",
            "156/156 [==============================] - 3s 17ms/step - loss: 0.5493 - accuracy: 0.8201 - val_loss: 2.3428 - val_accuracy: 0.5293\n",
            "Epoch 40/50\n",
            "156/156 [==============================] - 3s 17ms/step - loss: 0.5270 - accuracy: 0.8302 - val_loss: 2.1788 - val_accuracy: 0.5373\n",
            "Epoch 41/50\n",
            "156/156 [==============================] - 3s 17ms/step - loss: 0.5132 - accuracy: 0.8328 - val_loss: 2.3194 - val_accuracy: 0.5398\n",
            "Epoch 42/50\n",
            "156/156 [==============================] - 3s 17ms/step - loss: 0.4873 - accuracy: 0.8442 - val_loss: 2.4527 - val_accuracy: 0.5317\n",
            "Epoch 43/50\n",
            "156/156 [==============================] - 3s 17ms/step - loss: 0.4818 - accuracy: 0.8406 - val_loss: 2.1792 - val_accuracy: 0.5486\n",
            "Epoch 44/50\n",
            "156/156 [==============================] - 3s 17ms/step - loss: 0.4786 - accuracy: 0.8432 - val_loss: 2.5264 - val_accuracy: 0.5237\n",
            "Epoch 45/50\n",
            "156/156 [==============================] - 3s 17ms/step - loss: 0.4591 - accuracy: 0.8502 - val_loss: 2.5984 - val_accuracy: 0.5341\n",
            "Epoch 46/50\n",
            "156/156 [==============================] - 3s 17ms/step - loss: 0.4414 - accuracy: 0.8550 - val_loss: 2.4469 - val_accuracy: 0.5438\n",
            "Epoch 47/50\n",
            "156/156 [==============================] - 3s 17ms/step - loss: 0.4469 - accuracy: 0.8565 - val_loss: 2.7567 - val_accuracy: 0.4980\n",
            "Epoch 48/50\n",
            "156/156 [==============================] - 3s 17ms/step - loss: 0.4386 - accuracy: 0.8573 - val_loss: 2.4768 - val_accuracy: 0.5390\n",
            "Epoch 49/50\n",
            "156/156 [==============================] - 3s 17ms/step - loss: 0.4337 - accuracy: 0.8565 - val_loss: 2.6309 - val_accuracy: 0.5124\n",
            "Epoch 50/50\n",
            "156/156 [==============================] - 3s 17ms/step - loss: 0.4251 - accuracy: 0.8643 - val_loss: 2.2592 - val_accuracy: 0.5510\n"
          ]
        }
      ]
    },
    {
      "cell_type": "code",
      "metadata": {
        "colab": {
          "base_uri": "https://localhost:8080/",
          "height": 499
        },
        "id": "ynhS2KjVEhj8",
        "outputId": "df2e6efa-0e55-4cc0-b6f5-290f674d7cdc"
      },
      "source": [
        "acc = history.history['accuracy']\n",
        "val_acc = history.history['val_accuracy']\n",
        "\n",
        "loss = history.history['loss']\n",
        "val_loss = history.history['val_loss']\n",
        "\n",
        "epochs_range = range(epochs)\n",
        "\n",
        "plt.figure(figsize=(8, 8))\n",
        "plt.subplot(1, 2, 1)\n",
        "plt.plot(epochs_range, acc, label='Training Accuracy')\n",
        "plt.plot(epochs_range, val_acc, label='Validation Accuracy')\n",
        "plt.legend(loc='lower right')\n",
        "plt.title('Training and Validation Accuracy')\n",
        "\n",
        "plt.subplot(1, 2, 2)\n",
        "plt.plot(epochs_range, loss, label='Training Loss')\n",
        "plt.plot(epochs_range, val_loss, label='Validation Loss')\n",
        "plt.legend(loc='upper right')\n",
        "plt.title('Training and Validation Loss')\n",
        "plt.show()"
      ],
      "execution_count": null,
      "outputs": [
        {
          "output_type": "display_data",
          "data": {
            "image/png": "[encoded data removed]",
            "text/plain": [
              "<Figure size 576x576 with 2 Axes>"
            ]
          },
          "metadata": {
            "needs_background": "light"
          }
        }
      ]
    },
    {
      "cell_type": "code",
      "metadata": {
        "colab": {
          "base_uri": "https://localhost:8080/"
        },
        "id": "IbEQMrsAH2yZ",
        "outputId": "6812fefd-6cc0-44cf-ac08-a9d916385e22"
      },
      "source": [
        "model.compile(\n",
        "    optimizer='adam',\n",
        "    loss=tf.losses.SparseCategoricalCrossentropy(from_logits=True),\n",
        "    metrics=['accuracy'])\n",
        "model.summary()"
      ],
      "execution_count": null,
      "outputs": [
        {
          "output_type": "stream",
          "name": "stdout",
          "text": [
            "Model: \"sequential_2\"\n",
            "_________________________________________________________________\n",
            " Layer (type)                Output Shape              Param #   \n",
            "=================================================================\n",
            " sequential_1 (Sequential)   (None, 180, 180, 1)       0         \n",
            "                                                                 \n",
            " rescaling_2 (Rescaling)     (None, 180, 180, 1)       0         \n",
            "                                                                 \n",
            " conv2d_3 (Conv2D)           (None, 178, 178, 32)      320       \n",
            "                                                                 \n",
            " max_pooling2d_3 (MaxPooling  (None, 89, 89, 32)       0         \n",
            " 2D)                                                             \n",
            "                                                                 \n",
            " conv2d_4 (Conv2D)           (None, 89, 89, 32)        9248      \n",
            "                                                                 \n",
            " max_pooling2d_4 (MaxPooling  (None, 44, 44, 32)       0         \n",
            " 2D)                                                             \n",
            "                                                                 \n",
            " conv2d_5 (Conv2D)           (None, 44, 44, 32)        9248      \n",
            "                                                                 \n",
            " max_pooling2d_5 (MaxPooling  (None, 22, 22, 32)       0         \n",
            " 2D)                                                             \n",
            "                                                                 \n",
            " dropout (Dropout)           (None, 22, 22, 32)        0         \n",
            "                                                                 \n",
            " flatten_1 (Flatten)         (None, 15488)             0         \n",
            "                                                                 \n",
            " dense_3 (Dense)             (None, 128)               1982592   \n",
            "                                                                 \n",
            " batch_normalization_3 (Batc  (None, 128)              512       \n",
            " hNormalization)                                                 \n",
            "                                                                 \n",
            " dense_4 (Dense)             (None, 107)               13803     \n",
            "                                                                 \n",
            " batch_normalization_4 (Batc  (None, 107)              428       \n",
            " hNormalization)                                                 \n",
            "                                                                 \n",
            " dense_5 (Dense)             (None, 107)               11556     \n",
            "                                                                 \n",
            "=================================================================\n",
            "Total params: 2,027,707\n",
            "Trainable params: 2,027,237\n",
            "Non-trainable params: 470\n",
            "_________________________________________________________________\n"
          ]
        }
      ]
    },
    {
      "cell_type": "code",
      "metadata": {
        "id": "df30HUqFjWre"
      },
      "source": [
        ""
      ],
      "execution_count": null,
      "outputs": []
    }
  ]
}