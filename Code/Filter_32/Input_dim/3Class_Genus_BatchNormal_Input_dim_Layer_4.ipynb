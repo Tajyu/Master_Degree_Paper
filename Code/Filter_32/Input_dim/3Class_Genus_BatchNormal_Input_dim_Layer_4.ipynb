{
  "nbformat": 4,
  "nbformat_minor": 0,
  "metadata": {
    "colab": {
      "name": "3Class_Genus_BatchNormal_Input_dim_Layer_4.ipynb",
      "provenance": [],
      "collapsed_sections": [],
      "mount_file_id": "1Tbtk0Of_aUUtWFB16wOaS4XADNIFhsPG",
      "authorship_tag": "ABX9TyPHpLfWFkmfCI4NpoqrFSB+",
      "include_colab_link": true
    },
    "kernelspec": {
      "name": "python3",
      "display_name": "Python 3"
    },
    "language_info": {
      "name": "python"
    },
    "accelerator": "GPU"
  },
  "cells": [
    {
      "cell_type": "markdown",
      "metadata": {
        "id": "view-in-github",
        "colab_type": "text"
      },
      "source": [
        "<a href=\"https://colab.research.google.com/github/Tajyu/Master_Degree_Paper/blob/main/Code/Filter_32/Input_dim/3Class_Genus_BatchNormal_Input_dim_Layer_4.ipynb\" target=\"_parent\"><img src=\"https://colab.research.google.com/assets/colab-badge.svg\" alt=\"Open In Colab\"/></a>"
      ]
    },
    {
      "cell_type": "code",
      "metadata": {
        "id": "yWckd06_68Em"
      },
      "source": [
        "import tensorflow as tf\n",
        "from tensorflow.keras import datasets, layers, models\n",
        "from keras.preprocessing.image import ImageDataGenerator\n",
        "import numpy as np\n",
        "import matplotlib.pyplot as plt\n",
        "import cv2 as cv\n",
        "import os\n",
        "import pathlib\n",
        "import PIL\n",
        "from tensorflow import keras\n",
        "from tensorflow.keras import layers\n",
        "from tensorflow.keras.models import Sequential\n",
        "from tensorflow.keras.layers import Dense, Flatten, BatchNormalization, Dropout"
      ],
      "execution_count": null,
      "outputs": []
    },
    {
      "cell_type": "code",
      "metadata": {
        "colab": {
          "base_uri": "https://localhost:8080/"
        },
        "id": "oNFapinkqeDN",
        "outputId": "8c4f9e3c-50b2-49ce-ba9c-b9c09a9bd323"
      },
      "source": [
        "from google.colab import drive\n",
        "drive.mount('/content/drive')"
      ],
      "execution_count": null,
      "outputs": [
        {
          "output_type": "stream",
          "name": "stdout",
          "text": [
            "Drive already mounted at /content/drive; to attempt to forcibly remount, call drive.mount(\"/content/drive\", force_remount=True).\n"
          ]
        }
      ]
    },
    {
      "cell_type": "code",
      "metadata": {
        "id": "xav9zirHttk_"
      },
      "source": [
        "image_list = os.listdir('/content/drive/MyDrive/Colab Notebooks/Final_Project/Cell_Genus')"
      ],
      "execution_count": null,
      "outputs": []
    },
    {
      "cell_type": "code",
      "metadata": {
        "colab": {
          "base_uri": "https://localhost:8080/"
        },
        "id": "K-wD0dM5tx_E",
        "outputId": "17bc4411-c87d-4b37-d5df-4a6aa99291d4"
      },
      "source": [
        "print(image_list)"
      ],
      "execution_count": null,
      "outputs": [
        {
          "output_type": "stream",
          "name": "stdout",
          "text": [
            "['10_Genus_Stauroneis_Ehrenberg', '10_Genus_Staurosira_Ehrenberg', '11_Genus_Craspedostauros_E.J_Cox_1999', '11_Genus_Staurosirella_Williams_and_Round', '12_Genus_Caloneis_Cleve_1894', '12_Genus_Synedra_Ehrenberg', '13_Genus_Pinnularia_Ehrenberg_1843', '1_Genus_Acanthoceras_Honigmann', '1_Genus_Achnanthes_Bory', '1_Genus_Actinocyclus_Ehrenberg', '1_Genus_Aphanocapsa_Nageli_1849', '1_Genus_Asterionella_Hassall', '1_Genus_Aulacoseira', '1_Genus_Biremis_Mann_et_Cox_in_Round_Crawford_and_Mann', '1_Genus_Characium_A_Braun_in_Kutzing_1849', '1_Genus_Chroococcus_Nageli', '1_Genus_Closterium_Nitzsch_ex_Ralfs_1848', '1_Genus_Coelastrum_Nageli_1849', '1_Genus_Cylindrocystis_Meneghini_ex_de_Bary_1858', '1_Genus_Dictyosphaerium_Nageli_1849', '1_Genus_Docidium_Brebisson_ex_Ralfs_1848', '1_Genus_Eunotia_Ehrenberg', '1_Genus_Geitlerinema_(Anagnostidis_et_Komarek)_Anagnostidis_1989', '1_Genus_Gonatozygon_de_Bary_1856', '1_Genus_Hydrodictyon_Roth_1797', '1_Genus_Hydrosera_whampoensis', '1_Genus_Jaaginema_Anagnostidis_et_Komarek_1988', '1_Genus_Lyngbya_C_Agardh_ex_Gomont_1892', '1_Genus_Melosira_Agardh', '1_Genus_Micractinium_Fresenius_1858', '1_Genus_Micrasterias_Ralfs_1848', '1_Genus_Microcystis_Kutzing_ex_Lemmermann_1907', '1_Genus_Oscillatoria_Vaucher_ex_Gomont_1982', '1_Genus_Pediastrum_Meyen_1829', '1_Genus_Penium_Brebisson_ex_Ralfs_in_Ralfs_1848', '1_Genus_Phormidium_Kutzing_ex_Gomont_1892', '1_Genus_Planktothrix_Anagnostidis_et_Komarek_1988', '1_Genus_Pleurosira_laevis_(Ehrenberg)', '1_Genus_Rhizosolenia_Ehrenberg', '1_Genus_Schizochlamydella_Korshikov_1953', '1_Genus_Staurodesmus_Teiling_1848', '1_Genus_Trochiscia_Kutzing_1834', '1_Scenedesmus_Hegewald_1978', '2_Acutodesmus_Hegewald_1978', '2_Genus_Achnanthidium_Kutzing', '2_Genus_Actinastrum_Lagerheim_1882', '2_Genus_Actinella_Lewis', '2_Genus_Ankyra_Fott_1957', '2_Genus_Caloneis_Cleve', '2_Genus_Chaetoceros_Ehrenberg', '2_Genus_Coenochloris_Korshikov_1953', '2_Genus_Cyclotella', '2_Genus_Diatoma_Bory', '2_Genus_Dimorphococcus_A_Braun_1855', '2_Genus_Golenkinia_Chodat_1894', '2_Genus_Haplotaenium_Bando_1988', '2_Genus_Leibleinia_(Gomont)_L_Hoffman_1985', '2_Genus_Leptolyngbya_Anagnostidis_et_Komarek_1988', '2_Genus_Merismopedia_Meyen_1839', '2_Genus_Netrium_(Nageli)_Itzigsohn_et_Rothe_in_Rabenhorst_1856', '2_Genus_Orthoseira_Thwaites_1848', '2_Genus_Phormidium_Kutzing_ex_Gomont_1892', '2_Genus_Sorastrum_Kutzing_1845', '2_Genus_Staurastrum_Meyen_ex_Ralfs_1848', '3_Desmodesmus_Chodat_1926', '3_Genus_Acanthosphaera_Lemmerman_1899', '3_Genus_Anorthoneis_Grunow', '3_Genus_Cyclostephanos_Round', '3_Genus_Dichotomococcus_Korshikov_1928', '3_Genus_Heteroleibleinia_(Geitler)_L_Hoffmann_1985', '3_Genus_Limnothrix_Meffert_1988', '3_Genus_Meridion_Agardh', '3_Genus_Paradoxia_Svirenko_1928', '3_Genus_Peronia_Bebisson_and_Arnott_ex_Kitton', '3_Genus_Phormidiochaete_Komarek_in_Anagnostidis_2001', '3_Genus_Pinnularia_Ehrenberg_1', '3_Genus_Pleurotaenium_Nageli_1849', '3_Genus_Radiococcus_Schmidle_1902', '3_Genus_Snowella_Elenkin_1938', '3_Genus_Spirotaenia_Brebisson_in_Ralfs_1848', '4_Genus_Botryococcus_Kutzing_1849', '4_Genus_Cocconeis_Ehrenberg', '4_Genus_Eutetramorus_Walton_1918', '4_Genus_Leptolyngbya_Anagnostidis_et_Komarek_1988', '4_Genus_Opephora_Petit', '4_Genus_Pinnularia_Ehrenberg_2', '4_Genus_Schroederia_Lemmermann_1898', '4_Genus_Stephanodiscus_Ehrenberg', '4_Genus_Synechocystis_Sauvageau_1892', '4_Genus_Tortitaenia_A_J_Brook_1998', '5_Genus_Caloneis_Cleve', '5_Genus_Coenocystis_Korshikov_1953', '5_Genus_Planktolyngbya_Anagnostidis_et_Komarek_1988', '5_Genus_Tabellaria_Ehrenberg', '5_Genus_Thalassiosira_Cleve', '5_Genus_Woronichinia_Elenkin_1933', '6_Genus_Anomoeoneis_Pfitzer', '6_Genus_Fragilaria_Lyngbye', '6_Genus_Gloeocystis_Nageli_1849', '6_Genus_Pseudanabaena_Lauterborn_1915', '6_Genus_Skeletonema_Greville', '7_Genus_Caloneis_Cleve', '7_Genus_Hannaea_Patrick', '8_Genus_Diploneis(Ehrenberg)_Cleve', '8_Genus_Pseudostaurosira_Williams_and_Round', '9_Genus_Neidium_Pfitzer', '9_Genus_Punctastriata_Williams_and_Round']\n"
          ]
        }
      ]
    },
    {
      "cell_type": "code",
      "metadata": {
        "id": "o-0DvzEHt8VE"
      },
      "source": [
        "data_generator = ImageDataGenerator(rescale = 1./255)\n",
        "\n",
        "data_dir = \"/content/drive/MyDrive/Colab Notebooks/Final_Project/Cell_Genus\""
      ],
      "execution_count": null,
      "outputs": []
    },
    {
      "cell_type": "code",
      "metadata": {
        "id": "7aTCfEm3t10n"
      },
      "source": [
        "batch_size = 32\n",
        "img_height = 180\n",
        "img_width = 180"
      ],
      "execution_count": null,
      "outputs": []
    },
    {
      "cell_type": "code",
      "metadata": {
        "colab": {
          "base_uri": "https://localhost:8080/"
        },
        "id": "9Smg-miEt22s",
        "outputId": "87979fa9-2910-4eb6-a20f-f027edea309d"
      },
      "source": [
        "train_ds = tf.keras.preprocessing.image_dataset_from_directory(\n",
        "  data_dir,\n",
        "  color_mode = \"grayscale\",\n",
        "  validation_split=0.2,\n",
        "  subset=\"training\",\n",
        "  seed=123,\n",
        "  image_size=(img_height, img_width),\n",
        "  batch_size=batch_size)"
      ],
      "execution_count": null,
      "outputs": [
        {
          "output_type": "stream",
          "name": "stdout",
          "text": [
            "Found 6226 files belonging to 107 classes.\n",
            "Using 4981 files for training.\n"
          ]
        }
      ]
    },
    {
      "cell_type": "code",
      "metadata": {
        "colab": {
          "base_uri": "https://localhost:8080/"
        },
        "id": "1nR0WdQGt44x",
        "outputId": "db546342-745e-4005-dccd-fe7c11dfa1ab"
      },
      "source": [
        "val_ds = tf.keras.preprocessing.image_dataset_from_directory(\n",
        "  data_dir,\n",
        "  color_mode = \"grayscale\",\n",
        "  validation_split=0.2,\n",
        "  subset=\"validation\",\n",
        "  seed=123,\n",
        "  image_size=(img_height, img_width),\n",
        "  batch_size=batch_size)"
      ],
      "execution_count": null,
      "outputs": [
        {
          "output_type": "stream",
          "name": "stdout",
          "text": [
            "Found 6226 files belonging to 107 classes.\n",
            "Using 1245 files for validation.\n"
          ]
        }
      ]
    },
    {
      "cell_type": "code",
      "metadata": {
        "colab": {
          "base_uri": "https://localhost:8080/"
        },
        "id": "F-cz_CtGug8Y",
        "outputId": "6329fbed-d5f5-4828-b610-109ea883e211"
      },
      "source": [
        "class_names = train_ds.class_names\n",
        "print(class_names)"
      ],
      "execution_count": null,
      "outputs": [
        {
          "output_type": "stream",
          "name": "stdout",
          "text": [
            "['10_Genus_Stauroneis_Ehrenberg', '10_Genus_Staurosira_Ehrenberg', '11_Genus_Craspedostauros_E.J_Cox_1999', '11_Genus_Staurosirella_Williams_and_Round', '12_Genus_Caloneis_Cleve_1894', '12_Genus_Synedra_Ehrenberg', '13_Genus_Pinnularia_Ehrenberg_1843', '1_Genus_Acanthoceras_Honigmann', '1_Genus_Achnanthes_Bory', '1_Genus_Actinocyclus_Ehrenberg', '1_Genus_Aphanocapsa_Nageli_1849', '1_Genus_Asterionella_Hassall', '1_Genus_Aulacoseira', '1_Genus_Biremis_Mann_et_Cox_in_Round_Crawford_and_Mann', '1_Genus_Characium_A_Braun_in_Kutzing_1849', '1_Genus_Chroococcus_Nageli', '1_Genus_Closterium_Nitzsch_ex_Ralfs_1848', '1_Genus_Coelastrum_Nageli_1849', '1_Genus_Cylindrocystis_Meneghini_ex_de_Bary_1858', '1_Genus_Dictyosphaerium_Nageli_1849', '1_Genus_Docidium_Brebisson_ex_Ralfs_1848', '1_Genus_Eunotia_Ehrenberg', '1_Genus_Geitlerinema_(Anagnostidis_et_Komarek)_Anagnostidis_1989', '1_Genus_Gonatozygon_de_Bary_1856', '1_Genus_Hydrodictyon_Roth_1797', '1_Genus_Hydrosera_whampoensis', '1_Genus_Jaaginema_Anagnostidis_et_Komarek_1988', '1_Genus_Lyngbya_C_Agardh_ex_Gomont_1892', '1_Genus_Melosira_Agardh', '1_Genus_Micractinium_Fresenius_1858', '1_Genus_Micrasterias_Ralfs_1848', '1_Genus_Microcystis_Kutzing_ex_Lemmermann_1907', '1_Genus_Oscillatoria_Vaucher_ex_Gomont_1982', '1_Genus_Pediastrum_Meyen_1829', '1_Genus_Penium_Brebisson_ex_Ralfs_in_Ralfs_1848', '1_Genus_Phormidium_Kutzing_ex_Gomont_1892', '1_Genus_Planktothrix_Anagnostidis_et_Komarek_1988', '1_Genus_Pleurosira_laevis_(Ehrenberg)', '1_Genus_Rhizosolenia_Ehrenberg', '1_Genus_Schizochlamydella_Korshikov_1953', '1_Genus_Staurodesmus_Teiling_1848', '1_Genus_Trochiscia_Kutzing_1834', '1_Scenedesmus_Hegewald_1978', '2_Acutodesmus_Hegewald_1978', '2_Genus_Achnanthidium_Kutzing', '2_Genus_Actinastrum_Lagerheim_1882', '2_Genus_Actinella_Lewis', '2_Genus_Ankyra_Fott_1957', '2_Genus_Caloneis_Cleve', '2_Genus_Chaetoceros_Ehrenberg', '2_Genus_Coenochloris_Korshikov_1953', '2_Genus_Cyclotella', '2_Genus_Diatoma_Bory', '2_Genus_Dimorphococcus_A_Braun_1855', '2_Genus_Golenkinia_Chodat_1894', '2_Genus_Haplotaenium_Bando_1988', '2_Genus_Leibleinia_(Gomont)_L_Hoffman_1985', '2_Genus_Leptolyngbya_Anagnostidis_et_Komarek_1988', '2_Genus_Merismopedia_Meyen_1839', '2_Genus_Netrium_(Nageli)_Itzigsohn_et_Rothe_in_Rabenhorst_1856', '2_Genus_Orthoseira_Thwaites_1848', '2_Genus_Phormidium_Kutzing_ex_Gomont_1892', '2_Genus_Sorastrum_Kutzing_1845', '2_Genus_Staurastrum_Meyen_ex_Ralfs_1848', '3_Desmodesmus_Chodat_1926', '3_Genus_Acanthosphaera_Lemmerman_1899', '3_Genus_Anorthoneis_Grunow', '3_Genus_Cyclostephanos_Round', '3_Genus_Dichotomococcus_Korshikov_1928', '3_Genus_Heteroleibleinia_(Geitler)_L_Hoffmann_1985', '3_Genus_Limnothrix_Meffert_1988', '3_Genus_Meridion_Agardh', '3_Genus_Paradoxia_Svirenko_1928', '3_Genus_Peronia_Bebisson_and_Arnott_ex_Kitton', '3_Genus_Phormidiochaete_Komarek_in_Anagnostidis_2001', '3_Genus_Pinnularia_Ehrenberg_1', '3_Genus_Pleurotaenium_Nageli_1849', '3_Genus_Radiococcus_Schmidle_1902', '3_Genus_Snowella_Elenkin_1938', '3_Genus_Spirotaenia_Brebisson_in_Ralfs_1848', '4_Genus_Botryococcus_Kutzing_1849', '4_Genus_Cocconeis_Ehrenberg', '4_Genus_Eutetramorus_Walton_1918', '4_Genus_Leptolyngbya_Anagnostidis_et_Komarek_1988', '4_Genus_Opephora_Petit', '4_Genus_Pinnularia_Ehrenberg_2', '4_Genus_Schroederia_Lemmermann_1898', '4_Genus_Stephanodiscus_Ehrenberg', '4_Genus_Synechocystis_Sauvageau_1892', '4_Genus_Tortitaenia_A_J_Brook_1998', '5_Genus_Caloneis_Cleve', '5_Genus_Coenocystis_Korshikov_1953', '5_Genus_Planktolyngbya_Anagnostidis_et_Komarek_1988', '5_Genus_Tabellaria_Ehrenberg', '5_Genus_Thalassiosira_Cleve', '5_Genus_Woronichinia_Elenkin_1933', '6_Genus_Anomoeoneis_Pfitzer', '6_Genus_Fragilaria_Lyngbye', '6_Genus_Gloeocystis_Nageli_1849', '6_Genus_Pseudanabaena_Lauterborn_1915', '6_Genus_Skeletonema_Greville', '7_Genus_Caloneis_Cleve', '7_Genus_Hannaea_Patrick', '8_Genus_Diploneis(Ehrenberg)_Cleve', '8_Genus_Pseudostaurosira_Williams_and_Round', '9_Genus_Neidium_Pfitzer', '9_Genus_Punctastriata_Williams_and_Round']\n"
          ]
        }
      ]
    },
    {
      "cell_type": "code",
      "metadata": {
        "colab": {
          "base_uri": "https://localhost:8080/"
        },
        "id": "5EQOikPAukic",
        "outputId": "718a3d25-0187-426e-ef20-3e6952de17be"
      },
      "source": [
        "for image_batch, labels_batch in train_ds:\n",
        "  print(image_batch.shape)\n",
        "  print(labels_batch.shape)\n",
        "  break"
      ],
      "execution_count": null,
      "outputs": [
        {
          "output_type": "stream",
          "name": "stdout",
          "text": [
            "(32, 180, 180, 1)\n",
            "(32,)\n"
          ]
        }
      ]
    },
    {
      "cell_type": "code",
      "metadata": {
        "id": "9eVl7tiDux9q"
      },
      "source": [
        "from tensorflow.keras import layers\n",
        "\n",
        "normalization_layer = tf.keras.layers.experimental.preprocessing.Rescaling(1./255)"
      ],
      "execution_count": null,
      "outputs": []
    },
    {
      "cell_type": "code",
      "metadata": {
        "colab": {
          "base_uri": "https://localhost:8080/"
        },
        "id": "AiIrsxzZuzEo",
        "outputId": "a72035c3-0e84-4ac2-dee0-e077b4708760"
      },
      "source": [
        "normalized_ds = train_ds.map(lambda x, y: (normalization_layer(x), y))\n",
        "image_batch, labels_batch = next(iter(normalized_ds))\n",
        "first_image = image_batch[0]\n",
        "# Notice the pixels values are now in `[0,1]`.\n",
        "print(np.min(first_image), np.max(first_image))"
      ],
      "execution_count": null,
      "outputs": [
        {
          "output_type": "stream",
          "name": "stdout",
          "text": [
            "0.0 1.0\n"
          ]
        }
      ]
    },
    {
      "cell_type": "code",
      "metadata": {
        "id": "__WbVabru0Bp"
      },
      "source": [
        "AUTOTUNE = tf.data.experimental.AUTOTUNE\n",
        "\n",
        "train_ds = train_ds.cache().prefetch(buffer_size=AUTOTUNE)\n",
        "val_ds = val_ds.cache().prefetch(buffer_size=AUTOTUNE)"
      ],
      "execution_count": null,
      "outputs": []
    },
    {
      "cell_type": "code",
      "metadata": {
        "id": "g1GeYFXCu2gV"
      },
      "source": [
        "num_classes = 107\n",
        "model = tf.keras.Sequential([\n",
        "    layers.experimental.preprocessing.Rescaling(1./255),\n",
        "    layers.Conv2D(32, 3,input_shape = image_batch, activation='relu'),\n",
        "    layers.MaxPooling2D(),\n",
        "    layers.Conv2D(32, 3, activation='relu'),\n",
        "    layers.MaxPooling2D(),\n",
        "    layers.Conv2D(32, 3, activation='relu'),\n",
        "    layers.MaxPooling2D(),\n",
        "    layers.Flatten(),\n",
        "    BatchNormalization(),\n",
        "    layers.Dense(128, input_dim = 107, activation='relu'),\n",
        "    BatchNormalization(),\n",
        "    layers.Dense(128, activation='relu'),\n",
        "    BatchNormalization(),\n",
        "    layers.Dense(128, activation='relu'),\n",
        "    BatchNormalization(),\n",
        "    layers.Dense(107, activation='softmax'),\n",
        "    BatchNormalization(),\n",
        "    layers.Dense(num_classes)\n",
        "    ])"
      ],
      "execution_count": null,
      "outputs": []
    },
    {
      "cell_type": "code",
      "metadata": {
        "id": "wU4xPAvNYWry"
      },
      "source": [
        "model.compile(\n",
        "    optimizer='adam',\n",
        "    loss=tf.losses.SparseCategoricalCrossentropy(from_logits=True),\n",
        "    metrics=['accuracy'])"
      ],
      "execution_count": null,
      "outputs": []
    },
    {
      "cell_type": "code",
      "metadata": {
        "colab": {
          "base_uri": "https://localhost:8080/"
        },
        "id": "Tk8ssrbHu44p",
        "outputId": "583ca3a9-ca34-4468-82fd-6f7c23e59514"
      },
      "source": [
        "epochs=50\n",
        "history = model.fit(\n",
        "  train_ds,\n",
        "  validation_data=val_ds,\n",
        "  epochs=epochs\n",
        ")"
      ],
      "execution_count": null,
      "outputs": [
        {
          "output_type": "stream",
          "name": "stdout",
          "text": [
            "Epoch 1/50\n",
            "156/156 [==============================] - 944s 6s/step - loss: 3.3687 - accuracy: 0.2851 - val_loss: 4.2303 - val_accuracy: 0.1912\n",
            "Epoch 2/50\n",
            "156/156 [==============================] - 2s 16ms/step - loss: 2.1873 - accuracy: 0.4443 - val_loss: 3.7402 - val_accuracy: 0.3165\n",
            "Epoch 3/50\n",
            "156/156 [==============================] - 2s 16ms/step - loss: 1.5774 - accuracy: 0.5896 - val_loss: 2.8648 - val_accuracy: 0.4032\n",
            "Epoch 4/50\n",
            "156/156 [==============================] - 3s 16ms/step - loss: 1.1752 - accuracy: 0.7001 - val_loss: 2.2097 - val_accuracy: 0.4337\n",
            "Epoch 5/50\n",
            "156/156 [==============================] - 2s 16ms/step - loss: 0.8658 - accuracy: 0.7846 - val_loss: 2.3576 - val_accuracy: 0.4233\n",
            "Epoch 6/50\n",
            "156/156 [==============================] - 2s 16ms/step - loss: 0.5934 - accuracy: 0.8510 - val_loss: 2.8175 - val_accuracy: 0.3880\n",
            "Epoch 7/50\n",
            "156/156 [==============================] - 2s 16ms/step - loss: 0.3985 - accuracy: 0.9093 - val_loss: 2.4343 - val_accuracy: 0.4466\n",
            "Epoch 8/50\n",
            "156/156 [==============================] - 2s 16ms/step - loss: 0.2618 - accuracy: 0.9438 - val_loss: 2.4749 - val_accuracy: 0.4627\n",
            "Epoch 9/50\n",
            "156/156 [==============================] - 2s 16ms/step - loss: 0.1674 - accuracy: 0.9693 - val_loss: 2.3130 - val_accuracy: 0.5044\n",
            "Epoch 10/50\n",
            "156/156 [==============================] - 2s 16ms/step - loss: 0.1043 - accuracy: 0.9855 - val_loss: 2.3018 - val_accuracy: 0.5165\n",
            "Epoch 11/50\n",
            "156/156 [==============================] - 2s 16ms/step - loss: 0.0686 - accuracy: 0.9900 - val_loss: 2.2588 - val_accuracy: 0.5349\n",
            "Epoch 12/50\n",
            "156/156 [==============================] - 2s 15ms/step - loss: 0.0444 - accuracy: 0.9954 - val_loss: 2.3076 - val_accuracy: 0.5406\n",
            "Epoch 13/50\n",
            "156/156 [==============================] - 2s 16ms/step - loss: 0.0276 - accuracy: 0.9980 - val_loss: 2.2793 - val_accuracy: 0.5406\n",
            "Epoch 14/50\n",
            "156/156 [==============================] - 2s 16ms/step - loss: 0.0185 - accuracy: 0.9988 - val_loss: 2.3180 - val_accuracy: 0.5390\n",
            "Epoch 15/50\n",
            "156/156 [==============================] - 2s 16ms/step - loss: 0.0128 - accuracy: 0.9992 - val_loss: 2.3417 - val_accuracy: 0.5478\n",
            "Epoch 16/50\n",
            "156/156 [==============================] - 2s 16ms/step - loss: 0.0093 - accuracy: 0.9996 - val_loss: 2.3771 - val_accuracy: 0.5502\n",
            "Epoch 17/50\n",
            "156/156 [==============================] - 2s 16ms/step - loss: 0.0077 - accuracy: 0.9996 - val_loss: 2.4146 - val_accuracy: 0.5414\n",
            "Epoch 18/50\n",
            "156/156 [==============================] - 2s 16ms/step - loss: 0.0067 - accuracy: 0.9996 - val_loss: 2.4289 - val_accuracy: 0.5454\n",
            "Epoch 19/50\n",
            "156/156 [==============================] - 2s 16ms/step - loss: 0.0054 - accuracy: 0.9998 - val_loss: 2.4540 - val_accuracy: 0.5518\n",
            "Epoch 20/50\n",
            "156/156 [==============================] - 3s 16ms/step - loss: 0.0043 - accuracy: 0.9998 - val_loss: 2.4842 - val_accuracy: 0.5510\n",
            "Epoch 21/50\n",
            "156/156 [==============================] - 2s 16ms/step - loss: 0.0033 - accuracy: 1.0000 - val_loss: 2.5068 - val_accuracy: 0.5526\n",
            "Epoch 22/50\n",
            "156/156 [==============================] - 2s 16ms/step - loss: 0.0028 - accuracy: 1.0000 - val_loss: 2.5375 - val_accuracy: 0.5478\n",
            "Epoch 23/50\n",
            "156/156 [==============================] - 2s 16ms/step - loss: 0.0024 - accuracy: 1.0000 - val_loss: 2.5617 - val_accuracy: 0.5510\n",
            "Epoch 24/50\n",
            "156/156 [==============================] - 2s 16ms/step - loss: 0.0021 - accuracy: 1.0000 - val_loss: 2.5860 - val_accuracy: 0.5526\n",
            "Epoch 25/50\n",
            "156/156 [==============================] - 2s 16ms/step - loss: 0.0019 - accuracy: 1.0000 - val_loss: 2.6101 - val_accuracy: 0.5526\n",
            "Epoch 26/50\n",
            "156/156 [==============================] - 2s 16ms/step - loss: 0.0017 - accuracy: 1.0000 - val_loss: 2.6338 - val_accuracy: 0.5518\n",
            "Epoch 27/50\n",
            "156/156 [==============================] - 2s 16ms/step - loss: 0.0015 - accuracy: 1.0000 - val_loss: 2.6572 - val_accuracy: 0.5518\n",
            "Epoch 28/50\n",
            "156/156 [==============================] - 2s 16ms/step - loss: 0.0013 - accuracy: 1.0000 - val_loss: 2.6800 - val_accuracy: 0.5518\n",
            "Epoch 29/50\n",
            "156/156 [==============================] - 2s 16ms/step - loss: 0.0012 - accuracy: 1.0000 - val_loss: 2.7026 - val_accuracy: 0.5526\n",
            "Epoch 30/50\n",
            "156/156 [==============================] - 2s 16ms/step - loss: 0.0011 - accuracy: 1.0000 - val_loss: 2.7252 - val_accuracy: 0.5534\n",
            "Epoch 31/50\n",
            "156/156 [==============================] - 2s 16ms/step - loss: 9.6073e-04 - accuracy: 1.0000 - val_loss: 2.7472 - val_accuracy: 0.5526\n",
            "Epoch 32/50\n",
            "156/156 [==============================] - 2s 16ms/step - loss: 8.6620e-04 - accuracy: 1.0000 - val_loss: 2.7693 - val_accuracy: 0.5534\n",
            "Epoch 33/50\n",
            "156/156 [==============================] - 2s 16ms/step - loss: 7.8235e-04 - accuracy: 1.0000 - val_loss: 2.7911 - val_accuracy: 0.5534\n",
            "Epoch 34/50\n",
            "156/156 [==============================] - 2s 16ms/step - loss: 7.0771e-04 - accuracy: 1.0000 - val_loss: 2.8127 - val_accuracy: 0.5534\n",
            "Epoch 35/50\n",
            "156/156 [==============================] - 2s 16ms/step - loss: 6.4101e-04 - accuracy: 1.0000 - val_loss: 2.8342 - val_accuracy: 0.5542\n",
            "Epoch 36/50\n",
            "156/156 [==============================] - 2s 16ms/step - loss: 5.8116e-04 - accuracy: 1.0000 - val_loss: 2.8557 - val_accuracy: 0.5534\n",
            "Epoch 37/50\n",
            "156/156 [==============================] - 2s 16ms/step - loss: 5.2750e-04 - accuracy: 1.0000 - val_loss: 2.8771 - val_accuracy: 0.5526\n",
            "Epoch 38/50\n",
            "156/156 [==============================] - 2s 16ms/step - loss: 4.7924e-04 - accuracy: 1.0000 - val_loss: 2.8989 - val_accuracy: 0.5534\n",
            "Epoch 39/50\n",
            "156/156 [==============================] - 2s 16ms/step - loss: 4.3581e-04 - accuracy: 1.0000 - val_loss: 2.9204 - val_accuracy: 0.5518\n",
            "Epoch 40/50\n",
            "156/156 [==============================] - 2s 16ms/step - loss: 3.9665e-04 - accuracy: 1.0000 - val_loss: 2.9419 - val_accuracy: 0.5518\n",
            "Epoch 41/50\n",
            "156/156 [==============================] - 2s 16ms/step - loss: 3.6126e-04 - accuracy: 1.0000 - val_loss: 2.9634 - val_accuracy: 0.5526\n",
            "Epoch 42/50\n",
            "156/156 [==============================] - 2s 16ms/step - loss: 3.2925e-04 - accuracy: 1.0000 - val_loss: 2.9848 - val_accuracy: 0.5518\n",
            "Epoch 43/50\n",
            "156/156 [==============================] - 2s 16ms/step - loss: 3.0026e-04 - accuracy: 1.0000 - val_loss: 3.0057 - val_accuracy: 0.5502\n",
            "Epoch 44/50\n",
            "156/156 [==============================] - 3s 16ms/step - loss: 2.7397e-04 - accuracy: 1.0000 - val_loss: 3.0272 - val_accuracy: 0.5502\n",
            "Epoch 45/50\n",
            "156/156 [==============================] - 2s 16ms/step - loss: 2.5007e-04 - accuracy: 1.0000 - val_loss: 3.0484 - val_accuracy: 0.5494\n",
            "Epoch 46/50\n",
            "156/156 [==============================] - 2s 16ms/step - loss: 2.2838e-04 - accuracy: 1.0000 - val_loss: 3.0697 - val_accuracy: 0.5486\n",
            "Epoch 47/50\n",
            "156/156 [==============================] - 2s 16ms/step - loss: 2.0863e-04 - accuracy: 1.0000 - val_loss: 3.0913 - val_accuracy: 0.5502\n",
            "Epoch 48/50\n",
            "156/156 [==============================] - 2s 16ms/step - loss: 1.9066e-04 - accuracy: 1.0000 - val_loss: 3.1123 - val_accuracy: 0.5494\n",
            "Epoch 49/50\n",
            "156/156 [==============================] - 3s 16ms/step - loss: 1.7430e-04 - accuracy: 1.0000 - val_loss: 3.1334 - val_accuracy: 0.5494\n",
            "Epoch 50/50\n",
            "156/156 [==============================] - 2s 16ms/step - loss: 1.5941e-04 - accuracy: 1.0000 - val_loss: 3.1555 - val_accuracy: 0.5470\n"
          ]
        }
      ]
    },
    {
      "cell_type": "code",
      "metadata": {
        "colab": {
          "base_uri": "https://localhost:8080/",
          "height": 499
        },
        "id": "f1z_vHocu59c",
        "outputId": "ddda5d05-0da8-445c-8513-7dc7cbca883d"
      },
      "source": [
        "acc = history.history['accuracy']\n",
        "val_acc = history.history['val_accuracy']\n",
        "\n",
        "loss=history.history['loss']\n",
        "val_loss=history.history['val_loss']\n",
        "\n",
        "epochs_range = range(epochs)\n",
        "\n",
        "plt.figure(figsize=(8, 8))\n",
        "plt.subplot(1, 2, 1)\n",
        "plt.plot(epochs_range, acc, label='Training Accuracy')\n",
        "plt.plot(epochs_range, val_acc, label='Validation Accuracy')\n",
        "plt.legend(loc='lower right')\n",
        "plt.title('Training and Validation Accuracy')\n",
        "\n",
        "plt.subplot(1, 2, 2)\n",
        "plt.plot(epochs_range, loss, label='Training Loss')\n",
        "plt.plot(epochs_range, val_loss, label='Validation Loss')\n",
        "plt.legend(loc='upper right')\n",
        "plt.title('Training and Validation Loss')\n",
        "plt.show()"
      ],
      "execution_count": null,
      "outputs": [
        {
          "output_type": "display_data",
          "data": {
            "image/png": "[encoded data removed]",
            "text/plain": [
              "<Figure size 576x576 with 2 Axes>"
            ]
          },
          "metadata": {
            "needs_background": "light"
          }
        }
      ]
    },
    {
      "cell_type": "code",
      "metadata": {
        "id": "XinJ6xXD9YNO"
      },
      "source": [
        "data_augmentation = keras.Sequential(\n",
        "  [\n",
        "    layers.experimental.preprocessing.RandomFlip(\"horizontal\", \n",
        "                                                 input_shape=(img_height, \n",
        "                                                              img_width,\n",
        "                                                              1)),\n",
        "    layers.experimental.preprocessing.RandomRotation(0.1),\n",
        "    layers.experimental.preprocessing.RandomZoom(0.1),\n",
        "  ]\n",
        ")"
      ],
      "execution_count": null,
      "outputs": []
    },
    {
      "cell_type": "code",
      "metadata": {
        "id": "8WT2BYElEYZj"
      },
      "source": [
        "model = Sequential([\n",
        "  data_augmentation,\n",
        "  layers.experimental.preprocessing.Rescaling(1./255),\n",
        "  layers.Conv2D(32, 3,input_shape = image_batch, activation='relu'),\n",
        "  layers.MaxPooling2D(),\n",
        "  layers.Conv2D(32, 3, padding='same', activation='relu'),\n",
        "  layers.MaxPooling2D(),\n",
        "  layers.Conv2D(32, 3, padding='same', activation='relu'),\n",
        "  layers.MaxPooling2D(),\n",
        "  layers.Dropout(0.2),\n",
        "  layers.Flatten(),\n",
        "  layers.Dense(128, input_dim = 107, activation='relu'),\n",
        "  BatchNormalization(),\n",
        "  layers.Dense(128, activation='relu'),\n",
        "  BatchNormalization(),\n",
        "  layers.Dense(128, activation='relu'),\n",
        "  BatchNormalization(),\n",
        "  layers.Dense(107, activation='softmax'),\n",
        "  BatchNormalization(),\n",
        "  layers.Dense(num_classes)\n",
        "])"
      ],
      "execution_count": null,
      "outputs": []
    },
    {
      "cell_type": "code",
      "metadata": {
        "id": "opOHP3auEdsw",
        "colab": {
          "base_uri": "https://localhost:8080/"
        },
        "outputId": "c4ed68ce-1983-4806-fca2-3fecb11f0753"
      },
      "source": [
        "BatchNormalization(),model.compile(\n",
        "    optimizer='adam',\n",
        "    loss=tf.losses.SparseCategoricalCrossentropy(from_logits=True),\n",
        "    metrics=['accuracy'])"
      ],
      "execution_count": null,
      "outputs": [
        {
          "output_type": "execute_result",
          "data": {
            "text/plain": [
              "(<keras.layers.normalization.batch_normalization.BatchNormalization at 0x7f5b80a861d0>,\n",
              " None)"
            ]
          },
          "metadata": {},
          "execution_count": 20
        }
      ]
    },
    {
      "cell_type": "code",
      "metadata": {
        "colab": {
          "base_uri": "https://localhost:8080/"
        },
        "id": "3Ay4tlHlEfBX",
        "outputId": "89ca2412-e6b1-49d2-ae4e-adae0c0e0b32"
      },
      "source": [
        "model.summary()"
      ],
      "execution_count": null,
      "outputs": [
        {
          "output_type": "stream",
          "name": "stdout",
          "text": [
            "Model: \"sequential_2\"\n",
            "_________________________________________________________________\n",
            " Layer (type)                Output Shape              Param #   \n",
            "=================================================================\n",
            " sequential_1 (Sequential)   (None, 180, 180, 1)       0         \n",
            "                                                                 \n",
            " rescaling_2 (Rescaling)     (None, 180, 180, 1)       0         \n",
            "                                                                 \n",
            " conv2d_3 (Conv2D)           (None, 178, 178, 32)      320       \n",
            "                                                                 \n",
            " max_pooling2d_3 (MaxPooling  (None, 89, 89, 32)       0         \n",
            " 2D)                                                             \n",
            "                                                                 \n",
            " conv2d_4 (Conv2D)           (None, 89, 89, 32)        9248      \n",
            "                                                                 \n",
            " max_pooling2d_4 (MaxPooling  (None, 44, 44, 32)       0         \n",
            " 2D)                                                             \n",
            "                                                                 \n",
            " conv2d_5 (Conv2D)           (None, 44, 44, 32)        9248      \n",
            "                                                                 \n",
            " max_pooling2d_5 (MaxPooling  (None, 22, 22, 32)       0         \n",
            " 2D)                                                             \n",
            "                                                                 \n",
            " dropout (Dropout)           (None, 22, 22, 32)        0         \n",
            "                                                                 \n",
            " flatten_1 (Flatten)         (None, 15488)             0         \n",
            "                                                                 \n",
            " dense_5 (Dense)             (None, 128)               1982592   \n",
            "                                                                 \n",
            " batch_normalization_5 (Batc  (None, 128)              512       \n",
            " hNormalization)                                                 \n",
            "                                                                 \n",
            " dense_6 (Dense)             (None, 128)               16512     \n",
            "                                                                 \n",
            " batch_normalization_6 (Batc  (None, 128)              512       \n",
            " hNormalization)                                                 \n",
            "                                                                 \n",
            " dense_7 (Dense)             (None, 128)               16512     \n",
            "                                                                 \n",
            " batch_normalization_7 (Batc  (None, 128)              512       \n",
            " hNormalization)                                                 \n",
            "                                                                 \n",
            " dense_8 (Dense)             (None, 107)               13803     \n",
            "                                                                 \n",
            " batch_normalization_8 (Batc  (None, 107)              428       \n",
            " hNormalization)                                                 \n",
            "                                                                 \n",
            " dense_9 (Dense)             (None, 107)               11556     \n",
            "                                                                 \n",
            "=================================================================\n",
            "Total params: 2,061,755\n",
            "Trainable params: 2,060,773\n",
            "Non-trainable params: 982\n",
            "_________________________________________________________________\n"
          ]
        }
      ]
    },
    {
      "cell_type": "code",
      "metadata": {
        "colab": {
          "base_uri": "https://localhost:8080/"
        },
        "id": "Jc8rD_v9Ef41",
        "outputId": "e602850d-d71b-41c4-a621-f3a93c796f23"
      },
      "source": [
        "epochs = 50\n",
        "history = model.fit(\n",
        "  train_ds,\n",
        "  validation_data=val_ds,\n",
        "  epochs=epochs\n",
        ")"
      ],
      "execution_count": null,
      "outputs": [
        {
          "output_type": "stream",
          "name": "stdout",
          "text": [
            "Epoch 1/50\n",
            "156/156 [==============================] - 5s 19ms/step - loss: 3.6266 - accuracy: 0.2174 - val_loss: 4.1230 - val_accuracy: 0.1727\n",
            "Epoch 2/50\n",
            "156/156 [==============================] - 3s 17ms/step - loss: 2.6714 - accuracy: 0.3238 - val_loss: 3.5787 - val_accuracy: 0.2410\n",
            "Epoch 3/50\n",
            "156/156 [==============================] - 3s 17ms/step - loss: 2.3750 - accuracy: 0.3764 - val_loss: 3.1134 - val_accuracy: 0.2458\n",
            "Epoch 4/50\n",
            "156/156 [==============================] - 3s 17ms/step - loss: 2.1488 - accuracy: 0.4122 - val_loss: 2.6664 - val_accuracy: 0.3277\n",
            "Epoch 5/50\n",
            "156/156 [==============================] - 3s 17ms/step - loss: 1.9945 - accuracy: 0.4340 - val_loss: 2.8510 - val_accuracy: 0.2948\n",
            "Epoch 6/50\n",
            "156/156 [==============================] - 3s 17ms/step - loss: 1.8590 - accuracy: 0.4650 - val_loss: 2.9164 - val_accuracy: 0.3229\n",
            "Epoch 7/50\n",
            "156/156 [==============================] - 3s 17ms/step - loss: 1.7686 - accuracy: 0.4820 - val_loss: 2.7134 - val_accuracy: 0.3550\n",
            "Epoch 8/50\n",
            "156/156 [==============================] - 3s 18ms/step - loss: 1.6584 - accuracy: 0.5037 - val_loss: 2.9859 - val_accuracy: 0.3213\n",
            "Epoch 9/50\n",
            "156/156 [==============================] - 3s 18ms/step - loss: 1.5662 - accuracy: 0.5256 - val_loss: 2.4651 - val_accuracy: 0.4112\n",
            "Epoch 10/50\n",
            "156/156 [==============================] - 3s 17ms/step - loss: 1.5032 - accuracy: 0.5382 - val_loss: 2.3792 - val_accuracy: 0.4120\n",
            "Epoch 11/50\n",
            "156/156 [==============================] - 3s 17ms/step - loss: 1.4284 - accuracy: 0.5629 - val_loss: 2.3177 - val_accuracy: 0.4289\n",
            "Epoch 12/50\n",
            "156/156 [==============================] - 3s 17ms/step - loss: 1.3846 - accuracy: 0.5732 - val_loss: 2.6843 - val_accuracy: 0.3791\n",
            "Epoch 13/50\n",
            "156/156 [==============================] - 3s 17ms/step - loss: 1.3068 - accuracy: 0.5943 - val_loss: 2.4829 - val_accuracy: 0.4040\n",
            "Epoch 14/50\n",
            "156/156 [==============================] - 3s 17ms/step - loss: 1.2801 - accuracy: 0.5995 - val_loss: 2.5578 - val_accuracy: 0.4137\n",
            "Epoch 15/50\n",
            "156/156 [==============================] - 3s 17ms/step - loss: 1.2075 - accuracy: 0.6240 - val_loss: 2.4767 - val_accuracy: 0.4008\n",
            "Epoch 16/50\n",
            "156/156 [==============================] - 3s 17ms/step - loss: 1.1589 - accuracy: 0.6336 - val_loss: 2.5128 - val_accuracy: 0.4080\n",
            "Epoch 17/50\n",
            "156/156 [==============================] - 3s 18ms/step - loss: 1.1128 - accuracy: 0.6346 - val_loss: 3.1465 - val_accuracy: 0.3622\n",
            "Epoch 18/50\n",
            "156/156 [==============================] - 3s 18ms/step - loss: 1.0594 - accuracy: 0.6619 - val_loss: 2.6416 - val_accuracy: 0.3920\n",
            "Epoch 19/50\n",
            "156/156 [==============================] - 3s 18ms/step - loss: 1.0051 - accuracy: 0.6834 - val_loss: 3.1087 - val_accuracy: 0.3582\n",
            "Epoch 20/50\n",
            "156/156 [==============================] - 3s 17ms/step - loss: 0.9981 - accuracy: 0.6824 - val_loss: 2.5649 - val_accuracy: 0.4353\n",
            "Epoch 21/50\n",
            "156/156 [==============================] - 3s 17ms/step - loss: 0.9759 - accuracy: 0.6894 - val_loss: 2.7889 - val_accuracy: 0.4305\n",
            "Epoch 22/50\n",
            "156/156 [==============================] - 3s 17ms/step - loss: 0.9185 - accuracy: 0.7003 - val_loss: 2.6382 - val_accuracy: 0.4321\n",
            "Epoch 23/50\n",
            "156/156 [==============================] - 3s 17ms/step - loss: 0.8620 - accuracy: 0.7233 - val_loss: 2.5855 - val_accuracy: 0.4490\n",
            "Epoch 24/50\n",
            "156/156 [==============================] - 3s 18ms/step - loss: 0.8324 - accuracy: 0.7310 - val_loss: 2.4725 - val_accuracy: 0.4490\n",
            "Epoch 25/50\n",
            "156/156 [==============================] - 3s 17ms/step - loss: 0.8174 - accuracy: 0.7342 - val_loss: 2.5935 - val_accuracy: 0.4313\n",
            "Epoch 26/50\n",
            "156/156 [==============================] - 3s 17ms/step - loss: 0.7541 - accuracy: 0.7547 - val_loss: 2.8547 - val_accuracy: 0.4313\n",
            "Epoch 27/50\n",
            "156/156 [==============================] - 3s 17ms/step - loss: 0.7607 - accuracy: 0.7525 - val_loss: 2.6136 - val_accuracy: 0.4586\n",
            "Epoch 28/50\n",
            "156/156 [==============================] - 3s 17ms/step - loss: 0.7295 - accuracy: 0.7603 - val_loss: 2.3246 - val_accuracy: 0.4972\n",
            "Epoch 29/50\n",
            "156/156 [==============================] - 3s 17ms/step - loss: 0.7245 - accuracy: 0.7575 - val_loss: 2.6424 - val_accuracy: 0.4586\n",
            "Epoch 30/50\n",
            "156/156 [==============================] - 3s 18ms/step - loss: 0.6658 - accuracy: 0.7892 - val_loss: 2.3922 - val_accuracy: 0.4867\n",
            "Epoch 31/50\n",
            "156/156 [==============================] - 3s 18ms/step - loss: 0.6534 - accuracy: 0.7755 - val_loss: 3.0726 - val_accuracy: 0.4201\n",
            "Epoch 32/50\n",
            "156/156 [==============================] - 3s 17ms/step - loss: 0.6115 - accuracy: 0.7916 - val_loss: 2.6953 - val_accuracy: 0.4779\n",
            "Epoch 33/50\n",
            "156/156 [==============================] - 3s 18ms/step - loss: 0.6075 - accuracy: 0.7976 - val_loss: 2.6385 - val_accuracy: 0.4803\n",
            "Epoch 34/50\n",
            "156/156 [==============================] - 3s 17ms/step - loss: 0.5761 - accuracy: 0.8123 - val_loss: 2.7660 - val_accuracy: 0.4707\n",
            "Epoch 35/50\n",
            "156/156 [==============================] - 3s 17ms/step - loss: 0.5610 - accuracy: 0.8167 - val_loss: 2.5294 - val_accuracy: 0.5028\n",
            "Epoch 36/50\n",
            "156/156 [==============================] - 3s 17ms/step - loss: 0.5441 - accuracy: 0.8197 - val_loss: 2.7112 - val_accuracy: 0.4731\n",
            "Epoch 37/50\n",
            "156/156 [==============================] - 3s 17ms/step - loss: 0.5295 - accuracy: 0.8328 - val_loss: 2.7728 - val_accuracy: 0.4659\n",
            "Epoch 38/50\n",
            "156/156 [==============================] - 3s 18ms/step - loss: 0.5036 - accuracy: 0.8348 - val_loss: 2.5020 - val_accuracy: 0.5028\n",
            "Epoch 39/50\n",
            "156/156 [==============================] - 3s 17ms/step - loss: 0.5120 - accuracy: 0.8287 - val_loss: 2.4112 - val_accuracy: 0.5092\n",
            "Epoch 40/50\n",
            "156/156 [==============================] - 3s 18ms/step - loss: 0.4987 - accuracy: 0.8392 - val_loss: 2.4161 - val_accuracy: 0.5365\n",
            "Epoch 41/50\n",
            "156/156 [==============================] - 3s 17ms/step - loss: 0.4670 - accuracy: 0.8474 - val_loss: 2.5105 - val_accuracy: 0.5301\n",
            "Epoch 42/50\n",
            "156/156 [==============================] - 3s 17ms/step - loss: 0.4519 - accuracy: 0.8542 - val_loss: 2.6277 - val_accuracy: 0.5173\n",
            "Epoch 43/50\n",
            "156/156 [==============================] - 3s 17ms/step - loss: 0.4472 - accuracy: 0.8492 - val_loss: 2.6571 - val_accuracy: 0.4972\n",
            "Epoch 44/50\n",
            "156/156 [==============================] - 3s 18ms/step - loss: 0.4085 - accuracy: 0.8677 - val_loss: 2.7265 - val_accuracy: 0.5092\n",
            "Epoch 45/50\n",
            "156/156 [==============================] - 3s 17ms/step - loss: 0.4133 - accuracy: 0.8681 - val_loss: 3.0400 - val_accuracy: 0.4586\n",
            "Epoch 46/50\n",
            "156/156 [==============================] - 3s 17ms/step - loss: 0.4121 - accuracy: 0.8665 - val_loss: 2.7736 - val_accuracy: 0.4956\n",
            "Epoch 47/50\n",
            "156/156 [==============================] - 3s 17ms/step - loss: 0.4122 - accuracy: 0.8643 - val_loss: 3.0765 - val_accuracy: 0.4635\n",
            "Epoch 48/50\n",
            "156/156 [==============================] - 3s 18ms/step - loss: 0.3843 - accuracy: 0.8713 - val_loss: 3.2796 - val_accuracy: 0.4458\n",
            "Epoch 49/50\n",
            "156/156 [==============================] - 3s 18ms/step - loss: 0.3950 - accuracy: 0.8697 - val_loss: 2.5364 - val_accuracy: 0.5341\n",
            "Epoch 50/50\n",
            "156/156 [==============================] - 3s 18ms/step - loss: 0.3540 - accuracy: 0.8834 - val_loss: 2.7889 - val_accuracy: 0.4908\n"
          ]
        }
      ]
    },
    {
      "cell_type": "code",
      "metadata": {
        "colab": {
          "base_uri": "https://localhost:8080/",
          "height": 499
        },
        "id": "ynhS2KjVEhj8",
        "outputId": "2e079846-33ac-482e-da7a-84cdaab64c69"
      },
      "source": [
        "acc = history.history['accuracy']\n",
        "val_acc = history.history['val_accuracy']\n",
        "\n",
        "loss = history.history['loss']\n",
        "val_loss = history.history['val_loss']\n",
        "\n",
        "epochs_range = range(epochs)\n",
        "\n",
        "plt.figure(figsize=(8, 8))\n",
        "plt.subplot(1, 2, 1)\n",
        "plt.plot(epochs_range, acc, label='Training Accuracy')\n",
        "plt.plot(epochs_range, val_acc, label='Validation Accuracy')\n",
        "plt.legend(loc='lower right')\n",
        "plt.title('Training and Validation Accuracy')\n",
        "\n",
        "plt.subplot(1, 2, 2)\n",
        "plt.plot(epochs_range, loss, label='Training Loss')\n",
        "plt.plot(epochs_range, val_loss, label='Validation Loss')\n",
        "plt.legend(loc='upper right')\n",
        "plt.title('Training and Validation Loss')\n",
        "plt.show()"
      ],
      "execution_count": null,
      "outputs": [
        {
          "output_type": "display_data",
          "data": {
            "image/png": "[encoded data removed]",
            "text/plain": [
              "<Figure size 576x576 with 2 Axes>"
            ]
          },
          "metadata": {
            "needs_background": "light"
          }
        }
      ]
    },
    {
      "cell_type": "code",
      "metadata": {
        "colab": {
          "base_uri": "https://localhost:8080/"
        },
        "id": "IbEQMrsAH2yZ",
        "outputId": "6557f9c7-6945-4c5b-ea98-51fba573e098"
      },
      "source": [
        "model.compile(\n",
        "    optimizer='adam',\n",
        "    loss=tf.losses.SparseCategoricalCrossentropy(from_logits=True),\n",
        "    metrics=['accuracy'])\n",
        "model.summary()"
      ],
      "execution_count": null,
      "outputs": [
        {
          "output_type": "stream",
          "name": "stdout",
          "text": [
            "Model: \"sequential_2\"\n",
            "_________________________________________________________________\n",
            " Layer (type)                Output Shape              Param #   \n",
            "=================================================================\n",
            " sequential_1 (Sequential)   (None, 180, 180, 1)       0         \n",
            "                                                                 \n",
            " rescaling_2 (Rescaling)     (None, 180, 180, 1)       0         \n",
            "                                                                 \n",
            " conv2d_3 (Conv2D)           (None, 178, 178, 32)      320       \n",
            "                                                                 \n",
            " max_pooling2d_3 (MaxPooling  (None, 89, 89, 32)       0         \n",
            " 2D)                                                             \n",
            "                                                                 \n",
            " conv2d_4 (Conv2D)           (None, 89, 89, 32)        9248      \n",
            "                                                                 \n",
            " max_pooling2d_4 (MaxPooling  (None, 44, 44, 32)       0         \n",
            " 2D)                                                             \n",
            "                                                                 \n",
            " conv2d_5 (Conv2D)           (None, 44, 44, 32)        9248      \n",
            "                                                                 \n",
            " max_pooling2d_5 (MaxPooling  (None, 22, 22, 32)       0         \n",
            " 2D)                                                             \n",
            "                                                                 \n",
            " dropout (Dropout)           (None, 22, 22, 32)        0         \n",
            "                                                                 \n",
            " flatten_1 (Flatten)         (None, 15488)             0         \n",
            "                                                                 \n",
            " dense_5 (Dense)             (None, 128)               1982592   \n",
            "                                                                 \n",
            " batch_normalization_5 (Batc  (None, 128)              512       \n",
            " hNormalization)                                                 \n",
            "                                                                 \n",
            " dense_6 (Dense)             (None, 128)               16512     \n",
            "                                                                 \n",
            " batch_normalization_6 (Batc  (None, 128)              512       \n",
            " hNormalization)                                                 \n",
            "                                                                 \n",
            " dense_7 (Dense)             (None, 128)               16512     \n",
            "                                                                 \n",
            " batch_normalization_7 (Batc  (None, 128)              512       \n",
            " hNormalization)                                                 \n",
            "                                                                 \n",
            " dense_8 (Dense)             (None, 107)               13803     \n",
            "                                                                 \n",
            " batch_normalization_8 (Batc  (None, 107)              428       \n",
            " hNormalization)                                                 \n",
            "                                                                 \n",
            " dense_9 (Dense)             (None, 107)               11556     \n",
            "                                                                 \n",
            "=================================================================\n",
            "Total params: 2,061,755\n",
            "Trainable params: 2,060,773\n",
            "Non-trainable params: 982\n",
            "_________________________________________________________________\n"
          ]
        }
      ]
    },
    {
      "cell_type": "code",
      "metadata": {
        "id": "df30HUqFjWre"
      },
      "source": [
        ""
      ],
      "execution_count": null,
      "outputs": []
    }
  ]
}