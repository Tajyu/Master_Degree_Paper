{
  "nbformat": 4,
  "nbformat_minor": 0,
  "metadata": {
    "colab": {
      "name": "3Class_Genus_BatchNormal_Input_dim_Layer_7.ipynb",
      "provenance": [],
      "collapsed_sections": [],
      "mount_file_id": "1lHgaRiIWYup0iQ_VmPaWbAViBpRnY_p2",
      "authorship_tag": "ABX9TyMJJGN30U8JiZih2XP4x9Un",
      "include_colab_link": true
    },
    "kernelspec": {
      "name": "python3",
      "display_name": "Python 3"
    },
    "language_info": {
      "name": "python"
    },
    "accelerator": "GPU"
  },
  "cells": [
    {
      "cell_type": "markdown",
      "metadata": {
        "id": "view-in-github",
        "colab_type": "text"
      },
      "source": [
        "<a href=\"https://colab.research.google.com/github/Tajyu/Master_Degree_Paper/blob/main/Code/Filter_32/Input_dim/3Class_Genus_BatchNormal_Input_dim_Layer_7.ipynb\" target=\"_parent\"><img src=\"https://colab.research.google.com/assets/colab-badge.svg\" alt=\"Open In Colab\"/></a>"
      ]
    },
    {
      "cell_type": "code",
      "metadata": {
        "id": "yWckd06_68Em"
      },
      "source": [
        "import tensorflow as tf\n",
        "from tensorflow.keras import datasets, layers, models\n",
        "from keras.preprocessing.image import ImageDataGenerator\n",
        "import numpy as np\n",
        "import matplotlib.pyplot as plt\n",
        "import cv2 as cv\n",
        "import os\n",
        "import pathlib\n",
        "import PIL\n",
        "from tensorflow import keras\n",
        "from tensorflow.keras import layers\n",
        "from tensorflow.keras.models import Sequential\n",
        "from tensorflow.keras.layers import Dense, Flatten, BatchNormalization, Dropout"
      ],
      "execution_count": null,
      "outputs": []
    },
    {
      "cell_type": "code",
      "metadata": {
        "id": "xav9zirHttk_"
      },
      "source": [
        "image_list = os.listdir('/content/drive/MyDrive/Colab Notebooks/Final_Project/Cell_Genus')"
      ],
      "execution_count": null,
      "outputs": []
    },
    {
      "cell_type": "code",
      "metadata": {
        "colab": {
          "base_uri": "https://localhost:8080/"
        },
        "id": "K-wD0dM5tx_E",
        "outputId": "af82d2ac-8688-4fa5-f975-bdf8ffc9b48c"
      },
      "source": [
        "print(image_list)"
      ],
      "execution_count": null,
      "outputs": [
        {
          "output_type": "stream",
          "name": "stdout",
          "text": [
            "['10_Genus_Stauroneis_Ehrenberg', '10_Genus_Staurosira_Ehrenberg', '11_Genus_Craspedostauros_E.J_Cox_1999', '11_Genus_Staurosirella_Williams_and_Round', '12_Genus_Caloneis_Cleve_1894', '12_Genus_Synedra_Ehrenberg', '13_Genus_Pinnularia_Ehrenberg_1843', '1_Genus_Acanthoceras_Honigmann', '1_Genus_Achnanthes_Bory', '1_Genus_Actinocyclus_Ehrenberg', '1_Genus_Aphanocapsa_Nageli_1849', '1_Genus_Asterionella_Hassall', '1_Genus_Aulacoseira', '1_Genus_Biremis_Mann_et_Cox_in_Round_Crawford_and_Mann', '1_Genus_Characium_A_Braun_in_Kutzing_1849', '1_Genus_Chroococcus_Nageli', '1_Genus_Closterium_Nitzsch_ex_Ralfs_1848', '1_Genus_Coelastrum_Nageli_1849', '1_Genus_Cylindrocystis_Meneghini_ex_de_Bary_1858', '1_Genus_Dictyosphaerium_Nageli_1849', '1_Genus_Docidium_Brebisson_ex_Ralfs_1848', '1_Genus_Eunotia_Ehrenberg', '1_Genus_Geitlerinema_(Anagnostidis_et_Komarek)_Anagnostidis_1989', '1_Genus_Gonatozygon_de_Bary_1856', '1_Genus_Hydrodictyon_Roth_1797', '1_Genus_Hydrosera_whampoensis', '1_Genus_Jaaginema_Anagnostidis_et_Komarek_1988', '1_Genus_Lyngbya_C_Agardh_ex_Gomont_1892', '1_Genus_Melosira_Agardh', '1_Genus_Micractinium_Fresenius_1858', '1_Genus_Micrasterias_Ralfs_1848', '1_Genus_Microcystis_Kutzing_ex_Lemmermann_1907', '1_Genus_Oscillatoria_Vaucher_ex_Gomont_1982', '1_Genus_Pediastrum_Meyen_1829', '1_Genus_Penium_Brebisson_ex_Ralfs_in_Ralfs_1848', '1_Genus_Phormidium_Kutzing_ex_Gomont_1892', '1_Genus_Planktothrix_Anagnostidis_et_Komarek_1988', '1_Genus_Pleurosira_laevis_(Ehrenberg)', '1_Genus_Rhizosolenia_Ehrenberg', '1_Genus_Schizochlamydella_Korshikov_1953', '1_Genus_Staurodesmus_Teiling_1848', '1_Genus_Trochiscia_Kutzing_1834', '1_Scenedesmus_Hegewald_1978', '2_Acutodesmus_Hegewald_1978', '2_Genus_Achnanthidium_Kutzing', '2_Genus_Actinastrum_Lagerheim_1882', '2_Genus_Actinella_Lewis', '2_Genus_Ankyra_Fott_1957', '2_Genus_Caloneis_Cleve', '2_Genus_Chaetoceros_Ehrenberg', '2_Genus_Coenochloris_Korshikov_1953', '2_Genus_Cyclotella', '2_Genus_Diatoma_Bory', '2_Genus_Dimorphococcus_A_Braun_1855', '2_Genus_Golenkinia_Chodat_1894', '2_Genus_Haplotaenium_Bando_1988', '2_Genus_Leibleinia_(Gomont)_L_Hoffman_1985', '2_Genus_Leptolyngbya_Anagnostidis_et_Komarek_1988', '2_Genus_Merismopedia_Meyen_1839', '2_Genus_Netrium_(Nageli)_Itzigsohn_et_Rothe_in_Rabenhorst_1856', '2_Genus_Orthoseira_Thwaites_1848', '2_Genus_Phormidium_Kutzing_ex_Gomont_1892', '2_Genus_Sorastrum_Kutzing_1845', '2_Genus_Staurastrum_Meyen_ex_Ralfs_1848', '3_Desmodesmus_Chodat_1926', '3_Genus_Acanthosphaera_Lemmerman_1899', '3_Genus_Anorthoneis_Grunow', '3_Genus_Cyclostephanos_Round', '3_Genus_Dichotomococcus_Korshikov_1928', '3_Genus_Heteroleibleinia_(Geitler)_L_Hoffmann_1985', '3_Genus_Limnothrix_Meffert_1988', '3_Genus_Meridion_Agardh', '3_Genus_Paradoxia_Svirenko_1928', '3_Genus_Peronia_Bebisson_and_Arnott_ex_Kitton', '3_Genus_Phormidiochaete_Komarek_in_Anagnostidis_2001', '3_Genus_Pinnularia_Ehrenberg_1', '3_Genus_Pleurotaenium_Nageli_1849', '3_Genus_Radiococcus_Schmidle_1902', '3_Genus_Snowella_Elenkin_1938', '3_Genus_Spirotaenia_Brebisson_in_Ralfs_1848', '4_Genus_Botryococcus_Kutzing_1849', '4_Genus_Cocconeis_Ehrenberg', '4_Genus_Eutetramorus_Walton_1918', '4_Genus_Leptolyngbya_Anagnostidis_et_Komarek_1988', '4_Genus_Opephora_Petit', '4_Genus_Pinnularia_Ehrenberg_2', '4_Genus_Schroederia_Lemmermann_1898', '4_Genus_Stephanodiscus_Ehrenberg', '4_Genus_Synechocystis_Sauvageau_1892', '4_Genus_Tortitaenia_A_J_Brook_1998', '5_Genus_Caloneis_Cleve', '5_Genus_Coenocystis_Korshikov_1953', '5_Genus_Planktolyngbya_Anagnostidis_et_Komarek_1988', '5_Genus_Tabellaria_Ehrenberg', '5_Genus_Thalassiosira_Cleve', '5_Genus_Woronichinia_Elenkin_1933', '6_Genus_Anomoeoneis_Pfitzer', '6_Genus_Fragilaria_Lyngbye', '6_Genus_Gloeocystis_Nageli_1849', '6_Genus_Pseudanabaena_Lauterborn_1915', '6_Genus_Skeletonema_Greville', '7_Genus_Caloneis_Cleve', '7_Genus_Hannaea_Patrick', '8_Genus_Diploneis(Ehrenberg)_Cleve', '8_Genus_Pseudostaurosira_Williams_and_Round', '9_Genus_Neidium_Pfitzer', '9_Genus_Punctastriata_Williams_and_Round']\n"
          ]
        }
      ]
    },
    {
      "cell_type": "code",
      "metadata": {
        "id": "o-0DvzEHt8VE"
      },
      "source": [
        "data_generator = ImageDataGenerator(rescale = 1./255)\n",
        "\n",
        "data_dir = \"/content/drive/MyDrive/Colab Notebooks/Final_Project/Cell_Genus\""
      ],
      "execution_count": null,
      "outputs": []
    },
    {
      "cell_type": "code",
      "metadata": {
        "id": "7aTCfEm3t10n"
      },
      "source": [
        "batch_size = 32\n",
        "img_height = 180\n",
        "img_width = 180"
      ],
      "execution_count": null,
      "outputs": []
    },
    {
      "cell_type": "code",
      "metadata": {
        "id": "9Smg-miEt22s",
        "colab": {
          "base_uri": "https://localhost:8080/"
        },
        "outputId": "b2436789-5f1c-4c29-9916-c6ef3991817e"
      },
      "source": [
        "train_ds = tf.keras.preprocessing.image_dataset_from_directory(\n",
        "  data_dir,\n",
        "  color_mode = \"grayscale\",\n",
        "  validation_split=0.2,\n",
        "  subset=\"training\",\n",
        "  seed=123,\n",
        "  image_size=(img_height, img_width),\n",
        "  batch_size=batch_size)"
      ],
      "execution_count": null,
      "outputs": [
        {
          "output_type": "stream",
          "name": "stdout",
          "text": [
            "Found 6226 files belonging to 107 classes.\n",
            "Using 4981 files for training.\n"
          ]
        }
      ]
    },
    {
      "cell_type": "code",
      "metadata": {
        "id": "1nR0WdQGt44x",
        "colab": {
          "base_uri": "https://localhost:8080/"
        },
        "outputId": "2d80104a-e6e9-4c0e-f300-5e26a2898b67"
      },
      "source": [
        "val_ds = tf.keras.preprocessing.image_dataset_from_directory(\n",
        "  data_dir,\n",
        "  color_mode = \"grayscale\",\n",
        "  validation_split=0.2,\n",
        "  subset=\"validation\",\n",
        "  seed=123,\n",
        "  image_size=(img_height, img_width),\n",
        "  batch_size=batch_size)"
      ],
      "execution_count": null,
      "outputs": [
        {
          "output_type": "stream",
          "name": "stdout",
          "text": [
            "Found 6226 files belonging to 107 classes.\n",
            "Using 1245 files for validation.\n"
          ]
        }
      ]
    },
    {
      "cell_type": "code",
      "metadata": {
        "id": "F-cz_CtGug8Y",
        "colab": {
          "base_uri": "https://localhost:8080/"
        },
        "outputId": "0bf847cd-b01c-4e93-f983-50bc096b35cd"
      },
      "source": [
        "class_names = train_ds.class_names\n",
        "print(class_names)"
      ],
      "execution_count": null,
      "outputs": [
        {
          "output_type": "stream",
          "name": "stdout",
          "text": [
            "['10_Genus_Stauroneis_Ehrenberg', '10_Genus_Staurosira_Ehrenberg', '11_Genus_Craspedostauros_E.J_Cox_1999', '11_Genus_Staurosirella_Williams_and_Round', '12_Genus_Caloneis_Cleve_1894', '12_Genus_Synedra_Ehrenberg', '13_Genus_Pinnularia_Ehrenberg_1843', '1_Genus_Acanthoceras_Honigmann', '1_Genus_Achnanthes_Bory', '1_Genus_Actinocyclus_Ehrenberg', '1_Genus_Aphanocapsa_Nageli_1849', '1_Genus_Asterionella_Hassall', '1_Genus_Aulacoseira', '1_Genus_Biremis_Mann_et_Cox_in_Round_Crawford_and_Mann', '1_Genus_Characium_A_Braun_in_Kutzing_1849', '1_Genus_Chroococcus_Nageli', '1_Genus_Closterium_Nitzsch_ex_Ralfs_1848', '1_Genus_Coelastrum_Nageli_1849', '1_Genus_Cylindrocystis_Meneghini_ex_de_Bary_1858', '1_Genus_Dictyosphaerium_Nageli_1849', '1_Genus_Docidium_Brebisson_ex_Ralfs_1848', '1_Genus_Eunotia_Ehrenberg', '1_Genus_Geitlerinema_(Anagnostidis_et_Komarek)_Anagnostidis_1989', '1_Genus_Gonatozygon_de_Bary_1856', '1_Genus_Hydrodictyon_Roth_1797', '1_Genus_Hydrosera_whampoensis', '1_Genus_Jaaginema_Anagnostidis_et_Komarek_1988', '1_Genus_Lyngbya_C_Agardh_ex_Gomont_1892', '1_Genus_Melosira_Agardh', '1_Genus_Micractinium_Fresenius_1858', '1_Genus_Micrasterias_Ralfs_1848', '1_Genus_Microcystis_Kutzing_ex_Lemmermann_1907', '1_Genus_Oscillatoria_Vaucher_ex_Gomont_1982', '1_Genus_Pediastrum_Meyen_1829', '1_Genus_Penium_Brebisson_ex_Ralfs_in_Ralfs_1848', '1_Genus_Phormidium_Kutzing_ex_Gomont_1892', '1_Genus_Planktothrix_Anagnostidis_et_Komarek_1988', '1_Genus_Pleurosira_laevis_(Ehrenberg)', '1_Genus_Rhizosolenia_Ehrenberg', '1_Genus_Schizochlamydella_Korshikov_1953', '1_Genus_Staurodesmus_Teiling_1848', '1_Genus_Trochiscia_Kutzing_1834', '1_Scenedesmus_Hegewald_1978', '2_Acutodesmus_Hegewald_1978', '2_Genus_Achnanthidium_Kutzing', '2_Genus_Actinastrum_Lagerheim_1882', '2_Genus_Actinella_Lewis', '2_Genus_Ankyra_Fott_1957', '2_Genus_Caloneis_Cleve', '2_Genus_Chaetoceros_Ehrenberg', '2_Genus_Coenochloris_Korshikov_1953', '2_Genus_Cyclotella', '2_Genus_Diatoma_Bory', '2_Genus_Dimorphococcus_A_Braun_1855', '2_Genus_Golenkinia_Chodat_1894', '2_Genus_Haplotaenium_Bando_1988', '2_Genus_Leibleinia_(Gomont)_L_Hoffman_1985', '2_Genus_Leptolyngbya_Anagnostidis_et_Komarek_1988', '2_Genus_Merismopedia_Meyen_1839', '2_Genus_Netrium_(Nageli)_Itzigsohn_et_Rothe_in_Rabenhorst_1856', '2_Genus_Orthoseira_Thwaites_1848', '2_Genus_Phormidium_Kutzing_ex_Gomont_1892', '2_Genus_Sorastrum_Kutzing_1845', '2_Genus_Staurastrum_Meyen_ex_Ralfs_1848', '3_Desmodesmus_Chodat_1926', '3_Genus_Acanthosphaera_Lemmerman_1899', '3_Genus_Anorthoneis_Grunow', '3_Genus_Cyclostephanos_Round', '3_Genus_Dichotomococcus_Korshikov_1928', '3_Genus_Heteroleibleinia_(Geitler)_L_Hoffmann_1985', '3_Genus_Limnothrix_Meffert_1988', '3_Genus_Meridion_Agardh', '3_Genus_Paradoxia_Svirenko_1928', '3_Genus_Peronia_Bebisson_and_Arnott_ex_Kitton', '3_Genus_Phormidiochaete_Komarek_in_Anagnostidis_2001', '3_Genus_Pinnularia_Ehrenberg_1', '3_Genus_Pleurotaenium_Nageli_1849', '3_Genus_Radiococcus_Schmidle_1902', '3_Genus_Snowella_Elenkin_1938', '3_Genus_Spirotaenia_Brebisson_in_Ralfs_1848', '4_Genus_Botryococcus_Kutzing_1849', '4_Genus_Cocconeis_Ehrenberg', '4_Genus_Eutetramorus_Walton_1918', '4_Genus_Leptolyngbya_Anagnostidis_et_Komarek_1988', '4_Genus_Opephora_Petit', '4_Genus_Pinnularia_Ehrenberg_2', '4_Genus_Schroederia_Lemmermann_1898', '4_Genus_Stephanodiscus_Ehrenberg', '4_Genus_Synechocystis_Sauvageau_1892', '4_Genus_Tortitaenia_A_J_Brook_1998', '5_Genus_Caloneis_Cleve', '5_Genus_Coenocystis_Korshikov_1953', '5_Genus_Planktolyngbya_Anagnostidis_et_Komarek_1988', '5_Genus_Tabellaria_Ehrenberg', '5_Genus_Thalassiosira_Cleve', '5_Genus_Woronichinia_Elenkin_1933', '6_Genus_Anomoeoneis_Pfitzer', '6_Genus_Fragilaria_Lyngbye', '6_Genus_Gloeocystis_Nageli_1849', '6_Genus_Pseudanabaena_Lauterborn_1915', '6_Genus_Skeletonema_Greville', '7_Genus_Caloneis_Cleve', '7_Genus_Hannaea_Patrick', '8_Genus_Diploneis(Ehrenberg)_Cleve', '8_Genus_Pseudostaurosira_Williams_and_Round', '9_Genus_Neidium_Pfitzer', '9_Genus_Punctastriata_Williams_and_Round']\n"
          ]
        }
      ]
    },
    {
      "cell_type": "code",
      "metadata": {
        "id": "5EQOikPAukic",
        "colab": {
          "base_uri": "https://localhost:8080/"
        },
        "outputId": "cdb3dce0-d6d6-4707-ed8d-495248766144"
      },
      "source": [
        "for image_batch, labels_batch in train_ds:\n",
        "  print(image_batch.shape)\n",
        "  print(labels_batch.shape)\n",
        "  break"
      ],
      "execution_count": null,
      "outputs": [
        {
          "output_type": "stream",
          "name": "stdout",
          "text": [
            "(32, 180, 180, 1)\n",
            "(32,)\n"
          ]
        }
      ]
    },
    {
      "cell_type": "code",
      "metadata": {
        "id": "9eVl7tiDux9q"
      },
      "source": [
        "from tensorflow.keras import layers\n",
        "\n",
        "normalization_layer = tf.keras.layers.experimental.preprocessing.Rescaling(1./255)"
      ],
      "execution_count": null,
      "outputs": []
    },
    {
      "cell_type": "code",
      "metadata": {
        "id": "AiIrsxzZuzEo",
        "colab": {
          "base_uri": "https://localhost:8080/"
        },
        "outputId": "6ac28d95-7efe-4885-ccd7-6ec3d903297e"
      },
      "source": [
        "normalized_ds = train_ds.map(lambda x, y: (normalization_layer(x), y))\n",
        "image_batch, labels_batch = next(iter(normalized_ds))\n",
        "first_image = image_batch[0]\n",
        "# Notice the pixels values are now in `[0,1]`.\n",
        "print(np.min(first_image), np.max(first_image))"
      ],
      "execution_count": null,
      "outputs": [
        {
          "output_type": "stream",
          "name": "stdout",
          "text": [
            "0.0 1.0\n"
          ]
        }
      ]
    },
    {
      "cell_type": "code",
      "metadata": {
        "id": "__WbVabru0Bp"
      },
      "source": [
        "AUTOTUNE = tf.data.experimental.AUTOTUNE\n",
        "\n",
        "train_ds = train_ds.cache().prefetch(buffer_size=AUTOTUNE)\n",
        "val_ds = val_ds.cache().prefetch(buffer_size=AUTOTUNE)"
      ],
      "execution_count": null,
      "outputs": []
    },
    {
      "cell_type": "code",
      "metadata": {
        "id": "g1GeYFXCu2gV"
      },
      "source": [
        "num_classes = 107\n",
        "model = tf.keras.Sequential([\n",
        "    layers.experimental.preprocessing.Rescaling(1./255),\n",
        "    layers.Conv2D(32, 3,input_shape = image_batch, activation='relu'),\n",
        "    layers.MaxPooling2D(),\n",
        "    layers.Conv2D(32, 3, activation='relu'),\n",
        "    layers.MaxPooling2D(),\n",
        "    layers.Conv2D(32, 3, activation='relu'),\n",
        "    layers.MaxPooling2D(),\n",
        "    layers.Flatten(),\n",
        "    BatchNormalization(),\n",
        "    layers.Dense(128, input_dim = 107, activation='relu'),\n",
        "    BatchNormalization(),\n",
        "    layers.Dense(128, activation='relu'),\n",
        "    BatchNormalization(),\n",
        "    layers.Dense(128, activation='relu'),\n",
        "    BatchNormalization(),\n",
        "    layers.Dense(128, activation='relu'),\n",
        "    BatchNormalization(),\n",
        "    layers.Dense(128, activation='relu'),\n",
        "    BatchNormalization(),\n",
        "    layers.Dense(128, activation='relu'),\n",
        "    BatchNormalization(),\n",
        "    layers.Dense(107, activation='softmax'),\n",
        "    BatchNormalization(),\n",
        "    layers.Dense(num_classes)\n",
        "    ])"
      ],
      "execution_count": null,
      "outputs": []
    },
    {
      "cell_type": "code",
      "metadata": {
        "id": "wU4xPAvNYWry"
      },
      "source": [
        "model.compile(\n",
        "    optimizer='adam',\n",
        "    loss=tf.losses.SparseCategoricalCrossentropy(from_logits=True),\n",
        "    metrics=['accuracy'])"
      ],
      "execution_count": null,
      "outputs": []
    },
    {
      "cell_type": "code",
      "metadata": {
        "id": "Tk8ssrbHu44p",
        "colab": {
          "base_uri": "https://localhost:8080/"
        },
        "outputId": "aaa62c95-e83b-4a71-8b24-4052935d4980"
      },
      "source": [
        "epochs=50\n",
        "history = model.fit(\n",
        "  train_ds,\n",
        "  validation_data=val_ds,\n",
        "  epochs=epochs\n",
        ")"
      ],
      "execution_count": null,
      "outputs": [
        {
          "output_type": "stream",
          "name": "stdout",
          "text": [
            "Epoch 1/50\n",
            "156/156 [==============================] - 756s 5s/step - loss: 3.6008 - accuracy: 0.2475 - val_loss: 4.2681 - val_accuracy: 0.1365\n",
            "Epoch 2/50\n",
            "156/156 [==============================] - 3s 21ms/step - loss: 2.5225 - accuracy: 0.3652 - val_loss: 3.8461 - val_accuracy: 0.2120\n",
            "Epoch 3/50\n",
            "156/156 [==============================] - 3s 21ms/step - loss: 2.0838 - accuracy: 0.4449 - val_loss: 3.1454 - val_accuracy: 0.2867\n",
            "Epoch 4/50\n",
            "156/156 [==============================] - 3s 20ms/step - loss: 1.7671 - accuracy: 0.5142 - val_loss: 2.5274 - val_accuracy: 0.3703\n",
            "Epoch 5/50\n",
            "156/156 [==============================] - 3s 19ms/step - loss: 1.4735 - accuracy: 0.6007 - val_loss: 2.7324 - val_accuracy: 0.3486\n",
            "Epoch 6/50\n",
            "156/156 [==============================] - 3s 19ms/step - loss: 1.2391 - accuracy: 0.6601 - val_loss: 2.2631 - val_accuracy: 0.4522\n",
            "Epoch 7/50\n",
            "156/156 [==============================] - 3s 19ms/step - loss: 1.0078 - accuracy: 0.7223 - val_loss: 2.6158 - val_accuracy: 0.4217\n",
            "Epoch 8/50\n",
            "156/156 [==============================] - 3s 19ms/step - loss: 0.8463 - accuracy: 0.7735 - val_loss: 2.3294 - val_accuracy: 0.4659\n",
            "Epoch 9/50\n",
            "156/156 [==============================] - 3s 21ms/step - loss: 0.6938 - accuracy: 0.8145 - val_loss: 2.4120 - val_accuracy: 0.4707\n",
            "Epoch 10/50\n",
            "156/156 [==============================] - 3s 20ms/step - loss: 0.5584 - accuracy: 0.8490 - val_loss: 2.7224 - val_accuracy: 0.4466\n",
            "Epoch 11/50\n",
            "156/156 [==============================] - 3s 21ms/step - loss: 0.4446 - accuracy: 0.8834 - val_loss: 2.5926 - val_accuracy: 0.4795\n",
            "Epoch 12/50\n",
            "156/156 [==============================] - 3s 21ms/step - loss: 0.3556 - accuracy: 0.9062 - val_loss: 2.6031 - val_accuracy: 0.4747\n",
            "Epoch 13/50\n",
            "156/156 [==============================] - 3s 20ms/step - loss: 0.2895 - accuracy: 0.9285 - val_loss: 2.7042 - val_accuracy: 0.4787\n",
            "Epoch 14/50\n",
            "156/156 [==============================] - 3s 20ms/step - loss: 0.2344 - accuracy: 0.9388 - val_loss: 2.6851 - val_accuracy: 0.4964\n",
            "Epoch 15/50\n",
            "156/156 [==============================] - 3s 20ms/step - loss: 0.2012 - accuracy: 0.9474 - val_loss: 2.8830 - val_accuracy: 0.4707\n",
            "Epoch 16/50\n",
            "156/156 [==============================] - 3s 21ms/step - loss: 0.1797 - accuracy: 0.9572 - val_loss: 2.9746 - val_accuracy: 0.4787\n",
            "Epoch 17/50\n",
            "156/156 [==============================] - 3s 21ms/step - loss: 0.1476 - accuracy: 0.9641 - val_loss: 2.8764 - val_accuracy: 0.5084\n",
            "Epoch 18/50\n",
            "156/156 [==============================] - 3s 19ms/step - loss: 0.1717 - accuracy: 0.9590 - val_loss: 3.2200 - val_accuracy: 0.4482\n",
            "Epoch 19/50\n",
            "156/156 [==============================] - 3s 19ms/step - loss: 0.1778 - accuracy: 0.9528 - val_loss: 3.0644 - val_accuracy: 0.4731\n",
            "Epoch 20/50\n",
            "156/156 [==============================] - 3s 20ms/step - loss: 0.2064 - accuracy: 0.9436 - val_loss: 3.3226 - val_accuracy: 0.4610\n",
            "Epoch 21/50\n",
            "156/156 [==============================] - 3s 20ms/step - loss: 0.1674 - accuracy: 0.9540 - val_loss: 3.2526 - val_accuracy: 0.4723\n",
            "Epoch 22/50\n",
            "156/156 [==============================] - 3s 20ms/step - loss: 0.1087 - accuracy: 0.9707 - val_loss: 3.2769 - val_accuracy: 0.4859\n",
            "Epoch 23/50\n",
            "156/156 [==============================] - 3s 21ms/step - loss: 0.0662 - accuracy: 0.9851 - val_loss: 3.1245 - val_accuracy: 0.4835\n",
            "Epoch 24/50\n",
            "156/156 [==============================] - 3s 20ms/step - loss: 0.0429 - accuracy: 0.9918 - val_loss: 3.0058 - val_accuracy: 0.5165\n",
            "Epoch 25/50\n",
            "156/156 [==============================] - 3s 20ms/step - loss: 0.0297 - accuracy: 0.9956 - val_loss: 3.0170 - val_accuracy: 0.5133\n",
            "Epoch 26/50\n",
            "156/156 [==============================] - 3s 20ms/step - loss: 0.0226 - accuracy: 0.9958 - val_loss: 3.2159 - val_accuracy: 0.5076\n",
            "Epoch 27/50\n",
            "156/156 [==============================] - 3s 19ms/step - loss: 0.0462 - accuracy: 0.9892 - val_loss: 3.7185 - val_accuracy: 0.4466\n",
            "Epoch 28/50\n",
            "156/156 [==============================] - 3s 20ms/step - loss: 0.0533 - accuracy: 0.9880 - val_loss: 3.4179 - val_accuracy: 0.4940\n",
            "Epoch 29/50\n",
            "156/156 [==============================] - 3s 20ms/step - loss: 0.0524 - accuracy: 0.9880 - val_loss: 3.3033 - val_accuracy: 0.5076\n",
            "Epoch 30/50\n",
            "156/156 [==============================] - 3s 19ms/step - loss: 0.1094 - accuracy: 0.9735 - val_loss: 3.4544 - val_accuracy: 0.4867\n",
            "Epoch 31/50\n",
            "156/156 [==============================] - 3s 20ms/step - loss: 0.2975 - accuracy: 0.9141 - val_loss: 4.1817 - val_accuracy: 0.4185\n",
            "Epoch 32/50\n",
            "156/156 [==============================] - 3s 21ms/step - loss: 0.2903 - accuracy: 0.9159 - val_loss: 3.8225 - val_accuracy: 0.4466\n",
            "Epoch 33/50\n",
            "156/156 [==============================] - 3s 20ms/step - loss: 0.1204 - accuracy: 0.9653 - val_loss: 3.3630 - val_accuracy: 0.4916\n",
            "Epoch 34/50\n",
            "156/156 [==============================] - 3s 21ms/step - loss: 0.0523 - accuracy: 0.9861 - val_loss: 3.2877 - val_accuracy: 0.5173\n",
            "Epoch 35/50\n",
            "156/156 [==============================] - 3s 20ms/step - loss: 0.0260 - accuracy: 0.9960 - val_loss: 3.2183 - val_accuracy: 0.5133\n",
            "Epoch 36/50\n",
            "156/156 [==============================] - 3s 20ms/step - loss: 0.0146 - accuracy: 0.9982 - val_loss: 3.2423 - val_accuracy: 0.5189\n",
            "Epoch 37/50\n",
            "156/156 [==============================] - 3s 19ms/step - loss: 0.0092 - accuracy: 0.9992 - val_loss: 3.2548 - val_accuracy: 0.5197\n",
            "Epoch 38/50\n",
            "156/156 [==============================] - 3s 20ms/step - loss: 0.0042 - accuracy: 1.0000 - val_loss: 3.2508 - val_accuracy: 0.5229\n",
            "Epoch 39/50\n",
            "156/156 [==============================] - 3s 20ms/step - loss: 0.0031 - accuracy: 1.0000 - val_loss: 3.2697 - val_accuracy: 0.5205\n",
            "Epoch 40/50\n",
            "156/156 [==============================] - 3s 19ms/step - loss: 0.0026 - accuracy: 1.0000 - val_loss: 3.2920 - val_accuracy: 0.5229\n",
            "Epoch 41/50\n",
            "156/156 [==============================] - 3s 21ms/step - loss: 0.0022 - accuracy: 1.0000 - val_loss: 3.3137 - val_accuracy: 0.5229\n",
            "Epoch 42/50\n",
            "156/156 [==============================] - 3s 19ms/step - loss: 0.0020 - accuracy: 1.0000 - val_loss: 3.3346 - val_accuracy: 0.5213\n",
            "Epoch 43/50\n",
            "156/156 [==============================] - 3s 21ms/step - loss: 0.0018 - accuracy: 1.0000 - val_loss: 3.3556 - val_accuracy: 0.5213\n",
            "Epoch 44/50\n",
            "156/156 [==============================] - 3s 19ms/step - loss: 0.0016 - accuracy: 1.0000 - val_loss: 3.3762 - val_accuracy: 0.5213\n",
            "Epoch 45/50\n",
            "156/156 [==============================] - 3s 19ms/step - loss: 0.0014 - accuracy: 1.0000 - val_loss: 3.3974 - val_accuracy: 0.5205\n",
            "Epoch 46/50\n",
            "156/156 [==============================] - 3s 20ms/step - loss: 0.0013 - accuracy: 1.0000 - val_loss: 3.4178 - val_accuracy: 0.5221\n",
            "Epoch 47/50\n",
            "156/156 [==============================] - 3s 21ms/step - loss: 0.0012 - accuracy: 1.0000 - val_loss: 3.4383 - val_accuracy: 0.5213\n",
            "Epoch 48/50\n",
            "156/156 [==============================] - 3s 20ms/step - loss: 0.0011 - accuracy: 1.0000 - val_loss: 3.4589 - val_accuracy: 0.5213\n",
            "Epoch 49/50\n",
            "156/156 [==============================] - 3s 20ms/step - loss: 9.8495e-04 - accuracy: 1.0000 - val_loss: 3.4792 - val_accuracy: 0.5221\n",
            "Epoch 50/50\n",
            "156/156 [==============================] - 3s 21ms/step - loss: 9.0197e-04 - accuracy: 1.0000 - val_loss: 3.4997 - val_accuracy: 0.5213\n"
          ]
        }
      ]
    },
    {
      "cell_type": "code",
      "metadata": {
        "id": "f1z_vHocu59c",
        "colab": {
          "base_uri": "https://localhost:8080/",
          "height": 499
        },
        "outputId": "843afa6f-c47c-4456-836b-c5f1005f4e1f"
      },
      "source": [
        "acc = history.history['accuracy']\n",
        "val_acc = history.history['val_accuracy']\n",
        "\n",
        "loss=history.history['loss']\n",
        "val_loss=history.history['val_loss']\n",
        "\n",
        "epochs_range = range(epochs)\n",
        "\n",
        "plt.figure(figsize=(8, 8))\n",
        "plt.subplot(1, 2, 1)\n",
        "plt.plot(epochs_range, acc, label='Training Accuracy')\n",
        "plt.plot(epochs_range, val_acc, label='Validation Accuracy')\n",
        "plt.legend(loc='lower right')\n",
        "plt.title('Training and Validation Accuracy')\n",
        "\n",
        "plt.subplot(1, 2, 2)\n",
        "plt.plot(epochs_range, loss, label='Training Loss')\n",
        "plt.plot(epochs_range, val_loss, label='Validation Loss')\n",
        "plt.legend(loc='upper right')\n",
        "plt.title('Training and Validation Loss')\n",
        "plt.show()"
      ],
      "execution_count": null,
      "outputs": [
        {
          "output_type": "display_data",
          "data": {
            "image/png": "[encoded data removed]",
            "text/plain": [
              "<Figure size 576x576 with 2 Axes>"
            ]
          },
          "metadata": {
            "needs_background": "light"
          }
        }
      ]
    },
    {
      "cell_type": "code",
      "metadata": {
        "id": "XinJ6xXD9YNO"
      },
      "source": [
        "data_augmentation = keras.Sequential(\n",
        "  [\n",
        "    layers.experimental.preprocessing.RandomFlip(\"horizontal\", \n",
        "                                                 input_shape=(img_height, \n",
        "                                                              img_width,\n",
        "                                                              1)),\n",
        "    layers.experimental.preprocessing.RandomRotation(0.1),\n",
        "    layers.experimental.preprocessing.RandomZoom(0.1),\n",
        "  ]\n",
        ")"
      ],
      "execution_count": null,
      "outputs": []
    },
    {
      "cell_type": "code",
      "metadata": {
        "id": "8WT2BYElEYZj"
      },
      "source": [
        "model = Sequential([\n",
        "  data_augmentation,\n",
        "  layers.experimental.preprocessing.Rescaling(1./255),\n",
        "  layers.Conv2D(32, 3,input_shape = image_batch, activation='relu'),\n",
        "  layers.MaxPooling2D(),\n",
        "  layers.Conv2D(32, 3, padding='same', activation='relu'),\n",
        "  layers.MaxPooling2D(),\n",
        "  layers.Conv2D(32, 3, padding='same', activation='relu'),\n",
        "  layers.MaxPooling2D(),\n",
        "  layers.Dropout(0.2),\n",
        "  layers.Flatten(),\n",
        "  layers.Dense(128, input_dim = 107, activation='relu'),\n",
        "  BatchNormalization(),\n",
        "  layers.Dense(128, activation='relu'),\n",
        "  BatchNormalization(),\n",
        "  layers.Dense(128, activation='relu'),\n",
        "  BatchNormalization(),\n",
        "  layers.Dense(128, activation='relu'),\n",
        "  BatchNormalization(),\n",
        "  layers.Dense(128, activation='relu'),\n",
        "  BatchNormalization(),\n",
        "  layers.Dense(128, activation='relu'),\n",
        "  BatchNormalization(),\n",
        "  layers.Dense(107, activation='softmax'),\n",
        "  BatchNormalization(),\n",
        "  layers.Dense(num_classes)\n",
        "])"
      ],
      "execution_count": null,
      "outputs": []
    },
    {
      "cell_type": "code",
      "metadata": {
        "id": "opOHP3auEdsw",
        "colab": {
          "base_uri": "https://localhost:8080/"
        },
        "outputId": "2604281e-e9c2-44ba-f6a2-b3b36f20b78f"
      },
      "source": [
        "BatchNormalization(),model.compile(\n",
        "    optimizer='adam',\n",
        "    loss=tf.losses.SparseCategoricalCrossentropy(from_logits=True),\n",
        "    metrics=['accuracy'])"
      ],
      "execution_count": null,
      "outputs": [
        {
          "output_type": "execute_result",
          "data": {
            "text/plain": [
              "(<keras.layers.normalization.batch_normalization.BatchNormalization at 0x7fe890665450>,\n",
              " None)"
            ]
          },
          "metadata": {},
          "execution_count": 19
        }
      ]
    },
    {
      "cell_type": "code",
      "metadata": {
        "id": "3Ay4tlHlEfBX",
        "colab": {
          "base_uri": "https://localhost:8080/"
        },
        "outputId": "0e1c9f8e-69fe-4448-cd36-001a80d54616"
      },
      "source": [
        "model.summary()"
      ],
      "execution_count": null,
      "outputs": [
        {
          "output_type": "stream",
          "name": "stdout",
          "text": [
            "Model: \"sequential_2\"\n",
            "_________________________________________________________________\n",
            " Layer (type)                Output Shape              Param #   \n",
            "=================================================================\n",
            " sequential_1 (Sequential)   (None, 180, 180, 1)       0         \n",
            "                                                                 \n",
            " rescaling_2 (Rescaling)     (None, 180, 180, 1)       0         \n",
            "                                                                 \n",
            " conv2d_3 (Conv2D)           (None, 178, 178, 32)      320       \n",
            "                                                                 \n",
            " max_pooling2d_3 (MaxPooling  (None, 89, 89, 32)       0         \n",
            " 2D)                                                             \n",
            "                                                                 \n",
            " conv2d_4 (Conv2D)           (None, 89, 89, 32)        9248      \n",
            "                                                                 \n",
            " max_pooling2d_4 (MaxPooling  (None, 44, 44, 32)       0         \n",
            " 2D)                                                             \n",
            "                                                                 \n",
            " conv2d_5 (Conv2D)           (None, 44, 44, 32)        9248      \n",
            "                                                                 \n",
            " max_pooling2d_5 (MaxPooling  (None, 22, 22, 32)       0         \n",
            " 2D)                                                             \n",
            "                                                                 \n",
            " dropout (Dropout)           (None, 22, 22, 32)        0         \n",
            "                                                                 \n",
            " flatten_1 (Flatten)         (None, 15488)             0         \n",
            "                                                                 \n",
            " dense_8 (Dense)             (None, 128)               1982592   \n",
            "                                                                 \n",
            " batch_normalization_8 (Batc  (None, 128)              512       \n",
            " hNormalization)                                                 \n",
            "                                                                 \n",
            " dense_9 (Dense)             (None, 128)               16512     \n",
            "                                                                 \n",
            " batch_normalization_9 (Batc  (None, 128)              512       \n",
            " hNormalization)                                                 \n",
            "                                                                 \n",
            " dense_10 (Dense)            (None, 128)               16512     \n",
            "                                                                 \n",
            " batch_normalization_10 (Bat  (None, 128)              512       \n",
            " chNormalization)                                                \n",
            "                                                                 \n",
            " dense_11 (Dense)            (None, 128)               16512     \n",
            "                                                                 \n",
            " batch_normalization_11 (Bat  (None, 128)              512       \n",
            " chNormalization)                                                \n",
            "                                                                 \n",
            " dense_12 (Dense)            (None, 128)               16512     \n",
            "                                                                 \n",
            " batch_normalization_12 (Bat  (None, 128)              512       \n",
            " chNormalization)                                                \n",
            "                                                                 \n",
            " dense_13 (Dense)            (None, 128)               16512     \n",
            "                                                                 \n",
            " batch_normalization_13 (Bat  (None, 128)              512       \n",
            " chNormalization)                                                \n",
            "                                                                 \n",
            " dense_14 (Dense)            (None, 107)               13803     \n",
            "                                                                 \n",
            " batch_normalization_14 (Bat  (None, 107)              428       \n",
            " chNormalization)                                                \n",
            "                                                                 \n",
            " dense_15 (Dense)            (None, 107)               11556     \n",
            "                                                                 \n",
            "=================================================================\n",
            "Total params: 2,112,827\n",
            "Trainable params: 2,111,077\n",
            "Non-trainable params: 1,750\n",
            "_________________________________________________________________\n"
          ]
        }
      ]
    },
    {
      "cell_type": "code",
      "metadata": {
        "id": "Jc8rD_v9Ef41",
        "colab": {
          "base_uri": "https://localhost:8080/"
        },
        "outputId": "c0ddae16-23a8-4c48-b464-8f6e52331ffc"
      },
      "source": [
        "epochs = 50\n",
        "history = model.fit(\n",
        "  train_ds,\n",
        "  validation_data=val_ds,\n",
        "  epochs=epochs\n",
        ")"
      ],
      "execution_count": null,
      "outputs": [
        {
          "output_type": "stream",
          "name": "stdout",
          "text": [
            "Epoch 1/50\n",
            "156/156 [==============================] - 7s 24ms/step - loss: 3.8131 - accuracy: 0.1857 - val_loss: 4.1619 - val_accuracy: 0.1582\n",
            "Epoch 2/50\n",
            "156/156 [==============================] - 3s 21ms/step - loss: 2.8548 - accuracy: 0.2762 - val_loss: 3.6079 - val_accuracy: 0.2570\n",
            "Epoch 3/50\n",
            "156/156 [==============================] - 3s 21ms/step - loss: 2.5611 - accuracy: 0.3242 - val_loss: 3.4787 - val_accuracy: 0.1791\n",
            "Epoch 4/50\n",
            "156/156 [==============================] - 3s 21ms/step - loss: 2.3802 - accuracy: 0.3582 - val_loss: 3.3602 - val_accuracy: 0.2426\n",
            "Epoch 5/50\n",
            "156/156 [==============================] - 3s 20ms/step - loss: 2.2235 - accuracy: 0.3861 - val_loss: 2.6334 - val_accuracy: 0.3020\n",
            "Epoch 6/50\n",
            "156/156 [==============================] - 3s 22ms/step - loss: 2.1068 - accuracy: 0.4082 - val_loss: 2.7302 - val_accuracy: 0.3357\n",
            "Epoch 7/50\n",
            "156/156 [==============================] - 3s 21ms/step - loss: 1.9780 - accuracy: 0.4284 - val_loss: 2.7591 - val_accuracy: 0.3365\n",
            "Epoch 8/50\n",
            "156/156 [==============================] - 3s 21ms/step - loss: 1.8655 - accuracy: 0.4575 - val_loss: 2.6673 - val_accuracy: 0.3277\n",
            "Epoch 9/50\n",
            "156/156 [==============================] - 3s 21ms/step - loss: 1.8284 - accuracy: 0.4656 - val_loss: 2.4168 - val_accuracy: 0.3815\n",
            "Epoch 10/50\n",
            "156/156 [==============================] - 3s 21ms/step - loss: 1.7610 - accuracy: 0.4820 - val_loss: 2.5999 - val_accuracy: 0.3542\n",
            "Epoch 11/50\n",
            "156/156 [==============================] - 3s 21ms/step - loss: 1.6876 - accuracy: 0.5007 - val_loss: 2.5185 - val_accuracy: 0.3687\n",
            "Epoch 12/50\n",
            "156/156 [==============================] - 3s 22ms/step - loss: 1.6074 - accuracy: 0.5176 - val_loss: 2.5828 - val_accuracy: 0.3711\n",
            "Epoch 13/50\n",
            "156/156 [==============================] - 3s 21ms/step - loss: 1.5545 - accuracy: 0.5346 - val_loss: 2.4062 - val_accuracy: 0.3976\n",
            "Epoch 14/50\n",
            "156/156 [==============================] - 3s 21ms/step - loss: 1.5106 - accuracy: 0.5304 - val_loss: 2.4989 - val_accuracy: 0.3952\n",
            "Epoch 15/50\n",
            "156/156 [==============================] - 3s 22ms/step - loss: 1.4637 - accuracy: 0.5439 - val_loss: 2.4208 - val_accuracy: 0.3992\n",
            "Epoch 16/50\n",
            "156/156 [==============================] - 3s 21ms/step - loss: 1.4064 - accuracy: 0.5599 - val_loss: 2.7562 - val_accuracy: 0.3438\n",
            "Epoch 17/50\n",
            "156/156 [==============================] - 4s 23ms/step - loss: 1.3409 - accuracy: 0.5808 - val_loss: 2.8826 - val_accuracy: 0.3430\n",
            "Epoch 18/50\n",
            "156/156 [==============================] - 4s 22ms/step - loss: 1.2960 - accuracy: 0.5850 - val_loss: 2.2945 - val_accuracy: 0.4321\n",
            "Epoch 19/50\n",
            "156/156 [==============================] - 3s 21ms/step - loss: 1.2655 - accuracy: 0.6011 - val_loss: 2.8738 - val_accuracy: 0.3711\n",
            "Epoch 20/50\n",
            "156/156 [==============================] - 3s 22ms/step - loss: 1.2261 - accuracy: 0.6057 - val_loss: 2.3740 - val_accuracy: 0.3839\n",
            "Epoch 21/50\n",
            "156/156 [==============================] - 3s 21ms/step - loss: 1.1891 - accuracy: 0.6248 - val_loss: 2.7083 - val_accuracy: 0.3823\n",
            "Epoch 22/50\n",
            "156/156 [==============================] - 3s 20ms/step - loss: 1.1285 - accuracy: 0.6396 - val_loss: 2.5628 - val_accuracy: 0.4080\n",
            "Epoch 23/50\n",
            "156/156 [==============================] - 3s 20ms/step - loss: 1.0860 - accuracy: 0.6503 - val_loss: 2.3374 - val_accuracy: 0.4353\n",
            "Epoch 24/50\n",
            "156/156 [==============================] - 3s 21ms/step - loss: 1.0664 - accuracy: 0.6559 - val_loss: 2.7902 - val_accuracy: 0.3968\n",
            "Epoch 25/50\n",
            "156/156 [==============================] - 3s 20ms/step - loss: 1.0256 - accuracy: 0.6655 - val_loss: 3.0297 - val_accuracy: 0.3494\n",
            "Epoch 26/50\n",
            "156/156 [==============================] - 3s 21ms/step - loss: 0.9762 - accuracy: 0.6854 - val_loss: 3.3024 - val_accuracy: 0.3197\n",
            "Epoch 27/50\n",
            "156/156 [==============================] - 3s 21ms/step - loss: 0.9351 - accuracy: 0.6846 - val_loss: 2.8798 - val_accuracy: 0.4161\n",
            "Epoch 28/50\n",
            "156/156 [==============================] - 4s 23ms/step - loss: 0.9275 - accuracy: 0.6928 - val_loss: 3.0581 - val_accuracy: 0.3454\n",
            "Epoch 29/50\n",
            "156/156 [==============================] - 4s 23ms/step - loss: 0.8582 - accuracy: 0.7139 - val_loss: 2.9850 - val_accuracy: 0.4048\n",
            "Epoch 30/50\n",
            "156/156 [==============================] - 4s 22ms/step - loss: 0.8826 - accuracy: 0.6997 - val_loss: 3.1985 - val_accuracy: 0.3663\n",
            "Epoch 31/50\n",
            "156/156 [==============================] - 3s 21ms/step - loss: 0.8451 - accuracy: 0.7155 - val_loss: 3.0013 - val_accuracy: 0.3735\n",
            "Epoch 32/50\n",
            "156/156 [==============================] - 3s 20ms/step - loss: 0.8184 - accuracy: 0.7258 - val_loss: 2.8185 - val_accuracy: 0.4024\n",
            "Epoch 33/50\n",
            "156/156 [==============================] - 3s 21ms/step - loss: 0.8053 - accuracy: 0.7298 - val_loss: 2.6796 - val_accuracy: 0.4249\n",
            "Epoch 34/50\n",
            "156/156 [==============================] - 3s 21ms/step - loss: 0.7478 - accuracy: 0.7509 - val_loss: 2.6391 - val_accuracy: 0.4586\n",
            "Epoch 35/50\n",
            "156/156 [==============================] - 3s 21ms/step - loss: 0.7051 - accuracy: 0.7589 - val_loss: 2.8898 - val_accuracy: 0.4241\n",
            "Epoch 36/50\n",
            "156/156 [==============================] - 3s 22ms/step - loss: 0.7080 - accuracy: 0.7607 - val_loss: 3.2111 - val_accuracy: 0.4153\n",
            "Epoch 37/50\n",
            "156/156 [==============================] - 3s 22ms/step - loss: 0.6876 - accuracy: 0.7699 - val_loss: 3.2118 - val_accuracy: 0.4000\n",
            "Epoch 38/50\n",
            "156/156 [==============================] - 3s 20ms/step - loss: 0.6607 - accuracy: 0.7798 - val_loss: 2.8104 - val_accuracy: 0.4546\n",
            "Epoch 39/50\n",
            "156/156 [==============================] - 3s 21ms/step - loss: 0.6572 - accuracy: 0.7842 - val_loss: 2.8446 - val_accuracy: 0.4466\n",
            "Epoch 40/50\n",
            "156/156 [==============================] - 3s 22ms/step - loss: 0.6094 - accuracy: 0.7970 - val_loss: 3.1997 - val_accuracy: 0.4345\n",
            "Epoch 41/50\n",
            "156/156 [==============================] - 3s 22ms/step - loss: 0.5895 - accuracy: 0.8073 - val_loss: 2.8576 - val_accuracy: 0.4161\n",
            "Epoch 42/50\n",
            "156/156 [==============================] - 3s 21ms/step - loss: 0.5531 - accuracy: 0.8149 - val_loss: 2.9115 - val_accuracy: 0.4442\n",
            "Epoch 43/50\n",
            "156/156 [==============================] - 3s 22ms/step - loss: 0.5637 - accuracy: 0.8145 - val_loss: 2.8929 - val_accuracy: 0.4153\n",
            "Epoch 44/50\n",
            "156/156 [==============================] - 3s 21ms/step - loss: 0.5566 - accuracy: 0.8123 - val_loss: 2.9693 - val_accuracy: 0.4570\n",
            "Epoch 45/50\n",
            "156/156 [==============================] - 3s 20ms/step - loss: 0.5264 - accuracy: 0.8247 - val_loss: 3.3148 - val_accuracy: 0.4153\n",
            "Epoch 46/50\n",
            "156/156 [==============================] - 4s 23ms/step - loss: 0.5278 - accuracy: 0.8203 - val_loss: 2.8870 - val_accuracy: 0.4691\n",
            "Epoch 47/50\n",
            "156/156 [==============================] - 3s 20ms/step - loss: 0.5067 - accuracy: 0.8328 - val_loss: 2.9209 - val_accuracy: 0.4426\n",
            "Epoch 48/50\n",
            "156/156 [==============================] - 3s 22ms/step - loss: 0.5226 - accuracy: 0.8273 - val_loss: 3.0008 - val_accuracy: 0.4474\n",
            "Epoch 49/50\n",
            "156/156 [==============================] - 3s 22ms/step - loss: 0.5228 - accuracy: 0.8239 - val_loss: 4.1839 - val_accuracy: 0.4369\n",
            "Epoch 50/50\n",
            "156/156 [==============================] - 3s 21ms/step - loss: 0.4664 - accuracy: 0.8452 - val_loss: 3.6747 - val_accuracy: 0.3928\n"
          ]
        }
      ]
    },
    {
      "cell_type": "code",
      "metadata": {
        "id": "ynhS2KjVEhj8",
        "colab": {
          "base_uri": "https://localhost:8080/",
          "height": 499
        },
        "outputId": "0293c500-7c78-44a0-cd32-c0b2c2d94118"
      },
      "source": [
        "acc = history.history['accuracy']\n",
        "val_acc = history.history['val_accuracy']\n",
        "\n",
        "loss = history.history['loss']\n",
        "val_loss = history.history['val_loss']\n",
        "\n",
        "epochs_range = range(epochs)\n",
        "\n",
        "plt.figure(figsize=(8, 8))\n",
        "plt.subplot(1, 2, 1)\n",
        "plt.plot(epochs_range, acc, label='Training Accuracy')\n",
        "plt.plot(epochs_range, val_acc, label='Validation Accuracy')\n",
        "plt.legend(loc='lower right')\n",
        "plt.title('Training and Validation Accuracy')\n",
        "\n",
        "plt.subplot(1, 2, 2)\n",
        "plt.plot(epochs_range, loss, label='Training Loss')\n",
        "plt.plot(epochs_range, val_loss, label='Validation Loss')\n",
        "plt.legend(loc='upper right')\n",
        "plt.title('Training and Validation Loss')\n",
        "plt.show()"
      ],
      "execution_count": null,
      "outputs": [
        {
          "output_type": "display_data",
          "data": {
            "image/png": "[encoded data removed]",
            "text/plain": [
              "<Figure size 576x576 with 2 Axes>"
            ]
          },
          "metadata": {
            "needs_background": "light"
          }
        }
      ]
    },
    {
      "cell_type": "code",
      "metadata": {
        "id": "IbEQMrsAH2yZ",
        "colab": {
          "base_uri": "https://localhost:8080/"
        },
        "outputId": "2acceb00-5169-44f9-f3f5-417ba05e7208"
      },
      "source": [
        "model.compile(\n",
        "    optimizer='adam',\n",
        "    loss=tf.losses.SparseCategoricalCrossentropy(from_logits=True),\n",
        "    metrics=['accuracy'])\n",
        "model.summary()"
      ],
      "execution_count": null,
      "outputs": [
        {
          "output_type": "stream",
          "name": "stdout",
          "text": [
            "Model: \"sequential_2\"\n",
            "_________________________________________________________________\n",
            " Layer (type)                Output Shape              Param #   \n",
            "=================================================================\n",
            " sequential_1 (Sequential)   (None, 180, 180, 1)       0         \n",
            "                                                                 \n",
            " rescaling_2 (Rescaling)     (None, 180, 180, 1)       0         \n",
            "                                                                 \n",
            " conv2d_3 (Conv2D)           (None, 178, 178, 32)      320       \n",
            "                                                                 \n",
            " max_pooling2d_3 (MaxPooling  (None, 89, 89, 32)       0         \n",
            " 2D)                                                             \n",
            "                                                                 \n",
            " conv2d_4 (Conv2D)           (None, 89, 89, 32)        9248      \n",
            "                                                                 \n",
            " max_pooling2d_4 (MaxPooling  (None, 44, 44, 32)       0         \n",
            " 2D)                                                             \n",
            "                                                                 \n",
            " conv2d_5 (Conv2D)           (None, 44, 44, 32)        9248      \n",
            "                                                                 \n",
            " max_pooling2d_5 (MaxPooling  (None, 22, 22, 32)       0         \n",
            " 2D)                                                             \n",
            "                                                                 \n",
            " dropout (Dropout)           (None, 22, 22, 32)        0         \n",
            "                                                                 \n",
            " flatten_1 (Flatten)         (None, 15488)             0         \n",
            "                                                                 \n",
            " dense_8 (Dense)             (None, 128)               1982592   \n",
            "                                                                 \n",
            " batch_normalization_8 (Batc  (None, 128)              512       \n",
            " hNormalization)                                                 \n",
            "                                                                 \n",
            " dense_9 (Dense)             (None, 128)               16512     \n",
            "                                                                 \n",
            " batch_normalization_9 (Batc  (None, 128)              512       \n",
            " hNormalization)                                                 \n",
            "                                                                 \n",
            " dense_10 (Dense)            (None, 128)               16512     \n",
            "                                                                 \n",
            " batch_normalization_10 (Bat  (None, 128)              512       \n",
            " chNormalization)                                                \n",
            "                                                                 \n",
            " dense_11 (Dense)            (None, 128)               16512     \n",
            "                                                                 \n",
            " batch_normalization_11 (Bat  (None, 128)              512       \n",
            " chNormalization)                                                \n",
            "                                                                 \n",
            " dense_12 (Dense)            (None, 128)               16512     \n",
            "                                                                 \n",
            " batch_normalization_12 (Bat  (None, 128)              512       \n",
            " chNormalization)                                                \n",
            "                                                                 \n",
            " dense_13 (Dense)            (None, 128)               16512     \n",
            "                                                                 \n",
            " batch_normalization_13 (Bat  (None, 128)              512       \n",
            " chNormalization)                                                \n",
            "                                                                 \n",
            " dense_14 (Dense)            (None, 107)               13803     \n",
            "                                                                 \n",
            " batch_normalization_14 (Bat  (None, 107)              428       \n",
            " chNormalization)                                                \n",
            "                                                                 \n",
            " dense_15 (Dense)            (None, 107)               11556     \n",
            "                                                                 \n",
            "=================================================================\n",
            "Total params: 2,112,827\n",
            "Trainable params: 2,111,077\n",
            "Non-trainable params: 1,750\n",
            "_________________________________________________________________\n"
          ]
        }
      ]
    },
    {
      "cell_type": "code",
      "metadata": {
        "id": "df30HUqFjWre"
      },
      "source": [
        ""
      ],
      "execution_count": null,
      "outputs": []
    }
  ]
}