{
  "nbformat": 4,
  "nbformat_minor": 0,
  "metadata": {
    "colab": {
      "name": "3Class_Genus_BatchNormal_Input_dim_Layer_9.ipynb",
      "provenance": [],
      "collapsed_sections": [],
      "mount_file_id": "1e9EqqQYCDAsoC4pyS-CUL-w-qwCFzHru",
      "authorship_tag": "ABX9TyPTEY0/wjesV/0UeowU9ond",
      "include_colab_link": true
    },
    "kernelspec": {
      "name": "python3",
      "display_name": "Python 3"
    },
    "language_info": {
      "name": "python"
    },
    "accelerator": "GPU"
  },
  "cells": [
    {
      "cell_type": "markdown",
      "metadata": {
        "id": "view-in-github",
        "colab_type": "text"
      },
      "source": [
        "<a href=\"https://colab.research.google.com/github/Tajyu/Master_Degree_Paper/blob/main/Code/Filter_32/Input_dim/3Class_Genus_BatchNormal_Input_dim_Layer_9.ipynb\" target=\"_parent\"><img src=\"https://colab.research.google.com/assets/colab-badge.svg\" alt=\"Open In Colab\"/></a>"
      ]
    },
    {
      "cell_type": "code",
      "metadata": {
        "id": "yWckd06_68Em"
      },
      "source": [
        "import tensorflow as tf\n",
        "from tensorflow.keras import datasets, layers, models\n",
        "from keras.preprocessing.image import ImageDataGenerator\n",
        "import numpy as np\n",
        "import matplotlib.pyplot as plt\n",
        "import cv2 as cv\n",
        "import os\n",
        "import pathlib\n",
        "import PIL\n",
        "from tensorflow import keras\n",
        "from tensorflow.keras import layers\n",
        "from tensorflow.keras.models import Sequential\n",
        "from tensorflow.keras.layers import Dense, Flatten, BatchNormalization, Dropout"
      ],
      "execution_count": null,
      "outputs": []
    },
    {
      "cell_type": "code",
      "metadata": {
        "id": "xav9zirHttk_"
      },
      "source": [
        "image_list = os.listdir('/content/drive/MyDrive/Colab Notebooks/Final_Project/Cell_Genus')"
      ],
      "execution_count": null,
      "outputs": []
    },
    {
      "cell_type": "code",
      "metadata": {
        "colab": {
          "base_uri": "https://localhost:8080/"
        },
        "id": "K-wD0dM5tx_E",
        "outputId": "3eb2cc44-ec8d-4751-a78a-890be8c4441a"
      },
      "source": [
        "print(image_list)"
      ],
      "execution_count": null,
      "outputs": [
        {
          "output_type": "stream",
          "name": "stdout",
          "text": [
            "['10_Genus_Stauroneis_Ehrenberg', '10_Genus_Staurosira_Ehrenberg', '11_Genus_Craspedostauros_E.J_Cox_1999', '11_Genus_Staurosirella_Williams_and_Round', '12_Genus_Caloneis_Cleve_1894', '12_Genus_Synedra_Ehrenberg', '13_Genus_Pinnularia_Ehrenberg_1843', '1_Genus_Acanthoceras_Honigmann', '1_Genus_Achnanthes_Bory', '1_Genus_Actinocyclus_Ehrenberg', '1_Genus_Aphanocapsa_Nageli_1849', '1_Genus_Asterionella_Hassall', '1_Genus_Aulacoseira', '1_Genus_Biremis_Mann_et_Cox_in_Round_Crawford_and_Mann', '1_Genus_Characium_A_Braun_in_Kutzing_1849', '1_Genus_Chroococcus_Nageli', '1_Genus_Closterium_Nitzsch_ex_Ralfs_1848', '1_Genus_Coelastrum_Nageli_1849', '1_Genus_Cylindrocystis_Meneghini_ex_de_Bary_1858', '1_Genus_Dictyosphaerium_Nageli_1849', '1_Genus_Docidium_Brebisson_ex_Ralfs_1848', '1_Genus_Eunotia_Ehrenberg', '1_Genus_Geitlerinema_(Anagnostidis_et_Komarek)_Anagnostidis_1989', '1_Genus_Gonatozygon_de_Bary_1856', '1_Genus_Hydrodictyon_Roth_1797', '1_Genus_Hydrosera_whampoensis', '1_Genus_Jaaginema_Anagnostidis_et_Komarek_1988', '1_Genus_Lyngbya_C_Agardh_ex_Gomont_1892', '1_Genus_Melosira_Agardh', '1_Genus_Micractinium_Fresenius_1858', '1_Genus_Micrasterias_Ralfs_1848', '1_Genus_Microcystis_Kutzing_ex_Lemmermann_1907', '1_Genus_Oscillatoria_Vaucher_ex_Gomont_1982', '1_Genus_Pediastrum_Meyen_1829', '1_Genus_Penium_Brebisson_ex_Ralfs_in_Ralfs_1848', '1_Genus_Phormidium_Kutzing_ex_Gomont_1892', '1_Genus_Planktothrix_Anagnostidis_et_Komarek_1988', '1_Genus_Pleurosira_laevis_(Ehrenberg)', '1_Genus_Rhizosolenia_Ehrenberg', '1_Genus_Schizochlamydella_Korshikov_1953', '1_Genus_Staurodesmus_Teiling_1848', '1_Genus_Trochiscia_Kutzing_1834', '1_Scenedesmus_Hegewald_1978', '2_Acutodesmus_Hegewald_1978', '2_Genus_Achnanthidium_Kutzing', '2_Genus_Actinastrum_Lagerheim_1882', '2_Genus_Actinella_Lewis', '2_Genus_Ankyra_Fott_1957', '2_Genus_Caloneis_Cleve', '2_Genus_Chaetoceros_Ehrenberg', '2_Genus_Coenochloris_Korshikov_1953', '2_Genus_Cyclotella', '2_Genus_Diatoma_Bory', '2_Genus_Dimorphococcus_A_Braun_1855', '2_Genus_Golenkinia_Chodat_1894', '2_Genus_Haplotaenium_Bando_1988', '2_Genus_Leibleinia_(Gomont)_L_Hoffman_1985', '2_Genus_Leptolyngbya_Anagnostidis_et_Komarek_1988', '2_Genus_Merismopedia_Meyen_1839', '2_Genus_Netrium_(Nageli)_Itzigsohn_et_Rothe_in_Rabenhorst_1856', '2_Genus_Orthoseira_Thwaites_1848', '2_Genus_Phormidium_Kutzing_ex_Gomont_1892', '2_Genus_Sorastrum_Kutzing_1845', '2_Genus_Staurastrum_Meyen_ex_Ralfs_1848', '3_Desmodesmus_Chodat_1926', '3_Genus_Acanthosphaera_Lemmerman_1899', '3_Genus_Anorthoneis_Grunow', '3_Genus_Cyclostephanos_Round', '3_Genus_Dichotomococcus_Korshikov_1928', '3_Genus_Heteroleibleinia_(Geitler)_L_Hoffmann_1985', '3_Genus_Limnothrix_Meffert_1988', '3_Genus_Meridion_Agardh', '3_Genus_Paradoxia_Svirenko_1928', '3_Genus_Peronia_Bebisson_and_Arnott_ex_Kitton', '3_Genus_Phormidiochaete_Komarek_in_Anagnostidis_2001', '3_Genus_Pinnularia_Ehrenberg_1', '3_Genus_Pleurotaenium_Nageli_1849', '3_Genus_Radiococcus_Schmidle_1902', '3_Genus_Snowella_Elenkin_1938', '3_Genus_Spirotaenia_Brebisson_in_Ralfs_1848', '4_Genus_Botryococcus_Kutzing_1849', '4_Genus_Cocconeis_Ehrenberg', '4_Genus_Eutetramorus_Walton_1918', '4_Genus_Leptolyngbya_Anagnostidis_et_Komarek_1988', '4_Genus_Opephora_Petit', '4_Genus_Pinnularia_Ehrenberg_2', '4_Genus_Schroederia_Lemmermann_1898', '4_Genus_Stephanodiscus_Ehrenberg', '4_Genus_Synechocystis_Sauvageau_1892', '4_Genus_Tortitaenia_A_J_Brook_1998', '5_Genus_Caloneis_Cleve', '5_Genus_Coenocystis_Korshikov_1953', '5_Genus_Planktolyngbya_Anagnostidis_et_Komarek_1988', '5_Genus_Tabellaria_Ehrenberg', '5_Genus_Thalassiosira_Cleve', '5_Genus_Woronichinia_Elenkin_1933', '6_Genus_Anomoeoneis_Pfitzer', '6_Genus_Fragilaria_Lyngbye', '6_Genus_Gloeocystis_Nageli_1849', '6_Genus_Pseudanabaena_Lauterborn_1915', '6_Genus_Skeletonema_Greville', '7_Genus_Caloneis_Cleve', '7_Genus_Hannaea_Patrick', '8_Genus_Diploneis(Ehrenberg)_Cleve', '8_Genus_Pseudostaurosira_Williams_and_Round', '9_Genus_Neidium_Pfitzer', '9_Genus_Punctastriata_Williams_and_Round']\n"
          ]
        }
      ]
    },
    {
      "cell_type": "code",
      "metadata": {
        "id": "o-0DvzEHt8VE"
      },
      "source": [
        "data_generator = ImageDataGenerator(rescale = 1./255)\n",
        "\n",
        "data_dir = \"/content/drive/MyDrive/Colab Notebooks/Final_Project/Cell_Genus\""
      ],
      "execution_count": null,
      "outputs": []
    },
    {
      "cell_type": "code",
      "metadata": {
        "id": "7aTCfEm3t10n"
      },
      "source": [
        "batch_size = 32\n",
        "img_height = 180\n",
        "img_width = 180"
      ],
      "execution_count": null,
      "outputs": []
    },
    {
      "cell_type": "code",
      "metadata": {
        "id": "9Smg-miEt22s",
        "colab": {
          "base_uri": "https://localhost:8080/"
        },
        "outputId": "feaaa9d8-2d96-4b5c-ec06-66f5abb47111"
      },
      "source": [
        "train_ds = tf.keras.preprocessing.image_dataset_from_directory(\n",
        "  data_dir,\n",
        "  color_mode = \"grayscale\",\n",
        "  validation_split=0.2,\n",
        "  subset=\"training\",\n",
        "  seed=123,\n",
        "  image_size=(img_height, img_width),\n",
        "  batch_size=batch_size)"
      ],
      "execution_count": null,
      "outputs": [
        {
          "output_type": "stream",
          "name": "stdout",
          "text": [
            "Found 6226 files belonging to 107 classes.\n",
            "Using 4981 files for training.\n"
          ]
        }
      ]
    },
    {
      "cell_type": "code",
      "metadata": {
        "id": "1nR0WdQGt44x",
        "colab": {
          "base_uri": "https://localhost:8080/"
        },
        "outputId": "b8467ace-9c15-481b-f47b-08d0f3099fe5"
      },
      "source": [
        "val_ds = tf.keras.preprocessing.image_dataset_from_directory(\n",
        "  data_dir,\n",
        "  color_mode = \"grayscale\",\n",
        "  validation_split=0.2,\n",
        "  subset=\"validation\",\n",
        "  seed=123,\n",
        "  image_size=(img_height, img_width),\n",
        "  batch_size=batch_size)"
      ],
      "execution_count": null,
      "outputs": [
        {
          "output_type": "stream",
          "name": "stdout",
          "text": [
            "Found 6226 files belonging to 107 classes.\n",
            "Using 1245 files for validation.\n"
          ]
        }
      ]
    },
    {
      "cell_type": "code",
      "metadata": {
        "id": "F-cz_CtGug8Y",
        "colab": {
          "base_uri": "https://localhost:8080/"
        },
        "outputId": "092d52a9-0368-47ce-aa57-aef22b9b9946"
      },
      "source": [
        "class_names = train_ds.class_names\n",
        "print(class_names)"
      ],
      "execution_count": null,
      "outputs": [
        {
          "output_type": "stream",
          "name": "stdout",
          "text": [
            "['10_Genus_Stauroneis_Ehrenberg', '10_Genus_Staurosira_Ehrenberg', '11_Genus_Craspedostauros_E.J_Cox_1999', '11_Genus_Staurosirella_Williams_and_Round', '12_Genus_Caloneis_Cleve_1894', '12_Genus_Synedra_Ehrenberg', '13_Genus_Pinnularia_Ehrenberg_1843', '1_Genus_Acanthoceras_Honigmann', '1_Genus_Achnanthes_Bory', '1_Genus_Actinocyclus_Ehrenberg', '1_Genus_Aphanocapsa_Nageli_1849', '1_Genus_Asterionella_Hassall', '1_Genus_Aulacoseira', '1_Genus_Biremis_Mann_et_Cox_in_Round_Crawford_and_Mann', '1_Genus_Characium_A_Braun_in_Kutzing_1849', '1_Genus_Chroococcus_Nageli', '1_Genus_Closterium_Nitzsch_ex_Ralfs_1848', '1_Genus_Coelastrum_Nageli_1849', '1_Genus_Cylindrocystis_Meneghini_ex_de_Bary_1858', '1_Genus_Dictyosphaerium_Nageli_1849', '1_Genus_Docidium_Brebisson_ex_Ralfs_1848', '1_Genus_Eunotia_Ehrenberg', '1_Genus_Geitlerinema_(Anagnostidis_et_Komarek)_Anagnostidis_1989', '1_Genus_Gonatozygon_de_Bary_1856', '1_Genus_Hydrodictyon_Roth_1797', '1_Genus_Hydrosera_whampoensis', '1_Genus_Jaaginema_Anagnostidis_et_Komarek_1988', '1_Genus_Lyngbya_C_Agardh_ex_Gomont_1892', '1_Genus_Melosira_Agardh', '1_Genus_Micractinium_Fresenius_1858', '1_Genus_Micrasterias_Ralfs_1848', '1_Genus_Microcystis_Kutzing_ex_Lemmermann_1907', '1_Genus_Oscillatoria_Vaucher_ex_Gomont_1982', '1_Genus_Pediastrum_Meyen_1829', '1_Genus_Penium_Brebisson_ex_Ralfs_in_Ralfs_1848', '1_Genus_Phormidium_Kutzing_ex_Gomont_1892', '1_Genus_Planktothrix_Anagnostidis_et_Komarek_1988', '1_Genus_Pleurosira_laevis_(Ehrenberg)', '1_Genus_Rhizosolenia_Ehrenberg', '1_Genus_Schizochlamydella_Korshikov_1953', '1_Genus_Staurodesmus_Teiling_1848', '1_Genus_Trochiscia_Kutzing_1834', '1_Scenedesmus_Hegewald_1978', '2_Acutodesmus_Hegewald_1978', '2_Genus_Achnanthidium_Kutzing', '2_Genus_Actinastrum_Lagerheim_1882', '2_Genus_Actinella_Lewis', '2_Genus_Ankyra_Fott_1957', '2_Genus_Caloneis_Cleve', '2_Genus_Chaetoceros_Ehrenberg', '2_Genus_Coenochloris_Korshikov_1953', '2_Genus_Cyclotella', '2_Genus_Diatoma_Bory', '2_Genus_Dimorphococcus_A_Braun_1855', '2_Genus_Golenkinia_Chodat_1894', '2_Genus_Haplotaenium_Bando_1988', '2_Genus_Leibleinia_(Gomont)_L_Hoffman_1985', '2_Genus_Leptolyngbya_Anagnostidis_et_Komarek_1988', '2_Genus_Merismopedia_Meyen_1839', '2_Genus_Netrium_(Nageli)_Itzigsohn_et_Rothe_in_Rabenhorst_1856', '2_Genus_Orthoseira_Thwaites_1848', '2_Genus_Phormidium_Kutzing_ex_Gomont_1892', '2_Genus_Sorastrum_Kutzing_1845', '2_Genus_Staurastrum_Meyen_ex_Ralfs_1848', '3_Desmodesmus_Chodat_1926', '3_Genus_Acanthosphaera_Lemmerman_1899', '3_Genus_Anorthoneis_Grunow', '3_Genus_Cyclostephanos_Round', '3_Genus_Dichotomococcus_Korshikov_1928', '3_Genus_Heteroleibleinia_(Geitler)_L_Hoffmann_1985', '3_Genus_Limnothrix_Meffert_1988', '3_Genus_Meridion_Agardh', '3_Genus_Paradoxia_Svirenko_1928', '3_Genus_Peronia_Bebisson_and_Arnott_ex_Kitton', '3_Genus_Phormidiochaete_Komarek_in_Anagnostidis_2001', '3_Genus_Pinnularia_Ehrenberg_1', '3_Genus_Pleurotaenium_Nageli_1849', '3_Genus_Radiococcus_Schmidle_1902', '3_Genus_Snowella_Elenkin_1938', '3_Genus_Spirotaenia_Brebisson_in_Ralfs_1848', '4_Genus_Botryococcus_Kutzing_1849', '4_Genus_Cocconeis_Ehrenberg', '4_Genus_Eutetramorus_Walton_1918', '4_Genus_Leptolyngbya_Anagnostidis_et_Komarek_1988', '4_Genus_Opephora_Petit', '4_Genus_Pinnularia_Ehrenberg_2', '4_Genus_Schroederia_Lemmermann_1898', '4_Genus_Stephanodiscus_Ehrenberg', '4_Genus_Synechocystis_Sauvageau_1892', '4_Genus_Tortitaenia_A_J_Brook_1998', '5_Genus_Caloneis_Cleve', '5_Genus_Coenocystis_Korshikov_1953', '5_Genus_Planktolyngbya_Anagnostidis_et_Komarek_1988', '5_Genus_Tabellaria_Ehrenberg', '5_Genus_Thalassiosira_Cleve', '5_Genus_Woronichinia_Elenkin_1933', '6_Genus_Anomoeoneis_Pfitzer', '6_Genus_Fragilaria_Lyngbye', '6_Genus_Gloeocystis_Nageli_1849', '6_Genus_Pseudanabaena_Lauterborn_1915', '6_Genus_Skeletonema_Greville', '7_Genus_Caloneis_Cleve', '7_Genus_Hannaea_Patrick', '8_Genus_Diploneis(Ehrenberg)_Cleve', '8_Genus_Pseudostaurosira_Williams_and_Round', '9_Genus_Neidium_Pfitzer', '9_Genus_Punctastriata_Williams_and_Round']\n"
          ]
        }
      ]
    },
    {
      "cell_type": "code",
      "metadata": {
        "id": "5EQOikPAukic",
        "colab": {
          "base_uri": "https://localhost:8080/"
        },
        "outputId": "151bdabe-07a6-4603-a891-273b4e8d65a0"
      },
      "source": [
        "for image_batch, labels_batch in train_ds:\n",
        "  print(image_batch.shape)\n",
        "  print(labels_batch.shape)\n",
        "  break"
      ],
      "execution_count": null,
      "outputs": [
        {
          "output_type": "stream",
          "name": "stdout",
          "text": [
            "(32, 180, 180, 1)\n",
            "(32,)\n"
          ]
        }
      ]
    },
    {
      "cell_type": "code",
      "metadata": {
        "id": "9eVl7tiDux9q"
      },
      "source": [
        "from tensorflow.keras import layers\n",
        "\n",
        "normalization_layer = tf.keras.layers.experimental.preprocessing.Rescaling(1./255)"
      ],
      "execution_count": null,
      "outputs": []
    },
    {
      "cell_type": "code",
      "metadata": {
        "id": "AiIrsxzZuzEo",
        "colab": {
          "base_uri": "https://localhost:8080/"
        },
        "outputId": "0b33cb0e-2c1f-45d5-8aca-471d68cc5098"
      },
      "source": [
        "normalized_ds = train_ds.map(lambda x, y: (normalization_layer(x), y))\n",
        "image_batch, labels_batch = next(iter(normalized_ds))\n",
        "first_image = image_batch[0]\n",
        "# Notice the pixels values are now in `[0,1]`.\n",
        "print(np.min(first_image), np.max(first_image))"
      ],
      "execution_count": null,
      "outputs": [
        {
          "output_type": "stream",
          "name": "stdout",
          "text": [
            "0.0 1.0\n"
          ]
        }
      ]
    },
    {
      "cell_type": "code",
      "metadata": {
        "id": "__WbVabru0Bp"
      },
      "source": [
        "AUTOTUNE = tf.data.experimental.AUTOTUNE\n",
        "\n",
        "train_ds = train_ds.cache().prefetch(buffer_size=AUTOTUNE)\n",
        "val_ds = val_ds.cache().prefetch(buffer_size=AUTOTUNE)"
      ],
      "execution_count": null,
      "outputs": []
    },
    {
      "cell_type": "code",
      "metadata": {
        "id": "g1GeYFXCu2gV"
      },
      "source": [
        "num_classes = 107\n",
        "model = tf.keras.Sequential([\n",
        "    layers.experimental.preprocessing.Rescaling(1./255),\n",
        "    layers.Conv2D(32, 3,input_shape = image_batch, activation='relu'),\n",
        "    layers.MaxPooling2D(),\n",
        "    layers.Conv2D(32, 3, activation='relu'),\n",
        "    layers.MaxPooling2D(),\n",
        "    layers.Conv2D(32, 3, activation='relu'),\n",
        "    layers.MaxPooling2D(),\n",
        "    layers.Flatten(),\n",
        "    BatchNormalization(),\n",
        "    layers.Dense(128, input_dim = 107, activation='relu'),\n",
        "    BatchNormalization(),\n",
        "    layers.Dense(128, activation='relu'),\n",
        "    BatchNormalization(),\n",
        "    layers.Dense(128, activation='relu'),\n",
        "    BatchNormalization(),\n",
        "    layers.Dense(128, activation='relu'),\n",
        "    BatchNormalization(),\n",
        "    layers.Dense(128, activation='relu'),\n",
        "    BatchNormalization(),\n",
        "    layers.Dense(128, activation='relu'),\n",
        "    BatchNormalization(),\n",
        "    layers.Dense(128, activation='relu'),\n",
        "    BatchNormalization(),\n",
        "    layers.Dense(128, activation='relu'),\n",
        "    BatchNormalization(),\n",
        "    layers.Dense(107, activation='softmax'),\n",
        "    BatchNormalization(),\n",
        "    layers.Dense(num_classes)\n",
        "    ])"
      ],
      "execution_count": null,
      "outputs": []
    },
    {
      "cell_type": "code",
      "metadata": {
        "id": "wU4xPAvNYWry"
      },
      "source": [
        "model.compile(\n",
        "    optimizer='adam',\n",
        "    loss=tf.losses.SparseCategoricalCrossentropy(from_logits=True),\n",
        "    metrics=['accuracy'])"
      ],
      "execution_count": null,
      "outputs": []
    },
    {
      "cell_type": "code",
      "metadata": {
        "id": "Tk8ssrbHu44p",
        "colab": {
          "base_uri": "https://localhost:8080/"
        },
        "outputId": "a3f0c621-1f6e-4ae8-ac38-4c74c981b512"
      },
      "source": [
        "epochs=50\n",
        "history = model.fit(\n",
        "  train_ds,\n",
        "  validation_data=val_ds,\n",
        "  epochs=epochs\n",
        ")"
      ],
      "execution_count": null,
      "outputs": [
        {
          "output_type": "stream",
          "name": "stdout",
          "text": [
            "Epoch 1/50\n",
            "156/156 [==============================] - 968s 6s/step - loss: 3.6656 - accuracy: 0.2255 - val_loss: 4.2472 - val_accuracy: 0.1028\n",
            "Epoch 2/50\n",
            "156/156 [==============================] - 3s 18ms/step - loss: 2.6084 - accuracy: 0.3499 - val_loss: 3.7171 - val_accuracy: 0.2498\n",
            "Epoch 3/50\n",
            "156/156 [==============================] - 3s 18ms/step - loss: 2.1779 - accuracy: 0.4242 - val_loss: 3.3022 - val_accuracy: 0.2618\n",
            "Epoch 4/50\n",
            "156/156 [==============================] - 3s 18ms/step - loss: 1.8740 - accuracy: 0.4931 - val_loss: 2.5626 - val_accuracy: 0.3494\n",
            "Epoch 5/50\n",
            "156/156 [==============================] - 3s 18ms/step - loss: 1.6937 - accuracy: 0.5380 - val_loss: 2.2625 - val_accuracy: 0.4329\n",
            "Epoch 6/50\n",
            "156/156 [==============================] - 3s 18ms/step - loss: 1.4600 - accuracy: 0.5985 - val_loss: 2.1824 - val_accuracy: 0.4313\n",
            "Epoch 7/50\n",
            "156/156 [==============================] - 3s 18ms/step - loss: 1.2713 - accuracy: 0.6432 - val_loss: 2.5566 - val_accuracy: 0.4161\n",
            "Epoch 8/50\n",
            "156/156 [==============================] - 3s 18ms/step - loss: 1.1012 - accuracy: 0.6991 - val_loss: 2.5874 - val_accuracy: 0.4177\n",
            "Epoch 9/50\n",
            "156/156 [==============================] - 3s 18ms/step - loss: 0.9694 - accuracy: 0.7366 - val_loss: 2.4464 - val_accuracy: 0.4345\n",
            "Epoch 10/50\n",
            "156/156 [==============================] - 3s 18ms/step - loss: 0.8401 - accuracy: 0.7625 - val_loss: 2.6007 - val_accuracy: 0.4434\n",
            "Epoch 11/50\n",
            "156/156 [==============================] - 3s 19ms/step - loss: 0.6937 - accuracy: 0.8059 - val_loss: 2.5237 - val_accuracy: 0.4538\n",
            "Epoch 12/50\n",
            "156/156 [==============================] - 3s 18ms/step - loss: 0.5946 - accuracy: 0.8352 - val_loss: 2.4972 - val_accuracy: 0.4843\n",
            "Epoch 13/50\n",
            "156/156 [==============================] - 3s 19ms/step - loss: 0.5075 - accuracy: 0.8607 - val_loss: 3.0265 - val_accuracy: 0.4217\n",
            "Epoch 14/50\n",
            "156/156 [==============================] - 3s 18ms/step - loss: 0.4859 - accuracy: 0.8635 - val_loss: 2.8226 - val_accuracy: 0.4594\n",
            "Epoch 15/50\n",
            "156/156 [==============================] - 3s 18ms/step - loss: 0.4378 - accuracy: 0.8785 - val_loss: 3.1610 - val_accuracy: 0.4209\n",
            "Epoch 16/50\n",
            "156/156 [==============================] - 3s 18ms/step - loss: 0.3750 - accuracy: 0.8936 - val_loss: 2.8226 - val_accuracy: 0.4586\n",
            "Epoch 17/50\n",
            "156/156 [==============================] - 3s 18ms/step - loss: 0.3127 - accuracy: 0.9115 - val_loss: 2.8478 - val_accuracy: 0.4602\n",
            "Epoch 18/50\n",
            "156/156 [==============================] - 3s 18ms/step - loss: 0.2639 - accuracy: 0.9329 - val_loss: 3.0363 - val_accuracy: 0.4699\n",
            "Epoch 19/50\n",
            "156/156 [==============================] - 3s 18ms/step - loss: 0.2053 - accuracy: 0.9474 - val_loss: 2.8558 - val_accuracy: 0.4948\n",
            "Epoch 20/50\n",
            "156/156 [==============================] - 3s 19ms/step - loss: 0.1748 - accuracy: 0.9534 - val_loss: 3.1241 - val_accuracy: 0.4819\n",
            "Epoch 21/50\n",
            "156/156 [==============================] - 3s 18ms/step - loss: 0.1572 - accuracy: 0.9602 - val_loss: 2.9300 - val_accuracy: 0.4948\n",
            "Epoch 22/50\n",
            "156/156 [==============================] - 3s 18ms/step - loss: 0.1813 - accuracy: 0.9512 - val_loss: 3.2288 - val_accuracy: 0.4843\n",
            "Epoch 23/50\n",
            "156/156 [==============================] - 3s 18ms/step - loss: 0.2162 - accuracy: 0.9358 - val_loss: 3.8610 - val_accuracy: 0.4273\n",
            "Epoch 24/50\n",
            "156/156 [==============================] - 3s 18ms/step - loss: 0.2637 - accuracy: 0.9249 - val_loss: 3.3741 - val_accuracy: 0.4699\n",
            "Epoch 25/50\n",
            "156/156 [==============================] - 3s 18ms/step - loss: 0.2217 - accuracy: 0.9352 - val_loss: 3.3566 - val_accuracy: 0.4635\n",
            "Epoch 26/50\n",
            "156/156 [==============================] - 3s 18ms/step - loss: 0.1558 - accuracy: 0.9570 - val_loss: 3.2731 - val_accuracy: 0.5012\n",
            "Epoch 27/50\n",
            "156/156 [==============================] - 3s 18ms/step - loss: 0.0934 - accuracy: 0.9779 - val_loss: 3.3744 - val_accuracy: 0.4948\n",
            "Epoch 28/50\n",
            "156/156 [==============================] - 3s 18ms/step - loss: 0.0716 - accuracy: 0.9827 - val_loss: 3.1818 - val_accuracy: 0.5141\n",
            "Epoch 29/50\n",
            "156/156 [==============================] - 3s 18ms/step - loss: 0.0423 - accuracy: 0.9926 - val_loss: 3.2460 - val_accuracy: 0.5100\n",
            "Epoch 30/50\n",
            "156/156 [==============================] - 3s 18ms/step - loss: 0.0193 - accuracy: 0.9988 - val_loss: 3.2108 - val_accuracy: 0.5229\n",
            "Epoch 31/50\n",
            "156/156 [==============================] - 3s 18ms/step - loss: 0.0128 - accuracy: 0.9990 - val_loss: 3.2180 - val_accuracy: 0.5261\n",
            "Epoch 32/50\n",
            "156/156 [==============================] - 3s 19ms/step - loss: 0.0221 - accuracy: 0.9966 - val_loss: 3.3288 - val_accuracy: 0.5213\n",
            "Epoch 33/50\n",
            "156/156 [==============================] - 3s 18ms/step - loss: 0.0350 - accuracy: 0.9920 - val_loss: 3.5130 - val_accuracy: 0.5060\n",
            "Epoch 34/50\n",
            "156/156 [==============================] - 3s 19ms/step - loss: 0.0724 - accuracy: 0.9813 - val_loss: 3.7546 - val_accuracy: 0.4924\n",
            "Epoch 35/50\n",
            "156/156 [==============================] - 3s 18ms/step - loss: 0.3439 - accuracy: 0.9024 - val_loss: 5.2503 - val_accuracy: 0.3253\n",
            "Epoch 36/50\n",
            "156/156 [==============================] - 3s 18ms/step - loss: 0.4858 - accuracy: 0.8649 - val_loss: 3.9247 - val_accuracy: 0.4265\n",
            "Epoch 37/50\n",
            "156/156 [==============================] - 3s 18ms/step - loss: 0.2799 - accuracy: 0.9205 - val_loss: 3.2689 - val_accuracy: 0.4932\n",
            "Epoch 38/50\n",
            "156/156 [==============================] - 3s 18ms/step - loss: 0.1419 - accuracy: 0.9613 - val_loss: 3.3881 - val_accuracy: 0.5044\n",
            "Epoch 39/50\n",
            "156/156 [==============================] - 3s 18ms/step - loss: 0.0558 - accuracy: 0.9890 - val_loss: 3.1669 - val_accuracy: 0.5197\n",
            "Epoch 40/50\n",
            "156/156 [==============================] - 3s 18ms/step - loss: 0.0234 - accuracy: 0.9968 - val_loss: 3.1255 - val_accuracy: 0.5213\n",
            "Epoch 41/50\n",
            "156/156 [==============================] - 3s 18ms/step - loss: 0.0102 - accuracy: 0.9996 - val_loss: 3.1622 - val_accuracy: 0.5325\n",
            "Epoch 42/50\n",
            "156/156 [==============================] - 3s 18ms/step - loss: 0.0059 - accuracy: 1.0000 - val_loss: 3.1876 - val_accuracy: 0.5301\n",
            "Epoch 43/50\n",
            "156/156 [==============================] - 3s 18ms/step - loss: 0.0045 - accuracy: 1.0000 - val_loss: 3.2232 - val_accuracy: 0.5301\n",
            "Epoch 44/50\n",
            "156/156 [==============================] - 3s 18ms/step - loss: 0.0038 - accuracy: 1.0000 - val_loss: 3.2558 - val_accuracy: 0.5317\n",
            "Epoch 45/50\n",
            "156/156 [==============================] - 3s 18ms/step - loss: 0.0033 - accuracy: 1.0000 - val_loss: 3.2852 - val_accuracy: 0.5333\n",
            "Epoch 46/50\n",
            "156/156 [==============================] - 3s 18ms/step - loss: 0.0029 - accuracy: 1.0000 - val_loss: 3.3135 - val_accuracy: 0.5333\n",
            "Epoch 47/50\n",
            "156/156 [==============================] - 3s 18ms/step - loss: 0.0026 - accuracy: 1.0000 - val_loss: 3.3403 - val_accuracy: 0.5341\n",
            "Epoch 48/50\n",
            "156/156 [==============================] - 3s 18ms/step - loss: 0.0023 - accuracy: 1.0000 - val_loss: 3.3669 - val_accuracy: 0.5333\n",
            "Epoch 49/50\n",
            "156/156 [==============================] - 3s 18ms/step - loss: 0.0021 - accuracy: 1.0000 - val_loss: 3.3933 - val_accuracy: 0.5341\n",
            "Epoch 50/50\n",
            "156/156 [==============================] - 3s 18ms/step - loss: 0.0019 - accuracy: 1.0000 - val_loss: 3.4193 - val_accuracy: 0.5341\n"
          ]
        }
      ]
    },
    {
      "cell_type": "code",
      "metadata": {
        "id": "f1z_vHocu59c",
        "colab": {
          "base_uri": "https://localhost:8080/",
          "height": 499
        },
        "outputId": "2451bbe4-b59c-4b83-e2ac-393f66db999d"
      },
      "source": [
        "acc = history.history['accuracy']\n",
        "val_acc = history.history['val_accuracy']\n",
        "\n",
        "loss=history.history['loss']\n",
        "val_loss=history.history['val_loss']\n",
        "\n",
        "epochs_range = range(epochs)\n",
        "\n",
        "plt.figure(figsize=(8, 8))\n",
        "plt.subplot(1, 2, 1)\n",
        "plt.plot(epochs_range, acc, label='Training Accuracy')\n",
        "plt.plot(epochs_range, val_acc, label='Validation Accuracy')\n",
        "plt.legend(loc='lower right')\n",
        "plt.title('Training and Validation Accuracy')\n",
        "\n",
        "plt.subplot(1, 2, 2)\n",
        "plt.plot(epochs_range, loss, label='Training Loss')\n",
        "plt.plot(epochs_range, val_loss, label='Validation Loss')\n",
        "plt.legend(loc='upper right')\n",
        "plt.title('Training and Validation Loss')\n",
        "plt.show()"
      ],
      "execution_count": null,
      "outputs": [
        {
          "output_type": "display_data",
          "data": {
            "image/png": "[encoded data removed]",
            "text/plain": [
              "<Figure size 576x576 with 2 Axes>"
            ]
          },
          "metadata": {
            "needs_background": "light"
          }
        }
      ]
    },
    {
      "cell_type": "code",
      "metadata": {
        "id": "XinJ6xXD9YNO"
      },
      "source": [
        "data_augmentation = keras.Sequential(\n",
        "  [\n",
        "    layers.experimental.preprocessing.RandomFlip(\"horizontal\", \n",
        "                                                 input_shape=(img_height, \n",
        "                                                              img_width,\n",
        "                                                              1)),\n",
        "    layers.experimental.preprocessing.RandomRotation(0.1),\n",
        "    layers.experimental.preprocessing.RandomZoom(0.1),\n",
        "  ]\n",
        ")"
      ],
      "execution_count": null,
      "outputs": []
    },
    {
      "cell_type": "code",
      "metadata": {
        "id": "8WT2BYElEYZj"
      },
      "source": [
        "model = Sequential([\n",
        "  data_augmentation,\n",
        "  layers.experimental.preprocessing.Rescaling(1./255),\n",
        "  layers.Conv2D(32, 3,input_shape = image_batch, activation='relu'),\n",
        "  layers.MaxPooling2D(),\n",
        "  layers.Conv2D(32, 3, padding='same', activation='relu'),\n",
        "  layers.MaxPooling2D(),\n",
        "  layers.Conv2D(32, 3, padding='same', activation='relu'),\n",
        "  layers.MaxPooling2D(),\n",
        "  layers.Dropout(0.2),\n",
        "  layers.Flatten(),\n",
        "  layers.Dense(128, input_dim = 107, activation='relu'),\n",
        "  BatchNormalization(),\n",
        "  layers.Dense(128, activation='relu'),\n",
        "  BatchNormalization(),\n",
        "  layers.Dense(128, activation='relu'),\n",
        "  BatchNormalization(),\n",
        "  layers.Dense(128, activation='relu'),\n",
        "  BatchNormalization(),\n",
        "  layers.Dense(128, activation='relu'),\n",
        "  BatchNormalization(),\n",
        "  layers.Dense(128, activation='relu'),\n",
        "  BatchNormalization(),\n",
        "  layers.Dense(128, activation='relu'),\n",
        "  BatchNormalization(),\n",
        "  layers.Dense(128, activation='relu'),\n",
        "  BatchNormalization(),\n",
        "  layers.Dense(107, activation='softmax'),\n",
        "  BatchNormalization(),\n",
        "  layers.Dense(num_classes)\n",
        "])"
      ],
      "execution_count": null,
      "outputs": []
    },
    {
      "cell_type": "code",
      "metadata": {
        "id": "opOHP3auEdsw",
        "colab": {
          "base_uri": "https://localhost:8080/"
        },
        "outputId": "89095940-b4fc-4ae0-ea4e-d6afde45e5a5"
      },
      "source": [
        "BatchNormalization(),model.compile(\n",
        "    optimizer='adam',\n",
        "    loss=tf.losses.SparseCategoricalCrossentropy(from_logits=True),\n",
        "    metrics=['accuracy'])"
      ],
      "execution_count": null,
      "outputs": [
        {
          "output_type": "execute_result",
          "data": {
            "text/plain": [
              "(<keras.layers.normalization.batch_normalization.BatchNormalization at 0x7f2b579e9150>,\n",
              " None)"
            ]
          },
          "metadata": {},
          "execution_count": 19
        }
      ]
    },
    {
      "cell_type": "code",
      "metadata": {
        "id": "3Ay4tlHlEfBX",
        "colab": {
          "base_uri": "https://localhost:8080/"
        },
        "outputId": "56c2b4e5-6f6d-46eb-ab21-a5b914bee264"
      },
      "source": [
        "model.summary()"
      ],
      "execution_count": null,
      "outputs": [
        {
          "output_type": "stream",
          "name": "stdout",
          "text": [
            "Model: \"sequential_2\"\n",
            "_________________________________________________________________\n",
            " Layer (type)                Output Shape              Param #   \n",
            "=================================================================\n",
            " sequential_1 (Sequential)   (None, 180, 180, 1)       0         \n",
            "                                                                 \n",
            " rescaling_2 (Rescaling)     (None, 180, 180, 1)       0         \n",
            "                                                                 \n",
            " conv2d_3 (Conv2D)           (None, 178, 178, 32)      320       \n",
            "                                                                 \n",
            " max_pooling2d_3 (MaxPooling  (None, 89, 89, 32)       0         \n",
            " 2D)                                                             \n",
            "                                                                 \n",
            " conv2d_4 (Conv2D)           (None, 89, 89, 32)        9248      \n",
            "                                                                 \n",
            " max_pooling2d_4 (MaxPooling  (None, 44, 44, 32)       0         \n",
            " 2D)                                                             \n",
            "                                                                 \n",
            " conv2d_5 (Conv2D)           (None, 44, 44, 32)        9248      \n",
            "                                                                 \n",
            " max_pooling2d_5 (MaxPooling  (None, 22, 22, 32)       0         \n",
            " 2D)                                                             \n",
            "                                                                 \n",
            " dropout (Dropout)           (None, 22, 22, 32)        0         \n",
            "                                                                 \n",
            " flatten_1 (Flatten)         (None, 15488)             0         \n",
            "                                                                 \n",
            " dense_10 (Dense)            (None, 128)               1982592   \n",
            "                                                                 \n",
            " batch_normalization_10 (Bat  (None, 128)              512       \n",
            " chNormalization)                                                \n",
            "                                                                 \n",
            " dense_11 (Dense)            (None, 128)               16512     \n",
            "                                                                 \n",
            " batch_normalization_11 (Bat  (None, 128)              512       \n",
            " chNormalization)                                                \n",
            "                                                                 \n",
            " dense_12 (Dense)            (None, 128)               16512     \n",
            "                                                                 \n",
            " batch_normalization_12 (Bat  (None, 128)              512       \n",
            " chNormalization)                                                \n",
            "                                                                 \n",
            " dense_13 (Dense)            (None, 128)               16512     \n",
            "                                                                 \n",
            " batch_normalization_13 (Bat  (None, 128)              512       \n",
            " chNormalization)                                                \n",
            "                                                                 \n",
            " dense_14 (Dense)            (None, 128)               16512     \n",
            "                                                                 \n",
            " batch_normalization_14 (Bat  (None, 128)              512       \n",
            " chNormalization)                                                \n",
            "                                                                 \n",
            " dense_15 (Dense)            (None, 128)               16512     \n",
            "                                                                 \n",
            " batch_normalization_15 (Bat  (None, 128)              512       \n",
            " chNormalization)                                                \n",
            "                                                                 \n",
            " dense_16 (Dense)            (None, 128)               16512     \n",
            "                                                                 \n",
            " batch_normalization_16 (Bat  (None, 128)              512       \n",
            " chNormalization)                                                \n",
            "                                                                 \n",
            " dense_17 (Dense)            (None, 128)               16512     \n",
            "                                                                 \n",
            " batch_normalization_17 (Bat  (None, 128)              512       \n",
            " chNormalization)                                                \n",
            "                                                                 \n",
            " dense_18 (Dense)            (None, 107)               13803     \n",
            "                                                                 \n",
            " batch_normalization_18 (Bat  (None, 107)              428       \n",
            " chNormalization)                                                \n",
            "                                                                 \n",
            " dense_19 (Dense)            (None, 107)               11556     \n",
            "                                                                 \n",
            "=================================================================\n",
            "Total params: 2,146,875\n",
            "Trainable params: 2,144,613\n",
            "Non-trainable params: 2,262\n",
            "_________________________________________________________________\n"
          ]
        }
      ]
    },
    {
      "cell_type": "code",
      "metadata": {
        "id": "Jc8rD_v9Ef41",
        "colab": {
          "base_uri": "https://localhost:8080/"
        },
        "outputId": "d469f051-6fc0-4bd1-e767-6e09730313ba"
      },
      "source": [
        "epochs = 50\n",
        "history = model.fit(\n",
        "  train_ds,\n",
        "  validation_data=val_ds,\n",
        "  epochs=epochs\n",
        ")"
      ],
      "execution_count": null,
      "outputs": [
        {
          "output_type": "stream",
          "name": "stdout",
          "text": [
            "Epoch 1/50\n",
            "156/156 [==============================] - 6s 22ms/step - loss: 3.9275 - accuracy: 0.1564 - val_loss: 4.1311 - val_accuracy: 0.0980\n",
            "Epoch 2/50\n",
            "156/156 [==============================] - 3s 20ms/step - loss: 2.9666 - accuracy: 0.2622 - val_loss: 3.6798 - val_accuracy: 0.2032\n",
            "Epoch 3/50\n",
            "156/156 [==============================] - 3s 20ms/step - loss: 2.6661 - accuracy: 0.3124 - val_loss: 3.3202 - val_accuracy: 0.2161\n",
            "Epoch 4/50\n",
            "156/156 [==============================] - 3s 21ms/step - loss: 2.4848 - accuracy: 0.3361 - val_loss: 3.7750 - val_accuracy: 0.1831\n",
            "Epoch 5/50\n",
            "156/156 [==============================] - 3s 20ms/step - loss: 2.3766 - accuracy: 0.3521 - val_loss: 3.7863 - val_accuracy: 0.1679\n",
            "Epoch 6/50\n",
            "156/156 [==============================] - 3s 20ms/step - loss: 2.2786 - accuracy: 0.3656 - val_loss: 3.6576 - val_accuracy: 0.2209\n",
            "Epoch 7/50\n",
            "156/156 [==============================] - 3s 20ms/step - loss: 2.1892 - accuracy: 0.3845 - val_loss: 3.0179 - val_accuracy: 0.3245\n",
            "Epoch 8/50\n",
            "156/156 [==============================] - 3s 20ms/step - loss: 2.1065 - accuracy: 0.3961 - val_loss: 3.2696 - val_accuracy: 0.2763\n",
            "Epoch 9/50\n",
            "156/156 [==============================] - 3s 20ms/step - loss: 2.0391 - accuracy: 0.4170 - val_loss: 3.2828 - val_accuracy: 0.2731\n",
            "Epoch 10/50\n",
            "156/156 [==============================] - 3s 20ms/step - loss: 1.9529 - accuracy: 0.4304 - val_loss: 2.4935 - val_accuracy: 0.3711\n",
            "Epoch 11/50\n",
            "156/156 [==============================] - 3s 20ms/step - loss: 1.8790 - accuracy: 0.4427 - val_loss: 2.6593 - val_accuracy: 0.3301\n",
            "Epoch 12/50\n",
            "156/156 [==============================] - 3s 20ms/step - loss: 1.8373 - accuracy: 0.4632 - val_loss: 3.1307 - val_accuracy: 0.2659\n",
            "Epoch 13/50\n",
            "156/156 [==============================] - 3s 20ms/step - loss: 1.7749 - accuracy: 0.4676 - val_loss: 2.5571 - val_accuracy: 0.3719\n",
            "Epoch 14/50\n",
            "156/156 [==============================] - 3s 20ms/step - loss: 1.7429 - accuracy: 0.4766 - val_loss: 2.5860 - val_accuracy: 0.3751\n",
            "Epoch 15/50\n",
            "156/156 [==============================] - 3s 20ms/step - loss: 1.6828 - accuracy: 0.4921 - val_loss: 2.5467 - val_accuracy: 0.3847\n",
            "Epoch 16/50\n",
            "156/156 [==============================] - 3s 20ms/step - loss: 1.6590 - accuracy: 0.4981 - val_loss: 2.7658 - val_accuracy: 0.3486\n",
            "Epoch 17/50\n",
            "156/156 [==============================] - 3s 20ms/step - loss: 1.5867 - accuracy: 0.5234 - val_loss: 2.8570 - val_accuracy: 0.3735\n",
            "Epoch 18/50\n",
            "156/156 [==============================] - 3s 20ms/step - loss: 1.5372 - accuracy: 0.5270 - val_loss: 2.6348 - val_accuracy: 0.3775\n",
            "Epoch 19/50\n",
            "156/156 [==============================] - 3s 20ms/step - loss: 1.4869 - accuracy: 0.5419 - val_loss: 2.4725 - val_accuracy: 0.4048\n",
            "Epoch 20/50\n",
            "156/156 [==============================] - 3s 20ms/step - loss: 1.4456 - accuracy: 0.5451 - val_loss: 2.5755 - val_accuracy: 0.3863\n",
            "Epoch 21/50\n",
            "156/156 [==============================] - 3s 20ms/step - loss: 1.4268 - accuracy: 0.5537 - val_loss: 2.3587 - val_accuracy: 0.3952\n",
            "Epoch 22/50\n",
            "156/156 [==============================] - 3s 20ms/step - loss: 1.3799 - accuracy: 0.5698 - val_loss: 2.1899 - val_accuracy: 0.4369\n",
            "Epoch 23/50\n",
            "156/156 [==============================] - 3s 20ms/step - loss: 1.3438 - accuracy: 0.5706 - val_loss: 2.5048 - val_accuracy: 0.4008\n",
            "Epoch 24/50\n",
            "156/156 [==============================] - 3s 20ms/step - loss: 1.3128 - accuracy: 0.5810 - val_loss: 2.3394 - val_accuracy: 0.4249\n",
            "Epoch 25/50\n",
            "156/156 [==============================] - 3s 20ms/step - loss: 1.2748 - accuracy: 0.5892 - val_loss: 2.6927 - val_accuracy: 0.3454\n",
            "Epoch 26/50\n",
            "156/156 [==============================] - 3s 20ms/step - loss: 1.2398 - accuracy: 0.5991 - val_loss: 2.6825 - val_accuracy: 0.3920\n",
            "Epoch 27/50\n",
            "156/156 [==============================] - 3s 21ms/step - loss: 1.2172 - accuracy: 0.6143 - val_loss: 2.2256 - val_accuracy: 0.4562\n",
            "Epoch 28/50\n",
            "156/156 [==============================] - 3s 20ms/step - loss: 1.1859 - accuracy: 0.6226 - val_loss: 2.6847 - val_accuracy: 0.3639\n",
            "Epoch 29/50\n",
            "156/156 [==============================] - 3s 20ms/step - loss: 1.1500 - accuracy: 0.6244 - val_loss: 2.4665 - val_accuracy: 0.4096\n",
            "Epoch 30/50\n",
            "156/156 [==============================] - 3s 20ms/step - loss: 1.1192 - accuracy: 0.6328 - val_loss: 2.0910 - val_accuracy: 0.4956\n",
            "Epoch 31/50\n",
            "156/156 [==============================] - 3s 20ms/step - loss: 1.0962 - accuracy: 0.6414 - val_loss: 4.7645 - val_accuracy: 0.2506\n",
            "Epoch 32/50\n",
            "156/156 [==============================] - 3s 20ms/step - loss: 1.0657 - accuracy: 0.6507 - val_loss: 2.5332 - val_accuracy: 0.4209\n",
            "Epoch 33/50\n",
            "156/156 [==============================] - 3s 20ms/step - loss: 1.0364 - accuracy: 0.6573 - val_loss: 2.3872 - val_accuracy: 0.4265\n",
            "Epoch 34/50\n",
            "156/156 [==============================] - 3s 20ms/step - loss: 0.9999 - accuracy: 0.6762 - val_loss: 2.7087 - val_accuracy: 0.3936\n",
            "Epoch 35/50\n",
            "156/156 [==============================] - 3s 20ms/step - loss: 0.9868 - accuracy: 0.6746 - val_loss: 2.8377 - val_accuracy: 0.3791\n",
            "Epoch 36/50\n",
            "156/156 [==============================] - 3s 20ms/step - loss: 0.9678 - accuracy: 0.6832 - val_loss: 2.3786 - val_accuracy: 0.4530\n",
            "Epoch 37/50\n",
            "156/156 [==============================] - 3s 20ms/step - loss: 0.9224 - accuracy: 0.6983 - val_loss: 2.4972 - val_accuracy: 0.4506\n",
            "Epoch 38/50\n",
            "156/156 [==============================] - 3s 20ms/step - loss: 0.9016 - accuracy: 0.7079 - val_loss: 2.2542 - val_accuracy: 0.4988\n",
            "Epoch 39/50\n",
            "156/156 [==============================] - 3s 20ms/step - loss: 0.9002 - accuracy: 0.7045 - val_loss: 2.3122 - val_accuracy: 0.4723\n",
            "Epoch 40/50\n",
            "156/156 [==============================] - 3s 20ms/step - loss: 0.8837 - accuracy: 0.7035 - val_loss: 2.9283 - val_accuracy: 0.4249\n",
            "Epoch 41/50\n",
            "156/156 [==============================] - 3s 20ms/step - loss: 0.8474 - accuracy: 0.7135 - val_loss: 2.9091 - val_accuracy: 0.4104\n",
            "Epoch 42/50\n",
            "156/156 [==============================] - 3s 20ms/step - loss: 0.8270 - accuracy: 0.7235 - val_loss: 3.2889 - val_accuracy: 0.3992\n",
            "Epoch 43/50\n",
            "156/156 [==============================] - 3s 20ms/step - loss: 0.8044 - accuracy: 0.7316 - val_loss: 2.5832 - val_accuracy: 0.4699\n",
            "Epoch 44/50\n",
            "156/156 [==============================] - 3s 21ms/step - loss: 0.7825 - accuracy: 0.7378 - val_loss: 2.5343 - val_accuracy: 0.4659\n",
            "Epoch 45/50\n",
            "156/156 [==============================] - 3s 21ms/step - loss: 0.7547 - accuracy: 0.7476 - val_loss: 2.7304 - val_accuracy: 0.4450\n",
            "Epoch 46/50\n",
            "156/156 [==============================] - 3s 20ms/step - loss: 0.7109 - accuracy: 0.7657 - val_loss: 2.7529 - val_accuracy: 0.4426\n",
            "Epoch 47/50\n",
            "156/156 [==============================] - 3s 20ms/step - loss: 0.7132 - accuracy: 0.7607 - val_loss: 2.9867 - val_accuracy: 0.4249\n",
            "Epoch 48/50\n",
            "156/156 [==============================] - 3s 19ms/step - loss: 0.6954 - accuracy: 0.7689 - val_loss: 2.8724 - val_accuracy: 0.4161\n",
            "Epoch 49/50\n",
            "156/156 [==============================] - 3s 19ms/step - loss: 0.6840 - accuracy: 0.7701 - val_loss: 3.4422 - val_accuracy: 0.3751\n",
            "Epoch 50/50\n",
            "156/156 [==============================] - 3s 20ms/step - loss: 0.6989 - accuracy: 0.7697 - val_loss: 3.6395 - val_accuracy: 0.3839\n"
          ]
        }
      ]
    },
    {
      "cell_type": "code",
      "metadata": {
        "id": "ynhS2KjVEhj8",
        "colab": {
          "base_uri": "https://localhost:8080/",
          "height": 499
        },
        "outputId": "324567e1-bfdb-4031-c2a1-2e56f348fc6b"
      },
      "source": [
        "acc = history.history['accuracy']\n",
        "val_acc = history.history['val_accuracy']\n",
        "\n",
        "loss = history.history['loss']\n",
        "val_loss = history.history['val_loss']\n",
        "\n",
        "epochs_range = range(epochs)\n",
        "\n",
        "plt.figure(figsize=(8, 8))\n",
        "plt.subplot(1, 2, 1)\n",
        "plt.plot(epochs_range, acc, label='Training Accuracy')\n",
        "plt.plot(epochs_range, val_acc, label='Validation Accuracy')\n",
        "plt.legend(loc='lower right')\n",
        "plt.title('Training and Validation Accuracy')\n",
        "\n",
        "plt.subplot(1, 2, 2)\n",
        "plt.plot(epochs_range, loss, label='Training Loss')\n",
        "plt.plot(epochs_range, val_loss, label='Validation Loss')\n",
        "plt.legend(loc='upper right')\n",
        "plt.title('Training and Validation Loss')\n",
        "plt.show()"
      ],
      "execution_count": null,
      "outputs": [
        {
          "output_type": "display_data",
          "data": {
            "image/png": "[encoded data removed]",
            "text/plain": [
              "<Figure size 576x576 with 2 Axes>"
            ]
          },
          "metadata": {
            "needs_background": "light"
          }
        }
      ]
    },
    {
      "cell_type": "code",
      "metadata": {
        "id": "IbEQMrsAH2yZ",
        "colab": {
          "base_uri": "https://localhost:8080/"
        },
        "outputId": "f8d59af8-3993-490a-e0ba-dd9ce99128d6"
      },
      "source": [
        "model.compile(\n",
        "    optimizer='adam',\n",
        "    loss=tf.losses.SparseCategoricalCrossentropy(from_logits=True),\n",
        "    metrics=['accuracy'])\n",
        "model.summary()"
      ],
      "execution_count": null,
      "outputs": [
        {
          "output_type": "stream",
          "name": "stdout",
          "text": [
            "Model: \"sequential_2\"\n",
            "_________________________________________________________________\n",
            " Layer (type)                Output Shape              Param #   \n",
            "=================================================================\n",
            " sequential_1 (Sequential)   (None, 180, 180, 1)       0         \n",
            "                                                                 \n",
            " rescaling_2 (Rescaling)     (None, 180, 180, 1)       0         \n",
            "                                                                 \n",
            " conv2d_3 (Conv2D)           (None, 178, 178, 32)      320       \n",
            "                                                                 \n",
            " max_pooling2d_3 (MaxPooling  (None, 89, 89, 32)       0         \n",
            " 2D)                                                             \n",
            "                                                                 \n",
            " conv2d_4 (Conv2D)           (None, 89, 89, 32)        9248      \n",
            "                                                                 \n",
            " max_pooling2d_4 (MaxPooling  (None, 44, 44, 32)       0         \n",
            " 2D)                                                             \n",
            "                                                                 \n",
            " conv2d_5 (Conv2D)           (None, 44, 44, 32)        9248      \n",
            "                                                                 \n",
            " max_pooling2d_5 (MaxPooling  (None, 22, 22, 32)       0         \n",
            " 2D)                                                             \n",
            "                                                                 \n",
            " dropout (Dropout)           (None, 22, 22, 32)        0         \n",
            "                                                                 \n",
            " flatten_1 (Flatten)         (None, 15488)             0         \n",
            "                                                                 \n",
            " dense_10 (Dense)            (None, 128)               1982592   \n",
            "                                                                 \n",
            " batch_normalization_10 (Bat  (None, 128)              512       \n",
            " chNormalization)                                                \n",
            "                                                                 \n",
            " dense_11 (Dense)            (None, 128)               16512     \n",
            "                                                                 \n",
            " batch_normalization_11 (Bat  (None, 128)              512       \n",
            " chNormalization)                                                \n",
            "                                                                 \n",
            " dense_12 (Dense)            (None, 128)               16512     \n",
            "                                                                 \n",
            " batch_normalization_12 (Bat  (None, 128)              512       \n",
            " chNormalization)                                                \n",
            "                                                                 \n",
            " dense_13 (Dense)            (None, 128)               16512     \n",
            "                                                                 \n",
            " batch_normalization_13 (Bat  (None, 128)              512       \n",
            " chNormalization)                                                \n",
            "                                                                 \n",
            " dense_14 (Dense)            (None, 128)               16512     \n",
            "                                                                 \n",
            " batch_normalization_14 (Bat  (None, 128)              512       \n",
            " chNormalization)                                                \n",
            "                                                                 \n",
            " dense_15 (Dense)            (None, 128)               16512     \n",
            "                                                                 \n",
            " batch_normalization_15 (Bat  (None, 128)              512       \n",
            " chNormalization)                                                \n",
            "                                                                 \n",
            " dense_16 (Dense)            (None, 128)               16512     \n",
            "                                                                 \n",
            " batch_normalization_16 (Bat  (None, 128)              512       \n",
            " chNormalization)                                                \n",
            "                                                                 \n",
            " dense_17 (Dense)            (None, 128)               16512     \n",
            "                                                                 \n",
            " batch_normalization_17 (Bat  (None, 128)              512       \n",
            " chNormalization)                                                \n",
            "                                                                 \n",
            " dense_18 (Dense)            (None, 107)               13803     \n",
            "                                                                 \n",
            " batch_normalization_18 (Bat  (None, 107)              428       \n",
            " chNormalization)                                                \n",
            "                                                                 \n",
            " dense_19 (Dense)            (None, 107)               11556     \n",
            "                                                                 \n",
            "=================================================================\n",
            "Total params: 2,146,875\n",
            "Trainable params: 2,144,613\n",
            "Non-trainable params: 2,262\n",
            "_________________________________________________________________\n"
          ]
        }
      ]
    },
    {
      "cell_type": "code",
      "metadata": {
        "id": "df30HUqFjWre"
      },
      "source": [
        ""
      ],
      "execution_count": null,
      "outputs": []
    }
  ]
}