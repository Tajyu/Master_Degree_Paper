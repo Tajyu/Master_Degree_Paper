{
  "nbformat": 4,
  "nbformat_minor": 0,
  "metadata": {
    "colab": {
      "name": "3Class_Genus_BatchNormal_Input_dim_Layer_6.ipynb",
      "provenance": [],
      "collapsed_sections": [],
      "mount_file_id": "1h59HCAuR1b_NUfWj2JETDHSCNk20x9I_",
      "authorship_tag": "ABX9TyNkn1GooWD1nN+kq5VpScfF",
      "include_colab_link": true
    },
    "kernelspec": {
      "name": "python3",
      "display_name": "Python 3"
    },
    "language_info": {
      "name": "python"
    },
    "accelerator": "GPU"
  },
  "cells": [
    {
      "cell_type": "markdown",
      "metadata": {
        "id": "view-in-github",
        "colab_type": "text"
      },
      "source": [
        "<a href=\"https://colab.research.google.com/github/Tajyu/Master_Degree_Paper/blob/main/Code/Filter_32/Input_dim/3Class_Genus_BatchNormal_Input_dim_Layer_6.ipynb\" target=\"_parent\"><img src=\"https://colab.research.google.com/assets/colab-badge.svg\" alt=\"Open In Colab\"/></a>"
      ]
    },
    {
      "cell_type": "code",
      "metadata": {
        "id": "yWckd06_68Em"
      },
      "source": [
        "import tensorflow as tf\n",
        "from tensorflow.keras import datasets, layers, models\n",
        "from keras.preprocessing.image import ImageDataGenerator\n",
        "import numpy as np\n",
        "import matplotlib.pyplot as plt\n",
        "import cv2 as cv\n",
        "import os\n",
        "import pathlib\n",
        "import PIL\n",
        "from tensorflow import keras\n",
        "from tensorflow.keras import layers\n",
        "from tensorflow.keras.models import Sequential\n",
        "from tensorflow.keras.layers import Dense, Flatten, BatchNormalization, Dropout"
      ],
      "execution_count": null,
      "outputs": []
    },
    {
      "cell_type": "code",
      "metadata": {
        "id": "xav9zirHttk_"
      },
      "source": [
        "image_list = os.listdir('/content/drive/MyDrive/Colab Notebooks/Final_Project/Cell_Genus')"
      ],
      "execution_count": null,
      "outputs": []
    },
    {
      "cell_type": "code",
      "metadata": {
        "colab": {
          "base_uri": "https://localhost:8080/"
        },
        "id": "K-wD0dM5tx_E",
        "outputId": "726a2370-b88f-40a0-dbe7-0f75e6539d48"
      },
      "source": [
        "print(image_list)"
      ],
      "execution_count": null,
      "outputs": [
        {
          "output_type": "stream",
          "name": "stdout",
          "text": [
            "['10_Genus_Stauroneis_Ehrenberg', '10_Genus_Staurosira_Ehrenberg', '11_Genus_Craspedostauros_E.J_Cox_1999', '11_Genus_Staurosirella_Williams_and_Round', '12_Genus_Caloneis_Cleve_1894', '12_Genus_Synedra_Ehrenberg', '13_Genus_Pinnularia_Ehrenberg_1843', '1_Genus_Acanthoceras_Honigmann', '1_Genus_Achnanthes_Bory', '1_Genus_Actinocyclus_Ehrenberg', '1_Genus_Aphanocapsa_Nageli_1849', '1_Genus_Asterionella_Hassall', '1_Genus_Aulacoseira', '1_Genus_Biremis_Mann_et_Cox_in_Round_Crawford_and_Mann', '1_Genus_Characium_A_Braun_in_Kutzing_1849', '1_Genus_Chroococcus_Nageli', '1_Genus_Closterium_Nitzsch_ex_Ralfs_1848', '1_Genus_Coelastrum_Nageli_1849', '1_Genus_Cylindrocystis_Meneghini_ex_de_Bary_1858', '1_Genus_Dictyosphaerium_Nageli_1849', '1_Genus_Docidium_Brebisson_ex_Ralfs_1848', '1_Genus_Eunotia_Ehrenberg', '1_Genus_Geitlerinema_(Anagnostidis_et_Komarek)_Anagnostidis_1989', '1_Genus_Gonatozygon_de_Bary_1856', '1_Genus_Hydrodictyon_Roth_1797', '1_Genus_Hydrosera_whampoensis', '1_Genus_Jaaginema_Anagnostidis_et_Komarek_1988', '1_Genus_Lyngbya_C_Agardh_ex_Gomont_1892', '1_Genus_Melosira_Agardh', '1_Genus_Micractinium_Fresenius_1858', '1_Genus_Micrasterias_Ralfs_1848', '1_Genus_Microcystis_Kutzing_ex_Lemmermann_1907', '1_Genus_Oscillatoria_Vaucher_ex_Gomont_1982', '1_Genus_Pediastrum_Meyen_1829', '1_Genus_Penium_Brebisson_ex_Ralfs_in_Ralfs_1848', '1_Genus_Phormidium_Kutzing_ex_Gomont_1892', '1_Genus_Planktothrix_Anagnostidis_et_Komarek_1988', '1_Genus_Pleurosira_laevis_(Ehrenberg)', '1_Genus_Rhizosolenia_Ehrenberg', '1_Genus_Schizochlamydella_Korshikov_1953', '1_Genus_Staurodesmus_Teiling_1848', '1_Genus_Trochiscia_Kutzing_1834', '1_Scenedesmus_Hegewald_1978', '2_Acutodesmus_Hegewald_1978', '2_Genus_Achnanthidium_Kutzing', '2_Genus_Actinastrum_Lagerheim_1882', '2_Genus_Actinella_Lewis', '2_Genus_Ankyra_Fott_1957', '2_Genus_Caloneis_Cleve', '2_Genus_Chaetoceros_Ehrenberg', '2_Genus_Coenochloris_Korshikov_1953', '2_Genus_Cyclotella', '2_Genus_Diatoma_Bory', '2_Genus_Dimorphococcus_A_Braun_1855', '2_Genus_Golenkinia_Chodat_1894', '2_Genus_Haplotaenium_Bando_1988', '2_Genus_Leibleinia_(Gomont)_L_Hoffman_1985', '2_Genus_Leptolyngbya_Anagnostidis_et_Komarek_1988', '2_Genus_Merismopedia_Meyen_1839', '2_Genus_Netrium_(Nageli)_Itzigsohn_et_Rothe_in_Rabenhorst_1856', '2_Genus_Orthoseira_Thwaites_1848', '2_Genus_Phormidium_Kutzing_ex_Gomont_1892', '2_Genus_Sorastrum_Kutzing_1845', '2_Genus_Staurastrum_Meyen_ex_Ralfs_1848', '3_Desmodesmus_Chodat_1926', '3_Genus_Acanthosphaera_Lemmerman_1899', '3_Genus_Anorthoneis_Grunow', '3_Genus_Cyclostephanos_Round', '3_Genus_Dichotomococcus_Korshikov_1928', '3_Genus_Heteroleibleinia_(Geitler)_L_Hoffmann_1985', '3_Genus_Limnothrix_Meffert_1988', '3_Genus_Meridion_Agardh', '3_Genus_Paradoxia_Svirenko_1928', '3_Genus_Peronia_Bebisson_and_Arnott_ex_Kitton', '3_Genus_Phormidiochaete_Komarek_in_Anagnostidis_2001', '3_Genus_Pinnularia_Ehrenberg_1', '3_Genus_Pleurotaenium_Nageli_1849', '3_Genus_Radiococcus_Schmidle_1902', '3_Genus_Snowella_Elenkin_1938', '3_Genus_Spirotaenia_Brebisson_in_Ralfs_1848', '4_Genus_Botryococcus_Kutzing_1849', '4_Genus_Cocconeis_Ehrenberg', '4_Genus_Eutetramorus_Walton_1918', '4_Genus_Leptolyngbya_Anagnostidis_et_Komarek_1988', '4_Genus_Opephora_Petit', '4_Genus_Pinnularia_Ehrenberg_2', '4_Genus_Schroederia_Lemmermann_1898', '4_Genus_Stephanodiscus_Ehrenberg', '4_Genus_Synechocystis_Sauvageau_1892', '4_Genus_Tortitaenia_A_J_Brook_1998', '5_Genus_Caloneis_Cleve', '5_Genus_Coenocystis_Korshikov_1953', '5_Genus_Planktolyngbya_Anagnostidis_et_Komarek_1988', '5_Genus_Tabellaria_Ehrenberg', '5_Genus_Thalassiosira_Cleve', '5_Genus_Woronichinia_Elenkin_1933', '6_Genus_Anomoeoneis_Pfitzer', '6_Genus_Fragilaria_Lyngbye', '6_Genus_Gloeocystis_Nageli_1849', '6_Genus_Pseudanabaena_Lauterborn_1915', '6_Genus_Skeletonema_Greville', '7_Genus_Caloneis_Cleve', '7_Genus_Hannaea_Patrick', '8_Genus_Diploneis(Ehrenberg)_Cleve', '8_Genus_Pseudostaurosira_Williams_and_Round', '9_Genus_Neidium_Pfitzer', '9_Genus_Punctastriata_Williams_and_Round']\n"
          ]
        }
      ]
    },
    {
      "cell_type": "code",
      "metadata": {
        "id": "o-0DvzEHt8VE"
      },
      "source": [
        "data_generator = ImageDataGenerator(rescale = 1./255)\n",
        "\n",
        "data_dir = \"/content/drive/MyDrive/Colab Notebooks/Final_Project/Cell_Genus\""
      ],
      "execution_count": null,
      "outputs": []
    },
    {
      "cell_type": "code",
      "metadata": {
        "id": "7aTCfEm3t10n"
      },
      "source": [
        "batch_size = 32\n",
        "img_height = 180\n",
        "img_width = 180"
      ],
      "execution_count": null,
      "outputs": []
    },
    {
      "cell_type": "code",
      "metadata": {
        "id": "9Smg-miEt22s",
        "colab": {
          "base_uri": "https://localhost:8080/"
        },
        "outputId": "bc8967a7-636e-47a5-dad4-9c87c9f19e02"
      },
      "source": [
        "train_ds = tf.keras.preprocessing.image_dataset_from_directory(\n",
        "  data_dir,\n",
        "  color_mode = \"grayscale\",\n",
        "  validation_split=0.2,\n",
        "  subset=\"training\",\n",
        "  seed=123,\n",
        "  image_size=(img_height, img_width),\n",
        "  batch_size=batch_size)"
      ],
      "execution_count": null,
      "outputs": [
        {
          "output_type": "stream",
          "name": "stdout",
          "text": [
            "Found 6226 files belonging to 107 classes.\n",
            "Using 4981 files for training.\n"
          ]
        }
      ]
    },
    {
      "cell_type": "code",
      "metadata": {
        "id": "1nR0WdQGt44x",
        "colab": {
          "base_uri": "https://localhost:8080/"
        },
        "outputId": "807b458d-86e8-46d4-d435-a6023413d3c8"
      },
      "source": [
        "val_ds = tf.keras.preprocessing.image_dataset_from_directory(\n",
        "  data_dir,\n",
        "  color_mode = \"grayscale\",\n",
        "  validation_split=0.2,\n",
        "  subset=\"validation\",\n",
        "  seed=123,\n",
        "  image_size=(img_height, img_width),\n",
        "  batch_size=batch_size)"
      ],
      "execution_count": null,
      "outputs": [
        {
          "output_type": "stream",
          "name": "stdout",
          "text": [
            "Found 6226 files belonging to 107 classes.\n",
            "Using 1245 files for validation.\n"
          ]
        }
      ]
    },
    {
      "cell_type": "code",
      "metadata": {
        "id": "F-cz_CtGug8Y",
        "colab": {
          "base_uri": "https://localhost:8080/"
        },
        "outputId": "de1c05b7-44c4-4951-f964-0d44ceff7f4f"
      },
      "source": [
        "class_names = train_ds.class_names\n",
        "print(class_names)"
      ],
      "execution_count": null,
      "outputs": [
        {
          "output_type": "stream",
          "name": "stdout",
          "text": [
            "['10_Genus_Stauroneis_Ehrenberg', '10_Genus_Staurosira_Ehrenberg', '11_Genus_Craspedostauros_E.J_Cox_1999', '11_Genus_Staurosirella_Williams_and_Round', '12_Genus_Caloneis_Cleve_1894', '12_Genus_Synedra_Ehrenberg', '13_Genus_Pinnularia_Ehrenberg_1843', '1_Genus_Acanthoceras_Honigmann', '1_Genus_Achnanthes_Bory', '1_Genus_Actinocyclus_Ehrenberg', '1_Genus_Aphanocapsa_Nageli_1849', '1_Genus_Asterionella_Hassall', '1_Genus_Aulacoseira', '1_Genus_Biremis_Mann_et_Cox_in_Round_Crawford_and_Mann', '1_Genus_Characium_A_Braun_in_Kutzing_1849', '1_Genus_Chroococcus_Nageli', '1_Genus_Closterium_Nitzsch_ex_Ralfs_1848', '1_Genus_Coelastrum_Nageli_1849', '1_Genus_Cylindrocystis_Meneghini_ex_de_Bary_1858', '1_Genus_Dictyosphaerium_Nageli_1849', '1_Genus_Docidium_Brebisson_ex_Ralfs_1848', '1_Genus_Eunotia_Ehrenberg', '1_Genus_Geitlerinema_(Anagnostidis_et_Komarek)_Anagnostidis_1989', '1_Genus_Gonatozygon_de_Bary_1856', '1_Genus_Hydrodictyon_Roth_1797', '1_Genus_Hydrosera_whampoensis', '1_Genus_Jaaginema_Anagnostidis_et_Komarek_1988', '1_Genus_Lyngbya_C_Agardh_ex_Gomont_1892', '1_Genus_Melosira_Agardh', '1_Genus_Micractinium_Fresenius_1858', '1_Genus_Micrasterias_Ralfs_1848', '1_Genus_Microcystis_Kutzing_ex_Lemmermann_1907', '1_Genus_Oscillatoria_Vaucher_ex_Gomont_1982', '1_Genus_Pediastrum_Meyen_1829', '1_Genus_Penium_Brebisson_ex_Ralfs_in_Ralfs_1848', '1_Genus_Phormidium_Kutzing_ex_Gomont_1892', '1_Genus_Planktothrix_Anagnostidis_et_Komarek_1988', '1_Genus_Pleurosira_laevis_(Ehrenberg)', '1_Genus_Rhizosolenia_Ehrenberg', '1_Genus_Schizochlamydella_Korshikov_1953', '1_Genus_Staurodesmus_Teiling_1848', '1_Genus_Trochiscia_Kutzing_1834', '1_Scenedesmus_Hegewald_1978', '2_Acutodesmus_Hegewald_1978', '2_Genus_Achnanthidium_Kutzing', '2_Genus_Actinastrum_Lagerheim_1882', '2_Genus_Actinella_Lewis', '2_Genus_Ankyra_Fott_1957', '2_Genus_Caloneis_Cleve', '2_Genus_Chaetoceros_Ehrenberg', '2_Genus_Coenochloris_Korshikov_1953', '2_Genus_Cyclotella', '2_Genus_Diatoma_Bory', '2_Genus_Dimorphococcus_A_Braun_1855', '2_Genus_Golenkinia_Chodat_1894', '2_Genus_Haplotaenium_Bando_1988', '2_Genus_Leibleinia_(Gomont)_L_Hoffman_1985', '2_Genus_Leptolyngbya_Anagnostidis_et_Komarek_1988', '2_Genus_Merismopedia_Meyen_1839', '2_Genus_Netrium_(Nageli)_Itzigsohn_et_Rothe_in_Rabenhorst_1856', '2_Genus_Orthoseira_Thwaites_1848', '2_Genus_Phormidium_Kutzing_ex_Gomont_1892', '2_Genus_Sorastrum_Kutzing_1845', '2_Genus_Staurastrum_Meyen_ex_Ralfs_1848', '3_Desmodesmus_Chodat_1926', '3_Genus_Acanthosphaera_Lemmerman_1899', '3_Genus_Anorthoneis_Grunow', '3_Genus_Cyclostephanos_Round', '3_Genus_Dichotomococcus_Korshikov_1928', '3_Genus_Heteroleibleinia_(Geitler)_L_Hoffmann_1985', '3_Genus_Limnothrix_Meffert_1988', '3_Genus_Meridion_Agardh', '3_Genus_Paradoxia_Svirenko_1928', '3_Genus_Peronia_Bebisson_and_Arnott_ex_Kitton', '3_Genus_Phormidiochaete_Komarek_in_Anagnostidis_2001', '3_Genus_Pinnularia_Ehrenberg_1', '3_Genus_Pleurotaenium_Nageli_1849', '3_Genus_Radiococcus_Schmidle_1902', '3_Genus_Snowella_Elenkin_1938', '3_Genus_Spirotaenia_Brebisson_in_Ralfs_1848', '4_Genus_Botryococcus_Kutzing_1849', '4_Genus_Cocconeis_Ehrenberg', '4_Genus_Eutetramorus_Walton_1918', '4_Genus_Leptolyngbya_Anagnostidis_et_Komarek_1988', '4_Genus_Opephora_Petit', '4_Genus_Pinnularia_Ehrenberg_2', '4_Genus_Schroederia_Lemmermann_1898', '4_Genus_Stephanodiscus_Ehrenberg', '4_Genus_Synechocystis_Sauvageau_1892', '4_Genus_Tortitaenia_A_J_Brook_1998', '5_Genus_Caloneis_Cleve', '5_Genus_Coenocystis_Korshikov_1953', '5_Genus_Planktolyngbya_Anagnostidis_et_Komarek_1988', '5_Genus_Tabellaria_Ehrenberg', '5_Genus_Thalassiosira_Cleve', '5_Genus_Woronichinia_Elenkin_1933', '6_Genus_Anomoeoneis_Pfitzer', '6_Genus_Fragilaria_Lyngbye', '6_Genus_Gloeocystis_Nageli_1849', '6_Genus_Pseudanabaena_Lauterborn_1915', '6_Genus_Skeletonema_Greville', '7_Genus_Caloneis_Cleve', '7_Genus_Hannaea_Patrick', '8_Genus_Diploneis(Ehrenberg)_Cleve', '8_Genus_Pseudostaurosira_Williams_and_Round', '9_Genus_Neidium_Pfitzer', '9_Genus_Punctastriata_Williams_and_Round']\n"
          ]
        }
      ]
    },
    {
      "cell_type": "code",
      "metadata": {
        "id": "5EQOikPAukic",
        "colab": {
          "base_uri": "https://localhost:8080/"
        },
        "outputId": "41c448dd-2b2e-4434-cbc3-56e86b73d845"
      },
      "source": [
        "for image_batch, labels_batch in train_ds:\n",
        "  print(image_batch.shape)\n",
        "  print(labels_batch.shape)\n",
        "  break"
      ],
      "execution_count": null,
      "outputs": [
        {
          "output_type": "stream",
          "name": "stdout",
          "text": [
            "(32, 180, 180, 1)\n",
            "(32,)\n"
          ]
        }
      ]
    },
    {
      "cell_type": "code",
      "metadata": {
        "id": "9eVl7tiDux9q"
      },
      "source": [
        "from tensorflow.keras import layers\n",
        "\n",
        "normalization_layer = tf.keras.layers.experimental.preprocessing.Rescaling(1./255)"
      ],
      "execution_count": null,
      "outputs": []
    },
    {
      "cell_type": "code",
      "metadata": {
        "id": "AiIrsxzZuzEo",
        "colab": {
          "base_uri": "https://localhost:8080/"
        },
        "outputId": "1796a8ef-3c5c-49be-e783-b20d6b77969c"
      },
      "source": [
        "normalized_ds = train_ds.map(lambda x, y: (normalization_layer(x), y))\n",
        "image_batch, labels_batch = next(iter(normalized_ds))\n",
        "first_image = image_batch[0]\n",
        "# Notice the pixels values are now in `[0,1]`.\n",
        "print(np.min(first_image), np.max(first_image))"
      ],
      "execution_count": null,
      "outputs": [
        {
          "output_type": "stream",
          "name": "stdout",
          "text": [
            "0.0 1.0\n"
          ]
        }
      ]
    },
    {
      "cell_type": "code",
      "metadata": {
        "id": "__WbVabru0Bp"
      },
      "source": [
        "AUTOTUNE = tf.data.experimental.AUTOTUNE\n",
        "\n",
        "train_ds = train_ds.cache().prefetch(buffer_size=AUTOTUNE)\n",
        "val_ds = val_ds.cache().prefetch(buffer_size=AUTOTUNE)"
      ],
      "execution_count": null,
      "outputs": []
    },
    {
      "cell_type": "code",
      "metadata": {
        "id": "g1GeYFXCu2gV"
      },
      "source": [
        "num_classes = 107\n",
        "model = tf.keras.Sequential([\n",
        "    layers.experimental.preprocessing.Rescaling(1./255),\n",
        "    layers.Conv2D(32, 3,input_shape = image_batch, activation='relu'),\n",
        "    layers.MaxPooling2D(),\n",
        "    layers.Conv2D(32, 3, activation='relu'),\n",
        "    layers.MaxPooling2D(),\n",
        "    layers.Conv2D(32, 3, activation='relu'),\n",
        "    layers.MaxPooling2D(),\n",
        "    layers.Flatten(),\n",
        "    BatchNormalization(),\n",
        "    layers.Dense(128, input_dim = 107, activation='relu'),\n",
        "    BatchNormalization(),\n",
        "    layers.Dense(128, activation='relu'),\n",
        "    BatchNormalization(),\n",
        "    layers.Dense(128, activation='relu'),\n",
        "    BatchNormalization(),\n",
        "    layers.Dense(128, activation='relu'),\n",
        "    BatchNormalization(),\n",
        "    layers.Dense(128, activation='relu'),\n",
        "    BatchNormalization(),\n",
        "    layers.Dense(107, activation='softmax'),\n",
        "    BatchNormalization(),\n",
        "    layers.Dense(num_classes)\n",
        "    ])"
      ],
      "execution_count": null,
      "outputs": []
    },
    {
      "cell_type": "code",
      "metadata": {
        "id": "wU4xPAvNYWry"
      },
      "source": [
        "model.compile(\n",
        "    optimizer='adam',\n",
        "    loss=tf.losses.SparseCategoricalCrossentropy(from_logits=True),\n",
        "    metrics=['accuracy'])"
      ],
      "execution_count": null,
      "outputs": []
    },
    {
      "cell_type": "code",
      "metadata": {
        "id": "Tk8ssrbHu44p",
        "colab": {
          "base_uri": "https://localhost:8080/"
        },
        "outputId": "accea0d5-4f81-4066-d414-423f516bba3a"
      },
      "source": [
        "epochs=50\n",
        "history = model.fit(\n",
        "  train_ds,\n",
        "  validation_data=val_ds,\n",
        "  epochs=epochs\n",
        ")"
      ],
      "execution_count": null,
      "outputs": [
        {
          "output_type": "stream",
          "name": "stdout",
          "text": [
            "Epoch 1/50\n",
            "156/156 [==============================] - 907s 6s/step - loss: 3.4884 - accuracy: 0.2720 - val_loss: 4.2577 - val_accuracy: 0.1012\n",
            "Epoch 2/50\n",
            "156/156 [==============================] - 3s 17ms/step - loss: 2.3623 - accuracy: 0.3963 - val_loss: 3.7586 - val_accuracy: 0.2353\n",
            "Epoch 3/50\n",
            "156/156 [==============================] - 3s 17ms/step - loss: 1.8437 - accuracy: 0.5101 - val_loss: 2.8980 - val_accuracy: 0.3783\n",
            "Epoch 4/50\n",
            "156/156 [==============================] - 3s 17ms/step - loss: 1.4701 - accuracy: 0.6039 - val_loss: 2.3520 - val_accuracy: 0.4209\n",
            "Epoch 5/50\n",
            "156/156 [==============================] - 3s 17ms/step - loss: 1.2174 - accuracy: 0.6697 - val_loss: 2.3216 - val_accuracy: 0.4297\n",
            "Epoch 6/50\n",
            "156/156 [==============================] - 3s 17ms/step - loss: 0.9505 - accuracy: 0.7432 - val_loss: 2.1753 - val_accuracy: 0.4747\n",
            "Epoch 7/50\n",
            "156/156 [==============================] - 3s 17ms/step - loss: 0.7396 - accuracy: 0.8024 - val_loss: 2.3171 - val_accuracy: 0.4578\n",
            "Epoch 8/50\n",
            "156/156 [==============================] - 3s 17ms/step - loss: 0.5761 - accuracy: 0.8454 - val_loss: 2.4157 - val_accuracy: 0.4755\n",
            "Epoch 9/50\n",
            "156/156 [==============================] - 3s 17ms/step - loss: 0.4551 - accuracy: 0.8822 - val_loss: 2.6768 - val_accuracy: 0.4530\n",
            "Epoch 10/50\n",
            "156/156 [==============================] - 3s 16ms/step - loss: 0.3676 - accuracy: 0.9050 - val_loss: 2.5206 - val_accuracy: 0.4827\n",
            "Epoch 11/50\n",
            "156/156 [==============================] - 3s 17ms/step - loss: 0.2848 - accuracy: 0.9289 - val_loss: 2.6531 - val_accuracy: 0.4964\n",
            "Epoch 12/50\n",
            "156/156 [==============================] - 3s 17ms/step - loss: 0.2340 - accuracy: 0.9410 - val_loss: 2.8026 - val_accuracy: 0.4675\n",
            "Epoch 13/50\n",
            "156/156 [==============================] - 3s 17ms/step - loss: 0.1870 - accuracy: 0.9546 - val_loss: 2.6963 - val_accuracy: 0.4956\n",
            "Epoch 14/50\n",
            "156/156 [==============================] - 3s 17ms/step - loss: 0.1319 - accuracy: 0.9691 - val_loss: 2.5611 - val_accuracy: 0.5189\n",
            "Epoch 15/50\n",
            "156/156 [==============================] - 3s 17ms/step - loss: 0.0944 - accuracy: 0.9817 - val_loss: 2.6589 - val_accuracy: 0.5398\n",
            "Epoch 16/50\n",
            "156/156 [==============================] - 3s 17ms/step - loss: 0.0642 - accuracy: 0.9890 - val_loss: 2.6804 - val_accuracy: 0.5076\n",
            "Epoch 17/50\n",
            "156/156 [==============================] - 3s 17ms/step - loss: 0.0458 - accuracy: 0.9932 - val_loss: 2.8723 - val_accuracy: 0.4996\n",
            "Epoch 18/50\n",
            "156/156 [==============================] - 3s 17ms/step - loss: 0.0347 - accuracy: 0.9960 - val_loss: 2.8277 - val_accuracy: 0.5221\n",
            "Epoch 19/50\n",
            "156/156 [==============================] - 3s 17ms/step - loss: 0.0265 - accuracy: 0.9962 - val_loss: 2.7394 - val_accuracy: 0.5357\n",
            "Epoch 20/50\n",
            "156/156 [==============================] - 3s 17ms/step - loss: 0.0187 - accuracy: 0.9978 - val_loss: 2.8490 - val_accuracy: 0.5293\n",
            "Epoch 21/50\n",
            "156/156 [==============================] - 3s 17ms/step - loss: 0.0307 - accuracy: 0.9950 - val_loss: 2.9580 - val_accuracy: 0.5309\n",
            "Epoch 22/50\n",
            "156/156 [==============================] - 3s 17ms/step - loss: 0.2711 - accuracy: 0.9231 - val_loss: 4.3894 - val_accuracy: 0.3687\n",
            "Epoch 23/50\n",
            "156/156 [==============================] - 3s 17ms/step - loss: 0.6249 - accuracy: 0.8257 - val_loss: 3.4165 - val_accuracy: 0.4313\n",
            "Epoch 24/50\n",
            "156/156 [==============================] - 3s 17ms/step - loss: 0.2680 - accuracy: 0.9229 - val_loss: 2.8891 - val_accuracy: 0.5068\n",
            "Epoch 25/50\n",
            "156/156 [==============================] - 3s 17ms/step - loss: 0.1007 - accuracy: 0.9759 - val_loss: 2.8335 - val_accuracy: 0.5349\n",
            "Epoch 26/50\n",
            "156/156 [==============================] - 3s 17ms/step - loss: 0.0362 - accuracy: 0.9944 - val_loss: 2.7523 - val_accuracy: 0.5494\n",
            "Epoch 27/50\n",
            "156/156 [==============================] - 3s 17ms/step - loss: 0.0146 - accuracy: 0.9992 - val_loss: 2.7271 - val_accuracy: 0.5558\n",
            "Epoch 28/50\n",
            "156/156 [==============================] - 3s 17ms/step - loss: 0.0082 - accuracy: 0.9996 - val_loss: 2.7587 - val_accuracy: 0.5526\n",
            "Epoch 29/50\n",
            "156/156 [==============================] - 3s 16ms/step - loss: 0.0060 - accuracy: 1.0000 - val_loss: 2.7839 - val_accuracy: 0.5518\n",
            "Epoch 30/50\n",
            "156/156 [==============================] - 3s 17ms/step - loss: 0.0049 - accuracy: 1.0000 - val_loss: 2.8129 - val_accuracy: 0.5510\n",
            "Epoch 31/50\n",
            "156/156 [==============================] - 3s 17ms/step - loss: 0.0042 - accuracy: 1.0000 - val_loss: 2.8395 - val_accuracy: 0.5486\n",
            "Epoch 32/50\n",
            "156/156 [==============================] - 3s 17ms/step - loss: 0.0036 - accuracy: 1.0000 - val_loss: 2.8647 - val_accuracy: 0.5494\n",
            "Epoch 33/50\n",
            "156/156 [==============================] - 3s 17ms/step - loss: 0.0032 - accuracy: 1.0000 - val_loss: 2.8893 - val_accuracy: 0.5510\n",
            "Epoch 34/50\n",
            "156/156 [==============================] - 3s 17ms/step - loss: 0.0028 - accuracy: 1.0000 - val_loss: 2.9127 - val_accuracy: 0.5502\n",
            "Epoch 35/50\n",
            "156/156 [==============================] - 3s 17ms/step - loss: 0.0025 - accuracy: 1.0000 - val_loss: 2.9358 - val_accuracy: 0.5502\n",
            "Epoch 36/50\n",
            "156/156 [==============================] - 3s 17ms/step - loss: 0.0022 - accuracy: 1.0000 - val_loss: 2.9581 - val_accuracy: 0.5494\n",
            "Epoch 37/50\n",
            "156/156 [==============================] - 3s 17ms/step - loss: 0.0020 - accuracy: 1.0000 - val_loss: 2.9805 - val_accuracy: 0.5486\n",
            "Epoch 38/50\n",
            "156/156 [==============================] - 3s 17ms/step - loss: 0.0018 - accuracy: 1.0000 - val_loss: 3.0026 - val_accuracy: 0.5494\n",
            "Epoch 39/50\n",
            "156/156 [==============================] - 3s 17ms/step - loss: 0.0016 - accuracy: 1.0000 - val_loss: 3.0245 - val_accuracy: 0.5502\n",
            "Epoch 40/50\n",
            "156/156 [==============================] - 3s 17ms/step - loss: 0.0015 - accuracy: 1.0000 - val_loss: 3.0460 - val_accuracy: 0.5502\n",
            "Epoch 41/50\n",
            "156/156 [==============================] - 3s 17ms/step - loss: 0.0013 - accuracy: 1.0000 - val_loss: 3.0680 - val_accuracy: 0.5494\n",
            "Epoch 42/50\n",
            "156/156 [==============================] - 3s 17ms/step - loss: 0.0012 - accuracy: 1.0000 - val_loss: 3.0895 - val_accuracy: 0.5494\n",
            "Epoch 43/50\n",
            "156/156 [==============================] - 3s 17ms/step - loss: 0.0011 - accuracy: 1.0000 - val_loss: 3.1110 - val_accuracy: 0.5486\n",
            "Epoch 44/50\n",
            "156/156 [==============================] - 3s 17ms/step - loss: 9.9604e-04 - accuracy: 1.0000 - val_loss: 3.1325 - val_accuracy: 0.5494\n",
            "Epoch 45/50\n",
            "156/156 [==============================] - 3s 17ms/step - loss: 9.0802e-04 - accuracy: 1.0000 - val_loss: 3.1537 - val_accuracy: 0.5502\n",
            "Epoch 46/50\n",
            "156/156 [==============================] - 3s 17ms/step - loss: 8.2859e-04 - accuracy: 1.0000 - val_loss: 3.1750 - val_accuracy: 0.5486\n",
            "Epoch 47/50\n",
            "156/156 [==============================] - 3s 17ms/step - loss: 7.5667e-04 - accuracy: 1.0000 - val_loss: 3.1962 - val_accuracy: 0.5478\n",
            "Epoch 48/50\n",
            "156/156 [==============================] - 3s 17ms/step - loss: 6.9154e-04 - accuracy: 1.0000 - val_loss: 3.2176 - val_accuracy: 0.5486\n",
            "Epoch 49/50\n",
            "156/156 [==============================] - 3s 17ms/step - loss: 6.3239e-04 - accuracy: 1.0000 - val_loss: 3.2389 - val_accuracy: 0.5494\n",
            "Epoch 50/50\n",
            "156/156 [==============================] - 3s 17ms/step - loss: 5.7870e-04 - accuracy: 1.0000 - val_loss: 3.2605 - val_accuracy: 0.5486\n"
          ]
        }
      ]
    },
    {
      "cell_type": "code",
      "metadata": {
        "id": "f1z_vHocu59c",
        "colab": {
          "base_uri": "https://localhost:8080/",
          "height": 54
        },
        "outputId": "b2029ee6-c2b7-4eb6-c544-5dd579cde7a0"
      },
      "source": [
        "acc = history.history['accuracy']\n",
        "val_acc = history.history['val_accuracy']\n",
        "\n",
        "loss=history.history['loss']\n",
        "val_loss=history.history['val_loss']\n",
        "\n",
        "epochs_range = range(epochs)\n",
        "\n",
        "plt.figure(figsize=(8, 8))\n",
        "plt.subplot(1, 2, 1)\n",
        "plt.plot(epochs_range, acc, label='Training Accuracy')\n",
        "plt.plot(epochs_range, val_acc, label='Validation Accuracy')\n",
        "plt.legend(loc='lower right')\n",
        "plt.title('Training and Validation Accuracy')\n",
        "\n",
        "plt.subplot(1, 2, 2)\n",
        "plt.plot(epochs_range, loss, label='Training Loss')\n",
        "plt.plot(epochs_range, val_loss, label='Validation Loss')\n",
        "plt.legend(loc='upper right')\n",
        "plt.title('Training and Validation Loss')\n",
        "plt.show()"
      ],
      "execution_count": null,
      "outputs": [
        {
          "output_type": "display_data",
          "data": {
            "image/png": "[encoded data removed]",
            "text/plain": [
              "<Figure size 576x576 with 2 Axes>"
            ]
          },
          "metadata": {
            "needs_background": "light"
          }
        }
      ]
    },
    {
      "cell_type": "code",
      "metadata": {
        "id": "XinJ6xXD9YNO"
      },
      "source": [
        "data_augmentation = keras.Sequential(\n",
        "  [\n",
        "    layers.experimental.preprocessing.RandomFlip(\"horizontal\", \n",
        "                                                 input_shape=(img_height, \n",
        "                                                              img_width,\n",
        "                                                              1)),\n",
        "    layers.experimental.preprocessing.RandomRotation(0.1),\n",
        "    layers.experimental.preprocessing.RandomZoom(0.1),\n",
        "  ]\n",
        ")"
      ],
      "execution_count": null,
      "outputs": []
    },
    {
      "cell_type": "code",
      "metadata": {
        "id": "8WT2BYElEYZj"
      },
      "source": [
        "model = Sequential([\n",
        "  data_augmentation,\n",
        "  layers.experimental.preprocessing.Rescaling(1./255),\n",
        "  layers.Conv2D(32, 3,input_shape = image_batch, activation='relu'),\n",
        "  layers.MaxPooling2D(),\n",
        "  layers.Conv2D(32, 3, padding='same', activation='relu'),\n",
        "  layers.MaxPooling2D(),\n",
        "  layers.Conv2D(32, 3, padding='same', activation='relu'),\n",
        "  layers.MaxPooling2D(),\n",
        "  layers.Dropout(0.2),\n",
        "  layers.Flatten(),\n",
        "  layers.Dense(128, input_dim = 107, activation='relu'),\n",
        "  BatchNormalization(),\n",
        "  layers.Dense(128, activation='relu'),\n",
        "  BatchNormalization(),\n",
        "  layers.Dense(128, activation='relu'),\n",
        "  BatchNormalization(),\n",
        "  layers.Dense(128, activation='relu'),\n",
        "  BatchNormalization(),\n",
        "  layers.Dense(128, activation='relu'),\n",
        "  BatchNormalization(),\n",
        "  layers.Dense(107, activation='softmax'),\n",
        "  BatchNormalization(),\n",
        "  layers.Dense(num_classes)\n",
        "])"
      ],
      "execution_count": null,
      "outputs": []
    },
    {
      "cell_type": "code",
      "metadata": {
        "id": "opOHP3auEdsw",
        "colab": {
          "base_uri": "https://localhost:8080/"
        },
        "outputId": "8dd6b372-8b78-41b3-824d-564adfbd0b5f"
      },
      "source": [
        "BatchNormalization(),model.compile(\n",
        "    optimizer='adam',\n",
        "    loss=tf.losses.SparseCategoricalCrossentropy(from_logits=True),\n",
        "    metrics=['accuracy'])"
      ],
      "execution_count": null,
      "outputs": [
        {
          "output_type": "execute_result",
          "data": {
            "text/plain": [
              "(<keras.layers.normalization.batch_normalization.BatchNormalization at 0x7f15ea0fe710>,\n",
              " None)"
            ]
          },
          "metadata": {},
          "execution_count": 19
        }
      ]
    },
    {
      "cell_type": "code",
      "metadata": {
        "id": "3Ay4tlHlEfBX",
        "colab": {
          "base_uri": "https://localhost:8080/"
        },
        "outputId": "5e28626d-a962-4b93-d59f-69a656cde35c"
      },
      "source": [
        "model.summary()"
      ],
      "execution_count": null,
      "outputs": [
        {
          "output_type": "stream",
          "name": "stdout",
          "text": [
            "Model: \"sequential_2\"\n",
            "_________________________________________________________________\n",
            " Layer (type)                Output Shape              Param #   \n",
            "=================================================================\n",
            " sequential_1 (Sequential)   (None, 180, 180, 1)       0         \n",
            "                                                                 \n",
            " rescaling_2 (Rescaling)     (None, 180, 180, 1)       0         \n",
            "                                                                 \n",
            " conv2d_3 (Conv2D)           (None, 178, 178, 32)      320       \n",
            "                                                                 \n",
            " max_pooling2d_3 (MaxPooling  (None, 89, 89, 32)       0         \n",
            " 2D)                                                             \n",
            "                                                                 \n",
            " conv2d_4 (Conv2D)           (None, 89, 89, 32)        9248      \n",
            "                                                                 \n",
            " max_pooling2d_4 (MaxPooling  (None, 44, 44, 32)       0         \n",
            " 2D)                                                             \n",
            "                                                                 \n",
            " conv2d_5 (Conv2D)           (None, 44, 44, 32)        9248      \n",
            "                                                                 \n",
            " max_pooling2d_5 (MaxPooling  (None, 22, 22, 32)       0         \n",
            " 2D)                                                             \n",
            "                                                                 \n",
            " dropout (Dropout)           (None, 22, 22, 32)        0         \n",
            "                                                                 \n",
            " flatten_1 (Flatten)         (None, 15488)             0         \n",
            "                                                                 \n",
            " dense_7 (Dense)             (None, 128)               1982592   \n",
            "                                                                 \n",
            " batch_normalization_7 (Batc  (None, 128)              512       \n",
            " hNormalization)                                                 \n",
            "                                                                 \n",
            " dense_8 (Dense)             (None, 128)               16512     \n",
            "                                                                 \n",
            " batch_normalization_8 (Batc  (None, 128)              512       \n",
            " hNormalization)                                                 \n",
            "                                                                 \n",
            " dense_9 (Dense)             (None, 128)               16512     \n",
            "                                                                 \n",
            " batch_normalization_9 (Batc  (None, 128)              512       \n",
            " hNormalization)                                                 \n",
            "                                                                 \n",
            " dense_10 (Dense)            (None, 128)               16512     \n",
            "                                                                 \n",
            " batch_normalization_10 (Bat  (None, 128)              512       \n",
            " chNormalization)                                                \n",
            "                                                                 \n",
            " dense_11 (Dense)            (None, 128)               16512     \n",
            "                                                                 \n",
            " batch_normalization_11 (Bat  (None, 128)              512       \n",
            " chNormalization)                                                \n",
            "                                                                 \n",
            " dense_12 (Dense)            (None, 107)               13803     \n",
            "                                                                 \n",
            " batch_normalization_12 (Bat  (None, 107)              428       \n",
            " chNormalization)                                                \n",
            "                                                                 \n",
            " dense_13 (Dense)            (None, 107)               11556     \n",
            "                                                                 \n",
            "=================================================================\n",
            "Total params: 2,095,803\n",
            "Trainable params: 2,094,309\n",
            "Non-trainable params: 1,494\n",
            "_________________________________________________________________\n"
          ]
        }
      ]
    },
    {
      "cell_type": "code",
      "metadata": {
        "id": "Jc8rD_v9Ef41",
        "colab": {
          "base_uri": "https://localhost:8080/"
        },
        "outputId": "a4240419-f807-4880-d526-8622f73965b8"
      },
      "source": [
        "epochs = 50\n",
        "history = model.fit(\n",
        "  train_ds,\n",
        "  validation_data=val_ds,\n",
        "  epochs=epochs\n",
        ")"
      ],
      "execution_count": null,
      "outputs": [
        {
          "output_type": "stream",
          "name": "stdout",
          "text": [
            "Epoch 1/50\n",
            "156/156 [==============================] - 5s 20ms/step - loss: 3.8012 - accuracy: 0.1891 - val_loss: 4.1619 - val_accuracy: 0.1004\n",
            "Epoch 2/50\n",
            "156/156 [==============================] - 3s 18ms/step - loss: 2.8483 - accuracy: 0.2821 - val_loss: 3.6665 - val_accuracy: 0.2129\n",
            "Epoch 3/50\n",
            "156/156 [==============================] - 3s 18ms/step - loss: 2.4973 - accuracy: 0.3357 - val_loss: 3.0715 - val_accuracy: 0.2787\n",
            "Epoch 4/50\n",
            "156/156 [==============================] - 3s 19ms/step - loss: 2.3330 - accuracy: 0.3648 - val_loss: 2.9468 - val_accuracy: 0.2747\n",
            "Epoch 5/50\n",
            "156/156 [==============================] - 3s 18ms/step - loss: 2.1677 - accuracy: 0.3969 - val_loss: 3.1321 - val_accuracy: 0.2562\n",
            "Epoch 6/50\n",
            "156/156 [==============================] - 3s 18ms/step - loss: 2.0629 - accuracy: 0.4208 - val_loss: 2.9375 - val_accuracy: 0.3092\n",
            "Epoch 7/50\n",
            "156/156 [==============================] - 3s 19ms/step - loss: 1.9466 - accuracy: 0.4332 - val_loss: 2.5255 - val_accuracy: 0.3550\n",
            "Epoch 8/50\n",
            "156/156 [==============================] - 3s 18ms/step - loss: 1.8528 - accuracy: 0.4628 - val_loss: 2.9834 - val_accuracy: 0.3285\n",
            "Epoch 9/50\n",
            "156/156 [==============================] - 3s 18ms/step - loss: 1.7501 - accuracy: 0.4858 - val_loss: 2.7572 - val_accuracy: 0.3470\n",
            "Epoch 10/50\n",
            "156/156 [==============================] - 3s 19ms/step - loss: 1.7002 - accuracy: 0.4989 - val_loss: 2.8287 - val_accuracy: 0.3751\n",
            "Epoch 11/50\n",
            "156/156 [==============================] - 3s 19ms/step - loss: 1.6213 - accuracy: 0.5146 - val_loss: 2.7019 - val_accuracy: 0.3863\n",
            "Epoch 12/50\n",
            "156/156 [==============================] - 3s 18ms/step - loss: 1.5769 - accuracy: 0.5254 - val_loss: 3.1686 - val_accuracy: 0.3502\n",
            "Epoch 13/50\n",
            "156/156 [==============================] - 3s 19ms/step - loss: 1.5234 - accuracy: 0.5328 - val_loss: 2.3856 - val_accuracy: 0.3920\n",
            "Epoch 14/50\n",
            "156/156 [==============================] - 3s 18ms/step - loss: 1.4341 - accuracy: 0.5605 - val_loss: 2.5310 - val_accuracy: 0.4072\n",
            "Epoch 15/50\n",
            "156/156 [==============================] - 3s 18ms/step - loss: 1.4170 - accuracy: 0.5591 - val_loss: 2.2978 - val_accuracy: 0.4345\n",
            "Epoch 16/50\n",
            "156/156 [==============================] - 3s 18ms/step - loss: 1.3592 - accuracy: 0.5714 - val_loss: 2.4412 - val_accuracy: 0.4217\n",
            "Epoch 17/50\n",
            "156/156 [==============================] - 3s 18ms/step - loss: 1.3119 - accuracy: 0.5824 - val_loss: 2.4198 - val_accuracy: 0.4305\n",
            "Epoch 18/50\n",
            "156/156 [==============================] - 3s 18ms/step - loss: 1.2434 - accuracy: 0.6053 - val_loss: 2.5832 - val_accuracy: 0.4225\n",
            "Epoch 19/50\n",
            "156/156 [==============================] - 3s 18ms/step - loss: 1.2185 - accuracy: 0.6139 - val_loss: 2.3210 - val_accuracy: 0.4586\n",
            "Epoch 20/50\n",
            "156/156 [==============================] - 3s 18ms/step - loss: 1.1666 - accuracy: 0.6260 - val_loss: 2.3629 - val_accuracy: 0.4594\n",
            "Epoch 21/50\n",
            "156/156 [==============================] - 3s 18ms/step - loss: 1.1272 - accuracy: 0.6372 - val_loss: 2.5585 - val_accuracy: 0.4313\n",
            "Epoch 22/50\n",
            "156/156 [==============================] - 3s 18ms/step - loss: 1.0986 - accuracy: 0.6436 - val_loss: 2.5540 - val_accuracy: 0.4353\n",
            "Epoch 23/50\n",
            "156/156 [==============================] - 3s 19ms/step - loss: 1.0776 - accuracy: 0.6449 - val_loss: 2.8505 - val_accuracy: 0.4016\n",
            "Epoch 24/50\n",
            "156/156 [==============================] - 3s 19ms/step - loss: 1.0217 - accuracy: 0.6655 - val_loss: 2.9643 - val_accuracy: 0.3775\n",
            "Epoch 25/50\n",
            "156/156 [==============================] - 3s 18ms/step - loss: 0.9837 - accuracy: 0.6758 - val_loss: 2.8064 - val_accuracy: 0.3944\n",
            "Epoch 26/50\n",
            "156/156 [==============================] - 3s 18ms/step - loss: 0.9616 - accuracy: 0.6742 - val_loss: 2.6588 - val_accuracy: 0.4241\n",
            "Epoch 27/50\n",
            "156/156 [==============================] - 3s 19ms/step - loss: 0.9134 - accuracy: 0.7001 - val_loss: 2.8090 - val_accuracy: 0.4016\n",
            "Epoch 28/50\n",
            "156/156 [==============================] - 3s 18ms/step - loss: 0.9090 - accuracy: 0.7021 - val_loss: 2.9604 - val_accuracy: 0.4032\n",
            "Epoch 29/50\n",
            "156/156 [==============================] - 3s 18ms/step - loss: 0.8479 - accuracy: 0.7187 - val_loss: 2.7773 - val_accuracy: 0.4386\n",
            "Epoch 30/50\n",
            "156/156 [==============================] - 3s 18ms/step - loss: 0.8303 - accuracy: 0.7280 - val_loss: 3.1328 - val_accuracy: 0.3960\n",
            "Epoch 31/50\n",
            "156/156 [==============================] - 3s 18ms/step - loss: 0.8087 - accuracy: 0.7286 - val_loss: 2.8501 - val_accuracy: 0.4241\n",
            "Epoch 32/50\n",
            "156/156 [==============================] - 3s 19ms/step - loss: 0.7625 - accuracy: 0.7424 - val_loss: 2.4583 - val_accuracy: 0.4827\n",
            "Epoch 33/50\n",
            "156/156 [==============================] - 3s 19ms/step - loss: 0.7441 - accuracy: 0.7541 - val_loss: 2.9541 - val_accuracy: 0.4313\n",
            "Epoch 34/50\n",
            "156/156 [==============================] - 3s 18ms/step - loss: 0.7431 - accuracy: 0.7533 - val_loss: 3.0621 - val_accuracy: 0.4088\n",
            "Epoch 35/50\n",
            "156/156 [==============================] - 3s 19ms/step - loss: 0.6873 - accuracy: 0.7699 - val_loss: 2.6091 - val_accuracy: 0.4779\n",
            "Epoch 36/50\n",
            "156/156 [==============================] - 3s 19ms/step - loss: 0.6834 - accuracy: 0.7713 - val_loss: 2.3890 - val_accuracy: 0.4940\n",
            "Epoch 37/50\n",
            "156/156 [==============================] - 3s 19ms/step - loss: 0.6542 - accuracy: 0.7838 - val_loss: 2.9214 - val_accuracy: 0.4490\n",
            "Epoch 38/50\n",
            "156/156 [==============================] - 3s 19ms/step - loss: 0.6457 - accuracy: 0.7788 - val_loss: 2.8416 - val_accuracy: 0.4450\n",
            "Epoch 39/50\n",
            "156/156 [==============================] - 3s 19ms/step - loss: 0.6227 - accuracy: 0.7934 - val_loss: 3.2871 - val_accuracy: 0.3920\n",
            "Epoch 40/50\n",
            "156/156 [==============================] - 3s 18ms/step - loss: 0.5886 - accuracy: 0.7998 - val_loss: 2.5924 - val_accuracy: 0.4972\n",
            "Epoch 41/50\n",
            "156/156 [==============================] - 3s 18ms/step - loss: 0.6020 - accuracy: 0.7916 - val_loss: 2.6287 - val_accuracy: 0.5100\n",
            "Epoch 42/50\n",
            "156/156 [==============================] - 3s 19ms/step - loss: 0.5553 - accuracy: 0.8105 - val_loss: 3.5421 - val_accuracy: 0.4104\n",
            "Epoch 43/50\n",
            "156/156 [==============================] - 3s 18ms/step - loss: 0.5447 - accuracy: 0.8165 - val_loss: 2.8925 - val_accuracy: 0.4723\n",
            "Epoch 44/50\n",
            "156/156 [==============================] - 3s 18ms/step - loss: 0.5409 - accuracy: 0.8211 - val_loss: 2.9941 - val_accuracy: 0.4586\n",
            "Epoch 45/50\n",
            "156/156 [==============================] - 3s 19ms/step - loss: 0.4934 - accuracy: 0.8362 - val_loss: 3.1358 - val_accuracy: 0.4289\n",
            "Epoch 46/50\n",
            "156/156 [==============================] - 3s 18ms/step - loss: 0.5186 - accuracy: 0.8229 - val_loss: 3.6266 - val_accuracy: 0.3896\n",
            "Epoch 47/50\n",
            "156/156 [==============================] - 3s 18ms/step - loss: 0.5029 - accuracy: 0.8326 - val_loss: 3.5955 - val_accuracy: 0.3944\n",
            "Epoch 48/50\n",
            "156/156 [==============================] - 3s 19ms/step - loss: 0.4852 - accuracy: 0.8360 - val_loss: 3.3322 - val_accuracy: 0.4466\n",
            "Epoch 49/50\n",
            "156/156 [==============================] - 3s 19ms/step - loss: 0.4706 - accuracy: 0.8446 - val_loss: 2.9121 - val_accuracy: 0.4835\n",
            "Epoch 50/50\n",
            "156/156 [==============================] - 3s 18ms/step - loss: 0.4411 - accuracy: 0.8565 - val_loss: 2.9268 - val_accuracy: 0.4835\n"
          ]
        }
      ]
    },
    {
      "cell_type": "code",
      "metadata": {
        "id": "ynhS2KjVEhj8",
        "colab": {
          "base_uri": "https://localhost:8080/",
          "height": 54
        },
        "outputId": "cac389cd-8f36-4e2c-9164-b2fc6a380793"
      },
      "source": [
        "acc = history.history['accuracy']\n",
        "val_acc = history.history['val_accuracy']\n",
        "\n",
        "loss = history.history['loss']\n",
        "val_loss = history.history['val_loss']\n",
        "\n",
        "epochs_range = range(epochs)\n",
        "\n",
        "plt.figure(figsize=(8, 8))\n",
        "plt.subplot(1, 2, 1)\n",
        "plt.plot(epochs_range, acc, label='Training Accuracy')\n",
        "plt.plot(epochs_range, val_acc, label='Validation Accuracy')\n",
        "plt.legend(loc='lower right')\n",
        "plt.title('Training and Validation Accuracy')\n",
        "\n",
        "plt.subplot(1, 2, 2)\n",
        "plt.plot(epochs_range, loss, label='Training Loss')\n",
        "plt.plot(epochs_range, val_loss, label='Validation Loss')\n",
        "plt.legend(loc='upper right')\n",
        "plt.title('Training and Validation Loss')\n",
        "plt.show()"
      ],
      "execution_count": null,
      "outputs": [
        {
          "output_type": "display_data",
          "data": {
            "image/png": "[encoded data removed]",
            "text/plain": [
              "<Figure size 576x576 with 2 Axes>"
            ]
          },
          "metadata": {
            "needs_background": "light"
          }
        }
      ]
    },
    {
      "cell_type": "code",
      "metadata": {
        "id": "IbEQMrsAH2yZ",
        "colab": {
          "base_uri": "https://localhost:8080/"
        },
        "outputId": "c2781be0-ad93-47e6-c020-af32ef2799a6"
      },
      "source": [
        "model.compile(\n",
        "    optimizer='adam',\n",
        "    loss=tf.losses.SparseCategoricalCrossentropy(from_logits=True),\n",
        "    metrics=['accuracy'])\n",
        "model.summary()"
      ],
      "execution_count": null,
      "outputs": [
        {
          "output_type": "stream",
          "name": "stdout",
          "text": [
            "Model: \"sequential_2\"\n",
            "_________________________________________________________________\n",
            " Layer (type)                Output Shape              Param #   \n",
            "=================================================================\n",
            " sequential_1 (Sequential)   (None, 180, 180, 1)       0         \n",
            "                                                                 \n",
            " rescaling_2 (Rescaling)     (None, 180, 180, 1)       0         \n",
            "                                                                 \n",
            " conv2d_3 (Conv2D)           (None, 178, 178, 32)      320       \n",
            "                                                                 \n",
            " max_pooling2d_3 (MaxPooling  (None, 89, 89, 32)       0         \n",
            " 2D)                                                             \n",
            "                                                                 \n",
            " conv2d_4 (Conv2D)           (None, 89, 89, 32)        9248      \n",
            "                                                                 \n",
            " max_pooling2d_4 (MaxPooling  (None, 44, 44, 32)       0         \n",
            " 2D)                                                             \n",
            "                                                                 \n",
            " conv2d_5 (Conv2D)           (None, 44, 44, 32)        9248      \n",
            "                                                                 \n",
            " max_pooling2d_5 (MaxPooling  (None, 22, 22, 32)       0         \n",
            " 2D)                                                             \n",
            "                                                                 \n",
            " dropout (Dropout)           (None, 22, 22, 32)        0         \n",
            "                                                                 \n",
            " flatten_1 (Flatten)         (None, 15488)             0         \n",
            "                                                                 \n",
            " dense_7 (Dense)             (None, 128)               1982592   \n",
            "                                                                 \n",
            " batch_normalization_7 (Batc  (None, 128)              512       \n",
            " hNormalization)                                                 \n",
            "                                                                 \n",
            " dense_8 (Dense)             (None, 128)               16512     \n",
            "                                                                 \n",
            " batch_normalization_8 (Batc  (None, 128)              512       \n",
            " hNormalization)                                                 \n",
            "                                                                 \n",
            " dense_9 (Dense)             (None, 128)               16512     \n",
            "                                                                 \n",
            " batch_normalization_9 (Batc  (None, 128)              512       \n",
            " hNormalization)                                                 \n",
            "                                                                 \n",
            " dense_10 (Dense)            (None, 128)               16512     \n",
            "                                                                 \n",
            " batch_normalization_10 (Bat  (None, 128)              512       \n",
            " chNormalization)                                                \n",
            "                                                                 \n",
            " dense_11 (Dense)            (None, 128)               16512     \n",
            "                                                                 \n",
            " batch_normalization_11 (Bat  (None, 128)              512       \n",
            " chNormalization)                                                \n",
            "                                                                 \n",
            " dense_12 (Dense)            (None, 107)               13803     \n",
            "                                                                 \n",
            " batch_normalization_12 (Bat  (None, 107)              428       \n",
            " chNormalization)                                                \n",
            "                                                                 \n",
            " dense_13 (Dense)            (None, 107)               11556     \n",
            "                                                                 \n",
            "=================================================================\n",
            "Total params: 2,095,803\n",
            "Trainable params: 2,094,309\n",
            "Non-trainable params: 1,494\n",
            "_________________________________________________________________\n"
          ]
        }
      ]
    },
    {
      "cell_type": "code",
      "metadata": {
        "id": "df30HUqFjWre"
      },
      "source": [
        ""
      ],
      "execution_count": null,
      "outputs": []
    }
  ]
}