{
  "nbformat": 4,
  "nbformat_minor": 0,
  "metadata": {
    "colab": {
      "name": "3Class_Genus_BatchNormal_Input_dim_Layer_3.ipynb",
      "provenance": [],
      "collapsed_sections": [],
      "mount_file_id": "1HAN8kGVtOXQ5m-oASEooPwpf8BYclryH",
      "authorship_tag": "ABX9TyOnsn46ms9k9nYTSBVSciwc",
      "include_colab_link": true
    },
    "kernelspec": {
      "name": "python3",
      "display_name": "Python 3"
    },
    "language_info": {
      "name": "python"
    },
    "accelerator": "GPU"
  },
  "cells": [
    {
      "cell_type": "markdown",
      "metadata": {
        "id": "view-in-github",
        "colab_type": "text"
      },
      "source": [
        "<a href=\"https://colab.research.google.com/github/Tajyu/Master_Degree_Paper/blob/main/Code/Filter_32/Input_dim/3Class_Genus_BatchNormal_Input_dim_Layer_3.ipynb\" target=\"_parent\"><img src=\"https://colab.research.google.com/assets/colab-badge.svg\" alt=\"Open In Colab\"/></a>"
      ]
    },
    {
      "cell_type": "code",
      "metadata": {
        "id": "yWckd06_68Em"
      },
      "source": [
        "import tensorflow as tf\n",
        "from tensorflow.keras import datasets, layers, models\n",
        "from keras.preprocessing.image import ImageDataGenerator\n",
        "import numpy as np\n",
        "import matplotlib.pyplot as plt\n",
        "import cv2 as cv\n",
        "import os\n",
        "import pathlib\n",
        "import PIL\n",
        "from tensorflow import keras\n",
        "from tensorflow.keras import layers\n",
        "from tensorflow.keras.models import Sequential\n",
        "from tensorflow.keras.layers import Dense, Flatten, BatchNormalization, Dropout"
      ],
      "execution_count": null,
      "outputs": []
    },
    {
      "cell_type": "code",
      "metadata": {
        "id": "xav9zirHttk_"
      },
      "source": [
        "image_list = os.listdir('/content/drive/MyDrive/Colab Notebooks/Final_Project/Cell_Genus')"
      ],
      "execution_count": null,
      "outputs": []
    },
    {
      "cell_type": "code",
      "metadata": {
        "colab": {
          "base_uri": "https://localhost:8080/"
        },
        "id": "K-wD0dM5tx_E",
        "outputId": "86e6f0ea-6e2f-4fc1-8daf-3be03f6427c8"
      },
      "source": [
        "print(image_list)"
      ],
      "execution_count": null,
      "outputs": [
        {
          "output_type": "stream",
          "name": "stdout",
          "text": [
            "['10_Genus_Stauroneis_Ehrenberg', '10_Genus_Staurosira_Ehrenberg', '11_Genus_Craspedostauros_E.J_Cox_1999', '11_Genus_Staurosirella_Williams_and_Round', '12_Genus_Caloneis_Cleve_1894', '12_Genus_Synedra_Ehrenberg', '13_Genus_Pinnularia_Ehrenberg_1843', '1_Genus_Acanthoceras_Honigmann', '1_Genus_Achnanthes_Bory', '1_Genus_Actinocyclus_Ehrenberg', '1_Genus_Aphanocapsa_Nageli_1849', '1_Genus_Asterionella_Hassall', '1_Genus_Aulacoseira', '1_Genus_Biremis_Mann_et_Cox_in_Round_Crawford_and_Mann', '1_Genus_Characium_A_Braun_in_Kutzing_1849', '1_Genus_Chroococcus_Nageli', '1_Genus_Closterium_Nitzsch_ex_Ralfs_1848', '1_Genus_Coelastrum_Nageli_1849', '1_Genus_Cylindrocystis_Meneghini_ex_de_Bary_1858', '1_Genus_Dictyosphaerium_Nageli_1849', '1_Genus_Docidium_Brebisson_ex_Ralfs_1848', '1_Genus_Eunotia_Ehrenberg', '1_Genus_Geitlerinema_(Anagnostidis_et_Komarek)_Anagnostidis_1989', '1_Genus_Gonatozygon_de_Bary_1856', '1_Genus_Hydrodictyon_Roth_1797', '1_Genus_Hydrosera_whampoensis', '1_Genus_Jaaginema_Anagnostidis_et_Komarek_1988', '1_Genus_Lyngbya_C_Agardh_ex_Gomont_1892', '1_Genus_Melosira_Agardh', '1_Genus_Micractinium_Fresenius_1858', '1_Genus_Micrasterias_Ralfs_1848', '1_Genus_Microcystis_Kutzing_ex_Lemmermann_1907', '1_Genus_Oscillatoria_Vaucher_ex_Gomont_1982', '1_Genus_Pediastrum_Meyen_1829', '1_Genus_Penium_Brebisson_ex_Ralfs_in_Ralfs_1848', '1_Genus_Phormidium_Kutzing_ex_Gomont_1892', '1_Genus_Planktothrix_Anagnostidis_et_Komarek_1988', '1_Genus_Pleurosira_laevis_(Ehrenberg)', '1_Genus_Rhizosolenia_Ehrenberg', '1_Genus_Schizochlamydella_Korshikov_1953', '1_Genus_Staurodesmus_Teiling_1848', '1_Genus_Trochiscia_Kutzing_1834', '1_Scenedesmus_Hegewald_1978', '2_Acutodesmus_Hegewald_1978', '2_Genus_Achnanthidium_Kutzing', '2_Genus_Actinastrum_Lagerheim_1882', '2_Genus_Actinella_Lewis', '2_Genus_Ankyra_Fott_1957', '2_Genus_Caloneis_Cleve', '2_Genus_Chaetoceros_Ehrenberg', '2_Genus_Coenochloris_Korshikov_1953', '2_Genus_Cyclotella', '2_Genus_Diatoma_Bory', '2_Genus_Dimorphococcus_A_Braun_1855', '2_Genus_Golenkinia_Chodat_1894', '2_Genus_Haplotaenium_Bando_1988', '2_Genus_Leibleinia_(Gomont)_L_Hoffman_1985', '2_Genus_Leptolyngbya_Anagnostidis_et_Komarek_1988', '2_Genus_Merismopedia_Meyen_1839', '2_Genus_Netrium_(Nageli)_Itzigsohn_et_Rothe_in_Rabenhorst_1856', '2_Genus_Orthoseira_Thwaites_1848', '2_Genus_Phormidium_Kutzing_ex_Gomont_1892', '2_Genus_Sorastrum_Kutzing_1845', '2_Genus_Staurastrum_Meyen_ex_Ralfs_1848', '3_Desmodesmus_Chodat_1926', '3_Genus_Acanthosphaera_Lemmerman_1899', '3_Genus_Anorthoneis_Grunow', '3_Genus_Cyclostephanos_Round', '3_Genus_Dichotomococcus_Korshikov_1928', '3_Genus_Heteroleibleinia_(Geitler)_L_Hoffmann_1985', '3_Genus_Limnothrix_Meffert_1988', '3_Genus_Meridion_Agardh', '3_Genus_Paradoxia_Svirenko_1928', '3_Genus_Peronia_Bebisson_and_Arnott_ex_Kitton', '3_Genus_Phormidiochaete_Komarek_in_Anagnostidis_2001', '3_Genus_Pinnularia_Ehrenberg_1', '3_Genus_Pleurotaenium_Nageli_1849', '3_Genus_Radiococcus_Schmidle_1902', '3_Genus_Snowella_Elenkin_1938', '3_Genus_Spirotaenia_Brebisson_in_Ralfs_1848', '4_Genus_Botryococcus_Kutzing_1849', '4_Genus_Cocconeis_Ehrenberg', '4_Genus_Eutetramorus_Walton_1918', '4_Genus_Leptolyngbya_Anagnostidis_et_Komarek_1988', '4_Genus_Opephora_Petit', '4_Genus_Pinnularia_Ehrenberg_2', '4_Genus_Schroederia_Lemmermann_1898', '4_Genus_Stephanodiscus_Ehrenberg', '4_Genus_Synechocystis_Sauvageau_1892', '4_Genus_Tortitaenia_A_J_Brook_1998', '5_Genus_Caloneis_Cleve', '5_Genus_Coenocystis_Korshikov_1953', '5_Genus_Planktolyngbya_Anagnostidis_et_Komarek_1988', '5_Genus_Tabellaria_Ehrenberg', '5_Genus_Thalassiosira_Cleve', '5_Genus_Woronichinia_Elenkin_1933', '6_Genus_Anomoeoneis_Pfitzer', '6_Genus_Fragilaria_Lyngbye', '6_Genus_Gloeocystis_Nageli_1849', '6_Genus_Pseudanabaena_Lauterborn_1915', '6_Genus_Skeletonema_Greville', '7_Genus_Caloneis_Cleve', '7_Genus_Hannaea_Patrick', '8_Genus_Diploneis(Ehrenberg)_Cleve', '8_Genus_Pseudostaurosira_Williams_and_Round', '9_Genus_Neidium_Pfitzer', '9_Genus_Punctastriata_Williams_and_Round']\n"
          ]
        }
      ]
    },
    {
      "cell_type": "code",
      "metadata": {
        "id": "o-0DvzEHt8VE"
      },
      "source": [
        "data_generator = ImageDataGenerator(rescale = 1./255)\n",
        "\n",
        "data_dir = \"/content/drive/MyDrive/Colab Notebooks/Final_Project/Cell_Genus\""
      ],
      "execution_count": null,
      "outputs": []
    },
    {
      "cell_type": "code",
      "metadata": {
        "id": "7aTCfEm3t10n"
      },
      "source": [
        "batch_size = 32\n",
        "img_height = 180\n",
        "img_width = 180"
      ],
      "execution_count": null,
      "outputs": []
    },
    {
      "cell_type": "code",
      "metadata": {
        "colab": {
          "base_uri": "https://localhost:8080/"
        },
        "id": "9Smg-miEt22s",
        "outputId": "87b3d18a-bce5-4abf-eac8-dc2847ad821d"
      },
      "source": [
        "train_ds = tf.keras.preprocessing.image_dataset_from_directory(\n",
        "  data_dir,\n",
        "  color_mode = \"grayscale\",\n",
        "  validation_split=0.2,\n",
        "  subset=\"training\",\n",
        "  seed=123,\n",
        "  image_size=(img_height, img_width),\n",
        "  batch_size=batch_size)"
      ],
      "execution_count": null,
      "outputs": [
        {
          "output_type": "stream",
          "name": "stdout",
          "text": [
            "Found 6226 files belonging to 107 classes.\n",
            "Using 4981 files for training.\n"
          ]
        }
      ]
    },
    {
      "cell_type": "code",
      "metadata": {
        "colab": {
          "base_uri": "https://localhost:8080/"
        },
        "id": "1nR0WdQGt44x",
        "outputId": "ce33b7b6-3195-4528-e6b9-e5b64582abfc"
      },
      "source": [
        "val_ds = tf.keras.preprocessing.image_dataset_from_directory(\n",
        "  data_dir,\n",
        "  color_mode = \"grayscale\",\n",
        "  validation_split=0.2,\n",
        "  subset=\"validation\",\n",
        "  seed=123,\n",
        "  image_size=(img_height, img_width),\n",
        "  batch_size=batch_size)"
      ],
      "execution_count": null,
      "outputs": [
        {
          "output_type": "stream",
          "name": "stdout",
          "text": [
            "Found 6226 files belonging to 107 classes.\n",
            "Using 1245 files for validation.\n"
          ]
        }
      ]
    },
    {
      "cell_type": "code",
      "metadata": {
        "colab": {
          "base_uri": "https://localhost:8080/"
        },
        "id": "F-cz_CtGug8Y",
        "outputId": "d8bc3252-e8da-4188-cc58-212565ab64fc"
      },
      "source": [
        "class_names = train_ds.class_names\n",
        "print(class_names)"
      ],
      "execution_count": null,
      "outputs": [
        {
          "output_type": "stream",
          "name": "stdout",
          "text": [
            "['10_Genus_Stauroneis_Ehrenberg', '10_Genus_Staurosira_Ehrenberg', '11_Genus_Craspedostauros_E.J_Cox_1999', '11_Genus_Staurosirella_Williams_and_Round', '12_Genus_Caloneis_Cleve_1894', '12_Genus_Synedra_Ehrenberg', '13_Genus_Pinnularia_Ehrenberg_1843', '1_Genus_Acanthoceras_Honigmann', '1_Genus_Achnanthes_Bory', '1_Genus_Actinocyclus_Ehrenberg', '1_Genus_Aphanocapsa_Nageli_1849', '1_Genus_Asterionella_Hassall', '1_Genus_Aulacoseira', '1_Genus_Biremis_Mann_et_Cox_in_Round_Crawford_and_Mann', '1_Genus_Characium_A_Braun_in_Kutzing_1849', '1_Genus_Chroococcus_Nageli', '1_Genus_Closterium_Nitzsch_ex_Ralfs_1848', '1_Genus_Coelastrum_Nageli_1849', '1_Genus_Cylindrocystis_Meneghini_ex_de_Bary_1858', '1_Genus_Dictyosphaerium_Nageli_1849', '1_Genus_Docidium_Brebisson_ex_Ralfs_1848', '1_Genus_Eunotia_Ehrenberg', '1_Genus_Geitlerinema_(Anagnostidis_et_Komarek)_Anagnostidis_1989', '1_Genus_Gonatozygon_de_Bary_1856', '1_Genus_Hydrodictyon_Roth_1797', '1_Genus_Hydrosera_whampoensis', '1_Genus_Jaaginema_Anagnostidis_et_Komarek_1988', '1_Genus_Lyngbya_C_Agardh_ex_Gomont_1892', '1_Genus_Melosira_Agardh', '1_Genus_Micractinium_Fresenius_1858', '1_Genus_Micrasterias_Ralfs_1848', '1_Genus_Microcystis_Kutzing_ex_Lemmermann_1907', '1_Genus_Oscillatoria_Vaucher_ex_Gomont_1982', '1_Genus_Pediastrum_Meyen_1829', '1_Genus_Penium_Brebisson_ex_Ralfs_in_Ralfs_1848', '1_Genus_Phormidium_Kutzing_ex_Gomont_1892', '1_Genus_Planktothrix_Anagnostidis_et_Komarek_1988', '1_Genus_Pleurosira_laevis_(Ehrenberg)', '1_Genus_Rhizosolenia_Ehrenberg', '1_Genus_Schizochlamydella_Korshikov_1953', '1_Genus_Staurodesmus_Teiling_1848', '1_Genus_Trochiscia_Kutzing_1834', '1_Scenedesmus_Hegewald_1978', '2_Acutodesmus_Hegewald_1978', '2_Genus_Achnanthidium_Kutzing', '2_Genus_Actinastrum_Lagerheim_1882', '2_Genus_Actinella_Lewis', '2_Genus_Ankyra_Fott_1957', '2_Genus_Caloneis_Cleve', '2_Genus_Chaetoceros_Ehrenberg', '2_Genus_Coenochloris_Korshikov_1953', '2_Genus_Cyclotella', '2_Genus_Diatoma_Bory', '2_Genus_Dimorphococcus_A_Braun_1855', '2_Genus_Golenkinia_Chodat_1894', '2_Genus_Haplotaenium_Bando_1988', '2_Genus_Leibleinia_(Gomont)_L_Hoffman_1985', '2_Genus_Leptolyngbya_Anagnostidis_et_Komarek_1988', '2_Genus_Merismopedia_Meyen_1839', '2_Genus_Netrium_(Nageli)_Itzigsohn_et_Rothe_in_Rabenhorst_1856', '2_Genus_Orthoseira_Thwaites_1848', '2_Genus_Phormidium_Kutzing_ex_Gomont_1892', '2_Genus_Sorastrum_Kutzing_1845', '2_Genus_Staurastrum_Meyen_ex_Ralfs_1848', '3_Desmodesmus_Chodat_1926', '3_Genus_Acanthosphaera_Lemmerman_1899', '3_Genus_Anorthoneis_Grunow', '3_Genus_Cyclostephanos_Round', '3_Genus_Dichotomococcus_Korshikov_1928', '3_Genus_Heteroleibleinia_(Geitler)_L_Hoffmann_1985', '3_Genus_Limnothrix_Meffert_1988', '3_Genus_Meridion_Agardh', '3_Genus_Paradoxia_Svirenko_1928', '3_Genus_Peronia_Bebisson_and_Arnott_ex_Kitton', '3_Genus_Phormidiochaete_Komarek_in_Anagnostidis_2001', '3_Genus_Pinnularia_Ehrenberg_1', '3_Genus_Pleurotaenium_Nageli_1849', '3_Genus_Radiococcus_Schmidle_1902', '3_Genus_Snowella_Elenkin_1938', '3_Genus_Spirotaenia_Brebisson_in_Ralfs_1848', '4_Genus_Botryococcus_Kutzing_1849', '4_Genus_Cocconeis_Ehrenberg', '4_Genus_Eutetramorus_Walton_1918', '4_Genus_Leptolyngbya_Anagnostidis_et_Komarek_1988', '4_Genus_Opephora_Petit', '4_Genus_Pinnularia_Ehrenberg_2', '4_Genus_Schroederia_Lemmermann_1898', '4_Genus_Stephanodiscus_Ehrenberg', '4_Genus_Synechocystis_Sauvageau_1892', '4_Genus_Tortitaenia_A_J_Brook_1998', '5_Genus_Caloneis_Cleve', '5_Genus_Coenocystis_Korshikov_1953', '5_Genus_Planktolyngbya_Anagnostidis_et_Komarek_1988', '5_Genus_Tabellaria_Ehrenberg', '5_Genus_Thalassiosira_Cleve', '5_Genus_Woronichinia_Elenkin_1933', '6_Genus_Anomoeoneis_Pfitzer', '6_Genus_Fragilaria_Lyngbye', '6_Genus_Gloeocystis_Nageli_1849', '6_Genus_Pseudanabaena_Lauterborn_1915', '6_Genus_Skeletonema_Greville', '7_Genus_Caloneis_Cleve', '7_Genus_Hannaea_Patrick', '8_Genus_Diploneis(Ehrenberg)_Cleve', '8_Genus_Pseudostaurosira_Williams_and_Round', '9_Genus_Neidium_Pfitzer', '9_Genus_Punctastriata_Williams_and_Round']\n"
          ]
        }
      ]
    },
    {
      "cell_type": "code",
      "metadata": {
        "colab": {
          "base_uri": "https://localhost:8080/"
        },
        "id": "5EQOikPAukic",
        "outputId": "07f08a0e-b2aa-448e-8cb7-dd46f3b02aa7"
      },
      "source": [
        "for image_batch, labels_batch in train_ds:\n",
        "  print(image_batch.shape)\n",
        "  print(labels_batch.shape)\n",
        "  break"
      ],
      "execution_count": null,
      "outputs": [
        {
          "output_type": "stream",
          "name": "stdout",
          "text": [
            "(32, 180, 180, 1)\n",
            "(32,)\n"
          ]
        }
      ]
    },
    {
      "cell_type": "code",
      "metadata": {
        "id": "9eVl7tiDux9q"
      },
      "source": [
        "from tensorflow.keras import layers\n",
        "\n",
        "normalization_layer = tf.keras.layers.experimental.preprocessing.Rescaling(1./255)"
      ],
      "execution_count": null,
      "outputs": []
    },
    {
      "cell_type": "code",
      "metadata": {
        "colab": {
          "base_uri": "https://localhost:8080/"
        },
        "id": "AiIrsxzZuzEo",
        "outputId": "3b677fc9-08c2-4aed-bfa4-c4a6dc151133"
      },
      "source": [
        "normalized_ds = train_ds.map(lambda x, y: (normalization_layer(x), y))\n",
        "image_batch, labels_batch = next(iter(normalized_ds))\n",
        "first_image = image_batch[0]\n",
        "# Notice the pixels values are now in `[0,1]`.\n",
        "print(np.min(first_image), np.max(first_image))"
      ],
      "execution_count": null,
      "outputs": [
        {
          "output_type": "stream",
          "name": "stdout",
          "text": [
            "0.0 1.0\n"
          ]
        }
      ]
    },
    {
      "cell_type": "code",
      "metadata": {
        "id": "__WbVabru0Bp"
      },
      "source": [
        "AUTOTUNE = tf.data.experimental.AUTOTUNE\n",
        "\n",
        "train_ds = train_ds.cache().prefetch(buffer_size=AUTOTUNE)\n",
        "val_ds = val_ds.cache().prefetch(buffer_size=AUTOTUNE)"
      ],
      "execution_count": null,
      "outputs": []
    },
    {
      "cell_type": "code",
      "metadata": {
        "id": "g1GeYFXCu2gV"
      },
      "source": [
        "num_classes = 107\n",
        "model = tf.keras.Sequential([\n",
        "    layers.experimental.preprocessing.Rescaling(1./255),\n",
        "    layers.Conv2D(32, 3,input_shape = image_batch, activation='relu'),\n",
        "    layers.MaxPooling2D(),\n",
        "    layers.Conv2D(32, 3, activation='relu'),\n",
        "    layers.MaxPooling2D(),\n",
        "    layers.Conv2D(32, 3, activation='relu'),\n",
        "    layers.MaxPooling2D(),\n",
        "    layers.Flatten(),\n",
        "    BatchNormalization(),\n",
        "    layers.Dense(128, input_dim = 107, activation='relu'),\n",
        "    BatchNormalization(),\n",
        "    layers.Dense(128, activation='relu'),\n",
        "    BatchNormalization(),\n",
        "    layers.Dense(107, activation='softmax'),\n",
        "    BatchNormalization(),\n",
        "    layers.Dense(num_classes)\n",
        "    ])"
      ],
      "execution_count": null,
      "outputs": []
    },
    {
      "cell_type": "code",
      "metadata": {
        "id": "wU4xPAvNYWry"
      },
      "source": [
        "model.compile(\n",
        "    optimizer='adam',\n",
        "    loss=tf.losses.SparseCategoricalCrossentropy(from_logits=True),\n",
        "    metrics=['accuracy'])"
      ],
      "execution_count": null,
      "outputs": []
    },
    {
      "cell_type": "code",
      "metadata": {
        "colab": {
          "base_uri": "https://localhost:8080/"
        },
        "id": "Tk8ssrbHu44p",
        "outputId": "9e219f70-658f-464f-8838-0414dd7263bd"
      },
      "source": [
        "epochs=50\n",
        "history = model.fit(\n",
        "  train_ds,\n",
        "  validation_data=val_ds,\n",
        "  epochs=epochs\n",
        ")"
      ],
      "execution_count": null,
      "outputs": [
        {
          "output_type": "stream",
          "name": "stdout",
          "text": [
            "Epoch 1/50\n",
            "156/156 [==============================] - 699s 4s/step - loss: 3.2233 - accuracy: 0.3118 - val_loss: 4.2671 - val_accuracy: 0.1084\n",
            "Epoch 2/50\n",
            "156/156 [==============================] - 3s 16ms/step - loss: 2.0074 - accuracy: 0.4937 - val_loss: 3.8427 - val_accuracy: 0.2080\n",
            "Epoch 3/50\n",
            "156/156 [==============================] - 2s 16ms/step - loss: 1.3456 - accuracy: 0.6611 - val_loss: 3.2478 - val_accuracy: 0.3406\n",
            "Epoch 4/50\n",
            "156/156 [==============================] - 2s 16ms/step - loss: 0.8709 - accuracy: 0.7948 - val_loss: 2.3748 - val_accuracy: 0.4217\n",
            "Epoch 5/50\n",
            "156/156 [==============================] - 3s 16ms/step - loss: 0.5640 - accuracy: 0.8685 - val_loss: 2.1125 - val_accuracy: 0.4884\n",
            "Epoch 6/50\n",
            "156/156 [==============================] - 2s 16ms/step - loss: 0.3680 - accuracy: 0.9229 - val_loss: 2.1002 - val_accuracy: 0.5213\n",
            "Epoch 7/50\n",
            "156/156 [==============================] - 2s 16ms/step - loss: 0.2223 - accuracy: 0.9611 - val_loss: 2.0225 - val_accuracy: 0.5189\n",
            "Epoch 8/50\n",
            "156/156 [==============================] - 3s 16ms/step - loss: 0.1375 - accuracy: 0.9799 - val_loss: 2.1054 - val_accuracy: 0.5205\n",
            "Epoch 9/50\n",
            "156/156 [==============================] - 2s 16ms/step - loss: 0.0815 - accuracy: 0.9890 - val_loss: 2.1356 - val_accuracy: 0.5197\n",
            "Epoch 10/50\n",
            "156/156 [==============================] - 2s 16ms/step - loss: 0.0522 - accuracy: 0.9942 - val_loss: 2.1996 - val_accuracy: 0.5116\n",
            "Epoch 11/50\n",
            "156/156 [==============================] - 3s 16ms/step - loss: 0.0368 - accuracy: 0.9950 - val_loss: 2.1870 - val_accuracy: 0.5245\n",
            "Epoch 12/50\n",
            "156/156 [==============================] - 3s 16ms/step - loss: 0.0244 - accuracy: 0.9970 - val_loss: 2.2308 - val_accuracy: 0.5173\n",
            "Epoch 13/50\n",
            "156/156 [==============================] - 2s 16ms/step - loss: 0.0167 - accuracy: 0.9988 - val_loss: 2.2368 - val_accuracy: 0.5229\n",
            "Epoch 14/50\n",
            "156/156 [==============================] - 2s 16ms/step - loss: 0.0119 - accuracy: 0.9994 - val_loss: 2.2656 - val_accuracy: 0.5181\n",
            "Epoch 15/50\n",
            "156/156 [==============================] - 3s 16ms/step - loss: 0.0113 - accuracy: 0.9988 - val_loss: 2.2905 - val_accuracy: 0.5173\n",
            "Epoch 16/50\n",
            "156/156 [==============================] - 2s 16ms/step - loss: 0.0103 - accuracy: 0.9988 - val_loss: 2.3375 - val_accuracy: 0.5269\n",
            "Epoch 17/50\n",
            "156/156 [==============================] - 3s 16ms/step - loss: 0.0091 - accuracy: 0.9992 - val_loss: 2.3719 - val_accuracy: 0.5149\n",
            "Epoch 18/50\n",
            "156/156 [==============================] - 2s 16ms/step - loss: 0.0068 - accuracy: 0.9994 - val_loss: 2.3783 - val_accuracy: 0.5116\n",
            "Epoch 19/50\n",
            "156/156 [==============================] - 3s 16ms/step - loss: 0.0063 - accuracy: 0.9990 - val_loss: 2.4228 - val_accuracy: 0.5293\n",
            "Epoch 20/50\n",
            "156/156 [==============================] - 2s 16ms/step - loss: 0.0050 - accuracy: 0.9996 - val_loss: 2.4174 - val_accuracy: 0.5253\n",
            "Epoch 21/50\n",
            "156/156 [==============================] - 2s 16ms/step - loss: 0.0037 - accuracy: 1.0000 - val_loss: 2.4208 - val_accuracy: 0.5245\n",
            "Epoch 22/50\n",
            "156/156 [==============================] - 2s 16ms/step - loss: 0.0028 - accuracy: 1.0000 - val_loss: 2.4434 - val_accuracy: 0.5333\n",
            "Epoch 23/50\n",
            "156/156 [==============================] - 2s 16ms/step - loss: 0.0024 - accuracy: 1.0000 - val_loss: 2.4698 - val_accuracy: 0.5317\n",
            "Epoch 24/50\n",
            "156/156 [==============================] - 3s 16ms/step - loss: 0.0023 - accuracy: 0.9998 - val_loss: 2.5463 - val_accuracy: 0.5269\n",
            "Epoch 25/50\n",
            "156/156 [==============================] - 2s 16ms/step - loss: 0.0022 - accuracy: 1.0000 - val_loss: 2.5081 - val_accuracy: 0.5357\n",
            "Epoch 26/50\n",
            "156/156 [==============================] - 2s 16ms/step - loss: 0.0019 - accuracy: 1.0000 - val_loss: 2.5251 - val_accuracy: 0.5325\n",
            "Epoch 27/50\n",
            "156/156 [==============================] - 2s 16ms/step - loss: 0.0024 - accuracy: 0.9996 - val_loss: 2.5608 - val_accuracy: 0.5349\n",
            "Epoch 28/50\n",
            "156/156 [==============================] - 3s 16ms/step - loss: 0.0015 - accuracy: 1.0000 - val_loss: 2.5838 - val_accuracy: 0.5341\n",
            "Epoch 29/50\n",
            "156/156 [==============================] - 2s 16ms/step - loss: 0.0027 - accuracy: 0.9996 - val_loss: 2.8220 - val_accuracy: 0.5052\n",
            "Epoch 30/50\n",
            "156/156 [==============================] - 3s 16ms/step - loss: 0.5936 - accuracy: 0.8440 - val_loss: 8.3108 - val_accuracy: 0.1775\n",
            "Epoch 31/50\n",
            "156/156 [==============================] - 2s 16ms/step - loss: 0.8540 - accuracy: 0.7569 - val_loss: 3.3071 - val_accuracy: 0.4361\n",
            "Epoch 32/50\n",
            "156/156 [==============================] - 2s 16ms/step - loss: 0.1957 - accuracy: 0.9518 - val_loss: 2.3609 - val_accuracy: 0.5149\n",
            "Epoch 33/50\n",
            "156/156 [==============================] - 2s 16ms/step - loss: 0.0441 - accuracy: 0.9948 - val_loss: 2.3314 - val_accuracy: 0.5317\n",
            "Epoch 34/50\n",
            "156/156 [==============================] - 2s 16ms/step - loss: 0.0151 - accuracy: 0.9996 - val_loss: 2.3673 - val_accuracy: 0.5317\n",
            "Epoch 35/50\n",
            "156/156 [==============================] - 2s 16ms/step - loss: 0.0088 - accuracy: 1.0000 - val_loss: 2.3995 - val_accuracy: 0.5301\n",
            "Epoch 36/50\n",
            "156/156 [==============================] - 2s 16ms/step - loss: 0.0064 - accuracy: 1.0000 - val_loss: 2.4366 - val_accuracy: 0.5309\n",
            "Epoch 37/50\n",
            "156/156 [==============================] - 2s 16ms/step - loss: 0.0051 - accuracy: 1.0000 - val_loss: 2.4683 - val_accuracy: 0.5293\n",
            "Epoch 38/50\n",
            "156/156 [==============================] - 2s 16ms/step - loss: 0.0042 - accuracy: 1.0000 - val_loss: 2.4969 - val_accuracy: 0.5293\n",
            "Epoch 39/50\n",
            "156/156 [==============================] - 2s 16ms/step - loss: 0.0036 - accuracy: 1.0000 - val_loss: 2.5232 - val_accuracy: 0.5301\n",
            "Epoch 40/50\n",
            "156/156 [==============================] - 2s 16ms/step - loss: 0.0031 - accuracy: 1.0000 - val_loss: 2.5469 - val_accuracy: 0.5309\n",
            "Epoch 41/50\n",
            "156/156 [==============================] - 2s 16ms/step - loss: 0.0027 - accuracy: 1.0000 - val_loss: 2.5701 - val_accuracy: 0.5309\n",
            "Epoch 42/50\n",
            "156/156 [==============================] - 2s 16ms/step - loss: 0.0023 - accuracy: 1.0000 - val_loss: 2.5931 - val_accuracy: 0.5301\n",
            "Epoch 43/50\n",
            "156/156 [==============================] - 2s 16ms/step - loss: 0.0021 - accuracy: 1.0000 - val_loss: 2.6149 - val_accuracy: 0.5301\n",
            "Epoch 44/50\n",
            "156/156 [==============================] - 3s 16ms/step - loss: 0.0018 - accuracy: 1.0000 - val_loss: 2.6364 - val_accuracy: 0.5293\n",
            "Epoch 45/50\n",
            "156/156 [==============================] - 2s 16ms/step - loss: 0.0016 - accuracy: 1.0000 - val_loss: 2.6569 - val_accuracy: 0.5285\n",
            "Epoch 46/50\n",
            "156/156 [==============================] - 3s 16ms/step - loss: 0.0015 - accuracy: 1.0000 - val_loss: 2.6775 - val_accuracy: 0.5277\n",
            "Epoch 47/50\n",
            "156/156 [==============================] - 3s 16ms/step - loss: 0.0013 - accuracy: 1.0000 - val_loss: 2.6971 - val_accuracy: 0.5269\n",
            "Epoch 48/50\n",
            "156/156 [==============================] - 3s 16ms/step - loss: 0.0012 - accuracy: 1.0000 - val_loss: 2.7166 - val_accuracy: 0.5261\n",
            "Epoch 49/50\n",
            "156/156 [==============================] - 3s 16ms/step - loss: 0.0011 - accuracy: 1.0000 - val_loss: 2.7359 - val_accuracy: 0.5253\n",
            "Epoch 50/50\n",
            "156/156 [==============================] - 3s 16ms/step - loss: 9.5802e-04 - accuracy: 1.0000 - val_loss: 2.7549 - val_accuracy: 0.5237\n"
          ]
        }
      ]
    },
    {
      "cell_type": "code",
      "metadata": {
        "colab": {
          "base_uri": "https://localhost:8080/",
          "height": 499
        },
        "id": "f1z_vHocu59c",
        "outputId": "6cb1e2b0-a702-4128-c2cb-fc5754ff9da4"
      },
      "source": [
        "acc = history.history['accuracy']\n",
        "val_acc = history.history['val_accuracy']\n",
        "\n",
        "loss=history.history['loss']\n",
        "val_loss=history.history['val_loss']\n",
        "\n",
        "epochs_range = range(epochs)\n",
        "\n",
        "plt.figure(figsize=(8, 8))\n",
        "plt.subplot(1, 2, 1)\n",
        "plt.plot(epochs_range, acc, label='Training Accuracy')\n",
        "plt.plot(epochs_range, val_acc, label='Validation Accuracy')\n",
        "plt.legend(loc='lower right')\n",
        "plt.title('Training and Validation Accuracy')\n",
        "\n",
        "plt.subplot(1, 2, 2)\n",
        "plt.plot(epochs_range, loss, label='Training Loss')\n",
        "plt.plot(epochs_range, val_loss, label='Validation Loss')\n",
        "plt.legend(loc='upper right')\n",
        "plt.title('Training and Validation Loss')\n",
        "plt.show()"
      ],
      "execution_count": null,
      "outputs": [
        {
          "output_type": "display_data",
          "data": {
            "image/png": "[encoded data removed]",
            "text/plain": [
              "<Figure size 576x576 with 2 Axes>"
            ]
          },
          "metadata": {
            "needs_background": "light"
          }
        }
      ]
    },
    {
      "cell_type": "code",
      "metadata": {
        "id": "XinJ6xXD9YNO"
      },
      "source": [
        "data_augmentation = keras.Sequential(\n",
        "  [\n",
        "    layers.experimental.preprocessing.RandomFlip(\"horizontal\", \n",
        "                                                 input_shape=(img_height, \n",
        "                                                              img_width,\n",
        "                                                              1)),\n",
        "    layers.experimental.preprocessing.RandomRotation(0.1),\n",
        "    layers.experimental.preprocessing.RandomZoom(0.1),\n",
        "  ]\n",
        ")"
      ],
      "execution_count": null,
      "outputs": []
    },
    {
      "cell_type": "code",
      "metadata": {
        "id": "8WT2BYElEYZj"
      },
      "source": [
        "model = Sequential([\n",
        "  data_augmentation,\n",
        "  layers.experimental.preprocessing.Rescaling(1./255),\n",
        "  layers.Conv2D(32, 3,input_shape = image_batch, activation='relu'),\n",
        "  layers.MaxPooling2D(),\n",
        "  layers.Conv2D(32, 3, padding='same', activation='relu'),\n",
        "  layers.MaxPooling2D(),\n",
        "  layers.Conv2D(32, 3, padding='same', activation='relu'),\n",
        "  layers.MaxPooling2D(),\n",
        "  layers.Dropout(0.2),\n",
        "  layers.Flatten(),\n",
        "  layers.Dense(128, input_dim = 107, activation='relu'),\n",
        "  BatchNormalization(),\n",
        "  layers.Dense(128, activation='relu'),\n",
        "  BatchNormalization(),\n",
        "  layers.Dense(107, activation='softmax'),\n",
        "  BatchNormalization(),\n",
        "  layers.Dense(num_classes)\n",
        "])"
      ],
      "execution_count": null,
      "outputs": []
    },
    {
      "cell_type": "code",
      "metadata": {
        "id": "opOHP3auEdsw",
        "colab": {
          "base_uri": "https://localhost:8080/"
        },
        "outputId": "691b9d73-d1ce-46bc-db77-1465f60b6cbe"
      },
      "source": [
        "BatchNormalization(),model.compile(\n",
        "    optimizer='adam',\n",
        "    loss=tf.losses.SparseCategoricalCrossentropy(from_logits=True),\n",
        "    metrics=['accuracy'])"
      ],
      "execution_count": null,
      "outputs": [
        {
          "output_type": "execute_result",
          "data": {
            "text/plain": [
              "(<keras.layers.normalization.batch_normalization.BatchNormalization at 0x7feb6b667210>,\n",
              " None)"
            ]
          },
          "metadata": {},
          "execution_count": 19
        }
      ]
    },
    {
      "cell_type": "code",
      "metadata": {
        "colab": {
          "base_uri": "https://localhost:8080/"
        },
        "id": "3Ay4tlHlEfBX",
        "outputId": "71c5fab4-703a-43e0-e2ab-4f6b90f7d6f2"
      },
      "source": [
        "model.summary()"
      ],
      "execution_count": null,
      "outputs": [
        {
          "output_type": "stream",
          "name": "stdout",
          "text": [
            "Model: \"sequential_2\"\n",
            "_________________________________________________________________\n",
            " Layer (type)                Output Shape              Param #   \n",
            "=================================================================\n",
            " sequential_1 (Sequential)   (None, 180, 180, 1)       0         \n",
            "                                                                 \n",
            " rescaling_2 (Rescaling)     (None, 180, 180, 1)       0         \n",
            "                                                                 \n",
            " conv2d_3 (Conv2D)           (None, 178, 178, 32)      320       \n",
            "                                                                 \n",
            " max_pooling2d_3 (MaxPooling  (None, 89, 89, 32)       0         \n",
            " 2D)                                                             \n",
            "                                                                 \n",
            " conv2d_4 (Conv2D)           (None, 89, 89, 32)        9248      \n",
            "                                                                 \n",
            " max_pooling2d_4 (MaxPooling  (None, 44, 44, 32)       0         \n",
            " 2D)                                                             \n",
            "                                                                 \n",
            " conv2d_5 (Conv2D)           (None, 44, 44, 32)        9248      \n",
            "                                                                 \n",
            " max_pooling2d_5 (MaxPooling  (None, 22, 22, 32)       0         \n",
            " 2D)                                                             \n",
            "                                                                 \n",
            " dropout (Dropout)           (None, 22, 22, 32)        0         \n",
            "                                                                 \n",
            " flatten_1 (Flatten)         (None, 15488)             0         \n",
            "                                                                 \n",
            " dense_4 (Dense)             (None, 128)               1982592   \n",
            "                                                                 \n",
            " batch_normalization_4 (Batc  (None, 128)              512       \n",
            " hNormalization)                                                 \n",
            "                                                                 \n",
            " dense_5 (Dense)             (None, 128)               16512     \n",
            "                                                                 \n",
            " batch_normalization_5 (Batc  (None, 128)              512       \n",
            " hNormalization)                                                 \n",
            "                                                                 \n",
            " dense_6 (Dense)             (None, 107)               13803     \n",
            "                                                                 \n",
            " batch_normalization_6 (Batc  (None, 107)              428       \n",
            " hNormalization)                                                 \n",
            "                                                                 \n",
            " dense_7 (Dense)             (None, 107)               11556     \n",
            "                                                                 \n",
            "=================================================================\n",
            "Total params: 2,044,731\n",
            "Trainable params: 2,044,005\n",
            "Non-trainable params: 726\n",
            "_________________________________________________________________\n"
          ]
        }
      ]
    },
    {
      "cell_type": "code",
      "metadata": {
        "colab": {
          "base_uri": "https://localhost:8080/"
        },
        "id": "Jc8rD_v9Ef41",
        "outputId": "e16e9568-1be3-44d6-a720-98fdbf6c80c5"
      },
      "source": [
        "epochs = 50\n",
        "history = model.fit(\n",
        "  train_ds,\n",
        "  validation_data=val_ds,\n",
        "  epochs=epochs\n",
        ")"
      ],
      "execution_count": null,
      "outputs": [
        {
          "output_type": "stream",
          "name": "stdout",
          "text": [
            "Epoch 1/50\n",
            "156/156 [==============================] - 5s 21ms/step - loss: 3.5767 - accuracy: 0.2182 - val_loss: 4.1643 - val_accuracy: 0.0980\n",
            "Epoch 2/50\n",
            "156/156 [==============================] - 3s 19ms/step - loss: 2.5937 - accuracy: 0.3395 - val_loss: 3.7151 - val_accuracy: 0.2297\n",
            "Epoch 3/50\n",
            "156/156 [==============================] - 3s 18ms/step - loss: 2.2737 - accuracy: 0.3869 - val_loss: 2.9798 - val_accuracy: 0.3269\n",
            "Epoch 4/50\n",
            "156/156 [==============================] - 3s 18ms/step - loss: 2.0873 - accuracy: 0.4204 - val_loss: 2.9095 - val_accuracy: 0.3245\n",
            "Epoch 5/50\n",
            "156/156 [==============================] - 3s 18ms/step - loss: 1.9332 - accuracy: 0.4497 - val_loss: 3.4286 - val_accuracy: 0.2932\n",
            "Epoch 6/50\n",
            "156/156 [==============================] - 3s 18ms/step - loss: 1.8178 - accuracy: 0.4740 - val_loss: 2.7217 - val_accuracy: 0.3847\n",
            "Epoch 7/50\n",
            "156/156 [==============================] - 3s 18ms/step - loss: 1.7063 - accuracy: 0.4979 - val_loss: 3.1615 - val_accuracy: 0.3470\n",
            "Epoch 8/50\n",
            "156/156 [==============================] - 3s 18ms/step - loss: 1.6373 - accuracy: 0.5107 - val_loss: 3.0817 - val_accuracy: 0.3486\n",
            "Epoch 9/50\n",
            "156/156 [==============================] - 3s 18ms/step - loss: 1.5332 - accuracy: 0.5447 - val_loss: 2.5632 - val_accuracy: 0.3880\n",
            "Epoch 10/50\n",
            "156/156 [==============================] - 3s 18ms/step - loss: 1.4567 - accuracy: 0.5525 - val_loss: 2.7758 - val_accuracy: 0.3888\n",
            "Epoch 11/50\n",
            "156/156 [==============================] - 3s 18ms/step - loss: 1.3881 - accuracy: 0.5740 - val_loss: 2.6384 - val_accuracy: 0.3952\n",
            "Epoch 12/50\n",
            "156/156 [==============================] - 3s 18ms/step - loss: 1.3205 - accuracy: 0.5935 - val_loss: 2.6791 - val_accuracy: 0.4040\n",
            "Epoch 13/50\n",
            "156/156 [==============================] - 3s 18ms/step - loss: 1.2744 - accuracy: 0.6043 - val_loss: 2.9352 - val_accuracy: 0.3855\n",
            "Epoch 14/50\n",
            "156/156 [==============================] - 3s 18ms/step - loss: 1.2010 - accuracy: 0.6232 - val_loss: 2.5695 - val_accuracy: 0.4281\n",
            "Epoch 15/50\n",
            "156/156 [==============================] - 3s 18ms/step - loss: 1.1697 - accuracy: 0.6330 - val_loss: 2.4775 - val_accuracy: 0.4378\n",
            "Epoch 16/50\n",
            "156/156 [==============================] - 3s 18ms/step - loss: 1.1296 - accuracy: 0.6342 - val_loss: 2.3458 - val_accuracy: 0.4683\n",
            "Epoch 17/50\n",
            "156/156 [==============================] - 3s 18ms/step - loss: 1.0683 - accuracy: 0.6665 - val_loss: 2.4366 - val_accuracy: 0.4594\n",
            "Epoch 18/50\n",
            "156/156 [==============================] - 3s 18ms/step - loss: 1.0258 - accuracy: 0.6742 - val_loss: 2.8088 - val_accuracy: 0.4024\n",
            "Epoch 19/50\n",
            "156/156 [==============================] - 3s 18ms/step - loss: 1.0009 - accuracy: 0.6770 - val_loss: 2.7738 - val_accuracy: 0.4209\n",
            "Epoch 20/50\n",
            "156/156 [==============================] - 3s 18ms/step - loss: 0.9619 - accuracy: 0.6874 - val_loss: 2.6843 - val_accuracy: 0.4618\n",
            "Epoch 21/50\n",
            "156/156 [==============================] - 3s 18ms/step - loss: 0.9275 - accuracy: 0.7029 - val_loss: 2.5215 - val_accuracy: 0.4651\n",
            "Epoch 22/50\n",
            "156/156 [==============================] - 3s 18ms/step - loss: 0.9079 - accuracy: 0.7057 - val_loss: 2.7278 - val_accuracy: 0.4506\n",
            "Epoch 23/50\n",
            "156/156 [==============================] - 3s 18ms/step - loss: 0.8416 - accuracy: 0.7254 - val_loss: 2.5508 - val_accuracy: 0.4627\n",
            "Epoch 24/50\n",
            "156/156 [==============================] - 3s 18ms/step - loss: 0.8120 - accuracy: 0.7344 - val_loss: 2.7030 - val_accuracy: 0.4281\n",
            "Epoch 25/50\n",
            "156/156 [==============================] - 3s 18ms/step - loss: 0.8145 - accuracy: 0.7346 - val_loss: 2.7439 - val_accuracy: 0.4683\n",
            "Epoch 26/50\n",
            "156/156 [==============================] - 3s 18ms/step - loss: 0.7627 - accuracy: 0.7531 - val_loss: 2.4515 - val_accuracy: 0.4940\n",
            "Epoch 27/50\n",
            "156/156 [==============================] - 3s 18ms/step - loss: 0.7404 - accuracy: 0.7521 - val_loss: 2.4816 - val_accuracy: 0.4988\n",
            "Epoch 28/50\n",
            "156/156 [==============================] - 3s 18ms/step - loss: 0.7274 - accuracy: 0.7623 - val_loss: 2.3794 - val_accuracy: 0.5141\n",
            "Epoch 29/50\n",
            "156/156 [==============================] - 3s 18ms/step - loss: 0.6756 - accuracy: 0.7717 - val_loss: 2.8540 - val_accuracy: 0.4506\n",
            "Epoch 30/50\n",
            "156/156 [==============================] - 3s 18ms/step - loss: 0.6821 - accuracy: 0.7790 - val_loss: 2.7409 - val_accuracy: 0.4610\n",
            "Epoch 31/50\n",
            "156/156 [==============================] - 3s 18ms/step - loss: 0.6732 - accuracy: 0.7798 - val_loss: 2.7172 - val_accuracy: 0.4795\n",
            "Epoch 32/50\n",
            "156/156 [==============================] - 3s 18ms/step - loss: 0.6365 - accuracy: 0.7898 - val_loss: 2.5177 - val_accuracy: 0.4988\n",
            "Epoch 33/50\n",
            "156/156 [==============================] - 3s 18ms/step - loss: 0.6044 - accuracy: 0.7956 - val_loss: 2.7263 - val_accuracy: 0.4900\n",
            "Epoch 34/50\n",
            "156/156 [==============================] - 3s 18ms/step - loss: 0.5873 - accuracy: 0.8069 - val_loss: 2.5257 - val_accuracy: 0.5036\n",
            "Epoch 35/50\n",
            "156/156 [==============================] - 3s 18ms/step - loss: 0.5757 - accuracy: 0.8083 - val_loss: 2.7263 - val_accuracy: 0.4876\n",
            "Epoch 36/50\n",
            "156/156 [==============================] - 3s 18ms/step - loss: 0.5421 - accuracy: 0.8199 - val_loss: 2.4106 - val_accuracy: 0.5173\n",
            "Epoch 37/50\n",
            "156/156 [==============================] - 3s 18ms/step - loss: 0.5478 - accuracy: 0.8165 - val_loss: 2.6630 - val_accuracy: 0.4996\n",
            "Epoch 38/50\n",
            "156/156 [==============================] - 3s 18ms/step - loss: 0.5373 - accuracy: 0.8185 - val_loss: 2.7126 - val_accuracy: 0.4996\n",
            "Epoch 39/50\n",
            "156/156 [==============================] - 3s 18ms/step - loss: 0.5145 - accuracy: 0.8273 - val_loss: 2.8086 - val_accuracy: 0.4908\n",
            "Epoch 40/50\n",
            "156/156 [==============================] - 3s 18ms/step - loss: 0.5026 - accuracy: 0.8340 - val_loss: 2.7021 - val_accuracy: 0.5133\n",
            "Epoch 41/50\n",
            "156/156 [==============================] - 3s 18ms/step - loss: 0.4884 - accuracy: 0.8352 - val_loss: 2.5342 - val_accuracy: 0.5341\n",
            "Epoch 42/50\n",
            "156/156 [==============================] - 3s 18ms/step - loss: 0.4751 - accuracy: 0.8492 - val_loss: 3.3959 - val_accuracy: 0.4586\n",
            "Epoch 43/50\n",
            "156/156 [==============================] - 3s 18ms/step - loss: 0.4702 - accuracy: 0.8414 - val_loss: 3.3666 - val_accuracy: 0.4297\n",
            "Epoch 44/50\n",
            "156/156 [==============================] - 3s 18ms/step - loss: 0.4573 - accuracy: 0.8462 - val_loss: 3.2666 - val_accuracy: 0.4731\n",
            "Epoch 45/50\n",
            "156/156 [==============================] - 3s 18ms/step - loss: 0.4409 - accuracy: 0.8524 - val_loss: 2.8734 - val_accuracy: 0.4851\n",
            "Epoch 46/50\n",
            "156/156 [==============================] - 3s 18ms/step - loss: 0.4406 - accuracy: 0.8613 - val_loss: 3.8811 - val_accuracy: 0.4024\n",
            "Epoch 47/50\n",
            "156/156 [==============================] - 3s 18ms/step - loss: 0.4247 - accuracy: 0.8685 - val_loss: 3.1824 - val_accuracy: 0.4795\n",
            "Epoch 48/50\n",
            "156/156 [==============================] - 3s 18ms/step - loss: 0.4326 - accuracy: 0.8617 - val_loss: 3.0226 - val_accuracy: 0.4956\n",
            "Epoch 49/50\n",
            "156/156 [==============================] - 3s 18ms/step - loss: 0.4093 - accuracy: 0.8649 - val_loss: 2.8238 - val_accuracy: 0.5044\n",
            "Epoch 50/50\n",
            "156/156 [==============================] - 3s 18ms/step - loss: 0.3788 - accuracy: 0.8739 - val_loss: 3.0320 - val_accuracy: 0.4892\n"
          ]
        }
      ]
    },
    {
      "cell_type": "code",
      "metadata": {
        "colab": {
          "base_uri": "https://localhost:8080/",
          "height": 499
        },
        "id": "ynhS2KjVEhj8",
        "outputId": "14879e46-89ee-4fa3-c328-d4ff68767ae4"
      },
      "source": [
        "acc = history.history['accuracy']\n",
        "val_acc = history.history['val_accuracy']\n",
        "\n",
        "loss = history.history['loss']\n",
        "val_loss = history.history['val_loss']\n",
        "\n",
        "epochs_range = range(epochs)\n",
        "\n",
        "plt.figure(figsize=(8, 8))\n",
        "plt.subplot(1, 2, 1)\n",
        "plt.plot(epochs_range, acc, label='Training Accuracy')\n",
        "plt.plot(epochs_range, val_acc, label='Validation Accuracy')\n",
        "plt.legend(loc='lower right')\n",
        "plt.title('Training and Validation Accuracy')\n",
        "\n",
        "plt.subplot(1, 2, 2)\n",
        "plt.plot(epochs_range, loss, label='Training Loss')\n",
        "plt.plot(epochs_range, val_loss, label='Validation Loss')\n",
        "plt.legend(loc='upper right')\n",
        "plt.title('Training and Validation Loss')\n",
        "plt.show()"
      ],
      "execution_count": null,
      "outputs": [
        {
          "output_type": "display_data",
          "data": {
            "image/png": "[encoded data removed]",
            "text/plain": [
              "<Figure size 576x576 with 2 Axes>"
            ]
          },
          "metadata": {
            "needs_background": "light"
          }
        }
      ]
    },
    {
      "cell_type": "code",
      "metadata": {
        "colab": {
          "base_uri": "https://localhost:8080/"
        },
        "id": "IbEQMrsAH2yZ",
        "outputId": "7a9e2de5-b53e-46fd-aea0-a17877fc2841"
      },
      "source": [
        "model.compile(\n",
        "    optimizer='adam',\n",
        "    loss=tf.losses.SparseCategoricalCrossentropy(from_logits=True),\n",
        "    metrics=['accuracy'])\n",
        "model.summary()"
      ],
      "execution_count": null,
      "outputs": [
        {
          "output_type": "stream",
          "name": "stdout",
          "text": [
            "Model: \"sequential_2\"\n",
            "_________________________________________________________________\n",
            " Layer (type)                Output Shape              Param #   \n",
            "=================================================================\n",
            " sequential_1 (Sequential)   (None, 180, 180, 1)       0         \n",
            "                                                                 \n",
            " rescaling_2 (Rescaling)     (None, 180, 180, 1)       0         \n",
            "                                                                 \n",
            " conv2d_3 (Conv2D)           (None, 178, 178, 32)      320       \n",
            "                                                                 \n",
            " max_pooling2d_3 (MaxPooling  (None, 89, 89, 32)       0         \n",
            " 2D)                                                             \n",
            "                                                                 \n",
            " conv2d_4 (Conv2D)           (None, 89, 89, 32)        9248      \n",
            "                                                                 \n",
            " max_pooling2d_4 (MaxPooling  (None, 44, 44, 32)       0         \n",
            " 2D)                                                             \n",
            "                                                                 \n",
            " conv2d_5 (Conv2D)           (None, 44, 44, 32)        9248      \n",
            "                                                                 \n",
            " max_pooling2d_5 (MaxPooling  (None, 22, 22, 32)       0         \n",
            " 2D)                                                             \n",
            "                                                                 \n",
            " dropout (Dropout)           (None, 22, 22, 32)        0         \n",
            "                                                                 \n",
            " flatten_1 (Flatten)         (None, 15488)             0         \n",
            "                                                                 \n",
            " dense_4 (Dense)             (None, 128)               1982592   \n",
            "                                                                 \n",
            " batch_normalization_4 (Batc  (None, 128)              512       \n",
            " hNormalization)                                                 \n",
            "                                                                 \n",
            " dense_5 (Dense)             (None, 128)               16512     \n",
            "                                                                 \n",
            " batch_normalization_5 (Batc  (None, 128)              512       \n",
            " hNormalization)                                                 \n",
            "                                                                 \n",
            " dense_6 (Dense)             (None, 107)               13803     \n",
            "                                                                 \n",
            " batch_normalization_6 (Batc  (None, 107)              428       \n",
            " hNormalization)                                                 \n",
            "                                                                 \n",
            " dense_7 (Dense)             (None, 107)               11556     \n",
            "                                                                 \n",
            "=================================================================\n",
            "Total params: 2,044,731\n",
            "Trainable params: 2,044,005\n",
            "Non-trainable params: 726\n",
            "_________________________________________________________________\n"
          ]
        }
      ]
    },
    {
      "cell_type": "code",
      "metadata": {
        "id": "df30HUqFjWre"
      },
      "source": [
        ""
      ],
      "execution_count": null,
      "outputs": []
    }
  ]
}