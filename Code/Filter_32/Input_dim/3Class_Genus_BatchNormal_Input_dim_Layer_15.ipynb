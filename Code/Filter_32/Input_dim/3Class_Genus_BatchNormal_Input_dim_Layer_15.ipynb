{
  "nbformat": 4,
  "nbformat_minor": 0,
  "metadata": {
    "colab": {
      "name": "3Class_Genus_BatchNormal_Input_dim_Layer_15.ipynb",
      "provenance": [],
      "collapsed_sections": [],
      "mount_file_id": "1xMaPadpODze8PwYg8WDaV17HWkGlUNJG",
      "authorship_tag": "ABX9TyPIW37+2vciL96xUQ12pR5r",
      "include_colab_link": true
    },
    "kernelspec": {
      "name": "python3",
      "display_name": "Python 3"
    },
    "language_info": {
      "name": "python"
    },
    "accelerator": "GPU"
  },
  "cells": [
    {
      "cell_type": "markdown",
      "metadata": {
        "id": "view-in-github",
        "colab_type": "text"
      },
      "source": [
        "<a href=\"https://colab.research.google.com/github/Tajyu/Master_Degree_Paper/blob/main/Code/Filter_32/Input_dim/3Class_Genus_BatchNormal_Input_dim_Layer_15.ipynb\" target=\"_parent\"><img src=\"https://colab.research.google.com/assets/colab-badge.svg\" alt=\"Open In Colab\"/></a>"
      ]
    },
    {
      "cell_type": "code",
      "metadata": {
        "id": "yWckd06_68Em"
      },
      "source": [
        "import tensorflow as tf\n",
        "from tensorflow.keras import datasets, layers, models\n",
        "from keras.preprocessing.image import ImageDataGenerator\n",
        "import numpy as np\n",
        "import matplotlib.pyplot as plt\n",
        "import cv2 as cv\n",
        "import os\n",
        "import pathlib\n",
        "import PIL\n",
        "from tensorflow import keras\n",
        "from tensorflow.keras import layers\n",
        "from tensorflow.keras.models import Sequential\n",
        "from tensorflow.keras.layers import Dense, Flatten, BatchNormalization, Dropout"
      ],
      "execution_count": null,
      "outputs": []
    },
    {
      "cell_type": "code",
      "metadata": {
        "id": "xav9zirHttk_"
      },
      "source": [
        "image_list = os.listdir('/content/drive/MyDrive/Colab Notebooks/Final_Project/Cell_Genus')"
      ],
      "execution_count": null,
      "outputs": []
    },
    {
      "cell_type": "code",
      "metadata": {
        "colab": {
          "base_uri": "https://localhost:8080/"
        },
        "id": "K-wD0dM5tx_E",
        "outputId": "0b08d0d8-495d-42af-b91a-d7d2d55eab2e"
      },
      "source": [
        "print(image_list)"
      ],
      "execution_count": null,
      "outputs": [
        {
          "output_type": "stream",
          "name": "stdout",
          "text": [
            "['10_Genus_Stauroneis_Ehrenberg', '10_Genus_Staurosira_Ehrenberg', '11_Genus_Craspedostauros_E.J_Cox_1999', '11_Genus_Staurosirella_Williams_and_Round', '12_Genus_Caloneis_Cleve_1894', '12_Genus_Synedra_Ehrenberg', '13_Genus_Pinnularia_Ehrenberg_1843', '1_Genus_Acanthoceras_Honigmann', '1_Genus_Achnanthes_Bory', '1_Genus_Actinocyclus_Ehrenberg', '1_Genus_Aphanocapsa_Nageli_1849', '1_Genus_Asterionella_Hassall', '1_Genus_Aulacoseira', '1_Genus_Biremis_Mann_et_Cox_in_Round_Crawford_and_Mann', '1_Genus_Characium_A_Braun_in_Kutzing_1849', '1_Genus_Chroococcus_Nageli', '1_Genus_Closterium_Nitzsch_ex_Ralfs_1848', '1_Genus_Coelastrum_Nageli_1849', '1_Genus_Cylindrocystis_Meneghini_ex_de_Bary_1858', '1_Genus_Dictyosphaerium_Nageli_1849', '1_Genus_Docidium_Brebisson_ex_Ralfs_1848', '1_Genus_Eunotia_Ehrenberg', '1_Genus_Geitlerinema_(Anagnostidis_et_Komarek)_Anagnostidis_1989', '1_Genus_Gonatozygon_de_Bary_1856', '1_Genus_Hydrodictyon_Roth_1797', '1_Genus_Hydrosera_whampoensis', '1_Genus_Jaaginema_Anagnostidis_et_Komarek_1988', '1_Genus_Lyngbya_C_Agardh_ex_Gomont_1892', '1_Genus_Melosira_Agardh', '1_Genus_Micractinium_Fresenius_1858', '1_Genus_Micrasterias_Ralfs_1848', '1_Genus_Microcystis_Kutzing_ex_Lemmermann_1907', '1_Genus_Oscillatoria_Vaucher_ex_Gomont_1982', '1_Genus_Pediastrum_Meyen_1829', '1_Genus_Penium_Brebisson_ex_Ralfs_in_Ralfs_1848', '1_Genus_Phormidium_Kutzing_ex_Gomont_1892', '1_Genus_Planktothrix_Anagnostidis_et_Komarek_1988', '1_Genus_Pleurosira_laevis_(Ehrenberg)', '1_Genus_Rhizosolenia_Ehrenberg', '1_Genus_Schizochlamydella_Korshikov_1953', '1_Genus_Staurodesmus_Teiling_1848', '1_Genus_Trochiscia_Kutzing_1834', '1_Scenedesmus_Hegewald_1978', '2_Acutodesmus_Hegewald_1978', '2_Genus_Achnanthidium_Kutzing', '2_Genus_Actinastrum_Lagerheim_1882', '2_Genus_Actinella_Lewis', '2_Genus_Ankyra_Fott_1957', '2_Genus_Caloneis_Cleve', '2_Genus_Chaetoceros_Ehrenberg', '2_Genus_Coenochloris_Korshikov_1953', '2_Genus_Cyclotella', '2_Genus_Diatoma_Bory', '2_Genus_Dimorphococcus_A_Braun_1855', '2_Genus_Golenkinia_Chodat_1894', '2_Genus_Haplotaenium_Bando_1988', '2_Genus_Leibleinia_(Gomont)_L_Hoffman_1985', '2_Genus_Leptolyngbya_Anagnostidis_et_Komarek_1988', '2_Genus_Merismopedia_Meyen_1839', '2_Genus_Netrium_(Nageli)_Itzigsohn_et_Rothe_in_Rabenhorst_1856', '2_Genus_Orthoseira_Thwaites_1848', '2_Genus_Phormidium_Kutzing_ex_Gomont_1892', '2_Genus_Sorastrum_Kutzing_1845', '2_Genus_Staurastrum_Meyen_ex_Ralfs_1848', '3_Desmodesmus_Chodat_1926', '3_Genus_Acanthosphaera_Lemmerman_1899', '3_Genus_Anorthoneis_Grunow', '3_Genus_Cyclostephanos_Round', '3_Genus_Dichotomococcus_Korshikov_1928', '3_Genus_Heteroleibleinia_(Geitler)_L_Hoffmann_1985', '3_Genus_Limnothrix_Meffert_1988', '3_Genus_Meridion_Agardh', '3_Genus_Paradoxia_Svirenko_1928', '3_Genus_Peronia_Bebisson_and_Arnott_ex_Kitton', '3_Genus_Phormidiochaete_Komarek_in_Anagnostidis_2001', '3_Genus_Pinnularia_Ehrenberg_1', '3_Genus_Pleurotaenium_Nageli_1849', '3_Genus_Radiococcus_Schmidle_1902', '3_Genus_Snowella_Elenkin_1938', '3_Genus_Spirotaenia_Brebisson_in_Ralfs_1848', '4_Genus_Botryococcus_Kutzing_1849', '4_Genus_Cocconeis_Ehrenberg', '4_Genus_Eutetramorus_Walton_1918', '4_Genus_Leptolyngbya_Anagnostidis_et_Komarek_1988', '4_Genus_Opephora_Petit', '4_Genus_Pinnularia_Ehrenberg_2', '4_Genus_Schroederia_Lemmermann_1898', '4_Genus_Stephanodiscus_Ehrenberg', '4_Genus_Synechocystis_Sauvageau_1892', '4_Genus_Tortitaenia_A_J_Brook_1998', '5_Genus_Caloneis_Cleve', '5_Genus_Coenocystis_Korshikov_1953', '5_Genus_Planktolyngbya_Anagnostidis_et_Komarek_1988', '5_Genus_Tabellaria_Ehrenberg', '5_Genus_Thalassiosira_Cleve', '5_Genus_Woronichinia_Elenkin_1933', '6_Genus_Anomoeoneis_Pfitzer', '6_Genus_Fragilaria_Lyngbye', '6_Genus_Gloeocystis_Nageli_1849', '6_Genus_Pseudanabaena_Lauterborn_1915', '6_Genus_Skeletonema_Greville', '7_Genus_Caloneis_Cleve', '7_Genus_Hannaea_Patrick', '8_Genus_Diploneis(Ehrenberg)_Cleve', '8_Genus_Pseudostaurosira_Williams_and_Round', '9_Genus_Neidium_Pfitzer', '9_Genus_Punctastriata_Williams_and_Round']\n"
          ]
        }
      ]
    },
    {
      "cell_type": "code",
      "metadata": {
        "id": "o-0DvzEHt8VE"
      },
      "source": [
        "data_generator = ImageDataGenerator(rescale = 1./255)\n",
        "\n",
        "data_dir = \"/content/drive/MyDrive/Colab Notebooks/Final_Project/Cell_Genus\""
      ],
      "execution_count": null,
      "outputs": []
    },
    {
      "cell_type": "code",
      "metadata": {
        "id": "7aTCfEm3t10n"
      },
      "source": [
        "batch_size = 32\n",
        "img_height = 180\n",
        "img_width = 180"
      ],
      "execution_count": null,
      "outputs": []
    },
    {
      "cell_type": "code",
      "metadata": {
        "id": "9Smg-miEt22s",
        "colab": {
          "base_uri": "https://localhost:8080/"
        },
        "outputId": "0b23b3bd-fa23-49dd-9c88-ff8a0e15e923"
      },
      "source": [
        "train_ds = tf.keras.preprocessing.image_dataset_from_directory(\n",
        "  data_dir,\n",
        "  color_mode = \"grayscale\",\n",
        "  validation_split=0.2,\n",
        "  subset=\"training\",\n",
        "  seed=123,\n",
        "  image_size=(img_height, img_width),\n",
        "  batch_size=batch_size)"
      ],
      "execution_count": null,
      "outputs": [
        {
          "output_type": "stream",
          "name": "stdout",
          "text": [
            "Found 6226 files belonging to 107 classes.\n",
            "Using 4981 files for training.\n"
          ]
        }
      ]
    },
    {
      "cell_type": "code",
      "metadata": {
        "id": "1nR0WdQGt44x",
        "colab": {
          "base_uri": "https://localhost:8080/"
        },
        "outputId": "b2e55ad2-6b06-4f7d-84d9-775974eb58c7"
      },
      "source": [
        "val_ds = tf.keras.preprocessing.image_dataset_from_directory(\n",
        "  data_dir,\n",
        "  color_mode = \"grayscale\",\n",
        "  validation_split=0.2,\n",
        "  subset=\"validation\",\n",
        "  seed=123,\n",
        "  image_size=(img_height, img_width),\n",
        "  batch_size=batch_size)"
      ],
      "execution_count": null,
      "outputs": [
        {
          "output_type": "stream",
          "name": "stdout",
          "text": [
            "Found 6226 files belonging to 107 classes.\n",
            "Using 1245 files for validation.\n"
          ]
        }
      ]
    },
    {
      "cell_type": "code",
      "metadata": {
        "id": "F-cz_CtGug8Y",
        "colab": {
          "base_uri": "https://localhost:8080/"
        },
        "outputId": "ba7cdc53-0877-4c00-e400-45cef86083e1"
      },
      "source": [
        "class_names = train_ds.class_names\n",
        "print(class_names)"
      ],
      "execution_count": null,
      "outputs": [
        {
          "output_type": "stream",
          "name": "stdout",
          "text": [
            "['10_Genus_Stauroneis_Ehrenberg', '10_Genus_Staurosira_Ehrenberg', '11_Genus_Craspedostauros_E.J_Cox_1999', '11_Genus_Staurosirella_Williams_and_Round', '12_Genus_Caloneis_Cleve_1894', '12_Genus_Synedra_Ehrenberg', '13_Genus_Pinnularia_Ehrenberg_1843', '1_Genus_Acanthoceras_Honigmann', '1_Genus_Achnanthes_Bory', '1_Genus_Actinocyclus_Ehrenberg', '1_Genus_Aphanocapsa_Nageli_1849', '1_Genus_Asterionella_Hassall', '1_Genus_Aulacoseira', '1_Genus_Biremis_Mann_et_Cox_in_Round_Crawford_and_Mann', '1_Genus_Characium_A_Braun_in_Kutzing_1849', '1_Genus_Chroococcus_Nageli', '1_Genus_Closterium_Nitzsch_ex_Ralfs_1848', '1_Genus_Coelastrum_Nageli_1849', '1_Genus_Cylindrocystis_Meneghini_ex_de_Bary_1858', '1_Genus_Dictyosphaerium_Nageli_1849', '1_Genus_Docidium_Brebisson_ex_Ralfs_1848', '1_Genus_Eunotia_Ehrenberg', '1_Genus_Geitlerinema_(Anagnostidis_et_Komarek)_Anagnostidis_1989', '1_Genus_Gonatozygon_de_Bary_1856', '1_Genus_Hydrodictyon_Roth_1797', '1_Genus_Hydrosera_whampoensis', '1_Genus_Jaaginema_Anagnostidis_et_Komarek_1988', '1_Genus_Lyngbya_C_Agardh_ex_Gomont_1892', '1_Genus_Melosira_Agardh', '1_Genus_Micractinium_Fresenius_1858', '1_Genus_Micrasterias_Ralfs_1848', '1_Genus_Microcystis_Kutzing_ex_Lemmermann_1907', '1_Genus_Oscillatoria_Vaucher_ex_Gomont_1982', '1_Genus_Pediastrum_Meyen_1829', '1_Genus_Penium_Brebisson_ex_Ralfs_in_Ralfs_1848', '1_Genus_Phormidium_Kutzing_ex_Gomont_1892', '1_Genus_Planktothrix_Anagnostidis_et_Komarek_1988', '1_Genus_Pleurosira_laevis_(Ehrenberg)', '1_Genus_Rhizosolenia_Ehrenberg', '1_Genus_Schizochlamydella_Korshikov_1953', '1_Genus_Staurodesmus_Teiling_1848', '1_Genus_Trochiscia_Kutzing_1834', '1_Scenedesmus_Hegewald_1978', '2_Acutodesmus_Hegewald_1978', '2_Genus_Achnanthidium_Kutzing', '2_Genus_Actinastrum_Lagerheim_1882', '2_Genus_Actinella_Lewis', '2_Genus_Ankyra_Fott_1957', '2_Genus_Caloneis_Cleve', '2_Genus_Chaetoceros_Ehrenberg', '2_Genus_Coenochloris_Korshikov_1953', '2_Genus_Cyclotella', '2_Genus_Diatoma_Bory', '2_Genus_Dimorphococcus_A_Braun_1855', '2_Genus_Golenkinia_Chodat_1894', '2_Genus_Haplotaenium_Bando_1988', '2_Genus_Leibleinia_(Gomont)_L_Hoffman_1985', '2_Genus_Leptolyngbya_Anagnostidis_et_Komarek_1988', '2_Genus_Merismopedia_Meyen_1839', '2_Genus_Netrium_(Nageli)_Itzigsohn_et_Rothe_in_Rabenhorst_1856', '2_Genus_Orthoseira_Thwaites_1848', '2_Genus_Phormidium_Kutzing_ex_Gomont_1892', '2_Genus_Sorastrum_Kutzing_1845', '2_Genus_Staurastrum_Meyen_ex_Ralfs_1848', '3_Desmodesmus_Chodat_1926', '3_Genus_Acanthosphaera_Lemmerman_1899', '3_Genus_Anorthoneis_Grunow', '3_Genus_Cyclostephanos_Round', '3_Genus_Dichotomococcus_Korshikov_1928', '3_Genus_Heteroleibleinia_(Geitler)_L_Hoffmann_1985', '3_Genus_Limnothrix_Meffert_1988', '3_Genus_Meridion_Agardh', '3_Genus_Paradoxia_Svirenko_1928', '3_Genus_Peronia_Bebisson_and_Arnott_ex_Kitton', '3_Genus_Phormidiochaete_Komarek_in_Anagnostidis_2001', '3_Genus_Pinnularia_Ehrenberg_1', '3_Genus_Pleurotaenium_Nageli_1849', '3_Genus_Radiococcus_Schmidle_1902', '3_Genus_Snowella_Elenkin_1938', '3_Genus_Spirotaenia_Brebisson_in_Ralfs_1848', '4_Genus_Botryococcus_Kutzing_1849', '4_Genus_Cocconeis_Ehrenberg', '4_Genus_Eutetramorus_Walton_1918', '4_Genus_Leptolyngbya_Anagnostidis_et_Komarek_1988', '4_Genus_Opephora_Petit', '4_Genus_Pinnularia_Ehrenberg_2', '4_Genus_Schroederia_Lemmermann_1898', '4_Genus_Stephanodiscus_Ehrenberg', '4_Genus_Synechocystis_Sauvageau_1892', '4_Genus_Tortitaenia_A_J_Brook_1998', '5_Genus_Caloneis_Cleve', '5_Genus_Coenocystis_Korshikov_1953', '5_Genus_Planktolyngbya_Anagnostidis_et_Komarek_1988', '5_Genus_Tabellaria_Ehrenberg', '5_Genus_Thalassiosira_Cleve', '5_Genus_Woronichinia_Elenkin_1933', '6_Genus_Anomoeoneis_Pfitzer', '6_Genus_Fragilaria_Lyngbye', '6_Genus_Gloeocystis_Nageli_1849', '6_Genus_Pseudanabaena_Lauterborn_1915', '6_Genus_Skeletonema_Greville', '7_Genus_Caloneis_Cleve', '7_Genus_Hannaea_Patrick', '8_Genus_Diploneis(Ehrenberg)_Cleve', '8_Genus_Pseudostaurosira_Williams_and_Round', '9_Genus_Neidium_Pfitzer', '9_Genus_Punctastriata_Williams_and_Round']\n"
          ]
        }
      ]
    },
    {
      "cell_type": "code",
      "metadata": {
        "id": "5EQOikPAukic",
        "colab": {
          "base_uri": "https://localhost:8080/"
        },
        "outputId": "fc70f804-b58a-485d-cdb6-6ef0f69462e2"
      },
      "source": [
        "for image_batch, labels_batch in train_ds:\n",
        "  print(image_batch.shape)\n",
        "  print(labels_batch.shape)\n",
        "  break"
      ],
      "execution_count": null,
      "outputs": [
        {
          "output_type": "stream",
          "name": "stdout",
          "text": [
            "(32, 180, 180, 1)\n",
            "(32,)\n"
          ]
        }
      ]
    },
    {
      "cell_type": "code",
      "metadata": {
        "id": "9eVl7tiDux9q"
      },
      "source": [
        "from tensorflow.keras import layers\n",
        "\n",
        "normalization_layer = tf.keras.layers.experimental.preprocessing.Rescaling(1./255)"
      ],
      "execution_count": null,
      "outputs": []
    },
    {
      "cell_type": "code",
      "metadata": {
        "id": "AiIrsxzZuzEo",
        "colab": {
          "base_uri": "https://localhost:8080/"
        },
        "outputId": "2df1d5ff-a45f-4abc-ac20-10697396be3f"
      },
      "source": [
        "normalized_ds = train_ds.map(lambda x, y: (normalization_layer(x), y))\n",
        "image_batch, labels_batch = next(iter(normalized_ds))\n",
        "first_image = image_batch[0]\n",
        "# Notice the pixels values are now in `[0,1]`.\n",
        "print(np.min(first_image), np.max(first_image))"
      ],
      "execution_count": null,
      "outputs": [
        {
          "output_type": "stream",
          "name": "stdout",
          "text": [
            "0.0 1.0\n"
          ]
        }
      ]
    },
    {
      "cell_type": "code",
      "metadata": {
        "id": "__WbVabru0Bp"
      },
      "source": [
        "AUTOTUNE = tf.data.experimental.AUTOTUNE\n",
        "\n",
        "train_ds = train_ds.cache().prefetch(buffer_size=AUTOTUNE)\n",
        "val_ds = val_ds.cache().prefetch(buffer_size=AUTOTUNE)"
      ],
      "execution_count": null,
      "outputs": []
    },
    {
      "cell_type": "code",
      "metadata": {
        "id": "g1GeYFXCu2gV"
      },
      "source": [
        "num_classes = 107\n",
        "model = tf.keras.Sequential([\n",
        "    layers.experimental.preprocessing.Rescaling(1./255),\n",
        "    layers.Conv2D(32, 3,input_shape = image_batch, activation='relu'),\n",
        "    layers.MaxPooling2D(),\n",
        "    layers.Conv2D(32, 3, activation='relu'),\n",
        "    layers.MaxPooling2D(),\n",
        "    layers.Conv2D(32, 3, activation='relu'),\n",
        "    layers.MaxPooling2D(),\n",
        "    layers.Flatten(),\n",
        "    BatchNormalization(),\n",
        "    layers.Dense(128, input_dim = 107, activation='relu'),\n",
        "    BatchNormalization(),\n",
        "    layers.Dense(128, activation='relu'),\n",
        "    BatchNormalization(),\n",
        "    layers.Dense(128, activation='relu'),\n",
        "    BatchNormalization(),\n",
        "    layers.Dense(128, activation='relu'),\n",
        "    BatchNormalization(),\n",
        "    layers.Dense(128, activation='relu'),\n",
        "    BatchNormalization(),\n",
        "    layers.Dense(128, activation='relu'),\n",
        "    BatchNormalization(),\n",
        "    layers.Dense(128, activation='relu'),\n",
        "    BatchNormalization(),\n",
        "    layers.Dense(128, activation='relu'),\n",
        "    BatchNormalization(),\n",
        "    layers.Dense(128, activation='relu'),\n",
        "    BatchNormalization(),\n",
        "   layers.Dense(128, activation='relu'),\n",
        "   BatchNormalization(),\n",
        "   layers.Dense(128, activation='relu'),\n",
        "   BatchNormalization(),\n",
        "   layers.Dense(128, activation='relu'),\n",
        "   BatchNormalization(),\n",
        "   layers.Dense(128, activation='relu'),\n",
        "   BatchNormalization(),\n",
        "   layers.Dense(128, activation='relu'),\n",
        "   BatchNormalization(),\n",
        "   layers.Dense(107, activation='softmax'),\n",
        "   BatchNormalization(),\n",
        "   layers.Dense(num_classes)\n",
        "    ])"
      ],
      "execution_count": null,
      "outputs": []
    },
    {
      "cell_type": "code",
      "metadata": {
        "id": "wU4xPAvNYWry"
      },
      "source": [
        "model.compile(\n",
        "    optimizer='adam',\n",
        "    loss=tf.losses.SparseCategoricalCrossentropy(from_logits=True),\n",
        "    metrics=['accuracy'])"
      ],
      "execution_count": null,
      "outputs": []
    },
    {
      "cell_type": "code",
      "metadata": {
        "id": "Tk8ssrbHu44p",
        "colab": {
          "base_uri": "https://localhost:8080/"
        },
        "outputId": "6bf629d3-63ff-418b-b2b8-3ee09079b270"
      },
      "source": [
        "epochs=50\n",
        "history = model.fit(\n",
        "  train_ds,\n",
        "  validation_data=val_ds,\n",
        "  epochs=epochs\n",
        ")"
      ],
      "execution_count": null,
      "outputs": [
        {
          "output_type": "stream",
          "name": "stdout",
          "text": [
            "Epoch 1/50\n",
            "156/156 [==============================] - 1436s 9s/step - loss: 4.1961 - accuracy: 0.1176 - val_loss: 4.1330 - val_accuracy: 0.0980\n",
            "Epoch 2/50\n",
            "156/156 [==============================] - 5s 29ms/step - loss: 3.1139 - accuracy: 0.2495 - val_loss: 3.6679 - val_accuracy: 0.2112\n",
            "Epoch 3/50\n",
            "156/156 [==============================] - 5s 29ms/step - loss: 2.7271 - accuracy: 0.3114 - val_loss: 3.2100 - val_accuracy: 0.2940\n",
            "Epoch 4/50\n",
            "156/156 [==============================] - 5s 29ms/step - loss: 2.4902 - accuracy: 0.3537 - val_loss: 2.5858 - val_accuracy: 0.3390\n",
            "Epoch 5/50\n",
            "156/156 [==============================] - 5s 29ms/step - loss: 2.3016 - accuracy: 0.3913 - val_loss: 2.5448 - val_accuracy: 0.3414\n",
            "Epoch 6/50\n",
            "156/156 [==============================] - 5s 29ms/step - loss: 2.1534 - accuracy: 0.4188 - val_loss: 3.0905 - val_accuracy: 0.2795\n",
            "Epoch 7/50\n",
            "156/156 [==============================] - 5s 29ms/step - loss: 2.0291 - accuracy: 0.4439 - val_loss: 2.7221 - val_accuracy: 0.3542\n",
            "Epoch 8/50\n",
            "156/156 [==============================] - 4s 29ms/step - loss: 1.8843 - accuracy: 0.4702 - val_loss: 2.9033 - val_accuracy: 0.3173\n",
            "Epoch 9/50\n",
            "156/156 [==============================] - 5s 29ms/step - loss: 1.7631 - accuracy: 0.4991 - val_loss: 2.6911 - val_accuracy: 0.3309\n",
            "Epoch 10/50\n",
            "156/156 [==============================] - 5s 30ms/step - loss: 1.6873 - accuracy: 0.5212 - val_loss: 2.9832 - val_accuracy: 0.3446\n",
            "Epoch 11/50\n",
            "156/156 [==============================] - 5s 29ms/step - loss: 1.5812 - accuracy: 0.5537 - val_loss: 2.7530 - val_accuracy: 0.3631\n",
            "Epoch 12/50\n",
            "156/156 [==============================] - 5s 29ms/step - loss: 1.4692 - accuracy: 0.5816 - val_loss: 2.7442 - val_accuracy: 0.3928\n",
            "Epoch 13/50\n",
            "156/156 [==============================] - 4s 29ms/step - loss: 1.3990 - accuracy: 0.6031 - val_loss: 3.2831 - val_accuracy: 0.3181\n",
            "Epoch 14/50\n",
            "156/156 [==============================] - 5s 30ms/step - loss: 1.3212 - accuracy: 0.6250 - val_loss: 2.9272 - val_accuracy: 0.3791\n",
            "Epoch 15/50\n",
            "156/156 [==============================] - 5s 29ms/step - loss: 1.2570 - accuracy: 0.6404 - val_loss: 2.7196 - val_accuracy: 0.4249\n",
            "Epoch 16/50\n",
            "156/156 [==============================] - 5s 29ms/step - loss: 1.1856 - accuracy: 0.6683 - val_loss: 2.5495 - val_accuracy: 0.4345\n",
            "Epoch 17/50\n",
            "156/156 [==============================] - 5s 29ms/step - loss: 1.1372 - accuracy: 0.6786 - val_loss: 2.9125 - val_accuracy: 0.4161\n",
            "Epoch 18/50\n",
            "156/156 [==============================] - 5s 29ms/step - loss: 1.0221 - accuracy: 0.7037 - val_loss: 2.7572 - val_accuracy: 0.4361\n",
            "Epoch 19/50\n",
            "156/156 [==============================] - 5s 29ms/step - loss: 1.0044 - accuracy: 0.7099 - val_loss: 2.7014 - val_accuracy: 0.4386\n",
            "Epoch 20/50\n",
            "156/156 [==============================] - 4s 29ms/step - loss: 0.9503 - accuracy: 0.7284 - val_loss: 2.6424 - val_accuracy: 0.4410\n",
            "Epoch 21/50\n",
            "156/156 [==============================] - 5s 30ms/step - loss: 0.8596 - accuracy: 0.7551 - val_loss: 2.9623 - val_accuracy: 0.4096\n",
            "Epoch 22/50\n",
            "156/156 [==============================] - 5s 29ms/step - loss: 0.8936 - accuracy: 0.7466 - val_loss: 2.6630 - val_accuracy: 0.4610\n",
            "Epoch 23/50\n",
            "156/156 [==============================] - 5s 29ms/step - loss: 0.7786 - accuracy: 0.7850 - val_loss: 3.1129 - val_accuracy: 0.4281\n",
            "Epoch 24/50\n",
            "156/156 [==============================] - 5s 29ms/step - loss: 0.7485 - accuracy: 0.7926 - val_loss: 2.9648 - val_accuracy: 0.4514\n",
            "Epoch 25/50\n",
            "156/156 [==============================] - 5s 30ms/step - loss: 0.7475 - accuracy: 0.7880 - val_loss: 2.9391 - val_accuracy: 0.4402\n",
            "Epoch 26/50\n",
            "156/156 [==============================] - 5s 29ms/step - loss: 0.6977 - accuracy: 0.7976 - val_loss: 2.7362 - val_accuracy: 0.4723\n",
            "Epoch 27/50\n",
            "156/156 [==============================] - 5s 29ms/step - loss: 0.6203 - accuracy: 0.8183 - val_loss: 3.1515 - val_accuracy: 0.4233\n",
            "Epoch 28/50\n",
            "156/156 [==============================] - 5s 29ms/step - loss: 0.6100 - accuracy: 0.8283 - val_loss: 2.9179 - val_accuracy: 0.4667\n",
            "Epoch 29/50\n",
            "156/156 [==============================] - 5s 30ms/step - loss: 0.5583 - accuracy: 0.8406 - val_loss: 2.8536 - val_accuracy: 0.4763\n",
            "Epoch 30/50\n",
            "156/156 [==============================] - 5s 30ms/step - loss: 0.5359 - accuracy: 0.8466 - val_loss: 2.9890 - val_accuracy: 0.4731\n",
            "Epoch 31/50\n",
            "156/156 [==============================] - 4s 29ms/step - loss: 0.4901 - accuracy: 0.8546 - val_loss: 3.0252 - val_accuracy: 0.4795\n",
            "Epoch 32/50\n",
            "156/156 [==============================] - 5s 29ms/step - loss: 0.4853 - accuracy: 0.8645 - val_loss: 3.2134 - val_accuracy: 0.4321\n",
            "Epoch 33/50\n",
            "156/156 [==============================] - 5s 29ms/step - loss: 0.4703 - accuracy: 0.8651 - val_loss: 3.1367 - val_accuracy: 0.4659\n",
            "Epoch 34/50\n",
            "156/156 [==============================] - 5s 30ms/step - loss: 0.4190 - accuracy: 0.8791 - val_loss: 3.2394 - val_accuracy: 0.4602\n",
            "Epoch 35/50\n",
            "156/156 [==============================] - 5s 30ms/step - loss: 0.4471 - accuracy: 0.8675 - val_loss: 3.3693 - val_accuracy: 0.4482\n",
            "Epoch 36/50\n",
            "156/156 [==============================] - 5s 30ms/step - loss: 0.4730 - accuracy: 0.8673 - val_loss: 3.4321 - val_accuracy: 0.4402\n",
            "Epoch 37/50\n",
            "156/156 [==============================] - 5s 29ms/step - loss: 0.4467 - accuracy: 0.8705 - val_loss: 3.7516 - val_accuracy: 0.4145\n",
            "Epoch 38/50\n",
            "156/156 [==============================] - 5s 29ms/step - loss: 0.4087 - accuracy: 0.8805 - val_loss: 3.2467 - val_accuracy: 0.4723\n",
            "Epoch 39/50\n",
            "156/156 [==============================] - 5s 29ms/step - loss: 0.3379 - accuracy: 0.9004 - val_loss: 3.2497 - val_accuracy: 0.4867\n",
            "Epoch 40/50\n",
            "156/156 [==============================] - 5s 30ms/step - loss: 0.3308 - accuracy: 0.9012 - val_loss: 3.9707 - val_accuracy: 0.4305\n",
            "Epoch 41/50\n",
            "156/156 [==============================] - 5s 29ms/step - loss: 0.3305 - accuracy: 0.9004 - val_loss: 3.3676 - val_accuracy: 0.4651\n",
            "Epoch 42/50\n",
            "156/156 [==============================] - 5s 29ms/step - loss: 0.2675 - accuracy: 0.9201 - val_loss: 3.6904 - val_accuracy: 0.4369\n",
            "Epoch 43/50\n",
            "156/156 [==============================] - 5s 30ms/step - loss: 0.2550 - accuracy: 0.9255 - val_loss: 3.3738 - val_accuracy: 0.4803\n",
            "Epoch 44/50\n",
            "156/156 [==============================] - 5s 30ms/step - loss: 0.2221 - accuracy: 0.9370 - val_loss: 3.5731 - val_accuracy: 0.4747\n",
            "Epoch 45/50\n",
            "156/156 [==============================] - 5s 29ms/step - loss: 0.2235 - accuracy: 0.9339 - val_loss: 3.5800 - val_accuracy: 0.4916\n",
            "Epoch 46/50\n",
            "156/156 [==============================] - 5s 30ms/step - loss: 0.2494 - accuracy: 0.9221 - val_loss: 4.0856 - val_accuracy: 0.4225\n",
            "Epoch 47/50\n",
            "156/156 [==============================] - 5s 29ms/step - loss: 0.2756 - accuracy: 0.9175 - val_loss: 3.8248 - val_accuracy: 0.4482\n",
            "Epoch 48/50\n",
            "156/156 [==============================] - 5s 30ms/step - loss: 0.2799 - accuracy: 0.9191 - val_loss: 4.3064 - val_accuracy: 0.4145\n",
            "Epoch 49/50\n",
            "156/156 [==============================] - 5s 30ms/step - loss: 0.3091 - accuracy: 0.9107 - val_loss: 3.7390 - val_accuracy: 0.4884\n",
            "Epoch 50/50\n",
            "156/156 [==============================] - 5s 29ms/step - loss: 0.2685 - accuracy: 0.9243 - val_loss: 3.7357 - val_accuracy: 0.4450\n"
          ]
        }
      ]
    },
    {
      "cell_type": "code",
      "metadata": {
        "id": "f1z_vHocu59c",
        "colab": {
          "base_uri": "https://localhost:8080/",
          "height": 499
        },
        "outputId": "65cc7d30-cef0-4865-8bc4-7e09115eb261"
      },
      "source": [
        "acc = history.history['accuracy']\n",
        "val_acc = history.history['val_accuracy']\n",
        "\n",
        "loss=history.history['loss']\n",
        "val_loss=history.history['val_loss']\n",
        "\n",
        "epochs_range = range(epochs)\n",
        "\n",
        "plt.figure(figsize=(8, 8))\n",
        "plt.subplot(1, 2, 1)\n",
        "plt.plot(epochs_range, acc, label='Training Accuracy')\n",
        "plt.plot(epochs_range, val_acc, label='Validation Accuracy')\n",
        "plt.legend(loc='lower right')\n",
        "plt.title('Training and Validation Accuracy')\n",
        "\n",
        "plt.subplot(1, 2, 2)\n",
        "plt.plot(epochs_range, loss, label='Training Loss')\n",
        "plt.plot(epochs_range, val_loss, label='Validation Loss')\n",
        "plt.legend(loc='upper right')\n",
        "plt.title('Training and Validation Loss')\n",
        "plt.show()"
      ],
      "execution_count": null,
      "outputs": [
        {
          "output_type": "display_data",
          "data": {
            "image/png": "[encoded data removed]",
            "text/plain": [
              "<Figure size 576x576 with 2 Axes>"
            ]
          },
          "metadata": {
            "needs_background": "light"
          }
        }
      ]
    },
    {
      "cell_type": "code",
      "metadata": {
        "id": "XinJ6xXD9YNO"
      },
      "source": [
        "data_augmentation = keras.Sequential(\n",
        "  [\n",
        "    layers.experimental.preprocessing.RandomFlip(\"horizontal\", \n",
        "                                                 input_shape=(img_height, \n",
        "                                                              img_width,\n",
        "                                                              1)),\n",
        "    layers.experimental.preprocessing.RandomRotation(0.1),\n",
        "    layers.experimental.preprocessing.RandomZoom(0.1),\n",
        "  ]\n",
        ")"
      ],
      "execution_count": null,
      "outputs": []
    },
    {
      "cell_type": "code",
      "metadata": {
        "id": "8WT2BYElEYZj"
      },
      "source": [
        "model = Sequential([\n",
        "  data_augmentation,\n",
        "  layers.experimental.preprocessing.Rescaling(1./255),\n",
        "  layers.Conv2D(32, 3,input_shape = image_batch, activation='relu'),\n",
        "  layers.MaxPooling2D(),\n",
        "  layers.Conv2D(32, 3, padding='same', activation='relu'),\n",
        "  layers.MaxPooling2D(),\n",
        "  layers.Conv2D(32, 3, padding='same', activation='relu'),\n",
        "  layers.MaxPooling2D(),\n",
        "  layers.Dropout(0.2),\n",
        "  layers.Flatten(),\n",
        "  layers.Dense(128, input_dim = 107, activation='relu'),\n",
        "  BatchNormalization(),\n",
        "  layers.Dense(128, activation='relu'),\n",
        "  BatchNormalization(),\n",
        "  layers.Dense(128, activation='relu'),\n",
        "  BatchNormalization(),\n",
        "  layers.Dense(128, activation='relu'),\n",
        "  BatchNormalization(),\n",
        "  layers.Dense(128, activation='relu'),\n",
        "  BatchNormalization(),\n",
        "  layers.Dense(128, activation='relu'),\n",
        "  BatchNormalization(),\n",
        "  layers.Dense(128, activation='relu'),\n",
        "  BatchNormalization(),\n",
        "  layers.Dense(128, activation='relu'),\n",
        "  BatchNormalization(),\n",
        "  layers.Dense(128, activation='relu'),\n",
        "  BatchNormalization(),\n",
        "  layers.Dense(128, activation='relu'),\n",
        "  BatchNormalization(),\n",
        "  layers.Dense(128, activation='relu'),\n",
        "  BatchNormalization(),\n",
        "  layers.Dense(128, activation='relu'),\n",
        "  BatchNormalization(),\n",
        "  layers.Dense(128, activation='relu'),\n",
        "  BatchNormalization(),\n",
        "  layers.Dense(128, activation='relu'),\n",
        "  BatchNormalization(),\n",
        "  layers.Dense(107, activation='softmax'),\n",
        "  BatchNormalization(),\n",
        "  layers.Dense(num_classes)\n",
        "])"
      ],
      "execution_count": null,
      "outputs": []
    },
    {
      "cell_type": "code",
      "metadata": {
        "id": "opOHP3auEdsw",
        "colab": {
          "base_uri": "https://localhost:8080/"
        },
        "outputId": "b50022d0-368d-48ee-b9aa-a317852a1232"
      },
      "source": [
        "BatchNormalization(),model.compile(\n",
        "    optimizer='adam',\n",
        "    loss=tf.losses.SparseCategoricalCrossentropy(from_logits=True),\n",
        "    metrics=['accuracy'])"
      ],
      "execution_count": null,
      "outputs": [
        {
          "output_type": "execute_result",
          "data": {
            "text/plain": [
              "(<keras.layers.normalization.batch_normalization.BatchNormalization at 0x7f3cc45fa8d0>,\n",
              " None)"
            ]
          },
          "metadata": {},
          "execution_count": 19
        }
      ]
    },
    {
      "cell_type": "code",
      "metadata": {
        "id": "3Ay4tlHlEfBX",
        "colab": {
          "base_uri": "https://localhost:8080/"
        },
        "outputId": "8f01ca31-4896-40a9-b3b7-194d49940fc5"
      },
      "source": [
        "model.summary()"
      ],
      "execution_count": null,
      "outputs": [
        {
          "output_type": "stream",
          "name": "stdout",
          "text": [
            "Model: \"sequential_2\"\n",
            "_________________________________________________________________\n",
            " Layer (type)                Output Shape              Param #   \n",
            "=================================================================\n",
            " sequential_1 (Sequential)   (None, 180, 180, 1)       0         \n",
            "                                                                 \n",
            " rescaling_2 (Rescaling)     (None, 180, 180, 1)       0         \n",
            "                                                                 \n",
            " conv2d_3 (Conv2D)           (None, 178, 178, 32)      320       \n",
            "                                                                 \n",
            " max_pooling2d_3 (MaxPooling  (None, 89, 89, 32)       0         \n",
            " 2D)                                                             \n",
            "                                                                 \n",
            " conv2d_4 (Conv2D)           (None, 89, 89, 32)        9248      \n",
            "                                                                 \n",
            " max_pooling2d_4 (MaxPooling  (None, 44, 44, 32)       0         \n",
            " 2D)                                                             \n",
            "                                                                 \n",
            " conv2d_5 (Conv2D)           (None, 44, 44, 32)        9248      \n",
            "                                                                 \n",
            " max_pooling2d_5 (MaxPooling  (None, 22, 22, 32)       0         \n",
            " 2D)                                                             \n",
            "                                                                 \n",
            " dropout (Dropout)           (None, 22, 22, 32)        0         \n",
            "                                                                 \n",
            " flatten_1 (Flatten)         (None, 15488)             0         \n",
            "                                                                 \n",
            " dense_16 (Dense)            (None, 128)               1982592   \n",
            "                                                                 \n",
            " batch_normalization_16 (Bat  (None, 128)              512       \n",
            " chNormalization)                                                \n",
            "                                                                 \n",
            " dense_17 (Dense)            (None, 128)               16512     \n",
            "                                                                 \n",
            " batch_normalization_17 (Bat  (None, 128)              512       \n",
            " chNormalization)                                                \n",
            "                                                                 \n",
            " dense_18 (Dense)            (None, 128)               16512     \n",
            "                                                                 \n",
            " batch_normalization_18 (Bat  (None, 128)              512       \n",
            " chNormalization)                                                \n",
            "                                                                 \n",
            " dense_19 (Dense)            (None, 128)               16512     \n",
            "                                                                 \n",
            " batch_normalization_19 (Bat  (None, 128)              512       \n",
            " chNormalization)                                                \n",
            "                                                                 \n",
            " dense_20 (Dense)            (None, 128)               16512     \n",
            "                                                                 \n",
            " batch_normalization_20 (Bat  (None, 128)              512       \n",
            " chNormalization)                                                \n",
            "                                                                 \n",
            " dense_21 (Dense)            (None, 128)               16512     \n",
            "                                                                 \n",
            " batch_normalization_21 (Bat  (None, 128)              512       \n",
            " chNormalization)                                                \n",
            "                                                                 \n",
            " dense_22 (Dense)            (None, 128)               16512     \n",
            "                                                                 \n",
            " batch_normalization_22 (Bat  (None, 128)              512       \n",
            " chNormalization)                                                \n",
            "                                                                 \n",
            " dense_23 (Dense)            (None, 128)               16512     \n",
            "                                                                 \n",
            " batch_normalization_23 (Bat  (None, 128)              512       \n",
            " chNormalization)                                                \n",
            "                                                                 \n",
            " dense_24 (Dense)            (None, 128)               16512     \n",
            "                                                                 \n",
            " batch_normalization_24 (Bat  (None, 128)              512       \n",
            " chNormalization)                                                \n",
            "                                                                 \n",
            " dense_25 (Dense)            (None, 128)               16512     \n",
            "                                                                 \n",
            " batch_normalization_25 (Bat  (None, 128)              512       \n",
            " chNormalization)                                                \n",
            "                                                                 \n",
            " dense_26 (Dense)            (None, 128)               16512     \n",
            "                                                                 \n",
            " batch_normalization_26 (Bat  (None, 128)              512       \n",
            " chNormalization)                                                \n",
            "                                                                 \n",
            " dense_27 (Dense)            (None, 128)               16512     \n",
            "                                                                 \n",
            " batch_normalization_27 (Bat  (None, 128)              512       \n",
            " chNormalization)                                                \n",
            "                                                                 \n",
            " dense_28 (Dense)            (None, 128)               16512     \n",
            "                                                                 \n",
            " batch_normalization_28 (Bat  (None, 128)              512       \n",
            " chNormalization)                                                \n",
            "                                                                 \n",
            " dense_29 (Dense)            (None, 128)               16512     \n",
            "                                                                 \n",
            " batch_normalization_29 (Bat  (None, 128)              512       \n",
            " chNormalization)                                                \n",
            "                                                                 \n",
            " dense_30 (Dense)            (None, 107)               13803     \n",
            "                                                                 \n",
            " batch_normalization_30 (Bat  (None, 107)              428       \n",
            " chNormalization)                                                \n",
            "                                                                 \n",
            " dense_31 (Dense)            (None, 107)               11556     \n",
            "                                                                 \n",
            "=================================================================\n",
            "Total params: 2,249,019\n",
            "Trainable params: 2,245,221\n",
            "Non-trainable params: 3,798\n",
            "_________________________________________________________________\n"
          ]
        }
      ]
    },
    {
      "cell_type": "code",
      "metadata": {
        "id": "Jc8rD_v9Ef41",
        "colab": {
          "base_uri": "https://localhost:8080/"
        },
        "outputId": "8b69116c-270d-4a3f-c108-1749334e4f1a"
      },
      "source": [
        "epochs = 50\n",
        "history = model.fit(\n",
        "  train_ds,\n",
        "  validation_data=val_ds,\n",
        "  epochs=epochs\n",
        ")"
      ],
      "execution_count": null,
      "outputs": [
        {
          "output_type": "stream",
          "name": "stdout",
          "text": [
            "Epoch 1/50\n",
            "156/156 [==============================] - 10s 36ms/step - loss: 4.1823 - accuracy: 0.1044 - val_loss: 4.1236 - val_accuracy: 0.1036\n",
            "Epoch 2/50\n",
            "156/156 [==============================] - 5s 30ms/step - loss: 3.3196 - accuracy: 0.1815 - val_loss: 3.6439 - val_accuracy: 0.1671\n",
            "Epoch 3/50\n",
            "156/156 [==============================] - 5s 31ms/step - loss: 3.1036 - accuracy: 0.2178 - val_loss: 3.3309 - val_accuracy: 0.1952\n",
            "Epoch 4/50\n",
            "156/156 [==============================] - 5s 31ms/step - loss: 2.9456 - accuracy: 0.2504 - val_loss: 3.1036 - val_accuracy: 0.2538\n",
            "Epoch 5/50\n",
            "156/156 [==============================] - 5s 31ms/step - loss: 2.8132 - accuracy: 0.2734 - val_loss: 3.1698 - val_accuracy: 0.2273\n",
            "Epoch 6/50\n",
            "156/156 [==============================] - 5s 31ms/step - loss: 2.6835 - accuracy: 0.2923 - val_loss: 3.1480 - val_accuracy: 0.2418\n",
            "Epoch 7/50\n",
            "156/156 [==============================] - 5s 31ms/step - loss: 2.6002 - accuracy: 0.3021 - val_loss: 2.9266 - val_accuracy: 0.2659\n",
            "Epoch 8/50\n",
            "156/156 [==============================] - 5s 31ms/step - loss: 2.5181 - accuracy: 0.3166 - val_loss: 3.1209 - val_accuracy: 0.2353\n",
            "Epoch 9/50\n",
            "156/156 [==============================] - 5s 31ms/step - loss: 2.4726 - accuracy: 0.3295 - val_loss: 2.7176 - val_accuracy: 0.2996\n",
            "Epoch 10/50\n",
            "156/156 [==============================] - 5s 31ms/step - loss: 2.3883 - accuracy: 0.3409 - val_loss: 3.2673 - val_accuracy: 0.2185\n",
            "Epoch 11/50\n",
            "156/156 [==============================] - 5s 31ms/step - loss: 2.3372 - accuracy: 0.3547 - val_loss: 3.1416 - val_accuracy: 0.2562\n",
            "Epoch 12/50\n",
            "156/156 [==============================] - 5s 30ms/step - loss: 2.2852 - accuracy: 0.3638 - val_loss: 2.8380 - val_accuracy: 0.3028\n",
            "Epoch 13/50\n",
            "156/156 [==============================] - 5s 29ms/step - loss: 2.2301 - accuracy: 0.3632 - val_loss: 2.9435 - val_accuracy: 0.2410\n",
            "Epoch 14/50\n",
            "156/156 [==============================] - 5s 30ms/step - loss: 2.1814 - accuracy: 0.3698 - val_loss: 2.6078 - val_accuracy: 0.3076\n",
            "Epoch 15/50\n",
            "156/156 [==============================] - 5s 30ms/step - loss: 2.1044 - accuracy: 0.3955 - val_loss: 2.7085 - val_accuracy: 0.3390\n",
            "Epoch 16/50\n",
            "156/156 [==============================] - 5s 29ms/step - loss: 2.0969 - accuracy: 0.4061 - val_loss: 2.6226 - val_accuracy: 0.3221\n",
            "Epoch 17/50\n",
            "156/156 [==============================] - 5s 29ms/step - loss: 2.0659 - accuracy: 0.4013 - val_loss: 2.8253 - val_accuracy: 0.3116\n",
            "Epoch 18/50\n",
            "156/156 [==============================] - 5s 30ms/step - loss: 2.0113 - accuracy: 0.4166 - val_loss: 2.7705 - val_accuracy: 0.3309\n",
            "Epoch 19/50\n",
            "156/156 [==============================] - 5s 29ms/step - loss: 1.9704 - accuracy: 0.4222 - val_loss: 2.4858 - val_accuracy: 0.3438\n",
            "Epoch 20/50\n",
            "156/156 [==============================] - 5s 30ms/step - loss: 1.9284 - accuracy: 0.4330 - val_loss: 2.7599 - val_accuracy: 0.3333\n",
            "Epoch 21/50\n",
            "156/156 [==============================] - 5s 29ms/step - loss: 1.9303 - accuracy: 0.4326 - val_loss: 2.4459 - val_accuracy: 0.3711\n",
            "Epoch 22/50\n",
            "156/156 [==============================] - 5s 30ms/step - loss: 1.8633 - accuracy: 0.4477 - val_loss: 2.5613 - val_accuracy: 0.3446\n",
            "Epoch 23/50\n",
            "156/156 [==============================] - 4s 29ms/step - loss: 1.8302 - accuracy: 0.4569 - val_loss: 2.8385 - val_accuracy: 0.3165\n",
            "Epoch 24/50\n",
            "156/156 [==============================] - 5s 30ms/step - loss: 1.8160 - accuracy: 0.4608 - val_loss: 2.5856 - val_accuracy: 0.3454\n",
            "Epoch 25/50\n",
            "156/156 [==============================] - 5s 30ms/step - loss: 1.7924 - accuracy: 0.4638 - val_loss: 2.6673 - val_accuracy: 0.3639\n",
            "Epoch 26/50\n",
            "156/156 [==============================] - 5s 29ms/step - loss: 1.7612 - accuracy: 0.4740 - val_loss: 2.7142 - val_accuracy: 0.3647\n",
            "Epoch 27/50\n",
            "156/156 [==============================] - 5s 30ms/step - loss: 1.7005 - accuracy: 0.4810 - val_loss: 4.3130 - val_accuracy: 0.1807\n",
            "Epoch 28/50\n",
            "156/156 [==============================] - 5s 30ms/step - loss: 1.6955 - accuracy: 0.4889 - val_loss: 2.7385 - val_accuracy: 0.3237\n",
            "Epoch 29/50\n",
            "156/156 [==============================] - 5s 29ms/step - loss: 1.6744 - accuracy: 0.4883 - val_loss: 2.6317 - val_accuracy: 0.3687\n",
            "Epoch 30/50\n",
            "156/156 [==============================] - 5s 30ms/step - loss: 1.6147 - accuracy: 0.5023 - val_loss: 2.8755 - val_accuracy: 0.3173\n",
            "Epoch 31/50\n",
            "156/156 [==============================] - 5s 30ms/step - loss: 1.6147 - accuracy: 0.4967 - val_loss: 3.2974 - val_accuracy: 0.2651\n",
            "Epoch 32/50\n",
            "156/156 [==============================] - 5s 30ms/step - loss: 1.5814 - accuracy: 0.5073 - val_loss: 2.7600 - val_accuracy: 0.3454\n",
            "Epoch 33/50\n",
            "156/156 [==============================] - 5s 29ms/step - loss: 1.5555 - accuracy: 0.5160 - val_loss: 2.8156 - val_accuracy: 0.3446\n",
            "Epoch 34/50\n",
            "156/156 [==============================] - 5s 30ms/step - loss: 1.5415 - accuracy: 0.5250 - val_loss: 2.8220 - val_accuracy: 0.3711\n",
            "Epoch 35/50\n",
            "156/156 [==============================] - 5s 30ms/step - loss: 1.5099 - accuracy: 0.5298 - val_loss: 3.3164 - val_accuracy: 0.2659\n",
            "Epoch 36/50\n",
            "156/156 [==============================] - 5s 30ms/step - loss: 1.4548 - accuracy: 0.5511 - val_loss: 2.4483 - val_accuracy: 0.3767\n",
            "Epoch 37/50\n",
            "156/156 [==============================] - 5s 29ms/step - loss: 1.4583 - accuracy: 0.5445 - val_loss: 3.0738 - val_accuracy: 0.3245\n",
            "Epoch 38/50\n",
            "156/156 [==============================] - 4s 28ms/step - loss: 1.4312 - accuracy: 0.5519 - val_loss: 3.2541 - val_accuracy: 0.3141\n",
            "Epoch 39/50\n",
            "156/156 [==============================] - 4s 28ms/step - loss: 1.3968 - accuracy: 0.5565 - val_loss: 2.6523 - val_accuracy: 0.3639\n",
            "Epoch 40/50\n",
            "156/156 [==============================] - 5s 31ms/step - loss: 1.3503 - accuracy: 0.5698 - val_loss: 3.0367 - val_accuracy: 0.3253\n",
            "Epoch 41/50\n",
            "156/156 [==============================] - 5s 31ms/step - loss: 1.3584 - accuracy: 0.5714 - val_loss: 2.7727 - val_accuracy: 0.3671\n",
            "Epoch 42/50\n",
            "156/156 [==============================] - 5s 31ms/step - loss: 1.3291 - accuracy: 0.5816 - val_loss: 2.4796 - val_accuracy: 0.4048\n",
            "Epoch 43/50\n",
            "156/156 [==============================] - 5s 31ms/step - loss: 1.3099 - accuracy: 0.5812 - val_loss: 3.0390 - val_accuracy: 0.3181\n",
            "Epoch 44/50\n",
            "156/156 [==============================] - 5s 31ms/step - loss: 1.2982 - accuracy: 0.5868 - val_loss: 2.5749 - val_accuracy: 0.4153\n",
            "Epoch 45/50\n",
            "156/156 [==============================] - 5s 31ms/step - loss: 1.2744 - accuracy: 0.5979 - val_loss: 2.8955 - val_accuracy: 0.3325\n",
            "Epoch 46/50\n",
            "156/156 [==============================] - 5s 31ms/step - loss: 1.2487 - accuracy: 0.5963 - val_loss: 3.2296 - val_accuracy: 0.3373\n",
            "Epoch 47/50\n",
            "156/156 [==============================] - 5s 31ms/step - loss: 1.2101 - accuracy: 0.6075 - val_loss: 2.8373 - val_accuracy: 0.3855\n",
            "Epoch 48/50\n",
            "156/156 [==============================] - 5s 31ms/step - loss: 1.2001 - accuracy: 0.6097 - val_loss: 2.5510 - val_accuracy: 0.4072\n",
            "Epoch 49/50\n",
            "156/156 [==============================] - 5s 31ms/step - loss: 1.1744 - accuracy: 0.6212 - val_loss: 10.4806 - val_accuracy: 0.0787\n",
            "Epoch 50/50\n",
            "156/156 [==============================] - 5s 31ms/step - loss: 1.1613 - accuracy: 0.6236 - val_loss: 2.8754 - val_accuracy: 0.3831\n"
          ]
        }
      ]
    },
    {
      "cell_type": "code",
      "metadata": {
        "id": "ynhS2KjVEhj8",
        "colab": {
          "base_uri": "https://localhost:8080/",
          "height": 499
        },
        "outputId": "1529cdee-473c-42ef-dcbf-addf6d37d383"
      },
      "source": [
        "acc = history.history['accuracy']\n",
        "val_acc = history.history['val_accuracy']\n",
        "\n",
        "loss = history.history['loss']\n",
        "val_loss = history.history['val_loss']\n",
        "\n",
        "epochs_range = range(epochs)\n",
        "\n",
        "plt.figure(figsize=(8, 8))\n",
        "plt.subplot(1, 2, 1)\n",
        "plt.plot(epochs_range, acc, label='Training Accuracy')\n",
        "plt.plot(epochs_range, val_acc, label='Validation Accuracy')\n",
        "plt.legend(loc='lower right')\n",
        "plt.title('Training and Validation Accuracy')\n",
        "\n",
        "plt.subplot(1, 2, 2)\n",
        "plt.plot(epochs_range, loss, label='Training Loss')\n",
        "plt.plot(epochs_range, val_loss, label='Validation Loss')\n",
        "plt.legend(loc='upper right')\n",
        "plt.title('Training and Validation Loss')\n",
        "plt.show()"
      ],
      "execution_count": null,
      "outputs": [
        {
          "output_type": "display_data",
          "data": {
            "image/png": "[encoded data removed]",
            "text/plain": [
              "<Figure size 576x576 with 2 Axes>"
            ]
          },
          "metadata": {
            "needs_background": "light"
          }
        }
      ]
    },
    {
      "cell_type": "code",
      "metadata": {
        "id": "IbEQMrsAH2yZ",
        "colab": {
          "base_uri": "https://localhost:8080/"
        },
        "outputId": "931c7860-ecc0-4b48-a939-ccef40013000"
      },
      "source": [
        "model.compile(\n",
        "    optimizer='adam',\n",
        "    loss=tf.losses.SparseCategoricalCrossentropy(from_logits=True),\n",
        "    metrics=['accuracy'])\n",
        "model.summary()"
      ],
      "execution_count": null,
      "outputs": [
        {
          "output_type": "stream",
          "name": "stdout",
          "text": [
            "Model: \"sequential_2\"\n",
            "_________________________________________________________________\n",
            " Layer (type)                Output Shape              Param #   \n",
            "=================================================================\n",
            " sequential_1 (Sequential)   (None, 180, 180, 1)       0         \n",
            "                                                                 \n",
            " rescaling_2 (Rescaling)     (None, 180, 180, 1)       0         \n",
            "                                                                 \n",
            " conv2d_3 (Conv2D)           (None, 178, 178, 32)      320       \n",
            "                                                                 \n",
            " max_pooling2d_3 (MaxPooling  (None, 89, 89, 32)       0         \n",
            " 2D)                                                             \n",
            "                                                                 \n",
            " conv2d_4 (Conv2D)           (None, 89, 89, 32)        9248      \n",
            "                                                                 \n",
            " max_pooling2d_4 (MaxPooling  (None, 44, 44, 32)       0         \n",
            " 2D)                                                             \n",
            "                                                                 \n",
            " conv2d_5 (Conv2D)           (None, 44, 44, 32)        9248      \n",
            "                                                                 \n",
            " max_pooling2d_5 (MaxPooling  (None, 22, 22, 32)       0         \n",
            " 2D)                                                             \n",
            "                                                                 \n",
            " dropout (Dropout)           (None, 22, 22, 32)        0         \n",
            "                                                                 \n",
            " flatten_1 (Flatten)         (None, 15488)             0         \n",
            "                                                                 \n",
            " dense_16 (Dense)            (None, 128)               1982592   \n",
            "                                                                 \n",
            " batch_normalization_16 (Bat  (None, 128)              512       \n",
            " chNormalization)                                                \n",
            "                                                                 \n",
            " dense_17 (Dense)            (None, 128)               16512     \n",
            "                                                                 \n",
            " batch_normalization_17 (Bat  (None, 128)              512       \n",
            " chNormalization)                                                \n",
            "                                                                 \n",
            " dense_18 (Dense)            (None, 128)               16512     \n",
            "                                                                 \n",
            " batch_normalization_18 (Bat  (None, 128)              512       \n",
            " chNormalization)                                                \n",
            "                                                                 \n",
            " dense_19 (Dense)            (None, 128)               16512     \n",
            "                                                                 \n",
            " batch_normalization_19 (Bat  (None, 128)              512       \n",
            " chNormalization)                                                \n",
            "                                                                 \n",
            " dense_20 (Dense)            (None, 128)               16512     \n",
            "                                                                 \n",
            " batch_normalization_20 (Bat  (None, 128)              512       \n",
            " chNormalization)                                                \n",
            "                                                                 \n",
            " dense_21 (Dense)            (None, 128)               16512     \n",
            "                                                                 \n",
            " batch_normalization_21 (Bat  (None, 128)              512       \n",
            " chNormalization)                                                \n",
            "                                                                 \n",
            " dense_22 (Dense)            (None, 128)               16512     \n",
            "                                                                 \n",
            " batch_normalization_22 (Bat  (None, 128)              512       \n",
            " chNormalization)                                                \n",
            "                                                                 \n",
            " dense_23 (Dense)            (None, 128)               16512     \n",
            "                                                                 \n",
            " batch_normalization_23 (Bat  (None, 128)              512       \n",
            " chNormalization)                                                \n",
            "                                                                 \n",
            " dense_24 (Dense)            (None, 128)               16512     \n",
            "                                                                 \n",
            " batch_normalization_24 (Bat  (None, 128)              512       \n",
            " chNormalization)                                                \n",
            "                                                                 \n",
            " dense_25 (Dense)            (None, 128)               16512     \n",
            "                                                                 \n",
            " batch_normalization_25 (Bat  (None, 128)              512       \n",
            " chNormalization)                                                \n",
            "                                                                 \n",
            " dense_26 (Dense)            (None, 128)               16512     \n",
            "                                                                 \n",
            " batch_normalization_26 (Bat  (None, 128)              512       \n",
            " chNormalization)                                                \n",
            "                                                                 \n",
            " dense_27 (Dense)            (None, 128)               16512     \n",
            "                                                                 \n",
            " batch_normalization_27 (Bat  (None, 128)              512       \n",
            " chNormalization)                                                \n",
            "                                                                 \n",
            " dense_28 (Dense)            (None, 128)               16512     \n",
            "                                                                 \n",
            " batch_normalization_28 (Bat  (None, 128)              512       \n",
            " chNormalization)                                                \n",
            "                                                                 \n",
            " dense_29 (Dense)            (None, 128)               16512     \n",
            "                                                                 \n",
            " batch_normalization_29 (Bat  (None, 128)              512       \n",
            " chNormalization)                                                \n",
            "                                                                 \n",
            " dense_30 (Dense)            (None, 107)               13803     \n",
            "                                                                 \n",
            " batch_normalization_30 (Bat  (None, 107)              428       \n",
            " chNormalization)                                                \n",
            "                                                                 \n",
            " dense_31 (Dense)            (None, 107)               11556     \n",
            "                                                                 \n",
            "=================================================================\n",
            "Total params: 2,249,019\n",
            "Trainable params: 2,245,221\n",
            "Non-trainable params: 3,798\n",
            "_________________________________________________________________\n"
          ]
        }
      ]
    },
    {
      "cell_type": "code",
      "metadata": {
        "id": "df30HUqFjWre"
      },
      "source": [
        ""
      ],
      "execution_count": null,
      "outputs": []
    }
  ]
}