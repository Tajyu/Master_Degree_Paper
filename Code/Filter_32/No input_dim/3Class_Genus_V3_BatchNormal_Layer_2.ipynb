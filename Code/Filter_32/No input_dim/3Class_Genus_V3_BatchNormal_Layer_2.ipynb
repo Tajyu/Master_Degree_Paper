{
  "nbformat": 4,
  "nbformat_minor": 0,
  "metadata": {
    "colab": {
      "name": "3Class_Genus_V3_BatchNormal_Layer_2.ipynb",
      "provenance": [],
      "collapsed_sections": [],
      "mount_file_id": "1dJO_D2jYK-SMyPqrdg7_bf9eRphpY9VC",
      "authorship_tag": "ABX9TyM3URi07FW2zFsyD7lAKuYw",
      "include_colab_link": true
    },
    "kernelspec": {
      "name": "python3",
      "display_name": "Python 3"
    },
    "language_info": {
      "name": "python"
    },
    "accelerator": "GPU"
  },
  "cells": [
    {
      "cell_type": "markdown",
      "metadata": {
        "id": "view-in-github",
        "colab_type": "text"
      },
      "source": [
        "<a href=\"https://colab.research.google.com/github/Tajyu/Master_Degree_Paper/blob/main/Code/Filter_32/No%20input_dim/3Class_Genus_V3_BatchNormal_Layer_2.ipynb\" target=\"_parent\"><img src=\"https://colab.research.google.com/assets/colab-badge.svg\" alt=\"Open In Colab\"/></a>"
      ]
    },
    {
      "cell_type": "code",
      "metadata": {
        "id": "yWckd06_68Em"
      },
      "source": [
        "import tensorflow as tf\n",
        "from tensorflow.keras import datasets, layers, models\n",
        "from keras.preprocessing.image import ImageDataGenerator\n",
        "import numpy as np\n",
        "import matplotlib.pyplot as plt\n",
        "import cv2 as cv\n",
        "import os\n",
        "import pathlib\n",
        "import PIL\n",
        "from tensorflow import keras\n",
        "from tensorflow.keras import layers\n",
        "from tensorflow.keras.models import Sequential\n",
        "from tensorflow.keras.layers import Dense, Flatten, BatchNormalization, Dropout"
      ],
      "execution_count": null,
      "outputs": []
    },
    {
      "cell_type": "code",
      "metadata": {
        "id": "xav9zirHttk_"
      },
      "source": [
        "image_list = os.listdir('/content/drive/MyDrive/Colab Notebooks/Final_Project/Cell_Genus')"
      ],
      "execution_count": null,
      "outputs": []
    },
    {
      "cell_type": "code",
      "metadata": {
        "colab": {
          "base_uri": "https://localhost:8080/"
        },
        "id": "K-wD0dM5tx_E",
        "outputId": "adf48e0f-99d6-44c2-c745-15aa69bfe4e3"
      },
      "source": [
        "print(image_list)"
      ],
      "execution_count": null,
      "outputs": [
        {
          "output_type": "stream",
          "name": "stdout",
          "text": [
            "['10_Genus_Stauroneis_Ehrenberg', '10_Genus_Staurosira_Ehrenberg', '11_Genus_Craspedostauros_E.J_Cox_1999', '11_Genus_Staurosirella_Williams_and_Round', '12_Genus_Caloneis_Cleve_1894', '12_Genus_Synedra_Ehrenberg', '13_Genus_Pinnularia_Ehrenberg_1843', '1_Genus_Acanthoceras_Honigmann', '1_Genus_Achnanthes_Bory', '1_Genus_Actinocyclus_Ehrenberg', '1_Genus_Aphanocapsa_Nageli_1849', '1_Genus_Asterionella_Hassall', '1_Genus_Aulacoseira', '1_Genus_Biremis_Mann_et_Cox_in_Round_Crawford_and_Mann', '1_Genus_Characium_A_Braun_in_Kutzing_1849', '1_Genus_Chroococcus_Nageli', '1_Genus_Closterium_Nitzsch_ex_Ralfs_1848', '1_Genus_Coelastrum_Nageli_1849', '1_Genus_Cylindrocystis_Meneghini_ex_de_Bary_1858', '1_Genus_Dictyosphaerium_Nageli_1849', '1_Genus_Docidium_Brebisson_ex_Ralfs_1848', '1_Genus_Eunotia_Ehrenberg', '1_Genus_Geitlerinema_(Anagnostidis_et_Komarek)_Anagnostidis_1989', '1_Genus_Gonatozygon_de_Bary_1856', '1_Genus_Hydrodictyon_Roth_1797', '1_Genus_Hydrosera_whampoensis', '1_Genus_Jaaginema_Anagnostidis_et_Komarek_1988', '1_Genus_Lyngbya_C_Agardh_ex_Gomont_1892', '1_Genus_Melosira_Agardh', '1_Genus_Micractinium_Fresenius_1858', '1_Genus_Micrasterias_Ralfs_1848', '1_Genus_Microcystis_Kutzing_ex_Lemmermann_1907', '1_Genus_Oscillatoria_Vaucher_ex_Gomont_1982', '1_Genus_Pediastrum_Meyen_1829', '1_Genus_Penium_Brebisson_ex_Ralfs_in_Ralfs_1848', '1_Genus_Phormidium_Kutzing_ex_Gomont_1892', '1_Genus_Planktothrix_Anagnostidis_et_Komarek_1988', '1_Genus_Pleurosira_laevis_(Ehrenberg)', '1_Genus_Rhizosolenia_Ehrenberg', '1_Genus_Schizochlamydella_Korshikov_1953', '1_Genus_Staurodesmus_Teiling_1848', '1_Genus_Trochiscia_Kutzing_1834', '1_Scenedesmus_Hegewald_1978', '2_Acutodesmus_Hegewald_1978', '2_Genus_Achnanthidium_Kutzing', '2_Genus_Actinastrum_Lagerheim_1882', '2_Genus_Actinella_Lewis', '2_Genus_Ankyra_Fott_1957', '2_Genus_Caloneis_Cleve', '2_Genus_Chaetoceros_Ehrenberg', '2_Genus_Coenochloris_Korshikov_1953', '2_Genus_Cyclotella', '2_Genus_Diatoma_Bory', '2_Genus_Dimorphococcus_A_Braun_1855', '2_Genus_Golenkinia_Chodat_1894', '2_Genus_Haplotaenium_Bando_1988', '2_Genus_Leibleinia_(Gomont)_L_Hoffman_1985', '2_Genus_Leptolyngbya_Anagnostidis_et_Komarek_1988', '2_Genus_Merismopedia_Meyen_1839', '2_Genus_Netrium_(Nageli)_Itzigsohn_et_Rothe_in_Rabenhorst_1856', '2_Genus_Orthoseira_Thwaites_1848', '2_Genus_Phormidium_Kutzing_ex_Gomont_1892', '2_Genus_Sorastrum_Kutzing_1845', '2_Genus_Staurastrum_Meyen_ex_Ralfs_1848', '3_Desmodesmus_Chodat_1926', '3_Genus_Acanthosphaera_Lemmerman_1899', '3_Genus_Anorthoneis_Grunow', '3_Genus_Cyclostephanos_Round', '3_Genus_Dichotomococcus_Korshikov_1928', '3_Genus_Heteroleibleinia_(Geitler)_L_Hoffmann_1985', '3_Genus_Limnothrix_Meffert_1988', '3_Genus_Meridion_Agardh', '3_Genus_Paradoxia_Svirenko_1928', '3_Genus_Peronia_Bebisson_and_Arnott_ex_Kitton', '3_Genus_Phormidiochaete_Komarek_in_Anagnostidis_2001', '3_Genus_Pinnularia_Ehrenberg_1', '3_Genus_Pleurotaenium_Nageli_1849', '3_Genus_Radiococcus_Schmidle_1902', '3_Genus_Snowella_Elenkin_1938', '3_Genus_Spirotaenia_Brebisson_in_Ralfs_1848', '4_Genus_Botryococcus_Kutzing_1849', '4_Genus_Cocconeis_Ehrenberg', '4_Genus_Eutetramorus_Walton_1918', '4_Genus_Leptolyngbya_Anagnostidis_et_Komarek_1988', '4_Genus_Opephora_Petit', '4_Genus_Pinnularia_Ehrenberg_2', '4_Genus_Schroederia_Lemmermann_1898', '4_Genus_Stephanodiscus_Ehrenberg', '4_Genus_Synechocystis_Sauvageau_1892', '4_Genus_Tortitaenia_A_J_Brook_1998', '5_Genus_Caloneis_Cleve', '5_Genus_Coenocystis_Korshikov_1953', '5_Genus_Planktolyngbya_Anagnostidis_et_Komarek_1988', '5_Genus_Tabellaria_Ehrenberg', '5_Genus_Thalassiosira_Cleve', '5_Genus_Woronichinia_Elenkin_1933', '6_Genus_Anomoeoneis_Pfitzer', '6_Genus_Fragilaria_Lyngbye', '6_Genus_Gloeocystis_Nageli_1849', '6_Genus_Pseudanabaena_Lauterborn_1915', '6_Genus_Skeletonema_Greville', '7_Genus_Caloneis_Cleve', '7_Genus_Hannaea_Patrick', '8_Genus_Diploneis(Ehrenberg)_Cleve', '8_Genus_Pseudostaurosira_Williams_and_Round', '9_Genus_Neidium_Pfitzer', '9_Genus_Punctastriata_Williams_and_Round']\n"
          ]
        }
      ]
    },
    {
      "cell_type": "code",
      "metadata": {
        "id": "o-0DvzEHt8VE"
      },
      "source": [
        "data_generator = ImageDataGenerator(rescale = 1./255)\n",
        "\n",
        "data_dir = \"/content/drive/MyDrive/Colab Notebooks/Final_Project/Cell_Genus\""
      ],
      "execution_count": null,
      "outputs": []
    },
    {
      "cell_type": "code",
      "metadata": {
        "id": "7aTCfEm3t10n"
      },
      "source": [
        "batch_size = 32\n",
        "img_height = 180\n",
        "img_width = 180"
      ],
      "execution_count": null,
      "outputs": []
    },
    {
      "cell_type": "code",
      "metadata": {
        "colab": {
          "base_uri": "https://localhost:8080/"
        },
        "id": "9Smg-miEt22s",
        "outputId": "daa5c999-3fdf-48a8-8cce-ec62af1cf92c"
      },
      "source": [
        "train_ds = tf.keras.preprocessing.image_dataset_from_directory(\n",
        "  data_dir,\n",
        "  color_mode = \"grayscale\",\n",
        "  validation_split=0.2,\n",
        "  subset=\"training\",\n",
        "  seed=123,\n",
        "  image_size=(img_height, img_width),\n",
        "  batch_size=batch_size)"
      ],
      "execution_count": null,
      "outputs": [
        {
          "output_type": "stream",
          "name": "stdout",
          "text": [
            "Found 6226 files belonging to 107 classes.\n",
            "Using 4981 files for training.\n"
          ]
        }
      ]
    },
    {
      "cell_type": "code",
      "metadata": {
        "colab": {
          "base_uri": "https://localhost:8080/"
        },
        "id": "1nR0WdQGt44x",
        "outputId": "2147af0e-3dba-47fd-dcee-9c9eeedb9768"
      },
      "source": [
        "val_ds = tf.keras.preprocessing.image_dataset_from_directory(\n",
        "  data_dir,\n",
        "  color_mode = \"grayscale\",\n",
        "  validation_split=0.2,\n",
        "  subset=\"validation\",\n",
        "  seed=123,\n",
        "  image_size=(img_height, img_width),\n",
        "  batch_size=batch_size)"
      ],
      "execution_count": null,
      "outputs": [
        {
          "output_type": "stream",
          "name": "stdout",
          "text": [
            "Found 6226 files belonging to 107 classes.\n",
            "Using 1245 files for validation.\n"
          ]
        }
      ]
    },
    {
      "cell_type": "code",
      "metadata": {
        "colab": {
          "base_uri": "https://localhost:8080/"
        },
        "id": "F-cz_CtGug8Y",
        "outputId": "77221309-0a0b-4b5b-b6a2-b374952596aa"
      },
      "source": [
        "class_names = train_ds.class_names\n",
        "print(class_names)"
      ],
      "execution_count": null,
      "outputs": [
        {
          "output_type": "stream",
          "name": "stdout",
          "text": [
            "['10_Genus_Stauroneis_Ehrenberg', '10_Genus_Staurosira_Ehrenberg', '11_Genus_Craspedostauros_E.J_Cox_1999', '11_Genus_Staurosirella_Williams_and_Round', '12_Genus_Caloneis_Cleve_1894', '12_Genus_Synedra_Ehrenberg', '13_Genus_Pinnularia_Ehrenberg_1843', '1_Genus_Acanthoceras_Honigmann', '1_Genus_Achnanthes_Bory', '1_Genus_Actinocyclus_Ehrenberg', '1_Genus_Aphanocapsa_Nageli_1849', '1_Genus_Asterionella_Hassall', '1_Genus_Aulacoseira', '1_Genus_Biremis_Mann_et_Cox_in_Round_Crawford_and_Mann', '1_Genus_Characium_A_Braun_in_Kutzing_1849', '1_Genus_Chroococcus_Nageli', '1_Genus_Closterium_Nitzsch_ex_Ralfs_1848', '1_Genus_Coelastrum_Nageli_1849', '1_Genus_Cylindrocystis_Meneghini_ex_de_Bary_1858', '1_Genus_Dictyosphaerium_Nageli_1849', '1_Genus_Docidium_Brebisson_ex_Ralfs_1848', '1_Genus_Eunotia_Ehrenberg', '1_Genus_Geitlerinema_(Anagnostidis_et_Komarek)_Anagnostidis_1989', '1_Genus_Gonatozygon_de_Bary_1856', '1_Genus_Hydrodictyon_Roth_1797', '1_Genus_Hydrosera_whampoensis', '1_Genus_Jaaginema_Anagnostidis_et_Komarek_1988', '1_Genus_Lyngbya_C_Agardh_ex_Gomont_1892', '1_Genus_Melosira_Agardh', '1_Genus_Micractinium_Fresenius_1858', '1_Genus_Micrasterias_Ralfs_1848', '1_Genus_Microcystis_Kutzing_ex_Lemmermann_1907', '1_Genus_Oscillatoria_Vaucher_ex_Gomont_1982', '1_Genus_Pediastrum_Meyen_1829', '1_Genus_Penium_Brebisson_ex_Ralfs_in_Ralfs_1848', '1_Genus_Phormidium_Kutzing_ex_Gomont_1892', '1_Genus_Planktothrix_Anagnostidis_et_Komarek_1988', '1_Genus_Pleurosira_laevis_(Ehrenberg)', '1_Genus_Rhizosolenia_Ehrenberg', '1_Genus_Schizochlamydella_Korshikov_1953', '1_Genus_Staurodesmus_Teiling_1848', '1_Genus_Trochiscia_Kutzing_1834', '1_Scenedesmus_Hegewald_1978', '2_Acutodesmus_Hegewald_1978', '2_Genus_Achnanthidium_Kutzing', '2_Genus_Actinastrum_Lagerheim_1882', '2_Genus_Actinella_Lewis', '2_Genus_Ankyra_Fott_1957', '2_Genus_Caloneis_Cleve', '2_Genus_Chaetoceros_Ehrenberg', '2_Genus_Coenochloris_Korshikov_1953', '2_Genus_Cyclotella', '2_Genus_Diatoma_Bory', '2_Genus_Dimorphococcus_A_Braun_1855', '2_Genus_Golenkinia_Chodat_1894', '2_Genus_Haplotaenium_Bando_1988', '2_Genus_Leibleinia_(Gomont)_L_Hoffman_1985', '2_Genus_Leptolyngbya_Anagnostidis_et_Komarek_1988', '2_Genus_Merismopedia_Meyen_1839', '2_Genus_Netrium_(Nageli)_Itzigsohn_et_Rothe_in_Rabenhorst_1856', '2_Genus_Orthoseira_Thwaites_1848', '2_Genus_Phormidium_Kutzing_ex_Gomont_1892', '2_Genus_Sorastrum_Kutzing_1845', '2_Genus_Staurastrum_Meyen_ex_Ralfs_1848', '3_Desmodesmus_Chodat_1926', '3_Genus_Acanthosphaera_Lemmerman_1899', '3_Genus_Anorthoneis_Grunow', '3_Genus_Cyclostephanos_Round', '3_Genus_Dichotomococcus_Korshikov_1928', '3_Genus_Heteroleibleinia_(Geitler)_L_Hoffmann_1985', '3_Genus_Limnothrix_Meffert_1988', '3_Genus_Meridion_Agardh', '3_Genus_Paradoxia_Svirenko_1928', '3_Genus_Peronia_Bebisson_and_Arnott_ex_Kitton', '3_Genus_Phormidiochaete_Komarek_in_Anagnostidis_2001', '3_Genus_Pinnularia_Ehrenberg_1', '3_Genus_Pleurotaenium_Nageli_1849', '3_Genus_Radiococcus_Schmidle_1902', '3_Genus_Snowella_Elenkin_1938', '3_Genus_Spirotaenia_Brebisson_in_Ralfs_1848', '4_Genus_Botryococcus_Kutzing_1849', '4_Genus_Cocconeis_Ehrenberg', '4_Genus_Eutetramorus_Walton_1918', '4_Genus_Leptolyngbya_Anagnostidis_et_Komarek_1988', '4_Genus_Opephora_Petit', '4_Genus_Pinnularia_Ehrenberg_2', '4_Genus_Schroederia_Lemmermann_1898', '4_Genus_Stephanodiscus_Ehrenberg', '4_Genus_Synechocystis_Sauvageau_1892', '4_Genus_Tortitaenia_A_J_Brook_1998', '5_Genus_Caloneis_Cleve', '5_Genus_Coenocystis_Korshikov_1953', '5_Genus_Planktolyngbya_Anagnostidis_et_Komarek_1988', '5_Genus_Tabellaria_Ehrenberg', '5_Genus_Thalassiosira_Cleve', '5_Genus_Woronichinia_Elenkin_1933', '6_Genus_Anomoeoneis_Pfitzer', '6_Genus_Fragilaria_Lyngbye', '6_Genus_Gloeocystis_Nageli_1849', '6_Genus_Pseudanabaena_Lauterborn_1915', '6_Genus_Skeletonema_Greville', '7_Genus_Caloneis_Cleve', '7_Genus_Hannaea_Patrick', '8_Genus_Diploneis(Ehrenberg)_Cleve', '8_Genus_Pseudostaurosira_Williams_and_Round', '9_Genus_Neidium_Pfitzer', '9_Genus_Punctastriata_Williams_and_Round']\n"
          ]
        }
      ]
    },
    {
      "cell_type": "code",
      "metadata": {
        "colab": {
          "base_uri": "https://localhost:8080/"
        },
        "id": "5EQOikPAukic",
        "outputId": "18c9a0e7-801f-4f4f-e8a9-ba93717e19f0"
      },
      "source": [
        "for image_batch, labels_batch in train_ds:\n",
        "  print(image_batch.shape)\n",
        "  print(labels_batch.shape)\n",
        "  break"
      ],
      "execution_count": null,
      "outputs": [
        {
          "output_type": "stream",
          "name": "stdout",
          "text": [
            "(32, 180, 180, 1)\n",
            "(32,)\n"
          ]
        }
      ]
    },
    {
      "cell_type": "code",
      "metadata": {
        "id": "9eVl7tiDux9q"
      },
      "source": [
        "from tensorflow.keras import layers\n",
        "\n",
        "normalization_layer = tf.keras.layers.experimental.preprocessing.Rescaling(1./255)"
      ],
      "execution_count": null,
      "outputs": []
    },
    {
      "cell_type": "code",
      "metadata": {
        "colab": {
          "base_uri": "https://localhost:8080/"
        },
        "id": "AiIrsxzZuzEo",
        "outputId": "a3442487-cc9e-40c6-f25b-41e575ec8483"
      },
      "source": [
        "normalized_ds = train_ds.map(lambda x, y: (normalization_layer(x), y))\n",
        "image_batch, labels_batch = next(iter(normalized_ds))\n",
        "first_image = image_batch[0]\n",
        "# Notice the pixels values are now in `[0,1]`.\n",
        "print(np.min(first_image), np.max(first_image))"
      ],
      "execution_count": null,
      "outputs": [
        {
          "output_type": "stream",
          "name": "stdout",
          "text": [
            "0.0 1.0\n"
          ]
        }
      ]
    },
    {
      "cell_type": "code",
      "metadata": {
        "id": "__WbVabru0Bp"
      },
      "source": [
        "AUTOTUNE = tf.data.experimental.AUTOTUNE\n",
        "\n",
        "train_ds = train_ds.cache().prefetch(buffer_size=AUTOTUNE)\n",
        "val_ds = val_ds.cache().prefetch(buffer_size=AUTOTUNE)"
      ],
      "execution_count": null,
      "outputs": []
    },
    {
      "cell_type": "code",
      "metadata": {
        "id": "g1GeYFXCu2gV"
      },
      "source": [
        "num_classes = 107\n",
        "model = tf.keras.Sequential([\n",
        "    layers.experimental.preprocessing.Rescaling(1./255),\n",
        "    layers.Conv2D(32, 3,input_shape = image_batch, activation='relu'),\n",
        "    layers.MaxPooling2D(),\n",
        "    layers.Conv2D(32, 3, activation='relu'),\n",
        "    layers.MaxPooling2D(),\n",
        "    layers.Conv2D(32, 3, activation='relu'),\n",
        "    layers.MaxPooling2D(),\n",
        "    layers.Flatten(),\n",
        "    BatchNormalization(),\n",
        "    layers.Dense(128, activation='relu'),\n",
        "    BatchNormalization(),\n",
        "    layers.Dense(107, activation='softmax'),\n",
        "    BatchNormalization(),\n",
        "    layers.Dense(num_classes)\n",
        "    ])"
      ],
      "execution_count": null,
      "outputs": []
    },
    {
      "cell_type": "code",
      "metadata": {
        "id": "wU4xPAvNYWry"
      },
      "source": [
        "model.compile(\n",
        "    optimizer='adam',\n",
        "    loss=tf.losses.SparseCategoricalCrossentropy(from_logits=True),\n",
        "    metrics=['accuracy'])"
      ],
      "execution_count": null,
      "outputs": []
    },
    {
      "cell_type": "code",
      "metadata": {
        "colab": {
          "base_uri": "https://localhost:8080/"
        },
        "id": "Tk8ssrbHu44p",
        "outputId": "a814fe5b-667a-416a-eaf5-4d002efefb55"
      },
      "source": [
        "epochs=50\n",
        "history = model.fit(\n",
        "  train_ds,\n",
        "  validation_data=val_ds,\n",
        "  epochs=epochs\n",
        ")"
      ],
      "execution_count": null,
      "outputs": [
        {
          "output_type": "stream",
          "name": "stdout",
          "text": [
            "Epoch 1/50\n",
            "156/156 [==============================] - 555s 4s/step - loss: 3.1569 - accuracy: 0.3264 - val_loss: 4.2682 - val_accuracy: 0.1430\n",
            "Epoch 2/50\n",
            "156/156 [==============================] - 3s 17ms/step - loss: 1.8506 - accuracy: 0.5386 - val_loss: 3.8452 - val_accuracy: 0.2241\n",
            "Epoch 3/50\n",
            "156/156 [==============================] - 3s 17ms/step - loss: 1.1232 - accuracy: 0.7404 - val_loss: 2.8561 - val_accuracy: 0.4369\n",
            "Epoch 4/50\n",
            "156/156 [==============================] - 3s 17ms/step - loss: 0.6921 - accuracy: 0.8514 - val_loss: 2.1264 - val_accuracy: 0.4924\n",
            "Epoch 5/50\n",
            "156/156 [==============================] - 3s 16ms/step - loss: 0.4179 - accuracy: 0.9167 - val_loss: 2.1076 - val_accuracy: 0.4948\n",
            "Epoch 6/50\n",
            "156/156 [==============================] - 3s 16ms/step - loss: 0.2614 - accuracy: 0.9520 - val_loss: 2.1997 - val_accuracy: 0.5060\n",
            "Epoch 7/50\n",
            "156/156 [==============================] - 3s 16ms/step - loss: 0.1606 - accuracy: 0.9763 - val_loss: 2.1182 - val_accuracy: 0.5189\n",
            "Epoch 8/50\n",
            "156/156 [==============================] - 2s 16ms/step - loss: 0.1006 - accuracy: 0.9833 - val_loss: 2.1828 - val_accuracy: 0.5004\n",
            "Epoch 9/50\n",
            "156/156 [==============================] - 3s 16ms/step - loss: 0.0687 - accuracy: 0.9902 - val_loss: 2.2569 - val_accuracy: 0.4932\n",
            "Epoch 10/50\n",
            "156/156 [==============================] - 3s 16ms/step - loss: 0.0471 - accuracy: 0.9928 - val_loss: 2.2628 - val_accuracy: 0.4859\n",
            "Epoch 11/50\n",
            "156/156 [==============================] - 3s 16ms/step - loss: 0.0344 - accuracy: 0.9954 - val_loss: 2.1793 - val_accuracy: 0.5245\n",
            "Epoch 12/50\n",
            "156/156 [==============================] - 3s 16ms/step - loss: 0.0287 - accuracy: 0.9964 - val_loss: 2.1561 - val_accuracy: 0.5116\n",
            "Epoch 13/50\n",
            "156/156 [==============================] - 3s 17ms/step - loss: 0.0194 - accuracy: 0.9978 - val_loss: 2.2493 - val_accuracy: 0.5197\n",
            "Epoch 14/50\n",
            "156/156 [==============================] - 3s 16ms/step - loss: 0.0190 - accuracy: 0.9972 - val_loss: 2.2653 - val_accuracy: 0.5165\n",
            "Epoch 15/50\n",
            "156/156 [==============================] - 3s 16ms/step - loss: 0.0160 - accuracy: 0.9974 - val_loss: 2.2928 - val_accuracy: 0.5229\n",
            "Epoch 16/50\n",
            "156/156 [==============================] - 3s 17ms/step - loss: 0.0109 - accuracy: 0.9992 - val_loss: 2.2689 - val_accuracy: 0.5398\n",
            "Epoch 17/50\n",
            "156/156 [==============================] - 3s 17ms/step - loss: 0.0085 - accuracy: 0.9992 - val_loss: 2.2696 - val_accuracy: 0.5301\n",
            "Epoch 18/50\n",
            "156/156 [==============================] - 3s 16ms/step - loss: 0.0063 - accuracy: 0.9996 - val_loss: 2.2651 - val_accuracy: 0.5325\n",
            "Epoch 19/50\n",
            "156/156 [==============================] - 3s 16ms/step - loss: 0.0277 - accuracy: 0.9942 - val_loss: 4.7523 - val_accuracy: 0.3092\n",
            "Epoch 20/50\n",
            "156/156 [==============================] - 3s 16ms/step - loss: 0.3149 - accuracy: 0.9099 - val_loss: 3.8976 - val_accuracy: 0.4072\n",
            "Epoch 21/50\n",
            "156/156 [==============================] - 3s 17ms/step - loss: 0.1718 - accuracy: 0.9544 - val_loss: 2.9375 - val_accuracy: 0.4803\n",
            "Epoch 22/50\n",
            "156/156 [==============================] - 3s 17ms/step - loss: 0.0552 - accuracy: 0.9910 - val_loss: 2.5533 - val_accuracy: 0.5108\n",
            "Epoch 23/50\n",
            "156/156 [==============================] - 3s 16ms/step - loss: 0.0198 - accuracy: 0.9984 - val_loss: 2.3763 - val_accuracy: 0.5309\n",
            "Epoch 24/50\n",
            "156/156 [==============================] - 3s 16ms/step - loss: 0.0095 - accuracy: 0.9990 - val_loss: 2.3679 - val_accuracy: 0.5293\n",
            "Epoch 25/50\n",
            "156/156 [==============================] - 3s 16ms/step - loss: 0.0054 - accuracy: 0.9994 - val_loss: 2.3791 - val_accuracy: 0.5269\n",
            "Epoch 26/50\n",
            "156/156 [==============================] - 3s 16ms/step - loss: 0.0040 - accuracy: 1.0000 - val_loss: 2.4024 - val_accuracy: 0.5309\n",
            "Epoch 27/50\n",
            "156/156 [==============================] - 3s 17ms/step - loss: 0.0031 - accuracy: 1.0000 - val_loss: 2.4286 - val_accuracy: 0.5341\n",
            "Epoch 28/50\n",
            "156/156 [==============================] - 3s 17ms/step - loss: 0.0025 - accuracy: 1.0000 - val_loss: 2.4499 - val_accuracy: 0.5333\n",
            "Epoch 29/50\n",
            "156/156 [==============================] - 3s 16ms/step - loss: 0.0022 - accuracy: 1.0000 - val_loss: 2.4707 - val_accuracy: 0.5325\n",
            "Epoch 30/50\n",
            "156/156 [==============================] - 3s 16ms/step - loss: 0.0019 - accuracy: 1.0000 - val_loss: 2.4901 - val_accuracy: 0.5317\n",
            "Epoch 31/50\n",
            "156/156 [==============================] - 3s 16ms/step - loss: 0.0017 - accuracy: 1.0000 - val_loss: 2.5083 - val_accuracy: 0.5301\n",
            "Epoch 32/50\n",
            "156/156 [==============================] - 3s 17ms/step - loss: 0.0015 - accuracy: 1.0000 - val_loss: 2.5261 - val_accuracy: 0.5325\n",
            "Epoch 33/50\n",
            "156/156 [==============================] - 3s 17ms/step - loss: 0.0013 - accuracy: 1.0000 - val_loss: 2.5435 - val_accuracy: 0.5341\n",
            "Epoch 34/50\n",
            "156/156 [==============================] - 3s 17ms/step - loss: 0.0012 - accuracy: 1.0000 - val_loss: 2.5610 - val_accuracy: 0.5333\n",
            "Epoch 35/50\n",
            "156/156 [==============================] - 3s 17ms/step - loss: 0.0011 - accuracy: 1.0000 - val_loss: 2.5778 - val_accuracy: 0.5333\n",
            "Epoch 36/50\n",
            "156/156 [==============================] - 3s 16ms/step - loss: 9.6495e-04 - accuracy: 1.0000 - val_loss: 2.5948 - val_accuracy: 0.5317\n",
            "Epoch 37/50\n",
            "156/156 [==============================] - 3s 17ms/step - loss: 8.7280e-04 - accuracy: 1.0000 - val_loss: 2.6112 - val_accuracy: 0.5325\n",
            "Epoch 38/50\n",
            "156/156 [==============================] - 3s 16ms/step - loss: 7.9098e-04 - accuracy: 1.0000 - val_loss: 2.6276 - val_accuracy: 0.5317\n",
            "Epoch 39/50\n",
            "156/156 [==============================] - 3s 16ms/step - loss: 7.1820e-04 - accuracy: 1.0000 - val_loss: 2.6436 - val_accuracy: 0.5333\n",
            "Epoch 40/50\n",
            "156/156 [==============================] - 3s 16ms/step - loss: 6.5291e-04 - accuracy: 1.0000 - val_loss: 2.6597 - val_accuracy: 0.5333\n",
            "Epoch 41/50\n",
            "156/156 [==============================] - 3s 17ms/step - loss: 5.9441e-04 - accuracy: 1.0000 - val_loss: 2.6760 - val_accuracy: 0.5341\n",
            "Epoch 42/50\n",
            "156/156 [==============================] - 3s 16ms/step - loss: 5.4163e-04 - accuracy: 1.0000 - val_loss: 2.6919 - val_accuracy: 0.5341\n",
            "Epoch 43/50\n",
            "156/156 [==============================] - 3s 16ms/step - loss: 4.9414e-04 - accuracy: 1.0000 - val_loss: 2.7079 - val_accuracy: 0.5349\n",
            "Epoch 44/50\n",
            "156/156 [==============================] - 3s 17ms/step - loss: 4.5110e-04 - accuracy: 1.0000 - val_loss: 2.7241 - val_accuracy: 0.5357\n",
            "Epoch 45/50\n",
            "156/156 [==============================] - 3s 17ms/step - loss: 4.1210e-04 - accuracy: 1.0000 - val_loss: 2.7400 - val_accuracy: 0.5349\n",
            "Epoch 46/50\n",
            "156/156 [==============================] - 3s 17ms/step - loss: 3.7671e-04 - accuracy: 1.0000 - val_loss: 2.7561 - val_accuracy: 0.5349\n",
            "Epoch 47/50\n",
            "156/156 [==============================] - 3s 17ms/step - loss: 3.4456e-04 - accuracy: 1.0000 - val_loss: 2.7723 - val_accuracy: 0.5349\n",
            "Epoch 48/50\n",
            "156/156 [==============================] - 3s 17ms/step - loss: 3.1531e-04 - accuracy: 1.0000 - val_loss: 2.7885 - val_accuracy: 0.5341\n",
            "Epoch 49/50\n",
            "156/156 [==============================] - 3s 16ms/step - loss: 2.8864e-04 - accuracy: 1.0000 - val_loss: 2.8046 - val_accuracy: 0.5341\n",
            "Epoch 50/50\n",
            "156/156 [==============================] - 3s 17ms/step - loss: 2.6440e-04 - accuracy: 1.0000 - val_loss: 2.8210 - val_accuracy: 0.5357\n"
          ]
        }
      ]
    },
    {
      "cell_type": "code",
      "metadata": {
        "colab": {
          "base_uri": "https://localhost:8080/",
          "height": 499
        },
        "id": "f1z_vHocu59c",
        "outputId": "13ff1577-8196-49c3-9e75-78167ea3d5f8"
      },
      "source": [
        "acc = history.history['accuracy']\n",
        "val_acc = history.history['val_accuracy']\n",
        "\n",
        "loss=history.history['loss']\n",
        "val_loss=history.history['val_loss']\n",
        "\n",
        "epochs_range = range(epochs)\n",
        "\n",
        "plt.figure(figsize=(8, 8))\n",
        "plt.subplot(1, 2, 1)\n",
        "plt.plot(epochs_range, acc, label='Training Accuracy')\n",
        "plt.plot(epochs_range, val_acc, label='Validation Accuracy')\n",
        "plt.legend(loc='lower right')\n",
        "plt.title('Training and Validation Accuracy')\n",
        "\n",
        "plt.subplot(1, 2, 2)\n",
        "plt.plot(epochs_range, loss, label='Training Loss')\n",
        "plt.plot(epochs_range, val_loss, label='Validation Loss')\n",
        "plt.legend(loc='upper right')\n",
        "plt.title('Training and Validation Loss')\n",
        "plt.show()"
      ],
      "execution_count": null,
      "outputs": [
        {
          "output_type": "display_data",
          "data": {
            "image/png": "[encoded data removed]",
            "text/plain": [
              "<Figure size 576x576 with 2 Axes>"
            ]
          },
          "metadata": {
            "needs_background": "light"
          }
        }
      ]
    },
    {
      "cell_type": "code",
      "metadata": {
        "id": "XinJ6xXD9YNO"
      },
      "source": [
        "data_augmentation = keras.Sequential(\n",
        "  [\n",
        "    layers.experimental.preprocessing.RandomFlip(\"horizontal\", \n",
        "                                                 input_shape=(img_height, \n",
        "                                                              img_width,\n",
        "                                                              1)),\n",
        "    layers.experimental.preprocessing.RandomRotation(0.1),\n",
        "    layers.experimental.preprocessing.RandomZoom(0.1),\n",
        "  ]\n",
        ")"
      ],
      "execution_count": null,
      "outputs": []
    },
    {
      "cell_type": "code",
      "metadata": {
        "id": "8WT2BYElEYZj"
      },
      "source": [
        "model = Sequential([\n",
        "  data_augmentation,\n",
        "  layers.experimental.preprocessing.Rescaling(1./255),\n",
        "  layers.Conv2D(32, 3,input_shape = image_batch, activation='relu'),\n",
        "  layers.MaxPooling2D(),\n",
        "  layers.Conv2D(32, 3, padding='same', activation='relu'),\n",
        "  layers.MaxPooling2D(),\n",
        "  layers.Conv2D(32, 3, padding='same', activation='relu'),\n",
        "  layers.MaxPooling2D(),\n",
        "  layers.Dropout(0.2),\n",
        "  layers.Flatten(),\n",
        "  layers.Dense(128, activation='relu'),\n",
        "  BatchNormalization(),\n",
        "  layers.Dense(107, activation='softmax'),\n",
        "  BatchNormalization(),\n",
        "  layers.Dense(num_classes)\n",
        "])"
      ],
      "execution_count": null,
      "outputs": []
    },
    {
      "cell_type": "code",
      "metadata": {
        "id": "opOHP3auEdsw",
        "colab": {
          "base_uri": "https://localhost:8080/"
        },
        "outputId": "1ec65906-eac5-4079-b606-a1da3cf60c32"
      },
      "source": [
        "BatchNormalization(),model.compile(\n",
        "    optimizer='adam',\n",
        "    loss=tf.losses.SparseCategoricalCrossentropy(from_logits=True),\n",
        "    metrics=['accuracy'])"
      ],
      "execution_count": null,
      "outputs": [
        {
          "output_type": "execute_result",
          "data": {
            "text/plain": [
              "(<keras.layers.normalization.batch_normalization.BatchNormalization at 0x7f69205eabd0>,\n",
              " None)"
            ]
          },
          "metadata": {},
          "execution_count": 19
        }
      ]
    },
    {
      "cell_type": "code",
      "metadata": {
        "colab": {
          "base_uri": "https://localhost:8080/"
        },
        "id": "3Ay4tlHlEfBX",
        "outputId": "9b31fd32-c03b-4f11-e815-793e2524c740"
      },
      "source": [
        "model.summary()"
      ],
      "execution_count": null,
      "outputs": [
        {
          "output_type": "stream",
          "name": "stdout",
          "text": [
            "Model: \"sequential_2\"\n",
            "_________________________________________________________________\n",
            " Layer (type)                Output Shape              Param #   \n",
            "=================================================================\n",
            " sequential_1 (Sequential)   (None, 180, 180, 1)       0         \n",
            "                                                                 \n",
            " rescaling_2 (Rescaling)     (None, 180, 180, 1)       0         \n",
            "                                                                 \n",
            " conv2d_3 (Conv2D)           (None, 178, 178, 32)      320       \n",
            "                                                                 \n",
            " max_pooling2d_3 (MaxPooling  (None, 89, 89, 32)       0         \n",
            " 2D)                                                             \n",
            "                                                                 \n",
            " conv2d_4 (Conv2D)           (None, 89, 89, 32)        9248      \n",
            "                                                                 \n",
            " max_pooling2d_4 (MaxPooling  (None, 44, 44, 32)       0         \n",
            " 2D)                                                             \n",
            "                                                                 \n",
            " conv2d_5 (Conv2D)           (None, 44, 44, 32)        9248      \n",
            "                                                                 \n",
            " max_pooling2d_5 (MaxPooling  (None, 22, 22, 32)       0         \n",
            " 2D)                                                             \n",
            "                                                                 \n",
            " dropout (Dropout)           (None, 22, 22, 32)        0         \n",
            "                                                                 \n",
            " flatten_1 (Flatten)         (None, 15488)             0         \n",
            "                                                                 \n",
            " dense_3 (Dense)             (None, 128)               1982592   \n",
            "                                                                 \n",
            " batch_normalization_3 (Batc  (None, 128)              512       \n",
            " hNormalization)                                                 \n",
            "                                                                 \n",
            " dense_4 (Dense)             (None, 107)               13803     \n",
            "                                                                 \n",
            " batch_normalization_4 (Batc  (None, 107)              428       \n",
            " hNormalization)                                                 \n",
            "                                                                 \n",
            " dense_5 (Dense)             (None, 107)               11556     \n",
            "                                                                 \n",
            "=================================================================\n",
            "Total params: 2,027,707\n",
            "Trainable params: 2,027,237\n",
            "Non-trainable params: 470\n",
            "_________________________________________________________________\n"
          ]
        }
      ]
    },
    {
      "cell_type": "code",
      "metadata": {
        "colab": {
          "base_uri": "https://localhost:8080/"
        },
        "id": "Jc8rD_v9Ef41",
        "outputId": "5b47751b-0878-4110-c18a-e671765ee473"
      },
      "source": [
        "epochs = 50\n",
        "history = model.fit(\n",
        "  train_ds,\n",
        "  validation_data=val_ds,\n",
        "  epochs=epochs\n",
        ")"
      ],
      "execution_count": null,
      "outputs": [
        {
          "output_type": "stream",
          "name": "stdout",
          "text": [
            "Epoch 1/50\n",
            "156/156 [==============================] - 5s 21ms/step - loss: 3.5203 - accuracy: 0.2425 - val_loss: 4.0905 - val_accuracy: 0.1285\n",
            "Epoch 2/50\n",
            "156/156 [==============================] - 3s 19ms/step - loss: 2.5293 - accuracy: 0.3479 - val_loss: 3.4473 - val_accuracy: 0.3020\n",
            "Epoch 3/50\n",
            "156/156 [==============================] - 3s 19ms/step - loss: 2.2156 - accuracy: 0.3933 - val_loss: 2.9016 - val_accuracy: 0.3382\n",
            "Epoch 4/50\n",
            "156/156 [==============================] - 3s 19ms/step - loss: 2.0052 - accuracy: 0.4451 - val_loss: 2.4784 - val_accuracy: 0.3582\n",
            "Epoch 5/50\n",
            "156/156 [==============================] - 3s 18ms/step - loss: 1.8411 - accuracy: 0.4798 - val_loss: 2.4545 - val_accuracy: 0.3775\n",
            "Epoch 6/50\n",
            "156/156 [==============================] - 3s 19ms/step - loss: 1.7213 - accuracy: 0.5079 - val_loss: 2.9442 - val_accuracy: 0.3775\n",
            "Epoch 7/50\n",
            "156/156 [==============================] - 3s 19ms/step - loss: 1.6182 - accuracy: 0.5258 - val_loss: 2.7822 - val_accuracy: 0.3976\n",
            "Epoch 8/50\n",
            "156/156 [==============================] - 3s 18ms/step - loss: 1.5059 - accuracy: 0.5565 - val_loss: 3.4565 - val_accuracy: 0.3245\n",
            "Epoch 9/50\n",
            "156/156 [==============================] - 3s 18ms/step - loss: 1.4426 - accuracy: 0.5758 - val_loss: 2.5794 - val_accuracy: 0.4289\n",
            "Epoch 10/50\n",
            "156/156 [==============================] - 3s 18ms/step - loss: 1.3659 - accuracy: 0.5858 - val_loss: 2.6355 - val_accuracy: 0.4153\n",
            "Epoch 11/50\n",
            "156/156 [==============================] - 3s 20ms/step - loss: 1.3061 - accuracy: 0.6001 - val_loss: 2.4737 - val_accuracy: 0.4594\n",
            "Epoch 12/50\n",
            "156/156 [==============================] - 3s 19ms/step - loss: 1.2465 - accuracy: 0.6196 - val_loss: 2.5341 - val_accuracy: 0.4378\n",
            "Epoch 13/50\n",
            "156/156 [==============================] - 3s 18ms/step - loss: 1.1803 - accuracy: 0.6368 - val_loss: 2.8534 - val_accuracy: 0.3831\n",
            "Epoch 14/50\n",
            "156/156 [==============================] - 3s 19ms/step - loss: 1.1500 - accuracy: 0.6406 - val_loss: 2.6590 - val_accuracy: 0.4129\n",
            "Epoch 15/50\n",
            "156/156 [==============================] - 3s 19ms/step - loss: 1.1033 - accuracy: 0.6617 - val_loss: 2.5022 - val_accuracy: 0.4522\n",
            "Epoch 16/50\n",
            "156/156 [==============================] - 3s 19ms/step - loss: 1.0679 - accuracy: 0.6675 - val_loss: 2.5702 - val_accuracy: 0.4233\n",
            "Epoch 17/50\n",
            "156/156 [==============================] - 3s 19ms/step - loss: 1.0205 - accuracy: 0.6798 - val_loss: 2.8752 - val_accuracy: 0.4169\n",
            "Epoch 18/50\n",
            "156/156 [==============================] - 3s 18ms/step - loss: 0.9781 - accuracy: 0.6882 - val_loss: 2.5696 - val_accuracy: 0.4458\n",
            "Epoch 19/50\n",
            "156/156 [==============================] - 3s 18ms/step - loss: 0.9470 - accuracy: 0.7085 - val_loss: 2.6360 - val_accuracy: 0.4369\n",
            "Epoch 20/50\n",
            "156/156 [==============================] - 3s 18ms/step - loss: 0.9009 - accuracy: 0.7117 - val_loss: 2.4313 - val_accuracy: 0.4586\n",
            "Epoch 21/50\n",
            "156/156 [==============================] - 3s 18ms/step - loss: 0.8793 - accuracy: 0.7197 - val_loss: 2.4682 - val_accuracy: 0.4618\n",
            "Epoch 22/50\n",
            "156/156 [==============================] - 3s 19ms/step - loss: 0.8659 - accuracy: 0.7217 - val_loss: 2.5515 - val_accuracy: 0.4546\n",
            "Epoch 23/50\n",
            "156/156 [==============================] - 3s 19ms/step - loss: 0.8172 - accuracy: 0.7404 - val_loss: 2.4118 - val_accuracy: 0.4884\n",
            "Epoch 24/50\n",
            "156/156 [==============================] - 3s 19ms/step - loss: 0.7825 - accuracy: 0.7454 - val_loss: 2.5750 - val_accuracy: 0.4795\n",
            "Epoch 25/50\n",
            "156/156 [==============================] - 3s 19ms/step - loss: 0.7679 - accuracy: 0.7492 - val_loss: 2.4163 - val_accuracy: 0.4843\n",
            "Epoch 26/50\n",
            "156/156 [==============================] - 3s 18ms/step - loss: 0.7409 - accuracy: 0.7657 - val_loss: 3.0857 - val_accuracy: 0.4289\n",
            "Epoch 27/50\n",
            "156/156 [==============================] - 3s 19ms/step - loss: 0.7156 - accuracy: 0.7671 - val_loss: 2.7210 - val_accuracy: 0.4787\n",
            "Epoch 28/50\n",
            "156/156 [==============================] - 3s 18ms/step - loss: 0.6971 - accuracy: 0.7770 - val_loss: 2.5297 - val_accuracy: 0.4884\n",
            "Epoch 29/50\n",
            "156/156 [==============================] - 3s 19ms/step - loss: 0.6553 - accuracy: 0.7950 - val_loss: 2.4917 - val_accuracy: 0.4940\n",
            "Epoch 30/50\n",
            "156/156 [==============================] - 3s 19ms/step - loss: 0.6449 - accuracy: 0.7978 - val_loss: 2.5218 - val_accuracy: 0.4940\n",
            "Epoch 31/50\n",
            "156/156 [==============================] - 3s 19ms/step - loss: 0.6434 - accuracy: 0.7860 - val_loss: 2.6981 - val_accuracy: 0.4715\n",
            "Epoch 32/50\n",
            "156/156 [==============================] - 3s 19ms/step - loss: 0.6238 - accuracy: 0.7984 - val_loss: 2.4010 - val_accuracy: 0.5213\n",
            "Epoch 33/50\n",
            "156/156 [==============================] - 3s 19ms/step - loss: 0.5876 - accuracy: 0.8111 - val_loss: 2.6053 - val_accuracy: 0.4900\n",
            "Epoch 34/50\n",
            "156/156 [==============================] - 3s 19ms/step - loss: 0.5941 - accuracy: 0.8055 - val_loss: 2.4836 - val_accuracy: 0.5173\n",
            "Epoch 35/50\n",
            "156/156 [==============================] - 3s 19ms/step - loss: 0.5576 - accuracy: 0.8197 - val_loss: 2.5815 - val_accuracy: 0.5076\n",
            "Epoch 36/50\n",
            "156/156 [==============================] - 3s 18ms/step - loss: 0.5600 - accuracy: 0.8211 - val_loss: 2.3591 - val_accuracy: 0.5309\n",
            "Epoch 37/50\n",
            "156/156 [==============================] - 3s 19ms/step - loss: 0.5527 - accuracy: 0.8253 - val_loss: 2.4850 - val_accuracy: 0.5060\n",
            "Epoch 38/50\n",
            "156/156 [==============================] - 3s 18ms/step - loss: 0.5505 - accuracy: 0.8187 - val_loss: 2.3147 - val_accuracy: 0.5406\n",
            "Epoch 39/50\n",
            "156/156 [==============================] - 3s 19ms/step - loss: 0.5111 - accuracy: 0.8304 - val_loss: 2.5728 - val_accuracy: 0.5100\n",
            "Epoch 40/50\n",
            "156/156 [==============================] - 3s 19ms/step - loss: 0.4955 - accuracy: 0.8374 - val_loss: 2.2842 - val_accuracy: 0.5446\n",
            "Epoch 41/50\n",
            "156/156 [==============================] - 3s 19ms/step - loss: 0.4975 - accuracy: 0.8418 - val_loss: 2.4461 - val_accuracy: 0.5301\n",
            "Epoch 42/50\n",
            "156/156 [==============================] - 3s 20ms/step - loss: 0.4825 - accuracy: 0.8474 - val_loss: 2.5279 - val_accuracy: 0.5141\n",
            "Epoch 43/50\n",
            "156/156 [==============================] - 3s 20ms/step - loss: 0.4808 - accuracy: 0.8410 - val_loss: 2.6528 - val_accuracy: 0.4851\n",
            "Epoch 44/50\n",
            "156/156 [==============================] - 3s 20ms/step - loss: 0.4651 - accuracy: 0.8538 - val_loss: 2.8343 - val_accuracy: 0.4811\n",
            "Epoch 45/50\n",
            "156/156 [==============================] - 3s 19ms/step - loss: 0.4304 - accuracy: 0.8581 - val_loss: 2.6090 - val_accuracy: 0.5237\n",
            "Epoch 46/50\n",
            "156/156 [==============================] - 3s 19ms/step - loss: 0.4378 - accuracy: 0.8591 - val_loss: 2.7778 - val_accuracy: 0.5068\n",
            "Epoch 47/50\n",
            "156/156 [==============================] - 3s 18ms/step - loss: 0.4547 - accuracy: 0.8514 - val_loss: 3.2125 - val_accuracy: 0.4691\n",
            "Epoch 48/50\n",
            "156/156 [==============================] - 3s 19ms/step - loss: 0.4135 - accuracy: 0.8711 - val_loss: 2.7593 - val_accuracy: 0.5165\n",
            "Epoch 49/50\n",
            "156/156 [==============================] - 3s 19ms/step - loss: 0.4042 - accuracy: 0.8693 - val_loss: 2.8108 - val_accuracy: 0.5173\n",
            "Epoch 50/50\n",
            "156/156 [==============================] - 3s 19ms/step - loss: 0.3957 - accuracy: 0.8637 - val_loss: 2.9241 - val_accuracy: 0.5060\n"
          ]
        }
      ]
    },
    {
      "cell_type": "code",
      "metadata": {
        "colab": {
          "base_uri": "https://localhost:8080/",
          "height": 499
        },
        "id": "ynhS2KjVEhj8",
        "outputId": "84402c74-1407-4b5b-deff-3b71f15a1e33"
      },
      "source": [
        "acc = history.history['accuracy']\n",
        "val_acc = history.history['val_accuracy']\n",
        "\n",
        "loss = history.history['loss']\n",
        "val_loss = history.history['val_loss']\n",
        "\n",
        "epochs_range = range(epochs)\n",
        "\n",
        "plt.figure(figsize=(8, 8))\n",
        "plt.subplot(1, 2, 1)\n",
        "plt.plot(epochs_range, acc, label='Training Accuracy')\n",
        "plt.plot(epochs_range, val_acc, label='Validation Accuracy')\n",
        "plt.legend(loc='lower right')\n",
        "plt.title('Training and Validation Accuracy')\n",
        "\n",
        "plt.subplot(1, 2, 2)\n",
        "plt.plot(epochs_range, loss, label='Training Loss')\n",
        "plt.plot(epochs_range, val_loss, label='Validation Loss')\n",
        "plt.legend(loc='upper right')\n",
        "plt.title('Training and Validation Loss')\n",
        "plt.show()"
      ],
      "execution_count": null,
      "outputs": [
        {
          "output_type": "display_data",
          "data": {
            "image/png": "[encoded data removed]",
            "text/plain": [
              "<Figure size 576x576 with 2 Axes>"
            ]
          },
          "metadata": {
            "needs_background": "light"
          }
        }
      ]
    },
    {
      "cell_type": "code",
      "metadata": {
        "colab": {
          "base_uri": "https://localhost:8080/"
        },
        "id": "IbEQMrsAH2yZ",
        "outputId": "92f8c04a-c6a8-4580-8710-1bd12025f2e1"
      },
      "source": [
        "model.compile(\n",
        "    optimizer='adam',\n",
        "    loss=tf.losses.SparseCategoricalCrossentropy(from_logits=True),\n",
        "    metrics=['accuracy'])\n",
        "model.summary()"
      ],
      "execution_count": null,
      "outputs": [
        {
          "output_type": "stream",
          "name": "stdout",
          "text": [
            "Model: \"sequential_2\"\n",
            "_________________________________________________________________\n",
            " Layer (type)                Output Shape              Param #   \n",
            "=================================================================\n",
            " sequential_1 (Sequential)   (None, 180, 180, 1)       0         \n",
            "                                                                 \n",
            " rescaling_2 (Rescaling)     (None, 180, 180, 1)       0         \n",
            "                                                                 \n",
            " conv2d_3 (Conv2D)           (None, 178, 178, 32)      320       \n",
            "                                                                 \n",
            " max_pooling2d_3 (MaxPooling  (None, 89, 89, 32)       0         \n",
            " 2D)                                                             \n",
            "                                                                 \n",
            " conv2d_4 (Conv2D)           (None, 89, 89, 32)        9248      \n",
            "                                                                 \n",
            " max_pooling2d_4 (MaxPooling  (None, 44, 44, 32)       0         \n",
            " 2D)                                                             \n",
            "                                                                 \n",
            " conv2d_5 (Conv2D)           (None, 44, 44, 32)        9248      \n",
            "                                                                 \n",
            " max_pooling2d_5 (MaxPooling  (None, 22, 22, 32)       0         \n",
            " 2D)                                                             \n",
            "                                                                 \n",
            " dropout (Dropout)           (None, 22, 22, 32)        0         \n",
            "                                                                 \n",
            " flatten_1 (Flatten)         (None, 15488)             0         \n",
            "                                                                 \n",
            " dense_3 (Dense)             (None, 128)               1982592   \n",
            "                                                                 \n",
            " batch_normalization_3 (Batc  (None, 128)              512       \n",
            " hNormalization)                                                 \n",
            "                                                                 \n",
            " dense_4 (Dense)             (None, 107)               13803     \n",
            "                                                                 \n",
            " batch_normalization_4 (Batc  (None, 107)              428       \n",
            " hNormalization)                                                 \n",
            "                                                                 \n",
            " dense_5 (Dense)             (None, 107)               11556     \n",
            "                                                                 \n",
            "=================================================================\n",
            "Total params: 2,027,707\n",
            "Trainable params: 2,027,237\n",
            "Non-trainable params: 470\n",
            "_________________________________________________________________\n"
          ]
        }
      ]
    },
    {
      "cell_type": "code",
      "metadata": {
        "id": "df30HUqFjWre"
      },
      "source": [
        ""
      ],
      "execution_count": null,
      "outputs": []
    }
  ]
}