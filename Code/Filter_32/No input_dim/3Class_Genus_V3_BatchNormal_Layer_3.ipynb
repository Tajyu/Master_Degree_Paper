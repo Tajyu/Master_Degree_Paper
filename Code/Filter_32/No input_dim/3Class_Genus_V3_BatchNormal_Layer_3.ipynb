{
  "nbformat": 4,
  "nbformat_minor": 0,
  "metadata": {
    "colab": {
      "name": "3Class_Genus_V3_BatchNormal_Layer_3.ipynb",
      "provenance": [],
      "collapsed_sections": [],
      "mount_file_id": "1xZ_E4cQAlHm_FltyM9b0RjWpeAyKLblI",
      "authorship_tag": "ABX9TyPjYMA97hM73sfn5lWUwb8m",
      "include_colab_link": true
    },
    "kernelspec": {
      "name": "python3",
      "display_name": "Python 3"
    },
    "language_info": {
      "name": "python"
    },
    "accelerator": "GPU"
  },
  "cells": [
    {
      "cell_type": "markdown",
      "metadata": {
        "id": "view-in-github",
        "colab_type": "text"
      },
      "source": [
        "<a href=\"https://colab.research.google.com/github/Tajyu/Master_Degree_Paper/blob/main/Code/Filter_32/No%20input_dim/3Class_Genus_V3_BatchNormal_Layer_3.ipynb\" target=\"_parent\"><img src=\"https://colab.research.google.com/assets/colab-badge.svg\" alt=\"Open In Colab\"/></a>"
      ]
    },
    {
      "cell_type": "code",
      "metadata": {
        "id": "yWckd06_68Em"
      },
      "source": [
        "import tensorflow as tf\n",
        "from tensorflow.keras import datasets, layers, models\n",
        "from keras.preprocessing.image import ImageDataGenerator\n",
        "import numpy as np\n",
        "import matplotlib.pyplot as plt\n",
        "import cv2 as cv\n",
        "import os\n",
        "import pathlib\n",
        "import PIL\n",
        "from tensorflow import keras\n",
        "from tensorflow.keras import layers\n",
        "from tensorflow.keras.models import Sequential\n",
        "from tensorflow.keras.layers import Dense, Flatten, BatchNormalization, Dropout"
      ],
      "execution_count": null,
      "outputs": []
    },
    {
      "cell_type": "code",
      "metadata": {
        "id": "xav9zirHttk_"
      },
      "source": [
        "image_list = os.listdir('/content/drive/MyDrive/Colab Notebooks/Final_Project/Cell_Genus')"
      ],
      "execution_count": null,
      "outputs": []
    },
    {
      "cell_type": "code",
      "metadata": {
        "colab": {
          "base_uri": "https://localhost:8080/"
        },
        "id": "K-wD0dM5tx_E",
        "outputId": "3271ee68-ceb1-42af-9adb-9d43750db87c"
      },
      "source": [
        "print(image_list)"
      ],
      "execution_count": null,
      "outputs": [
        {
          "output_type": "stream",
          "name": "stdout",
          "text": [
            "['10_Genus_Stauroneis_Ehrenberg', '10_Genus_Staurosira_Ehrenberg', '11_Genus_Craspedostauros_E.J_Cox_1999', '11_Genus_Staurosirella_Williams_and_Round', '12_Genus_Caloneis_Cleve_1894', '12_Genus_Synedra_Ehrenberg', '13_Genus_Pinnularia_Ehrenberg_1843', '1_Genus_Acanthoceras_Honigmann', '1_Genus_Achnanthes_Bory', '1_Genus_Actinocyclus_Ehrenberg', '1_Genus_Aphanocapsa_Nageli_1849', '1_Genus_Asterionella_Hassall', '1_Genus_Aulacoseira', '1_Genus_Biremis_Mann_et_Cox_in_Round_Crawford_and_Mann', '1_Genus_Characium_A_Braun_in_Kutzing_1849', '1_Genus_Chroococcus_Nageli', '1_Genus_Closterium_Nitzsch_ex_Ralfs_1848', '1_Genus_Coelastrum_Nageli_1849', '1_Genus_Cylindrocystis_Meneghini_ex_de_Bary_1858', '1_Genus_Dictyosphaerium_Nageli_1849', '1_Genus_Docidium_Brebisson_ex_Ralfs_1848', '1_Genus_Eunotia_Ehrenberg', '1_Genus_Geitlerinema_(Anagnostidis_et_Komarek)_Anagnostidis_1989', '1_Genus_Gonatozygon_de_Bary_1856', '1_Genus_Hydrodictyon_Roth_1797', '1_Genus_Hydrosera_whampoensis', '1_Genus_Jaaginema_Anagnostidis_et_Komarek_1988', '1_Genus_Lyngbya_C_Agardh_ex_Gomont_1892', '1_Genus_Melosira_Agardh', '1_Genus_Micractinium_Fresenius_1858', '1_Genus_Micrasterias_Ralfs_1848', '1_Genus_Microcystis_Kutzing_ex_Lemmermann_1907', '1_Genus_Oscillatoria_Vaucher_ex_Gomont_1982', '1_Genus_Pediastrum_Meyen_1829', '1_Genus_Penium_Brebisson_ex_Ralfs_in_Ralfs_1848', '1_Genus_Phormidium_Kutzing_ex_Gomont_1892', '1_Genus_Planktothrix_Anagnostidis_et_Komarek_1988', '1_Genus_Pleurosira_laevis_(Ehrenberg)', '1_Genus_Rhizosolenia_Ehrenberg', '1_Genus_Schizochlamydella_Korshikov_1953', '1_Genus_Staurodesmus_Teiling_1848', '1_Genus_Trochiscia_Kutzing_1834', '1_Scenedesmus_Hegewald_1978', '2_Acutodesmus_Hegewald_1978', '2_Genus_Achnanthidium_Kutzing', '2_Genus_Actinastrum_Lagerheim_1882', '2_Genus_Actinella_Lewis', '2_Genus_Ankyra_Fott_1957', '2_Genus_Caloneis_Cleve', '2_Genus_Chaetoceros_Ehrenberg', '2_Genus_Coenochloris_Korshikov_1953', '2_Genus_Cyclotella', '2_Genus_Diatoma_Bory', '2_Genus_Dimorphococcus_A_Braun_1855', '2_Genus_Golenkinia_Chodat_1894', '2_Genus_Haplotaenium_Bando_1988', '2_Genus_Leibleinia_(Gomont)_L_Hoffman_1985', '2_Genus_Leptolyngbya_Anagnostidis_et_Komarek_1988', '2_Genus_Merismopedia_Meyen_1839', '2_Genus_Netrium_(Nageli)_Itzigsohn_et_Rothe_in_Rabenhorst_1856', '2_Genus_Orthoseira_Thwaites_1848', '2_Genus_Phormidium_Kutzing_ex_Gomont_1892', '2_Genus_Sorastrum_Kutzing_1845', '2_Genus_Staurastrum_Meyen_ex_Ralfs_1848', '3_Desmodesmus_Chodat_1926', '3_Genus_Acanthosphaera_Lemmerman_1899', '3_Genus_Anorthoneis_Grunow', '3_Genus_Cyclostephanos_Round', '3_Genus_Dichotomococcus_Korshikov_1928', '3_Genus_Heteroleibleinia_(Geitler)_L_Hoffmann_1985', '3_Genus_Limnothrix_Meffert_1988', '3_Genus_Meridion_Agardh', '3_Genus_Paradoxia_Svirenko_1928', '3_Genus_Peronia_Bebisson_and_Arnott_ex_Kitton', '3_Genus_Phormidiochaete_Komarek_in_Anagnostidis_2001', '3_Genus_Pinnularia_Ehrenberg_1', '3_Genus_Pleurotaenium_Nageli_1849', '3_Genus_Radiococcus_Schmidle_1902', '3_Genus_Snowella_Elenkin_1938', '3_Genus_Spirotaenia_Brebisson_in_Ralfs_1848', '4_Genus_Botryococcus_Kutzing_1849', '4_Genus_Cocconeis_Ehrenberg', '4_Genus_Eutetramorus_Walton_1918', '4_Genus_Leptolyngbya_Anagnostidis_et_Komarek_1988', '4_Genus_Opephora_Petit', '4_Genus_Pinnularia_Ehrenberg_2', '4_Genus_Schroederia_Lemmermann_1898', '4_Genus_Stephanodiscus_Ehrenberg', '4_Genus_Synechocystis_Sauvageau_1892', '4_Genus_Tortitaenia_A_J_Brook_1998', '5_Genus_Caloneis_Cleve', '5_Genus_Coenocystis_Korshikov_1953', '5_Genus_Planktolyngbya_Anagnostidis_et_Komarek_1988', '5_Genus_Tabellaria_Ehrenberg', '5_Genus_Thalassiosira_Cleve', '5_Genus_Woronichinia_Elenkin_1933', '6_Genus_Anomoeoneis_Pfitzer', '6_Genus_Fragilaria_Lyngbye', '6_Genus_Gloeocystis_Nageli_1849', '6_Genus_Pseudanabaena_Lauterborn_1915', '6_Genus_Skeletonema_Greville', '7_Genus_Caloneis_Cleve', '7_Genus_Hannaea_Patrick', '8_Genus_Diploneis(Ehrenberg)_Cleve', '8_Genus_Pseudostaurosira_Williams_and_Round', '9_Genus_Neidium_Pfitzer', '9_Genus_Punctastriata_Williams_and_Round']\n"
          ]
        }
      ]
    },
    {
      "cell_type": "code",
      "metadata": {
        "id": "o-0DvzEHt8VE"
      },
      "source": [
        "data_generator = ImageDataGenerator(rescale = 1./255)\n",
        "\n",
        "data_dir = \"/content/drive/MyDrive/Colab Notebooks/Final_Project/Cell_Genus\""
      ],
      "execution_count": null,
      "outputs": []
    },
    {
      "cell_type": "code",
      "metadata": {
        "id": "7aTCfEm3t10n"
      },
      "source": [
        "batch_size = 32\n",
        "img_height = 180\n",
        "img_width = 180"
      ],
      "execution_count": null,
      "outputs": []
    },
    {
      "cell_type": "code",
      "metadata": {
        "colab": {
          "base_uri": "https://localhost:8080/"
        },
        "id": "9Smg-miEt22s",
        "outputId": "4dfa6b9a-ea4d-44fa-bb2c-8df293d19fe1"
      },
      "source": [
        "train_ds = tf.keras.preprocessing.image_dataset_from_directory(\n",
        "  data_dir,\n",
        "  color_mode = \"grayscale\",\n",
        "  validation_split=0.2,\n",
        "  subset=\"training\",\n",
        "  seed=123,\n",
        "  image_size=(img_height, img_width),\n",
        "  batch_size=batch_size)"
      ],
      "execution_count": null,
      "outputs": [
        {
          "output_type": "stream",
          "name": "stdout",
          "text": [
            "Found 6226 files belonging to 107 classes.\n",
            "Using 4981 files for training.\n"
          ]
        }
      ]
    },
    {
      "cell_type": "code",
      "metadata": {
        "colab": {
          "base_uri": "https://localhost:8080/"
        },
        "id": "1nR0WdQGt44x",
        "outputId": "72dbe608-1785-46c7-fd82-50c1e19cde40"
      },
      "source": [
        "val_ds = tf.keras.preprocessing.image_dataset_from_directory(\n",
        "  data_dir,\n",
        "  color_mode = \"grayscale\",\n",
        "  validation_split=0.2,\n",
        "  subset=\"validation\",\n",
        "  seed=123,\n",
        "  image_size=(img_height, img_width),\n",
        "  batch_size=batch_size)"
      ],
      "execution_count": null,
      "outputs": [
        {
          "output_type": "stream",
          "name": "stdout",
          "text": [
            "Found 6226 files belonging to 107 classes.\n",
            "Using 1245 files for validation.\n"
          ]
        }
      ]
    },
    {
      "cell_type": "code",
      "metadata": {
        "colab": {
          "base_uri": "https://localhost:8080/"
        },
        "id": "F-cz_CtGug8Y",
        "outputId": "782b96c5-82f6-4663-e1fa-8adbf79d19cb"
      },
      "source": [
        "class_names = train_ds.class_names\n",
        "print(class_names)"
      ],
      "execution_count": null,
      "outputs": [
        {
          "output_type": "stream",
          "name": "stdout",
          "text": [
            "['10_Genus_Stauroneis_Ehrenberg', '10_Genus_Staurosira_Ehrenberg', '11_Genus_Craspedostauros_E.J_Cox_1999', '11_Genus_Staurosirella_Williams_and_Round', '12_Genus_Caloneis_Cleve_1894', '12_Genus_Synedra_Ehrenberg', '13_Genus_Pinnularia_Ehrenberg_1843', '1_Genus_Acanthoceras_Honigmann', '1_Genus_Achnanthes_Bory', '1_Genus_Actinocyclus_Ehrenberg', '1_Genus_Aphanocapsa_Nageli_1849', '1_Genus_Asterionella_Hassall', '1_Genus_Aulacoseira', '1_Genus_Biremis_Mann_et_Cox_in_Round_Crawford_and_Mann', '1_Genus_Characium_A_Braun_in_Kutzing_1849', '1_Genus_Chroococcus_Nageli', '1_Genus_Closterium_Nitzsch_ex_Ralfs_1848', '1_Genus_Coelastrum_Nageli_1849', '1_Genus_Cylindrocystis_Meneghini_ex_de_Bary_1858', '1_Genus_Dictyosphaerium_Nageli_1849', '1_Genus_Docidium_Brebisson_ex_Ralfs_1848', '1_Genus_Eunotia_Ehrenberg', '1_Genus_Geitlerinema_(Anagnostidis_et_Komarek)_Anagnostidis_1989', '1_Genus_Gonatozygon_de_Bary_1856', '1_Genus_Hydrodictyon_Roth_1797', '1_Genus_Hydrosera_whampoensis', '1_Genus_Jaaginema_Anagnostidis_et_Komarek_1988', '1_Genus_Lyngbya_C_Agardh_ex_Gomont_1892', '1_Genus_Melosira_Agardh', '1_Genus_Micractinium_Fresenius_1858', '1_Genus_Micrasterias_Ralfs_1848', '1_Genus_Microcystis_Kutzing_ex_Lemmermann_1907', '1_Genus_Oscillatoria_Vaucher_ex_Gomont_1982', '1_Genus_Pediastrum_Meyen_1829', '1_Genus_Penium_Brebisson_ex_Ralfs_in_Ralfs_1848', '1_Genus_Phormidium_Kutzing_ex_Gomont_1892', '1_Genus_Planktothrix_Anagnostidis_et_Komarek_1988', '1_Genus_Pleurosira_laevis_(Ehrenberg)', '1_Genus_Rhizosolenia_Ehrenberg', '1_Genus_Schizochlamydella_Korshikov_1953', '1_Genus_Staurodesmus_Teiling_1848', '1_Genus_Trochiscia_Kutzing_1834', '1_Scenedesmus_Hegewald_1978', '2_Acutodesmus_Hegewald_1978', '2_Genus_Achnanthidium_Kutzing', '2_Genus_Actinastrum_Lagerheim_1882', '2_Genus_Actinella_Lewis', '2_Genus_Ankyra_Fott_1957', '2_Genus_Caloneis_Cleve', '2_Genus_Chaetoceros_Ehrenberg', '2_Genus_Coenochloris_Korshikov_1953', '2_Genus_Cyclotella', '2_Genus_Diatoma_Bory', '2_Genus_Dimorphococcus_A_Braun_1855', '2_Genus_Golenkinia_Chodat_1894', '2_Genus_Haplotaenium_Bando_1988', '2_Genus_Leibleinia_(Gomont)_L_Hoffman_1985', '2_Genus_Leptolyngbya_Anagnostidis_et_Komarek_1988', '2_Genus_Merismopedia_Meyen_1839', '2_Genus_Netrium_(Nageli)_Itzigsohn_et_Rothe_in_Rabenhorst_1856', '2_Genus_Orthoseira_Thwaites_1848', '2_Genus_Phormidium_Kutzing_ex_Gomont_1892', '2_Genus_Sorastrum_Kutzing_1845', '2_Genus_Staurastrum_Meyen_ex_Ralfs_1848', '3_Desmodesmus_Chodat_1926', '3_Genus_Acanthosphaera_Lemmerman_1899', '3_Genus_Anorthoneis_Grunow', '3_Genus_Cyclostephanos_Round', '3_Genus_Dichotomococcus_Korshikov_1928', '3_Genus_Heteroleibleinia_(Geitler)_L_Hoffmann_1985', '3_Genus_Limnothrix_Meffert_1988', '3_Genus_Meridion_Agardh', '3_Genus_Paradoxia_Svirenko_1928', '3_Genus_Peronia_Bebisson_and_Arnott_ex_Kitton', '3_Genus_Phormidiochaete_Komarek_in_Anagnostidis_2001', '3_Genus_Pinnularia_Ehrenberg_1', '3_Genus_Pleurotaenium_Nageli_1849', '3_Genus_Radiococcus_Schmidle_1902', '3_Genus_Snowella_Elenkin_1938', '3_Genus_Spirotaenia_Brebisson_in_Ralfs_1848', '4_Genus_Botryococcus_Kutzing_1849', '4_Genus_Cocconeis_Ehrenberg', '4_Genus_Eutetramorus_Walton_1918', '4_Genus_Leptolyngbya_Anagnostidis_et_Komarek_1988', '4_Genus_Opephora_Petit', '4_Genus_Pinnularia_Ehrenberg_2', '4_Genus_Schroederia_Lemmermann_1898', '4_Genus_Stephanodiscus_Ehrenberg', '4_Genus_Synechocystis_Sauvageau_1892', '4_Genus_Tortitaenia_A_J_Brook_1998', '5_Genus_Caloneis_Cleve', '5_Genus_Coenocystis_Korshikov_1953', '5_Genus_Planktolyngbya_Anagnostidis_et_Komarek_1988', '5_Genus_Tabellaria_Ehrenberg', '5_Genus_Thalassiosira_Cleve', '5_Genus_Woronichinia_Elenkin_1933', '6_Genus_Anomoeoneis_Pfitzer', '6_Genus_Fragilaria_Lyngbye', '6_Genus_Gloeocystis_Nageli_1849', '6_Genus_Pseudanabaena_Lauterborn_1915', '6_Genus_Skeletonema_Greville', '7_Genus_Caloneis_Cleve', '7_Genus_Hannaea_Patrick', '8_Genus_Diploneis(Ehrenberg)_Cleve', '8_Genus_Pseudostaurosira_Williams_and_Round', '9_Genus_Neidium_Pfitzer', '9_Genus_Punctastriata_Williams_and_Round']\n"
          ]
        }
      ]
    },
    {
      "cell_type": "code",
      "metadata": {
        "colab": {
          "base_uri": "https://localhost:8080/"
        },
        "id": "5EQOikPAukic",
        "outputId": "d59af340-c43f-4231-8094-a6ed5ad91c93"
      },
      "source": [
        "for image_batch, labels_batch in train_ds:\n",
        "  print(image_batch.shape)\n",
        "  print(labels_batch.shape)\n",
        "  break"
      ],
      "execution_count": null,
      "outputs": [
        {
          "output_type": "stream",
          "name": "stdout",
          "text": [
            "(32, 180, 180, 1)\n",
            "(32,)\n"
          ]
        }
      ]
    },
    {
      "cell_type": "code",
      "metadata": {
        "id": "9eVl7tiDux9q"
      },
      "source": [
        "from tensorflow.keras import layers\n",
        "\n",
        "normalization_layer = tf.keras.layers.experimental.preprocessing.Rescaling(1./255)"
      ],
      "execution_count": null,
      "outputs": []
    },
    {
      "cell_type": "code",
      "metadata": {
        "colab": {
          "base_uri": "https://localhost:8080/"
        },
        "id": "AiIrsxzZuzEo",
        "outputId": "e06938a3-cbd7-4d0d-9927-029c6476988f"
      },
      "source": [
        "normalized_ds = train_ds.map(lambda x, y: (normalization_layer(x), y))\n",
        "image_batch, labels_batch = next(iter(normalized_ds))\n",
        "first_image = image_batch[0]\n",
        "# Notice the pixels values are now in `[0,1]`.\n",
        "print(np.min(first_image), np.max(first_image))"
      ],
      "execution_count": null,
      "outputs": [
        {
          "output_type": "stream",
          "name": "stdout",
          "text": [
            "0.0 1.0\n"
          ]
        }
      ]
    },
    {
      "cell_type": "code",
      "metadata": {
        "id": "__WbVabru0Bp"
      },
      "source": [
        "AUTOTUNE = tf.data.experimental.AUTOTUNE\n",
        "\n",
        "train_ds = train_ds.cache().prefetch(buffer_size=AUTOTUNE)\n",
        "val_ds = val_ds.cache().prefetch(buffer_size=AUTOTUNE)"
      ],
      "execution_count": null,
      "outputs": []
    },
    {
      "cell_type": "code",
      "metadata": {
        "id": "g1GeYFXCu2gV"
      },
      "source": [
        "num_classes = 107\n",
        "model = tf.keras.Sequential([\n",
        "    layers.experimental.preprocessing.Rescaling(1./255),\n",
        "    layers.Conv2D(32, 3,input_shape = image_batch, activation='relu'),\n",
        "    layers.MaxPooling2D(),\n",
        "    layers.Conv2D(32, 3, activation='relu'),\n",
        "    layers.MaxPooling2D(),\n",
        "    layers.Conv2D(32, 3, activation='relu'),\n",
        "    layers.MaxPooling2D(),\n",
        "    layers.Flatten(),\n",
        "    BatchNormalization(),\n",
        "    layers.Dense(128, activation='relu'),\n",
        "    BatchNormalization(),\n",
        "    layers.Dense(128, activation='relu'),\n",
        "    BatchNormalization(),\n",
        "    layers.Dense(107, activation='softmax'),\n",
        "    BatchNormalization(),\n",
        "    layers.Dense(num_classes)\n",
        "    ])"
      ],
      "execution_count": null,
      "outputs": []
    },
    {
      "cell_type": "code",
      "metadata": {
        "id": "wU4xPAvNYWry"
      },
      "source": [
        "model.compile(\n",
        "    optimizer='adam',\n",
        "    loss=tf.losses.SparseCategoricalCrossentropy(from_logits=True),\n",
        "    metrics=['accuracy'])"
      ],
      "execution_count": null,
      "outputs": []
    },
    {
      "cell_type": "code",
      "metadata": {
        "colab": {
          "base_uri": "https://localhost:8080/"
        },
        "id": "Tk8ssrbHu44p",
        "outputId": "89fe2180-6642-4781-a321-c230d6f834b8"
      },
      "source": [
        "epochs=50\n",
        "history = model.fit(\n",
        "  train_ds,\n",
        "  validation_data=val_ds,\n",
        "  epochs=epochs\n",
        ")"
      ],
      "execution_count": null,
      "outputs": [
        {
          "output_type": "stream",
          "name": "stdout",
          "text": [
            "Epoch 1/50\n",
            "156/156 [==============================] - 2107s 14s/step - loss: 3.2855 - accuracy: 0.3100 - val_loss: 4.2531 - val_accuracy: 0.1149\n",
            "Epoch 2/50\n",
            "156/156 [==============================] - 8s 52ms/step - loss: 2.0397 - accuracy: 0.4768 - val_loss: 3.8066 - val_accuracy: 0.1896\n",
            "Epoch 3/50\n",
            "156/156 [==============================] - 8s 51ms/step - loss: 1.3698 - accuracy: 0.6461 - val_loss: 2.7643 - val_accuracy: 0.4249\n",
            "Epoch 4/50\n",
            "156/156 [==============================] - 8s 51ms/step - loss: 0.9328 - accuracy: 0.7731 - val_loss: 2.8184 - val_accuracy: 0.3317\n",
            "Epoch 5/50\n",
            "156/156 [==============================] - 8s 51ms/step - loss: 0.6256 - accuracy: 0.8546 - val_loss: 2.5007 - val_accuracy: 0.4241\n",
            "Epoch 6/50\n",
            "156/156 [==============================] - 8s 51ms/step - loss: 0.4020 - accuracy: 0.9117 - val_loss: 2.5211 - val_accuracy: 0.4546\n",
            "Epoch 7/50\n",
            "156/156 [==============================] - 8s 52ms/step - loss: 0.2550 - accuracy: 0.9492 - val_loss: 2.1722 - val_accuracy: 0.5229\n",
            "Epoch 8/50\n",
            "156/156 [==============================] - 8s 50ms/step - loss: 0.1590 - accuracy: 0.9739 - val_loss: 2.1007 - val_accuracy: 0.5277\n",
            "Epoch 9/50\n",
            "156/156 [==============================] - 8s 50ms/step - loss: 0.0939 - accuracy: 0.9872 - val_loss: 2.0411 - val_accuracy: 0.5373\n",
            "Epoch 10/50\n",
            "156/156 [==============================] - 8s 51ms/step - loss: 0.0564 - accuracy: 0.9940 - val_loss: 2.1863 - val_accuracy: 0.5108\n",
            "Epoch 11/50\n",
            "156/156 [==============================] - 8s 51ms/step - loss: 0.0405 - accuracy: 0.9956 - val_loss: 2.1597 - val_accuracy: 0.5237\n",
            "Epoch 12/50\n",
            "156/156 [==============================] - 8s 51ms/step - loss: 0.0272 - accuracy: 0.9974 - val_loss: 2.1880 - val_accuracy: 0.5261\n",
            "Epoch 13/50\n",
            "156/156 [==============================] - 8s 51ms/step - loss: 0.0208 - accuracy: 0.9978 - val_loss: 2.2159 - val_accuracy: 0.5325\n",
            "Epoch 14/50\n",
            "156/156 [==============================] - 8s 51ms/step - loss: 0.0138 - accuracy: 0.9994 - val_loss: 2.2492 - val_accuracy: 0.5293\n",
            "Epoch 15/50\n",
            "156/156 [==============================] - 8s 51ms/step - loss: 0.0101 - accuracy: 0.9994 - val_loss: 2.2788 - val_accuracy: 0.5357\n",
            "Epoch 16/50\n",
            "156/156 [==============================] - 8s 50ms/step - loss: 0.0088 - accuracy: 0.9992 - val_loss: 2.3052 - val_accuracy: 0.5357\n",
            "Epoch 17/50\n",
            "156/156 [==============================] - 8s 51ms/step - loss: 0.0071 - accuracy: 0.9994 - val_loss: 2.3299 - val_accuracy: 0.5357\n",
            "Epoch 18/50\n",
            "156/156 [==============================] - 8s 51ms/step - loss: 0.0051 - accuracy: 0.9998 - val_loss: 2.3579 - val_accuracy: 0.5382\n",
            "Epoch 19/50\n",
            "156/156 [==============================] - 8s 51ms/step - loss: 0.0058 - accuracy: 0.9992 - val_loss: 2.3956 - val_accuracy: 0.5333\n",
            "Epoch 20/50\n",
            "156/156 [==============================] - 8s 51ms/step - loss: 0.0065 - accuracy: 0.9990 - val_loss: 2.4001 - val_accuracy: 0.5277\n",
            "Epoch 21/50\n",
            "156/156 [==============================] - 8s 51ms/step - loss: 0.0046 - accuracy: 0.9998 - val_loss: 2.4598 - val_accuracy: 0.5349\n",
            "Epoch 22/50\n",
            "156/156 [==============================] - 8s 52ms/step - loss: 0.0045 - accuracy: 0.9992 - val_loss: 2.4372 - val_accuracy: 0.5253\n",
            "Epoch 23/50\n",
            "156/156 [==============================] - 8s 51ms/step - loss: 0.0042 - accuracy: 0.9998 - val_loss: 2.6320 - val_accuracy: 0.5157\n",
            "Epoch 24/50\n",
            "156/156 [==============================] - 8s 51ms/step - loss: 0.6725 - accuracy: 0.8073 - val_loss: 4.5776 - val_accuracy: 0.3518\n",
            "Epoch 25/50\n",
            "156/156 [==============================] - 8s 51ms/step - loss: 0.4763 - accuracy: 0.8581 - val_loss: 2.7474 - val_accuracy: 0.4996\n",
            "Epoch 26/50\n",
            "156/156 [==============================] - 8s 51ms/step - loss: 0.1093 - accuracy: 0.9731 - val_loss: 2.4126 - val_accuracy: 0.5165\n",
            "Epoch 27/50\n",
            "156/156 [==============================] - 8s 53ms/step - loss: 0.0284 - accuracy: 0.9980 - val_loss: 2.3416 - val_accuracy: 0.5502\n",
            "Epoch 28/50\n",
            "156/156 [==============================] - 8s 52ms/step - loss: 0.0125 - accuracy: 0.9994 - val_loss: 2.3598 - val_accuracy: 0.5486\n",
            "Epoch 29/50\n",
            "156/156 [==============================] - 8s 52ms/step - loss: 0.0075 - accuracy: 1.0000 - val_loss: 2.3854 - val_accuracy: 0.5526\n",
            "Epoch 30/50\n",
            "156/156 [==============================] - 8s 51ms/step - loss: 0.0076 - accuracy: 0.9996 - val_loss: 2.4028 - val_accuracy: 0.5542\n",
            "Epoch 31/50\n",
            "156/156 [==============================] - 8s 52ms/step - loss: 0.0048 - accuracy: 1.0000 - val_loss: 2.4138 - val_accuracy: 0.5510\n",
            "Epoch 32/50\n",
            "156/156 [==============================] - 8s 52ms/step - loss: 0.0038 - accuracy: 1.0000 - val_loss: 2.4365 - val_accuracy: 0.5502\n",
            "Epoch 33/50\n",
            "156/156 [==============================] - 8s 51ms/step - loss: 0.0032 - accuracy: 1.0000 - val_loss: 2.4596 - val_accuracy: 0.5502\n",
            "Epoch 34/50\n",
            "156/156 [==============================] - 8s 51ms/step - loss: 0.0028 - accuracy: 1.0000 - val_loss: 2.4814 - val_accuracy: 0.5518\n",
            "Epoch 35/50\n",
            "156/156 [==============================] - 8s 51ms/step - loss: 0.0024 - accuracy: 1.0000 - val_loss: 2.5021 - val_accuracy: 0.5534\n",
            "Epoch 36/50\n",
            "156/156 [==============================] - 8s 50ms/step - loss: 0.0021 - accuracy: 1.0000 - val_loss: 2.5225 - val_accuracy: 0.5542\n",
            "Epoch 37/50\n",
            "156/156 [==============================] - 8s 51ms/step - loss: 0.0019 - accuracy: 1.0000 - val_loss: 2.5420 - val_accuracy: 0.5558\n",
            "Epoch 38/50\n",
            "156/156 [==============================] - 8s 51ms/step - loss: 0.0017 - accuracy: 1.0000 - val_loss: 2.5615 - val_accuracy: 0.5550\n",
            "Epoch 39/50\n",
            "156/156 [==============================] - 8s 51ms/step - loss: 0.0015 - accuracy: 1.0000 - val_loss: 2.5804 - val_accuracy: 0.5550\n",
            "Epoch 40/50\n",
            "156/156 [==============================] - 8s 51ms/step - loss: 0.0014 - accuracy: 1.0000 - val_loss: 2.5992 - val_accuracy: 0.5550\n",
            "Epoch 41/50\n",
            "156/156 [==============================] - 8s 50ms/step - loss: 0.0012 - accuracy: 1.0000 - val_loss: 2.6177 - val_accuracy: 0.5542\n",
            "Epoch 42/50\n",
            "156/156 [==============================] - 8s 51ms/step - loss: 0.0011 - accuracy: 1.0000 - val_loss: 2.6359 - val_accuracy: 0.5534\n",
            "Epoch 43/50\n",
            "156/156 [==============================] - 8s 51ms/step - loss: 9.9758e-04 - accuracy: 1.0000 - val_loss: 2.6540 - val_accuracy: 0.5542\n",
            "Epoch 44/50\n",
            "156/156 [==============================] - 8s 51ms/step - loss: 9.0446e-04 - accuracy: 1.0000 - val_loss: 2.6718 - val_accuracy: 0.5550\n",
            "Epoch 45/50\n",
            "156/156 [==============================] - 8s 51ms/step - loss: 8.2131e-04 - accuracy: 1.0000 - val_loss: 2.6895 - val_accuracy: 0.5558\n",
            "Epoch 46/50\n",
            "156/156 [==============================] - 8s 51ms/step - loss: 7.4692e-04 - accuracy: 1.0000 - val_loss: 2.7072 - val_accuracy: 0.5558\n",
            "Epoch 47/50\n",
            "156/156 [==============================] - 8s 51ms/step - loss: 6.8015e-04 - accuracy: 1.0000 - val_loss: 2.7248 - val_accuracy: 0.5550\n",
            "Epoch 48/50\n",
            "156/156 [==============================] - 8s 51ms/step - loss: 6.1996e-04 - accuracy: 1.0000 - val_loss: 2.7424 - val_accuracy: 0.5550\n",
            "Epoch 49/50\n",
            "156/156 [==============================] - 8s 51ms/step - loss: 5.6565e-04 - accuracy: 1.0000 - val_loss: 2.7600 - val_accuracy: 0.5542\n",
            "Epoch 50/50\n",
            "156/156 [==============================] - 8s 51ms/step - loss: 5.1649e-04 - accuracy: 1.0000 - val_loss: 2.7776 - val_accuracy: 0.5534\n"
          ]
        }
      ]
    },
    {
      "cell_type": "code",
      "metadata": {
        "colab": {
          "base_uri": "https://localhost:8080/",
          "height": 499
        },
        "id": "f1z_vHocu59c",
        "outputId": "fd06bdbd-82c0-4af4-bafc-9cdf874d94e9"
      },
      "source": [
        "acc = history.history['accuracy']\n",
        "val_acc = history.history['val_accuracy']\n",
        "\n",
        "loss=history.history['loss']\n",
        "val_loss=history.history['val_loss']\n",
        "\n",
        "epochs_range = range(epochs)\n",
        "\n",
        "plt.figure(figsize=(8, 8))\n",
        "plt.subplot(1, 2, 1)\n",
        "plt.plot(epochs_range, acc, label='Training Accuracy')\n",
        "plt.plot(epochs_range, val_acc, label='Validation Accuracy')\n",
        "plt.legend(loc='lower right')\n",
        "plt.title('Training and Validation Accuracy')\n",
        "\n",
        "plt.subplot(1, 2, 2)\n",
        "plt.plot(epochs_range, loss, label='Training Loss')\n",
        "plt.plot(epochs_range, val_loss, label='Validation Loss')\n",
        "plt.legend(loc='upper right')\n",
        "plt.title('Training and Validation Loss')\n",
        "plt.show()"
      ],
      "execution_count": null,
      "outputs": [
        {
          "output_type": "display_data",
          "data": {
            "image/png": "[encoded data removed]",
            "text/plain": [
              "<Figure size 576x576 with 2 Axes>"
            ]
          },
          "metadata": {
            "needs_background": "light"
          }
        }
      ]
    },
    {
      "cell_type": "code",
      "metadata": {
        "id": "XinJ6xXD9YNO"
      },
      "source": [
        "data_augmentation = keras.Sequential(\n",
        "  [\n",
        "    layers.experimental.preprocessing.RandomFlip(\"horizontal\", \n",
        "                                                 input_shape=(img_height, \n",
        "                                                              img_width,\n",
        "                                                              1)),\n",
        "    layers.experimental.preprocessing.RandomRotation(0.1),\n",
        "    layers.experimental.preprocessing.RandomZoom(0.1),\n",
        "  ]\n",
        ")"
      ],
      "execution_count": null,
      "outputs": []
    },
    {
      "cell_type": "code",
      "metadata": {
        "id": "8WT2BYElEYZj"
      },
      "source": [
        "model = Sequential([\n",
        "  data_augmentation,\n",
        "  layers.experimental.preprocessing.Rescaling(1./255),\n",
        "  layers.Conv2D(32, 3,input_shape = image_batch, activation='relu'),\n",
        "  layers.MaxPooling2D(),\n",
        "  layers.Conv2D(32, 3, padding='same', activation='relu'),\n",
        "  layers.MaxPooling2D(),\n",
        "  layers.Conv2D(32, 3, padding='same', activation='relu'),\n",
        "  layers.MaxPooling2D(),\n",
        "  layers.Dropout(0.2),\n",
        "  layers.Flatten(),\n",
        "  layers.Dense(128, activation='relu'),\n",
        "  BatchNormalization(),\n",
        "  layers.Dense(128, activation='relu'),\n",
        "  BatchNormalization(),\n",
        "  layers.Dense(107, activation='softmax'),\n",
        "  BatchNormalization(),\n",
        "  layers.Dense(num_classes)\n",
        "])"
      ],
      "execution_count": null,
      "outputs": []
    },
    {
      "cell_type": "code",
      "metadata": {
        "id": "opOHP3auEdsw",
        "colab": {
          "base_uri": "https://localhost:8080/"
        },
        "outputId": "a4a3b453-0760-4896-cdf7-39bc3da0e152"
      },
      "source": [
        "BatchNormalization(),model.compile(\n",
        "    optimizer='adam',\n",
        "    loss=tf.losses.SparseCategoricalCrossentropy(from_logits=True),\n",
        "    metrics=['accuracy'])"
      ],
      "execution_count": null,
      "outputs": [
        {
          "output_type": "execute_result",
          "data": {
            "text/plain": [
              "(<keras.layers.normalization.batch_normalization.BatchNormalization at 0x7f73df29bd90>,\n",
              " None)"
            ]
          },
          "metadata": {},
          "execution_count": 19
        }
      ]
    },
    {
      "cell_type": "code",
      "metadata": {
        "colab": {
          "base_uri": "https://localhost:8080/"
        },
        "id": "3Ay4tlHlEfBX",
        "outputId": "501b5ff5-0e29-4b54-835e-9278ef1bdd1c"
      },
      "source": [
        "model.summary()"
      ],
      "execution_count": null,
      "outputs": [
        {
          "output_type": "stream",
          "name": "stdout",
          "text": [
            "Model: \"sequential_2\"\n",
            "_________________________________________________________________\n",
            " Layer (type)                Output Shape              Param #   \n",
            "=================================================================\n",
            " sequential_1 (Sequential)   (None, 180, 180, 1)       0         \n",
            "                                                                 \n",
            " rescaling_2 (Rescaling)     (None, 180, 180, 1)       0         \n",
            "                                                                 \n",
            " conv2d_3 (Conv2D)           (None, 178, 178, 32)      320       \n",
            "                                                                 \n",
            " max_pooling2d_3 (MaxPooling  (None, 89, 89, 32)       0         \n",
            " 2D)                                                             \n",
            "                                                                 \n",
            " conv2d_4 (Conv2D)           (None, 89, 89, 32)        9248      \n",
            "                                                                 \n",
            " max_pooling2d_4 (MaxPooling  (None, 44, 44, 32)       0         \n",
            " 2D)                                                             \n",
            "                                                                 \n",
            " conv2d_5 (Conv2D)           (None, 44, 44, 32)        9248      \n",
            "                                                                 \n",
            " max_pooling2d_5 (MaxPooling  (None, 22, 22, 32)       0         \n",
            " 2D)                                                             \n",
            "                                                                 \n",
            " dropout (Dropout)           (None, 22, 22, 32)        0         \n",
            "                                                                 \n",
            " flatten_1 (Flatten)         (None, 15488)             0         \n",
            "                                                                 \n",
            " dense_4 (Dense)             (None, 128)               1982592   \n",
            "                                                                 \n",
            " batch_normalization_4 (Batc  (None, 128)              512       \n",
            " hNormalization)                                                 \n",
            "                                                                 \n",
            " dense_5 (Dense)             (None, 128)               16512     \n",
            "                                                                 \n",
            " batch_normalization_5 (Batc  (None, 128)              512       \n",
            " hNormalization)                                                 \n",
            "                                                                 \n",
            " dense_6 (Dense)             (None, 107)               13803     \n",
            "                                                                 \n",
            " batch_normalization_6 (Batc  (None, 107)              428       \n",
            " hNormalization)                                                 \n",
            "                                                                 \n",
            " dense_7 (Dense)             (None, 107)               11556     \n",
            "                                                                 \n",
            "=================================================================\n",
            "Total params: 2,044,731\n",
            "Trainable params: 2,044,005\n",
            "Non-trainable params: 726\n",
            "_________________________________________________________________\n"
          ]
        }
      ]
    },
    {
      "cell_type": "code",
      "metadata": {
        "colab": {
          "base_uri": "https://localhost:8080/"
        },
        "id": "Jc8rD_v9Ef41",
        "outputId": "b02af25f-b183-4634-ad81-3a0d78c03709"
      },
      "source": [
        "epochs = 50\n",
        "history = model.fit(\n",
        "  train_ds,\n",
        "  validation_data=val_ds,\n",
        "  epochs=epochs\n",
        ")"
      ],
      "execution_count": null,
      "outputs": [
        {
          "output_type": "stream",
          "name": "stdout",
          "text": [
            "Epoch 1/50\n",
            "156/156 [==============================] - 12s 60ms/step - loss: 3.5967 - accuracy: 0.2148 - val_loss: 4.1432 - val_accuracy: 0.1076\n",
            "Epoch 2/50\n",
            "156/156 [==============================] - 9s 56ms/step - loss: 2.5746 - accuracy: 0.3399 - val_loss: 3.5601 - val_accuracy: 0.2361\n",
            "Epoch 3/50\n",
            "156/156 [==============================] - 9s 57ms/step - loss: 2.2498 - accuracy: 0.3895 - val_loss: 3.0022 - val_accuracy: 0.3060\n",
            "Epoch 4/50\n",
            "156/156 [==============================] - 9s 56ms/step - loss: 2.0443 - accuracy: 0.4332 - val_loss: 2.8122 - val_accuracy: 0.3261\n",
            "Epoch 5/50\n",
            "156/156 [==============================] - 9s 57ms/step - loss: 1.9134 - accuracy: 0.4527 - val_loss: 2.6727 - val_accuracy: 0.3582\n",
            "Epoch 6/50\n",
            "156/156 [==============================] - 9s 56ms/step - loss: 1.8001 - accuracy: 0.4804 - val_loss: 3.1150 - val_accuracy: 0.3454\n",
            "Epoch 7/50\n",
            "156/156 [==============================] - 9s 56ms/step - loss: 1.6587 - accuracy: 0.5200 - val_loss: 3.0648 - val_accuracy: 0.3695\n",
            "Epoch 8/50\n",
            "156/156 [==============================] - 9s 56ms/step - loss: 1.5791 - accuracy: 0.5296 - val_loss: 3.1888 - val_accuracy: 0.3414\n",
            "Epoch 9/50\n",
            "156/156 [==============================] - 9s 56ms/step - loss: 1.5263 - accuracy: 0.5481 - val_loss: 3.1256 - val_accuracy: 0.3655\n",
            "Epoch 10/50\n",
            "156/156 [==============================] - 9s 56ms/step - loss: 1.4228 - accuracy: 0.5734 - val_loss: 2.8242 - val_accuracy: 0.3695\n",
            "Epoch 11/50\n",
            "156/156 [==============================] - 9s 57ms/step - loss: 1.3658 - accuracy: 0.5758 - val_loss: 2.9506 - val_accuracy: 0.3855\n",
            "Epoch 12/50\n",
            "156/156 [==============================] - 9s 57ms/step - loss: 1.2956 - accuracy: 0.6051 - val_loss: 2.7306 - val_accuracy: 0.3831\n",
            "Epoch 13/50\n",
            "156/156 [==============================] - 9s 56ms/step - loss: 1.2362 - accuracy: 0.6188 - val_loss: 3.1381 - val_accuracy: 0.3333\n",
            "Epoch 14/50\n",
            "156/156 [==============================] - 9s 57ms/step - loss: 1.1977 - accuracy: 0.6194 - val_loss: 3.0680 - val_accuracy: 0.3647\n",
            "Epoch 15/50\n",
            "156/156 [==============================] - 9s 58ms/step - loss: 1.1265 - accuracy: 0.6483 - val_loss: 2.7383 - val_accuracy: 0.3871\n",
            "Epoch 16/50\n",
            "156/156 [==============================] - 9s 57ms/step - loss: 1.0848 - accuracy: 0.6599 - val_loss: 3.1239 - val_accuracy: 0.3430\n",
            "Epoch 17/50\n",
            "156/156 [==============================] - 9s 57ms/step - loss: 1.0631 - accuracy: 0.6655 - val_loss: 2.3257 - val_accuracy: 0.4345\n",
            "Epoch 18/50\n",
            "156/156 [==============================] - 9s 58ms/step - loss: 0.9922 - accuracy: 0.6812 - val_loss: 2.5915 - val_accuracy: 0.4193\n",
            "Epoch 19/50\n",
            "156/156 [==============================] - 9s 58ms/step - loss: 0.9668 - accuracy: 0.6944 - val_loss: 2.3592 - val_accuracy: 0.4683\n",
            "Epoch 20/50\n",
            "156/156 [==============================] - 9s 57ms/step - loss: 0.9384 - accuracy: 0.6930 - val_loss: 2.5676 - val_accuracy: 0.4337\n",
            "Epoch 21/50\n",
            "156/156 [==============================] - 9s 57ms/step - loss: 0.8901 - accuracy: 0.7105 - val_loss: 2.5300 - val_accuracy: 0.4402\n",
            "Epoch 22/50\n",
            "156/156 [==============================] - 9s 57ms/step - loss: 0.8541 - accuracy: 0.7187 - val_loss: 2.6412 - val_accuracy: 0.4386\n",
            "Epoch 23/50\n",
            "156/156 [==============================] - 9s 57ms/step - loss: 0.8267 - accuracy: 0.7364 - val_loss: 2.7065 - val_accuracy: 0.4498\n",
            "Epoch 24/50\n",
            "156/156 [==============================] - 9s 57ms/step - loss: 0.7849 - accuracy: 0.7525 - val_loss: 2.4062 - val_accuracy: 0.4675\n",
            "Epoch 25/50\n",
            "156/156 [==============================] - 9s 58ms/step - loss: 0.7765 - accuracy: 0.7482 - val_loss: 3.2707 - val_accuracy: 0.3647\n",
            "Epoch 26/50\n",
            "156/156 [==============================] - 9s 57ms/step - loss: 0.7376 - accuracy: 0.7603 - val_loss: 3.0263 - val_accuracy: 0.4217\n",
            "Epoch 27/50\n",
            "156/156 [==============================] - 9s 57ms/step - loss: 0.7162 - accuracy: 0.7629 - val_loss: 2.5992 - val_accuracy: 0.4683\n",
            "Epoch 28/50\n",
            "156/156 [==============================] - 9s 57ms/step - loss: 0.6786 - accuracy: 0.7759 - val_loss: 2.9120 - val_accuracy: 0.4394\n",
            "Epoch 29/50\n",
            "156/156 [==============================] - 9s 61ms/step - loss: 0.6595 - accuracy: 0.7840 - val_loss: 2.7225 - val_accuracy: 0.4618\n",
            "Epoch 30/50\n",
            "156/156 [==============================] - 9s 57ms/step - loss: 0.6650 - accuracy: 0.7854 - val_loss: 3.0068 - val_accuracy: 0.4321\n",
            "Epoch 31/50\n",
            "156/156 [==============================] - 9s 57ms/step - loss: 0.6071 - accuracy: 0.8031 - val_loss: 2.7666 - val_accuracy: 0.4426\n",
            "Epoch 32/50\n",
            "156/156 [==============================] - 9s 58ms/step - loss: 0.6072 - accuracy: 0.8016 - val_loss: 2.5659 - val_accuracy: 0.4867\n",
            "Epoch 33/50\n",
            "156/156 [==============================] - 9s 58ms/step - loss: 0.6005 - accuracy: 0.7988 - val_loss: 2.4927 - val_accuracy: 0.5020\n",
            "Epoch 34/50\n",
            "156/156 [==============================] - 9s 58ms/step - loss: 0.5557 - accuracy: 0.8205 - val_loss: 2.7848 - val_accuracy: 0.4731\n",
            "Epoch 35/50\n",
            "156/156 [==============================] - 9s 58ms/step - loss: 0.5599 - accuracy: 0.8187 - val_loss: 2.7994 - val_accuracy: 0.4787\n",
            "Epoch 36/50\n",
            "156/156 [==============================] - 9s 58ms/step - loss: 0.5396 - accuracy: 0.8251 - val_loss: 3.0688 - val_accuracy: 0.4450\n",
            "Epoch 37/50\n",
            "156/156 [==============================] - 9s 58ms/step - loss: 0.5148 - accuracy: 0.8328 - val_loss: 3.1539 - val_accuracy: 0.4739\n",
            "Epoch 38/50\n",
            "156/156 [==============================] - 9s 57ms/step - loss: 0.4925 - accuracy: 0.8382 - val_loss: 2.7302 - val_accuracy: 0.4803\n",
            "Epoch 39/50\n",
            "156/156 [==============================] - 9s 57ms/step - loss: 0.4833 - accuracy: 0.8420 - val_loss: 3.1541 - val_accuracy: 0.4378\n",
            "Epoch 40/50\n",
            "156/156 [==============================] - 9s 58ms/step - loss: 0.4607 - accuracy: 0.8530 - val_loss: 3.0874 - val_accuracy: 0.4369\n",
            "Epoch 41/50\n",
            "156/156 [==============================] - 9s 58ms/step - loss: 0.4322 - accuracy: 0.8518 - val_loss: 3.5898 - val_accuracy: 0.4137\n",
            "Epoch 42/50\n",
            "156/156 [==============================] - 9s 58ms/step - loss: 0.4457 - accuracy: 0.8583 - val_loss: 3.6966 - val_accuracy: 0.4088\n",
            "Epoch 43/50\n",
            "156/156 [==============================] - 9s 58ms/step - loss: 0.4375 - accuracy: 0.8571 - val_loss: 3.3738 - val_accuracy: 0.4402\n",
            "Epoch 44/50\n",
            "156/156 [==============================] - 9s 58ms/step - loss: 0.4157 - accuracy: 0.8683 - val_loss: 2.9722 - val_accuracy: 0.4900\n",
            "Epoch 45/50\n",
            "156/156 [==============================] - 9s 57ms/step - loss: 0.4051 - accuracy: 0.8641 - val_loss: 3.7005 - val_accuracy: 0.4321\n",
            "Epoch 46/50\n",
            "156/156 [==============================] - 9s 58ms/step - loss: 0.4026 - accuracy: 0.8719 - val_loss: 3.7030 - val_accuracy: 0.4353\n",
            "Epoch 47/50\n",
            "156/156 [==============================] - 9s 58ms/step - loss: 0.3862 - accuracy: 0.8759 - val_loss: 3.3591 - val_accuracy: 0.4474\n",
            "Epoch 48/50\n",
            "156/156 [==============================] - 9s 57ms/step - loss: 0.3697 - accuracy: 0.8815 - val_loss: 3.1329 - val_accuracy: 0.4819\n",
            "Epoch 49/50\n",
            "156/156 [==============================] - 9s 58ms/step - loss: 0.3673 - accuracy: 0.8818 - val_loss: 2.7483 - val_accuracy: 0.5189\n",
            "Epoch 50/50\n",
            "156/156 [==============================] - 9s 58ms/step - loss: 0.3476 - accuracy: 0.8858 - val_loss: 3.1306 - val_accuracy: 0.4908\n"
          ]
        }
      ]
    },
    {
      "cell_type": "code",
      "metadata": {
        "colab": {
          "base_uri": "https://localhost:8080/",
          "height": 499
        },
        "id": "ynhS2KjVEhj8",
        "outputId": "14634cca-ca7c-4db8-95e0-1f285609439b"
      },
      "source": [
        "acc = history.history['accuracy']\n",
        "val_acc = history.history['val_accuracy']\n",
        "\n",
        "loss = history.history['loss']\n",
        "val_loss = history.history['val_loss']\n",
        "\n",
        "epochs_range = range(epochs)\n",
        "\n",
        "plt.figure(figsize=(8, 8))\n",
        "plt.subplot(1, 2, 1)\n",
        "plt.plot(epochs_range, acc, label='Training Accuracy')\n",
        "plt.plot(epochs_range, val_acc, label='Validation Accuracy')\n",
        "plt.legend(loc='lower right')\n",
        "plt.title('Training and Validation Accuracy')\n",
        "\n",
        "plt.subplot(1, 2, 2)\n",
        "plt.plot(epochs_range, loss, label='Training Loss')\n",
        "plt.plot(epochs_range, val_loss, label='Validation Loss')\n",
        "plt.legend(loc='upper right')\n",
        "plt.title('Training and Validation Loss')\n",
        "plt.show()"
      ],
      "execution_count": null,
      "outputs": [
        {
          "output_type": "display_data",
          "data": {
            "image/png": "[encoded data removed]",
            "text/plain": [
              "<Figure size 576x576 with 2 Axes>"
            ]
          },
          "metadata": {
            "needs_background": "light"
          }
        }
      ]
    },
    {
      "cell_type": "code",
      "metadata": {
        "colab": {
          "base_uri": "https://localhost:8080/"
        },
        "id": "IbEQMrsAH2yZ",
        "outputId": "b43913a3-4956-4397-dd1a-4934d8b2fc3f"
      },
      "source": [
        "model.compile(\n",
        "    optimizer='adam',\n",
        "    loss=tf.losses.SparseCategoricalCrossentropy(from_logits=True),\n",
        "    metrics=['accuracy'])\n",
        "model.summary()"
      ],
      "execution_count": null,
      "outputs": [
        {
          "output_type": "stream",
          "name": "stdout",
          "text": [
            "Model: \"sequential_2\"\n",
            "_________________________________________________________________\n",
            " Layer (type)                Output Shape              Param #   \n",
            "=================================================================\n",
            " sequential_1 (Sequential)   (None, 180, 180, 1)       0         \n",
            "                                                                 \n",
            " rescaling_2 (Rescaling)     (None, 180, 180, 1)       0         \n",
            "                                                                 \n",
            " conv2d_3 (Conv2D)           (None, 178, 178, 32)      320       \n",
            "                                                                 \n",
            " max_pooling2d_3 (MaxPooling  (None, 89, 89, 32)       0         \n",
            " 2D)                                                             \n",
            "                                                                 \n",
            " conv2d_4 (Conv2D)           (None, 89, 89, 32)        9248      \n",
            "                                                                 \n",
            " max_pooling2d_4 (MaxPooling  (None, 44, 44, 32)       0         \n",
            " 2D)                                                             \n",
            "                                                                 \n",
            " conv2d_5 (Conv2D)           (None, 44, 44, 32)        9248      \n",
            "                                                                 \n",
            " max_pooling2d_5 (MaxPooling  (None, 22, 22, 32)       0         \n",
            " 2D)                                                             \n",
            "                                                                 \n",
            " dropout (Dropout)           (None, 22, 22, 32)        0         \n",
            "                                                                 \n",
            " flatten_1 (Flatten)         (None, 15488)             0         \n",
            "                                                                 \n",
            " dense_4 (Dense)             (None, 128)               1982592   \n",
            "                                                                 \n",
            " batch_normalization_4 (Batc  (None, 128)              512       \n",
            " hNormalization)                                                 \n",
            "                                                                 \n",
            " dense_5 (Dense)             (None, 128)               16512     \n",
            "                                                                 \n",
            " batch_normalization_5 (Batc  (None, 128)              512       \n",
            " hNormalization)                                                 \n",
            "                                                                 \n",
            " dense_6 (Dense)             (None, 107)               13803     \n",
            "                                                                 \n",
            " batch_normalization_6 (Batc  (None, 107)              428       \n",
            " hNormalization)                                                 \n",
            "                                                                 \n",
            " dense_7 (Dense)             (None, 107)               11556     \n",
            "                                                                 \n",
            "=================================================================\n",
            "Total params: 2,044,731\n",
            "Trainable params: 2,044,005\n",
            "Non-trainable params: 726\n",
            "_________________________________________________________________\n"
          ]
        }
      ]
    },
    {
      "cell_type": "code",
      "metadata": {
        "id": "df30HUqFjWre"
      },
      "source": [
        ""
      ],
      "execution_count": null,
      "outputs": []
    }
  ]
}