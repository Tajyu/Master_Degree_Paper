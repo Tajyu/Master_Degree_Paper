{
  "nbformat": 4,
  "nbformat_minor": 0,
  "metadata": {
    "colab": {
      "name": "3Class_Genus_V3_BatchNormal_Layer_4.ipynb",
      "provenance": [],
      "collapsed_sections": [],
      "mount_file_id": "1xZ_E4cQAlHm_FltyM9b0RjWpeAyKLblI",
      "authorship_tag": "ABX9TyMjJUTBSzlRCMhSmGMLZJBi",
      "include_colab_link": true
    },
    "kernelspec": {
      "name": "python3",
      "display_name": "Python 3"
    },
    "language_info": {
      "name": "python"
    },
    "accelerator": "GPU"
  },
  "cells": [
    {
      "cell_type": "markdown",
      "metadata": {
        "id": "view-in-github",
        "colab_type": "text"
      },
      "source": [
        "<a href=\"https://colab.research.google.com/github/Tajyu/Master_Degree_Paper/blob/main/Code/Filter_32/No%20input_dim/3Class_Genus_V3_BatchNormal_Layer_4.ipynb\" target=\"_parent\"><img src=\"https://colab.research.google.com/assets/colab-badge.svg\" alt=\"Open In Colab\"/></a>"
      ]
    },
    {
      "cell_type": "code",
      "metadata": {
        "id": "yWckd06_68Em"
      },
      "source": [
        "import tensorflow as tf\n",
        "from tensorflow.keras import datasets, layers, models\n",
        "from keras.preprocessing.image import ImageDataGenerator\n",
        "import numpy as np\n",
        "import matplotlib.pyplot as plt\n",
        "import cv2 as cv\n",
        "import os\n",
        "import pathlib\n",
        "import PIL\n",
        "from tensorflow import keras\n",
        "from tensorflow.keras import layers\n",
        "from tensorflow.keras.models import Sequential\n",
        "from tensorflow.keras.layers import Dense, Flatten, BatchNormalization, Dropout"
      ],
      "execution_count": null,
      "outputs": []
    },
    {
      "cell_type": "code",
      "metadata": {
        "colab": {
          "base_uri": "https://localhost:8080/"
        },
        "id": "oNFapinkqeDN",
        "outputId": "e8b1a4d7-5453-4783-cd8d-d18db82c9b7b"
      },
      "source": [
        "from google.colab import drive\n",
        "drive.mount('/content/drive')"
      ],
      "execution_count": null,
      "outputs": [
        {
          "output_type": "stream",
          "name": "stdout",
          "text": [
            "Drive already mounted at /content/drive; to attempt to forcibly remount, call drive.mount(\"/content/drive\", force_remount=True).\n"
          ]
        }
      ]
    },
    {
      "cell_type": "code",
      "metadata": {
        "id": "xav9zirHttk_"
      },
      "source": [
        "image_list = os.listdir('/content/drive/MyDrive/Colab Notebooks/Final_Project/Cell_Genus')"
      ],
      "execution_count": null,
      "outputs": []
    },
    {
      "cell_type": "code",
      "metadata": {
        "colab": {
          "base_uri": "https://localhost:8080/"
        },
        "id": "K-wD0dM5tx_E",
        "outputId": "76a79f58-f637-4a01-ed4f-b527ec782e75"
      },
      "source": [
        "print(image_list)"
      ],
      "execution_count": null,
      "outputs": [
        {
          "output_type": "stream",
          "name": "stdout",
          "text": [
            "['10_Genus_Stauroneis_Ehrenberg', '10_Genus_Staurosira_Ehrenberg', '11_Genus_Craspedostauros_E.J_Cox_1999', '11_Genus_Staurosirella_Williams_and_Round', '12_Genus_Caloneis_Cleve_1894', '12_Genus_Synedra_Ehrenberg', '13_Genus_Pinnularia_Ehrenberg_1843', '1_Genus_Acanthoceras_Honigmann', '1_Genus_Achnanthes_Bory', '1_Genus_Actinocyclus_Ehrenberg', '1_Genus_Aphanocapsa_Nageli_1849', '1_Genus_Asterionella_Hassall', '1_Genus_Aulacoseira', '1_Genus_Biremis_Mann_et_Cox_in_Round_Crawford_and_Mann', '1_Genus_Characium_A_Braun_in_Kutzing_1849', '1_Genus_Chroococcus_Nageli', '1_Genus_Closterium_Nitzsch_ex_Ralfs_1848', '1_Genus_Coelastrum_Nageli_1849', '1_Genus_Cylindrocystis_Meneghini_ex_de_Bary_1858', '1_Genus_Dictyosphaerium_Nageli_1849', '1_Genus_Docidium_Brebisson_ex_Ralfs_1848', '1_Genus_Eunotia_Ehrenberg', '1_Genus_Geitlerinema_(Anagnostidis_et_Komarek)_Anagnostidis_1989', '1_Genus_Gonatozygon_de_Bary_1856', '1_Genus_Hydrodictyon_Roth_1797', '1_Genus_Hydrosera_whampoensis', '1_Genus_Jaaginema_Anagnostidis_et_Komarek_1988', '1_Genus_Lyngbya_C_Agardh_ex_Gomont_1892', '1_Genus_Melosira_Agardh', '1_Genus_Micractinium_Fresenius_1858', '1_Genus_Micrasterias_Ralfs_1848', '1_Genus_Microcystis_Kutzing_ex_Lemmermann_1907', '1_Genus_Oscillatoria_Vaucher_ex_Gomont_1982', '1_Genus_Pediastrum_Meyen_1829', '1_Genus_Penium_Brebisson_ex_Ralfs_in_Ralfs_1848', '1_Genus_Phormidium_Kutzing_ex_Gomont_1892', '1_Genus_Planktothrix_Anagnostidis_et_Komarek_1988', '1_Genus_Pleurosira_laevis_(Ehrenberg)', '1_Genus_Rhizosolenia_Ehrenberg', '1_Genus_Schizochlamydella_Korshikov_1953', '1_Genus_Staurodesmus_Teiling_1848', '1_Genus_Trochiscia_Kutzing_1834', '1_Scenedesmus_Hegewald_1978', '2_Acutodesmus_Hegewald_1978', '2_Genus_Achnanthidium_Kutzing', '2_Genus_Actinastrum_Lagerheim_1882', '2_Genus_Actinella_Lewis', '2_Genus_Ankyra_Fott_1957', '2_Genus_Caloneis_Cleve', '2_Genus_Chaetoceros_Ehrenberg', '2_Genus_Coenochloris_Korshikov_1953', '2_Genus_Cyclotella', '2_Genus_Diatoma_Bory', '2_Genus_Dimorphococcus_A_Braun_1855', '2_Genus_Golenkinia_Chodat_1894', '2_Genus_Haplotaenium_Bando_1988', '2_Genus_Leibleinia_(Gomont)_L_Hoffman_1985', '2_Genus_Leptolyngbya_Anagnostidis_et_Komarek_1988', '2_Genus_Merismopedia_Meyen_1839', '2_Genus_Netrium_(Nageli)_Itzigsohn_et_Rothe_in_Rabenhorst_1856', '2_Genus_Orthoseira_Thwaites_1848', '2_Genus_Phormidium_Kutzing_ex_Gomont_1892', '2_Genus_Sorastrum_Kutzing_1845', '2_Genus_Staurastrum_Meyen_ex_Ralfs_1848', '3_Desmodesmus_Chodat_1926', '3_Genus_Acanthosphaera_Lemmerman_1899', '3_Genus_Anorthoneis_Grunow', '3_Genus_Cyclostephanos_Round', '3_Genus_Dichotomococcus_Korshikov_1928', '3_Genus_Heteroleibleinia_(Geitler)_L_Hoffmann_1985', '3_Genus_Limnothrix_Meffert_1988', '3_Genus_Meridion_Agardh', '3_Genus_Paradoxia_Svirenko_1928', '3_Genus_Peronia_Bebisson_and_Arnott_ex_Kitton', '3_Genus_Phormidiochaete_Komarek_in_Anagnostidis_2001', '3_Genus_Pinnularia_Ehrenberg_1', '3_Genus_Pleurotaenium_Nageli_1849', '3_Genus_Radiococcus_Schmidle_1902', '3_Genus_Snowella_Elenkin_1938', '3_Genus_Spirotaenia_Brebisson_in_Ralfs_1848', '4_Genus_Botryococcus_Kutzing_1849', '4_Genus_Cocconeis_Ehrenberg', '4_Genus_Eutetramorus_Walton_1918', '4_Genus_Leptolyngbya_Anagnostidis_et_Komarek_1988', '4_Genus_Opephora_Petit', '4_Genus_Pinnularia_Ehrenberg_2', '4_Genus_Schroederia_Lemmermann_1898', '4_Genus_Stephanodiscus_Ehrenberg', '4_Genus_Synechocystis_Sauvageau_1892', '4_Genus_Tortitaenia_A_J_Brook_1998', '5_Genus_Caloneis_Cleve', '5_Genus_Coenocystis_Korshikov_1953', '5_Genus_Planktolyngbya_Anagnostidis_et_Komarek_1988', '5_Genus_Tabellaria_Ehrenberg', '5_Genus_Thalassiosira_Cleve', '5_Genus_Woronichinia_Elenkin_1933', '6_Genus_Anomoeoneis_Pfitzer', '6_Genus_Fragilaria_Lyngbye', '6_Genus_Gloeocystis_Nageli_1849', '6_Genus_Pseudanabaena_Lauterborn_1915', '6_Genus_Skeletonema_Greville', '7_Genus_Caloneis_Cleve', '7_Genus_Hannaea_Patrick', '8_Genus_Diploneis(Ehrenberg)_Cleve', '8_Genus_Pseudostaurosira_Williams_and_Round', '9_Genus_Neidium_Pfitzer', '9_Genus_Punctastriata_Williams_and_Round']\n"
          ]
        }
      ]
    },
    {
      "cell_type": "code",
      "metadata": {
        "id": "o-0DvzEHt8VE"
      },
      "source": [
        "data_generator = ImageDataGenerator(rescale = 1./255)\n",
        "\n",
        "data_dir = \"/content/drive/MyDrive/Colab Notebooks/Final_Project/Cell_Genus\""
      ],
      "execution_count": null,
      "outputs": []
    },
    {
      "cell_type": "code",
      "metadata": {
        "id": "7aTCfEm3t10n"
      },
      "source": [
        "batch_size = 32\n",
        "img_height = 180\n",
        "img_width = 180"
      ],
      "execution_count": null,
      "outputs": []
    },
    {
      "cell_type": "code",
      "metadata": {
        "colab": {
          "base_uri": "https://localhost:8080/"
        },
        "id": "9Smg-miEt22s",
        "outputId": "4f224a50-be74-494c-cabd-5003c20cf0ec"
      },
      "source": [
        "train_ds = tf.keras.preprocessing.image_dataset_from_directory(\n",
        "  data_dir,\n",
        "  color_mode = \"grayscale\",\n",
        "  validation_split=0.2,\n",
        "  subset=\"training\",\n",
        "  seed=123,\n",
        "  image_size=(img_height, img_width),\n",
        "  batch_size=batch_size)"
      ],
      "execution_count": null,
      "outputs": [
        {
          "output_type": "stream",
          "name": "stdout",
          "text": [
            "Found 6226 files belonging to 107 classes.\n",
            "Using 4981 files for training.\n"
          ]
        }
      ]
    },
    {
      "cell_type": "code",
      "metadata": {
        "colab": {
          "base_uri": "https://localhost:8080/"
        },
        "id": "1nR0WdQGt44x",
        "outputId": "95c574e9-c997-4f2f-d0ab-b99bdbddb7a5"
      },
      "source": [
        "val_ds = tf.keras.preprocessing.image_dataset_from_directory(\n",
        "  data_dir,\n",
        "  color_mode = \"grayscale\",\n",
        "  validation_split=0.2,\n",
        "  subset=\"validation\",\n",
        "  seed=123,\n",
        "  image_size=(img_height, img_width),\n",
        "  batch_size=batch_size)"
      ],
      "execution_count": null,
      "outputs": [
        {
          "output_type": "stream",
          "name": "stdout",
          "text": [
            "Found 6226 files belonging to 107 classes.\n",
            "Using 1245 files for validation.\n"
          ]
        }
      ]
    },
    {
      "cell_type": "code",
      "metadata": {
        "colab": {
          "base_uri": "https://localhost:8080/"
        },
        "id": "F-cz_CtGug8Y",
        "outputId": "a0c373aa-b7fc-444f-b4d9-b39a693904f5"
      },
      "source": [
        "class_names = train_ds.class_names\n",
        "print(class_names)"
      ],
      "execution_count": null,
      "outputs": [
        {
          "output_type": "stream",
          "name": "stdout",
          "text": [
            "['10_Genus_Stauroneis_Ehrenberg', '10_Genus_Staurosira_Ehrenberg', '11_Genus_Craspedostauros_E.J_Cox_1999', '11_Genus_Staurosirella_Williams_and_Round', '12_Genus_Caloneis_Cleve_1894', '12_Genus_Synedra_Ehrenberg', '13_Genus_Pinnularia_Ehrenberg_1843', '1_Genus_Acanthoceras_Honigmann', '1_Genus_Achnanthes_Bory', '1_Genus_Actinocyclus_Ehrenberg', '1_Genus_Aphanocapsa_Nageli_1849', '1_Genus_Asterionella_Hassall', '1_Genus_Aulacoseira', '1_Genus_Biremis_Mann_et_Cox_in_Round_Crawford_and_Mann', '1_Genus_Characium_A_Braun_in_Kutzing_1849', '1_Genus_Chroococcus_Nageli', '1_Genus_Closterium_Nitzsch_ex_Ralfs_1848', '1_Genus_Coelastrum_Nageli_1849', '1_Genus_Cylindrocystis_Meneghini_ex_de_Bary_1858', '1_Genus_Dictyosphaerium_Nageli_1849', '1_Genus_Docidium_Brebisson_ex_Ralfs_1848', '1_Genus_Eunotia_Ehrenberg', '1_Genus_Geitlerinema_(Anagnostidis_et_Komarek)_Anagnostidis_1989', '1_Genus_Gonatozygon_de_Bary_1856', '1_Genus_Hydrodictyon_Roth_1797', '1_Genus_Hydrosera_whampoensis', '1_Genus_Jaaginema_Anagnostidis_et_Komarek_1988', '1_Genus_Lyngbya_C_Agardh_ex_Gomont_1892', '1_Genus_Melosira_Agardh', '1_Genus_Micractinium_Fresenius_1858', '1_Genus_Micrasterias_Ralfs_1848', '1_Genus_Microcystis_Kutzing_ex_Lemmermann_1907', '1_Genus_Oscillatoria_Vaucher_ex_Gomont_1982', '1_Genus_Pediastrum_Meyen_1829', '1_Genus_Penium_Brebisson_ex_Ralfs_in_Ralfs_1848', '1_Genus_Phormidium_Kutzing_ex_Gomont_1892', '1_Genus_Planktothrix_Anagnostidis_et_Komarek_1988', '1_Genus_Pleurosira_laevis_(Ehrenberg)', '1_Genus_Rhizosolenia_Ehrenberg', '1_Genus_Schizochlamydella_Korshikov_1953', '1_Genus_Staurodesmus_Teiling_1848', '1_Genus_Trochiscia_Kutzing_1834', '1_Scenedesmus_Hegewald_1978', '2_Acutodesmus_Hegewald_1978', '2_Genus_Achnanthidium_Kutzing', '2_Genus_Actinastrum_Lagerheim_1882', '2_Genus_Actinella_Lewis', '2_Genus_Ankyra_Fott_1957', '2_Genus_Caloneis_Cleve', '2_Genus_Chaetoceros_Ehrenberg', '2_Genus_Coenochloris_Korshikov_1953', '2_Genus_Cyclotella', '2_Genus_Diatoma_Bory', '2_Genus_Dimorphococcus_A_Braun_1855', '2_Genus_Golenkinia_Chodat_1894', '2_Genus_Haplotaenium_Bando_1988', '2_Genus_Leibleinia_(Gomont)_L_Hoffman_1985', '2_Genus_Leptolyngbya_Anagnostidis_et_Komarek_1988', '2_Genus_Merismopedia_Meyen_1839', '2_Genus_Netrium_(Nageli)_Itzigsohn_et_Rothe_in_Rabenhorst_1856', '2_Genus_Orthoseira_Thwaites_1848', '2_Genus_Phormidium_Kutzing_ex_Gomont_1892', '2_Genus_Sorastrum_Kutzing_1845', '2_Genus_Staurastrum_Meyen_ex_Ralfs_1848', '3_Desmodesmus_Chodat_1926', '3_Genus_Acanthosphaera_Lemmerman_1899', '3_Genus_Anorthoneis_Grunow', '3_Genus_Cyclostephanos_Round', '3_Genus_Dichotomococcus_Korshikov_1928', '3_Genus_Heteroleibleinia_(Geitler)_L_Hoffmann_1985', '3_Genus_Limnothrix_Meffert_1988', '3_Genus_Meridion_Agardh', '3_Genus_Paradoxia_Svirenko_1928', '3_Genus_Peronia_Bebisson_and_Arnott_ex_Kitton', '3_Genus_Phormidiochaete_Komarek_in_Anagnostidis_2001', '3_Genus_Pinnularia_Ehrenberg_1', '3_Genus_Pleurotaenium_Nageli_1849', '3_Genus_Radiococcus_Schmidle_1902', '3_Genus_Snowella_Elenkin_1938', '3_Genus_Spirotaenia_Brebisson_in_Ralfs_1848', '4_Genus_Botryococcus_Kutzing_1849', '4_Genus_Cocconeis_Ehrenberg', '4_Genus_Eutetramorus_Walton_1918', '4_Genus_Leptolyngbya_Anagnostidis_et_Komarek_1988', '4_Genus_Opephora_Petit', '4_Genus_Pinnularia_Ehrenberg_2', '4_Genus_Schroederia_Lemmermann_1898', '4_Genus_Stephanodiscus_Ehrenberg', '4_Genus_Synechocystis_Sauvageau_1892', '4_Genus_Tortitaenia_A_J_Brook_1998', '5_Genus_Caloneis_Cleve', '5_Genus_Coenocystis_Korshikov_1953', '5_Genus_Planktolyngbya_Anagnostidis_et_Komarek_1988', '5_Genus_Tabellaria_Ehrenberg', '5_Genus_Thalassiosira_Cleve', '5_Genus_Woronichinia_Elenkin_1933', '6_Genus_Anomoeoneis_Pfitzer', '6_Genus_Fragilaria_Lyngbye', '6_Genus_Gloeocystis_Nageli_1849', '6_Genus_Pseudanabaena_Lauterborn_1915', '6_Genus_Skeletonema_Greville', '7_Genus_Caloneis_Cleve', '7_Genus_Hannaea_Patrick', '8_Genus_Diploneis(Ehrenberg)_Cleve', '8_Genus_Pseudostaurosira_Williams_and_Round', '9_Genus_Neidium_Pfitzer', '9_Genus_Punctastriata_Williams_and_Round']\n"
          ]
        }
      ]
    },
    {
      "cell_type": "code",
      "metadata": {
        "colab": {
          "base_uri": "https://localhost:8080/"
        },
        "id": "5EQOikPAukic",
        "outputId": "26ff877b-df7e-408f-9ad1-17533bb6a821"
      },
      "source": [
        "for image_batch, labels_batch in train_ds:\n",
        "  print(image_batch.shape)\n",
        "  print(labels_batch.shape)\n",
        "  break"
      ],
      "execution_count": null,
      "outputs": [
        {
          "output_type": "stream",
          "name": "stdout",
          "text": [
            "(32, 180, 180, 1)\n",
            "(32,)\n"
          ]
        }
      ]
    },
    {
      "cell_type": "code",
      "metadata": {
        "id": "9eVl7tiDux9q"
      },
      "source": [
        "from tensorflow.keras import layers\n",
        "\n",
        "normalization_layer = tf.keras.layers.experimental.preprocessing.Rescaling(1./255)"
      ],
      "execution_count": null,
      "outputs": []
    },
    {
      "cell_type": "code",
      "metadata": {
        "colab": {
          "base_uri": "https://localhost:8080/"
        },
        "id": "AiIrsxzZuzEo",
        "outputId": "11dec8e1-53b9-4ec6-bb5c-9a9434adff42"
      },
      "source": [
        "normalized_ds = train_ds.map(lambda x, y: (normalization_layer(x), y))\n",
        "image_batch, labels_batch = next(iter(normalized_ds))\n",
        "first_image = image_batch[0]\n",
        "# Notice the pixels values are now in `[0,1]`.\n",
        "print(np.min(first_image), np.max(first_image))"
      ],
      "execution_count": null,
      "outputs": [
        {
          "output_type": "stream",
          "name": "stdout",
          "text": [
            "0.0 1.0\n"
          ]
        }
      ]
    },
    {
      "cell_type": "code",
      "metadata": {
        "id": "__WbVabru0Bp"
      },
      "source": [
        "AUTOTUNE = tf.data.experimental.AUTOTUNE\n",
        "\n",
        "train_ds = train_ds.cache().prefetch(buffer_size=AUTOTUNE)\n",
        "val_ds = val_ds.cache().prefetch(buffer_size=AUTOTUNE)"
      ],
      "execution_count": null,
      "outputs": []
    },
    {
      "cell_type": "code",
      "metadata": {
        "id": "g1GeYFXCu2gV"
      },
      "source": [
        "num_classes = 107\n",
        "model = tf.keras.Sequential([\n",
        "    layers.experimental.preprocessing.Rescaling(1./255),\n",
        "    layers.Conv2D(32, 3,input_shape = image_batch, activation='relu'),\n",
        "    layers.MaxPooling2D(),\n",
        "    layers.Conv2D(32, 3, activation='relu'),\n",
        "    layers.MaxPooling2D(),\n",
        "    layers.Conv2D(32, 3, activation='relu'),\n",
        "    layers.MaxPooling2D(),\n",
        "    layers.Flatten(),\n",
        "    BatchNormalization(),\n",
        "    layers.Dense(128, activation='relu'),\n",
        "    BatchNormalization(),\n",
        "    layers.Dense(128, activation='relu'),\n",
        "    BatchNormalization(),\n",
        "    layers.Dense(128, activation='relu'),\n",
        "    BatchNormalization(),\n",
        "    layers.Dense(107, activation='softmax'),\n",
        "    BatchNormalization(),\n",
        "    layers.Dense(num_classes)\n",
        "    ])"
      ],
      "execution_count": null,
      "outputs": []
    },
    {
      "cell_type": "code",
      "metadata": {
        "id": "wU4xPAvNYWry"
      },
      "source": [
        "model.compile(\n",
        "    optimizer='adam',\n",
        "    loss=tf.losses.SparseCategoricalCrossentropy(from_logits=True),\n",
        "    metrics=['accuracy'])"
      ],
      "execution_count": null,
      "outputs": []
    },
    {
      "cell_type": "code",
      "metadata": {
        "colab": {
          "base_uri": "https://localhost:8080/"
        },
        "id": "Tk8ssrbHu44p",
        "outputId": "9e9f7ea5-5b65-45ea-9791-116f0162aeea"
      },
      "source": [
        "epochs=50\n",
        "history = model.fit(\n",
        "  train_ds,\n",
        "  validation_data=val_ds,\n",
        "  epochs=epochs\n",
        ")"
      ],
      "execution_count": null,
      "outputs": [
        {
          "output_type": "stream",
          "name": "stdout",
          "text": [
            "Epoch 1/50\n",
            "156/156 [==============================] - 1307s 8s/step - loss: 3.2900 - accuracy: 0.2985 - val_loss: 4.2354 - val_accuracy: 0.0980\n",
            "Epoch 2/50\n",
            "156/156 [==============================] - 3s 17ms/step - loss: 2.1252 - accuracy: 0.4557 - val_loss: 3.6740 - val_accuracy: 0.2787\n",
            "Epoch 3/50\n",
            "156/156 [==============================] - 3s 17ms/step - loss: 1.5255 - accuracy: 0.6053 - val_loss: 2.6628 - val_accuracy: 0.4554\n",
            "Epoch 4/50\n",
            "156/156 [==============================] - 3s 18ms/step - loss: 1.1504 - accuracy: 0.7031 - val_loss: 2.0540 - val_accuracy: 0.4667\n",
            "Epoch 5/50\n",
            "156/156 [==============================] - 3s 19ms/step - loss: 0.8701 - accuracy: 0.7731 - val_loss: 2.0661 - val_accuracy: 0.4739\n",
            "Epoch 6/50\n",
            "156/156 [==============================] - 3s 17ms/step - loss: 0.5945 - accuracy: 0.8544 - val_loss: 2.3172 - val_accuracy: 0.4707\n",
            "Epoch 7/50\n",
            "156/156 [==============================] - 3s 18ms/step - loss: 0.4017 - accuracy: 0.9078 - val_loss: 2.6059 - val_accuracy: 0.4209\n",
            "Epoch 8/50\n",
            "156/156 [==============================] - 3s 18ms/step - loss: 0.2806 - accuracy: 0.9398 - val_loss: 2.3846 - val_accuracy: 0.4948\n",
            "Epoch 9/50\n",
            "156/156 [==============================] - 3s 18ms/step - loss: 0.1849 - accuracy: 0.9635 - val_loss: 2.4171 - val_accuracy: 0.5068\n",
            "Epoch 10/50\n",
            "156/156 [==============================] - 3s 18ms/step - loss: 0.1201 - accuracy: 0.9799 - val_loss: 2.2443 - val_accuracy: 0.5422\n",
            "Epoch 11/50\n",
            "156/156 [==============================] - 3s 18ms/step - loss: 0.0788 - accuracy: 0.9888 - val_loss: 2.2692 - val_accuracy: 0.5325\n",
            "Epoch 12/50\n",
            "156/156 [==============================] - 3s 17ms/step - loss: 0.0538 - accuracy: 0.9922 - val_loss: 2.2956 - val_accuracy: 0.5309\n",
            "Epoch 13/50\n",
            "156/156 [==============================] - 3s 17ms/step - loss: 0.0337 - accuracy: 0.9968 - val_loss: 2.3045 - val_accuracy: 0.5430\n",
            "Epoch 14/50\n",
            "156/156 [==============================] - 3s 18ms/step - loss: 0.0206 - accuracy: 0.9986 - val_loss: 2.3106 - val_accuracy: 0.5382\n",
            "Epoch 15/50\n",
            "156/156 [==============================] - 3s 18ms/step - loss: 0.0143 - accuracy: 0.9990 - val_loss: 2.3579 - val_accuracy: 0.5398\n",
            "Epoch 16/50\n",
            "156/156 [==============================] - 3s 18ms/step - loss: 0.0103 - accuracy: 0.9998 - val_loss: 2.3737 - val_accuracy: 0.5422\n",
            "Epoch 17/50\n",
            "156/156 [==============================] - 3s 19ms/step - loss: 0.0077 - accuracy: 1.0000 - val_loss: 2.4087 - val_accuracy: 0.5414\n",
            "Epoch 18/50\n",
            "156/156 [==============================] - 3s 18ms/step - loss: 0.0067 - accuracy: 1.0000 - val_loss: 2.4539 - val_accuracy: 0.5462\n",
            "Epoch 19/50\n",
            "156/156 [==============================] - 3s 18ms/step - loss: 0.0064 - accuracy: 0.9996 - val_loss: 2.4582 - val_accuracy: 0.5430\n",
            "Epoch 20/50\n",
            "156/156 [==============================] - 3s 17ms/step - loss: 0.0048 - accuracy: 0.9998 - val_loss: 2.4997 - val_accuracy: 0.5438\n",
            "Epoch 21/50\n",
            "156/156 [==============================] - 3s 17ms/step - loss: 0.0038 - accuracy: 1.0000 - val_loss: 2.5242 - val_accuracy: 0.5446\n",
            "Epoch 22/50\n",
            "156/156 [==============================] - 3s 18ms/step - loss: 0.0032 - accuracy: 1.0000 - val_loss: 2.5632 - val_accuracy: 0.5406\n",
            "Epoch 23/50\n",
            "156/156 [==============================] - 3s 17ms/step - loss: 0.0028 - accuracy: 1.0000 - val_loss: 2.5835 - val_accuracy: 0.5422\n",
            "Epoch 24/50\n",
            "156/156 [==============================] - 3s 19ms/step - loss: 0.0024 - accuracy: 1.0000 - val_loss: 2.6131 - val_accuracy: 0.5414\n",
            "Epoch 25/50\n",
            "156/156 [==============================] - 3s 19ms/step - loss: 0.0021 - accuracy: 1.0000 - val_loss: 2.6416 - val_accuracy: 0.5406\n",
            "Epoch 26/50\n",
            "156/156 [==============================] - 3s 18ms/step - loss: 0.0019 - accuracy: 1.0000 - val_loss: 2.6660 - val_accuracy: 0.5406\n",
            "Epoch 27/50\n",
            "156/156 [==============================] - 3s 20ms/step - loss: 0.0017 - accuracy: 1.0000 - val_loss: 2.6921 - val_accuracy: 0.5406\n",
            "Epoch 28/50\n",
            "156/156 [==============================] - 3s 18ms/step - loss: 0.0015 - accuracy: 1.0000 - val_loss: 2.7148 - val_accuracy: 0.5430\n",
            "Epoch 29/50\n",
            "156/156 [==============================] - 3s 18ms/step - loss: 0.0013 - accuracy: 1.0000 - val_loss: 2.7438 - val_accuracy: 0.5414\n",
            "Epoch 30/50\n",
            "156/156 [==============================] - 3s 18ms/step - loss: 0.0012 - accuracy: 1.0000 - val_loss: 2.7645 - val_accuracy: 0.5406\n",
            "Epoch 31/50\n",
            "156/156 [==============================] - 3s 18ms/step - loss: 0.0011 - accuracy: 1.0000 - val_loss: 2.7892 - val_accuracy: 0.5414\n",
            "Epoch 32/50\n",
            "156/156 [==============================] - 3s 17ms/step - loss: 9.6083e-04 - accuracy: 1.0000 - val_loss: 2.8123 - val_accuracy: 0.5414\n",
            "Epoch 33/50\n",
            "156/156 [==============================] - 3s 18ms/step - loss: 8.6718e-04 - accuracy: 1.0000 - val_loss: 2.8360 - val_accuracy: 0.5422\n",
            "Epoch 34/50\n",
            "156/156 [==============================] - 3s 18ms/step - loss: 7.8381e-04 - accuracy: 1.0000 - val_loss: 2.8590 - val_accuracy: 0.5414\n",
            "Epoch 35/50\n",
            "156/156 [==============================] - 3s 18ms/step - loss: 7.0920e-04 - accuracy: 1.0000 - val_loss: 2.8819 - val_accuracy: 0.5398\n",
            "Epoch 36/50\n",
            "156/156 [==============================] - 3s 19ms/step - loss: 6.4334e-04 - accuracy: 1.0000 - val_loss: 2.9046 - val_accuracy: 0.5398\n",
            "Epoch 37/50\n",
            "156/156 [==============================] - 3s 18ms/step - loss: 5.8403e-04 - accuracy: 1.0000 - val_loss: 2.9282 - val_accuracy: 0.5398\n",
            "Epoch 38/50\n",
            "156/156 [==============================] - 3s 19ms/step - loss: 5.3136e-04 - accuracy: 1.0000 - val_loss: 2.9508 - val_accuracy: 0.5398\n",
            "Epoch 39/50\n",
            "156/156 [==============================] - 3s 18ms/step - loss: 4.8253e-04 - accuracy: 1.0000 - val_loss: 2.9727 - val_accuracy: 0.5390\n",
            "Epoch 40/50\n",
            "156/156 [==============================] - 3s 18ms/step - loss: 4.3910e-04 - accuracy: 1.0000 - val_loss: 2.9958 - val_accuracy: 0.5382\n",
            "Epoch 41/50\n",
            "156/156 [==============================] - 3s 18ms/step - loss: 4.0098e-04 - accuracy: 1.0000 - val_loss: 3.0177 - val_accuracy: 0.5398\n",
            "Epoch 42/50\n",
            "156/156 [==============================] - 3s 18ms/step - loss: 3.6424e-04 - accuracy: 1.0000 - val_loss: 3.0400 - val_accuracy: 0.5390\n",
            "Epoch 43/50\n",
            "156/156 [==============================] - 3s 18ms/step - loss: 3.3130e-04 - accuracy: 1.0000 - val_loss: 3.0621 - val_accuracy: 0.5390\n",
            "Epoch 44/50\n",
            "156/156 [==============================] - 3s 18ms/step - loss: 3.0260e-04 - accuracy: 1.0000 - val_loss: 3.0849 - val_accuracy: 0.5390\n",
            "Epoch 45/50\n",
            "156/156 [==============================] - 3s 18ms/step - loss: 2.7646e-04 - accuracy: 1.0000 - val_loss: 3.1060 - val_accuracy: 0.5390\n",
            "Epoch 46/50\n",
            "156/156 [==============================] - 3s 17ms/step - loss: 2.5343e-04 - accuracy: 1.0000 - val_loss: 3.1290 - val_accuracy: 0.5398\n",
            "Epoch 47/50\n",
            "156/156 [==============================] - 3s 18ms/step - loss: 2.3026e-04 - accuracy: 1.0000 - val_loss: 3.1501 - val_accuracy: 0.5398\n",
            "Epoch 48/50\n",
            "156/156 [==============================] - 3s 18ms/step - loss: 2.1056e-04 - accuracy: 1.0000 - val_loss: 3.1734 - val_accuracy: 0.5398\n",
            "Epoch 49/50\n",
            "156/156 [==============================] - 3s 18ms/step - loss: 1.9346e-04 - accuracy: 1.0000 - val_loss: 3.1933 - val_accuracy: 0.5398\n",
            "Epoch 50/50\n",
            "156/156 [==============================] - 3s 19ms/step - loss: 1.6018 - accuracy: 0.6264 - val_loss: 5.8447 - val_accuracy: 0.2402\n"
          ]
        }
      ]
    },
    {
      "cell_type": "code",
      "metadata": {
        "colab": {
          "base_uri": "https://localhost:8080/",
          "height": 499
        },
        "id": "f1z_vHocu59c",
        "outputId": "8086fa02-73c6-48e3-b944-4bb807de88d5"
      },
      "source": [
        "acc = history.history['accuracy']\n",
        "val_acc = history.history['val_accuracy']\n",
        "\n",
        "loss=history.history['loss']\n",
        "val_loss=history.history['val_loss']\n",
        "\n",
        "epochs_range = range(epochs)\n",
        "\n",
        "plt.figure(figsize=(8, 8))\n",
        "plt.subplot(1, 2, 1)\n",
        "plt.plot(epochs_range, acc, label='Training Accuracy')\n",
        "plt.plot(epochs_range, val_acc, label='Validation Accuracy')\n",
        "plt.legend(loc='lower right')\n",
        "plt.title('Training and Validation Accuracy')\n",
        "\n",
        "plt.subplot(1, 2, 2)\n",
        "plt.plot(epochs_range, loss, label='Training Loss')\n",
        "plt.plot(epochs_range, val_loss, label='Validation Loss')\n",
        "plt.legend(loc='upper right')\n",
        "plt.title('Training and Validation Loss')\n",
        "plt.show()"
      ],
      "execution_count": null,
      "outputs": [
        {
          "output_type": "display_data",
          "data": {
            "image/png": "[encoded data removed]",
            "text/plain": [
              "<Figure size 576x576 with 2 Axes>"
            ]
          },
          "metadata": {
            "needs_background": "light"
          }
        }
      ]
    },
    {
      "cell_type": "code",
      "metadata": {
        "id": "XinJ6xXD9YNO"
      },
      "source": [
        "data_augmentation = keras.Sequential(\n",
        "  [\n",
        "    layers.experimental.preprocessing.RandomFlip(\"horizontal\", \n",
        "                                                 input_shape=(img_height, \n",
        "                                                              img_width,\n",
        "                                                              1)),\n",
        "    layers.experimental.preprocessing.RandomRotation(0.1),\n",
        "    layers.experimental.preprocessing.RandomZoom(0.1),\n",
        "  ]\n",
        ")"
      ],
      "execution_count": null,
      "outputs": []
    },
    {
      "cell_type": "code",
      "metadata": {
        "id": "8WT2BYElEYZj"
      },
      "source": [
        "model = Sequential([\n",
        "  data_augmentation,\n",
        "  layers.experimental.preprocessing.Rescaling(1./255),\n",
        "  layers.Conv2D(32, 3,input_shape = image_batch, activation='relu'),\n",
        "  layers.MaxPooling2D(),\n",
        "  layers.Conv2D(32, 3, padding='same', activation='relu'),\n",
        "  layers.MaxPooling2D(),\n",
        "  layers.Conv2D(32, 3, padding='same', activation='relu'),\n",
        "  layers.MaxPooling2D(),\n",
        "  layers.Dropout(0.2),\n",
        "  layers.Flatten(),\n",
        "  layers.Dense(128, activation='relu'),\n",
        "  BatchNormalization(),\n",
        "  layers.Dense(128, activation='relu'),\n",
        "  BatchNormalization(),\n",
        "  layers.Dense(128, activation='relu'),\n",
        "  BatchNormalization(),\n",
        "  layers.Dense(107, activation='softmax'),\n",
        "  BatchNormalization(),\n",
        "  layers.Dense(num_classes)\n",
        "])"
      ],
      "execution_count": null,
      "outputs": []
    },
    {
      "cell_type": "code",
      "metadata": {
        "id": "opOHP3auEdsw",
        "colab": {
          "base_uri": "https://localhost:8080/"
        },
        "outputId": "2c49ffa0-f72e-41c3-e1ca-60928c8add70"
      },
      "source": [
        "BatchNormalization(),model.compile(\n",
        "    optimizer='adam',\n",
        "    loss=tf.losses.SparseCategoricalCrossentropy(from_logits=True),\n",
        "    metrics=['accuracy'])"
      ],
      "execution_count": null,
      "outputs": [
        {
          "output_type": "execute_result",
          "data": {
            "text/plain": [
              "(<keras.layers.normalization.batch_normalization.BatchNormalization at 0x7f93bb5b1150>,\n",
              " None)"
            ]
          },
          "metadata": {},
          "execution_count": 20
        }
      ]
    },
    {
      "cell_type": "code",
      "metadata": {
        "colab": {
          "base_uri": "https://localhost:8080/"
        },
        "id": "3Ay4tlHlEfBX",
        "outputId": "04da0e47-5f62-452a-c80b-95efe32460d7"
      },
      "source": [
        "model.summary()"
      ],
      "execution_count": null,
      "outputs": [
        {
          "output_type": "stream",
          "name": "stdout",
          "text": [
            "Model: \"sequential_2\"\n",
            "_________________________________________________________________\n",
            " Layer (type)                Output Shape              Param #   \n",
            "=================================================================\n",
            " sequential_1 (Sequential)   (None, 180, 180, 1)       0         \n",
            "                                                                 \n",
            " rescaling_2 (Rescaling)     (None, 180, 180, 1)       0         \n",
            "                                                                 \n",
            " conv2d_3 (Conv2D)           (None, 178, 178, 32)      320       \n",
            "                                                                 \n",
            " max_pooling2d_3 (MaxPooling  (None, 89, 89, 32)       0         \n",
            " 2D)                                                             \n",
            "                                                                 \n",
            " conv2d_4 (Conv2D)           (None, 89, 89, 32)        9248      \n",
            "                                                                 \n",
            " max_pooling2d_4 (MaxPooling  (None, 44, 44, 32)       0         \n",
            " 2D)                                                             \n",
            "                                                                 \n",
            " conv2d_5 (Conv2D)           (None, 44, 44, 32)        9248      \n",
            "                                                                 \n",
            " max_pooling2d_5 (MaxPooling  (None, 22, 22, 32)       0         \n",
            " 2D)                                                             \n",
            "                                                                 \n",
            " dropout (Dropout)           (None, 22, 22, 32)        0         \n",
            "                                                                 \n",
            " flatten_1 (Flatten)         (None, 15488)             0         \n",
            "                                                                 \n",
            " dense_5 (Dense)             (None, 128)               1982592   \n",
            "                                                                 \n",
            " batch_normalization_5 (Batc  (None, 128)              512       \n",
            " hNormalization)                                                 \n",
            "                                                                 \n",
            " dense_6 (Dense)             (None, 128)               16512     \n",
            "                                                                 \n",
            " batch_normalization_6 (Batc  (None, 128)              512       \n",
            " hNormalization)                                                 \n",
            "                                                                 \n",
            " dense_7 (Dense)             (None, 128)               16512     \n",
            "                                                                 \n",
            " batch_normalization_7 (Batc  (None, 128)              512       \n",
            " hNormalization)                                                 \n",
            "                                                                 \n",
            " dense_8 (Dense)             (None, 107)               13803     \n",
            "                                                                 \n",
            " batch_normalization_8 (Batc  (None, 107)              428       \n",
            " hNormalization)                                                 \n",
            "                                                                 \n",
            " dense_9 (Dense)             (None, 107)               11556     \n",
            "                                                                 \n",
            "=================================================================\n",
            "Total params: 2,061,755\n",
            "Trainable params: 2,060,773\n",
            "Non-trainable params: 982\n",
            "_________________________________________________________________\n"
          ]
        }
      ]
    },
    {
      "cell_type": "code",
      "metadata": {
        "colab": {
          "base_uri": "https://localhost:8080/"
        },
        "id": "Jc8rD_v9Ef41",
        "outputId": "4fd0118e-9dca-4154-97f3-da23d65460c4"
      },
      "source": [
        "epochs = 50\n",
        "history = model.fit(\n",
        "  train_ds,\n",
        "  validation_data=val_ds,\n",
        "  epochs=epochs\n",
        ")"
      ],
      "execution_count": null,
      "outputs": [
        {
          "output_type": "stream",
          "name": "stdout",
          "text": [
            "Epoch 1/50\n",
            "156/156 [==============================] - 6s 22ms/step - loss: 3.6728 - accuracy: 0.2112 - val_loss: 4.1363 - val_accuracy: 0.1679\n",
            "Epoch 2/50\n",
            "156/156 [==============================] - 3s 21ms/step - loss: 2.6690 - accuracy: 0.3190 - val_loss: 3.6031 - val_accuracy: 0.2618\n",
            "Epoch 3/50\n",
            "156/156 [==============================] - 3s 20ms/step - loss: 2.3764 - accuracy: 0.3652 - val_loss: 3.0856 - val_accuracy: 0.2892\n",
            "Epoch 4/50\n",
            "156/156 [==============================] - 3s 21ms/step - loss: 2.1704 - accuracy: 0.4053 - val_loss: 2.7918 - val_accuracy: 0.2972\n",
            "Epoch 5/50\n",
            "156/156 [==============================] - 3s 20ms/step - loss: 2.0333 - accuracy: 0.4236 - val_loss: 3.0064 - val_accuracy: 0.3052\n",
            "Epoch 6/50\n",
            "156/156 [==============================] - 3s 21ms/step - loss: 1.9235 - accuracy: 0.4487 - val_loss: 2.3190 - val_accuracy: 0.3912\n",
            "Epoch 7/50\n",
            "156/156 [==============================] - 3s 20ms/step - loss: 1.7750 - accuracy: 0.4846 - val_loss: 2.9321 - val_accuracy: 0.3036\n",
            "Epoch 8/50\n",
            "156/156 [==============================] - 3s 20ms/step - loss: 1.6976 - accuracy: 0.4947 - val_loss: 3.1907 - val_accuracy: 0.2787\n",
            "Epoch 9/50\n",
            "156/156 [==============================] - 3s 21ms/step - loss: 1.6067 - accuracy: 0.5174 - val_loss: 2.8668 - val_accuracy: 0.3108\n",
            "Epoch 10/50\n",
            "156/156 [==============================] - 3s 20ms/step - loss: 1.5478 - accuracy: 0.5334 - val_loss: 2.4237 - val_accuracy: 0.3751\n",
            "Epoch 11/50\n",
            "156/156 [==============================] - 3s 20ms/step - loss: 1.4674 - accuracy: 0.5503 - val_loss: 2.6968 - val_accuracy: 0.3422\n",
            "Epoch 12/50\n",
            "156/156 [==============================] - 3s 20ms/step - loss: 1.4033 - accuracy: 0.5613 - val_loss: 3.1344 - val_accuracy: 0.3036\n",
            "Epoch 13/50\n",
            "156/156 [==============================] - 3s 20ms/step - loss: 1.3469 - accuracy: 0.5842 - val_loss: 2.7824 - val_accuracy: 0.3631\n",
            "Epoch 14/50\n",
            "156/156 [==============================] - 3s 20ms/step - loss: 1.2941 - accuracy: 0.6007 - val_loss: 2.5741 - val_accuracy: 0.3695\n",
            "Epoch 15/50\n",
            "156/156 [==============================] - 3s 20ms/step - loss: 1.2478 - accuracy: 0.6107 - val_loss: 2.5042 - val_accuracy: 0.3871\n",
            "Epoch 16/50\n",
            "156/156 [==============================] - 3s 21ms/step - loss: 1.1716 - accuracy: 0.6266 - val_loss: 2.5680 - val_accuracy: 0.3904\n",
            "Epoch 17/50\n",
            "156/156 [==============================] - 3s 20ms/step - loss: 1.1317 - accuracy: 0.6358 - val_loss: 2.6688 - val_accuracy: 0.3888\n",
            "Epoch 18/50\n",
            "156/156 [==============================] - 3s 20ms/step - loss: 1.1030 - accuracy: 0.6499 - val_loss: 2.8312 - val_accuracy: 0.3847\n",
            "Epoch 19/50\n",
            "156/156 [==============================] - 3s 20ms/step - loss: 1.0897 - accuracy: 0.6531 - val_loss: 2.3492 - val_accuracy: 0.4369\n",
            "Epoch 20/50\n",
            "156/156 [==============================] - 3s 21ms/step - loss: 1.0532 - accuracy: 0.6607 - val_loss: 2.5683 - val_accuracy: 0.4000\n",
            "Epoch 21/50\n",
            "156/156 [==============================] - 3s 20ms/step - loss: 0.9920 - accuracy: 0.6816 - val_loss: 2.8487 - val_accuracy: 0.4056\n",
            "Epoch 22/50\n",
            "156/156 [==============================] - 3s 20ms/step - loss: 0.9763 - accuracy: 0.6824 - val_loss: 2.4901 - val_accuracy: 0.4281\n",
            "Epoch 23/50\n",
            "156/156 [==============================] - 3s 20ms/step - loss: 0.9194 - accuracy: 0.6972 - val_loss: 2.4373 - val_accuracy: 0.4361\n",
            "Epoch 24/50\n",
            "156/156 [==============================] - 3s 20ms/step - loss: 0.9033 - accuracy: 0.7041 - val_loss: 2.7605 - val_accuracy: 0.4257\n",
            "Epoch 25/50\n",
            "156/156 [==============================] - 3s 20ms/step - loss: 0.8723 - accuracy: 0.7091 - val_loss: 2.6759 - val_accuracy: 0.4161\n",
            "Epoch 26/50\n",
            "156/156 [==============================] - 3s 20ms/step - loss: 0.8411 - accuracy: 0.7240 - val_loss: 3.3124 - val_accuracy: 0.4024\n",
            "Epoch 27/50\n",
            "156/156 [==============================] - 3s 20ms/step - loss: 0.8096 - accuracy: 0.7314 - val_loss: 2.6256 - val_accuracy: 0.4281\n",
            "Epoch 28/50\n",
            "156/156 [==============================] - 3s 20ms/step - loss: 0.7761 - accuracy: 0.7450 - val_loss: 2.5469 - val_accuracy: 0.4426\n",
            "Epoch 29/50\n",
            "156/156 [==============================] - 3s 20ms/step - loss: 0.7498 - accuracy: 0.7494 - val_loss: 2.8126 - val_accuracy: 0.4225\n",
            "Epoch 30/50\n",
            "156/156 [==============================] - 3s 21ms/step - loss: 0.7123 - accuracy: 0.7623 - val_loss: 3.1295 - val_accuracy: 0.3976\n",
            "Epoch 31/50\n",
            "156/156 [==============================] - 3s 20ms/step - loss: 0.6962 - accuracy: 0.7713 - val_loss: 2.8398 - val_accuracy: 0.4209\n",
            "Epoch 32/50\n",
            "156/156 [==============================] - 3s 20ms/step - loss: 0.6848 - accuracy: 0.7794 - val_loss: 2.6616 - val_accuracy: 0.4289\n",
            "Epoch 33/50\n",
            "156/156 [==============================] - 3s 21ms/step - loss: 0.6606 - accuracy: 0.7759 - val_loss: 2.7031 - val_accuracy: 0.4522\n",
            "Epoch 34/50\n",
            "156/156 [==============================] - 3s 22ms/step - loss: 0.6443 - accuracy: 0.7862 - val_loss: 2.9522 - val_accuracy: 0.4145\n",
            "Epoch 35/50\n",
            "156/156 [==============================] - 3s 22ms/step - loss: 0.6218 - accuracy: 0.7936 - val_loss: 5.8157 - val_accuracy: 0.3863\n",
            "Epoch 36/50\n",
            "156/156 [==============================] - 3s 21ms/step - loss: 0.6015 - accuracy: 0.8061 - val_loss: 2.7482 - val_accuracy: 0.4538\n",
            "Epoch 37/50\n",
            "156/156 [==============================] - 3s 21ms/step - loss: 0.5701 - accuracy: 0.8175 - val_loss: 2.6491 - val_accuracy: 0.4835\n",
            "Epoch 38/50\n",
            "156/156 [==============================] - 3s 21ms/step - loss: 0.5610 - accuracy: 0.8195 - val_loss: 2.5910 - val_accuracy: 0.4884\n",
            "Epoch 39/50\n",
            "156/156 [==============================] - 3s 21ms/step - loss: 0.5507 - accuracy: 0.8177 - val_loss: 3.0968 - val_accuracy: 0.3992\n",
            "Epoch 40/50\n",
            "156/156 [==============================] - 3s 20ms/step - loss: 0.5412 - accuracy: 0.8199 - val_loss: 2.9182 - val_accuracy: 0.4402\n",
            "Epoch 41/50\n",
            "156/156 [==============================] - 3s 20ms/step - loss: 0.5326 - accuracy: 0.8251 - val_loss: 3.0218 - val_accuracy: 0.4506\n",
            "Epoch 42/50\n",
            "156/156 [==============================] - 3s 20ms/step - loss: 0.5135 - accuracy: 0.8328 - val_loss: 2.6393 - val_accuracy: 0.4618\n",
            "Epoch 43/50\n",
            "156/156 [==============================] - 3s 20ms/step - loss: 0.4772 - accuracy: 0.8380 - val_loss: 3.1326 - val_accuracy: 0.4249\n",
            "Epoch 44/50\n",
            "156/156 [==============================] - 3s 20ms/step - loss: 0.4789 - accuracy: 0.8358 - val_loss: 3.1526 - val_accuracy: 0.4185\n",
            "Epoch 45/50\n",
            "156/156 [==============================] - 3s 21ms/step - loss: 0.4675 - accuracy: 0.8456 - val_loss: 3.3029 - val_accuracy: 0.4088\n",
            "Epoch 46/50\n",
            "156/156 [==============================] - 3s 21ms/step - loss: 0.4247 - accuracy: 0.8571 - val_loss: 3.0589 - val_accuracy: 0.4313\n",
            "Epoch 47/50\n",
            "156/156 [==============================] - 3s 20ms/step - loss: 0.4345 - accuracy: 0.8575 - val_loss: 3.2637 - val_accuracy: 0.4321\n",
            "Epoch 48/50\n",
            "156/156 [==============================] - 3s 21ms/step - loss: 0.4375 - accuracy: 0.8498 - val_loss: 2.7305 - val_accuracy: 0.4980\n",
            "Epoch 49/50\n",
            "156/156 [==============================] - 3s 20ms/step - loss: 0.3999 - accuracy: 0.8687 - val_loss: 2.8387 - val_accuracy: 0.4859\n",
            "Epoch 50/50\n",
            "156/156 [==============================] - 3s 21ms/step - loss: 0.4074 - accuracy: 0.8639 - val_loss: 3.1315 - val_accuracy: 0.4329\n"
          ]
        }
      ]
    },
    {
      "cell_type": "code",
      "metadata": {
        "colab": {
          "base_uri": "https://localhost:8080/",
          "height": 499
        },
        "id": "ynhS2KjVEhj8",
        "outputId": "ece84c1b-df62-426f-ad36-3e0263a1ab67"
      },
      "source": [
        "acc = history.history['accuracy']\n",
        "val_acc = history.history['val_accuracy']\n",
        "\n",
        "loss = history.history['loss']\n",
        "val_loss = history.history['val_loss']\n",
        "\n",
        "epochs_range = range(epochs)\n",
        "\n",
        "plt.figure(figsize=(8, 8))\n",
        "plt.subplot(1, 2, 1)\n",
        "plt.plot(epochs_range, acc, label='Training Accuracy')\n",
        "plt.plot(epochs_range, val_acc, label='Validation Accuracy')\n",
        "plt.legend(loc='lower right')\n",
        "plt.title('Training and Validation Accuracy')\n",
        "\n",
        "plt.subplot(1, 2, 2)\n",
        "plt.plot(epochs_range, loss, label='Training Loss')\n",
        "plt.plot(epochs_range, val_loss, label='Validation Loss')\n",
        "plt.legend(loc='upper right')\n",
        "plt.title('Training and Validation Loss')\n",
        "plt.show()"
      ],
      "execution_count": null,
      "outputs": [
        {
          "output_type": "display_data",
          "data": {
            "image/png": "[encoded data removed]",
            "text/plain": [
              "<Figure size 576x576 with 2 Axes>"
            ]
          },
          "metadata": {
            "needs_background": "light"
          }
        }
      ]
    },
    {
      "cell_type": "code",
      "metadata": {
        "colab": {
          "base_uri": "https://localhost:8080/"
        },
        "id": "IbEQMrsAH2yZ",
        "outputId": "631236ba-317c-4bf4-dc20-5196c9931eb3"
      },
      "source": [
        "model.compile(\n",
        "    optimizer='adam',\n",
        "    loss=tf.losses.SparseCategoricalCrossentropy(from_logits=True),\n",
        "    metrics=['accuracy'])\n",
        "model.summary()"
      ],
      "execution_count": null,
      "outputs": [
        {
          "output_type": "stream",
          "name": "stdout",
          "text": [
            "Model: \"sequential_2\"\n",
            "_________________________________________________________________\n",
            " Layer (type)                Output Shape              Param #   \n",
            "=================================================================\n",
            " sequential_1 (Sequential)   (None, 180, 180, 1)       0         \n",
            "                                                                 \n",
            " rescaling_2 (Rescaling)     (None, 180, 180, 1)       0         \n",
            "                                                                 \n",
            " conv2d_3 (Conv2D)           (None, 178, 178, 32)      320       \n",
            "                                                                 \n",
            " max_pooling2d_3 (MaxPooling  (None, 89, 89, 32)       0         \n",
            " 2D)                                                             \n",
            "                                                                 \n",
            " conv2d_4 (Conv2D)           (None, 89, 89, 32)        9248      \n",
            "                                                                 \n",
            " max_pooling2d_4 (MaxPooling  (None, 44, 44, 32)       0         \n",
            " 2D)                                                             \n",
            "                                                                 \n",
            " conv2d_5 (Conv2D)           (None, 44, 44, 32)        9248      \n",
            "                                                                 \n",
            " max_pooling2d_5 (MaxPooling  (None, 22, 22, 32)       0         \n",
            " 2D)                                                             \n",
            "                                                                 \n",
            " dropout (Dropout)           (None, 22, 22, 32)        0         \n",
            "                                                                 \n",
            " flatten_1 (Flatten)         (None, 15488)             0         \n",
            "                                                                 \n",
            " dense_5 (Dense)             (None, 128)               1982592   \n",
            "                                                                 \n",
            " batch_normalization_5 (Batc  (None, 128)              512       \n",
            " hNormalization)                                                 \n",
            "                                                                 \n",
            " dense_6 (Dense)             (None, 128)               16512     \n",
            "                                                                 \n",
            " batch_normalization_6 (Batc  (None, 128)              512       \n",
            " hNormalization)                                                 \n",
            "                                                                 \n",
            " dense_7 (Dense)             (None, 128)               16512     \n",
            "                                                                 \n",
            " batch_normalization_7 (Batc  (None, 128)              512       \n",
            " hNormalization)                                                 \n",
            "                                                                 \n",
            " dense_8 (Dense)             (None, 107)               13803     \n",
            "                                                                 \n",
            " batch_normalization_8 (Batc  (None, 107)              428       \n",
            " hNormalization)                                                 \n",
            "                                                                 \n",
            " dense_9 (Dense)             (None, 107)               11556     \n",
            "                                                                 \n",
            "=================================================================\n",
            "Total params: 2,061,755\n",
            "Trainable params: 2,060,773\n",
            "Non-trainable params: 982\n",
            "_________________________________________________________________\n"
          ]
        }
      ]
    },
    {
      "cell_type": "code",
      "metadata": {
        "id": "df30HUqFjWre"
      },
      "source": [
        ""
      ],
      "execution_count": null,
      "outputs": []
    }
  ]
}