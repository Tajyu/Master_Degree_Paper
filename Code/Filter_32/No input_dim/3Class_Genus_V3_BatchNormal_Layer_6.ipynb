{
  "nbformat": 4,
  "nbformat_minor": 0,
  "metadata": {
    "colab": {
      "name": "3Class_Genus_V3_BatchNormal_Layer_6.ipynb",
      "provenance": [],
      "collapsed_sections": [],
      "mount_file_id": "1oVIeWT0wAU6AQ6UM5AvtL3H7qNxLIK1W",
      "authorship_tag": "ABX9TyN9zhSunuuMKvd4Pcaj2U3K",
      "include_colab_link": true
    },
    "kernelspec": {
      "name": "python3",
      "display_name": "Python 3"
    },
    "language_info": {
      "name": "python"
    },
    "accelerator": "GPU"
  },
  "cells": [
    {
      "cell_type": "markdown",
      "metadata": {
        "id": "view-in-github",
        "colab_type": "text"
      },
      "source": [
        "<a href=\"https://colab.research.google.com/github/Tajyu/Master_Degree_Paper/blob/main/Code/Filter_32/No%20input_dim/3Class_Genus_V3_BatchNormal_Layer_6.ipynb\" target=\"_parent\"><img src=\"https://colab.research.google.com/assets/colab-badge.svg\" alt=\"Open In Colab\"/></a>"
      ]
    },
    {
      "cell_type": "code",
      "metadata": {
        "id": "yWckd06_68Em"
      },
      "source": [
        "import tensorflow as tf\n",
        "from tensorflow.keras import datasets, layers, models\n",
        "from keras.preprocessing.image import ImageDataGenerator\n",
        "import numpy as np\n",
        "import matplotlib.pyplot as plt\n",
        "import cv2 as cv\n",
        "import os\n",
        "import pathlib\n",
        "import PIL\n",
        "from tensorflow import keras\n",
        "from tensorflow.keras import layers\n",
        "from tensorflow.keras.models import Sequential\n",
        "from tensorflow.keras.layers import Dense, Flatten, BatchNormalization, Dropout"
      ],
      "execution_count": null,
      "outputs": []
    },
    {
      "cell_type": "code",
      "metadata": {
        "id": "xav9zirHttk_"
      },
      "source": [
        "image_list = os.listdir('/content/drive/MyDrive/Colab Notebooks/Final_Project/Cell_Genus')"
      ],
      "execution_count": null,
      "outputs": []
    },
    {
      "cell_type": "code",
      "metadata": {
        "colab": {
          "base_uri": "https://localhost:8080/"
        },
        "id": "K-wD0dM5tx_E",
        "outputId": "2475b91f-b094-4288-f90f-31760d99f01f"
      },
      "source": [
        "print(image_list)"
      ],
      "execution_count": null,
      "outputs": [
        {
          "output_type": "stream",
          "name": "stdout",
          "text": [
            "['10_Genus_Stauroneis_Ehrenberg', '10_Genus_Staurosira_Ehrenberg', '11_Genus_Craspedostauros_E.J_Cox_1999', '11_Genus_Staurosirella_Williams_and_Round', '12_Genus_Caloneis_Cleve_1894', '12_Genus_Synedra_Ehrenberg', '13_Genus_Pinnularia_Ehrenberg_1843', '1_Genus_Acanthoceras_Honigmann', '1_Genus_Achnanthes_Bory', '1_Genus_Actinocyclus_Ehrenberg', '1_Genus_Aphanocapsa_Nageli_1849', '1_Genus_Asterionella_Hassall', '1_Genus_Aulacoseira', '1_Genus_Biremis_Mann_et_Cox_in_Round_Crawford_and_Mann', '1_Genus_Characium_A_Braun_in_Kutzing_1849', '1_Genus_Chroococcus_Nageli', '1_Genus_Closterium_Nitzsch_ex_Ralfs_1848', '1_Genus_Coelastrum_Nageli_1849', '1_Genus_Cylindrocystis_Meneghini_ex_de_Bary_1858', '1_Genus_Dictyosphaerium_Nageli_1849', '1_Genus_Docidium_Brebisson_ex_Ralfs_1848', '1_Genus_Eunotia_Ehrenberg', '1_Genus_Geitlerinema_(Anagnostidis_et_Komarek)_Anagnostidis_1989', '1_Genus_Gonatozygon_de_Bary_1856', '1_Genus_Hydrodictyon_Roth_1797', '1_Genus_Hydrosera_whampoensis', '1_Genus_Jaaginema_Anagnostidis_et_Komarek_1988', '1_Genus_Lyngbya_C_Agardh_ex_Gomont_1892', '1_Genus_Melosira_Agardh', '1_Genus_Micractinium_Fresenius_1858', '1_Genus_Micrasterias_Ralfs_1848', '1_Genus_Microcystis_Kutzing_ex_Lemmermann_1907', '1_Genus_Oscillatoria_Vaucher_ex_Gomont_1982', '1_Genus_Pediastrum_Meyen_1829', '1_Genus_Penium_Brebisson_ex_Ralfs_in_Ralfs_1848', '1_Genus_Phormidium_Kutzing_ex_Gomont_1892', '1_Genus_Planktothrix_Anagnostidis_et_Komarek_1988', '1_Genus_Pleurosira_laevis_(Ehrenberg)', '1_Genus_Rhizosolenia_Ehrenberg', '1_Genus_Schizochlamydella_Korshikov_1953', '1_Genus_Staurodesmus_Teiling_1848', '1_Genus_Trochiscia_Kutzing_1834', '1_Scenedesmus_Hegewald_1978', '2_Acutodesmus_Hegewald_1978', '2_Genus_Achnanthidium_Kutzing', '2_Genus_Actinastrum_Lagerheim_1882', '2_Genus_Actinella_Lewis', '2_Genus_Ankyra_Fott_1957', '2_Genus_Caloneis_Cleve', '2_Genus_Chaetoceros_Ehrenberg', '2_Genus_Coenochloris_Korshikov_1953', '2_Genus_Cyclotella', '2_Genus_Diatoma_Bory', '2_Genus_Dimorphococcus_A_Braun_1855', '2_Genus_Golenkinia_Chodat_1894', '2_Genus_Haplotaenium_Bando_1988', '2_Genus_Leibleinia_(Gomont)_L_Hoffman_1985', '2_Genus_Leptolyngbya_Anagnostidis_et_Komarek_1988', '2_Genus_Merismopedia_Meyen_1839', '2_Genus_Netrium_(Nageli)_Itzigsohn_et_Rothe_in_Rabenhorst_1856', '2_Genus_Orthoseira_Thwaites_1848', '2_Genus_Phormidium_Kutzing_ex_Gomont_1892', '2_Genus_Sorastrum_Kutzing_1845', '2_Genus_Staurastrum_Meyen_ex_Ralfs_1848', '3_Desmodesmus_Chodat_1926', '3_Genus_Acanthosphaera_Lemmerman_1899', '3_Genus_Anorthoneis_Grunow', '3_Genus_Cyclostephanos_Round', '3_Genus_Dichotomococcus_Korshikov_1928', '3_Genus_Heteroleibleinia_(Geitler)_L_Hoffmann_1985', '3_Genus_Limnothrix_Meffert_1988', '3_Genus_Meridion_Agardh', '3_Genus_Paradoxia_Svirenko_1928', '3_Genus_Peronia_Bebisson_and_Arnott_ex_Kitton', '3_Genus_Phormidiochaete_Komarek_in_Anagnostidis_2001', '3_Genus_Pinnularia_Ehrenberg_1', '3_Genus_Pleurotaenium_Nageli_1849', '3_Genus_Radiococcus_Schmidle_1902', '3_Genus_Snowella_Elenkin_1938', '3_Genus_Spirotaenia_Brebisson_in_Ralfs_1848', '4_Genus_Botryococcus_Kutzing_1849', '4_Genus_Cocconeis_Ehrenberg', '4_Genus_Eutetramorus_Walton_1918', '4_Genus_Leptolyngbya_Anagnostidis_et_Komarek_1988', '4_Genus_Opephora_Petit', '4_Genus_Pinnularia_Ehrenberg_2', '4_Genus_Schroederia_Lemmermann_1898', '4_Genus_Stephanodiscus_Ehrenberg', '4_Genus_Synechocystis_Sauvageau_1892', '4_Genus_Tortitaenia_A_J_Brook_1998', '5_Genus_Caloneis_Cleve', '5_Genus_Coenocystis_Korshikov_1953', '5_Genus_Planktolyngbya_Anagnostidis_et_Komarek_1988', '5_Genus_Tabellaria_Ehrenberg', '5_Genus_Thalassiosira_Cleve', '5_Genus_Woronichinia_Elenkin_1933', '6_Genus_Anomoeoneis_Pfitzer', '6_Genus_Fragilaria_Lyngbye', '6_Genus_Gloeocystis_Nageli_1849', '6_Genus_Pseudanabaena_Lauterborn_1915', '6_Genus_Skeletonema_Greville', '7_Genus_Caloneis_Cleve', '7_Genus_Hannaea_Patrick', '8_Genus_Diploneis(Ehrenberg)_Cleve', '8_Genus_Pseudostaurosira_Williams_and_Round', '9_Genus_Neidium_Pfitzer', '9_Genus_Punctastriata_Williams_and_Round']\n"
          ]
        }
      ]
    },
    {
      "cell_type": "code",
      "metadata": {
        "id": "o-0DvzEHt8VE"
      },
      "source": [
        "data_generator = ImageDataGenerator(rescale = 1./255)\n",
        "\n",
        "data_dir = \"/content/drive/MyDrive/Colab Notebooks/Final_Project/Cell_Genus\""
      ],
      "execution_count": null,
      "outputs": []
    },
    {
      "cell_type": "code",
      "metadata": {
        "id": "7aTCfEm3t10n"
      },
      "source": [
        "batch_size = 32\n",
        "img_height = 180\n",
        "img_width = 180"
      ],
      "execution_count": null,
      "outputs": []
    },
    {
      "cell_type": "code",
      "metadata": {
        "id": "9Smg-miEt22s",
        "colab": {
          "base_uri": "https://localhost:8080/"
        },
        "outputId": "30641e89-1dbb-4edc-eaed-19373c5b0187"
      },
      "source": [
        "train_ds = tf.keras.preprocessing.image_dataset_from_directory(\n",
        "  data_dir,\n",
        "  color_mode = \"grayscale\",\n",
        "  validation_split=0.2,\n",
        "  subset=\"training\",\n",
        "  seed=123,\n",
        "  image_size=(img_height, img_width),\n",
        "  batch_size=batch_size)"
      ],
      "execution_count": null,
      "outputs": [
        {
          "output_type": "stream",
          "name": "stdout",
          "text": [
            "Found 6226 files belonging to 107 classes.\n",
            "Using 4981 files for training.\n"
          ]
        }
      ]
    },
    {
      "cell_type": "code",
      "metadata": {
        "id": "1nR0WdQGt44x",
        "colab": {
          "base_uri": "https://localhost:8080/"
        },
        "outputId": "218c7113-c834-46a9-b92f-246c8fed5afd"
      },
      "source": [
        "val_ds = tf.keras.preprocessing.image_dataset_from_directory(\n",
        "  data_dir,\n",
        "  color_mode = \"grayscale\",\n",
        "  validation_split=0.2,\n",
        "  subset=\"validation\",\n",
        "  seed=123,\n",
        "  image_size=(img_height, img_width),\n",
        "  batch_size=batch_size)"
      ],
      "execution_count": null,
      "outputs": [
        {
          "output_type": "stream",
          "name": "stdout",
          "text": [
            "Found 6226 files belonging to 107 classes.\n",
            "Using 1245 files for validation.\n"
          ]
        }
      ]
    },
    {
      "cell_type": "code",
      "metadata": {
        "id": "F-cz_CtGug8Y",
        "colab": {
          "base_uri": "https://localhost:8080/"
        },
        "outputId": "f63a2768-9765-4241-b2e2-90542c446955"
      },
      "source": [
        "class_names = train_ds.class_names\n",
        "print(class_names)"
      ],
      "execution_count": null,
      "outputs": [
        {
          "output_type": "stream",
          "name": "stdout",
          "text": [
            "['10_Genus_Stauroneis_Ehrenberg', '10_Genus_Staurosira_Ehrenberg', '11_Genus_Craspedostauros_E.J_Cox_1999', '11_Genus_Staurosirella_Williams_and_Round', '12_Genus_Caloneis_Cleve_1894', '12_Genus_Synedra_Ehrenberg', '13_Genus_Pinnularia_Ehrenberg_1843', '1_Genus_Acanthoceras_Honigmann', '1_Genus_Achnanthes_Bory', '1_Genus_Actinocyclus_Ehrenberg', '1_Genus_Aphanocapsa_Nageli_1849', '1_Genus_Asterionella_Hassall', '1_Genus_Aulacoseira', '1_Genus_Biremis_Mann_et_Cox_in_Round_Crawford_and_Mann', '1_Genus_Characium_A_Braun_in_Kutzing_1849', '1_Genus_Chroococcus_Nageli', '1_Genus_Closterium_Nitzsch_ex_Ralfs_1848', '1_Genus_Coelastrum_Nageli_1849', '1_Genus_Cylindrocystis_Meneghini_ex_de_Bary_1858', '1_Genus_Dictyosphaerium_Nageli_1849', '1_Genus_Docidium_Brebisson_ex_Ralfs_1848', '1_Genus_Eunotia_Ehrenberg', '1_Genus_Geitlerinema_(Anagnostidis_et_Komarek)_Anagnostidis_1989', '1_Genus_Gonatozygon_de_Bary_1856', '1_Genus_Hydrodictyon_Roth_1797', '1_Genus_Hydrosera_whampoensis', '1_Genus_Jaaginema_Anagnostidis_et_Komarek_1988', '1_Genus_Lyngbya_C_Agardh_ex_Gomont_1892', '1_Genus_Melosira_Agardh', '1_Genus_Micractinium_Fresenius_1858', '1_Genus_Micrasterias_Ralfs_1848', '1_Genus_Microcystis_Kutzing_ex_Lemmermann_1907', '1_Genus_Oscillatoria_Vaucher_ex_Gomont_1982', '1_Genus_Pediastrum_Meyen_1829', '1_Genus_Penium_Brebisson_ex_Ralfs_in_Ralfs_1848', '1_Genus_Phormidium_Kutzing_ex_Gomont_1892', '1_Genus_Planktothrix_Anagnostidis_et_Komarek_1988', '1_Genus_Pleurosira_laevis_(Ehrenberg)', '1_Genus_Rhizosolenia_Ehrenberg', '1_Genus_Schizochlamydella_Korshikov_1953', '1_Genus_Staurodesmus_Teiling_1848', '1_Genus_Trochiscia_Kutzing_1834', '1_Scenedesmus_Hegewald_1978', '2_Acutodesmus_Hegewald_1978', '2_Genus_Achnanthidium_Kutzing', '2_Genus_Actinastrum_Lagerheim_1882', '2_Genus_Actinella_Lewis', '2_Genus_Ankyra_Fott_1957', '2_Genus_Caloneis_Cleve', '2_Genus_Chaetoceros_Ehrenberg', '2_Genus_Coenochloris_Korshikov_1953', '2_Genus_Cyclotella', '2_Genus_Diatoma_Bory', '2_Genus_Dimorphococcus_A_Braun_1855', '2_Genus_Golenkinia_Chodat_1894', '2_Genus_Haplotaenium_Bando_1988', '2_Genus_Leibleinia_(Gomont)_L_Hoffman_1985', '2_Genus_Leptolyngbya_Anagnostidis_et_Komarek_1988', '2_Genus_Merismopedia_Meyen_1839', '2_Genus_Netrium_(Nageli)_Itzigsohn_et_Rothe_in_Rabenhorst_1856', '2_Genus_Orthoseira_Thwaites_1848', '2_Genus_Phormidium_Kutzing_ex_Gomont_1892', '2_Genus_Sorastrum_Kutzing_1845', '2_Genus_Staurastrum_Meyen_ex_Ralfs_1848', '3_Desmodesmus_Chodat_1926', '3_Genus_Acanthosphaera_Lemmerman_1899', '3_Genus_Anorthoneis_Grunow', '3_Genus_Cyclostephanos_Round', '3_Genus_Dichotomococcus_Korshikov_1928', '3_Genus_Heteroleibleinia_(Geitler)_L_Hoffmann_1985', '3_Genus_Limnothrix_Meffert_1988', '3_Genus_Meridion_Agardh', '3_Genus_Paradoxia_Svirenko_1928', '3_Genus_Peronia_Bebisson_and_Arnott_ex_Kitton', '3_Genus_Phormidiochaete_Komarek_in_Anagnostidis_2001', '3_Genus_Pinnularia_Ehrenberg_1', '3_Genus_Pleurotaenium_Nageli_1849', '3_Genus_Radiococcus_Schmidle_1902', '3_Genus_Snowella_Elenkin_1938', '3_Genus_Spirotaenia_Brebisson_in_Ralfs_1848', '4_Genus_Botryococcus_Kutzing_1849', '4_Genus_Cocconeis_Ehrenberg', '4_Genus_Eutetramorus_Walton_1918', '4_Genus_Leptolyngbya_Anagnostidis_et_Komarek_1988', '4_Genus_Opephora_Petit', '4_Genus_Pinnularia_Ehrenberg_2', '4_Genus_Schroederia_Lemmermann_1898', '4_Genus_Stephanodiscus_Ehrenberg', '4_Genus_Synechocystis_Sauvageau_1892', '4_Genus_Tortitaenia_A_J_Brook_1998', '5_Genus_Caloneis_Cleve', '5_Genus_Coenocystis_Korshikov_1953', '5_Genus_Planktolyngbya_Anagnostidis_et_Komarek_1988', '5_Genus_Tabellaria_Ehrenberg', '5_Genus_Thalassiosira_Cleve', '5_Genus_Woronichinia_Elenkin_1933', '6_Genus_Anomoeoneis_Pfitzer', '6_Genus_Fragilaria_Lyngbye', '6_Genus_Gloeocystis_Nageli_1849', '6_Genus_Pseudanabaena_Lauterborn_1915', '6_Genus_Skeletonema_Greville', '7_Genus_Caloneis_Cleve', '7_Genus_Hannaea_Patrick', '8_Genus_Diploneis(Ehrenberg)_Cleve', '8_Genus_Pseudostaurosira_Williams_and_Round', '9_Genus_Neidium_Pfitzer', '9_Genus_Punctastriata_Williams_and_Round']\n"
          ]
        }
      ]
    },
    {
      "cell_type": "code",
      "metadata": {
        "id": "5EQOikPAukic",
        "colab": {
          "base_uri": "https://localhost:8080/"
        },
        "outputId": "ea1407b5-90cc-4015-ade2-a341b926ceba"
      },
      "source": [
        "for image_batch, labels_batch in train_ds:\n",
        "  print(image_batch.shape)\n",
        "  print(labels_batch.shape)\n",
        "  break"
      ],
      "execution_count": null,
      "outputs": [
        {
          "output_type": "stream",
          "name": "stdout",
          "text": [
            "(32, 180, 180, 1)\n",
            "(32,)\n"
          ]
        }
      ]
    },
    {
      "cell_type": "code",
      "metadata": {
        "id": "9eVl7tiDux9q"
      },
      "source": [
        "from tensorflow.keras import layers\n",
        "\n",
        "normalization_layer = tf.keras.layers.experimental.preprocessing.Rescaling(1./255)"
      ],
      "execution_count": null,
      "outputs": []
    },
    {
      "cell_type": "code",
      "metadata": {
        "id": "AiIrsxzZuzEo",
        "colab": {
          "base_uri": "https://localhost:8080/"
        },
        "outputId": "1a1347c4-9b18-41d1-911b-c11fe6ba4d02"
      },
      "source": [
        "normalized_ds = train_ds.map(lambda x, y: (normalization_layer(x), y))\n",
        "image_batch, labels_batch = next(iter(normalized_ds))\n",
        "first_image = image_batch[0]\n",
        "# Notice the pixels values are now in `[0,1]`.\n",
        "print(np.min(first_image), np.max(first_image))"
      ],
      "execution_count": null,
      "outputs": [
        {
          "output_type": "stream",
          "name": "stdout",
          "text": [
            "0.0 1.0\n"
          ]
        }
      ]
    },
    {
      "cell_type": "code",
      "metadata": {
        "id": "__WbVabru0Bp"
      },
      "source": [
        "AUTOTUNE = tf.data.experimental.AUTOTUNE\n",
        "\n",
        "train_ds = train_ds.cache().prefetch(buffer_size=AUTOTUNE)\n",
        "val_ds = val_ds.cache().prefetch(buffer_size=AUTOTUNE)"
      ],
      "execution_count": null,
      "outputs": []
    },
    {
      "cell_type": "code",
      "metadata": {
        "id": "g1GeYFXCu2gV"
      },
      "source": [
        "num_classes = 107\n",
        "model = tf.keras.Sequential([\n",
        "    layers.experimental.preprocessing.Rescaling(1./255),\n",
        "    layers.Conv2D(32, 3,input_shape = image_batch, activation='relu'),\n",
        "    layers.MaxPooling2D(),\n",
        "    layers.Conv2D(32, 3, activation='relu'),\n",
        "    layers.MaxPooling2D(),\n",
        "    layers.Conv2D(32, 3, activation='relu'),\n",
        "    layers.MaxPooling2D(),\n",
        "    layers.Flatten(),\n",
        "    BatchNormalization(),\n",
        "    layers.Dense(128, activation='relu'),\n",
        "    BatchNormalization(),\n",
        "    layers.Dense(128, activation='relu'),\n",
        "    BatchNormalization(),\n",
        "    layers.Dense(128, activation='relu'),\n",
        "    BatchNormalization(),\n",
        "    layers.Dense(128, activation='relu'),\n",
        "    BatchNormalization(),\n",
        "    layers.Dense(128, activation='relu'),\n",
        "    BatchNormalization(),\n",
        "    layers.Dense(107, activation='softmax'),\n",
        "    BatchNormalization(),\n",
        "    layers.Dense(num_classes)\n",
        "    ])"
      ],
      "execution_count": null,
      "outputs": []
    },
    {
      "cell_type": "code",
      "metadata": {
        "id": "wU4xPAvNYWry"
      },
      "source": [
        "model.compile(\n",
        "    optimizer='adam',\n",
        "    loss=tf.losses.SparseCategoricalCrossentropy(from_logits=True),\n",
        "    metrics=['accuracy'])"
      ],
      "execution_count": null,
      "outputs": []
    },
    {
      "cell_type": "code",
      "metadata": {
        "id": "Tk8ssrbHu44p",
        "colab": {
          "base_uri": "https://localhost:8080/"
        },
        "outputId": "24c1664b-6efa-4a59-c976-55c6ad962857"
      },
      "source": [
        "epochs=50\n",
        "history = model.fit(\n",
        "  train_ds,\n",
        "  validation_data=val_ds,\n",
        "  epochs=epochs\n",
        ")"
      ],
      "execution_count": null,
      "outputs": [
        {
          "output_type": "stream",
          "name": "stdout",
          "text": [
            "Epoch 1/50\n",
            "156/156 [==============================] - 1239s 8s/step - loss: 3.4651 - accuracy: 0.2700 - val_loss: 4.2067 - val_accuracy: 0.0980\n",
            "Epoch 2/50\n",
            "156/156 [==============================] - 3s 16ms/step - loss: 2.4120 - accuracy: 0.3937 - val_loss: 3.7470 - val_accuracy: 0.2169\n",
            "Epoch 3/50\n",
            "156/156 [==============================] - 3s 16ms/step - loss: 1.9546 - accuracy: 0.4818 - val_loss: 2.8664 - val_accuracy: 0.3912\n",
            "Epoch 4/50\n",
            "156/156 [==============================] - 3s 16ms/step - loss: 1.5935 - accuracy: 0.5649 - val_loss: 2.5550 - val_accuracy: 0.3703\n",
            "Epoch 5/50\n",
            "156/156 [==============================] - 3s 16ms/step - loss: 1.2831 - accuracy: 0.6471 - val_loss: 2.6584 - val_accuracy: 0.3671\n",
            "Epoch 6/50\n",
            "156/156 [==============================] - 3s 16ms/step - loss: 1.0259 - accuracy: 0.7248 - val_loss: 2.6389 - val_accuracy: 0.4153\n",
            "Epoch 7/50\n",
            "156/156 [==============================] - 3s 16ms/step - loss: 0.8142 - accuracy: 0.7814 - val_loss: 2.7969 - val_accuracy: 0.3823\n",
            "Epoch 8/50\n",
            "156/156 [==============================] - 3s 16ms/step - loss: 0.6235 - accuracy: 0.8388 - val_loss: 2.7907 - val_accuracy: 0.4104\n",
            "Epoch 9/50\n",
            "156/156 [==============================] - 3s 17ms/step - loss: 0.4827 - accuracy: 0.8721 - val_loss: 2.4794 - val_accuracy: 0.4779\n",
            "Epoch 10/50\n",
            "156/156 [==============================] - 3s 16ms/step - loss: 0.3623 - accuracy: 0.9115 - val_loss: 2.5574 - val_accuracy: 0.4972\n",
            "Epoch 11/50\n",
            "156/156 [==============================] - 3s 16ms/step - loss: 0.2704 - accuracy: 0.9372 - val_loss: 2.4542 - val_accuracy: 0.5141\n",
            "Epoch 12/50\n",
            "156/156 [==============================] - 3s 16ms/step - loss: 0.2015 - accuracy: 0.9546 - val_loss: 2.5234 - val_accuracy: 0.5076\n",
            "Epoch 13/50\n",
            "156/156 [==============================] - 3s 16ms/step - loss: 0.1519 - accuracy: 0.9665 - val_loss: 2.6548 - val_accuracy: 0.5092\n",
            "Epoch 14/50\n",
            "156/156 [==============================] - 3s 16ms/step - loss: 0.1321 - accuracy: 0.9711 - val_loss: 2.6309 - val_accuracy: 0.5173\n",
            "Epoch 15/50\n",
            "156/156 [==============================] - 3s 16ms/step - loss: 0.1063 - accuracy: 0.9793 - val_loss: 2.6536 - val_accuracy: 0.5245\n",
            "Epoch 16/50\n",
            "156/156 [==============================] - 3s 16ms/step - loss: 0.0852 - accuracy: 0.9831 - val_loss: 2.8906 - val_accuracy: 0.5036\n",
            "Epoch 17/50\n",
            "156/156 [==============================] - 3s 16ms/step - loss: 0.0955 - accuracy: 0.9817 - val_loss: 3.1919 - val_accuracy: 0.4771\n",
            "Epoch 18/50\n",
            "156/156 [==============================] - 3s 16ms/step - loss: 0.1589 - accuracy: 0.9613 - val_loss: 3.4298 - val_accuracy: 0.4667\n",
            "Epoch 19/50\n",
            "156/156 [==============================] - 3s 16ms/step - loss: 0.2296 - accuracy: 0.9384 - val_loss: 3.7286 - val_accuracy: 0.4145\n",
            "Epoch 20/50\n",
            "156/156 [==============================] - 3s 16ms/step - loss: 0.2328 - accuracy: 0.9356 - val_loss: 3.1322 - val_accuracy: 0.4948\n",
            "Epoch 21/50\n",
            "156/156 [==============================] - 3s 16ms/step - loss: 0.1556 - accuracy: 0.9562 - val_loss: 3.1082 - val_accuracy: 0.4996\n",
            "Epoch 22/50\n",
            "156/156 [==============================] - 3s 16ms/step - loss: 0.0769 - accuracy: 0.9813 - val_loss: 3.0844 - val_accuracy: 0.5036\n",
            "Epoch 23/50\n",
            "156/156 [==============================] - 3s 16ms/step - loss: 0.0390 - accuracy: 0.9934 - val_loss: 3.0430 - val_accuracy: 0.5189\n",
            "Epoch 24/50\n",
            "156/156 [==============================] - 3s 16ms/step - loss: 0.0175 - accuracy: 0.9982 - val_loss: 2.8923 - val_accuracy: 0.5398\n",
            "Epoch 25/50\n",
            "156/156 [==============================] - 3s 16ms/step - loss: 0.0079 - accuracy: 1.0000 - val_loss: 2.8883 - val_accuracy: 0.5438\n",
            "Epoch 26/50\n",
            "156/156 [==============================] - 3s 16ms/step - loss: 0.0054 - accuracy: 1.0000 - val_loss: 2.9107 - val_accuracy: 0.5422\n",
            "Epoch 27/50\n",
            "156/156 [==============================] - 3s 16ms/step - loss: 0.0044 - accuracy: 1.0000 - val_loss: 2.9401 - val_accuracy: 0.5438\n",
            "Epoch 28/50\n",
            "156/156 [==============================] - 3s 17ms/step - loss: 0.0037 - accuracy: 1.0000 - val_loss: 2.9646 - val_accuracy: 0.5422\n",
            "Epoch 29/50\n",
            "156/156 [==============================] - 3s 16ms/step - loss: 0.0032 - accuracy: 1.0000 - val_loss: 2.9887 - val_accuracy: 0.5398\n",
            "Epoch 30/50\n",
            "156/156 [==============================] - 3s 16ms/step - loss: 0.0028 - accuracy: 1.0000 - val_loss: 3.0119 - val_accuracy: 0.5406\n",
            "Epoch 31/50\n",
            "156/156 [==============================] - 3s 16ms/step - loss: 0.0024 - accuracy: 1.0000 - val_loss: 3.0348 - val_accuracy: 0.5406\n",
            "Epoch 32/50\n",
            "156/156 [==============================] - 3s 16ms/step - loss: 0.0022 - accuracy: 1.0000 - val_loss: 3.0569 - val_accuracy: 0.5398\n",
            "Epoch 33/50\n",
            "156/156 [==============================] - 3s 16ms/step - loss: 0.0019 - accuracy: 1.0000 - val_loss: 3.0784 - val_accuracy: 0.5398\n",
            "Epoch 34/50\n",
            "156/156 [==============================] - 3s 16ms/step - loss: 0.0017 - accuracy: 1.0000 - val_loss: 3.1004 - val_accuracy: 0.5398\n",
            "Epoch 35/50\n",
            "156/156 [==============================] - 3s 16ms/step - loss: 0.0016 - accuracy: 1.0000 - val_loss: 3.1217 - val_accuracy: 0.5406\n",
            "Epoch 36/50\n",
            "156/156 [==============================] - 3s 16ms/step - loss: 0.0014 - accuracy: 1.0000 - val_loss: 3.1432 - val_accuracy: 0.5398\n",
            "Epoch 37/50\n",
            "156/156 [==============================] - 3s 16ms/step - loss: 0.0013 - accuracy: 1.0000 - val_loss: 3.1640 - val_accuracy: 0.5406\n",
            "Epoch 38/50\n",
            "156/156 [==============================] - 3s 16ms/step - loss: 0.0012 - accuracy: 1.0000 - val_loss: 3.1849 - val_accuracy: 0.5406\n",
            "Epoch 39/50\n",
            "156/156 [==============================] - 3s 16ms/step - loss: 0.0011 - accuracy: 1.0000 - val_loss: 3.2056 - val_accuracy: 0.5398\n",
            "Epoch 40/50\n",
            "156/156 [==============================] - 3s 16ms/step - loss: 9.7215e-04 - accuracy: 1.0000 - val_loss: 3.2265 - val_accuracy: 0.5406\n",
            "Epoch 41/50\n",
            "156/156 [==============================] - 3s 16ms/step - loss: 8.8628e-04 - accuracy: 1.0000 - val_loss: 3.2474 - val_accuracy: 0.5414\n",
            "Epoch 42/50\n",
            "156/156 [==============================] - 3s 17ms/step - loss: 8.0887e-04 - accuracy: 1.0000 - val_loss: 3.2685 - val_accuracy: 0.5398\n",
            "Epoch 43/50\n",
            "156/156 [==============================] - 3s 16ms/step - loss: 7.3886e-04 - accuracy: 1.0000 - val_loss: 3.2891 - val_accuracy: 0.5390\n",
            "Epoch 44/50\n",
            "156/156 [==============================] - 3s 16ms/step - loss: 6.7553e-04 - accuracy: 1.0000 - val_loss: 3.3103 - val_accuracy: 0.5390\n",
            "Epoch 45/50\n",
            "156/156 [==============================] - 3s 16ms/step - loss: 6.1794e-04 - accuracy: 1.0000 - val_loss: 3.3312 - val_accuracy: 0.5398\n",
            "Epoch 46/50\n",
            "156/156 [==============================] - 3s 16ms/step - loss: 5.6562e-04 - accuracy: 1.0000 - val_loss: 3.3524 - val_accuracy: 0.5382\n",
            "Epoch 47/50\n",
            "156/156 [==============================] - 3s 16ms/step - loss: 5.1807e-04 - accuracy: 1.0000 - val_loss: 3.3736 - val_accuracy: 0.5373\n",
            "Epoch 48/50\n",
            "156/156 [==============================] - 3s 17ms/step - loss: 4.7468e-04 - accuracy: 1.0000 - val_loss: 3.3948 - val_accuracy: 0.5365\n",
            "Epoch 49/50\n",
            "156/156 [==============================] - 3s 16ms/step - loss: 4.3518e-04 - accuracy: 1.0000 - val_loss: 3.4159 - val_accuracy: 0.5357\n",
            "Epoch 50/50\n",
            "156/156 [==============================] - 3s 16ms/step - loss: 3.9906e-04 - accuracy: 1.0000 - val_loss: 3.4371 - val_accuracy: 0.5357\n"
          ]
        }
      ]
    },
    {
      "cell_type": "code",
      "metadata": {
        "id": "f1z_vHocu59c",
        "colab": {
          "base_uri": "https://localhost:8080/",
          "height": 499
        },
        "outputId": "6e932f3a-9dc8-4e5c-fc19-a6905b818a8c"
      },
      "source": [
        "acc = history.history['accuracy']\n",
        "val_acc = history.history['val_accuracy']\n",
        "\n",
        "loss=history.history['loss']\n",
        "val_loss=history.history['val_loss']\n",
        "\n",
        "epochs_range = range(epochs)\n",
        "\n",
        "plt.figure(figsize=(8, 8))\n",
        "plt.subplot(1, 2, 1)\n",
        "plt.plot(epochs_range, acc, label='Training Accuracy')\n",
        "plt.plot(epochs_range, val_acc, label='Validation Accuracy')\n",
        "plt.legend(loc='lower right')\n",
        "plt.title('Training and Validation Accuracy')\n",
        "\n",
        "plt.subplot(1, 2, 2)\n",
        "plt.plot(epochs_range, loss, label='Training Loss')\n",
        "plt.plot(epochs_range, val_loss, label='Validation Loss')\n",
        "plt.legend(loc='upper right')\n",
        "plt.title('Training and Validation Loss')\n",
        "plt.show()"
      ],
      "execution_count": null,
      "outputs": [
        {
          "output_type": "display_data",
          "data": {
            "image/png": "[encoded data removed]",
            "text/plain": [
              "<Figure size 576x576 with 2 Axes>"
            ]
          },
          "metadata": {
            "needs_background": "light"
          }
        }
      ]
    },
    {
      "cell_type": "code",
      "metadata": {
        "id": "XinJ6xXD9YNO"
      },
      "source": [
        "data_augmentation = keras.Sequential(\n",
        "  [\n",
        "    layers.experimental.preprocessing.RandomFlip(\"horizontal\", \n",
        "                                                 input_shape=(img_height, \n",
        "                                                              img_width,\n",
        "                                                              1)),\n",
        "    layers.experimental.preprocessing.RandomRotation(0.1),\n",
        "    layers.experimental.preprocessing.RandomZoom(0.1),\n",
        "  ]\n",
        ")"
      ],
      "execution_count": null,
      "outputs": []
    },
    {
      "cell_type": "code",
      "metadata": {
        "id": "8WT2BYElEYZj"
      },
      "source": [
        "model = Sequential([\n",
        "  data_augmentation,\n",
        "  layers.experimental.preprocessing.Rescaling(1./255),\n",
        "  layers.Conv2D(32, 3,input_shape = image_batch, activation='relu'),\n",
        "  layers.MaxPooling2D(),\n",
        "  layers.Conv2D(32, 3, padding='same', activation='relu'),\n",
        "  layers.MaxPooling2D(),\n",
        "  layers.Conv2D(32, 3, padding='same', activation='relu'),\n",
        "  layers.MaxPooling2D(),\n",
        "  layers.Dropout(0.2),\n",
        "  layers.Flatten(),\n",
        "  layers.Dense(128, activation='relu'),\n",
        "  BatchNormalization(),\n",
        "  layers.Dense(128, activation='relu'),\n",
        "  BatchNormalization(),\n",
        "  layers.Dense(128, activation='relu'),\n",
        "  BatchNormalization(),\n",
        "  layers.Dense(128, activation='relu'),\n",
        "  BatchNormalization(),\n",
        "  layers.Dense(128, activation='relu'),\n",
        "  BatchNormalization(),\n",
        "  layers.Dense(107, activation='softmax'),\n",
        "  BatchNormalization(),\n",
        "  layers.Dense(num_classes)\n",
        "])"
      ],
      "execution_count": null,
      "outputs": []
    },
    {
      "cell_type": "code",
      "metadata": {
        "id": "opOHP3auEdsw",
        "colab": {
          "base_uri": "https://localhost:8080/"
        },
        "outputId": "dc95a3fe-4111-4156-f632-64eb52aa36ba"
      },
      "source": [
        "BatchNormalization(),model.compile(\n",
        "    optimizer='adam',\n",
        "    loss=tf.losses.SparseCategoricalCrossentropy(from_logits=True),\n",
        "    metrics=['accuracy'])"
      ],
      "execution_count": null,
      "outputs": [
        {
          "output_type": "execute_result",
          "data": {
            "text/plain": [
              "(<keras.layers.normalization.batch_normalization.BatchNormalization at 0x7f03562bd090>,\n",
              " None)"
            ]
          },
          "metadata": {},
          "execution_count": 19
        }
      ]
    },
    {
      "cell_type": "code",
      "metadata": {
        "id": "3Ay4tlHlEfBX",
        "colab": {
          "base_uri": "https://localhost:8080/"
        },
        "outputId": "96a5ae10-0ad1-4afa-e3ed-ccd754a5cded"
      },
      "source": [
        "model.summary()"
      ],
      "execution_count": null,
      "outputs": [
        {
          "output_type": "stream",
          "name": "stdout",
          "text": [
            "Model: \"sequential_2\"\n",
            "_________________________________________________________________\n",
            " Layer (type)                Output Shape              Param #   \n",
            "=================================================================\n",
            " sequential_1 (Sequential)   (None, 180, 180, 1)       0         \n",
            "                                                                 \n",
            " rescaling_2 (Rescaling)     (None, 180, 180, 1)       0         \n",
            "                                                                 \n",
            " conv2d_3 (Conv2D)           (None, 178, 178, 32)      320       \n",
            "                                                                 \n",
            " max_pooling2d_3 (MaxPooling  (None, 89, 89, 32)       0         \n",
            " 2D)                                                             \n",
            "                                                                 \n",
            " conv2d_4 (Conv2D)           (None, 89, 89, 32)        9248      \n",
            "                                                                 \n",
            " max_pooling2d_4 (MaxPooling  (None, 44, 44, 32)       0         \n",
            " 2D)                                                             \n",
            "                                                                 \n",
            " conv2d_5 (Conv2D)           (None, 44, 44, 32)        9248      \n",
            "                                                                 \n",
            " max_pooling2d_5 (MaxPooling  (None, 22, 22, 32)       0         \n",
            " 2D)                                                             \n",
            "                                                                 \n",
            " dropout (Dropout)           (None, 22, 22, 32)        0         \n",
            "                                                                 \n",
            " flatten_1 (Flatten)         (None, 15488)             0         \n",
            "                                                                 \n",
            " dense_7 (Dense)             (None, 128)               1982592   \n",
            "                                                                 \n",
            " batch_normalization_7 (Batc  (None, 128)              512       \n",
            " hNormalization)                                                 \n",
            "                                                                 \n",
            " dense_8 (Dense)             (None, 128)               16512     \n",
            "                                                                 \n",
            " batch_normalization_8 (Batc  (None, 128)              512       \n",
            " hNormalization)                                                 \n",
            "                                                                 \n",
            " dense_9 (Dense)             (None, 128)               16512     \n",
            "                                                                 \n",
            " batch_normalization_9 (Batc  (None, 128)              512       \n",
            " hNormalization)                                                 \n",
            "                                                                 \n",
            " dense_10 (Dense)            (None, 128)               16512     \n",
            "                                                                 \n",
            " batch_normalization_10 (Bat  (None, 128)              512       \n",
            " chNormalization)                                                \n",
            "                                                                 \n",
            " dense_11 (Dense)            (None, 128)               16512     \n",
            "                                                                 \n",
            " batch_normalization_11 (Bat  (None, 128)              512       \n",
            " chNormalization)                                                \n",
            "                                                                 \n",
            " dense_12 (Dense)            (None, 107)               13803     \n",
            "                                                                 \n",
            " batch_normalization_12 (Bat  (None, 107)              428       \n",
            " chNormalization)                                                \n",
            "                                                                 \n",
            " dense_13 (Dense)            (None, 107)               11556     \n",
            "                                                                 \n",
            "=================================================================\n",
            "Total params: 2,095,803\n",
            "Trainable params: 2,094,309\n",
            "Non-trainable params: 1,494\n",
            "_________________________________________________________________\n"
          ]
        }
      ]
    },
    {
      "cell_type": "code",
      "metadata": {
        "id": "Jc8rD_v9Ef41",
        "colab": {
          "base_uri": "https://localhost:8080/"
        },
        "outputId": "9e0a88f3-f9a5-4ae5-cdbe-2dc19000644b"
      },
      "source": [
        "epochs = 50\n",
        "history = model.fit(\n",
        "  train_ds,\n",
        "  validation_data=val_ds,\n",
        "  epochs=epochs\n",
        ")"
      ],
      "execution_count": null,
      "outputs": [
        {
          "output_type": "stream",
          "name": "stdout",
          "text": [
            "Epoch 1/50\n",
            "156/156 [==============================] - 5s 20ms/step - loss: 3.7909 - accuracy: 0.1875 - val_loss: 4.1391 - val_accuracy: 0.1438\n",
            "Epoch 2/50\n",
            "156/156 [==============================] - 3s 18ms/step - loss: 2.8146 - accuracy: 0.2911 - val_loss: 3.6300 - val_accuracy: 0.2249\n",
            "Epoch 3/50\n",
            "156/156 [==============================] - 3s 18ms/step - loss: 2.5245 - accuracy: 0.3365 - val_loss: 3.0784 - val_accuracy: 0.2675\n",
            "Epoch 4/50\n",
            "156/156 [==============================] - 3s 18ms/step - loss: 2.3548 - accuracy: 0.3554 - val_loss: 2.9586 - val_accuracy: 0.2771\n",
            "Epoch 5/50\n",
            "156/156 [==============================] - 3s 18ms/step - loss: 2.1875 - accuracy: 0.3989 - val_loss: 3.1804 - val_accuracy: 0.2410\n",
            "Epoch 6/50\n",
            "156/156 [==============================] - 3s 18ms/step - loss: 2.0703 - accuracy: 0.4182 - val_loss: 3.1088 - val_accuracy: 0.2659\n",
            "Epoch 7/50\n",
            "156/156 [==============================] - 3s 18ms/step - loss: 1.9661 - accuracy: 0.4306 - val_loss: 3.1621 - val_accuracy: 0.2731\n",
            "Epoch 8/50\n",
            "156/156 [==============================] - 3s 18ms/step - loss: 1.8537 - accuracy: 0.4579 - val_loss: 2.6092 - val_accuracy: 0.3494\n",
            "Epoch 9/50\n",
            "156/156 [==============================] - 3s 18ms/step - loss: 1.7621 - accuracy: 0.4842 - val_loss: 2.9955 - val_accuracy: 0.3060\n",
            "Epoch 10/50\n",
            "156/156 [==============================] - 3s 18ms/step - loss: 1.6910 - accuracy: 0.4939 - val_loss: 3.0522 - val_accuracy: 0.3116\n",
            "Epoch 11/50\n",
            "156/156 [==============================] - 3s 18ms/step - loss: 1.6300 - accuracy: 0.5043 - val_loss: 3.6183 - val_accuracy: 0.2570\n",
            "Epoch 12/50\n",
            "156/156 [==============================] - 3s 18ms/step - loss: 1.5733 - accuracy: 0.5232 - val_loss: 2.7388 - val_accuracy: 0.3719\n",
            "Epoch 13/50\n",
            "156/156 [==============================] - 3s 18ms/step - loss: 1.5151 - accuracy: 0.5362 - val_loss: 3.2603 - val_accuracy: 0.2980\n",
            "Epoch 14/50\n",
            "156/156 [==============================] - 3s 18ms/step - loss: 1.4464 - accuracy: 0.5501 - val_loss: 2.6777 - val_accuracy: 0.3727\n",
            "Epoch 15/50\n",
            "156/156 [==============================] - 3s 18ms/step - loss: 1.3797 - accuracy: 0.5653 - val_loss: 2.8746 - val_accuracy: 0.3590\n",
            "Epoch 16/50\n",
            "156/156 [==============================] - 3s 18ms/step - loss: 1.3402 - accuracy: 0.5730 - val_loss: 2.6672 - val_accuracy: 0.3968\n",
            "Epoch 17/50\n",
            "156/156 [==============================] - 3s 18ms/step - loss: 1.2827 - accuracy: 0.5929 - val_loss: 2.6685 - val_accuracy: 0.3823\n",
            "Epoch 18/50\n",
            "156/156 [==============================] - 3s 18ms/step - loss: 1.2461 - accuracy: 0.6089 - val_loss: 2.6240 - val_accuracy: 0.4072\n",
            "Epoch 19/50\n",
            "156/156 [==============================] - 3s 18ms/step - loss: 1.2034 - accuracy: 0.6131 - val_loss: 2.3352 - val_accuracy: 0.4386\n",
            "Epoch 20/50\n",
            "156/156 [==============================] - 3s 18ms/step - loss: 1.1547 - accuracy: 0.6234 - val_loss: 2.6575 - val_accuracy: 0.4056\n",
            "Epoch 21/50\n",
            "156/156 [==============================] - 3s 18ms/step - loss: 1.1183 - accuracy: 0.6390 - val_loss: 2.5863 - val_accuracy: 0.4104\n",
            "Epoch 22/50\n",
            "156/156 [==============================] - 3s 18ms/step - loss: 1.0591 - accuracy: 0.6541 - val_loss: 2.9232 - val_accuracy: 0.3992\n",
            "Epoch 23/50\n",
            "156/156 [==============================] - 3s 18ms/step - loss: 1.0184 - accuracy: 0.6647 - val_loss: 2.5538 - val_accuracy: 0.4169\n",
            "Epoch 24/50\n",
            "156/156 [==============================] - 3s 18ms/step - loss: 1.0105 - accuracy: 0.6748 - val_loss: 3.0750 - val_accuracy: 0.3839\n",
            "Epoch 25/50\n",
            "156/156 [==============================] - 3s 18ms/step - loss: 0.9882 - accuracy: 0.6764 - val_loss: 2.7374 - val_accuracy: 0.4217\n",
            "Epoch 26/50\n",
            "156/156 [==============================] - 3s 18ms/step - loss: 0.9459 - accuracy: 0.6908 - val_loss: 3.1196 - val_accuracy: 0.3912\n",
            "Epoch 27/50\n",
            "156/156 [==============================] - 3s 18ms/step - loss: 0.8818 - accuracy: 0.7113 - val_loss: 2.6387 - val_accuracy: 0.4137\n",
            "Epoch 28/50\n",
            "156/156 [==============================] - 3s 18ms/step - loss: 0.8870 - accuracy: 0.7075 - val_loss: 3.0978 - val_accuracy: 0.3960\n",
            "Epoch 29/50\n",
            "156/156 [==============================] - 3s 18ms/step - loss: 0.8487 - accuracy: 0.7215 - val_loss: 2.8172 - val_accuracy: 0.4217\n",
            "Epoch 30/50\n",
            "156/156 [==============================] - 3s 18ms/step - loss: 0.8213 - accuracy: 0.7280 - val_loss: 2.7335 - val_accuracy: 0.4313\n",
            "Epoch 31/50\n",
            "156/156 [==============================] - 3s 18ms/step - loss: 0.8001 - accuracy: 0.7338 - val_loss: 2.6419 - val_accuracy: 0.4321\n",
            "Epoch 32/50\n",
            "156/156 [==============================] - 3s 18ms/step - loss: 0.7677 - accuracy: 0.7490 - val_loss: 2.7000 - val_accuracy: 0.4394\n",
            "Epoch 33/50\n",
            "156/156 [==============================] - 3s 18ms/step - loss: 0.7544 - accuracy: 0.7515 - val_loss: 2.5304 - val_accuracy: 0.4610\n",
            "Epoch 34/50\n",
            "156/156 [==============================] - 3s 18ms/step - loss: 0.7342 - accuracy: 0.7571 - val_loss: 2.7394 - val_accuracy: 0.4466\n",
            "Epoch 35/50\n",
            "156/156 [==============================] - 3s 18ms/step - loss: 0.6966 - accuracy: 0.7677 - val_loss: 2.4346 - val_accuracy: 0.4739\n",
            "Epoch 36/50\n",
            "156/156 [==============================] - 3s 18ms/step - loss: 0.6953 - accuracy: 0.7699 - val_loss: 2.7001 - val_accuracy: 0.4675\n",
            "Epoch 37/50\n",
            "156/156 [==============================] - 3s 18ms/step - loss: 0.6843 - accuracy: 0.7693 - val_loss: 2.5215 - val_accuracy: 0.4980\n",
            "Epoch 38/50\n",
            "156/156 [==============================] - 3s 18ms/step - loss: 0.6278 - accuracy: 0.7886 - val_loss: 2.9203 - val_accuracy: 0.4442\n",
            "Epoch 39/50\n",
            "156/156 [==============================] - 3s 18ms/step - loss: 0.6114 - accuracy: 0.8008 - val_loss: 2.7082 - val_accuracy: 0.4635\n",
            "Epoch 40/50\n",
            "156/156 [==============================] - 3s 18ms/step - loss: 0.5738 - accuracy: 0.8113 - val_loss: 3.2368 - val_accuracy: 0.4056\n",
            "Epoch 41/50\n",
            "156/156 [==============================] - 3s 18ms/step - loss: 0.5672 - accuracy: 0.8127 - val_loss: 2.8093 - val_accuracy: 0.4667\n",
            "Epoch 42/50\n",
            "156/156 [==============================] - 3s 18ms/step - loss: 0.5386 - accuracy: 0.8213 - val_loss: 2.8939 - val_accuracy: 0.4402\n",
            "Epoch 43/50\n",
            "156/156 [==============================] - 3s 18ms/step - loss: 0.5438 - accuracy: 0.8177 - val_loss: 2.5666 - val_accuracy: 0.4683\n",
            "Epoch 44/50\n",
            "156/156 [==============================] - 3s 18ms/step - loss: 0.5385 - accuracy: 0.8267 - val_loss: 2.8502 - val_accuracy: 0.4570\n",
            "Epoch 45/50\n",
            "156/156 [==============================] - 3s 18ms/step - loss: 0.5259 - accuracy: 0.8275 - val_loss: 2.6259 - val_accuracy: 0.4755\n",
            "Epoch 46/50\n",
            "156/156 [==============================] - 3s 18ms/step - loss: 0.5105 - accuracy: 0.8332 - val_loss: 2.9392 - val_accuracy: 0.4570\n",
            "Epoch 47/50\n",
            "156/156 [==============================] - 3s 18ms/step - loss: 0.4784 - accuracy: 0.8400 - val_loss: 2.8234 - val_accuracy: 0.4570\n",
            "Epoch 48/50\n",
            "156/156 [==============================] - 3s 18ms/step - loss: 0.4695 - accuracy: 0.8426 - val_loss: 3.1253 - val_accuracy: 0.4635\n",
            "Epoch 49/50\n",
            "156/156 [==============================] - 3s 18ms/step - loss: 0.4611 - accuracy: 0.8432 - val_loss: 2.5774 - val_accuracy: 0.5100\n",
            "Epoch 50/50\n",
            "156/156 [==============================] - 3s 18ms/step - loss: 0.4194 - accuracy: 0.8619 - val_loss: 2.5709 - val_accuracy: 0.5060\n"
          ]
        }
      ]
    },
    {
      "cell_type": "code",
      "metadata": {
        "id": "ynhS2KjVEhj8",
        "colab": {
          "base_uri": "https://localhost:8080/",
          "height": 499
        },
        "outputId": "a5e9c30a-8f05-4a02-fc7e-3f8438e7bdaf"
      },
      "source": [
        "acc = history.history['accuracy']\n",
        "val_acc = history.history['val_accuracy']\n",
        "\n",
        "loss = history.history['loss']\n",
        "val_loss = history.history['val_loss']\n",
        "\n",
        "epochs_range = range(epochs)\n",
        "\n",
        "plt.figure(figsize=(8, 8))\n",
        "plt.subplot(1, 2, 1)\n",
        "plt.plot(epochs_range, acc, label='Training Accuracy')\n",
        "plt.plot(epochs_range, val_acc, label='Validation Accuracy')\n",
        "plt.legend(loc='lower right')\n",
        "plt.title('Training and Validation Accuracy')\n",
        "\n",
        "plt.subplot(1, 2, 2)\n",
        "plt.plot(epochs_range, loss, label='Training Loss')\n",
        "plt.plot(epochs_range, val_loss, label='Validation Loss')\n",
        "plt.legend(loc='upper right')\n",
        "plt.title('Training and Validation Loss')\n",
        "plt.show()"
      ],
      "execution_count": null,
      "outputs": [
        {
          "output_type": "display_data",
          "data": {
            "image/png": "[encoded data removed]",
            "text/plain": [
              "<Figure size 576x576 with 2 Axes>"
            ]
          },
          "metadata": {
            "needs_background": "light"
          }
        }
      ]
    },
    {
      "cell_type": "code",
      "metadata": {
        "id": "IbEQMrsAH2yZ",
        "colab": {
          "base_uri": "https://localhost:8080/"
        },
        "outputId": "5ce1330d-24dc-4a23-f300-93327a965975"
      },
      "source": [
        "model.compile(\n",
        "    optimizer='adam',\n",
        "    loss=tf.losses.SparseCategoricalCrossentropy(from_logits=True),\n",
        "    metrics=['accuracy'])\n",
        "model.summary()"
      ],
      "execution_count": null,
      "outputs": [
        {
          "output_type": "stream",
          "name": "stdout",
          "text": [
            "Model: \"sequential_2\"\n",
            "_________________________________________________________________\n",
            " Layer (type)                Output Shape              Param #   \n",
            "=================================================================\n",
            " sequential_1 (Sequential)   (None, 180, 180, 1)       0         \n",
            "                                                                 \n",
            " rescaling_2 (Rescaling)     (None, 180, 180, 1)       0         \n",
            "                                                                 \n",
            " conv2d_3 (Conv2D)           (None, 178, 178, 32)      320       \n",
            "                                                                 \n",
            " max_pooling2d_3 (MaxPooling  (None, 89, 89, 32)       0         \n",
            " 2D)                                                             \n",
            "                                                                 \n",
            " conv2d_4 (Conv2D)           (None, 89, 89, 32)        9248      \n",
            "                                                                 \n",
            " max_pooling2d_4 (MaxPooling  (None, 44, 44, 32)       0         \n",
            " 2D)                                                             \n",
            "                                                                 \n",
            " conv2d_5 (Conv2D)           (None, 44, 44, 32)        9248      \n",
            "                                                                 \n",
            " max_pooling2d_5 (MaxPooling  (None, 22, 22, 32)       0         \n",
            " 2D)                                                             \n",
            "                                                                 \n",
            " dropout (Dropout)           (None, 22, 22, 32)        0         \n",
            "                                                                 \n",
            " flatten_1 (Flatten)         (None, 15488)             0         \n",
            "                                                                 \n",
            " dense_7 (Dense)             (None, 128)               1982592   \n",
            "                                                                 \n",
            " batch_normalization_7 (Batc  (None, 128)              512       \n",
            " hNormalization)                                                 \n",
            "                                                                 \n",
            " dense_8 (Dense)             (None, 128)               16512     \n",
            "                                                                 \n",
            " batch_normalization_8 (Batc  (None, 128)              512       \n",
            " hNormalization)                                                 \n",
            "                                                                 \n",
            " dense_9 (Dense)             (None, 128)               16512     \n",
            "                                                                 \n",
            " batch_normalization_9 (Batc  (None, 128)              512       \n",
            " hNormalization)                                                 \n",
            "                                                                 \n",
            " dense_10 (Dense)            (None, 128)               16512     \n",
            "                                                                 \n",
            " batch_normalization_10 (Bat  (None, 128)              512       \n",
            " chNormalization)                                                \n",
            "                                                                 \n",
            " dense_11 (Dense)            (None, 128)               16512     \n",
            "                                                                 \n",
            " batch_normalization_11 (Bat  (None, 128)              512       \n",
            " chNormalization)                                                \n",
            "                                                                 \n",
            " dense_12 (Dense)            (None, 107)               13803     \n",
            "                                                                 \n",
            " batch_normalization_12 (Bat  (None, 107)              428       \n",
            " chNormalization)                                                \n",
            "                                                                 \n",
            " dense_13 (Dense)            (None, 107)               11556     \n",
            "                                                                 \n",
            "=================================================================\n",
            "Total params: 2,095,803\n",
            "Trainable params: 2,094,309\n",
            "Non-trainable params: 1,494\n",
            "_________________________________________________________________\n"
          ]
        }
      ]
    },
    {
      "cell_type": "code",
      "metadata": {
        "id": "df30HUqFjWre"
      },
      "source": [
        ""
      ],
      "execution_count": null,
      "outputs": []
    }
  ]
}