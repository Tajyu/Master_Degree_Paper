{
  "nbformat": 4,
  "nbformat_minor": 0,
  "metadata": {
    "colab": {
      "name": "3Class_Genus_V3_BatchNormal_Layer_15.ipynb",
      "provenance": [],
      "collapsed_sections": [],
      "mount_file_id": "1HKjw4Sd_7P1Ig6uVWGbnwyEaWS498ctO",
      "authorship_tag": "ABX9TyNz/O/aO+zKEmHyAgHxOEaq",
      "include_colab_link": true
    },
    "kernelspec": {
      "name": "python3",
      "display_name": "Python 3"
    },
    "language_info": {
      "name": "python"
    },
    "accelerator": "GPU"
  },
  "cells": [
    {
      "cell_type": "markdown",
      "metadata": {
        "id": "view-in-github",
        "colab_type": "text"
      },
      "source": [
        "<a href=\"https://colab.research.google.com/github/Tajyu/Master_Degree_Paper/blob/main/Code/Filter_32/No%20input_dim/3Class_Genus_V3_BatchNormal_Layer_15.ipynb\" target=\"_parent\"><img src=\"https://colab.research.google.com/assets/colab-badge.svg\" alt=\"Open In Colab\"/></a>"
      ]
    },
    {
      "cell_type": "code",
      "metadata": {
        "id": "yWckd06_68Em"
      },
      "source": [
        "import tensorflow as tf\n",
        "from tensorflow.keras import datasets, layers, models\n",
        "from keras.preprocessing.image import ImageDataGenerator\n",
        "import numpy as np\n",
        "import matplotlib.pyplot as plt\n",
        "import cv2 as cv\n",
        "import os\n",
        "import pathlib\n",
        "import PIL\n",
        "from tensorflow import keras\n",
        "from tensorflow.keras import layers\n",
        "from tensorflow.keras.models import Sequential\n",
        "from tensorflow.keras.layers import Dense, Flatten, BatchNormalization, Dropout"
      ],
      "execution_count": null,
      "outputs": []
    },
    {
      "cell_type": "code",
      "metadata": {
        "id": "xav9zirHttk_"
      },
      "source": [
        "image_list = os.listdir('/content/drive/MyDrive/Colab Notebooks/Final_Project/Cell_Genus')"
      ],
      "execution_count": null,
      "outputs": []
    },
    {
      "cell_type": "code",
      "metadata": {
        "colab": {
          "base_uri": "https://localhost:8080/"
        },
        "id": "K-wD0dM5tx_E",
        "outputId": "77289efa-cc95-48e4-e17d-ac3bab58756c"
      },
      "source": [
        "print(image_list)"
      ],
      "execution_count": null,
      "outputs": [
        {
          "output_type": "stream",
          "name": "stdout",
          "text": [
            "['10_Genus_Stauroneis_Ehrenberg', '10_Genus_Staurosira_Ehrenberg', '11_Genus_Craspedostauros_E.J_Cox_1999', '11_Genus_Staurosirella_Williams_and_Round', '12_Genus_Caloneis_Cleve_1894', '12_Genus_Synedra_Ehrenberg', '13_Genus_Pinnularia_Ehrenberg_1843', '1_Genus_Acanthoceras_Honigmann', '1_Genus_Achnanthes_Bory', '1_Genus_Actinocyclus_Ehrenberg', '1_Genus_Aphanocapsa_Nageli_1849', '1_Genus_Asterionella_Hassall', '1_Genus_Aulacoseira', '1_Genus_Biremis_Mann_et_Cox_in_Round_Crawford_and_Mann', '1_Genus_Characium_A_Braun_in_Kutzing_1849', '1_Genus_Chroococcus_Nageli', '1_Genus_Closterium_Nitzsch_ex_Ralfs_1848', '1_Genus_Coelastrum_Nageli_1849', '1_Genus_Cylindrocystis_Meneghini_ex_de_Bary_1858', '1_Genus_Dictyosphaerium_Nageli_1849', '1_Genus_Docidium_Brebisson_ex_Ralfs_1848', '1_Genus_Eunotia_Ehrenberg', '1_Genus_Geitlerinema_(Anagnostidis_et_Komarek)_Anagnostidis_1989', '1_Genus_Gonatozygon_de_Bary_1856', '1_Genus_Hydrodictyon_Roth_1797', '1_Genus_Hydrosera_whampoensis', '1_Genus_Jaaginema_Anagnostidis_et_Komarek_1988', '1_Genus_Lyngbya_C_Agardh_ex_Gomont_1892', '1_Genus_Melosira_Agardh', '1_Genus_Micractinium_Fresenius_1858', '1_Genus_Micrasterias_Ralfs_1848', '1_Genus_Microcystis_Kutzing_ex_Lemmermann_1907', '1_Genus_Oscillatoria_Vaucher_ex_Gomont_1982', '1_Genus_Pediastrum_Meyen_1829', '1_Genus_Penium_Brebisson_ex_Ralfs_in_Ralfs_1848', '1_Genus_Phormidium_Kutzing_ex_Gomont_1892', '1_Genus_Planktothrix_Anagnostidis_et_Komarek_1988', '1_Genus_Pleurosira_laevis_(Ehrenberg)', '1_Genus_Rhizosolenia_Ehrenberg', '1_Genus_Schizochlamydella_Korshikov_1953', '1_Genus_Staurodesmus_Teiling_1848', '1_Genus_Trochiscia_Kutzing_1834', '1_Scenedesmus_Hegewald_1978', '2_Acutodesmus_Hegewald_1978', '2_Genus_Achnanthidium_Kutzing', '2_Genus_Actinastrum_Lagerheim_1882', '2_Genus_Actinella_Lewis', '2_Genus_Ankyra_Fott_1957', '2_Genus_Caloneis_Cleve', '2_Genus_Chaetoceros_Ehrenberg', '2_Genus_Coenochloris_Korshikov_1953', '2_Genus_Cyclotella', '2_Genus_Diatoma_Bory', '2_Genus_Dimorphococcus_A_Braun_1855', '2_Genus_Golenkinia_Chodat_1894', '2_Genus_Haplotaenium_Bando_1988', '2_Genus_Leibleinia_(Gomont)_L_Hoffman_1985', '2_Genus_Leptolyngbya_Anagnostidis_et_Komarek_1988', '2_Genus_Merismopedia_Meyen_1839', '2_Genus_Netrium_(Nageli)_Itzigsohn_et_Rothe_in_Rabenhorst_1856', '2_Genus_Orthoseira_Thwaites_1848', '2_Genus_Phormidium_Kutzing_ex_Gomont_1892', '2_Genus_Sorastrum_Kutzing_1845', '2_Genus_Staurastrum_Meyen_ex_Ralfs_1848', '3_Desmodesmus_Chodat_1926', '3_Genus_Acanthosphaera_Lemmerman_1899', '3_Genus_Anorthoneis_Grunow', '3_Genus_Cyclostephanos_Round', '3_Genus_Dichotomococcus_Korshikov_1928', '3_Genus_Heteroleibleinia_(Geitler)_L_Hoffmann_1985', '3_Genus_Limnothrix_Meffert_1988', '3_Genus_Meridion_Agardh', '3_Genus_Paradoxia_Svirenko_1928', '3_Genus_Peronia_Bebisson_and_Arnott_ex_Kitton', '3_Genus_Phormidiochaete_Komarek_in_Anagnostidis_2001', '3_Genus_Pinnularia_Ehrenberg_1', '3_Genus_Pleurotaenium_Nageli_1849', '3_Genus_Radiococcus_Schmidle_1902', '3_Genus_Snowella_Elenkin_1938', '3_Genus_Spirotaenia_Brebisson_in_Ralfs_1848', '4_Genus_Botryococcus_Kutzing_1849', '4_Genus_Cocconeis_Ehrenberg', '4_Genus_Eutetramorus_Walton_1918', '4_Genus_Leptolyngbya_Anagnostidis_et_Komarek_1988', '4_Genus_Opephora_Petit', '4_Genus_Pinnularia_Ehrenberg_2', '4_Genus_Schroederia_Lemmermann_1898', '4_Genus_Stephanodiscus_Ehrenberg', '4_Genus_Synechocystis_Sauvageau_1892', '4_Genus_Tortitaenia_A_J_Brook_1998', '5_Genus_Caloneis_Cleve', '5_Genus_Coenocystis_Korshikov_1953', '5_Genus_Planktolyngbya_Anagnostidis_et_Komarek_1988', '5_Genus_Tabellaria_Ehrenberg', '5_Genus_Thalassiosira_Cleve', '5_Genus_Woronichinia_Elenkin_1933', '6_Genus_Anomoeoneis_Pfitzer', '6_Genus_Fragilaria_Lyngbye', '6_Genus_Gloeocystis_Nageli_1849', '6_Genus_Pseudanabaena_Lauterborn_1915', '6_Genus_Skeletonema_Greville', '7_Genus_Caloneis_Cleve', '7_Genus_Hannaea_Patrick', '8_Genus_Diploneis(Ehrenberg)_Cleve', '8_Genus_Pseudostaurosira_Williams_and_Round', '9_Genus_Neidium_Pfitzer', '9_Genus_Punctastriata_Williams_and_Round']\n"
          ]
        }
      ]
    },
    {
      "cell_type": "code",
      "metadata": {
        "id": "o-0DvzEHt8VE"
      },
      "source": [
        "data_generator = ImageDataGenerator(rescale = 1./255)\n",
        "\n",
        "data_dir = \"/content/drive/MyDrive/Colab Notebooks/Final_Project/Cell_Genus\""
      ],
      "execution_count": null,
      "outputs": []
    },
    {
      "cell_type": "code",
      "metadata": {
        "id": "7aTCfEm3t10n"
      },
      "source": [
        "batch_size = 32\n",
        "img_height = 180\n",
        "img_width = 180"
      ],
      "execution_count": null,
      "outputs": []
    },
    {
      "cell_type": "code",
      "metadata": {
        "id": "9Smg-miEt22s",
        "colab": {
          "base_uri": "https://localhost:8080/"
        },
        "outputId": "d20ef17b-3fac-48d1-a7a4-331147dd299d"
      },
      "source": [
        "train_ds = tf.keras.preprocessing.image_dataset_from_directory(\n",
        "  data_dir,\n",
        "  color_mode = \"grayscale\",\n",
        "  validation_split=0.2,\n",
        "  subset=\"training\",\n",
        "  seed=123,\n",
        "  image_size=(img_height, img_width),\n",
        "  batch_size=batch_size)"
      ],
      "execution_count": null,
      "outputs": [
        {
          "output_type": "stream",
          "name": "stdout",
          "text": [
            "Found 6226 files belonging to 107 classes.\n",
            "Using 4981 files for training.\n"
          ]
        }
      ]
    },
    {
      "cell_type": "code",
      "metadata": {
        "id": "1nR0WdQGt44x",
        "colab": {
          "base_uri": "https://localhost:8080/"
        },
        "outputId": "097cb558-5206-4099-deb3-f16d103dca43"
      },
      "source": [
        "val_ds = tf.keras.preprocessing.image_dataset_from_directory(\n",
        "  data_dir,\n",
        "  color_mode = \"grayscale\",\n",
        "  validation_split=0.2,\n",
        "  subset=\"validation\",\n",
        "  seed=123,\n",
        "  image_size=(img_height, img_width),\n",
        "  batch_size=batch_size)"
      ],
      "execution_count": null,
      "outputs": [
        {
          "output_type": "stream",
          "name": "stdout",
          "text": [
            "Found 6226 files belonging to 107 classes.\n",
            "Using 1245 files for validation.\n"
          ]
        }
      ]
    },
    {
      "cell_type": "code",
      "metadata": {
        "id": "F-cz_CtGug8Y",
        "colab": {
          "base_uri": "https://localhost:8080/"
        },
        "outputId": "1044ac9a-ede3-47fe-9f7e-4b83f9add9f5"
      },
      "source": [
        "class_names = train_ds.class_names\n",
        "print(class_names)"
      ],
      "execution_count": null,
      "outputs": [
        {
          "output_type": "stream",
          "name": "stdout",
          "text": [
            "['10_Genus_Stauroneis_Ehrenberg', '10_Genus_Staurosira_Ehrenberg', '11_Genus_Craspedostauros_E.J_Cox_1999', '11_Genus_Staurosirella_Williams_and_Round', '12_Genus_Caloneis_Cleve_1894', '12_Genus_Synedra_Ehrenberg', '13_Genus_Pinnularia_Ehrenberg_1843', '1_Genus_Acanthoceras_Honigmann', '1_Genus_Achnanthes_Bory', '1_Genus_Actinocyclus_Ehrenberg', '1_Genus_Aphanocapsa_Nageli_1849', '1_Genus_Asterionella_Hassall', '1_Genus_Aulacoseira', '1_Genus_Biremis_Mann_et_Cox_in_Round_Crawford_and_Mann', '1_Genus_Characium_A_Braun_in_Kutzing_1849', '1_Genus_Chroococcus_Nageli', '1_Genus_Closterium_Nitzsch_ex_Ralfs_1848', '1_Genus_Coelastrum_Nageli_1849', '1_Genus_Cylindrocystis_Meneghini_ex_de_Bary_1858', '1_Genus_Dictyosphaerium_Nageli_1849', '1_Genus_Docidium_Brebisson_ex_Ralfs_1848', '1_Genus_Eunotia_Ehrenberg', '1_Genus_Geitlerinema_(Anagnostidis_et_Komarek)_Anagnostidis_1989', '1_Genus_Gonatozygon_de_Bary_1856', '1_Genus_Hydrodictyon_Roth_1797', '1_Genus_Hydrosera_whampoensis', '1_Genus_Jaaginema_Anagnostidis_et_Komarek_1988', '1_Genus_Lyngbya_C_Agardh_ex_Gomont_1892', '1_Genus_Melosira_Agardh', '1_Genus_Micractinium_Fresenius_1858', '1_Genus_Micrasterias_Ralfs_1848', '1_Genus_Microcystis_Kutzing_ex_Lemmermann_1907', '1_Genus_Oscillatoria_Vaucher_ex_Gomont_1982', '1_Genus_Pediastrum_Meyen_1829', '1_Genus_Penium_Brebisson_ex_Ralfs_in_Ralfs_1848', '1_Genus_Phormidium_Kutzing_ex_Gomont_1892', '1_Genus_Planktothrix_Anagnostidis_et_Komarek_1988', '1_Genus_Pleurosira_laevis_(Ehrenberg)', '1_Genus_Rhizosolenia_Ehrenberg', '1_Genus_Schizochlamydella_Korshikov_1953', '1_Genus_Staurodesmus_Teiling_1848', '1_Genus_Trochiscia_Kutzing_1834', '1_Scenedesmus_Hegewald_1978', '2_Acutodesmus_Hegewald_1978', '2_Genus_Achnanthidium_Kutzing', '2_Genus_Actinastrum_Lagerheim_1882', '2_Genus_Actinella_Lewis', '2_Genus_Ankyra_Fott_1957', '2_Genus_Caloneis_Cleve', '2_Genus_Chaetoceros_Ehrenberg', '2_Genus_Coenochloris_Korshikov_1953', '2_Genus_Cyclotella', '2_Genus_Diatoma_Bory', '2_Genus_Dimorphococcus_A_Braun_1855', '2_Genus_Golenkinia_Chodat_1894', '2_Genus_Haplotaenium_Bando_1988', '2_Genus_Leibleinia_(Gomont)_L_Hoffman_1985', '2_Genus_Leptolyngbya_Anagnostidis_et_Komarek_1988', '2_Genus_Merismopedia_Meyen_1839', '2_Genus_Netrium_(Nageli)_Itzigsohn_et_Rothe_in_Rabenhorst_1856', '2_Genus_Orthoseira_Thwaites_1848', '2_Genus_Phormidium_Kutzing_ex_Gomont_1892', '2_Genus_Sorastrum_Kutzing_1845', '2_Genus_Staurastrum_Meyen_ex_Ralfs_1848', '3_Desmodesmus_Chodat_1926', '3_Genus_Acanthosphaera_Lemmerman_1899', '3_Genus_Anorthoneis_Grunow', '3_Genus_Cyclostephanos_Round', '3_Genus_Dichotomococcus_Korshikov_1928', '3_Genus_Heteroleibleinia_(Geitler)_L_Hoffmann_1985', '3_Genus_Limnothrix_Meffert_1988', '3_Genus_Meridion_Agardh', '3_Genus_Paradoxia_Svirenko_1928', '3_Genus_Peronia_Bebisson_and_Arnott_ex_Kitton', '3_Genus_Phormidiochaete_Komarek_in_Anagnostidis_2001', '3_Genus_Pinnularia_Ehrenberg_1', '3_Genus_Pleurotaenium_Nageli_1849', '3_Genus_Radiococcus_Schmidle_1902', '3_Genus_Snowella_Elenkin_1938', '3_Genus_Spirotaenia_Brebisson_in_Ralfs_1848', '4_Genus_Botryococcus_Kutzing_1849', '4_Genus_Cocconeis_Ehrenberg', '4_Genus_Eutetramorus_Walton_1918', '4_Genus_Leptolyngbya_Anagnostidis_et_Komarek_1988', '4_Genus_Opephora_Petit', '4_Genus_Pinnularia_Ehrenberg_2', '4_Genus_Schroederia_Lemmermann_1898', '4_Genus_Stephanodiscus_Ehrenberg', '4_Genus_Synechocystis_Sauvageau_1892', '4_Genus_Tortitaenia_A_J_Brook_1998', '5_Genus_Caloneis_Cleve', '5_Genus_Coenocystis_Korshikov_1953', '5_Genus_Planktolyngbya_Anagnostidis_et_Komarek_1988', '5_Genus_Tabellaria_Ehrenberg', '5_Genus_Thalassiosira_Cleve', '5_Genus_Woronichinia_Elenkin_1933', '6_Genus_Anomoeoneis_Pfitzer', '6_Genus_Fragilaria_Lyngbye', '6_Genus_Gloeocystis_Nageli_1849', '6_Genus_Pseudanabaena_Lauterborn_1915', '6_Genus_Skeletonema_Greville', '7_Genus_Caloneis_Cleve', '7_Genus_Hannaea_Patrick', '8_Genus_Diploneis(Ehrenberg)_Cleve', '8_Genus_Pseudostaurosira_Williams_and_Round', '9_Genus_Neidium_Pfitzer', '9_Genus_Punctastriata_Williams_and_Round']\n"
          ]
        }
      ]
    },
    {
      "cell_type": "code",
      "metadata": {
        "id": "5EQOikPAukic",
        "colab": {
          "base_uri": "https://localhost:8080/"
        },
        "outputId": "18627199-545d-4769-b58b-89db26783480"
      },
      "source": [
        "for image_batch, labels_batch in train_ds:\n",
        "  print(image_batch.shape)\n",
        "  print(labels_batch.shape)\n",
        "  break"
      ],
      "execution_count": null,
      "outputs": [
        {
          "output_type": "stream",
          "name": "stdout",
          "text": [
            "(32, 180, 180, 1)\n",
            "(32,)\n"
          ]
        }
      ]
    },
    {
      "cell_type": "code",
      "metadata": {
        "id": "9eVl7tiDux9q"
      },
      "source": [
        "from tensorflow.keras import layers\n",
        "\n",
        "normalization_layer = tf.keras.layers.experimental.preprocessing.Rescaling(1./255)"
      ],
      "execution_count": null,
      "outputs": []
    },
    {
      "cell_type": "code",
      "metadata": {
        "id": "AiIrsxzZuzEo",
        "colab": {
          "base_uri": "https://localhost:8080/"
        },
        "outputId": "c42dc99d-d02d-43fb-cce6-ad3f9f65a1c1"
      },
      "source": [
        "normalized_ds = train_ds.map(lambda x, y: (normalization_layer(x), y))\n",
        "image_batch, labels_batch = next(iter(normalized_ds))\n",
        "first_image = image_batch[0]\n",
        "# Notice the pixels values are now in `[0,1]`.\n",
        "print(np.min(first_image), np.max(first_image))"
      ],
      "execution_count": null,
      "outputs": [
        {
          "output_type": "stream",
          "name": "stdout",
          "text": [
            "0.0 1.0\n"
          ]
        }
      ]
    },
    {
      "cell_type": "code",
      "metadata": {
        "id": "__WbVabru0Bp"
      },
      "source": [
        "AUTOTUNE = tf.data.experimental.AUTOTUNE\n",
        "\n",
        "train_ds = train_ds.cache().prefetch(buffer_size=AUTOTUNE)\n",
        "val_ds = val_ds.cache().prefetch(buffer_size=AUTOTUNE)"
      ],
      "execution_count": null,
      "outputs": []
    },
    {
      "cell_type": "code",
      "metadata": {
        "id": "g1GeYFXCu2gV"
      },
      "source": [
        "num_classes = 107\n",
        "model = tf.keras.Sequential([\n",
        "    layers.experimental.preprocessing.Rescaling(1./255),\n",
        "    layers.Conv2D(32, 3,input_shape = image_batch, activation='relu'),\n",
        "    layers.MaxPooling2D(),\n",
        "    layers.Conv2D(32, 3, activation='relu'),\n",
        "    layers.MaxPooling2D(),\n",
        "    layers.Conv2D(32, 3, activation='relu'),\n",
        "    layers.MaxPooling2D(),\n",
        "    layers.Flatten(),\n",
        "    BatchNormalization(),\n",
        "    layers.Dense(128, activation='relu'),\n",
        "    BatchNormalization(),\n",
        "    layers.Dense(128, activation='relu'),\n",
        "    BatchNormalization(),\n",
        "    layers.Dense(128, activation='relu'),\n",
        "    BatchNormalization(),\n",
        "    layers.Dense(128, activation='relu'),\n",
        "    BatchNormalization(),\n",
        "    layers.Dense(128, activation='relu'),\n",
        "    BatchNormalization(),\n",
        "    layers.Dense(128, activation='relu'),\n",
        "    BatchNormalization(),\n",
        "    layers.Dense(128, activation='relu'),\n",
        "    BatchNormalization(),\n",
        "    layers.Dense(128, activation='relu'),\n",
        "    BatchNormalization(),\n",
        "    layers.Dense(128, activation='relu'),\n",
        "    BatchNormalization(),\n",
        "   layers.Dense(128, activation='relu'),\n",
        "   BatchNormalization(),\n",
        "   layers.Dense(128, activation='relu'),\n",
        "   BatchNormalization(),\n",
        "   layers.Dense(128, activation='relu'),\n",
        "   BatchNormalization(),\n",
        "   layers.Dense(128, activation='relu'),\n",
        "   BatchNormalization(),\n",
        "   layers.Dense(128, activation='relu'),\n",
        "   BatchNormalization(),\n",
        "   layers.Dense(107, activation='softmax'),\n",
        "   BatchNormalization(),\n",
        "   layers.Dense(num_classes)\n",
        "    ])"
      ],
      "execution_count": null,
      "outputs": []
    },
    {
      "cell_type": "code",
      "metadata": {
        "id": "wU4xPAvNYWry"
      },
      "source": [
        "model.compile(\n",
        "    optimizer='adam',\n",
        "    loss=tf.losses.SparseCategoricalCrossentropy(from_logits=True),\n",
        "    metrics=['accuracy'])"
      ],
      "execution_count": null,
      "outputs": []
    },
    {
      "cell_type": "code",
      "metadata": {
        "id": "Tk8ssrbHu44p",
        "colab": {
          "base_uri": "https://localhost:8080/"
        },
        "outputId": "bb17c142-2aee-4a72-8755-6f75f47d48bf"
      },
      "source": [
        "epochs=50\n",
        "history = model.fit(\n",
        "  train_ds,\n",
        "  validation_data=val_ds,\n",
        "  epochs=epochs\n",
        ")"
      ],
      "execution_count": null,
      "outputs": [
        {
          "output_type": "stream",
          "name": "stdout",
          "text": [
            "Epoch 1/50\n",
            "156/156 [==============================] - 1885s 12s/step - loss: 4.0964 - accuracy: 0.1486 - val_loss: 4.1621 - val_accuracy: 0.0980\n",
            "Epoch 2/50\n",
            "156/156 [==============================] - 3s 22ms/step - loss: 2.9928 - accuracy: 0.2744 - val_loss: 3.7533 - val_accuracy: 0.2016\n",
            "Epoch 3/50\n",
            "156/156 [==============================] - 3s 22ms/step - loss: 2.6541 - accuracy: 0.3278 - val_loss: 3.0791 - val_accuracy: 0.3044\n",
            "Epoch 4/50\n",
            "156/156 [==============================] - 3s 22ms/step - loss: 2.4221 - accuracy: 0.3630 - val_loss: 2.7980 - val_accuracy: 0.3052\n",
            "Epoch 5/50\n",
            "156/156 [==============================] - 3s 22ms/step - loss: 2.2630 - accuracy: 0.3875 - val_loss: 2.5562 - val_accuracy: 0.3695\n",
            "Epoch 6/50\n",
            "156/156 [==============================] - 3s 22ms/step - loss: 2.1324 - accuracy: 0.4071 - val_loss: 2.4629 - val_accuracy: 0.3743\n",
            "Epoch 7/50\n",
            "156/156 [==============================] - 3s 22ms/step - loss: 1.9983 - accuracy: 0.4453 - val_loss: 2.5573 - val_accuracy: 0.3759\n",
            "Epoch 8/50\n",
            "156/156 [==============================] - 3s 22ms/step - loss: 1.8404 - accuracy: 0.4740 - val_loss: 2.3507 - val_accuracy: 0.3976\n",
            "Epoch 9/50\n",
            "156/156 [==============================] - 3s 22ms/step - loss: 1.7442 - accuracy: 0.5140 - val_loss: 2.5970 - val_accuracy: 0.3815\n",
            "Epoch 10/50\n",
            "156/156 [==============================] - 3s 22ms/step - loss: 1.6598 - accuracy: 0.5278 - val_loss: 2.3885 - val_accuracy: 0.4185\n",
            "Epoch 11/50\n",
            "156/156 [==============================] - 3s 22ms/step - loss: 1.5235 - accuracy: 0.5579 - val_loss: 2.4088 - val_accuracy: 0.4016\n",
            "Epoch 12/50\n",
            "156/156 [==============================] - 3s 21ms/step - loss: 1.3990 - accuracy: 0.5993 - val_loss: 2.3365 - val_accuracy: 0.4249\n",
            "Epoch 13/50\n",
            "156/156 [==============================] - 3s 21ms/step - loss: 1.3409 - accuracy: 0.6161 - val_loss: 2.5103 - val_accuracy: 0.4080\n",
            "Epoch 14/50\n",
            "156/156 [==============================] - 4s 23ms/step - loss: 1.2631 - accuracy: 0.6378 - val_loss: 2.6908 - val_accuracy: 0.4273\n",
            "Epoch 15/50\n",
            "156/156 [==============================] - 3s 22ms/step - loss: 1.1901 - accuracy: 0.6605 - val_loss: 2.7593 - val_accuracy: 0.3896\n",
            "Epoch 16/50\n",
            "156/156 [==============================] - 3s 22ms/step - loss: 1.1186 - accuracy: 0.6838 - val_loss: 2.5733 - val_accuracy: 0.4321\n",
            "Epoch 17/50\n",
            "156/156 [==============================] - 3s 22ms/step - loss: 1.0593 - accuracy: 0.6966 - val_loss: 2.5824 - val_accuracy: 0.4386\n",
            "Epoch 18/50\n",
            "156/156 [==============================] - 3s 22ms/step - loss: 0.9973 - accuracy: 0.7177 - val_loss: 2.8444 - val_accuracy: 0.4185\n",
            "Epoch 19/50\n",
            "156/156 [==============================] - 3s 22ms/step - loss: 0.9691 - accuracy: 0.7207 - val_loss: 2.8771 - val_accuracy: 0.4353\n",
            "Epoch 20/50\n",
            "156/156 [==============================] - 4s 23ms/step - loss: 0.9198 - accuracy: 0.7336 - val_loss: 2.5474 - val_accuracy: 0.4988\n",
            "Epoch 21/50\n",
            "156/156 [==============================] - 3s 22ms/step - loss: 0.8326 - accuracy: 0.7659 - val_loss: 2.5575 - val_accuracy: 0.4819\n",
            "Epoch 22/50\n",
            "156/156 [==============================] - 3s 21ms/step - loss: 0.7501 - accuracy: 0.7844 - val_loss: 2.5723 - val_accuracy: 0.5012\n",
            "Epoch 23/50\n",
            "156/156 [==============================] - 3s 22ms/step - loss: 0.6930 - accuracy: 0.7986 - val_loss: 2.7155 - val_accuracy: 0.4940\n",
            "Epoch 24/50\n",
            "156/156 [==============================] - 3s 22ms/step - loss: 0.6894 - accuracy: 0.8083 - val_loss: 2.8467 - val_accuracy: 0.4683\n",
            "Epoch 25/50\n",
            "156/156 [==============================] - 3s 22ms/step - loss: 0.6673 - accuracy: 0.8081 - val_loss: 2.8593 - val_accuracy: 0.4691\n",
            "Epoch 26/50\n",
            "156/156 [==============================] - 4s 23ms/step - loss: 0.6120 - accuracy: 0.8211 - val_loss: 2.7714 - val_accuracy: 0.4859\n",
            "Epoch 27/50\n",
            "156/156 [==============================] - 3s 22ms/step - loss: 0.5978 - accuracy: 0.8247 - val_loss: 2.9991 - val_accuracy: 0.4618\n",
            "Epoch 28/50\n",
            "156/156 [==============================] - 3s 22ms/step - loss: 0.5483 - accuracy: 0.8464 - val_loss: 3.0416 - val_accuracy: 0.4940\n",
            "Epoch 29/50\n",
            "156/156 [==============================] - 3s 22ms/step - loss: 0.5012 - accuracy: 0.8565 - val_loss: 3.0216 - val_accuracy: 0.4819\n",
            "Epoch 30/50\n",
            "156/156 [==============================] - 3s 22ms/step - loss: 0.4578 - accuracy: 0.8691 - val_loss: 3.0388 - val_accuracy: 0.4803\n",
            "Epoch 31/50\n",
            "156/156 [==============================] - 3s 22ms/step - loss: 0.4551 - accuracy: 0.8699 - val_loss: 3.0802 - val_accuracy: 0.4819\n",
            "Epoch 32/50\n",
            "156/156 [==============================] - 3s 22ms/step - loss: 0.4647 - accuracy: 0.8675 - val_loss: 3.0733 - val_accuracy: 0.4779\n",
            "Epoch 33/50\n",
            "156/156 [==============================] - 4s 23ms/step - loss: 0.4213 - accuracy: 0.8767 - val_loss: 3.0657 - val_accuracy: 0.4948\n",
            "Epoch 34/50\n",
            "156/156 [==============================] - 3s 22ms/step - loss: 0.4015 - accuracy: 0.8836 - val_loss: 3.0051 - val_accuracy: 0.4892\n",
            "Epoch 35/50\n",
            "156/156 [==============================] - 3s 22ms/step - loss: 0.3817 - accuracy: 0.8934 - val_loss: 3.1516 - val_accuracy: 0.5141\n",
            "Epoch 36/50\n",
            "156/156 [==============================] - 3s 21ms/step - loss: 0.3287 - accuracy: 0.9036 - val_loss: 3.1771 - val_accuracy: 0.4908\n",
            "Epoch 37/50\n",
            "156/156 [==============================] - 3s 22ms/step - loss: 0.2903 - accuracy: 0.9173 - val_loss: 3.2640 - val_accuracy: 0.5020\n",
            "Epoch 38/50\n",
            "156/156 [==============================] - 3s 22ms/step - loss: 0.3498 - accuracy: 0.9006 - val_loss: 3.7018 - val_accuracy: 0.4490\n",
            "Epoch 39/50\n",
            "156/156 [==============================] - 4s 22ms/step - loss: 0.3490 - accuracy: 0.9004 - val_loss: 3.4513 - val_accuracy: 0.4996\n",
            "Epoch 40/50\n",
            "156/156 [==============================] - 3s 22ms/step - loss: 0.3111 - accuracy: 0.9083 - val_loss: 3.4460 - val_accuracy: 0.4980\n",
            "Epoch 41/50\n",
            "156/156 [==============================] - 3s 22ms/step - loss: 0.2642 - accuracy: 0.9217 - val_loss: 3.4795 - val_accuracy: 0.4843\n",
            "Epoch 42/50\n",
            "156/156 [==============================] - 3s 22ms/step - loss: 0.2841 - accuracy: 0.9155 - val_loss: 3.3774 - val_accuracy: 0.5165\n",
            "Epoch 43/50\n",
            "156/156 [==============================] - 3s 21ms/step - loss: 0.2385 - accuracy: 0.9325 - val_loss: 3.3589 - val_accuracy: 0.4996\n",
            "Epoch 44/50\n",
            "156/156 [==============================] - 3s 21ms/step - loss: 0.2456 - accuracy: 0.9303 - val_loss: 3.3046 - val_accuracy: 0.5100\n",
            "Epoch 45/50\n",
            "156/156 [==============================] - 3s 22ms/step - loss: 0.3085 - accuracy: 0.9103 - val_loss: 3.6522 - val_accuracy: 0.4892\n",
            "Epoch 46/50\n",
            "156/156 [==============================] - 3s 22ms/step - loss: 0.2503 - accuracy: 0.9267 - val_loss: 3.4674 - val_accuracy: 0.5157\n",
            "Epoch 47/50\n",
            "156/156 [==============================] - 3s 22ms/step - loss: 0.1618 - accuracy: 0.9524 - val_loss: 3.4797 - val_accuracy: 0.4948\n",
            "Epoch 48/50\n",
            "156/156 [==============================] - 3s 22ms/step - loss: 0.1775 - accuracy: 0.9482 - val_loss: 3.9783 - val_accuracy: 0.4369\n",
            "Epoch 49/50\n",
            "156/156 [==============================] - 3s 22ms/step - loss: 0.1803 - accuracy: 0.9486 - val_loss: 3.7861 - val_accuracy: 0.4867\n",
            "Epoch 50/50\n",
            "156/156 [==============================] - 3s 21ms/step - loss: 0.1875 - accuracy: 0.9522 - val_loss: 3.7687 - val_accuracy: 0.4779\n"
          ]
        }
      ]
    },
    {
      "cell_type": "code",
      "metadata": {
        "id": "f1z_vHocu59c",
        "colab": {
          "base_uri": "https://localhost:8080/",
          "height": 499
        },
        "outputId": "7e91df2c-c50c-47d9-ba36-261a414d9d67"
      },
      "source": [
        "acc = history.history['accuracy']\n",
        "val_acc = history.history['val_accuracy']\n",
        "\n",
        "loss=history.history['loss']\n",
        "val_loss=history.history['val_loss']\n",
        "\n",
        "epochs_range = range(epochs)\n",
        "\n",
        "plt.figure(figsize=(8, 8))\n",
        "plt.subplot(1, 2, 1)\n",
        "plt.plot(epochs_range, acc, label='Training Accuracy')\n",
        "plt.plot(epochs_range, val_acc, label='Validation Accuracy')\n",
        "plt.legend(loc='lower right')\n",
        "plt.title('Training and Validation Accuracy')\n",
        "\n",
        "plt.subplot(1, 2, 2)\n",
        "plt.plot(epochs_range, loss, label='Training Loss')\n",
        "plt.plot(epochs_range, val_loss, label='Validation Loss')\n",
        "plt.legend(loc='upper right')\n",
        "plt.title('Training and Validation Loss')\n",
        "plt.show()"
      ],
      "execution_count": null,
      "outputs": [
        {
          "output_type": "display_data",
          "data": {
            "image/png": "[encoded data removed]",
            "text/plain": [
              "<Figure size 576x576 with 2 Axes>"
            ]
          },
          "metadata": {
            "needs_background": "light"
          }
        }
      ]
    },
    {
      "cell_type": "code",
      "metadata": {
        "id": "XinJ6xXD9YNO"
      },
      "source": [
        "data_augmentation = keras.Sequential(\n",
        "  [\n",
        "    layers.experimental.preprocessing.RandomFlip(\"horizontal\", \n",
        "                                                 input_shape=(img_height, \n",
        "                                                              img_width,\n",
        "                                                              1)),\n",
        "    layers.experimental.preprocessing.RandomRotation(0.1),\n",
        "    layers.experimental.preprocessing.RandomZoom(0.1),\n",
        "  ]\n",
        ")"
      ],
      "execution_count": null,
      "outputs": []
    },
    {
      "cell_type": "code",
      "metadata": {
        "id": "8WT2BYElEYZj"
      },
      "source": [
        "model = Sequential([\n",
        "  data_augmentation,\n",
        "  layers.experimental.preprocessing.Rescaling(1./255),\n",
        "  layers.Conv2D(32, 3,input_shape = image_batch, activation='relu'),\n",
        "  layers.MaxPooling2D(),\n",
        "  layers.Conv2D(32, 3, padding='same', activation='relu'),\n",
        "  layers.MaxPooling2D(),\n",
        "  layers.Conv2D(32, 3, padding='same', activation='relu'),\n",
        "  layers.MaxPooling2D(),\n",
        "  layers.Dropout(0.2),\n",
        "  layers.Flatten(),\n",
        "  layers.Dense(128, activation='relu'),\n",
        "  BatchNormalization(),\n",
        "  layers.Dense(128, activation='relu'),\n",
        "  BatchNormalization(),\n",
        "  layers.Dense(128, activation='relu'),\n",
        "  BatchNormalization(),\n",
        "  layers.Dense(128, activation='relu'),\n",
        "  BatchNormalization(),\n",
        "  layers.Dense(128, activation='relu'),\n",
        "  BatchNormalization(),\n",
        "  layers.Dense(128, activation='relu'),\n",
        "  BatchNormalization(),\n",
        "  layers.Dense(128, activation='relu'),\n",
        "  BatchNormalization(),\n",
        "  layers.Dense(128, activation='relu'),\n",
        "  BatchNormalization(),\n",
        "  layers.Dense(128, activation='relu'),\n",
        "  BatchNormalization(),\n",
        "  layers.Dense(128, activation='relu'),\n",
        "  BatchNormalization(),\n",
        "  layers.Dense(128, activation='relu'),\n",
        "  BatchNormalization(),\n",
        "  layers.Dense(128, activation='relu'),\n",
        "  BatchNormalization(),\n",
        "  layers.Dense(128, activation='relu'),\n",
        "  BatchNormalization(),\n",
        "  layers.Dense(128, activation='relu'),\n",
        "  BatchNormalization(),\n",
        "  layers.Dense(107, activation='softmax'),\n",
        "  BatchNormalization(),\n",
        "  layers.Dense(num_classes)\n",
        "])"
      ],
      "execution_count": null,
      "outputs": []
    },
    {
      "cell_type": "code",
      "metadata": {
        "id": "opOHP3auEdsw",
        "colab": {
          "base_uri": "https://localhost:8080/"
        },
        "outputId": "2d336589-fa6f-445e-ef99-5456cf4a28a3"
      },
      "source": [
        "BatchNormalization(),model.compile(\n",
        "    optimizer='adam',\n",
        "    loss=tf.losses.SparseCategoricalCrossentropy(from_logits=True),\n",
        "    metrics=['accuracy'])"
      ],
      "execution_count": null,
      "outputs": [
        {
          "output_type": "execute_result",
          "data": {
            "text/plain": [
              "(<keras.layers.normalization.batch_normalization.BatchNormalization at 0x7f18160a0210>,\n",
              " None)"
            ]
          },
          "metadata": {},
          "execution_count": 19
        }
      ]
    },
    {
      "cell_type": "code",
      "metadata": {
        "id": "3Ay4tlHlEfBX",
        "colab": {
          "base_uri": "https://localhost:8080/"
        },
        "outputId": "579e6c17-c654-4259-8c70-b523cf7a2b30"
      },
      "source": [
        "model.summary()"
      ],
      "execution_count": null,
      "outputs": [
        {
          "output_type": "stream",
          "name": "stdout",
          "text": [
            "Model: \"sequential_2\"\n",
            "_________________________________________________________________\n",
            " Layer (type)                Output Shape              Param #   \n",
            "=================================================================\n",
            " sequential_1 (Sequential)   (None, 180, 180, 1)       0         \n",
            "                                                                 \n",
            " rescaling_2 (Rescaling)     (None, 180, 180, 1)       0         \n",
            "                                                                 \n",
            " conv2d_3 (Conv2D)           (None, 178, 178, 32)      320       \n",
            "                                                                 \n",
            " max_pooling2d_3 (MaxPooling  (None, 89, 89, 32)       0         \n",
            " 2D)                                                             \n",
            "                                                                 \n",
            " conv2d_4 (Conv2D)           (None, 89, 89, 32)        9248      \n",
            "                                                                 \n",
            " max_pooling2d_4 (MaxPooling  (None, 44, 44, 32)       0         \n",
            " 2D)                                                             \n",
            "                                                                 \n",
            " conv2d_5 (Conv2D)           (None, 44, 44, 32)        9248      \n",
            "                                                                 \n",
            " max_pooling2d_5 (MaxPooling  (None, 22, 22, 32)       0         \n",
            " 2D)                                                             \n",
            "                                                                 \n",
            " dropout (Dropout)           (None, 22, 22, 32)        0         \n",
            "                                                                 \n",
            " flatten_1 (Flatten)         (None, 15488)             0         \n",
            "                                                                 \n",
            " dense_16 (Dense)            (None, 128)               1982592   \n",
            "                                                                 \n",
            " batch_normalization_16 (Bat  (None, 128)              512       \n",
            " chNormalization)                                                \n",
            "                                                                 \n",
            " dense_17 (Dense)            (None, 128)               16512     \n",
            "                                                                 \n",
            " batch_normalization_17 (Bat  (None, 128)              512       \n",
            " chNormalization)                                                \n",
            "                                                                 \n",
            " dense_18 (Dense)            (None, 128)               16512     \n",
            "                                                                 \n",
            " batch_normalization_18 (Bat  (None, 128)              512       \n",
            " chNormalization)                                                \n",
            "                                                                 \n",
            " dense_19 (Dense)            (None, 128)               16512     \n",
            "                                                                 \n",
            " batch_normalization_19 (Bat  (None, 128)              512       \n",
            " chNormalization)                                                \n",
            "                                                                 \n",
            " dense_20 (Dense)            (None, 128)               16512     \n",
            "                                                                 \n",
            " batch_normalization_20 (Bat  (None, 128)              512       \n",
            " chNormalization)                                                \n",
            "                                                                 \n",
            " dense_21 (Dense)            (None, 128)               16512     \n",
            "                                                                 \n",
            " batch_normalization_21 (Bat  (None, 128)              512       \n",
            " chNormalization)                                                \n",
            "                                                                 \n",
            " dense_22 (Dense)            (None, 128)               16512     \n",
            "                                                                 \n",
            " batch_normalization_22 (Bat  (None, 128)              512       \n",
            " chNormalization)                                                \n",
            "                                                                 \n",
            " dense_23 (Dense)            (None, 128)               16512     \n",
            "                                                                 \n",
            " batch_normalization_23 (Bat  (None, 128)              512       \n",
            " chNormalization)                                                \n",
            "                                                                 \n",
            " dense_24 (Dense)            (None, 128)               16512     \n",
            "                                                                 \n",
            " batch_normalization_24 (Bat  (None, 128)              512       \n",
            " chNormalization)                                                \n",
            "                                                                 \n",
            " dense_25 (Dense)            (None, 128)               16512     \n",
            "                                                                 \n",
            " batch_normalization_25 (Bat  (None, 128)              512       \n",
            " chNormalization)                                                \n",
            "                                                                 \n",
            " dense_26 (Dense)            (None, 128)               16512     \n",
            "                                                                 \n",
            " batch_normalization_26 (Bat  (None, 128)              512       \n",
            " chNormalization)                                                \n",
            "                                                                 \n",
            " dense_27 (Dense)            (None, 128)               16512     \n",
            "                                                                 \n",
            " batch_normalization_27 (Bat  (None, 128)              512       \n",
            " chNormalization)                                                \n",
            "                                                                 \n",
            " dense_28 (Dense)            (None, 128)               16512     \n",
            "                                                                 \n",
            " batch_normalization_28 (Bat  (None, 128)              512       \n",
            " chNormalization)                                                \n",
            "                                                                 \n",
            " dense_29 (Dense)            (None, 128)               16512     \n",
            "                                                                 \n",
            " batch_normalization_29 (Bat  (None, 128)              512       \n",
            " chNormalization)                                                \n",
            "                                                                 \n",
            " dense_30 (Dense)            (None, 107)               13803     \n",
            "                                                                 \n",
            " batch_normalization_30 (Bat  (None, 107)              428       \n",
            " chNormalization)                                                \n",
            "                                                                 \n",
            " dense_31 (Dense)            (None, 107)               11556     \n",
            "                                                                 \n",
            "=================================================================\n",
            "Total params: 2,249,019\n",
            "Trainable params: 2,245,221\n",
            "Non-trainable params: 3,798\n",
            "_________________________________________________________________\n"
          ]
        }
      ]
    },
    {
      "cell_type": "code",
      "metadata": {
        "id": "Jc8rD_v9Ef41",
        "colab": {
          "base_uri": "https://localhost:8080/"
        },
        "outputId": "96361bc7-2a00-4ba6-b95f-a90e4ede0e97"
      },
      "source": [
        "epochs = 50\n",
        "history = model.fit(\n",
        "  train_ds,\n",
        "  validation_data=val_ds,\n",
        "  epochs=epochs\n",
        ")"
      ],
      "execution_count": null,
      "outputs": [
        {
          "output_type": "stream",
          "name": "stdout",
          "text": [
            "Epoch 1/50\n",
            "156/156 [==============================] - 8s 27ms/step - loss: 4.1390 - accuracy: 0.1164 - val_loss: 4.1347 - val_accuracy: 0.1028\n",
            "Epoch 2/50\n",
            "156/156 [==============================] - 3s 22ms/step - loss: 3.2883 - accuracy: 0.1915 - val_loss: 3.6887 - val_accuracy: 0.1767\n",
            "Epoch 3/50\n",
            "156/156 [==============================] - 3s 22ms/step - loss: 3.0726 - accuracy: 0.2305 - val_loss: 3.3108 - val_accuracy: 0.2699\n",
            "Epoch 4/50\n",
            "156/156 [==============================] - 3s 22ms/step - loss: 2.9434 - accuracy: 0.2449 - val_loss: 4.1414 - val_accuracy: 0.1269\n",
            "Epoch 5/50\n",
            "156/156 [==============================] - 3s 22ms/step - loss: 2.8193 - accuracy: 0.2650 - val_loss: 3.0647 - val_accuracy: 0.2562\n",
            "Epoch 6/50\n",
            "156/156 [==============================] - 3s 22ms/step - loss: 2.6948 - accuracy: 0.2873 - val_loss: 3.0688 - val_accuracy: 0.2538\n",
            "Epoch 7/50\n",
            "156/156 [==============================] - 4s 23ms/step - loss: 2.6164 - accuracy: 0.2999 - val_loss: 3.0149 - val_accuracy: 0.2378\n",
            "Epoch 8/50\n",
            "156/156 [==============================] - 4s 23ms/step - loss: 2.5451 - accuracy: 0.3011 - val_loss: 3.2630 - val_accuracy: 0.2466\n",
            "Epoch 9/50\n",
            "156/156 [==============================] - 3s 22ms/step - loss: 2.4295 - accuracy: 0.3319 - val_loss: 3.1098 - val_accuracy: 0.2353\n",
            "Epoch 10/50\n",
            "156/156 [==============================] - 3s 22ms/step - loss: 2.4021 - accuracy: 0.3429 - val_loss: 2.8860 - val_accuracy: 0.2779\n",
            "Epoch 11/50\n",
            "156/156 [==============================] - 4s 23ms/step - loss: 2.3046 - accuracy: 0.3515 - val_loss: 3.0261 - val_accuracy: 0.2731\n",
            "Epoch 12/50\n",
            "156/156 [==============================] - 4s 23ms/step - loss: 2.2566 - accuracy: 0.3624 - val_loss: 2.9425 - val_accuracy: 0.3197\n",
            "Epoch 13/50\n",
            "156/156 [==============================] - 3s 22ms/step - loss: 2.1904 - accuracy: 0.3827 - val_loss: 2.7454 - val_accuracy: 0.2884\n",
            "Epoch 14/50\n",
            "156/156 [==============================] - 3s 22ms/step - loss: 2.1807 - accuracy: 0.3766 - val_loss: 3.1302 - val_accuracy: 0.2683\n",
            "Epoch 15/50\n",
            "156/156 [==============================] - 4s 23ms/step - loss: 2.1231 - accuracy: 0.3859 - val_loss: 2.9676 - val_accuracy: 0.2996\n",
            "Epoch 16/50\n",
            "156/156 [==============================] - 3s 22ms/step - loss: 2.1207 - accuracy: 0.3903 - val_loss: 3.3061 - val_accuracy: 0.2378\n",
            "Epoch 17/50\n",
            "156/156 [==============================] - 4s 23ms/step - loss: 2.0572 - accuracy: 0.4045 - val_loss: 4.0330 - val_accuracy: 0.1960\n",
            "Epoch 18/50\n",
            "156/156 [==============================] - 4s 23ms/step - loss: 2.0349 - accuracy: 0.4025 - val_loss: 2.9561 - val_accuracy: 0.3197\n",
            "Epoch 19/50\n",
            "156/156 [==============================] - 4s 24ms/step - loss: 1.9871 - accuracy: 0.4204 - val_loss: 2.7590 - val_accuracy: 0.3422\n",
            "Epoch 20/50\n",
            "156/156 [==============================] - 4s 23ms/step - loss: 1.9516 - accuracy: 0.4244 - val_loss: 2.9033 - val_accuracy: 0.3052\n",
            "Epoch 21/50\n",
            "156/156 [==============================] - 4s 23ms/step - loss: 1.9325 - accuracy: 0.4260 - val_loss: 2.9852 - val_accuracy: 0.2651\n",
            "Epoch 22/50\n",
            "156/156 [==============================] - 4s 23ms/step - loss: 1.8983 - accuracy: 0.4371 - val_loss: 2.5704 - val_accuracy: 0.3663\n",
            "Epoch 23/50\n",
            "156/156 [==============================] - 3s 22ms/step - loss: 1.8601 - accuracy: 0.4423 - val_loss: 2.8938 - val_accuracy: 0.3052\n",
            "Epoch 24/50\n",
            "156/156 [==============================] - 3s 22ms/step - loss: 1.8388 - accuracy: 0.4515 - val_loss: 2.6750 - val_accuracy: 0.3574\n",
            "Epoch 25/50\n",
            "156/156 [==============================] - 3s 22ms/step - loss: 1.7764 - accuracy: 0.4626 - val_loss: 2.7002 - val_accuracy: 0.3775\n",
            "Epoch 26/50\n",
            "156/156 [==============================] - 3s 22ms/step - loss: 1.7719 - accuracy: 0.4628 - val_loss: 3.4509 - val_accuracy: 0.3181\n",
            "Epoch 27/50\n",
            "156/156 [==============================] - 3s 22ms/step - loss: 1.7448 - accuracy: 0.4732 - val_loss: 2.8330 - val_accuracy: 0.3478\n",
            "Epoch 28/50\n",
            "156/156 [==============================] - 3s 22ms/step - loss: 1.7166 - accuracy: 0.4718 - val_loss: 2.5741 - val_accuracy: 0.3695\n",
            "Epoch 29/50\n",
            "156/156 [==============================] - 3s 22ms/step - loss: 1.6705 - accuracy: 0.4969 - val_loss: 2.7920 - val_accuracy: 0.3727\n",
            "Epoch 30/50\n",
            "156/156 [==============================] - 3s 22ms/step - loss: 1.6495 - accuracy: 0.4943 - val_loss: 2.7381 - val_accuracy: 0.3751\n",
            "Epoch 31/50\n",
            "156/156 [==============================] - 4s 23ms/step - loss: 1.6530 - accuracy: 0.4979 - val_loss: 2.5087 - val_accuracy: 0.3880\n",
            "Epoch 32/50\n",
            "156/156 [==============================] - 4s 23ms/step - loss: 1.6236 - accuracy: 0.5101 - val_loss: 2.8076 - val_accuracy: 0.3904\n",
            "Epoch 33/50\n",
            "156/156 [==============================] - 4s 23ms/step - loss: 1.5886 - accuracy: 0.5067 - val_loss: 2.5729 - val_accuracy: 0.4032\n",
            "Epoch 34/50\n",
            "156/156 [==============================] - 4s 23ms/step - loss: 1.5529 - accuracy: 0.5144 - val_loss: 3.0423 - val_accuracy: 0.3446\n",
            "Epoch 35/50\n",
            "156/156 [==============================] - 3s 22ms/step - loss: 1.5551 - accuracy: 0.5186 - val_loss: 2.6146 - val_accuracy: 0.3880\n",
            "Epoch 36/50\n",
            "156/156 [==============================] - 4s 23ms/step - loss: 1.5047 - accuracy: 0.5332 - val_loss: 2.4392 - val_accuracy: 0.4217\n",
            "Epoch 37/50\n",
            "156/156 [==============================] - 4s 23ms/step - loss: 1.4839 - accuracy: 0.5332 - val_loss: 2.8242 - val_accuracy: 0.3518\n",
            "Epoch 38/50\n",
            "156/156 [==============================] - 4s 23ms/step - loss: 1.4552 - accuracy: 0.5505 - val_loss: 2.5419 - val_accuracy: 0.4137\n",
            "Epoch 39/50\n",
            "156/156 [==============================] - 3s 22ms/step - loss: 1.4222 - accuracy: 0.5543 - val_loss: 2.6419 - val_accuracy: 0.4072\n",
            "Epoch 40/50\n",
            "156/156 [==============================] - 4s 23ms/step - loss: 1.3949 - accuracy: 0.5585 - val_loss: 2.5337 - val_accuracy: 0.4265\n",
            "Epoch 41/50\n",
            "156/156 [==============================] - 4s 23ms/step - loss: 1.4116 - accuracy: 0.5507 - val_loss: 3.0277 - val_accuracy: 0.3663\n",
            "Epoch 42/50\n",
            "156/156 [==============================] - 4s 23ms/step - loss: 1.3305 - accuracy: 0.5858 - val_loss: 2.5609 - val_accuracy: 0.4257\n",
            "Epoch 43/50\n",
            "156/156 [==============================] - 3s 22ms/step - loss: 1.3255 - accuracy: 0.5748 - val_loss: 2.7884 - val_accuracy: 0.3944\n",
            "Epoch 44/50\n",
            "156/156 [==============================] - 3s 22ms/step - loss: 1.3145 - accuracy: 0.5876 - val_loss: 2.7767 - val_accuracy: 0.4048\n",
            "Epoch 45/50\n",
            "156/156 [==============================] - 4s 23ms/step - loss: 1.2912 - accuracy: 0.5961 - val_loss: 2.6083 - val_accuracy: 0.4024\n",
            "Epoch 46/50\n",
            "156/156 [==============================] - 3s 22ms/step - loss: 1.2492 - accuracy: 0.5983 - val_loss: 2.5566 - val_accuracy: 0.4088\n",
            "Epoch 47/50\n",
            "156/156 [==============================] - 3s 22ms/step - loss: 1.2254 - accuracy: 0.6031 - val_loss: 2.5961 - val_accuracy: 0.4032\n",
            "Epoch 48/50\n",
            "156/156 [==============================] - 3s 22ms/step - loss: 1.2205 - accuracy: 0.6023 - val_loss: 2.9136 - val_accuracy: 0.3735\n",
            "Epoch 49/50\n",
            "156/156 [==============================] - 3s 22ms/step - loss: 1.2066 - accuracy: 0.6065 - val_loss: 3.2607 - val_accuracy: 0.3277\n",
            "Epoch 50/50\n",
            "156/156 [==============================] - 4s 23ms/step - loss: 1.1782 - accuracy: 0.6109 - val_loss: 2.6548 - val_accuracy: 0.4265\n"
          ]
        }
      ]
    },
    {
      "cell_type": "code",
      "metadata": {
        "id": "ynhS2KjVEhj8",
        "colab": {
          "base_uri": "https://localhost:8080/",
          "height": 499
        },
        "outputId": "a44375e9-8129-47e7-85ce-a97ff99a89a2"
      },
      "source": [
        "acc = history.history['accuracy']\n",
        "val_acc = history.history['val_accuracy']\n",
        "\n",
        "loss = history.history['loss']\n",
        "val_loss = history.history['val_loss']\n",
        "\n",
        "epochs_range = range(epochs)\n",
        "\n",
        "plt.figure(figsize=(8, 8))\n",
        "plt.subplot(1, 2, 1)\n",
        "plt.plot(epochs_range, acc, label='Training Accuracy')\n",
        "plt.plot(epochs_range, val_acc, label='Validation Accuracy')\n",
        "plt.legend(loc='lower right')\n",
        "plt.title('Training and Validation Accuracy')\n",
        "\n",
        "plt.subplot(1, 2, 2)\n",
        "plt.plot(epochs_range, loss, label='Training Loss')\n",
        "plt.plot(epochs_range, val_loss, label='Validation Loss')\n",
        "plt.legend(loc='upper right')\n",
        "plt.title('Training and Validation Loss')\n",
        "plt.show()"
      ],
      "execution_count": null,
      "outputs": [
        {
          "output_type": "display_data",
          "data": {
            "image/png": "[encoded data removed]",
            "text/plain": [
              "<Figure size 576x576 with 2 Axes>"
            ]
          },
          "metadata": {
            "needs_background": "light"
          }
        }
      ]
    },
    {
      "cell_type": "code",
      "metadata": {
        "id": "IbEQMrsAH2yZ",
        "colab": {
          "base_uri": "https://localhost:8080/"
        },
        "outputId": "fd0e0439-d2cb-46c8-c712-4550782c43ac"
      },
      "source": [
        "model.compile(\n",
        "    optimizer='adam',\n",
        "    loss=tf.losses.SparseCategoricalCrossentropy(from_logits=True),\n",
        "    metrics=['accuracy'])\n",
        "model.summary()"
      ],
      "execution_count": null,
      "outputs": [
        {
          "output_type": "stream",
          "name": "stdout",
          "text": [
            "Model: \"sequential_2\"\n",
            "_________________________________________________________________\n",
            " Layer (type)                Output Shape              Param #   \n",
            "=================================================================\n",
            " sequential_1 (Sequential)   (None, 180, 180, 1)       0         \n",
            "                                                                 \n",
            " rescaling_2 (Rescaling)     (None, 180, 180, 1)       0         \n",
            "                                                                 \n",
            " conv2d_3 (Conv2D)           (None, 178, 178, 32)      320       \n",
            "                                                                 \n",
            " max_pooling2d_3 (MaxPooling  (None, 89, 89, 32)       0         \n",
            " 2D)                                                             \n",
            "                                                                 \n",
            " conv2d_4 (Conv2D)           (None, 89, 89, 32)        9248      \n",
            "                                                                 \n",
            " max_pooling2d_4 (MaxPooling  (None, 44, 44, 32)       0         \n",
            " 2D)                                                             \n",
            "                                                                 \n",
            " conv2d_5 (Conv2D)           (None, 44, 44, 32)        9248      \n",
            "                                                                 \n",
            " max_pooling2d_5 (MaxPooling  (None, 22, 22, 32)       0         \n",
            " 2D)                                                             \n",
            "                                                                 \n",
            " dropout (Dropout)           (None, 22, 22, 32)        0         \n",
            "                                                                 \n",
            " flatten_1 (Flatten)         (None, 15488)             0         \n",
            "                                                                 \n",
            " dense_16 (Dense)            (None, 128)               1982592   \n",
            "                                                                 \n",
            " batch_normalization_16 (Bat  (None, 128)              512       \n",
            " chNormalization)                                                \n",
            "                                                                 \n",
            " dense_17 (Dense)            (None, 128)               16512     \n",
            "                                                                 \n",
            " batch_normalization_17 (Bat  (None, 128)              512       \n",
            " chNormalization)                                                \n",
            "                                                                 \n",
            " dense_18 (Dense)            (None, 128)               16512     \n",
            "                                                                 \n",
            " batch_normalization_18 (Bat  (None, 128)              512       \n",
            " chNormalization)                                                \n",
            "                                                                 \n",
            " dense_19 (Dense)            (None, 128)               16512     \n",
            "                                                                 \n",
            " batch_normalization_19 (Bat  (None, 128)              512       \n",
            " chNormalization)                                                \n",
            "                                                                 \n",
            " dense_20 (Dense)            (None, 128)               16512     \n",
            "                                                                 \n",
            " batch_normalization_20 (Bat  (None, 128)              512       \n",
            " chNormalization)                                                \n",
            "                                                                 \n",
            " dense_21 (Dense)            (None, 128)               16512     \n",
            "                                                                 \n",
            " batch_normalization_21 (Bat  (None, 128)              512       \n",
            " chNormalization)                                                \n",
            "                                                                 \n",
            " dense_22 (Dense)            (None, 128)               16512     \n",
            "                                                                 \n",
            " batch_normalization_22 (Bat  (None, 128)              512       \n",
            " chNormalization)                                                \n",
            "                                                                 \n",
            " dense_23 (Dense)            (None, 128)               16512     \n",
            "                                                                 \n",
            " batch_normalization_23 (Bat  (None, 128)              512       \n",
            " chNormalization)                                                \n",
            "                                                                 \n",
            " dense_24 (Dense)            (None, 128)               16512     \n",
            "                                                                 \n",
            " batch_normalization_24 (Bat  (None, 128)              512       \n",
            " chNormalization)                                                \n",
            "                                                                 \n",
            " dense_25 (Dense)            (None, 128)               16512     \n",
            "                                                                 \n",
            " batch_normalization_25 (Bat  (None, 128)              512       \n",
            " chNormalization)                                                \n",
            "                                                                 \n",
            " dense_26 (Dense)            (None, 128)               16512     \n",
            "                                                                 \n",
            " batch_normalization_26 (Bat  (None, 128)              512       \n",
            " chNormalization)                                                \n",
            "                                                                 \n",
            " dense_27 (Dense)            (None, 128)               16512     \n",
            "                                                                 \n",
            " batch_normalization_27 (Bat  (None, 128)              512       \n",
            " chNormalization)                                                \n",
            "                                                                 \n",
            " dense_28 (Dense)            (None, 128)               16512     \n",
            "                                                                 \n",
            " batch_normalization_28 (Bat  (None, 128)              512       \n",
            " chNormalization)                                                \n",
            "                                                                 \n",
            " dense_29 (Dense)            (None, 128)               16512     \n",
            "                                                                 \n",
            " batch_normalization_29 (Bat  (None, 128)              512       \n",
            " chNormalization)                                                \n",
            "                                                                 \n",
            " dense_30 (Dense)            (None, 107)               13803     \n",
            "                                                                 \n",
            " batch_normalization_30 (Bat  (None, 107)              428       \n",
            " chNormalization)                                                \n",
            "                                                                 \n",
            " dense_31 (Dense)            (None, 107)               11556     \n",
            "                                                                 \n",
            "=================================================================\n",
            "Total params: 2,249,019\n",
            "Trainable params: 2,245,221\n",
            "Non-trainable params: 3,798\n",
            "_________________________________________________________________\n"
          ]
        }
      ]
    },
    {
      "cell_type": "code",
      "metadata": {
        "id": "df30HUqFjWre"
      },
      "source": [
        ""
      ],
      "execution_count": null,
      "outputs": []
    }
  ]
}