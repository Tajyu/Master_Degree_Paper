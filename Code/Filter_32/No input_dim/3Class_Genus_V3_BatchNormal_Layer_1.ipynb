{
  "nbformat": 4,
  "nbformat_minor": 0,
  "metadata": {
    "colab": {
      "name": "3Class_Genus_V3_BatchNormal_Layer_1.ipynb",
      "provenance": [],
      "collapsed_sections": [],
      "mount_file_id": "1XiDPtPY6714CXsTiWn9I974bMi4_cN1J",
      "authorship_tag": "ABX9TyMuk+4CdKBuBrqaf7I3BGqf",
      "include_colab_link": true
    },
    "kernelspec": {
      "name": "python3",
      "display_name": "Python 3"
    },
    "language_info": {
      "name": "python"
    },
    "accelerator": "GPU"
  },
  "cells": [
    {
      "cell_type": "markdown",
      "metadata": {
        "id": "view-in-github",
        "colab_type": "text"
      },
      "source": [
        "<a href=\"https://colab.research.google.com/github/Tajyu/Master_Degree_Paper/blob/main/Code/Filter_32/No%20input_dim/3Class_Genus_V3_BatchNormal_Layer_1.ipynb\" target=\"_parent\"><img src=\"https://colab.research.google.com/assets/colab-badge.svg\" alt=\"Open In Colab\"/></a>"
      ]
    },
    {
      "cell_type": "code",
      "metadata": {
        "id": "yWckd06_68Em"
      },
      "source": [
        "import tensorflow as tf\n",
        "from tensorflow.keras import datasets, layers, models\n",
        "from keras.preprocessing.image import ImageDataGenerator\n",
        "import numpy as np\n",
        "import matplotlib.pyplot as plt\n",
        "import cv2 as cv\n",
        "import os\n",
        "import pathlib\n",
        "import PIL\n",
        "from tensorflow import keras\n",
        "from tensorflow.keras import layers\n",
        "from tensorflow.keras.models import Sequential\n",
        "from tensorflow.keras.layers import Dense, Flatten, BatchNormalization, Dropout"
      ],
      "execution_count": null,
      "outputs": []
    },
    {
      "cell_type": "code",
      "metadata": {
        "id": "xav9zirHttk_"
      },
      "source": [
        "image_list = os.listdir('/content/drive/MyDrive/Colab Notebooks/Final_Project/Cell_Genus')"
      ],
      "execution_count": null,
      "outputs": []
    },
    {
      "cell_type": "code",
      "metadata": {
        "colab": {
          "base_uri": "https://localhost:8080/"
        },
        "id": "K-wD0dM5tx_E",
        "outputId": "fe08aeb3-02f9-4aed-9d65-958e4f2f85a2"
      },
      "source": [
        "print(image_list)"
      ],
      "execution_count": null,
      "outputs": [
        {
          "output_type": "stream",
          "name": "stdout",
          "text": [
            "['10_Genus_Stauroneis_Ehrenberg', '10_Genus_Staurosira_Ehrenberg', '11_Genus_Craspedostauros_E.J_Cox_1999', '11_Genus_Staurosirella_Williams_and_Round', '12_Genus_Caloneis_Cleve_1894', '12_Genus_Synedra_Ehrenberg', '13_Genus_Pinnularia_Ehrenberg_1843', '1_Genus_Acanthoceras_Honigmann', '1_Genus_Achnanthes_Bory', '1_Genus_Actinocyclus_Ehrenberg', '1_Genus_Aphanocapsa_Nageli_1849', '1_Genus_Asterionella_Hassall', '1_Genus_Aulacoseira', '1_Genus_Biremis_Mann_et_Cox_in_Round_Crawford_and_Mann', '1_Genus_Characium_A_Braun_in_Kutzing_1849', '1_Genus_Chroococcus_Nageli', '1_Genus_Closterium_Nitzsch_ex_Ralfs_1848', '1_Genus_Coelastrum_Nageli_1849', '1_Genus_Cylindrocystis_Meneghini_ex_de_Bary_1858', '1_Genus_Dictyosphaerium_Nageli_1849', '1_Genus_Docidium_Brebisson_ex_Ralfs_1848', '1_Genus_Eunotia_Ehrenberg', '1_Genus_Geitlerinema_(Anagnostidis_et_Komarek)_Anagnostidis_1989', '1_Genus_Gonatozygon_de_Bary_1856', '1_Genus_Hydrodictyon_Roth_1797', '1_Genus_Hydrosera_whampoensis', '1_Genus_Jaaginema_Anagnostidis_et_Komarek_1988', '1_Genus_Lyngbya_C_Agardh_ex_Gomont_1892', '1_Genus_Melosira_Agardh', '1_Genus_Micractinium_Fresenius_1858', '1_Genus_Micrasterias_Ralfs_1848', '1_Genus_Microcystis_Kutzing_ex_Lemmermann_1907', '1_Genus_Oscillatoria_Vaucher_ex_Gomont_1982', '1_Genus_Pediastrum_Meyen_1829', '1_Genus_Penium_Brebisson_ex_Ralfs_in_Ralfs_1848', '1_Genus_Phormidium_Kutzing_ex_Gomont_1892', '1_Genus_Planktothrix_Anagnostidis_et_Komarek_1988', '1_Genus_Pleurosira_laevis_(Ehrenberg)', '1_Genus_Rhizosolenia_Ehrenberg', '1_Genus_Schizochlamydella_Korshikov_1953', '1_Genus_Staurodesmus_Teiling_1848', '1_Genus_Trochiscia_Kutzing_1834', '1_Scenedesmus_Hegewald_1978', '2_Acutodesmus_Hegewald_1978', '2_Genus_Achnanthidium_Kutzing', '2_Genus_Actinastrum_Lagerheim_1882', '2_Genus_Actinella_Lewis', '2_Genus_Ankyra_Fott_1957', '2_Genus_Caloneis_Cleve', '2_Genus_Chaetoceros_Ehrenberg', '2_Genus_Coenochloris_Korshikov_1953', '2_Genus_Cyclotella', '2_Genus_Diatoma_Bory', '2_Genus_Dimorphococcus_A_Braun_1855', '2_Genus_Golenkinia_Chodat_1894', '2_Genus_Haplotaenium_Bando_1988', '2_Genus_Leibleinia_(Gomont)_L_Hoffman_1985', '2_Genus_Leptolyngbya_Anagnostidis_et_Komarek_1988', '2_Genus_Merismopedia_Meyen_1839', '2_Genus_Netrium_(Nageli)_Itzigsohn_et_Rothe_in_Rabenhorst_1856', '2_Genus_Orthoseira_Thwaites_1848', '2_Genus_Phormidium_Kutzing_ex_Gomont_1892', '2_Genus_Sorastrum_Kutzing_1845', '2_Genus_Staurastrum_Meyen_ex_Ralfs_1848', '3_Desmodesmus_Chodat_1926', '3_Genus_Acanthosphaera_Lemmerman_1899', '3_Genus_Anorthoneis_Grunow', '3_Genus_Cyclostephanos_Round', '3_Genus_Dichotomococcus_Korshikov_1928', '3_Genus_Heteroleibleinia_(Geitler)_L_Hoffmann_1985', '3_Genus_Limnothrix_Meffert_1988', '3_Genus_Meridion_Agardh', '3_Genus_Paradoxia_Svirenko_1928', '3_Genus_Peronia_Bebisson_and_Arnott_ex_Kitton', '3_Genus_Phormidiochaete_Komarek_in_Anagnostidis_2001', '3_Genus_Pinnularia_Ehrenberg_1', '3_Genus_Pleurotaenium_Nageli_1849', '3_Genus_Radiococcus_Schmidle_1902', '3_Genus_Snowella_Elenkin_1938', '3_Genus_Spirotaenia_Brebisson_in_Ralfs_1848', '4_Genus_Botryococcus_Kutzing_1849', '4_Genus_Cocconeis_Ehrenberg', '4_Genus_Eutetramorus_Walton_1918', '4_Genus_Leptolyngbya_Anagnostidis_et_Komarek_1988', '4_Genus_Opephora_Petit', '4_Genus_Pinnularia_Ehrenberg_2', '4_Genus_Schroederia_Lemmermann_1898', '4_Genus_Stephanodiscus_Ehrenberg', '4_Genus_Synechocystis_Sauvageau_1892', '4_Genus_Tortitaenia_A_J_Brook_1998', '5_Genus_Caloneis_Cleve', '5_Genus_Coenocystis_Korshikov_1953', '5_Genus_Planktolyngbya_Anagnostidis_et_Komarek_1988', '5_Genus_Tabellaria_Ehrenberg', '5_Genus_Thalassiosira_Cleve', '5_Genus_Woronichinia_Elenkin_1933', '6_Genus_Anomoeoneis_Pfitzer', '6_Genus_Fragilaria_Lyngbye', '6_Genus_Gloeocystis_Nageli_1849', '6_Genus_Pseudanabaena_Lauterborn_1915', '6_Genus_Skeletonema_Greville', '7_Genus_Caloneis_Cleve', '7_Genus_Hannaea_Patrick', '8_Genus_Diploneis(Ehrenberg)_Cleve', '8_Genus_Pseudostaurosira_Williams_and_Round', '9_Genus_Neidium_Pfitzer', '9_Genus_Punctastriata_Williams_and_Round']\n"
          ]
        }
      ]
    },
    {
      "cell_type": "code",
      "metadata": {
        "id": "o-0DvzEHt8VE"
      },
      "source": [
        "data_generator = ImageDataGenerator(rescale = 1./255)\n",
        "\n",
        "data_dir = \"/content/drive/MyDrive/Colab Notebooks/Final_Project/Cell_Genus\""
      ],
      "execution_count": null,
      "outputs": []
    },
    {
      "cell_type": "code",
      "metadata": {
        "id": "7aTCfEm3t10n"
      },
      "source": [
        "batch_size = 32\n",
        "img_height = 180\n",
        "img_width = 180"
      ],
      "execution_count": null,
      "outputs": []
    },
    {
      "cell_type": "code",
      "metadata": {
        "colab": {
          "base_uri": "https://localhost:8080/"
        },
        "id": "9Smg-miEt22s",
        "outputId": "17d17546-bc3f-4ecc-a06b-dd958c5aefca"
      },
      "source": [
        "train_ds = tf.keras.preprocessing.image_dataset_from_directory(\n",
        "  data_dir,\n",
        "  color_mode = \"grayscale\",\n",
        "  validation_split=0.2,\n",
        "  subset=\"training\",\n",
        "  seed=123,\n",
        "  image_size=(img_height, img_width),\n",
        "  batch_size=batch_size)"
      ],
      "execution_count": null,
      "outputs": [
        {
          "output_type": "stream",
          "name": "stdout",
          "text": [
            "Found 6226 files belonging to 107 classes.\n",
            "Using 4981 files for training.\n"
          ]
        }
      ]
    },
    {
      "cell_type": "code",
      "metadata": {
        "colab": {
          "base_uri": "https://localhost:8080/"
        },
        "id": "1nR0WdQGt44x",
        "outputId": "d37055a3-2093-4fc1-e329-2766ad64a277"
      },
      "source": [
        "val_ds = tf.keras.preprocessing.image_dataset_from_directory(\n",
        "  data_dir,\n",
        "  color_mode = \"grayscale\",\n",
        "  validation_split=0.2,\n",
        "  subset=\"validation\",\n",
        "  seed=123,\n",
        "  image_size=(img_height, img_width),\n",
        "  batch_size=batch_size)"
      ],
      "execution_count": null,
      "outputs": [
        {
          "output_type": "stream",
          "name": "stdout",
          "text": [
            "Found 6226 files belonging to 107 classes.\n",
            "Using 1245 files for validation.\n"
          ]
        }
      ]
    },
    {
      "cell_type": "code",
      "metadata": {
        "colab": {
          "base_uri": "https://localhost:8080/"
        },
        "id": "F-cz_CtGug8Y",
        "outputId": "f3ced6ce-f78a-4557-a84f-e657684eb4ac"
      },
      "source": [
        "class_names = train_ds.class_names\n",
        "print(class_names)"
      ],
      "execution_count": null,
      "outputs": [
        {
          "output_type": "stream",
          "name": "stdout",
          "text": [
            "['10_Genus_Stauroneis_Ehrenberg', '10_Genus_Staurosira_Ehrenberg', '11_Genus_Craspedostauros_E.J_Cox_1999', '11_Genus_Staurosirella_Williams_and_Round', '12_Genus_Caloneis_Cleve_1894', '12_Genus_Synedra_Ehrenberg', '13_Genus_Pinnularia_Ehrenberg_1843', '1_Genus_Acanthoceras_Honigmann', '1_Genus_Achnanthes_Bory', '1_Genus_Actinocyclus_Ehrenberg', '1_Genus_Aphanocapsa_Nageli_1849', '1_Genus_Asterionella_Hassall', '1_Genus_Aulacoseira', '1_Genus_Biremis_Mann_et_Cox_in_Round_Crawford_and_Mann', '1_Genus_Characium_A_Braun_in_Kutzing_1849', '1_Genus_Chroococcus_Nageli', '1_Genus_Closterium_Nitzsch_ex_Ralfs_1848', '1_Genus_Coelastrum_Nageli_1849', '1_Genus_Cylindrocystis_Meneghini_ex_de_Bary_1858', '1_Genus_Dictyosphaerium_Nageli_1849', '1_Genus_Docidium_Brebisson_ex_Ralfs_1848', '1_Genus_Eunotia_Ehrenberg', '1_Genus_Geitlerinema_(Anagnostidis_et_Komarek)_Anagnostidis_1989', '1_Genus_Gonatozygon_de_Bary_1856', '1_Genus_Hydrodictyon_Roth_1797', '1_Genus_Hydrosera_whampoensis', '1_Genus_Jaaginema_Anagnostidis_et_Komarek_1988', '1_Genus_Lyngbya_C_Agardh_ex_Gomont_1892', '1_Genus_Melosira_Agardh', '1_Genus_Micractinium_Fresenius_1858', '1_Genus_Micrasterias_Ralfs_1848', '1_Genus_Microcystis_Kutzing_ex_Lemmermann_1907', '1_Genus_Oscillatoria_Vaucher_ex_Gomont_1982', '1_Genus_Pediastrum_Meyen_1829', '1_Genus_Penium_Brebisson_ex_Ralfs_in_Ralfs_1848', '1_Genus_Phormidium_Kutzing_ex_Gomont_1892', '1_Genus_Planktothrix_Anagnostidis_et_Komarek_1988', '1_Genus_Pleurosira_laevis_(Ehrenberg)', '1_Genus_Rhizosolenia_Ehrenberg', '1_Genus_Schizochlamydella_Korshikov_1953', '1_Genus_Staurodesmus_Teiling_1848', '1_Genus_Trochiscia_Kutzing_1834', '1_Scenedesmus_Hegewald_1978', '2_Acutodesmus_Hegewald_1978', '2_Genus_Achnanthidium_Kutzing', '2_Genus_Actinastrum_Lagerheim_1882', '2_Genus_Actinella_Lewis', '2_Genus_Ankyra_Fott_1957', '2_Genus_Caloneis_Cleve', '2_Genus_Chaetoceros_Ehrenberg', '2_Genus_Coenochloris_Korshikov_1953', '2_Genus_Cyclotella', '2_Genus_Diatoma_Bory', '2_Genus_Dimorphococcus_A_Braun_1855', '2_Genus_Golenkinia_Chodat_1894', '2_Genus_Haplotaenium_Bando_1988', '2_Genus_Leibleinia_(Gomont)_L_Hoffman_1985', '2_Genus_Leptolyngbya_Anagnostidis_et_Komarek_1988', '2_Genus_Merismopedia_Meyen_1839', '2_Genus_Netrium_(Nageli)_Itzigsohn_et_Rothe_in_Rabenhorst_1856', '2_Genus_Orthoseira_Thwaites_1848', '2_Genus_Phormidium_Kutzing_ex_Gomont_1892', '2_Genus_Sorastrum_Kutzing_1845', '2_Genus_Staurastrum_Meyen_ex_Ralfs_1848', '3_Desmodesmus_Chodat_1926', '3_Genus_Acanthosphaera_Lemmerman_1899', '3_Genus_Anorthoneis_Grunow', '3_Genus_Cyclostephanos_Round', '3_Genus_Dichotomococcus_Korshikov_1928', '3_Genus_Heteroleibleinia_(Geitler)_L_Hoffmann_1985', '3_Genus_Limnothrix_Meffert_1988', '3_Genus_Meridion_Agardh', '3_Genus_Paradoxia_Svirenko_1928', '3_Genus_Peronia_Bebisson_and_Arnott_ex_Kitton', '3_Genus_Phormidiochaete_Komarek_in_Anagnostidis_2001', '3_Genus_Pinnularia_Ehrenberg_1', '3_Genus_Pleurotaenium_Nageli_1849', '3_Genus_Radiococcus_Schmidle_1902', '3_Genus_Snowella_Elenkin_1938', '3_Genus_Spirotaenia_Brebisson_in_Ralfs_1848', '4_Genus_Botryococcus_Kutzing_1849', '4_Genus_Cocconeis_Ehrenberg', '4_Genus_Eutetramorus_Walton_1918', '4_Genus_Leptolyngbya_Anagnostidis_et_Komarek_1988', '4_Genus_Opephora_Petit', '4_Genus_Pinnularia_Ehrenberg_2', '4_Genus_Schroederia_Lemmermann_1898', '4_Genus_Stephanodiscus_Ehrenberg', '4_Genus_Synechocystis_Sauvageau_1892', '4_Genus_Tortitaenia_A_J_Brook_1998', '5_Genus_Caloneis_Cleve', '5_Genus_Coenocystis_Korshikov_1953', '5_Genus_Planktolyngbya_Anagnostidis_et_Komarek_1988', '5_Genus_Tabellaria_Ehrenberg', '5_Genus_Thalassiosira_Cleve', '5_Genus_Woronichinia_Elenkin_1933', '6_Genus_Anomoeoneis_Pfitzer', '6_Genus_Fragilaria_Lyngbye', '6_Genus_Gloeocystis_Nageli_1849', '6_Genus_Pseudanabaena_Lauterborn_1915', '6_Genus_Skeletonema_Greville', '7_Genus_Caloneis_Cleve', '7_Genus_Hannaea_Patrick', '8_Genus_Diploneis(Ehrenberg)_Cleve', '8_Genus_Pseudostaurosira_Williams_and_Round', '9_Genus_Neidium_Pfitzer', '9_Genus_Punctastriata_Williams_and_Round']\n"
          ]
        }
      ]
    },
    {
      "cell_type": "code",
      "metadata": {
        "colab": {
          "base_uri": "https://localhost:8080/"
        },
        "id": "5EQOikPAukic",
        "outputId": "1e0eb8b4-e31a-4045-af60-b42df1eff3fd"
      },
      "source": [
        "for image_batch, labels_batch in train_ds:\n",
        "  print(image_batch.shape)\n",
        "  print(labels_batch.shape)\n",
        "  break"
      ],
      "execution_count": null,
      "outputs": [
        {
          "output_type": "stream",
          "name": "stdout",
          "text": [
            "(32, 180, 180, 1)\n",
            "(32,)\n"
          ]
        }
      ]
    },
    {
      "cell_type": "code",
      "metadata": {
        "id": "9eVl7tiDux9q"
      },
      "source": [
        "from tensorflow.keras import layers\n",
        "\n",
        "normalization_layer = tf.keras.layers.experimental.preprocessing.Rescaling(1./255)"
      ],
      "execution_count": null,
      "outputs": []
    },
    {
      "cell_type": "code",
      "metadata": {
        "colab": {
          "base_uri": "https://localhost:8080/"
        },
        "id": "AiIrsxzZuzEo",
        "outputId": "940d1da4-5351-4ba0-d6d5-4abe65ec9b15"
      },
      "source": [
        "normalized_ds = train_ds.map(lambda x, y: (normalization_layer(x), y))\n",
        "image_batch, labels_batch = next(iter(normalized_ds))\n",
        "first_image = image_batch[0]\n",
        "# Notice the pixels values are now in `[0,1]`.\n",
        "print(np.min(first_image), np.max(first_image))"
      ],
      "execution_count": null,
      "outputs": [
        {
          "output_type": "stream",
          "name": "stdout",
          "text": [
            "0.0 1.0\n"
          ]
        }
      ]
    },
    {
      "cell_type": "code",
      "metadata": {
        "id": "__WbVabru0Bp"
      },
      "source": [
        "AUTOTUNE = tf.data.experimental.AUTOTUNE\n",
        "\n",
        "train_ds = train_ds.cache().prefetch(buffer_size=AUTOTUNE)\n",
        "val_ds = val_ds.cache().prefetch(buffer_size=AUTOTUNE)"
      ],
      "execution_count": null,
      "outputs": []
    },
    {
      "cell_type": "code",
      "metadata": {
        "id": "g1GeYFXCu2gV"
      },
      "source": [
        "num_classes = 107\n",
        "model = tf.keras.Sequential([\n",
        "    layers.experimental.preprocessing.Rescaling(1./255),\n",
        "    layers.Conv2D(32, 3,input_shape = image_batch, activation='relu'),\n",
        "    layers.MaxPooling2D(),\n",
        "    layers.Conv2D(32, 3, activation='relu'),\n",
        "    layers.MaxPooling2D(),\n",
        "    layers.Conv2D(32, 3, activation='relu'),\n",
        "    layers.MaxPooling2D(),\n",
        "    layers.Flatten(),\n",
        "    BatchNormalization(),\n",
        "    layers.Dense(107, activation='softmax'),\n",
        "    BatchNormalization(),\n",
        "    layers.Dense(num_classes)\n",
        "    ])"
      ],
      "execution_count": null,
      "outputs": []
    },
    {
      "cell_type": "code",
      "metadata": {
        "id": "wU4xPAvNYWry"
      },
      "source": [
        "model.compile(\n",
        "    optimizer='adam',\n",
        "    loss=tf.losses.SparseCategoricalCrossentropy(from_logits=True),\n",
        "    metrics=['accuracy'])"
      ],
      "execution_count": null,
      "outputs": []
    },
    {
      "cell_type": "code",
      "metadata": {
        "colab": {
          "base_uri": "https://localhost:8080/"
        },
        "id": "Tk8ssrbHu44p",
        "outputId": "b547fa5f-c0bc-46a4-e918-ff404521d855"
      },
      "source": [
        "epochs=50\n",
        "history = model.fit(\n",
        "  train_ds,\n",
        "  validation_data=val_ds,\n",
        "  epochs=epochs\n",
        ")"
      ],
      "execution_count": null,
      "outputs": [
        {
          "output_type": "stream",
          "name": "stdout",
          "text": [
            "Epoch 1/50\n",
            "156/156 [==============================] - 632s 4s/step - loss: 3.2987 - accuracy: 0.3186 - val_loss: 4.2653 - val_accuracy: 0.1124\n",
            "Epoch 2/50\n",
            "156/156 [==============================] - 8s 49ms/step - loss: 1.9518 - accuracy: 0.5246 - val_loss: 3.9422 - val_accuracy: 0.2361\n",
            "Epoch 3/50\n",
            "156/156 [==============================] - 8s 49ms/step - loss: 1.3284 - accuracy: 0.7001 - val_loss: 3.3826 - val_accuracy: 0.3382\n",
            "Epoch 4/50\n",
            "156/156 [==============================] - 8s 49ms/step - loss: 0.9048 - accuracy: 0.8089 - val_loss: 2.3246 - val_accuracy: 0.4594\n",
            "Epoch 5/50\n",
            "156/156 [==============================] - 8s 49ms/step - loss: 0.6160 - accuracy: 0.8777 - val_loss: 2.0534 - val_accuracy: 0.4892\n",
            "Epoch 6/50\n",
            "156/156 [==============================] - 8s 49ms/step - loss: 0.4248 - accuracy: 0.9225 - val_loss: 2.2409 - val_accuracy: 0.4570\n",
            "Epoch 7/50\n",
            "156/156 [==============================] - 8s 49ms/step - loss: 0.2987 - accuracy: 0.9478 - val_loss: 2.1649 - val_accuracy: 0.4884\n",
            "Epoch 8/50\n",
            "156/156 [==============================] - 8s 49ms/step - loss: 0.2142 - accuracy: 0.9647 - val_loss: 2.2719 - val_accuracy: 0.4940\n",
            "Epoch 9/50\n",
            "156/156 [==============================] - 8s 49ms/step - loss: 0.1527 - accuracy: 0.9769 - val_loss: 2.1550 - val_accuracy: 0.5092\n",
            "Epoch 10/50\n",
            "156/156 [==============================] - 8s 49ms/step - loss: 0.1140 - accuracy: 0.9825 - val_loss: 2.1713 - val_accuracy: 0.4996\n",
            "Epoch 11/50\n",
            "156/156 [==============================] - 8s 49ms/step - loss: 0.0891 - accuracy: 0.9845 - val_loss: 2.9349 - val_accuracy: 0.4120\n",
            "Epoch 12/50\n",
            "156/156 [==============================] - 8s 49ms/step - loss: 0.0782 - accuracy: 0.9843 - val_loss: 2.5065 - val_accuracy: 0.4651\n",
            "Epoch 13/50\n",
            "156/156 [==============================] - 8s 49ms/step - loss: 0.0616 - accuracy: 0.9874 - val_loss: 2.5995 - val_accuracy: 0.4643\n",
            "Epoch 14/50\n",
            "156/156 [==============================] - 8s 48ms/step - loss: 0.0579 - accuracy: 0.9876 - val_loss: 2.4333 - val_accuracy: 0.4996\n",
            "Epoch 15/50\n",
            "156/156 [==============================] - 8s 49ms/step - loss: 0.0508 - accuracy: 0.9900 - val_loss: 2.4216 - val_accuracy: 0.4972\n",
            "Epoch 16/50\n",
            "156/156 [==============================] - 8s 49ms/step - loss: 0.0484 - accuracy: 0.9904 - val_loss: 2.6575 - val_accuracy: 0.4988\n",
            "Epoch 17/50\n",
            "156/156 [==============================] - 8s 49ms/step - loss: 0.0666 - accuracy: 0.9867 - val_loss: 3.1755 - val_accuracy: 0.4506\n",
            "Epoch 18/50\n",
            "156/156 [==============================] - 8s 49ms/step - loss: 0.1064 - accuracy: 0.9733 - val_loss: 3.2224 - val_accuracy: 0.4369\n",
            "Epoch 19/50\n",
            "156/156 [==============================] - 8s 49ms/step - loss: 0.1371 - accuracy: 0.9657 - val_loss: 2.9854 - val_accuracy: 0.4659\n",
            "Epoch 20/50\n",
            "156/156 [==============================] - 8s 49ms/step - loss: 0.1244 - accuracy: 0.9739 - val_loss: 3.2774 - val_accuracy: 0.4378\n",
            "Epoch 21/50\n",
            "156/156 [==============================] - 8s 48ms/step - loss: 0.0787 - accuracy: 0.9851 - val_loss: 2.9060 - val_accuracy: 0.4819\n",
            "Epoch 22/50\n",
            "156/156 [==============================] - 8s 48ms/step - loss: 0.0537 - accuracy: 0.9916 - val_loss: 2.9610 - val_accuracy: 0.4699\n",
            "Epoch 23/50\n",
            "156/156 [==============================] - 8s 48ms/step - loss: 0.0403 - accuracy: 0.9924 - val_loss: 2.8108 - val_accuracy: 0.4940\n",
            "Epoch 24/50\n",
            "156/156 [==============================] - 8s 49ms/step - loss: 0.0266 - accuracy: 0.9948 - val_loss: 2.8425 - val_accuracy: 0.4876\n",
            "Epoch 25/50\n",
            "156/156 [==============================] - 8s 48ms/step - loss: 0.0222 - accuracy: 0.9962 - val_loss: 2.9613 - val_accuracy: 0.4835\n",
            "Epoch 26/50\n",
            "156/156 [==============================] - 8s 53ms/step - loss: 0.0199 - accuracy: 0.9964 - val_loss: 2.5706 - val_accuracy: 0.5157\n",
            "Epoch 27/50\n",
            "156/156 [==============================] - 8s 48ms/step - loss: 0.0169 - accuracy: 0.9964 - val_loss: 2.5855 - val_accuracy: 0.5084\n",
            "Epoch 28/50\n",
            "156/156 [==============================] - 8s 48ms/step - loss: 0.0159 - accuracy: 0.9972 - val_loss: 2.5705 - val_accuracy: 0.5261\n",
            "Epoch 29/50\n",
            "156/156 [==============================] - 8s 49ms/step - loss: 0.0129 - accuracy: 0.9986 - val_loss: 2.6978 - val_accuracy: 0.5229\n",
            "Epoch 30/50\n",
            "156/156 [==============================] - 8s 49ms/step - loss: 0.0111 - accuracy: 0.9982 - val_loss: 2.9336 - val_accuracy: 0.5149\n",
            "Epoch 31/50\n",
            "156/156 [==============================] - 8s 48ms/step - loss: 0.0086 - accuracy: 0.9994 - val_loss: 2.8095 - val_accuracy: 0.5157\n",
            "Epoch 32/50\n",
            "156/156 [==============================] - 8s 53ms/step - loss: 0.0080 - accuracy: 0.9990 - val_loss: 2.9206 - val_accuracy: 0.5052\n",
            "Epoch 33/50\n",
            "156/156 [==============================] - 8s 48ms/step - loss: 0.0084 - accuracy: 0.9988 - val_loss: 2.7180 - val_accuracy: 0.5141\n",
            "Epoch 34/50\n",
            "156/156 [==============================] - 8s 48ms/step - loss: 0.0071 - accuracy: 0.9990 - val_loss: 2.7853 - val_accuracy: 0.5213\n",
            "Epoch 35/50\n",
            "156/156 [==============================] - 8s 49ms/step - loss: 0.0068 - accuracy: 0.9992 - val_loss: 3.1004 - val_accuracy: 0.5076\n",
            "Epoch 36/50\n",
            "156/156 [==============================] - 8s 49ms/step - loss: 0.0089 - accuracy: 0.9990 - val_loss: 2.8994 - val_accuracy: 0.4924\n",
            "Epoch 37/50\n",
            "156/156 [==============================] - 8s 48ms/step - loss: 0.0135 - accuracy: 0.9974 - val_loss: 3.3775 - val_accuracy: 0.4281\n",
            "Epoch 38/50\n",
            "156/156 [==============================] - 8s 48ms/step - loss: 0.5252 - accuracy: 0.8569 - val_loss: 5.0534 - val_accuracy: 0.3703\n",
            "Epoch 39/50\n",
            "156/156 [==============================] - 8s 48ms/step - loss: 0.3081 - accuracy: 0.9093 - val_loss: 3.3852 - val_accuracy: 0.4474\n",
            "Epoch 40/50\n",
            "156/156 [==============================] - 8s 48ms/step - loss: 0.1060 - accuracy: 0.9753 - val_loss: 2.9954 - val_accuracy: 0.4675\n",
            "Epoch 41/50\n",
            "156/156 [==============================] - 8s 49ms/step - loss: 0.0372 - accuracy: 0.9940 - val_loss: 3.0214 - val_accuracy: 0.4795\n",
            "Epoch 42/50\n",
            "156/156 [==============================] - 8s 48ms/step - loss: 0.0167 - accuracy: 0.9986 - val_loss: 2.9987 - val_accuracy: 0.4859\n",
            "Epoch 43/50\n",
            "156/156 [==============================] - 8s 49ms/step - loss: 0.0093 - accuracy: 0.9994 - val_loss: 3.0202 - val_accuracy: 0.4908\n",
            "Epoch 44/50\n",
            "156/156 [==============================] - 8s 48ms/step - loss: 0.0063 - accuracy: 0.9998 - val_loss: 3.0513 - val_accuracy: 0.4892\n",
            "Epoch 45/50\n",
            "156/156 [==============================] - 8s 48ms/step - loss: 0.0054 - accuracy: 0.9996 - val_loss: 3.0616 - val_accuracy: 0.4916\n",
            "Epoch 46/50\n",
            "156/156 [==============================] - 8s 48ms/step - loss: 0.0039 - accuracy: 1.0000 - val_loss: 3.0941 - val_accuracy: 0.4859\n",
            "Epoch 47/50\n",
            "156/156 [==============================] - 8s 48ms/step - loss: 0.0031 - accuracy: 1.0000 - val_loss: 3.1140 - val_accuracy: 0.4859\n",
            "Epoch 48/50\n",
            "156/156 [==============================] - 8s 48ms/step - loss: 0.0027 - accuracy: 1.0000 - val_loss: 3.1453 - val_accuracy: 0.4859\n",
            "Epoch 49/50\n",
            "156/156 [==============================] - 8s 49ms/step - loss: 0.0023 - accuracy: 1.0000 - val_loss: 3.1713 - val_accuracy: 0.4867\n",
            "Epoch 50/50\n",
            "156/156 [==============================] - 7s 48ms/step - loss: 0.0020 - accuracy: 1.0000 - val_loss: 3.1961 - val_accuracy: 0.4859\n"
          ]
        }
      ]
    },
    {
      "cell_type": "code",
      "metadata": {
        "colab": {
          "base_uri": "https://localhost:8080/",
          "height": 499
        },
        "id": "f1z_vHocu59c",
        "outputId": "0705b0ef-65d1-4312-bd2c-90a5f7098f0e"
      },
      "source": [
        "acc = history.history['accuracy']\n",
        "val_acc = history.history['val_accuracy']\n",
        "\n",
        "loss=history.history['loss']\n",
        "val_loss=history.history['val_loss']\n",
        "\n",
        "epochs_range = range(epochs)\n",
        "\n",
        "plt.figure(figsize=(8, 8))\n",
        "plt.subplot(1, 2, 1)\n",
        "plt.plot(epochs_range, acc, label='Training Accuracy')\n",
        "plt.plot(epochs_range, val_acc, label='Validation Accuracy')\n",
        "plt.legend(loc='lower right')\n",
        "plt.title('Training and Validation Accuracy')\n",
        "\n",
        "plt.subplot(1, 2, 2)\n",
        "plt.plot(epochs_range, loss, label='Training Loss')\n",
        "plt.plot(epochs_range, val_loss, label='Validation Loss')\n",
        "plt.legend(loc='upper right')\n",
        "plt.title('Training and Validation Loss')\n",
        "plt.show()"
      ],
      "execution_count": null,
      "outputs": [
        {
          "output_type": "display_data",
          "data": {
            "image/png": "[encoded data removed]",
            "text/plain": [
              "<Figure size 576x576 with 2 Axes>"
            ]
          },
          "metadata": {
            "needs_background": "light"
          }
        }
      ]
    },
    {
      "cell_type": "code",
      "metadata": {
        "id": "XinJ6xXD9YNO"
      },
      "source": [
        "data_augmentation = keras.Sequential(\n",
        "  [\n",
        "    layers.experimental.preprocessing.RandomFlip(\"horizontal\", \n",
        "                                                 input_shape=(img_height, \n",
        "                                                              img_width,\n",
        "                                                              1)),\n",
        "    layers.experimental.preprocessing.RandomRotation(0.1),\n",
        "    layers.experimental.preprocessing.RandomZoom(0.1),\n",
        "  ]\n",
        ")"
      ],
      "execution_count": null,
      "outputs": []
    },
    {
      "cell_type": "code",
      "metadata": {
        "id": "8WT2BYElEYZj"
      },
      "source": [
        "model = Sequential([\n",
        "  data_augmentation,\n",
        "  layers.experimental.preprocessing.Rescaling(1./255),\n",
        "  layers.Conv2D(32, 3,input_shape = image_batch, activation='relu'),\n",
        "  layers.MaxPooling2D(),\n",
        "  layers.Conv2D(32, 3, padding='same', activation='relu'),\n",
        "  layers.MaxPooling2D(),\n",
        "  layers.Conv2D(32, 3, padding='same', activation='relu'),\n",
        "  layers.MaxPooling2D(),\n",
        "  layers.Dropout(0.2),\n",
        "  layers.Flatten(),\n",
        "  BatchNormalization(),\n",
        "  layers.Dense(107, activation='softmax'),\n",
        "  BatchNormalization(),\n",
        "  layers.Dense(num_classes)\n",
        "])"
      ],
      "execution_count": null,
      "outputs": []
    },
    {
      "cell_type": "code",
      "metadata": {
        "id": "opOHP3auEdsw",
        "colab": {
          "base_uri": "https://localhost:8080/"
        },
        "outputId": "d4de362d-3344-4a92-a1b2-3111435c03a4"
      },
      "source": [
        "BatchNormalization(),model.compile(\n",
        "    optimizer='adam',\n",
        "    loss=tf.losses.SparseCategoricalCrossentropy(from_logits=True),\n",
        "    metrics=['accuracy'])"
      ],
      "execution_count": null,
      "outputs": [
        {
          "output_type": "execute_result",
          "data": {
            "text/plain": [
              "(<keras.layers.normalization.batch_normalization.BatchNormalization at 0x7f89c34df6d0>,\n",
              " None)"
            ]
          },
          "metadata": {},
          "execution_count": 19
        }
      ]
    },
    {
      "cell_type": "code",
      "metadata": {
        "colab": {
          "base_uri": "https://localhost:8080/"
        },
        "id": "3Ay4tlHlEfBX",
        "outputId": "b12c05e7-062d-4a7f-e36e-0a938fa8f7ef"
      },
      "source": [
        "model.summary()"
      ],
      "execution_count": null,
      "outputs": [
        {
          "output_type": "stream",
          "name": "stdout",
          "text": [
            "Model: \"sequential_2\"\n",
            "_________________________________________________________________\n",
            " Layer (type)                Output Shape              Param #   \n",
            "=================================================================\n",
            " sequential_1 (Sequential)   (None, 180, 180, 1)       0         \n",
            "                                                                 \n",
            " rescaling_2 (Rescaling)     (None, 180, 180, 1)       0         \n",
            "                                                                 \n",
            " conv2d_3 (Conv2D)           (None, 178, 178, 32)      320       \n",
            "                                                                 \n",
            " max_pooling2d_3 (MaxPooling  (None, 89, 89, 32)       0         \n",
            " 2D)                                                             \n",
            "                                                                 \n",
            " conv2d_4 (Conv2D)           (None, 89, 89, 32)        9248      \n",
            "                                                                 \n",
            " max_pooling2d_4 (MaxPooling  (None, 44, 44, 32)       0         \n",
            " 2D)                                                             \n",
            "                                                                 \n",
            " conv2d_5 (Conv2D)           (None, 44, 44, 32)        9248      \n",
            "                                                                 \n",
            " max_pooling2d_5 (MaxPooling  (None, 22, 22, 32)       0         \n",
            " 2D)                                                             \n",
            "                                                                 \n",
            " dropout (Dropout)           (None, 22, 22, 32)        0         \n",
            "                                                                 \n",
            " flatten_1 (Flatten)         (None, 15488)             0         \n",
            "                                                                 \n",
            " batch_normalization_2 (Batc  (None, 15488)            61952     \n",
            " hNormalization)                                                 \n",
            "                                                                 \n",
            " dense_2 (Dense)             (None, 107)               1657323   \n",
            "                                                                 \n",
            " batch_normalization_3 (Batc  (None, 107)              428       \n",
            " hNormalization)                                                 \n",
            "                                                                 \n",
            " dense_3 (Dense)             (None, 107)               11556     \n",
            "                                                                 \n",
            "=================================================================\n",
            "Total params: 1,750,075\n",
            "Trainable params: 1,718,885\n",
            "Non-trainable params: 31,190\n",
            "_________________________________________________________________\n"
          ]
        }
      ]
    },
    {
      "cell_type": "code",
      "metadata": {
        "colab": {
          "base_uri": "https://localhost:8080/"
        },
        "id": "Jc8rD_v9Ef41",
        "outputId": "c54218af-b22c-4af1-9ee4-88014ecc5bb7"
      },
      "source": [
        "epochs = 50\n",
        "history = model.fit(\n",
        "  train_ds,\n",
        "  validation_data=val_ds,\n",
        "  epochs=epochs\n",
        ")"
      ],
      "execution_count": null,
      "outputs": [
        {
          "output_type": "stream",
          "name": "stdout",
          "text": [
            "Epoch 1/50\n",
            "156/156 [==============================] - 11s 59ms/step - loss: 3.4928 - accuracy: 0.2676 - val_loss: 4.2685 - val_accuracy: 0.0980\n",
            "Epoch 2/50\n",
            "156/156 [==============================] - 9s 55ms/step - loss: 2.5369 - accuracy: 0.3686 - val_loss: 3.8370 - val_accuracy: 0.1157\n",
            "Epoch 3/50\n",
            "156/156 [==============================] - 9s 56ms/step - loss: 2.1878 - accuracy: 0.4262 - val_loss: 3.1539 - val_accuracy: 0.3438\n",
            "Epoch 4/50\n",
            "156/156 [==============================] - 9s 55ms/step - loss: 2.0087 - accuracy: 0.4521 - val_loss: 2.3244 - val_accuracy: 0.4177\n",
            "Epoch 5/50\n",
            "156/156 [==============================] - 9s 55ms/step - loss: 1.8806 - accuracy: 0.4850 - val_loss: 2.3001 - val_accuracy: 0.4080\n",
            "Epoch 6/50\n",
            "156/156 [==============================] - 8s 54ms/step - loss: 1.7739 - accuracy: 0.5013 - val_loss: 2.6489 - val_accuracy: 0.3944\n",
            "Epoch 7/50\n",
            "156/156 [==============================] - 9s 55ms/step - loss: 1.6505 - accuracy: 0.5254 - val_loss: 2.8618 - val_accuracy: 0.3606\n",
            "Epoch 8/50\n",
            "156/156 [==============================] - 9s 55ms/step - loss: 1.5752 - accuracy: 0.5453 - val_loss: 2.5653 - val_accuracy: 0.4193\n",
            "Epoch 9/50\n",
            "156/156 [==============================] - 8s 54ms/step - loss: 1.5322 - accuracy: 0.5445 - val_loss: 2.3497 - val_accuracy: 0.4378\n",
            "Epoch 10/50\n",
            "156/156 [==============================] - 8s 54ms/step - loss: 1.4584 - accuracy: 0.5670 - val_loss: 3.4170 - val_accuracy: 0.3526\n",
            "Epoch 11/50\n",
            "156/156 [==============================] - 8s 54ms/step - loss: 1.4131 - accuracy: 0.5782 - val_loss: 2.5343 - val_accuracy: 0.4233\n",
            "Epoch 12/50\n",
            "156/156 [==============================] - 8s 54ms/step - loss: 1.3839 - accuracy: 0.5830 - val_loss: 3.1171 - val_accuracy: 0.3831\n",
            "Epoch 13/50\n",
            "156/156 [==============================] - 8s 54ms/step - loss: 1.3213 - accuracy: 0.6039 - val_loss: 2.6327 - val_accuracy: 0.4217\n",
            "Epoch 14/50\n",
            "156/156 [==============================] - 8s 54ms/step - loss: 1.2909 - accuracy: 0.6037 - val_loss: 2.9491 - val_accuracy: 0.3968\n",
            "Epoch 15/50\n",
            "156/156 [==============================] - 8s 54ms/step - loss: 1.2654 - accuracy: 0.6093 - val_loss: 2.2750 - val_accuracy: 0.4707\n",
            "Epoch 16/50\n",
            "156/156 [==============================] - 8s 54ms/step - loss: 1.2588 - accuracy: 0.6232 - val_loss: 2.5650 - val_accuracy: 0.4321\n",
            "Epoch 17/50\n",
            "156/156 [==============================] - 9s 55ms/step - loss: 1.1725 - accuracy: 0.6406 - val_loss: 2.5996 - val_accuracy: 0.4281\n",
            "Epoch 18/50\n",
            "156/156 [==============================] - 8s 54ms/step - loss: 1.1789 - accuracy: 0.6318 - val_loss: 2.6707 - val_accuracy: 0.4313\n",
            "Epoch 19/50\n",
            "156/156 [==============================] - 9s 55ms/step - loss: 1.1256 - accuracy: 0.6471 - val_loss: 2.8018 - val_accuracy: 0.4378\n",
            "Epoch 20/50\n",
            "156/156 [==============================] - 9s 55ms/step - loss: 1.1036 - accuracy: 0.6637 - val_loss: 2.7410 - val_accuracy: 0.4450\n",
            "Epoch 21/50\n",
            "156/156 [==============================] - 9s 55ms/step - loss: 1.0936 - accuracy: 0.6653 - val_loss: 2.7958 - val_accuracy: 0.4466\n",
            "Epoch 22/50\n",
            "156/156 [==============================] - 9s 55ms/step - loss: 1.0858 - accuracy: 0.6619 - val_loss: 2.5587 - val_accuracy: 0.4683\n",
            "Epoch 23/50\n",
            "156/156 [==============================] - 8s 54ms/step - loss: 1.0622 - accuracy: 0.6720 - val_loss: 2.9197 - val_accuracy: 0.4635\n",
            "Epoch 24/50\n",
            "156/156 [==============================] - 8s 54ms/step - loss: 1.0434 - accuracy: 0.6766 - val_loss: 3.2763 - val_accuracy: 0.4120\n",
            "Epoch 25/50\n",
            "156/156 [==============================] - 8s 54ms/step - loss: 1.0180 - accuracy: 0.6705 - val_loss: 3.4387 - val_accuracy: 0.3992\n",
            "Epoch 26/50\n",
            "156/156 [==============================] - 8s 54ms/step - loss: 0.9701 - accuracy: 0.6966 - val_loss: 2.9783 - val_accuracy: 0.4458\n",
            "Epoch 27/50\n",
            "156/156 [==============================] - 8s 54ms/step - loss: 0.9562 - accuracy: 0.7017 - val_loss: 2.8598 - val_accuracy: 0.4442\n",
            "Epoch 28/50\n",
            "156/156 [==============================] - 9s 55ms/step - loss: 0.9264 - accuracy: 0.7067 - val_loss: 2.5120 - val_accuracy: 0.4884\n",
            "Epoch 29/50\n",
            "156/156 [==============================] - 8s 54ms/step - loss: 0.8971 - accuracy: 0.7147 - val_loss: 3.3795 - val_accuracy: 0.4225\n",
            "Epoch 30/50\n",
            "156/156 [==============================] - 8s 54ms/step - loss: 0.9105 - accuracy: 0.7143 - val_loss: 3.3995 - val_accuracy: 0.4241\n",
            "Epoch 31/50\n",
            "156/156 [==============================] - 8s 54ms/step - loss: 0.8835 - accuracy: 0.7238 - val_loss: 3.1212 - val_accuracy: 0.4353\n",
            "Epoch 32/50\n",
            "156/156 [==============================] - 8s 54ms/step - loss: 0.8904 - accuracy: 0.7240 - val_loss: 3.1814 - val_accuracy: 0.4369\n",
            "Epoch 33/50\n",
            "156/156 [==============================] - 9s 55ms/step - loss: 0.8734 - accuracy: 0.7139 - val_loss: 3.0186 - val_accuracy: 0.4450\n",
            "Epoch 34/50\n",
            "156/156 [==============================] - 8s 54ms/step - loss: 0.8562 - accuracy: 0.7262 - val_loss: 3.2646 - val_accuracy: 0.4257\n",
            "Epoch 35/50\n",
            "156/156 [==============================] - 8s 54ms/step - loss: 0.8670 - accuracy: 0.7227 - val_loss: 3.4405 - val_accuracy: 0.4378\n",
            "Epoch 36/50\n",
            "156/156 [==============================] - 8s 54ms/step - loss: 0.8439 - accuracy: 0.7322 - val_loss: 3.4220 - val_accuracy: 0.4281\n",
            "Epoch 37/50\n",
            "156/156 [==============================] - 8s 54ms/step - loss: 0.8040 - accuracy: 0.7432 - val_loss: 3.0875 - val_accuracy: 0.4635\n",
            "Epoch 38/50\n",
            "156/156 [==============================] - 8s 54ms/step - loss: 0.7955 - accuracy: 0.7418 - val_loss: 3.3775 - val_accuracy: 0.4386\n",
            "Epoch 39/50\n",
            "156/156 [==============================] - 8s 54ms/step - loss: 0.7718 - accuracy: 0.7513 - val_loss: 3.4075 - val_accuracy: 0.4273\n",
            "Epoch 40/50\n",
            "156/156 [==============================] - 9s 55ms/step - loss: 0.7637 - accuracy: 0.7561 - val_loss: 3.5236 - val_accuracy: 0.4120\n",
            "Epoch 41/50\n",
            "156/156 [==============================] - 9s 55ms/step - loss: 0.7544 - accuracy: 0.7633 - val_loss: 3.4567 - val_accuracy: 0.4329\n",
            "Epoch 42/50\n",
            "156/156 [==============================] - 8s 54ms/step - loss: 0.7657 - accuracy: 0.7571 - val_loss: 2.8326 - val_accuracy: 0.4811\n",
            "Epoch 43/50\n",
            "156/156 [==============================] - 9s 55ms/step - loss: 0.7320 - accuracy: 0.7669 - val_loss: 3.1687 - val_accuracy: 0.4434\n",
            "Epoch 44/50\n",
            "156/156 [==============================] - 8s 54ms/step - loss: 0.7605 - accuracy: 0.7494 - val_loss: 3.4085 - val_accuracy: 0.4426\n",
            "Epoch 45/50\n",
            "156/156 [==============================] - 9s 55ms/step - loss: 0.6960 - accuracy: 0.7794 - val_loss: 2.7510 - val_accuracy: 0.4884\n",
            "Epoch 46/50\n",
            "156/156 [==============================] - 8s 54ms/step - loss: 0.7018 - accuracy: 0.7713 - val_loss: 3.4751 - val_accuracy: 0.4217\n",
            "Epoch 47/50\n",
            "156/156 [==============================] - 9s 55ms/step - loss: 0.7138 - accuracy: 0.7659 - val_loss: 2.9424 - val_accuracy: 0.4763\n",
            "Epoch 48/50\n",
            "156/156 [==============================] - 9s 55ms/step - loss: 0.6997 - accuracy: 0.7719 - val_loss: 4.0263 - val_accuracy: 0.3992\n",
            "Epoch 49/50\n",
            "156/156 [==============================] - 8s 54ms/step - loss: 0.7129 - accuracy: 0.7659 - val_loss: 3.0451 - val_accuracy: 0.4610\n",
            "Epoch 50/50\n",
            "156/156 [==============================] - 9s 55ms/step - loss: 0.6639 - accuracy: 0.7844 - val_loss: 3.3663 - val_accuracy: 0.4522\n"
          ]
        }
      ]
    },
    {
      "cell_type": "code",
      "metadata": {
        "colab": {
          "base_uri": "https://localhost:8080/",
          "height": 499
        },
        "id": "ynhS2KjVEhj8",
        "outputId": "138acadc-98bd-4eed-a6a9-82abd3199d7c"
      },
      "source": [
        "acc = history.history['accuracy']\n",
        "val_acc = history.history['val_accuracy']\n",
        "\n",
        "loss = history.history['loss']\n",
        "val_loss = history.history['val_loss']\n",
        "\n",
        "epochs_range = range(epochs)\n",
        "\n",
        "plt.figure(figsize=(8, 8))\n",
        "plt.subplot(1, 2, 1)\n",
        "plt.plot(epochs_range, acc, label='Training Accuracy')\n",
        "plt.plot(epochs_range, val_acc, label='Validation Accuracy')\n",
        "plt.legend(loc='lower right')\n",
        "plt.title('Training and Validation Accuracy')\n",
        "\n",
        "plt.subplot(1, 2, 2)\n",
        "plt.plot(epochs_range, loss, label='Training Loss')\n",
        "plt.plot(epochs_range, val_loss, label='Validation Loss')\n",
        "plt.legend(loc='upper right')\n",
        "plt.title('Training and Validation Loss')\n",
        "plt.show()"
      ],
      "execution_count": null,
      "outputs": [
        {
          "output_type": "display_data",
          "data": {
            "image/png": "[encoded data removed]",
            "text/plain": [
              "<Figure size 576x576 with 2 Axes>"
            ]
          },
          "metadata": {
            "needs_background": "light"
          }
        }
      ]
    },
    {
      "cell_type": "code",
      "metadata": {
        "colab": {
          "base_uri": "https://localhost:8080/"
        },
        "id": "IbEQMrsAH2yZ",
        "outputId": "e1cb07b9-8603-49f6-c3e9-41bf67bb12f3"
      },
      "source": [
        "model.compile(\n",
        "    optimizer='adam',\n",
        "    loss=tf.losses.SparseCategoricalCrossentropy(from_logits=True),\n",
        "    metrics=['accuracy'])\n",
        "model.summary()"
      ],
      "execution_count": null,
      "outputs": [
        {
          "output_type": "stream",
          "name": "stdout",
          "text": [
            "Model: \"sequential_2\"\n",
            "_________________________________________________________________\n",
            " Layer (type)                Output Shape              Param #   \n",
            "=================================================================\n",
            " sequential_1 (Sequential)   (None, 180, 180, 1)       0         \n",
            "                                                                 \n",
            " rescaling_2 (Rescaling)     (None, 180, 180, 1)       0         \n",
            "                                                                 \n",
            " conv2d_3 (Conv2D)           (None, 178, 178, 32)      320       \n",
            "                                                                 \n",
            " max_pooling2d_3 (MaxPooling  (None, 89, 89, 32)       0         \n",
            " 2D)                                                             \n",
            "                                                                 \n",
            " conv2d_4 (Conv2D)           (None, 89, 89, 32)        9248      \n",
            "                                                                 \n",
            " max_pooling2d_4 (MaxPooling  (None, 44, 44, 32)       0         \n",
            " 2D)                                                             \n",
            "                                                                 \n",
            " conv2d_5 (Conv2D)           (None, 44, 44, 32)        9248      \n",
            "                                                                 \n",
            " max_pooling2d_5 (MaxPooling  (None, 22, 22, 32)       0         \n",
            " 2D)                                                             \n",
            "                                                                 \n",
            " dropout (Dropout)           (None, 22, 22, 32)        0         \n",
            "                                                                 \n",
            " flatten_1 (Flatten)         (None, 15488)             0         \n",
            "                                                                 \n",
            " batch_normalization_2 (Batc  (None, 15488)            61952     \n",
            " hNormalization)                                                 \n",
            "                                                                 \n",
            " dense_2 (Dense)             (None, 107)               1657323   \n",
            "                                                                 \n",
            " batch_normalization_3 (Batc  (None, 107)              428       \n",
            " hNormalization)                                                 \n",
            "                                                                 \n",
            " dense_3 (Dense)             (None, 107)               11556     \n",
            "                                                                 \n",
            "=================================================================\n",
            "Total params: 1,750,075\n",
            "Trainable params: 1,718,885\n",
            "Non-trainable params: 31,190\n",
            "_________________________________________________________________\n"
          ]
        }
      ]
    },
    {
      "cell_type": "code",
      "metadata": {
        "id": "df30HUqFjWre"
      },
      "source": [
        ""
      ],
      "execution_count": null,
      "outputs": []
    }
  ]
}