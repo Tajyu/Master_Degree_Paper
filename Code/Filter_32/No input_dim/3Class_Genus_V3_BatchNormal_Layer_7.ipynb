{
  "nbformat": 4,
  "nbformat_minor": 0,
  "metadata": {
    "colab": {
      "name": "3Class_Genus_V3_BatchNormal_Layer_7.ipynb",
      "provenance": [],
      "collapsed_sections": [],
      "mount_file_id": "12XKeiuAhMrBmgGdUv34lCiELmJqz8yGq",
      "authorship_tag": "ABX9TyP/+jdbjAYyRfwYnM4qrPfW",
      "include_colab_link": true
    },
    "kernelspec": {
      "name": "python3",
      "display_name": "Python 3"
    },
    "language_info": {
      "name": "python"
    },
    "accelerator": "GPU"
  },
  "cells": [
    {
      "cell_type": "markdown",
      "metadata": {
        "id": "view-in-github",
        "colab_type": "text"
      },
      "source": [
        "<a href=\"https://colab.research.google.com/github/Tajyu/Master_Degree_Paper/blob/main/Code/Filter_32/No%20input_dim/3Class_Genus_V3_BatchNormal_Layer_7.ipynb\" target=\"_parent\"><img src=\"https://colab.research.google.com/assets/colab-badge.svg\" alt=\"Open In Colab\"/></a>"
      ]
    },
    {
      "cell_type": "code",
      "metadata": {
        "id": "yWckd06_68Em"
      },
      "source": [
        "import tensorflow as tf\n",
        "from tensorflow.keras import datasets, layers, models\n",
        "from keras.preprocessing.image import ImageDataGenerator\n",
        "import numpy as np\n",
        "import matplotlib.pyplot as plt\n",
        "import cv2 as cv\n",
        "import os\n",
        "import pathlib\n",
        "import PIL\n",
        "from tensorflow import keras\n",
        "from tensorflow.keras import layers\n",
        "from tensorflow.keras.models import Sequential\n",
        "from tensorflow.keras.layers import Dense, Flatten, BatchNormalization, Dropout"
      ],
      "execution_count": null,
      "outputs": []
    },
    {
      "cell_type": "code",
      "metadata": {
        "id": "xav9zirHttk_"
      },
      "source": [
        "image_list = os.listdir('/content/drive/MyDrive/Colab Notebooks/Final_Project/Cell_Genus')"
      ],
      "execution_count": null,
      "outputs": []
    },
    {
      "cell_type": "code",
      "metadata": {
        "colab": {
          "base_uri": "https://localhost:8080/"
        },
        "id": "K-wD0dM5tx_E",
        "outputId": "7db4d704-d5f7-4d95-ac2e-17b234106e13"
      },
      "source": [
        "print(image_list)"
      ],
      "execution_count": null,
      "outputs": [
        {
          "output_type": "stream",
          "name": "stdout",
          "text": [
            "['10_Genus_Stauroneis_Ehrenberg', '10_Genus_Staurosira_Ehrenberg', '11_Genus_Craspedostauros_E.J_Cox_1999', '11_Genus_Staurosirella_Williams_and_Round', '12_Genus_Caloneis_Cleve_1894', '12_Genus_Synedra_Ehrenberg', '13_Genus_Pinnularia_Ehrenberg_1843', '1_Genus_Acanthoceras_Honigmann', '1_Genus_Achnanthes_Bory', '1_Genus_Actinocyclus_Ehrenberg', '1_Genus_Aphanocapsa_Nageli_1849', '1_Genus_Asterionella_Hassall', '1_Genus_Aulacoseira', '1_Genus_Biremis_Mann_et_Cox_in_Round_Crawford_and_Mann', '1_Genus_Characium_A_Braun_in_Kutzing_1849', '1_Genus_Chroococcus_Nageli', '1_Genus_Closterium_Nitzsch_ex_Ralfs_1848', '1_Genus_Coelastrum_Nageli_1849', '1_Genus_Cylindrocystis_Meneghini_ex_de_Bary_1858', '1_Genus_Dictyosphaerium_Nageli_1849', '1_Genus_Docidium_Brebisson_ex_Ralfs_1848', '1_Genus_Eunotia_Ehrenberg', '1_Genus_Geitlerinema_(Anagnostidis_et_Komarek)_Anagnostidis_1989', '1_Genus_Gonatozygon_de_Bary_1856', '1_Genus_Hydrodictyon_Roth_1797', '1_Genus_Hydrosera_whampoensis', '1_Genus_Jaaginema_Anagnostidis_et_Komarek_1988', '1_Genus_Lyngbya_C_Agardh_ex_Gomont_1892', '1_Genus_Melosira_Agardh', '1_Genus_Micractinium_Fresenius_1858', '1_Genus_Micrasterias_Ralfs_1848', '1_Genus_Microcystis_Kutzing_ex_Lemmermann_1907', '1_Genus_Oscillatoria_Vaucher_ex_Gomont_1982', '1_Genus_Pediastrum_Meyen_1829', '1_Genus_Penium_Brebisson_ex_Ralfs_in_Ralfs_1848', '1_Genus_Phormidium_Kutzing_ex_Gomont_1892', '1_Genus_Planktothrix_Anagnostidis_et_Komarek_1988', '1_Genus_Pleurosira_laevis_(Ehrenberg)', '1_Genus_Rhizosolenia_Ehrenberg', '1_Genus_Schizochlamydella_Korshikov_1953', '1_Genus_Staurodesmus_Teiling_1848', '1_Genus_Trochiscia_Kutzing_1834', '1_Scenedesmus_Hegewald_1978', '2_Acutodesmus_Hegewald_1978', '2_Genus_Achnanthidium_Kutzing', '2_Genus_Actinastrum_Lagerheim_1882', '2_Genus_Actinella_Lewis', '2_Genus_Ankyra_Fott_1957', '2_Genus_Caloneis_Cleve', '2_Genus_Chaetoceros_Ehrenberg', '2_Genus_Coenochloris_Korshikov_1953', '2_Genus_Cyclotella', '2_Genus_Diatoma_Bory', '2_Genus_Dimorphococcus_A_Braun_1855', '2_Genus_Golenkinia_Chodat_1894', '2_Genus_Haplotaenium_Bando_1988', '2_Genus_Leibleinia_(Gomont)_L_Hoffman_1985', '2_Genus_Leptolyngbya_Anagnostidis_et_Komarek_1988', '2_Genus_Merismopedia_Meyen_1839', '2_Genus_Netrium_(Nageli)_Itzigsohn_et_Rothe_in_Rabenhorst_1856', '2_Genus_Orthoseira_Thwaites_1848', '2_Genus_Phormidium_Kutzing_ex_Gomont_1892', '2_Genus_Sorastrum_Kutzing_1845', '2_Genus_Staurastrum_Meyen_ex_Ralfs_1848', '3_Desmodesmus_Chodat_1926', '3_Genus_Acanthosphaera_Lemmerman_1899', '3_Genus_Anorthoneis_Grunow', '3_Genus_Cyclostephanos_Round', '3_Genus_Dichotomococcus_Korshikov_1928', '3_Genus_Heteroleibleinia_(Geitler)_L_Hoffmann_1985', '3_Genus_Limnothrix_Meffert_1988', '3_Genus_Meridion_Agardh', '3_Genus_Paradoxia_Svirenko_1928', '3_Genus_Peronia_Bebisson_and_Arnott_ex_Kitton', '3_Genus_Phormidiochaete_Komarek_in_Anagnostidis_2001', '3_Genus_Pinnularia_Ehrenberg_1', '3_Genus_Pleurotaenium_Nageli_1849', '3_Genus_Radiococcus_Schmidle_1902', '3_Genus_Snowella_Elenkin_1938', '3_Genus_Spirotaenia_Brebisson_in_Ralfs_1848', '4_Genus_Botryococcus_Kutzing_1849', '4_Genus_Cocconeis_Ehrenberg', '4_Genus_Eutetramorus_Walton_1918', '4_Genus_Leptolyngbya_Anagnostidis_et_Komarek_1988', '4_Genus_Opephora_Petit', '4_Genus_Pinnularia_Ehrenberg_2', '4_Genus_Schroederia_Lemmermann_1898', '4_Genus_Stephanodiscus_Ehrenberg', '4_Genus_Synechocystis_Sauvageau_1892', '4_Genus_Tortitaenia_A_J_Brook_1998', '5_Genus_Caloneis_Cleve', '5_Genus_Coenocystis_Korshikov_1953', '5_Genus_Planktolyngbya_Anagnostidis_et_Komarek_1988', '5_Genus_Tabellaria_Ehrenberg', '5_Genus_Thalassiosira_Cleve', '5_Genus_Woronichinia_Elenkin_1933', '6_Genus_Anomoeoneis_Pfitzer', '6_Genus_Fragilaria_Lyngbye', '6_Genus_Gloeocystis_Nageli_1849', '6_Genus_Pseudanabaena_Lauterborn_1915', '6_Genus_Skeletonema_Greville', '7_Genus_Caloneis_Cleve', '7_Genus_Hannaea_Patrick', '8_Genus_Diploneis(Ehrenberg)_Cleve', '8_Genus_Pseudostaurosira_Williams_and_Round', '9_Genus_Neidium_Pfitzer', '9_Genus_Punctastriata_Williams_and_Round']\n"
          ]
        }
      ]
    },
    {
      "cell_type": "code",
      "metadata": {
        "id": "o-0DvzEHt8VE"
      },
      "source": [
        "data_generator = ImageDataGenerator(rescale = 1./255)\n",
        "\n",
        "data_dir = \"/content/drive/MyDrive/Colab Notebooks/Final_Project/Cell_Genus\""
      ],
      "execution_count": null,
      "outputs": []
    },
    {
      "cell_type": "code",
      "metadata": {
        "id": "7aTCfEm3t10n"
      },
      "source": [
        "batch_size = 32\n",
        "img_height = 180\n",
        "img_width = 180"
      ],
      "execution_count": null,
      "outputs": []
    },
    {
      "cell_type": "code",
      "metadata": {
        "id": "9Smg-miEt22s",
        "colab": {
          "base_uri": "https://localhost:8080/"
        },
        "outputId": "18a17231-1815-4076-b2ee-f1993a28b993"
      },
      "source": [
        "train_ds = tf.keras.preprocessing.image_dataset_from_directory(\n",
        "  data_dir,\n",
        "  color_mode = \"grayscale\",\n",
        "  validation_split=0.2,\n",
        "  subset=\"training\",\n",
        "  seed=123,\n",
        "  image_size=(img_height, img_width),\n",
        "  batch_size=batch_size)"
      ],
      "execution_count": null,
      "outputs": [
        {
          "output_type": "stream",
          "name": "stdout",
          "text": [
            "Found 6226 files belonging to 107 classes.\n",
            "Using 4981 files for training.\n"
          ]
        }
      ]
    },
    {
      "cell_type": "code",
      "metadata": {
        "id": "1nR0WdQGt44x",
        "colab": {
          "base_uri": "https://localhost:8080/"
        },
        "outputId": "7eb42234-6dd9-45c9-9988-52e35954e8b5"
      },
      "source": [
        "val_ds = tf.keras.preprocessing.image_dataset_from_directory(\n",
        "  data_dir,\n",
        "  color_mode = \"grayscale\",\n",
        "  validation_split=0.2,\n",
        "  subset=\"validation\",\n",
        "  seed=123,\n",
        "  image_size=(img_height, img_width),\n",
        "  batch_size=batch_size)"
      ],
      "execution_count": null,
      "outputs": [
        {
          "output_type": "stream",
          "name": "stdout",
          "text": [
            "Found 6226 files belonging to 107 classes.\n",
            "Using 1245 files for validation.\n"
          ]
        }
      ]
    },
    {
      "cell_type": "code",
      "metadata": {
        "id": "F-cz_CtGug8Y",
        "colab": {
          "base_uri": "https://localhost:8080/"
        },
        "outputId": "2ec55316-dcc4-4ebf-b1ba-bdcd72ed0d36"
      },
      "source": [
        "class_names = train_ds.class_names\n",
        "print(class_names)"
      ],
      "execution_count": null,
      "outputs": [
        {
          "output_type": "stream",
          "name": "stdout",
          "text": [
            "['10_Genus_Stauroneis_Ehrenberg', '10_Genus_Staurosira_Ehrenberg', '11_Genus_Craspedostauros_E.J_Cox_1999', '11_Genus_Staurosirella_Williams_and_Round', '12_Genus_Caloneis_Cleve_1894', '12_Genus_Synedra_Ehrenberg', '13_Genus_Pinnularia_Ehrenberg_1843', '1_Genus_Acanthoceras_Honigmann', '1_Genus_Achnanthes_Bory', '1_Genus_Actinocyclus_Ehrenberg', '1_Genus_Aphanocapsa_Nageli_1849', '1_Genus_Asterionella_Hassall', '1_Genus_Aulacoseira', '1_Genus_Biremis_Mann_et_Cox_in_Round_Crawford_and_Mann', '1_Genus_Characium_A_Braun_in_Kutzing_1849', '1_Genus_Chroococcus_Nageli', '1_Genus_Closterium_Nitzsch_ex_Ralfs_1848', '1_Genus_Coelastrum_Nageli_1849', '1_Genus_Cylindrocystis_Meneghini_ex_de_Bary_1858', '1_Genus_Dictyosphaerium_Nageli_1849', '1_Genus_Docidium_Brebisson_ex_Ralfs_1848', '1_Genus_Eunotia_Ehrenberg', '1_Genus_Geitlerinema_(Anagnostidis_et_Komarek)_Anagnostidis_1989', '1_Genus_Gonatozygon_de_Bary_1856', '1_Genus_Hydrodictyon_Roth_1797', '1_Genus_Hydrosera_whampoensis', '1_Genus_Jaaginema_Anagnostidis_et_Komarek_1988', '1_Genus_Lyngbya_C_Agardh_ex_Gomont_1892', '1_Genus_Melosira_Agardh', '1_Genus_Micractinium_Fresenius_1858', '1_Genus_Micrasterias_Ralfs_1848', '1_Genus_Microcystis_Kutzing_ex_Lemmermann_1907', '1_Genus_Oscillatoria_Vaucher_ex_Gomont_1982', '1_Genus_Pediastrum_Meyen_1829', '1_Genus_Penium_Brebisson_ex_Ralfs_in_Ralfs_1848', '1_Genus_Phormidium_Kutzing_ex_Gomont_1892', '1_Genus_Planktothrix_Anagnostidis_et_Komarek_1988', '1_Genus_Pleurosira_laevis_(Ehrenberg)', '1_Genus_Rhizosolenia_Ehrenberg', '1_Genus_Schizochlamydella_Korshikov_1953', '1_Genus_Staurodesmus_Teiling_1848', '1_Genus_Trochiscia_Kutzing_1834', '1_Scenedesmus_Hegewald_1978', '2_Acutodesmus_Hegewald_1978', '2_Genus_Achnanthidium_Kutzing', '2_Genus_Actinastrum_Lagerheim_1882', '2_Genus_Actinella_Lewis', '2_Genus_Ankyra_Fott_1957', '2_Genus_Caloneis_Cleve', '2_Genus_Chaetoceros_Ehrenberg', '2_Genus_Coenochloris_Korshikov_1953', '2_Genus_Cyclotella', '2_Genus_Diatoma_Bory', '2_Genus_Dimorphococcus_A_Braun_1855', '2_Genus_Golenkinia_Chodat_1894', '2_Genus_Haplotaenium_Bando_1988', '2_Genus_Leibleinia_(Gomont)_L_Hoffman_1985', '2_Genus_Leptolyngbya_Anagnostidis_et_Komarek_1988', '2_Genus_Merismopedia_Meyen_1839', '2_Genus_Netrium_(Nageli)_Itzigsohn_et_Rothe_in_Rabenhorst_1856', '2_Genus_Orthoseira_Thwaites_1848', '2_Genus_Phormidium_Kutzing_ex_Gomont_1892', '2_Genus_Sorastrum_Kutzing_1845', '2_Genus_Staurastrum_Meyen_ex_Ralfs_1848', '3_Desmodesmus_Chodat_1926', '3_Genus_Acanthosphaera_Lemmerman_1899', '3_Genus_Anorthoneis_Grunow', '3_Genus_Cyclostephanos_Round', '3_Genus_Dichotomococcus_Korshikov_1928', '3_Genus_Heteroleibleinia_(Geitler)_L_Hoffmann_1985', '3_Genus_Limnothrix_Meffert_1988', '3_Genus_Meridion_Agardh', '3_Genus_Paradoxia_Svirenko_1928', '3_Genus_Peronia_Bebisson_and_Arnott_ex_Kitton', '3_Genus_Phormidiochaete_Komarek_in_Anagnostidis_2001', '3_Genus_Pinnularia_Ehrenberg_1', '3_Genus_Pleurotaenium_Nageli_1849', '3_Genus_Radiococcus_Schmidle_1902', '3_Genus_Snowella_Elenkin_1938', '3_Genus_Spirotaenia_Brebisson_in_Ralfs_1848', '4_Genus_Botryococcus_Kutzing_1849', '4_Genus_Cocconeis_Ehrenberg', '4_Genus_Eutetramorus_Walton_1918', '4_Genus_Leptolyngbya_Anagnostidis_et_Komarek_1988', '4_Genus_Opephora_Petit', '4_Genus_Pinnularia_Ehrenberg_2', '4_Genus_Schroederia_Lemmermann_1898', '4_Genus_Stephanodiscus_Ehrenberg', '4_Genus_Synechocystis_Sauvageau_1892', '4_Genus_Tortitaenia_A_J_Brook_1998', '5_Genus_Caloneis_Cleve', '5_Genus_Coenocystis_Korshikov_1953', '5_Genus_Planktolyngbya_Anagnostidis_et_Komarek_1988', '5_Genus_Tabellaria_Ehrenberg', '5_Genus_Thalassiosira_Cleve', '5_Genus_Woronichinia_Elenkin_1933', '6_Genus_Anomoeoneis_Pfitzer', '6_Genus_Fragilaria_Lyngbye', '6_Genus_Gloeocystis_Nageli_1849', '6_Genus_Pseudanabaena_Lauterborn_1915', '6_Genus_Skeletonema_Greville', '7_Genus_Caloneis_Cleve', '7_Genus_Hannaea_Patrick', '8_Genus_Diploneis(Ehrenberg)_Cleve', '8_Genus_Pseudostaurosira_Williams_and_Round', '9_Genus_Neidium_Pfitzer', '9_Genus_Punctastriata_Williams_and_Round']\n"
          ]
        }
      ]
    },
    {
      "cell_type": "code",
      "metadata": {
        "id": "5EQOikPAukic",
        "colab": {
          "base_uri": "https://localhost:8080/"
        },
        "outputId": "c359a907-8b35-4533-b023-5513e0fc84fb"
      },
      "source": [
        "for image_batch, labels_batch in train_ds:\n",
        "  print(image_batch.shape)\n",
        "  print(labels_batch.shape)\n",
        "  break"
      ],
      "execution_count": null,
      "outputs": [
        {
          "output_type": "stream",
          "name": "stdout",
          "text": [
            "(32, 180, 180, 1)\n",
            "(32,)\n"
          ]
        }
      ]
    },
    {
      "cell_type": "code",
      "metadata": {
        "id": "9eVl7tiDux9q"
      },
      "source": [
        "from tensorflow.keras import layers\n",
        "\n",
        "normalization_layer = tf.keras.layers.experimental.preprocessing.Rescaling(1./255)"
      ],
      "execution_count": null,
      "outputs": []
    },
    {
      "cell_type": "code",
      "metadata": {
        "id": "AiIrsxzZuzEo",
        "colab": {
          "base_uri": "https://localhost:8080/"
        },
        "outputId": "bd4fd454-5255-4bb0-81d9-784e4c38c623"
      },
      "source": [
        "normalized_ds = train_ds.map(lambda x, y: (normalization_layer(x), y))\n",
        "image_batch, labels_batch = next(iter(normalized_ds))\n",
        "first_image = image_batch[0]\n",
        "# Notice the pixels values are now in `[0,1]`.\n",
        "print(np.min(first_image), np.max(first_image))"
      ],
      "execution_count": null,
      "outputs": [
        {
          "output_type": "stream",
          "name": "stdout",
          "text": [
            "0.0 1.0\n"
          ]
        }
      ]
    },
    {
      "cell_type": "code",
      "metadata": {
        "id": "__WbVabru0Bp"
      },
      "source": [
        "AUTOTUNE = tf.data.experimental.AUTOTUNE\n",
        "\n",
        "train_ds = train_ds.cache().prefetch(buffer_size=AUTOTUNE)\n",
        "val_ds = val_ds.cache().prefetch(buffer_size=AUTOTUNE)"
      ],
      "execution_count": null,
      "outputs": []
    },
    {
      "cell_type": "code",
      "metadata": {
        "id": "g1GeYFXCu2gV"
      },
      "source": [
        "num_classes = 107\n",
        "model = tf.keras.Sequential([\n",
        "    layers.experimental.preprocessing.Rescaling(1./255),\n",
        "    layers.Conv2D(32, 3,input_shape = image_batch, activation='relu'),\n",
        "    layers.MaxPooling2D(),\n",
        "    layers.Conv2D(32, 3, activation='relu'),\n",
        "    layers.MaxPooling2D(),\n",
        "    layers.Conv2D(32, 3, activation='relu'),\n",
        "    layers.MaxPooling2D(),\n",
        "    layers.Flatten(),\n",
        "    BatchNormalization(),\n",
        "    layers.Dense(128, activation='relu'),\n",
        "    BatchNormalization(),\n",
        "    layers.Dense(128, activation='relu'),\n",
        "    BatchNormalization(),\n",
        "    layers.Dense(128, activation='relu'),\n",
        "    BatchNormalization(),\n",
        "    layers.Dense(128, activation='relu'),\n",
        "    BatchNormalization(),\n",
        "    layers.Dense(128, activation='relu'),\n",
        "    BatchNormalization(),\n",
        "    layers.Dense(128, activation='relu'),\n",
        "    BatchNormalization(),\n",
        "    layers.Dense(107, activation='softmax'),\n",
        "    BatchNormalization(),\n",
        "    layers.Dense(num_classes)\n",
        "    ])"
      ],
      "execution_count": null,
      "outputs": []
    },
    {
      "cell_type": "code",
      "metadata": {
        "id": "wU4xPAvNYWry"
      },
      "source": [
        "model.compile(\n",
        "    optimizer='adam',\n",
        "    loss=tf.losses.SparseCategoricalCrossentropy(from_logits=True),\n",
        "    metrics=['accuracy'])"
      ],
      "execution_count": null,
      "outputs": []
    },
    {
      "cell_type": "code",
      "metadata": {
        "id": "Tk8ssrbHu44p",
        "colab": {
          "base_uri": "https://localhost:8080/"
        },
        "outputId": "671675c6-5286-4c0d-fc6b-91b12a567460"
      },
      "source": [
        "epochs=50\n",
        "history = model.fit(\n",
        "  train_ds,\n",
        "  validation_data=val_ds,\n",
        "  epochs=epochs\n",
        ")"
      ],
      "execution_count": null,
      "outputs": [
        {
          "output_type": "stream",
          "name": "stdout",
          "text": [
            "Epoch 1/50\n",
            "156/156 [==============================] - 880s 6s/step - loss: 3.4998 - accuracy: 0.2668 - val_loss: 4.2555 - val_accuracy: 0.0980\n",
            "Epoch 2/50\n",
            "156/156 [==============================] - 3s 17ms/step - loss: 2.4125 - accuracy: 0.3929 - val_loss: 3.7337 - val_accuracy: 0.2506\n",
            "Epoch 3/50\n",
            "156/156 [==============================] - 3s 17ms/step - loss: 1.9544 - accuracy: 0.4864 - val_loss: 2.8937 - val_accuracy: 0.3952\n",
            "Epoch 4/50\n",
            "156/156 [==============================] - 3s 17ms/step - loss: 1.6338 - accuracy: 0.5591 - val_loss: 2.3474 - val_accuracy: 0.4104\n",
            "Epoch 5/50\n",
            "156/156 [==============================] - 3s 17ms/step - loss: 1.3967 - accuracy: 0.6204 - val_loss: 2.3913 - val_accuracy: 0.4177\n",
            "Epoch 6/50\n",
            "156/156 [==============================] - 3s 17ms/step - loss: 1.1494 - accuracy: 0.6900 - val_loss: 2.7119 - val_accuracy: 0.3783\n",
            "Epoch 7/50\n",
            "156/156 [==============================] - 3s 17ms/step - loss: 0.9314 - accuracy: 0.7492 - val_loss: 2.3700 - val_accuracy: 0.4763\n",
            "Epoch 8/50\n",
            "156/156 [==============================] - 3s 17ms/step - loss: 0.7784 - accuracy: 0.7884 - val_loss: 2.3541 - val_accuracy: 0.4723\n",
            "Epoch 9/50\n",
            "156/156 [==============================] - 3s 17ms/step - loss: 0.6496 - accuracy: 0.8217 - val_loss: 2.8362 - val_accuracy: 0.4378\n",
            "Epoch 10/50\n",
            "156/156 [==============================] - 3s 17ms/step - loss: 0.5380 - accuracy: 0.8540 - val_loss: 2.7518 - val_accuracy: 0.4442\n",
            "Epoch 11/50\n",
            "156/156 [==============================] - 3s 17ms/step - loss: 0.4152 - accuracy: 0.8916 - val_loss: 2.5672 - val_accuracy: 0.4851\n",
            "Epoch 12/50\n",
            "156/156 [==============================] - 3s 17ms/step - loss: 0.3292 - accuracy: 0.9147 - val_loss: 2.5080 - val_accuracy: 0.5068\n",
            "Epoch 13/50\n",
            "156/156 [==============================] - 3s 17ms/step - loss: 0.2606 - accuracy: 0.9362 - val_loss: 2.7333 - val_accuracy: 0.4892\n",
            "Epoch 14/50\n",
            "156/156 [==============================] - 3s 17ms/step - loss: 0.1994 - accuracy: 0.9504 - val_loss: 2.4517 - val_accuracy: 0.5430\n",
            "Epoch 15/50\n",
            "156/156 [==============================] - 3s 17ms/step - loss: 0.1774 - accuracy: 0.9570 - val_loss: 2.6082 - val_accuracy: 0.5173\n",
            "Epoch 16/50\n",
            "156/156 [==============================] - 3s 17ms/step - loss: 0.1673 - accuracy: 0.9582 - val_loss: 2.7472 - val_accuracy: 0.4980\n",
            "Epoch 17/50\n",
            "156/156 [==============================] - 3s 17ms/step - loss: 0.1390 - accuracy: 0.9685 - val_loss: 2.9640 - val_accuracy: 0.4876\n",
            "Epoch 18/50\n",
            "156/156 [==============================] - 3s 17ms/step - loss: 0.1437 - accuracy: 0.9609 - val_loss: 2.9573 - val_accuracy: 0.4908\n",
            "Epoch 19/50\n",
            "156/156 [==============================] - 3s 17ms/step - loss: 0.1647 - accuracy: 0.9560 - val_loss: 2.9993 - val_accuracy: 0.4972\n",
            "Epoch 20/50\n",
            "156/156 [==============================] - 3s 17ms/step - loss: 0.1933 - accuracy: 0.9462 - val_loss: 3.0226 - val_accuracy: 0.4964\n",
            "Epoch 21/50\n",
            "156/156 [==============================] - 3s 17ms/step - loss: 0.2017 - accuracy: 0.9458 - val_loss: 3.2099 - val_accuracy: 0.4811\n",
            "Epoch 22/50\n",
            "156/156 [==============================] - 3s 17ms/step - loss: 0.1342 - accuracy: 0.9611 - val_loss: 2.9840 - val_accuracy: 0.5100\n",
            "Epoch 23/50\n",
            "156/156 [==============================] - 3s 17ms/step - loss: 0.1051 - accuracy: 0.9715 - val_loss: 2.8683 - val_accuracy: 0.5406\n",
            "Epoch 24/50\n",
            "156/156 [==============================] - 3s 17ms/step - loss: 0.0588 - accuracy: 0.9876 - val_loss: 3.1042 - val_accuracy: 0.5157\n",
            "Epoch 25/50\n",
            "156/156 [==============================] - 3s 17ms/step - loss: 0.0338 - accuracy: 0.9940 - val_loss: 2.9644 - val_accuracy: 0.5293\n",
            "Epoch 26/50\n",
            "156/156 [==============================] - 3s 17ms/step - loss: 0.0274 - accuracy: 0.9944 - val_loss: 2.9217 - val_accuracy: 0.5414\n",
            "Epoch 27/50\n",
            "156/156 [==============================] - 3s 17ms/step - loss: 0.0219 - accuracy: 0.9964 - val_loss: 2.9529 - val_accuracy: 0.5422\n",
            "Epoch 28/50\n",
            "156/156 [==============================] - 3s 17ms/step - loss: 0.0150 - accuracy: 0.9980 - val_loss: 2.8914 - val_accuracy: 0.5390\n",
            "Epoch 29/50\n",
            "156/156 [==============================] - 3s 17ms/step - loss: 0.0097 - accuracy: 0.9992 - val_loss: 2.9377 - val_accuracy: 0.5518\n",
            "Epoch 30/50\n",
            "156/156 [==============================] - 3s 17ms/step - loss: 0.0096 - accuracy: 0.9988 - val_loss: 2.9835 - val_accuracy: 0.5494\n",
            "Epoch 31/50\n",
            "156/156 [==============================] - 3s 17ms/step - loss: 0.0053 - accuracy: 0.9998 - val_loss: 3.0548 - val_accuracy: 0.5478\n",
            "Epoch 32/50\n",
            "156/156 [==============================] - 3s 18ms/step - loss: 0.0175 - accuracy: 0.9968 - val_loss: 3.3461 - val_accuracy: 0.5189\n",
            "Epoch 33/50\n",
            "156/156 [==============================] - 3s 18ms/step - loss: 0.1470 - accuracy: 0.9600 - val_loss: 4.0762 - val_accuracy: 0.4257\n",
            "Epoch 34/50\n",
            "156/156 [==============================] - 3s 17ms/step - loss: 0.5615 - accuracy: 0.8470 - val_loss: 4.3608 - val_accuracy: 0.4064\n",
            "Epoch 35/50\n",
            "156/156 [==============================] - 3s 17ms/step - loss: 0.3293 - accuracy: 0.9034 - val_loss: 3.1912 - val_accuracy: 0.4867\n",
            "Epoch 36/50\n",
            "156/156 [==============================] - 3s 17ms/step - loss: 0.1259 - accuracy: 0.9661 - val_loss: 2.9315 - val_accuracy: 0.5116\n",
            "Epoch 37/50\n",
            "156/156 [==============================] - 3s 17ms/step - loss: 0.0363 - accuracy: 0.9938 - val_loss: 2.9180 - val_accuracy: 0.5341\n",
            "Epoch 38/50\n",
            "156/156 [==============================] - 3s 18ms/step - loss: 0.0149 - accuracy: 0.9984 - val_loss: 2.9460 - val_accuracy: 0.5301\n",
            "Epoch 39/50\n",
            "156/156 [==============================] - 3s 17ms/step - loss: 0.0141 - accuracy: 0.9982 - val_loss: 3.0085 - val_accuracy: 0.5301\n",
            "Epoch 40/50\n",
            "156/156 [==============================] - 3s 17ms/step - loss: 0.0081 - accuracy: 0.9996 - val_loss: 2.9487 - val_accuracy: 0.5454\n",
            "Epoch 41/50\n",
            "156/156 [==============================] - 3s 17ms/step - loss: 0.0042 - accuracy: 1.0000 - val_loss: 2.9682 - val_accuracy: 0.5462\n",
            "Epoch 42/50\n",
            "156/156 [==============================] - 3s 17ms/step - loss: 0.0033 - accuracy: 1.0000 - val_loss: 2.9896 - val_accuracy: 0.5454\n",
            "Epoch 43/50\n",
            "156/156 [==============================] - 3s 17ms/step - loss: 0.0029 - accuracy: 1.0000 - val_loss: 3.0133 - val_accuracy: 0.5462\n",
            "Epoch 44/50\n",
            "156/156 [==============================] - 3s 17ms/step - loss: 0.0025 - accuracy: 1.0000 - val_loss: 3.0358 - val_accuracy: 0.5454\n",
            "Epoch 45/50\n",
            "156/156 [==============================] - 3s 17ms/step - loss: 0.0022 - accuracy: 1.0000 - val_loss: 3.0589 - val_accuracy: 0.5446\n",
            "Epoch 46/50\n",
            "156/156 [==============================] - 3s 17ms/step - loss: 0.0020 - accuracy: 1.0000 - val_loss: 3.0805 - val_accuracy: 0.5454\n",
            "Epoch 47/50\n",
            "156/156 [==============================] - 3s 17ms/step - loss: 0.0018 - accuracy: 1.0000 - val_loss: 3.1030 - val_accuracy: 0.5454\n",
            "Epoch 48/50\n",
            "156/156 [==============================] - 3s 17ms/step - loss: 0.0016 - accuracy: 1.0000 - val_loss: 3.1242 - val_accuracy: 0.5462\n",
            "Epoch 49/50\n",
            "156/156 [==============================] - 3s 17ms/step - loss: 0.0014 - accuracy: 1.0000 - val_loss: 3.1463 - val_accuracy: 0.5446\n",
            "Epoch 50/50\n",
            "156/156 [==============================] - 3s 17ms/step - loss: 0.0013 - accuracy: 1.0000 - val_loss: 3.1671 - val_accuracy: 0.5454\n"
          ]
        }
      ]
    },
    {
      "cell_type": "code",
      "metadata": {
        "id": "f1z_vHocu59c",
        "colab": {
          "base_uri": "https://localhost:8080/",
          "height": 499
        },
        "outputId": "f6f70dab-297c-414c-cff5-7668f2322f38"
      },
      "source": [
        "acc = history.history['accuracy']\n",
        "val_acc = history.history['val_accuracy']\n",
        "\n",
        "loss=history.history['loss']\n",
        "val_loss=history.history['val_loss']\n",
        "\n",
        "epochs_range = range(epochs)\n",
        "\n",
        "plt.figure(figsize=(8, 8))\n",
        "plt.subplot(1, 2, 1)\n",
        "plt.plot(epochs_range, acc, label='Training Accuracy')\n",
        "plt.plot(epochs_range, val_acc, label='Validation Accuracy')\n",
        "plt.legend(loc='lower right')\n",
        "plt.title('Training and Validation Accuracy')\n",
        "\n",
        "plt.subplot(1, 2, 2)\n",
        "plt.plot(epochs_range, loss, label='Training Loss')\n",
        "plt.plot(epochs_range, val_loss, label='Validation Loss')\n",
        "plt.legend(loc='upper right')\n",
        "plt.title('Training and Validation Loss')\n",
        "plt.show()"
      ],
      "execution_count": null,
      "outputs": [
        {
          "output_type": "display_data",
          "data": {
            "image/png": "[encoded data removed]",
            "text/plain": [
              "<Figure size 576x576 with 2 Axes>"
            ]
          },
          "metadata": {
            "needs_background": "light"
          }
        }
      ]
    },
    {
      "cell_type": "code",
      "metadata": {
        "id": "XinJ6xXD9YNO"
      },
      "source": [
        "data_augmentation = keras.Sequential(\n",
        "  [\n",
        "    layers.experimental.preprocessing.RandomFlip(\"horizontal\", \n",
        "                                                 input_shape=(img_height, \n",
        "                                                              img_width,\n",
        "                                                              1)),\n",
        "    layers.experimental.preprocessing.RandomRotation(0.1),\n",
        "    layers.experimental.preprocessing.RandomZoom(0.1),\n",
        "  ]\n",
        ")"
      ],
      "execution_count": null,
      "outputs": []
    },
    {
      "cell_type": "code",
      "metadata": {
        "id": "8WT2BYElEYZj"
      },
      "source": [
        "model = Sequential([\n",
        "  data_augmentation,\n",
        "  layers.experimental.preprocessing.Rescaling(1./255),\n",
        "  layers.Conv2D(32, 3,input_shape = image_batch, activation='relu'),\n",
        "  layers.MaxPooling2D(),\n",
        "  layers.Conv2D(32, 3, padding='same', activation='relu'),\n",
        "  layers.MaxPooling2D(),\n",
        "  layers.Conv2D(32, 3, padding='same', activation='relu'),\n",
        "  layers.MaxPooling2D(),\n",
        "  layers.Dropout(0.2),\n",
        "  layers.Flatten(),\n",
        "  layers.Dense(128, activation='relu'),\n",
        "  BatchNormalization(),\n",
        "  layers.Dense(128, activation='relu'),\n",
        "  BatchNormalization(),\n",
        "  layers.Dense(128, activation='relu'),\n",
        "  BatchNormalization(),\n",
        "  layers.Dense(128, activation='relu'),\n",
        "  BatchNormalization(),\n",
        "  layers.Dense(128, activation='relu'),\n",
        "  BatchNormalization(),\n",
        "  layers.Dense(128, activation='relu'),\n",
        "  BatchNormalization(),\n",
        "  layers.Dense(107, activation='softmax'),\n",
        "  BatchNormalization(),\n",
        "  layers.Dense(num_classes)\n",
        "])"
      ],
      "execution_count": null,
      "outputs": []
    },
    {
      "cell_type": "code",
      "metadata": {
        "id": "opOHP3auEdsw",
        "colab": {
          "base_uri": "https://localhost:8080/"
        },
        "outputId": "cdc93b6a-6b7c-44d6-b83e-b4aa79fad24a"
      },
      "source": [
        "BatchNormalization(),model.compile(\n",
        "    optimizer='adam',\n",
        "    loss=tf.losses.SparseCategoricalCrossentropy(from_logits=True),\n",
        "    metrics=['accuracy'])"
      ],
      "execution_count": null,
      "outputs": [
        {
          "output_type": "execute_result",
          "data": {
            "text/plain": [
              "(<keras.layers.normalization.batch_normalization.BatchNormalization at 0x7fe3220c39d0>,\n",
              " None)"
            ]
          },
          "metadata": {},
          "execution_count": 19
        }
      ]
    },
    {
      "cell_type": "code",
      "metadata": {
        "id": "3Ay4tlHlEfBX",
        "colab": {
          "base_uri": "https://localhost:8080/"
        },
        "outputId": "723becc4-7e21-45ac-cd12-0f763524f910"
      },
      "source": [
        "model.summary()"
      ],
      "execution_count": null,
      "outputs": [
        {
          "output_type": "stream",
          "name": "stdout",
          "text": [
            "Model: \"sequential_2\"\n",
            "_________________________________________________________________\n",
            " Layer (type)                Output Shape              Param #   \n",
            "=================================================================\n",
            " sequential_1 (Sequential)   (None, 180, 180, 1)       0         \n",
            "                                                                 \n",
            " rescaling_2 (Rescaling)     (None, 180, 180, 1)       0         \n",
            "                                                                 \n",
            " conv2d_3 (Conv2D)           (None, 178, 178, 32)      320       \n",
            "                                                                 \n",
            " max_pooling2d_3 (MaxPooling  (None, 89, 89, 32)       0         \n",
            " 2D)                                                             \n",
            "                                                                 \n",
            " conv2d_4 (Conv2D)           (None, 89, 89, 32)        9248      \n",
            "                                                                 \n",
            " max_pooling2d_4 (MaxPooling  (None, 44, 44, 32)       0         \n",
            " 2D)                                                             \n",
            "                                                                 \n",
            " conv2d_5 (Conv2D)           (None, 44, 44, 32)        9248      \n",
            "                                                                 \n",
            " max_pooling2d_5 (MaxPooling  (None, 22, 22, 32)       0         \n",
            " 2D)                                                             \n",
            "                                                                 \n",
            " dropout (Dropout)           (None, 22, 22, 32)        0         \n",
            "                                                                 \n",
            " flatten_1 (Flatten)         (None, 15488)             0         \n",
            "                                                                 \n",
            " dense_8 (Dense)             (None, 128)               1982592   \n",
            "                                                                 \n",
            " batch_normalization_8 (Batc  (None, 128)              512       \n",
            " hNormalization)                                                 \n",
            "                                                                 \n",
            " dense_9 (Dense)             (None, 128)               16512     \n",
            "                                                                 \n",
            " batch_normalization_9 (Batc  (None, 128)              512       \n",
            " hNormalization)                                                 \n",
            "                                                                 \n",
            " dense_10 (Dense)            (None, 128)               16512     \n",
            "                                                                 \n",
            " batch_normalization_10 (Bat  (None, 128)              512       \n",
            " chNormalization)                                                \n",
            "                                                                 \n",
            " dense_11 (Dense)            (None, 128)               16512     \n",
            "                                                                 \n",
            " batch_normalization_11 (Bat  (None, 128)              512       \n",
            " chNormalization)                                                \n",
            "                                                                 \n",
            " dense_12 (Dense)            (None, 128)               16512     \n",
            "                                                                 \n",
            " batch_normalization_12 (Bat  (None, 128)              512       \n",
            " chNormalization)                                                \n",
            "                                                                 \n",
            " dense_13 (Dense)            (None, 128)               16512     \n",
            "                                                                 \n",
            " batch_normalization_13 (Bat  (None, 128)              512       \n",
            " chNormalization)                                                \n",
            "                                                                 \n",
            " dense_14 (Dense)            (None, 107)               13803     \n",
            "                                                                 \n",
            " batch_normalization_14 (Bat  (None, 107)              428       \n",
            " chNormalization)                                                \n",
            "                                                                 \n",
            " dense_15 (Dense)            (None, 107)               11556     \n",
            "                                                                 \n",
            "=================================================================\n",
            "Total params: 2,112,827\n",
            "Trainable params: 2,111,077\n",
            "Non-trainable params: 1,750\n",
            "_________________________________________________________________\n"
          ]
        }
      ]
    },
    {
      "cell_type": "code",
      "metadata": {
        "id": "Jc8rD_v9Ef41",
        "colab": {
          "base_uri": "https://localhost:8080/"
        },
        "outputId": "d551a7d3-a963-49c7-a3a0-004afa1feab2"
      },
      "source": [
        "epochs = 50\n",
        "history = model.fit(\n",
        "  train_ds,\n",
        "  validation_data=val_ds,\n",
        "  epochs=epochs\n",
        ")"
      ],
      "execution_count": null,
      "outputs": [
        {
          "output_type": "stream",
          "name": "stdout",
          "text": [
            "Epoch 1/50\n",
            "156/156 [==============================] - 5s 21ms/step - loss: 3.8757 - accuracy: 0.1650 - val_loss: 4.1248 - val_accuracy: 0.1518\n",
            "Epoch 2/50\n",
            "156/156 [==============================] - 3s 19ms/step - loss: 2.9862 - accuracy: 0.2530 - val_loss: 3.5919 - val_accuracy: 0.2321\n",
            "Epoch 3/50\n",
            "156/156 [==============================] - 3s 19ms/step - loss: 2.6286 - accuracy: 0.3110 - val_loss: 3.0019 - val_accuracy: 0.3189\n",
            "Epoch 4/50\n",
            "156/156 [==============================] - 3s 18ms/step - loss: 2.4314 - accuracy: 0.3411 - val_loss: 3.0110 - val_accuracy: 0.2602\n",
            "Epoch 5/50\n",
            "156/156 [==============================] - 3s 19ms/step - loss: 2.2991 - accuracy: 0.3736 - val_loss: 2.8749 - val_accuracy: 0.2876\n",
            "Epoch 6/50\n",
            "156/156 [==============================] - 3s 19ms/step - loss: 2.1642 - accuracy: 0.3949 - val_loss: 2.5059 - val_accuracy: 0.3582\n",
            "Epoch 7/50\n",
            "156/156 [==============================] - 3s 18ms/step - loss: 2.0529 - accuracy: 0.4200 - val_loss: 2.5394 - val_accuracy: 0.3751\n",
            "Epoch 8/50\n",
            "156/156 [==============================] - 3s 19ms/step - loss: 1.9690 - accuracy: 0.4459 - val_loss: 2.5289 - val_accuracy: 0.3510\n",
            "Epoch 9/50\n",
            "156/156 [==============================] - 3s 19ms/step - loss: 1.8747 - accuracy: 0.4453 - val_loss: 2.5904 - val_accuracy: 0.3711\n",
            "Epoch 10/50\n",
            "156/156 [==============================] - 3s 19ms/step - loss: 1.7948 - accuracy: 0.4664 - val_loss: 2.7611 - val_accuracy: 0.3582\n",
            "Epoch 11/50\n",
            "156/156 [==============================] - 3s 19ms/step - loss: 1.7278 - accuracy: 0.4796 - val_loss: 2.4506 - val_accuracy: 0.3855\n",
            "Epoch 12/50\n",
            "156/156 [==============================] - 3s 19ms/step - loss: 1.6727 - accuracy: 0.5005 - val_loss: 2.3143 - val_accuracy: 0.4096\n",
            "Epoch 13/50\n",
            "156/156 [==============================] - 3s 19ms/step - loss: 1.6315 - accuracy: 0.5081 - val_loss: 2.4508 - val_accuracy: 0.3960\n",
            "Epoch 14/50\n",
            "156/156 [==============================] - 3s 19ms/step - loss: 1.5567 - accuracy: 0.5206 - val_loss: 2.7860 - val_accuracy: 0.3799\n",
            "Epoch 15/50\n",
            "156/156 [==============================] - 3s 19ms/step - loss: 1.5027 - accuracy: 0.5348 - val_loss: 2.4048 - val_accuracy: 0.4064\n",
            "Epoch 16/50\n",
            "156/156 [==============================] - 3s 19ms/step - loss: 1.4298 - accuracy: 0.5517 - val_loss: 2.3846 - val_accuracy: 0.4185\n",
            "Epoch 17/50\n",
            "156/156 [==============================] - 3s 19ms/step - loss: 1.3952 - accuracy: 0.5587 - val_loss: 2.6240 - val_accuracy: 0.3751\n",
            "Epoch 18/50\n",
            "156/156 [==============================] - 3s 19ms/step - loss: 1.3558 - accuracy: 0.5712 - val_loss: 2.7412 - val_accuracy: 0.3791\n",
            "Epoch 19/50\n",
            "156/156 [==============================] - 3s 19ms/step - loss: 1.2950 - accuracy: 0.5878 - val_loss: 2.4437 - val_accuracy: 0.4153\n",
            "Epoch 20/50\n",
            "156/156 [==============================] - 3s 19ms/step - loss: 1.2568 - accuracy: 0.6017 - val_loss: 2.7990 - val_accuracy: 0.3598\n",
            "Epoch 21/50\n",
            "156/156 [==============================] - 3s 19ms/step - loss: 1.2156 - accuracy: 0.6115 - val_loss: 3.1627 - val_accuracy: 0.3494\n",
            "Epoch 22/50\n",
            "156/156 [==============================] - 3s 19ms/step - loss: 1.1828 - accuracy: 0.6238 - val_loss: 2.9994 - val_accuracy: 0.3622\n",
            "Epoch 23/50\n",
            "156/156 [==============================] - 3s 19ms/step - loss: 1.1196 - accuracy: 0.6340 - val_loss: 3.0294 - val_accuracy: 0.3606\n",
            "Epoch 24/50\n",
            "156/156 [==============================] - 3s 19ms/step - loss: 1.0931 - accuracy: 0.6432 - val_loss: 3.0496 - val_accuracy: 0.3622\n",
            "Epoch 25/50\n",
            "156/156 [==============================] - 3s 19ms/step - loss: 1.0415 - accuracy: 0.6579 - val_loss: 2.4558 - val_accuracy: 0.4329\n",
            "Epoch 26/50\n",
            "156/156 [==============================] - 3s 19ms/step - loss: 1.0299 - accuracy: 0.6585 - val_loss: 3.5281 - val_accuracy: 0.3486\n",
            "Epoch 27/50\n",
            "156/156 [==============================] - 3s 19ms/step - loss: 0.9919 - accuracy: 0.6808 - val_loss: 3.1887 - val_accuracy: 0.3863\n",
            "Epoch 28/50\n",
            "156/156 [==============================] - 3s 19ms/step - loss: 0.9656 - accuracy: 0.6794 - val_loss: 2.8468 - val_accuracy: 0.4233\n",
            "Epoch 29/50\n",
            "156/156 [==============================] - 3s 19ms/step - loss: 0.9537 - accuracy: 0.6860 - val_loss: 3.0348 - val_accuracy: 0.3831\n",
            "Epoch 30/50\n",
            "156/156 [==============================] - 3s 19ms/step - loss: 0.9091 - accuracy: 0.7031 - val_loss: 2.8889 - val_accuracy: 0.3904\n",
            "Epoch 31/50\n",
            "156/156 [==============================] - 3s 19ms/step - loss: 0.8806 - accuracy: 0.7063 - val_loss: 2.8129 - val_accuracy: 0.4289\n",
            "Epoch 32/50\n",
            "156/156 [==============================] - 3s 19ms/step - loss: 0.8711 - accuracy: 0.7101 - val_loss: 2.8717 - val_accuracy: 0.3992\n",
            "Epoch 33/50\n",
            "156/156 [==============================] - 3s 19ms/step - loss: 0.8326 - accuracy: 0.7211 - val_loss: 3.6385 - val_accuracy: 0.3719\n",
            "Epoch 34/50\n",
            "156/156 [==============================] - 3s 19ms/step - loss: 0.7998 - accuracy: 0.7338 - val_loss: 2.8701 - val_accuracy: 0.4442\n",
            "Epoch 35/50\n",
            "156/156 [==============================] - 3s 19ms/step - loss: 0.7945 - accuracy: 0.7378 - val_loss: 2.8197 - val_accuracy: 0.4193\n",
            "Epoch 36/50\n",
            "156/156 [==============================] - 3s 19ms/step - loss: 0.7872 - accuracy: 0.7410 - val_loss: 3.5242 - val_accuracy: 0.3960\n",
            "Epoch 37/50\n",
            "156/156 [==============================] - 3s 19ms/step - loss: 0.7418 - accuracy: 0.7472 - val_loss: 2.9511 - val_accuracy: 0.4145\n",
            "Epoch 38/50\n",
            "156/156 [==============================] - 3s 19ms/step - loss: 0.7225 - accuracy: 0.7577 - val_loss: 3.7381 - val_accuracy: 0.3631\n",
            "Epoch 39/50\n",
            "156/156 [==============================] - 3s 19ms/step - loss: 0.6899 - accuracy: 0.7675 - val_loss: 3.2923 - val_accuracy: 0.4129\n",
            "Epoch 40/50\n",
            "156/156 [==============================] - 3s 19ms/step - loss: 0.6704 - accuracy: 0.7699 - val_loss: 3.1058 - val_accuracy: 0.4225\n",
            "Epoch 41/50\n",
            "156/156 [==============================] - 3s 19ms/step - loss: 0.6504 - accuracy: 0.7888 - val_loss: 2.9559 - val_accuracy: 0.4329\n",
            "Epoch 42/50\n",
            "156/156 [==============================] - 3s 19ms/step - loss: 0.6505 - accuracy: 0.7772 - val_loss: 3.0092 - val_accuracy: 0.4337\n",
            "Epoch 43/50\n",
            "156/156 [==============================] - 3s 19ms/step - loss: 0.6402 - accuracy: 0.7914 - val_loss: 3.0907 - val_accuracy: 0.4329\n",
            "Epoch 44/50\n",
            "156/156 [==============================] - 3s 19ms/step - loss: 0.6237 - accuracy: 0.7884 - val_loss: 2.7326 - val_accuracy: 0.4683\n",
            "Epoch 45/50\n",
            "156/156 [==============================] - 3s 19ms/step - loss: 0.5831 - accuracy: 0.8008 - val_loss: 2.7227 - val_accuracy: 0.4699\n",
            "Epoch 46/50\n",
            "156/156 [==============================] - 3s 19ms/step - loss: 0.5641 - accuracy: 0.8137 - val_loss: 2.6067 - val_accuracy: 0.4739\n",
            "Epoch 47/50\n",
            "156/156 [==============================] - 3s 19ms/step - loss: 0.5684 - accuracy: 0.8043 - val_loss: 2.9455 - val_accuracy: 0.4450\n",
            "Epoch 48/50\n",
            "156/156 [==============================] - 3s 19ms/step - loss: 0.5564 - accuracy: 0.8181 - val_loss: 2.8775 - val_accuracy: 0.4739\n",
            "Epoch 49/50\n",
            "156/156 [==============================] - 3s 19ms/step - loss: 0.5402 - accuracy: 0.8241 - val_loss: 3.2639 - val_accuracy: 0.4466\n",
            "Epoch 50/50\n",
            "156/156 [==============================] - 3s 19ms/step - loss: 0.4809 - accuracy: 0.8396 - val_loss: 3.0034 - val_accuracy: 0.4426\n"
          ]
        }
      ]
    },
    {
      "cell_type": "code",
      "metadata": {
        "id": "ynhS2KjVEhj8",
        "colab": {
          "base_uri": "https://localhost:8080/",
          "height": 499
        },
        "outputId": "4ff1c73a-04ee-46f9-8793-212fcbffd56a"
      },
      "source": [
        "acc = history.history['accuracy']\n",
        "val_acc = history.history['val_accuracy']\n",
        "\n",
        "loss = history.history['loss']\n",
        "val_loss = history.history['val_loss']\n",
        "\n",
        "epochs_range = range(epochs)\n",
        "\n",
        "plt.figure(figsize=(8, 8))\n",
        "plt.subplot(1, 2, 1)\n",
        "plt.plot(epochs_range, acc, label='Training Accuracy')\n",
        "plt.plot(epochs_range, val_acc, label='Validation Accuracy')\n",
        "plt.legend(loc='lower right')\n",
        "plt.title('Training and Validation Accuracy')\n",
        "\n",
        "plt.subplot(1, 2, 2)\n",
        "plt.plot(epochs_range, loss, label='Training Loss')\n",
        "plt.plot(epochs_range, val_loss, label='Validation Loss')\n",
        "plt.legend(loc='upper right')\n",
        "plt.title('Training and Validation Loss')\n",
        "plt.show()"
      ],
      "execution_count": null,
      "outputs": [
        {
          "output_type": "display_data",
          "data": {
            "image/png": "[encoded data removed]",
            "text/plain": [
              "<Figure size 576x576 with 2 Axes>"
            ]
          },
          "metadata": {
            "needs_background": "light"
          }
        }
      ]
    },
    {
      "cell_type": "code",
      "metadata": {
        "id": "IbEQMrsAH2yZ",
        "colab": {
          "base_uri": "https://localhost:8080/"
        },
        "outputId": "7b917703-32b5-4df3-c5d5-0ac0130f74c5"
      },
      "source": [
        "model.compile(\n",
        "    optimizer='adam',\n",
        "    loss=tf.losses.SparseCategoricalCrossentropy(from_logits=True),\n",
        "    metrics=['accuracy'])\n",
        "model.summary()"
      ],
      "execution_count": null,
      "outputs": [
        {
          "output_type": "stream",
          "name": "stdout",
          "text": [
            "Model: \"sequential_2\"\n",
            "_________________________________________________________________\n",
            " Layer (type)                Output Shape              Param #   \n",
            "=================================================================\n",
            " sequential_1 (Sequential)   (None, 180, 180, 1)       0         \n",
            "                                                                 \n",
            " rescaling_2 (Rescaling)     (None, 180, 180, 1)       0         \n",
            "                                                                 \n",
            " conv2d_3 (Conv2D)           (None, 178, 178, 32)      320       \n",
            "                                                                 \n",
            " max_pooling2d_3 (MaxPooling  (None, 89, 89, 32)       0         \n",
            " 2D)                                                             \n",
            "                                                                 \n",
            " conv2d_4 (Conv2D)           (None, 89, 89, 32)        9248      \n",
            "                                                                 \n",
            " max_pooling2d_4 (MaxPooling  (None, 44, 44, 32)       0         \n",
            " 2D)                                                             \n",
            "                                                                 \n",
            " conv2d_5 (Conv2D)           (None, 44, 44, 32)        9248      \n",
            "                                                                 \n",
            " max_pooling2d_5 (MaxPooling  (None, 22, 22, 32)       0         \n",
            " 2D)                                                             \n",
            "                                                                 \n",
            " dropout (Dropout)           (None, 22, 22, 32)        0         \n",
            "                                                                 \n",
            " flatten_1 (Flatten)         (None, 15488)             0         \n",
            "                                                                 \n",
            " dense_8 (Dense)             (None, 128)               1982592   \n",
            "                                                                 \n",
            " batch_normalization_8 (Batc  (None, 128)              512       \n",
            " hNormalization)                                                 \n",
            "                                                                 \n",
            " dense_9 (Dense)             (None, 128)               16512     \n",
            "                                                                 \n",
            " batch_normalization_9 (Batc  (None, 128)              512       \n",
            " hNormalization)                                                 \n",
            "                                                                 \n",
            " dense_10 (Dense)            (None, 128)               16512     \n",
            "                                                                 \n",
            " batch_normalization_10 (Bat  (None, 128)              512       \n",
            " chNormalization)                                                \n",
            "                                                                 \n",
            " dense_11 (Dense)            (None, 128)               16512     \n",
            "                                                                 \n",
            " batch_normalization_11 (Bat  (None, 128)              512       \n",
            " chNormalization)                                                \n",
            "                                                                 \n",
            " dense_12 (Dense)            (None, 128)               16512     \n",
            "                                                                 \n",
            " batch_normalization_12 (Bat  (None, 128)              512       \n",
            " chNormalization)                                                \n",
            "                                                                 \n",
            " dense_13 (Dense)            (None, 128)               16512     \n",
            "                                                                 \n",
            " batch_normalization_13 (Bat  (None, 128)              512       \n",
            " chNormalization)                                                \n",
            "                                                                 \n",
            " dense_14 (Dense)            (None, 107)               13803     \n",
            "                                                                 \n",
            " batch_normalization_14 (Bat  (None, 107)              428       \n",
            " chNormalization)                                                \n",
            "                                                                 \n",
            " dense_15 (Dense)            (None, 107)               11556     \n",
            "                                                                 \n",
            "=================================================================\n",
            "Total params: 2,112,827\n",
            "Trainable params: 2,111,077\n",
            "Non-trainable params: 1,750\n",
            "_________________________________________________________________\n"
          ]
        }
      ]
    },
    {
      "cell_type": "code",
      "metadata": {
        "id": "df30HUqFjWre"
      },
      "source": [
        ""
      ],
      "execution_count": null,
      "outputs": []
    }
  ]
}