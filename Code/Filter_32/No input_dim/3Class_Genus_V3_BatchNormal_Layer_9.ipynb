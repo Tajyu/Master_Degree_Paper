{
  "nbformat": 4,
  "nbformat_minor": 0,
  "metadata": {
    "colab": {
      "name": "3Class_Genus_V3_BatchNormal_Layer_9.ipynb",
      "provenance": [],
      "collapsed_sections": [],
      "mount_file_id": "1olS4itqs2AxFmv7yV38PDDFTaySnw92n",
      "authorship_tag": "ABX9TyOwRFGb7C2KyHZ45YHGcvGl",
      "include_colab_link": true
    },
    "kernelspec": {
      "name": "python3",
      "display_name": "Python 3"
    },
    "language_info": {
      "name": "python"
    },
    "accelerator": "GPU"
  },
  "cells": [
    {
      "cell_type": "markdown",
      "metadata": {
        "id": "view-in-github",
        "colab_type": "text"
      },
      "source": [
        "<a href=\"https://colab.research.google.com/github/Tajyu/Master_Degree_Paper/blob/main/Code/Filter_32/No%20input_dim/3Class_Genus_V3_BatchNormal_Layer_9.ipynb\" target=\"_parent\"><img src=\"https://colab.research.google.com/assets/colab-badge.svg\" alt=\"Open In Colab\"/></a>"
      ]
    },
    {
      "cell_type": "code",
      "metadata": {
        "id": "yWckd06_68Em"
      },
      "source": [
        "import tensorflow as tf\n",
        "from tensorflow.keras import datasets, layers, models\n",
        "from keras.preprocessing.image import ImageDataGenerator\n",
        "import numpy as np\n",
        "import matplotlib.pyplot as plt\n",
        "import cv2 as cv\n",
        "import os\n",
        "import pathlib\n",
        "import PIL\n",
        "from tensorflow import keras\n",
        "from tensorflow.keras import layers\n",
        "from tensorflow.keras.models import Sequential\n",
        "from tensorflow.keras.layers import Dense, Flatten, BatchNormalization, Dropout"
      ],
      "execution_count": null,
      "outputs": []
    },
    {
      "cell_type": "code",
      "metadata": {
        "id": "xav9zirHttk_"
      },
      "source": [
        "image_list = os.listdir('/content/drive/MyDrive/Colab Notebooks/Final_Project/Cell_Genus')"
      ],
      "execution_count": null,
      "outputs": []
    },
    {
      "cell_type": "code",
      "metadata": {
        "colab": {
          "base_uri": "https://localhost:8080/"
        },
        "id": "K-wD0dM5tx_E",
        "outputId": "ea8ec66b-12ff-44b8-89fd-fec3c8f01ec5"
      },
      "source": [
        "print(image_list)"
      ],
      "execution_count": null,
      "outputs": [
        {
          "output_type": "stream",
          "name": "stdout",
          "text": [
            "['10_Genus_Stauroneis_Ehrenberg', '10_Genus_Staurosira_Ehrenberg', '11_Genus_Craspedostauros_E.J_Cox_1999', '11_Genus_Staurosirella_Williams_and_Round', '12_Genus_Caloneis_Cleve_1894', '12_Genus_Synedra_Ehrenberg', '13_Genus_Pinnularia_Ehrenberg_1843', '1_Genus_Acanthoceras_Honigmann', '1_Genus_Achnanthes_Bory', '1_Genus_Actinocyclus_Ehrenberg', '1_Genus_Aphanocapsa_Nageli_1849', '1_Genus_Asterionella_Hassall', '1_Genus_Aulacoseira', '1_Genus_Biremis_Mann_et_Cox_in_Round_Crawford_and_Mann', '1_Genus_Characium_A_Braun_in_Kutzing_1849', '1_Genus_Chroococcus_Nageli', '1_Genus_Closterium_Nitzsch_ex_Ralfs_1848', '1_Genus_Coelastrum_Nageli_1849', '1_Genus_Cylindrocystis_Meneghini_ex_de_Bary_1858', '1_Genus_Dictyosphaerium_Nageli_1849', '1_Genus_Docidium_Brebisson_ex_Ralfs_1848', '1_Genus_Eunotia_Ehrenberg', '1_Genus_Geitlerinema_(Anagnostidis_et_Komarek)_Anagnostidis_1989', '1_Genus_Gonatozygon_de_Bary_1856', '1_Genus_Hydrodictyon_Roth_1797', '1_Genus_Hydrosera_whampoensis', '1_Genus_Jaaginema_Anagnostidis_et_Komarek_1988', '1_Genus_Lyngbya_C_Agardh_ex_Gomont_1892', '1_Genus_Melosira_Agardh', '1_Genus_Micractinium_Fresenius_1858', '1_Genus_Micrasterias_Ralfs_1848', '1_Genus_Microcystis_Kutzing_ex_Lemmermann_1907', '1_Genus_Oscillatoria_Vaucher_ex_Gomont_1982', '1_Genus_Pediastrum_Meyen_1829', '1_Genus_Penium_Brebisson_ex_Ralfs_in_Ralfs_1848', '1_Genus_Phormidium_Kutzing_ex_Gomont_1892', '1_Genus_Planktothrix_Anagnostidis_et_Komarek_1988', '1_Genus_Pleurosira_laevis_(Ehrenberg)', '1_Genus_Rhizosolenia_Ehrenberg', '1_Genus_Schizochlamydella_Korshikov_1953', '1_Genus_Staurodesmus_Teiling_1848', '1_Genus_Trochiscia_Kutzing_1834', '1_Scenedesmus_Hegewald_1978', '2_Acutodesmus_Hegewald_1978', '2_Genus_Achnanthidium_Kutzing', '2_Genus_Actinastrum_Lagerheim_1882', '2_Genus_Actinella_Lewis', '2_Genus_Ankyra_Fott_1957', '2_Genus_Caloneis_Cleve', '2_Genus_Chaetoceros_Ehrenberg', '2_Genus_Coenochloris_Korshikov_1953', '2_Genus_Cyclotella', '2_Genus_Diatoma_Bory', '2_Genus_Dimorphococcus_A_Braun_1855', '2_Genus_Golenkinia_Chodat_1894', '2_Genus_Haplotaenium_Bando_1988', '2_Genus_Leibleinia_(Gomont)_L_Hoffman_1985', '2_Genus_Leptolyngbya_Anagnostidis_et_Komarek_1988', '2_Genus_Merismopedia_Meyen_1839', '2_Genus_Netrium_(Nageli)_Itzigsohn_et_Rothe_in_Rabenhorst_1856', '2_Genus_Orthoseira_Thwaites_1848', '2_Genus_Phormidium_Kutzing_ex_Gomont_1892', '2_Genus_Sorastrum_Kutzing_1845', '2_Genus_Staurastrum_Meyen_ex_Ralfs_1848', '3_Desmodesmus_Chodat_1926', '3_Genus_Acanthosphaera_Lemmerman_1899', '3_Genus_Anorthoneis_Grunow', '3_Genus_Cyclostephanos_Round', '3_Genus_Dichotomococcus_Korshikov_1928', '3_Genus_Heteroleibleinia_(Geitler)_L_Hoffmann_1985', '3_Genus_Limnothrix_Meffert_1988', '3_Genus_Meridion_Agardh', '3_Genus_Paradoxia_Svirenko_1928', '3_Genus_Peronia_Bebisson_and_Arnott_ex_Kitton', '3_Genus_Phormidiochaete_Komarek_in_Anagnostidis_2001', '3_Genus_Pinnularia_Ehrenberg_1', '3_Genus_Pleurotaenium_Nageli_1849', '3_Genus_Radiococcus_Schmidle_1902', '3_Genus_Snowella_Elenkin_1938', '3_Genus_Spirotaenia_Brebisson_in_Ralfs_1848', '4_Genus_Botryococcus_Kutzing_1849', '4_Genus_Cocconeis_Ehrenberg', '4_Genus_Eutetramorus_Walton_1918', '4_Genus_Leptolyngbya_Anagnostidis_et_Komarek_1988', '4_Genus_Opephora_Petit', '4_Genus_Pinnularia_Ehrenberg_2', '4_Genus_Schroederia_Lemmermann_1898', '4_Genus_Stephanodiscus_Ehrenberg', '4_Genus_Synechocystis_Sauvageau_1892', '4_Genus_Tortitaenia_A_J_Brook_1998', '5_Genus_Caloneis_Cleve', '5_Genus_Coenocystis_Korshikov_1953', '5_Genus_Planktolyngbya_Anagnostidis_et_Komarek_1988', '5_Genus_Tabellaria_Ehrenberg', '5_Genus_Thalassiosira_Cleve', '5_Genus_Woronichinia_Elenkin_1933', '6_Genus_Anomoeoneis_Pfitzer', '6_Genus_Fragilaria_Lyngbye', '6_Genus_Gloeocystis_Nageli_1849', '6_Genus_Pseudanabaena_Lauterborn_1915', '6_Genus_Skeletonema_Greville', '7_Genus_Caloneis_Cleve', '7_Genus_Hannaea_Patrick', '8_Genus_Diploneis(Ehrenberg)_Cleve', '8_Genus_Pseudostaurosira_Williams_and_Round', '9_Genus_Neidium_Pfitzer', '9_Genus_Punctastriata_Williams_and_Round']\n"
          ]
        }
      ]
    },
    {
      "cell_type": "code",
      "metadata": {
        "id": "o-0DvzEHt8VE"
      },
      "source": [
        "data_generator = ImageDataGenerator(rescale = 1./255)\n",
        "\n",
        "data_dir = \"/content/drive/MyDrive/Colab Notebooks/Final_Project/Cell_Genus\""
      ],
      "execution_count": null,
      "outputs": []
    },
    {
      "cell_type": "code",
      "metadata": {
        "id": "7aTCfEm3t10n"
      },
      "source": [
        "batch_size = 32\n",
        "img_height = 180\n",
        "img_width = 180"
      ],
      "execution_count": null,
      "outputs": []
    },
    {
      "cell_type": "code",
      "metadata": {
        "id": "9Smg-miEt22s",
        "colab": {
          "base_uri": "https://localhost:8080/"
        },
        "outputId": "1c46cd75-c087-4945-ef19-d7bfebecacb0"
      },
      "source": [
        "train_ds = tf.keras.preprocessing.image_dataset_from_directory(\n",
        "  data_dir,\n",
        "  color_mode = \"grayscale\",\n",
        "  validation_split=0.2,\n",
        "  subset=\"training\",\n",
        "  seed=123,\n",
        "  image_size=(img_height, img_width),\n",
        "  batch_size=batch_size)"
      ],
      "execution_count": null,
      "outputs": [
        {
          "output_type": "stream",
          "name": "stdout",
          "text": [
            "Found 6226 files belonging to 107 classes.\n",
            "Using 4981 files for training.\n"
          ]
        }
      ]
    },
    {
      "cell_type": "code",
      "metadata": {
        "id": "1nR0WdQGt44x",
        "colab": {
          "base_uri": "https://localhost:8080/"
        },
        "outputId": "ded6ef89-9746-424e-cbcf-84a2165def54"
      },
      "source": [
        "val_ds = tf.keras.preprocessing.image_dataset_from_directory(\n",
        "  data_dir,\n",
        "  color_mode = \"grayscale\",\n",
        "  validation_split=0.2,\n",
        "  subset=\"validation\",\n",
        "  seed=123,\n",
        "  image_size=(img_height, img_width),\n",
        "  batch_size=batch_size)"
      ],
      "execution_count": null,
      "outputs": [
        {
          "output_type": "stream",
          "name": "stdout",
          "text": [
            "Found 6226 files belonging to 107 classes.\n",
            "Using 1245 files for validation.\n"
          ]
        }
      ]
    },
    {
      "cell_type": "code",
      "metadata": {
        "id": "F-cz_CtGug8Y",
        "colab": {
          "base_uri": "https://localhost:8080/"
        },
        "outputId": "b3fb2731-af8a-4031-b461-a6da9fecb957"
      },
      "source": [
        "class_names = train_ds.class_names\n",
        "print(class_names)"
      ],
      "execution_count": null,
      "outputs": [
        {
          "output_type": "stream",
          "name": "stdout",
          "text": [
            "['10_Genus_Stauroneis_Ehrenberg', '10_Genus_Staurosira_Ehrenberg', '11_Genus_Craspedostauros_E.J_Cox_1999', '11_Genus_Staurosirella_Williams_and_Round', '12_Genus_Caloneis_Cleve_1894', '12_Genus_Synedra_Ehrenberg', '13_Genus_Pinnularia_Ehrenberg_1843', '1_Genus_Acanthoceras_Honigmann', '1_Genus_Achnanthes_Bory', '1_Genus_Actinocyclus_Ehrenberg', '1_Genus_Aphanocapsa_Nageli_1849', '1_Genus_Asterionella_Hassall', '1_Genus_Aulacoseira', '1_Genus_Biremis_Mann_et_Cox_in_Round_Crawford_and_Mann', '1_Genus_Characium_A_Braun_in_Kutzing_1849', '1_Genus_Chroococcus_Nageli', '1_Genus_Closterium_Nitzsch_ex_Ralfs_1848', '1_Genus_Coelastrum_Nageli_1849', '1_Genus_Cylindrocystis_Meneghini_ex_de_Bary_1858', '1_Genus_Dictyosphaerium_Nageli_1849', '1_Genus_Docidium_Brebisson_ex_Ralfs_1848', '1_Genus_Eunotia_Ehrenberg', '1_Genus_Geitlerinema_(Anagnostidis_et_Komarek)_Anagnostidis_1989', '1_Genus_Gonatozygon_de_Bary_1856', '1_Genus_Hydrodictyon_Roth_1797', '1_Genus_Hydrosera_whampoensis', '1_Genus_Jaaginema_Anagnostidis_et_Komarek_1988', '1_Genus_Lyngbya_C_Agardh_ex_Gomont_1892', '1_Genus_Melosira_Agardh', '1_Genus_Micractinium_Fresenius_1858', '1_Genus_Micrasterias_Ralfs_1848', '1_Genus_Microcystis_Kutzing_ex_Lemmermann_1907', '1_Genus_Oscillatoria_Vaucher_ex_Gomont_1982', '1_Genus_Pediastrum_Meyen_1829', '1_Genus_Penium_Brebisson_ex_Ralfs_in_Ralfs_1848', '1_Genus_Phormidium_Kutzing_ex_Gomont_1892', '1_Genus_Planktothrix_Anagnostidis_et_Komarek_1988', '1_Genus_Pleurosira_laevis_(Ehrenberg)', '1_Genus_Rhizosolenia_Ehrenberg', '1_Genus_Schizochlamydella_Korshikov_1953', '1_Genus_Staurodesmus_Teiling_1848', '1_Genus_Trochiscia_Kutzing_1834', '1_Scenedesmus_Hegewald_1978', '2_Acutodesmus_Hegewald_1978', '2_Genus_Achnanthidium_Kutzing', '2_Genus_Actinastrum_Lagerheim_1882', '2_Genus_Actinella_Lewis', '2_Genus_Ankyra_Fott_1957', '2_Genus_Caloneis_Cleve', '2_Genus_Chaetoceros_Ehrenberg', '2_Genus_Coenochloris_Korshikov_1953', '2_Genus_Cyclotella', '2_Genus_Diatoma_Bory', '2_Genus_Dimorphococcus_A_Braun_1855', '2_Genus_Golenkinia_Chodat_1894', '2_Genus_Haplotaenium_Bando_1988', '2_Genus_Leibleinia_(Gomont)_L_Hoffman_1985', '2_Genus_Leptolyngbya_Anagnostidis_et_Komarek_1988', '2_Genus_Merismopedia_Meyen_1839', '2_Genus_Netrium_(Nageli)_Itzigsohn_et_Rothe_in_Rabenhorst_1856', '2_Genus_Orthoseira_Thwaites_1848', '2_Genus_Phormidium_Kutzing_ex_Gomont_1892', '2_Genus_Sorastrum_Kutzing_1845', '2_Genus_Staurastrum_Meyen_ex_Ralfs_1848', '3_Desmodesmus_Chodat_1926', '3_Genus_Acanthosphaera_Lemmerman_1899', '3_Genus_Anorthoneis_Grunow', '3_Genus_Cyclostephanos_Round', '3_Genus_Dichotomococcus_Korshikov_1928', '3_Genus_Heteroleibleinia_(Geitler)_L_Hoffmann_1985', '3_Genus_Limnothrix_Meffert_1988', '3_Genus_Meridion_Agardh', '3_Genus_Paradoxia_Svirenko_1928', '3_Genus_Peronia_Bebisson_and_Arnott_ex_Kitton', '3_Genus_Phormidiochaete_Komarek_in_Anagnostidis_2001', '3_Genus_Pinnularia_Ehrenberg_1', '3_Genus_Pleurotaenium_Nageli_1849', '3_Genus_Radiococcus_Schmidle_1902', '3_Genus_Snowella_Elenkin_1938', '3_Genus_Spirotaenia_Brebisson_in_Ralfs_1848', '4_Genus_Botryococcus_Kutzing_1849', '4_Genus_Cocconeis_Ehrenberg', '4_Genus_Eutetramorus_Walton_1918', '4_Genus_Leptolyngbya_Anagnostidis_et_Komarek_1988', '4_Genus_Opephora_Petit', '4_Genus_Pinnularia_Ehrenberg_2', '4_Genus_Schroederia_Lemmermann_1898', '4_Genus_Stephanodiscus_Ehrenberg', '4_Genus_Synechocystis_Sauvageau_1892', '4_Genus_Tortitaenia_A_J_Brook_1998', '5_Genus_Caloneis_Cleve', '5_Genus_Coenocystis_Korshikov_1953', '5_Genus_Planktolyngbya_Anagnostidis_et_Komarek_1988', '5_Genus_Tabellaria_Ehrenberg', '5_Genus_Thalassiosira_Cleve', '5_Genus_Woronichinia_Elenkin_1933', '6_Genus_Anomoeoneis_Pfitzer', '6_Genus_Fragilaria_Lyngbye', '6_Genus_Gloeocystis_Nageli_1849', '6_Genus_Pseudanabaena_Lauterborn_1915', '6_Genus_Skeletonema_Greville', '7_Genus_Caloneis_Cleve', '7_Genus_Hannaea_Patrick', '8_Genus_Diploneis(Ehrenberg)_Cleve', '8_Genus_Pseudostaurosira_Williams_and_Round', '9_Genus_Neidium_Pfitzer', '9_Genus_Punctastriata_Williams_and_Round']\n"
          ]
        }
      ]
    },
    {
      "cell_type": "code",
      "metadata": {
        "id": "5EQOikPAukic",
        "colab": {
          "base_uri": "https://localhost:8080/"
        },
        "outputId": "8c27f8c7-6ed9-435d-9930-f3ec744fb6f5"
      },
      "source": [
        "for image_batch, labels_batch in train_ds:\n",
        "  print(image_batch.shape)\n",
        "  print(labels_batch.shape)\n",
        "  break"
      ],
      "execution_count": null,
      "outputs": [
        {
          "output_type": "stream",
          "name": "stdout",
          "text": [
            "(32, 180, 180, 1)\n",
            "(32,)\n"
          ]
        }
      ]
    },
    {
      "cell_type": "code",
      "metadata": {
        "id": "9eVl7tiDux9q"
      },
      "source": [
        "from tensorflow.keras import layers\n",
        "\n",
        "normalization_layer = tf.keras.layers.experimental.preprocessing.Rescaling(1./255)"
      ],
      "execution_count": null,
      "outputs": []
    },
    {
      "cell_type": "code",
      "metadata": {
        "id": "AiIrsxzZuzEo",
        "colab": {
          "base_uri": "https://localhost:8080/"
        },
        "outputId": "5f8f6e3d-aba3-4291-e0a1-798fe943055e"
      },
      "source": [
        "normalized_ds = train_ds.map(lambda x, y: (normalization_layer(x), y))\n",
        "image_batch, labels_batch = next(iter(normalized_ds))\n",
        "first_image = image_batch[0]\n",
        "# Notice the pixels values are now in `[0,1]`.\n",
        "print(np.min(first_image), np.max(first_image))"
      ],
      "execution_count": null,
      "outputs": [
        {
          "output_type": "stream",
          "name": "stdout",
          "text": [
            "0.0 1.0\n"
          ]
        }
      ]
    },
    {
      "cell_type": "code",
      "metadata": {
        "id": "__WbVabru0Bp"
      },
      "source": [
        "AUTOTUNE = tf.data.experimental.AUTOTUNE\n",
        "\n",
        "train_ds = train_ds.cache().prefetch(buffer_size=AUTOTUNE)\n",
        "val_ds = val_ds.cache().prefetch(buffer_size=AUTOTUNE)"
      ],
      "execution_count": null,
      "outputs": []
    },
    {
      "cell_type": "code",
      "metadata": {
        "id": "g1GeYFXCu2gV"
      },
      "source": [
        "num_classes = 107\n",
        "model = tf.keras.Sequential([\n",
        "    layers.experimental.preprocessing.Rescaling(1./255),\n",
        "    layers.Conv2D(32, 3,input_shape = image_batch, activation='relu'),\n",
        "    layers.MaxPooling2D(),\n",
        "    layers.Conv2D(32, 3, activation='relu'),\n",
        "    layers.MaxPooling2D(),\n",
        "    layers.Conv2D(32, 3, activation='relu'),\n",
        "    layers.MaxPooling2D(),\n",
        "    layers.Flatten(),\n",
        "    BatchNormalization(),\n",
        "    layers.Dense(128, activation='relu'),\n",
        "    BatchNormalization(),\n",
        "    layers.Dense(128, activation='relu'),\n",
        "    BatchNormalization(),\n",
        "    layers.Dense(128, activation='relu'),\n",
        "    BatchNormalization(),\n",
        "    layers.Dense(128, activation='relu'),\n",
        "    BatchNormalization(),\n",
        "    layers.Dense(128, activation='relu'),\n",
        "    BatchNormalization(),\n",
        "    layers.Dense(128, activation='relu'),\n",
        "    BatchNormalization(),\n",
        "    layers.Dense(128, activation='relu'),\n",
        "    BatchNormalization(),\n",
        "    layers.Dense(128, activation='relu'),\n",
        "    BatchNormalization(),\n",
        "    layers.Dense(107, activation='softmax'),\n",
        "    BatchNormalization(),\n",
        "    layers.Dense(num_classes)\n",
        "    ])"
      ],
      "execution_count": null,
      "outputs": []
    },
    {
      "cell_type": "code",
      "metadata": {
        "id": "wU4xPAvNYWry"
      },
      "source": [
        "model.compile(\n",
        "    optimizer='adam',\n",
        "    loss=tf.losses.SparseCategoricalCrossentropy(from_logits=True),\n",
        "    metrics=['accuracy'])"
      ],
      "execution_count": null,
      "outputs": []
    },
    {
      "cell_type": "code",
      "metadata": {
        "id": "Tk8ssrbHu44p",
        "colab": {
          "base_uri": "https://localhost:8080/"
        },
        "outputId": "3633a76e-4a3d-499a-e9e4-f268ce8852b2"
      },
      "source": [
        "epochs=50\n",
        "history = model.fit(\n",
        "  train_ds,\n",
        "  validation_data=val_ds,\n",
        "  epochs=epochs\n",
        ")"
      ],
      "execution_count": null,
      "outputs": [
        {
          "output_type": "stream",
          "name": "stdout",
          "text": [
            "Epoch 1/50\n",
            "156/156 [==============================] - 911s 6s/step - loss: 3.7083 - accuracy: 0.2154 - val_loss: 4.2091 - val_accuracy: 0.1534\n",
            "Epoch 2/50\n",
            "156/156 [==============================] - 3s 18ms/step - loss: 2.6678 - accuracy: 0.3389 - val_loss: 3.7959 - val_accuracy: 0.2410\n",
            "Epoch 3/50\n",
            "156/156 [==============================] - 3s 18ms/step - loss: 2.2624 - accuracy: 0.4065 - val_loss: 3.5887 - val_accuracy: 0.1639\n",
            "Epoch 4/50\n",
            "156/156 [==============================] - 3s 18ms/step - loss: 1.9686 - accuracy: 0.4732 - val_loss: 3.1098 - val_accuracy: 0.2755\n",
            "Epoch 5/50\n",
            "156/156 [==============================] - 3s 18ms/step - loss: 1.7335 - accuracy: 0.5224 - val_loss: 3.3600 - val_accuracy: 0.2618\n",
            "Epoch 6/50\n",
            "156/156 [==============================] - 3s 18ms/step - loss: 1.4979 - accuracy: 0.5806 - val_loss: 2.7623 - val_accuracy: 0.3478\n",
            "Epoch 7/50\n",
            "156/156 [==============================] - 3s 18ms/step - loss: 1.2995 - accuracy: 0.6360 - val_loss: 2.8001 - val_accuracy: 0.3574\n",
            "Epoch 8/50\n",
            "156/156 [==============================] - 3s 18ms/step - loss: 1.1225 - accuracy: 0.6834 - val_loss: 2.8312 - val_accuracy: 0.3631\n",
            "Epoch 9/50\n",
            "156/156 [==============================] - 3s 17ms/step - loss: 1.0204 - accuracy: 0.7171 - val_loss: 2.3889 - val_accuracy: 0.4490\n",
            "Epoch 10/50\n",
            "156/156 [==============================] - 3s 18ms/step - loss: 0.8671 - accuracy: 0.7527 - val_loss: 2.2749 - val_accuracy: 0.4747\n",
            "Epoch 11/50\n",
            "156/156 [==============================] - 3s 18ms/step - loss: 0.7449 - accuracy: 0.7856 - val_loss: 2.5296 - val_accuracy: 0.4538\n",
            "Epoch 12/50\n",
            "156/156 [==============================] - 3s 18ms/step - loss: 0.6861 - accuracy: 0.7994 - val_loss: 2.3833 - val_accuracy: 0.5028\n",
            "Epoch 13/50\n",
            "156/156 [==============================] - 3s 17ms/step - loss: 0.5796 - accuracy: 0.8340 - val_loss: 2.6339 - val_accuracy: 0.4707\n",
            "Epoch 14/50\n",
            "156/156 [==============================] - 3s 18ms/step - loss: 0.5244 - accuracy: 0.8534 - val_loss: 2.7737 - val_accuracy: 0.4514\n",
            "Epoch 15/50\n",
            "156/156 [==============================] - 3s 18ms/step - loss: 0.4529 - accuracy: 0.8699 - val_loss: 2.5994 - val_accuracy: 0.4811\n",
            "Epoch 16/50\n",
            "156/156 [==============================] - 3s 18ms/step - loss: 0.3637 - accuracy: 0.8988 - val_loss: 2.7919 - val_accuracy: 0.4916\n",
            "Epoch 17/50\n",
            "156/156 [==============================] - 3s 18ms/step - loss: 0.3193 - accuracy: 0.9087 - val_loss: 2.8807 - val_accuracy: 0.4859\n",
            "Epoch 18/50\n",
            "156/156 [==============================] - 3s 18ms/step - loss: 0.2738 - accuracy: 0.9261 - val_loss: 2.9531 - val_accuracy: 0.4771\n",
            "Epoch 19/50\n",
            "156/156 [==============================] - 3s 18ms/step - loss: 0.2568 - accuracy: 0.9299 - val_loss: 2.8461 - val_accuracy: 0.4948\n",
            "Epoch 20/50\n",
            "156/156 [==============================] - 3s 18ms/step - loss: 0.2381 - accuracy: 0.9317 - val_loss: 2.9858 - val_accuracy: 0.5020\n",
            "Epoch 21/50\n",
            "156/156 [==============================] - 3s 18ms/step - loss: 0.2541 - accuracy: 0.9257 - val_loss: 3.0286 - val_accuracy: 0.4884\n",
            "Epoch 22/50\n",
            "156/156 [==============================] - 3s 18ms/step - loss: 0.2170 - accuracy: 0.9400 - val_loss: 3.1237 - val_accuracy: 0.4908\n",
            "Epoch 23/50\n",
            "156/156 [==============================] - 3s 18ms/step - loss: 0.2238 - accuracy: 0.9372 - val_loss: 3.4422 - val_accuracy: 0.4731\n",
            "Epoch 24/50\n",
            "156/156 [==============================] - 3s 18ms/step - loss: 0.2012 - accuracy: 0.9400 - val_loss: 3.1871 - val_accuracy: 0.4892\n",
            "Epoch 25/50\n",
            "156/156 [==============================] - 3s 18ms/step - loss: 0.1763 - accuracy: 0.9530 - val_loss: 3.1617 - val_accuracy: 0.4964\n",
            "Epoch 26/50\n",
            "156/156 [==============================] - 3s 18ms/step - loss: 0.1500 - accuracy: 0.9598 - val_loss: 3.4697 - val_accuracy: 0.4466\n",
            "Epoch 27/50\n",
            "156/156 [==============================] - 3s 18ms/step - loss: 0.1237 - accuracy: 0.9679 - val_loss: 3.0419 - val_accuracy: 0.5157\n",
            "Epoch 28/50\n",
            "156/156 [==============================] - 3s 18ms/step - loss: 0.0908 - accuracy: 0.9775 - val_loss: 3.1644 - val_accuracy: 0.5197\n",
            "Epoch 29/50\n",
            "156/156 [==============================] - 3s 17ms/step - loss: 0.0728 - accuracy: 0.9821 - val_loss: 3.3450 - val_accuracy: 0.5084\n",
            "Epoch 30/50\n",
            "156/156 [==============================] - 3s 18ms/step - loss: 0.0544 - accuracy: 0.9888 - val_loss: 3.3191 - val_accuracy: 0.5084\n",
            "Epoch 31/50\n",
            "156/156 [==============================] - 3s 17ms/step - loss: 0.0578 - accuracy: 0.9867 - val_loss: 3.4433 - val_accuracy: 0.5068\n",
            "Epoch 32/50\n",
            "156/156 [==============================] - 3s 18ms/step - loss: 0.0726 - accuracy: 0.9821 - val_loss: 3.6677 - val_accuracy: 0.4940\n",
            "Epoch 33/50\n",
            "156/156 [==============================] - 3s 17ms/step - loss: 0.1333 - accuracy: 0.9617 - val_loss: 3.8273 - val_accuracy: 0.4819\n",
            "Epoch 34/50\n",
            "156/156 [==============================] - 3s 17ms/step - loss: 0.2001 - accuracy: 0.9386 - val_loss: 3.8789 - val_accuracy: 0.4386\n",
            "Epoch 35/50\n",
            "156/156 [==============================] - 3s 18ms/step - loss: 0.2363 - accuracy: 0.9285 - val_loss: 3.5278 - val_accuracy: 0.4851\n",
            "Epoch 36/50\n",
            "156/156 [==============================] - 3s 17ms/step - loss: 0.1943 - accuracy: 0.9452 - val_loss: 3.5127 - val_accuracy: 0.4924\n",
            "Epoch 37/50\n",
            "156/156 [==============================] - 3s 17ms/step - loss: 0.0918 - accuracy: 0.9755 - val_loss: 3.3375 - val_accuracy: 0.5333\n",
            "Epoch 38/50\n",
            "156/156 [==============================] - 3s 18ms/step - loss: 0.0578 - accuracy: 0.9870 - val_loss: 3.4369 - val_accuracy: 0.5084\n",
            "Epoch 39/50\n",
            "156/156 [==============================] - 3s 18ms/step - loss: 0.0473 - accuracy: 0.9892 - val_loss: 3.5249 - val_accuracy: 0.4924\n",
            "Epoch 40/50\n",
            "156/156 [==============================] - 3s 18ms/step - loss: 0.0463 - accuracy: 0.9882 - val_loss: 3.5857 - val_accuracy: 0.5012\n",
            "Epoch 41/50\n",
            "156/156 [==============================] - 3s 18ms/step - loss: 0.0441 - accuracy: 0.9898 - val_loss: 3.5126 - val_accuracy: 0.5149\n",
            "Epoch 42/50\n",
            "156/156 [==============================] - 3s 19ms/step - loss: 0.0339 - accuracy: 0.9922 - val_loss: 3.5981 - val_accuracy: 0.5084\n",
            "Epoch 43/50\n",
            "156/156 [==============================] - 3s 18ms/step - loss: 0.0305 - accuracy: 0.9936 - val_loss: 3.7305 - val_accuracy: 0.5084\n",
            "Epoch 44/50\n",
            "156/156 [==============================] - 3s 18ms/step - loss: 0.0388 - accuracy: 0.9910 - val_loss: 4.0099 - val_accuracy: 0.4876\n",
            "Epoch 45/50\n",
            "156/156 [==============================] - 3s 18ms/step - loss: 0.0376 - accuracy: 0.9906 - val_loss: 3.8352 - val_accuracy: 0.5060\n",
            "Epoch 46/50\n",
            "156/156 [==============================] - 3s 18ms/step - loss: 0.0663 - accuracy: 0.9833 - val_loss: 4.4325 - val_accuracy: 0.4498\n",
            "Epoch 47/50\n",
            "156/156 [==============================] - 3s 18ms/step - loss: 0.1869 - accuracy: 0.9526 - val_loss: 4.0317 - val_accuracy: 0.4779\n",
            "Epoch 48/50\n",
            "156/156 [==============================] - 3s 18ms/step - loss: 0.2628 - accuracy: 0.9265 - val_loss: 3.8839 - val_accuracy: 0.4980\n",
            "Epoch 49/50\n",
            "156/156 [==============================] - 3s 18ms/step - loss: 0.1597 - accuracy: 0.9554 - val_loss: 4.2867 - val_accuracy: 0.4651\n",
            "Epoch 50/50\n",
            "156/156 [==============================] - 3s 18ms/step - loss: 0.0943 - accuracy: 0.9727 - val_loss: 3.5806 - val_accuracy: 0.5149\n"
          ]
        }
      ]
    },
    {
      "cell_type": "code",
      "metadata": {
        "id": "f1z_vHocu59c",
        "colab": {
          "base_uri": "https://localhost:8080/",
          "height": 499
        },
        "outputId": "843c1adb-d690-4259-ffce-b1262a34ebd9"
      },
      "source": [
        "acc = history.history['accuracy']\n",
        "val_acc = history.history['val_accuracy']\n",
        "\n",
        "loss=history.history['loss']\n",
        "val_loss=history.history['val_loss']\n",
        "\n",
        "epochs_range = range(epochs)\n",
        "\n",
        "plt.figure(figsize=(8, 8))\n",
        "plt.subplot(1, 2, 1)\n",
        "plt.plot(epochs_range, acc, label='Training Accuracy')\n",
        "plt.plot(epochs_range, val_acc, label='Validation Accuracy')\n",
        "plt.legend(loc='lower right')\n",
        "plt.title('Training and Validation Accuracy')\n",
        "\n",
        "plt.subplot(1, 2, 2)\n",
        "plt.plot(epochs_range, loss, label='Training Loss')\n",
        "plt.plot(epochs_range, val_loss, label='Validation Loss')\n",
        "plt.legend(loc='upper right')\n",
        "plt.title('Training and Validation Loss')\n",
        "plt.show()"
      ],
      "execution_count": null,
      "outputs": [
        {
          "output_type": "display_data",
          "data": {
            "image/png": "[encoded data removed]",
            "text/plain": [
              "<Figure size 576x576 with 2 Axes>"
            ]
          },
          "metadata": {
            "needs_background": "light"
          }
        }
      ]
    },
    {
      "cell_type": "code",
      "metadata": {
        "id": "XinJ6xXD9YNO"
      },
      "source": [
        "data_augmentation = keras.Sequential(\n",
        "  [\n",
        "    layers.experimental.preprocessing.RandomFlip(\"horizontal\", \n",
        "                                                 input_shape=(img_height, \n",
        "                                                              img_width,\n",
        "                                                              1)),\n",
        "    layers.experimental.preprocessing.RandomRotation(0.1),\n",
        "    layers.experimental.preprocessing.RandomZoom(0.1),\n",
        "  ]\n",
        ")"
      ],
      "execution_count": null,
      "outputs": []
    },
    {
      "cell_type": "code",
      "metadata": {
        "id": "8WT2BYElEYZj"
      },
      "source": [
        "model = Sequential([\n",
        "  data_augmentation,\n",
        "  layers.experimental.preprocessing.Rescaling(1./255),\n",
        "  layers.Conv2D(32, 3,input_shape = image_batch, activation='relu'),\n",
        "  layers.MaxPooling2D(),\n",
        "  layers.Conv2D(32, 3, padding='same', activation='relu'),\n",
        "  layers.MaxPooling2D(),\n",
        "  layers.Conv2D(32, 3, padding='same', activation='relu'),\n",
        "  layers.MaxPooling2D(),\n",
        "  layers.Dropout(0.2),\n",
        "  layers.Flatten(),\n",
        "  layers.Dense(128, activation='relu'),\n",
        "  BatchNormalization(),\n",
        "  layers.Dense(128, activation='relu'),\n",
        "  BatchNormalization(),\n",
        "  layers.Dense(128, activation='relu'),\n",
        "  BatchNormalization(),\n",
        "  layers.Dense(128, activation='relu'),\n",
        "  BatchNormalization(),\n",
        "  layers.Dense(128, activation='relu'),\n",
        "  BatchNormalization(),\n",
        "  layers.Dense(128, activation='relu'),\n",
        "  BatchNormalization(),\n",
        "  layers.Dense(128, activation='relu'),\n",
        "  BatchNormalization(),\n",
        "  layers.Dense(128, activation='relu'),\n",
        "  BatchNormalization(),\n",
        "  layers.Dense(107, activation='softmax'),\n",
        "  BatchNormalization(),\n",
        "  layers.Dense(num_classes)\n",
        "])"
      ],
      "execution_count": null,
      "outputs": []
    },
    {
      "cell_type": "code",
      "metadata": {
        "id": "opOHP3auEdsw",
        "colab": {
          "base_uri": "https://localhost:8080/"
        },
        "outputId": "4447a5f2-41f3-4d01-f358-e3dc0245dd5c"
      },
      "source": [
        "BatchNormalization(),model.compile(\n",
        "    optimizer='adam',\n",
        "    loss=tf.losses.SparseCategoricalCrossentropy(from_logits=True),\n",
        "    metrics=['accuracy'])"
      ],
      "execution_count": null,
      "outputs": [
        {
          "output_type": "execute_result",
          "data": {
            "text/plain": [
              "(<keras.layers.normalization.batch_normalization.BatchNormalization at 0x7fc05b4f46d0>,\n",
              " None)"
            ]
          },
          "metadata": {},
          "execution_count": 19
        }
      ]
    },
    {
      "cell_type": "code",
      "metadata": {
        "id": "3Ay4tlHlEfBX",
        "colab": {
          "base_uri": "https://localhost:8080/"
        },
        "outputId": "66002332-0c51-4588-868d-05d10d5a0df4"
      },
      "source": [
        "model.summary()"
      ],
      "execution_count": null,
      "outputs": [
        {
          "output_type": "stream",
          "name": "stdout",
          "text": [
            "Model: \"sequential_2\"\n",
            "_________________________________________________________________\n",
            " Layer (type)                Output Shape              Param #   \n",
            "=================================================================\n",
            " sequential_1 (Sequential)   (None, 180, 180, 1)       0         \n",
            "                                                                 \n",
            " rescaling_2 (Rescaling)     (None, 180, 180, 1)       0         \n",
            "                                                                 \n",
            " conv2d_3 (Conv2D)           (None, 178, 178, 32)      320       \n",
            "                                                                 \n",
            " max_pooling2d_3 (MaxPooling  (None, 89, 89, 32)       0         \n",
            " 2D)                                                             \n",
            "                                                                 \n",
            " conv2d_4 (Conv2D)           (None, 89, 89, 32)        9248      \n",
            "                                                                 \n",
            " max_pooling2d_4 (MaxPooling  (None, 44, 44, 32)       0         \n",
            " 2D)                                                             \n",
            "                                                                 \n",
            " conv2d_5 (Conv2D)           (None, 44, 44, 32)        9248      \n",
            "                                                                 \n",
            " max_pooling2d_5 (MaxPooling  (None, 22, 22, 32)       0         \n",
            " 2D)                                                             \n",
            "                                                                 \n",
            " dropout (Dropout)           (None, 22, 22, 32)        0         \n",
            "                                                                 \n",
            " flatten_1 (Flatten)         (None, 15488)             0         \n",
            "                                                                 \n",
            " dense_10 (Dense)            (None, 128)               1982592   \n",
            "                                                                 \n",
            " batch_normalization_10 (Bat  (None, 128)              512       \n",
            " chNormalization)                                                \n",
            "                                                                 \n",
            " dense_11 (Dense)            (None, 128)               16512     \n",
            "                                                                 \n",
            " batch_normalization_11 (Bat  (None, 128)              512       \n",
            " chNormalization)                                                \n",
            "                                                                 \n",
            " dense_12 (Dense)            (None, 128)               16512     \n",
            "                                                                 \n",
            " batch_normalization_12 (Bat  (None, 128)              512       \n",
            " chNormalization)                                                \n",
            "                                                                 \n",
            " dense_13 (Dense)            (None, 128)               16512     \n",
            "                                                                 \n",
            " batch_normalization_13 (Bat  (None, 128)              512       \n",
            " chNormalization)                                                \n",
            "                                                                 \n",
            " dense_14 (Dense)            (None, 128)               16512     \n",
            "                                                                 \n",
            " batch_normalization_14 (Bat  (None, 128)              512       \n",
            " chNormalization)                                                \n",
            "                                                                 \n",
            " dense_15 (Dense)            (None, 128)               16512     \n",
            "                                                                 \n",
            " batch_normalization_15 (Bat  (None, 128)              512       \n",
            " chNormalization)                                                \n",
            "                                                                 \n",
            " dense_16 (Dense)            (None, 128)               16512     \n",
            "                                                                 \n",
            " batch_normalization_16 (Bat  (None, 128)              512       \n",
            " chNormalization)                                                \n",
            "                                                                 \n",
            " dense_17 (Dense)            (None, 128)               16512     \n",
            "                                                                 \n",
            " batch_normalization_17 (Bat  (None, 128)              512       \n",
            " chNormalization)                                                \n",
            "                                                                 \n",
            " dense_18 (Dense)            (None, 107)               13803     \n",
            "                                                                 \n",
            " batch_normalization_18 (Bat  (None, 107)              428       \n",
            " chNormalization)                                                \n",
            "                                                                 \n",
            " dense_19 (Dense)            (None, 107)               11556     \n",
            "                                                                 \n",
            "=================================================================\n",
            "Total params: 2,146,875\n",
            "Trainable params: 2,144,613\n",
            "Non-trainable params: 2,262\n",
            "_________________________________________________________________\n"
          ]
        }
      ]
    },
    {
      "cell_type": "code",
      "metadata": {
        "id": "Jc8rD_v9Ef41",
        "colab": {
          "base_uri": "https://localhost:8080/"
        },
        "outputId": "d8f192b7-79a5-41a2-9311-8708c0678956"
      },
      "source": [
        "epochs = 50\n",
        "history = model.fit(\n",
        "  train_ds,\n",
        "  validation_data=val_ds,\n",
        "  epochs=epochs\n",
        ")"
      ],
      "execution_count": null,
      "outputs": [
        {
          "output_type": "stream",
          "name": "stdout",
          "text": [
            "Epoch 1/50\n",
            "156/156 [==============================] - 6s 22ms/step - loss: 3.9313 - accuracy: 0.1570 - val_loss: 4.1425 - val_accuracy: 0.1695\n",
            "Epoch 2/50\n",
            "156/156 [==============================] - 3s 19ms/step - loss: 3.0537 - accuracy: 0.2433 - val_loss: 3.6754 - val_accuracy: 0.2217\n",
            "Epoch 3/50\n",
            "156/156 [==============================] - 3s 20ms/step - loss: 2.7219 - accuracy: 0.2885 - val_loss: 3.1272 - val_accuracy: 0.2635\n",
            "Epoch 4/50\n",
            "156/156 [==============================] - 3s 20ms/step - loss: 2.5446 - accuracy: 0.3230 - val_loss: 2.9101 - val_accuracy: 0.3108\n",
            "Epoch 5/50\n",
            "156/156 [==============================] - 3s 20ms/step - loss: 2.3894 - accuracy: 0.3449 - val_loss: 3.1860 - val_accuracy: 0.2466\n",
            "Epoch 6/50\n",
            "156/156 [==============================] - 3s 19ms/step - loss: 2.2859 - accuracy: 0.3632 - val_loss: 2.5848 - val_accuracy: 0.3502\n",
            "Epoch 7/50\n",
            "156/156 [==============================] - 3s 19ms/step - loss: 2.1879 - accuracy: 0.3814 - val_loss: 2.8316 - val_accuracy: 0.3092\n",
            "Epoch 8/50\n",
            "156/156 [==============================] - 3s 19ms/step - loss: 2.1180 - accuracy: 0.3969 - val_loss: 2.9564 - val_accuracy: 0.2988\n",
            "Epoch 9/50\n",
            "156/156 [==============================] - 3s 20ms/step - loss: 2.0440 - accuracy: 0.4092 - val_loss: 2.7855 - val_accuracy: 0.3309\n",
            "Epoch 10/50\n",
            "156/156 [==============================] - 3s 20ms/step - loss: 1.9472 - accuracy: 0.4304 - val_loss: 2.5157 - val_accuracy: 0.3566\n",
            "Epoch 11/50\n",
            "156/156 [==============================] - 3s 20ms/step - loss: 1.9167 - accuracy: 0.4381 - val_loss: 3.0609 - val_accuracy: 0.3100\n",
            "Epoch 12/50\n",
            "156/156 [==============================] - 3s 19ms/step - loss: 1.8582 - accuracy: 0.4499 - val_loss: 2.8147 - val_accuracy: 0.3261\n",
            "Epoch 13/50\n",
            "156/156 [==============================] - 3s 19ms/step - loss: 1.8029 - accuracy: 0.4624 - val_loss: 2.7778 - val_accuracy: 0.3502\n",
            "Epoch 14/50\n",
            "156/156 [==============================] - 3s 19ms/step - loss: 1.7492 - accuracy: 0.4692 - val_loss: 3.1647 - val_accuracy: 0.3149\n",
            "Epoch 15/50\n",
            "156/156 [==============================] - 3s 19ms/step - loss: 1.6876 - accuracy: 0.4937 - val_loss: 2.7352 - val_accuracy: 0.3711\n",
            "Epoch 16/50\n",
            "156/156 [==============================] - 3s 19ms/step - loss: 1.6605 - accuracy: 0.4947 - val_loss: 3.0181 - val_accuracy: 0.3727\n",
            "Epoch 17/50\n",
            "156/156 [==============================] - 3s 19ms/step - loss: 1.6078 - accuracy: 0.5095 - val_loss: 2.6165 - val_accuracy: 0.3783\n",
            "Epoch 18/50\n",
            "156/156 [==============================] - 3s 19ms/step - loss: 1.5186 - accuracy: 0.5272 - val_loss: 2.4998 - val_accuracy: 0.3871\n",
            "Epoch 19/50\n",
            "156/156 [==============================] - 3s 19ms/step - loss: 1.5085 - accuracy: 0.5346 - val_loss: 2.5519 - val_accuracy: 0.3936\n",
            "Epoch 20/50\n",
            "156/156 [==============================] - 3s 19ms/step - loss: 1.4785 - accuracy: 0.5388 - val_loss: 3.0354 - val_accuracy: 0.3719\n",
            "Epoch 21/50\n",
            "156/156 [==============================] - 3s 19ms/step - loss: 1.4169 - accuracy: 0.5599 - val_loss: 3.1998 - val_accuracy: 0.3165\n",
            "Epoch 22/50\n",
            "156/156 [==============================] - 3s 19ms/step - loss: 1.3925 - accuracy: 0.5641 - val_loss: 2.7315 - val_accuracy: 0.3976\n",
            "Epoch 23/50\n",
            "156/156 [==============================] - 3s 20ms/step - loss: 1.3437 - accuracy: 0.5732 - val_loss: 2.9565 - val_accuracy: 0.3679\n",
            "Epoch 24/50\n",
            "156/156 [==============================] - 3s 20ms/step - loss: 1.3034 - accuracy: 0.5832 - val_loss: 3.0062 - val_accuracy: 0.3952\n",
            "Epoch 25/50\n",
            "156/156 [==============================] - 3s 20ms/step - loss: 1.2706 - accuracy: 0.5910 - val_loss: 2.4950 - val_accuracy: 0.4161\n",
            "Epoch 26/50\n",
            "156/156 [==============================] - 3s 19ms/step - loss: 1.2353 - accuracy: 0.6017 - val_loss: 2.8290 - val_accuracy: 0.3952\n",
            "Epoch 27/50\n",
            "156/156 [==============================] - 3s 20ms/step - loss: 1.1895 - accuracy: 0.6181 - val_loss: 2.6014 - val_accuracy: 0.4257\n",
            "Epoch 28/50\n",
            "156/156 [==============================] - 3s 20ms/step - loss: 1.1639 - accuracy: 0.6165 - val_loss: 2.5472 - val_accuracy: 0.4209\n",
            "Epoch 29/50\n",
            "156/156 [==============================] - 3s 20ms/step - loss: 1.1239 - accuracy: 0.6390 - val_loss: 2.5076 - val_accuracy: 0.4434\n",
            "Epoch 30/50\n",
            "156/156 [==============================] - 3s 20ms/step - loss: 1.1019 - accuracy: 0.6374 - val_loss: 2.4155 - val_accuracy: 0.4651\n",
            "Epoch 31/50\n",
            "156/156 [==============================] - 3s 20ms/step - loss: 1.0463 - accuracy: 0.6633 - val_loss: 3.2160 - val_accuracy: 0.3743\n",
            "Epoch 32/50\n",
            "156/156 [==============================] - 3s 20ms/step - loss: 1.0364 - accuracy: 0.6529 - val_loss: 3.1456 - val_accuracy: 0.3783\n",
            "Epoch 33/50\n",
            "156/156 [==============================] - 3s 20ms/step - loss: 0.9945 - accuracy: 0.6665 - val_loss: 2.6602 - val_accuracy: 0.4137\n",
            "Epoch 34/50\n",
            "156/156 [==============================] - 3s 20ms/step - loss: 0.9934 - accuracy: 0.6756 - val_loss: 2.6209 - val_accuracy: 0.4498\n",
            "Epoch 35/50\n",
            "156/156 [==============================] - 3s 20ms/step - loss: 0.9496 - accuracy: 0.6856 - val_loss: 2.8854 - val_accuracy: 0.4120\n",
            "Epoch 36/50\n",
            "156/156 [==============================] - 3s 20ms/step - loss: 0.9373 - accuracy: 0.6936 - val_loss: 2.8080 - val_accuracy: 0.4209\n",
            "Epoch 37/50\n",
            "156/156 [==============================] - 3s 20ms/step - loss: 0.8791 - accuracy: 0.7039 - val_loss: 2.8014 - val_accuracy: 0.4257\n",
            "Epoch 38/50\n",
            "156/156 [==============================] - 3s 20ms/step - loss: 0.8558 - accuracy: 0.7113 - val_loss: 3.1274 - val_accuracy: 0.3791\n",
            "Epoch 39/50\n",
            "156/156 [==============================] - 3s 20ms/step - loss: 0.8327 - accuracy: 0.7159 - val_loss: 3.3682 - val_accuracy: 0.3454\n",
            "Epoch 40/50\n",
            "156/156 [==============================] - 3s 20ms/step - loss: 0.8209 - accuracy: 0.7326 - val_loss: 3.1789 - val_accuracy: 0.4177\n",
            "Epoch 41/50\n",
            "156/156 [==============================] - 3s 20ms/step - loss: 0.8010 - accuracy: 0.7276 - val_loss: 3.1678 - val_accuracy: 0.3863\n",
            "Epoch 42/50\n",
            "156/156 [==============================] - 3s 20ms/step - loss: 0.8030 - accuracy: 0.7324 - val_loss: 2.9839 - val_accuracy: 0.4080\n",
            "Epoch 43/50\n",
            "156/156 [==============================] - 3s 20ms/step - loss: 0.7634 - accuracy: 0.7458 - val_loss: 2.8073 - val_accuracy: 0.4249\n",
            "Epoch 44/50\n",
            "156/156 [==============================] - 3s 19ms/step - loss: 0.7617 - accuracy: 0.7410 - val_loss: 3.0678 - val_accuracy: 0.4321\n",
            "Epoch 45/50\n",
            "156/156 [==============================] - 3s 20ms/step - loss: 0.7449 - accuracy: 0.7533 - val_loss: 3.1634 - val_accuracy: 0.4185\n",
            "Epoch 46/50\n",
            "156/156 [==============================] - 3s 20ms/step - loss: 0.6942 - accuracy: 0.7691 - val_loss: 3.1322 - val_accuracy: 0.4161\n",
            "Epoch 47/50\n",
            "156/156 [==============================] - 3s 20ms/step - loss: 0.6702 - accuracy: 0.7729 - val_loss: 2.8975 - val_accuracy: 0.4578\n",
            "Epoch 48/50\n",
            "156/156 [==============================] - 3s 20ms/step - loss: 0.6536 - accuracy: 0.7725 - val_loss: 2.9473 - val_accuracy: 0.4402\n",
            "Epoch 49/50\n",
            "156/156 [==============================] - 3s 19ms/step - loss: 0.6143 - accuracy: 0.7974 - val_loss: 3.2896 - val_accuracy: 0.4217\n",
            "Epoch 50/50\n",
            "156/156 [==============================] - 3s 19ms/step - loss: 0.6177 - accuracy: 0.7922 - val_loss: 3.7108 - val_accuracy: 0.4145\n"
          ]
        }
      ]
    },
    {
      "cell_type": "code",
      "metadata": {
        "id": "ynhS2KjVEhj8",
        "colab": {
          "base_uri": "https://localhost:8080/",
          "height": 499
        },
        "outputId": "c652d8d3-f4fe-47bc-c108-78b66abb8975"
      },
      "source": [
        "acc = history.history['accuracy']\n",
        "val_acc = history.history['val_accuracy']\n",
        "\n",
        "loss = history.history['loss']\n",
        "val_loss = history.history['val_loss']\n",
        "\n",
        "epochs_range = range(epochs)\n",
        "\n",
        "plt.figure(figsize=(8, 8))\n",
        "plt.subplot(1, 2, 1)\n",
        "plt.plot(epochs_range, acc, label='Training Accuracy')\n",
        "plt.plot(epochs_range, val_acc, label='Validation Accuracy')\n",
        "plt.legend(loc='lower right')\n",
        "plt.title('Training and Validation Accuracy')\n",
        "\n",
        "plt.subplot(1, 2, 2)\n",
        "plt.plot(epochs_range, loss, label='Training Loss')\n",
        "plt.plot(epochs_range, val_loss, label='Validation Loss')\n",
        "plt.legend(loc='upper right')\n",
        "plt.title('Training and Validation Loss')\n",
        "plt.show()"
      ],
      "execution_count": null,
      "outputs": [
        {
          "output_type": "display_data",
          "data": {
            "image/png": "[encoded data removed]",
            "text/plain": [
              "<Figure size 576x576 with 2 Axes>"
            ]
          },
          "metadata": {
            "needs_background": "light"
          }
        }
      ]
    },
    {
      "cell_type": "code",
      "metadata": {
        "id": "IbEQMrsAH2yZ",
        "colab": {
          "base_uri": "https://localhost:8080/"
        },
        "outputId": "68263324-4be5-4bab-ce3c-80f21ad627f0"
      },
      "source": [
        "model.compile(\n",
        "    optimizer='adam',\n",
        "    loss=tf.losses.SparseCategoricalCrossentropy(from_logits=True),\n",
        "    metrics=['accuracy'])\n",
        "model.summary()"
      ],
      "execution_count": null,
      "outputs": [
        {
          "output_type": "stream",
          "name": "stdout",
          "text": [
            "Model: \"sequential_2\"\n",
            "_________________________________________________________________\n",
            " Layer (type)                Output Shape              Param #   \n",
            "=================================================================\n",
            " sequential_1 (Sequential)   (None, 180, 180, 1)       0         \n",
            "                                                                 \n",
            " rescaling_2 (Rescaling)     (None, 180, 180, 1)       0         \n",
            "                                                                 \n",
            " conv2d_3 (Conv2D)           (None, 178, 178, 32)      320       \n",
            "                                                                 \n",
            " max_pooling2d_3 (MaxPooling  (None, 89, 89, 32)       0         \n",
            " 2D)                                                             \n",
            "                                                                 \n",
            " conv2d_4 (Conv2D)           (None, 89, 89, 32)        9248      \n",
            "                                                                 \n",
            " max_pooling2d_4 (MaxPooling  (None, 44, 44, 32)       0         \n",
            " 2D)                                                             \n",
            "                                                                 \n",
            " conv2d_5 (Conv2D)           (None, 44, 44, 32)        9248      \n",
            "                                                                 \n",
            " max_pooling2d_5 (MaxPooling  (None, 22, 22, 32)       0         \n",
            " 2D)                                                             \n",
            "                                                                 \n",
            " dropout (Dropout)           (None, 22, 22, 32)        0         \n",
            "                                                                 \n",
            " flatten_1 (Flatten)         (None, 15488)             0         \n",
            "                                                                 \n",
            " dense_10 (Dense)            (None, 128)               1982592   \n",
            "                                                                 \n",
            " batch_normalization_10 (Bat  (None, 128)              512       \n",
            " chNormalization)                                                \n",
            "                                                                 \n",
            " dense_11 (Dense)            (None, 128)               16512     \n",
            "                                                                 \n",
            " batch_normalization_11 (Bat  (None, 128)              512       \n",
            " chNormalization)                                                \n",
            "                                                                 \n",
            " dense_12 (Dense)            (None, 128)               16512     \n",
            "                                                                 \n",
            " batch_normalization_12 (Bat  (None, 128)              512       \n",
            " chNormalization)                                                \n",
            "                                                                 \n",
            " dense_13 (Dense)            (None, 128)               16512     \n",
            "                                                                 \n",
            " batch_normalization_13 (Bat  (None, 128)              512       \n",
            " chNormalization)                                                \n",
            "                                                                 \n",
            " dense_14 (Dense)            (None, 128)               16512     \n",
            "                                                                 \n",
            " batch_normalization_14 (Bat  (None, 128)              512       \n",
            " chNormalization)                                                \n",
            "                                                                 \n",
            " dense_15 (Dense)            (None, 128)               16512     \n",
            "                                                                 \n",
            " batch_normalization_15 (Bat  (None, 128)              512       \n",
            " chNormalization)                                                \n",
            "                                                                 \n",
            " dense_16 (Dense)            (None, 128)               16512     \n",
            "                                                                 \n",
            " batch_normalization_16 (Bat  (None, 128)              512       \n",
            " chNormalization)                                                \n",
            "                                                                 \n",
            " dense_17 (Dense)            (None, 128)               16512     \n",
            "                                                                 \n",
            " batch_normalization_17 (Bat  (None, 128)              512       \n",
            " chNormalization)                                                \n",
            "                                                                 \n",
            " dense_18 (Dense)            (None, 107)               13803     \n",
            "                                                                 \n",
            " batch_normalization_18 (Bat  (None, 107)              428       \n",
            " chNormalization)                                                \n",
            "                                                                 \n",
            " dense_19 (Dense)            (None, 107)               11556     \n",
            "                                                                 \n",
            "=================================================================\n",
            "Total params: 2,146,875\n",
            "Trainable params: 2,144,613\n",
            "Non-trainable params: 2,262\n",
            "_________________________________________________________________\n"
          ]
        }
      ]
    },
    {
      "cell_type": "code",
      "metadata": {
        "id": "df30HUqFjWre"
      },
      "source": [
        ""
      ],
      "execution_count": null,
      "outputs": []
    }
  ]
}