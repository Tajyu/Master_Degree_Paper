{
  "nbformat": 4,
  "nbformat_minor": 0,
  "metadata": {
    "colab": {
      "name": "3Class_Genus_V3_BatchNormal_Layer_10.ipynb",
      "provenance": [],
      "collapsed_sections": [],
      "mount_file_id": "1UW1-KVPr3FK24T6BVgJF-VEGVOJkZeYN",
      "authorship_tag": "ABX9TyPmc6sp0ojMKnaK1jietps8",
      "include_colab_link": true
    },
    "kernelspec": {
      "name": "python3",
      "display_name": "Python 3"
    },
    "language_info": {
      "name": "python"
    },
    "accelerator": "GPU"
  },
  "cells": [
    {
      "cell_type": "markdown",
      "metadata": {
        "id": "view-in-github",
        "colab_type": "text"
      },
      "source": [
        "<a href=\"https://colab.research.google.com/github/Tajyu/Master_Degree_Paper/blob/main/Code/Filter_32/No%20input_dim/3Class_Genus_V3_BatchNormal_Layer_10.ipynb\" target=\"_parent\"><img src=\"https://colab.research.google.com/assets/colab-badge.svg\" alt=\"Open In Colab\"/></a>"
      ]
    },
    {
      "cell_type": "code",
      "metadata": {
        "id": "yWckd06_68Em"
      },
      "source": [
        "import tensorflow as tf\n",
        "from tensorflow.keras import datasets, layers, models\n",
        "from keras.preprocessing.image import ImageDataGenerator\n",
        "import numpy as np\n",
        "import matplotlib.pyplot as plt\n",
        "import cv2 as cv\n",
        "import os\n",
        "import pathlib\n",
        "import PIL\n",
        "from tensorflow import keras\n",
        "from tensorflow.keras import layers\n",
        "from tensorflow.keras.models import Sequential\n",
        "from tensorflow.keras.layers import Dense, Flatten, BatchNormalization, Dropout"
      ],
      "execution_count": null,
      "outputs": []
    },
    {
      "cell_type": "code",
      "metadata": {
        "id": "xav9zirHttk_"
      },
      "source": [
        "image_list = os.listdir('/content/drive/MyDrive/Colab Notebooks/Final_Project/Cell_Genus')"
      ],
      "execution_count": null,
      "outputs": []
    },
    {
      "cell_type": "code",
      "metadata": {
        "colab": {
          "base_uri": "https://localhost:8080/"
        },
        "id": "K-wD0dM5tx_E",
        "outputId": "358b5a46-590b-47fe-8cca-6fac9a33eef1"
      },
      "source": [
        "print(image_list)"
      ],
      "execution_count": null,
      "outputs": [
        {
          "output_type": "stream",
          "name": "stdout",
          "text": [
            "['10_Genus_Stauroneis_Ehrenberg', '10_Genus_Staurosira_Ehrenberg', '11_Genus_Craspedostauros_E.J_Cox_1999', '11_Genus_Staurosirella_Williams_and_Round', '12_Genus_Caloneis_Cleve_1894', '12_Genus_Synedra_Ehrenberg', '13_Genus_Pinnularia_Ehrenberg_1843', '1_Genus_Acanthoceras_Honigmann', '1_Genus_Achnanthes_Bory', '1_Genus_Actinocyclus_Ehrenberg', '1_Genus_Aphanocapsa_Nageli_1849', '1_Genus_Asterionella_Hassall', '1_Genus_Aulacoseira', '1_Genus_Biremis_Mann_et_Cox_in_Round_Crawford_and_Mann', '1_Genus_Characium_A_Braun_in_Kutzing_1849', '1_Genus_Chroococcus_Nageli', '1_Genus_Closterium_Nitzsch_ex_Ralfs_1848', '1_Genus_Coelastrum_Nageli_1849', '1_Genus_Cylindrocystis_Meneghini_ex_de_Bary_1858', '1_Genus_Dictyosphaerium_Nageli_1849', '1_Genus_Docidium_Brebisson_ex_Ralfs_1848', '1_Genus_Eunotia_Ehrenberg', '1_Genus_Geitlerinema_(Anagnostidis_et_Komarek)_Anagnostidis_1989', '1_Genus_Gonatozygon_de_Bary_1856', '1_Genus_Hydrodictyon_Roth_1797', '1_Genus_Hydrosera_whampoensis', '1_Genus_Jaaginema_Anagnostidis_et_Komarek_1988', '1_Genus_Lyngbya_C_Agardh_ex_Gomont_1892', '1_Genus_Melosira_Agardh', '1_Genus_Micractinium_Fresenius_1858', '1_Genus_Micrasterias_Ralfs_1848', '1_Genus_Microcystis_Kutzing_ex_Lemmermann_1907', '1_Genus_Oscillatoria_Vaucher_ex_Gomont_1982', '1_Genus_Pediastrum_Meyen_1829', '1_Genus_Penium_Brebisson_ex_Ralfs_in_Ralfs_1848', '1_Genus_Phormidium_Kutzing_ex_Gomont_1892', '1_Genus_Planktothrix_Anagnostidis_et_Komarek_1988', '1_Genus_Pleurosira_laevis_(Ehrenberg)', '1_Genus_Rhizosolenia_Ehrenberg', '1_Genus_Schizochlamydella_Korshikov_1953', '1_Genus_Staurodesmus_Teiling_1848', '1_Genus_Trochiscia_Kutzing_1834', '1_Scenedesmus_Hegewald_1978', '2_Acutodesmus_Hegewald_1978', '2_Genus_Achnanthidium_Kutzing', '2_Genus_Actinastrum_Lagerheim_1882', '2_Genus_Actinella_Lewis', '2_Genus_Ankyra_Fott_1957', '2_Genus_Caloneis_Cleve', '2_Genus_Chaetoceros_Ehrenberg', '2_Genus_Coenochloris_Korshikov_1953', '2_Genus_Cyclotella', '2_Genus_Diatoma_Bory', '2_Genus_Dimorphococcus_A_Braun_1855', '2_Genus_Golenkinia_Chodat_1894', '2_Genus_Haplotaenium_Bando_1988', '2_Genus_Leibleinia_(Gomont)_L_Hoffman_1985', '2_Genus_Leptolyngbya_Anagnostidis_et_Komarek_1988', '2_Genus_Merismopedia_Meyen_1839', '2_Genus_Netrium_(Nageli)_Itzigsohn_et_Rothe_in_Rabenhorst_1856', '2_Genus_Orthoseira_Thwaites_1848', '2_Genus_Phormidium_Kutzing_ex_Gomont_1892', '2_Genus_Sorastrum_Kutzing_1845', '2_Genus_Staurastrum_Meyen_ex_Ralfs_1848', '3_Desmodesmus_Chodat_1926', '3_Genus_Acanthosphaera_Lemmerman_1899', '3_Genus_Anorthoneis_Grunow', '3_Genus_Cyclostephanos_Round', '3_Genus_Dichotomococcus_Korshikov_1928', '3_Genus_Heteroleibleinia_(Geitler)_L_Hoffmann_1985', '3_Genus_Limnothrix_Meffert_1988', '3_Genus_Meridion_Agardh', '3_Genus_Paradoxia_Svirenko_1928', '3_Genus_Peronia_Bebisson_and_Arnott_ex_Kitton', '3_Genus_Phormidiochaete_Komarek_in_Anagnostidis_2001', '3_Genus_Pinnularia_Ehrenberg_1', '3_Genus_Pleurotaenium_Nageli_1849', '3_Genus_Radiococcus_Schmidle_1902', '3_Genus_Snowella_Elenkin_1938', '3_Genus_Spirotaenia_Brebisson_in_Ralfs_1848', '4_Genus_Botryococcus_Kutzing_1849', '4_Genus_Cocconeis_Ehrenberg', '4_Genus_Eutetramorus_Walton_1918', '4_Genus_Leptolyngbya_Anagnostidis_et_Komarek_1988', '4_Genus_Opephora_Petit', '4_Genus_Pinnularia_Ehrenberg_2', '4_Genus_Schroederia_Lemmermann_1898', '4_Genus_Stephanodiscus_Ehrenberg', '4_Genus_Synechocystis_Sauvageau_1892', '4_Genus_Tortitaenia_A_J_Brook_1998', '5_Genus_Caloneis_Cleve', '5_Genus_Coenocystis_Korshikov_1953', '5_Genus_Planktolyngbya_Anagnostidis_et_Komarek_1988', '5_Genus_Tabellaria_Ehrenberg', '5_Genus_Thalassiosira_Cleve', '5_Genus_Woronichinia_Elenkin_1933', '6_Genus_Anomoeoneis_Pfitzer', '6_Genus_Fragilaria_Lyngbye', '6_Genus_Gloeocystis_Nageli_1849', '6_Genus_Pseudanabaena_Lauterborn_1915', '6_Genus_Skeletonema_Greville', '7_Genus_Caloneis_Cleve', '7_Genus_Hannaea_Patrick', '8_Genus_Diploneis(Ehrenberg)_Cleve', '8_Genus_Pseudostaurosira_Williams_and_Round', '9_Genus_Neidium_Pfitzer', '9_Genus_Punctastriata_Williams_and_Round']\n"
          ]
        }
      ]
    },
    {
      "cell_type": "code",
      "metadata": {
        "id": "o-0DvzEHt8VE"
      },
      "source": [
        "data_generator = ImageDataGenerator(rescale = 1./255)\n",
        "\n",
        "data_dir = \"/content/drive/MyDrive/Colab Notebooks/Final_Project/Cell_Genus\""
      ],
      "execution_count": null,
      "outputs": []
    },
    {
      "cell_type": "code",
      "metadata": {
        "id": "7aTCfEm3t10n"
      },
      "source": [
        "batch_size = 32\n",
        "img_height = 180\n",
        "img_width = 180"
      ],
      "execution_count": null,
      "outputs": []
    },
    {
      "cell_type": "code",
      "metadata": {
        "id": "9Smg-miEt22s",
        "colab": {
          "base_uri": "https://localhost:8080/"
        },
        "outputId": "925acb01-4068-428d-e2e4-b1b255dbbea6"
      },
      "source": [
        "train_ds = tf.keras.preprocessing.image_dataset_from_directory(\n",
        "  data_dir,\n",
        "  color_mode = \"grayscale\",\n",
        "  validation_split=0.2,\n",
        "  subset=\"training\",\n",
        "  seed=123,\n",
        "  image_size=(img_height, img_width),\n",
        "  batch_size=batch_size)"
      ],
      "execution_count": null,
      "outputs": [
        {
          "output_type": "stream",
          "name": "stdout",
          "text": [
            "Found 6226 files belonging to 107 classes.\n",
            "Using 4981 files for training.\n"
          ]
        }
      ]
    },
    {
      "cell_type": "code",
      "metadata": {
        "id": "1nR0WdQGt44x",
        "colab": {
          "base_uri": "https://localhost:8080/"
        },
        "outputId": "2cf2a640-e2de-409c-fe4d-e3b8e93f94a3"
      },
      "source": [
        "val_ds = tf.keras.preprocessing.image_dataset_from_directory(\n",
        "  data_dir,\n",
        "  color_mode = \"grayscale\",\n",
        "  validation_split=0.2,\n",
        "  subset=\"validation\",\n",
        "  seed=123,\n",
        "  image_size=(img_height, img_width),\n",
        "  batch_size=batch_size)"
      ],
      "execution_count": null,
      "outputs": [
        {
          "output_type": "stream",
          "name": "stdout",
          "text": [
            "Found 6226 files belonging to 107 classes.\n",
            "Using 1245 files for validation.\n"
          ]
        }
      ]
    },
    {
      "cell_type": "code",
      "metadata": {
        "id": "F-cz_CtGug8Y",
        "colab": {
          "base_uri": "https://localhost:8080/"
        },
        "outputId": "1e045183-b934-4d8e-a0db-e68f08cb435b"
      },
      "source": [
        "class_names = train_ds.class_names\n",
        "print(class_names)"
      ],
      "execution_count": null,
      "outputs": [
        {
          "output_type": "stream",
          "name": "stdout",
          "text": [
            "['10_Genus_Stauroneis_Ehrenberg', '10_Genus_Staurosira_Ehrenberg', '11_Genus_Craspedostauros_E.J_Cox_1999', '11_Genus_Staurosirella_Williams_and_Round', '12_Genus_Caloneis_Cleve_1894', '12_Genus_Synedra_Ehrenberg', '13_Genus_Pinnularia_Ehrenberg_1843', '1_Genus_Acanthoceras_Honigmann', '1_Genus_Achnanthes_Bory', '1_Genus_Actinocyclus_Ehrenberg', '1_Genus_Aphanocapsa_Nageli_1849', '1_Genus_Asterionella_Hassall', '1_Genus_Aulacoseira', '1_Genus_Biremis_Mann_et_Cox_in_Round_Crawford_and_Mann', '1_Genus_Characium_A_Braun_in_Kutzing_1849', '1_Genus_Chroococcus_Nageli', '1_Genus_Closterium_Nitzsch_ex_Ralfs_1848', '1_Genus_Coelastrum_Nageli_1849', '1_Genus_Cylindrocystis_Meneghini_ex_de_Bary_1858', '1_Genus_Dictyosphaerium_Nageli_1849', '1_Genus_Docidium_Brebisson_ex_Ralfs_1848', '1_Genus_Eunotia_Ehrenberg', '1_Genus_Geitlerinema_(Anagnostidis_et_Komarek)_Anagnostidis_1989', '1_Genus_Gonatozygon_de_Bary_1856', '1_Genus_Hydrodictyon_Roth_1797', '1_Genus_Hydrosera_whampoensis', '1_Genus_Jaaginema_Anagnostidis_et_Komarek_1988', '1_Genus_Lyngbya_C_Agardh_ex_Gomont_1892', '1_Genus_Melosira_Agardh', '1_Genus_Micractinium_Fresenius_1858', '1_Genus_Micrasterias_Ralfs_1848', '1_Genus_Microcystis_Kutzing_ex_Lemmermann_1907', '1_Genus_Oscillatoria_Vaucher_ex_Gomont_1982', '1_Genus_Pediastrum_Meyen_1829', '1_Genus_Penium_Brebisson_ex_Ralfs_in_Ralfs_1848', '1_Genus_Phormidium_Kutzing_ex_Gomont_1892', '1_Genus_Planktothrix_Anagnostidis_et_Komarek_1988', '1_Genus_Pleurosira_laevis_(Ehrenberg)', '1_Genus_Rhizosolenia_Ehrenberg', '1_Genus_Schizochlamydella_Korshikov_1953', '1_Genus_Staurodesmus_Teiling_1848', '1_Genus_Trochiscia_Kutzing_1834', '1_Scenedesmus_Hegewald_1978', '2_Acutodesmus_Hegewald_1978', '2_Genus_Achnanthidium_Kutzing', '2_Genus_Actinastrum_Lagerheim_1882', '2_Genus_Actinella_Lewis', '2_Genus_Ankyra_Fott_1957', '2_Genus_Caloneis_Cleve', '2_Genus_Chaetoceros_Ehrenberg', '2_Genus_Coenochloris_Korshikov_1953', '2_Genus_Cyclotella', '2_Genus_Diatoma_Bory', '2_Genus_Dimorphococcus_A_Braun_1855', '2_Genus_Golenkinia_Chodat_1894', '2_Genus_Haplotaenium_Bando_1988', '2_Genus_Leibleinia_(Gomont)_L_Hoffman_1985', '2_Genus_Leptolyngbya_Anagnostidis_et_Komarek_1988', '2_Genus_Merismopedia_Meyen_1839', '2_Genus_Netrium_(Nageli)_Itzigsohn_et_Rothe_in_Rabenhorst_1856', '2_Genus_Orthoseira_Thwaites_1848', '2_Genus_Phormidium_Kutzing_ex_Gomont_1892', '2_Genus_Sorastrum_Kutzing_1845', '2_Genus_Staurastrum_Meyen_ex_Ralfs_1848', '3_Desmodesmus_Chodat_1926', '3_Genus_Acanthosphaera_Lemmerman_1899', '3_Genus_Anorthoneis_Grunow', '3_Genus_Cyclostephanos_Round', '3_Genus_Dichotomococcus_Korshikov_1928', '3_Genus_Heteroleibleinia_(Geitler)_L_Hoffmann_1985', '3_Genus_Limnothrix_Meffert_1988', '3_Genus_Meridion_Agardh', '3_Genus_Paradoxia_Svirenko_1928', '3_Genus_Peronia_Bebisson_and_Arnott_ex_Kitton', '3_Genus_Phormidiochaete_Komarek_in_Anagnostidis_2001', '3_Genus_Pinnularia_Ehrenberg_1', '3_Genus_Pleurotaenium_Nageli_1849', '3_Genus_Radiococcus_Schmidle_1902', '3_Genus_Snowella_Elenkin_1938', '3_Genus_Spirotaenia_Brebisson_in_Ralfs_1848', '4_Genus_Botryococcus_Kutzing_1849', '4_Genus_Cocconeis_Ehrenberg', '4_Genus_Eutetramorus_Walton_1918', '4_Genus_Leptolyngbya_Anagnostidis_et_Komarek_1988', '4_Genus_Opephora_Petit', '4_Genus_Pinnularia_Ehrenberg_2', '4_Genus_Schroederia_Lemmermann_1898', '4_Genus_Stephanodiscus_Ehrenberg', '4_Genus_Synechocystis_Sauvageau_1892', '4_Genus_Tortitaenia_A_J_Brook_1998', '5_Genus_Caloneis_Cleve', '5_Genus_Coenocystis_Korshikov_1953', '5_Genus_Planktolyngbya_Anagnostidis_et_Komarek_1988', '5_Genus_Tabellaria_Ehrenberg', '5_Genus_Thalassiosira_Cleve', '5_Genus_Woronichinia_Elenkin_1933', '6_Genus_Anomoeoneis_Pfitzer', '6_Genus_Fragilaria_Lyngbye', '6_Genus_Gloeocystis_Nageli_1849', '6_Genus_Pseudanabaena_Lauterborn_1915', '6_Genus_Skeletonema_Greville', '7_Genus_Caloneis_Cleve', '7_Genus_Hannaea_Patrick', '8_Genus_Diploneis(Ehrenberg)_Cleve', '8_Genus_Pseudostaurosira_Williams_and_Round', '9_Genus_Neidium_Pfitzer', '9_Genus_Punctastriata_Williams_and_Round']\n"
          ]
        }
      ]
    },
    {
      "cell_type": "code",
      "metadata": {
        "id": "5EQOikPAukic",
        "colab": {
          "base_uri": "https://localhost:8080/"
        },
        "outputId": "9d7c63b8-4fe2-4512-d562-81211f882b25"
      },
      "source": [
        "for image_batch, labels_batch in train_ds:\n",
        "  print(image_batch.shape)\n",
        "  print(labels_batch.shape)\n",
        "  break"
      ],
      "execution_count": null,
      "outputs": [
        {
          "output_type": "stream",
          "name": "stdout",
          "text": [
            "(32, 180, 180, 1)\n",
            "(32,)\n"
          ]
        }
      ]
    },
    {
      "cell_type": "code",
      "metadata": {
        "id": "9eVl7tiDux9q"
      },
      "source": [
        "from tensorflow.keras import layers\n",
        "\n",
        "normalization_layer = tf.keras.layers.experimental.preprocessing.Rescaling(1./255)"
      ],
      "execution_count": null,
      "outputs": []
    },
    {
      "cell_type": "code",
      "metadata": {
        "id": "AiIrsxzZuzEo",
        "colab": {
          "base_uri": "https://localhost:8080/"
        },
        "outputId": "4a746073-6d3d-47f8-dea9-c863cb730947"
      },
      "source": [
        "normalized_ds = train_ds.map(lambda x, y: (normalization_layer(x), y))\n",
        "image_batch, labels_batch = next(iter(normalized_ds))\n",
        "first_image = image_batch[0]\n",
        "# Notice the pixels values are now in `[0,1]`.\n",
        "print(np.min(first_image), np.max(first_image))"
      ],
      "execution_count": null,
      "outputs": [
        {
          "output_type": "stream",
          "name": "stdout",
          "text": [
            "0.0 1.0\n"
          ]
        }
      ]
    },
    {
      "cell_type": "code",
      "metadata": {
        "id": "__WbVabru0Bp"
      },
      "source": [
        "AUTOTUNE = tf.data.experimental.AUTOTUNE\n",
        "\n",
        "train_ds = train_ds.cache().prefetch(buffer_size=AUTOTUNE)\n",
        "val_ds = val_ds.cache().prefetch(buffer_size=AUTOTUNE)"
      ],
      "execution_count": null,
      "outputs": []
    },
    {
      "cell_type": "code",
      "metadata": {
        "id": "g1GeYFXCu2gV"
      },
      "source": [
        "num_classes = 107\n",
        "model = tf.keras.Sequential([\n",
        "    layers.experimental.preprocessing.Rescaling(1./255),\n",
        "    layers.Conv2D(32, 3,input_shape = image_batch, activation='relu'),\n",
        "    layers.MaxPooling2D(),\n",
        "    layers.Conv2D(32, 3, activation='relu'),\n",
        "    layers.MaxPooling2D(),\n",
        "    layers.Conv2D(32, 3, activation='relu'),\n",
        "    layers.MaxPooling2D(),\n",
        "    layers.Flatten(),\n",
        "    BatchNormalization(),\n",
        "    layers.Dense(128, activation='relu'),\n",
        "    BatchNormalization(),\n",
        "    layers.Dense(128, activation='relu'),\n",
        "    BatchNormalization(),\n",
        "    layers.Dense(128, activation='relu'),\n",
        "    BatchNormalization(),\n",
        "    layers.Dense(128, activation='relu'),\n",
        "    BatchNormalization(),\n",
        "    layers.Dense(128, activation='relu'),\n",
        "    BatchNormalization(),\n",
        "    layers.Dense(128, activation='relu'),\n",
        "    BatchNormalization(),\n",
        "    layers.Dense(128, activation='relu'),\n",
        "    BatchNormalization(),\n",
        "    layers.Dense(128, activation='relu'),\n",
        "    BatchNormalization(),\n",
        "    layers.Dense(128, activation='relu'),\n",
        "    BatchNormalization(),\n",
        "    layers.Dense(107, activation='softmax'),\n",
        "    BatchNormalization(),\n",
        "    layers.Dense(num_classes)\n",
        "    ])"
      ],
      "execution_count": null,
      "outputs": []
    },
    {
      "cell_type": "code",
      "metadata": {
        "id": "wU4xPAvNYWry"
      },
      "source": [
        "model.compile(\n",
        "    optimizer='adam',\n",
        "    loss=tf.losses.SparseCategoricalCrossentropy(from_logits=True),\n",
        "    metrics=['accuracy'])"
      ],
      "execution_count": null,
      "outputs": []
    },
    {
      "cell_type": "code",
      "metadata": {
        "id": "Tk8ssrbHu44p",
        "colab": {
          "base_uri": "https://localhost:8080/"
        },
        "outputId": "0e1d025d-8f35-4d89-dc6c-b9905c7b1ca3"
      },
      "source": [
        "epochs=50\n",
        "history = model.fit(\n",
        "  train_ds,\n",
        "  validation_data=val_ds,\n",
        "  epochs=epochs\n",
        ")"
      ],
      "execution_count": null,
      "outputs": [
        {
          "output_type": "stream",
          "name": "stdout",
          "text": [
            "Epoch 1/50\n",
            "156/156 [==============================] - 867s 6s/step - loss: 3.7847 - accuracy: 0.2082 - val_loss: 4.1984 - val_accuracy: 0.1293\n",
            "Epoch 2/50\n",
            "156/156 [==============================] - 3s 18ms/step - loss: 2.7160 - accuracy: 0.3303 - val_loss: 3.7832 - val_accuracy: 0.1992\n",
            "Epoch 3/50\n",
            "156/156 [==============================] - 3s 18ms/step - loss: 2.3227 - accuracy: 0.3933 - val_loss: 3.0229 - val_accuracy: 0.3462\n",
            "Epoch 4/50\n",
            "156/156 [==============================] - 3s 19ms/step - loss: 2.0654 - accuracy: 0.4517 - val_loss: 2.8336 - val_accuracy: 0.3044\n",
            "Epoch 5/50\n",
            "156/156 [==============================] - 3s 18ms/step - loss: 1.8567 - accuracy: 0.4943 - val_loss: 2.4994 - val_accuracy: 0.3751\n",
            "Epoch 6/50\n",
            "156/156 [==============================] - 3s 18ms/step - loss: 1.6240 - accuracy: 0.5561 - val_loss: 2.2901 - val_accuracy: 0.4305\n",
            "Epoch 7/50\n",
            "156/156 [==============================] - 3s 19ms/step - loss: 1.4123 - accuracy: 0.6047 - val_loss: 2.1666 - val_accuracy: 0.4610\n",
            "Epoch 8/50\n",
            "156/156 [==============================] - 3s 19ms/step - loss: 1.2411 - accuracy: 0.6493 - val_loss: 2.5751 - val_accuracy: 0.4153\n",
            "Epoch 9/50\n",
            "156/156 [==============================] - 3s 19ms/step - loss: 1.1295 - accuracy: 0.6800 - val_loss: 2.5890 - val_accuracy: 0.4104\n",
            "Epoch 10/50\n",
            "156/156 [==============================] - 3s 18ms/step - loss: 0.9889 - accuracy: 0.7189 - val_loss: 2.4912 - val_accuracy: 0.4289\n",
            "Epoch 11/50\n",
            "156/156 [==============================] - 3s 18ms/step - loss: 0.8790 - accuracy: 0.7553 - val_loss: 2.6732 - val_accuracy: 0.4386\n",
            "Epoch 12/50\n",
            "156/156 [==============================] - 3s 18ms/step - loss: 0.7768 - accuracy: 0.7864 - val_loss: 2.7318 - val_accuracy: 0.4578\n",
            "Epoch 13/50\n",
            "156/156 [==============================] - 3s 18ms/step - loss: 0.6914 - accuracy: 0.8018 - val_loss: 2.7206 - val_accuracy: 0.4490\n",
            "Epoch 14/50\n",
            "156/156 [==============================] - 3s 18ms/step - loss: 0.6230 - accuracy: 0.8281 - val_loss: 3.1367 - val_accuracy: 0.4225\n",
            "Epoch 15/50\n",
            "156/156 [==============================] - 3s 18ms/step - loss: 0.5370 - accuracy: 0.8488 - val_loss: 2.6847 - val_accuracy: 0.4803\n",
            "Epoch 16/50\n",
            "156/156 [==============================] - 3s 18ms/step - loss: 0.4856 - accuracy: 0.8633 - val_loss: 2.6089 - val_accuracy: 0.4980\n",
            "Epoch 17/50\n",
            "156/156 [==============================] - 3s 18ms/step - loss: 0.4072 - accuracy: 0.8894 - val_loss: 2.6238 - val_accuracy: 0.4988\n",
            "Epoch 18/50\n",
            "156/156 [==============================] - 3s 18ms/step - loss: 0.3476 - accuracy: 0.9014 - val_loss: 2.8672 - val_accuracy: 0.4956\n",
            "Epoch 19/50\n",
            "156/156 [==============================] - 3s 18ms/step - loss: 0.3163 - accuracy: 0.9081 - val_loss: 2.8629 - val_accuracy: 0.4932\n",
            "Epoch 20/50\n",
            "156/156 [==============================] - 3s 19ms/step - loss: 0.3332 - accuracy: 0.9020 - val_loss: 2.8941 - val_accuracy: 0.4819\n",
            "Epoch 21/50\n",
            "156/156 [==============================] - 3s 18ms/step - loss: 0.3026 - accuracy: 0.9111 - val_loss: 3.1945 - val_accuracy: 0.4731\n",
            "Epoch 22/50\n",
            "156/156 [==============================] - 3s 18ms/step - loss: 0.2693 - accuracy: 0.9245 - val_loss: 3.2487 - val_accuracy: 0.4884\n",
            "Epoch 23/50\n",
            "156/156 [==============================] - 3s 18ms/step - loss: 0.2279 - accuracy: 0.9374 - val_loss: 2.9746 - val_accuracy: 0.4739\n",
            "Epoch 24/50\n",
            "156/156 [==============================] - 3s 19ms/step - loss: 0.2108 - accuracy: 0.9404 - val_loss: 3.3036 - val_accuracy: 0.4771\n",
            "Epoch 25/50\n",
            "156/156 [==============================] - 3s 18ms/step - loss: 0.1945 - accuracy: 0.9476 - val_loss: 3.0771 - val_accuracy: 0.4892\n",
            "Epoch 26/50\n",
            "156/156 [==============================] - 3s 18ms/step - loss: 0.1789 - accuracy: 0.9518 - val_loss: 3.5225 - val_accuracy: 0.4610\n",
            "Epoch 27/50\n",
            "156/156 [==============================] - 3s 18ms/step - loss: 0.1704 - accuracy: 0.9546 - val_loss: 3.2055 - val_accuracy: 0.4988\n",
            "Epoch 28/50\n",
            "156/156 [==============================] - 3s 18ms/step - loss: 0.1742 - accuracy: 0.9508 - val_loss: 3.5243 - val_accuracy: 0.4779\n",
            "Epoch 29/50\n",
            "156/156 [==============================] - 3s 18ms/step - loss: 0.1699 - accuracy: 0.9492 - val_loss: 3.5419 - val_accuracy: 0.4884\n",
            "Epoch 30/50\n",
            "156/156 [==============================] - 3s 18ms/step - loss: 0.1694 - accuracy: 0.9536 - val_loss: 3.8862 - val_accuracy: 0.4490\n",
            "Epoch 31/50\n",
            "156/156 [==============================] - 3s 18ms/step - loss: 0.1571 - accuracy: 0.9560 - val_loss: 3.3400 - val_accuracy: 0.4900\n",
            "Epoch 32/50\n",
            "156/156 [==============================] - 3s 19ms/step - loss: 0.1316 - accuracy: 0.9643 - val_loss: 3.5264 - val_accuracy: 0.4900\n",
            "Epoch 33/50\n",
            "156/156 [==============================] - 3s 18ms/step - loss: 0.1163 - accuracy: 0.9715 - val_loss: 3.4551 - val_accuracy: 0.4924\n",
            "Epoch 34/50\n",
            "156/156 [==============================] - 3s 18ms/step - loss: 0.1207 - accuracy: 0.9679 - val_loss: 3.4512 - val_accuracy: 0.4964\n",
            "Epoch 35/50\n",
            "156/156 [==============================] - 3s 18ms/step - loss: 0.0989 - accuracy: 0.9749 - val_loss: 3.6757 - val_accuracy: 0.4980\n",
            "Epoch 36/50\n",
            "156/156 [==============================] - 3s 18ms/step - loss: 0.1112 - accuracy: 0.9689 - val_loss: 3.6982 - val_accuracy: 0.4859\n",
            "Epoch 37/50\n",
            "156/156 [==============================] - 3s 18ms/step - loss: 0.1082 - accuracy: 0.9705 - val_loss: 3.4203 - val_accuracy: 0.5173\n",
            "Epoch 38/50\n",
            "156/156 [==============================] - 3s 19ms/step - loss: 0.0720 - accuracy: 0.9815 - val_loss: 3.6367 - val_accuracy: 0.4924\n",
            "Epoch 39/50\n",
            "156/156 [==============================] - 3s 18ms/step - loss: 0.0530 - accuracy: 0.9872 - val_loss: 3.5169 - val_accuracy: 0.5141\n",
            "Epoch 40/50\n",
            "156/156 [==============================] - 3s 18ms/step - loss: 0.1001 - accuracy: 0.9723 - val_loss: 3.8852 - val_accuracy: 0.4731\n",
            "Epoch 41/50\n",
            "156/156 [==============================] - 3s 18ms/step - loss: 0.2213 - accuracy: 0.9384 - val_loss: 3.7410 - val_accuracy: 0.4835\n",
            "Epoch 42/50\n",
            "156/156 [==============================] - 3s 19ms/step - loss: 0.1792 - accuracy: 0.9478 - val_loss: 3.8496 - val_accuracy: 0.4771\n",
            "Epoch 43/50\n",
            "156/156 [==============================] - 3s 18ms/step - loss: 0.1320 - accuracy: 0.9635 - val_loss: 4.1751 - val_accuracy: 0.4514\n",
            "Epoch 44/50\n",
            "156/156 [==============================] - 3s 18ms/step - loss: 0.0910 - accuracy: 0.9771 - val_loss: 3.7273 - val_accuracy: 0.5052\n",
            "Epoch 45/50\n",
            "156/156 [==============================] - 3s 18ms/step - loss: 0.0884 - accuracy: 0.9767 - val_loss: 3.6948 - val_accuracy: 0.4948\n",
            "Epoch 46/50\n",
            "156/156 [==============================] - 3s 19ms/step - loss: 0.0701 - accuracy: 0.9821 - val_loss: 3.6312 - val_accuracy: 0.5004\n",
            "Epoch 47/50\n",
            "156/156 [==============================] - 3s 19ms/step - loss: 0.0583 - accuracy: 0.9851 - val_loss: 3.6997 - val_accuracy: 0.4940\n",
            "Epoch 48/50\n",
            "156/156 [==============================] - 3s 18ms/step - loss: 0.0380 - accuracy: 0.9906 - val_loss: 3.6050 - val_accuracy: 0.5205\n",
            "Epoch 49/50\n",
            "156/156 [==============================] - 3s 19ms/step - loss: 0.0269 - accuracy: 0.9950 - val_loss: 3.6673 - val_accuracy: 0.5213\n",
            "Epoch 50/50\n",
            "156/156 [==============================] - 3s 18ms/step - loss: 0.0236 - accuracy: 0.9958 - val_loss: 3.5682 - val_accuracy: 0.5245\n"
          ]
        }
      ]
    },
    {
      "cell_type": "code",
      "metadata": {
        "id": "f1z_vHocu59c",
        "colab": {
          "base_uri": "https://localhost:8080/",
          "height": 499
        },
        "outputId": "819204e4-276e-464f-b35d-58333ba61cfe"
      },
      "source": [
        "acc = history.history['accuracy']\n",
        "val_acc = history.history['val_accuracy']\n",
        "\n",
        "loss=history.history['loss']\n",
        "val_loss=history.history['val_loss']\n",
        "\n",
        "epochs_range = range(epochs)\n",
        "\n",
        "plt.figure(figsize=(8, 8))\n",
        "plt.subplot(1, 2, 1)\n",
        "plt.plot(epochs_range, acc, label='Training Accuracy')\n",
        "plt.plot(epochs_range, val_acc, label='Validation Accuracy')\n",
        "plt.legend(loc='lower right')\n",
        "plt.title('Training and Validation Accuracy')\n",
        "\n",
        "plt.subplot(1, 2, 2)\n",
        "plt.plot(epochs_range, loss, label='Training Loss')\n",
        "plt.plot(epochs_range, val_loss, label='Validation Loss')\n",
        "plt.legend(loc='upper right')\n",
        "plt.title('Training and Validation Loss')\n",
        "plt.show()"
      ],
      "execution_count": null,
      "outputs": [
        {
          "output_type": "display_data",
          "data": {
            "image/png": "[encoded data removed]",
            "text/plain": [
              "<Figure size 576x576 with 2 Axes>"
            ]
          },
          "metadata": {
            "needs_background": "light"
          }
        }
      ]
    },
    {
      "cell_type": "code",
      "metadata": {
        "id": "XinJ6xXD9YNO"
      },
      "source": [
        "data_augmentation = keras.Sequential(\n",
        "  [\n",
        "    layers.experimental.preprocessing.RandomFlip(\"horizontal\", \n",
        "                                                 input_shape=(img_height, \n",
        "                                                              img_width,\n",
        "                                                              1)),\n",
        "    layers.experimental.preprocessing.RandomRotation(0.1),\n",
        "    layers.experimental.preprocessing.RandomZoom(0.1),\n",
        "  ]\n",
        ")"
      ],
      "execution_count": null,
      "outputs": []
    },
    {
      "cell_type": "code",
      "metadata": {
        "id": "8WT2BYElEYZj"
      },
      "source": [
        "model = Sequential([\n",
        "  data_augmentation,\n",
        "  layers.experimental.preprocessing.Rescaling(1./255),\n",
        "  layers.Conv2D(32, 3,input_shape = image_batch, activation='relu'),\n",
        "  layers.MaxPooling2D(),\n",
        "  layers.Conv2D(32, 3, padding='same', activation='relu'),\n",
        "  layers.MaxPooling2D(),\n",
        "  layers.Conv2D(32, 3, padding='same', activation='relu'),\n",
        "  layers.MaxPooling2D(),\n",
        "  layers.Dropout(0.2),\n",
        "  layers.Flatten(),\n",
        "  layers.Dense(128, activation='relu'),\n",
        "  BatchNormalization(),\n",
        "  layers.Dense(128, activation='relu'),\n",
        "  BatchNormalization(),\n",
        "  layers.Dense(128, activation='relu'),\n",
        "  BatchNormalization(),\n",
        "  layers.Dense(128, activation='relu'),\n",
        "  BatchNormalization(),\n",
        "  layers.Dense(128, activation='relu'),\n",
        "  BatchNormalization(),\n",
        "  layers.Dense(128, activation='relu'),\n",
        "  BatchNormalization(),\n",
        "  layers.Dense(128, activation='relu'),\n",
        "  BatchNormalization(),\n",
        "  layers.Dense(128, activation='relu'),\n",
        "  BatchNormalization(),\n",
        "  layers.Dense(128, activation='relu'),\n",
        "  BatchNormalization(),\n",
        "  layers.Dense(107, activation='softmax'),\n",
        "  BatchNormalization(),\n",
        "  layers.Dense(num_classes)\n",
        "])"
      ],
      "execution_count": null,
      "outputs": []
    },
    {
      "cell_type": "code",
      "metadata": {
        "colab": {
          "base_uri": "https://localhost:8080/"
        },
        "id": "kgdvU5ds7E-1",
        "outputId": "0dbf48da-28c4-43dd-b1dc-1add537dc536"
      },
      "source": [
        "from google.colab import drive\n",
        "drive.mount('/content/drive')"
      ],
      "execution_count": null,
      "outputs": [
        {
          "output_type": "stream",
          "name": "stdout",
          "text": [
            "Drive already mounted at /content/drive; to attempt to forcibly remount, call drive.mount(\"/content/drive\", force_remount=True).\n"
          ]
        }
      ]
    },
    {
      "cell_type": "code",
      "metadata": {
        "id": "opOHP3auEdsw",
        "colab": {
          "base_uri": "https://localhost:8080/"
        },
        "outputId": "200d0354-3649-41e3-fd85-d6b355459c3b"
      },
      "source": [
        "BatchNormalization(),model.compile(\n",
        "    optimizer='adam',\n",
        "    loss=tf.losses.SparseCategoricalCrossentropy(from_logits=True),\n",
        "    metrics=['accuracy'])"
      ],
      "execution_count": null,
      "outputs": [
        {
          "output_type": "execute_result",
          "data": {
            "text/plain": [
              "(<keras.layers.normalization.batch_normalization.BatchNormalization at 0x7fe39e0427d0>,\n",
              " None)"
            ]
          },
          "metadata": {},
          "execution_count": 20
        }
      ]
    },
    {
      "cell_type": "code",
      "metadata": {
        "id": "3Ay4tlHlEfBX",
        "colab": {
          "base_uri": "https://localhost:8080/"
        },
        "outputId": "21ef7a3a-d954-45dc-de2a-39456a5a70f4"
      },
      "source": [
        "model.summary()"
      ],
      "execution_count": null,
      "outputs": [
        {
          "output_type": "stream",
          "name": "stdout",
          "text": [
            "Model: \"sequential_2\"\n",
            "_________________________________________________________________\n",
            " Layer (type)                Output Shape              Param #   \n",
            "=================================================================\n",
            " sequential_1 (Sequential)   (None, 180, 180, 1)       0         \n",
            "                                                                 \n",
            " rescaling_2 (Rescaling)     (None, 180, 180, 1)       0         \n",
            "                                                                 \n",
            " conv2d_3 (Conv2D)           (None, 178, 178, 32)      320       \n",
            "                                                                 \n",
            " max_pooling2d_3 (MaxPooling  (None, 89, 89, 32)       0         \n",
            " 2D)                                                             \n",
            "                                                                 \n",
            " conv2d_4 (Conv2D)           (None, 89, 89, 32)        9248      \n",
            "                                                                 \n",
            " max_pooling2d_4 (MaxPooling  (None, 44, 44, 32)       0         \n",
            " 2D)                                                             \n",
            "                                                                 \n",
            " conv2d_5 (Conv2D)           (None, 44, 44, 32)        9248      \n",
            "                                                                 \n",
            " max_pooling2d_5 (MaxPooling  (None, 22, 22, 32)       0         \n",
            " 2D)                                                             \n",
            "                                                                 \n",
            " dropout (Dropout)           (None, 22, 22, 32)        0         \n",
            "                                                                 \n",
            " flatten_1 (Flatten)         (None, 15488)             0         \n",
            "                                                                 \n",
            " dense_11 (Dense)            (None, 128)               1982592   \n",
            "                                                                 \n",
            " batch_normalization_11 (Bat  (None, 128)              512       \n",
            " chNormalization)                                                \n",
            "                                                                 \n",
            " dense_12 (Dense)            (None, 128)               16512     \n",
            "                                                                 \n",
            " batch_normalization_12 (Bat  (None, 128)              512       \n",
            " chNormalization)                                                \n",
            "                                                                 \n",
            " dense_13 (Dense)            (None, 128)               16512     \n",
            "                                                                 \n",
            " batch_normalization_13 (Bat  (None, 128)              512       \n",
            " chNormalization)                                                \n",
            "                                                                 \n",
            " dense_14 (Dense)            (None, 128)               16512     \n",
            "                                                                 \n",
            " batch_normalization_14 (Bat  (None, 128)              512       \n",
            " chNormalization)                                                \n",
            "                                                                 \n",
            " dense_15 (Dense)            (None, 128)               16512     \n",
            "                                                                 \n",
            " batch_normalization_15 (Bat  (None, 128)              512       \n",
            " chNormalization)                                                \n",
            "                                                                 \n",
            " dense_16 (Dense)            (None, 128)               16512     \n",
            "                                                                 \n",
            " batch_normalization_16 (Bat  (None, 128)              512       \n",
            " chNormalization)                                                \n",
            "                                                                 \n",
            " dense_17 (Dense)            (None, 128)               16512     \n",
            "                                                                 \n",
            " batch_normalization_17 (Bat  (None, 128)              512       \n",
            " chNormalization)                                                \n",
            "                                                                 \n",
            " dense_18 (Dense)            (None, 128)               16512     \n",
            "                                                                 \n",
            " batch_normalization_18 (Bat  (None, 128)              512       \n",
            " chNormalization)                                                \n",
            "                                                                 \n",
            " dense_19 (Dense)            (None, 128)               16512     \n",
            "                                                                 \n",
            " batch_normalization_19 (Bat  (None, 128)              512       \n",
            " chNormalization)                                                \n",
            "                                                                 \n",
            " dense_20 (Dense)            (None, 107)               13803     \n",
            "                                                                 \n",
            " batch_normalization_20 (Bat  (None, 107)              428       \n",
            " chNormalization)                                                \n",
            "                                                                 \n",
            " dense_21 (Dense)            (None, 107)               11556     \n",
            "                                                                 \n",
            "=================================================================\n",
            "Total params: 2,163,899\n",
            "Trainable params: 2,161,381\n",
            "Non-trainable params: 2,518\n",
            "_________________________________________________________________\n"
          ]
        }
      ]
    },
    {
      "cell_type": "code",
      "metadata": {
        "id": "Jc8rD_v9Ef41",
        "colab": {
          "base_uri": "https://localhost:8080/"
        },
        "outputId": "5737312d-3904-41b3-f096-12cb7a676bff"
      },
      "source": [
        "epochs = 50\n",
        "history = model.fit(\n",
        "  train_ds,\n",
        "  validation_data=val_ds,\n",
        "  epochs=epochs\n",
        ")"
      ],
      "execution_count": null,
      "outputs": [
        {
          "output_type": "stream",
          "name": "stdout",
          "text": [
            "Epoch 1/50\n",
            "156/156 [==============================] - 6s 24ms/step - loss: 3.9738 - accuracy: 0.1429 - val_loss: 4.1511 - val_accuracy: 0.0980\n",
            "Epoch 2/50\n",
            "156/156 [==============================] - 3s 20ms/step - loss: 3.0283 - accuracy: 0.2495 - val_loss: 3.6326 - val_accuracy: 0.1976\n",
            "Epoch 3/50\n",
            "156/156 [==============================] - 3s 20ms/step - loss: 2.7224 - accuracy: 0.2897 - val_loss: 3.5222 - val_accuracy: 0.1799\n",
            "Epoch 4/50\n",
            "156/156 [==============================] - 3s 21ms/step - loss: 2.5451 - accuracy: 0.3256 - val_loss: 3.2043 - val_accuracy: 0.2177\n",
            "Epoch 5/50\n",
            "156/156 [==============================] - 3s 21ms/step - loss: 2.4382 - accuracy: 0.3369 - val_loss: 3.4887 - val_accuracy: 0.2418\n",
            "Epoch 6/50\n",
            "156/156 [==============================] - 3s 20ms/step - loss: 2.3126 - accuracy: 0.3632 - val_loss: 3.7585 - val_accuracy: 0.2329\n",
            "Epoch 7/50\n",
            "156/156 [==============================] - 3s 20ms/step - loss: 2.2362 - accuracy: 0.3750 - val_loss: 3.2990 - val_accuracy: 0.2707\n",
            "Epoch 8/50\n",
            "156/156 [==============================] - 3s 20ms/step - loss: 2.1557 - accuracy: 0.3885 - val_loss: 3.0817 - val_accuracy: 0.2835\n",
            "Epoch 9/50\n",
            "156/156 [==============================] - 3s 20ms/step - loss: 2.0680 - accuracy: 0.4025 - val_loss: 2.9537 - val_accuracy: 0.3309\n",
            "Epoch 10/50\n",
            "156/156 [==============================] - 3s 21ms/step - loss: 1.9910 - accuracy: 0.4196 - val_loss: 2.7724 - val_accuracy: 0.3068\n",
            "Epoch 11/50\n",
            "156/156 [==============================] - 3s 20ms/step - loss: 1.9424 - accuracy: 0.4369 - val_loss: 2.6392 - val_accuracy: 0.3687\n",
            "Epoch 12/50\n",
            "156/156 [==============================] - 3s 20ms/step - loss: 1.8977 - accuracy: 0.4415 - val_loss: 2.4019 - val_accuracy: 0.3960\n",
            "Epoch 13/50\n",
            "156/156 [==============================] - 3s 20ms/step - loss: 1.8060 - accuracy: 0.4585 - val_loss: 2.7812 - val_accuracy: 0.3438\n",
            "Epoch 14/50\n",
            "156/156 [==============================] - 3s 20ms/step - loss: 1.7840 - accuracy: 0.4656 - val_loss: 2.5519 - val_accuracy: 0.3815\n",
            "Epoch 15/50\n",
            "156/156 [==============================] - 3s 20ms/step - loss: 1.7376 - accuracy: 0.4774 - val_loss: 2.4123 - val_accuracy: 0.4129\n",
            "Epoch 16/50\n",
            "156/156 [==============================] - 3s 20ms/step - loss: 1.6802 - accuracy: 0.4935 - val_loss: 2.8427 - val_accuracy: 0.3622\n",
            "Epoch 17/50\n",
            "156/156 [==============================] - 3s 20ms/step - loss: 1.6503 - accuracy: 0.4941 - val_loss: 2.4611 - val_accuracy: 0.3767\n",
            "Epoch 18/50\n",
            "156/156 [==============================] - 3s 20ms/step - loss: 1.6095 - accuracy: 0.5039 - val_loss: 2.5570 - val_accuracy: 0.3936\n",
            "Epoch 19/50\n",
            "156/156 [==============================] - 3s 20ms/step - loss: 1.5757 - accuracy: 0.5127 - val_loss: 3.2098 - val_accuracy: 0.2988\n",
            "Epoch 20/50\n",
            "156/156 [==============================] - 3s 20ms/step - loss: 1.4941 - accuracy: 0.5334 - val_loss: 2.5474 - val_accuracy: 0.3847\n",
            "Epoch 21/50\n",
            "156/156 [==============================] - 3s 20ms/step - loss: 1.4560 - accuracy: 0.5491 - val_loss: 2.8262 - val_accuracy: 0.3438\n",
            "Epoch 22/50\n",
            "156/156 [==============================] - 3s 20ms/step - loss: 1.4483 - accuracy: 0.5487 - val_loss: 2.4042 - val_accuracy: 0.4289\n",
            "Epoch 23/50\n",
            "156/156 [==============================] - 3s 20ms/step - loss: 1.4112 - accuracy: 0.5553 - val_loss: 2.1858 - val_accuracy: 0.4241\n",
            "Epoch 24/50\n",
            "156/156 [==============================] - 3s 20ms/step - loss: 1.3608 - accuracy: 0.5724 - val_loss: 2.3659 - val_accuracy: 0.4088\n",
            "Epoch 25/50\n",
            "156/156 [==============================] - 3s 20ms/step - loss: 1.3296 - accuracy: 0.5766 - val_loss: 2.6341 - val_accuracy: 0.4000\n",
            "Epoch 26/50\n",
            "156/156 [==============================] - 3s 20ms/step - loss: 1.2927 - accuracy: 0.5904 - val_loss: 3.0441 - val_accuracy: 0.3189\n",
            "Epoch 27/50\n",
            "156/156 [==============================] - 3s 20ms/step - loss: 1.2604 - accuracy: 0.5957 - val_loss: 2.3987 - val_accuracy: 0.4185\n",
            "Epoch 28/50\n",
            "156/156 [==============================] - 3s 20ms/step - loss: 1.2270 - accuracy: 0.6013 - val_loss: 2.7890 - val_accuracy: 0.3695\n",
            "Epoch 29/50\n",
            "156/156 [==============================] - 3s 20ms/step - loss: 1.2110 - accuracy: 0.6011 - val_loss: 2.9496 - val_accuracy: 0.3558\n",
            "Epoch 30/50\n",
            "156/156 [==============================] - 3s 20ms/step - loss: 1.1863 - accuracy: 0.6169 - val_loss: 2.6796 - val_accuracy: 0.3847\n",
            "Epoch 31/50\n",
            "156/156 [==============================] - 3s 20ms/step - loss: 1.1534 - accuracy: 0.6218 - val_loss: 2.9747 - val_accuracy: 0.3671\n",
            "Epoch 32/50\n",
            "156/156 [==============================] - 3s 20ms/step - loss: 1.1150 - accuracy: 0.6344 - val_loss: 2.9185 - val_accuracy: 0.3904\n",
            "Epoch 33/50\n",
            "156/156 [==============================] - 3s 20ms/step - loss: 1.0988 - accuracy: 0.6360 - val_loss: 2.6866 - val_accuracy: 0.4177\n",
            "Epoch 34/50\n",
            "156/156 [==============================] - 3s 20ms/step - loss: 1.0435 - accuracy: 0.6553 - val_loss: 2.3645 - val_accuracy: 0.4450\n",
            "Epoch 35/50\n",
            "156/156 [==============================] - 3s 20ms/step - loss: 1.0249 - accuracy: 0.6617 - val_loss: 2.5353 - val_accuracy: 0.4482\n",
            "Epoch 36/50\n",
            "156/156 [==============================] - 3s 20ms/step - loss: 1.0127 - accuracy: 0.6689 - val_loss: 4.5562 - val_accuracy: 0.2956\n",
            "Epoch 37/50\n",
            "156/156 [==============================] - 3s 20ms/step - loss: 0.9619 - accuracy: 0.6864 - val_loss: 3.1398 - val_accuracy: 0.3743\n",
            "Epoch 38/50\n",
            "156/156 [==============================] - 3s 20ms/step - loss: 0.9639 - accuracy: 0.6876 - val_loss: 3.0744 - val_accuracy: 0.3574\n",
            "Epoch 39/50\n",
            "156/156 [==============================] - 3s 20ms/step - loss: 0.9352 - accuracy: 0.6886 - val_loss: 3.2226 - val_accuracy: 0.3663\n",
            "Epoch 40/50\n",
            "156/156 [==============================] - 3s 20ms/step - loss: 0.8981 - accuracy: 0.7055 - val_loss: 3.1492 - val_accuracy: 0.3855\n",
            "Epoch 41/50\n",
            "156/156 [==============================] - 3s 20ms/step - loss: 0.8962 - accuracy: 0.6981 - val_loss: 2.5298 - val_accuracy: 0.4289\n",
            "Epoch 42/50\n",
            "156/156 [==============================] - 3s 20ms/step - loss: 0.8781 - accuracy: 0.7035 - val_loss: 2.9608 - val_accuracy: 0.4337\n",
            "Epoch 43/50\n",
            "156/156 [==============================] - 3s 20ms/step - loss: 0.8313 - accuracy: 0.7256 - val_loss: 3.0745 - val_accuracy: 0.4096\n",
            "Epoch 44/50\n",
            "156/156 [==============================] - 3s 20ms/step - loss: 0.8106 - accuracy: 0.7264 - val_loss: 3.2513 - val_accuracy: 0.3880\n",
            "Epoch 45/50\n",
            "156/156 [==============================] - 3s 20ms/step - loss: 0.7919 - accuracy: 0.7342 - val_loss: 3.4607 - val_accuracy: 0.3952\n",
            "Epoch 46/50\n",
            "156/156 [==============================] - 3s 20ms/step - loss: 0.7988 - accuracy: 0.7308 - val_loss: 3.4446 - val_accuracy: 0.3719\n",
            "Epoch 47/50\n",
            "156/156 [==============================] - 3s 20ms/step - loss: 0.7463 - accuracy: 0.7486 - val_loss: 3.6408 - val_accuracy: 0.3647\n",
            "Epoch 48/50\n",
            "156/156 [==============================] - 3s 20ms/step - loss: 0.7248 - accuracy: 0.7567 - val_loss: 3.2301 - val_accuracy: 0.4048\n",
            "Epoch 49/50\n",
            "156/156 [==============================] - 3s 20ms/step - loss: 0.7176 - accuracy: 0.7629 - val_loss: 8.1737 - val_accuracy: 0.1036\n",
            "Epoch 50/50\n",
            "156/156 [==============================] - 3s 20ms/step - loss: 0.7174 - accuracy: 0.7595 - val_loss: 2.7721 - val_accuracy: 0.4715\n"
          ]
        }
      ]
    },
    {
      "cell_type": "code",
      "metadata": {
        "id": "ynhS2KjVEhj8",
        "colab": {
          "base_uri": "https://localhost:8080/",
          "height": 499
        },
        "outputId": "05fd25ff-e3ad-4866-8732-5a7a51bbc6eb"
      },
      "source": [
        "acc = history.history['accuracy']\n",
        "val_acc = history.history['val_accuracy']\n",
        "\n",
        "loss = history.history['loss']\n",
        "val_loss = history.history['val_loss']\n",
        "\n",
        "epochs_range = range(epochs)\n",
        "\n",
        "plt.figure(figsize=(8, 8))\n",
        "plt.subplot(1, 2, 1)\n",
        "plt.plot(epochs_range, acc, label='Training Accuracy')\n",
        "plt.plot(epochs_range, val_acc, label='Validation Accuracy')\n",
        "plt.legend(loc='lower right')\n",
        "plt.title('Training and Validation Accuracy')\n",
        "\n",
        "plt.subplot(1, 2, 2)\n",
        "plt.plot(epochs_range, loss, label='Training Loss')\n",
        "plt.plot(epochs_range, val_loss, label='Validation Loss')\n",
        "plt.legend(loc='upper right')\n",
        "plt.title('Training and Validation Loss')\n",
        "plt.show()"
      ],
      "execution_count": null,
      "outputs": [
        {
          "output_type": "display_data",
          "data": {
            "image/png": "[encoded data removed]",
            "text/plain": [
              "<Figure size 576x576 with 2 Axes>"
            ]
          },
          "metadata": {
            "needs_background": "light"
          }
        }
      ]
    },
    {
      "cell_type": "code",
      "metadata": {
        "id": "IbEQMrsAH2yZ",
        "colab": {
          "base_uri": "https://localhost:8080/"
        },
        "outputId": "9b38de6c-bb34-4fbb-f07b-89f99026df29"
      },
      "source": [
        "model.compile(\n",
        "    optimizer='adam',\n",
        "    loss=tf.losses.SparseCategoricalCrossentropy(from_logits=True),\n",
        "    metrics=['accuracy'])\n",
        "model.summary()"
      ],
      "execution_count": null,
      "outputs": [
        {
          "output_type": "stream",
          "name": "stdout",
          "text": [
            "Model: \"sequential_2\"\n",
            "_________________________________________________________________\n",
            " Layer (type)                Output Shape              Param #   \n",
            "=================================================================\n",
            " sequential_1 (Sequential)   (None, 180, 180, 1)       0         \n",
            "                                                                 \n",
            " rescaling_2 (Rescaling)     (None, 180, 180, 1)       0         \n",
            "                                                                 \n",
            " conv2d_3 (Conv2D)           (None, 178, 178, 32)      320       \n",
            "                                                                 \n",
            " max_pooling2d_3 (MaxPooling  (None, 89, 89, 32)       0         \n",
            " 2D)                                                             \n",
            "                                                                 \n",
            " conv2d_4 (Conv2D)           (None, 89, 89, 32)        9248      \n",
            "                                                                 \n",
            " max_pooling2d_4 (MaxPooling  (None, 44, 44, 32)       0         \n",
            " 2D)                                                             \n",
            "                                                                 \n",
            " conv2d_5 (Conv2D)           (None, 44, 44, 32)        9248      \n",
            "                                                                 \n",
            " max_pooling2d_5 (MaxPooling  (None, 22, 22, 32)       0         \n",
            " 2D)                                                             \n",
            "                                                                 \n",
            " dropout (Dropout)           (None, 22, 22, 32)        0         \n",
            "                                                                 \n",
            " flatten_1 (Flatten)         (None, 15488)             0         \n",
            "                                                                 \n",
            " dense_11 (Dense)            (None, 128)               1982592   \n",
            "                                                                 \n",
            " batch_normalization_11 (Bat  (None, 128)              512       \n",
            " chNormalization)                                                \n",
            "                                                                 \n",
            " dense_12 (Dense)            (None, 128)               16512     \n",
            "                                                                 \n",
            " batch_normalization_12 (Bat  (None, 128)              512       \n",
            " chNormalization)                                                \n",
            "                                                                 \n",
            " dense_13 (Dense)            (None, 128)               16512     \n",
            "                                                                 \n",
            " batch_normalization_13 (Bat  (None, 128)              512       \n",
            " chNormalization)                                                \n",
            "                                                                 \n",
            " dense_14 (Dense)            (None, 128)               16512     \n",
            "                                                                 \n",
            " batch_normalization_14 (Bat  (None, 128)              512       \n",
            " chNormalization)                                                \n",
            "                                                                 \n",
            " dense_15 (Dense)            (None, 128)               16512     \n",
            "                                                                 \n",
            " batch_normalization_15 (Bat  (None, 128)              512       \n",
            " chNormalization)                                                \n",
            "                                                                 \n",
            " dense_16 (Dense)            (None, 128)               16512     \n",
            "                                                                 \n",
            " batch_normalization_16 (Bat  (None, 128)              512       \n",
            " chNormalization)                                                \n",
            "                                                                 \n",
            " dense_17 (Dense)            (None, 128)               16512     \n",
            "                                                                 \n",
            " batch_normalization_17 (Bat  (None, 128)              512       \n",
            " chNormalization)                                                \n",
            "                                                                 \n",
            " dense_18 (Dense)            (None, 128)               16512     \n",
            "                                                                 \n",
            " batch_normalization_18 (Bat  (None, 128)              512       \n",
            " chNormalization)                                                \n",
            "                                                                 \n",
            " dense_19 (Dense)            (None, 128)               16512     \n",
            "                                                                 \n",
            " batch_normalization_19 (Bat  (None, 128)              512       \n",
            " chNormalization)                                                \n",
            "                                                                 \n",
            " dense_20 (Dense)            (None, 107)               13803     \n",
            "                                                                 \n",
            " batch_normalization_20 (Bat  (None, 107)              428       \n",
            " chNormalization)                                                \n",
            "                                                                 \n",
            " dense_21 (Dense)            (None, 107)               11556     \n",
            "                                                                 \n",
            "=================================================================\n",
            "Total params: 2,163,899\n",
            "Trainable params: 2,161,381\n",
            "Non-trainable params: 2,518\n",
            "_________________________________________________________________\n"
          ]
        }
      ]
    },
    {
      "cell_type": "code",
      "metadata": {
        "id": "df30HUqFjWre"
      },
      "source": [
        ""
      ],
      "execution_count": null,
      "outputs": []
    }
  ]
}