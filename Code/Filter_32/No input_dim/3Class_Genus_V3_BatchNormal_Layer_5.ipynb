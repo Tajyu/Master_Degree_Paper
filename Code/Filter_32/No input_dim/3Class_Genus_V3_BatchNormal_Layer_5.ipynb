{
  "nbformat": 4,
  "nbformat_minor": 0,
  "metadata": {
    "colab": {
      "name": "3Class_Genus_V3_BatchNormal_Layer_5.ipynb",
      "provenance": [],
      "collapsed_sections": [],
      "mount_file_id": "1akfPTmwytN6CaU57dw7TIwCcGEaMUZ-_",
      "authorship_tag": "ABX9TyMVN5HZA6OVktcpjIGgM3nv",
      "include_colab_link": true
    },
    "kernelspec": {
      "name": "python3",
      "display_name": "Python 3"
    },
    "language_info": {
      "name": "python"
    },
    "accelerator": "GPU"
  },
  "cells": [
    {
      "cell_type": "markdown",
      "metadata": {
        "id": "view-in-github",
        "colab_type": "text"
      },
      "source": [
        "<a href=\"https://colab.research.google.com/github/Tajyu/Master_Degree_Paper/blob/main/Code/Filter_32/No%20input_dim/3Class_Genus_V3_BatchNormal_Layer_5.ipynb\" target=\"_parent\"><img src=\"https://colab.research.google.com/assets/colab-badge.svg\" alt=\"Open In Colab\"/></a>"
      ]
    },
    {
      "cell_type": "code",
      "metadata": {
        "id": "yWckd06_68Em"
      },
      "source": [
        "import tensorflow as tf\n",
        "from tensorflow.keras import datasets, layers, models\n",
        "from keras.preprocessing.image import ImageDataGenerator\n",
        "import numpy as np\n",
        "import matplotlib.pyplot as plt\n",
        "import cv2 as cv\n",
        "import os\n",
        "import pathlib\n",
        "import PIL\n",
        "from tensorflow import keras\n",
        "from tensorflow.keras import layers\n",
        "from tensorflow.keras.models import Sequential\n",
        "from tensorflow.keras.layers import Dense, Flatten, BatchNormalization, Dropout"
      ],
      "execution_count": null,
      "outputs": []
    },
    {
      "cell_type": "code",
      "metadata": {
        "id": "xav9zirHttk_"
      },
      "source": [
        "image_list = os.listdir('/content/drive/MyDrive/Colab Notebooks/Final_Project/Cell_Genus')"
      ],
      "execution_count": null,
      "outputs": []
    },
    {
      "cell_type": "code",
      "metadata": {
        "colab": {
          "base_uri": "https://localhost:8080/"
        },
        "id": "K-wD0dM5tx_E",
        "outputId": "61095a91-3e2b-48b0-8c80-682a439d407a"
      },
      "source": [
        "print(image_list)"
      ],
      "execution_count": null,
      "outputs": [
        {
          "output_type": "stream",
          "name": "stdout",
          "text": [
            "['10_Genus_Stauroneis_Ehrenberg', '10_Genus_Staurosira_Ehrenberg', '11_Genus_Craspedostauros_E.J_Cox_1999', '11_Genus_Staurosirella_Williams_and_Round', '12_Genus_Caloneis_Cleve_1894', '12_Genus_Synedra_Ehrenberg', '13_Genus_Pinnularia_Ehrenberg_1843', '1_Genus_Acanthoceras_Honigmann', '1_Genus_Achnanthes_Bory', '1_Genus_Actinocyclus_Ehrenberg', '1_Genus_Aphanocapsa_Nageli_1849', '1_Genus_Asterionella_Hassall', '1_Genus_Aulacoseira', '1_Genus_Biremis_Mann_et_Cox_in_Round_Crawford_and_Mann', '1_Genus_Characium_A_Braun_in_Kutzing_1849', '1_Genus_Chroococcus_Nageli', '1_Genus_Closterium_Nitzsch_ex_Ralfs_1848', '1_Genus_Coelastrum_Nageli_1849', '1_Genus_Cylindrocystis_Meneghini_ex_de_Bary_1858', '1_Genus_Dictyosphaerium_Nageli_1849', '1_Genus_Docidium_Brebisson_ex_Ralfs_1848', '1_Genus_Eunotia_Ehrenberg', '1_Genus_Geitlerinema_(Anagnostidis_et_Komarek)_Anagnostidis_1989', '1_Genus_Gonatozygon_de_Bary_1856', '1_Genus_Hydrodictyon_Roth_1797', '1_Genus_Hydrosera_whampoensis', '1_Genus_Jaaginema_Anagnostidis_et_Komarek_1988', '1_Genus_Lyngbya_C_Agardh_ex_Gomont_1892', '1_Genus_Melosira_Agardh', '1_Genus_Micractinium_Fresenius_1858', '1_Genus_Micrasterias_Ralfs_1848', '1_Genus_Microcystis_Kutzing_ex_Lemmermann_1907', '1_Genus_Oscillatoria_Vaucher_ex_Gomont_1982', '1_Genus_Pediastrum_Meyen_1829', '1_Genus_Penium_Brebisson_ex_Ralfs_in_Ralfs_1848', '1_Genus_Phormidium_Kutzing_ex_Gomont_1892', '1_Genus_Planktothrix_Anagnostidis_et_Komarek_1988', '1_Genus_Pleurosira_laevis_(Ehrenberg)', '1_Genus_Rhizosolenia_Ehrenberg', '1_Genus_Schizochlamydella_Korshikov_1953', '1_Genus_Staurodesmus_Teiling_1848', '1_Genus_Trochiscia_Kutzing_1834', '1_Scenedesmus_Hegewald_1978', '2_Acutodesmus_Hegewald_1978', '2_Genus_Achnanthidium_Kutzing', '2_Genus_Actinastrum_Lagerheim_1882', '2_Genus_Actinella_Lewis', '2_Genus_Ankyra_Fott_1957', '2_Genus_Caloneis_Cleve', '2_Genus_Chaetoceros_Ehrenberg', '2_Genus_Coenochloris_Korshikov_1953', '2_Genus_Cyclotella', '2_Genus_Diatoma_Bory', '2_Genus_Dimorphococcus_A_Braun_1855', '2_Genus_Golenkinia_Chodat_1894', '2_Genus_Haplotaenium_Bando_1988', '2_Genus_Leibleinia_(Gomont)_L_Hoffman_1985', '2_Genus_Leptolyngbya_Anagnostidis_et_Komarek_1988', '2_Genus_Merismopedia_Meyen_1839', '2_Genus_Netrium_(Nageli)_Itzigsohn_et_Rothe_in_Rabenhorst_1856', '2_Genus_Orthoseira_Thwaites_1848', '2_Genus_Phormidium_Kutzing_ex_Gomont_1892', '2_Genus_Sorastrum_Kutzing_1845', '2_Genus_Staurastrum_Meyen_ex_Ralfs_1848', '3_Desmodesmus_Chodat_1926', '3_Genus_Acanthosphaera_Lemmerman_1899', '3_Genus_Anorthoneis_Grunow', '3_Genus_Cyclostephanos_Round', '3_Genus_Dichotomococcus_Korshikov_1928', '3_Genus_Heteroleibleinia_(Geitler)_L_Hoffmann_1985', '3_Genus_Limnothrix_Meffert_1988', '3_Genus_Meridion_Agardh', '3_Genus_Paradoxia_Svirenko_1928', '3_Genus_Peronia_Bebisson_and_Arnott_ex_Kitton', '3_Genus_Phormidiochaete_Komarek_in_Anagnostidis_2001', '3_Genus_Pinnularia_Ehrenberg_1', '3_Genus_Pleurotaenium_Nageli_1849', '3_Genus_Radiococcus_Schmidle_1902', '3_Genus_Snowella_Elenkin_1938', '3_Genus_Spirotaenia_Brebisson_in_Ralfs_1848', '4_Genus_Botryococcus_Kutzing_1849', '4_Genus_Cocconeis_Ehrenberg', '4_Genus_Eutetramorus_Walton_1918', '4_Genus_Leptolyngbya_Anagnostidis_et_Komarek_1988', '4_Genus_Opephora_Petit', '4_Genus_Pinnularia_Ehrenberg_2', '4_Genus_Schroederia_Lemmermann_1898', '4_Genus_Stephanodiscus_Ehrenberg', '4_Genus_Synechocystis_Sauvageau_1892', '4_Genus_Tortitaenia_A_J_Brook_1998', '5_Genus_Caloneis_Cleve', '5_Genus_Coenocystis_Korshikov_1953', '5_Genus_Planktolyngbya_Anagnostidis_et_Komarek_1988', '5_Genus_Tabellaria_Ehrenberg', '5_Genus_Thalassiosira_Cleve', '5_Genus_Woronichinia_Elenkin_1933', '6_Genus_Anomoeoneis_Pfitzer', '6_Genus_Fragilaria_Lyngbye', '6_Genus_Gloeocystis_Nageli_1849', '6_Genus_Pseudanabaena_Lauterborn_1915', '6_Genus_Skeletonema_Greville', '7_Genus_Caloneis_Cleve', '7_Genus_Hannaea_Patrick', '8_Genus_Diploneis(Ehrenberg)_Cleve', '8_Genus_Pseudostaurosira_Williams_and_Round', '9_Genus_Neidium_Pfitzer', '9_Genus_Punctastriata_Williams_and_Round']\n"
          ]
        }
      ]
    },
    {
      "cell_type": "code",
      "metadata": {
        "id": "o-0DvzEHt8VE"
      },
      "source": [
        "data_generator = ImageDataGenerator(rescale = 1./255)\n",
        "\n",
        "data_dir = \"/content/drive/MyDrive/Colab Notebooks/Final_Project/Cell_Genus\""
      ],
      "execution_count": null,
      "outputs": []
    },
    {
      "cell_type": "code",
      "metadata": {
        "id": "7aTCfEm3t10n"
      },
      "source": [
        "batch_size = 32\n",
        "img_height = 180\n",
        "img_width = 180"
      ],
      "execution_count": null,
      "outputs": []
    },
    {
      "cell_type": "code",
      "metadata": {
        "colab": {
          "base_uri": "https://localhost:8080/"
        },
        "id": "9Smg-miEt22s",
        "outputId": "d43cd0c7-e359-4db4-c508-35472b3a9887"
      },
      "source": [
        "train_ds = tf.keras.preprocessing.image_dataset_from_directory(\n",
        "  data_dir,\n",
        "  color_mode = \"grayscale\",\n",
        "  validation_split=0.2,\n",
        "  subset=\"training\",\n",
        "  seed=123,\n",
        "  image_size=(img_height, img_width),\n",
        "  batch_size=batch_size)"
      ],
      "execution_count": null,
      "outputs": [
        {
          "output_type": "stream",
          "name": "stdout",
          "text": [
            "Found 6226 files belonging to 107 classes.\n",
            "Using 4981 files for training.\n"
          ]
        }
      ]
    },
    {
      "cell_type": "code",
      "metadata": {
        "colab": {
          "base_uri": "https://localhost:8080/"
        },
        "id": "1nR0WdQGt44x",
        "outputId": "9aa477d1-eff3-497a-cb1c-c0cabdad963a"
      },
      "source": [
        "val_ds = tf.keras.preprocessing.image_dataset_from_directory(\n",
        "  data_dir,\n",
        "  color_mode = \"grayscale\",\n",
        "  validation_split=0.2,\n",
        "  subset=\"validation\",\n",
        "  seed=123,\n",
        "  image_size=(img_height, img_width),\n",
        "  batch_size=batch_size)"
      ],
      "execution_count": null,
      "outputs": [
        {
          "output_type": "stream",
          "name": "stdout",
          "text": [
            "Found 6226 files belonging to 107 classes.\n",
            "Using 1245 files for validation.\n"
          ]
        }
      ]
    },
    {
      "cell_type": "code",
      "metadata": {
        "colab": {
          "base_uri": "https://localhost:8080/"
        },
        "id": "F-cz_CtGug8Y",
        "outputId": "b6472758-de32-4872-e1e9-c97dcdd4ad7f"
      },
      "source": [
        "class_names = train_ds.class_names\n",
        "print(class_names)"
      ],
      "execution_count": null,
      "outputs": [
        {
          "output_type": "stream",
          "name": "stdout",
          "text": [
            "['10_Genus_Stauroneis_Ehrenberg', '10_Genus_Staurosira_Ehrenberg', '11_Genus_Craspedostauros_E.J_Cox_1999', '11_Genus_Staurosirella_Williams_and_Round', '12_Genus_Caloneis_Cleve_1894', '12_Genus_Synedra_Ehrenberg', '13_Genus_Pinnularia_Ehrenberg_1843', '1_Genus_Acanthoceras_Honigmann', '1_Genus_Achnanthes_Bory', '1_Genus_Actinocyclus_Ehrenberg', '1_Genus_Aphanocapsa_Nageli_1849', '1_Genus_Asterionella_Hassall', '1_Genus_Aulacoseira', '1_Genus_Biremis_Mann_et_Cox_in_Round_Crawford_and_Mann', '1_Genus_Characium_A_Braun_in_Kutzing_1849', '1_Genus_Chroococcus_Nageli', '1_Genus_Closterium_Nitzsch_ex_Ralfs_1848', '1_Genus_Coelastrum_Nageli_1849', '1_Genus_Cylindrocystis_Meneghini_ex_de_Bary_1858', '1_Genus_Dictyosphaerium_Nageli_1849', '1_Genus_Docidium_Brebisson_ex_Ralfs_1848', '1_Genus_Eunotia_Ehrenberg', '1_Genus_Geitlerinema_(Anagnostidis_et_Komarek)_Anagnostidis_1989', '1_Genus_Gonatozygon_de_Bary_1856', '1_Genus_Hydrodictyon_Roth_1797', '1_Genus_Hydrosera_whampoensis', '1_Genus_Jaaginema_Anagnostidis_et_Komarek_1988', '1_Genus_Lyngbya_C_Agardh_ex_Gomont_1892', '1_Genus_Melosira_Agardh', '1_Genus_Micractinium_Fresenius_1858', '1_Genus_Micrasterias_Ralfs_1848', '1_Genus_Microcystis_Kutzing_ex_Lemmermann_1907', '1_Genus_Oscillatoria_Vaucher_ex_Gomont_1982', '1_Genus_Pediastrum_Meyen_1829', '1_Genus_Penium_Brebisson_ex_Ralfs_in_Ralfs_1848', '1_Genus_Phormidium_Kutzing_ex_Gomont_1892', '1_Genus_Planktothrix_Anagnostidis_et_Komarek_1988', '1_Genus_Pleurosira_laevis_(Ehrenberg)', '1_Genus_Rhizosolenia_Ehrenberg', '1_Genus_Schizochlamydella_Korshikov_1953', '1_Genus_Staurodesmus_Teiling_1848', '1_Genus_Trochiscia_Kutzing_1834', '1_Scenedesmus_Hegewald_1978', '2_Acutodesmus_Hegewald_1978', '2_Genus_Achnanthidium_Kutzing', '2_Genus_Actinastrum_Lagerheim_1882', '2_Genus_Actinella_Lewis', '2_Genus_Ankyra_Fott_1957', '2_Genus_Caloneis_Cleve', '2_Genus_Chaetoceros_Ehrenberg', '2_Genus_Coenochloris_Korshikov_1953', '2_Genus_Cyclotella', '2_Genus_Diatoma_Bory', '2_Genus_Dimorphococcus_A_Braun_1855', '2_Genus_Golenkinia_Chodat_1894', '2_Genus_Haplotaenium_Bando_1988', '2_Genus_Leibleinia_(Gomont)_L_Hoffman_1985', '2_Genus_Leptolyngbya_Anagnostidis_et_Komarek_1988', '2_Genus_Merismopedia_Meyen_1839', '2_Genus_Netrium_(Nageli)_Itzigsohn_et_Rothe_in_Rabenhorst_1856', '2_Genus_Orthoseira_Thwaites_1848', '2_Genus_Phormidium_Kutzing_ex_Gomont_1892', '2_Genus_Sorastrum_Kutzing_1845', '2_Genus_Staurastrum_Meyen_ex_Ralfs_1848', '3_Desmodesmus_Chodat_1926', '3_Genus_Acanthosphaera_Lemmerman_1899', '3_Genus_Anorthoneis_Grunow', '3_Genus_Cyclostephanos_Round', '3_Genus_Dichotomococcus_Korshikov_1928', '3_Genus_Heteroleibleinia_(Geitler)_L_Hoffmann_1985', '3_Genus_Limnothrix_Meffert_1988', '3_Genus_Meridion_Agardh', '3_Genus_Paradoxia_Svirenko_1928', '3_Genus_Peronia_Bebisson_and_Arnott_ex_Kitton', '3_Genus_Phormidiochaete_Komarek_in_Anagnostidis_2001', '3_Genus_Pinnularia_Ehrenberg_1', '3_Genus_Pleurotaenium_Nageli_1849', '3_Genus_Radiococcus_Schmidle_1902', '3_Genus_Snowella_Elenkin_1938', '3_Genus_Spirotaenia_Brebisson_in_Ralfs_1848', '4_Genus_Botryococcus_Kutzing_1849', '4_Genus_Cocconeis_Ehrenberg', '4_Genus_Eutetramorus_Walton_1918', '4_Genus_Leptolyngbya_Anagnostidis_et_Komarek_1988', '4_Genus_Opephora_Petit', '4_Genus_Pinnularia_Ehrenberg_2', '4_Genus_Schroederia_Lemmermann_1898', '4_Genus_Stephanodiscus_Ehrenberg', '4_Genus_Synechocystis_Sauvageau_1892', '4_Genus_Tortitaenia_A_J_Brook_1998', '5_Genus_Caloneis_Cleve', '5_Genus_Coenocystis_Korshikov_1953', '5_Genus_Planktolyngbya_Anagnostidis_et_Komarek_1988', '5_Genus_Tabellaria_Ehrenberg', '5_Genus_Thalassiosira_Cleve', '5_Genus_Woronichinia_Elenkin_1933', '6_Genus_Anomoeoneis_Pfitzer', '6_Genus_Fragilaria_Lyngbye', '6_Genus_Gloeocystis_Nageli_1849', '6_Genus_Pseudanabaena_Lauterborn_1915', '6_Genus_Skeletonema_Greville', '7_Genus_Caloneis_Cleve', '7_Genus_Hannaea_Patrick', '8_Genus_Diploneis(Ehrenberg)_Cleve', '8_Genus_Pseudostaurosira_Williams_and_Round', '9_Genus_Neidium_Pfitzer', '9_Genus_Punctastriata_Williams_and_Round']\n"
          ]
        }
      ]
    },
    {
      "cell_type": "code",
      "metadata": {
        "colab": {
          "base_uri": "https://localhost:8080/"
        },
        "id": "5EQOikPAukic",
        "outputId": "19c257ea-719e-4e3e-e5c0-d9da29902de5"
      },
      "source": [
        "for image_batch, labels_batch in train_ds:\n",
        "  print(image_batch.shape)\n",
        "  print(labels_batch.shape)\n",
        "  break"
      ],
      "execution_count": null,
      "outputs": [
        {
          "output_type": "stream",
          "name": "stdout",
          "text": [
            "(32, 180, 180, 1)\n",
            "(32,)\n"
          ]
        }
      ]
    },
    {
      "cell_type": "code",
      "metadata": {
        "id": "9eVl7tiDux9q"
      },
      "source": [
        "from tensorflow.keras import layers\n",
        "\n",
        "normalization_layer = tf.keras.layers.experimental.preprocessing.Rescaling(1./255)"
      ],
      "execution_count": null,
      "outputs": []
    },
    {
      "cell_type": "code",
      "metadata": {
        "colab": {
          "base_uri": "https://localhost:8080/"
        },
        "id": "AiIrsxzZuzEo",
        "outputId": "3ddce84b-6774-4697-ff1a-6be4169f85ce"
      },
      "source": [
        "normalized_ds = train_ds.map(lambda x, y: (normalization_layer(x), y))\n",
        "image_batch, labels_batch = next(iter(normalized_ds))\n",
        "first_image = image_batch[0]\n",
        "# Notice the pixels values are now in `[0,1]`.\n",
        "print(np.min(first_image), np.max(first_image))"
      ],
      "execution_count": null,
      "outputs": [
        {
          "output_type": "stream",
          "name": "stdout",
          "text": [
            "0.0 1.0\n"
          ]
        }
      ]
    },
    {
      "cell_type": "code",
      "metadata": {
        "id": "__WbVabru0Bp"
      },
      "source": [
        "AUTOTUNE = tf.data.experimental.AUTOTUNE\n",
        "\n",
        "train_ds = train_ds.cache().prefetch(buffer_size=AUTOTUNE)\n",
        "val_ds = val_ds.cache().prefetch(buffer_size=AUTOTUNE)"
      ],
      "execution_count": null,
      "outputs": []
    },
    {
      "cell_type": "code",
      "metadata": {
        "id": "g1GeYFXCu2gV"
      },
      "source": [
        "num_classes = 107\n",
        "model = tf.keras.Sequential([\n",
        "    layers.experimental.preprocessing.Rescaling(1./255),\n",
        "    layers.Conv2D(32, 3,input_shape = image_batch, activation='relu'),\n",
        "    layers.MaxPooling2D(),\n",
        "    layers.Conv2D(32, 3, activation='relu'),\n",
        "    layers.MaxPooling2D(),\n",
        "    layers.Conv2D(32, 3, activation='relu'),\n",
        "    layers.MaxPooling2D(),\n",
        "    layers.Flatten(),\n",
        "    BatchNormalization(),\n",
        "    layers.Dense(128, activation='relu'),\n",
        "    BatchNormalization(),\n",
        "    layers.Dense(128, activation='relu'),\n",
        "    BatchNormalization(),\n",
        "    layers.Dense(128, activation='relu'),\n",
        "    BatchNormalization(),\n",
        "    layers.Dense(128, activation='relu'),\n",
        "    BatchNormalization(),\n",
        "    layers.Dense(107, activation='softmax'),\n",
        "    BatchNormalization(),\n",
        "    layers.Dense(num_classes)\n",
        "    ])"
      ],
      "execution_count": null,
      "outputs": []
    },
    {
      "cell_type": "code",
      "metadata": {
        "id": "wU4xPAvNYWry"
      },
      "source": [
        "model.compile(\n",
        "    optimizer='adam',\n",
        "    loss=tf.losses.SparseCategoricalCrossentropy(from_logits=True),\n",
        "    metrics=['accuracy'])"
      ],
      "execution_count": null,
      "outputs": []
    },
    {
      "cell_type": "code",
      "metadata": {
        "colab": {
          "base_uri": "https://localhost:8080/"
        },
        "id": "Tk8ssrbHu44p",
        "outputId": "1b9f2159-b0f7-4daf-9a30-f3bc57308b77"
      },
      "source": [
        "epochs=50\n",
        "history = model.fit(\n",
        "  train_ds,\n",
        "  validation_data=val_ds,\n",
        "  epochs=epochs\n",
        ")"
      ],
      "execution_count": null,
      "outputs": [
        {
          "output_type": "stream",
          "name": "stdout",
          "text": [
            "Epoch 1/50\n",
            "156/156 [==============================] - 1395s 9s/step - loss: 3.4183 - accuracy: 0.2793 - val_loss: 4.2630 - val_accuracy: 0.0980\n",
            "Epoch 2/50\n",
            "156/156 [==============================] - 3s 16ms/step - loss: 2.2796 - accuracy: 0.4252 - val_loss: 3.7384 - val_accuracy: 0.2570\n",
            "Epoch 3/50\n",
            "156/156 [==============================] - 3s 16ms/step - loss: 1.7383 - accuracy: 0.5423 - val_loss: 3.1649 - val_accuracy: 0.2956\n",
            "Epoch 4/50\n",
            "156/156 [==============================] - 2s 16ms/step - loss: 1.3770 - accuracy: 0.6350 - val_loss: 3.6766 - val_accuracy: 0.1775\n",
            "Epoch 5/50\n",
            "156/156 [==============================] - 3s 16ms/step - loss: 1.0604 - accuracy: 0.7240 - val_loss: 2.6520 - val_accuracy: 0.3831\n",
            "Epoch 6/50\n",
            "156/156 [==============================] - 3s 16ms/step - loss: 0.8321 - accuracy: 0.7818 - val_loss: 2.3332 - val_accuracy: 0.4771\n",
            "Epoch 7/50\n",
            "156/156 [==============================] - 3s 16ms/step - loss: 0.6091 - accuracy: 0.8462 - val_loss: 2.3127 - val_accuracy: 0.4699\n",
            "Epoch 8/50\n",
            "156/156 [==============================] - 3s 16ms/step - loss: 0.4490 - accuracy: 0.8886 - val_loss: 2.6457 - val_accuracy: 0.4145\n",
            "Epoch 9/50\n",
            "156/156 [==============================] - 3s 16ms/step - loss: 0.3224 - accuracy: 0.9245 - val_loss: 2.6074 - val_accuracy: 0.4570\n",
            "Epoch 10/50\n",
            "156/156 [==============================] - 2s 16ms/step - loss: 0.2504 - accuracy: 0.9412 - val_loss: 2.7011 - val_accuracy: 0.4586\n",
            "Epoch 11/50\n",
            "156/156 [==============================] - 3s 16ms/step - loss: 0.1830 - accuracy: 0.9615 - val_loss: 2.9137 - val_accuracy: 0.4394\n",
            "Epoch 12/50\n",
            "156/156 [==============================] - 3s 16ms/step - loss: 0.1323 - accuracy: 0.9735 - val_loss: 2.9349 - val_accuracy: 0.4402\n",
            "Epoch 13/50\n",
            "156/156 [==============================] - 2s 16ms/step - loss: 0.1027 - accuracy: 0.9813 - val_loss: 2.7661 - val_accuracy: 0.4779\n",
            "Epoch 14/50\n",
            "156/156 [==============================] - 2s 16ms/step - loss: 0.0808 - accuracy: 0.9839 - val_loss: 2.8037 - val_accuracy: 0.4876\n",
            "Epoch 15/50\n",
            "156/156 [==============================] - 2s 16ms/step - loss: 0.0624 - accuracy: 0.9902 - val_loss: 2.8228 - val_accuracy: 0.4843\n",
            "Epoch 16/50\n",
            "156/156 [==============================] - 3s 16ms/step - loss: 0.0433 - accuracy: 0.9958 - val_loss: 2.8371 - val_accuracy: 0.4819\n",
            "Epoch 17/50\n",
            "156/156 [==============================] - 3s 16ms/step - loss: 0.0582 - accuracy: 0.9896 - val_loss: 3.0824 - val_accuracy: 0.4627\n",
            "Epoch 18/50\n",
            "156/156 [==============================] - 3s 16ms/step - loss: 0.1014 - accuracy: 0.9761 - val_loss: 3.0946 - val_accuracy: 0.4739\n",
            "Epoch 19/50\n",
            "156/156 [==============================] - 3s 16ms/step - loss: 0.2504 - accuracy: 0.9277 - val_loss: 3.6044 - val_accuracy: 0.4313\n",
            "Epoch 20/50\n",
            "156/156 [==============================] - 3s 16ms/step - loss: 0.2408 - accuracy: 0.9331 - val_loss: 3.9334 - val_accuracy: 0.4353\n",
            "Epoch 21/50\n",
            "156/156 [==============================] - 2s 16ms/step - loss: 0.1313 - accuracy: 0.9657 - val_loss: 3.0414 - val_accuracy: 0.4908\n",
            "Epoch 22/50\n",
            "156/156 [==============================] - 3s 16ms/step - loss: 0.0619 - accuracy: 0.9870 - val_loss: 2.9548 - val_accuracy: 0.5036\n",
            "Epoch 23/50\n",
            "156/156 [==============================] - 3s 16ms/step - loss: 0.0319 - accuracy: 0.9948 - val_loss: 2.8952 - val_accuracy: 0.5277\n",
            "Epoch 24/50\n",
            "156/156 [==============================] - 3s 16ms/step - loss: 0.0107 - accuracy: 0.9996 - val_loss: 2.8967 - val_accuracy: 0.5317\n",
            "Epoch 25/50\n",
            "156/156 [==============================] - 3s 16ms/step - loss: 0.0092 - accuracy: 0.9992 - val_loss: 2.9210 - val_accuracy: 0.5325\n",
            "Epoch 26/50\n",
            "156/156 [==============================] - 3s 16ms/step - loss: 0.0059 - accuracy: 0.9998 - val_loss: 2.9463 - val_accuracy: 0.5293\n",
            "Epoch 27/50\n",
            "156/156 [==============================] - 2s 16ms/step - loss: 0.0044 - accuracy: 0.9998 - val_loss: 2.9703 - val_accuracy: 0.5317\n",
            "Epoch 28/50\n",
            "156/156 [==============================] - 3s 16ms/step - loss: 0.0037 - accuracy: 0.9998 - val_loss: 2.9921 - val_accuracy: 0.5277\n",
            "Epoch 29/50\n",
            "156/156 [==============================] - 3s 16ms/step - loss: 0.0031 - accuracy: 0.9998 - val_loss: 3.0153 - val_accuracy: 0.5293\n",
            "Epoch 30/50\n",
            "156/156 [==============================] - 3s 16ms/step - loss: 0.0027 - accuracy: 0.9998 - val_loss: 3.0367 - val_accuracy: 0.5301\n",
            "Epoch 31/50\n",
            "156/156 [==============================] - 3s 16ms/step - loss: 0.0023 - accuracy: 0.9998 - val_loss: 3.0582 - val_accuracy: 0.5309\n",
            "Epoch 32/50\n",
            "156/156 [==============================] - 3s 16ms/step - loss: 0.0019 - accuracy: 1.0000 - val_loss: 3.0789 - val_accuracy: 0.5317\n",
            "Epoch 33/50\n",
            "156/156 [==============================] - 3s 16ms/step - loss: 0.0017 - accuracy: 1.0000 - val_loss: 3.1008 - val_accuracy: 0.5309\n",
            "Epoch 34/50\n",
            "156/156 [==============================] - 2s 16ms/step - loss: 0.0015 - accuracy: 1.0000 - val_loss: 3.1217 - val_accuracy: 0.5317\n",
            "Epoch 35/50\n",
            "156/156 [==============================] - 2s 16ms/step - loss: 0.0013 - accuracy: 1.0000 - val_loss: 3.1422 - val_accuracy: 0.5309\n",
            "Epoch 36/50\n",
            "156/156 [==============================] - 3s 16ms/step - loss: 0.0012 - accuracy: 1.0000 - val_loss: 3.1626 - val_accuracy: 0.5317\n",
            "Epoch 37/50\n",
            "156/156 [==============================] - 3s 16ms/step - loss: 0.0011 - accuracy: 1.0000 - val_loss: 3.1826 - val_accuracy: 0.5325\n",
            "Epoch 38/50\n",
            "156/156 [==============================] - 3s 16ms/step - loss: 0.0010 - accuracy: 1.0000 - val_loss: 3.2025 - val_accuracy: 0.5309\n",
            "Epoch 39/50\n",
            "156/156 [==============================] - 3s 16ms/step - loss: 9.1808e-04 - accuracy: 1.0000 - val_loss: 3.2224 - val_accuracy: 0.5309\n",
            "Epoch 40/50\n",
            "156/156 [==============================] - 3s 16ms/step - loss: 8.3832e-04 - accuracy: 1.0000 - val_loss: 3.2422 - val_accuracy: 0.5317\n",
            "Epoch 41/50\n",
            "156/156 [==============================] - 3s 16ms/step - loss: 7.6634e-04 - accuracy: 1.0000 - val_loss: 3.2616 - val_accuracy: 0.5325\n",
            "Epoch 42/50\n",
            "156/156 [==============================] - 3s 16ms/step - loss: 7.0120e-04 - accuracy: 1.0000 - val_loss: 3.2811 - val_accuracy: 0.5325\n",
            "Epoch 43/50\n",
            "156/156 [==============================] - 3s 16ms/step - loss: 6.4209e-04 - accuracy: 1.0000 - val_loss: 3.3011 - val_accuracy: 0.5333\n",
            "Epoch 44/50\n",
            "156/156 [==============================] - 2s 16ms/step - loss: 5.8828e-04 - accuracy: 1.0000 - val_loss: 3.3207 - val_accuracy: 0.5333\n",
            "Epoch 45/50\n",
            "156/156 [==============================] - 3s 16ms/step - loss: 5.3932e-04 - accuracy: 1.0000 - val_loss: 3.3407 - val_accuracy: 0.5341\n",
            "Epoch 46/50\n",
            "156/156 [==============================] - 3s 16ms/step - loss: 4.9461e-04 - accuracy: 1.0000 - val_loss: 3.3606 - val_accuracy: 0.5341\n",
            "Epoch 47/50\n",
            "156/156 [==============================] - 2s 16ms/step - loss: 4.5383e-04 - accuracy: 1.0000 - val_loss: 3.3805 - val_accuracy: 0.5341\n",
            "Epoch 48/50\n",
            "156/156 [==============================] - 2s 16ms/step - loss: 4.1659e-04 - accuracy: 1.0000 - val_loss: 3.4003 - val_accuracy: 0.5341\n",
            "Epoch 49/50\n",
            "156/156 [==============================] - 3s 16ms/step - loss: 3.8252e-04 - accuracy: 1.0000 - val_loss: 3.4206 - val_accuracy: 0.5341\n",
            "Epoch 50/50\n",
            "156/156 [==============================] - 3s 16ms/step - loss: 3.5134e-04 - accuracy: 1.0000 - val_loss: 3.4407 - val_accuracy: 0.5341\n"
          ]
        }
      ]
    },
    {
      "cell_type": "code",
      "metadata": {
        "colab": {
          "base_uri": "https://localhost:8080/",
          "height": 499
        },
        "id": "f1z_vHocu59c",
        "outputId": "6227b543-a6b9-4f6e-ca31-078a6426a4ce"
      },
      "source": [
        "acc = history.history['accuracy']\n",
        "val_acc = history.history['val_accuracy']\n",
        "\n",
        "loss=history.history['loss']\n",
        "val_loss=history.history['val_loss']\n",
        "\n",
        "epochs_range = range(epochs)\n",
        "\n",
        "plt.figure(figsize=(8, 8))\n",
        "plt.subplot(1, 2, 1)\n",
        "plt.plot(epochs_range, acc, label='Training Accuracy')\n",
        "plt.plot(epochs_range, val_acc, label='Validation Accuracy')\n",
        "plt.legend(loc='lower right')\n",
        "plt.title('Training and Validation Accuracy')\n",
        "\n",
        "plt.subplot(1, 2, 2)\n",
        "plt.plot(epochs_range, loss, label='Training Loss')\n",
        "plt.plot(epochs_range, val_loss, label='Validation Loss')\n",
        "plt.legend(loc='upper right')\n",
        "plt.title('Training and Validation Loss')\n",
        "plt.show()"
      ],
      "execution_count": null,
      "outputs": [
        {
          "output_type": "display_data",
          "data": {
            "image/png": "[encoded data removed]",
            "text/plain": [
              "<Figure size 576x576 with 2 Axes>"
            ]
          },
          "metadata": {
            "needs_background": "light"
          }
        }
      ]
    },
    {
      "cell_type": "code",
      "metadata": {
        "id": "XinJ6xXD9YNO"
      },
      "source": [
        "data_augmentation = keras.Sequential(\n",
        "  [\n",
        "    layers.experimental.preprocessing.RandomFlip(\"horizontal\", \n",
        "                                                 input_shape=(img_height, \n",
        "                                                              img_width,\n",
        "                                                              1)),\n",
        "    layers.experimental.preprocessing.RandomRotation(0.1),\n",
        "    layers.experimental.preprocessing.RandomZoom(0.1),\n",
        "  ]\n",
        ")"
      ],
      "execution_count": null,
      "outputs": []
    },
    {
      "cell_type": "code",
      "metadata": {
        "id": "8WT2BYElEYZj"
      },
      "source": [
        "model = Sequential([\n",
        "  data_augmentation,\n",
        "  layers.experimental.preprocessing.Rescaling(1./255),\n",
        "  layers.Conv2D(32, 3,input_shape = image_batch, activation='relu'),\n",
        "  layers.MaxPooling2D(),\n",
        "  layers.Conv2D(32, 3, padding='same', activation='relu'),\n",
        "  layers.MaxPooling2D(),\n",
        "  layers.Conv2D(32, 3, padding='same', activation='relu'),\n",
        "  layers.MaxPooling2D(),\n",
        "  layers.Dropout(0.2),\n",
        "  layers.Flatten(),\n",
        "  layers.Dense(128, activation='relu'),\n",
        "  BatchNormalization(),\n",
        "  layers.Dense(128, activation='relu'),\n",
        "  BatchNormalization(),\n",
        "  layers.Dense(128, activation='relu'),\n",
        "  BatchNormalization(),\n",
        "  layers.Dense(128, activation='relu'),\n",
        "  BatchNormalization(),\n",
        "  layers.Dense(107, activation='softmax'),\n",
        "  BatchNormalization(),\n",
        "  layers.Dense(num_classes)\n",
        "])"
      ],
      "execution_count": null,
      "outputs": []
    },
    {
      "cell_type": "code",
      "metadata": {
        "id": "opOHP3auEdsw",
        "colab": {
          "base_uri": "https://localhost:8080/"
        },
        "outputId": "5c94cd25-93e4-4695-c345-7a36b2c97ab3"
      },
      "source": [
        "BatchNormalization(),model.compile(\n",
        "    optimizer='adam',\n",
        "    loss=tf.losses.SparseCategoricalCrossentropy(from_logits=True),\n",
        "    metrics=['accuracy'])"
      ],
      "execution_count": null,
      "outputs": [
        {
          "output_type": "execute_result",
          "data": {
            "text/plain": [
              "(<keras.layers.normalization.batch_normalization.BatchNormalization at 0x7fc5fa112d90>,\n",
              " None)"
            ]
          },
          "metadata": {},
          "execution_count": 19
        }
      ]
    },
    {
      "cell_type": "code",
      "metadata": {
        "colab": {
          "base_uri": "https://localhost:8080/"
        },
        "id": "3Ay4tlHlEfBX",
        "outputId": "bfe2ee32-caa8-4a28-8eea-64917f1c15fc"
      },
      "source": [
        "model.summary()"
      ],
      "execution_count": null,
      "outputs": [
        {
          "output_type": "stream",
          "name": "stdout",
          "text": [
            "Model: \"sequential_2\"\n",
            "_________________________________________________________________\n",
            " Layer (type)                Output Shape              Param #   \n",
            "=================================================================\n",
            " sequential_1 (Sequential)   (None, 180, 180, 1)       0         \n",
            "                                                                 \n",
            " rescaling_2 (Rescaling)     (None, 180, 180, 1)       0         \n",
            "                                                                 \n",
            " conv2d_3 (Conv2D)           (None, 178, 178, 32)      320       \n",
            "                                                                 \n",
            " max_pooling2d_3 (MaxPooling  (None, 89, 89, 32)       0         \n",
            " 2D)                                                             \n",
            "                                                                 \n",
            " conv2d_4 (Conv2D)           (None, 89, 89, 32)        9248      \n",
            "                                                                 \n",
            " max_pooling2d_4 (MaxPooling  (None, 44, 44, 32)       0         \n",
            " 2D)                                                             \n",
            "                                                                 \n",
            " conv2d_5 (Conv2D)           (None, 44, 44, 32)        9248      \n",
            "                                                                 \n",
            " max_pooling2d_5 (MaxPooling  (None, 22, 22, 32)       0         \n",
            " 2D)                                                             \n",
            "                                                                 \n",
            " dropout (Dropout)           (None, 22, 22, 32)        0         \n",
            "                                                                 \n",
            " flatten_1 (Flatten)         (None, 15488)             0         \n",
            "                                                                 \n",
            " dense_6 (Dense)             (None, 128)               1982592   \n",
            "                                                                 \n",
            " batch_normalization_6 (Batc  (None, 128)              512       \n",
            " hNormalization)                                                 \n",
            "                                                                 \n",
            " dense_7 (Dense)             (None, 128)               16512     \n",
            "                                                                 \n",
            " batch_normalization_7 (Batc  (None, 128)              512       \n",
            " hNormalization)                                                 \n",
            "                                                                 \n",
            " dense_8 (Dense)             (None, 128)               16512     \n",
            "                                                                 \n",
            " batch_normalization_8 (Batc  (None, 128)              512       \n",
            " hNormalization)                                                 \n",
            "                                                                 \n",
            " dense_9 (Dense)             (None, 128)               16512     \n",
            "                                                                 \n",
            " batch_normalization_9 (Batc  (None, 128)              512       \n",
            " hNormalization)                                                 \n",
            "                                                                 \n",
            " dense_10 (Dense)            (None, 107)               13803     \n",
            "                                                                 \n",
            " batch_normalization_10 (Bat  (None, 107)              428       \n",
            " chNormalization)                                                \n",
            "                                                                 \n",
            " dense_11 (Dense)            (None, 107)               11556     \n",
            "                                                                 \n",
            "=================================================================\n",
            "Total params: 2,078,779\n",
            "Trainable params: 2,077,541\n",
            "Non-trainable params: 1,238\n",
            "_________________________________________________________________\n"
          ]
        }
      ]
    },
    {
      "cell_type": "code",
      "metadata": {
        "colab": {
          "base_uri": "https://localhost:8080/"
        },
        "id": "Jc8rD_v9Ef41",
        "outputId": "06549802-9a5f-4241-a58c-edc6be845fa5"
      },
      "source": [
        "epochs = 50\n",
        "history = model.fit(\n",
        "  train_ds,\n",
        "  validation_data=val_ds,\n",
        "  epochs=epochs\n",
        ")"
      ],
      "execution_count": null,
      "outputs": [
        {
          "output_type": "stream",
          "name": "stdout",
          "text": [
            "Epoch 1/50\n",
            "156/156 [==============================] - 5s 20ms/step - loss: 3.7269 - accuracy: 0.1917 - val_loss: 4.1944 - val_accuracy: 0.1478\n",
            "Epoch 2/50\n",
            "156/156 [==============================] - 3s 18ms/step - loss: 2.7827 - accuracy: 0.2973 - val_loss: 3.8755 - val_accuracy: 0.1687\n",
            "Epoch 3/50\n",
            "156/156 [==============================] - 3s 18ms/step - loss: 2.4893 - accuracy: 0.3387 - val_loss: 3.1895 - val_accuracy: 0.2771\n",
            "Epoch 4/50\n",
            "156/156 [==============================] - 3s 18ms/step - loss: 2.2701 - accuracy: 0.3806 - val_loss: 3.2311 - val_accuracy: 0.2386\n",
            "Epoch 5/50\n",
            "156/156 [==============================] - 3s 18ms/step - loss: 2.1177 - accuracy: 0.4035 - val_loss: 3.0487 - val_accuracy: 0.2602\n",
            "Epoch 6/50\n",
            "156/156 [==============================] - 3s 18ms/step - loss: 1.9883 - accuracy: 0.4300 - val_loss: 2.6512 - val_accuracy: 0.3422\n",
            "Epoch 7/50\n",
            "156/156 [==============================] - 3s 17ms/step - loss: 1.8611 - accuracy: 0.4708 - val_loss: 2.0920 - val_accuracy: 0.4466\n",
            "Epoch 8/50\n",
            "156/156 [==============================] - 3s 18ms/step - loss: 1.7696 - accuracy: 0.4822 - val_loss: 2.8589 - val_accuracy: 0.3341\n",
            "Epoch 9/50\n",
            "156/156 [==============================] - 3s 17ms/step - loss: 1.6780 - accuracy: 0.5101 - val_loss: 2.4568 - val_accuracy: 0.4289\n",
            "Epoch 10/50\n",
            "156/156 [==============================] - 3s 18ms/step - loss: 1.5943 - accuracy: 0.5258 - val_loss: 2.5562 - val_accuracy: 0.3815\n",
            "Epoch 11/50\n",
            "156/156 [==============================] - 3s 18ms/step - loss: 1.5225 - accuracy: 0.5443 - val_loss: 2.1608 - val_accuracy: 0.4546\n",
            "Epoch 12/50\n",
            "156/156 [==============================] - 3s 18ms/step - loss: 1.4369 - accuracy: 0.5601 - val_loss: 2.5888 - val_accuracy: 0.4024\n",
            "Epoch 13/50\n",
            "156/156 [==============================] - 3s 18ms/step - loss: 1.4110 - accuracy: 0.5653 - val_loss: 2.0902 - val_accuracy: 0.4795\n",
            "Epoch 14/50\n",
            "156/156 [==============================] - 3s 18ms/step - loss: 1.3409 - accuracy: 0.5848 - val_loss: 2.7457 - val_accuracy: 0.4056\n",
            "Epoch 15/50\n",
            "156/156 [==============================] - 3s 18ms/step - loss: 1.2726 - accuracy: 0.6013 - val_loss: 2.2978 - val_accuracy: 0.4337\n",
            "Epoch 16/50\n",
            "156/156 [==============================] - 3s 18ms/step - loss: 1.2287 - accuracy: 0.6206 - val_loss: 2.3145 - val_accuracy: 0.4530\n",
            "Epoch 17/50\n",
            "156/156 [==============================] - 3s 18ms/step - loss: 1.1772 - accuracy: 0.6324 - val_loss: 2.0525 - val_accuracy: 0.4771\n",
            "Epoch 18/50\n",
            "156/156 [==============================] - 3s 18ms/step - loss: 1.1394 - accuracy: 0.6362 - val_loss: 2.3815 - val_accuracy: 0.4458\n",
            "Epoch 19/50\n",
            "156/156 [==============================] - 3s 18ms/step - loss: 1.0656 - accuracy: 0.6673 - val_loss: 2.0026 - val_accuracy: 0.5173\n",
            "Epoch 20/50\n",
            "156/156 [==============================] - 3s 18ms/step - loss: 1.0474 - accuracy: 0.6671 - val_loss: 2.2072 - val_accuracy: 0.4980\n",
            "Epoch 21/50\n",
            "156/156 [==============================] - 3s 18ms/step - loss: 0.9861 - accuracy: 0.6876 - val_loss: 2.3054 - val_accuracy: 0.4659\n",
            "Epoch 22/50\n",
            "156/156 [==============================] - 3s 17ms/step - loss: 0.9698 - accuracy: 0.6898 - val_loss: 2.1767 - val_accuracy: 0.4659\n",
            "Epoch 23/50\n",
            "156/156 [==============================] - 3s 18ms/step - loss: 0.9424 - accuracy: 0.6981 - val_loss: 2.7743 - val_accuracy: 0.4369\n",
            "Epoch 24/50\n",
            "156/156 [==============================] - 3s 18ms/step - loss: 0.8961 - accuracy: 0.7111 - val_loss: 2.7264 - val_accuracy: 0.4193\n",
            "Epoch 25/50\n",
            "156/156 [==============================] - 3s 18ms/step - loss: 0.8496 - accuracy: 0.7203 - val_loss: 2.5089 - val_accuracy: 0.4651\n",
            "Epoch 26/50\n",
            "156/156 [==============================] - 3s 18ms/step - loss: 0.8256 - accuracy: 0.7280 - val_loss: 2.6028 - val_accuracy: 0.4450\n",
            "Epoch 27/50\n",
            "156/156 [==============================] - 3s 18ms/step - loss: 0.7916 - accuracy: 0.7450 - val_loss: 2.3045 - val_accuracy: 0.5044\n",
            "Epoch 28/50\n",
            "156/156 [==============================] - 3s 18ms/step - loss: 0.7873 - accuracy: 0.7396 - val_loss: 2.8539 - val_accuracy: 0.4329\n",
            "Epoch 29/50\n",
            "156/156 [==============================] - 3s 18ms/step - loss: 0.7543 - accuracy: 0.7549 - val_loss: 2.5668 - val_accuracy: 0.4610\n",
            "Epoch 30/50\n",
            "156/156 [==============================] - 3s 18ms/step - loss: 0.7274 - accuracy: 0.7619 - val_loss: 2.4864 - val_accuracy: 0.4867\n",
            "Epoch 31/50\n",
            "156/156 [==============================] - 3s 18ms/step - loss: 0.6991 - accuracy: 0.7685 - val_loss: 2.1995 - val_accuracy: 0.5124\n",
            "Epoch 32/50\n",
            "156/156 [==============================] - 3s 18ms/step - loss: 0.6692 - accuracy: 0.7766 - val_loss: 2.2843 - val_accuracy: 0.5076\n",
            "Epoch 33/50\n",
            "156/156 [==============================] - 3s 18ms/step - loss: 0.6215 - accuracy: 0.7940 - val_loss: 2.4062 - val_accuracy: 0.4747\n",
            "Epoch 34/50\n",
            "156/156 [==============================] - 3s 18ms/step - loss: 0.6137 - accuracy: 0.8008 - val_loss: 2.4336 - val_accuracy: 0.4916\n",
            "Epoch 35/50\n",
            "156/156 [==============================] - 3s 18ms/step - loss: 0.6018 - accuracy: 0.7986 - val_loss: 2.8624 - val_accuracy: 0.4594\n",
            "Epoch 36/50\n",
            "156/156 [==============================] - 3s 18ms/step - loss: 0.5815 - accuracy: 0.8089 - val_loss: 2.3641 - val_accuracy: 0.5044\n",
            "Epoch 37/50\n",
            "156/156 [==============================] - 3s 18ms/step - loss: 0.5506 - accuracy: 0.8181 - val_loss: 2.4332 - val_accuracy: 0.5124\n",
            "Epoch 38/50\n",
            "156/156 [==============================] - 3s 18ms/step - loss: 0.5227 - accuracy: 0.8298 - val_loss: 3.3818 - val_accuracy: 0.4257\n",
            "Epoch 39/50\n",
            "156/156 [==============================] - 3s 18ms/step - loss: 0.5492 - accuracy: 0.8187 - val_loss: 2.5698 - val_accuracy: 0.5020\n",
            "Epoch 40/50\n",
            "156/156 [==============================] - 3s 18ms/step - loss: 0.4987 - accuracy: 0.8396 - val_loss: 2.7836 - val_accuracy: 0.4851\n",
            "Epoch 41/50\n",
            "156/156 [==============================] - 3s 18ms/step - loss: 0.4920 - accuracy: 0.8374 - val_loss: 2.6525 - val_accuracy: 0.5133\n",
            "Epoch 42/50\n",
            "156/156 [==============================] - 3s 18ms/step - loss: 0.4921 - accuracy: 0.8430 - val_loss: 2.5537 - val_accuracy: 0.5124\n",
            "Epoch 43/50\n",
            "156/156 [==============================] - 3s 18ms/step - loss: 0.4793 - accuracy: 0.8460 - val_loss: 2.9886 - val_accuracy: 0.4546\n",
            "Epoch 44/50\n",
            "156/156 [==============================] - 3s 18ms/step - loss: 0.4603 - accuracy: 0.8496 - val_loss: 2.6583 - val_accuracy: 0.4843\n",
            "Epoch 45/50\n",
            "156/156 [==============================] - 3s 18ms/step - loss: 0.4473 - accuracy: 0.8544 - val_loss: 3.5622 - val_accuracy: 0.4289\n",
            "Epoch 46/50\n",
            "156/156 [==============================] - 3s 18ms/step - loss: 0.4232 - accuracy: 0.8619 - val_loss: 2.7740 - val_accuracy: 0.5084\n",
            "Epoch 47/50\n",
            "156/156 [==============================] - 3s 18ms/step - loss: 0.4213 - accuracy: 0.8581 - val_loss: 2.9776 - val_accuracy: 0.4884\n",
            "Epoch 48/50\n",
            "156/156 [==============================] - 3s 18ms/step - loss: 0.3969 - accuracy: 0.8753 - val_loss: 2.5729 - val_accuracy: 0.5076\n",
            "Epoch 49/50\n",
            "156/156 [==============================] - 3s 18ms/step - loss: 0.3941 - accuracy: 0.8675 - val_loss: 2.6000 - val_accuracy: 0.5108\n",
            "Epoch 50/50\n",
            "156/156 [==============================] - 3s 18ms/step - loss: 0.3880 - accuracy: 0.8765 - val_loss: 2.6952 - val_accuracy: 0.5229\n"
          ]
        }
      ]
    },
    {
      "cell_type": "code",
      "metadata": {
        "colab": {
          "base_uri": "https://localhost:8080/",
          "height": 499
        },
        "id": "ynhS2KjVEhj8",
        "outputId": "89b5caeb-360d-4b42-f5e5-e97bc09d8025"
      },
      "source": [
        "acc = history.history['accuracy']\n",
        "val_acc = history.history['val_accuracy']\n",
        "\n",
        "loss = history.history['loss']\n",
        "val_loss = history.history['val_loss']\n",
        "\n",
        "epochs_range = range(epochs)\n",
        "\n",
        "plt.figure(figsize=(8, 8))\n",
        "plt.subplot(1, 2, 1)\n",
        "plt.plot(epochs_range, acc, label='Training Accuracy')\n",
        "plt.plot(epochs_range, val_acc, label='Validation Accuracy')\n",
        "plt.legend(loc='lower right')\n",
        "plt.title('Training and Validation Accuracy')\n",
        "\n",
        "plt.subplot(1, 2, 2)\n",
        "plt.plot(epochs_range, loss, label='Training Loss')\n",
        "plt.plot(epochs_range, val_loss, label='Validation Loss')\n",
        "plt.legend(loc='upper right')\n",
        "plt.title('Training and Validation Loss')\n",
        "plt.show()"
      ],
      "execution_count": null,
      "outputs": [
        {
          "output_type": "display_data",
          "data": {
            "image/png": "[encoded data removed]",
            "text/plain": [
              "<Figure size 576x576 with 2 Axes>"
            ]
          },
          "metadata": {
            "needs_background": "light"
          }
        }
      ]
    },
    {
      "cell_type": "code",
      "metadata": {
        "colab": {
          "base_uri": "https://localhost:8080/"
        },
        "id": "IbEQMrsAH2yZ",
        "outputId": "3e12cd83-b7d8-47e8-c101-e462267304ce"
      },
      "source": [
        "model.compile(\n",
        "    optimizer='adam',\n",
        "    loss=tf.losses.SparseCategoricalCrossentropy(from_logits=True),\n",
        "    metrics=['accuracy'])\n",
        "model.summary()"
      ],
      "execution_count": null,
      "outputs": [
        {
          "output_type": "stream",
          "name": "stdout",
          "text": [
            "Model: \"sequential_2\"\n",
            "_________________________________________________________________\n",
            " Layer (type)                Output Shape              Param #   \n",
            "=================================================================\n",
            " sequential_1 (Sequential)   (None, 180, 180, 1)       0         \n",
            "                                                                 \n",
            " rescaling_2 (Rescaling)     (None, 180, 180, 1)       0         \n",
            "                                                                 \n",
            " conv2d_3 (Conv2D)           (None, 178, 178, 32)      320       \n",
            "                                                                 \n",
            " max_pooling2d_3 (MaxPooling  (None, 89, 89, 32)       0         \n",
            " 2D)                                                             \n",
            "                                                                 \n",
            " conv2d_4 (Conv2D)           (None, 89, 89, 32)        9248      \n",
            "                                                                 \n",
            " max_pooling2d_4 (MaxPooling  (None, 44, 44, 32)       0         \n",
            " 2D)                                                             \n",
            "                                                                 \n",
            " conv2d_5 (Conv2D)           (None, 44, 44, 32)        9248      \n",
            "                                                                 \n",
            " max_pooling2d_5 (MaxPooling  (None, 22, 22, 32)       0         \n",
            " 2D)                                                             \n",
            "                                                                 \n",
            " dropout (Dropout)           (None, 22, 22, 32)        0         \n",
            "                                                                 \n",
            " flatten_1 (Flatten)         (None, 15488)             0         \n",
            "                                                                 \n",
            " dense_6 (Dense)             (None, 128)               1982592   \n",
            "                                                                 \n",
            " batch_normalization_6 (Batc  (None, 128)              512       \n",
            " hNormalization)                                                 \n",
            "                                                                 \n",
            " dense_7 (Dense)             (None, 128)               16512     \n",
            "                                                                 \n",
            " batch_normalization_7 (Batc  (None, 128)              512       \n",
            " hNormalization)                                                 \n",
            "                                                                 \n",
            " dense_8 (Dense)             (None, 128)               16512     \n",
            "                                                                 \n",
            " batch_normalization_8 (Batc  (None, 128)              512       \n",
            " hNormalization)                                                 \n",
            "                                                                 \n",
            " dense_9 (Dense)             (None, 128)               16512     \n",
            "                                                                 \n",
            " batch_normalization_9 (Batc  (None, 128)              512       \n",
            " hNormalization)                                                 \n",
            "                                                                 \n",
            " dense_10 (Dense)            (None, 107)               13803     \n",
            "                                                                 \n",
            " batch_normalization_10 (Bat  (None, 107)              428       \n",
            " chNormalization)                                                \n",
            "                                                                 \n",
            " dense_11 (Dense)            (None, 107)               11556     \n",
            "                                                                 \n",
            "=================================================================\n",
            "Total params: 2,078,779\n",
            "Trainable params: 2,077,541\n",
            "Non-trainable params: 1,238\n",
            "_________________________________________________________________\n"
          ]
        }
      ]
    },
    {
      "cell_type": "code",
      "metadata": {
        "id": "df30HUqFjWre"
      },
      "source": [
        ""
      ],
      "execution_count": null,
      "outputs": []
    }
  ]
}