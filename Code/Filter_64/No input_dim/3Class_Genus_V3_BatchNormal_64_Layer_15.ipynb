{
  "nbformat": 4,
  "nbformat_minor": 0,
  "metadata": {
    "colab": {
      "name": "3Class_Genus_V3_BatchNormal_64_Layer_15.ipynb",
      "provenance": [],
      "collapsed_sections": [],
      "mount_file_id": "1XUGUVpW2nJgIdLqjL5yAtAi4JvwyIMbI",
      "authorship_tag": "ABX9TyMxxTmiPeLAKS4FETUtWDCt",
      "include_colab_link": true
    },
    "kernelspec": {
      "name": "python3",
      "display_name": "Python 3"
    },
    "language_info": {
      "name": "python"
    },
    "accelerator": "GPU"
  },
  "cells": [
    {
      "cell_type": "markdown",
      "metadata": {
        "id": "view-in-github",
        "colab_type": "text"
      },
      "source": [
        "<a href=\"https://colab.research.google.com/github/Tajyu/Master_Degree_Paper/blob/main/Code/Filter_64/No%20input_dim/3Class_Genus_V3_BatchNormal_64_Layer_15.ipynb\" target=\"_parent\"><img src=\"https://colab.research.google.com/assets/colab-badge.svg\" alt=\"Open In Colab\"/></a>"
      ]
    },
    {
      "cell_type": "code",
      "metadata": {
        "id": "yWckd06_68Em"
      },
      "source": [
        "import tensorflow as tf\n",
        "from tensorflow.keras import datasets, layers, models\n",
        "from keras.preprocessing.image import ImageDataGenerator\n",
        "import numpy as np\n",
        "import matplotlib.pyplot as plt\n",
        "import cv2 as cv\n",
        "import os\n",
        "import pathlib\n",
        "import PIL\n",
        "from tensorflow import keras\n",
        "from tensorflow.keras import layers\n",
        "from tensorflow.keras.models import Sequential\n",
        "from tensorflow.keras.layers import Dense, Flatten, BatchNormalization, Dropout"
      ],
      "execution_count": null,
      "outputs": []
    },
    {
      "cell_type": "code",
      "metadata": {
        "id": "xav9zirHttk_"
      },
      "source": [
        "image_list = os.listdir('/content/drive/MyDrive/Colab Notebooks/Final_Project/Cell_Genus')"
      ],
      "execution_count": null,
      "outputs": []
    },
    {
      "cell_type": "code",
      "metadata": {
        "colab": {
          "base_uri": "https://localhost:8080/"
        },
        "id": "K-wD0dM5tx_E",
        "outputId": "792e692c-bf8b-4729-cedf-f57345f66d93"
      },
      "source": [
        "print(image_list)"
      ],
      "execution_count": null,
      "outputs": [
        {
          "output_type": "stream",
          "name": "stdout",
          "text": [
            "['10_Genus_Stauroneis_Ehrenberg', '10_Genus_Staurosira_Ehrenberg', '11_Genus_Craspedostauros_E.J_Cox_1999', '11_Genus_Staurosirella_Williams_and_Round', '12_Genus_Caloneis_Cleve_1894', '12_Genus_Synedra_Ehrenberg', '13_Genus_Pinnularia_Ehrenberg_1843', '1_Genus_Acanthoceras_Honigmann', '1_Genus_Achnanthes_Bory', '1_Genus_Actinocyclus_Ehrenberg', '1_Genus_Aphanocapsa_Nageli_1849', '1_Genus_Asterionella_Hassall', '1_Genus_Aulacoseira', '1_Genus_Biremis_Mann_et_Cox_in_Round_Crawford_and_Mann', '1_Genus_Characium_A_Braun_in_Kutzing_1849', '1_Genus_Chroococcus_Nageli', '1_Genus_Closterium_Nitzsch_ex_Ralfs_1848', '1_Genus_Coelastrum_Nageli_1849', '1_Genus_Cylindrocystis_Meneghini_ex_de_Bary_1858', '1_Genus_Dictyosphaerium_Nageli_1849', '1_Genus_Docidium_Brebisson_ex_Ralfs_1848', '1_Genus_Eunotia_Ehrenberg', '1_Genus_Geitlerinema_(Anagnostidis_et_Komarek)_Anagnostidis_1989', '1_Genus_Gonatozygon_de_Bary_1856', '1_Genus_Hydrodictyon_Roth_1797', '1_Genus_Hydrosera_whampoensis', '1_Genus_Jaaginema_Anagnostidis_et_Komarek_1988', '1_Genus_Lyngbya_C_Agardh_ex_Gomont_1892', '1_Genus_Melosira_Agardh', '1_Genus_Micractinium_Fresenius_1858', '1_Genus_Micrasterias_Ralfs_1848', '1_Genus_Microcystis_Kutzing_ex_Lemmermann_1907', '1_Genus_Oscillatoria_Vaucher_ex_Gomont_1982', '1_Genus_Pediastrum_Meyen_1829', '1_Genus_Penium_Brebisson_ex_Ralfs_in_Ralfs_1848', '1_Genus_Phormidium_Kutzing_ex_Gomont_1892', '1_Genus_Planktothrix_Anagnostidis_et_Komarek_1988', '1_Genus_Pleurosira_laevis_(Ehrenberg)', '1_Genus_Rhizosolenia_Ehrenberg', '1_Genus_Schizochlamydella_Korshikov_1953', '1_Genus_Staurodesmus_Teiling_1848', '1_Genus_Trochiscia_Kutzing_1834', '1_Scenedesmus_Hegewald_1978', '2_Acutodesmus_Hegewald_1978', '2_Genus_Achnanthidium_Kutzing', '2_Genus_Actinastrum_Lagerheim_1882', '2_Genus_Actinella_Lewis', '2_Genus_Ankyra_Fott_1957', '2_Genus_Caloneis_Cleve', '2_Genus_Chaetoceros_Ehrenberg', '2_Genus_Coenochloris_Korshikov_1953', '2_Genus_Cyclotella', '2_Genus_Diatoma_Bory', '2_Genus_Dimorphococcus_A_Braun_1855', '2_Genus_Golenkinia_Chodat_1894', '2_Genus_Haplotaenium_Bando_1988', '2_Genus_Leibleinia_(Gomont)_L_Hoffman_1985', '2_Genus_Leptolyngbya_Anagnostidis_et_Komarek_1988', '2_Genus_Merismopedia_Meyen_1839', '2_Genus_Netrium_(Nageli)_Itzigsohn_et_Rothe_in_Rabenhorst_1856', '2_Genus_Orthoseira_Thwaites_1848', '2_Genus_Phormidium_Kutzing_ex_Gomont_1892', '2_Genus_Sorastrum_Kutzing_1845', '2_Genus_Staurastrum_Meyen_ex_Ralfs_1848', '3_Desmodesmus_Chodat_1926', '3_Genus_Acanthosphaera_Lemmerman_1899', '3_Genus_Anorthoneis_Grunow', '3_Genus_Cyclostephanos_Round', '3_Genus_Dichotomococcus_Korshikov_1928', '3_Genus_Heteroleibleinia_(Geitler)_L_Hoffmann_1985', '3_Genus_Limnothrix_Meffert_1988', '3_Genus_Meridion_Agardh', '3_Genus_Paradoxia_Svirenko_1928', '3_Genus_Peronia_Bebisson_and_Arnott_ex_Kitton', '3_Genus_Phormidiochaete_Komarek_in_Anagnostidis_2001', '3_Genus_Pinnularia_Ehrenberg_1', '3_Genus_Pleurotaenium_Nageli_1849', '3_Genus_Radiococcus_Schmidle_1902', '3_Genus_Snowella_Elenkin_1938', '3_Genus_Spirotaenia_Brebisson_in_Ralfs_1848', '4_Genus_Botryococcus_Kutzing_1849', '4_Genus_Cocconeis_Ehrenberg', '4_Genus_Eutetramorus_Walton_1918', '4_Genus_Leptolyngbya_Anagnostidis_et_Komarek_1988', '4_Genus_Opephora_Petit', '4_Genus_Pinnularia_Ehrenberg_2', '4_Genus_Schroederia_Lemmermann_1898', '4_Genus_Stephanodiscus_Ehrenberg', '4_Genus_Synechocystis_Sauvageau_1892', '4_Genus_Tortitaenia_A_J_Brook_1998', '5_Genus_Caloneis_Cleve', '5_Genus_Coenocystis_Korshikov_1953', '5_Genus_Planktolyngbya_Anagnostidis_et_Komarek_1988', '5_Genus_Tabellaria_Ehrenberg', '5_Genus_Thalassiosira_Cleve', '5_Genus_Woronichinia_Elenkin_1933', '6_Genus_Anomoeoneis_Pfitzer', '6_Genus_Fragilaria_Lyngbye', '6_Genus_Gloeocystis_Nageli_1849', '6_Genus_Pseudanabaena_Lauterborn_1915', '6_Genus_Skeletonema_Greville', '7_Genus_Caloneis_Cleve', '7_Genus_Hannaea_Patrick', '8_Genus_Diploneis(Ehrenberg)_Cleve', '8_Genus_Pseudostaurosira_Williams_and_Round', '9_Genus_Neidium_Pfitzer', '9_Genus_Punctastriata_Williams_and_Round']\n"
          ]
        }
      ]
    },
    {
      "cell_type": "code",
      "metadata": {
        "id": "o-0DvzEHt8VE"
      },
      "source": [
        "data_generator = ImageDataGenerator(rescale = 1./255)\n",
        "\n",
        "data_dir = \"/content/drive/MyDrive/Colab Notebooks/Final_Project/Cell_Genus\""
      ],
      "execution_count": null,
      "outputs": []
    },
    {
      "cell_type": "code",
      "metadata": {
        "id": "7aTCfEm3t10n"
      },
      "source": [
        "batch_size = 32\n",
        "img_height = 180\n",
        "img_width = 180"
      ],
      "execution_count": null,
      "outputs": []
    },
    {
      "cell_type": "code",
      "metadata": {
        "id": "9Smg-miEt22s",
        "colab": {
          "base_uri": "https://localhost:8080/"
        },
        "outputId": "0d15a217-3ac8-453e-996d-7ac23943ae7a"
      },
      "source": [
        "train_ds = tf.keras.preprocessing.image_dataset_from_directory(\n",
        "  data_dir,\n",
        "  color_mode = \"grayscale\",\n",
        "  validation_split=0.2,\n",
        "  subset=\"training\",\n",
        "  seed=123,\n",
        "  image_size=(img_height, img_width),\n",
        "  batch_size=batch_size)"
      ],
      "execution_count": null,
      "outputs": [
        {
          "output_type": "stream",
          "name": "stdout",
          "text": [
            "Found 6226 files belonging to 107 classes.\n",
            "Using 4981 files for training.\n"
          ]
        }
      ]
    },
    {
      "cell_type": "code",
      "metadata": {
        "id": "1nR0WdQGt44x",
        "colab": {
          "base_uri": "https://localhost:8080/"
        },
        "outputId": "e8c9967f-e42f-46c2-88b0-3264bff0cf69"
      },
      "source": [
        "val_ds = tf.keras.preprocessing.image_dataset_from_directory(\n",
        "  data_dir,\n",
        "  color_mode = \"grayscale\",\n",
        "  validation_split=0.2,\n",
        "  subset=\"validation\",\n",
        "  seed=123,\n",
        "  image_size=(img_height, img_width),\n",
        "  batch_size=batch_size)"
      ],
      "execution_count": null,
      "outputs": [
        {
          "output_type": "stream",
          "name": "stdout",
          "text": [
            "Found 6226 files belonging to 107 classes.\n",
            "Using 1245 files for validation.\n"
          ]
        }
      ]
    },
    {
      "cell_type": "code",
      "metadata": {
        "id": "F-cz_CtGug8Y",
        "colab": {
          "base_uri": "https://localhost:8080/"
        },
        "outputId": "8d6835dc-c0c1-4320-8493-dc9b5541b292"
      },
      "source": [
        "class_names = train_ds.class_names\n",
        "print(class_names)"
      ],
      "execution_count": null,
      "outputs": [
        {
          "output_type": "stream",
          "name": "stdout",
          "text": [
            "['10_Genus_Stauroneis_Ehrenberg', '10_Genus_Staurosira_Ehrenberg', '11_Genus_Craspedostauros_E.J_Cox_1999', '11_Genus_Staurosirella_Williams_and_Round', '12_Genus_Caloneis_Cleve_1894', '12_Genus_Synedra_Ehrenberg', '13_Genus_Pinnularia_Ehrenberg_1843', '1_Genus_Acanthoceras_Honigmann', '1_Genus_Achnanthes_Bory', '1_Genus_Actinocyclus_Ehrenberg', '1_Genus_Aphanocapsa_Nageli_1849', '1_Genus_Asterionella_Hassall', '1_Genus_Aulacoseira', '1_Genus_Biremis_Mann_et_Cox_in_Round_Crawford_and_Mann', '1_Genus_Characium_A_Braun_in_Kutzing_1849', '1_Genus_Chroococcus_Nageli', '1_Genus_Closterium_Nitzsch_ex_Ralfs_1848', '1_Genus_Coelastrum_Nageli_1849', '1_Genus_Cylindrocystis_Meneghini_ex_de_Bary_1858', '1_Genus_Dictyosphaerium_Nageli_1849', '1_Genus_Docidium_Brebisson_ex_Ralfs_1848', '1_Genus_Eunotia_Ehrenberg', '1_Genus_Geitlerinema_(Anagnostidis_et_Komarek)_Anagnostidis_1989', '1_Genus_Gonatozygon_de_Bary_1856', '1_Genus_Hydrodictyon_Roth_1797', '1_Genus_Hydrosera_whampoensis', '1_Genus_Jaaginema_Anagnostidis_et_Komarek_1988', '1_Genus_Lyngbya_C_Agardh_ex_Gomont_1892', '1_Genus_Melosira_Agardh', '1_Genus_Micractinium_Fresenius_1858', '1_Genus_Micrasterias_Ralfs_1848', '1_Genus_Microcystis_Kutzing_ex_Lemmermann_1907', '1_Genus_Oscillatoria_Vaucher_ex_Gomont_1982', '1_Genus_Pediastrum_Meyen_1829', '1_Genus_Penium_Brebisson_ex_Ralfs_in_Ralfs_1848', '1_Genus_Phormidium_Kutzing_ex_Gomont_1892', '1_Genus_Planktothrix_Anagnostidis_et_Komarek_1988', '1_Genus_Pleurosira_laevis_(Ehrenberg)', '1_Genus_Rhizosolenia_Ehrenberg', '1_Genus_Schizochlamydella_Korshikov_1953', '1_Genus_Staurodesmus_Teiling_1848', '1_Genus_Trochiscia_Kutzing_1834', '1_Scenedesmus_Hegewald_1978', '2_Acutodesmus_Hegewald_1978', '2_Genus_Achnanthidium_Kutzing', '2_Genus_Actinastrum_Lagerheim_1882', '2_Genus_Actinella_Lewis', '2_Genus_Ankyra_Fott_1957', '2_Genus_Caloneis_Cleve', '2_Genus_Chaetoceros_Ehrenberg', '2_Genus_Coenochloris_Korshikov_1953', '2_Genus_Cyclotella', '2_Genus_Diatoma_Bory', '2_Genus_Dimorphococcus_A_Braun_1855', '2_Genus_Golenkinia_Chodat_1894', '2_Genus_Haplotaenium_Bando_1988', '2_Genus_Leibleinia_(Gomont)_L_Hoffman_1985', '2_Genus_Leptolyngbya_Anagnostidis_et_Komarek_1988', '2_Genus_Merismopedia_Meyen_1839', '2_Genus_Netrium_(Nageli)_Itzigsohn_et_Rothe_in_Rabenhorst_1856', '2_Genus_Orthoseira_Thwaites_1848', '2_Genus_Phormidium_Kutzing_ex_Gomont_1892', '2_Genus_Sorastrum_Kutzing_1845', '2_Genus_Staurastrum_Meyen_ex_Ralfs_1848', '3_Desmodesmus_Chodat_1926', '3_Genus_Acanthosphaera_Lemmerman_1899', '3_Genus_Anorthoneis_Grunow', '3_Genus_Cyclostephanos_Round', '3_Genus_Dichotomococcus_Korshikov_1928', '3_Genus_Heteroleibleinia_(Geitler)_L_Hoffmann_1985', '3_Genus_Limnothrix_Meffert_1988', '3_Genus_Meridion_Agardh', '3_Genus_Paradoxia_Svirenko_1928', '3_Genus_Peronia_Bebisson_and_Arnott_ex_Kitton', '3_Genus_Phormidiochaete_Komarek_in_Anagnostidis_2001', '3_Genus_Pinnularia_Ehrenberg_1', '3_Genus_Pleurotaenium_Nageli_1849', '3_Genus_Radiococcus_Schmidle_1902', '3_Genus_Snowella_Elenkin_1938', '3_Genus_Spirotaenia_Brebisson_in_Ralfs_1848', '4_Genus_Botryococcus_Kutzing_1849', '4_Genus_Cocconeis_Ehrenberg', '4_Genus_Eutetramorus_Walton_1918', '4_Genus_Leptolyngbya_Anagnostidis_et_Komarek_1988', '4_Genus_Opephora_Petit', '4_Genus_Pinnularia_Ehrenberg_2', '4_Genus_Schroederia_Lemmermann_1898', '4_Genus_Stephanodiscus_Ehrenberg', '4_Genus_Synechocystis_Sauvageau_1892', '4_Genus_Tortitaenia_A_J_Brook_1998', '5_Genus_Caloneis_Cleve', '5_Genus_Coenocystis_Korshikov_1953', '5_Genus_Planktolyngbya_Anagnostidis_et_Komarek_1988', '5_Genus_Tabellaria_Ehrenberg', '5_Genus_Thalassiosira_Cleve', '5_Genus_Woronichinia_Elenkin_1933', '6_Genus_Anomoeoneis_Pfitzer', '6_Genus_Fragilaria_Lyngbye', '6_Genus_Gloeocystis_Nageli_1849', '6_Genus_Pseudanabaena_Lauterborn_1915', '6_Genus_Skeletonema_Greville', '7_Genus_Caloneis_Cleve', '7_Genus_Hannaea_Patrick', '8_Genus_Diploneis(Ehrenberg)_Cleve', '8_Genus_Pseudostaurosira_Williams_and_Round', '9_Genus_Neidium_Pfitzer', '9_Genus_Punctastriata_Williams_and_Round']\n"
          ]
        }
      ]
    },
    {
      "cell_type": "code",
      "metadata": {
        "id": "5EQOikPAukic",
        "colab": {
          "base_uri": "https://localhost:8080/"
        },
        "outputId": "e98701bb-cb4c-4a2d-8f06-7f2b619b3621"
      },
      "source": [
        "for image_batch, labels_batch in train_ds:\n",
        "  print(image_batch.shape)\n",
        "  print(labels_batch.shape)\n",
        "  break"
      ],
      "execution_count": null,
      "outputs": [
        {
          "output_type": "stream",
          "name": "stdout",
          "text": [
            "(32, 180, 180, 1)\n",
            "(32,)\n"
          ]
        }
      ]
    },
    {
      "cell_type": "code",
      "metadata": {
        "id": "9eVl7tiDux9q"
      },
      "source": [
        "from tensorflow.keras import layers\n",
        "\n",
        "normalization_layer = tf.keras.layers.experimental.preprocessing.Rescaling(1./255)"
      ],
      "execution_count": null,
      "outputs": []
    },
    {
      "cell_type": "code",
      "metadata": {
        "id": "AiIrsxzZuzEo",
        "colab": {
          "base_uri": "https://localhost:8080/"
        },
        "outputId": "cbda1829-2a51-459e-984b-1e7873425360"
      },
      "source": [
        "normalized_ds = train_ds.map(lambda x, y: (normalization_layer(x), y))\n",
        "image_batch, labels_batch = next(iter(normalized_ds))\n",
        "first_image = image_batch[0]\n",
        "# Notice the pixels values are now in `[0,1]`.\n",
        "print(np.min(first_image), np.max(first_image))"
      ],
      "execution_count": null,
      "outputs": [
        {
          "output_type": "stream",
          "name": "stdout",
          "text": [
            "0.0 1.0\n"
          ]
        }
      ]
    },
    {
      "cell_type": "code",
      "metadata": {
        "id": "__WbVabru0Bp"
      },
      "source": [
        "AUTOTUNE = tf.data.experimental.AUTOTUNE\n",
        "\n",
        "train_ds = train_ds.cache().prefetch(buffer_size=AUTOTUNE)\n",
        "val_ds = val_ds.cache().prefetch(buffer_size=AUTOTUNE)"
      ],
      "execution_count": null,
      "outputs": []
    },
    {
      "cell_type": "code",
      "metadata": {
        "id": "g1GeYFXCu2gV"
      },
      "source": [
        "num_classes = 107\n",
        "model = tf.keras.Sequential([\n",
        "    layers.experimental.preprocessing.Rescaling(1./255),\n",
        "    layers.Conv2D(64, 3,input_shape = image_batch, activation='relu'),\n",
        "    layers.MaxPooling2D(),\n",
        "    layers.Conv2D(64, 3, activation='relu'),\n",
        "    layers.MaxPooling2D(),\n",
        "    layers.Conv2D(64, 3, activation='relu'),\n",
        "    layers.MaxPooling2D(),\n",
        "    layers.Flatten(),\n",
        "    BatchNormalization(),\n",
        "    layers.Dense(128, activation='relu'),\n",
        "    BatchNormalization(),\n",
        "    layers.Dense(128, activation='relu'),\n",
        "    BatchNormalization(),\n",
        "    layers.Dense(128, activation='relu'),\n",
        "    BatchNormalization(),\n",
        "    layers.Dense(128, activation='relu'),\n",
        "    BatchNormalization(),\n",
        "    layers.Dense(128, activation='relu'),\n",
        "    BatchNormalization(),\n",
        "    layers.Dense(128, activation='relu'),\n",
        "    BatchNormalization(),\n",
        "    layers.Dense(128, activation='relu'),\n",
        "    BatchNormalization(),\n",
        "    layers.Dense(128, activation='relu'),\n",
        "    BatchNormalization(),\n",
        "    layers.Dense(128, activation='relu'),\n",
        "    BatchNormalization(),\n",
        "   layers.Dense(128, activation='relu'),\n",
        "   BatchNormalization(),\n",
        "   layers.Dense(128, activation='relu'),\n",
        "   BatchNormalization(),\n",
        "   layers.Dense(128, activation='relu'),\n",
        "   BatchNormalization(),\n",
        "   layers.Dense(128, activation='relu'),\n",
        "   BatchNormalization(),\n",
        "   layers.Dense(128, activation='relu'),\n",
        "   BatchNormalization(),\n",
        "   layers.Dense(107, activation='softmax'),\n",
        "   BatchNormalization(),\n",
        "   layers.Dense(num_classes)\n",
        "    ])"
      ],
      "execution_count": null,
      "outputs": []
    },
    {
      "cell_type": "code",
      "metadata": {
        "id": "wU4xPAvNYWry"
      },
      "source": [
        "model.compile(\n",
        "    optimizer='adam',\n",
        "    loss=tf.losses.SparseCategoricalCrossentropy(from_logits=True),\n",
        "    metrics=['accuracy'])"
      ],
      "execution_count": null,
      "outputs": []
    },
    {
      "cell_type": "code",
      "metadata": {
        "id": "Tk8ssrbHu44p",
        "colab": {
          "base_uri": "https://localhost:8080/"
        },
        "outputId": "8501b372-daf2-44ff-9b35-8a24e89a4038"
      },
      "source": [
        "epochs=50\n",
        "history = model.fit(\n",
        "  train_ds,\n",
        "  validation_data=val_ds,\n",
        "  epochs=epochs\n",
        ")"
      ],
      "execution_count": null,
      "outputs": [
        {
          "output_type": "stream",
          "name": "stdout",
          "text": [
            "Epoch 1/50\n",
            "156/156 [==============================] - 1411s 9s/step - loss: 4.1530 - accuracy: 0.1443 - val_loss: 4.1603 - val_accuracy: 0.0980\n",
            "Epoch 2/50\n",
            "156/156 [==============================] - 5s 31ms/step - loss: 3.0480 - accuracy: 0.2714 - val_loss: 3.7779 - val_accuracy: 0.2024\n",
            "Epoch 3/50\n",
            "156/156 [==============================] - 5s 31ms/step - loss: 2.7298 - accuracy: 0.3122 - val_loss: 3.3386 - val_accuracy: 0.2490\n",
            "Epoch 4/50\n",
            "156/156 [==============================] - 5s 31ms/step - loss: 2.4993 - accuracy: 0.3556 - val_loss: 2.7982 - val_accuracy: 0.3124\n",
            "Epoch 5/50\n",
            "156/156 [==============================] - 5s 31ms/step - loss: 2.3194 - accuracy: 0.3796 - val_loss: 2.5487 - val_accuracy: 0.3486\n",
            "Epoch 6/50\n",
            "156/156 [==============================] - 5s 31ms/step - loss: 2.1986 - accuracy: 0.4051 - val_loss: 2.5480 - val_accuracy: 0.3486\n",
            "Epoch 7/50\n",
            "156/156 [==============================] - 5s 31ms/step - loss: 2.0771 - accuracy: 0.4262 - val_loss: 2.4770 - val_accuracy: 0.3639\n",
            "Epoch 8/50\n",
            "156/156 [==============================] - 5s 31ms/step - loss: 1.9628 - accuracy: 0.4608 - val_loss: 2.6070 - val_accuracy: 0.3510\n",
            "Epoch 9/50\n",
            "156/156 [==============================] - 5s 31ms/step - loss: 1.8341 - accuracy: 0.4816 - val_loss: 2.5547 - val_accuracy: 0.3655\n",
            "Epoch 10/50\n",
            "156/156 [==============================] - 5s 31ms/step - loss: 1.6967 - accuracy: 0.5226 - val_loss: 2.5552 - val_accuracy: 0.3751\n",
            "Epoch 11/50\n",
            "156/156 [==============================] - 5s 31ms/step - loss: 1.5753 - accuracy: 0.5525 - val_loss: 2.3258 - val_accuracy: 0.4161\n",
            "Epoch 12/50\n",
            "156/156 [==============================] - 5s 31ms/step - loss: 1.4760 - accuracy: 0.5798 - val_loss: 2.7138 - val_accuracy: 0.3799\n",
            "Epoch 13/50\n",
            "156/156 [==============================] - 5s 31ms/step - loss: 1.3848 - accuracy: 0.6011 - val_loss: 2.5957 - val_accuracy: 0.4088\n",
            "Epoch 14/50\n",
            "156/156 [==============================] - 5s 31ms/step - loss: 1.3218 - accuracy: 0.6256 - val_loss: 2.4412 - val_accuracy: 0.4474\n",
            "Epoch 15/50\n",
            "156/156 [==============================] - 5s 31ms/step - loss: 1.2092 - accuracy: 0.6569 - val_loss: 2.5800 - val_accuracy: 0.4257\n",
            "Epoch 16/50\n",
            "156/156 [==============================] - 5s 31ms/step - loss: 1.1670 - accuracy: 0.6633 - val_loss: 2.8239 - val_accuracy: 0.3775\n",
            "Epoch 17/50\n",
            "156/156 [==============================] - 5s 31ms/step - loss: 1.1226 - accuracy: 0.6732 - val_loss: 2.4345 - val_accuracy: 0.4530\n",
            "Epoch 18/50\n",
            "156/156 [==============================] - 5s 30ms/step - loss: 0.9965 - accuracy: 0.7139 - val_loss: 3.1862 - val_accuracy: 0.3574\n",
            "Epoch 19/50\n",
            "156/156 [==============================] - 5s 31ms/step - loss: 0.9753 - accuracy: 0.7254 - val_loss: 2.6161 - val_accuracy: 0.4659\n",
            "Epoch 20/50\n",
            "156/156 [==============================] - 5s 31ms/step - loss: 0.8879 - accuracy: 0.7454 - val_loss: 2.6353 - val_accuracy: 0.4418\n",
            "Epoch 21/50\n",
            "156/156 [==============================] - 5s 30ms/step - loss: 0.8694 - accuracy: 0.7509 - val_loss: 2.5232 - val_accuracy: 0.4851\n",
            "Epoch 22/50\n",
            "156/156 [==============================] - 5s 31ms/step - loss: 0.8221 - accuracy: 0.7603 - val_loss: 2.6507 - val_accuracy: 0.4691\n",
            "Epoch 23/50\n",
            "156/156 [==============================] - 5s 30ms/step - loss: 0.7516 - accuracy: 0.7850 - val_loss: 2.4588 - val_accuracy: 0.4988\n",
            "Epoch 24/50\n",
            "156/156 [==============================] - 5s 31ms/step - loss: 0.6639 - accuracy: 0.8085 - val_loss: 2.4281 - val_accuracy: 0.5060\n",
            "Epoch 25/50\n",
            "156/156 [==============================] - 5s 31ms/step - loss: 0.6246 - accuracy: 0.8177 - val_loss: 2.4315 - val_accuracy: 0.5221\n",
            "Epoch 26/50\n",
            "156/156 [==============================] - 5s 31ms/step - loss: 0.6156 - accuracy: 0.8197 - val_loss: 2.7662 - val_accuracy: 0.4859\n",
            "Epoch 27/50\n",
            "156/156 [==============================] - 5s 30ms/step - loss: 0.6190 - accuracy: 0.8147 - val_loss: 2.9161 - val_accuracy: 0.4659\n",
            "Epoch 28/50\n",
            "156/156 [==============================] - 5s 31ms/step - loss: 0.5971 - accuracy: 0.8263 - val_loss: 2.6929 - val_accuracy: 0.4964\n",
            "Epoch 29/50\n",
            "156/156 [==============================] - 5s 31ms/step - loss: 0.5583 - accuracy: 0.8390 - val_loss: 2.7198 - val_accuracy: 0.4867\n",
            "Epoch 30/50\n",
            "156/156 [==============================] - 5s 31ms/step - loss: 0.5242 - accuracy: 0.8528 - val_loss: 3.0554 - val_accuracy: 0.4651\n",
            "Epoch 31/50\n",
            "156/156 [==============================] - 5s 31ms/step - loss: 0.4973 - accuracy: 0.8565 - val_loss: 3.1757 - val_accuracy: 0.4570\n",
            "Epoch 32/50\n",
            "156/156 [==============================] - 5s 31ms/step - loss: 0.4755 - accuracy: 0.8601 - val_loss: 2.9882 - val_accuracy: 0.4747\n",
            "Epoch 33/50\n",
            "156/156 [==============================] - 5s 31ms/step - loss: 0.4250 - accuracy: 0.8755 - val_loss: 2.9803 - val_accuracy: 0.4876\n",
            "Epoch 34/50\n",
            "156/156 [==============================] - 5s 31ms/step - loss: 0.3769 - accuracy: 0.8938 - val_loss: 3.0192 - val_accuracy: 0.4892\n",
            "Epoch 35/50\n",
            "156/156 [==============================] - 5s 31ms/step - loss: 0.3931 - accuracy: 0.8892 - val_loss: 3.0073 - val_accuracy: 0.5004\n",
            "Epoch 36/50\n",
            "156/156 [==============================] - 5s 31ms/step - loss: 0.3573 - accuracy: 0.9020 - val_loss: 3.1513 - val_accuracy: 0.4811\n",
            "Epoch 37/50\n",
            "156/156 [==============================] - 5s 31ms/step - loss: 0.3587 - accuracy: 0.8968 - val_loss: 3.3294 - val_accuracy: 0.4618\n",
            "Epoch 38/50\n",
            "156/156 [==============================] - 5s 31ms/step - loss: 0.2990 - accuracy: 0.9111 - val_loss: 3.0101 - val_accuracy: 0.5116\n",
            "Epoch 39/50\n",
            "156/156 [==============================] - 5s 31ms/step - loss: 0.2983 - accuracy: 0.9171 - val_loss: 3.2601 - val_accuracy: 0.4618\n",
            "Epoch 40/50\n",
            "156/156 [==============================] - 5s 31ms/step - loss: 0.2980 - accuracy: 0.9161 - val_loss: 3.2592 - val_accuracy: 0.4851\n",
            "Epoch 41/50\n",
            "156/156 [==============================] - 5s 30ms/step - loss: 0.2641 - accuracy: 0.9211 - val_loss: 3.1408 - val_accuracy: 0.5100\n",
            "Epoch 42/50\n",
            "156/156 [==============================] - 5s 31ms/step - loss: 0.2395 - accuracy: 0.9319 - val_loss: 3.3393 - val_accuracy: 0.5044\n",
            "Epoch 43/50\n",
            "156/156 [==============================] - 5s 31ms/step - loss: 0.2776 - accuracy: 0.9159 - val_loss: 3.5509 - val_accuracy: 0.4859\n",
            "Epoch 44/50\n",
            "156/156 [==============================] - 5s 31ms/step - loss: 0.3097 - accuracy: 0.9060 - val_loss: 3.4109 - val_accuracy: 0.4980\n",
            "Epoch 45/50\n",
            "156/156 [==============================] - 5s 31ms/step - loss: 0.3076 - accuracy: 0.9097 - val_loss: 3.2286 - val_accuracy: 0.5076\n",
            "Epoch 46/50\n",
            "156/156 [==============================] - 5s 31ms/step - loss: 0.2744 - accuracy: 0.9175 - val_loss: 3.4250 - val_accuracy: 0.4811\n",
            "Epoch 47/50\n",
            "156/156 [==============================] - 5s 31ms/step - loss: 0.2872 - accuracy: 0.9245 - val_loss: 3.3249 - val_accuracy: 0.5205\n",
            "Epoch 48/50\n",
            "156/156 [==============================] - 5s 31ms/step - loss: 0.1992 - accuracy: 0.9444 - val_loss: 3.3719 - val_accuracy: 0.4956\n",
            "Epoch 49/50\n",
            "156/156 [==============================] - 5s 31ms/step - loss: 0.1934 - accuracy: 0.9434 - val_loss: 3.5955 - val_accuracy: 0.5044\n",
            "Epoch 50/50\n",
            "156/156 [==============================] - 5s 31ms/step - loss: 0.1919 - accuracy: 0.9480 - val_loss: 3.8070 - val_accuracy: 0.4843\n"
          ]
        }
      ]
    },
    {
      "cell_type": "code",
      "metadata": {
        "id": "f1z_vHocu59c",
        "colab": {
          "base_uri": "https://localhost:8080/",
          "height": 499
        },
        "outputId": "1566fc55-aeed-475d-b65d-0db1ee128f13"
      },
      "source": [
        "acc = history.history['accuracy']\n",
        "val_acc = history.history['val_accuracy']\n",
        "\n",
        "loss=history.history['loss']\n",
        "val_loss=history.history['val_loss']\n",
        "\n",
        "epochs_range = range(epochs)\n",
        "\n",
        "plt.figure(figsize=(8, 8))\n",
        "plt.subplot(1, 2, 1)\n",
        "plt.plot(epochs_range, acc, label='Training Accuracy')\n",
        "plt.plot(epochs_range, val_acc, label='Validation Accuracy')\n",
        "plt.legend(loc='lower right')\n",
        "plt.title('Training and Validation Accuracy')\n",
        "\n",
        "plt.subplot(1, 2, 2)\n",
        "plt.plot(epochs_range, loss, label='Training Loss')\n",
        "plt.plot(epochs_range, val_loss, label='Validation Loss')\n",
        "plt.legend(loc='upper right')\n",
        "plt.title('Training and Validation Loss')\n",
        "plt.show()"
      ],
      "execution_count": null,
      "outputs": [
        {
          "output_type": "display_data",
          "data": {
            "image/png": "[encoded data removed]",
            "text/plain": [
              "<Figure size 576x576 with 2 Axes>"
            ]
          },
          "metadata": {
            "needs_background": "light"
          }
        }
      ]
    },
    {
      "cell_type": "code",
      "metadata": {
        "id": "XinJ6xXD9YNO"
      },
      "source": [
        "data_augmentation = keras.Sequential(\n",
        "  [\n",
        "    layers.experimental.preprocessing.RandomFlip(\"horizontal\", \n",
        "                                                 input_shape=(img_height, \n",
        "                                                              img_width,\n",
        "                                                              1)),\n",
        "    layers.experimental.preprocessing.RandomRotation(0.1),\n",
        "    layers.experimental.preprocessing.RandomZoom(0.1),\n",
        "  ]\n",
        ")"
      ],
      "execution_count": null,
      "outputs": []
    },
    {
      "cell_type": "code",
      "metadata": {
        "id": "8WT2BYElEYZj"
      },
      "source": [
        "model = Sequential([\n",
        "  data_augmentation,\n",
        "  layers.experimental.preprocessing.Rescaling(1./255),\n",
        "  layers.Conv2D(64, 3,input_shape = image_batch, activation='relu'),\n",
        "  layers.MaxPooling2D(),\n",
        "  layers.Conv2D(64, 3, padding='same', activation='relu'),\n",
        "  layers.MaxPooling2D(),\n",
        "  layers.Conv2D(64, 3, padding='same', activation='relu'),\n",
        "  layers.MaxPooling2D(),\n",
        "  layers.Dropout(0.2),\n",
        "  layers.Flatten(),\n",
        "  layers.Dense(128, activation='relu'),\n",
        "  BatchNormalization(),\n",
        "  layers.Dense(128, activation='relu'),\n",
        "  BatchNormalization(),\n",
        "  layers.Dense(128, activation='relu'),\n",
        "  BatchNormalization(),\n",
        "  layers.Dense(128, activation='relu'),\n",
        "  BatchNormalization(),\n",
        "  layers.Dense(128, activation='relu'),\n",
        "  BatchNormalization(),\n",
        "  layers.Dense(128, activation='relu'),\n",
        "  BatchNormalization(),\n",
        "  layers.Dense(128, activation='relu'),\n",
        "  BatchNormalization(),\n",
        "  layers.Dense(128, activation='relu'),\n",
        "  BatchNormalization(),\n",
        "  layers.Dense(128, activation='relu'),\n",
        "  BatchNormalization(),\n",
        "  layers.Dense(128, activation='relu'),\n",
        "  BatchNormalization(),\n",
        "  layers.Dense(128, activation='relu'),\n",
        "  BatchNormalization(),\n",
        "  layers.Dense(128, activation='relu'),\n",
        "  BatchNormalization(),\n",
        "  layers.Dense(128, activation='relu'),\n",
        "  BatchNormalization(),\n",
        "  layers.Dense(128, activation='relu'),\n",
        "  BatchNormalization(),\n",
        "  layers.Dense(107, activation='softmax'),\n",
        "  BatchNormalization(),\n",
        "  layers.Dense(num_classes)\n",
        "])"
      ],
      "execution_count": null,
      "outputs": []
    },
    {
      "cell_type": "code",
      "metadata": {
        "id": "opOHP3auEdsw",
        "colab": {
          "base_uri": "https://localhost:8080/"
        },
        "outputId": "af4a65cd-7ce1-47df-d894-374749a184db"
      },
      "source": [
        "BatchNormalization(),model.compile(\n",
        "    optimizer='adam',\n",
        "    loss=tf.losses.SparseCategoricalCrossentropy(from_logits=True),\n",
        "    metrics=['accuracy'])"
      ],
      "execution_count": null,
      "outputs": [
        {
          "output_type": "execute_result",
          "data": {
            "text/plain": [
              "(<keras.layers.normalization.batch_normalization.BatchNormalization at 0x7fb0ec217090>,\n",
              " None)"
            ]
          },
          "metadata": {},
          "execution_count": 19
        }
      ]
    },
    {
      "cell_type": "code",
      "metadata": {
        "id": "3Ay4tlHlEfBX",
        "colab": {
          "base_uri": "https://localhost:8080/"
        },
        "outputId": "d24427a9-ffb5-4483-de08-ec58a6f2c646"
      },
      "source": [
        "model.summary()"
      ],
      "execution_count": null,
      "outputs": [
        {
          "output_type": "stream",
          "name": "stdout",
          "text": [
            "Model: \"sequential_2\"\n",
            "_________________________________________________________________\n",
            " Layer (type)                Output Shape              Param #   \n",
            "=================================================================\n",
            " sequential_1 (Sequential)   (None, 180, 180, 1)       0         \n",
            "                                                                 \n",
            " rescaling_2 (Rescaling)     (None, 180, 180, 1)       0         \n",
            "                                                                 \n",
            " conv2d_3 (Conv2D)           (None, 178, 178, 64)      640       \n",
            "                                                                 \n",
            " max_pooling2d_3 (MaxPooling  (None, 89, 89, 64)       0         \n",
            " 2D)                                                             \n",
            "                                                                 \n",
            " conv2d_4 (Conv2D)           (None, 89, 89, 64)        36928     \n",
            "                                                                 \n",
            " max_pooling2d_4 (MaxPooling  (None, 44, 44, 64)       0         \n",
            " 2D)                                                             \n",
            "                                                                 \n",
            " conv2d_5 (Conv2D)           (None, 44, 44, 64)        36928     \n",
            "                                                                 \n",
            " max_pooling2d_5 (MaxPooling  (None, 22, 22, 64)       0         \n",
            " 2D)                                                             \n",
            "                                                                 \n",
            " dropout (Dropout)           (None, 22, 22, 64)        0         \n",
            "                                                                 \n",
            " flatten_1 (Flatten)         (None, 30976)             0         \n",
            "                                                                 \n",
            " dense_16 (Dense)            (None, 128)               3965056   \n",
            "                                                                 \n",
            " batch_normalization_16 (Bat  (None, 128)              512       \n",
            " chNormalization)                                                \n",
            "                                                                 \n",
            " dense_17 (Dense)            (None, 128)               16512     \n",
            "                                                                 \n",
            " batch_normalization_17 (Bat  (None, 128)              512       \n",
            " chNormalization)                                                \n",
            "                                                                 \n",
            " dense_18 (Dense)            (None, 128)               16512     \n",
            "                                                                 \n",
            " batch_normalization_18 (Bat  (None, 128)              512       \n",
            " chNormalization)                                                \n",
            "                                                                 \n",
            " dense_19 (Dense)            (None, 128)               16512     \n",
            "                                                                 \n",
            " batch_normalization_19 (Bat  (None, 128)              512       \n",
            " chNormalization)                                                \n",
            "                                                                 \n",
            " dense_20 (Dense)            (None, 128)               16512     \n",
            "                                                                 \n",
            " batch_normalization_20 (Bat  (None, 128)              512       \n",
            " chNormalization)                                                \n",
            "                                                                 \n",
            " dense_21 (Dense)            (None, 128)               16512     \n",
            "                                                                 \n",
            " batch_normalization_21 (Bat  (None, 128)              512       \n",
            " chNormalization)                                                \n",
            "                                                                 \n",
            " dense_22 (Dense)            (None, 128)               16512     \n",
            "                                                                 \n",
            " batch_normalization_22 (Bat  (None, 128)              512       \n",
            " chNormalization)                                                \n",
            "                                                                 \n",
            " dense_23 (Dense)            (None, 128)               16512     \n",
            "                                                                 \n",
            " batch_normalization_23 (Bat  (None, 128)              512       \n",
            " chNormalization)                                                \n",
            "                                                                 \n",
            " dense_24 (Dense)            (None, 128)               16512     \n",
            "                                                                 \n",
            " batch_normalization_24 (Bat  (None, 128)              512       \n",
            " chNormalization)                                                \n",
            "                                                                 \n",
            " dense_25 (Dense)            (None, 128)               16512     \n",
            "                                                                 \n",
            " batch_normalization_25 (Bat  (None, 128)              512       \n",
            " chNormalization)                                                \n",
            "                                                                 \n",
            " dense_26 (Dense)            (None, 128)               16512     \n",
            "                                                                 \n",
            " batch_normalization_26 (Bat  (None, 128)              512       \n",
            " chNormalization)                                                \n",
            "                                                                 \n",
            " dense_27 (Dense)            (None, 128)               16512     \n",
            "                                                                 \n",
            " batch_normalization_27 (Bat  (None, 128)              512       \n",
            " chNormalization)                                                \n",
            "                                                                 \n",
            " dense_28 (Dense)            (None, 128)               16512     \n",
            "                                                                 \n",
            " batch_normalization_28 (Bat  (None, 128)              512       \n",
            " chNormalization)                                                \n",
            "                                                                 \n",
            " dense_29 (Dense)            (None, 128)               16512     \n",
            "                                                                 \n",
            " batch_normalization_29 (Bat  (None, 128)              512       \n",
            " chNormalization)                                                \n",
            "                                                                 \n",
            " dense_30 (Dense)            (None, 107)               13803     \n",
            "                                                                 \n",
            " batch_normalization_30 (Bat  (None, 107)              428       \n",
            " chNormalization)                                                \n",
            "                                                                 \n",
            " dense_31 (Dense)            (None, 107)               11556     \n",
            "                                                                 \n",
            "=================================================================\n",
            "Total params: 4,287,163\n",
            "Trainable params: 4,283,365\n",
            "Non-trainable params: 3,798\n",
            "_________________________________________________________________\n"
          ]
        }
      ]
    },
    {
      "cell_type": "code",
      "metadata": {
        "id": "Jc8rD_v9Ef41",
        "colab": {
          "base_uri": "https://localhost:8080/"
        },
        "outputId": "1c590453-dcb6-46ab-a5e4-ff0f87cbf327"
      },
      "source": [
        "epochs = 50\n",
        "history = model.fit(\n",
        "  train_ds,\n",
        "  validation_data=val_ds,\n",
        "  epochs=epochs\n",
        ")"
      ],
      "execution_count": null,
      "outputs": [
        {
          "output_type": "stream",
          "name": "stdout",
          "text": [
            "Epoch 1/50\n",
            "156/156 [==============================] - 9s 37ms/step - loss: 4.1323 - accuracy: 0.1187 - val_loss: 4.1408 - val_accuracy: 0.1004\n",
            "Epoch 2/50\n",
            "156/156 [==============================] - 5s 32ms/step - loss: 3.2855 - accuracy: 0.1901 - val_loss: 3.6644 - val_accuracy: 0.1550\n",
            "Epoch 3/50\n",
            "156/156 [==============================] - 5s 32ms/step - loss: 3.0967 - accuracy: 0.2138 - val_loss: 3.3831 - val_accuracy: 0.2153\n",
            "Epoch 4/50\n",
            "156/156 [==============================] - 5s 32ms/step - loss: 2.8937 - accuracy: 0.2538 - val_loss: 3.0362 - val_accuracy: 0.2578\n",
            "Epoch 5/50\n",
            "156/156 [==============================] - 5s 32ms/step - loss: 2.7495 - accuracy: 0.2773 - val_loss: 3.1515 - val_accuracy: 0.2281\n",
            "Epoch 6/50\n",
            "156/156 [==============================] - 5s 32ms/step - loss: 2.6453 - accuracy: 0.3025 - val_loss: 2.9749 - val_accuracy: 0.2675\n",
            "Epoch 7/50\n",
            "156/156 [==============================] - 5s 32ms/step - loss: 2.5544 - accuracy: 0.3078 - val_loss: 2.8277 - val_accuracy: 0.2739\n",
            "Epoch 8/50\n",
            "156/156 [==============================] - 5s 32ms/step - loss: 2.4876 - accuracy: 0.3254 - val_loss: 2.9577 - val_accuracy: 0.2482\n",
            "Epoch 9/50\n",
            "156/156 [==============================] - 5s 32ms/step - loss: 2.4014 - accuracy: 0.3373 - val_loss: 3.3445 - val_accuracy: 0.2402\n",
            "Epoch 10/50\n",
            "156/156 [==============================] - 5s 32ms/step - loss: 2.3705 - accuracy: 0.3399 - val_loss: 3.0536 - val_accuracy: 0.2418\n",
            "Epoch 11/50\n",
            "156/156 [==============================] - 5s 32ms/step - loss: 2.3212 - accuracy: 0.3455 - val_loss: 2.7173 - val_accuracy: 0.3116\n",
            "Epoch 12/50\n",
            "156/156 [==============================] - 5s 33ms/step - loss: 2.2737 - accuracy: 0.3616 - val_loss: 2.7176 - val_accuracy: 0.2755\n",
            "Epoch 13/50\n",
            "156/156 [==============================] - 5s 33ms/step - loss: 2.2198 - accuracy: 0.3678 - val_loss: 2.8658 - val_accuracy: 0.2876\n",
            "Epoch 14/50\n",
            "156/156 [==============================] - 5s 32ms/step - loss: 2.1865 - accuracy: 0.3724 - val_loss: 3.2503 - val_accuracy: 0.2281\n",
            "Epoch 15/50\n",
            "156/156 [==============================] - 5s 32ms/step - loss: 2.1441 - accuracy: 0.3794 - val_loss: 3.3758 - val_accuracy: 0.2378\n",
            "Epoch 16/50\n",
            "156/156 [==============================] - 5s 32ms/step - loss: 2.1071 - accuracy: 0.3861 - val_loss: 2.9463 - val_accuracy: 0.2578\n",
            "Epoch 17/50\n",
            "156/156 [==============================] - 5s 32ms/step - loss: 2.0603 - accuracy: 0.3995 - val_loss: 3.4759 - val_accuracy: 0.2249\n",
            "Epoch 18/50\n",
            "156/156 [==============================] - 5s 33ms/step - loss: 2.0425 - accuracy: 0.4059 - val_loss: 2.5026 - val_accuracy: 0.3639\n",
            "Epoch 19/50\n",
            "156/156 [==============================] - 5s 33ms/step - loss: 2.0141 - accuracy: 0.4041 - val_loss: 4.0586 - val_accuracy: 0.2032\n",
            "Epoch 20/50\n",
            "156/156 [==============================] - 5s 32ms/step - loss: 2.0140 - accuracy: 0.4071 - val_loss: 2.9503 - val_accuracy: 0.3036\n",
            "Epoch 21/50\n",
            "156/156 [==============================] - 5s 32ms/step - loss: 1.9533 - accuracy: 0.4246 - val_loss: 2.9218 - val_accuracy: 0.3365\n",
            "Epoch 22/50\n",
            "156/156 [==============================] - 5s 32ms/step - loss: 1.8859 - accuracy: 0.4379 - val_loss: 3.0764 - val_accuracy: 0.3092\n",
            "Epoch 23/50\n",
            "156/156 [==============================] - 5s 32ms/step - loss: 1.8532 - accuracy: 0.4409 - val_loss: 2.9056 - val_accuracy: 0.3470\n",
            "Epoch 24/50\n",
            "156/156 [==============================] - 5s 32ms/step - loss: 1.8308 - accuracy: 0.4525 - val_loss: 3.2858 - val_accuracy: 0.2835\n",
            "Epoch 25/50\n",
            "156/156 [==============================] - 5s 32ms/step - loss: 1.8137 - accuracy: 0.4545 - val_loss: 2.7149 - val_accuracy: 0.3703\n",
            "Epoch 26/50\n",
            "156/156 [==============================] - 5s 32ms/step - loss: 1.7927 - accuracy: 0.4543 - val_loss: 2.5881 - val_accuracy: 0.3679\n",
            "Epoch 27/50\n",
            "156/156 [==============================] - 5s 33ms/step - loss: 1.7283 - accuracy: 0.4688 - val_loss: 3.1129 - val_accuracy: 0.2972\n",
            "Epoch 28/50\n",
            "156/156 [==============================] - 5s 33ms/step - loss: 1.7284 - accuracy: 0.4814 - val_loss: 3.2099 - val_accuracy: 0.2546\n",
            "Epoch 29/50\n",
            "156/156 [==============================] - 5s 33ms/step - loss: 1.6608 - accuracy: 0.4961 - val_loss: 2.6222 - val_accuracy: 0.3944\n",
            "Epoch 30/50\n",
            "156/156 [==============================] - 5s 32ms/step - loss: 1.6645 - accuracy: 0.4957 - val_loss: 3.0558 - val_accuracy: 0.2996\n",
            "Epoch 31/50\n",
            "156/156 [==============================] - 5s 32ms/step - loss: 1.6291 - accuracy: 0.4979 - val_loss: 3.0032 - val_accuracy: 0.3422\n",
            "Epoch 32/50\n",
            "156/156 [==============================] - 5s 33ms/step - loss: 1.6010 - accuracy: 0.5061 - val_loss: 2.9825 - val_accuracy: 0.3197\n",
            "Epoch 33/50\n",
            "156/156 [==============================] - 5s 32ms/step - loss: 1.5688 - accuracy: 0.5111 - val_loss: 2.6394 - val_accuracy: 0.3558\n",
            "Epoch 34/50\n",
            "156/156 [==============================] - 5s 32ms/step - loss: 1.5573 - accuracy: 0.5172 - val_loss: 2.6438 - val_accuracy: 0.3590\n",
            "Epoch 35/50\n",
            "156/156 [==============================] - 5s 32ms/step - loss: 1.5119 - accuracy: 0.5240 - val_loss: 2.4014 - val_accuracy: 0.4120\n",
            "Epoch 36/50\n",
            "156/156 [==============================] - 5s 33ms/step - loss: 1.4535 - accuracy: 0.5511 - val_loss: 2.7736 - val_accuracy: 0.3614\n",
            "Epoch 37/50\n",
            "156/156 [==============================] - 5s 33ms/step - loss: 1.4773 - accuracy: 0.5457 - val_loss: 2.9947 - val_accuracy: 0.3582\n",
            "Epoch 38/50\n",
            "156/156 [==============================] - 5s 32ms/step - loss: 1.4589 - accuracy: 0.5419 - val_loss: 2.8332 - val_accuracy: 0.3663\n",
            "Epoch 39/50\n",
            "156/156 [==============================] - 5s 33ms/step - loss: 1.4151 - accuracy: 0.5545 - val_loss: 2.7516 - val_accuracy: 0.3719\n",
            "Epoch 40/50\n",
            "156/156 [==============================] - 5s 33ms/step - loss: 1.4267 - accuracy: 0.5433 - val_loss: 2.8683 - val_accuracy: 0.3566\n",
            "Epoch 41/50\n",
            "156/156 [==============================] - 5s 33ms/step - loss: 1.3728 - accuracy: 0.5657 - val_loss: 2.5351 - val_accuracy: 0.4217\n",
            "Epoch 42/50\n",
            "156/156 [==============================] - 5s 33ms/step - loss: 1.3335 - accuracy: 0.5724 - val_loss: 2.9677 - val_accuracy: 0.3735\n",
            "Epoch 43/50\n",
            "156/156 [==============================] - 5s 33ms/step - loss: 1.3191 - accuracy: 0.5752 - val_loss: 2.7006 - val_accuracy: 0.4008\n",
            "Epoch 44/50\n",
            "156/156 [==============================] - 5s 33ms/step - loss: 1.3239 - accuracy: 0.5870 - val_loss: 2.3758 - val_accuracy: 0.4241\n",
            "Epoch 45/50\n",
            "156/156 [==============================] - 5s 32ms/step - loss: 1.3030 - accuracy: 0.5876 - val_loss: 2.6495 - val_accuracy: 0.4185\n",
            "Epoch 46/50\n",
            "156/156 [==============================] - 5s 33ms/step - loss: 1.2461 - accuracy: 0.6009 - val_loss: 2.4471 - val_accuracy: 0.4353\n",
            "Epoch 47/50\n",
            "156/156 [==============================] - 5s 33ms/step - loss: 1.2099 - accuracy: 0.6107 - val_loss: 2.2916 - val_accuracy: 0.4378\n",
            "Epoch 48/50\n",
            "156/156 [==============================] - 5s 33ms/step - loss: 1.1871 - accuracy: 0.6143 - val_loss: 2.1804 - val_accuracy: 0.4522\n",
            "Epoch 49/50\n",
            "156/156 [==============================] - 5s 33ms/step - loss: 1.2027 - accuracy: 0.6097 - val_loss: 2.7728 - val_accuracy: 0.4072\n",
            "Epoch 50/50\n",
            "156/156 [==============================] - 5s 33ms/step - loss: 1.1977 - accuracy: 0.6163 - val_loss: 2.3669 - val_accuracy: 0.4610\n"
          ]
        }
      ]
    },
    {
      "cell_type": "code",
      "metadata": {
        "id": "ynhS2KjVEhj8",
        "colab": {
          "base_uri": "https://localhost:8080/",
          "height": 499
        },
        "outputId": "2a28b8e6-4aec-4c15-99bd-b5732915e73b"
      },
      "source": [
        "acc = history.history['accuracy']\n",
        "val_acc = history.history['val_accuracy']\n",
        "\n",
        "loss = history.history['loss']\n",
        "val_loss = history.history['val_loss']\n",
        "\n",
        "epochs_range = range(epochs)\n",
        "\n",
        "plt.figure(figsize=(8, 8))\n",
        "plt.subplot(1, 2, 1)\n",
        "plt.plot(epochs_range, acc, label='Training Accuracy')\n",
        "plt.plot(epochs_range, val_acc, label='Validation Accuracy')\n",
        "plt.legend(loc='lower right')\n",
        "plt.title('Training and Validation Accuracy')\n",
        "\n",
        "plt.subplot(1, 2, 2)\n",
        "plt.plot(epochs_range, loss, label='Training Loss')\n",
        "plt.plot(epochs_range, val_loss, label='Validation Loss')\n",
        "plt.legend(loc='upper right')\n",
        "plt.title('Training and Validation Loss')\n",
        "plt.show()"
      ],
      "execution_count": null,
      "outputs": [
        {
          "output_type": "display_data",
          "data": {
            "image/png": "[encoded data removed]",
            "text/plain": [
              "<Figure size 576x576 with 2 Axes>"
            ]
          },
          "metadata": {
            "needs_background": "light"
          }
        }
      ]
    },
    {
      "cell_type": "code",
      "metadata": {
        "id": "IbEQMrsAH2yZ",
        "colab": {
          "base_uri": "https://localhost:8080/"
        },
        "outputId": "4b048810-811c-4c07-a570-a1aacb403cab"
      },
      "source": [
        "model.compile(\n",
        "    optimizer='adam',\n",
        "    loss=tf.losses.SparseCategoricalCrossentropy(from_logits=True),\n",
        "    metrics=['accuracy'])\n",
        "model.summary()"
      ],
      "execution_count": null,
      "outputs": [
        {
          "output_type": "stream",
          "name": "stdout",
          "text": [
            "Model: \"sequential_2\"\n",
            "_________________________________________________________________\n",
            " Layer (type)                Output Shape              Param #   \n",
            "=================================================================\n",
            " sequential_1 (Sequential)   (None, 180, 180, 1)       0         \n",
            "                                                                 \n",
            " rescaling_2 (Rescaling)     (None, 180, 180, 1)       0         \n",
            "                                                                 \n",
            " conv2d_3 (Conv2D)           (None, 178, 178, 64)      640       \n",
            "                                                                 \n",
            " max_pooling2d_3 (MaxPooling  (None, 89, 89, 64)       0         \n",
            " 2D)                                                             \n",
            "                                                                 \n",
            " conv2d_4 (Conv2D)           (None, 89, 89, 64)        36928     \n",
            "                                                                 \n",
            " max_pooling2d_4 (MaxPooling  (None, 44, 44, 64)       0         \n",
            " 2D)                                                             \n",
            "                                                                 \n",
            " conv2d_5 (Conv2D)           (None, 44, 44, 64)        36928     \n",
            "                                                                 \n",
            " max_pooling2d_5 (MaxPooling  (None, 22, 22, 64)       0         \n",
            " 2D)                                                             \n",
            "                                                                 \n",
            " dropout (Dropout)           (None, 22, 22, 64)        0         \n",
            "                                                                 \n",
            " flatten_1 (Flatten)         (None, 30976)             0         \n",
            "                                                                 \n",
            " dense_16 (Dense)            (None, 128)               3965056   \n",
            "                                                                 \n",
            " batch_normalization_16 (Bat  (None, 128)              512       \n",
            " chNormalization)                                                \n",
            "                                                                 \n",
            " dense_17 (Dense)            (None, 128)               16512     \n",
            "                                                                 \n",
            " batch_normalization_17 (Bat  (None, 128)              512       \n",
            " chNormalization)                                                \n",
            "                                                                 \n",
            " dense_18 (Dense)            (None, 128)               16512     \n",
            "                                                                 \n",
            " batch_normalization_18 (Bat  (None, 128)              512       \n",
            " chNormalization)                                                \n",
            "                                                                 \n",
            " dense_19 (Dense)            (None, 128)               16512     \n",
            "                                                                 \n",
            " batch_normalization_19 (Bat  (None, 128)              512       \n",
            " chNormalization)                                                \n",
            "                                                                 \n",
            " dense_20 (Dense)            (None, 128)               16512     \n",
            "                                                                 \n",
            " batch_normalization_20 (Bat  (None, 128)              512       \n",
            " chNormalization)                                                \n",
            "                                                                 \n",
            " dense_21 (Dense)            (None, 128)               16512     \n",
            "                                                                 \n",
            " batch_normalization_21 (Bat  (None, 128)              512       \n",
            " chNormalization)                                                \n",
            "                                                                 \n",
            " dense_22 (Dense)            (None, 128)               16512     \n",
            "                                                                 \n",
            " batch_normalization_22 (Bat  (None, 128)              512       \n",
            " chNormalization)                                                \n",
            "                                                                 \n",
            " dense_23 (Dense)            (None, 128)               16512     \n",
            "                                                                 \n",
            " batch_normalization_23 (Bat  (None, 128)              512       \n",
            " chNormalization)                                                \n",
            "                                                                 \n",
            " dense_24 (Dense)            (None, 128)               16512     \n",
            "                                                                 \n",
            " batch_normalization_24 (Bat  (None, 128)              512       \n",
            " chNormalization)                                                \n",
            "                                                                 \n",
            " dense_25 (Dense)            (None, 128)               16512     \n",
            "                                                                 \n",
            " batch_normalization_25 (Bat  (None, 128)              512       \n",
            " chNormalization)                                                \n",
            "                                                                 \n",
            " dense_26 (Dense)            (None, 128)               16512     \n",
            "                                                                 \n",
            " batch_normalization_26 (Bat  (None, 128)              512       \n",
            " chNormalization)                                                \n",
            "                                                                 \n",
            " dense_27 (Dense)            (None, 128)               16512     \n",
            "                                                                 \n",
            " batch_normalization_27 (Bat  (None, 128)              512       \n",
            " chNormalization)                                                \n",
            "                                                                 \n",
            " dense_28 (Dense)            (None, 128)               16512     \n",
            "                                                                 \n",
            " batch_normalization_28 (Bat  (None, 128)              512       \n",
            " chNormalization)                                                \n",
            "                                                                 \n",
            " dense_29 (Dense)            (None, 128)               16512     \n",
            "                                                                 \n",
            " batch_normalization_29 (Bat  (None, 128)              512       \n",
            " chNormalization)                                                \n",
            "                                                                 \n",
            " dense_30 (Dense)            (None, 107)               13803     \n",
            "                                                                 \n",
            " batch_normalization_30 (Bat  (None, 107)              428       \n",
            " chNormalization)                                                \n",
            "                                                                 \n",
            " dense_31 (Dense)            (None, 107)               11556     \n",
            "                                                                 \n",
            "=================================================================\n",
            "Total params: 4,287,163\n",
            "Trainable params: 4,283,365\n",
            "Non-trainable params: 3,798\n",
            "_________________________________________________________________\n"
          ]
        }
      ]
    },
    {
      "cell_type": "code",
      "metadata": {
        "id": "df30HUqFjWre"
      },
      "source": [
        ""
      ],
      "execution_count": null,
      "outputs": []
    }
  ]
}