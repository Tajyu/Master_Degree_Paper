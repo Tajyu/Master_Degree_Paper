{
  "nbformat": 4,
  "nbformat_minor": 0,
  "metadata": {
    "colab": {
      "name": "3Class_Genus_V3_BatchNormal_64_Layer_6.ipynb",
      "provenance": [],
      "collapsed_sections": [],
      "mount_file_id": "19lCu2mr9QgRVYMgVt39itkim-QBR52FO",
      "authorship_tag": "ABX9TyMuh5LHLtZdaWocwzJuLzT3",
      "include_colab_link": true
    },
    "kernelspec": {
      "name": "python3",
      "display_name": "Python 3"
    },
    "language_info": {
      "name": "python"
    },
    "accelerator": "GPU"
  },
  "cells": [
    {
      "cell_type": "markdown",
      "metadata": {
        "id": "view-in-github",
        "colab_type": "text"
      },
      "source": [
        "<a href=\"https://colab.research.google.com/github/Tajyu/Master_Degree_Paper/blob/main/Code/Filter_64/No%20input_dim/3Class_Genus_V3_BatchNormal_64_Layer_6.ipynb\" target=\"_parent\"><img src=\"https://colab.research.google.com/assets/colab-badge.svg\" alt=\"Open In Colab\"/></a>"
      ]
    },
    {
      "cell_type": "code",
      "metadata": {
        "id": "yWckd06_68Em"
      },
      "source": [
        "import tensorflow as tf\n",
        "from tensorflow.keras import datasets, layers, models\n",
        "from keras.preprocessing.image import ImageDataGenerator\n",
        "import numpy as np\n",
        "import matplotlib.pyplot as plt\n",
        "import cv2 as cv\n",
        "import os\n",
        "import pathlib\n",
        "import PIL\n",
        "from tensorflow import keras\n",
        "from tensorflow.keras import layers\n",
        "from tensorflow.keras.models import Sequential\n",
        "from tensorflow.keras.layers import Dense, Flatten, BatchNormalization, Dropout"
      ],
      "execution_count": null,
      "outputs": []
    },
    {
      "cell_type": "code",
      "metadata": {
        "id": "xav9zirHttk_"
      },
      "source": [
        "image_list = os.listdir('/content/drive/MyDrive/Colab Notebooks/Final_Project/Cell_Genus')"
      ],
      "execution_count": null,
      "outputs": []
    },
    {
      "cell_type": "code",
      "metadata": {
        "colab": {
          "base_uri": "https://localhost:8080/"
        },
        "id": "K-wD0dM5tx_E",
        "outputId": "544962d7-5442-43e4-99bf-4a07c5e14d77"
      },
      "source": [
        "print(image_list)"
      ],
      "execution_count": null,
      "outputs": [
        {
          "output_type": "stream",
          "name": "stdout",
          "text": [
            "['10_Genus_Stauroneis_Ehrenberg', '10_Genus_Staurosira_Ehrenberg', '11_Genus_Craspedostauros_E.J_Cox_1999', '11_Genus_Staurosirella_Williams_and_Round', '12_Genus_Caloneis_Cleve_1894', '12_Genus_Synedra_Ehrenberg', '13_Genus_Pinnularia_Ehrenberg_1843', '1_Genus_Acanthoceras_Honigmann', '1_Genus_Achnanthes_Bory', '1_Genus_Actinocyclus_Ehrenberg', '1_Genus_Aphanocapsa_Nageli_1849', '1_Genus_Asterionella_Hassall', '1_Genus_Aulacoseira', '1_Genus_Biremis_Mann_et_Cox_in_Round_Crawford_and_Mann', '1_Genus_Characium_A_Braun_in_Kutzing_1849', '1_Genus_Chroococcus_Nageli', '1_Genus_Closterium_Nitzsch_ex_Ralfs_1848', '1_Genus_Coelastrum_Nageli_1849', '1_Genus_Cylindrocystis_Meneghini_ex_de_Bary_1858', '1_Genus_Dictyosphaerium_Nageli_1849', '1_Genus_Docidium_Brebisson_ex_Ralfs_1848', '1_Genus_Eunotia_Ehrenberg', '1_Genus_Geitlerinema_(Anagnostidis_et_Komarek)_Anagnostidis_1989', '1_Genus_Gonatozygon_de_Bary_1856', '1_Genus_Hydrodictyon_Roth_1797', '1_Genus_Hydrosera_whampoensis', '1_Genus_Jaaginema_Anagnostidis_et_Komarek_1988', '1_Genus_Lyngbya_C_Agardh_ex_Gomont_1892', '1_Genus_Melosira_Agardh', '1_Genus_Micractinium_Fresenius_1858', '1_Genus_Micrasterias_Ralfs_1848', '1_Genus_Microcystis_Kutzing_ex_Lemmermann_1907', '1_Genus_Oscillatoria_Vaucher_ex_Gomont_1982', '1_Genus_Pediastrum_Meyen_1829', '1_Genus_Penium_Brebisson_ex_Ralfs_in_Ralfs_1848', '1_Genus_Phormidium_Kutzing_ex_Gomont_1892', '1_Genus_Planktothrix_Anagnostidis_et_Komarek_1988', '1_Genus_Pleurosira_laevis_(Ehrenberg)', '1_Genus_Rhizosolenia_Ehrenberg', '1_Genus_Schizochlamydella_Korshikov_1953', '1_Genus_Staurodesmus_Teiling_1848', '1_Genus_Trochiscia_Kutzing_1834', '1_Scenedesmus_Hegewald_1978', '2_Acutodesmus_Hegewald_1978', '2_Genus_Achnanthidium_Kutzing', '2_Genus_Actinastrum_Lagerheim_1882', '2_Genus_Actinella_Lewis', '2_Genus_Ankyra_Fott_1957', '2_Genus_Caloneis_Cleve', '2_Genus_Chaetoceros_Ehrenberg', '2_Genus_Coenochloris_Korshikov_1953', '2_Genus_Cyclotella', '2_Genus_Diatoma_Bory', '2_Genus_Dimorphococcus_A_Braun_1855', '2_Genus_Golenkinia_Chodat_1894', '2_Genus_Haplotaenium_Bando_1988', '2_Genus_Leibleinia_(Gomont)_L_Hoffman_1985', '2_Genus_Leptolyngbya_Anagnostidis_et_Komarek_1988', '2_Genus_Merismopedia_Meyen_1839', '2_Genus_Netrium_(Nageli)_Itzigsohn_et_Rothe_in_Rabenhorst_1856', '2_Genus_Orthoseira_Thwaites_1848', '2_Genus_Phormidium_Kutzing_ex_Gomont_1892', '2_Genus_Sorastrum_Kutzing_1845', '2_Genus_Staurastrum_Meyen_ex_Ralfs_1848', '3_Desmodesmus_Chodat_1926', '3_Genus_Acanthosphaera_Lemmerman_1899', '3_Genus_Anorthoneis_Grunow', '3_Genus_Cyclostephanos_Round', '3_Genus_Dichotomococcus_Korshikov_1928', '3_Genus_Heteroleibleinia_(Geitler)_L_Hoffmann_1985', '3_Genus_Limnothrix_Meffert_1988', '3_Genus_Meridion_Agardh', '3_Genus_Paradoxia_Svirenko_1928', '3_Genus_Peronia_Bebisson_and_Arnott_ex_Kitton', '3_Genus_Phormidiochaete_Komarek_in_Anagnostidis_2001', '3_Genus_Pinnularia_Ehrenberg_1', '3_Genus_Pleurotaenium_Nageli_1849', '3_Genus_Radiococcus_Schmidle_1902', '3_Genus_Snowella_Elenkin_1938', '3_Genus_Spirotaenia_Brebisson_in_Ralfs_1848', '4_Genus_Botryococcus_Kutzing_1849', '4_Genus_Cocconeis_Ehrenberg', '4_Genus_Eutetramorus_Walton_1918', '4_Genus_Leptolyngbya_Anagnostidis_et_Komarek_1988', '4_Genus_Opephora_Petit', '4_Genus_Pinnularia_Ehrenberg_2', '4_Genus_Schroederia_Lemmermann_1898', '4_Genus_Stephanodiscus_Ehrenberg', '4_Genus_Synechocystis_Sauvageau_1892', '4_Genus_Tortitaenia_A_J_Brook_1998', '5_Genus_Caloneis_Cleve', '5_Genus_Coenocystis_Korshikov_1953', '5_Genus_Planktolyngbya_Anagnostidis_et_Komarek_1988', '5_Genus_Tabellaria_Ehrenberg', '5_Genus_Thalassiosira_Cleve', '5_Genus_Woronichinia_Elenkin_1933', '6_Genus_Anomoeoneis_Pfitzer', '6_Genus_Fragilaria_Lyngbye', '6_Genus_Gloeocystis_Nageli_1849', '6_Genus_Pseudanabaena_Lauterborn_1915', '6_Genus_Skeletonema_Greville', '7_Genus_Caloneis_Cleve', '7_Genus_Hannaea_Patrick', '8_Genus_Diploneis(Ehrenberg)_Cleve', '8_Genus_Pseudostaurosira_Williams_and_Round', '9_Genus_Neidium_Pfitzer', '9_Genus_Punctastriata_Williams_and_Round']\n"
          ]
        }
      ]
    },
    {
      "cell_type": "code",
      "metadata": {
        "id": "o-0DvzEHt8VE"
      },
      "source": [
        "data_generator = ImageDataGenerator(rescale = 1./255)\n",
        "\n",
        "data_dir = \"/content/drive/MyDrive/Colab Notebooks/Final_Project/Cell_Genus\""
      ],
      "execution_count": null,
      "outputs": []
    },
    {
      "cell_type": "code",
      "metadata": {
        "id": "7aTCfEm3t10n"
      },
      "source": [
        "batch_size = 32\n",
        "img_height = 180\n",
        "img_width = 180"
      ],
      "execution_count": null,
      "outputs": []
    },
    {
      "cell_type": "code",
      "metadata": {
        "id": "9Smg-miEt22s",
        "colab": {
          "base_uri": "https://localhost:8080/"
        },
        "outputId": "4ed94141-dc95-49bd-b6bf-04feac0943ce"
      },
      "source": [
        "train_ds = tf.keras.preprocessing.image_dataset_from_directory(\n",
        "  data_dir,\n",
        "  color_mode = \"grayscale\",\n",
        "  validation_split=0.2,\n",
        "  subset=\"training\",\n",
        "  seed=123,\n",
        "  image_size=(img_height, img_width),\n",
        "  batch_size=batch_size)"
      ],
      "execution_count": null,
      "outputs": [
        {
          "output_type": "stream",
          "name": "stdout",
          "text": [
            "Found 6226 files belonging to 107 classes.\n",
            "Using 4981 files for training.\n"
          ]
        }
      ]
    },
    {
      "cell_type": "code",
      "metadata": {
        "id": "1nR0WdQGt44x",
        "colab": {
          "base_uri": "https://localhost:8080/"
        },
        "outputId": "f638c567-4dd9-46da-9d3e-529fcfe819b8"
      },
      "source": [
        "val_ds = tf.keras.preprocessing.image_dataset_from_directory(\n",
        "  data_dir,\n",
        "  color_mode = \"grayscale\",\n",
        "  validation_split=0.2,\n",
        "  subset=\"validation\",\n",
        "  seed=123,\n",
        "  image_size=(img_height, img_width),\n",
        "  batch_size=batch_size)"
      ],
      "execution_count": null,
      "outputs": [
        {
          "output_type": "stream",
          "name": "stdout",
          "text": [
            "Found 6226 files belonging to 107 classes.\n",
            "Using 1245 files for validation.\n"
          ]
        }
      ]
    },
    {
      "cell_type": "code",
      "metadata": {
        "id": "F-cz_CtGug8Y",
        "colab": {
          "base_uri": "https://localhost:8080/"
        },
        "outputId": "c3a5814a-bc3d-49d6-e066-3aa1388c63ce"
      },
      "source": [
        "class_names = train_ds.class_names\n",
        "print(class_names)"
      ],
      "execution_count": null,
      "outputs": [
        {
          "output_type": "stream",
          "name": "stdout",
          "text": [
            "['10_Genus_Stauroneis_Ehrenberg', '10_Genus_Staurosira_Ehrenberg', '11_Genus_Craspedostauros_E.J_Cox_1999', '11_Genus_Staurosirella_Williams_and_Round', '12_Genus_Caloneis_Cleve_1894', '12_Genus_Synedra_Ehrenberg', '13_Genus_Pinnularia_Ehrenberg_1843', '1_Genus_Acanthoceras_Honigmann', '1_Genus_Achnanthes_Bory', '1_Genus_Actinocyclus_Ehrenberg', '1_Genus_Aphanocapsa_Nageli_1849', '1_Genus_Asterionella_Hassall', '1_Genus_Aulacoseira', '1_Genus_Biremis_Mann_et_Cox_in_Round_Crawford_and_Mann', '1_Genus_Characium_A_Braun_in_Kutzing_1849', '1_Genus_Chroococcus_Nageli', '1_Genus_Closterium_Nitzsch_ex_Ralfs_1848', '1_Genus_Coelastrum_Nageli_1849', '1_Genus_Cylindrocystis_Meneghini_ex_de_Bary_1858', '1_Genus_Dictyosphaerium_Nageli_1849', '1_Genus_Docidium_Brebisson_ex_Ralfs_1848', '1_Genus_Eunotia_Ehrenberg', '1_Genus_Geitlerinema_(Anagnostidis_et_Komarek)_Anagnostidis_1989', '1_Genus_Gonatozygon_de_Bary_1856', '1_Genus_Hydrodictyon_Roth_1797', '1_Genus_Hydrosera_whampoensis', '1_Genus_Jaaginema_Anagnostidis_et_Komarek_1988', '1_Genus_Lyngbya_C_Agardh_ex_Gomont_1892', '1_Genus_Melosira_Agardh', '1_Genus_Micractinium_Fresenius_1858', '1_Genus_Micrasterias_Ralfs_1848', '1_Genus_Microcystis_Kutzing_ex_Lemmermann_1907', '1_Genus_Oscillatoria_Vaucher_ex_Gomont_1982', '1_Genus_Pediastrum_Meyen_1829', '1_Genus_Penium_Brebisson_ex_Ralfs_in_Ralfs_1848', '1_Genus_Phormidium_Kutzing_ex_Gomont_1892', '1_Genus_Planktothrix_Anagnostidis_et_Komarek_1988', '1_Genus_Pleurosira_laevis_(Ehrenberg)', '1_Genus_Rhizosolenia_Ehrenberg', '1_Genus_Schizochlamydella_Korshikov_1953', '1_Genus_Staurodesmus_Teiling_1848', '1_Genus_Trochiscia_Kutzing_1834', '1_Scenedesmus_Hegewald_1978', '2_Acutodesmus_Hegewald_1978', '2_Genus_Achnanthidium_Kutzing', '2_Genus_Actinastrum_Lagerheim_1882', '2_Genus_Actinella_Lewis', '2_Genus_Ankyra_Fott_1957', '2_Genus_Caloneis_Cleve', '2_Genus_Chaetoceros_Ehrenberg', '2_Genus_Coenochloris_Korshikov_1953', '2_Genus_Cyclotella', '2_Genus_Diatoma_Bory', '2_Genus_Dimorphococcus_A_Braun_1855', '2_Genus_Golenkinia_Chodat_1894', '2_Genus_Haplotaenium_Bando_1988', '2_Genus_Leibleinia_(Gomont)_L_Hoffman_1985', '2_Genus_Leptolyngbya_Anagnostidis_et_Komarek_1988', '2_Genus_Merismopedia_Meyen_1839', '2_Genus_Netrium_(Nageli)_Itzigsohn_et_Rothe_in_Rabenhorst_1856', '2_Genus_Orthoseira_Thwaites_1848', '2_Genus_Phormidium_Kutzing_ex_Gomont_1892', '2_Genus_Sorastrum_Kutzing_1845', '2_Genus_Staurastrum_Meyen_ex_Ralfs_1848', '3_Desmodesmus_Chodat_1926', '3_Genus_Acanthosphaera_Lemmerman_1899', '3_Genus_Anorthoneis_Grunow', '3_Genus_Cyclostephanos_Round', '3_Genus_Dichotomococcus_Korshikov_1928', '3_Genus_Heteroleibleinia_(Geitler)_L_Hoffmann_1985', '3_Genus_Limnothrix_Meffert_1988', '3_Genus_Meridion_Agardh', '3_Genus_Paradoxia_Svirenko_1928', '3_Genus_Peronia_Bebisson_and_Arnott_ex_Kitton', '3_Genus_Phormidiochaete_Komarek_in_Anagnostidis_2001', '3_Genus_Pinnularia_Ehrenberg_1', '3_Genus_Pleurotaenium_Nageli_1849', '3_Genus_Radiococcus_Schmidle_1902', '3_Genus_Snowella_Elenkin_1938', '3_Genus_Spirotaenia_Brebisson_in_Ralfs_1848', '4_Genus_Botryococcus_Kutzing_1849', '4_Genus_Cocconeis_Ehrenberg', '4_Genus_Eutetramorus_Walton_1918', '4_Genus_Leptolyngbya_Anagnostidis_et_Komarek_1988', '4_Genus_Opephora_Petit', '4_Genus_Pinnularia_Ehrenberg_2', '4_Genus_Schroederia_Lemmermann_1898', '4_Genus_Stephanodiscus_Ehrenberg', '4_Genus_Synechocystis_Sauvageau_1892', '4_Genus_Tortitaenia_A_J_Brook_1998', '5_Genus_Caloneis_Cleve', '5_Genus_Coenocystis_Korshikov_1953', '5_Genus_Planktolyngbya_Anagnostidis_et_Komarek_1988', '5_Genus_Tabellaria_Ehrenberg', '5_Genus_Thalassiosira_Cleve', '5_Genus_Woronichinia_Elenkin_1933', '6_Genus_Anomoeoneis_Pfitzer', '6_Genus_Fragilaria_Lyngbye', '6_Genus_Gloeocystis_Nageli_1849', '6_Genus_Pseudanabaena_Lauterborn_1915', '6_Genus_Skeletonema_Greville', '7_Genus_Caloneis_Cleve', '7_Genus_Hannaea_Patrick', '8_Genus_Diploneis(Ehrenberg)_Cleve', '8_Genus_Pseudostaurosira_Williams_and_Round', '9_Genus_Neidium_Pfitzer', '9_Genus_Punctastriata_Williams_and_Round']\n"
          ]
        }
      ]
    },
    {
      "cell_type": "code",
      "metadata": {
        "id": "5EQOikPAukic",
        "colab": {
          "base_uri": "https://localhost:8080/"
        },
        "outputId": "710e2afb-b8ed-446e-c4e2-f60a97d55981"
      },
      "source": [
        "for image_batch, labels_batch in train_ds:\n",
        "  print(image_batch.shape)\n",
        "  print(labels_batch.shape)\n",
        "  break"
      ],
      "execution_count": null,
      "outputs": [
        {
          "output_type": "stream",
          "name": "stdout",
          "text": [
            "(32, 180, 180, 1)\n",
            "(32,)\n"
          ]
        }
      ]
    },
    {
      "cell_type": "code",
      "metadata": {
        "id": "9eVl7tiDux9q"
      },
      "source": [
        "from tensorflow.keras import layers\n",
        "\n",
        "normalization_layer = tf.keras.layers.experimental.preprocessing.Rescaling(1./255)"
      ],
      "execution_count": null,
      "outputs": []
    },
    {
      "cell_type": "code",
      "metadata": {
        "id": "AiIrsxzZuzEo",
        "colab": {
          "base_uri": "https://localhost:8080/"
        },
        "outputId": "dd772ceb-d7f0-4493-ec0b-ee1c3fd0ed6c"
      },
      "source": [
        "normalized_ds = train_ds.map(lambda x, y: (normalization_layer(x), y))\n",
        "image_batch, labels_batch = next(iter(normalized_ds))\n",
        "first_image = image_batch[0]\n",
        "# Notice the pixels values are now in `[0,1]`.\n",
        "print(np.min(first_image), np.max(first_image))"
      ],
      "execution_count": null,
      "outputs": [
        {
          "output_type": "stream",
          "name": "stdout",
          "text": [
            "0.0 1.0\n"
          ]
        }
      ]
    },
    {
      "cell_type": "code",
      "metadata": {
        "id": "__WbVabru0Bp"
      },
      "source": [
        "AUTOTUNE = tf.data.experimental.AUTOTUNE\n",
        "\n",
        "train_ds = train_ds.cache().prefetch(buffer_size=AUTOTUNE)\n",
        "val_ds = val_ds.cache().prefetch(buffer_size=AUTOTUNE)"
      ],
      "execution_count": null,
      "outputs": []
    },
    {
      "cell_type": "code",
      "metadata": {
        "id": "g1GeYFXCu2gV"
      },
      "source": [
        "num_classes = 107\n",
        "model = tf.keras.Sequential([\n",
        "    layers.experimental.preprocessing.Rescaling(1./255),\n",
        "    layers.Conv2D(64, 3,input_shape = image_batch, activation='relu'),\n",
        "    layers.MaxPooling2D(),\n",
        "    layers.Conv2D(64, 3, activation='relu'),\n",
        "    layers.MaxPooling2D(),\n",
        "    layers.Conv2D(64, 3, activation='relu'),\n",
        "    layers.MaxPooling2D(),\n",
        "    layers.Flatten(),\n",
        "    BatchNormalization(),\n",
        "    layers.Dense(128, activation='relu'),\n",
        "    BatchNormalization(),\n",
        "    layers.Dense(128, activation='relu'),\n",
        "    BatchNormalization(),\n",
        "    layers.Dense(128, activation='relu'),\n",
        "    BatchNormalization(),\n",
        "    layers.Dense(128, activation='relu'),\n",
        "    BatchNormalization(),\n",
        "    layers.Dense(128, activation='relu'),\n",
        "    BatchNormalization(),\n",
        "    layers.Dense(107, activation='softmax'),\n",
        "    BatchNormalization(),\n",
        "    layers.Dense(num_classes)\n",
        "    ])"
      ],
      "execution_count": null,
      "outputs": []
    },
    {
      "cell_type": "code",
      "metadata": {
        "id": "wU4xPAvNYWry"
      },
      "source": [
        "model.compile(\n",
        "    optimizer='adam',\n",
        "    loss=tf.losses.SparseCategoricalCrossentropy(from_logits=True),\n",
        "    metrics=['accuracy'])"
      ],
      "execution_count": null,
      "outputs": []
    },
    {
      "cell_type": "code",
      "metadata": {
        "id": "Tk8ssrbHu44p",
        "colab": {
          "base_uri": "https://localhost:8080/"
        },
        "outputId": "fb4ea6e7-6f46-4d03-fe9b-bfebd96a937f"
      },
      "source": [
        "epochs=50\n",
        "history = model.fit(\n",
        "  train_ds,\n",
        "  validation_data=val_ds,\n",
        "  epochs=epochs\n",
        ")"
      ],
      "execution_count": null,
      "outputs": [
        {
          "output_type": "stream",
          "name": "stdout",
          "text": [
            "Epoch 1/50\n",
            "156/156 [==============================] - 680s 4s/step - loss: 3.5029 - accuracy: 0.2568 - val_loss: 4.2381 - val_accuracy: 0.1639\n",
            "Epoch 2/50\n",
            "156/156 [==============================] - 5s 30ms/step - loss: 2.4122 - accuracy: 0.3879 - val_loss: 3.6261 - val_accuracy: 0.3365\n",
            "Epoch 3/50\n",
            "156/156 [==============================] - 5s 30ms/step - loss: 1.9483 - accuracy: 0.4836 - val_loss: 2.9243 - val_accuracy: 0.3743\n",
            "Epoch 4/50\n",
            "156/156 [==============================] - 5s 30ms/step - loss: 1.5709 - accuracy: 0.5730 - val_loss: 2.4490 - val_accuracy: 0.4016\n",
            "Epoch 5/50\n",
            "156/156 [==============================] - 5s 30ms/step - loss: 1.2964 - accuracy: 0.6485 - val_loss: 2.6092 - val_accuracy: 0.3671\n",
            "Epoch 6/50\n",
            "156/156 [==============================] - 5s 30ms/step - loss: 1.0524 - accuracy: 0.7143 - val_loss: 2.4547 - val_accuracy: 0.4201\n",
            "Epoch 7/50\n",
            "156/156 [==============================] - 5s 30ms/step - loss: 0.8279 - accuracy: 0.7761 - val_loss: 2.7307 - val_accuracy: 0.3880\n",
            "Epoch 8/50\n",
            "156/156 [==============================] - 5s 30ms/step - loss: 0.6393 - accuracy: 0.8245 - val_loss: 2.5971 - val_accuracy: 0.4337\n",
            "Epoch 9/50\n",
            "156/156 [==============================] - 5s 31ms/step - loss: 0.4909 - accuracy: 0.8701 - val_loss: 2.3533 - val_accuracy: 0.4723\n",
            "Epoch 10/50\n",
            "156/156 [==============================] - 5s 30ms/step - loss: 0.3906 - accuracy: 0.8970 - val_loss: 2.3830 - val_accuracy: 0.4932\n",
            "Epoch 11/50\n",
            "156/156 [==============================] - 5s 30ms/step - loss: 0.2880 - accuracy: 0.9289 - val_loss: 2.6386 - val_accuracy: 0.4635\n",
            "Epoch 12/50\n",
            "156/156 [==============================] - 5s 30ms/step - loss: 0.2399 - accuracy: 0.9428 - val_loss: 2.5489 - val_accuracy: 0.4851\n",
            "Epoch 13/50\n",
            "156/156 [==============================] - 5s 30ms/step - loss: 0.2035 - accuracy: 0.9488 - val_loss: 2.7360 - val_accuracy: 0.4835\n",
            "Epoch 14/50\n",
            "156/156 [==============================] - 5s 30ms/step - loss: 0.1522 - accuracy: 0.9679 - val_loss: 2.6687 - val_accuracy: 0.5092\n",
            "Epoch 15/50\n",
            "156/156 [==============================] - 5s 30ms/step - loss: 0.1131 - accuracy: 0.9769 - val_loss: 2.7110 - val_accuracy: 0.5028\n",
            "Epoch 16/50\n",
            "156/156 [==============================] - 5s 30ms/step - loss: 0.0821 - accuracy: 0.9843 - val_loss: 2.7463 - val_accuracy: 0.5020\n",
            "Epoch 17/50\n",
            "156/156 [==============================] - 5s 30ms/step - loss: 0.0598 - accuracy: 0.9908 - val_loss: 2.6485 - val_accuracy: 0.5253\n",
            "Epoch 18/50\n",
            "156/156 [==============================] - 5s 30ms/step - loss: 0.0392 - accuracy: 0.9936 - val_loss: 2.8428 - val_accuracy: 0.5004\n",
            "Epoch 19/50\n",
            "156/156 [==============================] - 5s 30ms/step - loss: 0.0348 - accuracy: 0.9956 - val_loss: 2.7504 - val_accuracy: 0.5076\n",
            "Epoch 20/50\n",
            "156/156 [==============================] - 5s 30ms/step - loss: 0.0219 - accuracy: 0.9980 - val_loss: 2.8073 - val_accuracy: 0.5141\n",
            "Epoch 21/50\n",
            "156/156 [==============================] - 5s 30ms/step - loss: 0.0197 - accuracy: 0.9976 - val_loss: 2.8557 - val_accuracy: 0.5060\n",
            "Epoch 22/50\n",
            "156/156 [==============================] - 5s 30ms/step - loss: 0.0187 - accuracy: 0.9978 - val_loss: 2.9409 - val_accuracy: 0.5157\n",
            "Epoch 23/50\n",
            "156/156 [==============================] - 5s 30ms/step - loss: 0.0563 - accuracy: 0.9884 - val_loss: 4.1885 - val_accuracy: 0.3510\n",
            "Epoch 24/50\n",
            "156/156 [==============================] - 5s 30ms/step - loss: 0.5481 - accuracy: 0.8492 - val_loss: 3.8234 - val_accuracy: 0.4056\n",
            "Epoch 25/50\n",
            "156/156 [==============================] - 5s 30ms/step - loss: 0.4497 - accuracy: 0.8713 - val_loss: 3.1425 - val_accuracy: 0.4707\n",
            "Epoch 26/50\n",
            "156/156 [==============================] - 5s 30ms/step - loss: 0.1869 - accuracy: 0.9472 - val_loss: 2.9741 - val_accuracy: 0.4988\n",
            "Epoch 27/50\n",
            "156/156 [==============================] - 5s 30ms/step - loss: 0.0857 - accuracy: 0.9769 - val_loss: 2.8240 - val_accuracy: 0.5205\n",
            "Epoch 28/50\n",
            "156/156 [==============================] - 5s 30ms/step - loss: 0.0363 - accuracy: 0.9938 - val_loss: 2.7840 - val_accuracy: 0.5245\n",
            "Epoch 29/50\n",
            "156/156 [==============================] - 5s 30ms/step - loss: 0.0165 - accuracy: 0.9974 - val_loss: 2.7911 - val_accuracy: 0.5277\n",
            "Epoch 30/50\n",
            "156/156 [==============================] - 5s 30ms/step - loss: 0.0087 - accuracy: 0.9992 - val_loss: 2.8694 - val_accuracy: 0.5253\n",
            "Epoch 31/50\n",
            "156/156 [==============================] - 5s 30ms/step - loss: 0.0071 - accuracy: 0.9998 - val_loss: 2.8707 - val_accuracy: 0.5277\n",
            "Epoch 32/50\n",
            "156/156 [==============================] - 5s 30ms/step - loss: 0.0050 - accuracy: 0.9998 - val_loss: 2.8602 - val_accuracy: 0.5365\n",
            "Epoch 33/50\n",
            "156/156 [==============================] - 5s 30ms/step - loss: 0.0039 - accuracy: 1.0000 - val_loss: 2.8868 - val_accuracy: 0.5365\n",
            "Epoch 34/50\n",
            "156/156 [==============================] - 5s 30ms/step - loss: 0.0032 - accuracy: 1.0000 - val_loss: 2.9101 - val_accuracy: 0.5349\n",
            "Epoch 35/50\n",
            "156/156 [==============================] - 5s 30ms/step - loss: 0.0028 - accuracy: 1.0000 - val_loss: 2.9345 - val_accuracy: 0.5357\n",
            "Epoch 36/50\n",
            "156/156 [==============================] - 5s 30ms/step - loss: 0.0024 - accuracy: 1.0000 - val_loss: 2.9577 - val_accuracy: 0.5349\n",
            "Epoch 37/50\n",
            "156/156 [==============================] - 5s 30ms/step - loss: 0.0022 - accuracy: 1.0000 - val_loss: 2.9797 - val_accuracy: 0.5333\n",
            "Epoch 38/50\n",
            "156/156 [==============================] - 5s 30ms/step - loss: 0.0019 - accuracy: 1.0000 - val_loss: 3.0010 - val_accuracy: 0.5349\n",
            "Epoch 39/50\n",
            "156/156 [==============================] - 5s 30ms/step - loss: 0.0017 - accuracy: 1.0000 - val_loss: 3.0225 - val_accuracy: 0.5349\n",
            "Epoch 40/50\n",
            "156/156 [==============================] - 5s 30ms/step - loss: 0.0016 - accuracy: 1.0000 - val_loss: 3.0434 - val_accuracy: 0.5365\n",
            "Epoch 41/50\n",
            "156/156 [==============================] - 5s 30ms/step - loss: 0.0014 - accuracy: 1.0000 - val_loss: 3.0638 - val_accuracy: 0.5365\n",
            "Epoch 42/50\n",
            "156/156 [==============================] - 5s 30ms/step - loss: 0.0013 - accuracy: 1.0000 - val_loss: 3.0841 - val_accuracy: 0.5365\n",
            "Epoch 43/50\n",
            "156/156 [==============================] - 5s 30ms/step - loss: 0.0012 - accuracy: 1.0000 - val_loss: 3.1044 - val_accuracy: 0.5365\n",
            "Epoch 44/50\n",
            "156/156 [==============================] - 5s 30ms/step - loss: 0.0011 - accuracy: 1.0000 - val_loss: 3.1242 - val_accuracy: 0.5365\n",
            "Epoch 45/50\n",
            "156/156 [==============================] - 5s 30ms/step - loss: 9.6745e-04 - accuracy: 1.0000 - val_loss: 3.1443 - val_accuracy: 0.5349\n",
            "Epoch 46/50\n",
            "156/156 [==============================] - 5s 30ms/step - loss: 8.8334e-04 - accuracy: 1.0000 - val_loss: 3.1641 - val_accuracy: 0.5357\n",
            "Epoch 47/50\n",
            "156/156 [==============================] - 5s 30ms/step - loss: 8.0739e-04 - accuracy: 1.0000 - val_loss: 3.1842 - val_accuracy: 0.5365\n",
            "Epoch 48/50\n",
            "156/156 [==============================] - 5s 30ms/step - loss: 7.3862e-04 - accuracy: 1.0000 - val_loss: 3.2043 - val_accuracy: 0.5373\n",
            "Epoch 49/50\n",
            "156/156 [==============================] - 5s 30ms/step - loss: 6.7623e-04 - accuracy: 1.0000 - val_loss: 3.2242 - val_accuracy: 0.5382\n",
            "Epoch 50/50\n",
            "156/156 [==============================] - 5s 30ms/step - loss: 6.1954e-04 - accuracy: 1.0000 - val_loss: 3.2439 - val_accuracy: 0.5382\n"
          ]
        }
      ]
    },
    {
      "cell_type": "code",
      "metadata": {
        "id": "f1z_vHocu59c",
        "colab": {
          "base_uri": "https://localhost:8080/",
          "height": 499
        },
        "outputId": "34e1cb85-a89b-4396-a411-72d96a021bc0"
      },
      "source": [
        "acc = history.history['accuracy']\n",
        "val_acc = history.history['val_accuracy']\n",
        "\n",
        "loss=history.history['loss']\n",
        "val_loss=history.history['val_loss']\n",
        "\n",
        "epochs_range = range(epochs)\n",
        "\n",
        "plt.figure(figsize=(8, 8))\n",
        "plt.subplot(1, 2, 1)\n",
        "plt.plot(epochs_range, acc, label='Training Accuracy')\n",
        "plt.plot(epochs_range, val_acc, label='Validation Accuracy')\n",
        "plt.legend(loc='lower right')\n",
        "plt.title('Training and Validation Accuracy')\n",
        "\n",
        "plt.subplot(1, 2, 2)\n",
        "plt.plot(epochs_range, loss, label='Training Loss')\n",
        "plt.plot(epochs_range, val_loss, label='Validation Loss')\n",
        "plt.legend(loc='upper right')\n",
        "plt.title('Training and Validation Loss')\n",
        "plt.show()"
      ],
      "execution_count": null,
      "outputs": [
        {
          "output_type": "display_data",
          "data": {
            "image/png": "[encoded data removed]",
            "text/plain": [
              "<Figure size 576x576 with 2 Axes>"
            ]
          },
          "metadata": {
            "needs_background": "light"
          }
        }
      ]
    },
    {
      "cell_type": "code",
      "metadata": {
        "id": "XinJ6xXD9YNO"
      },
      "source": [
        "data_augmentation = keras.Sequential(\n",
        "  [\n",
        "    layers.experimental.preprocessing.RandomFlip(\"horizontal\", \n",
        "                                                 input_shape=(img_height, \n",
        "                                                              img_width,\n",
        "                                                              1)),\n",
        "    layers.experimental.preprocessing.RandomRotation(0.1),\n",
        "    layers.experimental.preprocessing.RandomZoom(0.1),\n",
        "  ]\n",
        ")"
      ],
      "execution_count": null,
      "outputs": []
    },
    {
      "cell_type": "code",
      "metadata": {
        "id": "8WT2BYElEYZj"
      },
      "source": [
        "model = Sequential([\n",
        "  data_augmentation,\n",
        "  layers.experimental.preprocessing.Rescaling(1./255),\n",
        "  layers.Conv2D(64, 3,input_shape = image_batch, activation='relu'),\n",
        "  layers.MaxPooling2D(),\n",
        "  layers.Conv2D(64, 3, padding='same', activation='relu'),\n",
        "  layers.MaxPooling2D(),\n",
        "  layers.Conv2D(64, 3, padding='same', activation='relu'),\n",
        "  layers.MaxPooling2D(),\n",
        "  layers.Dropout(0.2),\n",
        "  layers.Flatten(),\n",
        "  layers.Dense(128, activation='relu'),\n",
        "  BatchNormalization(),\n",
        "  layers.Dense(128, activation='relu'),\n",
        "  BatchNormalization(),\n",
        "  layers.Dense(128, activation='relu'),\n",
        "  BatchNormalization(),\n",
        "  layers.Dense(128, activation='relu'),\n",
        "  BatchNormalization(),\n",
        "  layers.Dense(128, activation='relu'),\n",
        "  BatchNormalization(),\n",
        "  layers.Dense(107, activation='softmax'),\n",
        "  BatchNormalization(),\n",
        "  layers.Dense(num_classes)\n",
        "])"
      ],
      "execution_count": null,
      "outputs": []
    },
    {
      "cell_type": "code",
      "metadata": {
        "id": "opOHP3auEdsw",
        "colab": {
          "base_uri": "https://localhost:8080/"
        },
        "outputId": "a5af8dcb-5353-4d09-fe55-1b8402e867b3"
      },
      "source": [
        "BatchNormalization(),model.compile(\n",
        "    optimizer='adam',\n",
        "    loss=tf.losses.SparseCategoricalCrossentropy(from_logits=True),\n",
        "    metrics=['accuracy'])"
      ],
      "execution_count": null,
      "outputs": [
        {
          "output_type": "execute_result",
          "data": {
            "text/plain": [
              "(<keras.layers.normalization.batch_normalization.BatchNormalization at 0x7f1814b1d8d0>,\n",
              " None)"
            ]
          },
          "metadata": {},
          "execution_count": 19
        }
      ]
    },
    {
      "cell_type": "code",
      "metadata": {
        "id": "3Ay4tlHlEfBX",
        "colab": {
          "base_uri": "https://localhost:8080/"
        },
        "outputId": "0083eac9-ad6f-4c9f-98b5-4f464e64de3f"
      },
      "source": [
        "model.summary()"
      ],
      "execution_count": null,
      "outputs": [
        {
          "output_type": "stream",
          "name": "stdout",
          "text": [
            "Model: \"sequential_2\"\n",
            "_________________________________________________________________\n",
            " Layer (type)                Output Shape              Param #   \n",
            "=================================================================\n",
            " sequential_1 (Sequential)   (None, 180, 180, 1)       0         \n",
            "                                                                 \n",
            " rescaling_2 (Rescaling)     (None, 180, 180, 1)       0         \n",
            "                                                                 \n",
            " conv2d_3 (Conv2D)           (None, 178, 178, 64)      640       \n",
            "                                                                 \n",
            " max_pooling2d_3 (MaxPooling  (None, 89, 89, 64)       0         \n",
            " 2D)                                                             \n",
            "                                                                 \n",
            " conv2d_4 (Conv2D)           (None, 89, 89, 64)        36928     \n",
            "                                                                 \n",
            " max_pooling2d_4 (MaxPooling  (None, 44, 44, 64)       0         \n",
            " 2D)                                                             \n",
            "                                                                 \n",
            " conv2d_5 (Conv2D)           (None, 44, 44, 64)        36928     \n",
            "                                                                 \n",
            " max_pooling2d_5 (MaxPooling  (None, 22, 22, 64)       0         \n",
            " 2D)                                                             \n",
            "                                                                 \n",
            " dropout (Dropout)           (None, 22, 22, 64)        0         \n",
            "                                                                 \n",
            " flatten_1 (Flatten)         (None, 30976)             0         \n",
            "                                                                 \n",
            " dense_7 (Dense)             (None, 128)               3965056   \n",
            "                                                                 \n",
            " batch_normalization_7 (Batc  (None, 128)              512       \n",
            " hNormalization)                                                 \n",
            "                                                                 \n",
            " dense_8 (Dense)             (None, 128)               16512     \n",
            "                                                                 \n",
            " batch_normalization_8 (Batc  (None, 128)              512       \n",
            " hNormalization)                                                 \n",
            "                                                                 \n",
            " dense_9 (Dense)             (None, 128)               16512     \n",
            "                                                                 \n",
            " batch_normalization_9 (Batc  (None, 128)              512       \n",
            " hNormalization)                                                 \n",
            "                                                                 \n",
            " dense_10 (Dense)            (None, 128)               16512     \n",
            "                                                                 \n",
            " batch_normalization_10 (Bat  (None, 128)              512       \n",
            " chNormalization)                                                \n",
            "                                                                 \n",
            " dense_11 (Dense)            (None, 128)               16512     \n",
            "                                                                 \n",
            " batch_normalization_11 (Bat  (None, 128)              512       \n",
            " chNormalization)                                                \n",
            "                                                                 \n",
            " dense_12 (Dense)            (None, 107)               13803     \n",
            "                                                                 \n",
            " batch_normalization_12 (Bat  (None, 107)              428       \n",
            " chNormalization)                                                \n",
            "                                                                 \n",
            " dense_13 (Dense)            (None, 107)               11556     \n",
            "                                                                 \n",
            "=================================================================\n",
            "Total params: 4,133,947\n",
            "Trainable params: 4,132,453\n",
            "Non-trainable params: 1,494\n",
            "_________________________________________________________________\n"
          ]
        }
      ]
    },
    {
      "cell_type": "code",
      "metadata": {
        "id": "Jc8rD_v9Ef41",
        "colab": {
          "base_uri": "https://localhost:8080/"
        },
        "outputId": "6d2d85a4-f408-4fe3-a586-a0bd19cae6e6"
      },
      "source": [
        "epochs = 50\n",
        "history = model.fit(\n",
        "  train_ds,\n",
        "  validation_data=val_ds,\n",
        "  epochs=epochs\n",
        ")"
      ],
      "execution_count": null,
      "outputs": [
        {
          "output_type": "stream",
          "name": "stdout",
          "text": [
            "Epoch 1/50\n",
            "156/156 [==============================] - 8s 35ms/step - loss: 3.8162 - accuracy: 0.1807 - val_loss: 4.2019 - val_accuracy: 0.1518\n",
            "Epoch 2/50\n",
            "156/156 [==============================] - 5s 32ms/step - loss: 2.8727 - accuracy: 0.2849 - val_loss: 3.6408 - val_accuracy: 0.1992\n",
            "Epoch 3/50\n",
            "156/156 [==============================] - 5s 32ms/step - loss: 2.5580 - accuracy: 0.3254 - val_loss: 3.4995 - val_accuracy: 0.2137\n",
            "Epoch 4/50\n",
            "156/156 [==============================] - 5s 32ms/step - loss: 2.3284 - accuracy: 0.3698 - val_loss: 2.6814 - val_accuracy: 0.3261\n",
            "Epoch 5/50\n",
            "156/156 [==============================] - 5s 32ms/step - loss: 2.1868 - accuracy: 0.3875 - val_loss: 2.6319 - val_accuracy: 0.3349\n",
            "Epoch 6/50\n",
            "156/156 [==============================] - 5s 32ms/step - loss: 2.0847 - accuracy: 0.4045 - val_loss: 2.7564 - val_accuracy: 0.3526\n",
            "Epoch 7/50\n",
            "156/156 [==============================] - 5s 32ms/step - loss: 1.9382 - accuracy: 0.4449 - val_loss: 2.5749 - val_accuracy: 0.3566\n",
            "Epoch 8/50\n",
            "156/156 [==============================] - 5s 32ms/step - loss: 1.8565 - accuracy: 0.4549 - val_loss: 2.5242 - val_accuracy: 0.3807\n",
            "Epoch 9/50\n",
            "156/156 [==============================] - 5s 32ms/step - loss: 1.7505 - accuracy: 0.4812 - val_loss: 2.9305 - val_accuracy: 0.3566\n",
            "Epoch 10/50\n",
            "156/156 [==============================] - 5s 32ms/step - loss: 1.6810 - accuracy: 0.4929 - val_loss: 2.9662 - val_accuracy: 0.3839\n",
            "Epoch 11/50\n",
            "156/156 [==============================] - 5s 32ms/step - loss: 1.6079 - accuracy: 0.5170 - val_loss: 2.8161 - val_accuracy: 0.3574\n",
            "Epoch 12/50\n",
            "156/156 [==============================] - 5s 32ms/step - loss: 1.5381 - accuracy: 0.5276 - val_loss: 2.7329 - val_accuracy: 0.3647\n",
            "Epoch 13/50\n",
            "156/156 [==============================] - 5s 32ms/step - loss: 1.5009 - accuracy: 0.5342 - val_loss: 2.5339 - val_accuracy: 0.3847\n",
            "Epoch 14/50\n",
            "156/156 [==============================] - 5s 32ms/step - loss: 1.4107 - accuracy: 0.5609 - val_loss: 2.3428 - val_accuracy: 0.4249\n",
            "Epoch 15/50\n",
            "156/156 [==============================] - 5s 32ms/step - loss: 1.3857 - accuracy: 0.5714 - val_loss: 3.0499 - val_accuracy: 0.3406\n",
            "Epoch 16/50\n",
            "156/156 [==============================] - 5s 32ms/step - loss: 1.2933 - accuracy: 0.5995 - val_loss: 2.3902 - val_accuracy: 0.4273\n",
            "Epoch 17/50\n",
            "156/156 [==============================] - 5s 32ms/step - loss: 1.2614 - accuracy: 0.6035 - val_loss: 2.3619 - val_accuracy: 0.4442\n",
            "Epoch 18/50\n",
            "156/156 [==============================] - 5s 32ms/step - loss: 1.2093 - accuracy: 0.6188 - val_loss: 2.1874 - val_accuracy: 0.4627\n",
            "Epoch 19/50\n",
            "156/156 [==============================] - 5s 32ms/step - loss: 1.1556 - accuracy: 0.6396 - val_loss: 2.4223 - val_accuracy: 0.4321\n",
            "Epoch 20/50\n",
            "156/156 [==============================] - 5s 32ms/step - loss: 1.1185 - accuracy: 0.6372 - val_loss: 2.2181 - val_accuracy: 0.4627\n",
            "Epoch 21/50\n",
            "156/156 [==============================] - 5s 32ms/step - loss: 1.0867 - accuracy: 0.6529 - val_loss: 2.7871 - val_accuracy: 0.3928\n",
            "Epoch 22/50\n",
            "156/156 [==============================] - 5s 32ms/step - loss: 1.0605 - accuracy: 0.6621 - val_loss: 2.2613 - val_accuracy: 0.4763\n",
            "Epoch 23/50\n",
            "156/156 [==============================] - 5s 32ms/step - loss: 1.0041 - accuracy: 0.6766 - val_loss: 2.9637 - val_accuracy: 0.3944\n",
            "Epoch 24/50\n",
            "156/156 [==============================] - 5s 32ms/step - loss: 0.9381 - accuracy: 0.6880 - val_loss: 2.3638 - val_accuracy: 0.4546\n",
            "Epoch 25/50\n",
            "156/156 [==============================] - 5s 32ms/step - loss: 0.9432 - accuracy: 0.6946 - val_loss: 2.9390 - val_accuracy: 0.4112\n",
            "Epoch 26/50\n",
            "156/156 [==============================] - 5s 32ms/step - loss: 0.9089 - accuracy: 0.6979 - val_loss: 2.5120 - val_accuracy: 0.4779\n",
            "Epoch 27/50\n",
            "156/156 [==============================] - 5s 32ms/step - loss: 0.8535 - accuracy: 0.7135 - val_loss: 2.2920 - val_accuracy: 0.4659\n",
            "Epoch 28/50\n",
            "156/156 [==============================] - 5s 32ms/step - loss: 0.8266 - accuracy: 0.7318 - val_loss: 2.4988 - val_accuracy: 0.4514\n",
            "Epoch 29/50\n",
            "156/156 [==============================] - 5s 32ms/step - loss: 0.8161 - accuracy: 0.7306 - val_loss: 2.4183 - val_accuracy: 0.4570\n",
            "Epoch 30/50\n",
            "156/156 [==============================] - 5s 32ms/step - loss: 0.8001 - accuracy: 0.7290 - val_loss: 2.7839 - val_accuracy: 0.4281\n",
            "Epoch 31/50\n",
            "156/156 [==============================] - 5s 32ms/step - loss: 0.7334 - accuracy: 0.7561 - val_loss: 2.2932 - val_accuracy: 0.4964\n",
            "Epoch 32/50\n",
            "156/156 [==============================] - 5s 33ms/step - loss: 0.7185 - accuracy: 0.7659 - val_loss: 2.4595 - val_accuracy: 0.4859\n",
            "Epoch 33/50\n",
            "156/156 [==============================] - 5s 32ms/step - loss: 0.6893 - accuracy: 0.7697 - val_loss: 2.3679 - val_accuracy: 0.4892\n",
            "Epoch 34/50\n",
            "156/156 [==============================] - 5s 32ms/step - loss: 0.6747 - accuracy: 0.7764 - val_loss: 2.6944 - val_accuracy: 0.4586\n",
            "Epoch 35/50\n",
            "156/156 [==============================] - 5s 32ms/step - loss: 0.6589 - accuracy: 0.7790 - val_loss: 2.7253 - val_accuracy: 0.4474\n",
            "Epoch 36/50\n",
            "156/156 [==============================] - 5s 32ms/step - loss: 0.6230 - accuracy: 0.7952 - val_loss: 2.6645 - val_accuracy: 0.4426\n",
            "Epoch 37/50\n",
            "156/156 [==============================] - 5s 32ms/step - loss: 0.6153 - accuracy: 0.7974 - val_loss: 2.6601 - val_accuracy: 0.4659\n",
            "Epoch 38/50\n",
            "156/156 [==============================] - 5s 33ms/step - loss: 0.5883 - accuracy: 0.8089 - val_loss: 2.5338 - val_accuracy: 0.4763\n",
            "Epoch 39/50\n",
            "156/156 [==============================] - 5s 33ms/step - loss: 0.5604 - accuracy: 0.8171 - val_loss: 2.5646 - val_accuracy: 0.4731\n",
            "Epoch 40/50\n",
            "156/156 [==============================] - 5s 33ms/step - loss: 0.5356 - accuracy: 0.8215 - val_loss: 2.5468 - val_accuracy: 0.4900\n",
            "Epoch 41/50\n",
            "156/156 [==============================] - 5s 32ms/step - loss: 0.4825 - accuracy: 0.8410 - val_loss: 2.4907 - val_accuracy: 0.4972\n",
            "Epoch 42/50\n",
            "156/156 [==============================] - 5s 32ms/step - loss: 0.5111 - accuracy: 0.8294 - val_loss: 2.4678 - val_accuracy: 0.5060\n",
            "Epoch 43/50\n",
            "156/156 [==============================] - 5s 32ms/step - loss: 0.4785 - accuracy: 0.8380 - val_loss: 2.8788 - val_accuracy: 0.4643\n",
            "Epoch 44/50\n",
            "156/156 [==============================] - 5s 32ms/step - loss: 0.4722 - accuracy: 0.8420 - val_loss: 2.6684 - val_accuracy: 0.5004\n",
            "Epoch 45/50\n",
            "156/156 [==============================] - 5s 32ms/step - loss: 0.4512 - accuracy: 0.8424 - val_loss: 2.5209 - val_accuracy: 0.4980\n",
            "Epoch 46/50\n",
            "156/156 [==============================] - 5s 32ms/step - loss: 0.4390 - accuracy: 0.8522 - val_loss: 2.6091 - val_accuracy: 0.5036\n",
            "Epoch 47/50\n",
            "156/156 [==============================] - 5s 32ms/step - loss: 0.3994 - accuracy: 0.8739 - val_loss: 2.5791 - val_accuracy: 0.5133\n",
            "Epoch 48/50\n",
            "156/156 [==============================] - 5s 32ms/step - loss: 0.4236 - accuracy: 0.8589 - val_loss: 2.6134 - val_accuracy: 0.5333\n",
            "Epoch 49/50\n",
            "156/156 [==============================] - 5s 32ms/step - loss: 0.3984 - accuracy: 0.8709 - val_loss: 2.8765 - val_accuracy: 0.4924\n",
            "Epoch 50/50\n",
            "156/156 [==============================] - 5s 34ms/step - loss: 0.3825 - accuracy: 0.8759 - val_loss: 2.8459 - val_accuracy: 0.4916\n"
          ]
        }
      ]
    },
    {
      "cell_type": "code",
      "metadata": {
        "id": "ynhS2KjVEhj8",
        "colab": {
          "base_uri": "https://localhost:8080/",
          "height": 499
        },
        "outputId": "d49bce11-1ec5-4e40-e6a5-ee750bc16bdf"
      },
      "source": [
        "acc = history.history['accuracy']\n",
        "val_acc = history.history['val_accuracy']\n",
        "\n",
        "loss = history.history['loss']\n",
        "val_loss = history.history['val_loss']\n",
        "\n",
        "epochs_range = range(epochs)\n",
        "\n",
        "plt.figure(figsize=(8, 8))\n",
        "plt.subplot(1, 2, 1)\n",
        "plt.plot(epochs_range, acc, label='Training Accuracy')\n",
        "plt.plot(epochs_range, val_acc, label='Validation Accuracy')\n",
        "plt.legend(loc='lower right')\n",
        "plt.title('Training and Validation Accuracy')\n",
        "\n",
        "plt.subplot(1, 2, 2)\n",
        "plt.plot(epochs_range, loss, label='Training Loss')\n",
        "plt.plot(epochs_range, val_loss, label='Validation Loss')\n",
        "plt.legend(loc='upper right')\n",
        "plt.title('Training and Validation Loss')\n",
        "plt.show()"
      ],
      "execution_count": null,
      "outputs": [
        {
          "output_type": "display_data",
          "data": {
            "image/png": "[encoded data removed]",
            "text/plain": [
              "<Figure size 576x576 with 2 Axes>"
            ]
          },
          "metadata": {
            "needs_background": "light"
          }
        }
      ]
    },
    {
      "cell_type": "code",
      "metadata": {
        "id": "IbEQMrsAH2yZ",
        "colab": {
          "base_uri": "https://localhost:8080/"
        },
        "outputId": "05681674-40ad-4f30-d618-7ea508f7a53b"
      },
      "source": [
        "model.compile(\n",
        "    optimizer='adam',\n",
        "    loss=tf.losses.SparseCategoricalCrossentropy(from_logits=True),\n",
        "    metrics=['accuracy'])\n",
        "model.summary()"
      ],
      "execution_count": null,
      "outputs": [
        {
          "output_type": "stream",
          "name": "stdout",
          "text": [
            "Model: \"sequential_2\"\n",
            "_________________________________________________________________\n",
            " Layer (type)                Output Shape              Param #   \n",
            "=================================================================\n",
            " sequential_1 (Sequential)   (None, 180, 180, 1)       0         \n",
            "                                                                 \n",
            " rescaling_2 (Rescaling)     (None, 180, 180, 1)       0         \n",
            "                                                                 \n",
            " conv2d_3 (Conv2D)           (None, 178, 178, 64)      640       \n",
            "                                                                 \n",
            " max_pooling2d_3 (MaxPooling  (None, 89, 89, 64)       0         \n",
            " 2D)                                                             \n",
            "                                                                 \n",
            " conv2d_4 (Conv2D)           (None, 89, 89, 64)        36928     \n",
            "                                                                 \n",
            " max_pooling2d_4 (MaxPooling  (None, 44, 44, 64)       0         \n",
            " 2D)                                                             \n",
            "                                                                 \n",
            " conv2d_5 (Conv2D)           (None, 44, 44, 64)        36928     \n",
            "                                                                 \n",
            " max_pooling2d_5 (MaxPooling  (None, 22, 22, 64)       0         \n",
            " 2D)                                                             \n",
            "                                                                 \n",
            " dropout (Dropout)           (None, 22, 22, 64)        0         \n",
            "                                                                 \n",
            " flatten_1 (Flatten)         (None, 30976)             0         \n",
            "                                                                 \n",
            " dense_7 (Dense)             (None, 128)               3965056   \n",
            "                                                                 \n",
            " batch_normalization_7 (Batc  (None, 128)              512       \n",
            " hNormalization)                                                 \n",
            "                                                                 \n",
            " dense_8 (Dense)             (None, 128)               16512     \n",
            "                                                                 \n",
            " batch_normalization_8 (Batc  (None, 128)              512       \n",
            " hNormalization)                                                 \n",
            "                                                                 \n",
            " dense_9 (Dense)             (None, 128)               16512     \n",
            "                                                                 \n",
            " batch_normalization_9 (Batc  (None, 128)              512       \n",
            " hNormalization)                                                 \n",
            "                                                                 \n",
            " dense_10 (Dense)            (None, 128)               16512     \n",
            "                                                                 \n",
            " batch_normalization_10 (Bat  (None, 128)              512       \n",
            " chNormalization)                                                \n",
            "                                                                 \n",
            " dense_11 (Dense)            (None, 128)               16512     \n",
            "                                                                 \n",
            " batch_normalization_11 (Bat  (None, 128)              512       \n",
            " chNormalization)                                                \n",
            "                                                                 \n",
            " dense_12 (Dense)            (None, 107)               13803     \n",
            "                                                                 \n",
            " batch_normalization_12 (Bat  (None, 107)              428       \n",
            " chNormalization)                                                \n",
            "                                                                 \n",
            " dense_13 (Dense)            (None, 107)               11556     \n",
            "                                                                 \n",
            "=================================================================\n",
            "Total params: 4,133,947\n",
            "Trainable params: 4,132,453\n",
            "Non-trainable params: 1,494\n",
            "_________________________________________________________________\n"
          ]
        }
      ]
    },
    {
      "cell_type": "code",
      "metadata": {
        "id": "df30HUqFjWre"
      },
      "source": [
        ""
      ],
      "execution_count": null,
      "outputs": []
    }
  ]
}