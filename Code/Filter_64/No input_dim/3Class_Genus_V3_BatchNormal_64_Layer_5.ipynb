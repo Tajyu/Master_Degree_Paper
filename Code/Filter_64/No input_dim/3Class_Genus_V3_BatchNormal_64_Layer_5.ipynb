{
  "nbformat": 4,
  "nbformat_minor": 0,
  "metadata": {
    "colab": {
      "name": "3Class_Genus_V3_BatchNormal_64_Layer_5.ipynb",
      "provenance": [],
      "collapsed_sections": [],
      "mount_file_id": "11mfZl20kPAbVrz13qER7VOBeAUBwAEgm",
      "authorship_tag": "ABX9TyNiouIlskV1HdVGUYZx9ayP",
      "include_colab_link": true
    },
    "kernelspec": {
      "name": "python3",
      "display_name": "Python 3"
    },
    "language_info": {
      "name": "python"
    },
    "accelerator": "GPU"
  },
  "cells": [
    {
      "cell_type": "markdown",
      "metadata": {
        "id": "view-in-github",
        "colab_type": "text"
      },
      "source": [
        "<a href=\"https://colab.research.google.com/github/Tajyu/Master_Degree_Paper/blob/main/Code/Filter_64/No%20input_dim/3Class_Genus_V3_BatchNormal_64_Layer_5.ipynb\" target=\"_parent\"><img src=\"https://colab.research.google.com/assets/colab-badge.svg\" alt=\"Open In Colab\"/></a>"
      ]
    },
    {
      "cell_type": "code",
      "metadata": {
        "id": "yWckd06_68Em"
      },
      "source": [
        "import tensorflow as tf\n",
        "from tensorflow.keras import datasets, layers, models\n",
        "from keras.preprocessing.image import ImageDataGenerator\n",
        "import numpy as np\n",
        "import matplotlib.pyplot as plt\n",
        "import cv2 as cv\n",
        "import os\n",
        "import pathlib\n",
        "import PIL\n",
        "from tensorflow import keras\n",
        "from tensorflow.keras import layers\n",
        "from tensorflow.keras.models import Sequential\n",
        "from tensorflow.keras.layers import Dense, Flatten, BatchNormalization, Dropout"
      ],
      "execution_count": null,
      "outputs": []
    },
    {
      "cell_type": "code",
      "metadata": {
        "id": "xav9zirHttk_"
      },
      "source": [
        "image_list = os.listdir('/content/drive/MyDrive/Colab Notebooks/Final_Project/Cell_Genus')"
      ],
      "execution_count": null,
      "outputs": []
    },
    {
      "cell_type": "code",
      "metadata": {
        "colab": {
          "base_uri": "https://localhost:8080/"
        },
        "id": "K-wD0dM5tx_E",
        "outputId": "f8baeb26-6294-43b8-8828-3861bf1193e5"
      },
      "source": [
        "print(image_list)"
      ],
      "execution_count": null,
      "outputs": [
        {
          "output_type": "stream",
          "name": "stdout",
          "text": [
            "['10_Genus_Stauroneis_Ehrenberg', '10_Genus_Staurosira_Ehrenberg', '11_Genus_Craspedostauros_E.J_Cox_1999', '11_Genus_Staurosirella_Williams_and_Round', '12_Genus_Caloneis_Cleve_1894', '12_Genus_Synedra_Ehrenberg', '13_Genus_Pinnularia_Ehrenberg_1843', '1_Genus_Acanthoceras_Honigmann', '1_Genus_Achnanthes_Bory', '1_Genus_Actinocyclus_Ehrenberg', '1_Genus_Aphanocapsa_Nageli_1849', '1_Genus_Asterionella_Hassall', '1_Genus_Aulacoseira', '1_Genus_Biremis_Mann_et_Cox_in_Round_Crawford_and_Mann', '1_Genus_Characium_A_Braun_in_Kutzing_1849', '1_Genus_Chroococcus_Nageli', '1_Genus_Closterium_Nitzsch_ex_Ralfs_1848', '1_Genus_Coelastrum_Nageli_1849', '1_Genus_Cylindrocystis_Meneghini_ex_de_Bary_1858', '1_Genus_Dictyosphaerium_Nageli_1849', '1_Genus_Docidium_Brebisson_ex_Ralfs_1848', '1_Genus_Eunotia_Ehrenberg', '1_Genus_Geitlerinema_(Anagnostidis_et_Komarek)_Anagnostidis_1989', '1_Genus_Gonatozygon_de_Bary_1856', '1_Genus_Hydrodictyon_Roth_1797', '1_Genus_Hydrosera_whampoensis', '1_Genus_Jaaginema_Anagnostidis_et_Komarek_1988', '1_Genus_Lyngbya_C_Agardh_ex_Gomont_1892', '1_Genus_Melosira_Agardh', '1_Genus_Micractinium_Fresenius_1858', '1_Genus_Micrasterias_Ralfs_1848', '1_Genus_Microcystis_Kutzing_ex_Lemmermann_1907', '1_Genus_Oscillatoria_Vaucher_ex_Gomont_1982', '1_Genus_Pediastrum_Meyen_1829', '1_Genus_Penium_Brebisson_ex_Ralfs_in_Ralfs_1848', '1_Genus_Phormidium_Kutzing_ex_Gomont_1892', '1_Genus_Planktothrix_Anagnostidis_et_Komarek_1988', '1_Genus_Pleurosira_laevis_(Ehrenberg)', '1_Genus_Rhizosolenia_Ehrenberg', '1_Genus_Schizochlamydella_Korshikov_1953', '1_Genus_Staurodesmus_Teiling_1848', '1_Genus_Trochiscia_Kutzing_1834', '1_Scenedesmus_Hegewald_1978', '2_Acutodesmus_Hegewald_1978', '2_Genus_Achnanthidium_Kutzing', '2_Genus_Actinastrum_Lagerheim_1882', '2_Genus_Actinella_Lewis', '2_Genus_Ankyra_Fott_1957', '2_Genus_Caloneis_Cleve', '2_Genus_Chaetoceros_Ehrenberg', '2_Genus_Coenochloris_Korshikov_1953', '2_Genus_Cyclotella', '2_Genus_Diatoma_Bory', '2_Genus_Dimorphococcus_A_Braun_1855', '2_Genus_Golenkinia_Chodat_1894', '2_Genus_Haplotaenium_Bando_1988', '2_Genus_Leibleinia_(Gomont)_L_Hoffman_1985', '2_Genus_Leptolyngbya_Anagnostidis_et_Komarek_1988', '2_Genus_Merismopedia_Meyen_1839', '2_Genus_Netrium_(Nageli)_Itzigsohn_et_Rothe_in_Rabenhorst_1856', '2_Genus_Orthoseira_Thwaites_1848', '2_Genus_Phormidium_Kutzing_ex_Gomont_1892', '2_Genus_Sorastrum_Kutzing_1845', '2_Genus_Staurastrum_Meyen_ex_Ralfs_1848', '3_Desmodesmus_Chodat_1926', '3_Genus_Acanthosphaera_Lemmerman_1899', '3_Genus_Anorthoneis_Grunow', '3_Genus_Cyclostephanos_Round', '3_Genus_Dichotomococcus_Korshikov_1928', '3_Genus_Heteroleibleinia_(Geitler)_L_Hoffmann_1985', '3_Genus_Limnothrix_Meffert_1988', '3_Genus_Meridion_Agardh', '3_Genus_Paradoxia_Svirenko_1928', '3_Genus_Peronia_Bebisson_and_Arnott_ex_Kitton', '3_Genus_Phormidiochaete_Komarek_in_Anagnostidis_2001', '3_Genus_Pinnularia_Ehrenberg_1', '3_Genus_Pleurotaenium_Nageli_1849', '3_Genus_Radiococcus_Schmidle_1902', '3_Genus_Snowella_Elenkin_1938', '3_Genus_Spirotaenia_Brebisson_in_Ralfs_1848', '4_Genus_Botryococcus_Kutzing_1849', '4_Genus_Cocconeis_Ehrenberg', '4_Genus_Eutetramorus_Walton_1918', '4_Genus_Leptolyngbya_Anagnostidis_et_Komarek_1988', '4_Genus_Opephora_Petit', '4_Genus_Pinnularia_Ehrenberg_2', '4_Genus_Schroederia_Lemmermann_1898', '4_Genus_Stephanodiscus_Ehrenberg', '4_Genus_Synechocystis_Sauvageau_1892', '4_Genus_Tortitaenia_A_J_Brook_1998', '5_Genus_Caloneis_Cleve', '5_Genus_Coenocystis_Korshikov_1953', '5_Genus_Planktolyngbya_Anagnostidis_et_Komarek_1988', '5_Genus_Tabellaria_Ehrenberg', '5_Genus_Thalassiosira_Cleve', '5_Genus_Woronichinia_Elenkin_1933', '6_Genus_Anomoeoneis_Pfitzer', '6_Genus_Fragilaria_Lyngbye', '6_Genus_Gloeocystis_Nageli_1849', '6_Genus_Pseudanabaena_Lauterborn_1915', '6_Genus_Skeletonema_Greville', '7_Genus_Caloneis_Cleve', '7_Genus_Hannaea_Patrick', '8_Genus_Diploneis(Ehrenberg)_Cleve', '8_Genus_Pseudostaurosira_Williams_and_Round', '9_Genus_Neidium_Pfitzer', '9_Genus_Punctastriata_Williams_and_Round']\n"
          ]
        }
      ]
    },
    {
      "cell_type": "code",
      "metadata": {
        "id": "o-0DvzEHt8VE"
      },
      "source": [
        "data_generator = ImageDataGenerator(rescale = 1./255)\n",
        "\n",
        "data_dir = \"/content/drive/MyDrive/Colab Notebooks/Final_Project/Cell_Genus\""
      ],
      "execution_count": null,
      "outputs": []
    },
    {
      "cell_type": "code",
      "metadata": {
        "id": "7aTCfEm3t10n"
      },
      "source": [
        "batch_size = 32\n",
        "img_height = 180\n",
        "img_width = 180"
      ],
      "execution_count": null,
      "outputs": []
    },
    {
      "cell_type": "code",
      "metadata": {
        "colab": {
          "base_uri": "https://localhost:8080/"
        },
        "id": "9Smg-miEt22s",
        "outputId": "6bc67e5a-8b1d-4d9f-a3eb-4cda5590d67d"
      },
      "source": [
        "train_ds = tf.keras.preprocessing.image_dataset_from_directory(\n",
        "  data_dir,\n",
        "  color_mode = \"grayscale\",\n",
        "  validation_split=0.2,\n",
        "  subset=\"training\",\n",
        "  seed=123,\n",
        "  image_size=(img_height, img_width),\n",
        "  batch_size=batch_size)"
      ],
      "execution_count": null,
      "outputs": [
        {
          "output_type": "stream",
          "name": "stdout",
          "text": [
            "Found 6226 files belonging to 107 classes.\n",
            "Using 4981 files for training.\n"
          ]
        }
      ]
    },
    {
      "cell_type": "code",
      "metadata": {
        "colab": {
          "base_uri": "https://localhost:8080/"
        },
        "id": "1nR0WdQGt44x",
        "outputId": "77d8c1fa-980f-417f-881d-717c536df738"
      },
      "source": [
        "val_ds = tf.keras.preprocessing.image_dataset_from_directory(\n",
        "  data_dir,\n",
        "  color_mode = \"grayscale\",\n",
        "  validation_split=0.2,\n",
        "  subset=\"validation\",\n",
        "  seed=123,\n",
        "  image_size=(img_height, img_width),\n",
        "  batch_size=batch_size)"
      ],
      "execution_count": null,
      "outputs": [
        {
          "output_type": "stream",
          "name": "stdout",
          "text": [
            "Found 6226 files belonging to 107 classes.\n",
            "Using 1245 files for validation.\n"
          ]
        }
      ]
    },
    {
      "cell_type": "code",
      "metadata": {
        "colab": {
          "base_uri": "https://localhost:8080/"
        },
        "id": "F-cz_CtGug8Y",
        "outputId": "c31f6b08-84ed-419e-d4fb-ad204a4b5168"
      },
      "source": [
        "class_names = train_ds.class_names\n",
        "print(class_names)"
      ],
      "execution_count": null,
      "outputs": [
        {
          "output_type": "stream",
          "name": "stdout",
          "text": [
            "['10_Genus_Stauroneis_Ehrenberg', '10_Genus_Staurosira_Ehrenberg', '11_Genus_Craspedostauros_E.J_Cox_1999', '11_Genus_Staurosirella_Williams_and_Round', '12_Genus_Caloneis_Cleve_1894', '12_Genus_Synedra_Ehrenberg', '13_Genus_Pinnularia_Ehrenberg_1843', '1_Genus_Acanthoceras_Honigmann', '1_Genus_Achnanthes_Bory', '1_Genus_Actinocyclus_Ehrenberg', '1_Genus_Aphanocapsa_Nageli_1849', '1_Genus_Asterionella_Hassall', '1_Genus_Aulacoseira', '1_Genus_Biremis_Mann_et_Cox_in_Round_Crawford_and_Mann', '1_Genus_Characium_A_Braun_in_Kutzing_1849', '1_Genus_Chroococcus_Nageli', '1_Genus_Closterium_Nitzsch_ex_Ralfs_1848', '1_Genus_Coelastrum_Nageli_1849', '1_Genus_Cylindrocystis_Meneghini_ex_de_Bary_1858', '1_Genus_Dictyosphaerium_Nageli_1849', '1_Genus_Docidium_Brebisson_ex_Ralfs_1848', '1_Genus_Eunotia_Ehrenberg', '1_Genus_Geitlerinema_(Anagnostidis_et_Komarek)_Anagnostidis_1989', '1_Genus_Gonatozygon_de_Bary_1856', '1_Genus_Hydrodictyon_Roth_1797', '1_Genus_Hydrosera_whampoensis', '1_Genus_Jaaginema_Anagnostidis_et_Komarek_1988', '1_Genus_Lyngbya_C_Agardh_ex_Gomont_1892', '1_Genus_Melosira_Agardh', '1_Genus_Micractinium_Fresenius_1858', '1_Genus_Micrasterias_Ralfs_1848', '1_Genus_Microcystis_Kutzing_ex_Lemmermann_1907', '1_Genus_Oscillatoria_Vaucher_ex_Gomont_1982', '1_Genus_Pediastrum_Meyen_1829', '1_Genus_Penium_Brebisson_ex_Ralfs_in_Ralfs_1848', '1_Genus_Phormidium_Kutzing_ex_Gomont_1892', '1_Genus_Planktothrix_Anagnostidis_et_Komarek_1988', '1_Genus_Pleurosira_laevis_(Ehrenberg)', '1_Genus_Rhizosolenia_Ehrenberg', '1_Genus_Schizochlamydella_Korshikov_1953', '1_Genus_Staurodesmus_Teiling_1848', '1_Genus_Trochiscia_Kutzing_1834', '1_Scenedesmus_Hegewald_1978', '2_Acutodesmus_Hegewald_1978', '2_Genus_Achnanthidium_Kutzing', '2_Genus_Actinastrum_Lagerheim_1882', '2_Genus_Actinella_Lewis', '2_Genus_Ankyra_Fott_1957', '2_Genus_Caloneis_Cleve', '2_Genus_Chaetoceros_Ehrenberg', '2_Genus_Coenochloris_Korshikov_1953', '2_Genus_Cyclotella', '2_Genus_Diatoma_Bory', '2_Genus_Dimorphococcus_A_Braun_1855', '2_Genus_Golenkinia_Chodat_1894', '2_Genus_Haplotaenium_Bando_1988', '2_Genus_Leibleinia_(Gomont)_L_Hoffman_1985', '2_Genus_Leptolyngbya_Anagnostidis_et_Komarek_1988', '2_Genus_Merismopedia_Meyen_1839', '2_Genus_Netrium_(Nageli)_Itzigsohn_et_Rothe_in_Rabenhorst_1856', '2_Genus_Orthoseira_Thwaites_1848', '2_Genus_Phormidium_Kutzing_ex_Gomont_1892', '2_Genus_Sorastrum_Kutzing_1845', '2_Genus_Staurastrum_Meyen_ex_Ralfs_1848', '3_Desmodesmus_Chodat_1926', '3_Genus_Acanthosphaera_Lemmerman_1899', '3_Genus_Anorthoneis_Grunow', '3_Genus_Cyclostephanos_Round', '3_Genus_Dichotomococcus_Korshikov_1928', '3_Genus_Heteroleibleinia_(Geitler)_L_Hoffmann_1985', '3_Genus_Limnothrix_Meffert_1988', '3_Genus_Meridion_Agardh', '3_Genus_Paradoxia_Svirenko_1928', '3_Genus_Peronia_Bebisson_and_Arnott_ex_Kitton', '3_Genus_Phormidiochaete_Komarek_in_Anagnostidis_2001', '3_Genus_Pinnularia_Ehrenberg_1', '3_Genus_Pleurotaenium_Nageli_1849', '3_Genus_Radiococcus_Schmidle_1902', '3_Genus_Snowella_Elenkin_1938', '3_Genus_Spirotaenia_Brebisson_in_Ralfs_1848', '4_Genus_Botryococcus_Kutzing_1849', '4_Genus_Cocconeis_Ehrenberg', '4_Genus_Eutetramorus_Walton_1918', '4_Genus_Leptolyngbya_Anagnostidis_et_Komarek_1988', '4_Genus_Opephora_Petit', '4_Genus_Pinnularia_Ehrenberg_2', '4_Genus_Schroederia_Lemmermann_1898', '4_Genus_Stephanodiscus_Ehrenberg', '4_Genus_Synechocystis_Sauvageau_1892', '4_Genus_Tortitaenia_A_J_Brook_1998', '5_Genus_Caloneis_Cleve', '5_Genus_Coenocystis_Korshikov_1953', '5_Genus_Planktolyngbya_Anagnostidis_et_Komarek_1988', '5_Genus_Tabellaria_Ehrenberg', '5_Genus_Thalassiosira_Cleve', '5_Genus_Woronichinia_Elenkin_1933', '6_Genus_Anomoeoneis_Pfitzer', '6_Genus_Fragilaria_Lyngbye', '6_Genus_Gloeocystis_Nageli_1849', '6_Genus_Pseudanabaena_Lauterborn_1915', '6_Genus_Skeletonema_Greville', '7_Genus_Caloneis_Cleve', '7_Genus_Hannaea_Patrick', '8_Genus_Diploneis(Ehrenberg)_Cleve', '8_Genus_Pseudostaurosira_Williams_and_Round', '9_Genus_Neidium_Pfitzer', '9_Genus_Punctastriata_Williams_and_Round']\n"
          ]
        }
      ]
    },
    {
      "cell_type": "code",
      "metadata": {
        "colab": {
          "base_uri": "https://localhost:8080/"
        },
        "id": "5EQOikPAukic",
        "outputId": "03a37903-7530-4663-f804-6fe23c71876e"
      },
      "source": [
        "for image_batch, labels_batch in train_ds:\n",
        "  print(image_batch.shape)\n",
        "  print(labels_batch.shape)\n",
        "  break"
      ],
      "execution_count": null,
      "outputs": [
        {
          "output_type": "stream",
          "name": "stdout",
          "text": [
            "(32, 180, 180, 1)\n",
            "(32,)\n"
          ]
        }
      ]
    },
    {
      "cell_type": "code",
      "metadata": {
        "id": "9eVl7tiDux9q"
      },
      "source": [
        "from tensorflow.keras import layers\n",
        "\n",
        "normalization_layer = tf.keras.layers.experimental.preprocessing.Rescaling(1./255)"
      ],
      "execution_count": null,
      "outputs": []
    },
    {
      "cell_type": "code",
      "metadata": {
        "colab": {
          "base_uri": "https://localhost:8080/"
        },
        "id": "AiIrsxzZuzEo",
        "outputId": "7b3e9a36-ba1a-468c-de46-e99277807ab9"
      },
      "source": [
        "normalized_ds = train_ds.map(lambda x, y: (normalization_layer(x), y))\n",
        "image_batch, labels_batch = next(iter(normalized_ds))\n",
        "first_image = image_batch[0]\n",
        "# Notice the pixels values are now in `[0,1]`.\n",
        "print(np.min(first_image), np.max(first_image))"
      ],
      "execution_count": null,
      "outputs": [
        {
          "output_type": "stream",
          "name": "stdout",
          "text": [
            "0.0 1.0\n"
          ]
        }
      ]
    },
    {
      "cell_type": "code",
      "metadata": {
        "id": "__WbVabru0Bp"
      },
      "source": [
        "AUTOTUNE = tf.data.experimental.AUTOTUNE\n",
        "\n",
        "train_ds = train_ds.cache().prefetch(buffer_size=AUTOTUNE)\n",
        "val_ds = val_ds.cache().prefetch(buffer_size=AUTOTUNE)"
      ],
      "execution_count": null,
      "outputs": []
    },
    {
      "cell_type": "code",
      "metadata": {
        "id": "g1GeYFXCu2gV"
      },
      "source": [
        "num_classes = 107\n",
        "model = tf.keras.Sequential([\n",
        "    layers.experimental.preprocessing.Rescaling(1./255),\n",
        "    layers.Conv2D(64, 3,input_shape = image_batch, activation='relu'),\n",
        "    layers.MaxPooling2D(),\n",
        "    layers.Conv2D(64, 3, activation='relu'),\n",
        "    layers.MaxPooling2D(),\n",
        "    layers.Conv2D(64, 3, activation='relu'),\n",
        "    layers.MaxPooling2D(),\n",
        "    layers.Flatten(),\n",
        "    BatchNormalization(),\n",
        "    layers.Dense(128, activation='relu'),\n",
        "    BatchNormalization(),\n",
        "    layers.Dense(128, activation='relu'),\n",
        "    BatchNormalization(),\n",
        "    layers.Dense(128, activation='relu'),\n",
        "    BatchNormalization(),\n",
        "    layers.Dense(128, activation='relu'),\n",
        "    BatchNormalization(),\n",
        "    layers.Dense(107, activation='softmax'),\n",
        "    BatchNormalization(),\n",
        "    layers.Dense(num_classes)\n",
        "    ])"
      ],
      "execution_count": null,
      "outputs": []
    },
    {
      "cell_type": "code",
      "metadata": {
        "id": "wU4xPAvNYWry"
      },
      "source": [
        "model.compile(\n",
        "    optimizer='adam',\n",
        "    loss=tf.losses.SparseCategoricalCrossentropy(from_logits=True),\n",
        "    metrics=['accuracy'])"
      ],
      "execution_count": null,
      "outputs": []
    },
    {
      "cell_type": "code",
      "metadata": {
        "colab": {
          "base_uri": "https://localhost:8080/"
        },
        "id": "Tk8ssrbHu44p",
        "outputId": "88d8b712-f85b-4886-df91-f2beec255ca0"
      },
      "source": [
        "epochs=50\n",
        "history = model.fit(\n",
        "  train_ds,\n",
        "  validation_data=val_ds,\n",
        "  epochs=epochs\n",
        ")"
      ],
      "execution_count": null,
      "outputs": [
        {
          "output_type": "stream",
          "name": "stdout",
          "text": [
            "Epoch 1/50\n",
            "156/156 [==============================] - 500s 3s/step - loss: 3.4554 - accuracy: 0.2656 - val_loss: 4.2105 - val_accuracy: 0.2024\n",
            "Epoch 2/50\n",
            "156/156 [==============================] - 4s 29ms/step - loss: 2.3250 - accuracy: 0.4098 - val_loss: 3.7130 - val_accuracy: 0.2843\n",
            "Epoch 3/50\n",
            "156/156 [==============================] - 4s 29ms/step - loss: 1.8204 - accuracy: 0.5206 - val_loss: 2.7966 - val_accuracy: 0.4249\n",
            "Epoch 4/50\n",
            "156/156 [==============================] - 4s 28ms/step - loss: 1.4233 - accuracy: 0.6183 - val_loss: 2.2786 - val_accuracy: 0.4329\n",
            "Epoch 5/50\n",
            "156/156 [==============================] - 4s 28ms/step - loss: 1.0739 - accuracy: 0.7163 - val_loss: 2.6690 - val_accuracy: 0.3759\n",
            "Epoch 6/50\n",
            "156/156 [==============================] - 4s 29ms/step - loss: 0.8395 - accuracy: 0.7719 - val_loss: 3.7034 - val_accuracy: 0.3068\n",
            "Epoch 7/50\n",
            "156/156 [==============================] - 4s 29ms/step - loss: 0.6470 - accuracy: 0.8338 - val_loss: 2.3958 - val_accuracy: 0.4578\n",
            "Epoch 8/50\n",
            "156/156 [==============================] - 4s 28ms/step - loss: 0.4617 - accuracy: 0.8832 - val_loss: 2.3338 - val_accuracy: 0.4892\n",
            "Epoch 9/50\n",
            "156/156 [==============================] - 4s 28ms/step - loss: 0.3416 - accuracy: 0.9223 - val_loss: 2.3805 - val_accuracy: 0.5124\n",
            "Epoch 10/50\n",
            "156/156 [==============================] - 4s 28ms/step - loss: 0.2508 - accuracy: 0.9420 - val_loss: 2.5416 - val_accuracy: 0.4988\n",
            "Epoch 11/50\n",
            "156/156 [==============================] - 4s 28ms/step - loss: 0.1850 - accuracy: 0.9596 - val_loss: 2.3920 - val_accuracy: 0.5189\n",
            "Epoch 12/50\n",
            "156/156 [==============================] - 4s 28ms/step - loss: 0.1488 - accuracy: 0.9707 - val_loss: 2.5638 - val_accuracy: 0.5020\n",
            "Epoch 13/50\n",
            "156/156 [==============================] - 4s 28ms/step - loss: 0.1040 - accuracy: 0.9823 - val_loss: 2.4550 - val_accuracy: 0.5197\n",
            "Epoch 14/50\n",
            "156/156 [==============================] - 4s 28ms/step - loss: 0.0720 - accuracy: 0.9896 - val_loss: 2.5038 - val_accuracy: 0.5205\n",
            "Epoch 15/50\n",
            "156/156 [==============================] - 4s 28ms/step - loss: 0.0691 - accuracy: 0.9890 - val_loss: 2.7353 - val_accuracy: 0.5141\n",
            "Epoch 16/50\n",
            "156/156 [==============================] - 4s 28ms/step - loss: 0.0626 - accuracy: 0.9890 - val_loss: 3.1100 - val_accuracy: 0.4659\n",
            "Epoch 17/50\n",
            "156/156 [==============================] - 4s 28ms/step - loss: 0.1051 - accuracy: 0.9729 - val_loss: 3.0587 - val_accuracy: 0.4851\n",
            "Epoch 18/50\n",
            "156/156 [==============================] - 4s 29ms/step - loss: 0.1508 - accuracy: 0.9613 - val_loss: 3.1558 - val_accuracy: 0.5060\n",
            "Epoch 19/50\n",
            "156/156 [==============================] - 4s 28ms/step - loss: 0.1696 - accuracy: 0.9504 - val_loss: 3.2860 - val_accuracy: 0.4755\n",
            "Epoch 20/50\n",
            "156/156 [==============================] - 4s 28ms/step - loss: 0.1567 - accuracy: 0.9566 - val_loss: 3.1032 - val_accuracy: 0.4819\n",
            "Epoch 21/50\n",
            "156/156 [==============================] - 4s 28ms/step - loss: 0.1080 - accuracy: 0.9711 - val_loss: 3.0539 - val_accuracy: 0.4996\n",
            "Epoch 22/50\n",
            "156/156 [==============================] - 4s 28ms/step - loss: 0.0493 - accuracy: 0.9892 - val_loss: 2.8191 - val_accuracy: 0.5454\n",
            "Epoch 23/50\n",
            "156/156 [==============================] - 4s 29ms/step - loss: 0.0332 - accuracy: 0.9928 - val_loss: 2.8840 - val_accuracy: 0.5261\n",
            "Epoch 24/50\n",
            "156/156 [==============================] - 4s 28ms/step - loss: 0.0178 - accuracy: 0.9970 - val_loss: 2.8341 - val_accuracy: 0.5382\n",
            "Epoch 25/50\n",
            "156/156 [==============================] - 4s 28ms/step - loss: 0.0098 - accuracy: 0.9990 - val_loss: 2.8205 - val_accuracy: 0.5478\n",
            "Epoch 26/50\n",
            "156/156 [==============================] - 4s 28ms/step - loss: 0.0046 - accuracy: 1.0000 - val_loss: 2.8203 - val_accuracy: 0.5518\n",
            "Epoch 27/50\n",
            "156/156 [==============================] - 4s 29ms/step - loss: 0.0033 - accuracy: 1.0000 - val_loss: 2.8358 - val_accuracy: 0.5510\n",
            "Epoch 28/50\n",
            "156/156 [==============================] - 4s 28ms/step - loss: 0.0028 - accuracy: 1.0000 - val_loss: 2.8530 - val_accuracy: 0.5550\n",
            "Epoch 29/50\n",
            "156/156 [==============================] - 4s 29ms/step - loss: 0.0025 - accuracy: 1.0000 - val_loss: 2.8702 - val_accuracy: 0.5550\n",
            "Epoch 30/50\n",
            "156/156 [==============================] - 4s 28ms/step - loss: 0.0022 - accuracy: 1.0000 - val_loss: 2.8876 - val_accuracy: 0.5542\n",
            "Epoch 31/50\n",
            "156/156 [==============================] - 4s 29ms/step - loss: 0.0019 - accuracy: 1.0000 - val_loss: 2.9049 - val_accuracy: 0.5566\n",
            "Epoch 32/50\n",
            "156/156 [==============================] - 4s 28ms/step - loss: 0.0017 - accuracy: 1.0000 - val_loss: 2.9224 - val_accuracy: 0.5542\n",
            "Epoch 33/50\n",
            "156/156 [==============================] - 4s 28ms/step - loss: 0.0016 - accuracy: 1.0000 - val_loss: 2.9398 - val_accuracy: 0.5526\n",
            "Epoch 34/50\n",
            "156/156 [==============================] - 4s 28ms/step - loss: 0.0014 - accuracy: 1.0000 - val_loss: 2.9569 - val_accuracy: 0.5534\n",
            "Epoch 35/50\n",
            "156/156 [==============================] - 4s 28ms/step - loss: 0.0013 - accuracy: 1.0000 - val_loss: 2.9740 - val_accuracy: 0.5534\n",
            "Epoch 36/50\n",
            "156/156 [==============================] - 4s 28ms/step - loss: 0.0012 - accuracy: 1.0000 - val_loss: 2.9913 - val_accuracy: 0.5526\n",
            "Epoch 37/50\n",
            "156/156 [==============================] - 4s 28ms/step - loss: 0.0011 - accuracy: 1.0000 - val_loss: 3.0086 - val_accuracy: 0.5526\n",
            "Epoch 38/50\n",
            "156/156 [==============================] - 4s 28ms/step - loss: 9.5758e-04 - accuracy: 1.0000 - val_loss: 3.0258 - val_accuracy: 0.5526\n",
            "Epoch 39/50\n",
            "156/156 [==============================] - 4s 29ms/step - loss: 8.7448e-04 - accuracy: 1.0000 - val_loss: 3.0431 - val_accuracy: 0.5526\n",
            "Epoch 40/50\n",
            "156/156 [==============================] - 4s 29ms/step - loss: 7.9952e-04 - accuracy: 1.0000 - val_loss: 3.0604 - val_accuracy: 0.5542\n",
            "Epoch 41/50\n",
            "156/156 [==============================] - 4s 28ms/step - loss: 7.3176e-04 - accuracy: 1.0000 - val_loss: 3.0780 - val_accuracy: 0.5550\n",
            "Epoch 42/50\n",
            "156/156 [==============================] - 4s 29ms/step - loss: 6.7029e-04 - accuracy: 1.0000 - val_loss: 3.0955 - val_accuracy: 0.5542\n",
            "Epoch 43/50\n",
            "156/156 [==============================] - 4s 29ms/step - loss: 6.1448e-04 - accuracy: 1.0000 - val_loss: 3.1132 - val_accuracy: 0.5526\n",
            "Epoch 44/50\n",
            "156/156 [==============================] - 4s 29ms/step - loss: 5.6367e-04 - accuracy: 1.0000 - val_loss: 3.1312 - val_accuracy: 0.5534\n",
            "Epoch 45/50\n",
            "156/156 [==============================] - 4s 28ms/step - loss: 5.1733e-04 - accuracy: 1.0000 - val_loss: 3.1490 - val_accuracy: 0.5526\n",
            "Epoch 46/50\n",
            "156/156 [==============================] - 4s 28ms/step - loss: 4.7502e-04 - accuracy: 1.0000 - val_loss: 3.1672 - val_accuracy: 0.5534\n",
            "Epoch 47/50\n",
            "156/156 [==============================] - 4s 28ms/step - loss: 4.3638e-04 - accuracy: 1.0000 - val_loss: 3.1854 - val_accuracy: 0.5534\n",
            "Epoch 48/50\n",
            "156/156 [==============================] - 4s 28ms/step - loss: 4.0102e-04 - accuracy: 1.0000 - val_loss: 3.2037 - val_accuracy: 0.5518\n",
            "Epoch 49/50\n",
            "156/156 [==============================] - 4s 29ms/step - loss: 3.6863e-04 - accuracy: 1.0000 - val_loss: 3.2218 - val_accuracy: 0.5518\n",
            "Epoch 50/50\n",
            "156/156 [==============================] - 4s 29ms/step - loss: 3.3897e-04 - accuracy: 1.0000 - val_loss: 3.2400 - val_accuracy: 0.5510\n"
          ]
        }
      ]
    },
    {
      "cell_type": "code",
      "metadata": {
        "colab": {
          "base_uri": "https://localhost:8080/",
          "height": 499
        },
        "id": "f1z_vHocu59c",
        "outputId": "9e346324-9bf2-404c-a6c7-4ec89b11a55d"
      },
      "source": [
        "acc = history.history['accuracy']\n",
        "val_acc = history.history['val_accuracy']\n",
        "\n",
        "loss=history.history['loss']\n",
        "val_loss=history.history['val_loss']\n",
        "\n",
        "epochs_range = range(epochs)\n",
        "\n",
        "plt.figure(figsize=(8, 8))\n",
        "plt.subplot(1, 2, 1)\n",
        "plt.plot(epochs_range, acc, label='Training Accuracy')\n",
        "plt.plot(epochs_range, val_acc, label='Validation Accuracy')\n",
        "plt.legend(loc='lower right')\n",
        "plt.title('Training and Validation Accuracy')\n",
        "\n",
        "plt.subplot(1, 2, 2)\n",
        "plt.plot(epochs_range, loss, label='Training Loss')\n",
        "plt.plot(epochs_range, val_loss, label='Validation Loss')\n",
        "plt.legend(loc='upper right')\n",
        "plt.title('Training and Validation Loss')\n",
        "plt.show()"
      ],
      "execution_count": null,
      "outputs": [
        {
          "output_type": "display_data",
          "data": {
            "image/png": "[encoded data removed]",
            "text/plain": [
              "<Figure size 576x576 with 2 Axes>"
            ]
          },
          "metadata": {
            "needs_background": "light"
          }
        }
      ]
    },
    {
      "cell_type": "code",
      "metadata": {
        "id": "XinJ6xXD9YNO"
      },
      "source": [
        "data_augmentation = keras.Sequential(\n",
        "  [\n",
        "    layers.experimental.preprocessing.RandomFlip(\"horizontal\", \n",
        "                                                 input_shape=(img_height, \n",
        "                                                              img_width,\n",
        "                                                              1)),\n",
        "    layers.experimental.preprocessing.RandomRotation(0.1),\n",
        "    layers.experimental.preprocessing.RandomZoom(0.1),\n",
        "  ]\n",
        ")"
      ],
      "execution_count": null,
      "outputs": []
    },
    {
      "cell_type": "code",
      "metadata": {
        "id": "8WT2BYElEYZj"
      },
      "source": [
        "model = Sequential([\n",
        "  data_augmentation,\n",
        "  layers.experimental.preprocessing.Rescaling(1./255),\n",
        "  layers.Conv2D(64, 3,input_shape = image_batch, activation='relu'),\n",
        "  layers.MaxPooling2D(),\n",
        "  layers.Conv2D(64, 3, padding='same', activation='relu'),\n",
        "  layers.MaxPooling2D(),\n",
        "  layers.Conv2D(64, 3, padding='same', activation='relu'),\n",
        "  layers.MaxPooling2D(),\n",
        "  layers.Dropout(0.2),\n",
        "  layers.Flatten(),\n",
        "  layers.Dense(128, activation='relu'),\n",
        "  BatchNormalization(),\n",
        "  layers.Dense(128, activation='relu'),\n",
        "  BatchNormalization(),\n",
        "  layers.Dense(128, activation='relu'),\n",
        "  BatchNormalization(),\n",
        "  layers.Dense(128, activation='relu'),\n",
        "  BatchNormalization(),\n",
        "  layers.Dense(107, activation='softmax'),\n",
        "  BatchNormalization(),\n",
        "  layers.Dense(num_classes)\n",
        "])"
      ],
      "execution_count": null,
      "outputs": []
    },
    {
      "cell_type": "code",
      "metadata": {
        "id": "opOHP3auEdsw",
        "colab": {
          "base_uri": "https://localhost:8080/"
        },
        "outputId": "936052aa-ea23-4e7a-e09c-6e2209e45ab6"
      },
      "source": [
        "BatchNormalization(),model.compile(\n",
        "    optimizer='adam',\n",
        "    loss=tf.losses.SparseCategoricalCrossentropy(from_logits=True),\n",
        "    metrics=['accuracy'])"
      ],
      "execution_count": null,
      "outputs": [
        {
          "output_type": "execute_result",
          "data": {
            "text/plain": [
              "(<keras.layers.normalization.batch_normalization.BatchNormalization at 0x7f8c2c9ccd90>,\n",
              " None)"
            ]
          },
          "metadata": {},
          "execution_count": 19
        }
      ]
    },
    {
      "cell_type": "code",
      "metadata": {
        "colab": {
          "base_uri": "https://localhost:8080/"
        },
        "id": "3Ay4tlHlEfBX",
        "outputId": "e201b920-c1f0-4ec4-e693-e411aaac71cb"
      },
      "source": [
        "model.summary()"
      ],
      "execution_count": null,
      "outputs": [
        {
          "output_type": "stream",
          "name": "stdout",
          "text": [
            "Model: \"sequential_2\"\n",
            "_________________________________________________________________\n",
            " Layer (type)                Output Shape              Param #   \n",
            "=================================================================\n",
            " sequential_1 (Sequential)   (None, 180, 180, 1)       0         \n",
            "                                                                 \n",
            " rescaling_2 (Rescaling)     (None, 180, 180, 1)       0         \n",
            "                                                                 \n",
            " conv2d_3 (Conv2D)           (None, 178, 178, 64)      640       \n",
            "                                                                 \n",
            " max_pooling2d_3 (MaxPooling  (None, 89, 89, 64)       0         \n",
            " 2D)                                                             \n",
            "                                                                 \n",
            " conv2d_4 (Conv2D)           (None, 89, 89, 64)        36928     \n",
            "                                                                 \n",
            " max_pooling2d_4 (MaxPooling  (None, 44, 44, 64)       0         \n",
            " 2D)                                                             \n",
            "                                                                 \n",
            " conv2d_5 (Conv2D)           (None, 44, 44, 64)        36928     \n",
            "                                                                 \n",
            " max_pooling2d_5 (MaxPooling  (None, 22, 22, 64)       0         \n",
            " 2D)                                                             \n",
            "                                                                 \n",
            " dropout (Dropout)           (None, 22, 22, 64)        0         \n",
            "                                                                 \n",
            " flatten_1 (Flatten)         (None, 30976)             0         \n",
            "                                                                 \n",
            " dense_6 (Dense)             (None, 128)               3965056   \n",
            "                                                                 \n",
            " batch_normalization_6 (Batc  (None, 128)              512       \n",
            " hNormalization)                                                 \n",
            "                                                                 \n",
            " dense_7 (Dense)             (None, 128)               16512     \n",
            "                                                                 \n",
            " batch_normalization_7 (Batc  (None, 128)              512       \n",
            " hNormalization)                                                 \n",
            "                                                                 \n",
            " dense_8 (Dense)             (None, 128)               16512     \n",
            "                                                                 \n",
            " batch_normalization_8 (Batc  (None, 128)              512       \n",
            " hNormalization)                                                 \n",
            "                                                                 \n",
            " dense_9 (Dense)             (None, 128)               16512     \n",
            "                                                                 \n",
            " batch_normalization_9 (Batc  (None, 128)              512       \n",
            " hNormalization)                                                 \n",
            "                                                                 \n",
            " dense_10 (Dense)            (None, 107)               13803     \n",
            "                                                                 \n",
            " batch_normalization_10 (Bat  (None, 107)              428       \n",
            " chNormalization)                                                \n",
            "                                                                 \n",
            " dense_11 (Dense)            (None, 107)               11556     \n",
            "                                                                 \n",
            "=================================================================\n",
            "Total params: 4,116,923\n",
            "Trainable params: 4,115,685\n",
            "Non-trainable params: 1,238\n",
            "_________________________________________________________________\n"
          ]
        }
      ]
    },
    {
      "cell_type": "code",
      "metadata": {
        "colab": {
          "base_uri": "https://localhost:8080/"
        },
        "id": "Jc8rD_v9Ef41",
        "outputId": "0d96ca84-0746-4546-e5a1-c4e3262e8e26"
      },
      "source": [
        "epochs = 50\n",
        "history = model.fit(\n",
        "  train_ds,\n",
        "  validation_data=val_ds,\n",
        "  epochs=epochs\n",
        ")"
      ],
      "execution_count": null,
      "outputs": [
        {
          "output_type": "stream",
          "name": "stdout",
          "text": [
            "Epoch 1/50\n",
            "156/156 [==============================] - 7s 33ms/step - loss: 3.6967 - accuracy: 0.2042 - val_loss: 4.1420 - val_accuracy: 0.2241\n",
            "Epoch 2/50\n",
            "156/156 [==============================] - 5s 30ms/step - loss: 2.7385 - accuracy: 0.3108 - val_loss: 3.7235 - val_accuracy: 0.2249\n",
            "Epoch 3/50\n",
            "156/156 [==============================] - 5s 30ms/step - loss: 2.4448 - accuracy: 0.3429 - val_loss: 2.9978 - val_accuracy: 0.3149\n",
            "Epoch 4/50\n",
            "156/156 [==============================] - 5s 30ms/step - loss: 2.2531 - accuracy: 0.3790 - val_loss: 2.7965 - val_accuracy: 0.3157\n",
            "Epoch 5/50\n",
            "156/156 [==============================] - 5s 30ms/step - loss: 2.0951 - accuracy: 0.4142 - val_loss: 2.6372 - val_accuracy: 0.3486\n",
            "Epoch 6/50\n",
            "156/156 [==============================] - 5s 30ms/step - loss: 1.9671 - accuracy: 0.4399 - val_loss: 2.9954 - val_accuracy: 0.3116\n",
            "Epoch 7/50\n",
            "156/156 [==============================] - 5s 30ms/step - loss: 1.8709 - accuracy: 0.4648 - val_loss: 2.9976 - val_accuracy: 0.2956\n",
            "Epoch 8/50\n",
            "156/156 [==============================] - 5s 30ms/step - loss: 1.7591 - accuracy: 0.4788 - val_loss: 2.7221 - val_accuracy: 0.3534\n",
            "Epoch 9/50\n",
            "156/156 [==============================] - 5s 30ms/step - loss: 1.6634 - accuracy: 0.5035 - val_loss: 2.9021 - val_accuracy: 0.3068\n",
            "Epoch 10/50\n",
            "156/156 [==============================] - 5s 31ms/step - loss: 1.5757 - accuracy: 0.5296 - val_loss: 3.2439 - val_accuracy: 0.3116\n",
            "Epoch 11/50\n",
            "156/156 [==============================] - 5s 31ms/step - loss: 1.5071 - accuracy: 0.5423 - val_loss: 2.8105 - val_accuracy: 0.3598\n",
            "Epoch 12/50\n",
            "156/156 [==============================] - 5s 30ms/step - loss: 1.4510 - accuracy: 0.5515 - val_loss: 2.4237 - val_accuracy: 0.4241\n",
            "Epoch 13/50\n",
            "156/156 [==============================] - 5s 30ms/step - loss: 1.4012 - accuracy: 0.5631 - val_loss: 2.9407 - val_accuracy: 0.3486\n",
            "Epoch 14/50\n",
            "156/156 [==============================] - 5s 30ms/step - loss: 1.3277 - accuracy: 0.5782 - val_loss: 2.6819 - val_accuracy: 0.3976\n",
            "Epoch 15/50\n",
            "156/156 [==============================] - 5s 30ms/step - loss: 1.2647 - accuracy: 0.6039 - val_loss: 3.2990 - val_accuracy: 0.3100\n",
            "Epoch 16/50\n",
            "156/156 [==============================] - 5s 30ms/step - loss: 1.2108 - accuracy: 0.6145 - val_loss: 2.7074 - val_accuracy: 0.4016\n",
            "Epoch 17/50\n",
            "156/156 [==============================] - 5s 30ms/step - loss: 1.1647 - accuracy: 0.6260 - val_loss: 2.3960 - val_accuracy: 0.4402\n",
            "Epoch 18/50\n",
            "156/156 [==============================] - 5s 30ms/step - loss: 1.1028 - accuracy: 0.6444 - val_loss: 2.6566 - val_accuracy: 0.4177\n",
            "Epoch 19/50\n",
            "156/156 [==============================] - 5s 30ms/step - loss: 1.0680 - accuracy: 0.6513 - val_loss: 2.9458 - val_accuracy: 0.3775\n",
            "Epoch 20/50\n",
            "156/156 [==============================] - 5s 30ms/step - loss: 1.0324 - accuracy: 0.6627 - val_loss: 2.6251 - val_accuracy: 0.4040\n",
            "Epoch 21/50\n",
            "156/156 [==============================] - 5s 31ms/step - loss: 0.9961 - accuracy: 0.6750 - val_loss: 2.4636 - val_accuracy: 0.4233\n",
            "Epoch 22/50\n",
            "156/156 [==============================] - 5s 30ms/step - loss: 0.9288 - accuracy: 0.7009 - val_loss: 3.1971 - val_accuracy: 0.3622\n",
            "Epoch 23/50\n",
            "156/156 [==============================] - 5s 30ms/step - loss: 0.9192 - accuracy: 0.7043 - val_loss: 2.6771 - val_accuracy: 0.4209\n",
            "Epoch 24/50\n",
            "156/156 [==============================] - 5s 30ms/step - loss: 0.8772 - accuracy: 0.7197 - val_loss: 3.5651 - val_accuracy: 0.3639\n",
            "Epoch 25/50\n",
            "156/156 [==============================] - 5s 30ms/step - loss: 0.8506 - accuracy: 0.7193 - val_loss: 2.9738 - val_accuracy: 0.4233\n",
            "Epoch 26/50\n",
            "156/156 [==============================] - 5s 30ms/step - loss: 0.8058 - accuracy: 0.7388 - val_loss: 2.8906 - val_accuracy: 0.4241\n",
            "Epoch 27/50\n",
            "156/156 [==============================] - 5s 30ms/step - loss: 0.8073 - accuracy: 0.7378 - val_loss: 3.0298 - val_accuracy: 0.4112\n",
            "Epoch 28/50\n",
            "156/156 [==============================] - 5s 31ms/step - loss: 0.7538 - accuracy: 0.7541 - val_loss: 2.6589 - val_accuracy: 0.4466\n",
            "Epoch 29/50\n",
            "156/156 [==============================] - 5s 31ms/step - loss: 0.7504 - accuracy: 0.7617 - val_loss: 2.6959 - val_accuracy: 0.4618\n",
            "Epoch 30/50\n",
            "156/156 [==============================] - 5s 30ms/step - loss: 0.7136 - accuracy: 0.7707 - val_loss: 2.8306 - val_accuracy: 0.4514\n",
            "Epoch 31/50\n",
            "156/156 [==============================] - 5s 30ms/step - loss: 0.6632 - accuracy: 0.7836 - val_loss: 2.6862 - val_accuracy: 0.4586\n",
            "Epoch 32/50\n",
            "156/156 [==============================] - 5s 30ms/step - loss: 0.6657 - accuracy: 0.7814 - val_loss: 2.3664 - val_accuracy: 0.5036\n",
            "Epoch 33/50\n",
            "156/156 [==============================] - 5s 30ms/step - loss: 0.6116 - accuracy: 0.8022 - val_loss: 2.7341 - val_accuracy: 0.4522\n",
            "Epoch 34/50\n",
            "156/156 [==============================] - 5s 30ms/step - loss: 0.6026 - accuracy: 0.8002 - val_loss: 2.6450 - val_accuracy: 0.4843\n",
            "Epoch 35/50\n",
            "156/156 [==============================] - 5s 30ms/step - loss: 0.5959 - accuracy: 0.8075 - val_loss: 2.4814 - val_accuracy: 0.4787\n",
            "Epoch 36/50\n",
            "156/156 [==============================] - 5s 31ms/step - loss: 0.5963 - accuracy: 0.8049 - val_loss: 2.8153 - val_accuracy: 0.4329\n",
            "Epoch 37/50\n",
            "156/156 [==============================] - 5s 30ms/step - loss: 0.5395 - accuracy: 0.8273 - val_loss: 2.8654 - val_accuracy: 0.4643\n",
            "Epoch 38/50\n",
            "156/156 [==============================] - 5s 30ms/step - loss: 0.5488 - accuracy: 0.8179 - val_loss: 2.8967 - val_accuracy: 0.4691\n",
            "Epoch 39/50\n",
            "156/156 [==============================] - 5s 30ms/step - loss: 0.5114 - accuracy: 0.8358 - val_loss: 2.8665 - val_accuracy: 0.4635\n",
            "Epoch 40/50\n",
            "156/156 [==============================] - 5s 30ms/step - loss: 0.5037 - accuracy: 0.8430 - val_loss: 2.7921 - val_accuracy: 0.4771\n",
            "Epoch 41/50\n",
            "156/156 [==============================] - 5s 31ms/step - loss: 0.5026 - accuracy: 0.8408 - val_loss: 2.6333 - val_accuracy: 0.4980\n",
            "Epoch 42/50\n",
            "156/156 [==============================] - 5s 30ms/step - loss: 0.4990 - accuracy: 0.8342 - val_loss: 2.5522 - val_accuracy: 0.5165\n",
            "Epoch 43/50\n",
            "156/156 [==============================] - 5s 30ms/step - loss: 0.4660 - accuracy: 0.8480 - val_loss: 2.6496 - val_accuracy: 0.4884\n",
            "Epoch 44/50\n",
            "156/156 [==============================] - 5s 30ms/step - loss: 0.4532 - accuracy: 0.8508 - val_loss: 2.8479 - val_accuracy: 0.4803\n",
            "Epoch 45/50\n",
            "156/156 [==============================] - 5s 30ms/step - loss: 0.4402 - accuracy: 0.8548 - val_loss: 2.7952 - val_accuracy: 0.5012\n",
            "Epoch 46/50\n",
            "156/156 [==============================] - 5s 30ms/step - loss: 0.4228 - accuracy: 0.8625 - val_loss: 3.2656 - val_accuracy: 0.4426\n",
            "Epoch 47/50\n",
            "156/156 [==============================] - 5s 30ms/step - loss: 0.4026 - accuracy: 0.8633 - val_loss: 2.6588 - val_accuracy: 0.5205\n",
            "Epoch 48/50\n",
            "156/156 [==============================] - 5s 30ms/step - loss: 0.3998 - accuracy: 0.8681 - val_loss: 3.2798 - val_accuracy: 0.4490\n",
            "Epoch 49/50\n",
            "156/156 [==============================] - 5s 31ms/step - loss: 0.3820 - accuracy: 0.8755 - val_loss: 3.0897 - val_accuracy: 0.4731\n",
            "Epoch 50/50\n",
            "156/156 [==============================] - 5s 30ms/step - loss: 0.3690 - accuracy: 0.8797 - val_loss: 3.2173 - val_accuracy: 0.4594\n"
          ]
        }
      ]
    },
    {
      "cell_type": "code",
      "metadata": {
        "colab": {
          "base_uri": "https://localhost:8080/",
          "height": 499
        },
        "id": "ynhS2KjVEhj8",
        "outputId": "c075d11d-cb32-4715-c7bb-6e030d459ab6"
      },
      "source": [
        "acc = history.history['accuracy']\n",
        "val_acc = history.history['val_accuracy']\n",
        "\n",
        "loss = history.history['loss']\n",
        "val_loss = history.history['val_loss']\n",
        "\n",
        "epochs_range = range(epochs)\n",
        "\n",
        "plt.figure(figsize=(8, 8))\n",
        "plt.subplot(1, 2, 1)\n",
        "plt.plot(epochs_range, acc, label='Training Accuracy')\n",
        "plt.plot(epochs_range, val_acc, label='Validation Accuracy')\n",
        "plt.legend(loc='lower right')\n",
        "plt.title('Training and Validation Accuracy')\n",
        "\n",
        "plt.subplot(1, 2, 2)\n",
        "plt.plot(epochs_range, loss, label='Training Loss')\n",
        "plt.plot(epochs_range, val_loss, label='Validation Loss')\n",
        "plt.legend(loc='upper right')\n",
        "plt.title('Training and Validation Loss')\n",
        "plt.show()"
      ],
      "execution_count": null,
      "outputs": [
        {
          "output_type": "display_data",
          "data": {
            "image/png": "[encoded data removed]",
            "text/plain": [
              "<Figure size 576x576 with 2 Axes>"
            ]
          },
          "metadata": {
            "needs_background": "light"
          }
        }
      ]
    },
    {
      "cell_type": "code",
      "metadata": {
        "colab": {
          "base_uri": "https://localhost:8080/"
        },
        "id": "IbEQMrsAH2yZ",
        "outputId": "ca7254e2-81ac-4623-d402-062f7f6b089e"
      },
      "source": [
        "model.compile(\n",
        "    optimizer='adam',\n",
        "    loss=tf.losses.SparseCategoricalCrossentropy(from_logits=True),\n",
        "    metrics=['accuracy'])\n",
        "model.summary()"
      ],
      "execution_count": null,
      "outputs": [
        {
          "output_type": "stream",
          "name": "stdout",
          "text": [
            "Model: \"sequential_2\"\n",
            "_________________________________________________________________\n",
            " Layer (type)                Output Shape              Param #   \n",
            "=================================================================\n",
            " sequential_1 (Sequential)   (None, 180, 180, 1)       0         \n",
            "                                                                 \n",
            " rescaling_2 (Rescaling)     (None, 180, 180, 1)       0         \n",
            "                                                                 \n",
            " conv2d_3 (Conv2D)           (None, 178, 178, 64)      640       \n",
            "                                                                 \n",
            " max_pooling2d_3 (MaxPooling  (None, 89, 89, 64)       0         \n",
            " 2D)                                                             \n",
            "                                                                 \n",
            " conv2d_4 (Conv2D)           (None, 89, 89, 64)        36928     \n",
            "                                                                 \n",
            " max_pooling2d_4 (MaxPooling  (None, 44, 44, 64)       0         \n",
            " 2D)                                                             \n",
            "                                                                 \n",
            " conv2d_5 (Conv2D)           (None, 44, 44, 64)        36928     \n",
            "                                                                 \n",
            " max_pooling2d_5 (MaxPooling  (None, 22, 22, 64)       0         \n",
            " 2D)                                                             \n",
            "                                                                 \n",
            " dropout (Dropout)           (None, 22, 22, 64)        0         \n",
            "                                                                 \n",
            " flatten_1 (Flatten)         (None, 30976)             0         \n",
            "                                                                 \n",
            " dense_6 (Dense)             (None, 128)               3965056   \n",
            "                                                                 \n",
            " batch_normalization_6 (Batc  (None, 128)              512       \n",
            " hNormalization)                                                 \n",
            "                                                                 \n",
            " dense_7 (Dense)             (None, 128)               16512     \n",
            "                                                                 \n",
            " batch_normalization_7 (Batc  (None, 128)              512       \n",
            " hNormalization)                                                 \n",
            "                                                                 \n",
            " dense_8 (Dense)             (None, 128)               16512     \n",
            "                                                                 \n",
            " batch_normalization_8 (Batc  (None, 128)              512       \n",
            " hNormalization)                                                 \n",
            "                                                                 \n",
            " dense_9 (Dense)             (None, 128)               16512     \n",
            "                                                                 \n",
            " batch_normalization_9 (Batc  (None, 128)              512       \n",
            " hNormalization)                                                 \n",
            "                                                                 \n",
            " dense_10 (Dense)            (None, 107)               13803     \n",
            "                                                                 \n",
            " batch_normalization_10 (Bat  (None, 107)              428       \n",
            " chNormalization)                                                \n",
            "                                                                 \n",
            " dense_11 (Dense)            (None, 107)               11556     \n",
            "                                                                 \n",
            "=================================================================\n",
            "Total params: 4,116,923\n",
            "Trainable params: 4,115,685\n",
            "Non-trainable params: 1,238\n",
            "_________________________________________________________________\n"
          ]
        }
      ]
    },
    {
      "cell_type": "code",
      "metadata": {
        "id": "df30HUqFjWre"
      },
      "source": [
        ""
      ],
      "execution_count": null,
      "outputs": []
    }
  ]
}