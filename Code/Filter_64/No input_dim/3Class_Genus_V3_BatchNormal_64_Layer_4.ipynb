{
  "nbformat": 4,
  "nbformat_minor": 0,
  "metadata": {
    "colab": {
      "name": "3Class_Genus_V3_BatchNormal_64_Layer_4.ipynb",
      "provenance": [],
      "collapsed_sections": [],
      "mount_file_id": "1FfshoObRAHVlyoaZ8cTi67czHvk1E0Sa",
      "authorship_tag": "ABX9TyPuO5cBbig9KC3UuBA+/Mw8",
      "include_colab_link": true
    },
    "kernelspec": {
      "name": "python3",
      "display_name": "Python 3"
    },
    "language_info": {
      "name": "python"
    },
    "accelerator": "GPU"
  },
  "cells": [
    {
      "cell_type": "markdown",
      "metadata": {
        "id": "view-in-github",
        "colab_type": "text"
      },
      "source": [
        "<a href=\"https://colab.research.google.com/github/Tajyu/Master_Degree_Paper/blob/main/Code/Filter_64/No%20input_dim/3Class_Genus_V3_BatchNormal_64_Layer_4.ipynb\" target=\"_parent\"><img src=\"https://colab.research.google.com/assets/colab-badge.svg\" alt=\"Open In Colab\"/></a>"
      ]
    },
    {
      "cell_type": "code",
      "metadata": {
        "id": "yWckd06_68Em"
      },
      "source": [
        "import tensorflow as tf\n",
        "from tensorflow.keras import datasets, layers, models\n",
        "from keras.preprocessing.image import ImageDataGenerator\n",
        "import numpy as np\n",
        "import matplotlib.pyplot as plt\n",
        "import cv2 as cv\n",
        "import os\n",
        "import pathlib\n",
        "import PIL\n",
        "from tensorflow import keras\n",
        "from tensorflow.keras import layers\n",
        "from tensorflow.keras.models import Sequential\n",
        "from tensorflow.keras.layers import Dense, Flatten, BatchNormalization, Dropout"
      ],
      "execution_count": null,
      "outputs": []
    },
    {
      "cell_type": "code",
      "metadata": {
        "colab": {
          "base_uri": "https://localhost:8080/"
        },
        "id": "oNFapinkqeDN",
        "outputId": "ef599a3b-4ce8-4050-be9b-091033c43815"
      },
      "source": [
        "from google.colab import drive\n",
        "drive.mount('/content/drive')"
      ],
      "execution_count": null,
      "outputs": [
        {
          "output_type": "stream",
          "name": "stdout",
          "text": [
            "Drive already mounted at /content/drive; to attempt to forcibly remount, call drive.mount(\"/content/drive\", force_remount=True).\n"
          ]
        }
      ]
    },
    {
      "cell_type": "code",
      "metadata": {
        "id": "xav9zirHttk_"
      },
      "source": [
        "image_list = os.listdir('/content/drive/MyDrive/Colab Notebooks/Final_Project/Cell_Genus')"
      ],
      "execution_count": null,
      "outputs": []
    },
    {
      "cell_type": "code",
      "metadata": {
        "colab": {
          "base_uri": "https://localhost:8080/"
        },
        "id": "K-wD0dM5tx_E",
        "outputId": "28ed8b6a-0d55-476f-ba6a-4c7081fd7e64"
      },
      "source": [
        "print(image_list)"
      ],
      "execution_count": null,
      "outputs": [
        {
          "output_type": "stream",
          "name": "stdout",
          "text": [
            "['10_Genus_Stauroneis_Ehrenberg', '10_Genus_Staurosira_Ehrenberg', '11_Genus_Craspedostauros_E.J_Cox_1999', '11_Genus_Staurosirella_Williams_and_Round', '12_Genus_Caloneis_Cleve_1894', '12_Genus_Synedra_Ehrenberg', '13_Genus_Pinnularia_Ehrenberg_1843', '1_Genus_Acanthoceras_Honigmann', '1_Genus_Achnanthes_Bory', '1_Genus_Actinocyclus_Ehrenberg', '1_Genus_Aphanocapsa_Nageli_1849', '1_Genus_Asterionella_Hassall', '1_Genus_Aulacoseira', '1_Genus_Biremis_Mann_et_Cox_in_Round_Crawford_and_Mann', '1_Genus_Characium_A_Braun_in_Kutzing_1849', '1_Genus_Chroococcus_Nageli', '1_Genus_Closterium_Nitzsch_ex_Ralfs_1848', '1_Genus_Coelastrum_Nageli_1849', '1_Genus_Cylindrocystis_Meneghini_ex_de_Bary_1858', '1_Genus_Dictyosphaerium_Nageli_1849', '1_Genus_Docidium_Brebisson_ex_Ralfs_1848', '1_Genus_Eunotia_Ehrenberg', '1_Genus_Geitlerinema_(Anagnostidis_et_Komarek)_Anagnostidis_1989', '1_Genus_Gonatozygon_de_Bary_1856', '1_Genus_Hydrodictyon_Roth_1797', '1_Genus_Hydrosera_whampoensis', '1_Genus_Jaaginema_Anagnostidis_et_Komarek_1988', '1_Genus_Lyngbya_C_Agardh_ex_Gomont_1892', '1_Genus_Melosira_Agardh', '1_Genus_Micractinium_Fresenius_1858', '1_Genus_Micrasterias_Ralfs_1848', '1_Genus_Microcystis_Kutzing_ex_Lemmermann_1907', '1_Genus_Oscillatoria_Vaucher_ex_Gomont_1982', '1_Genus_Pediastrum_Meyen_1829', '1_Genus_Penium_Brebisson_ex_Ralfs_in_Ralfs_1848', '1_Genus_Phormidium_Kutzing_ex_Gomont_1892', '1_Genus_Planktothrix_Anagnostidis_et_Komarek_1988', '1_Genus_Pleurosira_laevis_(Ehrenberg)', '1_Genus_Rhizosolenia_Ehrenberg', '1_Genus_Schizochlamydella_Korshikov_1953', '1_Genus_Staurodesmus_Teiling_1848', '1_Genus_Trochiscia_Kutzing_1834', '1_Scenedesmus_Hegewald_1978', '2_Acutodesmus_Hegewald_1978', '2_Genus_Achnanthidium_Kutzing', '2_Genus_Actinastrum_Lagerheim_1882', '2_Genus_Actinella_Lewis', '2_Genus_Ankyra_Fott_1957', '2_Genus_Caloneis_Cleve', '2_Genus_Chaetoceros_Ehrenberg', '2_Genus_Coenochloris_Korshikov_1953', '2_Genus_Cyclotella', '2_Genus_Diatoma_Bory', '2_Genus_Dimorphococcus_A_Braun_1855', '2_Genus_Golenkinia_Chodat_1894', '2_Genus_Haplotaenium_Bando_1988', '2_Genus_Leibleinia_(Gomont)_L_Hoffman_1985', '2_Genus_Leptolyngbya_Anagnostidis_et_Komarek_1988', '2_Genus_Merismopedia_Meyen_1839', '2_Genus_Netrium_(Nageli)_Itzigsohn_et_Rothe_in_Rabenhorst_1856', '2_Genus_Orthoseira_Thwaites_1848', '2_Genus_Phormidium_Kutzing_ex_Gomont_1892', '2_Genus_Sorastrum_Kutzing_1845', '2_Genus_Staurastrum_Meyen_ex_Ralfs_1848', '3_Desmodesmus_Chodat_1926', '3_Genus_Acanthosphaera_Lemmerman_1899', '3_Genus_Anorthoneis_Grunow', '3_Genus_Cyclostephanos_Round', '3_Genus_Dichotomococcus_Korshikov_1928', '3_Genus_Heteroleibleinia_(Geitler)_L_Hoffmann_1985', '3_Genus_Limnothrix_Meffert_1988', '3_Genus_Meridion_Agardh', '3_Genus_Paradoxia_Svirenko_1928', '3_Genus_Peronia_Bebisson_and_Arnott_ex_Kitton', '3_Genus_Phormidiochaete_Komarek_in_Anagnostidis_2001', '3_Genus_Pinnularia_Ehrenberg_1', '3_Genus_Pleurotaenium_Nageli_1849', '3_Genus_Radiococcus_Schmidle_1902', '3_Genus_Snowella_Elenkin_1938', '3_Genus_Spirotaenia_Brebisson_in_Ralfs_1848', '4_Genus_Botryococcus_Kutzing_1849', '4_Genus_Cocconeis_Ehrenberg', '4_Genus_Eutetramorus_Walton_1918', '4_Genus_Leptolyngbya_Anagnostidis_et_Komarek_1988', '4_Genus_Opephora_Petit', '4_Genus_Pinnularia_Ehrenberg_2', '4_Genus_Schroederia_Lemmermann_1898', '4_Genus_Stephanodiscus_Ehrenberg', '4_Genus_Synechocystis_Sauvageau_1892', '4_Genus_Tortitaenia_A_J_Brook_1998', '5_Genus_Caloneis_Cleve', '5_Genus_Coenocystis_Korshikov_1953', '5_Genus_Planktolyngbya_Anagnostidis_et_Komarek_1988', '5_Genus_Tabellaria_Ehrenberg', '5_Genus_Thalassiosira_Cleve', '5_Genus_Woronichinia_Elenkin_1933', '6_Genus_Anomoeoneis_Pfitzer', '6_Genus_Fragilaria_Lyngbye', '6_Genus_Gloeocystis_Nageli_1849', '6_Genus_Pseudanabaena_Lauterborn_1915', '6_Genus_Skeletonema_Greville', '7_Genus_Caloneis_Cleve', '7_Genus_Hannaea_Patrick', '8_Genus_Diploneis(Ehrenberg)_Cleve', '8_Genus_Pseudostaurosira_Williams_and_Round', '9_Genus_Neidium_Pfitzer', '9_Genus_Punctastriata_Williams_and_Round']\n"
          ]
        }
      ]
    },
    {
      "cell_type": "code",
      "metadata": {
        "id": "o-0DvzEHt8VE"
      },
      "source": [
        "data_generator = ImageDataGenerator(rescale = 1./255)\n",
        "\n",
        "data_dir = \"/content/drive/MyDrive/Colab Notebooks/Final_Project/Cell_Genus\""
      ],
      "execution_count": null,
      "outputs": []
    },
    {
      "cell_type": "code",
      "metadata": {
        "id": "7aTCfEm3t10n"
      },
      "source": [
        "batch_size = 32\n",
        "img_height = 180\n",
        "img_width = 180"
      ],
      "execution_count": null,
      "outputs": []
    },
    {
      "cell_type": "code",
      "metadata": {
        "colab": {
          "base_uri": "https://localhost:8080/"
        },
        "id": "9Smg-miEt22s",
        "outputId": "0ef4607a-91d6-4023-df34-04808e64aa68"
      },
      "source": [
        "train_ds = tf.keras.preprocessing.image_dataset_from_directory(\n",
        "  data_dir,\n",
        "  color_mode = \"grayscale\",\n",
        "  validation_split=0.2,\n",
        "  subset=\"training\",\n",
        "  seed=123,\n",
        "  image_size=(img_height, img_width),\n",
        "  batch_size=batch_size)"
      ],
      "execution_count": null,
      "outputs": [
        {
          "output_type": "stream",
          "name": "stdout",
          "text": [
            "Found 6226 files belonging to 107 classes.\n",
            "Using 4981 files for training.\n"
          ]
        }
      ]
    },
    {
      "cell_type": "code",
      "metadata": {
        "colab": {
          "base_uri": "https://localhost:8080/"
        },
        "id": "1nR0WdQGt44x",
        "outputId": "e256a347-2974-46a0-acc1-5f386b4d0496"
      },
      "source": [
        "val_ds = tf.keras.preprocessing.image_dataset_from_directory(\n",
        "  data_dir,\n",
        "  color_mode = \"grayscale\",\n",
        "  validation_split=0.2,\n",
        "  subset=\"validation\",\n",
        "  seed=123,\n",
        "  image_size=(img_height, img_width),\n",
        "  batch_size=batch_size)"
      ],
      "execution_count": null,
      "outputs": [
        {
          "output_type": "stream",
          "name": "stdout",
          "text": [
            "Found 6226 files belonging to 107 classes.\n",
            "Using 1245 files for validation.\n"
          ]
        }
      ]
    },
    {
      "cell_type": "code",
      "metadata": {
        "colab": {
          "base_uri": "https://localhost:8080/"
        },
        "id": "F-cz_CtGug8Y",
        "outputId": "37e33d25-b64d-4150-de03-6a7d56eaab84"
      },
      "source": [
        "class_names = train_ds.class_names\n",
        "print(class_names)"
      ],
      "execution_count": null,
      "outputs": [
        {
          "output_type": "stream",
          "name": "stdout",
          "text": [
            "['10_Genus_Stauroneis_Ehrenberg', '10_Genus_Staurosira_Ehrenberg', '11_Genus_Craspedostauros_E.J_Cox_1999', '11_Genus_Staurosirella_Williams_and_Round', '12_Genus_Caloneis_Cleve_1894', '12_Genus_Synedra_Ehrenberg', '13_Genus_Pinnularia_Ehrenberg_1843', '1_Genus_Acanthoceras_Honigmann', '1_Genus_Achnanthes_Bory', '1_Genus_Actinocyclus_Ehrenberg', '1_Genus_Aphanocapsa_Nageli_1849', '1_Genus_Asterionella_Hassall', '1_Genus_Aulacoseira', '1_Genus_Biremis_Mann_et_Cox_in_Round_Crawford_and_Mann', '1_Genus_Characium_A_Braun_in_Kutzing_1849', '1_Genus_Chroococcus_Nageli', '1_Genus_Closterium_Nitzsch_ex_Ralfs_1848', '1_Genus_Coelastrum_Nageli_1849', '1_Genus_Cylindrocystis_Meneghini_ex_de_Bary_1858', '1_Genus_Dictyosphaerium_Nageli_1849', '1_Genus_Docidium_Brebisson_ex_Ralfs_1848', '1_Genus_Eunotia_Ehrenberg', '1_Genus_Geitlerinema_(Anagnostidis_et_Komarek)_Anagnostidis_1989', '1_Genus_Gonatozygon_de_Bary_1856', '1_Genus_Hydrodictyon_Roth_1797', '1_Genus_Hydrosera_whampoensis', '1_Genus_Jaaginema_Anagnostidis_et_Komarek_1988', '1_Genus_Lyngbya_C_Agardh_ex_Gomont_1892', '1_Genus_Melosira_Agardh', '1_Genus_Micractinium_Fresenius_1858', '1_Genus_Micrasterias_Ralfs_1848', '1_Genus_Microcystis_Kutzing_ex_Lemmermann_1907', '1_Genus_Oscillatoria_Vaucher_ex_Gomont_1982', '1_Genus_Pediastrum_Meyen_1829', '1_Genus_Penium_Brebisson_ex_Ralfs_in_Ralfs_1848', '1_Genus_Phormidium_Kutzing_ex_Gomont_1892', '1_Genus_Planktothrix_Anagnostidis_et_Komarek_1988', '1_Genus_Pleurosira_laevis_(Ehrenberg)', '1_Genus_Rhizosolenia_Ehrenberg', '1_Genus_Schizochlamydella_Korshikov_1953', '1_Genus_Staurodesmus_Teiling_1848', '1_Genus_Trochiscia_Kutzing_1834', '1_Scenedesmus_Hegewald_1978', '2_Acutodesmus_Hegewald_1978', '2_Genus_Achnanthidium_Kutzing', '2_Genus_Actinastrum_Lagerheim_1882', '2_Genus_Actinella_Lewis', '2_Genus_Ankyra_Fott_1957', '2_Genus_Caloneis_Cleve', '2_Genus_Chaetoceros_Ehrenberg', '2_Genus_Coenochloris_Korshikov_1953', '2_Genus_Cyclotella', '2_Genus_Diatoma_Bory', '2_Genus_Dimorphococcus_A_Braun_1855', '2_Genus_Golenkinia_Chodat_1894', '2_Genus_Haplotaenium_Bando_1988', '2_Genus_Leibleinia_(Gomont)_L_Hoffman_1985', '2_Genus_Leptolyngbya_Anagnostidis_et_Komarek_1988', '2_Genus_Merismopedia_Meyen_1839', '2_Genus_Netrium_(Nageli)_Itzigsohn_et_Rothe_in_Rabenhorst_1856', '2_Genus_Orthoseira_Thwaites_1848', '2_Genus_Phormidium_Kutzing_ex_Gomont_1892', '2_Genus_Sorastrum_Kutzing_1845', '2_Genus_Staurastrum_Meyen_ex_Ralfs_1848', '3_Desmodesmus_Chodat_1926', '3_Genus_Acanthosphaera_Lemmerman_1899', '3_Genus_Anorthoneis_Grunow', '3_Genus_Cyclostephanos_Round', '3_Genus_Dichotomococcus_Korshikov_1928', '3_Genus_Heteroleibleinia_(Geitler)_L_Hoffmann_1985', '3_Genus_Limnothrix_Meffert_1988', '3_Genus_Meridion_Agardh', '3_Genus_Paradoxia_Svirenko_1928', '3_Genus_Peronia_Bebisson_and_Arnott_ex_Kitton', '3_Genus_Phormidiochaete_Komarek_in_Anagnostidis_2001', '3_Genus_Pinnularia_Ehrenberg_1', '3_Genus_Pleurotaenium_Nageli_1849', '3_Genus_Radiococcus_Schmidle_1902', '3_Genus_Snowella_Elenkin_1938', '3_Genus_Spirotaenia_Brebisson_in_Ralfs_1848', '4_Genus_Botryococcus_Kutzing_1849', '4_Genus_Cocconeis_Ehrenberg', '4_Genus_Eutetramorus_Walton_1918', '4_Genus_Leptolyngbya_Anagnostidis_et_Komarek_1988', '4_Genus_Opephora_Petit', '4_Genus_Pinnularia_Ehrenberg_2', '4_Genus_Schroederia_Lemmermann_1898', '4_Genus_Stephanodiscus_Ehrenberg', '4_Genus_Synechocystis_Sauvageau_1892', '4_Genus_Tortitaenia_A_J_Brook_1998', '5_Genus_Caloneis_Cleve', '5_Genus_Coenocystis_Korshikov_1953', '5_Genus_Planktolyngbya_Anagnostidis_et_Komarek_1988', '5_Genus_Tabellaria_Ehrenberg', '5_Genus_Thalassiosira_Cleve', '5_Genus_Woronichinia_Elenkin_1933', '6_Genus_Anomoeoneis_Pfitzer', '6_Genus_Fragilaria_Lyngbye', '6_Genus_Gloeocystis_Nageli_1849', '6_Genus_Pseudanabaena_Lauterborn_1915', '6_Genus_Skeletonema_Greville', '7_Genus_Caloneis_Cleve', '7_Genus_Hannaea_Patrick', '8_Genus_Diploneis(Ehrenberg)_Cleve', '8_Genus_Pseudostaurosira_Williams_and_Round', '9_Genus_Neidium_Pfitzer', '9_Genus_Punctastriata_Williams_and_Round']\n"
          ]
        }
      ]
    },
    {
      "cell_type": "code",
      "metadata": {
        "colab": {
          "base_uri": "https://localhost:8080/"
        },
        "id": "5EQOikPAukic",
        "outputId": "b9183943-408f-464b-bc94-ddec9f7760c2"
      },
      "source": [
        "for image_batch, labels_batch in train_ds:\n",
        "  print(image_batch.shape)\n",
        "  print(labels_batch.shape)\n",
        "  break"
      ],
      "execution_count": null,
      "outputs": [
        {
          "output_type": "stream",
          "name": "stdout",
          "text": [
            "(32, 180, 180, 1)\n",
            "(32,)\n"
          ]
        }
      ]
    },
    {
      "cell_type": "code",
      "metadata": {
        "id": "9eVl7tiDux9q"
      },
      "source": [
        "from tensorflow.keras import layers\n",
        "\n",
        "normalization_layer = tf.keras.layers.experimental.preprocessing.Rescaling(1./255)"
      ],
      "execution_count": null,
      "outputs": []
    },
    {
      "cell_type": "code",
      "metadata": {
        "colab": {
          "base_uri": "https://localhost:8080/"
        },
        "id": "AiIrsxzZuzEo",
        "outputId": "1f2757ba-ac47-421d-8001-26fd56a7a169"
      },
      "source": [
        "normalized_ds = train_ds.map(lambda x, y: (normalization_layer(x), y))\n",
        "image_batch, labels_batch = next(iter(normalized_ds))\n",
        "first_image = image_batch[0]\n",
        "# Notice the pixels values are now in `[0,1]`.\n",
        "print(np.min(first_image), np.max(first_image))"
      ],
      "execution_count": null,
      "outputs": [
        {
          "output_type": "stream",
          "name": "stdout",
          "text": [
            "0.0 1.0\n"
          ]
        }
      ]
    },
    {
      "cell_type": "code",
      "metadata": {
        "id": "__WbVabru0Bp"
      },
      "source": [
        "AUTOTUNE = tf.data.experimental.AUTOTUNE\n",
        "\n",
        "train_ds = train_ds.cache().prefetch(buffer_size=AUTOTUNE)\n",
        "val_ds = val_ds.cache().prefetch(buffer_size=AUTOTUNE)"
      ],
      "execution_count": null,
      "outputs": []
    },
    {
      "cell_type": "code",
      "metadata": {
        "id": "g1GeYFXCu2gV"
      },
      "source": [
        "num_classes = 107\n",
        "model = tf.keras.Sequential([\n",
        "    layers.experimental.preprocessing.Rescaling(1./255),\n",
        "    layers.Conv2D(64, 3,input_shape = image_batch, activation='relu'),\n",
        "    layers.MaxPooling2D(),\n",
        "    layers.Conv2D(64, 3, activation='relu'),\n",
        "    layers.MaxPooling2D(),\n",
        "    layers.Conv2D(64, 3, activation='relu'),\n",
        "    layers.MaxPooling2D(),\n",
        "    layers.Flatten(),\n",
        "    BatchNormalization(),\n",
        "    layers.Dense(128, activation='relu'),\n",
        "    BatchNormalization(),\n",
        "    layers.Dense(128, activation='relu'),\n",
        "    BatchNormalization(),\n",
        "    layers.Dense(128, activation='relu'),\n",
        "    BatchNormalization(),\n",
        "    layers.Dense(107, activation='softmax'),\n",
        "    BatchNormalization(),\n",
        "    layers.Dense(num_classes)\n",
        "    ])"
      ],
      "execution_count": null,
      "outputs": []
    },
    {
      "cell_type": "code",
      "metadata": {
        "id": "wU4xPAvNYWry"
      },
      "source": [
        "model.compile(\n",
        "    optimizer='adam',\n",
        "    loss=tf.losses.SparseCategoricalCrossentropy(from_logits=True),\n",
        "    metrics=['accuracy'])"
      ],
      "execution_count": null,
      "outputs": []
    },
    {
      "cell_type": "code",
      "metadata": {
        "colab": {
          "base_uri": "https://localhost:8080/"
        },
        "id": "Tk8ssrbHu44p",
        "outputId": "33440e6c-e3c5-41fd-bf37-d7edd8f12b64"
      },
      "source": [
        "epochs=50\n",
        "history = model.fit(\n",
        "  train_ds,\n",
        "  validation_data=val_ds,\n",
        "  epochs=epochs\n",
        ")"
      ],
      "execution_count": null,
      "outputs": [
        {
          "output_type": "stream",
          "name": "stdout",
          "text": [
            "Epoch 1/50\n",
            "156/156 [==============================] - 1820s 12s/step - loss: 3.3311 - accuracy: 0.2889 - val_loss: 4.2329 - val_accuracy: 0.1044\n",
            "Epoch 2/50\n",
            "156/156 [==============================] - 5s 30ms/step - loss: 2.2057 - accuracy: 0.4322 - val_loss: 3.7535 - val_accuracy: 0.2948\n",
            "Epoch 3/50\n",
            "156/156 [==============================] - 5s 29ms/step - loss: 1.6313 - accuracy: 0.5710 - val_loss: 2.9632 - val_accuracy: 0.4112\n",
            "Epoch 4/50\n",
            "156/156 [==============================] - 5s 29ms/step - loss: 1.1986 - accuracy: 0.7001 - val_loss: 2.5191 - val_accuracy: 0.3743\n",
            "Epoch 5/50\n",
            "156/156 [==============================] - 5s 29ms/step - loss: 0.9150 - accuracy: 0.7671 - val_loss: 2.6825 - val_accuracy: 0.3839\n",
            "Epoch 6/50\n",
            "156/156 [==============================] - 5s 29ms/step - loss: 0.6726 - accuracy: 0.8360 - val_loss: 2.2943 - val_accuracy: 0.4731\n",
            "Epoch 7/50\n",
            "156/156 [==============================] - 5s 29ms/step - loss: 0.4562 - accuracy: 0.8942 - val_loss: 2.1912 - val_accuracy: 0.4867\n",
            "Epoch 8/50\n",
            "156/156 [==============================] - 5s 29ms/step - loss: 0.3122 - accuracy: 0.9321 - val_loss: 2.5473 - val_accuracy: 0.4651\n",
            "Epoch 9/50\n",
            "156/156 [==============================] - 5s 29ms/step - loss: 0.2144 - accuracy: 0.9588 - val_loss: 2.2580 - val_accuracy: 0.5116\n",
            "Epoch 10/50\n",
            "156/156 [==============================] - 5s 29ms/step - loss: 0.1507 - accuracy: 0.9731 - val_loss: 2.3980 - val_accuracy: 0.5012\n",
            "Epoch 11/50\n",
            "156/156 [==============================] - 5s 29ms/step - loss: 0.1088 - accuracy: 0.9821 - val_loss: 2.4283 - val_accuracy: 0.5124\n",
            "Epoch 12/50\n",
            "156/156 [==============================] - 5s 29ms/step - loss: 0.0777 - accuracy: 0.9878 - val_loss: 2.3674 - val_accuracy: 0.5189\n",
            "Epoch 13/50\n",
            "156/156 [==============================] - 4s 29ms/step - loss: 0.0506 - accuracy: 0.9932 - val_loss: 2.3005 - val_accuracy: 0.5317\n",
            "Epoch 14/50\n",
            "156/156 [==============================] - 5s 29ms/step - loss: 0.0332 - accuracy: 0.9958 - val_loss: 2.3037 - val_accuracy: 0.5382\n",
            "Epoch 15/50\n",
            "156/156 [==============================] - 5s 29ms/step - loss: 0.0199 - accuracy: 0.9988 - val_loss: 2.2961 - val_accuracy: 0.5518\n",
            "Epoch 16/50\n",
            "156/156 [==============================] - 5s 29ms/step - loss: 0.0124 - accuracy: 0.9998 - val_loss: 2.3417 - val_accuracy: 0.5542\n",
            "Epoch 17/50\n",
            "156/156 [==============================] - 5s 29ms/step - loss: 0.0088 - accuracy: 0.9996 - val_loss: 2.3652 - val_accuracy: 0.5550\n",
            "Epoch 18/50\n",
            "156/156 [==============================] - 5s 30ms/step - loss: 0.0066 - accuracy: 0.9998 - val_loss: 2.3927 - val_accuracy: 0.5582\n",
            "Epoch 19/50\n",
            "156/156 [==============================] - 5s 29ms/step - loss: 0.0054 - accuracy: 0.9998 - val_loss: 2.4323 - val_accuracy: 0.5590\n",
            "Epoch 20/50\n",
            "156/156 [==============================] - 5s 30ms/step - loss: 0.0044 - accuracy: 1.0000 - val_loss: 2.4516 - val_accuracy: 0.5598\n",
            "Epoch 21/50\n",
            "156/156 [==============================] - 5s 29ms/step - loss: 0.0037 - accuracy: 1.0000 - val_loss: 2.4851 - val_accuracy: 0.5606\n",
            "Epoch 22/50\n",
            "156/156 [==============================] - 5s 29ms/step - loss: 0.0031 - accuracy: 1.0000 - val_loss: 2.5108 - val_accuracy: 0.5590\n",
            "Epoch 23/50\n",
            "156/156 [==============================] - 5s 29ms/step - loss: 0.0027 - accuracy: 1.0000 - val_loss: 2.5384 - val_accuracy: 0.5598\n",
            "Epoch 24/50\n",
            "156/156 [==============================] - 5s 29ms/step - loss: 0.0024 - accuracy: 1.0000 - val_loss: 2.5649 - val_accuracy: 0.5606\n",
            "Epoch 25/50\n",
            "156/156 [==============================] - 5s 29ms/step - loss: 0.0021 - accuracy: 1.0000 - val_loss: 2.5910 - val_accuracy: 0.5606\n",
            "Epoch 26/50\n",
            "156/156 [==============================] - 4s 29ms/step - loss: 0.0018 - accuracy: 1.0000 - val_loss: 2.6156 - val_accuracy: 0.5590\n",
            "Epoch 27/50\n",
            "156/156 [==============================] - 5s 29ms/step - loss: 0.0016 - accuracy: 1.0000 - val_loss: 2.6412 - val_accuracy: 0.5574\n",
            "Epoch 28/50\n",
            "156/156 [==============================] - 5s 29ms/step - loss: 0.0014 - accuracy: 1.0000 - val_loss: 2.6648 - val_accuracy: 0.5582\n",
            "Epoch 29/50\n",
            "156/156 [==============================] - 5s 29ms/step - loss: 0.0013 - accuracy: 1.0000 - val_loss: 2.6893 - val_accuracy: 0.5590\n",
            "Epoch 30/50\n",
            "156/156 [==============================] - 5s 29ms/step - loss: 0.0012 - accuracy: 1.0000 - val_loss: 2.7124 - val_accuracy: 0.5598\n",
            "Epoch 31/50\n",
            "156/156 [==============================] - 4s 29ms/step - loss: 0.0010 - accuracy: 1.0000 - val_loss: 2.7358 - val_accuracy: 0.5582\n",
            "Epoch 32/50\n",
            "156/156 [==============================] - 5s 29ms/step - loss: 9.3822e-04 - accuracy: 1.0000 - val_loss: 2.7587 - val_accuracy: 0.5566\n",
            "Epoch 33/50\n",
            "156/156 [==============================] - 5s 29ms/step - loss: 8.4706e-04 - accuracy: 1.0000 - val_loss: 2.7818 - val_accuracy: 0.5566\n",
            "Epoch 34/50\n",
            "156/156 [==============================] - 4s 29ms/step - loss: 7.6582e-04 - accuracy: 1.0000 - val_loss: 2.8041 - val_accuracy: 0.5574\n",
            "Epoch 35/50\n",
            "156/156 [==============================] - 5s 29ms/step - loss: 6.9334e-04 - accuracy: 1.0000 - val_loss: 2.8267 - val_accuracy: 0.5582\n",
            "Epoch 36/50\n",
            "156/156 [==============================] - 5s 29ms/step - loss: 6.2837e-04 - accuracy: 1.0000 - val_loss: 2.8490 - val_accuracy: 0.5582\n",
            "Epoch 37/50\n",
            "156/156 [==============================] - 5s 29ms/step - loss: 5.7010e-04 - accuracy: 1.0000 - val_loss: 2.8718 - val_accuracy: 0.5566\n",
            "Epoch 38/50\n",
            "156/156 [==============================] - 5s 29ms/step - loss: 5.1768e-04 - accuracy: 1.0000 - val_loss: 2.8937 - val_accuracy: 0.5566\n",
            "Epoch 39/50\n",
            "156/156 [==============================] - 4s 29ms/step - loss: 4.7055e-04 - accuracy: 1.0000 - val_loss: 2.9156 - val_accuracy: 0.5566\n",
            "Epoch 40/50\n",
            "156/156 [==============================] - 4s 29ms/step - loss: 4.2795e-04 - accuracy: 1.0000 - val_loss: 2.9377 - val_accuracy: 0.5566\n",
            "Epoch 41/50\n",
            "156/156 [==============================] - 5s 29ms/step - loss: 3.8954e-04 - accuracy: 1.0000 - val_loss: 2.9595 - val_accuracy: 0.5566\n",
            "Epoch 42/50\n",
            "156/156 [==============================] - 5s 29ms/step - loss: 3.5476e-04 - accuracy: 1.0000 - val_loss: 2.9809 - val_accuracy: 0.5550\n",
            "Epoch 43/50\n",
            "156/156 [==============================] - 5s 29ms/step - loss: 3.2330e-04 - accuracy: 1.0000 - val_loss: 3.0029 - val_accuracy: 0.5566\n",
            "Epoch 44/50\n",
            "156/156 [==============================] - 5s 29ms/step - loss: 2.9480e-04 - accuracy: 1.0000 - val_loss: 3.0245 - val_accuracy: 0.5566\n",
            "Epoch 45/50\n",
            "156/156 [==============================] - 5s 29ms/step - loss: 2.6893e-04 - accuracy: 1.0000 - val_loss: 3.0464 - val_accuracy: 0.5542\n",
            "Epoch 46/50\n",
            "156/156 [==============================] - 4s 29ms/step - loss: 2.4546e-04 - accuracy: 1.0000 - val_loss: 3.0675 - val_accuracy: 0.5550\n",
            "Epoch 47/50\n",
            "156/156 [==============================] - 5s 29ms/step - loss: 2.2416e-04 - accuracy: 1.0000 - val_loss: 3.0891 - val_accuracy: 0.5534\n",
            "Epoch 48/50\n",
            "156/156 [==============================] - 5s 29ms/step - loss: 2.0504e-04 - accuracy: 1.0000 - val_loss: 3.1104 - val_accuracy: 0.5526\n",
            "Epoch 49/50\n",
            "156/156 [==============================] - 5s 29ms/step - loss: 2.1242e-04 - accuracy: 1.0000 - val_loss: 3.1226 - val_accuracy: 0.5518\n",
            "Epoch 50/50\n",
            "156/156 [==============================] - 5s 29ms/step - loss: 4.6544e-04 - accuracy: 1.0000 - val_loss: 3.1892 - val_accuracy: 0.5510\n"
          ]
        }
      ]
    },
    {
      "cell_type": "code",
      "metadata": {
        "colab": {
          "base_uri": "https://localhost:8080/",
          "height": 499
        },
        "id": "f1z_vHocu59c",
        "outputId": "269f3bbe-3821-48b6-804b-74293bdef06d"
      },
      "source": [
        "acc = history.history['accuracy']\n",
        "val_acc = history.history['val_accuracy']\n",
        "\n",
        "loss=history.history['loss']\n",
        "val_loss=history.history['val_loss']\n",
        "\n",
        "epochs_range = range(epochs)\n",
        "\n",
        "plt.figure(figsize=(8, 8))\n",
        "plt.subplot(1, 2, 1)\n",
        "plt.plot(epochs_range, acc, label='Training Accuracy')\n",
        "plt.plot(epochs_range, val_acc, label='Validation Accuracy')\n",
        "plt.legend(loc='lower right')\n",
        "plt.title('Training and Validation Accuracy')\n",
        "\n",
        "plt.subplot(1, 2, 2)\n",
        "plt.plot(epochs_range, loss, label='Training Loss')\n",
        "plt.plot(epochs_range, val_loss, label='Validation Loss')\n",
        "plt.legend(loc='upper right')\n",
        "plt.title('Training and Validation Loss')\n",
        "plt.show()"
      ],
      "execution_count": null,
      "outputs": [
        {
          "output_type": "display_data",
          "data": {
            "image/png": "[encoded data removed]",
            "text/plain": [
              "<Figure size 576x576 with 2 Axes>"
            ]
          },
          "metadata": {
            "needs_background": "light"
          }
        }
      ]
    },
    {
      "cell_type": "code",
      "metadata": {
        "id": "XinJ6xXD9YNO"
      },
      "source": [
        "data_augmentation = keras.Sequential(\n",
        "  [\n",
        "    layers.experimental.preprocessing.RandomFlip(\"horizontal\", \n",
        "                                                 input_shape=(img_height, \n",
        "                                                              img_width,\n",
        "                                                              1)),\n",
        "    layers.experimental.preprocessing.RandomRotation(0.1),\n",
        "    layers.experimental.preprocessing.RandomZoom(0.1),\n",
        "  ]\n",
        ")"
      ],
      "execution_count": null,
      "outputs": []
    },
    {
      "cell_type": "code",
      "metadata": {
        "id": "8WT2BYElEYZj"
      },
      "source": [
        "model = Sequential([\n",
        "  data_augmentation,\n",
        "  layers.experimental.preprocessing.Rescaling(1./255),\n",
        "  layers.Conv2D(64, 3,input_shape = image_batch, activation='relu'),\n",
        "  layers.MaxPooling2D(),\n",
        "  layers.Conv2D(64, 3, padding='same', activation='relu'),\n",
        "  layers.MaxPooling2D(),\n",
        "  layers.Conv2D(64, 3, padding='same', activation='relu'),\n",
        "  layers.MaxPooling2D(),\n",
        "  layers.Dropout(0.2),\n",
        "  layers.Flatten(),\n",
        "  layers.Dense(128, activation='relu'),\n",
        "  BatchNormalization(),\n",
        "  layers.Dense(128, activation='relu'),\n",
        "  BatchNormalization(),\n",
        "  layers.Dense(128, activation='relu'),\n",
        "  BatchNormalization(),\n",
        "  layers.Dense(107, activation='softmax'),\n",
        "  BatchNormalization(),\n",
        "  layers.Dense(num_classes)\n",
        "])"
      ],
      "execution_count": null,
      "outputs": []
    },
    {
      "cell_type": "code",
      "metadata": {
        "id": "opOHP3auEdsw",
        "colab": {
          "base_uri": "https://localhost:8080/"
        },
        "outputId": "96fb1a32-9c5a-4797-f357-22ddffd6fd67"
      },
      "source": [
        "BatchNormalization(),model.compile(\n",
        "    optimizer='adam',\n",
        "    loss=tf.losses.SparseCategoricalCrossentropy(from_logits=True),\n",
        "    metrics=['accuracy'])"
      ],
      "execution_count": null,
      "outputs": [
        {
          "output_type": "execute_result",
          "data": {
            "text/plain": [
              "(<keras.layers.normalization.batch_normalization.BatchNormalization at 0x7fd0e627f190>,\n",
              " None)"
            ]
          },
          "metadata": {},
          "execution_count": 20
        }
      ]
    },
    {
      "cell_type": "code",
      "metadata": {
        "colab": {
          "base_uri": "https://localhost:8080/"
        },
        "id": "3Ay4tlHlEfBX",
        "outputId": "f9be5641-64a7-4728-d7a1-18f4a3a86121"
      },
      "source": [
        "model.summary()"
      ],
      "execution_count": null,
      "outputs": [
        {
          "output_type": "stream",
          "name": "stdout",
          "text": [
            "Model: \"sequential_2\"\n",
            "_________________________________________________________________\n",
            " Layer (type)                Output Shape              Param #   \n",
            "=================================================================\n",
            " sequential_1 (Sequential)   (None, 180, 180, 1)       0         \n",
            "                                                                 \n",
            " rescaling_2 (Rescaling)     (None, 180, 180, 1)       0         \n",
            "                                                                 \n",
            " conv2d_3 (Conv2D)           (None, 178, 178, 64)      640       \n",
            "                                                                 \n",
            " max_pooling2d_3 (MaxPooling  (None, 89, 89, 64)       0         \n",
            " 2D)                                                             \n",
            "                                                                 \n",
            " conv2d_4 (Conv2D)           (None, 89, 89, 64)        36928     \n",
            "                                                                 \n",
            " max_pooling2d_4 (MaxPooling  (None, 44, 44, 64)       0         \n",
            " 2D)                                                             \n",
            "                                                                 \n",
            " conv2d_5 (Conv2D)           (None, 44, 44, 64)        36928     \n",
            "                                                                 \n",
            " max_pooling2d_5 (MaxPooling  (None, 22, 22, 64)       0         \n",
            " 2D)                                                             \n",
            "                                                                 \n",
            " dropout (Dropout)           (None, 22, 22, 64)        0         \n",
            "                                                                 \n",
            " flatten_1 (Flatten)         (None, 30976)             0         \n",
            "                                                                 \n",
            " dense_5 (Dense)             (None, 128)               3965056   \n",
            "                                                                 \n",
            " batch_normalization_5 (Batc  (None, 128)              512       \n",
            " hNormalization)                                                 \n",
            "                                                                 \n",
            " dense_6 (Dense)             (None, 128)               16512     \n",
            "                                                                 \n",
            " batch_normalization_6 (Batc  (None, 128)              512       \n",
            " hNormalization)                                                 \n",
            "                                                                 \n",
            " dense_7 (Dense)             (None, 128)               16512     \n",
            "                                                                 \n",
            " batch_normalization_7 (Batc  (None, 128)              512       \n",
            " hNormalization)                                                 \n",
            "                                                                 \n",
            " dense_8 (Dense)             (None, 107)               13803     \n",
            "                                                                 \n",
            " batch_normalization_8 (Batc  (None, 107)              428       \n",
            " hNormalization)                                                 \n",
            "                                                                 \n",
            " dense_9 (Dense)             (None, 107)               11556     \n",
            "                                                                 \n",
            "=================================================================\n",
            "Total params: 4,099,899\n",
            "Trainable params: 4,098,917\n",
            "Non-trainable params: 982\n",
            "_________________________________________________________________\n"
          ]
        }
      ]
    },
    {
      "cell_type": "code",
      "metadata": {
        "colab": {
          "base_uri": "https://localhost:8080/"
        },
        "id": "Jc8rD_v9Ef41",
        "outputId": "e535ce99-7bfa-426c-f8f2-0c71dc220ef0"
      },
      "source": [
        "epochs = 50\n",
        "history = model.fit(\n",
        "  train_ds,\n",
        "  validation_data=val_ds,\n",
        "  epochs=epochs\n",
        ")"
      ],
      "execution_count": null,
      "outputs": [
        {
          "output_type": "stream",
          "name": "stdout",
          "text": [
            "Epoch 1/50\n",
            "156/156 [==============================] - 8s 34ms/step - loss: 3.6121 - accuracy: 0.2204 - val_loss: 4.1084 - val_accuracy: 0.1639\n",
            "Epoch 2/50\n",
            "156/156 [==============================] - 5s 31ms/step - loss: 2.6640 - accuracy: 0.3202 - val_loss: 3.6154 - val_accuracy: 0.2104\n",
            "Epoch 3/50\n",
            "156/156 [==============================] - 5s 31ms/step - loss: 2.3712 - accuracy: 0.3624 - val_loss: 3.0445 - val_accuracy: 0.2964\n",
            "Epoch 4/50\n",
            "156/156 [==============================] - 5s 31ms/step - loss: 2.1811 - accuracy: 0.3993 - val_loss: 2.5635 - val_accuracy: 0.3301\n",
            "Epoch 5/50\n",
            "156/156 [==============================] - 5s 31ms/step - loss: 2.0154 - accuracy: 0.4298 - val_loss: 2.3514 - val_accuracy: 0.3679\n",
            "Epoch 6/50\n",
            "156/156 [==============================] - 5s 32ms/step - loss: 1.8998 - accuracy: 0.4569 - val_loss: 2.5399 - val_accuracy: 0.3775\n",
            "Epoch 7/50\n",
            "156/156 [==============================] - 5s 31ms/step - loss: 1.7823 - accuracy: 0.4802 - val_loss: 2.4531 - val_accuracy: 0.3855\n",
            "Epoch 8/50\n",
            "156/156 [==============================] - 5s 31ms/step - loss: 1.6822 - accuracy: 0.5029 - val_loss: 2.3938 - val_accuracy: 0.4161\n",
            "Epoch 9/50\n",
            "156/156 [==============================] - 5s 31ms/step - loss: 1.5993 - accuracy: 0.5282 - val_loss: 2.3971 - val_accuracy: 0.4080\n",
            "Epoch 10/50\n",
            "156/156 [==============================] - 5s 32ms/step - loss: 1.5113 - accuracy: 0.5507 - val_loss: 2.3428 - val_accuracy: 0.4145\n",
            "Epoch 11/50\n",
            "156/156 [==============================] - 5s 31ms/step - loss: 1.4511 - accuracy: 0.5517 - val_loss: 2.0857 - val_accuracy: 0.4578\n",
            "Epoch 12/50\n",
            "156/156 [==============================] - 5s 31ms/step - loss: 1.3657 - accuracy: 0.5852 - val_loss: 2.4731 - val_accuracy: 0.4032\n",
            "Epoch 13/50\n",
            "156/156 [==============================] - 5s 31ms/step - loss: 1.3403 - accuracy: 0.5876 - val_loss: 2.4546 - val_accuracy: 0.4305\n",
            "Epoch 14/50\n",
            "156/156 [==============================] - 5s 31ms/step - loss: 1.2551 - accuracy: 0.6063 - val_loss: 2.2436 - val_accuracy: 0.4530\n",
            "Epoch 15/50\n",
            "156/156 [==============================] - 5s 31ms/step - loss: 1.2148 - accuracy: 0.6186 - val_loss: 2.3846 - val_accuracy: 0.4442\n",
            "Epoch 16/50\n",
            "156/156 [==============================] - 5s 31ms/step - loss: 1.1586 - accuracy: 0.6336 - val_loss: 2.2168 - val_accuracy: 0.4570\n",
            "Epoch 17/50\n",
            "156/156 [==============================] - 5s 31ms/step - loss: 1.1072 - accuracy: 0.6499 - val_loss: 2.5163 - val_accuracy: 0.4265\n",
            "Epoch 18/50\n",
            "156/156 [==============================] - 5s 32ms/step - loss: 1.0639 - accuracy: 0.6595 - val_loss: 2.4113 - val_accuracy: 0.4490\n",
            "Epoch 19/50\n",
            "156/156 [==============================] - 5s 32ms/step - loss: 1.0183 - accuracy: 0.6728 - val_loss: 2.2642 - val_accuracy: 0.4659\n",
            "Epoch 20/50\n",
            "156/156 [==============================] - 5s 32ms/step - loss: 0.9776 - accuracy: 0.6812 - val_loss: 2.1898 - val_accuracy: 0.4707\n",
            "Epoch 21/50\n",
            "156/156 [==============================] - 5s 32ms/step - loss: 0.9371 - accuracy: 0.6999 - val_loss: 2.1879 - val_accuracy: 0.4747\n",
            "Epoch 22/50\n",
            "156/156 [==============================] - 5s 31ms/step - loss: 0.8926 - accuracy: 0.7073 - val_loss: 1.9631 - val_accuracy: 0.5076\n",
            "Epoch 23/50\n",
            "156/156 [==============================] - 5s 31ms/step - loss: 0.8643 - accuracy: 0.7165 - val_loss: 2.4370 - val_accuracy: 0.4418\n",
            "Epoch 24/50\n",
            "156/156 [==============================] - 5s 31ms/step - loss: 0.8526 - accuracy: 0.7264 - val_loss: 2.4327 - val_accuracy: 0.4546\n",
            "Epoch 25/50\n",
            "156/156 [==============================] - 5s 31ms/step - loss: 0.8122 - accuracy: 0.7412 - val_loss: 2.3436 - val_accuracy: 0.4618\n",
            "Epoch 26/50\n",
            "156/156 [==============================] - 5s 31ms/step - loss: 0.7777 - accuracy: 0.7358 - val_loss: 2.4754 - val_accuracy: 0.4602\n",
            "Epoch 27/50\n",
            "156/156 [==============================] - 5s 32ms/step - loss: 0.7146 - accuracy: 0.7647 - val_loss: 2.2592 - val_accuracy: 0.4956\n",
            "Epoch 28/50\n",
            "156/156 [==============================] - 5s 32ms/step - loss: 0.7216 - accuracy: 0.7619 - val_loss: 2.5980 - val_accuracy: 0.4458\n",
            "Epoch 29/50\n",
            "156/156 [==============================] - 5s 32ms/step - loss: 0.6638 - accuracy: 0.7802 - val_loss: 2.3802 - val_accuracy: 0.4715\n",
            "Epoch 30/50\n",
            "156/156 [==============================] - 5s 31ms/step - loss: 0.6596 - accuracy: 0.7792 - val_loss: 2.4611 - val_accuracy: 0.4803\n",
            "Epoch 31/50\n",
            "156/156 [==============================] - 5s 32ms/step - loss: 0.6256 - accuracy: 0.7946 - val_loss: 2.7000 - val_accuracy: 0.4458\n",
            "Epoch 32/50\n",
            "156/156 [==============================] - 5s 32ms/step - loss: 0.5882 - accuracy: 0.8085 - val_loss: 3.3061 - val_accuracy: 0.4048\n",
            "Epoch 33/50\n",
            "156/156 [==============================] - 5s 32ms/step - loss: 0.5941 - accuracy: 0.8004 - val_loss: 2.3996 - val_accuracy: 0.4884\n",
            "Epoch 34/50\n",
            "156/156 [==============================] - 5s 31ms/step - loss: 0.5709 - accuracy: 0.8091 - val_loss: 2.4640 - val_accuracy: 0.4843\n",
            "Epoch 35/50\n",
            "156/156 [==============================] - 5s 31ms/step - loss: 0.5426 - accuracy: 0.8263 - val_loss: 2.7062 - val_accuracy: 0.4876\n",
            "Epoch 36/50\n",
            "156/156 [==============================] - 5s 32ms/step - loss: 0.5066 - accuracy: 0.8346 - val_loss: 2.8778 - val_accuracy: 0.4410\n",
            "Epoch 37/50\n",
            "156/156 [==============================] - 5s 31ms/step - loss: 0.4959 - accuracy: 0.8310 - val_loss: 2.7752 - val_accuracy: 0.4675\n",
            "Epoch 38/50\n",
            "156/156 [==============================] - 5s 32ms/step - loss: 0.5266 - accuracy: 0.8285 - val_loss: 2.6620 - val_accuracy: 0.4795\n",
            "Epoch 39/50\n",
            "156/156 [==============================] - 5s 32ms/step - loss: 0.4529 - accuracy: 0.8542 - val_loss: 2.8005 - val_accuracy: 0.4482\n",
            "Epoch 40/50\n",
            "156/156 [==============================] - 5s 32ms/step - loss: 0.4405 - accuracy: 0.8555 - val_loss: 2.4688 - val_accuracy: 0.5020\n",
            "Epoch 41/50\n",
            "156/156 [==============================] - 5s 32ms/step - loss: 0.4404 - accuracy: 0.8530 - val_loss: 2.5901 - val_accuracy: 0.5221\n",
            "Epoch 42/50\n",
            "156/156 [==============================] - 5s 31ms/step - loss: 0.4360 - accuracy: 0.8528 - val_loss: 3.1672 - val_accuracy: 0.4434\n",
            "Epoch 43/50\n",
            "156/156 [==============================] - 5s 32ms/step - loss: 0.4381 - accuracy: 0.8520 - val_loss: 2.5681 - val_accuracy: 0.4908\n",
            "Epoch 44/50\n",
            "156/156 [==============================] - 5s 31ms/step - loss: 0.3908 - accuracy: 0.8733 - val_loss: 3.0772 - val_accuracy: 0.4651\n",
            "Epoch 45/50\n",
            "156/156 [==============================] - 5s 31ms/step - loss: 0.3719 - accuracy: 0.8771 - val_loss: 3.0164 - val_accuracy: 0.4683\n",
            "Epoch 46/50\n",
            "156/156 [==============================] - 5s 32ms/step - loss: 0.3573 - accuracy: 0.8826 - val_loss: 3.3131 - val_accuracy: 0.4410\n",
            "Epoch 47/50\n",
            "156/156 [==============================] - 5s 31ms/step - loss: 0.3643 - accuracy: 0.8807 - val_loss: 2.7146 - val_accuracy: 0.5020\n",
            "Epoch 48/50\n",
            "156/156 [==============================] - 5s 32ms/step - loss: 0.3684 - accuracy: 0.8737 - val_loss: 2.6470 - val_accuracy: 0.4948\n",
            "Epoch 49/50\n",
            "156/156 [==============================] - 5s 31ms/step - loss: 0.3477 - accuracy: 0.8874 - val_loss: 3.1229 - val_accuracy: 0.4691\n",
            "Epoch 50/50\n",
            "156/156 [==============================] - 5s 31ms/step - loss: 0.3327 - accuracy: 0.8920 - val_loss: 3.0793 - val_accuracy: 0.4707\n"
          ]
        }
      ]
    },
    {
      "cell_type": "code",
      "metadata": {
        "colab": {
          "base_uri": "https://localhost:8080/",
          "height": 499
        },
        "id": "ynhS2KjVEhj8",
        "outputId": "86c08be5-a118-4c09-8818-a0aafbaf266e"
      },
      "source": [
        "acc = history.history['accuracy']\n",
        "val_acc = history.history['val_accuracy']\n",
        "\n",
        "loss = history.history['loss']\n",
        "val_loss = history.history['val_loss']\n",
        "\n",
        "epochs_range = range(epochs)\n",
        "\n",
        "plt.figure(figsize=(8, 8))\n",
        "plt.subplot(1, 2, 1)\n",
        "plt.plot(epochs_range, acc, label='Training Accuracy')\n",
        "plt.plot(epochs_range, val_acc, label='Validation Accuracy')\n",
        "plt.legend(loc='lower right')\n",
        "plt.title('Training and Validation Accuracy')\n",
        "\n",
        "plt.subplot(1, 2, 2)\n",
        "plt.plot(epochs_range, loss, label='Training Loss')\n",
        "plt.plot(epochs_range, val_loss, label='Validation Loss')\n",
        "plt.legend(loc='upper right')\n",
        "plt.title('Training and Validation Loss')\n",
        "plt.show()"
      ],
      "execution_count": null,
      "outputs": [
        {
          "output_type": "display_data",
          "data": {
            "image/png": "[encoded data removed]",
            "text/plain": [
              "<Figure size 576x576 with 2 Axes>"
            ]
          },
          "metadata": {
            "needs_background": "light"
          }
        }
      ]
    },
    {
      "cell_type": "code",
      "metadata": {
        "colab": {
          "base_uri": "https://localhost:8080/"
        },
        "id": "IbEQMrsAH2yZ",
        "outputId": "48eeeda4-8515-4bcb-e53a-b81d05947f1b"
      },
      "source": [
        "model.compile(\n",
        "    optimizer='adam',\n",
        "    loss=tf.losses.SparseCategoricalCrossentropy(from_logits=True),\n",
        "    metrics=['accuracy'])\n",
        "model.summary()"
      ],
      "execution_count": null,
      "outputs": [
        {
          "output_type": "stream",
          "name": "stdout",
          "text": [
            "Model: \"sequential_2\"\n",
            "_________________________________________________________________\n",
            " Layer (type)                Output Shape              Param #   \n",
            "=================================================================\n",
            " sequential_1 (Sequential)   (None, 180, 180, 1)       0         \n",
            "                                                                 \n",
            " rescaling_2 (Rescaling)     (None, 180, 180, 1)       0         \n",
            "                                                                 \n",
            " conv2d_3 (Conv2D)           (None, 178, 178, 64)      640       \n",
            "                                                                 \n",
            " max_pooling2d_3 (MaxPooling  (None, 89, 89, 64)       0         \n",
            " 2D)                                                             \n",
            "                                                                 \n",
            " conv2d_4 (Conv2D)           (None, 89, 89, 64)        36928     \n",
            "                                                                 \n",
            " max_pooling2d_4 (MaxPooling  (None, 44, 44, 64)       0         \n",
            " 2D)                                                             \n",
            "                                                                 \n",
            " conv2d_5 (Conv2D)           (None, 44, 44, 64)        36928     \n",
            "                                                                 \n",
            " max_pooling2d_5 (MaxPooling  (None, 22, 22, 64)       0         \n",
            " 2D)                                                             \n",
            "                                                                 \n",
            " dropout (Dropout)           (None, 22, 22, 64)        0         \n",
            "                                                                 \n",
            " flatten_1 (Flatten)         (None, 30976)             0         \n",
            "                                                                 \n",
            " dense_5 (Dense)             (None, 128)               3965056   \n",
            "                                                                 \n",
            " batch_normalization_5 (Batc  (None, 128)              512       \n",
            " hNormalization)                                                 \n",
            "                                                                 \n",
            " dense_6 (Dense)             (None, 128)               16512     \n",
            "                                                                 \n",
            " batch_normalization_6 (Batc  (None, 128)              512       \n",
            " hNormalization)                                                 \n",
            "                                                                 \n",
            " dense_7 (Dense)             (None, 128)               16512     \n",
            "                                                                 \n",
            " batch_normalization_7 (Batc  (None, 128)              512       \n",
            " hNormalization)                                                 \n",
            "                                                                 \n",
            " dense_8 (Dense)             (None, 107)               13803     \n",
            "                                                                 \n",
            " batch_normalization_8 (Batc  (None, 107)              428       \n",
            " hNormalization)                                                 \n",
            "                                                                 \n",
            " dense_9 (Dense)             (None, 107)               11556     \n",
            "                                                                 \n",
            "=================================================================\n",
            "Total params: 4,099,899\n",
            "Trainable params: 4,098,917\n",
            "Non-trainable params: 982\n",
            "_________________________________________________________________\n"
          ]
        }
      ]
    },
    {
      "cell_type": "code",
      "metadata": {
        "id": "df30HUqFjWre"
      },
      "source": [
        ""
      ],
      "execution_count": null,
      "outputs": []
    }
  ]
}