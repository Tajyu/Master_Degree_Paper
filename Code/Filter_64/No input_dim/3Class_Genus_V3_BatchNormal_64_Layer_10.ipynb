{
  "nbformat": 4,
  "nbformat_minor": 0,
  "metadata": {
    "colab": {
      "name": "3Class_Genus_V3_BatchNormal_64_Layer_10.ipynb",
      "provenance": [],
      "collapsed_sections": [],
      "mount_file_id": "1wwkyhZwpc131U61vutnxY5hDlKUKnSOl",
      "authorship_tag": "ABX9TyMKNWotPihrv94w55HpDqyr",
      "include_colab_link": true
    },
    "kernelspec": {
      "name": "python3",
      "display_name": "Python 3"
    },
    "language_info": {
      "name": "python"
    },
    "accelerator": "GPU"
  },
  "cells": [
    {
      "cell_type": "markdown",
      "metadata": {
        "id": "view-in-github",
        "colab_type": "text"
      },
      "source": [
        "<a href=\"https://colab.research.google.com/github/Tajyu/Master_Degree_Paper/blob/main/Code/Filter_64/No%20input_dim/3Class_Genus_V3_BatchNormal_64_Layer_10.ipynb\" target=\"_parent\"><img src=\"https://colab.research.google.com/assets/colab-badge.svg\" alt=\"Open In Colab\"/></a>"
      ]
    },
    {
      "cell_type": "code",
      "metadata": {
        "id": "yWckd06_68Em"
      },
      "source": [
        "import tensorflow as tf\n",
        "from tensorflow.keras import datasets, layers, models\n",
        "from keras.preprocessing.image import ImageDataGenerator\n",
        "import numpy as np\n",
        "import matplotlib.pyplot as plt\n",
        "import cv2 as cv\n",
        "import os\n",
        "import pathlib\n",
        "import PIL\n",
        "from tensorflow import keras\n",
        "from tensorflow.keras import layers\n",
        "from tensorflow.keras.models import Sequential\n",
        "from tensorflow.keras.layers import Dense, Flatten, BatchNormalization, Dropout"
      ],
      "execution_count": null,
      "outputs": []
    },
    {
      "cell_type": "code",
      "metadata": {
        "id": "xav9zirHttk_"
      },
      "source": [
        "image_list = os.listdir('/content/drive/MyDrive/Colab Notebooks/Final_Project/Cell_Genus')"
      ],
      "execution_count": null,
      "outputs": []
    },
    {
      "cell_type": "code",
      "metadata": {
        "colab": {
          "base_uri": "https://localhost:8080/"
        },
        "id": "K-wD0dM5tx_E",
        "outputId": "65ed0608-bace-478b-81c8-81b0be5fd37a"
      },
      "source": [
        "print(image_list)"
      ],
      "execution_count": null,
      "outputs": [
        {
          "output_type": "stream",
          "name": "stdout",
          "text": [
            "['10_Genus_Stauroneis_Ehrenberg', '10_Genus_Staurosira_Ehrenberg', '11_Genus_Craspedostauros_E.J_Cox_1999', '11_Genus_Staurosirella_Williams_and_Round', '12_Genus_Caloneis_Cleve_1894', '12_Genus_Synedra_Ehrenberg', '13_Genus_Pinnularia_Ehrenberg_1843', '1_Genus_Acanthoceras_Honigmann', '1_Genus_Achnanthes_Bory', '1_Genus_Actinocyclus_Ehrenberg', '1_Genus_Aphanocapsa_Nageli_1849', '1_Genus_Asterionella_Hassall', '1_Genus_Aulacoseira', '1_Genus_Biremis_Mann_et_Cox_in_Round_Crawford_and_Mann', '1_Genus_Characium_A_Braun_in_Kutzing_1849', '1_Genus_Chroococcus_Nageli', '1_Genus_Closterium_Nitzsch_ex_Ralfs_1848', '1_Genus_Coelastrum_Nageli_1849', '1_Genus_Cylindrocystis_Meneghini_ex_de_Bary_1858', '1_Genus_Dictyosphaerium_Nageli_1849', '1_Genus_Docidium_Brebisson_ex_Ralfs_1848', '1_Genus_Eunotia_Ehrenberg', '1_Genus_Geitlerinema_(Anagnostidis_et_Komarek)_Anagnostidis_1989', '1_Genus_Gonatozygon_de_Bary_1856', '1_Genus_Hydrodictyon_Roth_1797', '1_Genus_Hydrosera_whampoensis', '1_Genus_Jaaginema_Anagnostidis_et_Komarek_1988', '1_Genus_Lyngbya_C_Agardh_ex_Gomont_1892', '1_Genus_Melosira_Agardh', '1_Genus_Micractinium_Fresenius_1858', '1_Genus_Micrasterias_Ralfs_1848', '1_Genus_Microcystis_Kutzing_ex_Lemmermann_1907', '1_Genus_Oscillatoria_Vaucher_ex_Gomont_1982', '1_Genus_Pediastrum_Meyen_1829', '1_Genus_Penium_Brebisson_ex_Ralfs_in_Ralfs_1848', '1_Genus_Phormidium_Kutzing_ex_Gomont_1892', '1_Genus_Planktothrix_Anagnostidis_et_Komarek_1988', '1_Genus_Pleurosira_laevis_(Ehrenberg)', '1_Genus_Rhizosolenia_Ehrenberg', '1_Genus_Schizochlamydella_Korshikov_1953', '1_Genus_Staurodesmus_Teiling_1848', '1_Genus_Trochiscia_Kutzing_1834', '1_Scenedesmus_Hegewald_1978', '2_Acutodesmus_Hegewald_1978', '2_Genus_Achnanthidium_Kutzing', '2_Genus_Actinastrum_Lagerheim_1882', '2_Genus_Actinella_Lewis', '2_Genus_Ankyra_Fott_1957', '2_Genus_Caloneis_Cleve', '2_Genus_Chaetoceros_Ehrenberg', '2_Genus_Coenochloris_Korshikov_1953', '2_Genus_Cyclotella', '2_Genus_Diatoma_Bory', '2_Genus_Dimorphococcus_A_Braun_1855', '2_Genus_Golenkinia_Chodat_1894', '2_Genus_Haplotaenium_Bando_1988', '2_Genus_Leibleinia_(Gomont)_L_Hoffman_1985', '2_Genus_Leptolyngbya_Anagnostidis_et_Komarek_1988', '2_Genus_Merismopedia_Meyen_1839', '2_Genus_Netrium_(Nageli)_Itzigsohn_et_Rothe_in_Rabenhorst_1856', '2_Genus_Orthoseira_Thwaites_1848', '2_Genus_Phormidium_Kutzing_ex_Gomont_1892', '2_Genus_Sorastrum_Kutzing_1845', '2_Genus_Staurastrum_Meyen_ex_Ralfs_1848', '3_Desmodesmus_Chodat_1926', '3_Genus_Acanthosphaera_Lemmerman_1899', '3_Genus_Anorthoneis_Grunow', '3_Genus_Cyclostephanos_Round', '3_Genus_Dichotomococcus_Korshikov_1928', '3_Genus_Heteroleibleinia_(Geitler)_L_Hoffmann_1985', '3_Genus_Limnothrix_Meffert_1988', '3_Genus_Meridion_Agardh', '3_Genus_Paradoxia_Svirenko_1928', '3_Genus_Peronia_Bebisson_and_Arnott_ex_Kitton', '3_Genus_Phormidiochaete_Komarek_in_Anagnostidis_2001', '3_Genus_Pinnularia_Ehrenberg_1', '3_Genus_Pleurotaenium_Nageli_1849', '3_Genus_Radiococcus_Schmidle_1902', '3_Genus_Snowella_Elenkin_1938', '3_Genus_Spirotaenia_Brebisson_in_Ralfs_1848', '4_Genus_Botryococcus_Kutzing_1849', '4_Genus_Cocconeis_Ehrenberg', '4_Genus_Eutetramorus_Walton_1918', '4_Genus_Leptolyngbya_Anagnostidis_et_Komarek_1988', '4_Genus_Opephora_Petit', '4_Genus_Pinnularia_Ehrenberg_2', '4_Genus_Schroederia_Lemmermann_1898', '4_Genus_Stephanodiscus_Ehrenberg', '4_Genus_Synechocystis_Sauvageau_1892', '4_Genus_Tortitaenia_A_J_Brook_1998', '5_Genus_Caloneis_Cleve', '5_Genus_Coenocystis_Korshikov_1953', '5_Genus_Planktolyngbya_Anagnostidis_et_Komarek_1988', '5_Genus_Tabellaria_Ehrenberg', '5_Genus_Thalassiosira_Cleve', '5_Genus_Woronichinia_Elenkin_1933', '6_Genus_Anomoeoneis_Pfitzer', '6_Genus_Fragilaria_Lyngbye', '6_Genus_Gloeocystis_Nageli_1849', '6_Genus_Pseudanabaena_Lauterborn_1915', '6_Genus_Skeletonema_Greville', '7_Genus_Caloneis_Cleve', '7_Genus_Hannaea_Patrick', '8_Genus_Diploneis(Ehrenberg)_Cleve', '8_Genus_Pseudostaurosira_Williams_and_Round', '9_Genus_Neidium_Pfitzer', '9_Genus_Punctastriata_Williams_and_Round']\n"
          ]
        }
      ]
    },
    {
      "cell_type": "code",
      "metadata": {
        "id": "o-0DvzEHt8VE"
      },
      "source": [
        "data_generator = ImageDataGenerator(rescale = 1./255)\n",
        "\n",
        "data_dir = \"/content/drive/MyDrive/Colab Notebooks/Final_Project/Cell_Genus\""
      ],
      "execution_count": null,
      "outputs": []
    },
    {
      "cell_type": "code",
      "metadata": {
        "id": "7aTCfEm3t10n"
      },
      "source": [
        "batch_size = 32\n",
        "img_height = 180\n",
        "img_width = 180"
      ],
      "execution_count": null,
      "outputs": []
    },
    {
      "cell_type": "code",
      "metadata": {
        "id": "9Smg-miEt22s",
        "colab": {
          "base_uri": "https://localhost:8080/"
        },
        "outputId": "2dcd88d1-9530-488f-ff6a-4cfd79a9b7e7"
      },
      "source": [
        "train_ds = tf.keras.preprocessing.image_dataset_from_directory(\n",
        "  data_dir,\n",
        "  color_mode = \"grayscale\",\n",
        "  validation_split=0.2,\n",
        "  subset=\"training\",\n",
        "  seed=123,\n",
        "  image_size=(img_height, img_width),\n",
        "  batch_size=batch_size)"
      ],
      "execution_count": null,
      "outputs": [
        {
          "output_type": "stream",
          "name": "stdout",
          "text": [
            "Found 6226 files belonging to 107 classes.\n",
            "Using 4981 files for training.\n"
          ]
        }
      ]
    },
    {
      "cell_type": "code",
      "metadata": {
        "id": "1nR0WdQGt44x",
        "colab": {
          "base_uri": "https://localhost:8080/"
        },
        "outputId": "c6f76bbc-a6db-4490-f527-3aa743ede833"
      },
      "source": [
        "val_ds = tf.keras.preprocessing.image_dataset_from_directory(\n",
        "  data_dir,\n",
        "  color_mode = \"grayscale\",\n",
        "  validation_split=0.2,\n",
        "  subset=\"validation\",\n",
        "  seed=123,\n",
        "  image_size=(img_height, img_width),\n",
        "  batch_size=batch_size)"
      ],
      "execution_count": null,
      "outputs": [
        {
          "output_type": "stream",
          "name": "stdout",
          "text": [
            "Found 6226 files belonging to 107 classes.\n",
            "Using 1245 files for validation.\n"
          ]
        }
      ]
    },
    {
      "cell_type": "code",
      "metadata": {
        "id": "F-cz_CtGug8Y",
        "colab": {
          "base_uri": "https://localhost:8080/"
        },
        "outputId": "77c5346a-726e-4fc7-ff1c-ff2297b37e56"
      },
      "source": [
        "class_names = train_ds.class_names\n",
        "print(class_names)"
      ],
      "execution_count": null,
      "outputs": [
        {
          "output_type": "stream",
          "name": "stdout",
          "text": [
            "['10_Genus_Stauroneis_Ehrenberg', '10_Genus_Staurosira_Ehrenberg', '11_Genus_Craspedostauros_E.J_Cox_1999', '11_Genus_Staurosirella_Williams_and_Round', '12_Genus_Caloneis_Cleve_1894', '12_Genus_Synedra_Ehrenberg', '13_Genus_Pinnularia_Ehrenberg_1843', '1_Genus_Acanthoceras_Honigmann', '1_Genus_Achnanthes_Bory', '1_Genus_Actinocyclus_Ehrenberg', '1_Genus_Aphanocapsa_Nageli_1849', '1_Genus_Asterionella_Hassall', '1_Genus_Aulacoseira', '1_Genus_Biremis_Mann_et_Cox_in_Round_Crawford_and_Mann', '1_Genus_Characium_A_Braun_in_Kutzing_1849', '1_Genus_Chroococcus_Nageli', '1_Genus_Closterium_Nitzsch_ex_Ralfs_1848', '1_Genus_Coelastrum_Nageli_1849', '1_Genus_Cylindrocystis_Meneghini_ex_de_Bary_1858', '1_Genus_Dictyosphaerium_Nageli_1849', '1_Genus_Docidium_Brebisson_ex_Ralfs_1848', '1_Genus_Eunotia_Ehrenberg', '1_Genus_Geitlerinema_(Anagnostidis_et_Komarek)_Anagnostidis_1989', '1_Genus_Gonatozygon_de_Bary_1856', '1_Genus_Hydrodictyon_Roth_1797', '1_Genus_Hydrosera_whampoensis', '1_Genus_Jaaginema_Anagnostidis_et_Komarek_1988', '1_Genus_Lyngbya_C_Agardh_ex_Gomont_1892', '1_Genus_Melosira_Agardh', '1_Genus_Micractinium_Fresenius_1858', '1_Genus_Micrasterias_Ralfs_1848', '1_Genus_Microcystis_Kutzing_ex_Lemmermann_1907', '1_Genus_Oscillatoria_Vaucher_ex_Gomont_1982', '1_Genus_Pediastrum_Meyen_1829', '1_Genus_Penium_Brebisson_ex_Ralfs_in_Ralfs_1848', '1_Genus_Phormidium_Kutzing_ex_Gomont_1892', '1_Genus_Planktothrix_Anagnostidis_et_Komarek_1988', '1_Genus_Pleurosira_laevis_(Ehrenberg)', '1_Genus_Rhizosolenia_Ehrenberg', '1_Genus_Schizochlamydella_Korshikov_1953', '1_Genus_Staurodesmus_Teiling_1848', '1_Genus_Trochiscia_Kutzing_1834', '1_Scenedesmus_Hegewald_1978', '2_Acutodesmus_Hegewald_1978', '2_Genus_Achnanthidium_Kutzing', '2_Genus_Actinastrum_Lagerheim_1882', '2_Genus_Actinella_Lewis', '2_Genus_Ankyra_Fott_1957', '2_Genus_Caloneis_Cleve', '2_Genus_Chaetoceros_Ehrenberg', '2_Genus_Coenochloris_Korshikov_1953', '2_Genus_Cyclotella', '2_Genus_Diatoma_Bory', '2_Genus_Dimorphococcus_A_Braun_1855', '2_Genus_Golenkinia_Chodat_1894', '2_Genus_Haplotaenium_Bando_1988', '2_Genus_Leibleinia_(Gomont)_L_Hoffman_1985', '2_Genus_Leptolyngbya_Anagnostidis_et_Komarek_1988', '2_Genus_Merismopedia_Meyen_1839', '2_Genus_Netrium_(Nageli)_Itzigsohn_et_Rothe_in_Rabenhorst_1856', '2_Genus_Orthoseira_Thwaites_1848', '2_Genus_Phormidium_Kutzing_ex_Gomont_1892', '2_Genus_Sorastrum_Kutzing_1845', '2_Genus_Staurastrum_Meyen_ex_Ralfs_1848', '3_Desmodesmus_Chodat_1926', '3_Genus_Acanthosphaera_Lemmerman_1899', '3_Genus_Anorthoneis_Grunow', '3_Genus_Cyclostephanos_Round', '3_Genus_Dichotomococcus_Korshikov_1928', '3_Genus_Heteroleibleinia_(Geitler)_L_Hoffmann_1985', '3_Genus_Limnothrix_Meffert_1988', '3_Genus_Meridion_Agardh', '3_Genus_Paradoxia_Svirenko_1928', '3_Genus_Peronia_Bebisson_and_Arnott_ex_Kitton', '3_Genus_Phormidiochaete_Komarek_in_Anagnostidis_2001', '3_Genus_Pinnularia_Ehrenberg_1', '3_Genus_Pleurotaenium_Nageli_1849', '3_Genus_Radiococcus_Schmidle_1902', '3_Genus_Snowella_Elenkin_1938', '3_Genus_Spirotaenia_Brebisson_in_Ralfs_1848', '4_Genus_Botryococcus_Kutzing_1849', '4_Genus_Cocconeis_Ehrenberg', '4_Genus_Eutetramorus_Walton_1918', '4_Genus_Leptolyngbya_Anagnostidis_et_Komarek_1988', '4_Genus_Opephora_Petit', '4_Genus_Pinnularia_Ehrenberg_2', '4_Genus_Schroederia_Lemmermann_1898', '4_Genus_Stephanodiscus_Ehrenberg', '4_Genus_Synechocystis_Sauvageau_1892', '4_Genus_Tortitaenia_A_J_Brook_1998', '5_Genus_Caloneis_Cleve', '5_Genus_Coenocystis_Korshikov_1953', '5_Genus_Planktolyngbya_Anagnostidis_et_Komarek_1988', '5_Genus_Tabellaria_Ehrenberg', '5_Genus_Thalassiosira_Cleve', '5_Genus_Woronichinia_Elenkin_1933', '6_Genus_Anomoeoneis_Pfitzer', '6_Genus_Fragilaria_Lyngbye', '6_Genus_Gloeocystis_Nageli_1849', '6_Genus_Pseudanabaena_Lauterborn_1915', '6_Genus_Skeletonema_Greville', '7_Genus_Caloneis_Cleve', '7_Genus_Hannaea_Patrick', '8_Genus_Diploneis(Ehrenberg)_Cleve', '8_Genus_Pseudostaurosira_Williams_and_Round', '9_Genus_Neidium_Pfitzer', '9_Genus_Punctastriata_Williams_and_Round']\n"
          ]
        }
      ]
    },
    {
      "cell_type": "code",
      "metadata": {
        "id": "5EQOikPAukic",
        "colab": {
          "base_uri": "https://localhost:8080/"
        },
        "outputId": "aeed6ec0-e309-4700-e78f-4b29c32e463c"
      },
      "source": [
        "for image_batch, labels_batch in train_ds:\n",
        "  print(image_batch.shape)\n",
        "  print(labels_batch.shape)\n",
        "  break"
      ],
      "execution_count": null,
      "outputs": [
        {
          "output_type": "stream",
          "name": "stdout",
          "text": [
            "(32, 180, 180, 1)\n",
            "(32,)\n"
          ]
        }
      ]
    },
    {
      "cell_type": "code",
      "metadata": {
        "id": "9eVl7tiDux9q"
      },
      "source": [
        "from tensorflow.keras import layers\n",
        "\n",
        "normalization_layer = tf.keras.layers.experimental.preprocessing.Rescaling(1./255)"
      ],
      "execution_count": null,
      "outputs": []
    },
    {
      "cell_type": "code",
      "metadata": {
        "id": "AiIrsxzZuzEo",
        "colab": {
          "base_uri": "https://localhost:8080/"
        },
        "outputId": "c578ceed-c14c-4ba5-aa6c-7960ea9e0583"
      },
      "source": [
        "normalized_ds = train_ds.map(lambda x, y: (normalization_layer(x), y))\n",
        "image_batch, labels_batch = next(iter(normalized_ds))\n",
        "first_image = image_batch[0]\n",
        "# Notice the pixels values are now in `[0,1]`.\n",
        "print(np.min(first_image), np.max(first_image))"
      ],
      "execution_count": null,
      "outputs": [
        {
          "output_type": "stream",
          "name": "stdout",
          "text": [
            "0.0 1.0\n"
          ]
        }
      ]
    },
    {
      "cell_type": "code",
      "metadata": {
        "id": "__WbVabru0Bp"
      },
      "source": [
        "AUTOTUNE = tf.data.experimental.AUTOTUNE\n",
        "\n",
        "train_ds = train_ds.cache().prefetch(buffer_size=AUTOTUNE)\n",
        "val_ds = val_ds.cache().prefetch(buffer_size=AUTOTUNE)"
      ],
      "execution_count": null,
      "outputs": []
    },
    {
      "cell_type": "code",
      "metadata": {
        "id": "g1GeYFXCu2gV"
      },
      "source": [
        "num_classes = 107\n",
        "model = tf.keras.Sequential([\n",
        "    layers.experimental.preprocessing.Rescaling(1./255),\n",
        "    layers.Conv2D(64, 3,input_shape = image_batch, activation='relu'),\n",
        "    layers.MaxPooling2D(),\n",
        "    layers.Conv2D(64, 3, activation='relu'),\n",
        "    layers.MaxPooling2D(),\n",
        "    layers.Conv2D(64, 3, activation='relu'),\n",
        "    layers.MaxPooling2D(),\n",
        "    layers.Flatten(),\n",
        "    BatchNormalization(),\n",
        "    layers.Dense(128, activation='relu'),\n",
        "    BatchNormalization(),\n",
        "    layers.Dense(128, activation='relu'),\n",
        "    BatchNormalization(),\n",
        "    layers.Dense(128, activation='relu'),\n",
        "    BatchNormalization(),\n",
        "    layers.Dense(128, activation='relu'),\n",
        "    BatchNormalization(),\n",
        "    layers.Dense(128, activation='relu'),\n",
        "    BatchNormalization(),\n",
        "    layers.Dense(128, activation='relu'),\n",
        "    BatchNormalization(),\n",
        "    layers.Dense(128, activation='relu'),\n",
        "    BatchNormalization(),\n",
        "    layers.Dense(128, activation='relu'),\n",
        "    BatchNormalization(),\n",
        "    layers.Dense(128, activation='relu'),\n",
        "    BatchNormalization(),\n",
        "    layers.Dense(107, activation='softmax'),\n",
        "    BatchNormalization(),\n",
        "    layers.Dense(num_classes)\n",
        "    ])"
      ],
      "execution_count": null,
      "outputs": []
    },
    {
      "cell_type": "code",
      "metadata": {
        "id": "wU4xPAvNYWry"
      },
      "source": [
        "model.compile(\n",
        "    optimizer='adam',\n",
        "    loss=tf.losses.SparseCategoricalCrossentropy(from_logits=True),\n",
        "    metrics=['accuracy'])"
      ],
      "execution_count": null,
      "outputs": []
    },
    {
      "cell_type": "code",
      "metadata": {
        "id": "Tk8ssrbHu44p",
        "colab": {
          "base_uri": "https://localhost:8080/"
        },
        "outputId": "a6c8e84d-3653-479e-846b-a1210f4fac53"
      },
      "source": [
        "epochs=50\n",
        "history = model.fit(\n",
        "  train_ds,\n",
        "  validation_data=val_ds,\n",
        "  epochs=epochs\n",
        ")"
      ],
      "execution_count": null,
      "outputs": [
        {
          "output_type": "stream",
          "name": "stdout",
          "text": [
            "Epoch 1/50\n",
            "156/156 [==============================] - 718s 5s/step - loss: 3.8628 - accuracy: 0.1945 - val_loss: 4.2094 - val_accuracy: 0.1076\n",
            "Epoch 2/50\n",
            "156/156 [==============================] - 5s 29ms/step - loss: 2.7662 - accuracy: 0.3158 - val_loss: 3.6287 - val_accuracy: 0.2675\n",
            "Epoch 3/50\n",
            "156/156 [==============================] - 5s 29ms/step - loss: 2.3914 - accuracy: 0.3788 - val_loss: 3.2111 - val_accuracy: 0.2586\n",
            "Epoch 4/50\n",
            "156/156 [==============================] - 5s 29ms/step - loss: 2.1273 - accuracy: 0.4240 - val_loss: 2.3692 - val_accuracy: 0.4056\n",
            "Epoch 5/50\n",
            "156/156 [==============================] - 5s 29ms/step - loss: 1.8853 - accuracy: 0.4752 - val_loss: 2.3984 - val_accuracy: 0.3871\n",
            "Epoch 6/50\n",
            "156/156 [==============================] - 5s 29ms/step - loss: 1.6703 - accuracy: 0.5250 - val_loss: 2.5902 - val_accuracy: 0.3687\n",
            "Epoch 7/50\n",
            "156/156 [==============================] - 5s 29ms/step - loss: 1.4796 - accuracy: 0.5814 - val_loss: 2.2875 - val_accuracy: 0.4209\n",
            "Epoch 8/50\n",
            "156/156 [==============================] - 5s 29ms/step - loss: 1.2990 - accuracy: 0.6390 - val_loss: 2.3858 - val_accuracy: 0.4482\n",
            "Epoch 9/50\n",
            "156/156 [==============================] - 5s 29ms/step - loss: 1.1323 - accuracy: 0.6709 - val_loss: 2.3711 - val_accuracy: 0.4426\n",
            "Epoch 10/50\n",
            "156/156 [==============================] - 5s 29ms/step - loss: 1.0366 - accuracy: 0.7021 - val_loss: 2.5842 - val_accuracy: 0.4337\n",
            "Epoch 11/50\n",
            "156/156 [==============================] - 5s 29ms/step - loss: 0.8950 - accuracy: 0.7474 - val_loss: 2.5697 - val_accuracy: 0.4369\n",
            "Epoch 12/50\n",
            "156/156 [==============================] - 5s 29ms/step - loss: 0.7820 - accuracy: 0.7784 - val_loss: 2.4577 - val_accuracy: 0.4594\n",
            "Epoch 13/50\n",
            "156/156 [==============================] - 5s 29ms/step - loss: 0.7004 - accuracy: 0.7940 - val_loss: 2.5088 - val_accuracy: 0.4819\n",
            "Epoch 14/50\n",
            "156/156 [==============================] - 5s 29ms/step - loss: 0.6259 - accuracy: 0.8155 - val_loss: 2.7297 - val_accuracy: 0.4554\n",
            "Epoch 15/50\n",
            "156/156 [==============================] - 5s 29ms/step - loss: 0.5311 - accuracy: 0.8500 - val_loss: 2.5944 - val_accuracy: 0.4819\n",
            "Epoch 16/50\n",
            "156/156 [==============================] - 5s 29ms/step - loss: 0.4921 - accuracy: 0.8623 - val_loss: 2.8659 - val_accuracy: 0.4394\n",
            "Epoch 17/50\n",
            "156/156 [==============================] - 5s 29ms/step - loss: 0.4262 - accuracy: 0.8791 - val_loss: 2.9344 - val_accuracy: 0.4659\n",
            "Epoch 18/50\n",
            "156/156 [==============================] - 5s 29ms/step - loss: 0.3646 - accuracy: 0.8946 - val_loss: 2.9791 - val_accuracy: 0.4715\n",
            "Epoch 19/50\n",
            "156/156 [==============================] - 5s 29ms/step - loss: 0.3273 - accuracy: 0.9101 - val_loss: 2.8541 - val_accuracy: 0.4843\n",
            "Epoch 20/50\n",
            "156/156 [==============================] - 5s 29ms/step - loss: 0.2926 - accuracy: 0.9193 - val_loss: 3.2184 - val_accuracy: 0.4618\n",
            "Epoch 21/50\n",
            "156/156 [==============================] - 5s 29ms/step - loss: 0.3014 - accuracy: 0.9193 - val_loss: 3.2552 - val_accuracy: 0.4506\n",
            "Epoch 22/50\n",
            "156/156 [==============================] - 5s 29ms/step - loss: 0.2872 - accuracy: 0.9187 - val_loss: 3.0695 - val_accuracy: 0.4835\n",
            "Epoch 23/50\n",
            "156/156 [==============================] - 5s 29ms/step - loss: 0.2701 - accuracy: 0.9237 - val_loss: 3.2435 - val_accuracy: 0.4779\n",
            "Epoch 24/50\n",
            "156/156 [==============================] - 5s 29ms/step - loss: 0.2099 - accuracy: 0.9400 - val_loss: 3.7529 - val_accuracy: 0.4281\n",
            "Epoch 25/50\n",
            "156/156 [==============================] - 5s 29ms/step - loss: 0.1972 - accuracy: 0.9438 - val_loss: 3.2926 - val_accuracy: 0.4779\n",
            "Epoch 26/50\n",
            "156/156 [==============================] - 5s 29ms/step - loss: 0.1995 - accuracy: 0.9452 - val_loss: 3.2556 - val_accuracy: 0.4908\n",
            "Epoch 27/50\n",
            "156/156 [==============================] - 5s 29ms/step - loss: 0.2108 - accuracy: 0.9402 - val_loss: 3.4454 - val_accuracy: 0.4867\n",
            "Epoch 28/50\n",
            "156/156 [==============================] - 5s 29ms/step - loss: 0.1829 - accuracy: 0.9496 - val_loss: 3.3525 - val_accuracy: 0.4683\n",
            "Epoch 29/50\n",
            "156/156 [==============================] - 5s 29ms/step - loss: 0.1554 - accuracy: 0.9600 - val_loss: 3.2117 - val_accuracy: 0.4964\n",
            "Epoch 30/50\n",
            "156/156 [==============================] - 5s 29ms/step - loss: 0.1248 - accuracy: 0.9653 - val_loss: 3.1741 - val_accuracy: 0.5133\n",
            "Epoch 31/50\n",
            "156/156 [==============================] - 5s 29ms/step - loss: 0.1183 - accuracy: 0.9661 - val_loss: 3.3771 - val_accuracy: 0.4948\n",
            "Epoch 32/50\n",
            "156/156 [==============================] - 5s 29ms/step - loss: 0.1199 - accuracy: 0.9685 - val_loss: 3.5634 - val_accuracy: 0.4651\n",
            "Epoch 33/50\n",
            "156/156 [==============================] - 5s 29ms/step - loss: 0.1092 - accuracy: 0.9709 - val_loss: 3.8553 - val_accuracy: 0.4378\n",
            "Epoch 34/50\n",
            "156/156 [==============================] - 5s 29ms/step - loss: 0.1489 - accuracy: 0.9572 - val_loss: 3.8185 - val_accuracy: 0.4466\n",
            "Epoch 35/50\n",
            "156/156 [==============================] - 5s 29ms/step - loss: 0.1472 - accuracy: 0.9586 - val_loss: 4.4794 - val_accuracy: 0.4016\n",
            "Epoch 36/50\n",
            "156/156 [==============================] - 5s 29ms/step - loss: 0.1249 - accuracy: 0.9685 - val_loss: 3.4226 - val_accuracy: 0.5020\n",
            "Epoch 37/50\n",
            "156/156 [==============================] - 5s 29ms/step - loss: 0.1255 - accuracy: 0.9679 - val_loss: 3.9134 - val_accuracy: 0.4699\n",
            "Epoch 38/50\n",
            "156/156 [==============================] - 5s 30ms/step - loss: 0.1145 - accuracy: 0.9671 - val_loss: 3.4920 - val_accuracy: 0.4900\n",
            "Epoch 39/50\n",
            "156/156 [==============================] - 5s 31ms/step - loss: 0.1207 - accuracy: 0.9635 - val_loss: 3.5959 - val_accuracy: 0.5100\n",
            "Epoch 40/50\n",
            "156/156 [==============================] - 5s 30ms/step - loss: 0.0894 - accuracy: 0.9753 - val_loss: 3.6604 - val_accuracy: 0.5004\n",
            "Epoch 41/50\n",
            "156/156 [==============================] - 5s 29ms/step - loss: 0.1023 - accuracy: 0.9723 - val_loss: 3.6071 - val_accuracy: 0.4924\n",
            "Epoch 42/50\n",
            "156/156 [==============================] - 5s 29ms/step - loss: 0.1229 - accuracy: 0.9651 - val_loss: 3.9825 - val_accuracy: 0.4835\n",
            "Epoch 43/50\n",
            "156/156 [==============================] - 5s 29ms/step - loss: 0.1185 - accuracy: 0.9663 - val_loss: 3.7007 - val_accuracy: 0.4948\n",
            "Epoch 44/50\n",
            "156/156 [==============================] - 5s 29ms/step - loss: 0.1176 - accuracy: 0.9677 - val_loss: 3.7780 - val_accuracy: 0.4763\n",
            "Epoch 45/50\n",
            "156/156 [==============================] - 5s 29ms/step - loss: 0.0900 - accuracy: 0.9751 - val_loss: 3.8295 - val_accuracy: 0.4803\n",
            "Epoch 46/50\n",
            "156/156 [==============================] - 5s 29ms/step - loss: 0.0832 - accuracy: 0.9775 - val_loss: 3.8699 - val_accuracy: 0.4988\n",
            "Epoch 47/50\n",
            "156/156 [==============================] - 5s 29ms/step - loss: 0.1308 - accuracy: 0.9669 - val_loss: 3.6928 - val_accuracy: 0.5108\n",
            "Epoch 48/50\n",
            "156/156 [==============================] - 5s 29ms/step - loss: 0.1085 - accuracy: 0.9711 - val_loss: 3.7496 - val_accuracy: 0.4972\n",
            "Epoch 49/50\n",
            "156/156 [==============================] - 5s 29ms/step - loss: 0.0741 - accuracy: 0.9785 - val_loss: 3.6933 - val_accuracy: 0.5060\n",
            "Epoch 50/50\n",
            "156/156 [==============================] - 5s 29ms/step - loss: 0.0592 - accuracy: 0.9874 - val_loss: 3.9292 - val_accuracy: 0.4892\n"
          ]
        }
      ]
    },
    {
      "cell_type": "code",
      "metadata": {
        "id": "f1z_vHocu59c",
        "colab": {
          "base_uri": "https://localhost:8080/",
          "height": 499
        },
        "outputId": "61e5573c-3e72-41f7-fc26-f309ff90f192"
      },
      "source": [
        "acc = history.history['accuracy']\n",
        "val_acc = history.history['val_accuracy']\n",
        "\n",
        "loss=history.history['loss']\n",
        "val_loss=history.history['val_loss']\n",
        "\n",
        "epochs_range = range(epochs)\n",
        "\n",
        "plt.figure(figsize=(8, 8))\n",
        "plt.subplot(1, 2, 1)\n",
        "plt.plot(epochs_range, acc, label='Training Accuracy')\n",
        "plt.plot(epochs_range, val_acc, label='Validation Accuracy')\n",
        "plt.legend(loc='lower right')\n",
        "plt.title('Training and Validation Accuracy')\n",
        "\n",
        "plt.subplot(1, 2, 2)\n",
        "plt.plot(epochs_range, loss, label='Training Loss')\n",
        "plt.plot(epochs_range, val_loss, label='Validation Loss')\n",
        "plt.legend(loc='upper right')\n",
        "plt.title('Training and Validation Loss')\n",
        "plt.show()"
      ],
      "execution_count": null,
      "outputs": [
        {
          "output_type": "display_data",
          "data": {
            "image/png": "[encoded data removed]",
            "text/plain": [
              "<Figure size 576x576 with 2 Axes>"
            ]
          },
          "metadata": {
            "needs_background": "light"
          }
        }
      ]
    },
    {
      "cell_type": "code",
      "metadata": {
        "id": "XinJ6xXD9YNO"
      },
      "source": [
        "data_augmentation = keras.Sequential(\n",
        "  [\n",
        "    layers.experimental.preprocessing.RandomFlip(\"horizontal\", \n",
        "                                                 input_shape=(img_height, \n",
        "                                                              img_width,\n",
        "                                                              1)),\n",
        "    layers.experimental.preprocessing.RandomRotation(0.1),\n",
        "    layers.experimental.preprocessing.RandomZoom(0.1),\n",
        "  ]\n",
        ")"
      ],
      "execution_count": null,
      "outputs": []
    },
    {
      "cell_type": "code",
      "metadata": {
        "id": "8WT2BYElEYZj"
      },
      "source": [
        "model = Sequential([\n",
        "  data_augmentation,\n",
        "  layers.experimental.preprocessing.Rescaling(1./255),\n",
        "  layers.Conv2D(64, 3,input_shape = image_batch, activation='relu'),\n",
        "  layers.MaxPooling2D(),\n",
        "  layers.Conv2D(64, 3, padding='same', activation='relu'),\n",
        "  layers.MaxPooling2D(),\n",
        "  layers.Conv2D(64, 3, padding='same', activation='relu'),\n",
        "  layers.MaxPooling2D(),\n",
        "  layers.Dropout(0.2),\n",
        "  layers.Flatten(),\n",
        "  layers.Dense(128, activation='relu'),\n",
        "  BatchNormalization(),\n",
        "  layers.Dense(128, activation='relu'),\n",
        "  BatchNormalization(),\n",
        "  layers.Dense(128, activation='relu'),\n",
        "  BatchNormalization(),\n",
        "  layers.Dense(128, activation='relu'),\n",
        "  BatchNormalization(),\n",
        "  layers.Dense(128, activation='relu'),\n",
        "  BatchNormalization(),\n",
        "  layers.Dense(128, activation='relu'),\n",
        "  BatchNormalization(),\n",
        "  layers.Dense(128, activation='relu'),\n",
        "  BatchNormalization(),\n",
        "  layers.Dense(128, activation='relu'),\n",
        "  BatchNormalization(),\n",
        "  layers.Dense(128, activation='relu'),\n",
        "  BatchNormalization(),\n",
        "  layers.Dense(107, activation='softmax'),\n",
        "  BatchNormalization(),\n",
        "  layers.Dense(num_classes)\n",
        "])"
      ],
      "execution_count": null,
      "outputs": []
    },
    {
      "cell_type": "code",
      "metadata": {
        "colab": {
          "base_uri": "https://localhost:8080/"
        },
        "id": "kgdvU5ds7E-1",
        "outputId": "78acb2c7-cfb3-46f1-ee59-e71ee9549f93"
      },
      "source": [
        "from google.colab import drive\n",
        "drive.mount('/content/drive')"
      ],
      "execution_count": null,
      "outputs": [
        {
          "output_type": "stream",
          "name": "stdout",
          "text": [
            "Drive already mounted at /content/drive; to attempt to forcibly remount, call drive.mount(\"/content/drive\", force_remount=True).\n"
          ]
        }
      ]
    },
    {
      "cell_type": "code",
      "metadata": {
        "id": "opOHP3auEdsw",
        "colab": {
          "base_uri": "https://localhost:8080/"
        },
        "outputId": "a873c81b-c146-4733-a0df-5801d606ba00"
      },
      "source": [
        "BatchNormalization(),model.compile(\n",
        "    optimizer='adam',\n",
        "    loss=tf.losses.SparseCategoricalCrossentropy(from_logits=True),\n",
        "    metrics=['accuracy'])"
      ],
      "execution_count": null,
      "outputs": [
        {
          "output_type": "execute_result",
          "data": {
            "text/plain": [
              "(<keras.layers.normalization.batch_normalization.BatchNormalization at 0x7f8af01aa050>,\n",
              " None)"
            ]
          },
          "metadata": {},
          "execution_count": 20
        }
      ]
    },
    {
      "cell_type": "code",
      "metadata": {
        "id": "3Ay4tlHlEfBX",
        "colab": {
          "base_uri": "https://localhost:8080/"
        },
        "outputId": "ce7c85fb-dbde-4a3a-dc62-829bd80e8979"
      },
      "source": [
        "model.summary()"
      ],
      "execution_count": null,
      "outputs": [
        {
          "output_type": "stream",
          "name": "stdout",
          "text": [
            "Model: \"sequential_2\"\n",
            "_________________________________________________________________\n",
            " Layer (type)                Output Shape              Param #   \n",
            "=================================================================\n",
            " sequential_1 (Sequential)   (None, 180, 180, 1)       0         \n",
            "                                                                 \n",
            " rescaling_2 (Rescaling)     (None, 180, 180, 1)       0         \n",
            "                                                                 \n",
            " conv2d_3 (Conv2D)           (None, 178, 178, 64)      640       \n",
            "                                                                 \n",
            " max_pooling2d_3 (MaxPooling  (None, 89, 89, 64)       0         \n",
            " 2D)                                                             \n",
            "                                                                 \n",
            " conv2d_4 (Conv2D)           (None, 89, 89, 64)        36928     \n",
            "                                                                 \n",
            " max_pooling2d_4 (MaxPooling  (None, 44, 44, 64)       0         \n",
            " 2D)                                                             \n",
            "                                                                 \n",
            " conv2d_5 (Conv2D)           (None, 44, 44, 64)        36928     \n",
            "                                                                 \n",
            " max_pooling2d_5 (MaxPooling  (None, 22, 22, 64)       0         \n",
            " 2D)                                                             \n",
            "                                                                 \n",
            " dropout (Dropout)           (None, 22, 22, 64)        0         \n",
            "                                                                 \n",
            " flatten_1 (Flatten)         (None, 30976)             0         \n",
            "                                                                 \n",
            " dense_11 (Dense)            (None, 128)               3965056   \n",
            "                                                                 \n",
            " batch_normalization_11 (Bat  (None, 128)              512       \n",
            " chNormalization)                                                \n",
            "                                                                 \n",
            " dense_12 (Dense)            (None, 128)               16512     \n",
            "                                                                 \n",
            " batch_normalization_12 (Bat  (None, 128)              512       \n",
            " chNormalization)                                                \n",
            "                                                                 \n",
            " dense_13 (Dense)            (None, 128)               16512     \n",
            "                                                                 \n",
            " batch_normalization_13 (Bat  (None, 128)              512       \n",
            " chNormalization)                                                \n",
            "                                                                 \n",
            " dense_14 (Dense)            (None, 128)               16512     \n",
            "                                                                 \n",
            " batch_normalization_14 (Bat  (None, 128)              512       \n",
            " chNormalization)                                                \n",
            "                                                                 \n",
            " dense_15 (Dense)            (None, 128)               16512     \n",
            "                                                                 \n",
            " batch_normalization_15 (Bat  (None, 128)              512       \n",
            " chNormalization)                                                \n",
            "                                                                 \n",
            " dense_16 (Dense)            (None, 128)               16512     \n",
            "                                                                 \n",
            " batch_normalization_16 (Bat  (None, 128)              512       \n",
            " chNormalization)                                                \n",
            "                                                                 \n",
            " dense_17 (Dense)            (None, 128)               16512     \n",
            "                                                                 \n",
            " batch_normalization_17 (Bat  (None, 128)              512       \n",
            " chNormalization)                                                \n",
            "                                                                 \n",
            " dense_18 (Dense)            (None, 128)               16512     \n",
            "                                                                 \n",
            " batch_normalization_18 (Bat  (None, 128)              512       \n",
            " chNormalization)                                                \n",
            "                                                                 \n",
            " dense_19 (Dense)            (None, 128)               16512     \n",
            "                                                                 \n",
            " batch_normalization_19 (Bat  (None, 128)              512       \n",
            " chNormalization)                                                \n",
            "                                                                 \n",
            " dense_20 (Dense)            (None, 107)               13803     \n",
            "                                                                 \n",
            " batch_normalization_20 (Bat  (None, 107)              428       \n",
            " chNormalization)                                                \n",
            "                                                                 \n",
            " dense_21 (Dense)            (None, 107)               11556     \n",
            "                                                                 \n",
            "=================================================================\n",
            "Total params: 4,202,043\n",
            "Trainable params: 4,199,525\n",
            "Non-trainable params: 2,518\n",
            "_________________________________________________________________\n"
          ]
        }
      ]
    },
    {
      "cell_type": "code",
      "metadata": {
        "id": "Jc8rD_v9Ef41",
        "colab": {
          "base_uri": "https://localhost:8080/"
        },
        "outputId": "bbfc3334-fca9-4900-948b-e3084f720d54"
      },
      "source": [
        "epochs = 50\n",
        "history = model.fit(\n",
        "  train_ds,\n",
        "  validation_data=val_ds,\n",
        "  epochs=epochs\n",
        ")"
      ],
      "execution_count": null,
      "outputs": [
        {
          "output_type": "stream",
          "name": "stdout",
          "text": [
            "Epoch 1/50\n",
            "156/156 [==============================] - 8s 35ms/step - loss: 3.9760 - accuracy: 0.1578 - val_loss: 4.1897 - val_accuracy: 0.1406\n",
            "Epoch 2/50\n",
            "156/156 [==============================] - 5s 31ms/step - loss: 3.1221 - accuracy: 0.2445 - val_loss: 3.8673 - val_accuracy: 0.1896\n",
            "Epoch 3/50\n",
            "156/156 [==============================] - 5s 31ms/step - loss: 2.8291 - accuracy: 0.2736 - val_loss: 3.3668 - val_accuracy: 0.2386\n",
            "Epoch 4/50\n",
            "156/156 [==============================] - 5s 31ms/step - loss: 2.6793 - accuracy: 0.3011 - val_loss: 3.6848 - val_accuracy: 0.1743\n",
            "Epoch 5/50\n",
            "156/156 [==============================] - 5s 31ms/step - loss: 2.5292 - accuracy: 0.3232 - val_loss: 3.0870 - val_accuracy: 0.2707\n",
            "Epoch 6/50\n",
            "156/156 [==============================] - 5s 31ms/step - loss: 2.4168 - accuracy: 0.3381 - val_loss: 3.2341 - val_accuracy: 0.2386\n",
            "Epoch 7/50\n",
            "156/156 [==============================] - 5s 31ms/step - loss: 2.3365 - accuracy: 0.3493 - val_loss: 3.3388 - val_accuracy: 0.2514\n",
            "Epoch 8/50\n",
            "156/156 [==============================] - 5s 31ms/step - loss: 2.2416 - accuracy: 0.3700 - val_loss: 3.4739 - val_accuracy: 0.2458\n",
            "Epoch 9/50\n",
            "156/156 [==============================] - 5s 31ms/step - loss: 2.1825 - accuracy: 0.3825 - val_loss: 3.6383 - val_accuracy: 0.2361\n",
            "Epoch 10/50\n",
            "156/156 [==============================] - 5s 31ms/step - loss: 2.1216 - accuracy: 0.3855 - val_loss: 2.9418 - val_accuracy: 0.3044\n",
            "Epoch 11/50\n",
            "156/156 [==============================] - 5s 31ms/step - loss: 2.0633 - accuracy: 0.4017 - val_loss: 3.3020 - val_accuracy: 0.2554\n",
            "Epoch 12/50\n",
            "156/156 [==============================] - 5s 31ms/step - loss: 2.0154 - accuracy: 0.4130 - val_loss: 2.7739 - val_accuracy: 0.3076\n",
            "Epoch 13/50\n",
            "156/156 [==============================] - 5s 31ms/step - loss: 1.9628 - accuracy: 0.4186 - val_loss: 2.6394 - val_accuracy: 0.3687\n",
            "Epoch 14/50\n",
            "156/156 [==============================] - 5s 31ms/step - loss: 1.8830 - accuracy: 0.4461 - val_loss: 2.7084 - val_accuracy: 0.3438\n",
            "Epoch 15/50\n",
            "156/156 [==============================] - 5s 31ms/step - loss: 1.8622 - accuracy: 0.4543 - val_loss: 3.2769 - val_accuracy: 0.2964\n",
            "Epoch 16/50\n",
            "156/156 [==============================] - 5s 31ms/step - loss: 1.8032 - accuracy: 0.4569 - val_loss: 3.2397 - val_accuracy: 0.3028\n",
            "Epoch 17/50\n",
            "156/156 [==============================] - 5s 31ms/step - loss: 1.7355 - accuracy: 0.4678 - val_loss: 3.1456 - val_accuracy: 0.3068\n",
            "Epoch 18/50\n",
            "156/156 [==============================] - 5s 31ms/step - loss: 1.7111 - accuracy: 0.4754 - val_loss: 2.6441 - val_accuracy: 0.3711\n",
            "Epoch 19/50\n",
            "156/156 [==============================] - 5s 31ms/step - loss: 1.6630 - accuracy: 0.4850 - val_loss: 2.5365 - val_accuracy: 0.4000\n",
            "Epoch 20/50\n",
            "156/156 [==============================] - 5s 31ms/step - loss: 1.6191 - accuracy: 0.4957 - val_loss: 2.4602 - val_accuracy: 0.4000\n",
            "Epoch 21/50\n",
            "156/156 [==============================] - 5s 31ms/step - loss: 1.5880 - accuracy: 0.5097 - val_loss: 3.5125 - val_accuracy: 0.2843\n",
            "Epoch 22/50\n",
            "156/156 [==============================] - 5s 31ms/step - loss: 1.5270 - accuracy: 0.5210 - val_loss: 2.6612 - val_accuracy: 0.4016\n",
            "Epoch 23/50\n",
            "156/156 [==============================] - 5s 31ms/step - loss: 1.5244 - accuracy: 0.5300 - val_loss: 2.6931 - val_accuracy: 0.3944\n",
            "Epoch 24/50\n",
            "156/156 [==============================] - 5s 31ms/step - loss: 1.4554 - accuracy: 0.5423 - val_loss: 2.9210 - val_accuracy: 0.3663\n",
            "Epoch 25/50\n",
            "156/156 [==============================] - 5s 31ms/step - loss: 1.4346 - accuracy: 0.5483 - val_loss: 2.6505 - val_accuracy: 0.3855\n",
            "Epoch 26/50\n",
            "156/156 [==============================] - 5s 31ms/step - loss: 1.3976 - accuracy: 0.5589 - val_loss: 2.4068 - val_accuracy: 0.4369\n",
            "Epoch 27/50\n",
            "156/156 [==============================] - 5s 31ms/step - loss: 1.3542 - accuracy: 0.5696 - val_loss: 2.6906 - val_accuracy: 0.3936\n",
            "Epoch 28/50\n",
            "156/156 [==============================] - 5s 31ms/step - loss: 1.3120 - accuracy: 0.5814 - val_loss: 2.3187 - val_accuracy: 0.4273\n",
            "Epoch 29/50\n",
            "156/156 [==============================] - 5s 31ms/step - loss: 1.2975 - accuracy: 0.5808 - val_loss: 2.7205 - val_accuracy: 0.3936\n",
            "Epoch 30/50\n",
            "156/156 [==============================] - 5s 31ms/step - loss: 1.2711 - accuracy: 0.5890 - val_loss: 2.5149 - val_accuracy: 0.4337\n",
            "Epoch 31/50\n",
            "156/156 [==============================] - 5s 31ms/step - loss: 1.2247 - accuracy: 0.6115 - val_loss: 2.3171 - val_accuracy: 0.4394\n",
            "Epoch 32/50\n",
            "156/156 [==============================] - 5s 31ms/step - loss: 1.1955 - accuracy: 0.6111 - val_loss: 2.3050 - val_accuracy: 0.4546\n",
            "Epoch 33/50\n",
            "156/156 [==============================] - 5s 31ms/step - loss: 1.1599 - accuracy: 0.6250 - val_loss: 2.6249 - val_accuracy: 0.4064\n",
            "Epoch 34/50\n",
            "156/156 [==============================] - 5s 31ms/step - loss: 1.1186 - accuracy: 0.6308 - val_loss: 2.9941 - val_accuracy: 0.3767\n",
            "Epoch 35/50\n",
            "156/156 [==============================] - 5s 31ms/step - loss: 1.1405 - accuracy: 0.6278 - val_loss: 2.1650 - val_accuracy: 0.4627\n",
            "Epoch 36/50\n",
            "156/156 [==============================] - 5s 31ms/step - loss: 1.0895 - accuracy: 0.6428 - val_loss: 2.9434 - val_accuracy: 0.3871\n",
            "Epoch 37/50\n",
            "156/156 [==============================] - 5s 31ms/step - loss: 1.0375 - accuracy: 0.6575 - val_loss: 2.6616 - val_accuracy: 0.4305\n",
            "Epoch 38/50\n",
            "156/156 [==============================] - 5s 31ms/step - loss: 1.0292 - accuracy: 0.6631 - val_loss: 3.3127 - val_accuracy: 0.3598\n",
            "Epoch 39/50\n",
            "156/156 [==============================] - 5s 31ms/step - loss: 0.9966 - accuracy: 0.6647 - val_loss: 2.8975 - val_accuracy: 0.3928\n",
            "Epoch 40/50\n",
            "156/156 [==============================] - 5s 32ms/step - loss: 0.9573 - accuracy: 0.6808 - val_loss: 2.7123 - val_accuracy: 0.4297\n",
            "Epoch 41/50\n",
            "156/156 [==============================] - 5s 32ms/step - loss: 0.9425 - accuracy: 0.6906 - val_loss: 2.9943 - val_accuracy: 0.4225\n",
            "Epoch 42/50\n",
            "156/156 [==============================] - 5s 32ms/step - loss: 0.9198 - accuracy: 0.6950 - val_loss: 2.9115 - val_accuracy: 0.3960\n",
            "Epoch 43/50\n",
            "156/156 [==============================] - 5s 31ms/step - loss: 0.8875 - accuracy: 0.6934 - val_loss: 2.5691 - val_accuracy: 0.4321\n",
            "Epoch 44/50\n",
            "156/156 [==============================] - 5s 31ms/step - loss: 0.8814 - accuracy: 0.6977 - val_loss: 2.4824 - val_accuracy: 0.4643\n",
            "Epoch 45/50\n",
            "156/156 [==============================] - 5s 31ms/step - loss: 0.8653 - accuracy: 0.7035 - val_loss: 3.0271 - val_accuracy: 0.3936\n",
            "Epoch 46/50\n",
            "156/156 [==============================] - 5s 31ms/step - loss: 0.8050 - accuracy: 0.7288 - val_loss: 2.4962 - val_accuracy: 0.4763\n",
            "Epoch 47/50\n",
            "156/156 [==============================] - 5s 31ms/step - loss: 0.8236 - accuracy: 0.7284 - val_loss: 2.7078 - val_accuracy: 0.4498\n",
            "Epoch 48/50\n",
            "156/156 [==============================] - 5s 31ms/step - loss: 0.7989 - accuracy: 0.7312 - val_loss: 2.4121 - val_accuracy: 0.4900\n",
            "Epoch 49/50\n",
            "156/156 [==============================] - 5s 31ms/step - loss: 0.7648 - accuracy: 0.7436 - val_loss: 2.3658 - val_accuracy: 0.4851\n",
            "Epoch 50/50\n",
            "156/156 [==============================] - 5s 32ms/step - loss: 0.7579 - accuracy: 0.7368 - val_loss: 2.5302 - val_accuracy: 0.4980\n"
          ]
        }
      ]
    },
    {
      "cell_type": "code",
      "metadata": {
        "id": "ynhS2KjVEhj8",
        "colab": {
          "base_uri": "https://localhost:8080/",
          "height": 499
        },
        "outputId": "21a9fb55-212b-498d-86c8-73181fc677eb"
      },
      "source": [
        "acc = history.history['accuracy']\n",
        "val_acc = history.history['val_accuracy']\n",
        "\n",
        "loss = history.history['loss']\n",
        "val_loss = history.history['val_loss']\n",
        "\n",
        "epochs_range = range(epochs)\n",
        "\n",
        "plt.figure(figsize=(8, 8))\n",
        "plt.subplot(1, 2, 1)\n",
        "plt.plot(epochs_range, acc, label='Training Accuracy')\n",
        "plt.plot(epochs_range, val_acc, label='Validation Accuracy')\n",
        "plt.legend(loc='lower right')\n",
        "plt.title('Training and Validation Accuracy')\n",
        "\n",
        "plt.subplot(1, 2, 2)\n",
        "plt.plot(epochs_range, loss, label='Training Loss')\n",
        "plt.plot(epochs_range, val_loss, label='Validation Loss')\n",
        "plt.legend(loc='upper right')\n",
        "plt.title('Training and Validation Loss')\n",
        "plt.show()"
      ],
      "execution_count": null,
      "outputs": [
        {
          "output_type": "display_data",
          "data": {
            "image/png": "[encoded data removed]",
            "text/plain": [
              "<Figure size 576x576 with 2 Axes>"
            ]
          },
          "metadata": {
            "needs_background": "light"
          }
        }
      ]
    },
    {
      "cell_type": "code",
      "metadata": {
        "id": "IbEQMrsAH2yZ",
        "colab": {
          "base_uri": "https://localhost:8080/"
        },
        "outputId": "2990c686-6b0a-46fe-bf6c-a8579facc87d"
      },
      "source": [
        "model.compile(\n",
        "    optimizer='adam',\n",
        "    loss=tf.losses.SparseCategoricalCrossentropy(from_logits=True),\n",
        "    metrics=['accuracy'])\n",
        "model.summary()"
      ],
      "execution_count": null,
      "outputs": [
        {
          "output_type": "stream",
          "name": "stdout",
          "text": [
            "Model: \"sequential_2\"\n",
            "_________________________________________________________________\n",
            " Layer (type)                Output Shape              Param #   \n",
            "=================================================================\n",
            " sequential_1 (Sequential)   (None, 180, 180, 1)       0         \n",
            "                                                                 \n",
            " rescaling_2 (Rescaling)     (None, 180, 180, 1)       0         \n",
            "                                                                 \n",
            " conv2d_3 (Conv2D)           (None, 178, 178, 64)      640       \n",
            "                                                                 \n",
            " max_pooling2d_3 (MaxPooling  (None, 89, 89, 64)       0         \n",
            " 2D)                                                             \n",
            "                                                                 \n",
            " conv2d_4 (Conv2D)           (None, 89, 89, 64)        36928     \n",
            "                                                                 \n",
            " max_pooling2d_4 (MaxPooling  (None, 44, 44, 64)       0         \n",
            " 2D)                                                             \n",
            "                                                                 \n",
            " conv2d_5 (Conv2D)           (None, 44, 44, 64)        36928     \n",
            "                                                                 \n",
            " max_pooling2d_5 (MaxPooling  (None, 22, 22, 64)       0         \n",
            " 2D)                                                             \n",
            "                                                                 \n",
            " dropout (Dropout)           (None, 22, 22, 64)        0         \n",
            "                                                                 \n",
            " flatten_1 (Flatten)         (None, 30976)             0         \n",
            "                                                                 \n",
            " dense_11 (Dense)            (None, 128)               3965056   \n",
            "                                                                 \n",
            " batch_normalization_11 (Bat  (None, 128)              512       \n",
            " chNormalization)                                                \n",
            "                                                                 \n",
            " dense_12 (Dense)            (None, 128)               16512     \n",
            "                                                                 \n",
            " batch_normalization_12 (Bat  (None, 128)              512       \n",
            " chNormalization)                                                \n",
            "                                                                 \n",
            " dense_13 (Dense)            (None, 128)               16512     \n",
            "                                                                 \n",
            " batch_normalization_13 (Bat  (None, 128)              512       \n",
            " chNormalization)                                                \n",
            "                                                                 \n",
            " dense_14 (Dense)            (None, 128)               16512     \n",
            "                                                                 \n",
            " batch_normalization_14 (Bat  (None, 128)              512       \n",
            " chNormalization)                                                \n",
            "                                                                 \n",
            " dense_15 (Dense)            (None, 128)               16512     \n",
            "                                                                 \n",
            " batch_normalization_15 (Bat  (None, 128)              512       \n",
            " chNormalization)                                                \n",
            "                                                                 \n",
            " dense_16 (Dense)            (None, 128)               16512     \n",
            "                                                                 \n",
            " batch_normalization_16 (Bat  (None, 128)              512       \n",
            " chNormalization)                                                \n",
            "                                                                 \n",
            " dense_17 (Dense)            (None, 128)               16512     \n",
            "                                                                 \n",
            " batch_normalization_17 (Bat  (None, 128)              512       \n",
            " chNormalization)                                                \n",
            "                                                                 \n",
            " dense_18 (Dense)            (None, 128)               16512     \n",
            "                                                                 \n",
            " batch_normalization_18 (Bat  (None, 128)              512       \n",
            " chNormalization)                                                \n",
            "                                                                 \n",
            " dense_19 (Dense)            (None, 128)               16512     \n",
            "                                                                 \n",
            " batch_normalization_19 (Bat  (None, 128)              512       \n",
            " chNormalization)                                                \n",
            "                                                                 \n",
            " dense_20 (Dense)            (None, 107)               13803     \n",
            "                                                                 \n",
            " batch_normalization_20 (Bat  (None, 107)              428       \n",
            " chNormalization)                                                \n",
            "                                                                 \n",
            " dense_21 (Dense)            (None, 107)               11556     \n",
            "                                                                 \n",
            "=================================================================\n",
            "Total params: 4,202,043\n",
            "Trainable params: 4,199,525\n",
            "Non-trainable params: 2,518\n",
            "_________________________________________________________________\n"
          ]
        }
      ]
    },
    {
      "cell_type": "code",
      "metadata": {
        "id": "df30HUqFjWre"
      },
      "source": [
        ""
      ],
      "execution_count": null,
      "outputs": []
    }
  ]
}