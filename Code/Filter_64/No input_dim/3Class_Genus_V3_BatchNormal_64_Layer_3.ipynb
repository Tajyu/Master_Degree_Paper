{
  "nbformat": 4,
  "nbformat_minor": 0,
  "metadata": {
    "colab": {
      "name": "3Class_Genus_V3_BatchNormal_64_Layer_3.ipynb",
      "provenance": [],
      "collapsed_sections": [],
      "mount_file_id": "1fgKjISFuc6uEr2gK_LcjB2w6kTjnhj9V",
      "authorship_tag": "ABX9TyN0we3WLAEgI+AWpuIeWAeI",
      "include_colab_link": true
    },
    "kernelspec": {
      "name": "python3",
      "display_name": "Python 3"
    },
    "language_info": {
      "name": "python"
    },
    "accelerator": "GPU"
  },
  "cells": [
    {
      "cell_type": "markdown",
      "metadata": {
        "id": "view-in-github",
        "colab_type": "text"
      },
      "source": [
        "<a href=\"https://colab.research.google.com/github/Tajyu/Master_Degree_Paper/blob/main/Code/Filter_64/No%20input_dim/3Class_Genus_V3_BatchNormal_64_Layer_3.ipynb\" target=\"_parent\"><img src=\"https://colab.research.google.com/assets/colab-badge.svg\" alt=\"Open In Colab\"/></a>"
      ]
    },
    {
      "cell_type": "code",
      "metadata": {
        "id": "yWckd06_68Em"
      },
      "source": [
        "import tensorflow as tf\n",
        "from tensorflow.keras import datasets, layers, models\n",
        "from keras.preprocessing.image import ImageDataGenerator\n",
        "import numpy as np\n",
        "import matplotlib.pyplot as plt\n",
        "import cv2 as cv\n",
        "import os\n",
        "import pathlib\n",
        "import PIL\n",
        "from tensorflow import keras\n",
        "from tensorflow.keras import layers\n",
        "from tensorflow.keras.models import Sequential\n",
        "from tensorflow.keras.layers import Dense, Flatten, BatchNormalization, Dropout"
      ],
      "execution_count": null,
      "outputs": []
    },
    {
      "cell_type": "code",
      "metadata": {
        "id": "xav9zirHttk_"
      },
      "source": [
        "image_list = os.listdir('/content/drive/MyDrive/Colab Notebooks/Final_Project/Cell_Genus')"
      ],
      "execution_count": null,
      "outputs": []
    },
    {
      "cell_type": "code",
      "metadata": {
        "colab": {
          "base_uri": "https://localhost:8080/"
        },
        "id": "K-wD0dM5tx_E",
        "outputId": "3ee1513c-aa0d-4e37-f800-9132d87ca38f"
      },
      "source": [
        "print(image_list)"
      ],
      "execution_count": null,
      "outputs": [
        {
          "output_type": "stream",
          "name": "stdout",
          "text": [
            "['10_Genus_Stauroneis_Ehrenberg', '10_Genus_Staurosira_Ehrenberg', '11_Genus_Craspedostauros_E.J_Cox_1999', '11_Genus_Staurosirella_Williams_and_Round', '12_Genus_Caloneis_Cleve_1894', '12_Genus_Synedra_Ehrenberg', '13_Genus_Pinnularia_Ehrenberg_1843', '1_Genus_Acanthoceras_Honigmann', '1_Genus_Achnanthes_Bory', '1_Genus_Actinocyclus_Ehrenberg', '1_Genus_Aphanocapsa_Nageli_1849', '1_Genus_Asterionella_Hassall', '1_Genus_Aulacoseira', '1_Genus_Biremis_Mann_et_Cox_in_Round_Crawford_and_Mann', '1_Genus_Characium_A_Braun_in_Kutzing_1849', '1_Genus_Chroococcus_Nageli', '1_Genus_Closterium_Nitzsch_ex_Ralfs_1848', '1_Genus_Coelastrum_Nageli_1849', '1_Genus_Cylindrocystis_Meneghini_ex_de_Bary_1858', '1_Genus_Dictyosphaerium_Nageli_1849', '1_Genus_Docidium_Brebisson_ex_Ralfs_1848', '1_Genus_Eunotia_Ehrenberg', '1_Genus_Geitlerinema_(Anagnostidis_et_Komarek)_Anagnostidis_1989', '1_Genus_Gonatozygon_de_Bary_1856', '1_Genus_Hydrodictyon_Roth_1797', '1_Genus_Hydrosera_whampoensis', '1_Genus_Jaaginema_Anagnostidis_et_Komarek_1988', '1_Genus_Lyngbya_C_Agardh_ex_Gomont_1892', '1_Genus_Melosira_Agardh', '1_Genus_Micractinium_Fresenius_1858', '1_Genus_Micrasterias_Ralfs_1848', '1_Genus_Microcystis_Kutzing_ex_Lemmermann_1907', '1_Genus_Oscillatoria_Vaucher_ex_Gomont_1982', '1_Genus_Pediastrum_Meyen_1829', '1_Genus_Penium_Brebisson_ex_Ralfs_in_Ralfs_1848', '1_Genus_Phormidium_Kutzing_ex_Gomont_1892', '1_Genus_Planktothrix_Anagnostidis_et_Komarek_1988', '1_Genus_Pleurosira_laevis_(Ehrenberg)', '1_Genus_Rhizosolenia_Ehrenberg', '1_Genus_Schizochlamydella_Korshikov_1953', '1_Genus_Staurodesmus_Teiling_1848', '1_Genus_Trochiscia_Kutzing_1834', '1_Scenedesmus_Hegewald_1978', '2_Acutodesmus_Hegewald_1978', '2_Genus_Achnanthidium_Kutzing', '2_Genus_Actinastrum_Lagerheim_1882', '2_Genus_Actinella_Lewis', '2_Genus_Ankyra_Fott_1957', '2_Genus_Caloneis_Cleve', '2_Genus_Chaetoceros_Ehrenberg', '2_Genus_Coenochloris_Korshikov_1953', '2_Genus_Cyclotella', '2_Genus_Diatoma_Bory', '2_Genus_Dimorphococcus_A_Braun_1855', '2_Genus_Golenkinia_Chodat_1894', '2_Genus_Haplotaenium_Bando_1988', '2_Genus_Leibleinia_(Gomont)_L_Hoffman_1985', '2_Genus_Leptolyngbya_Anagnostidis_et_Komarek_1988', '2_Genus_Merismopedia_Meyen_1839', '2_Genus_Netrium_(Nageli)_Itzigsohn_et_Rothe_in_Rabenhorst_1856', '2_Genus_Orthoseira_Thwaites_1848', '2_Genus_Phormidium_Kutzing_ex_Gomont_1892', '2_Genus_Sorastrum_Kutzing_1845', '2_Genus_Staurastrum_Meyen_ex_Ralfs_1848', '3_Desmodesmus_Chodat_1926', '3_Genus_Acanthosphaera_Lemmerman_1899', '3_Genus_Anorthoneis_Grunow', '3_Genus_Cyclostephanos_Round', '3_Genus_Dichotomococcus_Korshikov_1928', '3_Genus_Heteroleibleinia_(Geitler)_L_Hoffmann_1985', '3_Genus_Limnothrix_Meffert_1988', '3_Genus_Meridion_Agardh', '3_Genus_Paradoxia_Svirenko_1928', '3_Genus_Peronia_Bebisson_and_Arnott_ex_Kitton', '3_Genus_Phormidiochaete_Komarek_in_Anagnostidis_2001', '3_Genus_Pinnularia_Ehrenberg_1', '3_Genus_Pleurotaenium_Nageli_1849', '3_Genus_Radiococcus_Schmidle_1902', '3_Genus_Snowella_Elenkin_1938', '3_Genus_Spirotaenia_Brebisson_in_Ralfs_1848', '4_Genus_Botryococcus_Kutzing_1849', '4_Genus_Cocconeis_Ehrenberg', '4_Genus_Eutetramorus_Walton_1918', '4_Genus_Leptolyngbya_Anagnostidis_et_Komarek_1988', '4_Genus_Opephora_Petit', '4_Genus_Pinnularia_Ehrenberg_2', '4_Genus_Schroederia_Lemmermann_1898', '4_Genus_Stephanodiscus_Ehrenberg', '4_Genus_Synechocystis_Sauvageau_1892', '4_Genus_Tortitaenia_A_J_Brook_1998', '5_Genus_Caloneis_Cleve', '5_Genus_Coenocystis_Korshikov_1953', '5_Genus_Planktolyngbya_Anagnostidis_et_Komarek_1988', '5_Genus_Tabellaria_Ehrenberg', '5_Genus_Thalassiosira_Cleve', '5_Genus_Woronichinia_Elenkin_1933', '6_Genus_Anomoeoneis_Pfitzer', '6_Genus_Fragilaria_Lyngbye', '6_Genus_Gloeocystis_Nageli_1849', '6_Genus_Pseudanabaena_Lauterborn_1915', '6_Genus_Skeletonema_Greville', '7_Genus_Caloneis_Cleve', '7_Genus_Hannaea_Patrick', '8_Genus_Diploneis(Ehrenberg)_Cleve', '8_Genus_Pseudostaurosira_Williams_and_Round', '9_Genus_Neidium_Pfitzer', '9_Genus_Punctastriata_Williams_and_Round']\n"
          ]
        }
      ]
    },
    {
      "cell_type": "code",
      "metadata": {
        "id": "o-0DvzEHt8VE"
      },
      "source": [
        "data_generator = ImageDataGenerator(rescale = 1./255)\n",
        "\n",
        "data_dir = \"/content/drive/MyDrive/Colab Notebooks/Final_Project/Cell_Genus\""
      ],
      "execution_count": null,
      "outputs": []
    },
    {
      "cell_type": "code",
      "metadata": {
        "id": "7aTCfEm3t10n"
      },
      "source": [
        "batch_size = 32\n",
        "img_height = 180\n",
        "img_width = 180"
      ],
      "execution_count": null,
      "outputs": []
    },
    {
      "cell_type": "code",
      "metadata": {
        "colab": {
          "base_uri": "https://localhost:8080/"
        },
        "id": "9Smg-miEt22s",
        "outputId": "507d40eb-2ec8-4e51-a60c-fda54e094ab1"
      },
      "source": [
        "train_ds = tf.keras.preprocessing.image_dataset_from_directory(\n",
        "  data_dir,\n",
        "  color_mode = \"grayscale\",\n",
        "  validation_split=0.2,\n",
        "  subset=\"training\",\n",
        "  seed=123,\n",
        "  image_size=(img_height, img_width),\n",
        "  batch_size=batch_size)"
      ],
      "execution_count": null,
      "outputs": [
        {
          "output_type": "stream",
          "name": "stdout",
          "text": [
            "Found 6226 files belonging to 107 classes.\n",
            "Using 4981 files for training.\n"
          ]
        }
      ]
    },
    {
      "cell_type": "code",
      "metadata": {
        "colab": {
          "base_uri": "https://localhost:8080/"
        },
        "id": "1nR0WdQGt44x",
        "outputId": "78c4945b-3874-4749-ccd3-276221c4b4cf"
      },
      "source": [
        "val_ds = tf.keras.preprocessing.image_dataset_from_directory(\n",
        "  data_dir,\n",
        "  color_mode = \"grayscale\",\n",
        "  validation_split=0.2,\n",
        "  subset=\"validation\",\n",
        "  seed=123,\n",
        "  image_size=(img_height, img_width),\n",
        "  batch_size=batch_size)"
      ],
      "execution_count": null,
      "outputs": [
        {
          "output_type": "stream",
          "name": "stdout",
          "text": [
            "Found 6226 files belonging to 107 classes.\n",
            "Using 1245 files for validation.\n"
          ]
        }
      ]
    },
    {
      "cell_type": "code",
      "metadata": {
        "colab": {
          "base_uri": "https://localhost:8080/"
        },
        "id": "F-cz_CtGug8Y",
        "outputId": "d2f83535-e9b9-4e89-dc16-946090e58061"
      },
      "source": [
        "class_names = train_ds.class_names\n",
        "print(class_names)"
      ],
      "execution_count": null,
      "outputs": [
        {
          "output_type": "stream",
          "name": "stdout",
          "text": [
            "['10_Genus_Stauroneis_Ehrenberg', '10_Genus_Staurosira_Ehrenberg', '11_Genus_Craspedostauros_E.J_Cox_1999', '11_Genus_Staurosirella_Williams_and_Round', '12_Genus_Caloneis_Cleve_1894', '12_Genus_Synedra_Ehrenberg', '13_Genus_Pinnularia_Ehrenberg_1843', '1_Genus_Acanthoceras_Honigmann', '1_Genus_Achnanthes_Bory', '1_Genus_Actinocyclus_Ehrenberg', '1_Genus_Aphanocapsa_Nageli_1849', '1_Genus_Asterionella_Hassall', '1_Genus_Aulacoseira', '1_Genus_Biremis_Mann_et_Cox_in_Round_Crawford_and_Mann', '1_Genus_Characium_A_Braun_in_Kutzing_1849', '1_Genus_Chroococcus_Nageli', '1_Genus_Closterium_Nitzsch_ex_Ralfs_1848', '1_Genus_Coelastrum_Nageli_1849', '1_Genus_Cylindrocystis_Meneghini_ex_de_Bary_1858', '1_Genus_Dictyosphaerium_Nageli_1849', '1_Genus_Docidium_Brebisson_ex_Ralfs_1848', '1_Genus_Eunotia_Ehrenberg', '1_Genus_Geitlerinema_(Anagnostidis_et_Komarek)_Anagnostidis_1989', '1_Genus_Gonatozygon_de_Bary_1856', '1_Genus_Hydrodictyon_Roth_1797', '1_Genus_Hydrosera_whampoensis', '1_Genus_Jaaginema_Anagnostidis_et_Komarek_1988', '1_Genus_Lyngbya_C_Agardh_ex_Gomont_1892', '1_Genus_Melosira_Agardh', '1_Genus_Micractinium_Fresenius_1858', '1_Genus_Micrasterias_Ralfs_1848', '1_Genus_Microcystis_Kutzing_ex_Lemmermann_1907', '1_Genus_Oscillatoria_Vaucher_ex_Gomont_1982', '1_Genus_Pediastrum_Meyen_1829', '1_Genus_Penium_Brebisson_ex_Ralfs_in_Ralfs_1848', '1_Genus_Phormidium_Kutzing_ex_Gomont_1892', '1_Genus_Planktothrix_Anagnostidis_et_Komarek_1988', '1_Genus_Pleurosira_laevis_(Ehrenberg)', '1_Genus_Rhizosolenia_Ehrenberg', '1_Genus_Schizochlamydella_Korshikov_1953', '1_Genus_Staurodesmus_Teiling_1848', '1_Genus_Trochiscia_Kutzing_1834', '1_Scenedesmus_Hegewald_1978', '2_Acutodesmus_Hegewald_1978', '2_Genus_Achnanthidium_Kutzing', '2_Genus_Actinastrum_Lagerheim_1882', '2_Genus_Actinella_Lewis', '2_Genus_Ankyra_Fott_1957', '2_Genus_Caloneis_Cleve', '2_Genus_Chaetoceros_Ehrenberg', '2_Genus_Coenochloris_Korshikov_1953', '2_Genus_Cyclotella', '2_Genus_Diatoma_Bory', '2_Genus_Dimorphococcus_A_Braun_1855', '2_Genus_Golenkinia_Chodat_1894', '2_Genus_Haplotaenium_Bando_1988', '2_Genus_Leibleinia_(Gomont)_L_Hoffman_1985', '2_Genus_Leptolyngbya_Anagnostidis_et_Komarek_1988', '2_Genus_Merismopedia_Meyen_1839', '2_Genus_Netrium_(Nageli)_Itzigsohn_et_Rothe_in_Rabenhorst_1856', '2_Genus_Orthoseira_Thwaites_1848', '2_Genus_Phormidium_Kutzing_ex_Gomont_1892', '2_Genus_Sorastrum_Kutzing_1845', '2_Genus_Staurastrum_Meyen_ex_Ralfs_1848', '3_Desmodesmus_Chodat_1926', '3_Genus_Acanthosphaera_Lemmerman_1899', '3_Genus_Anorthoneis_Grunow', '3_Genus_Cyclostephanos_Round', '3_Genus_Dichotomococcus_Korshikov_1928', '3_Genus_Heteroleibleinia_(Geitler)_L_Hoffmann_1985', '3_Genus_Limnothrix_Meffert_1988', '3_Genus_Meridion_Agardh', '3_Genus_Paradoxia_Svirenko_1928', '3_Genus_Peronia_Bebisson_and_Arnott_ex_Kitton', '3_Genus_Phormidiochaete_Komarek_in_Anagnostidis_2001', '3_Genus_Pinnularia_Ehrenberg_1', '3_Genus_Pleurotaenium_Nageli_1849', '3_Genus_Radiococcus_Schmidle_1902', '3_Genus_Snowella_Elenkin_1938', '3_Genus_Spirotaenia_Brebisson_in_Ralfs_1848', '4_Genus_Botryococcus_Kutzing_1849', '4_Genus_Cocconeis_Ehrenberg', '4_Genus_Eutetramorus_Walton_1918', '4_Genus_Leptolyngbya_Anagnostidis_et_Komarek_1988', '4_Genus_Opephora_Petit', '4_Genus_Pinnularia_Ehrenberg_2', '4_Genus_Schroederia_Lemmermann_1898', '4_Genus_Stephanodiscus_Ehrenberg', '4_Genus_Synechocystis_Sauvageau_1892', '4_Genus_Tortitaenia_A_J_Brook_1998', '5_Genus_Caloneis_Cleve', '5_Genus_Coenocystis_Korshikov_1953', '5_Genus_Planktolyngbya_Anagnostidis_et_Komarek_1988', '5_Genus_Tabellaria_Ehrenberg', '5_Genus_Thalassiosira_Cleve', '5_Genus_Woronichinia_Elenkin_1933', '6_Genus_Anomoeoneis_Pfitzer', '6_Genus_Fragilaria_Lyngbye', '6_Genus_Gloeocystis_Nageli_1849', '6_Genus_Pseudanabaena_Lauterborn_1915', '6_Genus_Skeletonema_Greville', '7_Genus_Caloneis_Cleve', '7_Genus_Hannaea_Patrick', '8_Genus_Diploneis(Ehrenberg)_Cleve', '8_Genus_Pseudostaurosira_Williams_and_Round', '9_Genus_Neidium_Pfitzer', '9_Genus_Punctastriata_Williams_and_Round']\n"
          ]
        }
      ]
    },
    {
      "cell_type": "code",
      "metadata": {
        "colab": {
          "base_uri": "https://localhost:8080/"
        },
        "id": "5EQOikPAukic",
        "outputId": "12fe0e29-9bd9-42bc-9010-9449affb4fc0"
      },
      "source": [
        "for image_batch, labels_batch in train_ds:\n",
        "  print(image_batch.shape)\n",
        "  print(labels_batch.shape)\n",
        "  break"
      ],
      "execution_count": null,
      "outputs": [
        {
          "output_type": "stream",
          "name": "stdout",
          "text": [
            "(32, 180, 180, 1)\n",
            "(32,)\n"
          ]
        }
      ]
    },
    {
      "cell_type": "code",
      "metadata": {
        "id": "9eVl7tiDux9q"
      },
      "source": [
        "from tensorflow.keras import layers\n",
        "\n",
        "normalization_layer = tf.keras.layers.experimental.preprocessing.Rescaling(1./255)"
      ],
      "execution_count": null,
      "outputs": []
    },
    {
      "cell_type": "code",
      "metadata": {
        "colab": {
          "base_uri": "https://localhost:8080/"
        },
        "id": "AiIrsxzZuzEo",
        "outputId": "43a5fe79-b469-4648-dbb2-05381c4bb44b"
      },
      "source": [
        "normalized_ds = train_ds.map(lambda x, y: (normalization_layer(x), y))\n",
        "image_batch, labels_batch = next(iter(normalized_ds))\n",
        "first_image = image_batch[0]\n",
        "# Notice the pixels values are now in `[0,1]`.\n",
        "print(np.min(first_image), np.max(first_image))"
      ],
      "execution_count": null,
      "outputs": [
        {
          "output_type": "stream",
          "name": "stdout",
          "text": [
            "0.0 1.0\n"
          ]
        }
      ]
    },
    {
      "cell_type": "code",
      "metadata": {
        "id": "__WbVabru0Bp"
      },
      "source": [
        "AUTOTUNE = tf.data.experimental.AUTOTUNE\n",
        "\n",
        "train_ds = train_ds.cache().prefetch(buffer_size=AUTOTUNE)\n",
        "val_ds = val_ds.cache().prefetch(buffer_size=AUTOTUNE)"
      ],
      "execution_count": null,
      "outputs": []
    },
    {
      "cell_type": "code",
      "metadata": {
        "id": "g1GeYFXCu2gV"
      },
      "source": [
        "num_classes = 107\n",
        "model = tf.keras.Sequential([\n",
        "    layers.experimental.preprocessing.Rescaling(1./255),\n",
        "    layers.Conv2D(64, 3,input_shape = image_batch, activation='relu'),\n",
        "    layers.MaxPooling2D(),\n",
        "    layers.Conv2D(64, 3, activation='relu'),\n",
        "    layers.MaxPooling2D(),\n",
        "    layers.Conv2D(64, 3, activation='relu'),\n",
        "    layers.MaxPooling2D(),\n",
        "    layers.Flatten(),\n",
        "    BatchNormalization(),\n",
        "    layers.Dense(128, activation='relu'),\n",
        "    BatchNormalization(),\n",
        "    layers.Dense(128, activation='relu'),\n",
        "    BatchNormalization(),\n",
        "    layers.Dense(107, activation='softmax'),\n",
        "    BatchNormalization(),\n",
        "    layers.Dense(num_classes)\n",
        "    ])"
      ],
      "execution_count": null,
      "outputs": []
    },
    {
      "cell_type": "code",
      "metadata": {
        "id": "wU4xPAvNYWry"
      },
      "source": [
        "model.compile(\n",
        "    optimizer='adam',\n",
        "    loss=tf.losses.SparseCategoricalCrossentropy(from_logits=True),\n",
        "    metrics=['accuracy'])"
      ],
      "execution_count": null,
      "outputs": []
    },
    {
      "cell_type": "code",
      "metadata": {
        "colab": {
          "base_uri": "https://localhost:8080/"
        },
        "id": "Tk8ssrbHu44p",
        "outputId": "53d486c4-3bed-4d25-ba7f-17b39c3f67c1"
      },
      "source": [
        "epochs=50\n",
        "history = model.fit(\n",
        "  train_ds,\n",
        "  validation_data=val_ds,\n",
        "  epochs=epochs\n",
        ")"
      ],
      "execution_count": null,
      "outputs": [
        {
          "output_type": "stream",
          "name": "stdout",
          "text": [
            "Epoch 1/50\n",
            "156/156 [==============================] - 1869s 12s/step - loss: 3.3275 - accuracy: 0.2981 - val_loss: 4.2362 - val_accuracy: 0.1373\n",
            "Epoch 2/50\n",
            "156/156 [==============================] - 4s 26ms/step - loss: 2.0873 - accuracy: 0.4734 - val_loss: 3.6486 - val_accuracy: 0.3269\n",
            "Epoch 3/50\n",
            "156/156 [==============================] - 4s 26ms/step - loss: 1.4526 - accuracy: 0.6382 - val_loss: 2.9028 - val_accuracy: 0.3968\n",
            "Epoch 4/50\n",
            "156/156 [==============================] - 4s 26ms/step - loss: 0.9820 - accuracy: 0.7681 - val_loss: 2.1520 - val_accuracy: 0.4610\n",
            "Epoch 5/50\n",
            "156/156 [==============================] - 4s 26ms/step - loss: 0.6439 - accuracy: 0.8520 - val_loss: 2.2412 - val_accuracy: 0.4522\n",
            "Epoch 6/50\n",
            "156/156 [==============================] - 4s 26ms/step - loss: 0.4283 - accuracy: 0.9093 - val_loss: 2.3571 - val_accuracy: 0.4771\n",
            "Epoch 7/50\n",
            "156/156 [==============================] - 4s 26ms/step - loss: 0.2783 - accuracy: 0.9450 - val_loss: 2.2723 - val_accuracy: 0.4900\n",
            "Epoch 8/50\n",
            "156/156 [==============================] - 4s 26ms/step - loss: 0.1714 - accuracy: 0.9693 - val_loss: 2.2403 - val_accuracy: 0.5012\n",
            "Epoch 9/50\n",
            "156/156 [==============================] - 4s 26ms/step - loss: 0.1036 - accuracy: 0.9861 - val_loss: 2.1343 - val_accuracy: 0.5349\n",
            "Epoch 10/50\n",
            "156/156 [==============================] - 4s 26ms/step - loss: 0.0614 - accuracy: 0.9940 - val_loss: 2.2885 - val_accuracy: 0.5124\n",
            "Epoch 11/50\n",
            "156/156 [==============================] - 4s 26ms/step - loss: 0.0445 - accuracy: 0.9958 - val_loss: 2.1585 - val_accuracy: 0.5390\n",
            "Epoch 12/50\n",
            "156/156 [==============================] - 4s 26ms/step - loss: 0.0300 - accuracy: 0.9976 - val_loss: 2.1803 - val_accuracy: 0.5349\n",
            "Epoch 13/50\n",
            "156/156 [==============================] - 4s 26ms/step - loss: 0.0211 - accuracy: 0.9978 - val_loss: 2.2337 - val_accuracy: 0.5317\n",
            "Epoch 14/50\n",
            "156/156 [==============================] - 4s 26ms/step - loss: 0.0136 - accuracy: 0.9992 - val_loss: 2.2689 - val_accuracy: 0.5373\n",
            "Epoch 15/50\n",
            "156/156 [==============================] - 4s 26ms/step - loss: 0.0094 - accuracy: 0.9998 - val_loss: 2.2839 - val_accuracy: 0.5422\n",
            "Epoch 16/50\n",
            "156/156 [==============================] - 4s 26ms/step - loss: 0.0070 - accuracy: 0.9998 - val_loss: 2.2906 - val_accuracy: 0.5438\n",
            "Epoch 17/50\n",
            "156/156 [==============================] - 4s 26ms/step - loss: 0.0060 - accuracy: 1.0000 - val_loss: 2.3368 - val_accuracy: 0.5382\n",
            "Epoch 18/50\n",
            "156/156 [==============================] - 4s 26ms/step - loss: 0.0050 - accuracy: 1.0000 - val_loss: 2.3715 - val_accuracy: 0.5390\n",
            "Epoch 19/50\n",
            "156/156 [==============================] - 4s 26ms/step - loss: 0.0040 - accuracy: 1.0000 - val_loss: 2.3939 - val_accuracy: 0.5414\n",
            "Epoch 20/50\n",
            "156/156 [==============================] - 4s 26ms/step - loss: 0.0041 - accuracy: 0.9998 - val_loss: 2.4345 - val_accuracy: 0.5414\n",
            "Epoch 21/50\n",
            "156/156 [==============================] - 4s 26ms/step - loss: 0.0030 - accuracy: 1.0000 - val_loss: 2.4485 - val_accuracy: 0.5454\n",
            "Epoch 22/50\n",
            "156/156 [==============================] - 4s 26ms/step - loss: 0.0029 - accuracy: 0.9996 - val_loss: 2.5040 - val_accuracy: 0.5446\n",
            "Epoch 23/50\n",
            "156/156 [==============================] - 4s 26ms/step - loss: 0.0039 - accuracy: 0.9994 - val_loss: 2.5117 - val_accuracy: 0.5406\n",
            "Epoch 24/50\n",
            "156/156 [==============================] - 4s 26ms/step - loss: 0.0045 - accuracy: 0.9996 - val_loss: 2.5345 - val_accuracy: 0.5357\n",
            "Epoch 25/50\n",
            "156/156 [==============================] - 4s 26ms/step - loss: 0.0040 - accuracy: 0.9992 - val_loss: 2.5429 - val_accuracy: 0.5382\n",
            "Epoch 26/50\n",
            "156/156 [==============================] - 4s 27ms/step - loss: 0.0030 - accuracy: 0.9994 - val_loss: 2.5731 - val_accuracy: 0.5382\n",
            "Epoch 27/50\n",
            "156/156 [==============================] - 4s 27ms/step - loss: 0.0023 - accuracy: 0.9998 - val_loss: 2.5953 - val_accuracy: 0.5382\n",
            "Epoch 28/50\n",
            "156/156 [==============================] - 4s 26ms/step - loss: 0.0019 - accuracy: 0.9998 - val_loss: 2.6241 - val_accuracy: 0.5398\n",
            "Epoch 29/50\n",
            "156/156 [==============================] - 4s 27ms/step - loss: 0.0016 - accuracy: 1.0000 - val_loss: 2.6434 - val_accuracy: 0.5373\n",
            "Epoch 30/50\n",
            "156/156 [==============================] - 4s 26ms/step - loss: 0.0014 - accuracy: 1.0000 - val_loss: 2.6808 - val_accuracy: 0.5382\n",
            "Epoch 31/50\n",
            "156/156 [==============================] - 4s 26ms/step - loss: 0.0013 - accuracy: 1.0000 - val_loss: 2.6832 - val_accuracy: 0.5414\n",
            "Epoch 32/50\n",
            "156/156 [==============================] - 4s 27ms/step - loss: 0.0011 - accuracy: 1.0000 - val_loss: 2.7343 - val_accuracy: 0.5406\n",
            "Epoch 33/50\n",
            "156/156 [==============================] - 4s 26ms/step - loss: 9.8905e-04 - accuracy: 1.0000 - val_loss: 2.7436 - val_accuracy: 0.5373\n",
            "Epoch 34/50\n",
            "156/156 [==============================] - 4s 26ms/step - loss: 8.6040e-04 - accuracy: 1.0000 - val_loss: 2.7655 - val_accuracy: 0.5390\n",
            "Epoch 35/50\n",
            "156/156 [==============================] - 4s 26ms/step - loss: 7.6365e-04 - accuracy: 1.0000 - val_loss: 2.7919 - val_accuracy: 0.5390\n",
            "Epoch 36/50\n",
            "156/156 [==============================] - 4s 26ms/step - loss: 6.8525e-04 - accuracy: 1.0000 - val_loss: 2.8141 - val_accuracy: 0.5373\n",
            "Epoch 37/50\n",
            "156/156 [==============================] - 4s 26ms/step - loss: 6.1682e-04 - accuracy: 1.0000 - val_loss: 2.8392 - val_accuracy: 0.5382\n",
            "Epoch 38/50\n",
            "156/156 [==============================] - 4s 26ms/step - loss: 5.6626e-04 - accuracy: 1.0000 - val_loss: 2.8644 - val_accuracy: 0.5382\n",
            "Epoch 39/50\n",
            "156/156 [==============================] - 4s 26ms/step - loss: 0.7999 - accuracy: 0.7934 - val_loss: 6.4205 - val_accuracy: 0.2193\n",
            "Epoch 40/50\n",
            "156/156 [==============================] - 4s 26ms/step - loss: 0.8856 - accuracy: 0.7494 - val_loss: 3.1054 - val_accuracy: 0.4490\n",
            "Epoch 41/50\n",
            "156/156 [==============================] - 4s 26ms/step - loss: 0.2030 - accuracy: 0.9442 - val_loss: 2.7922 - val_accuracy: 0.4948\n",
            "Epoch 42/50\n",
            "156/156 [==============================] - 4s 26ms/step - loss: 0.0484 - accuracy: 0.9918 - val_loss: 2.4836 - val_accuracy: 0.5261\n",
            "Epoch 43/50\n",
            "156/156 [==============================] - 4s 26ms/step - loss: 0.0181 - accuracy: 0.9986 - val_loss: 2.4961 - val_accuracy: 0.5229\n",
            "Epoch 44/50\n",
            "156/156 [==============================] - 4s 26ms/step - loss: 0.0094 - accuracy: 1.0000 - val_loss: 2.5030 - val_accuracy: 0.5317\n",
            "Epoch 45/50\n",
            "156/156 [==============================] - 4s 26ms/step - loss: 0.0068 - accuracy: 0.9998 - val_loss: 2.5347 - val_accuracy: 0.5293\n",
            "Epoch 46/50\n",
            "156/156 [==============================] - 4s 26ms/step - loss: 0.0053 - accuracy: 1.0000 - val_loss: 2.5685 - val_accuracy: 0.5301\n",
            "Epoch 47/50\n",
            "156/156 [==============================] - 4s 26ms/step - loss: 0.0043 - accuracy: 1.0000 - val_loss: 2.5981 - val_accuracy: 0.5301\n",
            "Epoch 48/50\n",
            "156/156 [==============================] - 4s 26ms/step - loss: 0.0036 - accuracy: 1.0000 - val_loss: 2.6249 - val_accuracy: 0.5309\n",
            "Epoch 49/50\n",
            "156/156 [==============================] - 4s 26ms/step - loss: 0.0031 - accuracy: 1.0000 - val_loss: 2.6505 - val_accuracy: 0.5309\n",
            "Epoch 50/50\n",
            "156/156 [==============================] - 4s 26ms/step - loss: 0.0027 - accuracy: 1.0000 - val_loss: 2.6752 - val_accuracy: 0.5309\n"
          ]
        }
      ]
    },
    {
      "cell_type": "code",
      "metadata": {
        "colab": {
          "base_uri": "https://localhost:8080/",
          "height": 499
        },
        "id": "f1z_vHocu59c",
        "outputId": "4e40a2d7-a69e-441f-cc92-54156a1bf6a7"
      },
      "source": [
        "acc = history.history['accuracy']\n",
        "val_acc = history.history['val_accuracy']\n",
        "\n",
        "loss=history.history['loss']\n",
        "val_loss=history.history['val_loss']\n",
        "\n",
        "epochs_range = range(epochs)\n",
        "\n",
        "plt.figure(figsize=(8, 8))\n",
        "plt.subplot(1, 2, 1)\n",
        "plt.plot(epochs_range, acc, label='Training Accuracy')\n",
        "plt.plot(epochs_range, val_acc, label='Validation Accuracy')\n",
        "plt.legend(loc='lower right')\n",
        "plt.title('Training and Validation Accuracy')\n",
        "\n",
        "plt.subplot(1, 2, 2)\n",
        "plt.plot(epochs_range, loss, label='Training Loss')\n",
        "plt.plot(epochs_range, val_loss, label='Validation Loss')\n",
        "plt.legend(loc='upper right')\n",
        "plt.title('Training and Validation Loss')\n",
        "plt.show()"
      ],
      "execution_count": null,
      "outputs": [
        {
          "output_type": "display_data",
          "data": {
            "image/png": "[encoded data removed]",
            "text/plain": [
              "<Figure size 576x576 with 2 Axes>"
            ]
          },
          "metadata": {
            "needs_background": "light"
          }
        }
      ]
    },
    {
      "cell_type": "code",
      "metadata": {
        "id": "XinJ6xXD9YNO"
      },
      "source": [
        "data_augmentation = keras.Sequential(\n",
        "  [\n",
        "    layers.experimental.preprocessing.RandomFlip(\"horizontal\", \n",
        "                                                 input_shape=(img_height, \n",
        "                                                              img_width,\n",
        "                                                              1)),\n",
        "    layers.experimental.preprocessing.RandomRotation(0.1),\n",
        "    layers.experimental.preprocessing.RandomZoom(0.1),\n",
        "  ]\n",
        ")"
      ],
      "execution_count": null,
      "outputs": []
    },
    {
      "cell_type": "code",
      "metadata": {
        "id": "8WT2BYElEYZj"
      },
      "source": [
        "model = Sequential([\n",
        "  data_augmentation,\n",
        "  layers.experimental.preprocessing.Rescaling(1./255),\n",
        "  layers.Conv2D(64, 3,input_shape = image_batch, activation='relu'),\n",
        "  layers.MaxPooling2D(),\n",
        "  layers.Conv2D(64, 3, padding='same', activation='relu'),\n",
        "  layers.MaxPooling2D(),\n",
        "  layers.Conv2D(64, 3, padding='same', activation='relu'),\n",
        "  layers.MaxPooling2D(),\n",
        "  layers.Dropout(0.2),\n",
        "  layers.Flatten(),\n",
        "  layers.Dense(128, activation='relu'),\n",
        "  BatchNormalization(),\n",
        "  layers.Dense(128, activation='relu'),\n",
        "  BatchNormalization(),\n",
        "  layers.Dense(107, activation='softmax'),\n",
        "  BatchNormalization(),\n",
        "  layers.Dense(num_classes)\n",
        "])"
      ],
      "execution_count": null,
      "outputs": []
    },
    {
      "cell_type": "code",
      "metadata": {
        "id": "opOHP3auEdsw",
        "colab": {
          "base_uri": "https://localhost:8080/"
        },
        "outputId": "999523d0-0699-42c7-da47-f3a17fbe4eed"
      },
      "source": [
        "BatchNormalization(),model.compile(\n",
        "    optimizer='adam',\n",
        "    loss=tf.losses.SparseCategoricalCrossentropy(from_logits=True),\n",
        "    metrics=['accuracy'])"
      ],
      "execution_count": null,
      "outputs": [
        {
          "output_type": "execute_result",
          "data": {
            "text/plain": [
              "(<keras.layers.normalization.batch_normalization.BatchNormalization at 0x7f417e0d5d10>,\n",
              " None)"
            ]
          },
          "metadata": {},
          "execution_count": 19
        }
      ]
    },
    {
      "cell_type": "code",
      "metadata": {
        "colab": {
          "base_uri": "https://localhost:8080/"
        },
        "id": "3Ay4tlHlEfBX",
        "outputId": "ecbe51e5-6078-45f6-af6a-0b5fd3065879"
      },
      "source": [
        "model.summary()"
      ],
      "execution_count": null,
      "outputs": [
        {
          "output_type": "stream",
          "name": "stdout",
          "text": [
            "Model: \"sequential_2\"\n",
            "_________________________________________________________________\n",
            " Layer (type)                Output Shape              Param #   \n",
            "=================================================================\n",
            " sequential_1 (Sequential)   (None, 180, 180, 1)       0         \n",
            "                                                                 \n",
            " rescaling_2 (Rescaling)     (None, 180, 180, 1)       0         \n",
            "                                                                 \n",
            " conv2d_3 (Conv2D)           (None, 178, 178, 64)      640       \n",
            "                                                                 \n",
            " max_pooling2d_3 (MaxPooling  (None, 89, 89, 64)       0         \n",
            " 2D)                                                             \n",
            "                                                                 \n",
            " conv2d_4 (Conv2D)           (None, 89, 89, 64)        36928     \n",
            "                                                                 \n",
            " max_pooling2d_4 (MaxPooling  (None, 44, 44, 64)       0         \n",
            " 2D)                                                             \n",
            "                                                                 \n",
            " conv2d_5 (Conv2D)           (None, 44, 44, 64)        36928     \n",
            "                                                                 \n",
            " max_pooling2d_5 (MaxPooling  (None, 22, 22, 64)       0         \n",
            " 2D)                                                             \n",
            "                                                                 \n",
            " dropout (Dropout)           (None, 22, 22, 64)        0         \n",
            "                                                                 \n",
            " flatten_1 (Flatten)         (None, 30976)             0         \n",
            "                                                                 \n",
            " dense_4 (Dense)             (None, 128)               3965056   \n",
            "                                                                 \n",
            " batch_normalization_4 (Batc  (None, 128)              512       \n",
            " hNormalization)                                                 \n",
            "                                                                 \n",
            " dense_5 (Dense)             (None, 128)               16512     \n",
            "                                                                 \n",
            " batch_normalization_5 (Batc  (None, 128)              512       \n",
            " hNormalization)                                                 \n",
            "                                                                 \n",
            " dense_6 (Dense)             (None, 107)               13803     \n",
            "                                                                 \n",
            " batch_normalization_6 (Batc  (None, 107)              428       \n",
            " hNormalization)                                                 \n",
            "                                                                 \n",
            " dense_7 (Dense)             (None, 107)               11556     \n",
            "                                                                 \n",
            "=================================================================\n",
            "Total params: 4,082,875\n",
            "Trainable params: 4,082,149\n",
            "Non-trainable params: 726\n",
            "_________________________________________________________________\n"
          ]
        }
      ]
    },
    {
      "cell_type": "code",
      "metadata": {
        "colab": {
          "base_uri": "https://localhost:8080/"
        },
        "id": "Jc8rD_v9Ef41",
        "outputId": "ff74794e-c368-49e4-8cf3-ab6850baf81a"
      },
      "source": [
        "epochs = 50\n",
        "history = model.fit(\n",
        "  train_ds,\n",
        "  validation_data=val_ds,\n",
        "  epochs=epochs\n",
        ")"
      ],
      "execution_count": null,
      "outputs": [
        {
          "output_type": "stream",
          "name": "stdout",
          "text": [
            "Epoch 1/50\n",
            "156/156 [==============================] - 6s 31ms/step - loss: 3.6061 - accuracy: 0.2166 - val_loss: 4.1249 - val_accuracy: 0.1526\n",
            "Epoch 2/50\n",
            "156/156 [==============================] - 4s 29ms/step - loss: 2.6548 - accuracy: 0.3270 - val_loss: 3.5062 - val_accuracy: 0.3060\n",
            "Epoch 3/50\n",
            "156/156 [==============================] - 4s 28ms/step - loss: 2.3047 - accuracy: 0.3762 - val_loss: 2.8081 - val_accuracy: 0.3446\n",
            "Epoch 4/50\n",
            "156/156 [==============================] - 4s 28ms/step - loss: 2.0843 - accuracy: 0.4274 - val_loss: 2.5365 - val_accuracy: 0.3438\n",
            "Epoch 5/50\n",
            "156/156 [==============================] - 4s 28ms/step - loss: 1.9415 - accuracy: 0.4525 - val_loss: 2.3165 - val_accuracy: 0.3896\n",
            "Epoch 6/50\n",
            "156/156 [==============================] - 4s 29ms/step - loss: 1.7947 - accuracy: 0.4740 - val_loss: 2.6657 - val_accuracy: 0.3783\n",
            "Epoch 7/50\n",
            "156/156 [==============================] - 4s 28ms/step - loss: 1.6833 - accuracy: 0.5059 - val_loss: 2.2473 - val_accuracy: 0.4145\n",
            "Epoch 8/50\n",
            "156/156 [==============================] - 4s 28ms/step - loss: 1.5943 - accuracy: 0.5212 - val_loss: 2.4636 - val_accuracy: 0.4096\n",
            "Epoch 9/50\n",
            "156/156 [==============================] - 4s 29ms/step - loss: 1.4987 - accuracy: 0.5443 - val_loss: 2.6216 - val_accuracy: 0.3719\n",
            "Epoch 10/50\n",
            "156/156 [==============================] - 4s 29ms/step - loss: 1.4188 - accuracy: 0.5635 - val_loss: 2.2635 - val_accuracy: 0.4329\n",
            "Epoch 11/50\n",
            "156/156 [==============================] - 4s 29ms/step - loss: 1.3340 - accuracy: 0.5834 - val_loss: 2.4734 - val_accuracy: 0.3944\n",
            "Epoch 12/50\n",
            "156/156 [==============================] - 4s 28ms/step - loss: 1.2791 - accuracy: 0.6009 - val_loss: 2.4829 - val_accuracy: 0.4056\n",
            "Epoch 13/50\n",
            "156/156 [==============================] - 4s 29ms/step - loss: 1.2442 - accuracy: 0.6115 - val_loss: 3.1281 - val_accuracy: 0.3430\n",
            "Epoch 14/50\n",
            "156/156 [==============================] - 4s 29ms/step - loss: 1.1735 - accuracy: 0.6346 - val_loss: 2.4267 - val_accuracy: 0.4257\n",
            "Epoch 15/50\n",
            "156/156 [==============================] - 4s 28ms/step - loss: 1.0903 - accuracy: 0.6619 - val_loss: 2.9507 - val_accuracy: 0.3751\n",
            "Epoch 16/50\n",
            "156/156 [==============================] - 4s 29ms/step - loss: 1.0658 - accuracy: 0.6593 - val_loss: 2.5812 - val_accuracy: 0.4153\n",
            "Epoch 17/50\n",
            "156/156 [==============================] - 4s 29ms/step - loss: 1.0048 - accuracy: 0.6790 - val_loss: 2.3190 - val_accuracy: 0.4514\n",
            "Epoch 18/50\n",
            "156/156 [==============================] - 4s 28ms/step - loss: 0.9814 - accuracy: 0.6782 - val_loss: 3.0460 - val_accuracy: 0.3783\n",
            "Epoch 19/50\n",
            "156/156 [==============================] - 4s 29ms/step - loss: 0.9258 - accuracy: 0.6981 - val_loss: 2.8963 - val_accuracy: 0.3871\n",
            "Epoch 20/50\n",
            "156/156 [==============================] - 4s 29ms/step - loss: 0.9038 - accuracy: 0.7049 - val_loss: 2.5022 - val_accuracy: 0.4490\n",
            "Epoch 21/50\n",
            "156/156 [==============================] - 4s 28ms/step - loss: 0.8608 - accuracy: 0.7169 - val_loss: 2.2363 - val_accuracy: 0.4956\n",
            "Epoch 22/50\n",
            "156/156 [==============================] - 4s 28ms/step - loss: 0.8280 - accuracy: 0.7388 - val_loss: 2.0144 - val_accuracy: 0.5229\n",
            "Epoch 23/50\n",
            "156/156 [==============================] - 4s 28ms/step - loss: 0.8082 - accuracy: 0.7374 - val_loss: 2.4652 - val_accuracy: 0.4586\n",
            "Epoch 24/50\n",
            "156/156 [==============================] - 4s 29ms/step - loss: 0.7608 - accuracy: 0.7533 - val_loss: 2.5345 - val_accuracy: 0.4562\n",
            "Epoch 25/50\n",
            "156/156 [==============================] - 4s 29ms/step - loss: 0.7321 - accuracy: 0.7621 - val_loss: 2.6357 - val_accuracy: 0.4643\n",
            "Epoch 26/50\n",
            "156/156 [==============================] - 4s 28ms/step - loss: 0.6841 - accuracy: 0.7723 - val_loss: 2.2399 - val_accuracy: 0.4964\n",
            "Epoch 27/50\n",
            "156/156 [==============================] - 4s 29ms/step - loss: 0.6689 - accuracy: 0.7838 - val_loss: 2.8952 - val_accuracy: 0.4169\n",
            "Epoch 28/50\n",
            "156/156 [==============================] - 4s 28ms/step - loss: 0.6504 - accuracy: 0.7848 - val_loss: 2.5362 - val_accuracy: 0.4651\n",
            "Epoch 29/50\n",
            "156/156 [==============================] - 4s 29ms/step - loss: 0.6198 - accuracy: 0.7940 - val_loss: 2.7406 - val_accuracy: 0.4562\n",
            "Epoch 30/50\n",
            "156/156 [==============================] - 4s 29ms/step - loss: 0.6028 - accuracy: 0.7984 - val_loss: 2.4816 - val_accuracy: 0.4843\n",
            "Epoch 31/50\n",
            "156/156 [==============================] - 4s 29ms/step - loss: 0.5605 - accuracy: 0.8173 - val_loss: 2.5671 - val_accuracy: 0.4876\n",
            "Epoch 32/50\n",
            "156/156 [==============================] - 4s 29ms/step - loss: 0.5460 - accuracy: 0.8229 - val_loss: 2.5562 - val_accuracy: 0.4675\n",
            "Epoch 33/50\n",
            "156/156 [==============================] - 4s 28ms/step - loss: 0.5431 - accuracy: 0.8185 - val_loss: 2.6097 - val_accuracy: 0.4723\n",
            "Epoch 34/50\n",
            "156/156 [==============================] - 4s 28ms/step - loss: 0.5278 - accuracy: 0.8300 - val_loss: 2.6546 - val_accuracy: 0.4996\n",
            "Epoch 35/50\n",
            "156/156 [==============================] - 4s 29ms/step - loss: 0.5150 - accuracy: 0.8324 - val_loss: 2.4501 - val_accuracy: 0.5181\n",
            "Epoch 36/50\n",
            "156/156 [==============================] - 4s 29ms/step - loss: 0.4856 - accuracy: 0.8436 - val_loss: 2.5420 - val_accuracy: 0.4940\n",
            "Epoch 37/50\n",
            "156/156 [==============================] - 4s 29ms/step - loss: 0.4699 - accuracy: 0.8474 - val_loss: 2.5795 - val_accuracy: 0.4843\n",
            "Epoch 38/50\n",
            "156/156 [==============================] - 4s 29ms/step - loss: 0.4490 - accuracy: 0.8528 - val_loss: 2.8404 - val_accuracy: 0.4779\n",
            "Epoch 39/50\n",
            "156/156 [==============================] - 4s 29ms/step - loss: 0.4486 - accuracy: 0.8530 - val_loss: 2.9424 - val_accuracy: 0.4884\n",
            "Epoch 40/50\n",
            "156/156 [==============================] - 4s 29ms/step - loss: 0.4292 - accuracy: 0.8563 - val_loss: 3.0380 - val_accuracy: 0.4763\n",
            "Epoch 41/50\n",
            "156/156 [==============================] - 5s 29ms/step - loss: 0.4149 - accuracy: 0.8661 - val_loss: 2.8817 - val_accuracy: 0.4900\n",
            "Epoch 42/50\n",
            "156/156 [==============================] - 4s 29ms/step - loss: 0.3828 - accuracy: 0.8735 - val_loss: 3.0772 - val_accuracy: 0.4675\n",
            "Epoch 43/50\n",
            "156/156 [==============================] - 4s 29ms/step - loss: 0.3837 - accuracy: 0.8739 - val_loss: 2.8264 - val_accuracy: 0.4964\n",
            "Epoch 44/50\n",
            "156/156 [==============================] - 4s 29ms/step - loss: 0.3595 - accuracy: 0.8803 - val_loss: 3.1268 - val_accuracy: 0.4747\n",
            "Epoch 45/50\n",
            "156/156 [==============================] - 4s 29ms/step - loss: 0.3668 - accuracy: 0.8820 - val_loss: 2.9825 - val_accuracy: 0.5052\n",
            "Epoch 46/50\n",
            "156/156 [==============================] - 4s 29ms/step - loss: 0.3706 - accuracy: 0.8773 - val_loss: 2.7044 - val_accuracy: 0.5173\n",
            "Epoch 47/50\n",
            "156/156 [==============================] - 4s 29ms/step - loss: 0.3716 - accuracy: 0.8775 - val_loss: 2.8653 - val_accuracy: 0.5149\n",
            "Epoch 48/50\n",
            "156/156 [==============================] - 4s 29ms/step - loss: 0.3387 - accuracy: 0.8898 - val_loss: 2.6219 - val_accuracy: 0.5454\n",
            "Epoch 49/50\n",
            "156/156 [==============================] - 4s 29ms/step - loss: 0.3298 - accuracy: 0.8940 - val_loss: 3.0279 - val_accuracy: 0.5092\n",
            "Epoch 50/50\n",
            "156/156 [==============================] - 4s 29ms/step - loss: 0.3123 - accuracy: 0.9008 - val_loss: 2.9054 - val_accuracy: 0.5197\n"
          ]
        }
      ]
    },
    {
      "cell_type": "code",
      "metadata": {
        "colab": {
          "base_uri": "https://localhost:8080/",
          "height": 499
        },
        "id": "ynhS2KjVEhj8",
        "outputId": "c3b69862-1267-4346-97e3-63d647b9cf1a"
      },
      "source": [
        "acc = history.history['accuracy']\n",
        "val_acc = history.history['val_accuracy']\n",
        "\n",
        "loss = history.history['loss']\n",
        "val_loss = history.history['val_loss']\n",
        "\n",
        "epochs_range = range(epochs)\n",
        "\n",
        "plt.figure(figsize=(8, 8))\n",
        "plt.subplot(1, 2, 1)\n",
        "plt.plot(epochs_range, acc, label='Training Accuracy')\n",
        "plt.plot(epochs_range, val_acc, label='Validation Accuracy')\n",
        "plt.legend(loc='lower right')\n",
        "plt.title('Training and Validation Accuracy')\n",
        "\n",
        "plt.subplot(1, 2, 2)\n",
        "plt.plot(epochs_range, loss, label='Training Loss')\n",
        "plt.plot(epochs_range, val_loss, label='Validation Loss')\n",
        "plt.legend(loc='upper right')\n",
        "plt.title('Training and Validation Loss')\n",
        "plt.show()"
      ],
      "execution_count": null,
      "outputs": [
        {
          "output_type": "display_data",
          "data": {
            "image/png": "[encoded data removed]",
            "text/plain": [
              "<Figure size 576x576 with 2 Axes>"
            ]
          },
          "metadata": {
            "needs_background": "light"
          }
        }
      ]
    },
    {
      "cell_type": "code",
      "metadata": {
        "colab": {
          "base_uri": "https://localhost:8080/"
        },
        "id": "IbEQMrsAH2yZ",
        "outputId": "526b5ebf-4e25-4890-bee3-aaad38fdb184"
      },
      "source": [
        "model.compile(\n",
        "    optimizer='adam',\n",
        "    loss=tf.losses.SparseCategoricalCrossentropy(from_logits=True),\n",
        "    metrics=['accuracy'])\n",
        "model.summary()"
      ],
      "execution_count": null,
      "outputs": [
        {
          "output_type": "stream",
          "name": "stdout",
          "text": [
            "Model: \"sequential_2\"\n",
            "_________________________________________________________________\n",
            " Layer (type)                Output Shape              Param #   \n",
            "=================================================================\n",
            " sequential_1 (Sequential)   (None, 180, 180, 1)       0         \n",
            "                                                                 \n",
            " rescaling_2 (Rescaling)     (None, 180, 180, 1)       0         \n",
            "                                                                 \n",
            " conv2d_3 (Conv2D)           (None, 178, 178, 64)      640       \n",
            "                                                                 \n",
            " max_pooling2d_3 (MaxPooling  (None, 89, 89, 64)       0         \n",
            " 2D)                                                             \n",
            "                                                                 \n",
            " conv2d_4 (Conv2D)           (None, 89, 89, 64)        36928     \n",
            "                                                                 \n",
            " max_pooling2d_4 (MaxPooling  (None, 44, 44, 64)       0         \n",
            " 2D)                                                             \n",
            "                                                                 \n",
            " conv2d_5 (Conv2D)           (None, 44, 44, 64)        36928     \n",
            "                                                                 \n",
            " max_pooling2d_5 (MaxPooling  (None, 22, 22, 64)       0         \n",
            " 2D)                                                             \n",
            "                                                                 \n",
            " dropout (Dropout)           (None, 22, 22, 64)        0         \n",
            "                                                                 \n",
            " flatten_1 (Flatten)         (None, 30976)             0         \n",
            "                                                                 \n",
            " dense_4 (Dense)             (None, 128)               3965056   \n",
            "                                                                 \n",
            " batch_normalization_4 (Batc  (None, 128)              512       \n",
            " hNormalization)                                                 \n",
            "                                                                 \n",
            " dense_5 (Dense)             (None, 128)               16512     \n",
            "                                                                 \n",
            " batch_normalization_5 (Batc  (None, 128)              512       \n",
            " hNormalization)                                                 \n",
            "                                                                 \n",
            " dense_6 (Dense)             (None, 107)               13803     \n",
            "                                                                 \n",
            " batch_normalization_6 (Batc  (None, 107)              428       \n",
            " hNormalization)                                                 \n",
            "                                                                 \n",
            " dense_7 (Dense)             (None, 107)               11556     \n",
            "                                                                 \n",
            "=================================================================\n",
            "Total params: 4,082,875\n",
            "Trainable params: 4,082,149\n",
            "Non-trainable params: 726\n",
            "_________________________________________________________________\n"
          ]
        }
      ]
    },
    {
      "cell_type": "code",
      "metadata": {
        "id": "df30HUqFjWre"
      },
      "source": [
        ""
      ],
      "execution_count": null,
      "outputs": []
    }
  ]
}