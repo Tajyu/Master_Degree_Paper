{
  "nbformat": 4,
  "nbformat_minor": 0,
  "metadata": {
    "colab": {
      "name": "3Class_Genus_V3_BatchNormal_64_Layer_8.ipynb",
      "provenance": [],
      "collapsed_sections": [],
      "mount_file_id": "11aNt6HVcXRCAR6pOZfeksnlqE9kMfqHx",
      "authorship_tag": "ABX9TyO1VlOXPN/y3/D6SgYotDk5",
      "include_colab_link": true
    },
    "kernelspec": {
      "name": "python3",
      "display_name": "Python 3"
    },
    "language_info": {
      "name": "python"
    },
    "accelerator": "GPU"
  },
  "cells": [
    {
      "cell_type": "markdown",
      "metadata": {
        "id": "view-in-github",
        "colab_type": "text"
      },
      "source": [
        "<a href=\"https://colab.research.google.com/github/Tajyu/Master_Degree_Paper/blob/main/Code/Filter_64/No%20input_dim/3Class_Genus_V3_BatchNormal_64_Layer_8.ipynb\" target=\"_parent\"><img src=\"https://colab.research.google.com/assets/colab-badge.svg\" alt=\"Open In Colab\"/></a>"
      ]
    },
    {
      "cell_type": "code",
      "metadata": {
        "id": "yWckd06_68Em"
      },
      "source": [
        "import tensorflow as tf\n",
        "from tensorflow.keras import datasets, layers, models\n",
        "from keras.preprocessing.image import ImageDataGenerator\n",
        "import numpy as np\n",
        "import matplotlib.pyplot as plt\n",
        "import cv2 as cv\n",
        "import os\n",
        "import pathlib\n",
        "import PIL\n",
        "from tensorflow import keras\n",
        "from tensorflow.keras import layers\n",
        "from tensorflow.keras.models import Sequential\n",
        "from tensorflow.keras.layers import Dense, Flatten, BatchNormalization, Dropout"
      ],
      "execution_count": null,
      "outputs": []
    },
    {
      "cell_type": "code",
      "metadata": {
        "id": "xav9zirHttk_"
      },
      "source": [
        "image_list = os.listdir('/content/drive/MyDrive/Colab Notebooks/Final_Project/Cell_Genus')"
      ],
      "execution_count": null,
      "outputs": []
    },
    {
      "cell_type": "code",
      "metadata": {
        "colab": {
          "base_uri": "https://localhost:8080/"
        },
        "id": "K-wD0dM5tx_E",
        "outputId": "c757ae48-0483-4b30-b420-0d5f40c77f79"
      },
      "source": [
        "print(image_list)"
      ],
      "execution_count": null,
      "outputs": [
        {
          "output_type": "stream",
          "name": "stdout",
          "text": [
            "['10_Genus_Stauroneis_Ehrenberg', '10_Genus_Staurosira_Ehrenberg', '11_Genus_Craspedostauros_E.J_Cox_1999', '11_Genus_Staurosirella_Williams_and_Round', '12_Genus_Caloneis_Cleve_1894', '12_Genus_Synedra_Ehrenberg', '13_Genus_Pinnularia_Ehrenberg_1843', '1_Genus_Acanthoceras_Honigmann', '1_Genus_Achnanthes_Bory', '1_Genus_Actinocyclus_Ehrenberg', '1_Genus_Aphanocapsa_Nageli_1849', '1_Genus_Asterionella_Hassall', '1_Genus_Aulacoseira', '1_Genus_Biremis_Mann_et_Cox_in_Round_Crawford_and_Mann', '1_Genus_Characium_A_Braun_in_Kutzing_1849', '1_Genus_Chroococcus_Nageli', '1_Genus_Closterium_Nitzsch_ex_Ralfs_1848', '1_Genus_Coelastrum_Nageli_1849', '1_Genus_Cylindrocystis_Meneghini_ex_de_Bary_1858', '1_Genus_Dictyosphaerium_Nageli_1849', '1_Genus_Docidium_Brebisson_ex_Ralfs_1848', '1_Genus_Eunotia_Ehrenberg', '1_Genus_Geitlerinema_(Anagnostidis_et_Komarek)_Anagnostidis_1989', '1_Genus_Gonatozygon_de_Bary_1856', '1_Genus_Hydrodictyon_Roth_1797', '1_Genus_Hydrosera_whampoensis', '1_Genus_Jaaginema_Anagnostidis_et_Komarek_1988', '1_Genus_Lyngbya_C_Agardh_ex_Gomont_1892', '1_Genus_Melosira_Agardh', '1_Genus_Micractinium_Fresenius_1858', '1_Genus_Micrasterias_Ralfs_1848', '1_Genus_Microcystis_Kutzing_ex_Lemmermann_1907', '1_Genus_Oscillatoria_Vaucher_ex_Gomont_1982', '1_Genus_Pediastrum_Meyen_1829', '1_Genus_Penium_Brebisson_ex_Ralfs_in_Ralfs_1848', '1_Genus_Phormidium_Kutzing_ex_Gomont_1892', '1_Genus_Planktothrix_Anagnostidis_et_Komarek_1988', '1_Genus_Pleurosira_laevis_(Ehrenberg)', '1_Genus_Rhizosolenia_Ehrenberg', '1_Genus_Schizochlamydella_Korshikov_1953', '1_Genus_Staurodesmus_Teiling_1848', '1_Genus_Trochiscia_Kutzing_1834', '1_Scenedesmus_Hegewald_1978', '2_Acutodesmus_Hegewald_1978', '2_Genus_Achnanthidium_Kutzing', '2_Genus_Actinastrum_Lagerheim_1882', '2_Genus_Actinella_Lewis', '2_Genus_Ankyra_Fott_1957', '2_Genus_Caloneis_Cleve', '2_Genus_Chaetoceros_Ehrenberg', '2_Genus_Coenochloris_Korshikov_1953', '2_Genus_Cyclotella', '2_Genus_Diatoma_Bory', '2_Genus_Dimorphococcus_A_Braun_1855', '2_Genus_Golenkinia_Chodat_1894', '2_Genus_Haplotaenium_Bando_1988', '2_Genus_Leibleinia_(Gomont)_L_Hoffman_1985', '2_Genus_Leptolyngbya_Anagnostidis_et_Komarek_1988', '2_Genus_Merismopedia_Meyen_1839', '2_Genus_Netrium_(Nageli)_Itzigsohn_et_Rothe_in_Rabenhorst_1856', '2_Genus_Orthoseira_Thwaites_1848', '2_Genus_Phormidium_Kutzing_ex_Gomont_1892', '2_Genus_Sorastrum_Kutzing_1845', '2_Genus_Staurastrum_Meyen_ex_Ralfs_1848', '3_Desmodesmus_Chodat_1926', '3_Genus_Acanthosphaera_Lemmerman_1899', '3_Genus_Anorthoneis_Grunow', '3_Genus_Cyclostephanos_Round', '3_Genus_Dichotomococcus_Korshikov_1928', '3_Genus_Heteroleibleinia_(Geitler)_L_Hoffmann_1985', '3_Genus_Limnothrix_Meffert_1988', '3_Genus_Meridion_Agardh', '3_Genus_Paradoxia_Svirenko_1928', '3_Genus_Peronia_Bebisson_and_Arnott_ex_Kitton', '3_Genus_Phormidiochaete_Komarek_in_Anagnostidis_2001', '3_Genus_Pinnularia_Ehrenberg_1', '3_Genus_Pleurotaenium_Nageli_1849', '3_Genus_Radiococcus_Schmidle_1902', '3_Genus_Snowella_Elenkin_1938', '3_Genus_Spirotaenia_Brebisson_in_Ralfs_1848', '4_Genus_Botryococcus_Kutzing_1849', '4_Genus_Cocconeis_Ehrenberg', '4_Genus_Eutetramorus_Walton_1918', '4_Genus_Leptolyngbya_Anagnostidis_et_Komarek_1988', '4_Genus_Opephora_Petit', '4_Genus_Pinnularia_Ehrenberg_2', '4_Genus_Schroederia_Lemmermann_1898', '4_Genus_Stephanodiscus_Ehrenberg', '4_Genus_Synechocystis_Sauvageau_1892', '4_Genus_Tortitaenia_A_J_Brook_1998', '5_Genus_Caloneis_Cleve', '5_Genus_Coenocystis_Korshikov_1953', '5_Genus_Planktolyngbya_Anagnostidis_et_Komarek_1988', '5_Genus_Tabellaria_Ehrenberg', '5_Genus_Thalassiosira_Cleve', '5_Genus_Woronichinia_Elenkin_1933', '6_Genus_Anomoeoneis_Pfitzer', '6_Genus_Fragilaria_Lyngbye', '6_Genus_Gloeocystis_Nageli_1849', '6_Genus_Pseudanabaena_Lauterborn_1915', '6_Genus_Skeletonema_Greville', '7_Genus_Caloneis_Cleve', '7_Genus_Hannaea_Patrick', '8_Genus_Diploneis(Ehrenberg)_Cleve', '8_Genus_Pseudostaurosira_Williams_and_Round', '9_Genus_Neidium_Pfitzer', '9_Genus_Punctastriata_Williams_and_Round']\n"
          ]
        }
      ]
    },
    {
      "cell_type": "code",
      "metadata": {
        "id": "o-0DvzEHt8VE"
      },
      "source": [
        "data_generator = ImageDataGenerator(rescale = 1./255)\n",
        "\n",
        "data_dir = \"/content/drive/MyDrive/Colab Notebooks/Final_Project/Cell_Genus\""
      ],
      "execution_count": null,
      "outputs": []
    },
    {
      "cell_type": "code",
      "metadata": {
        "id": "7aTCfEm3t10n"
      },
      "source": [
        "batch_size = 32\n",
        "img_height = 180\n",
        "img_width = 180"
      ],
      "execution_count": null,
      "outputs": []
    },
    {
      "cell_type": "code",
      "metadata": {
        "id": "9Smg-miEt22s",
        "colab": {
          "base_uri": "https://localhost:8080/"
        },
        "outputId": "fa9917ba-abec-4534-a5ea-bfec26be7caf"
      },
      "source": [
        "train_ds = tf.keras.preprocessing.image_dataset_from_directory(\n",
        "  data_dir,\n",
        "  color_mode = \"grayscale\",\n",
        "  validation_split=0.2,\n",
        "  subset=\"training\",\n",
        "  seed=123,\n",
        "  image_size=(img_height, img_width),\n",
        "  batch_size=batch_size)"
      ],
      "execution_count": null,
      "outputs": [
        {
          "output_type": "stream",
          "name": "stdout",
          "text": [
            "Found 6226 files belonging to 107 classes.\n",
            "Using 4981 files for training.\n"
          ]
        }
      ]
    },
    {
      "cell_type": "code",
      "metadata": {
        "id": "1nR0WdQGt44x",
        "colab": {
          "base_uri": "https://localhost:8080/"
        },
        "outputId": "95427381-3d6f-4252-9120-6837a39a27a9"
      },
      "source": [
        "val_ds = tf.keras.preprocessing.image_dataset_from_directory(\n",
        "  data_dir,\n",
        "  color_mode = \"grayscale\",\n",
        "  validation_split=0.2,\n",
        "  subset=\"validation\",\n",
        "  seed=123,\n",
        "  image_size=(img_height, img_width),\n",
        "  batch_size=batch_size)"
      ],
      "execution_count": null,
      "outputs": [
        {
          "output_type": "stream",
          "name": "stdout",
          "text": [
            "Found 6226 files belonging to 107 classes.\n",
            "Using 1245 files for validation.\n"
          ]
        }
      ]
    },
    {
      "cell_type": "code",
      "metadata": {
        "id": "F-cz_CtGug8Y",
        "colab": {
          "base_uri": "https://localhost:8080/"
        },
        "outputId": "2dd682d1-d374-4a47-95dd-64fd7a66960d"
      },
      "source": [
        "class_names = train_ds.class_names\n",
        "print(class_names)"
      ],
      "execution_count": null,
      "outputs": [
        {
          "output_type": "stream",
          "name": "stdout",
          "text": [
            "['10_Genus_Stauroneis_Ehrenberg', '10_Genus_Staurosira_Ehrenberg', '11_Genus_Craspedostauros_E.J_Cox_1999', '11_Genus_Staurosirella_Williams_and_Round', '12_Genus_Caloneis_Cleve_1894', '12_Genus_Synedra_Ehrenberg', '13_Genus_Pinnularia_Ehrenberg_1843', '1_Genus_Acanthoceras_Honigmann', '1_Genus_Achnanthes_Bory', '1_Genus_Actinocyclus_Ehrenberg', '1_Genus_Aphanocapsa_Nageli_1849', '1_Genus_Asterionella_Hassall', '1_Genus_Aulacoseira', '1_Genus_Biremis_Mann_et_Cox_in_Round_Crawford_and_Mann', '1_Genus_Characium_A_Braun_in_Kutzing_1849', '1_Genus_Chroococcus_Nageli', '1_Genus_Closterium_Nitzsch_ex_Ralfs_1848', '1_Genus_Coelastrum_Nageli_1849', '1_Genus_Cylindrocystis_Meneghini_ex_de_Bary_1858', '1_Genus_Dictyosphaerium_Nageli_1849', '1_Genus_Docidium_Brebisson_ex_Ralfs_1848', '1_Genus_Eunotia_Ehrenberg', '1_Genus_Geitlerinema_(Anagnostidis_et_Komarek)_Anagnostidis_1989', '1_Genus_Gonatozygon_de_Bary_1856', '1_Genus_Hydrodictyon_Roth_1797', '1_Genus_Hydrosera_whampoensis', '1_Genus_Jaaginema_Anagnostidis_et_Komarek_1988', '1_Genus_Lyngbya_C_Agardh_ex_Gomont_1892', '1_Genus_Melosira_Agardh', '1_Genus_Micractinium_Fresenius_1858', '1_Genus_Micrasterias_Ralfs_1848', '1_Genus_Microcystis_Kutzing_ex_Lemmermann_1907', '1_Genus_Oscillatoria_Vaucher_ex_Gomont_1982', '1_Genus_Pediastrum_Meyen_1829', '1_Genus_Penium_Brebisson_ex_Ralfs_in_Ralfs_1848', '1_Genus_Phormidium_Kutzing_ex_Gomont_1892', '1_Genus_Planktothrix_Anagnostidis_et_Komarek_1988', '1_Genus_Pleurosira_laevis_(Ehrenberg)', '1_Genus_Rhizosolenia_Ehrenberg', '1_Genus_Schizochlamydella_Korshikov_1953', '1_Genus_Staurodesmus_Teiling_1848', '1_Genus_Trochiscia_Kutzing_1834', '1_Scenedesmus_Hegewald_1978', '2_Acutodesmus_Hegewald_1978', '2_Genus_Achnanthidium_Kutzing', '2_Genus_Actinastrum_Lagerheim_1882', '2_Genus_Actinella_Lewis', '2_Genus_Ankyra_Fott_1957', '2_Genus_Caloneis_Cleve', '2_Genus_Chaetoceros_Ehrenberg', '2_Genus_Coenochloris_Korshikov_1953', '2_Genus_Cyclotella', '2_Genus_Diatoma_Bory', '2_Genus_Dimorphococcus_A_Braun_1855', '2_Genus_Golenkinia_Chodat_1894', '2_Genus_Haplotaenium_Bando_1988', '2_Genus_Leibleinia_(Gomont)_L_Hoffman_1985', '2_Genus_Leptolyngbya_Anagnostidis_et_Komarek_1988', '2_Genus_Merismopedia_Meyen_1839', '2_Genus_Netrium_(Nageli)_Itzigsohn_et_Rothe_in_Rabenhorst_1856', '2_Genus_Orthoseira_Thwaites_1848', '2_Genus_Phormidium_Kutzing_ex_Gomont_1892', '2_Genus_Sorastrum_Kutzing_1845', '2_Genus_Staurastrum_Meyen_ex_Ralfs_1848', '3_Desmodesmus_Chodat_1926', '3_Genus_Acanthosphaera_Lemmerman_1899', '3_Genus_Anorthoneis_Grunow', '3_Genus_Cyclostephanos_Round', '3_Genus_Dichotomococcus_Korshikov_1928', '3_Genus_Heteroleibleinia_(Geitler)_L_Hoffmann_1985', '3_Genus_Limnothrix_Meffert_1988', '3_Genus_Meridion_Agardh', '3_Genus_Paradoxia_Svirenko_1928', '3_Genus_Peronia_Bebisson_and_Arnott_ex_Kitton', '3_Genus_Phormidiochaete_Komarek_in_Anagnostidis_2001', '3_Genus_Pinnularia_Ehrenberg_1', '3_Genus_Pleurotaenium_Nageli_1849', '3_Genus_Radiococcus_Schmidle_1902', '3_Genus_Snowella_Elenkin_1938', '3_Genus_Spirotaenia_Brebisson_in_Ralfs_1848', '4_Genus_Botryococcus_Kutzing_1849', '4_Genus_Cocconeis_Ehrenberg', '4_Genus_Eutetramorus_Walton_1918', '4_Genus_Leptolyngbya_Anagnostidis_et_Komarek_1988', '4_Genus_Opephora_Petit', '4_Genus_Pinnularia_Ehrenberg_2', '4_Genus_Schroederia_Lemmermann_1898', '4_Genus_Stephanodiscus_Ehrenberg', '4_Genus_Synechocystis_Sauvageau_1892', '4_Genus_Tortitaenia_A_J_Brook_1998', '5_Genus_Caloneis_Cleve', '5_Genus_Coenocystis_Korshikov_1953', '5_Genus_Planktolyngbya_Anagnostidis_et_Komarek_1988', '5_Genus_Tabellaria_Ehrenberg', '5_Genus_Thalassiosira_Cleve', '5_Genus_Woronichinia_Elenkin_1933', '6_Genus_Anomoeoneis_Pfitzer', '6_Genus_Fragilaria_Lyngbye', '6_Genus_Gloeocystis_Nageli_1849', '6_Genus_Pseudanabaena_Lauterborn_1915', '6_Genus_Skeletonema_Greville', '7_Genus_Caloneis_Cleve', '7_Genus_Hannaea_Patrick', '8_Genus_Diploneis(Ehrenberg)_Cleve', '8_Genus_Pseudostaurosira_Williams_and_Round', '9_Genus_Neidium_Pfitzer', '9_Genus_Punctastriata_Williams_and_Round']\n"
          ]
        }
      ]
    },
    {
      "cell_type": "code",
      "metadata": {
        "id": "5EQOikPAukic",
        "colab": {
          "base_uri": "https://localhost:8080/"
        },
        "outputId": "22fe673e-10a7-4c9c-db80-f866a6b86e62"
      },
      "source": [
        "for image_batch, labels_batch in train_ds:\n",
        "  print(image_batch.shape)\n",
        "  print(labels_batch.shape)\n",
        "  break"
      ],
      "execution_count": null,
      "outputs": [
        {
          "output_type": "stream",
          "name": "stdout",
          "text": [
            "(32, 180, 180, 1)\n",
            "(32,)\n"
          ]
        }
      ]
    },
    {
      "cell_type": "code",
      "metadata": {
        "id": "9eVl7tiDux9q"
      },
      "source": [
        "from tensorflow.keras import layers\n",
        "\n",
        "normalization_layer = tf.keras.layers.experimental.preprocessing.Rescaling(1./255)"
      ],
      "execution_count": null,
      "outputs": []
    },
    {
      "cell_type": "code",
      "metadata": {
        "id": "AiIrsxzZuzEo",
        "colab": {
          "base_uri": "https://localhost:8080/"
        },
        "outputId": "a6edee31-e5aa-4c70-b41d-20742541bcc7"
      },
      "source": [
        "normalized_ds = train_ds.map(lambda x, y: (normalization_layer(x), y))\n",
        "image_batch, labels_batch = next(iter(normalized_ds))\n",
        "first_image = image_batch[0]\n",
        "# Notice the pixels values are now in `[0,1]`.\n",
        "print(np.min(first_image), np.max(first_image))"
      ],
      "execution_count": null,
      "outputs": [
        {
          "output_type": "stream",
          "name": "stdout",
          "text": [
            "0.0 1.0\n"
          ]
        }
      ]
    },
    {
      "cell_type": "code",
      "metadata": {
        "id": "__WbVabru0Bp"
      },
      "source": [
        "AUTOTUNE = tf.data.experimental.AUTOTUNE\n",
        "\n",
        "train_ds = train_ds.cache().prefetch(buffer_size=AUTOTUNE)\n",
        "val_ds = val_ds.cache().prefetch(buffer_size=AUTOTUNE)"
      ],
      "execution_count": null,
      "outputs": []
    },
    {
      "cell_type": "code",
      "metadata": {
        "id": "g1GeYFXCu2gV"
      },
      "source": [
        "num_classes = 107\n",
        "model = tf.keras.Sequential([\n",
        "    layers.experimental.preprocessing.Rescaling(1./255),\n",
        "    layers.Conv2D(64, 3,input_shape = image_batch, activation='relu'),\n",
        "    layers.MaxPooling2D(),\n",
        "    layers.Conv2D(64, 3, activation='relu'),\n",
        "    layers.MaxPooling2D(),\n",
        "    layers.Conv2D(64, 3, activation='relu'),\n",
        "    layers.MaxPooling2D(),\n",
        "    layers.Flatten(),\n",
        "    BatchNormalization(),\n",
        "    layers.Dense(128, activation='relu'),\n",
        "    BatchNormalization(),\n",
        "    layers.Dense(128, activation='relu'),\n",
        "    BatchNormalization(),\n",
        "    layers.Dense(128, activation='relu'),\n",
        "    BatchNormalization(),\n",
        "    layers.Dense(128, activation='relu'),\n",
        "    BatchNormalization(),\n",
        "    layers.Dense(128, activation='relu'),\n",
        "    BatchNormalization(),\n",
        "    layers.Dense(128, activation='relu'),\n",
        "    BatchNormalization(),\n",
        "    layers.Dense(128, activation='relu'),\n",
        "    BatchNormalization(),\n",
        "    layers.Dense(107, activation='softmax'),\n",
        "    BatchNormalization(),\n",
        "    layers.Dense(num_classes)\n",
        "    ])"
      ],
      "execution_count": null,
      "outputs": []
    },
    {
      "cell_type": "code",
      "metadata": {
        "id": "wU4xPAvNYWry"
      },
      "source": [
        "model.compile(\n",
        "    optimizer='adam',\n",
        "    loss=tf.losses.SparseCategoricalCrossentropy(from_logits=True),\n",
        "    metrics=['accuracy'])"
      ],
      "execution_count": null,
      "outputs": []
    },
    {
      "cell_type": "code",
      "metadata": {
        "id": "Tk8ssrbHu44p",
        "colab": {
          "base_uri": "https://localhost:8080/"
        },
        "outputId": "8c676aad-11ae-4d58-9976-a3f37876ff56"
      },
      "source": [
        "epochs=50\n",
        "history = model.fit(\n",
        "  train_ds,\n",
        "  validation_data=val_ds,\n",
        "  epochs=epochs\n",
        ")"
      ],
      "execution_count": null,
      "outputs": [
        {
          "output_type": "stream",
          "name": "stdout",
          "text": [
            "Epoch 1/50\n",
            "156/156 [==============================] - 378s 2s/step - loss: 3.6686 - accuracy: 0.2359 - val_loss: 4.1922 - val_accuracy: 0.1004\n",
            "Epoch 2/50\n",
            "156/156 [==============================] - 5s 29ms/step - loss: 2.6242 - accuracy: 0.3457 - val_loss: 3.6351 - val_accuracy: 0.2618\n",
            "Epoch 3/50\n",
            "156/156 [==============================] - 4s 29ms/step - loss: 2.2419 - accuracy: 0.4035 - val_loss: 2.8589 - val_accuracy: 0.3775\n",
            "Epoch 4/50\n",
            "156/156 [==============================] - 5s 29ms/step - loss: 1.9371 - accuracy: 0.4734 - val_loss: 2.5816 - val_accuracy: 0.3614\n",
            "Epoch 5/50\n",
            "156/156 [==============================] - 5s 29ms/step - loss: 1.7125 - accuracy: 0.5196 - val_loss: 2.5229 - val_accuracy: 0.3582\n",
            "Epoch 6/50\n",
            "156/156 [==============================] - 4s 29ms/step - loss: 1.4936 - accuracy: 0.5836 - val_loss: 2.3279 - val_accuracy: 0.4329\n",
            "Epoch 7/50\n",
            "156/156 [==============================] - 5s 29ms/step - loss: 1.3105 - accuracy: 0.6258 - val_loss: 2.1934 - val_accuracy: 0.4763\n",
            "Epoch 8/50\n",
            "156/156 [==============================] - 5s 29ms/step - loss: 1.1231 - accuracy: 0.6820 - val_loss: 2.2198 - val_accuracy: 0.4651\n",
            "Epoch 9/50\n",
            "156/156 [==============================] - 5s 29ms/step - loss: 0.9235 - accuracy: 0.7472 - val_loss: 2.2211 - val_accuracy: 0.4707\n",
            "Epoch 10/50\n",
            "156/156 [==============================] - 5s 29ms/step - loss: 0.7959 - accuracy: 0.7713 - val_loss: 2.5139 - val_accuracy: 0.4434\n",
            "Epoch 11/50\n",
            "156/156 [==============================] - 5s 29ms/step - loss: 0.6619 - accuracy: 0.8185 - val_loss: 2.3080 - val_accuracy: 0.5100\n",
            "Epoch 12/50\n",
            "156/156 [==============================] - 5s 29ms/step - loss: 0.5707 - accuracy: 0.8344 - val_loss: 2.4762 - val_accuracy: 0.4867\n",
            "Epoch 13/50\n",
            "156/156 [==============================] - 5s 29ms/step - loss: 0.4533 - accuracy: 0.8767 - val_loss: 2.7573 - val_accuracy: 0.4562\n",
            "Epoch 14/50\n",
            "156/156 [==============================] - 5s 29ms/step - loss: 0.3953 - accuracy: 0.8966 - val_loss: 2.5162 - val_accuracy: 0.5100\n",
            "Epoch 15/50\n",
            "156/156 [==============================] - 5s 29ms/step - loss: 0.3329 - accuracy: 0.9103 - val_loss: 2.5078 - val_accuracy: 0.5173\n",
            "Epoch 16/50\n",
            "156/156 [==============================] - 5s 29ms/step - loss: 0.2753 - accuracy: 0.9279 - val_loss: 2.7474 - val_accuracy: 0.5068\n",
            "Epoch 17/50\n",
            "156/156 [==============================] - 5s 29ms/step - loss: 0.2709 - accuracy: 0.9261 - val_loss: 2.6511 - val_accuracy: 0.5149\n",
            "Epoch 18/50\n",
            "156/156 [==============================] - 5s 29ms/step - loss: 0.2395 - accuracy: 0.9364 - val_loss: 2.8016 - val_accuracy: 0.5092\n",
            "Epoch 19/50\n",
            "156/156 [==============================] - 4s 29ms/step - loss: 0.2188 - accuracy: 0.9430 - val_loss: 2.7925 - val_accuracy: 0.4996\n",
            "Epoch 20/50\n",
            "156/156 [==============================] - 4s 29ms/step - loss: 0.1888 - accuracy: 0.9502 - val_loss: 2.9484 - val_accuracy: 0.5157\n",
            "Epoch 21/50\n",
            "156/156 [==============================] - 4s 28ms/step - loss: 0.1590 - accuracy: 0.9550 - val_loss: 2.9642 - val_accuracy: 0.4972\n",
            "Epoch 22/50\n",
            "156/156 [==============================] - 4s 28ms/step - loss: 0.1783 - accuracy: 0.9538 - val_loss: 2.9599 - val_accuracy: 0.5108\n",
            "Epoch 23/50\n",
            "156/156 [==============================] - 4s 28ms/step - loss: 0.1596 - accuracy: 0.9586 - val_loss: 2.9471 - val_accuracy: 0.5060\n",
            "Epoch 24/50\n",
            "156/156 [==============================] - 4s 29ms/step - loss: 0.1413 - accuracy: 0.9594 - val_loss: 3.3717 - val_accuracy: 0.4546\n",
            "Epoch 25/50\n",
            "156/156 [==============================] - 4s 28ms/step - loss: 0.1337 - accuracy: 0.9635 - val_loss: 3.1718 - val_accuracy: 0.4892\n",
            "Epoch 26/50\n",
            "156/156 [==============================] - 4s 28ms/step - loss: 0.0917 - accuracy: 0.9789 - val_loss: 3.0074 - val_accuracy: 0.5149\n",
            "Epoch 27/50\n",
            "156/156 [==============================] - 4s 29ms/step - loss: 0.0897 - accuracy: 0.9771 - val_loss: 3.0762 - val_accuracy: 0.5197\n",
            "Epoch 28/50\n",
            "156/156 [==============================] - 4s 28ms/step - loss: 0.0680 - accuracy: 0.9829 - val_loss: 3.2254 - val_accuracy: 0.5020\n",
            "Epoch 29/50\n",
            "156/156 [==============================] - 4s 28ms/step - loss: 0.0552 - accuracy: 0.9878 - val_loss: 3.1875 - val_accuracy: 0.5165\n",
            "Epoch 30/50\n",
            "156/156 [==============================] - 4s 29ms/step - loss: 0.0434 - accuracy: 0.9908 - val_loss: 3.2218 - val_accuracy: 0.5181\n",
            "Epoch 31/50\n",
            "156/156 [==============================] - 4s 28ms/step - loss: 0.0467 - accuracy: 0.9888 - val_loss: 3.2700 - val_accuracy: 0.5189\n",
            "Epoch 32/50\n",
            "156/156 [==============================] - 4s 29ms/step - loss: 0.0776 - accuracy: 0.9801 - val_loss: 3.8898 - val_accuracy: 0.4699\n",
            "Epoch 33/50\n",
            "156/156 [==============================] - 4s 28ms/step - loss: 0.1613 - accuracy: 0.9538 - val_loss: 3.7941 - val_accuracy: 0.4675\n",
            "Epoch 34/50\n",
            "156/156 [==============================] - 4s 28ms/step - loss: 0.2564 - accuracy: 0.9265 - val_loss: 3.7040 - val_accuracy: 0.4763\n",
            "Epoch 35/50\n",
            "156/156 [==============================] - 4s 28ms/step - loss: 0.1848 - accuracy: 0.9492 - val_loss: 3.7091 - val_accuracy: 0.4643\n",
            "Epoch 36/50\n",
            "156/156 [==============================] - 4s 29ms/step - loss: 0.0957 - accuracy: 0.9749 - val_loss: 3.3088 - val_accuracy: 0.5108\n",
            "Epoch 37/50\n",
            "156/156 [==============================] - 5s 29ms/step - loss: 0.0541 - accuracy: 0.9876 - val_loss: 3.2795 - val_accuracy: 0.5189\n",
            "Epoch 38/50\n",
            "156/156 [==============================] - 5s 29ms/step - loss: 0.0267 - accuracy: 0.9956 - val_loss: 3.1562 - val_accuracy: 0.5349\n",
            "Epoch 39/50\n",
            "156/156 [==============================] - 5s 29ms/step - loss: 0.0126 - accuracy: 0.9984 - val_loss: 3.1536 - val_accuracy: 0.5470\n",
            "Epoch 40/50\n",
            "156/156 [==============================] - 5s 29ms/step - loss: 0.0060 - accuracy: 0.9996 - val_loss: 3.2099 - val_accuracy: 0.5502\n",
            "Epoch 41/50\n",
            "156/156 [==============================] - 5s 29ms/step - loss: 0.0041 - accuracy: 1.0000 - val_loss: 3.2220 - val_accuracy: 0.5438\n",
            "Epoch 42/50\n",
            "156/156 [==============================] - 5s 29ms/step - loss: 0.0030 - accuracy: 1.0000 - val_loss: 3.2381 - val_accuracy: 0.5446\n",
            "Epoch 43/50\n",
            "156/156 [==============================] - 5s 29ms/step - loss: 0.0025 - accuracy: 1.0000 - val_loss: 3.2623 - val_accuracy: 0.5462\n",
            "Epoch 44/50\n",
            "156/156 [==============================] - 5s 29ms/step - loss: 0.0022 - accuracy: 1.0000 - val_loss: 3.2862 - val_accuracy: 0.5470\n",
            "Epoch 45/50\n",
            "156/156 [==============================] - 5s 29ms/step - loss: 0.0020 - accuracy: 1.0000 - val_loss: 3.3100 - val_accuracy: 0.5462\n",
            "Epoch 46/50\n",
            "156/156 [==============================] - 5s 29ms/step - loss: 0.0018 - accuracy: 1.0000 - val_loss: 3.3330 - val_accuracy: 0.5462\n",
            "Epoch 47/50\n",
            "156/156 [==============================] - 5s 29ms/step - loss: 0.0016 - accuracy: 1.0000 - val_loss: 3.3561 - val_accuracy: 0.5454\n",
            "Epoch 48/50\n",
            "156/156 [==============================] - 4s 29ms/step - loss: 0.0014 - accuracy: 1.0000 - val_loss: 3.3787 - val_accuracy: 0.5446\n",
            "Epoch 49/50\n",
            "156/156 [==============================] - 4s 29ms/step - loss: 0.0013 - accuracy: 1.0000 - val_loss: 3.4011 - val_accuracy: 0.5462\n",
            "Epoch 50/50\n",
            "156/156 [==============================] - 4s 29ms/step - loss: 0.0012 - accuracy: 1.0000 - val_loss: 3.4233 - val_accuracy: 0.5462\n"
          ]
        }
      ]
    },
    {
      "cell_type": "code",
      "metadata": {
        "id": "f1z_vHocu59c",
        "colab": {
          "base_uri": "https://localhost:8080/",
          "height": 499
        },
        "outputId": "07fed469-03b8-48d2-9fa7-deefdf02be22"
      },
      "source": [
        "acc = history.history['accuracy']\n",
        "val_acc = history.history['val_accuracy']\n",
        "\n",
        "loss=history.history['loss']\n",
        "val_loss=history.history['val_loss']\n",
        "\n",
        "epochs_range = range(epochs)\n",
        "\n",
        "plt.figure(figsize=(8, 8))\n",
        "plt.subplot(1, 2, 1)\n",
        "plt.plot(epochs_range, acc, label='Training Accuracy')\n",
        "plt.plot(epochs_range, val_acc, label='Validation Accuracy')\n",
        "plt.legend(loc='lower right')\n",
        "plt.title('Training and Validation Accuracy')\n",
        "\n",
        "plt.subplot(1, 2, 2)\n",
        "plt.plot(epochs_range, loss, label='Training Loss')\n",
        "plt.plot(epochs_range, val_loss, label='Validation Loss')\n",
        "plt.legend(loc='upper right')\n",
        "plt.title('Training and Validation Loss')\n",
        "plt.show()"
      ],
      "execution_count": null,
      "outputs": [
        {
          "output_type": "display_data",
          "data": {
            "image/png": "[encoded data removed]",
            "text/plain": [
              "<Figure size 576x576 with 2 Axes>"
            ]
          },
          "metadata": {
            "needs_background": "light"
          }
        }
      ]
    },
    {
      "cell_type": "code",
      "metadata": {
        "id": "XinJ6xXD9YNO"
      },
      "source": [
        "data_augmentation = keras.Sequential(\n",
        "  [\n",
        "    layers.experimental.preprocessing.RandomFlip(\"horizontal\", \n",
        "                                                 input_shape=(img_height, \n",
        "                                                              img_width,\n",
        "                                                              1)),\n",
        "    layers.experimental.preprocessing.RandomRotation(0.1),\n",
        "    layers.experimental.preprocessing.RandomZoom(0.1),\n",
        "  ]\n",
        ")"
      ],
      "execution_count": null,
      "outputs": []
    },
    {
      "cell_type": "code",
      "metadata": {
        "id": "8WT2BYElEYZj"
      },
      "source": [
        "model = Sequential([\n",
        "  data_augmentation,\n",
        "  layers.experimental.preprocessing.Rescaling(1./255),\n",
        "  layers.Conv2D(64, 3,input_shape = image_batch, activation='relu'),\n",
        "  layers.MaxPooling2D(),\n",
        "  layers.Conv2D(64, 3, padding='same', activation='relu'),\n",
        "  layers.MaxPooling2D(),\n",
        "  layers.Conv2D(64, 3, padding='same', activation='relu'),\n",
        "  layers.MaxPooling2D(),\n",
        "  layers.Dropout(0.2),\n",
        "  layers.Flatten(),\n",
        "  layers.Dense(128, activation='relu'),\n",
        "  BatchNormalization(),\n",
        "  layers.Dense(128, activation='relu'),\n",
        "  BatchNormalization(),\n",
        "  layers.Dense(128, activation='relu'),\n",
        "  BatchNormalization(),\n",
        "  layers.Dense(128, activation='relu'),\n",
        "  BatchNormalization(),\n",
        "  layers.Dense(128, activation='relu'),\n",
        "  BatchNormalization(),\n",
        "  layers.Dense(128, activation='relu'),\n",
        "  BatchNormalization(),\n",
        "  layers.Dense(128, activation='relu'),\n",
        "  BatchNormalization(),\n",
        "  layers.Dense(107, activation='softmax'),\n",
        "  BatchNormalization(),\n",
        "  layers.Dense(num_classes)\n",
        "])"
      ],
      "execution_count": null,
      "outputs": []
    },
    {
      "cell_type": "code",
      "metadata": {
        "id": "opOHP3auEdsw",
        "colab": {
          "base_uri": "https://localhost:8080/"
        },
        "outputId": "0729af06-d451-40b9-b20e-ca67ab46a77d"
      },
      "source": [
        "BatchNormalization(),model.compile(\n",
        "    optimizer='adam',\n",
        "    loss=tf.losses.SparseCategoricalCrossentropy(from_logits=True),\n",
        "    metrics=['accuracy'])"
      ],
      "execution_count": null,
      "outputs": [
        {
          "output_type": "execute_result",
          "data": {
            "text/plain": [
              "(<keras.layers.normalization.batch_normalization.BatchNormalization at 0x7fbd539b4ad0>,\n",
              " None)"
            ]
          },
          "metadata": {},
          "execution_count": 19
        }
      ]
    },
    {
      "cell_type": "code",
      "metadata": {
        "id": "3Ay4tlHlEfBX",
        "colab": {
          "base_uri": "https://localhost:8080/"
        },
        "outputId": "3944daff-daed-4d43-8f81-317321753523"
      },
      "source": [
        "model.summary()"
      ],
      "execution_count": null,
      "outputs": [
        {
          "output_type": "stream",
          "name": "stdout",
          "text": [
            "Model: \"sequential_2\"\n",
            "_________________________________________________________________\n",
            " Layer (type)                Output Shape              Param #   \n",
            "=================================================================\n",
            " sequential_1 (Sequential)   (None, 180, 180, 1)       0         \n",
            "                                                                 \n",
            " rescaling_2 (Rescaling)     (None, 180, 180, 1)       0         \n",
            "                                                                 \n",
            " conv2d_3 (Conv2D)           (None, 178, 178, 64)      640       \n",
            "                                                                 \n",
            " max_pooling2d_3 (MaxPooling  (None, 89, 89, 64)       0         \n",
            " 2D)                                                             \n",
            "                                                                 \n",
            " conv2d_4 (Conv2D)           (None, 89, 89, 64)        36928     \n",
            "                                                                 \n",
            " max_pooling2d_4 (MaxPooling  (None, 44, 44, 64)       0         \n",
            " 2D)                                                             \n",
            "                                                                 \n",
            " conv2d_5 (Conv2D)           (None, 44, 44, 64)        36928     \n",
            "                                                                 \n",
            " max_pooling2d_5 (MaxPooling  (None, 22, 22, 64)       0         \n",
            " 2D)                                                             \n",
            "                                                                 \n",
            " dropout (Dropout)           (None, 22, 22, 64)        0         \n",
            "                                                                 \n",
            " flatten_1 (Flatten)         (None, 30976)             0         \n",
            "                                                                 \n",
            " dense_9 (Dense)             (None, 128)               3965056   \n",
            "                                                                 \n",
            " batch_normalization_9 (Batc  (None, 128)              512       \n",
            " hNormalization)                                                 \n",
            "                                                                 \n",
            " dense_10 (Dense)            (None, 128)               16512     \n",
            "                                                                 \n",
            " batch_normalization_10 (Bat  (None, 128)              512       \n",
            " chNormalization)                                                \n",
            "                                                                 \n",
            " dense_11 (Dense)            (None, 128)               16512     \n",
            "                                                                 \n",
            " batch_normalization_11 (Bat  (None, 128)              512       \n",
            " chNormalization)                                                \n",
            "                                                                 \n",
            " dense_12 (Dense)            (None, 128)               16512     \n",
            "                                                                 \n",
            " batch_normalization_12 (Bat  (None, 128)              512       \n",
            " chNormalization)                                                \n",
            "                                                                 \n",
            " dense_13 (Dense)            (None, 128)               16512     \n",
            "                                                                 \n",
            " batch_normalization_13 (Bat  (None, 128)              512       \n",
            " chNormalization)                                                \n",
            "                                                                 \n",
            " dense_14 (Dense)            (None, 128)               16512     \n",
            "                                                                 \n",
            " batch_normalization_14 (Bat  (None, 128)              512       \n",
            " chNormalization)                                                \n",
            "                                                                 \n",
            " dense_15 (Dense)            (None, 128)               16512     \n",
            "                                                                 \n",
            " batch_normalization_15 (Bat  (None, 128)              512       \n",
            " chNormalization)                                                \n",
            "                                                                 \n",
            " dense_16 (Dense)            (None, 107)               13803     \n",
            "                                                                 \n",
            " batch_normalization_16 (Bat  (None, 107)              428       \n",
            " chNormalization)                                                \n",
            "                                                                 \n",
            " dense_17 (Dense)            (None, 107)               11556     \n",
            "                                                                 \n",
            "=================================================================\n",
            "Total params: 4,167,995\n",
            "Trainable params: 4,165,989\n",
            "Non-trainable params: 2,006\n",
            "_________________________________________________________________\n"
          ]
        }
      ]
    },
    {
      "cell_type": "code",
      "metadata": {
        "id": "Jc8rD_v9Ef41",
        "colab": {
          "base_uri": "https://localhost:8080/"
        },
        "outputId": "117199af-146e-481d-87eb-906b667f9399"
      },
      "source": [
        "epochs = 50\n",
        "history = model.fit(\n",
        "  train_ds,\n",
        "  validation_data=val_ds,\n",
        "  epochs=epochs\n",
        ")"
      ],
      "execution_count": null,
      "outputs": [
        {
          "output_type": "stream",
          "name": "stdout",
          "text": [
            "Epoch 1/50\n",
            "156/156 [==============================] - 8s 33ms/step - loss: 3.9015 - accuracy: 0.1478 - val_loss: 4.1348 - val_accuracy: 0.1173\n",
            "Epoch 2/50\n",
            "156/156 [==============================] - 5s 30ms/step - loss: 3.0155 - accuracy: 0.2536 - val_loss: 3.7854 - val_accuracy: 0.1365\n",
            "Epoch 3/50\n",
            "156/156 [==============================] - 5s 31ms/step - loss: 2.6819 - accuracy: 0.2991 - val_loss: 3.3574 - val_accuracy: 0.2321\n",
            "Epoch 4/50\n",
            "156/156 [==============================] - 5s 31ms/step - loss: 2.4931 - accuracy: 0.3391 - val_loss: 2.9202 - val_accuracy: 0.2747\n",
            "Epoch 5/50\n",
            "156/156 [==============================] - 5s 32ms/step - loss: 2.3514 - accuracy: 0.3568 - val_loss: 3.4625 - val_accuracy: 0.2337\n",
            "Epoch 6/50\n",
            "156/156 [==============================] - 5s 31ms/step - loss: 2.2702 - accuracy: 0.3740 - val_loss: 3.4399 - val_accuracy: 0.2024\n",
            "Epoch 7/50\n",
            "156/156 [==============================] - 5s 32ms/step - loss: 2.1354 - accuracy: 0.3905 - val_loss: 2.8423 - val_accuracy: 0.2932\n",
            "Epoch 8/50\n",
            "156/156 [==============================] - 5s 31ms/step - loss: 2.0477 - accuracy: 0.4126 - val_loss: 3.1453 - val_accuracy: 0.2691\n",
            "Epoch 9/50\n",
            "156/156 [==============================] - 5s 31ms/step - loss: 1.9498 - accuracy: 0.4365 - val_loss: 3.3002 - val_accuracy: 0.2610\n",
            "Epoch 10/50\n",
            "156/156 [==============================] - 5s 31ms/step - loss: 1.8852 - accuracy: 0.4451 - val_loss: 2.9996 - val_accuracy: 0.3012\n",
            "Epoch 11/50\n",
            "156/156 [==============================] - 5s 32ms/step - loss: 1.8351 - accuracy: 0.4603 - val_loss: 2.3154 - val_accuracy: 0.4000\n",
            "Epoch 12/50\n",
            "156/156 [==============================] - 5s 32ms/step - loss: 1.7498 - accuracy: 0.4800 - val_loss: 2.8254 - val_accuracy: 0.3293\n",
            "Epoch 13/50\n",
            "156/156 [==============================] - 5s 31ms/step - loss: 1.7139 - accuracy: 0.4830 - val_loss: 2.7192 - val_accuracy: 0.3663\n",
            "Epoch 14/50\n",
            "156/156 [==============================] - 5s 32ms/step - loss: 1.6314 - accuracy: 0.5017 - val_loss: 2.3094 - val_accuracy: 0.4265\n",
            "Epoch 15/50\n",
            "156/156 [==============================] - 5s 32ms/step - loss: 1.5962 - accuracy: 0.5089 - val_loss: 2.5083 - val_accuracy: 0.4064\n",
            "Epoch 16/50\n",
            "156/156 [==============================] - 5s 30ms/step - loss: 1.5120 - accuracy: 0.5304 - val_loss: 2.4250 - val_accuracy: 0.4056\n",
            "Epoch 17/50\n",
            "156/156 [==============================] - 5s 30ms/step - loss: 1.4654 - accuracy: 0.5439 - val_loss: 2.4410 - val_accuracy: 0.4169\n",
            "Epoch 18/50\n",
            "156/156 [==============================] - 5s 30ms/step - loss: 1.4239 - accuracy: 0.5525 - val_loss: 2.6555 - val_accuracy: 0.4080\n",
            "Epoch 19/50\n",
            "156/156 [==============================] - 5s 30ms/step - loss: 1.3716 - accuracy: 0.5668 - val_loss: 2.2558 - val_accuracy: 0.4313\n",
            "Epoch 20/50\n",
            "156/156 [==============================] - 5s 30ms/step - loss: 1.3413 - accuracy: 0.5704 - val_loss: 2.4741 - val_accuracy: 0.4072\n",
            "Epoch 21/50\n",
            "156/156 [==============================] - 5s 30ms/step - loss: 1.2954 - accuracy: 0.5856 - val_loss: 2.4299 - val_accuracy: 0.4217\n",
            "Epoch 22/50\n",
            "156/156 [==============================] - 5s 31ms/step - loss: 1.2420 - accuracy: 0.6065 - val_loss: 2.7648 - val_accuracy: 0.3936\n",
            "Epoch 23/50\n",
            "156/156 [==============================] - 5s 31ms/step - loss: 1.2145 - accuracy: 0.6041 - val_loss: 2.3440 - val_accuracy: 0.4329\n",
            "Epoch 24/50\n",
            "156/156 [==============================] - 5s 32ms/step - loss: 1.1594 - accuracy: 0.6204 - val_loss: 2.4539 - val_accuracy: 0.4249\n",
            "Epoch 25/50\n",
            "156/156 [==============================] - 5s 31ms/step - loss: 1.1597 - accuracy: 0.6224 - val_loss: 3.1215 - val_accuracy: 0.3647\n",
            "Epoch 26/50\n",
            "156/156 [==============================] - 5s 31ms/step - loss: 1.1086 - accuracy: 0.6396 - val_loss: 2.4450 - val_accuracy: 0.4265\n",
            "Epoch 27/50\n",
            "156/156 [==============================] - 5s 32ms/step - loss: 1.0709 - accuracy: 0.6485 - val_loss: 2.4509 - val_accuracy: 0.4482\n",
            "Epoch 28/50\n",
            "156/156 [==============================] - 5s 32ms/step - loss: 1.0386 - accuracy: 0.6497 - val_loss: 2.4444 - val_accuracy: 0.4538\n",
            "Epoch 29/50\n",
            "156/156 [==============================] - 5s 31ms/step - loss: 0.9950 - accuracy: 0.6718 - val_loss: 2.7201 - val_accuracy: 0.4257\n",
            "Epoch 30/50\n",
            "156/156 [==============================] - 5s 32ms/step - loss: 0.9422 - accuracy: 0.6840 - val_loss: 2.2997 - val_accuracy: 0.4635\n",
            "Epoch 31/50\n",
            "156/156 [==============================] - 5s 32ms/step - loss: 0.9375 - accuracy: 0.6890 - val_loss: 2.6928 - val_accuracy: 0.4088\n",
            "Epoch 32/50\n",
            "156/156 [==============================] - 5s 32ms/step - loss: 0.8946 - accuracy: 0.6989 - val_loss: 2.7822 - val_accuracy: 0.4137\n",
            "Epoch 33/50\n",
            "156/156 [==============================] - 5s 32ms/step - loss: 0.8833 - accuracy: 0.7003 - val_loss: 2.3646 - val_accuracy: 0.4851\n",
            "Epoch 34/50\n",
            "156/156 [==============================] - 5s 32ms/step - loss: 0.8589 - accuracy: 0.7123 - val_loss: 2.9553 - val_accuracy: 0.4032\n",
            "Epoch 35/50\n",
            "156/156 [==============================] - 5s 31ms/step - loss: 0.8086 - accuracy: 0.7278 - val_loss: 2.7381 - val_accuracy: 0.4458\n",
            "Epoch 36/50\n",
            "156/156 [==============================] - 5s 32ms/step - loss: 0.8507 - accuracy: 0.7125 - val_loss: 2.6135 - val_accuracy: 0.4602\n",
            "Epoch 37/50\n",
            "156/156 [==============================] - 5s 32ms/step - loss: 0.7505 - accuracy: 0.7484 - val_loss: 2.6790 - val_accuracy: 0.4586\n",
            "Epoch 38/50\n",
            "156/156 [==============================] - 5s 31ms/step - loss: 0.7410 - accuracy: 0.7523 - val_loss: 2.7989 - val_accuracy: 0.4241\n",
            "Epoch 39/50\n",
            "156/156 [==============================] - 5s 30ms/step - loss: 0.7435 - accuracy: 0.7494 - val_loss: 2.6319 - val_accuracy: 0.4546\n",
            "Epoch 40/50\n",
            "156/156 [==============================] - 5s 30ms/step - loss: 0.6606 - accuracy: 0.7739 - val_loss: 3.2417 - val_accuracy: 0.3751\n",
            "Epoch 41/50\n",
            "156/156 [==============================] - 5s 30ms/step - loss: 0.6436 - accuracy: 0.7850 - val_loss: 2.5990 - val_accuracy: 0.4755\n",
            "Epoch 42/50\n",
            "156/156 [==============================] - 5s 30ms/step - loss: 0.6689 - accuracy: 0.7711 - val_loss: 2.6404 - val_accuracy: 0.4747\n",
            "Epoch 43/50\n",
            "156/156 [==============================] - 5s 30ms/step - loss: 0.6556 - accuracy: 0.7848 - val_loss: 2.9970 - val_accuracy: 0.4193\n",
            "Epoch 44/50\n",
            "156/156 [==============================] - 5s 31ms/step - loss: 0.6275 - accuracy: 0.7874 - val_loss: 3.3047 - val_accuracy: 0.4145\n",
            "Epoch 45/50\n",
            "156/156 [==============================] - 5s 31ms/step - loss: 0.6175 - accuracy: 0.7896 - val_loss: 2.8199 - val_accuracy: 0.4803\n",
            "Epoch 46/50\n",
            "156/156 [==============================] - 5s 32ms/step - loss: 0.5940 - accuracy: 0.8008 - val_loss: 2.9527 - val_accuracy: 0.4755\n",
            "Epoch 47/50\n",
            "156/156 [==============================] - 5s 32ms/step - loss: 0.5716 - accuracy: 0.8121 - val_loss: 2.8121 - val_accuracy: 0.5004\n",
            "Epoch 48/50\n",
            "156/156 [==============================] - 5s 32ms/step - loss: 0.5740 - accuracy: 0.8059 - val_loss: 3.2438 - val_accuracy: 0.4321\n",
            "Epoch 49/50\n",
            "156/156 [==============================] - 5s 32ms/step - loss: 0.5485 - accuracy: 0.8135 - val_loss: 2.9125 - val_accuracy: 0.4651\n",
            "Epoch 50/50\n",
            "156/156 [==============================] - 5s 32ms/step - loss: 0.5093 - accuracy: 0.8271 - val_loss: 2.8562 - val_accuracy: 0.4643\n"
          ]
        }
      ]
    },
    {
      "cell_type": "code",
      "metadata": {
        "id": "ynhS2KjVEhj8",
        "colab": {
          "base_uri": "https://localhost:8080/",
          "height": 499
        },
        "outputId": "24962d21-8a34-44ff-87f3-e483bcfcbc50"
      },
      "source": [
        "acc = history.history['accuracy']\n",
        "val_acc = history.history['val_accuracy']\n",
        "\n",
        "loss = history.history['loss']\n",
        "val_loss = history.history['val_loss']\n",
        "\n",
        "epochs_range = range(epochs)\n",
        "\n",
        "plt.figure(figsize=(8, 8))\n",
        "plt.subplot(1, 2, 1)\n",
        "plt.plot(epochs_range, acc, label='Training Accuracy')\n",
        "plt.plot(epochs_range, val_acc, label='Validation Accuracy')\n",
        "plt.legend(loc='lower right')\n",
        "plt.title('Training and Validation Accuracy')\n",
        "\n",
        "plt.subplot(1, 2, 2)\n",
        "plt.plot(epochs_range, loss, label='Training Loss')\n",
        "plt.plot(epochs_range, val_loss, label='Validation Loss')\n",
        "plt.legend(loc='upper right')\n",
        "plt.title('Training and Validation Loss')\n",
        "plt.show()"
      ],
      "execution_count": null,
      "outputs": [
        {
          "output_type": "display_data",
          "data": {
            "image/png": "[encoded data removed]",
            "text/plain": [
              "<Figure size 576x576 with 2 Axes>"
            ]
          },
          "metadata": {
            "needs_background": "light"
          }
        }
      ]
    },
    {
      "cell_type": "code",
      "metadata": {
        "id": "IbEQMrsAH2yZ",
        "colab": {
          "base_uri": "https://localhost:8080/"
        },
        "outputId": "441ff8f8-707e-4273-c860-aa08b120cf15"
      },
      "source": [
        "model.compile(\n",
        "    optimizer='adam',\n",
        "    loss=tf.losses.SparseCategoricalCrossentropy(from_logits=True),\n",
        "    metrics=['accuracy'])\n",
        "model.summary()"
      ],
      "execution_count": null,
      "outputs": [
        {
          "output_type": "stream",
          "name": "stdout",
          "text": [
            "Model: \"sequential_2\"\n",
            "_________________________________________________________________\n",
            " Layer (type)                Output Shape              Param #   \n",
            "=================================================================\n",
            " sequential_1 (Sequential)   (None, 180, 180, 1)       0         \n",
            "                                                                 \n",
            " rescaling_2 (Rescaling)     (None, 180, 180, 1)       0         \n",
            "                                                                 \n",
            " conv2d_3 (Conv2D)           (None, 178, 178, 64)      640       \n",
            "                                                                 \n",
            " max_pooling2d_3 (MaxPooling  (None, 89, 89, 64)       0         \n",
            " 2D)                                                             \n",
            "                                                                 \n",
            " conv2d_4 (Conv2D)           (None, 89, 89, 64)        36928     \n",
            "                                                                 \n",
            " max_pooling2d_4 (MaxPooling  (None, 44, 44, 64)       0         \n",
            " 2D)                                                             \n",
            "                                                                 \n",
            " conv2d_5 (Conv2D)           (None, 44, 44, 64)        36928     \n",
            "                                                                 \n",
            " max_pooling2d_5 (MaxPooling  (None, 22, 22, 64)       0         \n",
            " 2D)                                                             \n",
            "                                                                 \n",
            " dropout (Dropout)           (None, 22, 22, 64)        0         \n",
            "                                                                 \n",
            " flatten_1 (Flatten)         (None, 30976)             0         \n",
            "                                                                 \n",
            " dense_9 (Dense)             (None, 128)               3965056   \n",
            "                                                                 \n",
            " batch_normalization_9 (Batc  (None, 128)              512       \n",
            " hNormalization)                                                 \n",
            "                                                                 \n",
            " dense_10 (Dense)            (None, 128)               16512     \n",
            "                                                                 \n",
            " batch_normalization_10 (Bat  (None, 128)              512       \n",
            " chNormalization)                                                \n",
            "                                                                 \n",
            " dense_11 (Dense)            (None, 128)               16512     \n",
            "                                                                 \n",
            " batch_normalization_11 (Bat  (None, 128)              512       \n",
            " chNormalization)                                                \n",
            "                                                                 \n",
            " dense_12 (Dense)            (None, 128)               16512     \n",
            "                                                                 \n",
            " batch_normalization_12 (Bat  (None, 128)              512       \n",
            " chNormalization)                                                \n",
            "                                                                 \n",
            " dense_13 (Dense)            (None, 128)               16512     \n",
            "                                                                 \n",
            " batch_normalization_13 (Bat  (None, 128)              512       \n",
            " chNormalization)                                                \n",
            "                                                                 \n",
            " dense_14 (Dense)            (None, 128)               16512     \n",
            "                                                                 \n",
            " batch_normalization_14 (Bat  (None, 128)              512       \n",
            " chNormalization)                                                \n",
            "                                                                 \n",
            " dense_15 (Dense)            (None, 128)               16512     \n",
            "                                                                 \n",
            " batch_normalization_15 (Bat  (None, 128)              512       \n",
            " chNormalization)                                                \n",
            "                                                                 \n",
            " dense_16 (Dense)            (None, 107)               13803     \n",
            "                                                                 \n",
            " batch_normalization_16 (Bat  (None, 107)              428       \n",
            " chNormalization)                                                \n",
            "                                                                 \n",
            " dense_17 (Dense)            (None, 107)               11556     \n",
            "                                                                 \n",
            "=================================================================\n",
            "Total params: 4,167,995\n",
            "Trainable params: 4,165,989\n",
            "Non-trainable params: 2,006\n",
            "_________________________________________________________________\n"
          ]
        }
      ]
    },
    {
      "cell_type": "code",
      "metadata": {
        "id": "df30HUqFjWre"
      },
      "source": [
        ""
      ],
      "execution_count": null,
      "outputs": []
    }
  ]
}