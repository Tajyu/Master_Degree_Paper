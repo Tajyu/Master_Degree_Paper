{
  "nbformat": 4,
  "nbformat_minor": 0,
  "metadata": {
    "colab": {
      "name": "3Class_Genus_V3_BatchNormal_64_Layer_1.ipynb",
      "provenance": [],
      "collapsed_sections": [],
      "mount_file_id": "1T2g3f8fo6SY9q6bUXe-pF7UaMOmWWJnE",
      "authorship_tag": "ABX9TyPFsSACfVxc7or/loYOnsga",
      "include_colab_link": true
    },
    "kernelspec": {
      "name": "python3",
      "display_name": "Python 3"
    },
    "language_info": {
      "name": "python"
    },
    "accelerator": "GPU"
  },
  "cells": [
    {
      "cell_type": "markdown",
      "metadata": {
        "id": "view-in-github",
        "colab_type": "text"
      },
      "source": [
        "<a href=\"https://colab.research.google.com/github/Tajyu/Master_Degree_Paper/blob/main/Code/Filter_64/No%20input_dim/3Class_Genus_V3_BatchNormal_64_Layer_1.ipynb\" target=\"_parent\"><img src=\"https://colab.research.google.com/assets/colab-badge.svg\" alt=\"Open In Colab\"/></a>"
      ]
    },
    {
      "cell_type": "code",
      "metadata": {
        "id": "yWckd06_68Em"
      },
      "source": [
        "import tensorflow as tf\n",
        "from tensorflow.keras import datasets, layers, models\n",
        "from keras.preprocessing.image import ImageDataGenerator\n",
        "import numpy as np\n",
        "import matplotlib.pyplot as plt\n",
        "import cv2 as cv\n",
        "import os\n",
        "import pathlib\n",
        "import PIL\n",
        "from tensorflow import keras\n",
        "from tensorflow.keras import layers\n",
        "from tensorflow.keras.models import Sequential\n",
        "from tensorflow.keras.layers import Dense, Flatten, BatchNormalization, Dropout"
      ],
      "execution_count": null,
      "outputs": []
    },
    {
      "cell_type": "code",
      "metadata": {
        "id": "xav9zirHttk_"
      },
      "source": [
        "image_list = os.listdir('/content/drive/MyDrive/Colab Notebooks/Final_Project/Cell_Genus')"
      ],
      "execution_count": null,
      "outputs": []
    },
    {
      "cell_type": "code",
      "metadata": {
        "colab": {
          "base_uri": "https://localhost:8080/"
        },
        "id": "K-wD0dM5tx_E",
        "outputId": "0907c3f7-798b-406d-cc3a-ae59225c281a"
      },
      "source": [
        "print(image_list)"
      ],
      "execution_count": null,
      "outputs": [
        {
          "output_type": "stream",
          "name": "stdout",
          "text": [
            "['10_Genus_Stauroneis_Ehrenberg', '10_Genus_Staurosira_Ehrenberg', '11_Genus_Craspedostauros_E.J_Cox_1999', '11_Genus_Staurosirella_Williams_and_Round', '12_Genus_Caloneis_Cleve_1894', '12_Genus_Synedra_Ehrenberg', '13_Genus_Pinnularia_Ehrenberg_1843', '1_Genus_Acanthoceras_Honigmann', '1_Genus_Achnanthes_Bory', '1_Genus_Actinocyclus_Ehrenberg', '1_Genus_Aphanocapsa_Nageli_1849', '1_Genus_Asterionella_Hassall', '1_Genus_Aulacoseira', '1_Genus_Biremis_Mann_et_Cox_in_Round_Crawford_and_Mann', '1_Genus_Characium_A_Braun_in_Kutzing_1849', '1_Genus_Chroococcus_Nageli', '1_Genus_Closterium_Nitzsch_ex_Ralfs_1848', '1_Genus_Coelastrum_Nageli_1849', '1_Genus_Cylindrocystis_Meneghini_ex_de_Bary_1858', '1_Genus_Dictyosphaerium_Nageli_1849', '1_Genus_Docidium_Brebisson_ex_Ralfs_1848', '1_Genus_Eunotia_Ehrenberg', '1_Genus_Geitlerinema_(Anagnostidis_et_Komarek)_Anagnostidis_1989', '1_Genus_Gonatozygon_de_Bary_1856', '1_Genus_Hydrodictyon_Roth_1797', '1_Genus_Hydrosera_whampoensis', '1_Genus_Jaaginema_Anagnostidis_et_Komarek_1988', '1_Genus_Lyngbya_C_Agardh_ex_Gomont_1892', '1_Genus_Melosira_Agardh', '1_Genus_Micractinium_Fresenius_1858', '1_Genus_Micrasterias_Ralfs_1848', '1_Genus_Microcystis_Kutzing_ex_Lemmermann_1907', '1_Genus_Oscillatoria_Vaucher_ex_Gomont_1982', '1_Genus_Pediastrum_Meyen_1829', '1_Genus_Penium_Brebisson_ex_Ralfs_in_Ralfs_1848', '1_Genus_Phormidium_Kutzing_ex_Gomont_1892', '1_Genus_Planktothrix_Anagnostidis_et_Komarek_1988', '1_Genus_Pleurosira_laevis_(Ehrenberg)', '1_Genus_Rhizosolenia_Ehrenberg', '1_Genus_Schizochlamydella_Korshikov_1953', '1_Genus_Staurodesmus_Teiling_1848', '1_Genus_Trochiscia_Kutzing_1834', '1_Scenedesmus_Hegewald_1978', '2_Acutodesmus_Hegewald_1978', '2_Genus_Achnanthidium_Kutzing', '2_Genus_Actinastrum_Lagerheim_1882', '2_Genus_Actinella_Lewis', '2_Genus_Ankyra_Fott_1957', '2_Genus_Caloneis_Cleve', '2_Genus_Chaetoceros_Ehrenberg', '2_Genus_Coenochloris_Korshikov_1953', '2_Genus_Cyclotella', '2_Genus_Diatoma_Bory', '2_Genus_Dimorphococcus_A_Braun_1855', '2_Genus_Golenkinia_Chodat_1894', '2_Genus_Haplotaenium_Bando_1988', '2_Genus_Leibleinia_(Gomont)_L_Hoffman_1985', '2_Genus_Leptolyngbya_Anagnostidis_et_Komarek_1988', '2_Genus_Merismopedia_Meyen_1839', '2_Genus_Netrium_(Nageli)_Itzigsohn_et_Rothe_in_Rabenhorst_1856', '2_Genus_Orthoseira_Thwaites_1848', '2_Genus_Phormidium_Kutzing_ex_Gomont_1892', '2_Genus_Sorastrum_Kutzing_1845', '2_Genus_Staurastrum_Meyen_ex_Ralfs_1848', '3_Desmodesmus_Chodat_1926', '3_Genus_Acanthosphaera_Lemmerman_1899', '3_Genus_Anorthoneis_Grunow', '3_Genus_Cyclostephanos_Round', '3_Genus_Dichotomococcus_Korshikov_1928', '3_Genus_Heteroleibleinia_(Geitler)_L_Hoffmann_1985', '3_Genus_Limnothrix_Meffert_1988', '3_Genus_Meridion_Agardh', '3_Genus_Paradoxia_Svirenko_1928', '3_Genus_Peronia_Bebisson_and_Arnott_ex_Kitton', '3_Genus_Phormidiochaete_Komarek_in_Anagnostidis_2001', '3_Genus_Pinnularia_Ehrenberg_1', '3_Genus_Pleurotaenium_Nageli_1849', '3_Genus_Radiococcus_Schmidle_1902', '3_Genus_Snowella_Elenkin_1938', '3_Genus_Spirotaenia_Brebisson_in_Ralfs_1848', '4_Genus_Botryococcus_Kutzing_1849', '4_Genus_Cocconeis_Ehrenberg', '4_Genus_Eutetramorus_Walton_1918', '4_Genus_Leptolyngbya_Anagnostidis_et_Komarek_1988', '4_Genus_Opephora_Petit', '4_Genus_Pinnularia_Ehrenberg_2', '4_Genus_Schroederia_Lemmermann_1898', '4_Genus_Stephanodiscus_Ehrenberg', '4_Genus_Synechocystis_Sauvageau_1892', '4_Genus_Tortitaenia_A_J_Brook_1998', '5_Genus_Caloneis_Cleve', '5_Genus_Coenocystis_Korshikov_1953', '5_Genus_Planktolyngbya_Anagnostidis_et_Komarek_1988', '5_Genus_Tabellaria_Ehrenberg', '5_Genus_Thalassiosira_Cleve', '5_Genus_Woronichinia_Elenkin_1933', '6_Genus_Anomoeoneis_Pfitzer', '6_Genus_Fragilaria_Lyngbye', '6_Genus_Gloeocystis_Nageli_1849', '6_Genus_Pseudanabaena_Lauterborn_1915', '6_Genus_Skeletonema_Greville', '7_Genus_Caloneis_Cleve', '7_Genus_Hannaea_Patrick', '8_Genus_Diploneis(Ehrenberg)_Cleve', '8_Genus_Pseudostaurosira_Williams_and_Round', '9_Genus_Neidium_Pfitzer', '9_Genus_Punctastriata_Williams_and_Round']\n"
          ]
        }
      ]
    },
    {
      "cell_type": "code",
      "metadata": {
        "id": "o-0DvzEHt8VE"
      },
      "source": [
        "data_generator = ImageDataGenerator(rescale = 1./255)\n",
        "\n",
        "data_dir = \"/content/drive/MyDrive/Colab Notebooks/Final_Project/Cell_Genus\""
      ],
      "execution_count": null,
      "outputs": []
    },
    {
      "cell_type": "code",
      "metadata": {
        "id": "7aTCfEm3t10n"
      },
      "source": [
        "batch_size = 32\n",
        "img_height = 180\n",
        "img_width = 180"
      ],
      "execution_count": null,
      "outputs": []
    },
    {
      "cell_type": "code",
      "metadata": {
        "colab": {
          "base_uri": "https://localhost:8080/"
        },
        "id": "9Smg-miEt22s",
        "outputId": "e3dfb1de-6cba-41d4-d435-b4b04a195e49"
      },
      "source": [
        "train_ds = tf.keras.preprocessing.image_dataset_from_directory(\n",
        "  data_dir,\n",
        "  color_mode = \"grayscale\",\n",
        "  validation_split=0.2,\n",
        "  subset=\"training\",\n",
        "  seed=123,\n",
        "  image_size=(img_height, img_width),\n",
        "  batch_size=batch_size)"
      ],
      "execution_count": null,
      "outputs": [
        {
          "output_type": "stream",
          "name": "stdout",
          "text": [
            "Found 6226 files belonging to 107 classes.\n",
            "Using 4981 files for training.\n"
          ]
        }
      ]
    },
    {
      "cell_type": "code",
      "metadata": {
        "colab": {
          "base_uri": "https://localhost:8080/"
        },
        "id": "1nR0WdQGt44x",
        "outputId": "2f50c213-66d6-4df4-fa0f-b9c780e77acf"
      },
      "source": [
        "val_ds = tf.keras.preprocessing.image_dataset_from_directory(\n",
        "  data_dir,\n",
        "  color_mode = \"grayscale\",\n",
        "  validation_split=0.2,\n",
        "  subset=\"validation\",\n",
        "  seed=123,\n",
        "  image_size=(img_height, img_width),\n",
        "  batch_size=batch_size)"
      ],
      "execution_count": null,
      "outputs": [
        {
          "output_type": "stream",
          "name": "stdout",
          "text": [
            "Found 6226 files belonging to 107 classes.\n",
            "Using 1245 files for validation.\n"
          ]
        }
      ]
    },
    {
      "cell_type": "code",
      "metadata": {
        "colab": {
          "base_uri": "https://localhost:8080/"
        },
        "id": "F-cz_CtGug8Y",
        "outputId": "721ac789-95c7-4d65-f919-6705ea98b61e"
      },
      "source": [
        "class_names = train_ds.class_names\n",
        "print(class_names)"
      ],
      "execution_count": null,
      "outputs": [
        {
          "output_type": "stream",
          "name": "stdout",
          "text": [
            "['10_Genus_Stauroneis_Ehrenberg', '10_Genus_Staurosira_Ehrenberg', '11_Genus_Craspedostauros_E.J_Cox_1999', '11_Genus_Staurosirella_Williams_and_Round', '12_Genus_Caloneis_Cleve_1894', '12_Genus_Synedra_Ehrenberg', '13_Genus_Pinnularia_Ehrenberg_1843', '1_Genus_Acanthoceras_Honigmann', '1_Genus_Achnanthes_Bory', '1_Genus_Actinocyclus_Ehrenberg', '1_Genus_Aphanocapsa_Nageli_1849', '1_Genus_Asterionella_Hassall', '1_Genus_Aulacoseira', '1_Genus_Biremis_Mann_et_Cox_in_Round_Crawford_and_Mann', '1_Genus_Characium_A_Braun_in_Kutzing_1849', '1_Genus_Chroococcus_Nageli', '1_Genus_Closterium_Nitzsch_ex_Ralfs_1848', '1_Genus_Coelastrum_Nageli_1849', '1_Genus_Cylindrocystis_Meneghini_ex_de_Bary_1858', '1_Genus_Dictyosphaerium_Nageli_1849', '1_Genus_Docidium_Brebisson_ex_Ralfs_1848', '1_Genus_Eunotia_Ehrenberg', '1_Genus_Geitlerinema_(Anagnostidis_et_Komarek)_Anagnostidis_1989', '1_Genus_Gonatozygon_de_Bary_1856', '1_Genus_Hydrodictyon_Roth_1797', '1_Genus_Hydrosera_whampoensis', '1_Genus_Jaaginema_Anagnostidis_et_Komarek_1988', '1_Genus_Lyngbya_C_Agardh_ex_Gomont_1892', '1_Genus_Melosira_Agardh', '1_Genus_Micractinium_Fresenius_1858', '1_Genus_Micrasterias_Ralfs_1848', '1_Genus_Microcystis_Kutzing_ex_Lemmermann_1907', '1_Genus_Oscillatoria_Vaucher_ex_Gomont_1982', '1_Genus_Pediastrum_Meyen_1829', '1_Genus_Penium_Brebisson_ex_Ralfs_in_Ralfs_1848', '1_Genus_Phormidium_Kutzing_ex_Gomont_1892', '1_Genus_Planktothrix_Anagnostidis_et_Komarek_1988', '1_Genus_Pleurosira_laevis_(Ehrenberg)', '1_Genus_Rhizosolenia_Ehrenberg', '1_Genus_Schizochlamydella_Korshikov_1953', '1_Genus_Staurodesmus_Teiling_1848', '1_Genus_Trochiscia_Kutzing_1834', '1_Scenedesmus_Hegewald_1978', '2_Acutodesmus_Hegewald_1978', '2_Genus_Achnanthidium_Kutzing', '2_Genus_Actinastrum_Lagerheim_1882', '2_Genus_Actinella_Lewis', '2_Genus_Ankyra_Fott_1957', '2_Genus_Caloneis_Cleve', '2_Genus_Chaetoceros_Ehrenberg', '2_Genus_Coenochloris_Korshikov_1953', '2_Genus_Cyclotella', '2_Genus_Diatoma_Bory', '2_Genus_Dimorphococcus_A_Braun_1855', '2_Genus_Golenkinia_Chodat_1894', '2_Genus_Haplotaenium_Bando_1988', '2_Genus_Leibleinia_(Gomont)_L_Hoffman_1985', '2_Genus_Leptolyngbya_Anagnostidis_et_Komarek_1988', '2_Genus_Merismopedia_Meyen_1839', '2_Genus_Netrium_(Nageli)_Itzigsohn_et_Rothe_in_Rabenhorst_1856', '2_Genus_Orthoseira_Thwaites_1848', '2_Genus_Phormidium_Kutzing_ex_Gomont_1892', '2_Genus_Sorastrum_Kutzing_1845', '2_Genus_Staurastrum_Meyen_ex_Ralfs_1848', '3_Desmodesmus_Chodat_1926', '3_Genus_Acanthosphaera_Lemmerman_1899', '3_Genus_Anorthoneis_Grunow', '3_Genus_Cyclostephanos_Round', '3_Genus_Dichotomococcus_Korshikov_1928', '3_Genus_Heteroleibleinia_(Geitler)_L_Hoffmann_1985', '3_Genus_Limnothrix_Meffert_1988', '3_Genus_Meridion_Agardh', '3_Genus_Paradoxia_Svirenko_1928', '3_Genus_Peronia_Bebisson_and_Arnott_ex_Kitton', '3_Genus_Phormidiochaete_Komarek_in_Anagnostidis_2001', '3_Genus_Pinnularia_Ehrenberg_1', '3_Genus_Pleurotaenium_Nageli_1849', '3_Genus_Radiococcus_Schmidle_1902', '3_Genus_Snowella_Elenkin_1938', '3_Genus_Spirotaenia_Brebisson_in_Ralfs_1848', '4_Genus_Botryococcus_Kutzing_1849', '4_Genus_Cocconeis_Ehrenberg', '4_Genus_Eutetramorus_Walton_1918', '4_Genus_Leptolyngbya_Anagnostidis_et_Komarek_1988', '4_Genus_Opephora_Petit', '4_Genus_Pinnularia_Ehrenberg_2', '4_Genus_Schroederia_Lemmermann_1898', '4_Genus_Stephanodiscus_Ehrenberg', '4_Genus_Synechocystis_Sauvageau_1892', '4_Genus_Tortitaenia_A_J_Brook_1998', '5_Genus_Caloneis_Cleve', '5_Genus_Coenocystis_Korshikov_1953', '5_Genus_Planktolyngbya_Anagnostidis_et_Komarek_1988', '5_Genus_Tabellaria_Ehrenberg', '5_Genus_Thalassiosira_Cleve', '5_Genus_Woronichinia_Elenkin_1933', '6_Genus_Anomoeoneis_Pfitzer', '6_Genus_Fragilaria_Lyngbye', '6_Genus_Gloeocystis_Nageli_1849', '6_Genus_Pseudanabaena_Lauterborn_1915', '6_Genus_Skeletonema_Greville', '7_Genus_Caloneis_Cleve', '7_Genus_Hannaea_Patrick', '8_Genus_Diploneis(Ehrenberg)_Cleve', '8_Genus_Pseudostaurosira_Williams_and_Round', '9_Genus_Neidium_Pfitzer', '9_Genus_Punctastriata_Williams_and_Round']\n"
          ]
        }
      ]
    },
    {
      "cell_type": "code",
      "metadata": {
        "colab": {
          "base_uri": "https://localhost:8080/"
        },
        "id": "5EQOikPAukic",
        "outputId": "a4ea9f23-35ad-42a4-c5f1-c41e0547a8fd"
      },
      "source": [
        "for image_batch, labels_batch in train_ds:\n",
        "  print(image_batch.shape)\n",
        "  print(labels_batch.shape)\n",
        "  break"
      ],
      "execution_count": null,
      "outputs": [
        {
          "output_type": "stream",
          "name": "stdout",
          "text": [
            "(32, 180, 180, 1)\n",
            "(32,)\n"
          ]
        }
      ]
    },
    {
      "cell_type": "code",
      "metadata": {
        "id": "9eVl7tiDux9q"
      },
      "source": [
        "from tensorflow.keras import layers\n",
        "\n",
        "normalization_layer = tf.keras.layers.experimental.preprocessing.Rescaling(1./255)"
      ],
      "execution_count": null,
      "outputs": []
    },
    {
      "cell_type": "code",
      "metadata": {
        "colab": {
          "base_uri": "https://localhost:8080/"
        },
        "id": "AiIrsxzZuzEo",
        "outputId": "451b08f4-cf82-4b06-d3bc-2ea3a90a7108"
      },
      "source": [
        "normalized_ds = train_ds.map(lambda x, y: (normalization_layer(x), y))\n",
        "image_batch, labels_batch = next(iter(normalized_ds))\n",
        "first_image = image_batch[0]\n",
        "# Notice the pixels values are now in `[0,1]`.\n",
        "print(np.min(first_image), np.max(first_image))"
      ],
      "execution_count": null,
      "outputs": [
        {
          "output_type": "stream",
          "name": "stdout",
          "text": [
            "0.0 1.0\n"
          ]
        }
      ]
    },
    {
      "cell_type": "code",
      "metadata": {
        "id": "__WbVabru0Bp"
      },
      "source": [
        "AUTOTUNE = tf.data.experimental.AUTOTUNE\n",
        "\n",
        "train_ds = train_ds.cache().prefetch(buffer_size=AUTOTUNE)\n",
        "val_ds = val_ds.cache().prefetch(buffer_size=AUTOTUNE)"
      ],
      "execution_count": null,
      "outputs": []
    },
    {
      "cell_type": "code",
      "metadata": {
        "id": "g1GeYFXCu2gV"
      },
      "source": [
        "num_classes = 107\n",
        "model = tf.keras.Sequential([\n",
        "    layers.experimental.preprocessing.Rescaling(1./255),\n",
        "    layers.Conv2D(64, 3,input_shape = image_batch, activation='relu'),\n",
        "    layers.MaxPooling2D(),\n",
        "    layers.Conv2D(64, 3, activation='relu'),\n",
        "    layers.MaxPooling2D(),\n",
        "    layers.Conv2D(64, 3, activation='relu'),\n",
        "    layers.MaxPooling2D(),\n",
        "    layers.Flatten(),\n",
        "    BatchNormalization(),\n",
        "    layers.Dense(107, activation='softmax'),\n",
        "    BatchNormalization(),\n",
        "    layers.Dense(num_classes)\n",
        "    ])"
      ],
      "execution_count": null,
      "outputs": []
    },
    {
      "cell_type": "code",
      "metadata": {
        "id": "wU4xPAvNYWry"
      },
      "source": [
        "model.compile(\n",
        "    optimizer='adam',\n",
        "    loss=tf.losses.SparseCategoricalCrossentropy(from_logits=True),\n",
        "    metrics=['accuracy'])"
      ],
      "execution_count": null,
      "outputs": []
    },
    {
      "cell_type": "code",
      "metadata": {
        "colab": {
          "base_uri": "https://localhost:8080/"
        },
        "id": "Tk8ssrbHu44p",
        "outputId": "8a7e43b2-4e9a-4f9f-9ae7-3154bc9b8219"
      },
      "source": [
        "epochs=50\n",
        "history = model.fit(\n",
        "  train_ds,\n",
        "  validation_data=val_ds,\n",
        "  epochs=epochs\n",
        ")"
      ],
      "execution_count": null,
      "outputs": [
        {
          "output_type": "stream",
          "name": "stdout",
          "text": [
            "Epoch 1/50\n",
            "156/156 [==============================] - 694s 4s/step - loss: 3.3731 - accuracy: 0.3098 - val_loss: 4.2157 - val_accuracy: 0.0980\n",
            "Epoch 2/50\n",
            "156/156 [==============================] - 4s 27ms/step - loss: 1.9981 - accuracy: 0.5148 - val_loss: 3.8524 - val_accuracy: 0.1213\n",
            "Epoch 3/50\n",
            "156/156 [==============================] - 4s 27ms/step - loss: 1.3325 - accuracy: 0.6864 - val_loss: 3.3377 - val_accuracy: 0.2610\n",
            "Epoch 4/50\n",
            "156/156 [==============================] - 4s 28ms/step - loss: 0.9224 - accuracy: 0.7990 - val_loss: 3.1972 - val_accuracy: 0.2538\n",
            "Epoch 5/50\n",
            "156/156 [==============================] - 4s 27ms/step - loss: 0.6607 - accuracy: 0.8625 - val_loss: 2.4851 - val_accuracy: 0.4209\n",
            "Epoch 6/50\n",
            "156/156 [==============================] - 4s 27ms/step - loss: 0.4484 - accuracy: 0.9207 - val_loss: 2.1664 - val_accuracy: 0.4876\n",
            "Epoch 7/50\n",
            "156/156 [==============================] - 4s 27ms/step - loss: 0.3001 - accuracy: 0.9508 - val_loss: 2.3021 - val_accuracy: 0.4659\n",
            "Epoch 8/50\n",
            "156/156 [==============================] - 4s 27ms/step - loss: 0.2064 - accuracy: 0.9669 - val_loss: 2.3700 - val_accuracy: 0.4819\n",
            "Epoch 9/50\n",
            "156/156 [==============================] - 4s 27ms/step - loss: 0.1556 - accuracy: 0.9749 - val_loss: 2.3906 - val_accuracy: 0.4731\n",
            "Epoch 10/50\n",
            "156/156 [==============================] - 4s 27ms/step - loss: 0.1177 - accuracy: 0.9823 - val_loss: 2.4259 - val_accuracy: 0.4763\n",
            "Epoch 11/50\n",
            "156/156 [==============================] - 4s 27ms/step - loss: 0.0929 - accuracy: 0.9843 - val_loss: 2.3899 - val_accuracy: 0.4876\n",
            "Epoch 12/50\n",
            "156/156 [==============================] - 4s 27ms/step - loss: 0.0773 - accuracy: 0.9863 - val_loss: 2.5367 - val_accuracy: 0.4675\n",
            "Epoch 13/50\n",
            "156/156 [==============================] - 4s 27ms/step - loss: 0.0702 - accuracy: 0.9861 - val_loss: 2.6392 - val_accuracy: 0.4530\n",
            "Epoch 14/50\n",
            "156/156 [==============================] - 4s 27ms/step - loss: 0.0587 - accuracy: 0.9886 - val_loss: 2.7532 - val_accuracy: 0.4602\n",
            "Epoch 15/50\n",
            "156/156 [==============================] - 4s 27ms/step - loss: 0.0563 - accuracy: 0.9892 - val_loss: 2.7894 - val_accuracy: 0.4594\n",
            "Epoch 16/50\n",
            "156/156 [==============================] - 4s 27ms/step - loss: 0.0499 - accuracy: 0.9904 - val_loss: 3.0162 - val_accuracy: 0.4378\n",
            "Epoch 17/50\n",
            "156/156 [==============================] - 4s 27ms/step - loss: 0.0545 - accuracy: 0.9910 - val_loss: 3.1318 - val_accuracy: 0.4498\n",
            "Epoch 18/50\n",
            "156/156 [==============================] - 4s 27ms/step - loss: 0.0665 - accuracy: 0.9874 - val_loss: 3.0963 - val_accuracy: 0.4402\n",
            "Epoch 19/50\n",
            "156/156 [==============================] - 4s 27ms/step - loss: 0.0801 - accuracy: 0.9843 - val_loss: 3.5867 - val_accuracy: 0.4265\n",
            "Epoch 20/50\n",
            "156/156 [==============================] - 4s 27ms/step - loss: 0.0708 - accuracy: 0.9853 - val_loss: 2.9179 - val_accuracy: 0.4506\n",
            "Epoch 21/50\n",
            "156/156 [==============================] - 4s 27ms/step - loss: 0.0492 - accuracy: 0.9912 - val_loss: 3.1193 - val_accuracy: 0.4466\n",
            "Epoch 22/50\n",
            "156/156 [==============================] - 4s 27ms/step - loss: 0.0339 - accuracy: 0.9954 - val_loss: 3.1030 - val_accuracy: 0.4305\n",
            "Epoch 23/50\n",
            "156/156 [==============================] - 4s 27ms/step - loss: 0.0302 - accuracy: 0.9958 - val_loss: 3.5953 - val_accuracy: 0.4241\n",
            "Epoch 24/50\n",
            "156/156 [==============================] - 4s 27ms/step - loss: 0.0245 - accuracy: 0.9962 - val_loss: 3.0539 - val_accuracy: 0.4755\n",
            "Epoch 25/50\n",
            "156/156 [==============================] - 4s 27ms/step - loss: 0.0233 - accuracy: 0.9968 - val_loss: 2.8767 - val_accuracy: 0.4819\n",
            "Epoch 26/50\n",
            "156/156 [==============================] - 4s 27ms/step - loss: 0.0243 - accuracy: 0.9956 - val_loss: 3.5224 - val_accuracy: 0.4506\n",
            "Epoch 27/50\n",
            "156/156 [==============================] - 4s 27ms/step - loss: 0.0211 - accuracy: 0.9978 - val_loss: 3.4410 - val_accuracy: 0.4048\n",
            "Epoch 28/50\n",
            "156/156 [==============================] - 4s 27ms/step - loss: 0.0217 - accuracy: 0.9966 - val_loss: 2.9724 - val_accuracy: 0.4618\n",
            "Epoch 29/50\n",
            "156/156 [==============================] - 4s 27ms/step - loss: 0.0345 - accuracy: 0.9928 - val_loss: 3.8288 - val_accuracy: 0.4169\n",
            "Epoch 30/50\n",
            "156/156 [==============================] - 4s 27ms/step - loss: 0.1744 - accuracy: 0.9520 - val_loss: 6.1162 - val_accuracy: 0.2458\n",
            "Epoch 31/50\n",
            "156/156 [==============================] - 4s 27ms/step - loss: 0.2950 - accuracy: 0.9115 - val_loss: 4.6243 - val_accuracy: 0.3494\n",
            "Epoch 32/50\n",
            "156/156 [==============================] - 4s 27ms/step - loss: 0.1744 - accuracy: 0.9498 - val_loss: 3.6484 - val_accuracy: 0.4129\n",
            "Epoch 33/50\n",
            "156/156 [==============================] - 4s 27ms/step - loss: 0.0742 - accuracy: 0.9831 - val_loss: 3.0650 - val_accuracy: 0.4402\n",
            "Epoch 34/50\n",
            "156/156 [==============================] - 4s 27ms/step - loss: 0.0277 - accuracy: 0.9968 - val_loss: 2.8992 - val_accuracy: 0.4755\n",
            "Epoch 35/50\n",
            "156/156 [==============================] - 4s 26ms/step - loss: 0.0153 - accuracy: 0.9984 - val_loss: 3.1519 - val_accuracy: 0.4490\n",
            "Epoch 36/50\n",
            "156/156 [==============================] - 4s 27ms/step - loss: 0.0098 - accuracy: 0.9984 - val_loss: 2.8501 - val_accuracy: 0.4932\n",
            "Epoch 37/50\n",
            "156/156 [==============================] - 4s 27ms/step - loss: 0.0060 - accuracy: 0.9994 - val_loss: 2.8643 - val_accuracy: 0.4972\n",
            "Epoch 38/50\n",
            "156/156 [==============================] - 4s 27ms/step - loss: 0.0045 - accuracy: 0.9996 - val_loss: 2.9605 - val_accuracy: 0.4980\n",
            "Epoch 39/50\n",
            "156/156 [==============================] - 4s 27ms/step - loss: 0.0058 - accuracy: 0.9994 - val_loss: 3.0256 - val_accuracy: 0.4932\n",
            "Epoch 40/50\n",
            "156/156 [==============================] - 4s 26ms/step - loss: 0.0044 - accuracy: 0.9992 - val_loss: 3.0927 - val_accuracy: 0.4859\n",
            "Epoch 41/50\n",
            "156/156 [==============================] - 4s 27ms/step - loss: 0.0031 - accuracy: 0.9998 - val_loss: 3.1242 - val_accuracy: 0.4932\n",
            "Epoch 42/50\n",
            "156/156 [==============================] - 4s 27ms/step - loss: 0.0024 - accuracy: 1.0000 - val_loss: 3.1943 - val_accuracy: 0.4924\n",
            "Epoch 43/50\n",
            "156/156 [==============================] - 4s 27ms/step - loss: 0.0019 - accuracy: 1.0000 - val_loss: 3.2409 - val_accuracy: 0.4876\n",
            "Epoch 44/50\n",
            "156/156 [==============================] - 4s 27ms/step - loss: 0.0016 - accuracy: 1.0000 - val_loss: 3.2807 - val_accuracy: 0.4940\n",
            "Epoch 45/50\n",
            "156/156 [==============================] - 4s 27ms/step - loss: 0.0013 - accuracy: 1.0000 - val_loss: 3.3087 - val_accuracy: 0.4932\n",
            "Epoch 46/50\n",
            "156/156 [==============================] - 4s 27ms/step - loss: 0.0011 - accuracy: 1.0000 - val_loss: 3.3342 - val_accuracy: 0.4916\n",
            "Epoch 47/50\n",
            "156/156 [==============================] - 4s 27ms/step - loss: 9.9198e-04 - accuracy: 1.0000 - val_loss: 3.3604 - val_accuracy: 0.4932\n",
            "Epoch 48/50\n",
            "156/156 [==============================] - 4s 26ms/step - loss: 8.8935e-04 - accuracy: 1.0000 - val_loss: 3.3807 - val_accuracy: 0.4900\n",
            "Epoch 49/50\n",
            "156/156 [==============================] - 4s 27ms/step - loss: 8.0179e-04 - accuracy: 1.0000 - val_loss: 3.4062 - val_accuracy: 0.4900\n",
            "Epoch 50/50\n",
            "156/156 [==============================] - 4s 27ms/step - loss: 7.3230e-04 - accuracy: 1.0000 - val_loss: 3.4241 - val_accuracy: 0.4884\n"
          ]
        }
      ]
    },
    {
      "cell_type": "code",
      "metadata": {
        "colab": {
          "base_uri": "https://localhost:8080/",
          "height": 499
        },
        "id": "f1z_vHocu59c",
        "outputId": "2f7f2552-144f-4575-9568-0e4ea38a92b1"
      },
      "source": [
        "acc = history.history['accuracy']\n",
        "val_acc = history.history['val_accuracy']\n",
        "\n",
        "loss=history.history['loss']\n",
        "val_loss=history.history['val_loss']\n",
        "\n",
        "epochs_range = range(epochs)\n",
        "\n",
        "plt.figure(figsize=(8, 8))\n",
        "plt.subplot(1, 2, 1)\n",
        "plt.plot(epochs_range, acc, label='Training Accuracy')\n",
        "plt.plot(epochs_range, val_acc, label='Validation Accuracy')\n",
        "plt.legend(loc='lower right')\n",
        "plt.title('Training and Validation Accuracy')\n",
        "\n",
        "plt.subplot(1, 2, 2)\n",
        "plt.plot(epochs_range, loss, label='Training Loss')\n",
        "plt.plot(epochs_range, val_loss, label='Validation Loss')\n",
        "plt.legend(loc='upper right')\n",
        "plt.title('Training and Validation Loss')\n",
        "plt.show()"
      ],
      "execution_count": null,
      "outputs": [
        {
          "output_type": "display_data",
          "data": {
            "image/png": "[encoded data removed]",
            "text/plain": [
              "<Figure size 576x576 with 2 Axes>"
            ]
          },
          "metadata": {
            "needs_background": "light"
          }
        }
      ]
    },
    {
      "cell_type": "code",
      "metadata": {
        "id": "XinJ6xXD9YNO"
      },
      "source": [
        "data_augmentation = keras.Sequential(\n",
        "  [\n",
        "    layers.experimental.preprocessing.RandomFlip(\"horizontal\", \n",
        "                                                 input_shape=(img_height, \n",
        "                                                              img_width,\n",
        "                                                              1)),\n",
        "    layers.experimental.preprocessing.RandomRotation(0.1),\n",
        "    layers.experimental.preprocessing.RandomZoom(0.1),\n",
        "  ]\n",
        ")"
      ],
      "execution_count": null,
      "outputs": []
    },
    {
      "cell_type": "code",
      "metadata": {
        "id": "8WT2BYElEYZj"
      },
      "source": [
        "model = Sequential([\n",
        "  data_augmentation,\n",
        "  layers.experimental.preprocessing.Rescaling(1./255),\n",
        "  layers.Conv2D(64, 3,input_shape = image_batch, activation='relu'),\n",
        "  layers.MaxPooling2D(),\n",
        "  layers.Conv2D(64, 3, padding='same', activation='relu'),\n",
        "  layers.MaxPooling2D(),\n",
        "  layers.Conv2D(64, 3, padding='same', activation='relu'),\n",
        "  layers.MaxPooling2D(),\n",
        "  layers.Dropout(0.2),\n",
        "  layers.Flatten(),\n",
        "  BatchNormalization(),\n",
        "  layers.Dense(107, activation='softmax'),\n",
        "  BatchNormalization(),\n",
        "  layers.Dense(num_classes)\n",
        "])"
      ],
      "execution_count": null,
      "outputs": []
    },
    {
      "cell_type": "code",
      "metadata": {
        "id": "opOHP3auEdsw",
        "colab": {
          "base_uri": "https://localhost:8080/"
        },
        "outputId": "1c567f4d-dc2e-4ee9-f85b-bcf3a62f1016"
      },
      "source": [
        "BatchNormalization(),model.compile(\n",
        "    optimizer='adam',\n",
        "    loss=tf.losses.SparseCategoricalCrossentropy(from_logits=True),\n",
        "    metrics=['accuracy'])"
      ],
      "execution_count": null,
      "outputs": [
        {
          "output_type": "execute_result",
          "data": {
            "text/plain": [
              "(<keras.layers.normalization.batch_normalization.BatchNormalization at 0x7feea0047e50>,\n",
              " None)"
            ]
          },
          "metadata": {},
          "execution_count": 19
        }
      ]
    },
    {
      "cell_type": "code",
      "metadata": {
        "colab": {
          "base_uri": "https://localhost:8080/"
        },
        "id": "3Ay4tlHlEfBX",
        "outputId": "02c2e285-a26b-47ae-f862-2a6d739b8589"
      },
      "source": [
        "model.summary()"
      ],
      "execution_count": null,
      "outputs": [
        {
          "output_type": "stream",
          "name": "stdout",
          "text": [
            "Model: \"sequential_2\"\n",
            "_________________________________________________________________\n",
            " Layer (type)                Output Shape              Param #   \n",
            "=================================================================\n",
            " sequential_1 (Sequential)   (None, 180, 180, 1)       0         \n",
            "                                                                 \n",
            " rescaling_2 (Rescaling)     (None, 180, 180, 1)       0         \n",
            "                                                                 \n",
            " conv2d_3 (Conv2D)           (None, 178, 178, 64)      640       \n",
            "                                                                 \n",
            " max_pooling2d_3 (MaxPooling  (None, 89, 89, 64)       0         \n",
            " 2D)                                                             \n",
            "                                                                 \n",
            " conv2d_4 (Conv2D)           (None, 89, 89, 64)        36928     \n",
            "                                                                 \n",
            " max_pooling2d_4 (MaxPooling  (None, 44, 44, 64)       0         \n",
            " 2D)                                                             \n",
            "                                                                 \n",
            " conv2d_5 (Conv2D)           (None, 44, 44, 64)        36928     \n",
            "                                                                 \n",
            " max_pooling2d_5 (MaxPooling  (None, 22, 22, 64)       0         \n",
            " 2D)                                                             \n",
            "                                                                 \n",
            " dropout (Dropout)           (None, 22, 22, 64)        0         \n",
            "                                                                 \n",
            " flatten_1 (Flatten)         (None, 30976)             0         \n",
            "                                                                 \n",
            " batch_normalization_2 (Batc  (None, 30976)            123904    \n",
            " hNormalization)                                                 \n",
            "                                                                 \n",
            " dense_2 (Dense)             (None, 107)               3314539   \n",
            "                                                                 \n",
            " batch_normalization_3 (Batc  (None, 107)              428       \n",
            " hNormalization)                                                 \n",
            "                                                                 \n",
            " dense_3 (Dense)             (None, 107)               11556     \n",
            "                                                                 \n",
            "=================================================================\n",
            "Total params: 3,524,923\n",
            "Trainable params: 3,462,757\n",
            "Non-trainable params: 62,166\n",
            "_________________________________________________________________\n"
          ]
        }
      ]
    },
    {
      "cell_type": "code",
      "metadata": {
        "colab": {
          "base_uri": "https://localhost:8080/"
        },
        "id": "Jc8rD_v9Ef41",
        "outputId": "e8178575-ae13-4970-9226-155488eece2f"
      },
      "source": [
        "epochs = 50\n",
        "history = model.fit(\n",
        "  train_ds,\n",
        "  validation_data=val_ds,\n",
        "  epochs=epochs\n",
        ")"
      ],
      "execution_count": null,
      "outputs": [
        {
          "output_type": "stream",
          "name": "stdout",
          "text": [
            "Epoch 1/50\n",
            "156/156 [==============================] - 6s 32ms/step - loss: 3.5407 - accuracy: 0.2373 - val_loss: 4.1971 - val_accuracy: 0.0980\n",
            "Epoch 2/50\n",
            "156/156 [==============================] - 5s 30ms/step - loss: 2.5761 - accuracy: 0.3541 - val_loss: 3.8021 - val_accuracy: 0.1341\n",
            "Epoch 3/50\n",
            "156/156 [==============================] - 5s 30ms/step - loss: 2.2391 - accuracy: 0.4134 - val_loss: 3.1782 - val_accuracy: 0.3197\n",
            "Epoch 4/50\n",
            "156/156 [==============================] - 5s 29ms/step - loss: 2.0456 - accuracy: 0.4501 - val_loss: 2.4265 - val_accuracy: 0.4024\n",
            "Epoch 5/50\n",
            "156/156 [==============================] - 5s 30ms/step - loss: 1.8956 - accuracy: 0.4762 - val_loss: 2.1889 - val_accuracy: 0.4369\n",
            "Epoch 6/50\n",
            "156/156 [==============================] - 5s 29ms/step - loss: 1.7679 - accuracy: 0.4989 - val_loss: 2.3262 - val_accuracy: 0.4297\n",
            "Epoch 7/50\n",
            "156/156 [==============================] - 5s 29ms/step - loss: 1.6974 - accuracy: 0.5119 - val_loss: 2.3595 - val_accuracy: 0.4273\n",
            "Epoch 8/50\n",
            "156/156 [==============================] - 5s 30ms/step - loss: 1.5930 - accuracy: 0.5332 - val_loss: 2.6395 - val_accuracy: 0.3984\n",
            "Epoch 9/50\n",
            "156/156 [==============================] - 5s 30ms/step - loss: 1.4935 - accuracy: 0.5660 - val_loss: 3.0374 - val_accuracy: 0.3566\n",
            "Epoch 10/50\n",
            "156/156 [==============================] - 5s 29ms/step - loss: 1.4592 - accuracy: 0.5657 - val_loss: 2.5261 - val_accuracy: 0.4321\n",
            "Epoch 11/50\n",
            "156/156 [==============================] - 5s 29ms/step - loss: 1.3745 - accuracy: 0.5961 - val_loss: 2.5508 - val_accuracy: 0.4209\n",
            "Epoch 12/50\n",
            "156/156 [==============================] - 5s 30ms/step - loss: 1.3620 - accuracy: 0.5902 - val_loss: 2.4672 - val_accuracy: 0.4353\n",
            "Epoch 13/50\n",
            "156/156 [==============================] - 5s 29ms/step - loss: 1.3132 - accuracy: 0.6049 - val_loss: 2.7379 - val_accuracy: 0.4153\n",
            "Epoch 14/50\n",
            "156/156 [==============================] - 5s 29ms/step - loss: 1.2664 - accuracy: 0.6125 - val_loss: 3.3184 - val_accuracy: 0.3526\n",
            "Epoch 15/50\n",
            "156/156 [==============================] - 5s 29ms/step - loss: 1.2338 - accuracy: 0.6306 - val_loss: 2.7029 - val_accuracy: 0.4193\n",
            "Epoch 16/50\n",
            "156/156 [==============================] - 5s 30ms/step - loss: 1.1948 - accuracy: 0.6298 - val_loss: 2.7541 - val_accuracy: 0.4129\n",
            "Epoch 17/50\n",
            "156/156 [==============================] - 5s 29ms/step - loss: 1.1759 - accuracy: 0.6324 - val_loss: 2.7750 - val_accuracy: 0.3968\n",
            "Epoch 18/50\n",
            "156/156 [==============================] - 5s 29ms/step - loss: 1.1453 - accuracy: 0.6374 - val_loss: 2.8905 - val_accuracy: 0.3984\n",
            "Epoch 19/50\n",
            "156/156 [==============================] - 5s 29ms/step - loss: 1.1084 - accuracy: 0.6539 - val_loss: 3.4205 - val_accuracy: 0.3341\n",
            "Epoch 20/50\n",
            "156/156 [==============================] - 5s 29ms/step - loss: 1.0961 - accuracy: 0.6527 - val_loss: 3.2821 - val_accuracy: 0.3743\n",
            "Epoch 21/50\n",
            "156/156 [==============================] - 5s 29ms/step - loss: 1.0427 - accuracy: 0.6726 - val_loss: 2.2473 - val_accuracy: 0.4731\n",
            "Epoch 22/50\n",
            "156/156 [==============================] - 5s 29ms/step - loss: 1.0308 - accuracy: 0.6766 - val_loss: 3.0969 - val_accuracy: 0.4225\n",
            "Epoch 23/50\n",
            "156/156 [==============================] - 5s 29ms/step - loss: 1.0027 - accuracy: 0.6816 - val_loss: 3.0514 - val_accuracy: 0.4064\n",
            "Epoch 24/50\n",
            "156/156 [==============================] - 5s 29ms/step - loss: 0.9950 - accuracy: 0.6916 - val_loss: 3.6497 - val_accuracy: 0.3671\n",
            "Epoch 25/50\n",
            "156/156 [==============================] - 5s 29ms/step - loss: 0.9799 - accuracy: 0.6882 - val_loss: 3.3203 - val_accuracy: 0.3735\n",
            "Epoch 26/50\n",
            "156/156 [==============================] - 5s 29ms/step - loss: 0.9616 - accuracy: 0.6898 - val_loss: 3.2727 - val_accuracy: 0.3751\n",
            "Epoch 27/50\n",
            "156/156 [==============================] - 5s 30ms/step - loss: 0.9431 - accuracy: 0.6989 - val_loss: 3.4122 - val_accuracy: 0.3606\n",
            "Epoch 28/50\n",
            "156/156 [==============================] - 5s 29ms/step - loss: 0.9168 - accuracy: 0.7079 - val_loss: 2.5629 - val_accuracy: 0.4562\n",
            "Epoch 29/50\n",
            "156/156 [==============================] - 5s 29ms/step - loss: 0.8795 - accuracy: 0.7221 - val_loss: 3.2881 - val_accuracy: 0.3904\n",
            "Epoch 30/50\n",
            "156/156 [==============================] - 5s 29ms/step - loss: 0.8830 - accuracy: 0.7145 - val_loss: 3.3186 - val_accuracy: 0.3920\n",
            "Epoch 31/50\n",
            "156/156 [==============================] - 5s 30ms/step - loss: 0.8438 - accuracy: 0.7256 - val_loss: 3.6204 - val_accuracy: 0.3839\n",
            "Epoch 32/50\n",
            "156/156 [==============================] - 5s 30ms/step - loss: 0.8602 - accuracy: 0.7201 - val_loss: 3.3106 - val_accuracy: 0.4225\n",
            "Epoch 33/50\n",
            "156/156 [==============================] - 5s 30ms/step - loss: 0.8252 - accuracy: 0.7390 - val_loss: 4.0444 - val_accuracy: 0.3462\n",
            "Epoch 34/50\n",
            "156/156 [==============================] - 5s 30ms/step - loss: 0.8402 - accuracy: 0.7288 - val_loss: 3.4568 - val_accuracy: 0.4016\n",
            "Epoch 35/50\n",
            "156/156 [==============================] - 5s 30ms/step - loss: 0.7821 - accuracy: 0.7456 - val_loss: 3.1232 - val_accuracy: 0.4313\n",
            "Epoch 36/50\n",
            "156/156 [==============================] - 5s 30ms/step - loss: 0.8074 - accuracy: 0.7394 - val_loss: 3.8533 - val_accuracy: 0.3679\n",
            "Epoch 37/50\n",
            "156/156 [==============================] - 5s 30ms/step - loss: 0.7868 - accuracy: 0.7505 - val_loss: 3.5127 - val_accuracy: 0.4080\n",
            "Epoch 38/50\n",
            "156/156 [==============================] - 5s 29ms/step - loss: 0.7809 - accuracy: 0.7460 - val_loss: 3.5529 - val_accuracy: 0.4000\n",
            "Epoch 39/50\n",
            "156/156 [==============================] - 5s 30ms/step - loss: 0.7603 - accuracy: 0.7555 - val_loss: 3.1598 - val_accuracy: 0.4345\n",
            "Epoch 40/50\n",
            "156/156 [==============================] - 5s 29ms/step - loss: 0.7481 - accuracy: 0.7575 - val_loss: 3.4593 - val_accuracy: 0.3968\n",
            "Epoch 41/50\n",
            "156/156 [==============================] - 5s 29ms/step - loss: 0.7573 - accuracy: 0.7529 - val_loss: 3.2867 - val_accuracy: 0.4289\n",
            "Epoch 42/50\n",
            "156/156 [==============================] - 5s 30ms/step - loss: 0.7319 - accuracy: 0.7577 - val_loss: 3.0717 - val_accuracy: 0.4466\n",
            "Epoch 43/50\n",
            "156/156 [==============================] - 5s 30ms/step - loss: 0.7108 - accuracy: 0.7766 - val_loss: 3.6766 - val_accuracy: 0.4129\n",
            "Epoch 44/50\n",
            "156/156 [==============================] - 5s 30ms/step - loss: 0.7441 - accuracy: 0.7577 - val_loss: 3.7402 - val_accuracy: 0.4145\n",
            "Epoch 45/50\n",
            "156/156 [==============================] - 5s 29ms/step - loss: 0.6970 - accuracy: 0.7768 - val_loss: 3.6600 - val_accuracy: 0.4088\n",
            "Epoch 46/50\n",
            "156/156 [==============================] - 5s 29ms/step - loss: 0.7082 - accuracy: 0.7625 - val_loss: 3.8015 - val_accuracy: 0.3783\n",
            "Epoch 47/50\n",
            "156/156 [==============================] - 5s 30ms/step - loss: 0.6857 - accuracy: 0.7828 - val_loss: 3.2609 - val_accuracy: 0.4313\n",
            "Epoch 48/50\n",
            "156/156 [==============================] - 5s 30ms/step - loss: 0.7025 - accuracy: 0.7737 - val_loss: 4.0963 - val_accuracy: 0.3799\n",
            "Epoch 49/50\n",
            "156/156 [==============================] - 5s 29ms/step - loss: 0.6782 - accuracy: 0.7796 - val_loss: 3.9021 - val_accuracy: 0.3944\n",
            "Epoch 50/50\n",
            "156/156 [==============================] - 5s 29ms/step - loss: 0.6985 - accuracy: 0.7693 - val_loss: 2.9432 - val_accuracy: 0.4627\n"
          ]
        }
      ]
    },
    {
      "cell_type": "code",
      "metadata": {
        "colab": {
          "base_uri": "https://localhost:8080/",
          "height": 499
        },
        "id": "ynhS2KjVEhj8",
        "outputId": "de9043ed-7bc6-4942-f92c-9589d3fae8a1"
      },
      "source": [
        "acc = history.history['accuracy']\n",
        "val_acc = history.history['val_accuracy']\n",
        "\n",
        "loss = history.history['loss']\n",
        "val_loss = history.history['val_loss']\n",
        "\n",
        "epochs_range = range(epochs)\n",
        "\n",
        "plt.figure(figsize=(8, 8))\n",
        "plt.subplot(1, 2, 1)\n",
        "plt.plot(epochs_range, acc, label='Training Accuracy')\n",
        "plt.plot(epochs_range, val_acc, label='Validation Accuracy')\n",
        "plt.legend(loc='lower right')\n",
        "plt.title('Training and Validation Accuracy')\n",
        "\n",
        "plt.subplot(1, 2, 2)\n",
        "plt.plot(epochs_range, loss, label='Training Loss')\n",
        "plt.plot(epochs_range, val_loss, label='Validation Loss')\n",
        "plt.legend(loc='upper right')\n",
        "plt.title('Training and Validation Loss')\n",
        "plt.show()"
      ],
      "execution_count": null,
      "outputs": [
        {
          "output_type": "display_data",
          "data": {
            "image/png": "[encoded data removed]",
            "text/plain": [
              "<Figure size 576x576 with 2 Axes>"
            ]
          },
          "metadata": {
            "needs_background": "light"
          }
        }
      ]
    },
    {
      "cell_type": "code",
      "metadata": {
        "colab": {
          "base_uri": "https://localhost:8080/"
        },
        "id": "IbEQMrsAH2yZ",
        "outputId": "5a8d1b92-628d-4218-ed61-7b5edc125edd"
      },
      "source": [
        "model.compile(\n",
        "    optimizer='adam',\n",
        "    loss=tf.losses.SparseCategoricalCrossentropy(from_logits=True),\n",
        "    metrics=['accuracy'])\n",
        "model.summary()"
      ],
      "execution_count": null,
      "outputs": [
        {
          "output_type": "stream",
          "name": "stdout",
          "text": [
            "Model: \"sequential_2\"\n",
            "_________________________________________________________________\n",
            " Layer (type)                Output Shape              Param #   \n",
            "=================================================================\n",
            " sequential_1 (Sequential)   (None, 180, 180, 1)       0         \n",
            "                                                                 \n",
            " rescaling_2 (Rescaling)     (None, 180, 180, 1)       0         \n",
            "                                                                 \n",
            " conv2d_3 (Conv2D)           (None, 178, 178, 64)      640       \n",
            "                                                                 \n",
            " max_pooling2d_3 (MaxPooling  (None, 89, 89, 64)       0         \n",
            " 2D)                                                             \n",
            "                                                                 \n",
            " conv2d_4 (Conv2D)           (None, 89, 89, 64)        36928     \n",
            "                                                                 \n",
            " max_pooling2d_4 (MaxPooling  (None, 44, 44, 64)       0         \n",
            " 2D)                                                             \n",
            "                                                                 \n",
            " conv2d_5 (Conv2D)           (None, 44, 44, 64)        36928     \n",
            "                                                                 \n",
            " max_pooling2d_5 (MaxPooling  (None, 22, 22, 64)       0         \n",
            " 2D)                                                             \n",
            "                                                                 \n",
            " dropout (Dropout)           (None, 22, 22, 64)        0         \n",
            "                                                                 \n",
            " flatten_1 (Flatten)         (None, 30976)             0         \n",
            "                                                                 \n",
            " batch_normalization_2 (Batc  (None, 30976)            123904    \n",
            " hNormalization)                                                 \n",
            "                                                                 \n",
            " dense_2 (Dense)             (None, 107)               3314539   \n",
            "                                                                 \n",
            " batch_normalization_3 (Batc  (None, 107)              428       \n",
            " hNormalization)                                                 \n",
            "                                                                 \n",
            " dense_3 (Dense)             (None, 107)               11556     \n",
            "                                                                 \n",
            "=================================================================\n",
            "Total params: 3,524,923\n",
            "Trainable params: 3,462,757\n",
            "Non-trainable params: 62,166\n",
            "_________________________________________________________________\n"
          ]
        }
      ]
    },
    {
      "cell_type": "code",
      "metadata": {
        "id": "df30HUqFjWre"
      },
      "source": [
        ""
      ],
      "execution_count": null,
      "outputs": []
    }
  ]
}