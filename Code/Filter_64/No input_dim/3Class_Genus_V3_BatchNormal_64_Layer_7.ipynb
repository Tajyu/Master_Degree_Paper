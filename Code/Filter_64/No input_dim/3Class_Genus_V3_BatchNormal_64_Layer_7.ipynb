{
  "nbformat": 4,
  "nbformat_minor": 0,
  "metadata": {
    "colab": {
      "name": "3Class_Genus_V3_BatchNormal_64_Layer_7.ipynb",
      "provenance": [],
      "collapsed_sections": [],
      "mount_file_id": "1XJ0rpbn0e3wU60xWkfNtLjisWJuSQ3U_",
      "authorship_tag": "ABX9TyOTEwJkrNK6J3MVorYXxK45",
      "include_colab_link": true
    },
    "kernelspec": {
      "name": "python3",
      "display_name": "Python 3"
    },
    "language_info": {
      "name": "python"
    },
    "accelerator": "GPU"
  },
  "cells": [
    {
      "cell_type": "markdown",
      "metadata": {
        "id": "view-in-github",
        "colab_type": "text"
      },
      "source": [
        "<a href=\"https://colab.research.google.com/github/Tajyu/Master_Degree_Paper/blob/main/Code/Filter_64/No%20input_dim/3Class_Genus_V3_BatchNormal_64_Layer_7.ipynb\" target=\"_parent\"><img src=\"https://colab.research.google.com/assets/colab-badge.svg\" alt=\"Open In Colab\"/></a>"
      ]
    },
    {
      "cell_type": "code",
      "metadata": {
        "id": "yWckd06_68Em"
      },
      "source": [
        "import tensorflow as tf\n",
        "from tensorflow.keras import datasets, layers, models\n",
        "from keras.preprocessing.image import ImageDataGenerator\n",
        "import numpy as np\n",
        "import matplotlib.pyplot as plt\n",
        "import cv2 as cv\n",
        "import os\n",
        "import pathlib\n",
        "import PIL\n",
        "from tensorflow import keras\n",
        "from tensorflow.keras import layers\n",
        "from tensorflow.keras.models import Sequential\n",
        "from tensorflow.keras.layers import Dense, Flatten, BatchNormalization, Dropout"
      ],
      "execution_count": null,
      "outputs": []
    },
    {
      "cell_type": "code",
      "metadata": {
        "id": "xav9zirHttk_"
      },
      "source": [
        "image_list = os.listdir('/content/drive/MyDrive/Colab Notebooks/Final_Project/Cell_Genus')"
      ],
      "execution_count": null,
      "outputs": []
    },
    {
      "cell_type": "code",
      "metadata": {
        "colab": {
          "base_uri": "https://localhost:8080/"
        },
        "id": "K-wD0dM5tx_E",
        "outputId": "54fee4aa-eb07-46cd-a911-3df998ae22b2"
      },
      "source": [
        "print(image_list)"
      ],
      "execution_count": null,
      "outputs": [
        {
          "output_type": "stream",
          "name": "stdout",
          "text": [
            "['10_Genus_Stauroneis_Ehrenberg', '10_Genus_Staurosira_Ehrenberg', '11_Genus_Craspedostauros_E.J_Cox_1999', '11_Genus_Staurosirella_Williams_and_Round', '12_Genus_Caloneis_Cleve_1894', '12_Genus_Synedra_Ehrenberg', '13_Genus_Pinnularia_Ehrenberg_1843', '1_Genus_Acanthoceras_Honigmann', '1_Genus_Achnanthes_Bory', '1_Genus_Actinocyclus_Ehrenberg', '1_Genus_Aphanocapsa_Nageli_1849', '1_Genus_Asterionella_Hassall', '1_Genus_Aulacoseira', '1_Genus_Biremis_Mann_et_Cox_in_Round_Crawford_and_Mann', '1_Genus_Characium_A_Braun_in_Kutzing_1849', '1_Genus_Chroococcus_Nageli', '1_Genus_Closterium_Nitzsch_ex_Ralfs_1848', '1_Genus_Coelastrum_Nageli_1849', '1_Genus_Cylindrocystis_Meneghini_ex_de_Bary_1858', '1_Genus_Dictyosphaerium_Nageli_1849', '1_Genus_Docidium_Brebisson_ex_Ralfs_1848', '1_Genus_Eunotia_Ehrenberg', '1_Genus_Geitlerinema_(Anagnostidis_et_Komarek)_Anagnostidis_1989', '1_Genus_Gonatozygon_de_Bary_1856', '1_Genus_Hydrodictyon_Roth_1797', '1_Genus_Hydrosera_whampoensis', '1_Genus_Jaaginema_Anagnostidis_et_Komarek_1988', '1_Genus_Lyngbya_C_Agardh_ex_Gomont_1892', '1_Genus_Melosira_Agardh', '1_Genus_Micractinium_Fresenius_1858', '1_Genus_Micrasterias_Ralfs_1848', '1_Genus_Microcystis_Kutzing_ex_Lemmermann_1907', '1_Genus_Oscillatoria_Vaucher_ex_Gomont_1982', '1_Genus_Pediastrum_Meyen_1829', '1_Genus_Penium_Brebisson_ex_Ralfs_in_Ralfs_1848', '1_Genus_Phormidium_Kutzing_ex_Gomont_1892', '1_Genus_Planktothrix_Anagnostidis_et_Komarek_1988', '1_Genus_Pleurosira_laevis_(Ehrenberg)', '1_Genus_Rhizosolenia_Ehrenberg', '1_Genus_Schizochlamydella_Korshikov_1953', '1_Genus_Staurodesmus_Teiling_1848', '1_Genus_Trochiscia_Kutzing_1834', '1_Scenedesmus_Hegewald_1978', '2_Acutodesmus_Hegewald_1978', '2_Genus_Achnanthidium_Kutzing', '2_Genus_Actinastrum_Lagerheim_1882', '2_Genus_Actinella_Lewis', '2_Genus_Ankyra_Fott_1957', '2_Genus_Caloneis_Cleve', '2_Genus_Chaetoceros_Ehrenberg', '2_Genus_Coenochloris_Korshikov_1953', '2_Genus_Cyclotella', '2_Genus_Diatoma_Bory', '2_Genus_Dimorphococcus_A_Braun_1855', '2_Genus_Golenkinia_Chodat_1894', '2_Genus_Haplotaenium_Bando_1988', '2_Genus_Leibleinia_(Gomont)_L_Hoffman_1985', '2_Genus_Leptolyngbya_Anagnostidis_et_Komarek_1988', '2_Genus_Merismopedia_Meyen_1839', '2_Genus_Netrium_(Nageli)_Itzigsohn_et_Rothe_in_Rabenhorst_1856', '2_Genus_Orthoseira_Thwaites_1848', '2_Genus_Phormidium_Kutzing_ex_Gomont_1892', '2_Genus_Sorastrum_Kutzing_1845', '2_Genus_Staurastrum_Meyen_ex_Ralfs_1848', '3_Desmodesmus_Chodat_1926', '3_Genus_Acanthosphaera_Lemmerman_1899', '3_Genus_Anorthoneis_Grunow', '3_Genus_Cyclostephanos_Round', '3_Genus_Dichotomococcus_Korshikov_1928', '3_Genus_Heteroleibleinia_(Geitler)_L_Hoffmann_1985', '3_Genus_Limnothrix_Meffert_1988', '3_Genus_Meridion_Agardh', '3_Genus_Paradoxia_Svirenko_1928', '3_Genus_Peronia_Bebisson_and_Arnott_ex_Kitton', '3_Genus_Phormidiochaete_Komarek_in_Anagnostidis_2001', '3_Genus_Pinnularia_Ehrenberg_1', '3_Genus_Pleurotaenium_Nageli_1849', '3_Genus_Radiococcus_Schmidle_1902', '3_Genus_Snowella_Elenkin_1938', '3_Genus_Spirotaenia_Brebisson_in_Ralfs_1848', '4_Genus_Botryococcus_Kutzing_1849', '4_Genus_Cocconeis_Ehrenberg', '4_Genus_Eutetramorus_Walton_1918', '4_Genus_Leptolyngbya_Anagnostidis_et_Komarek_1988', '4_Genus_Opephora_Petit', '4_Genus_Pinnularia_Ehrenberg_2', '4_Genus_Schroederia_Lemmermann_1898', '4_Genus_Stephanodiscus_Ehrenberg', '4_Genus_Synechocystis_Sauvageau_1892', '4_Genus_Tortitaenia_A_J_Brook_1998', '5_Genus_Caloneis_Cleve', '5_Genus_Coenocystis_Korshikov_1953', '5_Genus_Planktolyngbya_Anagnostidis_et_Komarek_1988', '5_Genus_Tabellaria_Ehrenberg', '5_Genus_Thalassiosira_Cleve', '5_Genus_Woronichinia_Elenkin_1933', '6_Genus_Anomoeoneis_Pfitzer', '6_Genus_Fragilaria_Lyngbye', '6_Genus_Gloeocystis_Nageli_1849', '6_Genus_Pseudanabaena_Lauterborn_1915', '6_Genus_Skeletonema_Greville', '7_Genus_Caloneis_Cleve', '7_Genus_Hannaea_Patrick', '8_Genus_Diploneis(Ehrenberg)_Cleve', '8_Genus_Pseudostaurosira_Williams_and_Round', '9_Genus_Neidium_Pfitzer', '9_Genus_Punctastriata_Williams_and_Round']\n"
          ]
        }
      ]
    },
    {
      "cell_type": "code",
      "metadata": {
        "id": "o-0DvzEHt8VE"
      },
      "source": [
        "data_generator = ImageDataGenerator(rescale = 1./255)\n",
        "\n",
        "data_dir = \"/content/drive/MyDrive/Colab Notebooks/Final_Project/Cell_Genus\""
      ],
      "execution_count": null,
      "outputs": []
    },
    {
      "cell_type": "code",
      "metadata": {
        "id": "7aTCfEm3t10n"
      },
      "source": [
        "batch_size = 32\n",
        "img_height = 180\n",
        "img_width = 180"
      ],
      "execution_count": null,
      "outputs": []
    },
    {
      "cell_type": "code",
      "metadata": {
        "id": "9Smg-miEt22s",
        "colab": {
          "base_uri": "https://localhost:8080/"
        },
        "outputId": "fcb2f459-301a-4ad2-cc39-7dddf295dcc7"
      },
      "source": [
        "train_ds = tf.keras.preprocessing.image_dataset_from_directory(\n",
        "  data_dir,\n",
        "  color_mode = \"grayscale\",\n",
        "  validation_split=0.2,\n",
        "  subset=\"training\",\n",
        "  seed=123,\n",
        "  image_size=(img_height, img_width),\n",
        "  batch_size=batch_size)"
      ],
      "execution_count": null,
      "outputs": [
        {
          "output_type": "stream",
          "name": "stdout",
          "text": [
            "Found 6226 files belonging to 107 classes.\n",
            "Using 4981 files for training.\n"
          ]
        }
      ]
    },
    {
      "cell_type": "code",
      "metadata": {
        "id": "1nR0WdQGt44x",
        "colab": {
          "base_uri": "https://localhost:8080/"
        },
        "outputId": "55f3098e-db85-4fad-97dc-d241f771d0f0"
      },
      "source": [
        "val_ds = tf.keras.preprocessing.image_dataset_from_directory(\n",
        "  data_dir,\n",
        "  color_mode = \"grayscale\",\n",
        "  validation_split=0.2,\n",
        "  subset=\"validation\",\n",
        "  seed=123,\n",
        "  image_size=(img_height, img_width),\n",
        "  batch_size=batch_size)"
      ],
      "execution_count": null,
      "outputs": [
        {
          "output_type": "stream",
          "name": "stdout",
          "text": [
            "Found 6226 files belonging to 107 classes.\n",
            "Using 1245 files for validation.\n"
          ]
        }
      ]
    },
    {
      "cell_type": "code",
      "metadata": {
        "id": "F-cz_CtGug8Y",
        "colab": {
          "base_uri": "https://localhost:8080/"
        },
        "outputId": "0d8b48d8-f6fb-43ea-c017-272346fdd267"
      },
      "source": [
        "class_names = train_ds.class_names\n",
        "print(class_names)"
      ],
      "execution_count": null,
      "outputs": [
        {
          "output_type": "stream",
          "name": "stdout",
          "text": [
            "['10_Genus_Stauroneis_Ehrenberg', '10_Genus_Staurosira_Ehrenberg', '11_Genus_Craspedostauros_E.J_Cox_1999', '11_Genus_Staurosirella_Williams_and_Round', '12_Genus_Caloneis_Cleve_1894', '12_Genus_Synedra_Ehrenberg', '13_Genus_Pinnularia_Ehrenberg_1843', '1_Genus_Acanthoceras_Honigmann', '1_Genus_Achnanthes_Bory', '1_Genus_Actinocyclus_Ehrenberg', '1_Genus_Aphanocapsa_Nageli_1849', '1_Genus_Asterionella_Hassall', '1_Genus_Aulacoseira', '1_Genus_Biremis_Mann_et_Cox_in_Round_Crawford_and_Mann', '1_Genus_Characium_A_Braun_in_Kutzing_1849', '1_Genus_Chroococcus_Nageli', '1_Genus_Closterium_Nitzsch_ex_Ralfs_1848', '1_Genus_Coelastrum_Nageli_1849', '1_Genus_Cylindrocystis_Meneghini_ex_de_Bary_1858', '1_Genus_Dictyosphaerium_Nageli_1849', '1_Genus_Docidium_Brebisson_ex_Ralfs_1848', '1_Genus_Eunotia_Ehrenberg', '1_Genus_Geitlerinema_(Anagnostidis_et_Komarek)_Anagnostidis_1989', '1_Genus_Gonatozygon_de_Bary_1856', '1_Genus_Hydrodictyon_Roth_1797', '1_Genus_Hydrosera_whampoensis', '1_Genus_Jaaginema_Anagnostidis_et_Komarek_1988', '1_Genus_Lyngbya_C_Agardh_ex_Gomont_1892', '1_Genus_Melosira_Agardh', '1_Genus_Micractinium_Fresenius_1858', '1_Genus_Micrasterias_Ralfs_1848', '1_Genus_Microcystis_Kutzing_ex_Lemmermann_1907', '1_Genus_Oscillatoria_Vaucher_ex_Gomont_1982', '1_Genus_Pediastrum_Meyen_1829', '1_Genus_Penium_Brebisson_ex_Ralfs_in_Ralfs_1848', '1_Genus_Phormidium_Kutzing_ex_Gomont_1892', '1_Genus_Planktothrix_Anagnostidis_et_Komarek_1988', '1_Genus_Pleurosira_laevis_(Ehrenberg)', '1_Genus_Rhizosolenia_Ehrenberg', '1_Genus_Schizochlamydella_Korshikov_1953', '1_Genus_Staurodesmus_Teiling_1848', '1_Genus_Trochiscia_Kutzing_1834', '1_Scenedesmus_Hegewald_1978', '2_Acutodesmus_Hegewald_1978', '2_Genus_Achnanthidium_Kutzing', '2_Genus_Actinastrum_Lagerheim_1882', '2_Genus_Actinella_Lewis', '2_Genus_Ankyra_Fott_1957', '2_Genus_Caloneis_Cleve', '2_Genus_Chaetoceros_Ehrenberg', '2_Genus_Coenochloris_Korshikov_1953', '2_Genus_Cyclotella', '2_Genus_Diatoma_Bory', '2_Genus_Dimorphococcus_A_Braun_1855', '2_Genus_Golenkinia_Chodat_1894', '2_Genus_Haplotaenium_Bando_1988', '2_Genus_Leibleinia_(Gomont)_L_Hoffman_1985', '2_Genus_Leptolyngbya_Anagnostidis_et_Komarek_1988', '2_Genus_Merismopedia_Meyen_1839', '2_Genus_Netrium_(Nageli)_Itzigsohn_et_Rothe_in_Rabenhorst_1856', '2_Genus_Orthoseira_Thwaites_1848', '2_Genus_Phormidium_Kutzing_ex_Gomont_1892', '2_Genus_Sorastrum_Kutzing_1845', '2_Genus_Staurastrum_Meyen_ex_Ralfs_1848', '3_Desmodesmus_Chodat_1926', '3_Genus_Acanthosphaera_Lemmerman_1899', '3_Genus_Anorthoneis_Grunow', '3_Genus_Cyclostephanos_Round', '3_Genus_Dichotomococcus_Korshikov_1928', '3_Genus_Heteroleibleinia_(Geitler)_L_Hoffmann_1985', '3_Genus_Limnothrix_Meffert_1988', '3_Genus_Meridion_Agardh', '3_Genus_Paradoxia_Svirenko_1928', '3_Genus_Peronia_Bebisson_and_Arnott_ex_Kitton', '3_Genus_Phormidiochaete_Komarek_in_Anagnostidis_2001', '3_Genus_Pinnularia_Ehrenberg_1', '3_Genus_Pleurotaenium_Nageli_1849', '3_Genus_Radiococcus_Schmidle_1902', '3_Genus_Snowella_Elenkin_1938', '3_Genus_Spirotaenia_Brebisson_in_Ralfs_1848', '4_Genus_Botryococcus_Kutzing_1849', '4_Genus_Cocconeis_Ehrenberg', '4_Genus_Eutetramorus_Walton_1918', '4_Genus_Leptolyngbya_Anagnostidis_et_Komarek_1988', '4_Genus_Opephora_Petit', '4_Genus_Pinnularia_Ehrenberg_2', '4_Genus_Schroederia_Lemmermann_1898', '4_Genus_Stephanodiscus_Ehrenberg', '4_Genus_Synechocystis_Sauvageau_1892', '4_Genus_Tortitaenia_A_J_Brook_1998', '5_Genus_Caloneis_Cleve', '5_Genus_Coenocystis_Korshikov_1953', '5_Genus_Planktolyngbya_Anagnostidis_et_Komarek_1988', '5_Genus_Tabellaria_Ehrenberg', '5_Genus_Thalassiosira_Cleve', '5_Genus_Woronichinia_Elenkin_1933', '6_Genus_Anomoeoneis_Pfitzer', '6_Genus_Fragilaria_Lyngbye', '6_Genus_Gloeocystis_Nageli_1849', '6_Genus_Pseudanabaena_Lauterborn_1915', '6_Genus_Skeletonema_Greville', '7_Genus_Caloneis_Cleve', '7_Genus_Hannaea_Patrick', '8_Genus_Diploneis(Ehrenberg)_Cleve', '8_Genus_Pseudostaurosira_Williams_and_Round', '9_Genus_Neidium_Pfitzer', '9_Genus_Punctastriata_Williams_and_Round']\n"
          ]
        }
      ]
    },
    {
      "cell_type": "code",
      "metadata": {
        "id": "5EQOikPAukic",
        "colab": {
          "base_uri": "https://localhost:8080/"
        },
        "outputId": "984f9b4b-fb77-47df-cc37-6a2d4abffe39"
      },
      "source": [
        "for image_batch, labels_batch in train_ds:\n",
        "  print(image_batch.shape)\n",
        "  print(labels_batch.shape)\n",
        "  break"
      ],
      "execution_count": null,
      "outputs": [
        {
          "output_type": "stream",
          "name": "stdout",
          "text": [
            "(32, 180, 180, 1)\n",
            "(32,)\n"
          ]
        }
      ]
    },
    {
      "cell_type": "code",
      "metadata": {
        "id": "9eVl7tiDux9q"
      },
      "source": [
        "from tensorflow.keras import layers\n",
        "\n",
        "normalization_layer = tf.keras.layers.experimental.preprocessing.Rescaling(1./255)"
      ],
      "execution_count": null,
      "outputs": []
    },
    {
      "cell_type": "code",
      "metadata": {
        "id": "AiIrsxzZuzEo",
        "colab": {
          "base_uri": "https://localhost:8080/"
        },
        "outputId": "9702f9e6-b555-4b3b-ca8e-f5a3a632909f"
      },
      "source": [
        "normalized_ds = train_ds.map(lambda x, y: (normalization_layer(x), y))\n",
        "image_batch, labels_batch = next(iter(normalized_ds))\n",
        "first_image = image_batch[0]\n",
        "# Notice the pixels values are now in `[0,1]`.\n",
        "print(np.min(first_image), np.max(first_image))"
      ],
      "execution_count": null,
      "outputs": [
        {
          "output_type": "stream",
          "name": "stdout",
          "text": [
            "0.0 1.0\n"
          ]
        }
      ]
    },
    {
      "cell_type": "code",
      "metadata": {
        "id": "__WbVabru0Bp"
      },
      "source": [
        "AUTOTUNE = tf.data.experimental.AUTOTUNE\n",
        "\n",
        "train_ds = train_ds.cache().prefetch(buffer_size=AUTOTUNE)\n",
        "val_ds = val_ds.cache().prefetch(buffer_size=AUTOTUNE)"
      ],
      "execution_count": null,
      "outputs": []
    },
    {
      "cell_type": "code",
      "metadata": {
        "id": "g1GeYFXCu2gV"
      },
      "source": [
        "num_classes = 107\n",
        "model = tf.keras.Sequential([\n",
        "    layers.experimental.preprocessing.Rescaling(1./255),\n",
        "    layers.Conv2D(64, 3,input_shape = image_batch, activation='relu'),\n",
        "    layers.MaxPooling2D(),\n",
        "    layers.Conv2D(64, 3, activation='relu'),\n",
        "    layers.MaxPooling2D(),\n",
        "    layers.Conv2D(64, 3, activation='relu'),\n",
        "    layers.MaxPooling2D(),\n",
        "    layers.Flatten(),\n",
        "    BatchNormalization(),\n",
        "    layers.Dense(128, activation='relu'),\n",
        "    BatchNormalization(),\n",
        "    layers.Dense(128, activation='relu'),\n",
        "    BatchNormalization(),\n",
        "    layers.Dense(128, activation='relu'),\n",
        "    BatchNormalization(),\n",
        "    layers.Dense(128, activation='relu'),\n",
        "    BatchNormalization(),\n",
        "    layers.Dense(128, activation='relu'),\n",
        "    BatchNormalization(),\n",
        "    layers.Dense(128, activation='relu'),\n",
        "    BatchNormalization(),\n",
        "    layers.Dense(107, activation='softmax'),\n",
        "    BatchNormalization(),\n",
        "    layers.Dense(num_classes)\n",
        "    ])"
      ],
      "execution_count": null,
      "outputs": []
    },
    {
      "cell_type": "code",
      "metadata": {
        "id": "wU4xPAvNYWry"
      },
      "source": [
        "model.compile(\n",
        "    optimizer='adam',\n",
        "    loss=tf.losses.SparseCategoricalCrossentropy(from_logits=True),\n",
        "    metrics=['accuracy'])"
      ],
      "execution_count": null,
      "outputs": []
    },
    {
      "cell_type": "code",
      "metadata": {
        "id": "Tk8ssrbHu44p",
        "colab": {
          "base_uri": "https://localhost:8080/"
        },
        "outputId": "20f7d012-2a9e-43c7-efce-6f8f5fca1755"
      },
      "source": [
        "epochs=50\n",
        "history = model.fit(\n",
        "  train_ds,\n",
        "  validation_data=val_ds,\n",
        "  epochs=epochs\n",
        ")"
      ],
      "execution_count": null,
      "outputs": [
        {
          "output_type": "stream",
          "name": "stdout",
          "text": [
            "Epoch 1/50\n",
            "156/156 [==============================] - 941s 6s/step - loss: 3.5789 - accuracy: 0.2435 - val_loss: 4.2181 - val_accuracy: 0.1574\n",
            "Epoch 2/50\n",
            "156/156 [==============================] - 5s 31ms/step - loss: 2.5816 - accuracy: 0.3489 - val_loss: 3.7177 - val_accuracy: 0.2643\n",
            "Epoch 3/50\n",
            "156/156 [==============================] - 5s 31ms/step - loss: 2.1557 - accuracy: 0.4353 - val_loss: 2.9873 - val_accuracy: 0.3719\n",
            "Epoch 4/50\n",
            "156/156 [==============================] - 5s 32ms/step - loss: 1.8153 - accuracy: 0.5123 - val_loss: 2.6615 - val_accuracy: 0.3478\n",
            "Epoch 5/50\n",
            "156/156 [==============================] - 5s 31ms/step - loss: 1.5349 - accuracy: 0.5874 - val_loss: 2.4445 - val_accuracy: 0.3743\n",
            "Epoch 6/50\n",
            "156/156 [==============================] - 5s 31ms/step - loss: 1.2547 - accuracy: 0.6613 - val_loss: 2.5308 - val_accuracy: 0.4169\n",
            "Epoch 7/50\n",
            "156/156 [==============================] - 5s 31ms/step - loss: 1.0715 - accuracy: 0.7091 - val_loss: 2.2692 - val_accuracy: 0.4723\n",
            "Epoch 8/50\n",
            "156/156 [==============================] - 5s 32ms/step - loss: 0.8632 - accuracy: 0.7623 - val_loss: 2.2596 - val_accuracy: 0.4723\n",
            "Epoch 9/50\n",
            "156/156 [==============================] - 5s 31ms/step - loss: 0.6997 - accuracy: 0.8049 - val_loss: 2.4138 - val_accuracy: 0.4731\n",
            "Epoch 10/50\n",
            "156/156 [==============================] - 5s 31ms/step - loss: 0.5492 - accuracy: 0.8528 - val_loss: 2.6239 - val_accuracy: 0.4643\n",
            "Epoch 11/50\n",
            "156/156 [==============================] - 5s 31ms/step - loss: 0.4569 - accuracy: 0.8813 - val_loss: 2.4235 - val_accuracy: 0.4932\n",
            "Epoch 12/50\n",
            "156/156 [==============================] - 5s 32ms/step - loss: 0.4002 - accuracy: 0.8940 - val_loss: 2.5376 - val_accuracy: 0.4932\n",
            "Epoch 13/50\n",
            "156/156 [==============================] - 5s 32ms/step - loss: 0.3258 - accuracy: 0.9157 - val_loss: 2.5962 - val_accuracy: 0.5076\n",
            "Epoch 14/50\n",
            "156/156 [==============================] - 5s 31ms/step - loss: 0.2688 - accuracy: 0.9323 - val_loss: 3.0090 - val_accuracy: 0.4723\n",
            "Epoch 15/50\n",
            "156/156 [==============================] - 5s 31ms/step - loss: 0.2185 - accuracy: 0.9430 - val_loss: 2.7261 - val_accuracy: 0.5052\n",
            "Epoch 16/50\n",
            "156/156 [==============================] - 5s 31ms/step - loss: 0.1748 - accuracy: 0.9560 - val_loss: 2.8537 - val_accuracy: 0.4859\n",
            "Epoch 17/50\n",
            "156/156 [==============================] - 5s 31ms/step - loss: 0.1445 - accuracy: 0.9677 - val_loss: 2.7695 - val_accuracy: 0.5124\n",
            "Epoch 18/50\n",
            "156/156 [==============================] - 5s 31ms/step - loss: 0.1314 - accuracy: 0.9651 - val_loss: 2.9668 - val_accuracy: 0.4980\n",
            "Epoch 19/50\n",
            "156/156 [==============================] - 5s 31ms/step - loss: 0.1477 - accuracy: 0.9643 - val_loss: 2.9861 - val_accuracy: 0.5068\n",
            "Epoch 20/50\n",
            "156/156 [==============================] - 5s 31ms/step - loss: 0.1849 - accuracy: 0.9514 - val_loss: 3.1837 - val_accuracy: 0.4787\n",
            "Epoch 21/50\n",
            "156/156 [==============================] - 5s 31ms/step - loss: 0.2199 - accuracy: 0.9370 - val_loss: 3.1192 - val_accuracy: 0.4867\n",
            "Epoch 22/50\n",
            "156/156 [==============================] - 5s 31ms/step - loss: 0.2231 - accuracy: 0.9346 - val_loss: 3.5546 - val_accuracy: 0.4466\n",
            "Epoch 23/50\n",
            "156/156 [==============================] - 5s 32ms/step - loss: 0.1408 - accuracy: 0.9600 - val_loss: 2.9359 - val_accuracy: 0.5173\n",
            "Epoch 24/50\n",
            "156/156 [==============================] - 5s 31ms/step - loss: 0.0679 - accuracy: 0.9853 - val_loss: 2.9411 - val_accuracy: 0.5269\n",
            "Epoch 25/50\n",
            "156/156 [==============================] - 5s 32ms/step - loss: 0.0446 - accuracy: 0.9902 - val_loss: 3.0201 - val_accuracy: 0.5269\n",
            "Epoch 26/50\n",
            "156/156 [==============================] - 5s 31ms/step - loss: 0.0321 - accuracy: 0.9946 - val_loss: 2.9547 - val_accuracy: 0.5293\n",
            "Epoch 27/50\n",
            "156/156 [==============================] - 5s 31ms/step - loss: 0.0214 - accuracy: 0.9964 - val_loss: 3.0002 - val_accuracy: 0.5277\n",
            "Epoch 28/50\n",
            "156/156 [==============================] - 5s 31ms/step - loss: 0.0186 - accuracy: 0.9978 - val_loss: 2.9121 - val_accuracy: 0.5382\n",
            "Epoch 29/50\n",
            "156/156 [==============================] - 5s 32ms/step - loss: 0.0133 - accuracy: 0.9986 - val_loss: 2.9185 - val_accuracy: 0.5373\n",
            "Epoch 30/50\n",
            "156/156 [==============================] - 5s 31ms/step - loss: 0.0085 - accuracy: 0.9992 - val_loss: 2.9243 - val_accuracy: 0.5470\n",
            "Epoch 31/50\n",
            "156/156 [==============================] - 5s 31ms/step - loss: 0.0054 - accuracy: 0.9998 - val_loss: 2.9331 - val_accuracy: 0.5518\n",
            "Epoch 32/50\n",
            "156/156 [==============================] - 5s 32ms/step - loss: 0.0041 - accuracy: 1.0000 - val_loss: 2.9741 - val_accuracy: 0.5494\n",
            "Epoch 33/50\n",
            "156/156 [==============================] - 5s 31ms/step - loss: 0.0034 - accuracy: 1.0000 - val_loss: 3.0039 - val_accuracy: 0.5502\n",
            "Epoch 34/50\n",
            "156/156 [==============================] - 5s 31ms/step - loss: 0.0030 - accuracy: 1.0000 - val_loss: 3.0245 - val_accuracy: 0.5526\n",
            "Epoch 35/50\n",
            "156/156 [==============================] - 5s 32ms/step - loss: 0.0026 - accuracy: 1.0000 - val_loss: 3.0524 - val_accuracy: 0.5518\n",
            "Epoch 36/50\n",
            "156/156 [==============================] - 5s 32ms/step - loss: 0.0022 - accuracy: 1.0000 - val_loss: 3.0740 - val_accuracy: 0.5534\n",
            "Epoch 37/50\n",
            "156/156 [==============================] - 5s 32ms/step - loss: 0.0020 - accuracy: 1.0000 - val_loss: 3.0967 - val_accuracy: 0.5534\n",
            "Epoch 38/50\n",
            "156/156 [==============================] - 5s 31ms/step - loss: 0.0018 - accuracy: 1.0000 - val_loss: 3.1188 - val_accuracy: 0.5526\n",
            "Epoch 39/50\n",
            "156/156 [==============================] - 5s 31ms/step - loss: 0.0016 - accuracy: 1.0000 - val_loss: 3.1413 - val_accuracy: 0.5526\n",
            "Epoch 40/50\n",
            "156/156 [==============================] - 5s 31ms/step - loss: 0.0014 - accuracy: 1.0000 - val_loss: 3.1632 - val_accuracy: 0.5542\n",
            "Epoch 41/50\n",
            "156/156 [==============================] - 5s 31ms/step - loss: 0.0013 - accuracy: 1.0000 - val_loss: 3.1849 - val_accuracy: 0.5542\n",
            "Epoch 42/50\n",
            "156/156 [==============================] - 5s 32ms/step - loss: 0.0012 - accuracy: 1.0000 - val_loss: 3.2075 - val_accuracy: 0.5542\n",
            "Epoch 43/50\n",
            "156/156 [==============================] - 5s 32ms/step - loss: 0.0011 - accuracy: 1.0000 - val_loss: 3.2290 - val_accuracy: 0.5534\n",
            "Epoch 44/50\n",
            "156/156 [==============================] - 5s 32ms/step - loss: 0.0010 - accuracy: 1.0000 - val_loss: 3.2554 - val_accuracy: 0.5526\n",
            "Epoch 45/50\n",
            "156/156 [==============================] - 5s 31ms/step - loss: 0.0023 - accuracy: 0.9996 - val_loss: 3.4129 - val_accuracy: 0.5486\n",
            "Epoch 46/50\n",
            "156/156 [==============================] - 5s 32ms/step - loss: 1.2205 - accuracy: 0.7101 - val_loss: 4.9091 - val_accuracy: 0.3285\n",
            "Epoch 47/50\n",
            "156/156 [==============================] - 5s 32ms/step - loss: 0.8015 - accuracy: 0.7764 - val_loss: 3.0930 - val_accuracy: 0.4602\n",
            "Epoch 48/50\n",
            "156/156 [==============================] - 5s 31ms/step - loss: 0.3028 - accuracy: 0.9095 - val_loss: 2.7751 - val_accuracy: 0.5060\n",
            "Epoch 49/50\n",
            "156/156 [==============================] - 5s 32ms/step - loss: 0.1309 - accuracy: 0.9651 - val_loss: 2.9704 - val_accuracy: 0.5116\n",
            "Epoch 50/50\n",
            "156/156 [==============================] - 5s 31ms/step - loss: 0.0545 - accuracy: 0.9882 - val_loss: 2.8565 - val_accuracy: 0.5237\n"
          ]
        }
      ]
    },
    {
      "cell_type": "code",
      "metadata": {
        "id": "f1z_vHocu59c",
        "colab": {
          "base_uri": "https://localhost:8080/",
          "height": 499
        },
        "outputId": "ed8b0214-d32a-4a89-8d80-36c508603521"
      },
      "source": [
        "acc = history.history['accuracy']\n",
        "val_acc = history.history['val_accuracy']\n",
        "\n",
        "loss=history.history['loss']\n",
        "val_loss=history.history['val_loss']\n",
        "\n",
        "epochs_range = range(epochs)\n",
        "\n",
        "plt.figure(figsize=(8, 8))\n",
        "plt.subplot(1, 2, 1)\n",
        "plt.plot(epochs_range, acc, label='Training Accuracy')\n",
        "plt.plot(epochs_range, val_acc, label='Validation Accuracy')\n",
        "plt.legend(loc='lower right')\n",
        "plt.title('Training and Validation Accuracy')\n",
        "\n",
        "plt.subplot(1, 2, 2)\n",
        "plt.plot(epochs_range, loss, label='Training Loss')\n",
        "plt.plot(epochs_range, val_loss, label='Validation Loss')\n",
        "plt.legend(loc='upper right')\n",
        "plt.title('Training and Validation Loss')\n",
        "plt.show()"
      ],
      "execution_count": null,
      "outputs": [
        {
          "output_type": "display_data",
          "data": {
            "image/png": "[encoded data removed]",
            "text/plain": [
              "<Figure size 576x576 with 2 Axes>"
            ]
          },
          "metadata": {
            "needs_background": "light"
          }
        }
      ]
    },
    {
      "cell_type": "code",
      "metadata": {
        "id": "XinJ6xXD9YNO"
      },
      "source": [
        "data_augmentation = keras.Sequential(\n",
        "  [\n",
        "    layers.experimental.preprocessing.RandomFlip(\"horizontal\", \n",
        "                                                 input_shape=(img_height, \n",
        "                                                              img_width,\n",
        "                                                              1)),\n",
        "    layers.experimental.preprocessing.RandomRotation(0.1),\n",
        "    layers.experimental.preprocessing.RandomZoom(0.1),\n",
        "  ]\n",
        ")"
      ],
      "execution_count": null,
      "outputs": []
    },
    {
      "cell_type": "code",
      "metadata": {
        "id": "8WT2BYElEYZj"
      },
      "source": [
        "model = Sequential([\n",
        "  data_augmentation,\n",
        "  layers.experimental.preprocessing.Rescaling(1./255),\n",
        "  layers.Conv2D(64, 3,input_shape = image_batch, activation='relu'),\n",
        "  layers.MaxPooling2D(),\n",
        "  layers.Conv2D(64, 3, padding='same', activation='relu'),\n",
        "  layers.MaxPooling2D(),\n",
        "  layers.Conv2D(64, 3, padding='same', activation='relu'),\n",
        "  layers.MaxPooling2D(),\n",
        "  layers.Dropout(0.2),\n",
        "  layers.Flatten(),\n",
        "  layers.Dense(128, activation='relu'),\n",
        "  BatchNormalization(),\n",
        "  layers.Dense(128, activation='relu'),\n",
        "  BatchNormalization(),\n",
        "  layers.Dense(128, activation='relu'),\n",
        "  BatchNormalization(),\n",
        "  layers.Dense(128, activation='relu'),\n",
        "  BatchNormalization(),\n",
        "  layers.Dense(128, activation='relu'),\n",
        "  BatchNormalization(),\n",
        "  layers.Dense(128, activation='relu'),\n",
        "  BatchNormalization(),\n",
        "  layers.Dense(107, activation='softmax'),\n",
        "  BatchNormalization(),\n",
        "  layers.Dense(num_classes)\n",
        "])"
      ],
      "execution_count": null,
      "outputs": []
    },
    {
      "cell_type": "code",
      "metadata": {
        "id": "opOHP3auEdsw",
        "colab": {
          "base_uri": "https://localhost:8080/"
        },
        "outputId": "45b90f22-8916-44b8-8e9c-6f21c61e355d"
      },
      "source": [
        "BatchNormalization(),model.compile(\n",
        "    optimizer='adam',\n",
        "    loss=tf.losses.SparseCategoricalCrossentropy(from_logits=True),\n",
        "    metrics=['accuracy'])"
      ],
      "execution_count": null,
      "outputs": [
        {
          "output_type": "execute_result",
          "data": {
            "text/plain": [
              "(<keras.layers.normalization.batch_normalization.BatchNormalization at 0x7fdd5f50b8d0>,\n",
              " None)"
            ]
          },
          "metadata": {},
          "execution_count": 19
        }
      ]
    },
    {
      "cell_type": "code",
      "metadata": {
        "id": "3Ay4tlHlEfBX",
        "colab": {
          "base_uri": "https://localhost:8080/"
        },
        "outputId": "dbc7e99c-f223-44d0-bd91-54a5942d7bfe"
      },
      "source": [
        "model.summary()"
      ],
      "execution_count": null,
      "outputs": [
        {
          "output_type": "stream",
          "name": "stdout",
          "text": [
            "Model: \"sequential_2\"\n",
            "_________________________________________________________________\n",
            " Layer (type)                Output Shape              Param #   \n",
            "=================================================================\n",
            " sequential_1 (Sequential)   (None, 180, 180, 1)       0         \n",
            "                                                                 \n",
            " rescaling_2 (Rescaling)     (None, 180, 180, 1)       0         \n",
            "                                                                 \n",
            " conv2d_3 (Conv2D)           (None, 178, 178, 64)      640       \n",
            "                                                                 \n",
            " max_pooling2d_3 (MaxPooling  (None, 89, 89, 64)       0         \n",
            " 2D)                                                             \n",
            "                                                                 \n",
            " conv2d_4 (Conv2D)           (None, 89, 89, 64)        36928     \n",
            "                                                                 \n",
            " max_pooling2d_4 (MaxPooling  (None, 44, 44, 64)       0         \n",
            " 2D)                                                             \n",
            "                                                                 \n",
            " conv2d_5 (Conv2D)           (None, 44, 44, 64)        36928     \n",
            "                                                                 \n",
            " max_pooling2d_5 (MaxPooling  (None, 22, 22, 64)       0         \n",
            " 2D)                                                             \n",
            "                                                                 \n",
            " dropout (Dropout)           (None, 22, 22, 64)        0         \n",
            "                                                                 \n",
            " flatten_1 (Flatten)         (None, 30976)             0         \n",
            "                                                                 \n",
            " dense_8 (Dense)             (None, 128)               3965056   \n",
            "                                                                 \n",
            " batch_normalization_8 (Batc  (None, 128)              512       \n",
            " hNormalization)                                                 \n",
            "                                                                 \n",
            " dense_9 (Dense)             (None, 128)               16512     \n",
            "                                                                 \n",
            " batch_normalization_9 (Batc  (None, 128)              512       \n",
            " hNormalization)                                                 \n",
            "                                                                 \n",
            " dense_10 (Dense)            (None, 128)               16512     \n",
            "                                                                 \n",
            " batch_normalization_10 (Bat  (None, 128)              512       \n",
            " chNormalization)                                                \n",
            "                                                                 \n",
            " dense_11 (Dense)            (None, 128)               16512     \n",
            "                                                                 \n",
            " batch_normalization_11 (Bat  (None, 128)              512       \n",
            " chNormalization)                                                \n",
            "                                                                 \n",
            " dense_12 (Dense)            (None, 128)               16512     \n",
            "                                                                 \n",
            " batch_normalization_12 (Bat  (None, 128)              512       \n",
            " chNormalization)                                                \n",
            "                                                                 \n",
            " dense_13 (Dense)            (None, 128)               16512     \n",
            "                                                                 \n",
            " batch_normalization_13 (Bat  (None, 128)              512       \n",
            " chNormalization)                                                \n",
            "                                                                 \n",
            " dense_14 (Dense)            (None, 107)               13803     \n",
            "                                                                 \n",
            " batch_normalization_14 (Bat  (None, 107)              428       \n",
            " chNormalization)                                                \n",
            "                                                                 \n",
            " dense_15 (Dense)            (None, 107)               11556     \n",
            "                                                                 \n",
            "=================================================================\n",
            "Total params: 4,150,971\n",
            "Trainable params: 4,149,221\n",
            "Non-trainable params: 1,750\n",
            "_________________________________________________________________\n"
          ]
        }
      ]
    },
    {
      "cell_type": "code",
      "metadata": {
        "id": "Jc8rD_v9Ef41",
        "colab": {
          "base_uri": "https://localhost:8080/"
        },
        "outputId": "57c8de8a-c76d-45bc-fd2c-618bc8c355f5"
      },
      "source": [
        "epochs = 50\n",
        "history = model.fit(\n",
        "  train_ds,\n",
        "  validation_data=val_ds,\n",
        "  epochs=epochs\n",
        ")"
      ],
      "execution_count": null,
      "outputs": [
        {
          "output_type": "stream",
          "name": "stdout",
          "text": [
            "Epoch 1/50\n",
            "156/156 [==============================] - 9s 37ms/step - loss: 3.8522 - accuracy: 0.1658 - val_loss: 4.1487 - val_accuracy: 0.1783\n",
            "Epoch 2/50\n",
            "156/156 [==============================] - 5s 33ms/step - loss: 2.9539 - accuracy: 0.2648 - val_loss: 3.6281 - val_accuracy: 0.2361\n",
            "Epoch 3/50\n",
            "156/156 [==============================] - 5s 34ms/step - loss: 2.6244 - accuracy: 0.3176 - val_loss: 3.0486 - val_accuracy: 0.3028\n",
            "Epoch 4/50\n",
            "156/156 [==============================] - 5s 34ms/step - loss: 2.4179 - accuracy: 0.3481 - val_loss: 2.6756 - val_accuracy: 0.3261\n",
            "Epoch 5/50\n",
            "156/156 [==============================] - 5s 34ms/step - loss: 2.2651 - accuracy: 0.3845 - val_loss: 2.9726 - val_accuracy: 0.3060\n",
            "Epoch 6/50\n",
            "156/156 [==============================] - 5s 34ms/step - loss: 2.1327 - accuracy: 0.4031 - val_loss: 3.4516 - val_accuracy: 0.2410\n",
            "Epoch 7/50\n",
            "156/156 [==============================] - 5s 34ms/step - loss: 2.0785 - accuracy: 0.4037 - val_loss: 2.8093 - val_accuracy: 0.3052\n",
            "Epoch 8/50\n",
            "156/156 [==============================] - 5s 34ms/step - loss: 1.9574 - accuracy: 0.4379 - val_loss: 2.6810 - val_accuracy: 0.3341\n",
            "Epoch 9/50\n",
            "156/156 [==============================] - 5s 34ms/step - loss: 1.8806 - accuracy: 0.4533 - val_loss: 2.4530 - val_accuracy: 0.3631\n",
            "Epoch 10/50\n",
            "156/156 [==============================] - 5s 34ms/step - loss: 1.8105 - accuracy: 0.4642 - val_loss: 2.6603 - val_accuracy: 0.3639\n",
            "Epoch 11/50\n",
            "156/156 [==============================] - 5s 34ms/step - loss: 1.7702 - accuracy: 0.4814 - val_loss: 2.5764 - val_accuracy: 0.3719\n",
            "Epoch 12/50\n",
            "156/156 [==============================] - 5s 34ms/step - loss: 1.6640 - accuracy: 0.4963 - val_loss: 2.6429 - val_accuracy: 0.3631\n",
            "Epoch 13/50\n",
            "156/156 [==============================] - 5s 34ms/step - loss: 1.6136 - accuracy: 0.5123 - val_loss: 2.5406 - val_accuracy: 0.3719\n",
            "Epoch 14/50\n",
            "156/156 [==============================] - 5s 34ms/step - loss: 1.5604 - accuracy: 0.5192 - val_loss: 2.3135 - val_accuracy: 0.4297\n",
            "Epoch 15/50\n",
            "156/156 [==============================] - 5s 34ms/step - loss: 1.5162 - accuracy: 0.5348 - val_loss: 2.2514 - val_accuracy: 0.4490\n",
            "Epoch 16/50\n",
            "156/156 [==============================] - 5s 34ms/step - loss: 1.4713 - accuracy: 0.5459 - val_loss: 2.3296 - val_accuracy: 0.4426\n",
            "Epoch 17/50\n",
            "156/156 [==============================] - 5s 34ms/step - loss: 1.4367 - accuracy: 0.5489 - val_loss: 2.4654 - val_accuracy: 0.4345\n",
            "Epoch 18/50\n",
            "156/156 [==============================] - 5s 34ms/step - loss: 1.3774 - accuracy: 0.5690 - val_loss: 2.3387 - val_accuracy: 0.4369\n",
            "Epoch 19/50\n",
            "156/156 [==============================] - 5s 34ms/step - loss: 1.3080 - accuracy: 0.5856 - val_loss: 3.2053 - val_accuracy: 0.3462\n",
            "Epoch 20/50\n",
            "156/156 [==============================] - 5s 34ms/step - loss: 1.2854 - accuracy: 0.5890 - val_loss: 2.5475 - val_accuracy: 0.4129\n",
            "Epoch 21/50\n",
            "156/156 [==============================] - 5s 34ms/step - loss: 1.2192 - accuracy: 0.6099 - val_loss: 2.5212 - val_accuracy: 0.4434\n",
            "Epoch 22/50\n",
            "156/156 [==============================] - 5s 34ms/step - loss: 1.1953 - accuracy: 0.6149 - val_loss: 2.8330 - val_accuracy: 0.3944\n",
            "Epoch 23/50\n",
            "156/156 [==============================] - 5s 34ms/step - loss: 1.1467 - accuracy: 0.6328 - val_loss: 2.7305 - val_accuracy: 0.4088\n",
            "Epoch 24/50\n",
            "156/156 [==============================] - 5s 34ms/step - loss: 1.1174 - accuracy: 0.6372 - val_loss: 2.8427 - val_accuracy: 0.4080\n",
            "Epoch 25/50\n",
            "156/156 [==============================] - 5s 34ms/step - loss: 1.0946 - accuracy: 0.6392 - val_loss: 2.8748 - val_accuracy: 0.4040\n",
            "Epoch 26/50\n",
            "156/156 [==============================] - 5s 34ms/step - loss: 1.0575 - accuracy: 0.6507 - val_loss: 2.5431 - val_accuracy: 0.4353\n",
            "Epoch 27/50\n",
            "156/156 [==============================] - 5s 34ms/step - loss: 1.0194 - accuracy: 0.6671 - val_loss: 2.9659 - val_accuracy: 0.3968\n",
            "Epoch 28/50\n",
            "156/156 [==============================] - 5s 34ms/step - loss: 0.9595 - accuracy: 0.6816 - val_loss: 2.6456 - val_accuracy: 0.4345\n",
            "Epoch 29/50\n",
            "156/156 [==============================] - 5s 34ms/step - loss: 0.9362 - accuracy: 0.6892 - val_loss: 2.7670 - val_accuracy: 0.4201\n",
            "Epoch 30/50\n",
            "156/156 [==============================] - 5s 34ms/step - loss: 0.9175 - accuracy: 0.7031 - val_loss: 2.9525 - val_accuracy: 0.4153\n",
            "Epoch 31/50\n",
            "156/156 [==============================] - 5s 34ms/step - loss: 0.8616 - accuracy: 0.7065 - val_loss: 3.1428 - val_accuracy: 0.4072\n",
            "Epoch 32/50\n",
            "156/156 [==============================] - 5s 34ms/step - loss: 0.8662 - accuracy: 0.7119 - val_loss: 3.0549 - val_accuracy: 0.4120\n",
            "Epoch 33/50\n",
            "156/156 [==============================] - 5s 35ms/step - loss: 0.8091 - accuracy: 0.7300 - val_loss: 3.4445 - val_accuracy: 0.3711\n",
            "Epoch 34/50\n",
            "156/156 [==============================] - 5s 35ms/step - loss: 0.8190 - accuracy: 0.7310 - val_loss: 3.0798 - val_accuracy: 0.4088\n",
            "Epoch 35/50\n",
            "156/156 [==============================] - 5s 35ms/step - loss: 0.7899 - accuracy: 0.7332 - val_loss: 2.9390 - val_accuracy: 0.4281\n",
            "Epoch 36/50\n",
            "156/156 [==============================] - 5s 34ms/step - loss: 0.7483 - accuracy: 0.7458 - val_loss: 2.8981 - val_accuracy: 0.4289\n",
            "Epoch 37/50\n",
            "156/156 [==============================] - 5s 34ms/step - loss: 0.7431 - accuracy: 0.7609 - val_loss: 3.9408 - val_accuracy: 0.3422\n",
            "Epoch 38/50\n",
            "156/156 [==============================] - 5s 34ms/step - loss: 0.7039 - accuracy: 0.7629 - val_loss: 3.2348 - val_accuracy: 0.4305\n",
            "Epoch 39/50\n",
            "156/156 [==============================] - 5s 34ms/step - loss: 0.6945 - accuracy: 0.7671 - val_loss: 3.2651 - val_accuracy: 0.4185\n",
            "Epoch 40/50\n",
            "156/156 [==============================] - 5s 34ms/step - loss: 0.6586 - accuracy: 0.7788 - val_loss: 2.7972 - val_accuracy: 0.4731\n",
            "Epoch 41/50\n",
            "156/156 [==============================] - 5s 34ms/step - loss: 0.6065 - accuracy: 0.7956 - val_loss: 3.3995 - val_accuracy: 0.3888\n",
            "Epoch 42/50\n",
            "156/156 [==============================] - 5s 34ms/step - loss: 0.6289 - accuracy: 0.7924 - val_loss: 3.4710 - val_accuracy: 0.3791\n",
            "Epoch 43/50\n",
            "156/156 [==============================] - 5s 34ms/step - loss: 0.5949 - accuracy: 0.8029 - val_loss: 3.6523 - val_accuracy: 0.3855\n",
            "Epoch 44/50\n",
            "156/156 [==============================] - 5s 34ms/step - loss: 0.5873 - accuracy: 0.8029 - val_loss: 3.0258 - val_accuracy: 0.4482\n",
            "Epoch 45/50\n",
            "156/156 [==============================] - 5s 34ms/step - loss: 0.5651 - accuracy: 0.8135 - val_loss: 3.0375 - val_accuracy: 0.4321\n",
            "Epoch 46/50\n",
            "156/156 [==============================] - 5s 34ms/step - loss: 0.5220 - accuracy: 0.8289 - val_loss: 3.6559 - val_accuracy: 0.3896\n",
            "Epoch 47/50\n",
            "156/156 [==============================] - 5s 34ms/step - loss: 0.5610 - accuracy: 0.8117 - val_loss: 3.2074 - val_accuracy: 0.4265\n",
            "Epoch 48/50\n",
            "156/156 [==============================] - 5s 34ms/step - loss: 0.4741 - accuracy: 0.8474 - val_loss: 3.1875 - val_accuracy: 0.4120\n",
            "Epoch 49/50\n",
            "156/156 [==============================] - 5s 34ms/step - loss: 0.5069 - accuracy: 0.8304 - val_loss: 3.0498 - val_accuracy: 0.4691\n",
            "Epoch 50/50\n",
            "156/156 [==============================] - 5s 34ms/step - loss: 0.4677 - accuracy: 0.8416 - val_loss: 3.0160 - val_accuracy: 0.4659\n"
          ]
        }
      ]
    },
    {
      "cell_type": "code",
      "metadata": {
        "id": "ynhS2KjVEhj8",
        "colab": {
          "base_uri": "https://localhost:8080/",
          "height": 499
        },
        "outputId": "061f500b-8ee8-4518-a7e6-6c920c2be9a9"
      },
      "source": [
        "acc = history.history['accuracy']\n",
        "val_acc = history.history['val_accuracy']\n",
        "\n",
        "loss = history.history['loss']\n",
        "val_loss = history.history['val_loss']\n",
        "\n",
        "epochs_range = range(epochs)\n",
        "\n",
        "plt.figure(figsize=(8, 8))\n",
        "plt.subplot(1, 2, 1)\n",
        "plt.plot(epochs_range, acc, label='Training Accuracy')\n",
        "plt.plot(epochs_range, val_acc, label='Validation Accuracy')\n",
        "plt.legend(loc='lower right')\n",
        "plt.title('Training and Validation Accuracy')\n",
        "\n",
        "plt.subplot(1, 2, 2)\n",
        "plt.plot(epochs_range, loss, label='Training Loss')\n",
        "plt.plot(epochs_range, val_loss, label='Validation Loss')\n",
        "plt.legend(loc='upper right')\n",
        "plt.title('Training and Validation Loss')\n",
        "plt.show()"
      ],
      "execution_count": null,
      "outputs": [
        {
          "output_type": "display_data",
          "data": {
            "image/png": "[encoded data removed]",
            "text/plain": [
              "<Figure size 576x576 with 2 Axes>"
            ]
          },
          "metadata": {
            "needs_background": "light"
          }
        }
      ]
    },
    {
      "cell_type": "code",
      "metadata": {
        "id": "IbEQMrsAH2yZ",
        "colab": {
          "base_uri": "https://localhost:8080/"
        },
        "outputId": "3bb1efcc-e13e-4473-f975-ba1bd0d8a857"
      },
      "source": [
        "model.compile(\n",
        "    optimizer='adam',\n",
        "    loss=tf.losses.SparseCategoricalCrossentropy(from_logits=True),\n",
        "    metrics=['accuracy'])\n",
        "model.summary()"
      ],
      "execution_count": null,
      "outputs": [
        {
          "output_type": "stream",
          "name": "stdout",
          "text": [
            "Model: \"sequential_2\"\n",
            "_________________________________________________________________\n",
            " Layer (type)                Output Shape              Param #   \n",
            "=================================================================\n",
            " sequential_1 (Sequential)   (None, 180, 180, 1)       0         \n",
            "                                                                 \n",
            " rescaling_2 (Rescaling)     (None, 180, 180, 1)       0         \n",
            "                                                                 \n",
            " conv2d_3 (Conv2D)           (None, 178, 178, 64)      640       \n",
            "                                                                 \n",
            " max_pooling2d_3 (MaxPooling  (None, 89, 89, 64)       0         \n",
            " 2D)                                                             \n",
            "                                                                 \n",
            " conv2d_4 (Conv2D)           (None, 89, 89, 64)        36928     \n",
            "                                                                 \n",
            " max_pooling2d_4 (MaxPooling  (None, 44, 44, 64)       0         \n",
            " 2D)                                                             \n",
            "                                                                 \n",
            " conv2d_5 (Conv2D)           (None, 44, 44, 64)        36928     \n",
            "                                                                 \n",
            " max_pooling2d_5 (MaxPooling  (None, 22, 22, 64)       0         \n",
            " 2D)                                                             \n",
            "                                                                 \n",
            " dropout (Dropout)           (None, 22, 22, 64)        0         \n",
            "                                                                 \n",
            " flatten_1 (Flatten)         (None, 30976)             0         \n",
            "                                                                 \n",
            " dense_8 (Dense)             (None, 128)               3965056   \n",
            "                                                                 \n",
            " batch_normalization_8 (Batc  (None, 128)              512       \n",
            " hNormalization)                                                 \n",
            "                                                                 \n",
            " dense_9 (Dense)             (None, 128)               16512     \n",
            "                                                                 \n",
            " batch_normalization_9 (Batc  (None, 128)              512       \n",
            " hNormalization)                                                 \n",
            "                                                                 \n",
            " dense_10 (Dense)            (None, 128)               16512     \n",
            "                                                                 \n",
            " batch_normalization_10 (Bat  (None, 128)              512       \n",
            " chNormalization)                                                \n",
            "                                                                 \n",
            " dense_11 (Dense)            (None, 128)               16512     \n",
            "                                                                 \n",
            " batch_normalization_11 (Bat  (None, 128)              512       \n",
            " chNormalization)                                                \n",
            "                                                                 \n",
            " dense_12 (Dense)            (None, 128)               16512     \n",
            "                                                                 \n",
            " batch_normalization_12 (Bat  (None, 128)              512       \n",
            " chNormalization)                                                \n",
            "                                                                 \n",
            " dense_13 (Dense)            (None, 128)               16512     \n",
            "                                                                 \n",
            " batch_normalization_13 (Bat  (None, 128)              512       \n",
            " chNormalization)                                                \n",
            "                                                                 \n",
            " dense_14 (Dense)            (None, 107)               13803     \n",
            "                                                                 \n",
            " batch_normalization_14 (Bat  (None, 107)              428       \n",
            " chNormalization)                                                \n",
            "                                                                 \n",
            " dense_15 (Dense)            (None, 107)               11556     \n",
            "                                                                 \n",
            "=================================================================\n",
            "Total params: 4,150,971\n",
            "Trainable params: 4,149,221\n",
            "Non-trainable params: 1,750\n",
            "_________________________________________________________________\n"
          ]
        }
      ]
    },
    {
      "cell_type": "code",
      "metadata": {
        "id": "df30HUqFjWre"
      },
      "source": [
        ""
      ],
      "execution_count": null,
      "outputs": []
    }
  ]
}