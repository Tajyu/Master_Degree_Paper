{
  "nbformat": 4,
  "nbformat_minor": 0,
  "metadata": {
    "colab": {
      "name": "3Class_Genus_V3_BatchNormal_64_Layer_2.ipynb",
      "provenance": [],
      "collapsed_sections": [],
      "mount_file_id": "1IHbMYWLGZ3UB_1-t4s0kiAEi1DTumqo8",
      "authorship_tag": "ABX9TyOqUTFfUQWmxAl5728kwxcX",
      "include_colab_link": true
    },
    "kernelspec": {
      "name": "python3",
      "display_name": "Python 3"
    },
    "language_info": {
      "name": "python"
    },
    "accelerator": "GPU"
  },
  "cells": [
    {
      "cell_type": "markdown",
      "metadata": {
        "id": "view-in-github",
        "colab_type": "text"
      },
      "source": [
        "<a href=\"https://colab.research.google.com/github/Tajyu/Master_Degree_Paper/blob/main/Code/Filter_64/No%20input_dim/3Class_Genus_V3_BatchNormal_64_Layer_2.ipynb\" target=\"_parent\"><img src=\"https://colab.research.google.com/assets/colab-badge.svg\" alt=\"Open In Colab\"/></a>"
      ]
    },
    {
      "cell_type": "code",
      "metadata": {
        "id": "yWckd06_68Em"
      },
      "source": [
        "import tensorflow as tf\n",
        "from tensorflow.keras import datasets, layers, models\n",
        "from keras.preprocessing.image import ImageDataGenerator\n",
        "import numpy as np\n",
        "import matplotlib.pyplot as plt\n",
        "import cv2 as cv\n",
        "import os\n",
        "import pathlib\n",
        "import PIL\n",
        "from tensorflow import keras\n",
        "from tensorflow.keras import layers\n",
        "from tensorflow.keras.models import Sequential\n",
        "from tensorflow.keras.layers import Dense, Flatten, BatchNormalization, Dropout"
      ],
      "execution_count": null,
      "outputs": []
    },
    {
      "cell_type": "code",
      "metadata": {
        "id": "xav9zirHttk_"
      },
      "source": [
        "image_list = os.listdir('/content/drive/MyDrive/Colab Notebooks/Final_Project/Cell_Genus')"
      ],
      "execution_count": null,
      "outputs": []
    },
    {
      "cell_type": "code",
      "metadata": {
        "colab": {
          "base_uri": "https://localhost:8080/"
        },
        "id": "K-wD0dM5tx_E",
        "outputId": "31e1cdd8-f723-4c85-8de1-71e2af6ab7ce"
      },
      "source": [
        "print(image_list)"
      ],
      "execution_count": null,
      "outputs": [
        {
          "output_type": "stream",
          "name": "stdout",
          "text": [
            "['10_Genus_Stauroneis_Ehrenberg', '10_Genus_Staurosira_Ehrenberg', '11_Genus_Craspedostauros_E.J_Cox_1999', '11_Genus_Staurosirella_Williams_and_Round', '12_Genus_Caloneis_Cleve_1894', '12_Genus_Synedra_Ehrenberg', '13_Genus_Pinnularia_Ehrenberg_1843', '1_Genus_Acanthoceras_Honigmann', '1_Genus_Achnanthes_Bory', '1_Genus_Actinocyclus_Ehrenberg', '1_Genus_Aphanocapsa_Nageli_1849', '1_Genus_Asterionella_Hassall', '1_Genus_Aulacoseira', '1_Genus_Biremis_Mann_et_Cox_in_Round_Crawford_and_Mann', '1_Genus_Characium_A_Braun_in_Kutzing_1849', '1_Genus_Chroococcus_Nageli', '1_Genus_Closterium_Nitzsch_ex_Ralfs_1848', '1_Genus_Coelastrum_Nageli_1849', '1_Genus_Cylindrocystis_Meneghini_ex_de_Bary_1858', '1_Genus_Dictyosphaerium_Nageli_1849', '1_Genus_Docidium_Brebisson_ex_Ralfs_1848', '1_Genus_Eunotia_Ehrenberg', '1_Genus_Geitlerinema_(Anagnostidis_et_Komarek)_Anagnostidis_1989', '1_Genus_Gonatozygon_de_Bary_1856', '1_Genus_Hydrodictyon_Roth_1797', '1_Genus_Hydrosera_whampoensis', '1_Genus_Jaaginema_Anagnostidis_et_Komarek_1988', '1_Genus_Lyngbya_C_Agardh_ex_Gomont_1892', '1_Genus_Melosira_Agardh', '1_Genus_Micractinium_Fresenius_1858', '1_Genus_Micrasterias_Ralfs_1848', '1_Genus_Microcystis_Kutzing_ex_Lemmermann_1907', '1_Genus_Oscillatoria_Vaucher_ex_Gomont_1982', '1_Genus_Pediastrum_Meyen_1829', '1_Genus_Penium_Brebisson_ex_Ralfs_in_Ralfs_1848', '1_Genus_Phormidium_Kutzing_ex_Gomont_1892', '1_Genus_Planktothrix_Anagnostidis_et_Komarek_1988', '1_Genus_Pleurosira_laevis_(Ehrenberg)', '1_Genus_Rhizosolenia_Ehrenberg', '1_Genus_Schizochlamydella_Korshikov_1953', '1_Genus_Staurodesmus_Teiling_1848', '1_Genus_Trochiscia_Kutzing_1834', '1_Scenedesmus_Hegewald_1978', '2_Acutodesmus_Hegewald_1978', '2_Genus_Achnanthidium_Kutzing', '2_Genus_Actinastrum_Lagerheim_1882', '2_Genus_Actinella_Lewis', '2_Genus_Ankyra_Fott_1957', '2_Genus_Caloneis_Cleve', '2_Genus_Chaetoceros_Ehrenberg', '2_Genus_Coenochloris_Korshikov_1953', '2_Genus_Cyclotella', '2_Genus_Diatoma_Bory', '2_Genus_Dimorphococcus_A_Braun_1855', '2_Genus_Golenkinia_Chodat_1894', '2_Genus_Haplotaenium_Bando_1988', '2_Genus_Leibleinia_(Gomont)_L_Hoffman_1985', '2_Genus_Leptolyngbya_Anagnostidis_et_Komarek_1988', '2_Genus_Merismopedia_Meyen_1839', '2_Genus_Netrium_(Nageli)_Itzigsohn_et_Rothe_in_Rabenhorst_1856', '2_Genus_Orthoseira_Thwaites_1848', '2_Genus_Phormidium_Kutzing_ex_Gomont_1892', '2_Genus_Sorastrum_Kutzing_1845', '2_Genus_Staurastrum_Meyen_ex_Ralfs_1848', '3_Desmodesmus_Chodat_1926', '3_Genus_Acanthosphaera_Lemmerman_1899', '3_Genus_Anorthoneis_Grunow', '3_Genus_Cyclostephanos_Round', '3_Genus_Dichotomococcus_Korshikov_1928', '3_Genus_Heteroleibleinia_(Geitler)_L_Hoffmann_1985', '3_Genus_Limnothrix_Meffert_1988', '3_Genus_Meridion_Agardh', '3_Genus_Paradoxia_Svirenko_1928', '3_Genus_Peronia_Bebisson_and_Arnott_ex_Kitton', '3_Genus_Phormidiochaete_Komarek_in_Anagnostidis_2001', '3_Genus_Pinnularia_Ehrenberg_1', '3_Genus_Pleurotaenium_Nageli_1849', '3_Genus_Radiococcus_Schmidle_1902', '3_Genus_Snowella_Elenkin_1938', '3_Genus_Spirotaenia_Brebisson_in_Ralfs_1848', '4_Genus_Botryococcus_Kutzing_1849', '4_Genus_Cocconeis_Ehrenberg', '4_Genus_Eutetramorus_Walton_1918', '4_Genus_Leptolyngbya_Anagnostidis_et_Komarek_1988', '4_Genus_Opephora_Petit', '4_Genus_Pinnularia_Ehrenberg_2', '4_Genus_Schroederia_Lemmermann_1898', '4_Genus_Stephanodiscus_Ehrenberg', '4_Genus_Synechocystis_Sauvageau_1892', '4_Genus_Tortitaenia_A_J_Brook_1998', '5_Genus_Caloneis_Cleve', '5_Genus_Coenocystis_Korshikov_1953', '5_Genus_Planktolyngbya_Anagnostidis_et_Komarek_1988', '5_Genus_Tabellaria_Ehrenberg', '5_Genus_Thalassiosira_Cleve', '5_Genus_Woronichinia_Elenkin_1933', '6_Genus_Anomoeoneis_Pfitzer', '6_Genus_Fragilaria_Lyngbye', '6_Genus_Gloeocystis_Nageli_1849', '6_Genus_Pseudanabaena_Lauterborn_1915', '6_Genus_Skeletonema_Greville', '7_Genus_Caloneis_Cleve', '7_Genus_Hannaea_Patrick', '8_Genus_Diploneis(Ehrenberg)_Cleve', '8_Genus_Pseudostaurosira_Williams_and_Round', '9_Genus_Neidium_Pfitzer', '9_Genus_Punctastriata_Williams_and_Round']\n"
          ]
        }
      ]
    },
    {
      "cell_type": "code",
      "metadata": {
        "id": "o-0DvzEHt8VE"
      },
      "source": [
        "data_generator = ImageDataGenerator(rescale = 1./255)\n",
        "\n",
        "data_dir = \"/content/drive/MyDrive/Colab Notebooks/Final_Project/Cell_Genus\""
      ],
      "execution_count": null,
      "outputs": []
    },
    {
      "cell_type": "code",
      "metadata": {
        "id": "7aTCfEm3t10n"
      },
      "source": [
        "batch_size = 32\n",
        "img_height = 180\n",
        "img_width = 180"
      ],
      "execution_count": null,
      "outputs": []
    },
    {
      "cell_type": "code",
      "metadata": {
        "colab": {
          "base_uri": "https://localhost:8080/"
        },
        "id": "9Smg-miEt22s",
        "outputId": "aeae1b90-ed49-438c-da26-d1145b0e5095"
      },
      "source": [
        "train_ds = tf.keras.preprocessing.image_dataset_from_directory(\n",
        "  data_dir,\n",
        "  color_mode = \"grayscale\",\n",
        "  validation_split=0.2,\n",
        "  subset=\"training\",\n",
        "  seed=123,\n",
        "  image_size=(img_height, img_width),\n",
        "  batch_size=batch_size)"
      ],
      "execution_count": null,
      "outputs": [
        {
          "output_type": "stream",
          "name": "stdout",
          "text": [
            "Found 6226 files belonging to 107 classes.\n",
            "Using 4981 files for training.\n"
          ]
        }
      ]
    },
    {
      "cell_type": "code",
      "metadata": {
        "colab": {
          "base_uri": "https://localhost:8080/"
        },
        "id": "1nR0WdQGt44x",
        "outputId": "abbdf925-81b9-46d8-c315-27b82f600fdc"
      },
      "source": [
        "val_ds = tf.keras.preprocessing.image_dataset_from_directory(\n",
        "  data_dir,\n",
        "  color_mode = \"grayscale\",\n",
        "  validation_split=0.2,\n",
        "  subset=\"validation\",\n",
        "  seed=123,\n",
        "  image_size=(img_height, img_width),\n",
        "  batch_size=batch_size)"
      ],
      "execution_count": null,
      "outputs": [
        {
          "output_type": "stream",
          "name": "stdout",
          "text": [
            "Found 6226 files belonging to 107 classes.\n",
            "Using 1245 files for validation.\n"
          ]
        }
      ]
    },
    {
      "cell_type": "code",
      "metadata": {
        "colab": {
          "base_uri": "https://localhost:8080/"
        },
        "id": "F-cz_CtGug8Y",
        "outputId": "182f7efe-e3f0-481f-bef9-71a6038ed7b2"
      },
      "source": [
        "class_names = train_ds.class_names\n",
        "print(class_names)"
      ],
      "execution_count": null,
      "outputs": [
        {
          "output_type": "stream",
          "name": "stdout",
          "text": [
            "['10_Genus_Stauroneis_Ehrenberg', '10_Genus_Staurosira_Ehrenberg', '11_Genus_Craspedostauros_E.J_Cox_1999', '11_Genus_Staurosirella_Williams_and_Round', '12_Genus_Caloneis_Cleve_1894', '12_Genus_Synedra_Ehrenberg', '13_Genus_Pinnularia_Ehrenberg_1843', '1_Genus_Acanthoceras_Honigmann', '1_Genus_Achnanthes_Bory', '1_Genus_Actinocyclus_Ehrenberg', '1_Genus_Aphanocapsa_Nageli_1849', '1_Genus_Asterionella_Hassall', '1_Genus_Aulacoseira', '1_Genus_Biremis_Mann_et_Cox_in_Round_Crawford_and_Mann', '1_Genus_Characium_A_Braun_in_Kutzing_1849', '1_Genus_Chroococcus_Nageli', '1_Genus_Closterium_Nitzsch_ex_Ralfs_1848', '1_Genus_Coelastrum_Nageli_1849', '1_Genus_Cylindrocystis_Meneghini_ex_de_Bary_1858', '1_Genus_Dictyosphaerium_Nageli_1849', '1_Genus_Docidium_Brebisson_ex_Ralfs_1848', '1_Genus_Eunotia_Ehrenberg', '1_Genus_Geitlerinema_(Anagnostidis_et_Komarek)_Anagnostidis_1989', '1_Genus_Gonatozygon_de_Bary_1856', '1_Genus_Hydrodictyon_Roth_1797', '1_Genus_Hydrosera_whampoensis', '1_Genus_Jaaginema_Anagnostidis_et_Komarek_1988', '1_Genus_Lyngbya_C_Agardh_ex_Gomont_1892', '1_Genus_Melosira_Agardh', '1_Genus_Micractinium_Fresenius_1858', '1_Genus_Micrasterias_Ralfs_1848', '1_Genus_Microcystis_Kutzing_ex_Lemmermann_1907', '1_Genus_Oscillatoria_Vaucher_ex_Gomont_1982', '1_Genus_Pediastrum_Meyen_1829', '1_Genus_Penium_Brebisson_ex_Ralfs_in_Ralfs_1848', '1_Genus_Phormidium_Kutzing_ex_Gomont_1892', '1_Genus_Planktothrix_Anagnostidis_et_Komarek_1988', '1_Genus_Pleurosira_laevis_(Ehrenberg)', '1_Genus_Rhizosolenia_Ehrenberg', '1_Genus_Schizochlamydella_Korshikov_1953', '1_Genus_Staurodesmus_Teiling_1848', '1_Genus_Trochiscia_Kutzing_1834', '1_Scenedesmus_Hegewald_1978', '2_Acutodesmus_Hegewald_1978', '2_Genus_Achnanthidium_Kutzing', '2_Genus_Actinastrum_Lagerheim_1882', '2_Genus_Actinella_Lewis', '2_Genus_Ankyra_Fott_1957', '2_Genus_Caloneis_Cleve', '2_Genus_Chaetoceros_Ehrenberg', '2_Genus_Coenochloris_Korshikov_1953', '2_Genus_Cyclotella', '2_Genus_Diatoma_Bory', '2_Genus_Dimorphococcus_A_Braun_1855', '2_Genus_Golenkinia_Chodat_1894', '2_Genus_Haplotaenium_Bando_1988', '2_Genus_Leibleinia_(Gomont)_L_Hoffman_1985', '2_Genus_Leptolyngbya_Anagnostidis_et_Komarek_1988', '2_Genus_Merismopedia_Meyen_1839', '2_Genus_Netrium_(Nageli)_Itzigsohn_et_Rothe_in_Rabenhorst_1856', '2_Genus_Orthoseira_Thwaites_1848', '2_Genus_Phormidium_Kutzing_ex_Gomont_1892', '2_Genus_Sorastrum_Kutzing_1845', '2_Genus_Staurastrum_Meyen_ex_Ralfs_1848', '3_Desmodesmus_Chodat_1926', '3_Genus_Acanthosphaera_Lemmerman_1899', '3_Genus_Anorthoneis_Grunow', '3_Genus_Cyclostephanos_Round', '3_Genus_Dichotomococcus_Korshikov_1928', '3_Genus_Heteroleibleinia_(Geitler)_L_Hoffmann_1985', '3_Genus_Limnothrix_Meffert_1988', '3_Genus_Meridion_Agardh', '3_Genus_Paradoxia_Svirenko_1928', '3_Genus_Peronia_Bebisson_and_Arnott_ex_Kitton', '3_Genus_Phormidiochaete_Komarek_in_Anagnostidis_2001', '3_Genus_Pinnularia_Ehrenberg_1', '3_Genus_Pleurotaenium_Nageli_1849', '3_Genus_Radiococcus_Schmidle_1902', '3_Genus_Snowella_Elenkin_1938', '3_Genus_Spirotaenia_Brebisson_in_Ralfs_1848', '4_Genus_Botryococcus_Kutzing_1849', '4_Genus_Cocconeis_Ehrenberg', '4_Genus_Eutetramorus_Walton_1918', '4_Genus_Leptolyngbya_Anagnostidis_et_Komarek_1988', '4_Genus_Opephora_Petit', '4_Genus_Pinnularia_Ehrenberg_2', '4_Genus_Schroederia_Lemmermann_1898', '4_Genus_Stephanodiscus_Ehrenberg', '4_Genus_Synechocystis_Sauvageau_1892', '4_Genus_Tortitaenia_A_J_Brook_1998', '5_Genus_Caloneis_Cleve', '5_Genus_Coenocystis_Korshikov_1953', '5_Genus_Planktolyngbya_Anagnostidis_et_Komarek_1988', '5_Genus_Tabellaria_Ehrenberg', '5_Genus_Thalassiosira_Cleve', '5_Genus_Woronichinia_Elenkin_1933', '6_Genus_Anomoeoneis_Pfitzer', '6_Genus_Fragilaria_Lyngbye', '6_Genus_Gloeocystis_Nageli_1849', '6_Genus_Pseudanabaena_Lauterborn_1915', '6_Genus_Skeletonema_Greville', '7_Genus_Caloneis_Cleve', '7_Genus_Hannaea_Patrick', '8_Genus_Diploneis(Ehrenberg)_Cleve', '8_Genus_Pseudostaurosira_Williams_and_Round', '9_Genus_Neidium_Pfitzer', '9_Genus_Punctastriata_Williams_and_Round']\n"
          ]
        }
      ]
    },
    {
      "cell_type": "code",
      "metadata": {
        "colab": {
          "base_uri": "https://localhost:8080/"
        },
        "id": "5EQOikPAukic",
        "outputId": "5519be4c-c35e-4fab-addd-f5fa77728c0d"
      },
      "source": [
        "for image_batch, labels_batch in train_ds:\n",
        "  print(image_batch.shape)\n",
        "  print(labels_batch.shape)\n",
        "  break"
      ],
      "execution_count": null,
      "outputs": [
        {
          "output_type": "stream",
          "name": "stdout",
          "text": [
            "(32, 180, 180, 1)\n",
            "(32,)\n"
          ]
        }
      ]
    },
    {
      "cell_type": "code",
      "metadata": {
        "id": "9eVl7tiDux9q"
      },
      "source": [
        "from tensorflow.keras import layers\n",
        "\n",
        "normalization_layer = tf.keras.layers.experimental.preprocessing.Rescaling(1./255)"
      ],
      "execution_count": null,
      "outputs": []
    },
    {
      "cell_type": "code",
      "metadata": {
        "colab": {
          "base_uri": "https://localhost:8080/"
        },
        "id": "AiIrsxzZuzEo",
        "outputId": "6a9b0833-7cb7-4379-c379-beba2c4be9dc"
      },
      "source": [
        "normalized_ds = train_ds.map(lambda x, y: (normalization_layer(x), y))\n",
        "image_batch, labels_batch = next(iter(normalized_ds))\n",
        "first_image = image_batch[0]\n",
        "# Notice the pixels values are now in `[0,1]`.\n",
        "print(np.min(first_image), np.max(first_image))"
      ],
      "execution_count": null,
      "outputs": [
        {
          "output_type": "stream",
          "name": "stdout",
          "text": [
            "0.0 1.0\n"
          ]
        }
      ]
    },
    {
      "cell_type": "code",
      "metadata": {
        "id": "__WbVabru0Bp"
      },
      "source": [
        "AUTOTUNE = tf.data.experimental.AUTOTUNE\n",
        "\n",
        "train_ds = train_ds.cache().prefetch(buffer_size=AUTOTUNE)\n",
        "val_ds = val_ds.cache().prefetch(buffer_size=AUTOTUNE)"
      ],
      "execution_count": null,
      "outputs": []
    },
    {
      "cell_type": "code",
      "metadata": {
        "id": "g1GeYFXCu2gV"
      },
      "source": [
        "num_classes = 107\n",
        "model = tf.keras.Sequential([\n",
        "    layers.experimental.preprocessing.Rescaling(1./255),\n",
        "    layers.Conv2D(64, 3,input_shape = image_batch, activation='relu'),\n",
        "    layers.MaxPooling2D(),\n",
        "    layers.Conv2D(64, 3, activation='relu'),\n",
        "    layers.MaxPooling2D(),\n",
        "    layers.Conv2D(64, 3, activation='relu'),\n",
        "    layers.MaxPooling2D(),\n",
        "    layers.Flatten(),\n",
        "    BatchNormalization(),\n",
        "    layers.Dense(128, activation='relu'),\n",
        "    BatchNormalization(),\n",
        "    layers.Dense(107, activation='softmax'),\n",
        "    BatchNormalization(),\n",
        "    layers.Dense(num_classes)\n",
        "    ])"
      ],
      "execution_count": null,
      "outputs": []
    },
    {
      "cell_type": "code",
      "metadata": {
        "id": "wU4xPAvNYWry"
      },
      "source": [
        "model.compile(\n",
        "    optimizer='adam',\n",
        "    loss=tf.losses.SparseCategoricalCrossentropy(from_logits=True),\n",
        "    metrics=['accuracy'])"
      ],
      "execution_count": null,
      "outputs": []
    },
    {
      "cell_type": "code",
      "metadata": {
        "colab": {
          "base_uri": "https://localhost:8080/"
        },
        "id": "Tk8ssrbHu44p",
        "outputId": "20d2fa48-7149-4001-9868-7ffbe6f1af07"
      },
      "source": [
        "epochs=50\n",
        "history = model.fit(\n",
        "  train_ds,\n",
        "  validation_data=val_ds,\n",
        "  epochs=epochs\n",
        ")"
      ],
      "execution_count": null,
      "outputs": [
        {
          "output_type": "stream",
          "name": "stdout",
          "text": [
            "Epoch 1/50\n",
            "156/156 [==============================] - 836s 5s/step - loss: 3.2041 - accuracy: 0.3184 - val_loss: 4.2487 - val_accuracy: 0.1133\n",
            "Epoch 2/50\n",
            "156/156 [==============================] - 4s 28ms/step - loss: 1.8938 - accuracy: 0.5294 - val_loss: 3.6808 - val_accuracy: 0.2747\n",
            "Epoch 3/50\n",
            "156/156 [==============================] - 4s 27ms/step - loss: 1.1950 - accuracy: 0.7123 - val_loss: 2.8549 - val_accuracy: 0.3550\n",
            "Epoch 4/50\n",
            "156/156 [==============================] - 4s 28ms/step - loss: 0.7360 - accuracy: 0.8396 - val_loss: 2.3449 - val_accuracy: 0.4241\n",
            "Epoch 5/50\n",
            "156/156 [==============================] - 4s 28ms/step - loss: 0.4425 - accuracy: 0.9127 - val_loss: 2.5485 - val_accuracy: 0.4088\n",
            "Epoch 6/50\n",
            "156/156 [==============================] - 4s 27ms/step - loss: 0.2775 - accuracy: 0.9516 - val_loss: 2.4491 - val_accuracy: 0.4602\n",
            "Epoch 7/50\n",
            "156/156 [==============================] - 4s 27ms/step - loss: 0.1764 - accuracy: 0.9749 - val_loss: 2.2472 - val_accuracy: 0.5044\n",
            "Epoch 8/50\n",
            "156/156 [==============================] - 4s 27ms/step - loss: 0.1196 - accuracy: 0.9801 - val_loss: 2.1832 - val_accuracy: 0.5197\n",
            "Epoch 9/50\n",
            "156/156 [==============================] - 4s 28ms/step - loss: 0.0790 - accuracy: 0.9888 - val_loss: 2.1520 - val_accuracy: 0.5100\n",
            "Epoch 10/50\n",
            "156/156 [==============================] - 4s 27ms/step - loss: 0.0487 - accuracy: 0.9944 - val_loss: 2.1051 - val_accuracy: 0.5285\n",
            "Epoch 11/50\n",
            "156/156 [==============================] - 4s 27ms/step - loss: 0.0338 - accuracy: 0.9972 - val_loss: 2.1145 - val_accuracy: 0.5462\n",
            "Epoch 12/50\n",
            "156/156 [==============================] - 4s 28ms/step - loss: 0.0257 - accuracy: 0.9974 - val_loss: 2.1532 - val_accuracy: 0.5301\n",
            "Epoch 13/50\n",
            "156/156 [==============================] - 4s 28ms/step - loss: 0.0192 - accuracy: 0.9986 - val_loss: 2.1841 - val_accuracy: 0.5454\n",
            "Epoch 14/50\n",
            "156/156 [==============================] - 4s 27ms/step - loss: 0.0129 - accuracy: 0.9990 - val_loss: 2.1710 - val_accuracy: 0.5558\n",
            "Epoch 15/50\n",
            "156/156 [==============================] - 4s 28ms/step - loss: 0.0115 - accuracy: 0.9992 - val_loss: 2.2130 - val_accuracy: 0.5526\n",
            "Epoch 16/50\n",
            "156/156 [==============================] - 4s 27ms/step - loss: 0.0083 - accuracy: 0.9996 - val_loss: 2.2396 - val_accuracy: 0.5454\n",
            "Epoch 17/50\n",
            "156/156 [==============================] - 4s 28ms/step - loss: 0.0069 - accuracy: 0.9996 - val_loss: 2.3462 - val_accuracy: 0.5430\n",
            "Epoch 18/50\n",
            "156/156 [==============================] - 4s 27ms/step - loss: 0.0082 - accuracy: 0.9986 - val_loss: 2.2600 - val_accuracy: 0.5526\n",
            "Epoch 19/50\n",
            "156/156 [==============================] - 4s 27ms/step - loss: 0.0081 - accuracy: 0.9988 - val_loss: 2.3804 - val_accuracy: 0.5446\n",
            "Epoch 20/50\n",
            "156/156 [==============================] - 4s 27ms/step - loss: 0.0062 - accuracy: 0.9988 - val_loss: 2.3509 - val_accuracy: 0.5398\n",
            "Epoch 21/50\n",
            "156/156 [==============================] - 4s 27ms/step - loss: 0.0049 - accuracy: 0.9996 - val_loss: 2.3263 - val_accuracy: 0.5510\n",
            "Epoch 22/50\n",
            "156/156 [==============================] - 4s 27ms/step - loss: 0.0031 - accuracy: 1.0000 - val_loss: 2.3367 - val_accuracy: 0.5582\n",
            "Epoch 23/50\n",
            "156/156 [==============================] - 4s 27ms/step - loss: 0.0030 - accuracy: 1.0000 - val_loss: 2.3678 - val_accuracy: 0.5494\n",
            "Epoch 24/50\n",
            "156/156 [==============================] - 4s 27ms/step - loss: 0.0029 - accuracy: 0.9998 - val_loss: 2.4138 - val_accuracy: 0.5510\n",
            "Epoch 25/50\n",
            "156/156 [==============================] - 4s 27ms/step - loss: 0.0021 - accuracy: 1.0000 - val_loss: 2.3785 - val_accuracy: 0.5454\n",
            "Epoch 26/50\n",
            "156/156 [==============================] - 4s 27ms/step - loss: 0.0017 - accuracy: 1.0000 - val_loss: 2.4059 - val_accuracy: 0.5558\n",
            "Epoch 27/50\n",
            "156/156 [==============================] - 4s 27ms/step - loss: 0.0016 - accuracy: 1.0000 - val_loss: 2.4183 - val_accuracy: 0.5494\n",
            "Epoch 28/50\n",
            "156/156 [==============================] - 4s 27ms/step - loss: 0.0013 - accuracy: 1.0000 - val_loss: 2.4390 - val_accuracy: 0.5574\n",
            "Epoch 29/50\n",
            "156/156 [==============================] - 4s 28ms/step - loss: 0.0012 - accuracy: 1.0000 - val_loss: 2.4670 - val_accuracy: 0.5550\n",
            "Epoch 30/50\n",
            "156/156 [==============================] - 4s 27ms/step - loss: 9.1290e-04 - accuracy: 1.0000 - val_loss: 2.4845 - val_accuracy: 0.5526\n",
            "Epoch 31/50\n",
            "156/156 [==============================] - 4s 27ms/step - loss: 8.0105e-04 - accuracy: 1.0000 - val_loss: 2.5038 - val_accuracy: 0.5526\n",
            "Epoch 32/50\n",
            "156/156 [==============================] - 4s 28ms/step - loss: 7.1005e-04 - accuracy: 1.0000 - val_loss: 2.5236 - val_accuracy: 0.5534\n",
            "Epoch 33/50\n",
            "156/156 [==============================] - 4s 28ms/step - loss: 6.3372e-04 - accuracy: 1.0000 - val_loss: 2.5434 - val_accuracy: 0.5534\n",
            "Epoch 34/50\n",
            "156/156 [==============================] - 4s 27ms/step - loss: 5.6906e-04 - accuracy: 1.0000 - val_loss: 2.5622 - val_accuracy: 0.5534\n",
            "Epoch 35/50\n",
            "156/156 [==============================] - 4s 27ms/step - loss: 5.1286e-04 - accuracy: 1.0000 - val_loss: 2.5813 - val_accuracy: 0.5518\n",
            "Epoch 36/50\n",
            "156/156 [==============================] - 4s 27ms/step - loss: 4.6349e-04 - accuracy: 1.0000 - val_loss: 2.5997 - val_accuracy: 0.5510\n",
            "Epoch 37/50\n",
            "156/156 [==============================] - 4s 27ms/step - loss: 4.1978e-04 - accuracy: 1.0000 - val_loss: 2.6185 - val_accuracy: 0.5510\n",
            "Epoch 38/50\n",
            "156/156 [==============================] - 4s 27ms/step - loss: 3.8085e-04 - accuracy: 1.0000 - val_loss: 2.6372 - val_accuracy: 0.5494\n",
            "Epoch 39/50\n",
            "156/156 [==============================] - 4s 27ms/step - loss: 3.4618e-04 - accuracy: 1.0000 - val_loss: 2.6562 - val_accuracy: 0.5494\n",
            "Epoch 40/50\n",
            "156/156 [==============================] - 4s 27ms/step - loss: 3.1537e-04 - accuracy: 1.0000 - val_loss: 2.6745 - val_accuracy: 0.5486\n",
            "Epoch 41/50\n",
            "156/156 [==============================] - 4s 28ms/step - loss: 2.8800e-04 - accuracy: 1.0000 - val_loss: 2.6935 - val_accuracy: 0.5494\n",
            "Epoch 42/50\n",
            "156/156 [==============================] - 4s 27ms/step - loss: 2.6465e-04 - accuracy: 1.0000 - val_loss: 2.7117 - val_accuracy: 0.5510\n",
            "Epoch 43/50\n",
            "156/156 [==============================] - 4s 27ms/step - loss: 2.4491e-04 - accuracy: 1.0000 - val_loss: 2.7292 - val_accuracy: 0.5470\n",
            "Epoch 44/50\n",
            "156/156 [==============================] - 4s 27ms/step - loss: 2.3234e-04 - accuracy: 1.0000 - val_loss: 2.7449 - val_accuracy: 0.5502\n",
            "Epoch 45/50\n",
            "156/156 [==============================] - 4s 27ms/step - loss: 0.0011 - accuracy: 0.9998 - val_loss: 2.8706 - val_accuracy: 0.5462\n",
            "Epoch 46/50\n",
            "156/156 [==============================] - 4s 27ms/step - loss: 0.6038 - accuracy: 0.8330 - val_loss: 7.9060 - val_accuracy: 0.2297\n",
            "Epoch 47/50\n",
            "156/156 [==============================] - 4s 28ms/step - loss: 0.6403 - accuracy: 0.8147 - val_loss: 2.9654 - val_accuracy: 0.4683\n",
            "Epoch 48/50\n",
            "156/156 [==============================] - 4s 27ms/step - loss: 0.1139 - accuracy: 0.9737 - val_loss: 2.4470 - val_accuracy: 0.5181\n",
            "Epoch 49/50\n",
            "156/156 [==============================] - 4s 27ms/step - loss: 0.0298 - accuracy: 0.9968 - val_loss: 2.4334 - val_accuracy: 0.5277\n",
            "Epoch 50/50\n",
            "156/156 [==============================] - 4s 27ms/step - loss: 0.0123 - accuracy: 0.9990 - val_loss: 2.4432 - val_accuracy: 0.5277\n"
          ]
        }
      ]
    },
    {
      "cell_type": "code",
      "metadata": {
        "colab": {
          "base_uri": "https://localhost:8080/",
          "height": 499
        },
        "id": "f1z_vHocu59c",
        "outputId": "8209d345-bd06-40e0-89eb-4d2267fa3cec"
      },
      "source": [
        "acc = history.history['accuracy']\n",
        "val_acc = history.history['val_accuracy']\n",
        "\n",
        "loss=history.history['loss']\n",
        "val_loss=history.history['val_loss']\n",
        "\n",
        "epochs_range = range(epochs)\n",
        "\n",
        "plt.figure(figsize=(8, 8))\n",
        "plt.subplot(1, 2, 1)\n",
        "plt.plot(epochs_range, acc, label='Training Accuracy')\n",
        "plt.plot(epochs_range, val_acc, label='Validation Accuracy')\n",
        "plt.legend(loc='lower right')\n",
        "plt.title('Training and Validation Accuracy')\n",
        "\n",
        "plt.subplot(1, 2, 2)\n",
        "plt.plot(epochs_range, loss, label='Training Loss')\n",
        "plt.plot(epochs_range, val_loss, label='Validation Loss')\n",
        "plt.legend(loc='upper right')\n",
        "plt.title('Training and Validation Loss')\n",
        "plt.show()"
      ],
      "execution_count": null,
      "outputs": [
        {
          "output_type": "display_data",
          "data": {
            "image/png": "[encoded data removed]",
            "text/plain": [
              "<Figure size 576x576 with 2 Axes>"
            ]
          },
          "metadata": {
            "needs_background": "light"
          }
        }
      ]
    },
    {
      "cell_type": "code",
      "metadata": {
        "id": "XinJ6xXD9YNO"
      },
      "source": [
        "data_augmentation = keras.Sequential(\n",
        "  [\n",
        "    layers.experimental.preprocessing.RandomFlip(\"horizontal\", \n",
        "                                                 input_shape=(img_height, \n",
        "                                                              img_width,\n",
        "                                                              1)),\n",
        "    layers.experimental.preprocessing.RandomRotation(0.1),\n",
        "    layers.experimental.preprocessing.RandomZoom(0.1),\n",
        "  ]\n",
        ")"
      ],
      "execution_count": null,
      "outputs": []
    },
    {
      "cell_type": "code",
      "metadata": {
        "id": "8WT2BYElEYZj"
      },
      "source": [
        "model = Sequential([\n",
        "  data_augmentation,\n",
        "  layers.experimental.preprocessing.Rescaling(1./255),\n",
        "  layers.Conv2D(64, 3,input_shape = image_batch, activation='relu'),\n",
        "  layers.MaxPooling2D(),\n",
        "  layers.Conv2D(64, 3, padding='same', activation='relu'),\n",
        "  layers.MaxPooling2D(),\n",
        "  layers.Conv2D(64, 3, padding='same', activation='relu'),\n",
        "  layers.MaxPooling2D(),\n",
        "  layers.Dropout(0.2),\n",
        "  layers.Flatten(),\n",
        "  layers.Dense(128, activation='relu'),\n",
        "  BatchNormalization(),\n",
        "  layers.Dense(107, activation='softmax'),\n",
        "  BatchNormalization(),\n",
        "  layers.Dense(num_classes)\n",
        "])"
      ],
      "execution_count": null,
      "outputs": []
    },
    {
      "cell_type": "code",
      "metadata": {
        "id": "opOHP3auEdsw",
        "colab": {
          "base_uri": "https://localhost:8080/"
        },
        "outputId": "6f8f1524-6921-400b-9731-59bd4b105c15"
      },
      "source": [
        "BatchNormalization(),model.compile(\n",
        "    optimizer='adam',\n",
        "    loss=tf.losses.SparseCategoricalCrossentropy(from_logits=True),\n",
        "    metrics=['accuracy'])"
      ],
      "execution_count": null,
      "outputs": [
        {
          "output_type": "execute_result",
          "data": {
            "text/plain": [
              "(<keras.layers.normalization.batch_normalization.BatchNormalization at 0x7fd23634ac50>,\n",
              " None)"
            ]
          },
          "metadata": {},
          "execution_count": 19
        }
      ]
    },
    {
      "cell_type": "code",
      "metadata": {
        "colab": {
          "base_uri": "https://localhost:8080/"
        },
        "id": "3Ay4tlHlEfBX",
        "outputId": "fa6a18ed-3580-4e9e-ee62-8ca0f44aa8b6"
      },
      "source": [
        "model.summary()"
      ],
      "execution_count": null,
      "outputs": [
        {
          "output_type": "stream",
          "name": "stdout",
          "text": [
            "Model: \"sequential_2\"\n",
            "_________________________________________________________________\n",
            " Layer (type)                Output Shape              Param #   \n",
            "=================================================================\n",
            " sequential_1 (Sequential)   (None, 180, 180, 1)       0         \n",
            "                                                                 \n",
            " rescaling_2 (Rescaling)     (None, 180, 180, 1)       0         \n",
            "                                                                 \n",
            " conv2d_3 (Conv2D)           (None, 178, 178, 64)      640       \n",
            "                                                                 \n",
            " max_pooling2d_3 (MaxPooling  (None, 89, 89, 64)       0         \n",
            " 2D)                                                             \n",
            "                                                                 \n",
            " conv2d_4 (Conv2D)           (None, 89, 89, 64)        36928     \n",
            "                                                                 \n",
            " max_pooling2d_4 (MaxPooling  (None, 44, 44, 64)       0         \n",
            " 2D)                                                             \n",
            "                                                                 \n",
            " conv2d_5 (Conv2D)           (None, 44, 44, 64)        36928     \n",
            "                                                                 \n",
            " max_pooling2d_5 (MaxPooling  (None, 22, 22, 64)       0         \n",
            " 2D)                                                             \n",
            "                                                                 \n",
            " dropout (Dropout)           (None, 22, 22, 64)        0         \n",
            "                                                                 \n",
            " flatten_1 (Flatten)         (None, 30976)             0         \n",
            "                                                                 \n",
            " dense_3 (Dense)             (None, 128)               3965056   \n",
            "                                                                 \n",
            " batch_normalization_3 (Batc  (None, 128)              512       \n",
            " hNormalization)                                                 \n",
            "                                                                 \n",
            " dense_4 (Dense)             (None, 107)               13803     \n",
            "                                                                 \n",
            " batch_normalization_4 (Batc  (None, 107)              428       \n",
            " hNormalization)                                                 \n",
            "                                                                 \n",
            " dense_5 (Dense)             (None, 107)               11556     \n",
            "                                                                 \n",
            "=================================================================\n",
            "Total params: 4,065,851\n",
            "Trainable params: 4,065,381\n",
            "Non-trainable params: 470\n",
            "_________________________________________________________________\n"
          ]
        }
      ]
    },
    {
      "cell_type": "code",
      "metadata": {
        "colab": {
          "base_uri": "https://localhost:8080/"
        },
        "id": "Jc8rD_v9Ef41",
        "outputId": "88d44c6f-3134-4955-deb7-ece1a2229fb2"
      },
      "source": [
        "epochs = 50\n",
        "history = model.fit(\n",
        "  train_ds,\n",
        "  validation_data=val_ds,\n",
        "  epochs=epochs\n",
        ")"
      ],
      "execution_count": null,
      "outputs": [
        {
          "output_type": "stream",
          "name": "stdout",
          "text": [
            "Epoch 1/50\n",
            "156/156 [==============================] - 7s 33ms/step - loss: 3.4936 - accuracy: 0.2437 - val_loss: 4.0847 - val_accuracy: 0.2137\n",
            "Epoch 2/50\n",
            "156/156 [==============================] - 5s 30ms/step - loss: 2.5287 - accuracy: 0.3487 - val_loss: 3.5343 - val_accuracy: 0.2683\n",
            "Epoch 3/50\n",
            "156/156 [==============================] - 5s 30ms/step - loss: 2.1815 - accuracy: 0.4019 - val_loss: 2.8381 - val_accuracy: 0.3349\n",
            "Epoch 4/50\n",
            "156/156 [==============================] - 5s 30ms/step - loss: 1.9804 - accuracy: 0.4447 - val_loss: 2.4315 - val_accuracy: 0.3671\n",
            "Epoch 5/50\n",
            "156/156 [==============================] - 5s 29ms/step - loss: 1.7943 - accuracy: 0.4824 - val_loss: 2.5232 - val_accuracy: 0.3743\n",
            "Epoch 6/50\n",
            "156/156 [==============================] - 5s 30ms/step - loss: 1.6765 - accuracy: 0.5085 - val_loss: 2.3647 - val_accuracy: 0.4080\n",
            "Epoch 7/50\n",
            "156/156 [==============================] - 5s 29ms/step - loss: 1.5626 - accuracy: 0.5415 - val_loss: 2.9271 - val_accuracy: 0.3550\n",
            "Epoch 8/50\n",
            "156/156 [==============================] - 5s 29ms/step - loss: 1.4597 - accuracy: 0.5672 - val_loss: 2.3801 - val_accuracy: 0.4281\n",
            "Epoch 9/50\n",
            "156/156 [==============================] - 5s 30ms/step - loss: 1.3930 - accuracy: 0.5752 - val_loss: 2.5287 - val_accuracy: 0.4064\n",
            "Epoch 10/50\n",
            "156/156 [==============================] - 5s 29ms/step - loss: 1.3563 - accuracy: 0.5916 - val_loss: 2.5397 - val_accuracy: 0.4112\n",
            "Epoch 11/50\n",
            "156/156 [==============================] - 5s 32ms/step - loss: 1.2585 - accuracy: 0.6119 - val_loss: 2.2481 - val_accuracy: 0.4482\n",
            "Epoch 12/50\n",
            "156/156 [==============================] - 5s 30ms/step - loss: 1.1940 - accuracy: 0.6396 - val_loss: 2.5863 - val_accuracy: 0.4273\n",
            "Epoch 13/50\n",
            "156/156 [==============================] - 5s 30ms/step - loss: 1.1456 - accuracy: 0.6473 - val_loss: 2.5350 - val_accuracy: 0.4201\n",
            "Epoch 14/50\n",
            "156/156 [==============================] - 5s 30ms/step - loss: 1.0861 - accuracy: 0.6625 - val_loss: 2.4613 - val_accuracy: 0.4474\n",
            "Epoch 15/50\n",
            "156/156 [==============================] - 5s 29ms/step - loss: 1.0368 - accuracy: 0.6762 - val_loss: 2.3563 - val_accuracy: 0.4699\n",
            "Epoch 16/50\n",
            "156/156 [==============================] - 5s 30ms/step - loss: 0.9978 - accuracy: 0.6874 - val_loss: 2.6226 - val_accuracy: 0.4257\n",
            "Epoch 17/50\n",
            "156/156 [==============================] - 5s 30ms/step - loss: 0.9598 - accuracy: 0.6946 - val_loss: 2.4390 - val_accuracy: 0.4554\n",
            "Epoch 18/50\n",
            "156/156 [==============================] - 5s 30ms/step - loss: 0.9196 - accuracy: 0.7137 - val_loss: 2.2366 - val_accuracy: 0.4835\n",
            "Epoch 19/50\n",
            "156/156 [==============================] - 5s 30ms/step - loss: 0.8892 - accuracy: 0.7256 - val_loss: 2.3901 - val_accuracy: 0.4538\n",
            "Epoch 20/50\n",
            "156/156 [==============================] - 5s 29ms/step - loss: 0.8417 - accuracy: 0.7336 - val_loss: 2.1210 - val_accuracy: 0.5205\n",
            "Epoch 21/50\n",
            "156/156 [==============================] - 5s 30ms/step - loss: 0.8010 - accuracy: 0.7486 - val_loss: 2.2703 - val_accuracy: 0.4980\n",
            "Epoch 22/50\n",
            "156/156 [==============================] - 5s 30ms/step - loss: 0.7599 - accuracy: 0.7643 - val_loss: 2.2350 - val_accuracy: 0.4795\n",
            "Epoch 23/50\n",
            "156/156 [==============================] - 5s 30ms/step - loss: 0.7502 - accuracy: 0.7607 - val_loss: 2.4097 - val_accuracy: 0.4675\n",
            "Epoch 24/50\n",
            "156/156 [==============================] - 5s 29ms/step - loss: 0.7186 - accuracy: 0.7745 - val_loss: 2.3544 - val_accuracy: 0.4924\n",
            "Epoch 25/50\n",
            "156/156 [==============================] - 5s 29ms/step - loss: 0.6750 - accuracy: 0.7840 - val_loss: 9.2580 - val_accuracy: 0.2080\n",
            "Epoch 26/50\n",
            "156/156 [==============================] - 5s 29ms/step - loss: 0.6726 - accuracy: 0.7880 - val_loss: 2.1561 - val_accuracy: 0.5133\n",
            "Epoch 27/50\n",
            "156/156 [==============================] - 5s 30ms/step - loss: 0.6328 - accuracy: 0.7960 - val_loss: 2.5825 - val_accuracy: 0.4635\n",
            "Epoch 28/50\n",
            "156/156 [==============================] - 5s 29ms/step - loss: 0.6195 - accuracy: 0.8020 - val_loss: 2.3260 - val_accuracy: 0.5157\n",
            "Epoch 29/50\n",
            "156/156 [==============================] - 5s 30ms/step - loss: 0.5882 - accuracy: 0.8121 - val_loss: 2.4992 - val_accuracy: 0.4948\n",
            "Epoch 30/50\n",
            "156/156 [==============================] - 5s 30ms/step - loss: 0.5708 - accuracy: 0.8227 - val_loss: 2.6859 - val_accuracy: 0.5020\n",
            "Epoch 31/50\n",
            "156/156 [==============================] - 5s 30ms/step - loss: 0.5875 - accuracy: 0.8163 - val_loss: 2.3771 - val_accuracy: 0.5108\n",
            "Epoch 32/50\n",
            "156/156 [==============================] - 5s 29ms/step - loss: 0.5518 - accuracy: 0.8257 - val_loss: 2.6003 - val_accuracy: 0.4972\n",
            "Epoch 33/50\n",
            "156/156 [==============================] - 5s 30ms/step - loss: 0.5345 - accuracy: 0.8318 - val_loss: 2.7343 - val_accuracy: 0.4779\n",
            "Epoch 34/50\n",
            "156/156 [==============================] - 5s 30ms/step - loss: 0.5344 - accuracy: 0.8267 - val_loss: 2.6757 - val_accuracy: 0.5028\n",
            "Epoch 35/50\n",
            "156/156 [==============================] - 5s 30ms/step - loss: 0.5027 - accuracy: 0.8342 - val_loss: 2.4381 - val_accuracy: 0.5341\n",
            "Epoch 36/50\n",
            "156/156 [==============================] - 5s 30ms/step - loss: 0.4892 - accuracy: 0.8442 - val_loss: 2.7576 - val_accuracy: 0.4996\n",
            "Epoch 37/50\n",
            "156/156 [==============================] - 5s 30ms/step - loss: 0.4679 - accuracy: 0.8496 - val_loss: 2.7007 - val_accuracy: 0.5165\n",
            "Epoch 38/50\n",
            "156/156 [==============================] - 5s 30ms/step - loss: 0.4463 - accuracy: 0.8559 - val_loss: 2.6428 - val_accuracy: 0.5012\n",
            "Epoch 39/50\n",
            "156/156 [==============================] - 5s 30ms/step - loss: 0.4527 - accuracy: 0.8524 - val_loss: 2.7743 - val_accuracy: 0.5044\n",
            "Epoch 40/50\n",
            "156/156 [==============================] - 5s 30ms/step - loss: 0.4101 - accuracy: 0.8657 - val_loss: 2.7071 - val_accuracy: 0.5028\n",
            "Epoch 41/50\n",
            "156/156 [==============================] - 5s 30ms/step - loss: 0.4175 - accuracy: 0.8687 - val_loss: 2.5595 - val_accuracy: 0.5261\n",
            "Epoch 42/50\n",
            "156/156 [==============================] - 5s 30ms/step - loss: 0.3959 - accuracy: 0.8777 - val_loss: 2.4264 - val_accuracy: 0.5365\n",
            "Epoch 43/50\n",
            "156/156 [==============================] - 5s 30ms/step - loss: 0.3907 - accuracy: 0.8725 - val_loss: 2.8244 - val_accuracy: 0.5261\n",
            "Epoch 44/50\n",
            "156/156 [==============================] - 5s 30ms/step - loss: 0.3667 - accuracy: 0.8803 - val_loss: 2.5540 - val_accuracy: 0.5357\n",
            "Epoch 45/50\n",
            "156/156 [==============================] - 5s 30ms/step - loss: 0.3598 - accuracy: 0.8872 - val_loss: 2.5678 - val_accuracy: 0.5382\n",
            "Epoch 46/50\n",
            "156/156 [==============================] - 5s 30ms/step - loss: 0.3585 - accuracy: 0.8846 - val_loss: 3.1079 - val_accuracy: 0.5124\n",
            "Epoch 47/50\n",
            "156/156 [==============================] - 5s 30ms/step - loss: 0.3451 - accuracy: 0.8864 - val_loss: 2.6849 - val_accuracy: 0.5390\n",
            "Epoch 48/50\n",
            "156/156 [==============================] - 5s 30ms/step - loss: 0.3383 - accuracy: 0.8904 - val_loss: 2.4899 - val_accuracy: 0.5542\n",
            "Epoch 49/50\n",
            "156/156 [==============================] - 5s 30ms/step - loss: 0.3195 - accuracy: 0.8968 - val_loss: 2.7591 - val_accuracy: 0.5269\n",
            "Epoch 50/50\n",
            "156/156 [==============================] - 5s 30ms/step - loss: 0.2906 - accuracy: 0.9133 - val_loss: 2.6573 - val_accuracy: 0.5398\n"
          ]
        }
      ]
    },
    {
      "cell_type": "code",
      "metadata": {
        "colab": {
          "base_uri": "https://localhost:8080/",
          "height": 499
        },
        "id": "ynhS2KjVEhj8",
        "outputId": "94704f49-5d5f-41ee-e6e6-cc60b096b64b"
      },
      "source": [
        "acc = history.history['accuracy']\n",
        "val_acc = history.history['val_accuracy']\n",
        "\n",
        "loss = history.history['loss']\n",
        "val_loss = history.history['val_loss']\n",
        "\n",
        "epochs_range = range(epochs)\n",
        "\n",
        "plt.figure(figsize=(8, 8))\n",
        "plt.subplot(1, 2, 1)\n",
        "plt.plot(epochs_range, acc, label='Training Accuracy')\n",
        "plt.plot(epochs_range, val_acc, label='Validation Accuracy')\n",
        "plt.legend(loc='lower right')\n",
        "plt.title('Training and Validation Accuracy')\n",
        "\n",
        "plt.subplot(1, 2, 2)\n",
        "plt.plot(epochs_range, loss, label='Training Loss')\n",
        "plt.plot(epochs_range, val_loss, label='Validation Loss')\n",
        "plt.legend(loc='upper right')\n",
        "plt.title('Training and Validation Loss')\n",
        "plt.show()"
      ],
      "execution_count": null,
      "outputs": [
        {
          "output_type": "display_data",
          "data": {
            "image/png": "[encoded data removed]",
            "text/plain": [
              "<Figure size 576x576 with 2 Axes>"
            ]
          },
          "metadata": {
            "needs_background": "light"
          }
        }
      ]
    },
    {
      "cell_type": "code",
      "metadata": {
        "colab": {
          "base_uri": "https://localhost:8080/"
        },
        "id": "IbEQMrsAH2yZ",
        "outputId": "51a397c6-76f7-4d24-b089-c92805db028b"
      },
      "source": [
        "model.compile(\n",
        "    optimizer='adam',\n",
        "    loss=tf.losses.SparseCategoricalCrossentropy(from_logits=True),\n",
        "    metrics=['accuracy'])\n",
        "model.summary()"
      ],
      "execution_count": null,
      "outputs": [
        {
          "output_type": "stream",
          "name": "stdout",
          "text": [
            "Model: \"sequential_2\"\n",
            "_________________________________________________________________\n",
            " Layer (type)                Output Shape              Param #   \n",
            "=================================================================\n",
            " sequential_1 (Sequential)   (None, 180, 180, 1)       0         \n",
            "                                                                 \n",
            " rescaling_2 (Rescaling)     (None, 180, 180, 1)       0         \n",
            "                                                                 \n",
            " conv2d_3 (Conv2D)           (None, 178, 178, 64)      640       \n",
            "                                                                 \n",
            " max_pooling2d_3 (MaxPooling  (None, 89, 89, 64)       0         \n",
            " 2D)                                                             \n",
            "                                                                 \n",
            " conv2d_4 (Conv2D)           (None, 89, 89, 64)        36928     \n",
            "                                                                 \n",
            " max_pooling2d_4 (MaxPooling  (None, 44, 44, 64)       0         \n",
            " 2D)                                                             \n",
            "                                                                 \n",
            " conv2d_5 (Conv2D)           (None, 44, 44, 64)        36928     \n",
            "                                                                 \n",
            " max_pooling2d_5 (MaxPooling  (None, 22, 22, 64)       0         \n",
            " 2D)                                                             \n",
            "                                                                 \n",
            " dropout (Dropout)           (None, 22, 22, 64)        0         \n",
            "                                                                 \n",
            " flatten_1 (Flatten)         (None, 30976)             0         \n",
            "                                                                 \n",
            " dense_3 (Dense)             (None, 128)               3965056   \n",
            "                                                                 \n",
            " batch_normalization_3 (Batc  (None, 128)              512       \n",
            " hNormalization)                                                 \n",
            "                                                                 \n",
            " dense_4 (Dense)             (None, 107)               13803     \n",
            "                                                                 \n",
            " batch_normalization_4 (Batc  (None, 107)              428       \n",
            " hNormalization)                                                 \n",
            "                                                                 \n",
            " dense_5 (Dense)             (None, 107)               11556     \n",
            "                                                                 \n",
            "=================================================================\n",
            "Total params: 4,065,851\n",
            "Trainable params: 4,065,381\n",
            "Non-trainable params: 470\n",
            "_________________________________________________________________\n"
          ]
        }
      ]
    },
    {
      "cell_type": "code",
      "metadata": {
        "id": "df30HUqFjWre"
      },
      "source": [
        ""
      ],
      "execution_count": null,
      "outputs": []
    }
  ]
}