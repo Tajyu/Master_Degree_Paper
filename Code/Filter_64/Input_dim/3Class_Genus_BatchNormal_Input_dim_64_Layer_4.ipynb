{
  "nbformat": 4,
  "nbformat_minor": 0,
  "metadata": {
    "colab": {
      "name": "3Class_Genus_BatchNormal_Input_dim_64_Layer_4.ipynb",
      "provenance": [],
      "collapsed_sections": [],
      "mount_file_id": "16PwJ_2htp9_L1eh9CyL5CS6cri1vh9-l",
      "authorship_tag": "ABX9TyP1iTpaBr1PtNN8Rz3v2YdA",
      "include_colab_link": true
    },
    "kernelspec": {
      "name": "python3",
      "display_name": "Python 3"
    },
    "language_info": {
      "name": "python"
    },
    "accelerator": "GPU"
  },
  "cells": [
    {
      "cell_type": "markdown",
      "metadata": {
        "id": "view-in-github",
        "colab_type": "text"
      },
      "source": [
        "<a href=\"https://colab.research.google.com/github/Tajyu/Master_Degree_Paper/blob/main/Code/Filter_64/Input_dim/3Class_Genus_BatchNormal_Input_dim_64_Layer_4.ipynb\" target=\"_parent\"><img src=\"https://colab.research.google.com/assets/colab-badge.svg\" alt=\"Open In Colab\"/></a>"
      ]
    },
    {
      "cell_type": "code",
      "metadata": {
        "id": "yWckd06_68Em"
      },
      "source": [
        "import tensorflow as tf\n",
        "from tensorflow.keras import datasets, layers, models\n",
        "from keras.preprocessing.image import ImageDataGenerator\n",
        "import numpy as np\n",
        "import matplotlib.pyplot as plt\n",
        "import cv2 as cv\n",
        "import os\n",
        "import pathlib\n",
        "import PIL\n",
        "from tensorflow import keras\n",
        "from tensorflow.keras import layers\n",
        "from tensorflow.keras.models import Sequential\n",
        "from tensorflow.keras.layers import Dense, Flatten, BatchNormalization, Dropout"
      ],
      "execution_count": null,
      "outputs": []
    },
    {
      "cell_type": "code",
      "metadata": {
        "colab": {
          "base_uri": "https://localhost:8080/"
        },
        "id": "oNFapinkqeDN",
        "outputId": "2abf4fb1-018d-4466-d57f-3e14c5fe3352"
      },
      "source": [
        "from google.colab import drive\n",
        "drive.mount('/content/drive')"
      ],
      "execution_count": null,
      "outputs": [
        {
          "output_type": "stream",
          "name": "stdout",
          "text": [
            "Drive already mounted at /content/drive; to attempt to forcibly remount, call drive.mount(\"/content/drive\", force_remount=True).\n"
          ]
        }
      ]
    },
    {
      "cell_type": "code",
      "metadata": {
        "id": "xav9zirHttk_"
      },
      "source": [
        "image_list = os.listdir('/content/drive/MyDrive/Colab Notebooks/Final_Project/Cell_Genus')"
      ],
      "execution_count": null,
      "outputs": []
    },
    {
      "cell_type": "code",
      "metadata": {
        "colab": {
          "base_uri": "https://localhost:8080/"
        },
        "id": "K-wD0dM5tx_E",
        "outputId": "5fd42f0b-f849-4b7b-941f-5108e204d1c3"
      },
      "source": [
        "print(image_list)"
      ],
      "execution_count": null,
      "outputs": [
        {
          "output_type": "stream",
          "name": "stdout",
          "text": [
            "['10_Genus_Stauroneis_Ehrenberg', '10_Genus_Staurosira_Ehrenberg', '11_Genus_Craspedostauros_E.J_Cox_1999', '11_Genus_Staurosirella_Williams_and_Round', '12_Genus_Caloneis_Cleve_1894', '12_Genus_Synedra_Ehrenberg', '13_Genus_Pinnularia_Ehrenberg_1843', '1_Genus_Acanthoceras_Honigmann', '1_Genus_Achnanthes_Bory', '1_Genus_Actinocyclus_Ehrenberg', '1_Genus_Aphanocapsa_Nageli_1849', '1_Genus_Asterionella_Hassall', '1_Genus_Aulacoseira', '1_Genus_Biremis_Mann_et_Cox_in_Round_Crawford_and_Mann', '1_Genus_Characium_A_Braun_in_Kutzing_1849', '1_Genus_Chroococcus_Nageli', '1_Genus_Closterium_Nitzsch_ex_Ralfs_1848', '1_Genus_Coelastrum_Nageli_1849', '1_Genus_Cylindrocystis_Meneghini_ex_de_Bary_1858', '1_Genus_Dictyosphaerium_Nageli_1849', '1_Genus_Docidium_Brebisson_ex_Ralfs_1848', '1_Genus_Eunotia_Ehrenberg', '1_Genus_Geitlerinema_(Anagnostidis_et_Komarek)_Anagnostidis_1989', '1_Genus_Gonatozygon_de_Bary_1856', '1_Genus_Hydrodictyon_Roth_1797', '1_Genus_Hydrosera_whampoensis', '1_Genus_Jaaginema_Anagnostidis_et_Komarek_1988', '1_Genus_Lyngbya_C_Agardh_ex_Gomont_1892', '1_Genus_Melosira_Agardh', '1_Genus_Micractinium_Fresenius_1858', '1_Genus_Micrasterias_Ralfs_1848', '1_Genus_Microcystis_Kutzing_ex_Lemmermann_1907', '1_Genus_Oscillatoria_Vaucher_ex_Gomont_1982', '1_Genus_Pediastrum_Meyen_1829', '1_Genus_Penium_Brebisson_ex_Ralfs_in_Ralfs_1848', '1_Genus_Phormidium_Kutzing_ex_Gomont_1892', '1_Genus_Planktothrix_Anagnostidis_et_Komarek_1988', '1_Genus_Pleurosira_laevis_(Ehrenberg)', '1_Genus_Rhizosolenia_Ehrenberg', '1_Genus_Schizochlamydella_Korshikov_1953', '1_Genus_Staurodesmus_Teiling_1848', '1_Genus_Trochiscia_Kutzing_1834', '1_Scenedesmus_Hegewald_1978', '2_Acutodesmus_Hegewald_1978', '2_Genus_Achnanthidium_Kutzing', '2_Genus_Actinastrum_Lagerheim_1882', '2_Genus_Actinella_Lewis', '2_Genus_Ankyra_Fott_1957', '2_Genus_Caloneis_Cleve', '2_Genus_Chaetoceros_Ehrenberg', '2_Genus_Coenochloris_Korshikov_1953', '2_Genus_Cyclotella', '2_Genus_Diatoma_Bory', '2_Genus_Dimorphococcus_A_Braun_1855', '2_Genus_Golenkinia_Chodat_1894', '2_Genus_Haplotaenium_Bando_1988', '2_Genus_Leibleinia_(Gomont)_L_Hoffman_1985', '2_Genus_Leptolyngbya_Anagnostidis_et_Komarek_1988', '2_Genus_Merismopedia_Meyen_1839', '2_Genus_Netrium_(Nageli)_Itzigsohn_et_Rothe_in_Rabenhorst_1856', '2_Genus_Orthoseira_Thwaites_1848', '2_Genus_Phormidium_Kutzing_ex_Gomont_1892', '2_Genus_Sorastrum_Kutzing_1845', '2_Genus_Staurastrum_Meyen_ex_Ralfs_1848', '3_Desmodesmus_Chodat_1926', '3_Genus_Acanthosphaera_Lemmerman_1899', '3_Genus_Anorthoneis_Grunow', '3_Genus_Cyclostephanos_Round', '3_Genus_Dichotomococcus_Korshikov_1928', '3_Genus_Heteroleibleinia_(Geitler)_L_Hoffmann_1985', '3_Genus_Limnothrix_Meffert_1988', '3_Genus_Meridion_Agardh', '3_Genus_Paradoxia_Svirenko_1928', '3_Genus_Peronia_Bebisson_and_Arnott_ex_Kitton', '3_Genus_Phormidiochaete_Komarek_in_Anagnostidis_2001', '3_Genus_Pinnularia_Ehrenberg_1', '3_Genus_Pleurotaenium_Nageli_1849', '3_Genus_Radiococcus_Schmidle_1902', '3_Genus_Snowella_Elenkin_1938', '3_Genus_Spirotaenia_Brebisson_in_Ralfs_1848', '4_Genus_Botryococcus_Kutzing_1849', '4_Genus_Cocconeis_Ehrenberg', '4_Genus_Eutetramorus_Walton_1918', '4_Genus_Leptolyngbya_Anagnostidis_et_Komarek_1988', '4_Genus_Opephora_Petit', '4_Genus_Pinnularia_Ehrenberg_2', '4_Genus_Schroederia_Lemmermann_1898', '4_Genus_Stephanodiscus_Ehrenberg', '4_Genus_Synechocystis_Sauvageau_1892', '4_Genus_Tortitaenia_A_J_Brook_1998', '5_Genus_Caloneis_Cleve', '5_Genus_Coenocystis_Korshikov_1953', '5_Genus_Planktolyngbya_Anagnostidis_et_Komarek_1988', '5_Genus_Tabellaria_Ehrenberg', '5_Genus_Thalassiosira_Cleve', '5_Genus_Woronichinia_Elenkin_1933', '6_Genus_Anomoeoneis_Pfitzer', '6_Genus_Fragilaria_Lyngbye', '6_Genus_Gloeocystis_Nageli_1849', '6_Genus_Pseudanabaena_Lauterborn_1915', '6_Genus_Skeletonema_Greville', '7_Genus_Caloneis_Cleve', '7_Genus_Hannaea_Patrick', '8_Genus_Diploneis(Ehrenberg)_Cleve', '8_Genus_Pseudostaurosira_Williams_and_Round', '9_Genus_Neidium_Pfitzer', '9_Genus_Punctastriata_Williams_and_Round']\n"
          ]
        }
      ]
    },
    {
      "cell_type": "code",
      "metadata": {
        "id": "o-0DvzEHt8VE"
      },
      "source": [
        "data_generator = ImageDataGenerator(rescale = 1./255)\n",
        "\n",
        "data_dir = \"/content/drive/MyDrive/Colab Notebooks/Final_Project/Cell_Genus\""
      ],
      "execution_count": null,
      "outputs": []
    },
    {
      "cell_type": "code",
      "metadata": {
        "id": "7aTCfEm3t10n"
      },
      "source": [
        "batch_size = 32\n",
        "img_height = 180\n",
        "img_width = 180"
      ],
      "execution_count": null,
      "outputs": []
    },
    {
      "cell_type": "code",
      "metadata": {
        "colab": {
          "base_uri": "https://localhost:8080/"
        },
        "id": "9Smg-miEt22s",
        "outputId": "3d1a7f77-a63f-4548-cf4b-2c302bc6ee0b"
      },
      "source": [
        "train_ds = tf.keras.preprocessing.image_dataset_from_directory(\n",
        "  data_dir,\n",
        "  color_mode = \"grayscale\",\n",
        "  validation_split=0.2,\n",
        "  subset=\"training\",\n",
        "  seed=123,\n",
        "  image_size=(img_height, img_width),\n",
        "  batch_size=batch_size)"
      ],
      "execution_count": null,
      "outputs": [
        {
          "output_type": "stream",
          "name": "stdout",
          "text": [
            "Found 6226 files belonging to 107 classes.\n",
            "Using 4981 files for training.\n"
          ]
        }
      ]
    },
    {
      "cell_type": "code",
      "metadata": {
        "colab": {
          "base_uri": "https://localhost:8080/"
        },
        "id": "1nR0WdQGt44x",
        "outputId": "7c65a663-8782-4c73-9c7f-c8163e503de2"
      },
      "source": [
        "val_ds = tf.keras.preprocessing.image_dataset_from_directory(\n",
        "  data_dir,\n",
        "  color_mode = \"grayscale\",\n",
        "  validation_split=0.2,\n",
        "  subset=\"validation\",\n",
        "  seed=123,\n",
        "  image_size=(img_height, img_width),\n",
        "  batch_size=batch_size)"
      ],
      "execution_count": null,
      "outputs": [
        {
          "output_type": "stream",
          "name": "stdout",
          "text": [
            "Found 6226 files belonging to 107 classes.\n",
            "Using 1245 files for validation.\n"
          ]
        }
      ]
    },
    {
      "cell_type": "code",
      "metadata": {
        "colab": {
          "base_uri": "https://localhost:8080/"
        },
        "id": "F-cz_CtGug8Y",
        "outputId": "1e36b73e-0f7e-4598-f325-f3e4665a0cb8"
      },
      "source": [
        "class_names = train_ds.class_names\n",
        "print(class_names)"
      ],
      "execution_count": null,
      "outputs": [
        {
          "output_type": "stream",
          "name": "stdout",
          "text": [
            "['10_Genus_Stauroneis_Ehrenberg', '10_Genus_Staurosira_Ehrenberg', '11_Genus_Craspedostauros_E.J_Cox_1999', '11_Genus_Staurosirella_Williams_and_Round', '12_Genus_Caloneis_Cleve_1894', '12_Genus_Synedra_Ehrenberg', '13_Genus_Pinnularia_Ehrenberg_1843', '1_Genus_Acanthoceras_Honigmann', '1_Genus_Achnanthes_Bory', '1_Genus_Actinocyclus_Ehrenberg', '1_Genus_Aphanocapsa_Nageli_1849', '1_Genus_Asterionella_Hassall', '1_Genus_Aulacoseira', '1_Genus_Biremis_Mann_et_Cox_in_Round_Crawford_and_Mann', '1_Genus_Characium_A_Braun_in_Kutzing_1849', '1_Genus_Chroococcus_Nageli', '1_Genus_Closterium_Nitzsch_ex_Ralfs_1848', '1_Genus_Coelastrum_Nageli_1849', '1_Genus_Cylindrocystis_Meneghini_ex_de_Bary_1858', '1_Genus_Dictyosphaerium_Nageli_1849', '1_Genus_Docidium_Brebisson_ex_Ralfs_1848', '1_Genus_Eunotia_Ehrenberg', '1_Genus_Geitlerinema_(Anagnostidis_et_Komarek)_Anagnostidis_1989', '1_Genus_Gonatozygon_de_Bary_1856', '1_Genus_Hydrodictyon_Roth_1797', '1_Genus_Hydrosera_whampoensis', '1_Genus_Jaaginema_Anagnostidis_et_Komarek_1988', '1_Genus_Lyngbya_C_Agardh_ex_Gomont_1892', '1_Genus_Melosira_Agardh', '1_Genus_Micractinium_Fresenius_1858', '1_Genus_Micrasterias_Ralfs_1848', '1_Genus_Microcystis_Kutzing_ex_Lemmermann_1907', '1_Genus_Oscillatoria_Vaucher_ex_Gomont_1982', '1_Genus_Pediastrum_Meyen_1829', '1_Genus_Penium_Brebisson_ex_Ralfs_in_Ralfs_1848', '1_Genus_Phormidium_Kutzing_ex_Gomont_1892', '1_Genus_Planktothrix_Anagnostidis_et_Komarek_1988', '1_Genus_Pleurosira_laevis_(Ehrenberg)', '1_Genus_Rhizosolenia_Ehrenberg', '1_Genus_Schizochlamydella_Korshikov_1953', '1_Genus_Staurodesmus_Teiling_1848', '1_Genus_Trochiscia_Kutzing_1834', '1_Scenedesmus_Hegewald_1978', '2_Acutodesmus_Hegewald_1978', '2_Genus_Achnanthidium_Kutzing', '2_Genus_Actinastrum_Lagerheim_1882', '2_Genus_Actinella_Lewis', '2_Genus_Ankyra_Fott_1957', '2_Genus_Caloneis_Cleve', '2_Genus_Chaetoceros_Ehrenberg', '2_Genus_Coenochloris_Korshikov_1953', '2_Genus_Cyclotella', '2_Genus_Diatoma_Bory', '2_Genus_Dimorphococcus_A_Braun_1855', '2_Genus_Golenkinia_Chodat_1894', '2_Genus_Haplotaenium_Bando_1988', '2_Genus_Leibleinia_(Gomont)_L_Hoffman_1985', '2_Genus_Leptolyngbya_Anagnostidis_et_Komarek_1988', '2_Genus_Merismopedia_Meyen_1839', '2_Genus_Netrium_(Nageli)_Itzigsohn_et_Rothe_in_Rabenhorst_1856', '2_Genus_Orthoseira_Thwaites_1848', '2_Genus_Phormidium_Kutzing_ex_Gomont_1892', '2_Genus_Sorastrum_Kutzing_1845', '2_Genus_Staurastrum_Meyen_ex_Ralfs_1848', '3_Desmodesmus_Chodat_1926', '3_Genus_Acanthosphaera_Lemmerman_1899', '3_Genus_Anorthoneis_Grunow', '3_Genus_Cyclostephanos_Round', '3_Genus_Dichotomococcus_Korshikov_1928', '3_Genus_Heteroleibleinia_(Geitler)_L_Hoffmann_1985', '3_Genus_Limnothrix_Meffert_1988', '3_Genus_Meridion_Agardh', '3_Genus_Paradoxia_Svirenko_1928', '3_Genus_Peronia_Bebisson_and_Arnott_ex_Kitton', '3_Genus_Phormidiochaete_Komarek_in_Anagnostidis_2001', '3_Genus_Pinnularia_Ehrenberg_1', '3_Genus_Pleurotaenium_Nageli_1849', '3_Genus_Radiococcus_Schmidle_1902', '3_Genus_Snowella_Elenkin_1938', '3_Genus_Spirotaenia_Brebisson_in_Ralfs_1848', '4_Genus_Botryococcus_Kutzing_1849', '4_Genus_Cocconeis_Ehrenberg', '4_Genus_Eutetramorus_Walton_1918', '4_Genus_Leptolyngbya_Anagnostidis_et_Komarek_1988', '4_Genus_Opephora_Petit', '4_Genus_Pinnularia_Ehrenberg_2', '4_Genus_Schroederia_Lemmermann_1898', '4_Genus_Stephanodiscus_Ehrenberg', '4_Genus_Synechocystis_Sauvageau_1892', '4_Genus_Tortitaenia_A_J_Brook_1998', '5_Genus_Caloneis_Cleve', '5_Genus_Coenocystis_Korshikov_1953', '5_Genus_Planktolyngbya_Anagnostidis_et_Komarek_1988', '5_Genus_Tabellaria_Ehrenberg', '5_Genus_Thalassiosira_Cleve', '5_Genus_Woronichinia_Elenkin_1933', '6_Genus_Anomoeoneis_Pfitzer', '6_Genus_Fragilaria_Lyngbye', '6_Genus_Gloeocystis_Nageli_1849', '6_Genus_Pseudanabaena_Lauterborn_1915', '6_Genus_Skeletonema_Greville', '7_Genus_Caloneis_Cleve', '7_Genus_Hannaea_Patrick', '8_Genus_Diploneis(Ehrenberg)_Cleve', '8_Genus_Pseudostaurosira_Williams_and_Round', '9_Genus_Neidium_Pfitzer', '9_Genus_Punctastriata_Williams_and_Round']\n"
          ]
        }
      ]
    },
    {
      "cell_type": "code",
      "metadata": {
        "colab": {
          "base_uri": "https://localhost:8080/"
        },
        "id": "5EQOikPAukic",
        "outputId": "79ed8a3c-f971-4a04-b8cb-c7e47a367390"
      },
      "source": [
        "for image_batch, labels_batch in train_ds:\n",
        "  print(image_batch.shape)\n",
        "  print(labels_batch.shape)\n",
        "  break"
      ],
      "execution_count": null,
      "outputs": [
        {
          "output_type": "stream",
          "name": "stdout",
          "text": [
            "(32, 180, 180, 1)\n",
            "(32,)\n"
          ]
        }
      ]
    },
    {
      "cell_type": "code",
      "metadata": {
        "id": "9eVl7tiDux9q"
      },
      "source": [
        "from tensorflow.keras import layers\n",
        "\n",
        "normalization_layer = tf.keras.layers.experimental.preprocessing.Rescaling(1./255)"
      ],
      "execution_count": null,
      "outputs": []
    },
    {
      "cell_type": "code",
      "metadata": {
        "colab": {
          "base_uri": "https://localhost:8080/"
        },
        "id": "AiIrsxzZuzEo",
        "outputId": "ad79be73-802d-469c-a9d7-2d56628b6f2d"
      },
      "source": [
        "normalized_ds = train_ds.map(lambda x, y: (normalization_layer(x), y))\n",
        "image_batch, labels_batch = next(iter(normalized_ds))\n",
        "first_image = image_batch[0]\n",
        "# Notice the pixels values are now in `[0,1]`.\n",
        "print(np.min(first_image), np.max(first_image))"
      ],
      "execution_count": null,
      "outputs": [
        {
          "output_type": "stream",
          "name": "stdout",
          "text": [
            "0.0 1.0\n"
          ]
        }
      ]
    },
    {
      "cell_type": "code",
      "metadata": {
        "id": "__WbVabru0Bp"
      },
      "source": [
        "AUTOTUNE = tf.data.experimental.AUTOTUNE\n",
        "\n",
        "train_ds = train_ds.cache().prefetch(buffer_size=AUTOTUNE)\n",
        "val_ds = val_ds.cache().prefetch(buffer_size=AUTOTUNE)"
      ],
      "execution_count": null,
      "outputs": []
    },
    {
      "cell_type": "code",
      "metadata": {
        "id": "g1GeYFXCu2gV"
      },
      "source": [
        "num_classes = 107\n",
        "model = tf.keras.Sequential([\n",
        "    layers.experimental.preprocessing.Rescaling(1./255),\n",
        "    layers.Conv2D(64, 3,input_shape = image_batch, activation='relu'),\n",
        "    layers.MaxPooling2D(),\n",
        "    layers.Conv2D(64, 3, activation='relu'),\n",
        "    layers.MaxPooling2D(),\n",
        "    layers.Conv2D(64, 3, activation='relu'),\n",
        "    layers.MaxPooling2D(),\n",
        "    layers.Flatten(),\n",
        "    BatchNormalization(),\n",
        "    layers.Dense(128, input_dim = 107, activation='relu'),\n",
        "    BatchNormalization(),\n",
        "    layers.Dense(128, activation='relu'),\n",
        "    BatchNormalization(),\n",
        "    layers.Dense(128, activation='relu'),\n",
        "    BatchNormalization(),\n",
        "    layers.Dense(107, activation='softmax'),\n",
        "    BatchNormalization(),\n",
        "    layers.Dense(num_classes)\n",
        "    ])"
      ],
      "execution_count": null,
      "outputs": []
    },
    {
      "cell_type": "code",
      "metadata": {
        "id": "wU4xPAvNYWry"
      },
      "source": [
        "model.compile(\n",
        "    optimizer='adam',\n",
        "    loss=tf.losses.SparseCategoricalCrossentropy(from_logits=True),\n",
        "    metrics=['accuracy'])"
      ],
      "execution_count": null,
      "outputs": []
    },
    {
      "cell_type": "code",
      "metadata": {
        "colab": {
          "base_uri": "https://localhost:8080/"
        },
        "id": "Tk8ssrbHu44p",
        "outputId": "7c395ae4-43b1-42cc-e031-8cd294fc67e3"
      },
      "source": [
        "epochs=50\n",
        "history = model.fit(\n",
        "  train_ds,\n",
        "  validation_data=val_ds,\n",
        "  epochs=epochs\n",
        ")"
      ],
      "execution_count": null,
      "outputs": [
        {
          "output_type": "stream",
          "name": "stdout",
          "text": [
            "Epoch 1/50\n",
            "156/156 [==============================] - 974s 6s/step - loss: 3.3920 - accuracy: 0.2833 - val_loss: 4.2105 - val_accuracy: 0.1438\n",
            "Epoch 2/50\n",
            "156/156 [==============================] - 4s 27ms/step - loss: 2.2501 - accuracy: 0.4232 - val_loss: 3.6054 - val_accuracy: 0.3502\n",
            "Epoch 3/50\n",
            "156/156 [==============================] - 4s 27ms/step - loss: 1.6635 - accuracy: 0.5559 - val_loss: 2.9598 - val_accuracy: 0.3823\n",
            "Epoch 4/50\n",
            "156/156 [==============================] - 4s 27ms/step - loss: 1.2119 - accuracy: 0.6834 - val_loss: 2.5159 - val_accuracy: 0.3751\n",
            "Epoch 5/50\n",
            "156/156 [==============================] - 4s 27ms/step - loss: 0.8971 - accuracy: 0.7709 - val_loss: 2.3373 - val_accuracy: 0.4369\n",
            "Epoch 6/50\n",
            "156/156 [==============================] - 4s 27ms/step - loss: 0.6212 - accuracy: 0.8454 - val_loss: 2.2080 - val_accuracy: 0.4755\n",
            "Epoch 7/50\n",
            "156/156 [==============================] - 4s 27ms/step - loss: 0.4333 - accuracy: 0.8964 - val_loss: 2.5305 - val_accuracy: 0.4683\n",
            "Epoch 8/50\n",
            "156/156 [==============================] - 4s 27ms/step - loss: 0.2995 - accuracy: 0.9386 - val_loss: 2.5603 - val_accuracy: 0.4490\n",
            "Epoch 9/50\n",
            "156/156 [==============================] - 4s 27ms/step - loss: 0.2046 - accuracy: 0.9582 - val_loss: 2.4402 - val_accuracy: 0.4972\n",
            "Epoch 10/50\n",
            "156/156 [==============================] - 4s 27ms/step - loss: 0.1395 - accuracy: 0.9755 - val_loss: 2.3977 - val_accuracy: 0.5100\n",
            "Epoch 11/50\n",
            "156/156 [==============================] - 4s 27ms/step - loss: 0.0906 - accuracy: 0.9872 - val_loss: 2.2600 - val_accuracy: 0.5430\n",
            "Epoch 12/50\n",
            "156/156 [==============================] - 4s 27ms/step - loss: 0.0589 - accuracy: 0.9924 - val_loss: 2.3468 - val_accuracy: 0.5301\n",
            "Epoch 13/50\n",
            "156/156 [==============================] - 4s 27ms/step - loss: 0.0364 - accuracy: 0.9968 - val_loss: 2.2720 - val_accuracy: 0.5382\n",
            "Epoch 14/50\n",
            "156/156 [==============================] - 4s 27ms/step - loss: 0.0229 - accuracy: 0.9984 - val_loss: 2.3384 - val_accuracy: 0.5406\n",
            "Epoch 15/50\n",
            "156/156 [==============================] - 4s 27ms/step - loss: 0.0151 - accuracy: 0.9994 - val_loss: 2.3412 - val_accuracy: 0.5446\n",
            "Epoch 16/50\n",
            "156/156 [==============================] - 4s 27ms/step - loss: 0.0107 - accuracy: 0.9998 - val_loss: 2.3885 - val_accuracy: 0.5446\n",
            "Epoch 17/50\n",
            "156/156 [==============================] - 4s 27ms/step - loss: 0.0076 - accuracy: 0.9998 - val_loss: 2.4282 - val_accuracy: 0.5390\n",
            "Epoch 18/50\n",
            "156/156 [==============================] - 4s 27ms/step - loss: 0.0063 - accuracy: 1.0000 - val_loss: 2.4672 - val_accuracy: 0.5414\n",
            "Epoch 19/50\n",
            "156/156 [==============================] - 4s 27ms/step - loss: 0.0054 - accuracy: 0.9998 - val_loss: 2.5041 - val_accuracy: 0.5373\n",
            "Epoch 20/50\n",
            "156/156 [==============================] - 4s 27ms/step - loss: 0.0045 - accuracy: 1.0000 - val_loss: 2.5339 - val_accuracy: 0.5446\n",
            "Epoch 21/50\n",
            "156/156 [==============================] - 4s 27ms/step - loss: 0.0037 - accuracy: 1.0000 - val_loss: 2.5624 - val_accuracy: 0.5414\n",
            "Epoch 22/50\n",
            "156/156 [==============================] - 4s 27ms/step - loss: 0.0031 - accuracy: 1.0000 - val_loss: 2.5918 - val_accuracy: 0.5398\n",
            "Epoch 23/50\n",
            "156/156 [==============================] - 4s 27ms/step - loss: 0.0027 - accuracy: 1.0000 - val_loss: 2.6212 - val_accuracy: 0.5398\n",
            "Epoch 24/50\n",
            "156/156 [==============================] - 4s 27ms/step - loss: 0.0023 - accuracy: 1.0000 - val_loss: 2.6479 - val_accuracy: 0.5390\n",
            "Epoch 25/50\n",
            "156/156 [==============================] - 4s 27ms/step - loss: 0.0021 - accuracy: 1.0000 - val_loss: 2.6763 - val_accuracy: 0.5382\n",
            "Epoch 26/50\n",
            "156/156 [==============================] - 4s 27ms/step - loss: 0.0018 - accuracy: 1.0000 - val_loss: 2.7029 - val_accuracy: 0.5390\n",
            "Epoch 27/50\n",
            "156/156 [==============================] - 4s 27ms/step - loss: 0.0016 - accuracy: 1.0000 - val_loss: 2.7302 - val_accuracy: 0.5382\n",
            "Epoch 28/50\n",
            "156/156 [==============================] - 4s 27ms/step - loss: 0.0015 - accuracy: 1.0000 - val_loss: 2.7559 - val_accuracy: 0.5373\n",
            "Epoch 29/50\n",
            "156/156 [==============================] - 4s 27ms/step - loss: 0.0013 - accuracy: 1.0000 - val_loss: 2.7817 - val_accuracy: 0.5382\n",
            "Epoch 30/50\n",
            "156/156 [==============================] - 4s 27ms/step - loss: 0.0012 - accuracy: 1.0000 - val_loss: 2.8071 - val_accuracy: 0.5382\n",
            "Epoch 31/50\n",
            "156/156 [==============================] - 4s 27ms/step - loss: 0.0011 - accuracy: 1.0000 - val_loss: 2.8319 - val_accuracy: 0.5365\n",
            "Epoch 32/50\n",
            "156/156 [==============================] - 4s 27ms/step - loss: 9.4745e-04 - accuracy: 1.0000 - val_loss: 2.8562 - val_accuracy: 0.5373\n",
            "Epoch 33/50\n",
            "156/156 [==============================] - 4s 27ms/step - loss: 8.5535e-04 - accuracy: 1.0000 - val_loss: 2.8801 - val_accuracy: 0.5357\n",
            "Epoch 34/50\n",
            "156/156 [==============================] - 4s 27ms/step - loss: 7.7323e-04 - accuracy: 1.0000 - val_loss: 2.9037 - val_accuracy: 0.5357\n",
            "Epoch 35/50\n",
            "156/156 [==============================] - 4s 27ms/step - loss: 6.9989e-04 - accuracy: 1.0000 - val_loss: 2.9279 - val_accuracy: 0.5349\n",
            "Epoch 36/50\n",
            "156/156 [==============================] - 4s 27ms/step - loss: 6.3419e-04 - accuracy: 1.0000 - val_loss: 2.9510 - val_accuracy: 0.5349\n",
            "Epoch 37/50\n",
            "156/156 [==============================] - 4s 27ms/step - loss: 5.7529e-04 - accuracy: 1.0000 - val_loss: 2.9743 - val_accuracy: 0.5333\n",
            "Epoch 38/50\n",
            "156/156 [==============================] - 4s 27ms/step - loss: 5.2234e-04 - accuracy: 1.0000 - val_loss: 2.9975 - val_accuracy: 0.5333\n",
            "Epoch 39/50\n",
            "156/156 [==============================] - 4s 27ms/step - loss: 4.7465e-04 - accuracy: 1.0000 - val_loss: 3.0206 - val_accuracy: 0.5325\n",
            "Epoch 40/50\n",
            "156/156 [==============================] - 4s 27ms/step - loss: 4.3164e-04 - accuracy: 1.0000 - val_loss: 3.0432 - val_accuracy: 0.5317\n",
            "Epoch 41/50\n",
            "156/156 [==============================] - 4s 27ms/step - loss: 3.9273e-04 - accuracy: 1.0000 - val_loss: 3.0664 - val_accuracy: 0.5317\n",
            "Epoch 42/50\n",
            "156/156 [==============================] - 4s 27ms/step - loss: 3.5754e-04 - accuracy: 1.0000 - val_loss: 3.0896 - val_accuracy: 0.5317\n",
            "Epoch 43/50\n",
            "156/156 [==============================] - 4s 27ms/step - loss: 3.2570e-04 - accuracy: 1.0000 - val_loss: 3.1124 - val_accuracy: 0.5309\n",
            "Epoch 44/50\n",
            "156/156 [==============================] - 4s 27ms/step - loss: 2.9683e-04 - accuracy: 1.0000 - val_loss: 3.1354 - val_accuracy: 0.5309\n",
            "Epoch 45/50\n",
            "156/156 [==============================] - 4s 27ms/step - loss: 2.7063e-04 - accuracy: 1.0000 - val_loss: 3.1579 - val_accuracy: 0.5317\n",
            "Epoch 46/50\n",
            "156/156 [==============================] - 4s 27ms/step - loss: 2.4688e-04 - accuracy: 1.0000 - val_loss: 3.1812 - val_accuracy: 0.5301\n",
            "Epoch 47/50\n",
            "156/156 [==============================] - 4s 27ms/step - loss: 2.2533e-04 - accuracy: 1.0000 - val_loss: 3.2031 - val_accuracy: 0.5293\n",
            "Epoch 48/50\n",
            "156/156 [==============================] - 4s 27ms/step - loss: 2.0578e-04 - accuracy: 1.0000 - val_loss: 3.2274 - val_accuracy: 0.5285\n",
            "Epoch 49/50\n",
            "156/156 [==============================] - 4s 27ms/step - loss: 1.8820e-04 - accuracy: 1.0000 - val_loss: 3.2471 - val_accuracy: 0.5293\n",
            "Epoch 50/50\n",
            "156/156 [==============================] - 4s 27ms/step - loss: 1.7468e-04 - accuracy: 1.0000 - val_loss: 3.2790 - val_accuracy: 0.5301\n"
          ]
        }
      ]
    },
    {
      "cell_type": "code",
      "metadata": {
        "colab": {
          "base_uri": "https://localhost:8080/",
          "height": 499
        },
        "id": "f1z_vHocu59c",
        "outputId": "fe6a4662-e6f7-42de-cafd-0956fd2b19df"
      },
      "source": [
        "acc = history.history['accuracy']\n",
        "val_acc = history.history['val_accuracy']\n",
        "\n",
        "loss=history.history['loss']\n",
        "val_loss=history.history['val_loss']\n",
        "\n",
        "epochs_range = range(epochs)\n",
        "\n",
        "plt.figure(figsize=(8, 8))\n",
        "plt.subplot(1, 2, 1)\n",
        "plt.plot(epochs_range, acc, label='Training Accuracy')\n",
        "plt.plot(epochs_range, val_acc, label='Validation Accuracy')\n",
        "plt.legend(loc='lower right')\n",
        "plt.title('Training and Validation Accuracy')\n",
        "\n",
        "plt.subplot(1, 2, 2)\n",
        "plt.plot(epochs_range, loss, label='Training Loss')\n",
        "plt.plot(epochs_range, val_loss, label='Validation Loss')\n",
        "plt.legend(loc='upper right')\n",
        "plt.title('Training and Validation Loss')\n",
        "plt.show()"
      ],
      "execution_count": null,
      "outputs": [
        {
          "output_type": "display_data",
          "data": {
            "image/png": "[encoded data removed]",
            "text/plain": [
              "<Figure size 576x576 with 2 Axes>"
            ]
          },
          "metadata": {
            "needs_background": "light"
          }
        }
      ]
    },
    {
      "cell_type": "code",
      "metadata": {
        "id": "XinJ6xXD9YNO"
      },
      "source": [
        "data_augmentation = keras.Sequential(\n",
        "  [\n",
        "    layers.experimental.preprocessing.RandomFlip(\"horizontal\", \n",
        "                                                 input_shape=(img_height, \n",
        "                                                              img_width,\n",
        "                                                              1)),\n",
        "    layers.experimental.preprocessing.RandomRotation(0.1),\n",
        "    layers.experimental.preprocessing.RandomZoom(0.1),\n",
        "  ]\n",
        ")"
      ],
      "execution_count": null,
      "outputs": []
    },
    {
      "cell_type": "code",
      "metadata": {
        "id": "8WT2BYElEYZj"
      },
      "source": [
        "model = Sequential([\n",
        "  data_augmentation,\n",
        "  layers.experimental.preprocessing.Rescaling(1./255),\n",
        "  layers.Conv2D(64, 3,input_shape = image_batch, activation='relu'),\n",
        "  layers.MaxPooling2D(),\n",
        "  layers.Conv2D(64, 3, padding='same', activation='relu'),\n",
        "  layers.MaxPooling2D(),\n",
        "  layers.Conv2D(64, 3, padding='same', activation='relu'),\n",
        "  layers.MaxPooling2D(),\n",
        "  layers.Dropout(0.2),\n",
        "  layers.Flatten(),\n",
        "  layers.Dense(128, input_dim = 107, activation='relu'),\n",
        "  BatchNormalization(),\n",
        "  layers.Dense(128, activation='relu'),\n",
        "  BatchNormalization(),\n",
        "  layers.Dense(128, activation='relu'),\n",
        "  BatchNormalization(),\n",
        "  layers.Dense(107, activation='softmax'),\n",
        "  BatchNormalization(),\n",
        "  layers.Dense(num_classes)\n",
        "])"
      ],
      "execution_count": null,
      "outputs": []
    },
    {
      "cell_type": "code",
      "metadata": {
        "id": "opOHP3auEdsw",
        "colab": {
          "base_uri": "https://localhost:8080/"
        },
        "outputId": "91905a95-e8f5-4045-d045-40def0ec3cac"
      },
      "source": [
        "BatchNormalization(),model.compile(\n",
        "    optimizer='adam',\n",
        "    loss=tf.losses.SparseCategoricalCrossentropy(from_logits=True),\n",
        "    metrics=['accuracy'])"
      ],
      "execution_count": null,
      "outputs": [
        {
          "output_type": "execute_result",
          "data": {
            "text/plain": [
              "(<keras.layers.normalization.batch_normalization.BatchNormalization at 0x7f3d3a4dcf10>,\n",
              " None)"
            ]
          },
          "metadata": {},
          "execution_count": 20
        }
      ]
    },
    {
      "cell_type": "code",
      "metadata": {
        "colab": {
          "base_uri": "https://localhost:8080/"
        },
        "id": "3Ay4tlHlEfBX",
        "outputId": "e9ccc749-edb5-4f7f-c89f-800ce8f5afd7"
      },
      "source": [
        "model.summary()"
      ],
      "execution_count": null,
      "outputs": [
        {
          "output_type": "stream",
          "name": "stdout",
          "text": [
            "Model: \"sequential_2\"\n",
            "_________________________________________________________________\n",
            " Layer (type)                Output Shape              Param #   \n",
            "=================================================================\n",
            " sequential_1 (Sequential)   (None, 180, 180, 1)       0         \n",
            "                                                                 \n",
            " rescaling_2 (Rescaling)     (None, 180, 180, 1)       0         \n",
            "                                                                 \n",
            " conv2d_3 (Conv2D)           (None, 178, 178, 64)      640       \n",
            "                                                                 \n",
            " max_pooling2d_3 (MaxPooling  (None, 89, 89, 64)       0         \n",
            " 2D)                                                             \n",
            "                                                                 \n",
            " conv2d_4 (Conv2D)           (None, 89, 89, 64)        36928     \n",
            "                                                                 \n",
            " max_pooling2d_4 (MaxPooling  (None, 44, 44, 64)       0         \n",
            " 2D)                                                             \n",
            "                                                                 \n",
            " conv2d_5 (Conv2D)           (None, 44, 44, 64)        36928     \n",
            "                                                                 \n",
            " max_pooling2d_5 (MaxPooling  (None, 22, 22, 64)       0         \n",
            " 2D)                                                             \n",
            "                                                                 \n",
            " dropout (Dropout)           (None, 22, 22, 64)        0         \n",
            "                                                                 \n",
            " flatten_1 (Flatten)         (None, 30976)             0         \n",
            "                                                                 \n",
            " dense_5 (Dense)             (None, 128)               3965056   \n",
            "                                                                 \n",
            " batch_normalization_5 (Batc  (None, 128)              512       \n",
            " hNormalization)                                                 \n",
            "                                                                 \n",
            " dense_6 (Dense)             (None, 128)               16512     \n",
            "                                                                 \n",
            " batch_normalization_6 (Batc  (None, 128)              512       \n",
            " hNormalization)                                                 \n",
            "                                                                 \n",
            " dense_7 (Dense)             (None, 128)               16512     \n",
            "                                                                 \n",
            " batch_normalization_7 (Batc  (None, 128)              512       \n",
            " hNormalization)                                                 \n",
            "                                                                 \n",
            " dense_8 (Dense)             (None, 107)               13803     \n",
            "                                                                 \n",
            " batch_normalization_8 (Batc  (None, 107)              428       \n",
            " hNormalization)                                                 \n",
            "                                                                 \n",
            " dense_9 (Dense)             (None, 107)               11556     \n",
            "                                                                 \n",
            "=================================================================\n",
            "Total params: 4,099,899\n",
            "Trainable params: 4,098,917\n",
            "Non-trainable params: 982\n",
            "_________________________________________________________________\n"
          ]
        }
      ]
    },
    {
      "cell_type": "code",
      "metadata": {
        "colab": {
          "base_uri": "https://localhost:8080/"
        },
        "id": "Jc8rD_v9Ef41",
        "outputId": "8a161ea6-9ca0-4fbf-a4aa-f0fa1ebd72bc"
      },
      "source": [
        "epochs = 50\n",
        "history = model.fit(\n",
        "  train_ds,\n",
        "  validation_data=val_ds,\n",
        "  epochs=epochs\n",
        ")"
      ],
      "execution_count": null,
      "outputs": [
        {
          "output_type": "stream",
          "name": "stdout",
          "text": [
            "Epoch 1/50\n",
            "156/156 [==============================] - 7s 32ms/step - loss: 3.6330 - accuracy: 0.2196 - val_loss: 4.1963 - val_accuracy: 0.1285\n",
            "Epoch 2/50\n",
            "156/156 [==============================] - 5s 29ms/step - loss: 2.6762 - accuracy: 0.3184 - val_loss: 3.6418 - val_accuracy: 0.2345\n",
            "Epoch 3/50\n",
            "156/156 [==============================] - 5s 29ms/step - loss: 2.3515 - accuracy: 0.3766 - val_loss: 3.1749 - val_accuracy: 0.2586\n",
            "Epoch 4/50\n",
            "156/156 [==============================] - 5s 29ms/step - loss: 2.1727 - accuracy: 0.4035 - val_loss: 2.5652 - val_accuracy: 0.3398\n",
            "Epoch 5/50\n",
            "156/156 [==============================] - 4s 29ms/step - loss: 1.9934 - accuracy: 0.4391 - val_loss: 2.7066 - val_accuracy: 0.3438\n",
            "Epoch 6/50\n",
            "156/156 [==============================] - 4s 29ms/step - loss: 1.8921 - accuracy: 0.4571 - val_loss: 2.8677 - val_accuracy: 0.3357\n",
            "Epoch 7/50\n",
            "156/156 [==============================] - 5s 29ms/step - loss: 1.7717 - accuracy: 0.4818 - val_loss: 2.9097 - val_accuracy: 0.3245\n",
            "Epoch 8/50\n",
            "156/156 [==============================] - 4s 29ms/step - loss: 1.6777 - accuracy: 0.5037 - val_loss: 2.7026 - val_accuracy: 0.3406\n",
            "Epoch 9/50\n",
            "156/156 [==============================] - 5s 29ms/step - loss: 1.5966 - accuracy: 0.5242 - val_loss: 2.3566 - val_accuracy: 0.4088\n",
            "Epoch 10/50\n",
            "156/156 [==============================] - 5s 29ms/step - loss: 1.5096 - accuracy: 0.5447 - val_loss: 2.5604 - val_accuracy: 0.3711\n",
            "Epoch 11/50\n",
            "156/156 [==============================] - 4s 29ms/step - loss: 1.4296 - accuracy: 0.5643 - val_loss: 2.8737 - val_accuracy: 0.3365\n",
            "Epoch 12/50\n",
            "156/156 [==============================] - 5s 29ms/step - loss: 1.3868 - accuracy: 0.5706 - val_loss: 2.6474 - val_accuracy: 0.3815\n",
            "Epoch 13/50\n",
            "156/156 [==============================] - 5s 29ms/step - loss: 1.3257 - accuracy: 0.5892 - val_loss: 2.2479 - val_accuracy: 0.4321\n",
            "Epoch 14/50\n",
            "156/156 [==============================] - 5s 29ms/step - loss: 1.2519 - accuracy: 0.6079 - val_loss: 2.3700 - val_accuracy: 0.4153\n",
            "Epoch 15/50\n",
            "156/156 [==============================] - 4s 29ms/step - loss: 1.1790 - accuracy: 0.6262 - val_loss: 2.3195 - val_accuracy: 0.4410\n",
            "Epoch 16/50\n",
            "156/156 [==============================] - 5s 29ms/step - loss: 1.1328 - accuracy: 0.6420 - val_loss: 2.5339 - val_accuracy: 0.4209\n",
            "Epoch 17/50\n",
            "156/156 [==============================] - 5s 29ms/step - loss: 1.0783 - accuracy: 0.6579 - val_loss: 2.0272 - val_accuracy: 0.4972\n",
            "Epoch 18/50\n",
            "156/156 [==============================] - 5s 29ms/step - loss: 1.0221 - accuracy: 0.6758 - val_loss: 2.2544 - val_accuracy: 0.4490\n",
            "Epoch 19/50\n",
            "156/156 [==============================] - 5s 29ms/step - loss: 0.9911 - accuracy: 0.6794 - val_loss: 2.2338 - val_accuracy: 0.4683\n",
            "Epoch 20/50\n",
            "156/156 [==============================] - 4s 29ms/step - loss: 0.9442 - accuracy: 0.6975 - val_loss: 2.4244 - val_accuracy: 0.4265\n",
            "Epoch 21/50\n",
            "156/156 [==============================] - 5s 29ms/step - loss: 0.9210 - accuracy: 0.6991 - val_loss: 2.5346 - val_accuracy: 0.4450\n",
            "Epoch 22/50\n",
            "156/156 [==============================] - 5s 29ms/step - loss: 0.8742 - accuracy: 0.7219 - val_loss: 2.4850 - val_accuracy: 0.4378\n",
            "Epoch 23/50\n",
            "156/156 [==============================] - 5s 29ms/step - loss: 0.8477 - accuracy: 0.7215 - val_loss: 2.5012 - val_accuracy: 0.4273\n",
            "Epoch 24/50\n",
            "156/156 [==============================] - 5s 29ms/step - loss: 0.8175 - accuracy: 0.7336 - val_loss: 2.6117 - val_accuracy: 0.4329\n",
            "Epoch 25/50\n",
            "156/156 [==============================] - 4s 29ms/step - loss: 0.7694 - accuracy: 0.7494 - val_loss: 2.5404 - val_accuracy: 0.4442\n",
            "Epoch 26/50\n",
            "156/156 [==============================] - 5s 29ms/step - loss: 0.7565 - accuracy: 0.7486 - val_loss: 2.0681 - val_accuracy: 0.5277\n",
            "Epoch 27/50\n",
            "156/156 [==============================] - 5s 29ms/step - loss: 0.7220 - accuracy: 0.7613 - val_loss: 2.5288 - val_accuracy: 0.4426\n",
            "Epoch 28/50\n",
            "156/156 [==============================] - 5s 29ms/step - loss: 0.6808 - accuracy: 0.7759 - val_loss: 2.1962 - val_accuracy: 0.5092\n",
            "Epoch 29/50\n",
            "156/156 [==============================] - 5s 29ms/step - loss: 0.6573 - accuracy: 0.7824 - val_loss: 2.4763 - val_accuracy: 0.4691\n",
            "Epoch 30/50\n",
            "156/156 [==============================] - 5s 29ms/step - loss: 0.6588 - accuracy: 0.7842 - val_loss: 2.3824 - val_accuracy: 0.4835\n",
            "Epoch 31/50\n",
            "156/156 [==============================] - 4s 29ms/step - loss: 0.6269 - accuracy: 0.7906 - val_loss: 2.4152 - val_accuracy: 0.4723\n",
            "Epoch 32/50\n",
            "156/156 [==============================] - 5s 29ms/step - loss: 0.5980 - accuracy: 0.8008 - val_loss: 2.4297 - val_accuracy: 0.4811\n",
            "Epoch 33/50\n",
            "156/156 [==============================] - 5s 29ms/step - loss: 0.5883 - accuracy: 0.8077 - val_loss: 2.5344 - val_accuracy: 0.4755\n",
            "Epoch 34/50\n",
            "156/156 [==============================] - 4s 29ms/step - loss: 0.5672 - accuracy: 0.8085 - val_loss: 2.5255 - val_accuracy: 0.4972\n",
            "Epoch 35/50\n",
            "156/156 [==============================] - 5s 29ms/step - loss: 0.5431 - accuracy: 0.8251 - val_loss: 2.6760 - val_accuracy: 0.4755\n",
            "Epoch 36/50\n",
            "156/156 [==============================] - 5s 29ms/step - loss: 0.5202 - accuracy: 0.8283 - val_loss: 2.4821 - val_accuracy: 0.5012\n",
            "Epoch 37/50\n",
            "156/156 [==============================] - 5s 29ms/step - loss: 0.5126 - accuracy: 0.8304 - val_loss: 2.6736 - val_accuracy: 0.4707\n",
            "Epoch 38/50\n",
            "156/156 [==============================] - 5s 29ms/step - loss: 0.5204 - accuracy: 0.8253 - val_loss: 2.9147 - val_accuracy: 0.4643\n",
            "Epoch 39/50\n",
            "156/156 [==============================] - 5s 29ms/step - loss: 0.5002 - accuracy: 0.8354 - val_loss: 2.8893 - val_accuracy: 0.4675\n",
            "Epoch 40/50\n",
            "156/156 [==============================] - 5s 29ms/step - loss: 0.4272 - accuracy: 0.8607 - val_loss: 2.4225 - val_accuracy: 0.5133\n",
            "Epoch 41/50\n",
            "156/156 [==============================] - 5s 29ms/step - loss: 0.4351 - accuracy: 0.8589 - val_loss: 2.8612 - val_accuracy: 0.5004\n",
            "Epoch 42/50\n",
            "156/156 [==============================] - 5s 29ms/step - loss: 0.4257 - accuracy: 0.8609 - val_loss: 2.9956 - val_accuracy: 0.4594\n",
            "Epoch 43/50\n",
            "156/156 [==============================] - 5s 29ms/step - loss: 0.4434 - accuracy: 0.8569 - val_loss: 2.4838 - val_accuracy: 0.5004\n",
            "Epoch 44/50\n",
            "156/156 [==============================] - 5s 29ms/step - loss: 0.4317 - accuracy: 0.8643 - val_loss: 2.3493 - val_accuracy: 0.5414\n",
            "Epoch 45/50\n",
            "156/156 [==============================] - 5s 29ms/step - loss: 0.3887 - accuracy: 0.8747 - val_loss: 2.6490 - val_accuracy: 0.5068\n",
            "Epoch 46/50\n",
            "156/156 [==============================] - 5s 29ms/step - loss: 0.3905 - accuracy: 0.8711 - val_loss: 3.1914 - val_accuracy: 0.4522\n",
            "Epoch 47/50\n",
            "156/156 [==============================] - 5s 29ms/step - loss: 0.3961 - accuracy: 0.8661 - val_loss: 3.0024 - val_accuracy: 0.4771\n",
            "Epoch 48/50\n",
            "156/156 [==============================] - 5s 29ms/step - loss: 0.3672 - accuracy: 0.8844 - val_loss: 3.0880 - val_accuracy: 0.4795\n",
            "Epoch 49/50\n",
            "156/156 [==============================] - 5s 29ms/step - loss: 0.3517 - accuracy: 0.8811 - val_loss: 3.4072 - val_accuracy: 0.4458\n",
            "Epoch 50/50\n",
            "156/156 [==============================] - 5s 29ms/step - loss: 0.3548 - accuracy: 0.8826 - val_loss: 3.0670 - val_accuracy: 0.4884\n"
          ]
        }
      ]
    },
    {
      "cell_type": "code",
      "metadata": {
        "colab": {
          "base_uri": "https://localhost:8080/",
          "height": 499
        },
        "id": "ynhS2KjVEhj8",
        "outputId": "4573edcc-f0a4-47ca-d835-987b1c36474c"
      },
      "source": [
        "acc = history.history['accuracy']\n",
        "val_acc = history.history['val_accuracy']\n",
        "\n",
        "loss = history.history['loss']\n",
        "val_loss = history.history['val_loss']\n",
        "\n",
        "epochs_range = range(epochs)\n",
        "\n",
        "plt.figure(figsize=(8, 8))\n",
        "plt.subplot(1, 2, 1)\n",
        "plt.plot(epochs_range, acc, label='Training Accuracy')\n",
        "plt.plot(epochs_range, val_acc, label='Validation Accuracy')\n",
        "plt.legend(loc='lower right')\n",
        "plt.title('Training and Validation Accuracy')\n",
        "\n",
        "plt.subplot(1, 2, 2)\n",
        "plt.plot(epochs_range, loss, label='Training Loss')\n",
        "plt.plot(epochs_range, val_loss, label='Validation Loss')\n",
        "plt.legend(loc='upper right')\n",
        "plt.title('Training and Validation Loss')\n",
        "plt.show()"
      ],
      "execution_count": null,
      "outputs": [
        {
          "output_type": "display_data",
          "data": {
            "image/png": "[encoded data removed]",
            "text/plain": [
              "<Figure size 576x576 with 2 Axes>"
            ]
          },
          "metadata": {
            "needs_background": "light"
          }
        }
      ]
    },
    {
      "cell_type": "code",
      "metadata": {
        "colab": {
          "base_uri": "https://localhost:8080/"
        },
        "id": "IbEQMrsAH2yZ",
        "outputId": "d21719e3-67a8-4466-e9d7-80ae2eb4c952"
      },
      "source": [
        "model.compile(\n",
        "    optimizer='adam',\n",
        "    loss=tf.losses.SparseCategoricalCrossentropy(from_logits=True),\n",
        "    metrics=['accuracy'])\n",
        "model.summary()"
      ],
      "execution_count": null,
      "outputs": [
        {
          "output_type": "stream",
          "name": "stdout",
          "text": [
            "Model: \"sequential_2\"\n",
            "_________________________________________________________________\n",
            " Layer (type)                Output Shape              Param #   \n",
            "=================================================================\n",
            " sequential_1 (Sequential)   (None, 180, 180, 1)       0         \n",
            "                                                                 \n",
            " rescaling_2 (Rescaling)     (None, 180, 180, 1)       0         \n",
            "                                                                 \n",
            " conv2d_3 (Conv2D)           (None, 178, 178, 64)      640       \n",
            "                                                                 \n",
            " max_pooling2d_3 (MaxPooling  (None, 89, 89, 64)       0         \n",
            " 2D)                                                             \n",
            "                                                                 \n",
            " conv2d_4 (Conv2D)           (None, 89, 89, 64)        36928     \n",
            "                                                                 \n",
            " max_pooling2d_4 (MaxPooling  (None, 44, 44, 64)       0         \n",
            " 2D)                                                             \n",
            "                                                                 \n",
            " conv2d_5 (Conv2D)           (None, 44, 44, 64)        36928     \n",
            "                                                                 \n",
            " max_pooling2d_5 (MaxPooling  (None, 22, 22, 64)       0         \n",
            " 2D)                                                             \n",
            "                                                                 \n",
            " dropout (Dropout)           (None, 22, 22, 64)        0         \n",
            "                                                                 \n",
            " flatten_1 (Flatten)         (None, 30976)             0         \n",
            "                                                                 \n",
            " dense_5 (Dense)             (None, 128)               3965056   \n",
            "                                                                 \n",
            " batch_normalization_5 (Batc  (None, 128)              512       \n",
            " hNormalization)                                                 \n",
            "                                                                 \n",
            " dense_6 (Dense)             (None, 128)               16512     \n",
            "                                                                 \n",
            " batch_normalization_6 (Batc  (None, 128)              512       \n",
            " hNormalization)                                                 \n",
            "                                                                 \n",
            " dense_7 (Dense)             (None, 128)               16512     \n",
            "                                                                 \n",
            " batch_normalization_7 (Batc  (None, 128)              512       \n",
            " hNormalization)                                                 \n",
            "                                                                 \n",
            " dense_8 (Dense)             (None, 107)               13803     \n",
            "                                                                 \n",
            " batch_normalization_8 (Batc  (None, 107)              428       \n",
            " hNormalization)                                                 \n",
            "                                                                 \n",
            " dense_9 (Dense)             (None, 107)               11556     \n",
            "                                                                 \n",
            "=================================================================\n",
            "Total params: 4,099,899\n",
            "Trainable params: 4,098,917\n",
            "Non-trainable params: 982\n",
            "_________________________________________________________________\n"
          ]
        }
      ]
    },
    {
      "cell_type": "code",
      "metadata": {
        "id": "df30HUqFjWre"
      },
      "source": [
        ""
      ],
      "execution_count": null,
      "outputs": []
    }
  ]
}