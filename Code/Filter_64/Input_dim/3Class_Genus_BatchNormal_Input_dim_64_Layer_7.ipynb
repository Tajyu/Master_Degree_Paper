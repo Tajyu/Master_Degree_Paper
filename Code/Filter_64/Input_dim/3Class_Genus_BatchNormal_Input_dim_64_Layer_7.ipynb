{
  "nbformat": 4,
  "nbformat_minor": 0,
  "metadata": {
    "colab": {
      "name": "3Class_Genus_BatchNormal_Input_dim_64_Layer_7.ipynb",
      "provenance": [],
      "collapsed_sections": [],
      "mount_file_id": "1IP4HuQiyLWh7cJRQGRsm4awIZDFOsGEK",
      "authorship_tag": "ABX9TyMkZTmxJwby+BTvLsEhOcp/",
      "include_colab_link": true
    },
    "kernelspec": {
      "name": "python3",
      "display_name": "Python 3"
    },
    "language_info": {
      "name": "python"
    },
    "accelerator": "GPU"
  },
  "cells": [
    {
      "cell_type": "markdown",
      "metadata": {
        "id": "view-in-github",
        "colab_type": "text"
      },
      "source": [
        "<a href=\"https://colab.research.google.com/github/Tajyu/Master_Degree_Paper/blob/main/Code/Filter_64/Input_dim/3Class_Genus_BatchNormal_Input_dim_64_Layer_7.ipynb\" target=\"_parent\"><img src=\"https://colab.research.google.com/assets/colab-badge.svg\" alt=\"Open In Colab\"/></a>"
      ]
    },
    {
      "cell_type": "code",
      "metadata": {
        "id": "yWckd06_68Em"
      },
      "source": [
        "import tensorflow as tf\n",
        "from tensorflow.keras import datasets, layers, models\n",
        "from keras.preprocessing.image import ImageDataGenerator\n",
        "import numpy as np\n",
        "import matplotlib.pyplot as plt\n",
        "import cv2 as cv\n",
        "import os\n",
        "import pathlib\n",
        "import PIL\n",
        "from tensorflow import keras\n",
        "from tensorflow.keras import layers\n",
        "from tensorflow.keras.models import Sequential\n",
        "from tensorflow.keras.layers import Dense, Flatten, BatchNormalization, Dropout"
      ],
      "execution_count": null,
      "outputs": []
    },
    {
      "cell_type": "code",
      "metadata": {
        "id": "xav9zirHttk_"
      },
      "source": [
        "image_list = os.listdir('/content/drive/MyDrive/Colab Notebooks/Final_Project/Cell_Genus')"
      ],
      "execution_count": null,
      "outputs": []
    },
    {
      "cell_type": "code",
      "metadata": {
        "colab": {
          "base_uri": "https://localhost:8080/"
        },
        "id": "K-wD0dM5tx_E",
        "outputId": "4c62fe21-3c7e-4488-a199-d13665d1e72a"
      },
      "source": [
        "print(image_list)"
      ],
      "execution_count": null,
      "outputs": [
        {
          "output_type": "stream",
          "name": "stdout",
          "text": [
            "['10_Genus_Stauroneis_Ehrenberg', '10_Genus_Staurosira_Ehrenberg', '11_Genus_Craspedostauros_E.J_Cox_1999', '11_Genus_Staurosirella_Williams_and_Round', '12_Genus_Caloneis_Cleve_1894', '12_Genus_Synedra_Ehrenberg', '13_Genus_Pinnularia_Ehrenberg_1843', '1_Genus_Acanthoceras_Honigmann', '1_Genus_Achnanthes_Bory', '1_Genus_Actinocyclus_Ehrenberg', '1_Genus_Aphanocapsa_Nageli_1849', '1_Genus_Asterionella_Hassall', '1_Genus_Aulacoseira', '1_Genus_Biremis_Mann_et_Cox_in_Round_Crawford_and_Mann', '1_Genus_Characium_A_Braun_in_Kutzing_1849', '1_Genus_Chroococcus_Nageli', '1_Genus_Closterium_Nitzsch_ex_Ralfs_1848', '1_Genus_Coelastrum_Nageli_1849', '1_Genus_Cylindrocystis_Meneghini_ex_de_Bary_1858', '1_Genus_Dictyosphaerium_Nageli_1849', '1_Genus_Docidium_Brebisson_ex_Ralfs_1848', '1_Genus_Eunotia_Ehrenberg', '1_Genus_Geitlerinema_(Anagnostidis_et_Komarek)_Anagnostidis_1989', '1_Genus_Gonatozygon_de_Bary_1856', '1_Genus_Hydrodictyon_Roth_1797', '1_Genus_Hydrosera_whampoensis', '1_Genus_Jaaginema_Anagnostidis_et_Komarek_1988', '1_Genus_Lyngbya_C_Agardh_ex_Gomont_1892', '1_Genus_Melosira_Agardh', '1_Genus_Micractinium_Fresenius_1858', '1_Genus_Micrasterias_Ralfs_1848', '1_Genus_Microcystis_Kutzing_ex_Lemmermann_1907', '1_Genus_Oscillatoria_Vaucher_ex_Gomont_1982', '1_Genus_Pediastrum_Meyen_1829', '1_Genus_Penium_Brebisson_ex_Ralfs_in_Ralfs_1848', '1_Genus_Phormidium_Kutzing_ex_Gomont_1892', '1_Genus_Planktothrix_Anagnostidis_et_Komarek_1988', '1_Genus_Pleurosira_laevis_(Ehrenberg)', '1_Genus_Rhizosolenia_Ehrenberg', '1_Genus_Schizochlamydella_Korshikov_1953', '1_Genus_Staurodesmus_Teiling_1848', '1_Genus_Trochiscia_Kutzing_1834', '1_Scenedesmus_Hegewald_1978', '2_Acutodesmus_Hegewald_1978', '2_Genus_Achnanthidium_Kutzing', '2_Genus_Actinastrum_Lagerheim_1882', '2_Genus_Actinella_Lewis', '2_Genus_Ankyra_Fott_1957', '2_Genus_Caloneis_Cleve', '2_Genus_Chaetoceros_Ehrenberg', '2_Genus_Coenochloris_Korshikov_1953', '2_Genus_Cyclotella', '2_Genus_Diatoma_Bory', '2_Genus_Dimorphococcus_A_Braun_1855', '2_Genus_Golenkinia_Chodat_1894', '2_Genus_Haplotaenium_Bando_1988', '2_Genus_Leibleinia_(Gomont)_L_Hoffman_1985', '2_Genus_Leptolyngbya_Anagnostidis_et_Komarek_1988', '2_Genus_Merismopedia_Meyen_1839', '2_Genus_Netrium_(Nageli)_Itzigsohn_et_Rothe_in_Rabenhorst_1856', '2_Genus_Orthoseira_Thwaites_1848', '2_Genus_Phormidium_Kutzing_ex_Gomont_1892', '2_Genus_Sorastrum_Kutzing_1845', '2_Genus_Staurastrum_Meyen_ex_Ralfs_1848', '3_Desmodesmus_Chodat_1926', '3_Genus_Acanthosphaera_Lemmerman_1899', '3_Genus_Anorthoneis_Grunow', '3_Genus_Cyclostephanos_Round', '3_Genus_Dichotomococcus_Korshikov_1928', '3_Genus_Heteroleibleinia_(Geitler)_L_Hoffmann_1985', '3_Genus_Limnothrix_Meffert_1988', '3_Genus_Meridion_Agardh', '3_Genus_Paradoxia_Svirenko_1928', '3_Genus_Peronia_Bebisson_and_Arnott_ex_Kitton', '3_Genus_Phormidiochaete_Komarek_in_Anagnostidis_2001', '3_Genus_Pinnularia_Ehrenberg_1', '3_Genus_Pleurotaenium_Nageli_1849', '3_Genus_Radiococcus_Schmidle_1902', '3_Genus_Snowella_Elenkin_1938', '3_Genus_Spirotaenia_Brebisson_in_Ralfs_1848', '4_Genus_Botryococcus_Kutzing_1849', '4_Genus_Cocconeis_Ehrenberg', '4_Genus_Eutetramorus_Walton_1918', '4_Genus_Leptolyngbya_Anagnostidis_et_Komarek_1988', '4_Genus_Opephora_Petit', '4_Genus_Pinnularia_Ehrenberg_2', '4_Genus_Schroederia_Lemmermann_1898', '4_Genus_Stephanodiscus_Ehrenberg', '4_Genus_Synechocystis_Sauvageau_1892', '4_Genus_Tortitaenia_A_J_Brook_1998', '5_Genus_Caloneis_Cleve', '5_Genus_Coenocystis_Korshikov_1953', '5_Genus_Planktolyngbya_Anagnostidis_et_Komarek_1988', '5_Genus_Tabellaria_Ehrenberg', '5_Genus_Thalassiosira_Cleve', '5_Genus_Woronichinia_Elenkin_1933', '6_Genus_Anomoeoneis_Pfitzer', '6_Genus_Fragilaria_Lyngbye', '6_Genus_Gloeocystis_Nageli_1849', '6_Genus_Pseudanabaena_Lauterborn_1915', '6_Genus_Skeletonema_Greville', '7_Genus_Caloneis_Cleve', '7_Genus_Hannaea_Patrick', '8_Genus_Diploneis(Ehrenberg)_Cleve', '8_Genus_Pseudostaurosira_Williams_and_Round', '9_Genus_Neidium_Pfitzer', '9_Genus_Punctastriata_Williams_and_Round']\n"
          ]
        }
      ]
    },
    {
      "cell_type": "code",
      "metadata": {
        "id": "o-0DvzEHt8VE"
      },
      "source": [
        "data_generator = ImageDataGenerator(rescale = 1./255)\n",
        "\n",
        "data_dir = \"/content/drive/MyDrive/Colab Notebooks/Final_Project/Cell_Genus\""
      ],
      "execution_count": null,
      "outputs": []
    },
    {
      "cell_type": "code",
      "metadata": {
        "id": "7aTCfEm3t10n"
      },
      "source": [
        "batch_size = 32\n",
        "img_height = 180\n",
        "img_width = 180"
      ],
      "execution_count": null,
      "outputs": []
    },
    {
      "cell_type": "code",
      "metadata": {
        "id": "9Smg-miEt22s",
        "colab": {
          "base_uri": "https://localhost:8080/"
        },
        "outputId": "3751b781-6107-4cc2-d9b3-f294f03efe24"
      },
      "source": [
        "train_ds = tf.keras.preprocessing.image_dataset_from_directory(\n",
        "  data_dir,\n",
        "  color_mode = \"grayscale\",\n",
        "  validation_split=0.2,\n",
        "  subset=\"training\",\n",
        "  seed=123,\n",
        "  image_size=(img_height, img_width),\n",
        "  batch_size=batch_size)"
      ],
      "execution_count": null,
      "outputs": [
        {
          "output_type": "stream",
          "name": "stdout",
          "text": [
            "Found 6226 files belonging to 107 classes.\n",
            "Using 4981 files for training.\n"
          ]
        }
      ]
    },
    {
      "cell_type": "code",
      "metadata": {
        "id": "1nR0WdQGt44x",
        "colab": {
          "base_uri": "https://localhost:8080/"
        },
        "outputId": "83c0be3a-c81a-4132-8781-2e39d1dcf54d"
      },
      "source": [
        "val_ds = tf.keras.preprocessing.image_dataset_from_directory(\n",
        "  data_dir,\n",
        "  color_mode = \"grayscale\",\n",
        "  validation_split=0.2,\n",
        "  subset=\"validation\",\n",
        "  seed=123,\n",
        "  image_size=(img_height, img_width),\n",
        "  batch_size=batch_size)"
      ],
      "execution_count": null,
      "outputs": [
        {
          "output_type": "stream",
          "name": "stdout",
          "text": [
            "Found 6226 files belonging to 107 classes.\n",
            "Using 1245 files for validation.\n"
          ]
        }
      ]
    },
    {
      "cell_type": "code",
      "metadata": {
        "id": "F-cz_CtGug8Y",
        "colab": {
          "base_uri": "https://localhost:8080/"
        },
        "outputId": "59d843cf-f067-40aa-87f3-c6624af95b82"
      },
      "source": [
        "class_names = train_ds.class_names\n",
        "print(class_names)"
      ],
      "execution_count": null,
      "outputs": [
        {
          "output_type": "stream",
          "name": "stdout",
          "text": [
            "['10_Genus_Stauroneis_Ehrenberg', '10_Genus_Staurosira_Ehrenberg', '11_Genus_Craspedostauros_E.J_Cox_1999', '11_Genus_Staurosirella_Williams_and_Round', '12_Genus_Caloneis_Cleve_1894', '12_Genus_Synedra_Ehrenberg', '13_Genus_Pinnularia_Ehrenberg_1843', '1_Genus_Acanthoceras_Honigmann', '1_Genus_Achnanthes_Bory', '1_Genus_Actinocyclus_Ehrenberg', '1_Genus_Aphanocapsa_Nageli_1849', '1_Genus_Asterionella_Hassall', '1_Genus_Aulacoseira', '1_Genus_Biremis_Mann_et_Cox_in_Round_Crawford_and_Mann', '1_Genus_Characium_A_Braun_in_Kutzing_1849', '1_Genus_Chroococcus_Nageli', '1_Genus_Closterium_Nitzsch_ex_Ralfs_1848', '1_Genus_Coelastrum_Nageli_1849', '1_Genus_Cylindrocystis_Meneghini_ex_de_Bary_1858', '1_Genus_Dictyosphaerium_Nageli_1849', '1_Genus_Docidium_Brebisson_ex_Ralfs_1848', '1_Genus_Eunotia_Ehrenberg', '1_Genus_Geitlerinema_(Anagnostidis_et_Komarek)_Anagnostidis_1989', '1_Genus_Gonatozygon_de_Bary_1856', '1_Genus_Hydrodictyon_Roth_1797', '1_Genus_Hydrosera_whampoensis', '1_Genus_Jaaginema_Anagnostidis_et_Komarek_1988', '1_Genus_Lyngbya_C_Agardh_ex_Gomont_1892', '1_Genus_Melosira_Agardh', '1_Genus_Micractinium_Fresenius_1858', '1_Genus_Micrasterias_Ralfs_1848', '1_Genus_Microcystis_Kutzing_ex_Lemmermann_1907', '1_Genus_Oscillatoria_Vaucher_ex_Gomont_1982', '1_Genus_Pediastrum_Meyen_1829', '1_Genus_Penium_Brebisson_ex_Ralfs_in_Ralfs_1848', '1_Genus_Phormidium_Kutzing_ex_Gomont_1892', '1_Genus_Planktothrix_Anagnostidis_et_Komarek_1988', '1_Genus_Pleurosira_laevis_(Ehrenberg)', '1_Genus_Rhizosolenia_Ehrenberg', '1_Genus_Schizochlamydella_Korshikov_1953', '1_Genus_Staurodesmus_Teiling_1848', '1_Genus_Trochiscia_Kutzing_1834', '1_Scenedesmus_Hegewald_1978', '2_Acutodesmus_Hegewald_1978', '2_Genus_Achnanthidium_Kutzing', '2_Genus_Actinastrum_Lagerheim_1882', '2_Genus_Actinella_Lewis', '2_Genus_Ankyra_Fott_1957', '2_Genus_Caloneis_Cleve', '2_Genus_Chaetoceros_Ehrenberg', '2_Genus_Coenochloris_Korshikov_1953', '2_Genus_Cyclotella', '2_Genus_Diatoma_Bory', '2_Genus_Dimorphococcus_A_Braun_1855', '2_Genus_Golenkinia_Chodat_1894', '2_Genus_Haplotaenium_Bando_1988', '2_Genus_Leibleinia_(Gomont)_L_Hoffman_1985', '2_Genus_Leptolyngbya_Anagnostidis_et_Komarek_1988', '2_Genus_Merismopedia_Meyen_1839', '2_Genus_Netrium_(Nageli)_Itzigsohn_et_Rothe_in_Rabenhorst_1856', '2_Genus_Orthoseira_Thwaites_1848', '2_Genus_Phormidium_Kutzing_ex_Gomont_1892', '2_Genus_Sorastrum_Kutzing_1845', '2_Genus_Staurastrum_Meyen_ex_Ralfs_1848', '3_Desmodesmus_Chodat_1926', '3_Genus_Acanthosphaera_Lemmerman_1899', '3_Genus_Anorthoneis_Grunow', '3_Genus_Cyclostephanos_Round', '3_Genus_Dichotomococcus_Korshikov_1928', '3_Genus_Heteroleibleinia_(Geitler)_L_Hoffmann_1985', '3_Genus_Limnothrix_Meffert_1988', '3_Genus_Meridion_Agardh', '3_Genus_Paradoxia_Svirenko_1928', '3_Genus_Peronia_Bebisson_and_Arnott_ex_Kitton', '3_Genus_Phormidiochaete_Komarek_in_Anagnostidis_2001', '3_Genus_Pinnularia_Ehrenberg_1', '3_Genus_Pleurotaenium_Nageli_1849', '3_Genus_Radiococcus_Schmidle_1902', '3_Genus_Snowella_Elenkin_1938', '3_Genus_Spirotaenia_Brebisson_in_Ralfs_1848', '4_Genus_Botryococcus_Kutzing_1849', '4_Genus_Cocconeis_Ehrenberg', '4_Genus_Eutetramorus_Walton_1918', '4_Genus_Leptolyngbya_Anagnostidis_et_Komarek_1988', '4_Genus_Opephora_Petit', '4_Genus_Pinnularia_Ehrenberg_2', '4_Genus_Schroederia_Lemmermann_1898', '4_Genus_Stephanodiscus_Ehrenberg', '4_Genus_Synechocystis_Sauvageau_1892', '4_Genus_Tortitaenia_A_J_Brook_1998', '5_Genus_Caloneis_Cleve', '5_Genus_Coenocystis_Korshikov_1953', '5_Genus_Planktolyngbya_Anagnostidis_et_Komarek_1988', '5_Genus_Tabellaria_Ehrenberg', '5_Genus_Thalassiosira_Cleve', '5_Genus_Woronichinia_Elenkin_1933', '6_Genus_Anomoeoneis_Pfitzer', '6_Genus_Fragilaria_Lyngbye', '6_Genus_Gloeocystis_Nageli_1849', '6_Genus_Pseudanabaena_Lauterborn_1915', '6_Genus_Skeletonema_Greville', '7_Genus_Caloneis_Cleve', '7_Genus_Hannaea_Patrick', '8_Genus_Diploneis(Ehrenberg)_Cleve', '8_Genus_Pseudostaurosira_Williams_and_Round', '9_Genus_Neidium_Pfitzer', '9_Genus_Punctastriata_Williams_and_Round']\n"
          ]
        }
      ]
    },
    {
      "cell_type": "code",
      "metadata": {
        "id": "5EQOikPAukic",
        "colab": {
          "base_uri": "https://localhost:8080/"
        },
        "outputId": "8f288870-7349-49c4-f754-ace6e8f4e332"
      },
      "source": [
        "for image_batch, labels_batch in train_ds:\n",
        "  print(image_batch.shape)\n",
        "  print(labels_batch.shape)\n",
        "  break"
      ],
      "execution_count": null,
      "outputs": [
        {
          "output_type": "stream",
          "name": "stdout",
          "text": [
            "(32, 180, 180, 1)\n",
            "(32,)\n"
          ]
        }
      ]
    },
    {
      "cell_type": "code",
      "metadata": {
        "id": "9eVl7tiDux9q"
      },
      "source": [
        "from tensorflow.keras import layers\n",
        "\n",
        "normalization_layer = tf.keras.layers.experimental.preprocessing.Rescaling(1./255)"
      ],
      "execution_count": null,
      "outputs": []
    },
    {
      "cell_type": "code",
      "metadata": {
        "id": "AiIrsxzZuzEo",
        "colab": {
          "base_uri": "https://localhost:8080/"
        },
        "outputId": "93cd9de3-4e97-4165-c6d4-1ba6f693dd5a"
      },
      "source": [
        "normalized_ds = train_ds.map(lambda x, y: (normalization_layer(x), y))\n",
        "image_batch, labels_batch = next(iter(normalized_ds))\n",
        "first_image = image_batch[0]\n",
        "# Notice the pixels values are now in `[0,1]`.\n",
        "print(np.min(first_image), np.max(first_image))"
      ],
      "execution_count": null,
      "outputs": [
        {
          "output_type": "stream",
          "name": "stdout",
          "text": [
            "0.0 1.0\n"
          ]
        }
      ]
    },
    {
      "cell_type": "code",
      "metadata": {
        "id": "__WbVabru0Bp"
      },
      "source": [
        "AUTOTUNE = tf.data.experimental.AUTOTUNE\n",
        "\n",
        "train_ds = train_ds.cache().prefetch(buffer_size=AUTOTUNE)\n",
        "val_ds = val_ds.cache().prefetch(buffer_size=AUTOTUNE)"
      ],
      "execution_count": null,
      "outputs": []
    },
    {
      "cell_type": "code",
      "metadata": {
        "id": "g1GeYFXCu2gV"
      },
      "source": [
        "num_classes = 107\n",
        "model = tf.keras.Sequential([\n",
        "    layers.experimental.preprocessing.Rescaling(1./255),\n",
        "    layers.Conv2D(64, 3,input_shape = image_batch, activation='relu'),\n",
        "    layers.MaxPooling2D(),\n",
        "    layers.Conv2D(64, 3, activation='relu'),\n",
        "    layers.MaxPooling2D(),\n",
        "    layers.Conv2D(64, 3, activation='relu'),\n",
        "    layers.MaxPooling2D(),\n",
        "    layers.Flatten(),\n",
        "    BatchNormalization(),\n",
        "    layers.Dense(128, input_dim = 107, activation='relu'),\n",
        "    BatchNormalization(),\n",
        "    layers.Dense(128, activation='relu'),\n",
        "    BatchNormalization(),\n",
        "    layers.Dense(128, activation='relu'),\n",
        "    BatchNormalization(),\n",
        "    layers.Dense(128, activation='relu'),\n",
        "    BatchNormalization(),\n",
        "    layers.Dense(128, activation='relu'),\n",
        "    BatchNormalization(),\n",
        "    layers.Dense(128, activation='relu'),\n",
        "    BatchNormalization(),\n",
        "    layers.Dense(107, activation='softmax'),\n",
        "    BatchNormalization(),\n",
        "    layers.Dense(num_classes)\n",
        "    ])"
      ],
      "execution_count": null,
      "outputs": []
    },
    {
      "cell_type": "code",
      "metadata": {
        "id": "wU4xPAvNYWry"
      },
      "source": [
        "model.compile(\n",
        "    optimizer='adam',\n",
        "    loss=tf.losses.SparseCategoricalCrossentropy(from_logits=True),\n",
        "    metrics=['accuracy'])"
      ],
      "execution_count": null,
      "outputs": []
    },
    {
      "cell_type": "code",
      "metadata": {
        "id": "Tk8ssrbHu44p",
        "colab": {
          "base_uri": "https://localhost:8080/"
        },
        "outputId": "343f7f52-6358-459e-f432-2c4c45b4b194"
      },
      "source": [
        "epochs=50\n",
        "history = model.fit(\n",
        "  train_ds,\n",
        "  validation_data=val_ds,\n",
        "  epochs=epochs\n",
        ")"
      ],
      "execution_count": null,
      "outputs": [
        {
          "output_type": "stream",
          "name": "stdout",
          "text": [
            "Epoch 1/50\n",
            "156/156 [==============================] - 600s 4s/step - loss: 3.5883 - accuracy: 0.2481 - val_loss: 4.2251 - val_accuracy: 0.1373\n",
            "Epoch 2/50\n",
            "156/156 [==============================] - 4s 28ms/step - loss: 2.5066 - accuracy: 0.3708 - val_loss: 3.6979 - val_accuracy: 0.2932\n",
            "Epoch 3/50\n",
            "156/156 [==============================] - 4s 28ms/step - loss: 2.0777 - accuracy: 0.4465 - val_loss: 2.7905 - val_accuracy: 0.4064\n",
            "Epoch 4/50\n",
            "156/156 [==============================] - 4s 28ms/step - loss: 1.7280 - accuracy: 0.5356 - val_loss: 2.3324 - val_accuracy: 0.4177\n",
            "Epoch 5/50\n",
            "156/156 [==============================] - 4s 28ms/step - loss: 1.4639 - accuracy: 0.6007 - val_loss: 2.5253 - val_accuracy: 0.3751\n",
            "Epoch 6/50\n",
            "156/156 [==============================] - 4s 28ms/step - loss: 1.2436 - accuracy: 0.6515 - val_loss: 2.3014 - val_accuracy: 0.4217\n",
            "Epoch 7/50\n",
            "156/156 [==============================] - 4s 28ms/step - loss: 1.0145 - accuracy: 0.7149 - val_loss: 2.6501 - val_accuracy: 0.3888\n",
            "Epoch 8/50\n",
            "156/156 [==============================] - 4s 28ms/step - loss: 0.8176 - accuracy: 0.7764 - val_loss: 2.3682 - val_accuracy: 0.4554\n",
            "Epoch 9/50\n",
            "156/156 [==============================] - 4s 28ms/step - loss: 0.6502 - accuracy: 0.8215 - val_loss: 2.3252 - val_accuracy: 0.4739\n",
            "Epoch 10/50\n",
            "156/156 [==============================] - 4s 28ms/step - loss: 0.5128 - accuracy: 0.8643 - val_loss: 2.3170 - val_accuracy: 0.4932\n",
            "Epoch 11/50\n",
            "156/156 [==============================] - 4s 28ms/step - loss: 0.4118 - accuracy: 0.8898 - val_loss: 2.4127 - val_accuracy: 0.4932\n",
            "Epoch 12/50\n",
            "156/156 [==============================] - 4s 28ms/step - loss: 0.3441 - accuracy: 0.9074 - val_loss: 2.3391 - val_accuracy: 0.5253\n",
            "Epoch 13/50\n",
            "156/156 [==============================] - 4s 28ms/step - loss: 0.2732 - accuracy: 0.9299 - val_loss: 2.8529 - val_accuracy: 0.4699\n",
            "Epoch 14/50\n",
            "156/156 [==============================] - 4s 28ms/step - loss: 0.2532 - accuracy: 0.9315 - val_loss: 2.9578 - val_accuracy: 0.4739\n",
            "Epoch 15/50\n",
            "156/156 [==============================] - 4s 28ms/step - loss: 0.2242 - accuracy: 0.9420 - val_loss: 2.7770 - val_accuracy: 0.4996\n",
            "Epoch 16/50\n",
            "156/156 [==============================] - 4s 28ms/step - loss: 0.1810 - accuracy: 0.9516 - val_loss: 3.0867 - val_accuracy: 0.4851\n",
            "Epoch 17/50\n",
            "156/156 [==============================] - 4s 28ms/step - loss: 0.1940 - accuracy: 0.9490 - val_loss: 2.8982 - val_accuracy: 0.4924\n",
            "Epoch 18/50\n",
            "156/156 [==============================] - 4s 28ms/step - loss: 0.1539 - accuracy: 0.9604 - val_loss: 2.9010 - val_accuracy: 0.4988\n",
            "Epoch 19/50\n",
            "156/156 [==============================] - 4s 28ms/step - loss: 0.1179 - accuracy: 0.9715 - val_loss: 2.8132 - val_accuracy: 0.5285\n",
            "Epoch 20/50\n",
            "156/156 [==============================] - 4s 28ms/step - loss: 0.0843 - accuracy: 0.9821 - val_loss: 2.9622 - val_accuracy: 0.5100\n",
            "Epoch 21/50\n",
            "156/156 [==============================] - 4s 28ms/step - loss: 0.0874 - accuracy: 0.9789 - val_loss: 2.9424 - val_accuracy: 0.5181\n",
            "Epoch 22/50\n",
            "156/156 [==============================] - 4s 28ms/step - loss: 0.0895 - accuracy: 0.9789 - val_loss: 2.9174 - val_accuracy: 0.5422\n",
            "Epoch 23/50\n",
            "156/156 [==============================] - 4s 28ms/step - loss: 0.0890 - accuracy: 0.9799 - val_loss: 3.2031 - val_accuracy: 0.5100\n",
            "Epoch 24/50\n",
            "156/156 [==============================] - 4s 28ms/step - loss: 0.0548 - accuracy: 0.9894 - val_loss: 3.0088 - val_accuracy: 0.5382\n",
            "Epoch 25/50\n",
            "156/156 [==============================] - 4s 28ms/step - loss: 0.0560 - accuracy: 0.9874 - val_loss: 3.1521 - val_accuracy: 0.5189\n",
            "Epoch 26/50\n",
            "156/156 [==============================] - 4s 28ms/step - loss: 0.0896 - accuracy: 0.9789 - val_loss: 3.3446 - val_accuracy: 0.5100\n",
            "Epoch 27/50\n",
            "156/156 [==============================] - 4s 28ms/step - loss: 0.1412 - accuracy: 0.9623 - val_loss: 3.4334 - val_accuracy: 0.4908\n",
            "Epoch 28/50\n",
            "156/156 [==============================] - 4s 28ms/step - loss: 0.1882 - accuracy: 0.9426 - val_loss: 3.2308 - val_accuracy: 0.5181\n",
            "Epoch 29/50\n",
            "156/156 [==============================] - 4s 28ms/step - loss: 0.1311 - accuracy: 0.9673 - val_loss: 3.3603 - val_accuracy: 0.5205\n",
            "Epoch 30/50\n",
            "156/156 [==============================] - 4s 28ms/step - loss: 0.0913 - accuracy: 0.9731 - val_loss: 3.1858 - val_accuracy: 0.5390\n",
            "Epoch 31/50\n",
            "156/156 [==============================] - 4s 28ms/step - loss: 0.0778 - accuracy: 0.9813 - val_loss: 3.1423 - val_accuracy: 0.5165\n",
            "Epoch 32/50\n",
            "156/156 [==============================] - 4s 28ms/step - loss: 0.0610 - accuracy: 0.9841 - val_loss: 3.2378 - val_accuracy: 0.5124\n",
            "Epoch 33/50\n",
            "156/156 [==============================] - 4s 28ms/step - loss: 0.0450 - accuracy: 0.9888 - val_loss: 3.1116 - val_accuracy: 0.5357\n",
            "Epoch 34/50\n",
            "156/156 [==============================] - 4s 28ms/step - loss: 0.0244 - accuracy: 0.9954 - val_loss: 3.0662 - val_accuracy: 0.5462\n",
            "Epoch 35/50\n",
            "156/156 [==============================] - 4s 28ms/step - loss: 0.0141 - accuracy: 0.9980 - val_loss: 3.1214 - val_accuracy: 0.5406\n",
            "Epoch 36/50\n",
            "156/156 [==============================] - 4s 28ms/step - loss: 0.0048 - accuracy: 0.9998 - val_loss: 3.0917 - val_accuracy: 0.5470\n",
            "Epoch 37/50\n",
            "156/156 [==============================] - 4s 28ms/step - loss: 0.0028 - accuracy: 1.0000 - val_loss: 3.1092 - val_accuracy: 0.5462\n",
            "Epoch 38/50\n",
            "156/156 [==============================] - 4s 28ms/step - loss: 0.0023 - accuracy: 1.0000 - val_loss: 3.1313 - val_accuracy: 0.5462\n",
            "Epoch 39/50\n",
            "156/156 [==============================] - 4s 28ms/step - loss: 0.0020 - accuracy: 1.0000 - val_loss: 3.1513 - val_accuracy: 0.5478\n",
            "Epoch 40/50\n",
            "156/156 [==============================] - 4s 28ms/step - loss: 0.0017 - accuracy: 1.0000 - val_loss: 3.1703 - val_accuracy: 0.5494\n",
            "Epoch 41/50\n",
            "156/156 [==============================] - 4s 28ms/step - loss: 0.0015 - accuracy: 1.0000 - val_loss: 3.1884 - val_accuracy: 0.5486\n",
            "Epoch 42/50\n",
            "156/156 [==============================] - 4s 28ms/step - loss: 0.0014 - accuracy: 1.0000 - val_loss: 3.2062 - val_accuracy: 0.5486\n",
            "Epoch 43/50\n",
            "156/156 [==============================] - 4s 28ms/step - loss: 0.0013 - accuracy: 1.0000 - val_loss: 3.2240 - val_accuracy: 0.5486\n",
            "Epoch 44/50\n",
            "156/156 [==============================] - 4s 28ms/step - loss: 0.0011 - accuracy: 1.0000 - val_loss: 3.2418 - val_accuracy: 0.5502\n",
            "Epoch 45/50\n",
            "156/156 [==============================] - 4s 28ms/step - loss: 0.0010 - accuracy: 1.0000 - val_loss: 3.2598 - val_accuracy: 0.5502\n",
            "Epoch 46/50\n",
            "156/156 [==============================] - 4s 28ms/step - loss: 9.4527e-04 - accuracy: 1.0000 - val_loss: 3.2776 - val_accuracy: 0.5494\n",
            "Epoch 47/50\n",
            "156/156 [==============================] - 4s 28ms/step - loss: 8.6442e-04 - accuracy: 1.0000 - val_loss: 3.2953 - val_accuracy: 0.5494\n",
            "Epoch 48/50\n",
            "156/156 [==============================] - 4s 28ms/step - loss: 7.9162e-04 - accuracy: 1.0000 - val_loss: 3.3132 - val_accuracy: 0.5502\n",
            "Epoch 49/50\n",
            "156/156 [==============================] - 4s 28ms/step - loss: 7.2555e-04 - accuracy: 1.0000 - val_loss: 3.3315 - val_accuracy: 0.5510\n",
            "Epoch 50/50\n",
            "156/156 [==============================] - 4s 28ms/step - loss: 6.6587e-04 - accuracy: 1.0000 - val_loss: 3.3499 - val_accuracy: 0.5518\n"
          ]
        }
      ]
    },
    {
      "cell_type": "code",
      "metadata": {
        "id": "f1z_vHocu59c",
        "colab": {
          "base_uri": "https://localhost:8080/",
          "height": 499
        },
        "outputId": "cc540e78-e0a1-4b81-cdd0-89c0f5a8edca"
      },
      "source": [
        "acc = history.history['accuracy']\n",
        "val_acc = history.history['val_accuracy']\n",
        "\n",
        "loss=history.history['loss']\n",
        "val_loss=history.history['val_loss']\n",
        "\n",
        "epochs_range = range(epochs)\n",
        "\n",
        "plt.figure(figsize=(8, 8))\n",
        "plt.subplot(1, 2, 1)\n",
        "plt.plot(epochs_range, acc, label='Training Accuracy')\n",
        "plt.plot(epochs_range, val_acc, label='Validation Accuracy')\n",
        "plt.legend(loc='lower right')\n",
        "plt.title('Training and Validation Accuracy')\n",
        "\n",
        "plt.subplot(1, 2, 2)\n",
        "plt.plot(epochs_range, loss, label='Training Loss')\n",
        "plt.plot(epochs_range, val_loss, label='Validation Loss')\n",
        "plt.legend(loc='upper right')\n",
        "plt.title('Training and Validation Loss')\n",
        "plt.show()"
      ],
      "execution_count": null,
      "outputs": [
        {
          "output_type": "display_data",
          "data": {
            "image/png": "[encoded data removed]",
            "text/plain": [
              "<Figure size 576x576 with 2 Axes>"
            ]
          },
          "metadata": {
            "needs_background": "light"
          }
        }
      ]
    },
    {
      "cell_type": "code",
      "metadata": {
        "id": "XinJ6xXD9YNO"
      },
      "source": [
        "data_augmentation = keras.Sequential(\n",
        "  [\n",
        "    layers.experimental.preprocessing.RandomFlip(\"horizontal\", \n",
        "                                                 input_shape=(img_height, \n",
        "                                                              img_width,\n",
        "                                                              1)),\n",
        "    layers.experimental.preprocessing.RandomRotation(0.1),\n",
        "    layers.experimental.preprocessing.RandomZoom(0.1),\n",
        "  ]\n",
        ")"
      ],
      "execution_count": null,
      "outputs": []
    },
    {
      "cell_type": "code",
      "metadata": {
        "id": "8WT2BYElEYZj"
      },
      "source": [
        "model = Sequential([\n",
        "  data_augmentation,\n",
        "  layers.experimental.preprocessing.Rescaling(1./255),\n",
        "  layers.Conv2D(64, 3,input_shape = image_batch, activation='relu'),\n",
        "  layers.MaxPooling2D(),\n",
        "  layers.Conv2D(64, 3, padding='same', activation='relu'),\n",
        "  layers.MaxPooling2D(),\n",
        "  layers.Conv2D(64, 3, padding='same', activation='relu'),\n",
        "  layers.MaxPooling2D(),\n",
        "  layers.Dropout(0.2),\n",
        "  layers.Flatten(),\n",
        "  layers.Dense(128, input_dim = 107, activation='relu'),\n",
        "  BatchNormalization(),\n",
        "  layers.Dense(128, activation='relu'),\n",
        "  BatchNormalization(),\n",
        "  layers.Dense(128, activation='relu'),\n",
        "  BatchNormalization(),\n",
        "  layers.Dense(128, activation='relu'),\n",
        "  BatchNormalization(),\n",
        "  layers.Dense(128, activation='relu'),\n",
        "  BatchNormalization(),\n",
        "  layers.Dense(128, activation='relu'),\n",
        "  BatchNormalization(),\n",
        "  layers.Dense(107, activation='softmax'),\n",
        "  BatchNormalization(),\n",
        "  layers.Dense(num_classes)\n",
        "])"
      ],
      "execution_count": null,
      "outputs": []
    },
    {
      "cell_type": "code",
      "metadata": {
        "id": "opOHP3auEdsw",
        "colab": {
          "base_uri": "https://localhost:8080/"
        },
        "outputId": "cfa5121d-9e40-4fb7-fa03-72ed62af8d17"
      },
      "source": [
        "BatchNormalization(),model.compile(\n",
        "    optimizer='adam',\n",
        "    loss=tf.losses.SparseCategoricalCrossentropy(from_logits=True),\n",
        "    metrics=['accuracy'])"
      ],
      "execution_count": null,
      "outputs": [
        {
          "output_type": "execute_result",
          "data": {
            "text/plain": [
              "(<keras.layers.normalization.batch_normalization.BatchNormalization at 0x7fca63614d90>,\n",
              " None)"
            ]
          },
          "metadata": {},
          "execution_count": 19
        }
      ]
    },
    {
      "cell_type": "code",
      "metadata": {
        "id": "3Ay4tlHlEfBX",
        "colab": {
          "base_uri": "https://localhost:8080/"
        },
        "outputId": "8f7c7f41-8cab-4e07-9d42-24cfb124a45c"
      },
      "source": [
        "model.summary()"
      ],
      "execution_count": null,
      "outputs": [
        {
          "output_type": "stream",
          "name": "stdout",
          "text": [
            "Model: \"sequential_2\"\n",
            "_________________________________________________________________\n",
            " Layer (type)                Output Shape              Param #   \n",
            "=================================================================\n",
            " sequential_1 (Sequential)   (None, 180, 180, 1)       0         \n",
            "                                                                 \n",
            " rescaling_2 (Rescaling)     (None, 180, 180, 1)       0         \n",
            "                                                                 \n",
            " conv2d_3 (Conv2D)           (None, 178, 178, 64)      640       \n",
            "                                                                 \n",
            " max_pooling2d_3 (MaxPooling  (None, 89, 89, 64)       0         \n",
            " 2D)                                                             \n",
            "                                                                 \n",
            " conv2d_4 (Conv2D)           (None, 89, 89, 64)        36928     \n",
            "                                                                 \n",
            " max_pooling2d_4 (MaxPooling  (None, 44, 44, 64)       0         \n",
            " 2D)                                                             \n",
            "                                                                 \n",
            " conv2d_5 (Conv2D)           (None, 44, 44, 64)        36928     \n",
            "                                                                 \n",
            " max_pooling2d_5 (MaxPooling  (None, 22, 22, 64)       0         \n",
            " 2D)                                                             \n",
            "                                                                 \n",
            " dropout (Dropout)           (None, 22, 22, 64)        0         \n",
            "                                                                 \n",
            " flatten_1 (Flatten)         (None, 30976)             0         \n",
            "                                                                 \n",
            " dense_8 (Dense)             (None, 128)               3965056   \n",
            "                                                                 \n",
            " batch_normalization_8 (Batc  (None, 128)              512       \n",
            " hNormalization)                                                 \n",
            "                                                                 \n",
            " dense_9 (Dense)             (None, 128)               16512     \n",
            "                                                                 \n",
            " batch_normalization_9 (Batc  (None, 128)              512       \n",
            " hNormalization)                                                 \n",
            "                                                                 \n",
            " dense_10 (Dense)            (None, 128)               16512     \n",
            "                                                                 \n",
            " batch_normalization_10 (Bat  (None, 128)              512       \n",
            " chNormalization)                                                \n",
            "                                                                 \n",
            " dense_11 (Dense)            (None, 128)               16512     \n",
            "                                                                 \n",
            " batch_normalization_11 (Bat  (None, 128)              512       \n",
            " chNormalization)                                                \n",
            "                                                                 \n",
            " dense_12 (Dense)            (None, 128)               16512     \n",
            "                                                                 \n",
            " batch_normalization_12 (Bat  (None, 128)              512       \n",
            " chNormalization)                                                \n",
            "                                                                 \n",
            " dense_13 (Dense)            (None, 128)               16512     \n",
            "                                                                 \n",
            " batch_normalization_13 (Bat  (None, 128)              512       \n",
            " chNormalization)                                                \n",
            "                                                                 \n",
            " dense_14 (Dense)            (None, 107)               13803     \n",
            "                                                                 \n",
            " batch_normalization_14 (Bat  (None, 107)              428       \n",
            " chNormalization)                                                \n",
            "                                                                 \n",
            " dense_15 (Dense)            (None, 107)               11556     \n",
            "                                                                 \n",
            "=================================================================\n",
            "Total params: 4,150,971\n",
            "Trainable params: 4,149,221\n",
            "Non-trainable params: 1,750\n",
            "_________________________________________________________________\n"
          ]
        }
      ]
    },
    {
      "cell_type": "code",
      "metadata": {
        "id": "Jc8rD_v9Ef41",
        "colab": {
          "base_uri": "https://localhost:8080/"
        },
        "outputId": "47e55a04-41c1-4072-c34f-86be45a41a75"
      },
      "source": [
        "epochs = 50\n",
        "history = model.fit(\n",
        "  train_ds,\n",
        "  validation_data=val_ds,\n",
        "  epochs=epochs\n",
        ")"
      ],
      "execution_count": null,
      "outputs": [
        {
          "output_type": "stream",
          "name": "stdout",
          "text": [
            "Epoch 1/50\n",
            "156/156 [==============================] - 7s 33ms/step - loss: 3.8361 - accuracy: 0.1727 - val_loss: 4.1613 - val_accuracy: 0.1446\n",
            "Epoch 2/50\n",
            "156/156 [==============================] - 5s 30ms/step - loss: 2.9959 - accuracy: 0.2536 - val_loss: 3.7151 - val_accuracy: 0.1759\n",
            "Epoch 3/50\n",
            "156/156 [==============================] - 5s 30ms/step - loss: 2.6834 - accuracy: 0.2915 - val_loss: 3.3790 - val_accuracy: 0.2072\n",
            "Epoch 4/50\n",
            "156/156 [==============================] - 5s 30ms/step - loss: 2.4613 - accuracy: 0.3419 - val_loss: 2.5744 - val_accuracy: 0.3478\n",
            "Epoch 5/50\n",
            "156/156 [==============================] - 5s 30ms/step - loss: 2.2891 - accuracy: 0.3698 - val_loss: 2.6945 - val_accuracy: 0.3100\n",
            "Epoch 6/50\n",
            "156/156 [==============================] - 5s 30ms/step - loss: 2.1659 - accuracy: 0.3887 - val_loss: 2.4002 - val_accuracy: 0.3775\n",
            "Epoch 7/50\n",
            "156/156 [==============================] - 5s 30ms/step - loss: 2.0532 - accuracy: 0.4164 - val_loss: 2.4416 - val_accuracy: 0.3815\n",
            "Epoch 8/50\n",
            "156/156 [==============================] - 5s 30ms/step - loss: 2.0021 - accuracy: 0.4192 - val_loss: 2.4204 - val_accuracy: 0.3863\n",
            "Epoch 9/50\n",
            "156/156 [==============================] - 5s 30ms/step - loss: 1.8807 - accuracy: 0.4547 - val_loss: 2.2198 - val_accuracy: 0.3968\n",
            "Epoch 10/50\n",
            "156/156 [==============================] - 5s 30ms/step - loss: 1.8037 - accuracy: 0.4587 - val_loss: 2.6136 - val_accuracy: 0.3647\n",
            "Epoch 11/50\n",
            "156/156 [==============================] - 5s 30ms/step - loss: 1.7557 - accuracy: 0.4726 - val_loss: 2.4751 - val_accuracy: 0.3896\n",
            "Epoch 12/50\n",
            "156/156 [==============================] - 5s 30ms/step - loss: 1.6635 - accuracy: 0.5023 - val_loss: 2.4205 - val_accuracy: 0.4008\n",
            "Epoch 13/50\n",
            "156/156 [==============================] - 5s 30ms/step - loss: 1.6105 - accuracy: 0.5138 - val_loss: 2.3783 - val_accuracy: 0.3992\n",
            "Epoch 14/50\n",
            "156/156 [==============================] - 5s 30ms/step - loss: 1.5466 - accuracy: 0.5292 - val_loss: 2.6652 - val_accuracy: 0.3759\n",
            "Epoch 15/50\n",
            "156/156 [==============================] - 5s 30ms/step - loss: 1.4970 - accuracy: 0.5471 - val_loss: 2.6079 - val_accuracy: 0.3960\n",
            "Epoch 16/50\n",
            "156/156 [==============================] - 5s 30ms/step - loss: 1.4373 - accuracy: 0.5615 - val_loss: 2.8478 - val_accuracy: 0.3558\n",
            "Epoch 17/50\n",
            "156/156 [==============================] - 5s 30ms/step - loss: 1.3957 - accuracy: 0.5635 - val_loss: 2.4083 - val_accuracy: 0.4257\n",
            "Epoch 18/50\n",
            "156/156 [==============================] - 5s 30ms/step - loss: 1.3536 - accuracy: 0.5782 - val_loss: 2.5782 - val_accuracy: 0.4040\n",
            "Epoch 19/50\n",
            "156/156 [==============================] - 5s 30ms/step - loss: 1.2724 - accuracy: 0.5967 - val_loss: 2.7435 - val_accuracy: 0.3888\n",
            "Epoch 20/50\n",
            "156/156 [==============================] - 5s 30ms/step - loss: 1.2449 - accuracy: 0.6033 - val_loss: 2.3214 - val_accuracy: 0.4514\n",
            "Epoch 21/50\n",
            "156/156 [==============================] - 5s 30ms/step - loss: 1.2146 - accuracy: 0.6175 - val_loss: 2.2176 - val_accuracy: 0.4835\n",
            "Epoch 22/50\n",
            "156/156 [==============================] - 5s 30ms/step - loss: 1.1756 - accuracy: 0.6226 - val_loss: 2.4853 - val_accuracy: 0.4353\n",
            "Epoch 23/50\n",
            "156/156 [==============================] - 5s 30ms/step - loss: 1.1443 - accuracy: 0.6340 - val_loss: 2.9188 - val_accuracy: 0.3936\n",
            "Epoch 24/50\n",
            "156/156 [==============================] - 5s 30ms/step - loss: 1.0718 - accuracy: 0.6547 - val_loss: 2.9388 - val_accuracy: 0.3799\n",
            "Epoch 25/50\n",
            "156/156 [==============================] - 5s 30ms/step - loss: 1.0476 - accuracy: 0.6581 - val_loss: 2.7605 - val_accuracy: 0.4217\n",
            "Epoch 26/50\n",
            "156/156 [==============================] - 5s 30ms/step - loss: 1.0241 - accuracy: 0.6703 - val_loss: 2.3360 - val_accuracy: 0.4643\n",
            "Epoch 27/50\n",
            "156/156 [==============================] - 5s 30ms/step - loss: 1.0029 - accuracy: 0.6738 - val_loss: 3.0551 - val_accuracy: 0.3944\n",
            "Epoch 28/50\n",
            "156/156 [==============================] - 5s 30ms/step - loss: 0.9533 - accuracy: 0.6860 - val_loss: 2.6502 - val_accuracy: 0.4410\n",
            "Epoch 29/50\n",
            "156/156 [==============================] - 5s 30ms/step - loss: 0.8982 - accuracy: 0.7035 - val_loss: 2.2836 - val_accuracy: 0.4514\n",
            "Epoch 30/50\n",
            "156/156 [==============================] - 5s 30ms/step - loss: 0.9016 - accuracy: 0.7027 - val_loss: 2.9142 - val_accuracy: 0.4177\n",
            "Epoch 31/50\n",
            "156/156 [==============================] - 5s 30ms/step - loss: 0.8576 - accuracy: 0.7201 - val_loss: 2.5493 - val_accuracy: 0.4506\n",
            "Epoch 32/50\n",
            "156/156 [==============================] - 5s 30ms/step - loss: 0.8092 - accuracy: 0.7306 - val_loss: 2.9149 - val_accuracy: 0.4032\n",
            "Epoch 33/50\n",
            "156/156 [==============================] - 5s 30ms/step - loss: 0.8095 - accuracy: 0.7310 - val_loss: 2.4177 - val_accuracy: 0.4643\n",
            "Epoch 34/50\n",
            "156/156 [==============================] - 5s 30ms/step - loss: 0.7763 - accuracy: 0.7362 - val_loss: 2.8858 - val_accuracy: 0.4241\n",
            "Epoch 35/50\n",
            "156/156 [==============================] - 5s 30ms/step - loss: 0.7589 - accuracy: 0.7521 - val_loss: 2.5057 - val_accuracy: 0.4578\n",
            "Epoch 36/50\n",
            "156/156 [==============================] - 5s 30ms/step - loss: 0.7174 - accuracy: 0.7615 - val_loss: 2.2843 - val_accuracy: 0.4755\n",
            "Epoch 37/50\n",
            "156/156 [==============================] - 5s 30ms/step - loss: 0.6772 - accuracy: 0.7808 - val_loss: 3.2382 - val_accuracy: 0.4096\n",
            "Epoch 38/50\n",
            "156/156 [==============================] - 5s 30ms/step - loss: 0.6918 - accuracy: 0.7737 - val_loss: 2.6354 - val_accuracy: 0.4530\n",
            "Epoch 39/50\n",
            "156/156 [==============================] - 5s 30ms/step - loss: 0.6704 - accuracy: 0.7727 - val_loss: 2.3816 - val_accuracy: 0.4635\n",
            "Epoch 40/50\n",
            "156/156 [==============================] - 5s 30ms/step - loss: 0.6381 - accuracy: 0.7872 - val_loss: 2.6676 - val_accuracy: 0.4586\n",
            "Epoch 41/50\n",
            "156/156 [==============================] - 5s 30ms/step - loss: 0.6228 - accuracy: 0.7942 - val_loss: 2.5913 - val_accuracy: 0.4731\n",
            "Epoch 42/50\n",
            "156/156 [==============================] - 5s 30ms/step - loss: 0.5980 - accuracy: 0.8029 - val_loss: 2.4504 - val_accuracy: 0.4851\n",
            "Epoch 43/50\n",
            "156/156 [==============================] - 5s 30ms/step - loss: 0.5745 - accuracy: 0.8077 - val_loss: 2.6083 - val_accuracy: 0.4691\n",
            "Epoch 44/50\n",
            "156/156 [==============================] - 5s 30ms/step - loss: 0.5614 - accuracy: 0.8141 - val_loss: 2.5261 - val_accuracy: 0.4908\n",
            "Epoch 45/50\n",
            "156/156 [==============================] - 5s 30ms/step - loss: 0.5469 - accuracy: 0.8187 - val_loss: 2.7771 - val_accuracy: 0.4651\n",
            "Epoch 46/50\n",
            "156/156 [==============================] - 5s 30ms/step - loss: 0.5186 - accuracy: 0.8324 - val_loss: 2.7376 - val_accuracy: 0.4827\n",
            "Epoch 47/50\n",
            "156/156 [==============================] - 5s 30ms/step - loss: 0.5109 - accuracy: 0.8302 - val_loss: 2.9393 - val_accuracy: 0.4522\n",
            "Epoch 48/50\n",
            "156/156 [==============================] - 5s 30ms/step - loss: 0.4912 - accuracy: 0.8352 - val_loss: 2.7386 - val_accuracy: 0.4723\n",
            "Epoch 49/50\n",
            "156/156 [==============================] - 5s 30ms/step - loss: 0.4935 - accuracy: 0.8360 - val_loss: 3.4945 - val_accuracy: 0.4120\n",
            "Epoch 50/50\n",
            "156/156 [==============================] - 5s 30ms/step - loss: 0.4936 - accuracy: 0.8336 - val_loss: 3.4411 - val_accuracy: 0.4072\n"
          ]
        }
      ]
    },
    {
      "cell_type": "code",
      "metadata": {
        "id": "ynhS2KjVEhj8",
        "colab": {
          "base_uri": "https://localhost:8080/",
          "height": 499
        },
        "outputId": "3d713807-5372-432d-ba51-ae5d103cee1d"
      },
      "source": [
        "acc = history.history['accuracy']\n",
        "val_acc = history.history['val_accuracy']\n",
        "\n",
        "loss = history.history['loss']\n",
        "val_loss = history.history['val_loss']\n",
        "\n",
        "epochs_range = range(epochs)\n",
        "\n",
        "plt.figure(figsize=(8, 8))\n",
        "plt.subplot(1, 2, 1)\n",
        "plt.plot(epochs_range, acc, label='Training Accuracy')\n",
        "plt.plot(epochs_range, val_acc, label='Validation Accuracy')\n",
        "plt.legend(loc='lower right')\n",
        "plt.title('Training and Validation Accuracy')\n",
        "\n",
        "plt.subplot(1, 2, 2)\n",
        "plt.plot(epochs_range, loss, label='Training Loss')\n",
        "plt.plot(epochs_range, val_loss, label='Validation Loss')\n",
        "plt.legend(loc='upper right')\n",
        "plt.title('Training and Validation Loss')\n",
        "plt.show()"
      ],
      "execution_count": null,
      "outputs": [
        {
          "output_type": "display_data",
          "data": {
            "image/png": "[encoded data removed]",
            "text/plain": [
              "<Figure size 576x576 with 2 Axes>"
            ]
          },
          "metadata": {
            "needs_background": "light"
          }
        }
      ]
    },
    {
      "cell_type": "code",
      "metadata": {
        "id": "IbEQMrsAH2yZ",
        "colab": {
          "base_uri": "https://localhost:8080/"
        },
        "outputId": "e623948a-b501-487e-d05e-64f72986736e"
      },
      "source": [
        "model.compile(\n",
        "    optimizer='adam',\n",
        "    loss=tf.losses.SparseCategoricalCrossentropy(from_logits=True),\n",
        "    metrics=['accuracy'])\n",
        "model.summary()"
      ],
      "execution_count": null,
      "outputs": [
        {
          "output_type": "stream",
          "name": "stdout",
          "text": [
            "Model: \"sequential_2\"\n",
            "_________________________________________________________________\n",
            " Layer (type)                Output Shape              Param #   \n",
            "=================================================================\n",
            " sequential_1 (Sequential)   (None, 180, 180, 1)       0         \n",
            "                                                                 \n",
            " rescaling_2 (Rescaling)     (None, 180, 180, 1)       0         \n",
            "                                                                 \n",
            " conv2d_3 (Conv2D)           (None, 178, 178, 64)      640       \n",
            "                                                                 \n",
            " max_pooling2d_3 (MaxPooling  (None, 89, 89, 64)       0         \n",
            " 2D)                                                             \n",
            "                                                                 \n",
            " conv2d_4 (Conv2D)           (None, 89, 89, 64)        36928     \n",
            "                                                                 \n",
            " max_pooling2d_4 (MaxPooling  (None, 44, 44, 64)       0         \n",
            " 2D)                                                             \n",
            "                                                                 \n",
            " conv2d_5 (Conv2D)           (None, 44, 44, 64)        36928     \n",
            "                                                                 \n",
            " max_pooling2d_5 (MaxPooling  (None, 22, 22, 64)       0         \n",
            " 2D)                                                             \n",
            "                                                                 \n",
            " dropout (Dropout)           (None, 22, 22, 64)        0         \n",
            "                                                                 \n",
            " flatten_1 (Flatten)         (None, 30976)             0         \n",
            "                                                                 \n",
            " dense_8 (Dense)             (None, 128)               3965056   \n",
            "                                                                 \n",
            " batch_normalization_8 (Batc  (None, 128)              512       \n",
            " hNormalization)                                                 \n",
            "                                                                 \n",
            " dense_9 (Dense)             (None, 128)               16512     \n",
            "                                                                 \n",
            " batch_normalization_9 (Batc  (None, 128)              512       \n",
            " hNormalization)                                                 \n",
            "                                                                 \n",
            " dense_10 (Dense)            (None, 128)               16512     \n",
            "                                                                 \n",
            " batch_normalization_10 (Bat  (None, 128)              512       \n",
            " chNormalization)                                                \n",
            "                                                                 \n",
            " dense_11 (Dense)            (None, 128)               16512     \n",
            "                                                                 \n",
            " batch_normalization_11 (Bat  (None, 128)              512       \n",
            " chNormalization)                                                \n",
            "                                                                 \n",
            " dense_12 (Dense)            (None, 128)               16512     \n",
            "                                                                 \n",
            " batch_normalization_12 (Bat  (None, 128)              512       \n",
            " chNormalization)                                                \n",
            "                                                                 \n",
            " dense_13 (Dense)            (None, 128)               16512     \n",
            "                                                                 \n",
            " batch_normalization_13 (Bat  (None, 128)              512       \n",
            " chNormalization)                                                \n",
            "                                                                 \n",
            " dense_14 (Dense)            (None, 107)               13803     \n",
            "                                                                 \n",
            " batch_normalization_14 (Bat  (None, 107)              428       \n",
            " chNormalization)                                                \n",
            "                                                                 \n",
            " dense_15 (Dense)            (None, 107)               11556     \n",
            "                                                                 \n",
            "=================================================================\n",
            "Total params: 4,150,971\n",
            "Trainable params: 4,149,221\n",
            "Non-trainable params: 1,750\n",
            "_________________________________________________________________\n"
          ]
        }
      ]
    },
    {
      "cell_type": "code",
      "metadata": {
        "id": "df30HUqFjWre"
      },
      "source": [
        ""
      ],
      "execution_count": null,
      "outputs": []
    }
  ]
}