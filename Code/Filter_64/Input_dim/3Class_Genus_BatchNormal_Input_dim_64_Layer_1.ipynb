{
  "nbformat": 4,
  "nbformat_minor": 0,
  "metadata": {
    "colab": {
      "name": "3Class_Genus_BatchNormal_Input_dim_64_Layer_1.ipynb",
      "provenance": [],
      "collapsed_sections": [],
      "mount_file_id": "1vpkZyeFa1MbYX2cIQEh-SIYKzTy2mkAn",
      "authorship_tag": "ABX9TyNqLuxhWe7s6isQIUh/75HC",
      "include_colab_link": true
    },
    "kernelspec": {
      "name": "python3",
      "display_name": "Python 3"
    },
    "language_info": {
      "name": "python"
    },
    "accelerator": "GPU"
  },
  "cells": [
    {
      "cell_type": "markdown",
      "metadata": {
        "id": "view-in-github",
        "colab_type": "text"
      },
      "source": [
        "<a href=\"https://colab.research.google.com/github/Tajyu/Master_Degree_Paper/blob/main/Code/Filter_64/Input_dim/3Class_Genus_BatchNormal_Input_dim_64_Layer_1.ipynb\" target=\"_parent\"><img src=\"https://colab.research.google.com/assets/colab-badge.svg\" alt=\"Open In Colab\"/></a>"
      ]
    },
    {
      "cell_type": "code",
      "metadata": {
        "id": "yWckd06_68Em"
      },
      "source": [
        "import tensorflow as tf\n",
        "from tensorflow.keras import datasets, layers, models\n",
        "from keras.preprocessing.image import ImageDataGenerator\n",
        "import numpy as np\n",
        "import matplotlib.pyplot as plt\n",
        "import cv2 as cv\n",
        "import os\n",
        "import pathlib\n",
        "import PIL\n",
        "from tensorflow import keras\n",
        "from tensorflow.keras import layers\n",
        "from tensorflow.keras.models import Sequential\n",
        "from tensorflow.keras.layers import Dense, Flatten, BatchNormalization, Dropout"
      ],
      "execution_count": null,
      "outputs": []
    },
    {
      "cell_type": "code",
      "metadata": {
        "colab": {
          "base_uri": "https://localhost:8080/"
        },
        "id": "kEHojDfIYAxL",
        "outputId": "29acc79b-3a9b-4f4c-ac8f-3dc933d3bd8d"
      },
      "source": [
        "from google.colab import drive\n",
        "drive.mount('/content/drive')"
      ],
      "execution_count": null,
      "outputs": [
        {
          "output_type": "stream",
          "name": "stdout",
          "text": [
            "Drive already mounted at /content/drive; to attempt to forcibly remount, call drive.mount(\"/content/drive\", force_remount=True).\n"
          ]
        }
      ]
    },
    {
      "cell_type": "code",
      "metadata": {
        "id": "xav9zirHttk_"
      },
      "source": [
        "image_list = os.listdir('/content/drive/MyDrive/Colab Notebooks/Final_Project/Cell_Genus')"
      ],
      "execution_count": null,
      "outputs": []
    },
    {
      "cell_type": "code",
      "metadata": {
        "colab": {
          "base_uri": "https://localhost:8080/"
        },
        "id": "K-wD0dM5tx_E",
        "outputId": "1e1014da-32a3-44ef-bf75-2b8d71ad0a3c"
      },
      "source": [
        "print(image_list)"
      ],
      "execution_count": null,
      "outputs": [
        {
          "output_type": "stream",
          "name": "stdout",
          "text": [
            "['10_Genus_Stauroneis_Ehrenberg', '10_Genus_Staurosira_Ehrenberg', '11_Genus_Craspedostauros_E.J_Cox_1999', '11_Genus_Staurosirella_Williams_and_Round', '12_Genus_Caloneis_Cleve_1894', '12_Genus_Synedra_Ehrenberg', '13_Genus_Pinnularia_Ehrenberg_1843', '1_Genus_Acanthoceras_Honigmann', '1_Genus_Achnanthes_Bory', '1_Genus_Actinocyclus_Ehrenberg', '1_Genus_Aphanocapsa_Nageli_1849', '1_Genus_Asterionella_Hassall', '1_Genus_Aulacoseira', '1_Genus_Biremis_Mann_et_Cox_in_Round_Crawford_and_Mann', '1_Genus_Characium_A_Braun_in_Kutzing_1849', '1_Genus_Chroococcus_Nageli', '1_Genus_Closterium_Nitzsch_ex_Ralfs_1848', '1_Genus_Coelastrum_Nageli_1849', '1_Genus_Cylindrocystis_Meneghini_ex_de_Bary_1858', '1_Genus_Dictyosphaerium_Nageli_1849', '1_Genus_Docidium_Brebisson_ex_Ralfs_1848', '1_Genus_Eunotia_Ehrenberg', '1_Genus_Geitlerinema_(Anagnostidis_et_Komarek)_Anagnostidis_1989', '1_Genus_Gonatozygon_de_Bary_1856', '1_Genus_Hydrodictyon_Roth_1797', '1_Genus_Hydrosera_whampoensis', '1_Genus_Jaaginema_Anagnostidis_et_Komarek_1988', '1_Genus_Lyngbya_C_Agardh_ex_Gomont_1892', '1_Genus_Melosira_Agardh', '1_Genus_Micractinium_Fresenius_1858', '1_Genus_Micrasterias_Ralfs_1848', '1_Genus_Microcystis_Kutzing_ex_Lemmermann_1907', '1_Genus_Oscillatoria_Vaucher_ex_Gomont_1982', '1_Genus_Pediastrum_Meyen_1829', '1_Genus_Penium_Brebisson_ex_Ralfs_in_Ralfs_1848', '1_Genus_Phormidium_Kutzing_ex_Gomont_1892', '1_Genus_Planktothrix_Anagnostidis_et_Komarek_1988', '1_Genus_Pleurosira_laevis_(Ehrenberg)', '1_Genus_Rhizosolenia_Ehrenberg', '1_Genus_Schizochlamydella_Korshikov_1953', '1_Genus_Staurodesmus_Teiling_1848', '1_Genus_Trochiscia_Kutzing_1834', '1_Scenedesmus_Hegewald_1978', '2_Acutodesmus_Hegewald_1978', '2_Genus_Achnanthidium_Kutzing', '2_Genus_Actinastrum_Lagerheim_1882', '2_Genus_Actinella_Lewis', '2_Genus_Ankyra_Fott_1957', '2_Genus_Caloneis_Cleve', '2_Genus_Chaetoceros_Ehrenberg', '2_Genus_Coenochloris_Korshikov_1953', '2_Genus_Cyclotella', '2_Genus_Diatoma_Bory', '2_Genus_Dimorphococcus_A_Braun_1855', '2_Genus_Golenkinia_Chodat_1894', '2_Genus_Haplotaenium_Bando_1988', '2_Genus_Leibleinia_(Gomont)_L_Hoffman_1985', '2_Genus_Leptolyngbya_Anagnostidis_et_Komarek_1988', '2_Genus_Merismopedia_Meyen_1839', '2_Genus_Netrium_(Nageli)_Itzigsohn_et_Rothe_in_Rabenhorst_1856', '2_Genus_Orthoseira_Thwaites_1848', '2_Genus_Phormidium_Kutzing_ex_Gomont_1892', '2_Genus_Sorastrum_Kutzing_1845', '2_Genus_Staurastrum_Meyen_ex_Ralfs_1848', '3_Desmodesmus_Chodat_1926', '3_Genus_Acanthosphaera_Lemmerman_1899', '3_Genus_Anorthoneis_Grunow', '3_Genus_Cyclostephanos_Round', '3_Genus_Dichotomococcus_Korshikov_1928', '3_Genus_Heteroleibleinia_(Geitler)_L_Hoffmann_1985', '3_Genus_Limnothrix_Meffert_1988', '3_Genus_Meridion_Agardh', '3_Genus_Paradoxia_Svirenko_1928', '3_Genus_Peronia_Bebisson_and_Arnott_ex_Kitton', '3_Genus_Phormidiochaete_Komarek_in_Anagnostidis_2001', '3_Genus_Pinnularia_Ehrenberg_1', '3_Genus_Pleurotaenium_Nageli_1849', '3_Genus_Radiococcus_Schmidle_1902', '3_Genus_Snowella_Elenkin_1938', '3_Genus_Spirotaenia_Brebisson_in_Ralfs_1848', '4_Genus_Botryococcus_Kutzing_1849', '4_Genus_Cocconeis_Ehrenberg', '4_Genus_Eutetramorus_Walton_1918', '4_Genus_Leptolyngbya_Anagnostidis_et_Komarek_1988', '4_Genus_Opephora_Petit', '4_Genus_Pinnularia_Ehrenberg_2', '4_Genus_Schroederia_Lemmermann_1898', '4_Genus_Stephanodiscus_Ehrenberg', '4_Genus_Synechocystis_Sauvageau_1892', '4_Genus_Tortitaenia_A_J_Brook_1998', '5_Genus_Caloneis_Cleve', '5_Genus_Coenocystis_Korshikov_1953', '5_Genus_Planktolyngbya_Anagnostidis_et_Komarek_1988', '5_Genus_Tabellaria_Ehrenberg', '5_Genus_Thalassiosira_Cleve', '5_Genus_Woronichinia_Elenkin_1933', '6_Genus_Anomoeoneis_Pfitzer', '6_Genus_Fragilaria_Lyngbye', '6_Genus_Gloeocystis_Nageli_1849', '6_Genus_Pseudanabaena_Lauterborn_1915', '6_Genus_Skeletonema_Greville', '7_Genus_Caloneis_Cleve', '7_Genus_Hannaea_Patrick', '8_Genus_Diploneis(Ehrenberg)_Cleve', '8_Genus_Pseudostaurosira_Williams_and_Round', '9_Genus_Neidium_Pfitzer', '9_Genus_Punctastriata_Williams_and_Round']\n"
          ]
        }
      ]
    },
    {
      "cell_type": "code",
      "metadata": {
        "id": "o-0DvzEHt8VE"
      },
      "source": [
        "data_generator = ImageDataGenerator(rescale = 1./255)\n",
        "\n",
        "data_dir = \"/content/drive/MyDrive/Colab Notebooks/Final_Project/Cell_Genus\""
      ],
      "execution_count": null,
      "outputs": []
    },
    {
      "cell_type": "code",
      "metadata": {
        "id": "7aTCfEm3t10n"
      },
      "source": [
        "batch_size = 32\n",
        "img_height = 180\n",
        "img_width = 180"
      ],
      "execution_count": null,
      "outputs": []
    },
    {
      "cell_type": "code",
      "metadata": {
        "colab": {
          "base_uri": "https://localhost:8080/"
        },
        "id": "9Smg-miEt22s",
        "outputId": "3d48e1e5-4dd5-4600-bba7-e880834eacfc"
      },
      "source": [
        "train_ds = tf.keras.preprocessing.image_dataset_from_directory(\n",
        "  data_dir,\n",
        "  color_mode = \"grayscale\",\n",
        "  validation_split=0.2,\n",
        "  subset=\"training\",\n",
        "  seed=123,\n",
        "  image_size=(img_height, img_width),\n",
        "  batch_size=batch_size)"
      ],
      "execution_count": null,
      "outputs": [
        {
          "output_type": "stream",
          "name": "stdout",
          "text": [
            "Found 6226 files belonging to 107 classes.\n",
            "Using 4981 files for training.\n"
          ]
        }
      ]
    },
    {
      "cell_type": "code",
      "metadata": {
        "colab": {
          "base_uri": "https://localhost:8080/"
        },
        "id": "1nR0WdQGt44x",
        "outputId": "2ad64272-5881-4a97-91df-0d1f23dbf433"
      },
      "source": [
        "val_ds = tf.keras.preprocessing.image_dataset_from_directory(\n",
        "  data_dir,\n",
        "  color_mode = \"grayscale\",\n",
        "  validation_split=0.2,\n",
        "  subset=\"validation\",\n",
        "  seed=123,\n",
        "  image_size=(img_height, img_width),\n",
        "  batch_size=batch_size)"
      ],
      "execution_count": null,
      "outputs": [
        {
          "output_type": "stream",
          "name": "stdout",
          "text": [
            "Found 6226 files belonging to 107 classes.\n",
            "Using 1245 files for validation.\n"
          ]
        }
      ]
    },
    {
      "cell_type": "code",
      "metadata": {
        "colab": {
          "base_uri": "https://localhost:8080/"
        },
        "id": "F-cz_CtGug8Y",
        "outputId": "89ee6ea0-db3e-4522-a326-06424a5c331b"
      },
      "source": [
        "class_names = train_ds.class_names\n",
        "print(class_names)"
      ],
      "execution_count": null,
      "outputs": [
        {
          "output_type": "stream",
          "name": "stdout",
          "text": [
            "['10_Genus_Stauroneis_Ehrenberg', '10_Genus_Staurosira_Ehrenberg', '11_Genus_Craspedostauros_E.J_Cox_1999', '11_Genus_Staurosirella_Williams_and_Round', '12_Genus_Caloneis_Cleve_1894', '12_Genus_Synedra_Ehrenberg', '13_Genus_Pinnularia_Ehrenberg_1843', '1_Genus_Acanthoceras_Honigmann', '1_Genus_Achnanthes_Bory', '1_Genus_Actinocyclus_Ehrenberg', '1_Genus_Aphanocapsa_Nageli_1849', '1_Genus_Asterionella_Hassall', '1_Genus_Aulacoseira', '1_Genus_Biremis_Mann_et_Cox_in_Round_Crawford_and_Mann', '1_Genus_Characium_A_Braun_in_Kutzing_1849', '1_Genus_Chroococcus_Nageli', '1_Genus_Closterium_Nitzsch_ex_Ralfs_1848', '1_Genus_Coelastrum_Nageli_1849', '1_Genus_Cylindrocystis_Meneghini_ex_de_Bary_1858', '1_Genus_Dictyosphaerium_Nageli_1849', '1_Genus_Docidium_Brebisson_ex_Ralfs_1848', '1_Genus_Eunotia_Ehrenberg', '1_Genus_Geitlerinema_(Anagnostidis_et_Komarek)_Anagnostidis_1989', '1_Genus_Gonatozygon_de_Bary_1856', '1_Genus_Hydrodictyon_Roth_1797', '1_Genus_Hydrosera_whampoensis', '1_Genus_Jaaginema_Anagnostidis_et_Komarek_1988', '1_Genus_Lyngbya_C_Agardh_ex_Gomont_1892', '1_Genus_Melosira_Agardh', '1_Genus_Micractinium_Fresenius_1858', '1_Genus_Micrasterias_Ralfs_1848', '1_Genus_Microcystis_Kutzing_ex_Lemmermann_1907', '1_Genus_Oscillatoria_Vaucher_ex_Gomont_1982', '1_Genus_Pediastrum_Meyen_1829', '1_Genus_Penium_Brebisson_ex_Ralfs_in_Ralfs_1848', '1_Genus_Phormidium_Kutzing_ex_Gomont_1892', '1_Genus_Planktothrix_Anagnostidis_et_Komarek_1988', '1_Genus_Pleurosira_laevis_(Ehrenberg)', '1_Genus_Rhizosolenia_Ehrenberg', '1_Genus_Schizochlamydella_Korshikov_1953', '1_Genus_Staurodesmus_Teiling_1848', '1_Genus_Trochiscia_Kutzing_1834', '1_Scenedesmus_Hegewald_1978', '2_Acutodesmus_Hegewald_1978', '2_Genus_Achnanthidium_Kutzing', '2_Genus_Actinastrum_Lagerheim_1882', '2_Genus_Actinella_Lewis', '2_Genus_Ankyra_Fott_1957', '2_Genus_Caloneis_Cleve', '2_Genus_Chaetoceros_Ehrenberg', '2_Genus_Coenochloris_Korshikov_1953', '2_Genus_Cyclotella', '2_Genus_Diatoma_Bory', '2_Genus_Dimorphococcus_A_Braun_1855', '2_Genus_Golenkinia_Chodat_1894', '2_Genus_Haplotaenium_Bando_1988', '2_Genus_Leibleinia_(Gomont)_L_Hoffman_1985', '2_Genus_Leptolyngbya_Anagnostidis_et_Komarek_1988', '2_Genus_Merismopedia_Meyen_1839', '2_Genus_Netrium_(Nageli)_Itzigsohn_et_Rothe_in_Rabenhorst_1856', '2_Genus_Orthoseira_Thwaites_1848', '2_Genus_Phormidium_Kutzing_ex_Gomont_1892', '2_Genus_Sorastrum_Kutzing_1845', '2_Genus_Staurastrum_Meyen_ex_Ralfs_1848', '3_Desmodesmus_Chodat_1926', '3_Genus_Acanthosphaera_Lemmerman_1899', '3_Genus_Anorthoneis_Grunow', '3_Genus_Cyclostephanos_Round', '3_Genus_Dichotomococcus_Korshikov_1928', '3_Genus_Heteroleibleinia_(Geitler)_L_Hoffmann_1985', '3_Genus_Limnothrix_Meffert_1988', '3_Genus_Meridion_Agardh', '3_Genus_Paradoxia_Svirenko_1928', '3_Genus_Peronia_Bebisson_and_Arnott_ex_Kitton', '3_Genus_Phormidiochaete_Komarek_in_Anagnostidis_2001', '3_Genus_Pinnularia_Ehrenberg_1', '3_Genus_Pleurotaenium_Nageli_1849', '3_Genus_Radiococcus_Schmidle_1902', '3_Genus_Snowella_Elenkin_1938', '3_Genus_Spirotaenia_Brebisson_in_Ralfs_1848', '4_Genus_Botryococcus_Kutzing_1849', '4_Genus_Cocconeis_Ehrenberg', '4_Genus_Eutetramorus_Walton_1918', '4_Genus_Leptolyngbya_Anagnostidis_et_Komarek_1988', '4_Genus_Opephora_Petit', '4_Genus_Pinnularia_Ehrenberg_2', '4_Genus_Schroederia_Lemmermann_1898', '4_Genus_Stephanodiscus_Ehrenberg', '4_Genus_Synechocystis_Sauvageau_1892', '4_Genus_Tortitaenia_A_J_Brook_1998', '5_Genus_Caloneis_Cleve', '5_Genus_Coenocystis_Korshikov_1953', '5_Genus_Planktolyngbya_Anagnostidis_et_Komarek_1988', '5_Genus_Tabellaria_Ehrenberg', '5_Genus_Thalassiosira_Cleve', '5_Genus_Woronichinia_Elenkin_1933', '6_Genus_Anomoeoneis_Pfitzer', '6_Genus_Fragilaria_Lyngbye', '6_Genus_Gloeocystis_Nageli_1849', '6_Genus_Pseudanabaena_Lauterborn_1915', '6_Genus_Skeletonema_Greville', '7_Genus_Caloneis_Cleve', '7_Genus_Hannaea_Patrick', '8_Genus_Diploneis(Ehrenberg)_Cleve', '8_Genus_Pseudostaurosira_Williams_and_Round', '9_Genus_Neidium_Pfitzer', '9_Genus_Punctastriata_Williams_and_Round']\n"
          ]
        }
      ]
    },
    {
      "cell_type": "code",
      "metadata": {
        "colab": {
          "base_uri": "https://localhost:8080/"
        },
        "id": "5EQOikPAukic",
        "outputId": "33e7ae9a-c93d-4265-efbf-b2d010b18d35"
      },
      "source": [
        "for image_batch, labels_batch in train_ds:\n",
        "  print(image_batch.shape)\n",
        "  print(labels_batch.shape)\n",
        "  break"
      ],
      "execution_count": null,
      "outputs": [
        {
          "output_type": "stream",
          "name": "stdout",
          "text": [
            "(32, 180, 180, 1)\n",
            "(32,)\n"
          ]
        }
      ]
    },
    {
      "cell_type": "code",
      "metadata": {
        "id": "9eVl7tiDux9q"
      },
      "source": [
        "from tensorflow.keras import layers\n",
        "\n",
        "normalization_layer = tf.keras.layers.experimental.preprocessing.Rescaling(1./255)"
      ],
      "execution_count": null,
      "outputs": []
    },
    {
      "cell_type": "code",
      "metadata": {
        "colab": {
          "base_uri": "https://localhost:8080/"
        },
        "id": "AiIrsxzZuzEo",
        "outputId": "ba3ddd5c-0d94-499c-ba43-909963e338df"
      },
      "source": [
        "normalized_ds = train_ds.map(lambda x, y: (normalization_layer(x), y))\n",
        "image_batch, labels_batch = next(iter(normalized_ds))\n",
        "first_image = image_batch[0]\n",
        "# Notice the pixels values are now in `[0,1]`.\n",
        "print(np.min(first_image), np.max(first_image))"
      ],
      "execution_count": null,
      "outputs": [
        {
          "output_type": "stream",
          "name": "stdout",
          "text": [
            "0.0 1.0\n"
          ]
        }
      ]
    },
    {
      "cell_type": "code",
      "metadata": {
        "id": "__WbVabru0Bp"
      },
      "source": [
        "AUTOTUNE = tf.data.experimental.AUTOTUNE\n",
        "\n",
        "train_ds = train_ds.cache().prefetch(buffer_size=AUTOTUNE)\n",
        "val_ds = val_ds.cache().prefetch(buffer_size=AUTOTUNE)"
      ],
      "execution_count": null,
      "outputs": []
    },
    {
      "cell_type": "code",
      "metadata": {
        "id": "g1GeYFXCu2gV"
      },
      "source": [
        "num_classes = 107\n",
        "model = tf.keras.Sequential([\n",
        "    layers.experimental.preprocessing.Rescaling(1./255),\n",
        "    layers.Conv2D(64, 3,input_shape = image_batch, activation='relu'),\n",
        "    layers.MaxPooling2D(),\n",
        "    layers.Conv2D(64, 3, activation='relu'),\n",
        "    layers.MaxPooling2D(),\n",
        "    layers.Conv2D(64, 3, activation='relu'),\n",
        "    layers.MaxPooling2D(),\n",
        "    layers.Flatten(),\n",
        "    BatchNormalization(),\n",
        "    layers.Dense(107, input_dim = 107, activation='softmax'),\n",
        "    BatchNormalization(),\n",
        "    layers.Dense(num_classes)\n",
        "    ])"
      ],
      "execution_count": null,
      "outputs": []
    },
    {
      "cell_type": "code",
      "metadata": {
        "id": "wU4xPAvNYWry"
      },
      "source": [
        "model.compile(\n",
        "    optimizer='adam',\n",
        "    loss=tf.losses.SparseCategoricalCrossentropy(from_logits=True),\n",
        "    metrics=['accuracy'])"
      ],
      "execution_count": null,
      "outputs": []
    },
    {
      "cell_type": "code",
      "metadata": {
        "colab": {
          "base_uri": "https://localhost:8080/"
        },
        "id": "Tk8ssrbHu44p",
        "outputId": "4e2aead7-7aad-42e9-9003-d588bad1bba8"
      },
      "source": [
        "epochs=50\n",
        "history = model.fit(\n",
        "  train_ds,\n",
        "  validation_data=val_ds,\n",
        "  epochs=epochs\n",
        ")"
      ],
      "execution_count": null,
      "outputs": [
        {
          "output_type": "stream",
          "name": "stdout",
          "text": [
            "Epoch 1/50\n",
            "156/156 [==============================] - 640s 4s/step - loss: 3.4082 - accuracy: 0.2959 - val_loss: 4.2307 - val_accuracy: 0.0980\n",
            "Epoch 2/50\n",
            "156/156 [==============================] - 4s 26ms/step - loss: 1.9963 - accuracy: 0.5125 - val_loss: 3.8854 - val_accuracy: 0.1052\n",
            "Epoch 3/50\n",
            "156/156 [==============================] - 4s 26ms/step - loss: 1.3672 - accuracy: 0.6772 - val_loss: 3.2531 - val_accuracy: 0.3478\n",
            "Epoch 4/50\n",
            "156/156 [==============================] - 4s 26ms/step - loss: 0.9386 - accuracy: 0.7956 - val_loss: 2.4047 - val_accuracy: 0.4169\n",
            "Epoch 5/50\n",
            "156/156 [==============================] - 4s 26ms/step - loss: 0.6535 - accuracy: 0.8647 - val_loss: 2.3036 - val_accuracy: 0.4490\n",
            "Epoch 6/50\n",
            "156/156 [==============================] - 4s 26ms/step - loss: 0.4537 - accuracy: 0.9143 - val_loss: 2.3097 - val_accuracy: 0.4522\n",
            "Epoch 7/50\n",
            "156/156 [==============================] - 4s 25ms/step - loss: 0.3154 - accuracy: 0.9428 - val_loss: 2.3849 - val_accuracy: 0.4763\n",
            "Epoch 8/50\n",
            "156/156 [==============================] - 4s 26ms/step - loss: 0.2159 - accuracy: 0.9679 - val_loss: 2.4594 - val_accuracy: 0.4610\n",
            "Epoch 9/50\n",
            "156/156 [==============================] - 4s 26ms/step - loss: 0.1618 - accuracy: 0.9755 - val_loss: 2.2845 - val_accuracy: 0.5044\n",
            "Epoch 10/50\n",
            "156/156 [==============================] - 4s 26ms/step - loss: 0.1263 - accuracy: 0.9793 - val_loss: 2.3199 - val_accuracy: 0.5084\n",
            "Epoch 11/50\n",
            "156/156 [==============================] - 4s 26ms/step - loss: 0.1040 - accuracy: 0.9825 - val_loss: 2.2911 - val_accuracy: 0.4956\n",
            "Epoch 12/50\n",
            "156/156 [==============================] - 4s 26ms/step - loss: 0.0848 - accuracy: 0.9845 - val_loss: 2.4565 - val_accuracy: 0.4964\n",
            "Epoch 13/50\n",
            "156/156 [==============================] - 4s 26ms/step - loss: 0.0726 - accuracy: 0.9863 - val_loss: 2.5367 - val_accuracy: 0.4827\n",
            "Epoch 14/50\n",
            "156/156 [==============================] - 4s 26ms/step - loss: 0.0569 - accuracy: 0.9898 - val_loss: 2.5781 - val_accuracy: 0.4876\n",
            "Epoch 15/50\n",
            "156/156 [==============================] - 4s 26ms/step - loss: 0.0479 - accuracy: 0.9908 - val_loss: 2.4830 - val_accuracy: 0.4908\n",
            "Epoch 16/50\n",
            "156/156 [==============================] - 4s 26ms/step - loss: 0.0429 - accuracy: 0.9906 - val_loss: 2.6481 - val_accuracy: 0.4819\n",
            "Epoch 17/50\n",
            "156/156 [==============================] - 4s 26ms/step - loss: 0.0403 - accuracy: 0.9940 - val_loss: 2.6756 - val_accuracy: 0.4594\n",
            "Epoch 18/50\n",
            "156/156 [==============================] - 4s 26ms/step - loss: 0.0379 - accuracy: 0.9940 - val_loss: 2.7439 - val_accuracy: 0.4843\n",
            "Epoch 19/50\n",
            "156/156 [==============================] - 4s 26ms/step - loss: 0.0416 - accuracy: 0.9910 - val_loss: 3.1770 - val_accuracy: 0.4225\n",
            "Epoch 20/50\n",
            "156/156 [==============================] - 4s 26ms/step - loss: 0.1323 - accuracy: 0.9695 - val_loss: 3.7529 - val_accuracy: 0.3888\n",
            "Epoch 21/50\n",
            "156/156 [==============================] - 4s 25ms/step - loss: 0.1651 - accuracy: 0.9580 - val_loss: 3.6552 - val_accuracy: 0.3896\n",
            "Epoch 22/50\n",
            "156/156 [==============================] - 4s 26ms/step - loss: 0.1537 - accuracy: 0.9615 - val_loss: 3.7905 - val_accuracy: 0.4161\n",
            "Epoch 23/50\n",
            "156/156 [==============================] - 4s 26ms/step - loss: 0.0833 - accuracy: 0.9833 - val_loss: 2.8431 - val_accuracy: 0.4667\n",
            "Epoch 24/50\n",
            "156/156 [==============================] - 4s 26ms/step - loss: 0.0399 - accuracy: 0.9938 - val_loss: 2.8516 - val_accuracy: 0.4819\n",
            "Epoch 25/50\n",
            "156/156 [==============================] - 4s 26ms/step - loss: 0.0250 - accuracy: 0.9954 - val_loss: 2.9678 - val_accuracy: 0.4755\n",
            "Epoch 26/50\n",
            "156/156 [==============================] - 4s 26ms/step - loss: 0.0218 - accuracy: 0.9962 - val_loss: 2.9341 - val_accuracy: 0.4819\n",
            "Epoch 27/50\n",
            "156/156 [==============================] - 4s 26ms/step - loss: 0.0182 - accuracy: 0.9970 - val_loss: 3.0098 - val_accuracy: 0.4827\n",
            "Epoch 28/50\n",
            "156/156 [==============================] - 4s 26ms/step - loss: 0.0182 - accuracy: 0.9964 - val_loss: 3.2754 - val_accuracy: 0.4771\n",
            "Epoch 29/50\n",
            "156/156 [==============================] - 4s 26ms/step - loss: 0.0140 - accuracy: 0.9976 - val_loss: 2.8509 - val_accuracy: 0.4819\n",
            "Epoch 30/50\n",
            "156/156 [==============================] - 4s 26ms/step - loss: 0.0152 - accuracy: 0.9976 - val_loss: 3.1304 - val_accuracy: 0.4908\n",
            "Epoch 31/50\n",
            "156/156 [==============================] - 4s 26ms/step - loss: 0.0160 - accuracy: 0.9972 - val_loss: 3.1087 - val_accuracy: 0.4964\n",
            "Epoch 32/50\n",
            "156/156 [==============================] - 4s 26ms/step - loss: 0.0097 - accuracy: 0.9982 - val_loss: 3.1789 - val_accuracy: 0.4827\n",
            "Epoch 33/50\n",
            "156/156 [==============================] - 4s 26ms/step - loss: 0.0119 - accuracy: 0.9976 - val_loss: 3.1547 - val_accuracy: 0.4908\n",
            "Epoch 34/50\n",
            "156/156 [==============================] - 4s 26ms/step - loss: 0.0082 - accuracy: 0.9984 - val_loss: 3.1518 - val_accuracy: 0.4964\n",
            "Epoch 35/50\n",
            "156/156 [==============================] - 4s 26ms/step - loss: 0.0070 - accuracy: 0.9986 - val_loss: 3.2615 - val_accuracy: 0.4900\n",
            "Epoch 36/50\n",
            "156/156 [==============================] - 4s 26ms/step - loss: 0.0055 - accuracy: 0.9996 - val_loss: 3.2997 - val_accuracy: 0.4988\n",
            "Epoch 37/50\n",
            "156/156 [==============================] - 4s 26ms/step - loss: 0.0053 - accuracy: 0.9996 - val_loss: 3.2940 - val_accuracy: 0.4988\n",
            "Epoch 38/50\n",
            "156/156 [==============================] - 4s 26ms/step - loss: 0.0058 - accuracy: 0.9996 - val_loss: 3.2568 - val_accuracy: 0.4948\n",
            "Epoch 39/50\n",
            "156/156 [==============================] - 4s 26ms/step - loss: 0.0047 - accuracy: 0.9994 - val_loss: 3.1312 - val_accuracy: 0.5052\n",
            "Epoch 40/50\n",
            "156/156 [==============================] - 4s 26ms/step - loss: 0.0040 - accuracy: 0.9996 - val_loss: 3.1417 - val_accuracy: 0.5004\n",
            "Epoch 41/50\n",
            "156/156 [==============================] - 4s 26ms/step - loss: 0.0024 - accuracy: 1.0000 - val_loss: 3.2413 - val_accuracy: 0.4964\n",
            "Epoch 42/50\n",
            "156/156 [==============================] - 4s 26ms/step - loss: 0.0028 - accuracy: 0.9996 - val_loss: 3.1928 - val_accuracy: 0.4988\n",
            "Epoch 43/50\n",
            "156/156 [==============================] - 4s 26ms/step - loss: 0.0032 - accuracy: 0.9998 - val_loss: 4.9074 - val_accuracy: 0.3944\n",
            "Epoch 44/50\n",
            "156/156 [==============================] - 4s 26ms/step - loss: 0.0113 - accuracy: 0.9982 - val_loss: 5.0042 - val_accuracy: 0.3968\n",
            "Epoch 45/50\n",
            "156/156 [==============================] - 4s 26ms/step - loss: 0.5879 - accuracy: 0.8384 - val_loss: 6.4619 - val_accuracy: 0.3133\n",
            "Epoch 46/50\n",
            "156/156 [==============================] - 4s 26ms/step - loss: 0.4528 - accuracy: 0.8661 - val_loss: 4.2489 - val_accuracy: 0.3719\n",
            "Epoch 47/50\n",
            "156/156 [==============================] - 4s 25ms/step - loss: 0.1269 - accuracy: 0.9665 - val_loss: 3.4470 - val_accuracy: 0.4490\n",
            "Epoch 48/50\n",
            "156/156 [==============================] - 4s 26ms/step - loss: 0.0373 - accuracy: 0.9954 - val_loss: 3.1146 - val_accuracy: 0.4610\n",
            "Epoch 49/50\n",
            "156/156 [==============================] - 4s 26ms/step - loss: 0.0158 - accuracy: 0.9992 - val_loss: 3.0352 - val_accuracy: 0.4731\n",
            "Epoch 50/50\n",
            "156/156 [==============================] - 4s 26ms/step - loss: 0.0109 - accuracy: 0.9988 - val_loss: 3.1452 - val_accuracy: 0.4739\n"
          ]
        }
      ]
    },
    {
      "cell_type": "code",
      "metadata": {
        "colab": {
          "base_uri": "https://localhost:8080/",
          "height": 499
        },
        "id": "f1z_vHocu59c",
        "outputId": "5165ecb6-4377-4bb6-81a4-bdc6700e2aff"
      },
      "source": [
        "acc = history.history['accuracy']\n",
        "val_acc = history.history['val_accuracy']\n",
        "\n",
        "loss=history.history['loss']\n",
        "val_loss=history.history['val_loss']\n",
        "\n",
        "epochs_range = range(epochs)\n",
        "\n",
        "plt.figure(figsize=(8, 8))\n",
        "plt.subplot(1, 2, 1)\n",
        "plt.plot(epochs_range, acc, label='Training Accuracy')\n",
        "plt.plot(epochs_range, val_acc, label='Validation Accuracy')\n",
        "plt.legend(loc='lower right')\n",
        "plt.title('Training and Validation Accuracy')\n",
        "\n",
        "plt.subplot(1, 2, 2)\n",
        "plt.plot(epochs_range, loss, label='Training Loss')\n",
        "plt.plot(epochs_range, val_loss, label='Validation Loss')\n",
        "plt.legend(loc='upper right')\n",
        "plt.title('Training and Validation Loss')\n",
        "plt.show()"
      ],
      "execution_count": null,
      "outputs": [
        {
          "output_type": "display_data",
          "data": {
            "image/png": "[encoded data removed]",
            "text/plain": [
              "<Figure size 576x576 with 2 Axes>"
            ]
          },
          "metadata": {
            "needs_background": "light"
          }
        }
      ]
    },
    {
      "cell_type": "code",
      "metadata": {
        "id": "XinJ6xXD9YNO"
      },
      "source": [
        "data_augmentation = keras.Sequential(\n",
        "  [\n",
        "    layers.experimental.preprocessing.RandomFlip(\"horizontal\", \n",
        "                                                 input_shape=(img_height, \n",
        "                                                              img_width,\n",
        "                                                              1)),\n",
        "    layers.experimental.preprocessing.RandomRotation(0.1),\n",
        "    layers.experimental.preprocessing.RandomZoom(0.1),\n",
        "  ]\n",
        ")"
      ],
      "execution_count": null,
      "outputs": []
    },
    {
      "cell_type": "code",
      "metadata": {
        "id": "8WT2BYElEYZj"
      },
      "source": [
        "model = Sequential([\n",
        "  data_augmentation,\n",
        "  layers.experimental.preprocessing.Rescaling(1./255),\n",
        "  layers.Conv2D(64, 3,input_shape = image_batch, activation='relu'),\n",
        "  layers.MaxPooling2D(),\n",
        "  layers.Conv2D(64, 3, padding='same', activation='relu'),\n",
        "  layers.MaxPooling2D(),\n",
        "  layers.Conv2D(64, 3, padding='same', activation='relu'),\n",
        "  layers.MaxPooling2D(),\n",
        "  layers.Dropout(0.2),\n",
        "  layers.Flatten(),\n",
        "  BatchNormalization(),\n",
        "  layers.Dense(107, input_dim = 107,activation='softmax'),\n",
        "  BatchNormalization(),\n",
        "  layers.Dense(num_classes)\n",
        "])"
      ],
      "execution_count": null,
      "outputs": []
    },
    {
      "cell_type": "code",
      "metadata": {
        "id": "opOHP3auEdsw",
        "colab": {
          "base_uri": "https://localhost:8080/"
        },
        "outputId": "f58cf17c-e31c-49d6-bf97-015fdd45dbcd"
      },
      "source": [
        "BatchNormalization(),model.compile(\n",
        "    optimizer='adam',\n",
        "    loss=tf.losses.SparseCategoricalCrossentropy(from_logits=True),\n",
        "    metrics=['accuracy'])"
      ],
      "execution_count": null,
      "outputs": [
        {
          "output_type": "execute_result",
          "data": {
            "text/plain": [
              "(<keras.layers.normalization.batch_normalization.BatchNormalization at 0x7fa44e07c390>,\n",
              " None)"
            ]
          },
          "metadata": {},
          "execution_count": 20
        }
      ]
    },
    {
      "cell_type": "code",
      "metadata": {
        "colab": {
          "base_uri": "https://localhost:8080/"
        },
        "id": "3Ay4tlHlEfBX",
        "outputId": "e0c23e94-dabc-4ccc-a713-1f63c7588080"
      },
      "source": [
        "model.summary()"
      ],
      "execution_count": null,
      "outputs": [
        {
          "output_type": "stream",
          "name": "stdout",
          "text": [
            "Model: \"sequential_2\"\n",
            "_________________________________________________________________\n",
            " Layer (type)                Output Shape              Param #   \n",
            "=================================================================\n",
            " sequential_1 (Sequential)   (None, 180, 180, 1)       0         \n",
            "                                                                 \n",
            " rescaling_2 (Rescaling)     (None, 180, 180, 1)       0         \n",
            "                                                                 \n",
            " conv2d_3 (Conv2D)           (None, 178, 178, 64)      640       \n",
            "                                                                 \n",
            " max_pooling2d_3 (MaxPooling  (None, 89, 89, 64)       0         \n",
            " 2D)                                                             \n",
            "                                                                 \n",
            " conv2d_4 (Conv2D)           (None, 89, 89, 64)        36928     \n",
            "                                                                 \n",
            " max_pooling2d_4 (MaxPooling  (None, 44, 44, 64)       0         \n",
            " 2D)                                                             \n",
            "                                                                 \n",
            " conv2d_5 (Conv2D)           (None, 44, 44, 64)        36928     \n",
            "                                                                 \n",
            " max_pooling2d_5 (MaxPooling  (None, 22, 22, 64)       0         \n",
            " 2D)                                                             \n",
            "                                                                 \n",
            " dropout (Dropout)           (None, 22, 22, 64)        0         \n",
            "                                                                 \n",
            " flatten_1 (Flatten)         (None, 30976)             0         \n",
            "                                                                 \n",
            " batch_normalization_2 (Batc  (None, 30976)            123904    \n",
            " hNormalization)                                                 \n",
            "                                                                 \n",
            " dense_2 (Dense)             (None, 107)               3314539   \n",
            "                                                                 \n",
            " batch_normalization_3 (Batc  (None, 107)              428       \n",
            " hNormalization)                                                 \n",
            "                                                                 \n",
            " dense_3 (Dense)             (None, 107)               11556     \n",
            "                                                                 \n",
            "=================================================================\n",
            "Total params: 3,524,923\n",
            "Trainable params: 3,462,757\n",
            "Non-trainable params: 62,166\n",
            "_________________________________________________________________\n"
          ]
        }
      ]
    },
    {
      "cell_type": "code",
      "metadata": {
        "colab": {
          "base_uri": "https://localhost:8080/"
        },
        "id": "Jc8rD_v9Ef41",
        "outputId": "f86cf718-1855-4ae9-8888-650803971572"
      },
      "source": [
        "epochs = 50\n",
        "history = model.fit(\n",
        "  train_ds,\n",
        "  validation_data=val_ds,\n",
        "  epochs=epochs\n",
        ")"
      ],
      "execution_count": null,
      "outputs": [
        {
          "output_type": "stream",
          "name": "stdout",
          "text": [
            "Epoch 1/50\n",
            "156/156 [==============================] - 6s 31ms/step - loss: 3.4646 - accuracy: 0.2650 - val_loss: 4.2560 - val_accuracy: 0.1141\n",
            "Epoch 2/50\n",
            "156/156 [==============================] - 4s 28ms/step - loss: 2.5544 - accuracy: 0.3588 - val_loss: 3.8339 - val_accuracy: 0.2627\n",
            "Epoch 3/50\n",
            "156/156 [==============================] - 4s 29ms/step - loss: 2.2139 - accuracy: 0.4122 - val_loss: 3.1232 - val_accuracy: 0.3373\n",
            "Epoch 4/50\n",
            "156/156 [==============================] - 4s 28ms/step - loss: 2.0261 - accuracy: 0.4471 - val_loss: 2.2824 - val_accuracy: 0.4137\n",
            "Epoch 5/50\n",
            "156/156 [==============================] - 4s 29ms/step - loss: 1.8631 - accuracy: 0.4750 - val_loss: 2.4714 - val_accuracy: 0.4080\n",
            "Epoch 6/50\n",
            "156/156 [==============================] - 4s 29ms/step - loss: 1.7509 - accuracy: 0.4973 - val_loss: 2.6089 - val_accuracy: 0.3855\n",
            "Epoch 7/50\n",
            "156/156 [==============================] - 4s 29ms/step - loss: 1.6722 - accuracy: 0.5196 - val_loss: 2.5371 - val_accuracy: 0.4161\n",
            "Epoch 8/50\n",
            "156/156 [==============================] - 4s 28ms/step - loss: 1.5679 - accuracy: 0.5401 - val_loss: 2.3309 - val_accuracy: 0.4474\n",
            "Epoch 9/50\n",
            "156/156 [==============================] - 4s 28ms/step - loss: 1.5099 - accuracy: 0.5609 - val_loss: 2.5240 - val_accuracy: 0.4426\n",
            "Epoch 10/50\n",
            "156/156 [==============================] - 4s 28ms/step - loss: 1.4750 - accuracy: 0.5664 - val_loss: 2.8233 - val_accuracy: 0.3992\n",
            "Epoch 11/50\n",
            "156/156 [==============================] - 4s 28ms/step - loss: 1.3775 - accuracy: 0.5914 - val_loss: 2.9703 - val_accuracy: 0.4016\n",
            "Epoch 12/50\n",
            "156/156 [==============================] - 4s 28ms/step - loss: 1.3282 - accuracy: 0.5991 - val_loss: 2.4708 - val_accuracy: 0.4530\n",
            "Epoch 13/50\n",
            "156/156 [==============================] - 4s 29ms/step - loss: 1.2928 - accuracy: 0.6005 - val_loss: 2.2943 - val_accuracy: 0.4675\n",
            "Epoch 14/50\n",
            "156/156 [==============================] - 4s 29ms/step - loss: 1.2455 - accuracy: 0.6117 - val_loss: 2.2383 - val_accuracy: 0.4627\n",
            "Epoch 15/50\n",
            "156/156 [==============================] - 4s 29ms/step - loss: 1.2078 - accuracy: 0.6284 - val_loss: 2.8996 - val_accuracy: 0.4056\n",
            "Epoch 16/50\n",
            "156/156 [==============================] - 4s 28ms/step - loss: 1.1790 - accuracy: 0.6396 - val_loss: 2.6101 - val_accuracy: 0.4410\n",
            "Epoch 17/50\n",
            "156/156 [==============================] - 4s 28ms/step - loss: 1.1340 - accuracy: 0.6587 - val_loss: 2.7120 - val_accuracy: 0.4153\n",
            "Epoch 18/50\n",
            "156/156 [==============================] - 4s 29ms/step - loss: 1.1341 - accuracy: 0.6418 - val_loss: 2.5422 - val_accuracy: 0.4434\n",
            "Epoch 19/50\n",
            "156/156 [==============================] - 4s 28ms/step - loss: 1.0903 - accuracy: 0.6603 - val_loss: 2.4404 - val_accuracy: 0.4675\n",
            "Epoch 20/50\n",
            "156/156 [==============================] - 4s 29ms/step - loss: 1.0718 - accuracy: 0.6655 - val_loss: 3.2076 - val_accuracy: 0.4056\n",
            "Epoch 21/50\n",
            "156/156 [==============================] - 4s 29ms/step - loss: 1.0565 - accuracy: 0.6699 - val_loss: 2.9179 - val_accuracy: 0.4265\n",
            "Epoch 22/50\n",
            "156/156 [==============================] - 4s 28ms/step - loss: 0.9990 - accuracy: 0.6936 - val_loss: 3.0398 - val_accuracy: 0.4104\n",
            "Epoch 23/50\n",
            "156/156 [==============================] - 4s 28ms/step - loss: 1.0183 - accuracy: 0.6724 - val_loss: 2.6177 - val_accuracy: 0.4378\n",
            "Epoch 24/50\n",
            "156/156 [==============================] - 4s 29ms/step - loss: 0.9859 - accuracy: 0.6828 - val_loss: 2.7633 - val_accuracy: 0.4313\n",
            "Epoch 25/50\n",
            "156/156 [==============================] - 4s 29ms/step - loss: 0.9653 - accuracy: 0.6972 - val_loss: 2.6872 - val_accuracy: 0.4530\n",
            "Epoch 26/50\n",
            "156/156 [==============================] - 4s 28ms/step - loss: 0.9605 - accuracy: 0.6914 - val_loss: 2.6849 - val_accuracy: 0.4498\n",
            "Epoch 27/50\n",
            "156/156 [==============================] - 4s 28ms/step - loss: 0.9394 - accuracy: 0.7011 - val_loss: 2.8950 - val_accuracy: 0.4257\n",
            "Epoch 28/50\n",
            "156/156 [==============================] - 4s 29ms/step - loss: 0.9265 - accuracy: 0.6997 - val_loss: 2.6281 - val_accuracy: 0.4635\n",
            "Epoch 29/50\n",
            "156/156 [==============================] - 4s 28ms/step - loss: 0.9010 - accuracy: 0.7151 - val_loss: 2.5512 - val_accuracy: 0.4779\n",
            "Epoch 30/50\n",
            "156/156 [==============================] - 4s 29ms/step - loss: 0.8819 - accuracy: 0.7248 - val_loss: 3.1839 - val_accuracy: 0.4209\n",
            "Epoch 31/50\n",
            "156/156 [==============================] - 4s 29ms/step - loss: 0.8632 - accuracy: 0.7165 - val_loss: 2.9173 - val_accuracy: 0.4321\n",
            "Epoch 32/50\n",
            "156/156 [==============================] - 4s 29ms/step - loss: 0.8371 - accuracy: 0.7368 - val_loss: 2.9756 - val_accuracy: 0.4434\n",
            "Epoch 33/50\n",
            "156/156 [==============================] - 5s 29ms/step - loss: 0.8387 - accuracy: 0.7364 - val_loss: 2.6060 - val_accuracy: 0.4859\n",
            "Epoch 34/50\n",
            "156/156 [==============================] - 4s 29ms/step - loss: 0.8383 - accuracy: 0.7370 - val_loss: 2.8044 - val_accuracy: 0.4546\n",
            "Epoch 35/50\n",
            "156/156 [==============================] - 4s 28ms/step - loss: 0.8090 - accuracy: 0.7482 - val_loss: 3.2475 - val_accuracy: 0.4233\n",
            "Epoch 36/50\n",
            "156/156 [==============================] - 4s 28ms/step - loss: 0.8048 - accuracy: 0.7452 - val_loss: 3.1436 - val_accuracy: 0.4225\n",
            "Epoch 37/50\n",
            "156/156 [==============================] - 4s 29ms/step - loss: 0.7859 - accuracy: 0.7392 - val_loss: 2.8620 - val_accuracy: 0.4627\n",
            "Epoch 38/50\n",
            "156/156 [==============================] - 4s 28ms/step - loss: 0.7772 - accuracy: 0.7549 - val_loss: 3.1921 - val_accuracy: 0.4217\n",
            "Epoch 39/50\n",
            "156/156 [==============================] - 4s 29ms/step - loss: 0.7749 - accuracy: 0.7535 - val_loss: 3.1235 - val_accuracy: 0.4072\n",
            "Epoch 40/50\n",
            "156/156 [==============================] - 4s 28ms/step - loss: 0.7856 - accuracy: 0.7490 - val_loss: 3.7026 - val_accuracy: 0.3775\n",
            "Epoch 41/50\n",
            "156/156 [==============================] - 4s 29ms/step - loss: 0.7604 - accuracy: 0.7517 - val_loss: 3.1034 - val_accuracy: 0.4305\n",
            "Epoch 42/50\n",
            "156/156 [==============================] - 4s 28ms/step - loss: 0.7341 - accuracy: 0.7603 - val_loss: 3.0064 - val_accuracy: 0.4361\n",
            "Epoch 43/50\n",
            "156/156 [==============================] - 4s 29ms/step - loss: 0.7000 - accuracy: 0.7743 - val_loss: 3.2573 - val_accuracy: 0.4265\n",
            "Epoch 44/50\n",
            "156/156 [==============================] - 4s 29ms/step - loss: 0.7250 - accuracy: 0.7683 - val_loss: 3.5128 - val_accuracy: 0.4016\n",
            "Epoch 45/50\n",
            "156/156 [==============================] - 4s 28ms/step - loss: 0.7191 - accuracy: 0.7675 - val_loss: 3.4959 - val_accuracy: 0.4000\n",
            "Epoch 46/50\n",
            "156/156 [==============================] - 4s 29ms/step - loss: 0.6981 - accuracy: 0.7743 - val_loss: 3.0675 - val_accuracy: 0.4426\n",
            "Epoch 47/50\n",
            "156/156 [==============================] - 4s 29ms/step - loss: 0.7030 - accuracy: 0.7780 - val_loss: 3.7974 - val_accuracy: 0.3912\n",
            "Epoch 48/50\n",
            "156/156 [==============================] - 5s 29ms/step - loss: 0.7217 - accuracy: 0.7633 - val_loss: 2.7684 - val_accuracy: 0.5052\n",
            "Epoch 49/50\n",
            "156/156 [==============================] - 4s 29ms/step - loss: 0.6741 - accuracy: 0.7842 - val_loss: 3.4392 - val_accuracy: 0.4137\n",
            "Epoch 50/50\n",
            "156/156 [==============================] - 4s 28ms/step - loss: 0.6631 - accuracy: 0.7796 - val_loss: 2.9152 - val_accuracy: 0.4699\n"
          ]
        }
      ]
    },
    {
      "cell_type": "code",
      "metadata": {
        "colab": {
          "base_uri": "https://localhost:8080/",
          "height": 499
        },
        "id": "ynhS2KjVEhj8",
        "outputId": "d55a2bf6-1710-4ec7-f5d9-126605ee5a90"
      },
      "source": [
        "acc = history.history['accuracy']\n",
        "val_acc = history.history['val_accuracy']\n",
        "\n",
        "loss = history.history['loss']\n",
        "val_loss = history.history['val_loss']\n",
        "\n",
        "epochs_range = range(epochs)\n",
        "\n",
        "plt.figure(figsize=(8, 8))\n",
        "plt.subplot(1, 2, 1)\n",
        "plt.plot(epochs_range, acc, label='Training Accuracy')\n",
        "plt.plot(epochs_range, val_acc, label='Validation Accuracy')\n",
        "plt.legend(loc='lower right')\n",
        "plt.title('Training and Validation Accuracy')\n",
        "\n",
        "plt.subplot(1, 2, 2)\n",
        "plt.plot(epochs_range, loss, label='Training Loss')\n",
        "plt.plot(epochs_range, val_loss, label='Validation Loss')\n",
        "plt.legend(loc='upper right')\n",
        "plt.title('Training and Validation Loss')\n",
        "plt.show()"
      ],
      "execution_count": null,
      "outputs": [
        {
          "output_type": "display_data",
          "data": {
            "image/png": "[encoded data removed]",
            "text/plain": [
              "<Figure size 576x576 with 2 Axes>"
            ]
          },
          "metadata": {
            "needs_background": "light"
          }
        }
      ]
    },
    {
      "cell_type": "code",
      "metadata": {
        "colab": {
          "base_uri": "https://localhost:8080/"
        },
        "id": "IbEQMrsAH2yZ",
        "outputId": "ac2eb8aa-f248-4786-8cf3-59f6898f5859"
      },
      "source": [
        "model.compile(\n",
        "    optimizer='adam',\n",
        "    loss=tf.losses.SparseCategoricalCrossentropy(from_logits=True),\n",
        "    metrics=['accuracy'])\n",
        "model.summary()"
      ],
      "execution_count": null,
      "outputs": [
        {
          "output_type": "stream",
          "name": "stdout",
          "text": [
            "Model: \"sequential_2\"\n",
            "_________________________________________________________________\n",
            " Layer (type)                Output Shape              Param #   \n",
            "=================================================================\n",
            " sequential_1 (Sequential)   (None, 180, 180, 1)       0         \n",
            "                                                                 \n",
            " rescaling_2 (Rescaling)     (None, 180, 180, 1)       0         \n",
            "                                                                 \n",
            " conv2d_3 (Conv2D)           (None, 178, 178, 64)      640       \n",
            "                                                                 \n",
            " max_pooling2d_3 (MaxPooling  (None, 89, 89, 64)       0         \n",
            " 2D)                                                             \n",
            "                                                                 \n",
            " conv2d_4 (Conv2D)           (None, 89, 89, 64)        36928     \n",
            "                                                                 \n",
            " max_pooling2d_4 (MaxPooling  (None, 44, 44, 64)       0         \n",
            " 2D)                                                             \n",
            "                                                                 \n",
            " conv2d_5 (Conv2D)           (None, 44, 44, 64)        36928     \n",
            "                                                                 \n",
            " max_pooling2d_5 (MaxPooling  (None, 22, 22, 64)       0         \n",
            " 2D)                                                             \n",
            "                                                                 \n",
            " dropout (Dropout)           (None, 22, 22, 64)        0         \n",
            "                                                                 \n",
            " flatten_1 (Flatten)         (None, 30976)             0         \n",
            "                                                                 \n",
            " batch_normalization_2 (Batc  (None, 30976)            123904    \n",
            " hNormalization)                                                 \n",
            "                                                                 \n",
            " dense_2 (Dense)             (None, 107)               3314539   \n",
            "                                                                 \n",
            " batch_normalization_3 (Batc  (None, 107)              428       \n",
            " hNormalization)                                                 \n",
            "                                                                 \n",
            " dense_3 (Dense)             (None, 107)               11556     \n",
            "                                                                 \n",
            "=================================================================\n",
            "Total params: 3,524,923\n",
            "Trainable params: 3,462,757\n",
            "Non-trainable params: 62,166\n",
            "_________________________________________________________________\n"
          ]
        }
      ]
    },
    {
      "cell_type": "code",
      "metadata": {
        "id": "df30HUqFjWre"
      },
      "source": [
        ""
      ],
      "execution_count": null,
      "outputs": []
    }
  ]
}