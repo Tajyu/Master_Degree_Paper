{
  "nbformat": 4,
  "nbformat_minor": 0,
  "metadata": {
    "colab": {
      "name": "3Class_Genus_BatchNormal_Input_dim_64_Layer_3.ipynb",
      "provenance": [],
      "collapsed_sections": [],
      "mount_file_id": "1g_gI3FeLva0H9JknAzcMFK8uLpUMTren",
      "authorship_tag": "ABX9TyNcoxYyXtfkz62qt22MuODo",
      "include_colab_link": true
    },
    "kernelspec": {
      "name": "python3",
      "display_name": "Python 3"
    },
    "language_info": {
      "name": "python"
    },
    "accelerator": "GPU"
  },
  "cells": [
    {
      "cell_type": "markdown",
      "metadata": {
        "id": "view-in-github",
        "colab_type": "text"
      },
      "source": [
        "<a href=\"https://colab.research.google.com/github/Tajyu/Master_Degree_Paper/blob/main/Code/Filter_64/Input_dim/3Class_Genus_BatchNormal_Input_dim_64_Layer_3.ipynb\" target=\"_parent\"><img src=\"https://colab.research.google.com/assets/colab-badge.svg\" alt=\"Open In Colab\"/></a>"
      ]
    },
    {
      "cell_type": "code",
      "metadata": {
        "id": "yWckd06_68Em"
      },
      "source": [
        "import tensorflow as tf\n",
        "from tensorflow.keras import datasets, layers, models\n",
        "from keras.preprocessing.image import ImageDataGenerator\n",
        "import numpy as np\n",
        "import matplotlib.pyplot as plt\n",
        "import cv2 as cv\n",
        "import os\n",
        "import pathlib\n",
        "import PIL\n",
        "from tensorflow import keras\n",
        "from tensorflow.keras import layers\n",
        "from tensorflow.keras.models import Sequential\n",
        "from tensorflow.keras.layers import Dense, Flatten, BatchNormalization, Dropout"
      ],
      "execution_count": null,
      "outputs": []
    },
    {
      "cell_type": "code",
      "metadata": {
        "id": "xav9zirHttk_"
      },
      "source": [
        "image_list = os.listdir('/content/drive/MyDrive/Colab Notebooks/Final_Project/Cell_Genus')"
      ],
      "execution_count": null,
      "outputs": []
    },
    {
      "cell_type": "code",
      "metadata": {
        "colab": {
          "base_uri": "https://localhost:8080/"
        },
        "id": "K-wD0dM5tx_E",
        "outputId": "d77ab257-99cc-4704-be97-fd6f05d9edd6"
      },
      "source": [
        "print(image_list)"
      ],
      "execution_count": null,
      "outputs": [
        {
          "output_type": "stream",
          "name": "stdout",
          "text": [
            "['10_Genus_Stauroneis_Ehrenberg', '10_Genus_Staurosira_Ehrenberg', '11_Genus_Craspedostauros_E.J_Cox_1999', '11_Genus_Staurosirella_Williams_and_Round', '12_Genus_Caloneis_Cleve_1894', '12_Genus_Synedra_Ehrenberg', '13_Genus_Pinnularia_Ehrenberg_1843', '1_Genus_Acanthoceras_Honigmann', '1_Genus_Achnanthes_Bory', '1_Genus_Actinocyclus_Ehrenberg', '1_Genus_Aphanocapsa_Nageli_1849', '1_Genus_Asterionella_Hassall', '1_Genus_Aulacoseira', '1_Genus_Biremis_Mann_et_Cox_in_Round_Crawford_and_Mann', '1_Genus_Characium_A_Braun_in_Kutzing_1849', '1_Genus_Chroococcus_Nageli', '1_Genus_Closterium_Nitzsch_ex_Ralfs_1848', '1_Genus_Coelastrum_Nageli_1849', '1_Genus_Cylindrocystis_Meneghini_ex_de_Bary_1858', '1_Genus_Dictyosphaerium_Nageli_1849', '1_Genus_Docidium_Brebisson_ex_Ralfs_1848', '1_Genus_Eunotia_Ehrenberg', '1_Genus_Geitlerinema_(Anagnostidis_et_Komarek)_Anagnostidis_1989', '1_Genus_Gonatozygon_de_Bary_1856', '1_Genus_Hydrodictyon_Roth_1797', '1_Genus_Hydrosera_whampoensis', '1_Genus_Jaaginema_Anagnostidis_et_Komarek_1988', '1_Genus_Lyngbya_C_Agardh_ex_Gomont_1892', '1_Genus_Melosira_Agardh', '1_Genus_Micractinium_Fresenius_1858', '1_Genus_Micrasterias_Ralfs_1848', '1_Genus_Microcystis_Kutzing_ex_Lemmermann_1907', '1_Genus_Oscillatoria_Vaucher_ex_Gomont_1982', '1_Genus_Pediastrum_Meyen_1829', '1_Genus_Penium_Brebisson_ex_Ralfs_in_Ralfs_1848', '1_Genus_Phormidium_Kutzing_ex_Gomont_1892', '1_Genus_Planktothrix_Anagnostidis_et_Komarek_1988', '1_Genus_Pleurosira_laevis_(Ehrenberg)', '1_Genus_Rhizosolenia_Ehrenberg', '1_Genus_Schizochlamydella_Korshikov_1953', '1_Genus_Staurodesmus_Teiling_1848', '1_Genus_Trochiscia_Kutzing_1834', '1_Scenedesmus_Hegewald_1978', '2_Acutodesmus_Hegewald_1978', '2_Genus_Achnanthidium_Kutzing', '2_Genus_Actinastrum_Lagerheim_1882', '2_Genus_Actinella_Lewis', '2_Genus_Ankyra_Fott_1957', '2_Genus_Caloneis_Cleve', '2_Genus_Chaetoceros_Ehrenberg', '2_Genus_Coenochloris_Korshikov_1953', '2_Genus_Cyclotella', '2_Genus_Diatoma_Bory', '2_Genus_Dimorphococcus_A_Braun_1855', '2_Genus_Golenkinia_Chodat_1894', '2_Genus_Haplotaenium_Bando_1988', '2_Genus_Leibleinia_(Gomont)_L_Hoffman_1985', '2_Genus_Leptolyngbya_Anagnostidis_et_Komarek_1988', '2_Genus_Merismopedia_Meyen_1839', '2_Genus_Netrium_(Nageli)_Itzigsohn_et_Rothe_in_Rabenhorst_1856', '2_Genus_Orthoseira_Thwaites_1848', '2_Genus_Phormidium_Kutzing_ex_Gomont_1892', '2_Genus_Sorastrum_Kutzing_1845', '2_Genus_Staurastrum_Meyen_ex_Ralfs_1848', '3_Desmodesmus_Chodat_1926', '3_Genus_Acanthosphaera_Lemmerman_1899', '3_Genus_Anorthoneis_Grunow', '3_Genus_Cyclostephanos_Round', '3_Genus_Dichotomococcus_Korshikov_1928', '3_Genus_Heteroleibleinia_(Geitler)_L_Hoffmann_1985', '3_Genus_Limnothrix_Meffert_1988', '3_Genus_Meridion_Agardh', '3_Genus_Paradoxia_Svirenko_1928', '3_Genus_Peronia_Bebisson_and_Arnott_ex_Kitton', '3_Genus_Phormidiochaete_Komarek_in_Anagnostidis_2001', '3_Genus_Pinnularia_Ehrenberg_1', '3_Genus_Pleurotaenium_Nageli_1849', '3_Genus_Radiococcus_Schmidle_1902', '3_Genus_Snowella_Elenkin_1938', '3_Genus_Spirotaenia_Brebisson_in_Ralfs_1848', '4_Genus_Botryococcus_Kutzing_1849', '4_Genus_Cocconeis_Ehrenberg', '4_Genus_Eutetramorus_Walton_1918', '4_Genus_Leptolyngbya_Anagnostidis_et_Komarek_1988', '4_Genus_Opephora_Petit', '4_Genus_Pinnularia_Ehrenberg_2', '4_Genus_Schroederia_Lemmermann_1898', '4_Genus_Stephanodiscus_Ehrenberg', '4_Genus_Synechocystis_Sauvageau_1892', '4_Genus_Tortitaenia_A_J_Brook_1998', '5_Genus_Caloneis_Cleve', '5_Genus_Coenocystis_Korshikov_1953', '5_Genus_Planktolyngbya_Anagnostidis_et_Komarek_1988', '5_Genus_Tabellaria_Ehrenberg', '5_Genus_Thalassiosira_Cleve', '5_Genus_Woronichinia_Elenkin_1933', '6_Genus_Anomoeoneis_Pfitzer', '6_Genus_Fragilaria_Lyngbye', '6_Genus_Gloeocystis_Nageli_1849', '6_Genus_Pseudanabaena_Lauterborn_1915', '6_Genus_Skeletonema_Greville', '7_Genus_Caloneis_Cleve', '7_Genus_Hannaea_Patrick', '8_Genus_Diploneis(Ehrenberg)_Cleve', '8_Genus_Pseudostaurosira_Williams_and_Round', '9_Genus_Neidium_Pfitzer', '9_Genus_Punctastriata_Williams_and_Round']\n"
          ]
        }
      ]
    },
    {
      "cell_type": "code",
      "metadata": {
        "id": "o-0DvzEHt8VE"
      },
      "source": [
        "data_generator = ImageDataGenerator(rescale = 1./255)\n",
        "\n",
        "data_dir = \"/content/drive/MyDrive/Colab Notebooks/Final_Project/Cell_Genus\""
      ],
      "execution_count": null,
      "outputs": []
    },
    {
      "cell_type": "code",
      "metadata": {
        "id": "7aTCfEm3t10n"
      },
      "source": [
        "batch_size = 32\n",
        "img_height = 180\n",
        "img_width = 180"
      ],
      "execution_count": null,
      "outputs": []
    },
    {
      "cell_type": "code",
      "metadata": {
        "colab": {
          "base_uri": "https://localhost:8080/"
        },
        "id": "9Smg-miEt22s",
        "outputId": "56d7b8f0-7beb-4c82-d4e0-b27e139fa999"
      },
      "source": [
        "train_ds = tf.keras.preprocessing.image_dataset_from_directory(\n",
        "  data_dir,\n",
        "  color_mode = \"grayscale\",\n",
        "  validation_split=0.2,\n",
        "  subset=\"training\",\n",
        "  seed=123,\n",
        "  image_size=(img_height, img_width),\n",
        "  batch_size=batch_size)"
      ],
      "execution_count": null,
      "outputs": [
        {
          "output_type": "stream",
          "name": "stdout",
          "text": [
            "Found 6226 files belonging to 107 classes.\n",
            "Using 4981 files for training.\n"
          ]
        }
      ]
    },
    {
      "cell_type": "code",
      "metadata": {
        "colab": {
          "base_uri": "https://localhost:8080/"
        },
        "id": "1nR0WdQGt44x",
        "outputId": "2082e6df-1502-4ce5-d478-dfd1b4301d02"
      },
      "source": [
        "val_ds = tf.keras.preprocessing.image_dataset_from_directory(\n",
        "  data_dir,\n",
        "  color_mode = \"grayscale\",\n",
        "  validation_split=0.2,\n",
        "  subset=\"validation\",\n",
        "  seed=123,\n",
        "  image_size=(img_height, img_width),\n",
        "  batch_size=batch_size)"
      ],
      "execution_count": null,
      "outputs": [
        {
          "output_type": "stream",
          "name": "stdout",
          "text": [
            "Found 6226 files belonging to 107 classes.\n",
            "Using 1245 files for validation.\n"
          ]
        }
      ]
    },
    {
      "cell_type": "code",
      "metadata": {
        "colab": {
          "base_uri": "https://localhost:8080/"
        },
        "id": "F-cz_CtGug8Y",
        "outputId": "3e30d329-044e-4cfa-d000-be0fca952a04"
      },
      "source": [
        "class_names = train_ds.class_names\n",
        "print(class_names)"
      ],
      "execution_count": null,
      "outputs": [
        {
          "output_type": "stream",
          "name": "stdout",
          "text": [
            "['10_Genus_Stauroneis_Ehrenberg', '10_Genus_Staurosira_Ehrenberg', '11_Genus_Craspedostauros_E.J_Cox_1999', '11_Genus_Staurosirella_Williams_and_Round', '12_Genus_Caloneis_Cleve_1894', '12_Genus_Synedra_Ehrenberg', '13_Genus_Pinnularia_Ehrenberg_1843', '1_Genus_Acanthoceras_Honigmann', '1_Genus_Achnanthes_Bory', '1_Genus_Actinocyclus_Ehrenberg', '1_Genus_Aphanocapsa_Nageli_1849', '1_Genus_Asterionella_Hassall', '1_Genus_Aulacoseira', '1_Genus_Biremis_Mann_et_Cox_in_Round_Crawford_and_Mann', '1_Genus_Characium_A_Braun_in_Kutzing_1849', '1_Genus_Chroococcus_Nageli', '1_Genus_Closterium_Nitzsch_ex_Ralfs_1848', '1_Genus_Coelastrum_Nageli_1849', '1_Genus_Cylindrocystis_Meneghini_ex_de_Bary_1858', '1_Genus_Dictyosphaerium_Nageli_1849', '1_Genus_Docidium_Brebisson_ex_Ralfs_1848', '1_Genus_Eunotia_Ehrenberg', '1_Genus_Geitlerinema_(Anagnostidis_et_Komarek)_Anagnostidis_1989', '1_Genus_Gonatozygon_de_Bary_1856', '1_Genus_Hydrodictyon_Roth_1797', '1_Genus_Hydrosera_whampoensis', '1_Genus_Jaaginema_Anagnostidis_et_Komarek_1988', '1_Genus_Lyngbya_C_Agardh_ex_Gomont_1892', '1_Genus_Melosira_Agardh', '1_Genus_Micractinium_Fresenius_1858', '1_Genus_Micrasterias_Ralfs_1848', '1_Genus_Microcystis_Kutzing_ex_Lemmermann_1907', '1_Genus_Oscillatoria_Vaucher_ex_Gomont_1982', '1_Genus_Pediastrum_Meyen_1829', '1_Genus_Penium_Brebisson_ex_Ralfs_in_Ralfs_1848', '1_Genus_Phormidium_Kutzing_ex_Gomont_1892', '1_Genus_Planktothrix_Anagnostidis_et_Komarek_1988', '1_Genus_Pleurosira_laevis_(Ehrenberg)', '1_Genus_Rhizosolenia_Ehrenberg', '1_Genus_Schizochlamydella_Korshikov_1953', '1_Genus_Staurodesmus_Teiling_1848', '1_Genus_Trochiscia_Kutzing_1834', '1_Scenedesmus_Hegewald_1978', '2_Acutodesmus_Hegewald_1978', '2_Genus_Achnanthidium_Kutzing', '2_Genus_Actinastrum_Lagerheim_1882', '2_Genus_Actinella_Lewis', '2_Genus_Ankyra_Fott_1957', '2_Genus_Caloneis_Cleve', '2_Genus_Chaetoceros_Ehrenberg', '2_Genus_Coenochloris_Korshikov_1953', '2_Genus_Cyclotella', '2_Genus_Diatoma_Bory', '2_Genus_Dimorphococcus_A_Braun_1855', '2_Genus_Golenkinia_Chodat_1894', '2_Genus_Haplotaenium_Bando_1988', '2_Genus_Leibleinia_(Gomont)_L_Hoffman_1985', '2_Genus_Leptolyngbya_Anagnostidis_et_Komarek_1988', '2_Genus_Merismopedia_Meyen_1839', '2_Genus_Netrium_(Nageli)_Itzigsohn_et_Rothe_in_Rabenhorst_1856', '2_Genus_Orthoseira_Thwaites_1848', '2_Genus_Phormidium_Kutzing_ex_Gomont_1892', '2_Genus_Sorastrum_Kutzing_1845', '2_Genus_Staurastrum_Meyen_ex_Ralfs_1848', '3_Desmodesmus_Chodat_1926', '3_Genus_Acanthosphaera_Lemmerman_1899', '3_Genus_Anorthoneis_Grunow', '3_Genus_Cyclostephanos_Round', '3_Genus_Dichotomococcus_Korshikov_1928', '3_Genus_Heteroleibleinia_(Geitler)_L_Hoffmann_1985', '3_Genus_Limnothrix_Meffert_1988', '3_Genus_Meridion_Agardh', '3_Genus_Paradoxia_Svirenko_1928', '3_Genus_Peronia_Bebisson_and_Arnott_ex_Kitton', '3_Genus_Phormidiochaete_Komarek_in_Anagnostidis_2001', '3_Genus_Pinnularia_Ehrenberg_1', '3_Genus_Pleurotaenium_Nageli_1849', '3_Genus_Radiococcus_Schmidle_1902', '3_Genus_Snowella_Elenkin_1938', '3_Genus_Spirotaenia_Brebisson_in_Ralfs_1848', '4_Genus_Botryococcus_Kutzing_1849', '4_Genus_Cocconeis_Ehrenberg', '4_Genus_Eutetramorus_Walton_1918', '4_Genus_Leptolyngbya_Anagnostidis_et_Komarek_1988', '4_Genus_Opephora_Petit', '4_Genus_Pinnularia_Ehrenberg_2', '4_Genus_Schroederia_Lemmermann_1898', '4_Genus_Stephanodiscus_Ehrenberg', '4_Genus_Synechocystis_Sauvageau_1892', '4_Genus_Tortitaenia_A_J_Brook_1998', '5_Genus_Caloneis_Cleve', '5_Genus_Coenocystis_Korshikov_1953', '5_Genus_Planktolyngbya_Anagnostidis_et_Komarek_1988', '5_Genus_Tabellaria_Ehrenberg', '5_Genus_Thalassiosira_Cleve', '5_Genus_Woronichinia_Elenkin_1933', '6_Genus_Anomoeoneis_Pfitzer', '6_Genus_Fragilaria_Lyngbye', '6_Genus_Gloeocystis_Nageli_1849', '6_Genus_Pseudanabaena_Lauterborn_1915', '6_Genus_Skeletonema_Greville', '7_Genus_Caloneis_Cleve', '7_Genus_Hannaea_Patrick', '8_Genus_Diploneis(Ehrenberg)_Cleve', '8_Genus_Pseudostaurosira_Williams_and_Round', '9_Genus_Neidium_Pfitzer', '9_Genus_Punctastriata_Williams_and_Round']\n"
          ]
        }
      ]
    },
    {
      "cell_type": "code",
      "metadata": {
        "colab": {
          "base_uri": "https://localhost:8080/"
        },
        "id": "5EQOikPAukic",
        "outputId": "d3c9ea29-3a0b-4681-954b-e85bf4763691"
      },
      "source": [
        "for image_batch, labels_batch in train_ds:\n",
        "  print(image_batch.shape)\n",
        "  print(labels_batch.shape)\n",
        "  break"
      ],
      "execution_count": null,
      "outputs": [
        {
          "output_type": "stream",
          "name": "stdout",
          "text": [
            "(32, 180, 180, 1)\n",
            "(32,)\n"
          ]
        }
      ]
    },
    {
      "cell_type": "code",
      "metadata": {
        "id": "9eVl7tiDux9q"
      },
      "source": [
        "from tensorflow.keras import layers\n",
        "\n",
        "normalization_layer = tf.keras.layers.experimental.preprocessing.Rescaling(1./255)"
      ],
      "execution_count": null,
      "outputs": []
    },
    {
      "cell_type": "code",
      "metadata": {
        "colab": {
          "base_uri": "https://localhost:8080/"
        },
        "id": "AiIrsxzZuzEo",
        "outputId": "c93ccf2d-f481-482a-cc8f-138c38db55a5"
      },
      "source": [
        "normalized_ds = train_ds.map(lambda x, y: (normalization_layer(x), y))\n",
        "image_batch, labels_batch = next(iter(normalized_ds))\n",
        "first_image = image_batch[0]\n",
        "# Notice the pixels values are now in `[0,1]`.\n",
        "print(np.min(first_image), np.max(first_image))"
      ],
      "execution_count": null,
      "outputs": [
        {
          "output_type": "stream",
          "name": "stdout",
          "text": [
            "0.0 1.0\n"
          ]
        }
      ]
    },
    {
      "cell_type": "code",
      "metadata": {
        "id": "__WbVabru0Bp"
      },
      "source": [
        "AUTOTUNE = tf.data.experimental.AUTOTUNE\n",
        "\n",
        "train_ds = train_ds.cache().prefetch(buffer_size=AUTOTUNE)\n",
        "val_ds = val_ds.cache().prefetch(buffer_size=AUTOTUNE)"
      ],
      "execution_count": null,
      "outputs": []
    },
    {
      "cell_type": "code",
      "metadata": {
        "id": "g1GeYFXCu2gV"
      },
      "source": [
        "num_classes = 107\n",
        "model = tf.keras.Sequential([\n",
        "    layers.experimental.preprocessing.Rescaling(1./255),\n",
        "    layers.Conv2D(64, 3,input_shape = image_batch, activation='relu'),\n",
        "    layers.MaxPooling2D(),\n",
        "    layers.Conv2D(64, 3, activation='relu'),\n",
        "    layers.MaxPooling2D(),\n",
        "    layers.Conv2D(64, 3, activation='relu'),\n",
        "    layers.MaxPooling2D(),\n",
        "    layers.Flatten(),\n",
        "    BatchNormalization(),\n",
        "    layers.Dense(128, input_dim = 107, activation='relu'),\n",
        "    BatchNormalization(),\n",
        "    layers.Dense(128, activation='relu'),\n",
        "    BatchNormalization(),\n",
        "    layers.Dense(107, activation='softmax'),\n",
        "    BatchNormalization(),\n",
        "    layers.Dense(num_classes)\n",
        "    ])"
      ],
      "execution_count": null,
      "outputs": []
    },
    {
      "cell_type": "code",
      "metadata": {
        "id": "wU4xPAvNYWry"
      },
      "source": [
        "model.compile(\n",
        "    optimizer='adam',\n",
        "    loss=tf.losses.SparseCategoricalCrossentropy(from_logits=True),\n",
        "    metrics=['accuracy'])"
      ],
      "execution_count": null,
      "outputs": []
    },
    {
      "cell_type": "code",
      "metadata": {
        "colab": {
          "base_uri": "https://localhost:8080/"
        },
        "id": "Tk8ssrbHu44p",
        "outputId": "c1f824e9-a983-494b-d177-a2e1e7c8d4ad"
      },
      "source": [
        "epochs=50\n",
        "history = model.fit(\n",
        "  train_ds,\n",
        "  validation_data=val_ds,\n",
        "  epochs=epochs\n",
        ")"
      ],
      "execution_count": null,
      "outputs": [
        {
          "output_type": "stream",
          "name": "stdout",
          "text": [
            "Epoch 1/50\n",
            "156/156 [==============================] - 379s 2s/step - loss: 3.2684 - accuracy: 0.3070 - val_loss: 4.2302 - val_accuracy: 0.1253\n",
            "Epoch 2/50\n",
            "156/156 [==============================] - 4s 28ms/step - loss: 2.0945 - accuracy: 0.4650 - val_loss: 3.6642 - val_accuracy: 0.3422\n",
            "Epoch 3/50\n",
            "156/156 [==============================] - 4s 28ms/step - loss: 1.4712 - accuracy: 0.6212 - val_loss: 2.7730 - val_accuracy: 0.3976\n",
            "Epoch 4/50\n",
            "156/156 [==============================] - 4s 28ms/step - loss: 1.0177 - accuracy: 0.7482 - val_loss: 2.3750 - val_accuracy: 0.4249\n",
            "Epoch 5/50\n",
            "156/156 [==============================] - 4s 28ms/step - loss: 0.7133 - accuracy: 0.8306 - val_loss: 3.0665 - val_accuracy: 0.3598\n",
            "Epoch 6/50\n",
            "156/156 [==============================] - 4s 27ms/step - loss: 0.4486 - accuracy: 0.9032 - val_loss: 2.3820 - val_accuracy: 0.4329\n",
            "Epoch 7/50\n",
            "156/156 [==============================] - 4s 28ms/step - loss: 0.2719 - accuracy: 0.9490 - val_loss: 2.0860 - val_accuracy: 0.5349\n",
            "Epoch 8/50\n",
            "156/156 [==============================] - 4s 27ms/step - loss: 0.1673 - accuracy: 0.9735 - val_loss: 2.1162 - val_accuracy: 0.5349\n",
            "Epoch 9/50\n",
            "156/156 [==============================] - 4s 27ms/step - loss: 0.1166 - accuracy: 0.9793 - val_loss: 2.1989 - val_accuracy: 0.5269\n",
            "Epoch 10/50\n",
            "156/156 [==============================] - 4s 27ms/step - loss: 0.0734 - accuracy: 0.9906 - val_loss: 2.1497 - val_accuracy: 0.5406\n",
            "Epoch 11/50\n",
            "156/156 [==============================] - 4s 28ms/step - loss: 0.0548 - accuracy: 0.9938 - val_loss: 2.0743 - val_accuracy: 0.5590\n",
            "Epoch 12/50\n",
            "156/156 [==============================] - 4s 27ms/step - loss: 0.0419 - accuracy: 0.9942 - val_loss: 2.0977 - val_accuracy: 0.5526\n",
            "Epoch 13/50\n",
            "156/156 [==============================] - 4s 28ms/step - loss: 0.0271 - accuracy: 0.9970 - val_loss: 2.0928 - val_accuracy: 0.5655\n",
            "Epoch 14/50\n",
            "156/156 [==============================] - 4s 28ms/step - loss: 0.0183 - accuracy: 0.9980 - val_loss: 2.1124 - val_accuracy: 0.5550\n",
            "Epoch 15/50\n",
            "156/156 [==============================] - 4s 28ms/step - loss: 0.0133 - accuracy: 0.9984 - val_loss: 2.1523 - val_accuracy: 0.5566\n",
            "Epoch 16/50\n",
            "156/156 [==============================] - 4s 28ms/step - loss: 0.0211 - accuracy: 0.9960 - val_loss: 2.3217 - val_accuracy: 0.5341\n",
            "Epoch 17/50\n",
            "156/156 [==============================] - 4s 27ms/step - loss: 0.0179 - accuracy: 0.9978 - val_loss: 2.5116 - val_accuracy: 0.5181\n",
            "Epoch 18/50\n",
            "156/156 [==============================] - 4s 27ms/step - loss: 0.0214 - accuracy: 0.9962 - val_loss: 2.7622 - val_accuracy: 0.4956\n",
            "Epoch 19/50\n",
            "156/156 [==============================] - 4s 27ms/step - loss: 0.2137 - accuracy: 0.9376 - val_loss: 4.1593 - val_accuracy: 0.3759\n",
            "Epoch 20/50\n",
            "156/156 [==============================] - 4s 27ms/step - loss: 0.3349 - accuracy: 0.8954 - val_loss: 2.9177 - val_accuracy: 0.4867\n",
            "Epoch 21/50\n",
            "156/156 [==============================] - 4s 27ms/step - loss: 0.1540 - accuracy: 0.9580 - val_loss: 2.5376 - val_accuracy: 0.5149\n",
            "Epoch 22/50\n",
            "156/156 [==============================] - 4s 27ms/step - loss: 0.0399 - accuracy: 0.9936 - val_loss: 2.3539 - val_accuracy: 0.5502\n",
            "Epoch 23/50\n",
            "156/156 [==============================] - 4s 27ms/step - loss: 0.0116 - accuracy: 0.9992 - val_loss: 2.3606 - val_accuracy: 0.5502\n",
            "Epoch 24/50\n",
            "156/156 [==============================] - 4s 27ms/step - loss: 0.0059 - accuracy: 1.0000 - val_loss: 2.3842 - val_accuracy: 0.5510\n",
            "Epoch 25/50\n",
            "156/156 [==============================] - 4s 28ms/step - loss: 0.0044 - accuracy: 1.0000 - val_loss: 2.4037 - val_accuracy: 0.5510\n",
            "Epoch 26/50\n",
            "156/156 [==============================] - 4s 27ms/step - loss: 0.0036 - accuracy: 1.0000 - val_loss: 2.4256 - val_accuracy: 0.5518\n",
            "Epoch 27/50\n",
            "156/156 [==============================] - 4s 27ms/step - loss: 0.0030 - accuracy: 1.0000 - val_loss: 2.4470 - val_accuracy: 0.5502\n",
            "Epoch 28/50\n",
            "156/156 [==============================] - 4s 28ms/step - loss: 0.0026 - accuracy: 1.0000 - val_loss: 2.4670 - val_accuracy: 0.5478\n",
            "Epoch 29/50\n",
            "156/156 [==============================] - 4s 27ms/step - loss: 0.0023 - accuracy: 1.0000 - val_loss: 2.4863 - val_accuracy: 0.5502\n",
            "Epoch 30/50\n",
            "156/156 [==============================] - 4s 28ms/step - loss: 0.0020 - accuracy: 1.0000 - val_loss: 2.5050 - val_accuracy: 0.5502\n",
            "Epoch 31/50\n",
            "156/156 [==============================] - 4s 28ms/step - loss: 0.0018 - accuracy: 1.0000 - val_loss: 2.5227 - val_accuracy: 0.5510\n",
            "Epoch 32/50\n",
            "156/156 [==============================] - 4s 28ms/step - loss: 0.0016 - accuracy: 1.0000 - val_loss: 2.5406 - val_accuracy: 0.5510\n",
            "Epoch 33/50\n",
            "156/156 [==============================] - 4s 28ms/step - loss: 0.0014 - accuracy: 1.0000 - val_loss: 2.5577 - val_accuracy: 0.5518\n",
            "Epoch 34/50\n",
            "156/156 [==============================] - 4s 27ms/step - loss: 0.0013 - accuracy: 1.0000 - val_loss: 2.5747 - val_accuracy: 0.5518\n",
            "Epoch 35/50\n",
            "156/156 [==============================] - 4s 27ms/step - loss: 0.0012 - accuracy: 1.0000 - val_loss: 2.5917 - val_accuracy: 0.5502\n",
            "Epoch 36/50\n",
            "156/156 [==============================] - 4s 27ms/step - loss: 0.0010 - accuracy: 1.0000 - val_loss: 2.6084 - val_accuracy: 0.5494\n",
            "Epoch 37/50\n",
            "156/156 [==============================] - 4s 27ms/step - loss: 9.5037e-04 - accuracy: 1.0000 - val_loss: 2.6248 - val_accuracy: 0.5502\n",
            "Epoch 38/50\n",
            "156/156 [==============================] - 4s 28ms/step - loss: 8.6274e-04 - accuracy: 1.0000 - val_loss: 2.6409 - val_accuracy: 0.5486\n",
            "Epoch 39/50\n",
            "156/156 [==============================] - 4s 28ms/step - loss: 7.8453e-04 - accuracy: 1.0000 - val_loss: 2.6572 - val_accuracy: 0.5494\n",
            "Epoch 40/50\n",
            "156/156 [==============================] - 4s 28ms/step - loss: 7.1427e-04 - accuracy: 1.0000 - val_loss: 2.6733 - val_accuracy: 0.5494\n",
            "Epoch 41/50\n",
            "156/156 [==============================] - 4s 27ms/step - loss: 6.5112e-04 - accuracy: 1.0000 - val_loss: 2.6894 - val_accuracy: 0.5486\n",
            "Epoch 42/50\n",
            "156/156 [==============================] - 4s 28ms/step - loss: 5.9410e-04 - accuracy: 1.0000 - val_loss: 2.7055 - val_accuracy: 0.5478\n",
            "Epoch 43/50\n",
            "156/156 [==============================] - 4s 27ms/step - loss: 5.4255e-04 - accuracy: 1.0000 - val_loss: 2.7217 - val_accuracy: 0.5478\n",
            "Epoch 44/50\n",
            "156/156 [==============================] - 4s 27ms/step - loss: 4.9586e-04 - accuracy: 1.0000 - val_loss: 2.7379 - val_accuracy: 0.5478\n",
            "Epoch 45/50\n",
            "156/156 [==============================] - 4s 27ms/step - loss: 4.5346e-04 - accuracy: 1.0000 - val_loss: 2.7540 - val_accuracy: 0.5478\n",
            "Epoch 46/50\n",
            "156/156 [==============================] - 4s 28ms/step - loss: 4.1496e-04 - accuracy: 1.0000 - val_loss: 2.7702 - val_accuracy: 0.5478\n",
            "Epoch 47/50\n",
            "156/156 [==============================] - 4s 27ms/step - loss: 3.7989e-04 - accuracy: 1.0000 - val_loss: 2.7862 - val_accuracy: 0.5478\n",
            "Epoch 48/50\n",
            "156/156 [==============================] - 4s 27ms/step - loss: 3.4795e-04 - accuracy: 1.0000 - val_loss: 2.8023 - val_accuracy: 0.5462\n",
            "Epoch 49/50\n",
            "156/156 [==============================] - 4s 28ms/step - loss: 3.1881e-04 - accuracy: 1.0000 - val_loss: 2.8187 - val_accuracy: 0.5462\n",
            "Epoch 50/50\n",
            "156/156 [==============================] - 4s 28ms/step - loss: 2.9222e-04 - accuracy: 1.0000 - val_loss: 2.8349 - val_accuracy: 0.5454\n"
          ]
        }
      ]
    },
    {
      "cell_type": "code",
      "metadata": {
        "colab": {
          "base_uri": "https://localhost:8080/",
          "height": 499
        },
        "id": "f1z_vHocu59c",
        "outputId": "1bd10001-99e2-4ac1-8204-e4db83ee29b8"
      },
      "source": [
        "acc = history.history['accuracy']\n",
        "val_acc = history.history['val_accuracy']\n",
        "\n",
        "loss=history.history['loss']\n",
        "val_loss=history.history['val_loss']\n",
        "\n",
        "epochs_range = range(epochs)\n",
        "\n",
        "plt.figure(figsize=(8, 8))\n",
        "plt.subplot(1, 2, 1)\n",
        "plt.plot(epochs_range, acc, label='Training Accuracy')\n",
        "plt.plot(epochs_range, val_acc, label='Validation Accuracy')\n",
        "plt.legend(loc='lower right')\n",
        "plt.title('Training and Validation Accuracy')\n",
        "\n",
        "plt.subplot(1, 2, 2)\n",
        "plt.plot(epochs_range, loss, label='Training Loss')\n",
        "plt.plot(epochs_range, val_loss, label='Validation Loss')\n",
        "plt.legend(loc='upper right')\n",
        "plt.title('Training and Validation Loss')\n",
        "plt.show()"
      ],
      "execution_count": null,
      "outputs": [
        {
          "output_type": "display_data",
          "data": {
            "image/png": "[encoded data removed]",
            "text/plain": [
              "<Figure size 576x576 with 2 Axes>"
            ]
          },
          "metadata": {
            "needs_background": "light"
          }
        }
      ]
    },
    {
      "cell_type": "code",
      "metadata": {
        "id": "XinJ6xXD9YNO"
      },
      "source": [
        "data_augmentation = keras.Sequential(\n",
        "  [\n",
        "    layers.experimental.preprocessing.RandomFlip(\"horizontal\", \n",
        "                                                 input_shape=(img_height, \n",
        "                                                              img_width,\n",
        "                                                              1)),\n",
        "    layers.experimental.preprocessing.RandomRotation(0.1),\n",
        "    layers.experimental.preprocessing.RandomZoom(0.1),\n",
        "  ]\n",
        ")"
      ],
      "execution_count": null,
      "outputs": []
    },
    {
      "cell_type": "code",
      "metadata": {
        "id": "8WT2BYElEYZj"
      },
      "source": [
        "model = Sequential([\n",
        "  data_augmentation,\n",
        "  layers.experimental.preprocessing.Rescaling(1./255),\n",
        "  layers.Conv2D(64, 3,input_shape = image_batch, activation='relu'),\n",
        "  layers.MaxPooling2D(),\n",
        "  layers.Conv2D(64, 3, padding='same', activation='relu'),\n",
        "  layers.MaxPooling2D(),\n",
        "  layers.Conv2D(64, 3, padding='same', activation='relu'),\n",
        "  layers.MaxPooling2D(),\n",
        "  layers.Dropout(0.2),\n",
        "  layers.Flatten(),\n",
        "  layers.Dense(128, input_dim = 107, activation='relu'),\n",
        "  BatchNormalization(),\n",
        "  layers.Dense(128, activation='relu'),\n",
        "  BatchNormalization(),\n",
        "  layers.Dense(107, activation='softmax'),\n",
        "  BatchNormalization(),\n",
        "  layers.Dense(num_classes)\n",
        "])"
      ],
      "execution_count": null,
      "outputs": []
    },
    {
      "cell_type": "code",
      "metadata": {
        "id": "opOHP3auEdsw",
        "colab": {
          "base_uri": "https://localhost:8080/"
        },
        "outputId": "ba511da9-cf0d-4b3f-a5da-7adbe70c0112"
      },
      "source": [
        "BatchNormalization(),model.compile(\n",
        "    optimizer='adam',\n",
        "    loss=tf.losses.SparseCategoricalCrossentropy(from_logits=True),\n",
        "    metrics=['accuracy'])"
      ],
      "execution_count": null,
      "outputs": [
        {
          "output_type": "execute_result",
          "data": {
            "text/plain": [
              "(<keras.layers.normalization.batch_normalization.BatchNormalization at 0x7f7cd84e1650>,\n",
              " None)"
            ]
          },
          "metadata": {},
          "execution_count": 19
        }
      ]
    },
    {
      "cell_type": "code",
      "metadata": {
        "colab": {
          "base_uri": "https://localhost:8080/"
        },
        "id": "3Ay4tlHlEfBX",
        "outputId": "e6ba7953-140e-4c27-e001-2c9164bbf3d1"
      },
      "source": [
        "model.summary()"
      ],
      "execution_count": null,
      "outputs": [
        {
          "output_type": "stream",
          "name": "stdout",
          "text": [
            "Model: \"sequential_2\"\n",
            "_________________________________________________________________\n",
            " Layer (type)                Output Shape              Param #   \n",
            "=================================================================\n",
            " sequential_1 (Sequential)   (None, 180, 180, 1)       0         \n",
            "                                                                 \n",
            " rescaling_2 (Rescaling)     (None, 180, 180, 1)       0         \n",
            "                                                                 \n",
            " conv2d_3 (Conv2D)           (None, 178, 178, 64)      640       \n",
            "                                                                 \n",
            " max_pooling2d_3 (MaxPooling  (None, 89, 89, 64)       0         \n",
            " 2D)                                                             \n",
            "                                                                 \n",
            " conv2d_4 (Conv2D)           (None, 89, 89, 64)        36928     \n",
            "                                                                 \n",
            " max_pooling2d_4 (MaxPooling  (None, 44, 44, 64)       0         \n",
            " 2D)                                                             \n",
            "                                                                 \n",
            " conv2d_5 (Conv2D)           (None, 44, 44, 64)        36928     \n",
            "                                                                 \n",
            " max_pooling2d_5 (MaxPooling  (None, 22, 22, 64)       0         \n",
            " 2D)                                                             \n",
            "                                                                 \n",
            " dropout (Dropout)           (None, 22, 22, 64)        0         \n",
            "                                                                 \n",
            " flatten_1 (Flatten)         (None, 30976)             0         \n",
            "                                                                 \n",
            " dense_4 (Dense)             (None, 128)               3965056   \n",
            "                                                                 \n",
            " batch_normalization_4 (Batc  (None, 128)              512       \n",
            " hNormalization)                                                 \n",
            "                                                                 \n",
            " dense_5 (Dense)             (None, 128)               16512     \n",
            "                                                                 \n",
            " batch_normalization_5 (Batc  (None, 128)              512       \n",
            " hNormalization)                                                 \n",
            "                                                                 \n",
            " dense_6 (Dense)             (None, 107)               13803     \n",
            "                                                                 \n",
            " batch_normalization_6 (Batc  (None, 107)              428       \n",
            " hNormalization)                                                 \n",
            "                                                                 \n",
            " dense_7 (Dense)             (None, 107)               11556     \n",
            "                                                                 \n",
            "=================================================================\n",
            "Total params: 4,082,875\n",
            "Trainable params: 4,082,149\n",
            "Non-trainable params: 726\n",
            "_________________________________________________________________\n"
          ]
        }
      ]
    },
    {
      "cell_type": "code",
      "metadata": {
        "colab": {
          "base_uri": "https://localhost:8080/"
        },
        "id": "Jc8rD_v9Ef41",
        "outputId": "d81e5966-b15e-4ec6-ee42-61d53cfbde0e"
      },
      "source": [
        "epochs = 50\n",
        "history = model.fit(\n",
        "  train_ds,\n",
        "  validation_data=val_ds,\n",
        "  epochs=epochs\n",
        ")"
      ],
      "execution_count": null,
      "outputs": [
        {
          "output_type": "stream",
          "name": "stdout",
          "text": [
            "Epoch 1/50\n",
            "156/156 [==============================] - 7s 32ms/step - loss: 3.6019 - accuracy: 0.2196 - val_loss: 4.1431 - val_accuracy: 0.2201\n",
            "Epoch 2/50\n",
            "156/156 [==============================] - 5s 29ms/step - loss: 2.6248 - accuracy: 0.3347 - val_loss: 3.6383 - val_accuracy: 0.2345\n",
            "Epoch 3/50\n",
            "156/156 [==============================] - 5s 30ms/step - loss: 2.2815 - accuracy: 0.3899 - val_loss: 2.9328 - val_accuracy: 0.3189\n",
            "Epoch 4/50\n",
            "156/156 [==============================] - 5s 29ms/step - loss: 2.0967 - accuracy: 0.4232 - val_loss: 2.5891 - val_accuracy: 0.3333\n",
            "Epoch 5/50\n",
            "156/156 [==============================] - 5s 30ms/step - loss: 1.9100 - accuracy: 0.4636 - val_loss: 2.8674 - val_accuracy: 0.3068\n",
            "Epoch 6/50\n",
            "156/156 [==============================] - 5s 30ms/step - loss: 1.7865 - accuracy: 0.4875 - val_loss: 2.6494 - val_accuracy: 0.3566\n",
            "Epoch 7/50\n",
            "156/156 [==============================] - 5s 29ms/step - loss: 1.6738 - accuracy: 0.5119 - val_loss: 2.8513 - val_accuracy: 0.3510\n",
            "Epoch 8/50\n",
            "156/156 [==============================] - 5s 29ms/step - loss: 1.5692 - accuracy: 0.5332 - val_loss: 2.9295 - val_accuracy: 0.3655\n",
            "Epoch 9/50\n",
            "156/156 [==============================] - 5s 29ms/step - loss: 1.4864 - accuracy: 0.5459 - val_loss: 3.2617 - val_accuracy: 0.3309\n",
            "Epoch 10/50\n",
            "156/156 [==============================] - 5s 29ms/step - loss: 1.4091 - accuracy: 0.5692 - val_loss: 3.4164 - val_accuracy: 0.3309\n",
            "Epoch 11/50\n",
            "156/156 [==============================] - 5s 29ms/step - loss: 1.3425 - accuracy: 0.5868 - val_loss: 2.8955 - val_accuracy: 0.3671\n",
            "Epoch 12/50\n",
            "156/156 [==============================] - 5s 29ms/step - loss: 1.2684 - accuracy: 0.6031 - val_loss: 2.9366 - val_accuracy: 0.3839\n",
            "Epoch 13/50\n",
            "156/156 [==============================] - 5s 29ms/step - loss: 1.2157 - accuracy: 0.6224 - val_loss: 2.8043 - val_accuracy: 0.3839\n",
            "Epoch 14/50\n",
            "156/156 [==============================] - 5s 29ms/step - loss: 1.1619 - accuracy: 0.6362 - val_loss: 2.5665 - val_accuracy: 0.4185\n",
            "Epoch 15/50\n",
            "156/156 [==============================] - 5s 30ms/step - loss: 1.1272 - accuracy: 0.6428 - val_loss: 2.8371 - val_accuracy: 0.4056\n",
            "Epoch 16/50\n",
            "156/156 [==============================] - 5s 30ms/step - loss: 1.0676 - accuracy: 0.6609 - val_loss: 2.6912 - val_accuracy: 0.4072\n",
            "Epoch 17/50\n",
            "156/156 [==============================] - 5s 29ms/step - loss: 1.0533 - accuracy: 0.6707 - val_loss: 2.6144 - val_accuracy: 0.4345\n",
            "Epoch 18/50\n",
            "156/156 [==============================] - 5s 29ms/step - loss: 0.9890 - accuracy: 0.6824 - val_loss: 2.8158 - val_accuracy: 0.3952\n",
            "Epoch 19/50\n",
            "156/156 [==============================] - 5s 29ms/step - loss: 0.9421 - accuracy: 0.6958 - val_loss: 2.8184 - val_accuracy: 0.3960\n",
            "Epoch 20/50\n",
            "156/156 [==============================] - 5s 29ms/step - loss: 0.8995 - accuracy: 0.7177 - val_loss: 2.7835 - val_accuracy: 0.4145\n",
            "Epoch 21/50\n",
            "156/156 [==============================] - 5s 29ms/step - loss: 0.8890 - accuracy: 0.7133 - val_loss: 2.4218 - val_accuracy: 0.4675\n",
            "Epoch 22/50\n",
            "156/156 [==============================] - 5s 29ms/step - loss: 0.8581 - accuracy: 0.7207 - val_loss: 2.3723 - val_accuracy: 0.4731\n",
            "Epoch 23/50\n",
            "156/156 [==============================] - 5s 30ms/step - loss: 0.8168 - accuracy: 0.7384 - val_loss: 2.3317 - val_accuracy: 0.4908\n",
            "Epoch 24/50\n",
            "156/156 [==============================] - 5s 29ms/step - loss: 0.7616 - accuracy: 0.7547 - val_loss: 2.7616 - val_accuracy: 0.4369\n",
            "Epoch 25/50\n",
            "156/156 [==============================] - 5s 30ms/step - loss: 0.7476 - accuracy: 0.7567 - val_loss: 2.6304 - val_accuracy: 0.4763\n",
            "Epoch 26/50\n",
            "156/156 [==============================] - 5s 30ms/step - loss: 0.7178 - accuracy: 0.7647 - val_loss: 2.3187 - val_accuracy: 0.4956\n",
            "Epoch 27/50\n",
            "156/156 [==============================] - 5s 30ms/step - loss: 0.7175 - accuracy: 0.7681 - val_loss: 2.4467 - val_accuracy: 0.4924\n",
            "Epoch 28/50\n",
            "156/156 [==============================] - 5s 30ms/step - loss: 0.6686 - accuracy: 0.7838 - val_loss: 2.4493 - val_accuracy: 0.4996\n",
            "Epoch 29/50\n",
            "156/156 [==============================] - 5s 29ms/step - loss: 0.6457 - accuracy: 0.7906 - val_loss: 3.0050 - val_accuracy: 0.4297\n",
            "Epoch 30/50\n",
            "156/156 [==============================] - 5s 30ms/step - loss: 0.6146 - accuracy: 0.8014 - val_loss: 2.7157 - val_accuracy: 0.4755\n",
            "Epoch 31/50\n",
            "156/156 [==============================] - 5s 29ms/step - loss: 0.5941 - accuracy: 0.8083 - val_loss: 2.5672 - val_accuracy: 0.4843\n",
            "Epoch 32/50\n",
            "156/156 [==============================] - 5s 30ms/step - loss: 0.5911 - accuracy: 0.8035 - val_loss: 2.2526 - val_accuracy: 0.5341\n",
            "Epoch 33/50\n",
            "156/156 [==============================] - 5s 29ms/step - loss: 0.5599 - accuracy: 0.8167 - val_loss: 2.2514 - val_accuracy: 0.5518\n",
            "Epoch 34/50\n",
            "156/156 [==============================] - 5s 30ms/step - loss: 0.5204 - accuracy: 0.8334 - val_loss: 2.4474 - val_accuracy: 0.5189\n",
            "Epoch 35/50\n",
            "156/156 [==============================] - 5s 30ms/step - loss: 0.5375 - accuracy: 0.8265 - val_loss: 3.2373 - val_accuracy: 0.4514\n",
            "Epoch 36/50\n",
            "156/156 [==============================] - 5s 30ms/step - loss: 0.5031 - accuracy: 0.8356 - val_loss: 2.6495 - val_accuracy: 0.4956\n",
            "Epoch 37/50\n",
            "156/156 [==============================] - 5s 29ms/step - loss: 0.4871 - accuracy: 0.8388 - val_loss: 2.8615 - val_accuracy: 0.4747\n",
            "Epoch 38/50\n",
            "156/156 [==============================] - 5s 29ms/step - loss: 0.4842 - accuracy: 0.8422 - val_loss: 2.8350 - val_accuracy: 0.4867\n",
            "Epoch 39/50\n",
            "156/156 [==============================] - 5s 29ms/step - loss: 0.4514 - accuracy: 0.8524 - val_loss: 2.7674 - val_accuracy: 0.5068\n",
            "Epoch 40/50\n",
            "156/156 [==============================] - 5s 30ms/step - loss: 0.4216 - accuracy: 0.8651 - val_loss: 2.7758 - val_accuracy: 0.4892\n",
            "Epoch 41/50\n",
            "156/156 [==============================] - 5s 30ms/step - loss: 0.4188 - accuracy: 0.8629 - val_loss: 2.8590 - val_accuracy: 0.4811\n",
            "Epoch 42/50\n",
            "156/156 [==============================] - 5s 30ms/step - loss: 0.4270 - accuracy: 0.8599 - val_loss: 2.5735 - val_accuracy: 0.5269\n",
            "Epoch 43/50\n",
            "156/156 [==============================] - 5s 30ms/step - loss: 0.3843 - accuracy: 0.8777 - val_loss: 2.6941 - val_accuracy: 0.5205\n",
            "Epoch 44/50\n",
            "156/156 [==============================] - 5s 29ms/step - loss: 0.3821 - accuracy: 0.8769 - val_loss: 3.0854 - val_accuracy: 0.4707\n",
            "Epoch 45/50\n",
            "156/156 [==============================] - 5s 30ms/step - loss: 0.3692 - accuracy: 0.8805 - val_loss: 2.8137 - val_accuracy: 0.5100\n",
            "Epoch 46/50\n",
            "156/156 [==============================] - 5s 30ms/step - loss: 0.3667 - accuracy: 0.8787 - val_loss: 2.9004 - val_accuracy: 0.4867\n",
            "Epoch 47/50\n",
            "156/156 [==============================] - 5s 30ms/step - loss: 0.3470 - accuracy: 0.8896 - val_loss: 3.1371 - val_accuracy: 0.4538\n",
            "Epoch 48/50\n",
            "156/156 [==============================] - 5s 30ms/step - loss: 0.3341 - accuracy: 0.8924 - val_loss: 2.9147 - val_accuracy: 0.4940\n",
            "Epoch 49/50\n",
            "156/156 [==============================] - 5s 30ms/step - loss: 0.3413 - accuracy: 0.8870 - val_loss: 3.0436 - val_accuracy: 0.4755\n",
            "Epoch 50/50\n",
            "156/156 [==============================] - 5s 30ms/step - loss: 0.3172 - accuracy: 0.8984 - val_loss: 3.0099 - val_accuracy: 0.5012\n"
          ]
        }
      ]
    },
    {
      "cell_type": "code",
      "metadata": {
        "colab": {
          "base_uri": "https://localhost:8080/",
          "height": 499
        },
        "id": "ynhS2KjVEhj8",
        "outputId": "bd968565-41b0-4548-af4e-12d678a08ed4"
      },
      "source": [
        "acc = history.history['accuracy']\n",
        "val_acc = history.history['val_accuracy']\n",
        "\n",
        "loss = history.history['loss']\n",
        "val_loss = history.history['val_loss']\n",
        "\n",
        "epochs_range = range(epochs)\n",
        "\n",
        "plt.figure(figsize=(8, 8))\n",
        "plt.subplot(1, 2, 1)\n",
        "plt.plot(epochs_range, acc, label='Training Accuracy')\n",
        "plt.plot(epochs_range, val_acc, label='Validation Accuracy')\n",
        "plt.legend(loc='lower right')\n",
        "plt.title('Training and Validation Accuracy')\n",
        "\n",
        "plt.subplot(1, 2, 2)\n",
        "plt.plot(epochs_range, loss, label='Training Loss')\n",
        "plt.plot(epochs_range, val_loss, label='Validation Loss')\n",
        "plt.legend(loc='upper right')\n",
        "plt.title('Training and Validation Loss')\n",
        "plt.show()"
      ],
      "execution_count": null,
      "outputs": [
        {
          "output_type": "display_data",
          "data": {
            "image/png": "[encoded data removed]",
            "text/plain": [
              "<Figure size 576x576 with 2 Axes>"
            ]
          },
          "metadata": {
            "needs_background": "light"
          }
        }
      ]
    },
    {
      "cell_type": "code",
      "metadata": {
        "colab": {
          "base_uri": "https://localhost:8080/"
        },
        "id": "IbEQMrsAH2yZ",
        "outputId": "1c0db71e-aa86-457b-ab96-04d6b1245e5a"
      },
      "source": [
        "model.compile(\n",
        "    optimizer='adam',\n",
        "    loss=tf.losses.SparseCategoricalCrossentropy(from_logits=True),\n",
        "    metrics=['accuracy'])\n",
        "model.summary()"
      ],
      "execution_count": null,
      "outputs": [
        {
          "output_type": "stream",
          "name": "stdout",
          "text": [
            "Model: \"sequential_2\"\n",
            "_________________________________________________________________\n",
            " Layer (type)                Output Shape              Param #   \n",
            "=================================================================\n",
            " sequential_1 (Sequential)   (None, 180, 180, 1)       0         \n",
            "                                                                 \n",
            " rescaling_2 (Rescaling)     (None, 180, 180, 1)       0         \n",
            "                                                                 \n",
            " conv2d_3 (Conv2D)           (None, 178, 178, 64)      640       \n",
            "                                                                 \n",
            " max_pooling2d_3 (MaxPooling  (None, 89, 89, 64)       0         \n",
            " 2D)                                                             \n",
            "                                                                 \n",
            " conv2d_4 (Conv2D)           (None, 89, 89, 64)        36928     \n",
            "                                                                 \n",
            " max_pooling2d_4 (MaxPooling  (None, 44, 44, 64)       0         \n",
            " 2D)                                                             \n",
            "                                                                 \n",
            " conv2d_5 (Conv2D)           (None, 44, 44, 64)        36928     \n",
            "                                                                 \n",
            " max_pooling2d_5 (MaxPooling  (None, 22, 22, 64)       0         \n",
            " 2D)                                                             \n",
            "                                                                 \n",
            " dropout (Dropout)           (None, 22, 22, 64)        0         \n",
            "                                                                 \n",
            " flatten_1 (Flatten)         (None, 30976)             0         \n",
            "                                                                 \n",
            " dense_4 (Dense)             (None, 128)               3965056   \n",
            "                                                                 \n",
            " batch_normalization_4 (Batc  (None, 128)              512       \n",
            " hNormalization)                                                 \n",
            "                                                                 \n",
            " dense_5 (Dense)             (None, 128)               16512     \n",
            "                                                                 \n",
            " batch_normalization_5 (Batc  (None, 128)              512       \n",
            " hNormalization)                                                 \n",
            "                                                                 \n",
            " dense_6 (Dense)             (None, 107)               13803     \n",
            "                                                                 \n",
            " batch_normalization_6 (Batc  (None, 107)              428       \n",
            " hNormalization)                                                 \n",
            "                                                                 \n",
            " dense_7 (Dense)             (None, 107)               11556     \n",
            "                                                                 \n",
            "=================================================================\n",
            "Total params: 4,082,875\n",
            "Trainable params: 4,082,149\n",
            "Non-trainable params: 726\n",
            "_________________________________________________________________\n"
          ]
        }
      ]
    },
    {
      "cell_type": "code",
      "metadata": {
        "id": "df30HUqFjWre"
      },
      "source": [
        ""
      ],
      "execution_count": null,
      "outputs": []
    }
  ]
}