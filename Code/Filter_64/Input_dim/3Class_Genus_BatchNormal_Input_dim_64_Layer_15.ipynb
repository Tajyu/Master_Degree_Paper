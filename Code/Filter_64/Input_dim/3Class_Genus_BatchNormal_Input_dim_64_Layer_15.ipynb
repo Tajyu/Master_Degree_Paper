{
  "nbformat": 4,
  "nbformat_minor": 0,
  "metadata": {
    "colab": {
      "name": "3Class_Genus_BatchNormal_Input_dim_64_Layer_15.ipynb",
      "provenance": [],
      "collapsed_sections": [],
      "mount_file_id": "1TeO-I2NYOFLwBd4Bf9bsnndY-UrRjN5R",
      "authorship_tag": "ABX9TyN6ULHrIVgq9bcwhXp2rvUA",
      "include_colab_link": true
    },
    "kernelspec": {
      "name": "python3",
      "display_name": "Python 3"
    },
    "language_info": {
      "name": "python"
    },
    "accelerator": "GPU"
  },
  "cells": [
    {
      "cell_type": "markdown",
      "metadata": {
        "id": "view-in-github",
        "colab_type": "text"
      },
      "source": [
        "<a href=\"https://colab.research.google.com/github/Tajyu/Master_Degree_Paper/blob/main/Code/Filter_64/Input_dim/3Class_Genus_BatchNormal_Input_dim_64_Layer_15.ipynb\" target=\"_parent\"><img src=\"https://colab.research.google.com/assets/colab-badge.svg\" alt=\"Open In Colab\"/></a>"
      ]
    },
    {
      "cell_type": "code",
      "metadata": {
        "id": "yWckd06_68Em"
      },
      "source": [
        "import tensorflow as tf\n",
        "from tensorflow.keras import datasets, layers, models\n",
        "from keras.preprocessing.image import ImageDataGenerator\n",
        "import numpy as np\n",
        "import matplotlib.pyplot as plt\n",
        "import cv2 as cv\n",
        "import os\n",
        "import pathlib\n",
        "import PIL\n",
        "from tensorflow import keras\n",
        "from tensorflow.keras import layers\n",
        "from tensorflow.keras.models import Sequential\n",
        "from tensorflow.keras.layers import Dense, Flatten, BatchNormalization, Dropout"
      ],
      "execution_count": null,
      "outputs": []
    },
    {
      "cell_type": "code",
      "metadata": {
        "id": "xav9zirHttk_"
      },
      "source": [
        "image_list = os.listdir('/content/drive/MyDrive/Colab Notebooks/Final_Project/Cell_Genus')"
      ],
      "execution_count": null,
      "outputs": []
    },
    {
      "cell_type": "code",
      "metadata": {
        "colab": {
          "base_uri": "https://localhost:8080/"
        },
        "id": "K-wD0dM5tx_E",
        "outputId": "65d4aa1b-68b2-4a14-f1d2-04da74d121ee"
      },
      "source": [
        "print(image_list)"
      ],
      "execution_count": null,
      "outputs": [
        {
          "output_type": "stream",
          "name": "stdout",
          "text": [
            "['10_Genus_Stauroneis_Ehrenberg', '10_Genus_Staurosira_Ehrenberg', '11_Genus_Craspedostauros_E.J_Cox_1999', '11_Genus_Staurosirella_Williams_and_Round', '12_Genus_Caloneis_Cleve_1894', '12_Genus_Synedra_Ehrenberg', '13_Genus_Pinnularia_Ehrenberg_1843', '1_Genus_Acanthoceras_Honigmann', '1_Genus_Achnanthes_Bory', '1_Genus_Actinocyclus_Ehrenberg', '1_Genus_Aphanocapsa_Nageli_1849', '1_Genus_Asterionella_Hassall', '1_Genus_Aulacoseira', '1_Genus_Biremis_Mann_et_Cox_in_Round_Crawford_and_Mann', '1_Genus_Characium_A_Braun_in_Kutzing_1849', '1_Genus_Chroococcus_Nageli', '1_Genus_Closterium_Nitzsch_ex_Ralfs_1848', '1_Genus_Coelastrum_Nageli_1849', '1_Genus_Cylindrocystis_Meneghini_ex_de_Bary_1858', '1_Genus_Dictyosphaerium_Nageli_1849', '1_Genus_Docidium_Brebisson_ex_Ralfs_1848', '1_Genus_Eunotia_Ehrenberg', '1_Genus_Geitlerinema_(Anagnostidis_et_Komarek)_Anagnostidis_1989', '1_Genus_Gonatozygon_de_Bary_1856', '1_Genus_Hydrodictyon_Roth_1797', '1_Genus_Hydrosera_whampoensis', '1_Genus_Jaaginema_Anagnostidis_et_Komarek_1988', '1_Genus_Lyngbya_C_Agardh_ex_Gomont_1892', '1_Genus_Melosira_Agardh', '1_Genus_Micractinium_Fresenius_1858', '1_Genus_Micrasterias_Ralfs_1848', '1_Genus_Microcystis_Kutzing_ex_Lemmermann_1907', '1_Genus_Oscillatoria_Vaucher_ex_Gomont_1982', '1_Genus_Pediastrum_Meyen_1829', '1_Genus_Penium_Brebisson_ex_Ralfs_in_Ralfs_1848', '1_Genus_Phormidium_Kutzing_ex_Gomont_1892', '1_Genus_Planktothrix_Anagnostidis_et_Komarek_1988', '1_Genus_Pleurosira_laevis_(Ehrenberg)', '1_Genus_Rhizosolenia_Ehrenberg', '1_Genus_Schizochlamydella_Korshikov_1953', '1_Genus_Staurodesmus_Teiling_1848', '1_Genus_Trochiscia_Kutzing_1834', '1_Scenedesmus_Hegewald_1978', '2_Acutodesmus_Hegewald_1978', '2_Genus_Achnanthidium_Kutzing', '2_Genus_Actinastrum_Lagerheim_1882', '2_Genus_Actinella_Lewis', '2_Genus_Ankyra_Fott_1957', '2_Genus_Caloneis_Cleve', '2_Genus_Chaetoceros_Ehrenberg', '2_Genus_Coenochloris_Korshikov_1953', '2_Genus_Cyclotella', '2_Genus_Diatoma_Bory', '2_Genus_Dimorphococcus_A_Braun_1855', '2_Genus_Golenkinia_Chodat_1894', '2_Genus_Haplotaenium_Bando_1988', '2_Genus_Leibleinia_(Gomont)_L_Hoffman_1985', '2_Genus_Leptolyngbya_Anagnostidis_et_Komarek_1988', '2_Genus_Merismopedia_Meyen_1839', '2_Genus_Netrium_(Nageli)_Itzigsohn_et_Rothe_in_Rabenhorst_1856', '2_Genus_Orthoseira_Thwaites_1848', '2_Genus_Phormidium_Kutzing_ex_Gomont_1892', '2_Genus_Sorastrum_Kutzing_1845', '2_Genus_Staurastrum_Meyen_ex_Ralfs_1848', '3_Desmodesmus_Chodat_1926', '3_Genus_Acanthosphaera_Lemmerman_1899', '3_Genus_Anorthoneis_Grunow', '3_Genus_Cyclostephanos_Round', '3_Genus_Dichotomococcus_Korshikov_1928', '3_Genus_Heteroleibleinia_(Geitler)_L_Hoffmann_1985', '3_Genus_Limnothrix_Meffert_1988', '3_Genus_Meridion_Agardh', '3_Genus_Paradoxia_Svirenko_1928', '3_Genus_Peronia_Bebisson_and_Arnott_ex_Kitton', '3_Genus_Phormidiochaete_Komarek_in_Anagnostidis_2001', '3_Genus_Pinnularia_Ehrenberg_1', '3_Genus_Pleurotaenium_Nageli_1849', '3_Genus_Radiococcus_Schmidle_1902', '3_Genus_Snowella_Elenkin_1938', '3_Genus_Spirotaenia_Brebisson_in_Ralfs_1848', '4_Genus_Botryococcus_Kutzing_1849', '4_Genus_Cocconeis_Ehrenberg', '4_Genus_Eutetramorus_Walton_1918', '4_Genus_Leptolyngbya_Anagnostidis_et_Komarek_1988', '4_Genus_Opephora_Petit', '4_Genus_Pinnularia_Ehrenberg_2', '4_Genus_Schroederia_Lemmermann_1898', '4_Genus_Stephanodiscus_Ehrenberg', '4_Genus_Synechocystis_Sauvageau_1892', '4_Genus_Tortitaenia_A_J_Brook_1998', '5_Genus_Caloneis_Cleve', '5_Genus_Coenocystis_Korshikov_1953', '5_Genus_Planktolyngbya_Anagnostidis_et_Komarek_1988', '5_Genus_Tabellaria_Ehrenberg', '5_Genus_Thalassiosira_Cleve', '5_Genus_Woronichinia_Elenkin_1933', '6_Genus_Anomoeoneis_Pfitzer', '6_Genus_Fragilaria_Lyngbye', '6_Genus_Gloeocystis_Nageli_1849', '6_Genus_Pseudanabaena_Lauterborn_1915', '6_Genus_Skeletonema_Greville', '7_Genus_Caloneis_Cleve', '7_Genus_Hannaea_Patrick', '8_Genus_Diploneis(Ehrenberg)_Cleve', '8_Genus_Pseudostaurosira_Williams_and_Round', '9_Genus_Neidium_Pfitzer', '9_Genus_Punctastriata_Williams_and_Round']\n"
          ]
        }
      ]
    },
    {
      "cell_type": "code",
      "metadata": {
        "id": "o-0DvzEHt8VE"
      },
      "source": [
        "data_generator = ImageDataGenerator(rescale = 1./255)\n",
        "\n",
        "data_dir = \"/content/drive/MyDrive/Colab Notebooks/Final_Project/Cell_Genus\""
      ],
      "execution_count": null,
      "outputs": []
    },
    {
      "cell_type": "code",
      "metadata": {
        "id": "7aTCfEm3t10n"
      },
      "source": [
        "batch_size = 32\n",
        "img_height = 180\n",
        "img_width = 180"
      ],
      "execution_count": null,
      "outputs": []
    },
    {
      "cell_type": "code",
      "metadata": {
        "id": "9Smg-miEt22s",
        "colab": {
          "base_uri": "https://localhost:8080/"
        },
        "outputId": "666a9c87-05c4-49c9-91b8-f4356d713c6e"
      },
      "source": [
        "train_ds = tf.keras.preprocessing.image_dataset_from_directory(\n",
        "  data_dir,\n",
        "  color_mode = \"grayscale\",\n",
        "  validation_split=0.2,\n",
        "  subset=\"training\",\n",
        "  seed=123,\n",
        "  image_size=(img_height, img_width),\n",
        "  batch_size=batch_size)"
      ],
      "execution_count": null,
      "outputs": [
        {
          "output_type": "stream",
          "name": "stdout",
          "text": [
            "Found 6226 files belonging to 107 classes.\n",
            "Using 4981 files for training.\n"
          ]
        }
      ]
    },
    {
      "cell_type": "code",
      "metadata": {
        "id": "1nR0WdQGt44x",
        "colab": {
          "base_uri": "https://localhost:8080/"
        },
        "outputId": "1a9a111a-d2fa-4774-92a1-6314fccc2182"
      },
      "source": [
        "val_ds = tf.keras.preprocessing.image_dataset_from_directory(\n",
        "  data_dir,\n",
        "  color_mode = \"grayscale\",\n",
        "  validation_split=0.2,\n",
        "  subset=\"validation\",\n",
        "  seed=123,\n",
        "  image_size=(img_height, img_width),\n",
        "  batch_size=batch_size)"
      ],
      "execution_count": null,
      "outputs": [
        {
          "output_type": "stream",
          "name": "stdout",
          "text": [
            "Found 6226 files belonging to 107 classes.\n",
            "Using 1245 files for validation.\n"
          ]
        }
      ]
    },
    {
      "cell_type": "code",
      "metadata": {
        "id": "F-cz_CtGug8Y",
        "colab": {
          "base_uri": "https://localhost:8080/"
        },
        "outputId": "532f30e9-45f3-4929-a49f-6684bbb5fd50"
      },
      "source": [
        "class_names = train_ds.class_names\n",
        "print(class_names)"
      ],
      "execution_count": null,
      "outputs": [
        {
          "output_type": "stream",
          "name": "stdout",
          "text": [
            "['10_Genus_Stauroneis_Ehrenberg', '10_Genus_Staurosira_Ehrenberg', '11_Genus_Craspedostauros_E.J_Cox_1999', '11_Genus_Staurosirella_Williams_and_Round', '12_Genus_Caloneis_Cleve_1894', '12_Genus_Synedra_Ehrenberg', '13_Genus_Pinnularia_Ehrenberg_1843', '1_Genus_Acanthoceras_Honigmann', '1_Genus_Achnanthes_Bory', '1_Genus_Actinocyclus_Ehrenberg', '1_Genus_Aphanocapsa_Nageli_1849', '1_Genus_Asterionella_Hassall', '1_Genus_Aulacoseira', '1_Genus_Biremis_Mann_et_Cox_in_Round_Crawford_and_Mann', '1_Genus_Characium_A_Braun_in_Kutzing_1849', '1_Genus_Chroococcus_Nageli', '1_Genus_Closterium_Nitzsch_ex_Ralfs_1848', '1_Genus_Coelastrum_Nageli_1849', '1_Genus_Cylindrocystis_Meneghini_ex_de_Bary_1858', '1_Genus_Dictyosphaerium_Nageli_1849', '1_Genus_Docidium_Brebisson_ex_Ralfs_1848', '1_Genus_Eunotia_Ehrenberg', '1_Genus_Geitlerinema_(Anagnostidis_et_Komarek)_Anagnostidis_1989', '1_Genus_Gonatozygon_de_Bary_1856', '1_Genus_Hydrodictyon_Roth_1797', '1_Genus_Hydrosera_whampoensis', '1_Genus_Jaaginema_Anagnostidis_et_Komarek_1988', '1_Genus_Lyngbya_C_Agardh_ex_Gomont_1892', '1_Genus_Melosira_Agardh', '1_Genus_Micractinium_Fresenius_1858', '1_Genus_Micrasterias_Ralfs_1848', '1_Genus_Microcystis_Kutzing_ex_Lemmermann_1907', '1_Genus_Oscillatoria_Vaucher_ex_Gomont_1982', '1_Genus_Pediastrum_Meyen_1829', '1_Genus_Penium_Brebisson_ex_Ralfs_in_Ralfs_1848', '1_Genus_Phormidium_Kutzing_ex_Gomont_1892', '1_Genus_Planktothrix_Anagnostidis_et_Komarek_1988', '1_Genus_Pleurosira_laevis_(Ehrenberg)', '1_Genus_Rhizosolenia_Ehrenberg', '1_Genus_Schizochlamydella_Korshikov_1953', '1_Genus_Staurodesmus_Teiling_1848', '1_Genus_Trochiscia_Kutzing_1834', '1_Scenedesmus_Hegewald_1978', '2_Acutodesmus_Hegewald_1978', '2_Genus_Achnanthidium_Kutzing', '2_Genus_Actinastrum_Lagerheim_1882', '2_Genus_Actinella_Lewis', '2_Genus_Ankyra_Fott_1957', '2_Genus_Caloneis_Cleve', '2_Genus_Chaetoceros_Ehrenberg', '2_Genus_Coenochloris_Korshikov_1953', '2_Genus_Cyclotella', '2_Genus_Diatoma_Bory', '2_Genus_Dimorphococcus_A_Braun_1855', '2_Genus_Golenkinia_Chodat_1894', '2_Genus_Haplotaenium_Bando_1988', '2_Genus_Leibleinia_(Gomont)_L_Hoffman_1985', '2_Genus_Leptolyngbya_Anagnostidis_et_Komarek_1988', '2_Genus_Merismopedia_Meyen_1839', '2_Genus_Netrium_(Nageli)_Itzigsohn_et_Rothe_in_Rabenhorst_1856', '2_Genus_Orthoseira_Thwaites_1848', '2_Genus_Phormidium_Kutzing_ex_Gomont_1892', '2_Genus_Sorastrum_Kutzing_1845', '2_Genus_Staurastrum_Meyen_ex_Ralfs_1848', '3_Desmodesmus_Chodat_1926', '3_Genus_Acanthosphaera_Lemmerman_1899', '3_Genus_Anorthoneis_Grunow', '3_Genus_Cyclostephanos_Round', '3_Genus_Dichotomococcus_Korshikov_1928', '3_Genus_Heteroleibleinia_(Geitler)_L_Hoffmann_1985', '3_Genus_Limnothrix_Meffert_1988', '3_Genus_Meridion_Agardh', '3_Genus_Paradoxia_Svirenko_1928', '3_Genus_Peronia_Bebisson_and_Arnott_ex_Kitton', '3_Genus_Phormidiochaete_Komarek_in_Anagnostidis_2001', '3_Genus_Pinnularia_Ehrenberg_1', '3_Genus_Pleurotaenium_Nageli_1849', '3_Genus_Radiococcus_Schmidle_1902', '3_Genus_Snowella_Elenkin_1938', '3_Genus_Spirotaenia_Brebisson_in_Ralfs_1848', '4_Genus_Botryococcus_Kutzing_1849', '4_Genus_Cocconeis_Ehrenberg', '4_Genus_Eutetramorus_Walton_1918', '4_Genus_Leptolyngbya_Anagnostidis_et_Komarek_1988', '4_Genus_Opephora_Petit', '4_Genus_Pinnularia_Ehrenberg_2', '4_Genus_Schroederia_Lemmermann_1898', '4_Genus_Stephanodiscus_Ehrenberg', '4_Genus_Synechocystis_Sauvageau_1892', '4_Genus_Tortitaenia_A_J_Brook_1998', '5_Genus_Caloneis_Cleve', '5_Genus_Coenocystis_Korshikov_1953', '5_Genus_Planktolyngbya_Anagnostidis_et_Komarek_1988', '5_Genus_Tabellaria_Ehrenberg', '5_Genus_Thalassiosira_Cleve', '5_Genus_Woronichinia_Elenkin_1933', '6_Genus_Anomoeoneis_Pfitzer', '6_Genus_Fragilaria_Lyngbye', '6_Genus_Gloeocystis_Nageli_1849', '6_Genus_Pseudanabaena_Lauterborn_1915', '6_Genus_Skeletonema_Greville', '7_Genus_Caloneis_Cleve', '7_Genus_Hannaea_Patrick', '8_Genus_Diploneis(Ehrenberg)_Cleve', '8_Genus_Pseudostaurosira_Williams_and_Round', '9_Genus_Neidium_Pfitzer', '9_Genus_Punctastriata_Williams_and_Round']\n"
          ]
        }
      ]
    },
    {
      "cell_type": "code",
      "metadata": {
        "id": "5EQOikPAukic",
        "colab": {
          "base_uri": "https://localhost:8080/"
        },
        "outputId": "a60582ca-66ef-4190-f8bf-3a78ef82726b"
      },
      "source": [
        "for image_batch, labels_batch in train_ds:\n",
        "  print(image_batch.shape)\n",
        "  print(labels_batch.shape)\n",
        "  break"
      ],
      "execution_count": null,
      "outputs": [
        {
          "output_type": "stream",
          "name": "stdout",
          "text": [
            "(32, 180, 180, 1)\n",
            "(32,)\n"
          ]
        }
      ]
    },
    {
      "cell_type": "code",
      "metadata": {
        "id": "9eVl7tiDux9q"
      },
      "source": [
        "from tensorflow.keras import layers\n",
        "\n",
        "normalization_layer = tf.keras.layers.experimental.preprocessing.Rescaling(1./255)"
      ],
      "execution_count": null,
      "outputs": []
    },
    {
      "cell_type": "code",
      "metadata": {
        "id": "AiIrsxzZuzEo",
        "colab": {
          "base_uri": "https://localhost:8080/"
        },
        "outputId": "ee828c0f-d20b-497c-f53d-e9eccc282247"
      },
      "source": [
        "normalized_ds = train_ds.map(lambda x, y: (normalization_layer(x), y))\n",
        "image_batch, labels_batch = next(iter(normalized_ds))\n",
        "first_image = image_batch[0]\n",
        "# Notice the pixels values are now in `[0,1]`.\n",
        "print(np.min(first_image), np.max(first_image))"
      ],
      "execution_count": null,
      "outputs": [
        {
          "output_type": "stream",
          "name": "stdout",
          "text": [
            "0.0 1.0\n"
          ]
        }
      ]
    },
    {
      "cell_type": "code",
      "metadata": {
        "id": "__WbVabru0Bp"
      },
      "source": [
        "AUTOTUNE = tf.data.experimental.AUTOTUNE\n",
        "\n",
        "train_ds = train_ds.cache().prefetch(buffer_size=AUTOTUNE)\n",
        "val_ds = val_ds.cache().prefetch(buffer_size=AUTOTUNE)"
      ],
      "execution_count": null,
      "outputs": []
    },
    {
      "cell_type": "code",
      "metadata": {
        "id": "g1GeYFXCu2gV"
      },
      "source": [
        "num_classes = 107\n",
        "model = tf.keras.Sequential([\n",
        "    layers.experimental.preprocessing.Rescaling(1./255),\n",
        "    layers.Conv2D(64, 3,input_shape = image_batch, activation='relu'),\n",
        "    layers.MaxPooling2D(),\n",
        "    layers.Conv2D(64, 3, activation='relu'),\n",
        "    layers.MaxPooling2D(),\n",
        "    layers.Conv2D(64, 3, activation='relu'),\n",
        "    layers.MaxPooling2D(),\n",
        "    layers.Flatten(),\n",
        "    BatchNormalization(),\n",
        "    layers.Dense(128, input_dim = 107, activation='relu'),\n",
        "    BatchNormalization(),\n",
        "    layers.Dense(128, activation='relu'),\n",
        "    BatchNormalization(),\n",
        "    layers.Dense(128, activation='relu'),\n",
        "    BatchNormalization(),\n",
        "    layers.Dense(128, activation='relu'),\n",
        "    BatchNormalization(),\n",
        "    layers.Dense(128, activation='relu'),\n",
        "    BatchNormalization(),\n",
        "    layers.Dense(128, activation='relu'),\n",
        "    BatchNormalization(),\n",
        "    layers.Dense(128, activation='relu'),\n",
        "    BatchNormalization(),\n",
        "    layers.Dense(128, activation='relu'),\n",
        "    BatchNormalization(),\n",
        "    layers.Dense(128, activation='relu'),\n",
        "    BatchNormalization(),\n",
        "   layers.Dense(128, activation='relu'),\n",
        "   BatchNormalization(),\n",
        "   layers.Dense(128, activation='relu'),\n",
        "   BatchNormalization(),\n",
        "   layers.Dense(128, activation='relu'),\n",
        "   BatchNormalization(),\n",
        "   layers.Dense(128, activation='relu'),\n",
        "   BatchNormalization(),\n",
        "   layers.Dense(128, activation='relu'),\n",
        "   BatchNormalization(),\n",
        "   layers.Dense(107, activation='softmax'),\n",
        "   BatchNormalization(),\n",
        "   layers.Dense(num_classes)\n",
        "    ])"
      ],
      "execution_count": null,
      "outputs": []
    },
    {
      "cell_type": "code",
      "metadata": {
        "id": "wU4xPAvNYWry"
      },
      "source": [
        "model.compile(\n",
        "    optimizer='adam',\n",
        "    loss=tf.losses.SparseCategoricalCrossentropy(from_logits=True),\n",
        "    metrics=['accuracy'])"
      ],
      "execution_count": null,
      "outputs": []
    },
    {
      "cell_type": "code",
      "metadata": {
        "id": "Tk8ssrbHu44p",
        "colab": {
          "base_uri": "https://localhost:8080/"
        },
        "outputId": "e6b00642-3878-4924-a607-b0a23acf4fc0"
      },
      "source": [
        "epochs=50\n",
        "history = model.fit(\n",
        "  train_ds,\n",
        "  validation_data=val_ds,\n",
        "  epochs=epochs\n",
        ")"
      ],
      "execution_count": null,
      "outputs": [
        {
          "output_type": "stream",
          "name": "stdout",
          "text": [
            "Epoch 1/50\n",
            "156/156 [==============================] - 687s 4s/step - loss: 4.1340 - accuracy: 0.1411 - val_loss: 4.1348 - val_accuracy: 0.0980\n",
            "Epoch 2/50\n",
            "156/156 [==============================] - 5s 31ms/step - loss: 3.1071 - accuracy: 0.2552 - val_loss: 3.6069 - val_accuracy: 0.2329\n",
            "Epoch 3/50\n",
            "156/156 [==============================] - 5s 31ms/step - loss: 2.7653 - accuracy: 0.3068 - val_loss: 3.1668 - val_accuracy: 0.2867\n",
            "Epoch 4/50\n",
            "156/156 [==============================] - 5s 31ms/step - loss: 2.5464 - accuracy: 0.3375 - val_loss: 2.9873 - val_accuracy: 0.2610\n",
            "Epoch 5/50\n",
            "156/156 [==============================] - 5s 31ms/step - loss: 2.3663 - accuracy: 0.3674 - val_loss: 2.6786 - val_accuracy: 0.3124\n",
            "Epoch 6/50\n",
            "156/156 [==============================] - 5s 31ms/step - loss: 2.1969 - accuracy: 0.3975 - val_loss: 2.5277 - val_accuracy: 0.3558\n",
            "Epoch 7/50\n",
            "156/156 [==============================] - 5s 31ms/step - loss: 2.0918 - accuracy: 0.4128 - val_loss: 2.4888 - val_accuracy: 0.3518\n",
            "Epoch 8/50\n",
            "156/156 [==============================] - 5s 31ms/step - loss: 1.9630 - accuracy: 0.4459 - val_loss: 2.4310 - val_accuracy: 0.3863\n",
            "Epoch 9/50\n",
            "156/156 [==============================] - 5s 31ms/step - loss: 1.8652 - accuracy: 0.4692 - val_loss: 2.4308 - val_accuracy: 0.4064\n",
            "Epoch 10/50\n",
            "156/156 [==============================] - 5s 31ms/step - loss: 1.7593 - accuracy: 0.4977 - val_loss: 2.6055 - val_accuracy: 0.3719\n",
            "Epoch 11/50\n",
            "156/156 [==============================] - 5s 31ms/step - loss: 1.6166 - accuracy: 0.5330 - val_loss: 2.8435 - val_accuracy: 0.3382\n",
            "Epoch 12/50\n",
            "156/156 [==============================] - 5s 31ms/step - loss: 1.5590 - accuracy: 0.5547 - val_loss: 2.5748 - val_accuracy: 0.3727\n",
            "Epoch 13/50\n",
            "156/156 [==============================] - 5s 31ms/step - loss: 1.4632 - accuracy: 0.5826 - val_loss: 2.6206 - val_accuracy: 0.3992\n",
            "Epoch 14/50\n",
            "156/156 [==============================] - 5s 31ms/step - loss: 1.3677 - accuracy: 0.6073 - val_loss: 2.4045 - val_accuracy: 0.4233\n",
            "Epoch 15/50\n",
            "156/156 [==============================] - 5s 31ms/step - loss: 1.2378 - accuracy: 0.6541 - val_loss: 2.6164 - val_accuracy: 0.4112\n",
            "Epoch 16/50\n",
            "156/156 [==============================] - 5s 31ms/step - loss: 1.2013 - accuracy: 0.6511 - val_loss: 2.5969 - val_accuracy: 0.4201\n",
            "Epoch 17/50\n",
            "156/156 [==============================] - 5s 31ms/step - loss: 1.1390 - accuracy: 0.6740 - val_loss: 2.4824 - val_accuracy: 0.4474\n",
            "Epoch 18/50\n",
            "156/156 [==============================] - 5s 31ms/step - loss: 1.0505 - accuracy: 0.6948 - val_loss: 2.6287 - val_accuracy: 0.4426\n",
            "Epoch 19/50\n",
            "156/156 [==============================] - 5s 31ms/step - loss: 1.0212 - accuracy: 0.7049 - val_loss: 2.8210 - val_accuracy: 0.4217\n",
            "Epoch 20/50\n",
            "156/156 [==============================] - 5s 31ms/step - loss: 0.9521 - accuracy: 0.7211 - val_loss: 2.6058 - val_accuracy: 0.4578\n",
            "Epoch 21/50\n",
            "156/156 [==============================] - 5s 31ms/step - loss: 0.8644 - accuracy: 0.7486 - val_loss: 2.6814 - val_accuracy: 0.4426\n",
            "Epoch 22/50\n",
            "156/156 [==============================] - 5s 31ms/step - loss: 0.8119 - accuracy: 0.7671 - val_loss: 2.5722 - val_accuracy: 0.4546\n",
            "Epoch 23/50\n",
            "156/156 [==============================] - 5s 31ms/step - loss: 0.7601 - accuracy: 0.7764 - val_loss: 2.6644 - val_accuracy: 0.4739\n",
            "Epoch 24/50\n",
            "156/156 [==============================] - 5s 31ms/step - loss: 0.7152 - accuracy: 0.7952 - val_loss: 2.7368 - val_accuracy: 0.4739\n",
            "Epoch 25/50\n",
            "156/156 [==============================] - 5s 31ms/step - loss: 0.6816 - accuracy: 0.7952 - val_loss: 2.6560 - val_accuracy: 0.4755\n",
            "Epoch 26/50\n",
            "156/156 [==============================] - 5s 31ms/step - loss: 0.6204 - accuracy: 0.8203 - val_loss: 3.0049 - val_accuracy: 0.4458\n",
            "Epoch 27/50\n",
            "156/156 [==============================] - 5s 31ms/step - loss: 0.5896 - accuracy: 0.8273 - val_loss: 2.7616 - val_accuracy: 0.4795\n",
            "Epoch 28/50\n",
            "156/156 [==============================] - 5s 31ms/step - loss: 0.5984 - accuracy: 0.8334 - val_loss: 3.2341 - val_accuracy: 0.4394\n",
            "Epoch 29/50\n",
            "156/156 [==============================] - 5s 31ms/step - loss: 0.5910 - accuracy: 0.8326 - val_loss: 3.0043 - val_accuracy: 0.4546\n",
            "Epoch 30/50\n",
            "156/156 [==============================] - 5s 31ms/step - loss: 0.5237 - accuracy: 0.8480 - val_loss: 2.9273 - val_accuracy: 0.4771\n",
            "Epoch 31/50\n",
            "156/156 [==============================] - 5s 31ms/step - loss: 0.4955 - accuracy: 0.8573 - val_loss: 3.2775 - val_accuracy: 0.4482\n",
            "Epoch 32/50\n",
            "156/156 [==============================] - 5s 31ms/step - loss: 0.4580 - accuracy: 0.8671 - val_loss: 2.9415 - val_accuracy: 0.4876\n",
            "Epoch 33/50\n",
            "156/156 [==============================] - 5s 31ms/step - loss: 0.4665 - accuracy: 0.8663 - val_loss: 3.1563 - val_accuracy: 0.4610\n",
            "Epoch 34/50\n",
            "156/156 [==============================] - 5s 31ms/step - loss: 0.4416 - accuracy: 0.8681 - val_loss: 3.3962 - val_accuracy: 0.4426\n",
            "Epoch 35/50\n",
            "156/156 [==============================] - 5s 31ms/step - loss: 0.4538 - accuracy: 0.8679 - val_loss: 3.3318 - val_accuracy: 0.4602\n",
            "Epoch 36/50\n",
            "156/156 [==============================] - 5s 31ms/step - loss: 0.3905 - accuracy: 0.8882 - val_loss: 3.0352 - val_accuracy: 0.4900\n",
            "Epoch 37/50\n",
            "156/156 [==============================] - 5s 31ms/step - loss: 0.3324 - accuracy: 0.9024 - val_loss: 3.2035 - val_accuracy: 0.4948\n",
            "Epoch 38/50\n",
            "156/156 [==============================] - 5s 31ms/step - loss: 0.2961 - accuracy: 0.9123 - val_loss: 3.1535 - val_accuracy: 0.4851\n",
            "Epoch 39/50\n",
            "156/156 [==============================] - 5s 31ms/step - loss: 0.2837 - accuracy: 0.9189 - val_loss: 3.3379 - val_accuracy: 0.5004\n",
            "Epoch 40/50\n",
            "156/156 [==============================] - 5s 32ms/step - loss: 0.2992 - accuracy: 0.9141 - val_loss: 3.2713 - val_accuracy: 0.4876\n",
            "Epoch 41/50\n",
            "156/156 [==============================] - 5s 31ms/step - loss: 0.2974 - accuracy: 0.9169 - val_loss: 3.4246 - val_accuracy: 0.4771\n",
            "Epoch 42/50\n",
            "156/156 [==============================] - 5s 31ms/step - loss: 0.2651 - accuracy: 0.9253 - val_loss: 3.3238 - val_accuracy: 0.4932\n",
            "Epoch 43/50\n",
            "156/156 [==============================] - 5s 31ms/step - loss: 0.2750 - accuracy: 0.9181 - val_loss: 3.6169 - val_accuracy: 0.4586\n",
            "Epoch 44/50\n",
            "156/156 [==============================] - 5s 31ms/step - loss: 0.3579 - accuracy: 0.8948 - val_loss: 3.7277 - val_accuracy: 0.4594\n",
            "Epoch 45/50\n",
            "156/156 [==============================] - 5s 31ms/step - loss: 0.3241 - accuracy: 0.9034 - val_loss: 3.8942 - val_accuracy: 0.4522\n",
            "Epoch 46/50\n",
            "156/156 [==============================] - 5s 31ms/step - loss: 0.2578 - accuracy: 0.9263 - val_loss: 3.6355 - val_accuracy: 0.4651\n",
            "Epoch 47/50\n",
            "156/156 [==============================] - 5s 31ms/step - loss: 0.2028 - accuracy: 0.9434 - val_loss: 3.5710 - val_accuracy: 0.4867\n",
            "Epoch 48/50\n",
            "156/156 [==============================] - 5s 31ms/step - loss: 0.2080 - accuracy: 0.9396 - val_loss: 3.4842 - val_accuracy: 0.4771\n",
            "Epoch 49/50\n",
            "156/156 [==============================] - 5s 31ms/step - loss: 0.2055 - accuracy: 0.9422 - val_loss: 3.4058 - val_accuracy: 0.4972\n",
            "Epoch 50/50\n",
            "156/156 [==============================] - 5s 31ms/step - loss: 0.2200 - accuracy: 0.9362 - val_loss: 3.6582 - val_accuracy: 0.4771\n"
          ]
        }
      ]
    },
    {
      "cell_type": "code",
      "metadata": {
        "id": "f1z_vHocu59c",
        "colab": {
          "base_uri": "https://localhost:8080/",
          "height": 499
        },
        "outputId": "fecb60bc-9e68-470d-853a-f5469dfe95a0"
      },
      "source": [
        "acc = history.history['accuracy']\n",
        "val_acc = history.history['val_accuracy']\n",
        "\n",
        "loss=history.history['loss']\n",
        "val_loss=history.history['val_loss']\n",
        "\n",
        "epochs_range = range(epochs)\n",
        "\n",
        "plt.figure(figsize=(8, 8))\n",
        "plt.subplot(1, 2, 1)\n",
        "plt.plot(epochs_range, acc, label='Training Accuracy')\n",
        "plt.plot(epochs_range, val_acc, label='Validation Accuracy')\n",
        "plt.legend(loc='lower right')\n",
        "plt.title('Training and Validation Accuracy')\n",
        "\n",
        "plt.subplot(1, 2, 2)\n",
        "plt.plot(epochs_range, loss, label='Training Loss')\n",
        "plt.plot(epochs_range, val_loss, label='Validation Loss')\n",
        "plt.legend(loc='upper right')\n",
        "plt.title('Training and Validation Loss')\n",
        "plt.show()"
      ],
      "execution_count": null,
      "outputs": [
        {
          "output_type": "display_data",
          "data": {
            "image/png": "[encoded data removed]",
            "text/plain": [
              "<Figure size 576x576 with 2 Axes>"
            ]
          },
          "metadata": {
            "needs_background": "light"
          }
        }
      ]
    },
    {
      "cell_type": "code",
      "metadata": {
        "id": "XinJ6xXD9YNO"
      },
      "source": [
        "data_augmentation = keras.Sequential(\n",
        "  [\n",
        "    layers.experimental.preprocessing.RandomFlip(\"horizontal\", \n",
        "                                                 input_shape=(img_height, \n",
        "                                                              img_width,\n",
        "                                                              1)),\n",
        "    layers.experimental.preprocessing.RandomRotation(0.1),\n",
        "    layers.experimental.preprocessing.RandomZoom(0.1),\n",
        "  ]\n",
        ")"
      ],
      "execution_count": null,
      "outputs": []
    },
    {
      "cell_type": "code",
      "metadata": {
        "id": "8WT2BYElEYZj"
      },
      "source": [
        "model = Sequential([\n",
        "  data_augmentation,\n",
        "  layers.experimental.preprocessing.Rescaling(1./255),\n",
        "  layers.Conv2D(64, 3,input_shape = image_batch, activation='relu'),\n",
        "  layers.MaxPooling2D(),\n",
        "  layers.Conv2D(64, 3, padding='same', activation='relu'),\n",
        "  layers.MaxPooling2D(),\n",
        "  layers.Conv2D(64, 3, padding='same', activation='relu'),\n",
        "  layers.MaxPooling2D(),\n",
        "  layers.Dropout(0.2),\n",
        "  layers.Flatten(),\n",
        "  layers.Dense(128, input_dim = 107, activation='relu'),\n",
        "  BatchNormalization(),\n",
        "  layers.Dense(128, activation='relu'),\n",
        "  BatchNormalization(),\n",
        "  layers.Dense(128, activation='relu'),\n",
        "  BatchNormalization(),\n",
        "  layers.Dense(128, activation='relu'),\n",
        "  BatchNormalization(),\n",
        "  layers.Dense(128, activation='relu'),\n",
        "  BatchNormalization(),\n",
        "  layers.Dense(128, activation='relu'),\n",
        "  BatchNormalization(),\n",
        "  layers.Dense(128, activation='relu'),\n",
        "  BatchNormalization(),\n",
        "  layers.Dense(128, activation='relu'),\n",
        "  BatchNormalization(),\n",
        "  layers.Dense(128, activation='relu'),\n",
        "  BatchNormalization(),\n",
        "  layers.Dense(128, activation='relu'),\n",
        "  BatchNormalization(),\n",
        "  layers.Dense(128, activation='relu'),\n",
        "  BatchNormalization(),\n",
        "  layers.Dense(128, activation='relu'),\n",
        "  BatchNormalization(),\n",
        "  layers.Dense(128, activation='relu'),\n",
        "  BatchNormalization(),\n",
        "  layers.Dense(128, activation='relu'),\n",
        "  BatchNormalization(),\n",
        "  layers.Dense(107, activation='softmax'),\n",
        "  BatchNormalization(),\n",
        "  layers.Dense(num_classes)\n",
        "])"
      ],
      "execution_count": null,
      "outputs": []
    },
    {
      "cell_type": "code",
      "metadata": {
        "id": "opOHP3auEdsw",
        "colab": {
          "base_uri": "https://localhost:8080/"
        },
        "outputId": "0368acd7-6f2d-493d-a4fd-e2a8898f2b65"
      },
      "source": [
        "BatchNormalization(),model.compile(\n",
        "    optimizer='adam',\n",
        "    loss=tf.losses.SparseCategoricalCrossentropy(from_logits=True),\n",
        "    metrics=['accuracy'])"
      ],
      "execution_count": null,
      "outputs": [
        {
          "output_type": "execute_result",
          "data": {
            "text/plain": [
              "(<keras.layers.normalization.batch_normalization.BatchNormalization at 0x7f768dfc2650>,\n",
              " None)"
            ]
          },
          "metadata": {},
          "execution_count": 19
        }
      ]
    },
    {
      "cell_type": "code",
      "metadata": {
        "id": "3Ay4tlHlEfBX",
        "colab": {
          "base_uri": "https://localhost:8080/"
        },
        "outputId": "79ef4dc7-5f46-4491-c33e-4c707b3fc26b"
      },
      "source": [
        "model.summary()"
      ],
      "execution_count": null,
      "outputs": [
        {
          "output_type": "stream",
          "name": "stdout",
          "text": [
            "Model: \"sequential_2\"\n",
            "_________________________________________________________________\n",
            " Layer (type)                Output Shape              Param #   \n",
            "=================================================================\n",
            " sequential_1 (Sequential)   (None, 180, 180, 1)       0         \n",
            "                                                                 \n",
            " rescaling_2 (Rescaling)     (None, 180, 180, 1)       0         \n",
            "                                                                 \n",
            " conv2d_3 (Conv2D)           (None, 178, 178, 64)      640       \n",
            "                                                                 \n",
            " max_pooling2d_3 (MaxPooling  (None, 89, 89, 64)       0         \n",
            " 2D)                                                             \n",
            "                                                                 \n",
            " conv2d_4 (Conv2D)           (None, 89, 89, 64)        36928     \n",
            "                                                                 \n",
            " max_pooling2d_4 (MaxPooling  (None, 44, 44, 64)       0         \n",
            " 2D)                                                             \n",
            "                                                                 \n",
            " conv2d_5 (Conv2D)           (None, 44, 44, 64)        36928     \n",
            "                                                                 \n",
            " max_pooling2d_5 (MaxPooling  (None, 22, 22, 64)       0         \n",
            " 2D)                                                             \n",
            "                                                                 \n",
            " dropout (Dropout)           (None, 22, 22, 64)        0         \n",
            "                                                                 \n",
            " flatten_1 (Flatten)         (None, 30976)             0         \n",
            "                                                                 \n",
            " dense_16 (Dense)            (None, 128)               3965056   \n",
            "                                                                 \n",
            " batch_normalization_16 (Bat  (None, 128)              512       \n",
            " chNormalization)                                                \n",
            "                                                                 \n",
            " dense_17 (Dense)            (None, 128)               16512     \n",
            "                                                                 \n",
            " batch_normalization_17 (Bat  (None, 128)              512       \n",
            " chNormalization)                                                \n",
            "                                                                 \n",
            " dense_18 (Dense)            (None, 128)               16512     \n",
            "                                                                 \n",
            " batch_normalization_18 (Bat  (None, 128)              512       \n",
            " chNormalization)                                                \n",
            "                                                                 \n",
            " dense_19 (Dense)            (None, 128)               16512     \n",
            "                                                                 \n",
            " batch_normalization_19 (Bat  (None, 128)              512       \n",
            " chNormalization)                                                \n",
            "                                                                 \n",
            " dense_20 (Dense)            (None, 128)               16512     \n",
            "                                                                 \n",
            " batch_normalization_20 (Bat  (None, 128)              512       \n",
            " chNormalization)                                                \n",
            "                                                                 \n",
            " dense_21 (Dense)            (None, 128)               16512     \n",
            "                                                                 \n",
            " batch_normalization_21 (Bat  (None, 128)              512       \n",
            " chNormalization)                                                \n",
            "                                                                 \n",
            " dense_22 (Dense)            (None, 128)               16512     \n",
            "                                                                 \n",
            " batch_normalization_22 (Bat  (None, 128)              512       \n",
            " chNormalization)                                                \n",
            "                                                                 \n",
            " dense_23 (Dense)            (None, 128)               16512     \n",
            "                                                                 \n",
            " batch_normalization_23 (Bat  (None, 128)              512       \n",
            " chNormalization)                                                \n",
            "                                                                 \n",
            " dense_24 (Dense)            (None, 128)               16512     \n",
            "                                                                 \n",
            " batch_normalization_24 (Bat  (None, 128)              512       \n",
            " chNormalization)                                                \n",
            "                                                                 \n",
            " dense_25 (Dense)            (None, 128)               16512     \n",
            "                                                                 \n",
            " batch_normalization_25 (Bat  (None, 128)              512       \n",
            " chNormalization)                                                \n",
            "                                                                 \n",
            " dense_26 (Dense)            (None, 128)               16512     \n",
            "                                                                 \n",
            " batch_normalization_26 (Bat  (None, 128)              512       \n",
            " chNormalization)                                                \n",
            "                                                                 \n",
            " dense_27 (Dense)            (None, 128)               16512     \n",
            "                                                                 \n",
            " batch_normalization_27 (Bat  (None, 128)              512       \n",
            " chNormalization)                                                \n",
            "                                                                 \n",
            " dense_28 (Dense)            (None, 128)               16512     \n",
            "                                                                 \n",
            " batch_normalization_28 (Bat  (None, 128)              512       \n",
            " chNormalization)                                                \n",
            "                                                                 \n",
            " dense_29 (Dense)            (None, 128)               16512     \n",
            "                                                                 \n",
            " batch_normalization_29 (Bat  (None, 128)              512       \n",
            " chNormalization)                                                \n",
            "                                                                 \n",
            " dense_30 (Dense)            (None, 107)               13803     \n",
            "                                                                 \n",
            " batch_normalization_30 (Bat  (None, 107)              428       \n",
            " chNormalization)                                                \n",
            "                                                                 \n",
            " dense_31 (Dense)            (None, 107)               11556     \n",
            "                                                                 \n",
            "=================================================================\n",
            "Total params: 4,287,163\n",
            "Trainable params: 4,283,365\n",
            "Non-trainable params: 3,798\n",
            "_________________________________________________________________\n"
          ]
        }
      ]
    },
    {
      "cell_type": "code",
      "metadata": {
        "id": "Jc8rD_v9Ef41",
        "colab": {
          "base_uri": "https://localhost:8080/"
        },
        "outputId": "59bbf5e7-431f-470f-b833-6c6f37453c4f"
      },
      "source": [
        "epochs = 50\n",
        "history = model.fit(\n",
        "  train_ds,\n",
        "  validation_data=val_ds,\n",
        "  epochs=epochs\n",
        ")"
      ],
      "execution_count": null,
      "outputs": [
        {
          "output_type": "stream",
          "name": "stdout",
          "text": [
            "Epoch 1/50\n",
            "156/156 [==============================] - 9s 37ms/step - loss: 4.2079 - accuracy: 0.1094 - val_loss: 4.1311 - val_accuracy: 0.0980\n",
            "Epoch 2/50\n",
            "156/156 [==============================] - 5s 33ms/step - loss: 3.3090 - accuracy: 0.1837 - val_loss: 3.7035 - val_accuracy: 0.1446\n",
            "Epoch 3/50\n",
            "156/156 [==============================] - 5s 33ms/step - loss: 3.1177 - accuracy: 0.2064 - val_loss: 3.3575 - val_accuracy: 0.2201\n",
            "Epoch 4/50\n",
            "156/156 [==============================] - 5s 32ms/step - loss: 2.9822 - accuracy: 0.2337 - val_loss: 3.1816 - val_accuracy: 0.2153\n",
            "Epoch 5/50\n",
            "156/156 [==============================] - 5s 33ms/step - loss: 2.9029 - accuracy: 0.2483 - val_loss: 3.3534 - val_accuracy: 0.2072\n",
            "Epoch 6/50\n",
            "156/156 [==============================] - 5s 32ms/step - loss: 2.7820 - accuracy: 0.2638 - val_loss: 2.9355 - val_accuracy: 0.2643\n",
            "Epoch 7/50\n",
            "156/156 [==============================] - 5s 32ms/step - loss: 2.6692 - accuracy: 0.2861 - val_loss: 3.3366 - val_accuracy: 0.2273\n",
            "Epoch 8/50\n",
            "156/156 [==============================] - 5s 33ms/step - loss: 2.6020 - accuracy: 0.3038 - val_loss: 3.3229 - val_accuracy: 0.2378\n",
            "Epoch 9/50\n",
            "156/156 [==============================] - 5s 33ms/step - loss: 2.5346 - accuracy: 0.3048 - val_loss: 3.5808 - val_accuracy: 0.1871\n",
            "Epoch 10/50\n",
            "156/156 [==============================] - 5s 32ms/step - loss: 2.4544 - accuracy: 0.3311 - val_loss: 3.4738 - val_accuracy: 0.2329\n",
            "Epoch 11/50\n",
            "156/156 [==============================] - 5s 32ms/step - loss: 2.3820 - accuracy: 0.3407 - val_loss: 2.6494 - val_accuracy: 0.3100\n",
            "Epoch 12/50\n",
            "156/156 [==============================] - 5s 32ms/step - loss: 2.3416 - accuracy: 0.3439 - val_loss: 3.2764 - val_accuracy: 0.2217\n",
            "Epoch 13/50\n",
            "156/156 [==============================] - 5s 32ms/step - loss: 2.2806 - accuracy: 0.3572 - val_loss: 2.8957 - val_accuracy: 0.2707\n",
            "Epoch 14/50\n",
            "156/156 [==============================] - 5s 32ms/step - loss: 2.2089 - accuracy: 0.3702 - val_loss: 2.6363 - val_accuracy: 0.3382\n",
            "Epoch 15/50\n",
            "156/156 [==============================] - 5s 32ms/step - loss: 2.1605 - accuracy: 0.3736 - val_loss: 2.8233 - val_accuracy: 0.2771\n",
            "Epoch 16/50\n",
            "156/156 [==============================] - 5s 33ms/step - loss: 2.1542 - accuracy: 0.3792 - val_loss: 2.8427 - val_accuracy: 0.3116\n",
            "Epoch 17/50\n",
            "156/156 [==============================] - 5s 33ms/step - loss: 2.0934 - accuracy: 0.3949 - val_loss: 2.6571 - val_accuracy: 0.3462\n",
            "Epoch 18/50\n",
            "156/156 [==============================] - 5s 33ms/step - loss: 2.0575 - accuracy: 0.4015 - val_loss: 2.6566 - val_accuracy: 0.3012\n",
            "Epoch 19/50\n",
            "156/156 [==============================] - 5s 33ms/step - loss: 2.0201 - accuracy: 0.4073 - val_loss: 3.0342 - val_accuracy: 0.2699\n",
            "Epoch 20/50\n",
            "156/156 [==============================] - 5s 33ms/step - loss: 1.9706 - accuracy: 0.4200 - val_loss: 2.6558 - val_accuracy: 0.3590\n",
            "Epoch 21/50\n",
            "156/156 [==============================] - 5s 33ms/step - loss: 1.9589 - accuracy: 0.4256 - val_loss: 2.6122 - val_accuracy: 0.3639\n",
            "Epoch 22/50\n",
            "156/156 [==============================] - 5s 32ms/step - loss: 1.9193 - accuracy: 0.4304 - val_loss: 2.3549 - val_accuracy: 0.3976\n",
            "Epoch 23/50\n",
            "156/156 [==============================] - 5s 32ms/step - loss: 1.8796 - accuracy: 0.4453 - val_loss: 2.8453 - val_accuracy: 0.3357\n",
            "Epoch 24/50\n",
            "156/156 [==============================] - 5s 32ms/step - loss: 1.8480 - accuracy: 0.4491 - val_loss: 2.7491 - val_accuracy: 0.3382\n",
            "Epoch 25/50\n",
            "156/156 [==============================] - 5s 32ms/step - loss: 1.8314 - accuracy: 0.4587 - val_loss: 2.9220 - val_accuracy: 0.3181\n",
            "Epoch 26/50\n",
            "156/156 [==============================] - 5s 33ms/step - loss: 1.7978 - accuracy: 0.4632 - val_loss: 2.7231 - val_accuracy: 0.3373\n",
            "Epoch 27/50\n",
            "156/156 [==============================] - 5s 33ms/step - loss: 1.7458 - accuracy: 0.4798 - val_loss: 2.7479 - val_accuracy: 0.3727\n",
            "Epoch 28/50\n",
            "156/156 [==============================] - 5s 32ms/step - loss: 1.7249 - accuracy: 0.4796 - val_loss: 2.5668 - val_accuracy: 0.3767\n",
            "Epoch 29/50\n",
            "156/156 [==============================] - 5s 32ms/step - loss: 1.6998 - accuracy: 0.4941 - val_loss: 2.3395 - val_accuracy: 0.3928\n",
            "Epoch 30/50\n",
            "156/156 [==============================] - 5s 32ms/step - loss: 1.6785 - accuracy: 0.4909 - val_loss: 2.7301 - val_accuracy: 0.3815\n",
            "Epoch 31/50\n",
            "156/156 [==============================] - 5s 32ms/step - loss: 1.6419 - accuracy: 0.4971 - val_loss: 2.6361 - val_accuracy: 0.3743\n",
            "Epoch 32/50\n",
            "156/156 [==============================] - 5s 32ms/step - loss: 1.6165 - accuracy: 0.5069 - val_loss: 2.5863 - val_accuracy: 0.3904\n",
            "Epoch 33/50\n",
            "156/156 [==============================] - 5s 33ms/step - loss: 1.5700 - accuracy: 0.5220 - val_loss: 2.7448 - val_accuracy: 0.3574\n",
            "Epoch 34/50\n",
            "156/156 [==============================] - 5s 33ms/step - loss: 1.5797 - accuracy: 0.5170 - val_loss: 2.4524 - val_accuracy: 0.4161\n",
            "Epoch 35/50\n",
            "156/156 [==============================] - 5s 32ms/step - loss: 1.5409 - accuracy: 0.5296 - val_loss: 2.4014 - val_accuracy: 0.4104\n",
            "Epoch 36/50\n",
            "156/156 [==============================] - 5s 32ms/step - loss: 1.5176 - accuracy: 0.5314 - val_loss: 2.7065 - val_accuracy: 0.4145\n",
            "Epoch 37/50\n",
            "156/156 [==============================] - 5s 33ms/step - loss: 1.4725 - accuracy: 0.5447 - val_loss: 2.5426 - val_accuracy: 0.4096\n",
            "Epoch 38/50\n",
            "156/156 [==============================] - 5s 33ms/step - loss: 1.4396 - accuracy: 0.5489 - val_loss: 2.3574 - val_accuracy: 0.4386\n",
            "Epoch 39/50\n",
            "156/156 [==============================] - 5s 32ms/step - loss: 1.4176 - accuracy: 0.5557 - val_loss: 2.6454 - val_accuracy: 0.3880\n",
            "Epoch 40/50\n",
            "156/156 [==============================] - 5s 32ms/step - loss: 1.4135 - accuracy: 0.5567 - val_loss: 2.3589 - val_accuracy: 0.4225\n",
            "Epoch 41/50\n",
            "156/156 [==============================] - 5s 32ms/step - loss: 1.3678 - accuracy: 0.5611 - val_loss: 2.5732 - val_accuracy: 0.3944\n",
            "Epoch 42/50\n",
            "156/156 [==============================] - 5s 32ms/step - loss: 1.3327 - accuracy: 0.5682 - val_loss: 2.5189 - val_accuracy: 0.4185\n",
            "Epoch 43/50\n",
            "156/156 [==============================] - 5s 32ms/step - loss: 1.3338 - accuracy: 0.5770 - val_loss: 2.5612 - val_accuracy: 0.4112\n",
            "Epoch 44/50\n",
            "156/156 [==============================] - 5s 32ms/step - loss: 1.3220 - accuracy: 0.5682 - val_loss: 2.4551 - val_accuracy: 0.4153\n",
            "Epoch 45/50\n",
            "156/156 [==============================] - 5s 33ms/step - loss: 1.3172 - accuracy: 0.5788 - val_loss: 2.7996 - val_accuracy: 0.3775\n",
            "Epoch 46/50\n",
            "156/156 [==============================] - 5s 32ms/step - loss: 1.2495 - accuracy: 0.5963 - val_loss: 2.5659 - val_accuracy: 0.4201\n",
            "Epoch 47/50\n",
            "156/156 [==============================] - 5s 32ms/step - loss: 1.2319 - accuracy: 0.6039 - val_loss: 3.1489 - val_accuracy: 0.3398\n",
            "Epoch 48/50\n",
            "156/156 [==============================] - 5s 32ms/step - loss: 1.2053 - accuracy: 0.6051 - val_loss: 2.3832 - val_accuracy: 0.4369\n",
            "Epoch 49/50\n",
            "156/156 [==============================] - 5s 32ms/step - loss: 1.1868 - accuracy: 0.6169 - val_loss: 2.4438 - val_accuracy: 0.4225\n",
            "Epoch 50/50\n",
            "156/156 [==============================] - 5s 33ms/step - loss: 1.1550 - accuracy: 0.6274 - val_loss: 2.4528 - val_accuracy: 0.4217\n"
          ]
        }
      ]
    },
    {
      "cell_type": "code",
      "metadata": {
        "id": "ynhS2KjVEhj8",
        "colab": {
          "base_uri": "https://localhost:8080/",
          "height": 499
        },
        "outputId": "da837a02-fe57-4ae6-8733-7dfd460ad850"
      },
      "source": [
        "acc = history.history['accuracy']\n",
        "val_acc = history.history['val_accuracy']\n",
        "\n",
        "loss = history.history['loss']\n",
        "val_loss = history.history['val_loss']\n",
        "\n",
        "epochs_range = range(epochs)\n",
        "\n",
        "plt.figure(figsize=(8, 8))\n",
        "plt.subplot(1, 2, 1)\n",
        "plt.plot(epochs_range, acc, label='Training Accuracy')\n",
        "plt.plot(epochs_range, val_acc, label='Validation Accuracy')\n",
        "plt.legend(loc='lower right')\n",
        "plt.title('Training and Validation Accuracy')\n",
        "\n",
        "plt.subplot(1, 2, 2)\n",
        "plt.plot(epochs_range, loss, label='Training Loss')\n",
        "plt.plot(epochs_range, val_loss, label='Validation Loss')\n",
        "plt.legend(loc='upper right')\n",
        "plt.title('Training and Validation Loss')\n",
        "plt.show()"
      ],
      "execution_count": null,
      "outputs": [
        {
          "output_type": "display_data",
          "data": {
            "image/png": "[encoded data removed]",
            "text/plain": [
              "<Figure size 576x576 with 2 Axes>"
            ]
          },
          "metadata": {
            "needs_background": "light"
          }
        }
      ]
    },
    {
      "cell_type": "code",
      "metadata": {
        "id": "IbEQMrsAH2yZ",
        "colab": {
          "base_uri": "https://localhost:8080/"
        },
        "outputId": "9e881a0c-64ef-4ef4-8346-c161e16d8e31"
      },
      "source": [
        "model.compile(\n",
        "    optimizer='adam',\n",
        "    loss=tf.losses.SparseCategoricalCrossentropy(from_logits=True),\n",
        "    metrics=['accuracy'])\n",
        "model.summary()"
      ],
      "execution_count": null,
      "outputs": [
        {
          "output_type": "stream",
          "name": "stdout",
          "text": [
            "Model: \"sequential_2\"\n",
            "_________________________________________________________________\n",
            " Layer (type)                Output Shape              Param #   \n",
            "=================================================================\n",
            " sequential_1 (Sequential)   (None, 180, 180, 1)       0         \n",
            "                                                                 \n",
            " rescaling_2 (Rescaling)     (None, 180, 180, 1)       0         \n",
            "                                                                 \n",
            " conv2d_3 (Conv2D)           (None, 178, 178, 64)      640       \n",
            "                                                                 \n",
            " max_pooling2d_3 (MaxPooling  (None, 89, 89, 64)       0         \n",
            " 2D)                                                             \n",
            "                                                                 \n",
            " conv2d_4 (Conv2D)           (None, 89, 89, 64)        36928     \n",
            "                                                                 \n",
            " max_pooling2d_4 (MaxPooling  (None, 44, 44, 64)       0         \n",
            " 2D)                                                             \n",
            "                                                                 \n",
            " conv2d_5 (Conv2D)           (None, 44, 44, 64)        36928     \n",
            "                                                                 \n",
            " max_pooling2d_5 (MaxPooling  (None, 22, 22, 64)       0         \n",
            " 2D)                                                             \n",
            "                                                                 \n",
            " dropout (Dropout)           (None, 22, 22, 64)        0         \n",
            "                                                                 \n",
            " flatten_1 (Flatten)         (None, 30976)             0         \n",
            "                                                                 \n",
            " dense_16 (Dense)            (None, 128)               3965056   \n",
            "                                                                 \n",
            " batch_normalization_16 (Bat  (None, 128)              512       \n",
            " chNormalization)                                                \n",
            "                                                                 \n",
            " dense_17 (Dense)            (None, 128)               16512     \n",
            "                                                                 \n",
            " batch_normalization_17 (Bat  (None, 128)              512       \n",
            " chNormalization)                                                \n",
            "                                                                 \n",
            " dense_18 (Dense)            (None, 128)               16512     \n",
            "                                                                 \n",
            " batch_normalization_18 (Bat  (None, 128)              512       \n",
            " chNormalization)                                                \n",
            "                                                                 \n",
            " dense_19 (Dense)            (None, 128)               16512     \n",
            "                                                                 \n",
            " batch_normalization_19 (Bat  (None, 128)              512       \n",
            " chNormalization)                                                \n",
            "                                                                 \n",
            " dense_20 (Dense)            (None, 128)               16512     \n",
            "                                                                 \n",
            " batch_normalization_20 (Bat  (None, 128)              512       \n",
            " chNormalization)                                                \n",
            "                                                                 \n",
            " dense_21 (Dense)            (None, 128)               16512     \n",
            "                                                                 \n",
            " batch_normalization_21 (Bat  (None, 128)              512       \n",
            " chNormalization)                                                \n",
            "                                                                 \n",
            " dense_22 (Dense)            (None, 128)               16512     \n",
            "                                                                 \n",
            " batch_normalization_22 (Bat  (None, 128)              512       \n",
            " chNormalization)                                                \n",
            "                                                                 \n",
            " dense_23 (Dense)            (None, 128)               16512     \n",
            "                                                                 \n",
            " batch_normalization_23 (Bat  (None, 128)              512       \n",
            " chNormalization)                                                \n",
            "                                                                 \n",
            " dense_24 (Dense)            (None, 128)               16512     \n",
            "                                                                 \n",
            " batch_normalization_24 (Bat  (None, 128)              512       \n",
            " chNormalization)                                                \n",
            "                                                                 \n",
            " dense_25 (Dense)            (None, 128)               16512     \n",
            "                                                                 \n",
            " batch_normalization_25 (Bat  (None, 128)              512       \n",
            " chNormalization)                                                \n",
            "                                                                 \n",
            " dense_26 (Dense)            (None, 128)               16512     \n",
            "                                                                 \n",
            " batch_normalization_26 (Bat  (None, 128)              512       \n",
            " chNormalization)                                                \n",
            "                                                                 \n",
            " dense_27 (Dense)            (None, 128)               16512     \n",
            "                                                                 \n",
            " batch_normalization_27 (Bat  (None, 128)              512       \n",
            " chNormalization)                                                \n",
            "                                                                 \n",
            " dense_28 (Dense)            (None, 128)               16512     \n",
            "                                                                 \n",
            " batch_normalization_28 (Bat  (None, 128)              512       \n",
            " chNormalization)                                                \n",
            "                                                                 \n",
            " dense_29 (Dense)            (None, 128)               16512     \n",
            "                                                                 \n",
            " batch_normalization_29 (Bat  (None, 128)              512       \n",
            " chNormalization)                                                \n",
            "                                                                 \n",
            " dense_30 (Dense)            (None, 107)               13803     \n",
            "                                                                 \n",
            " batch_normalization_30 (Bat  (None, 107)              428       \n",
            " chNormalization)                                                \n",
            "                                                                 \n",
            " dense_31 (Dense)            (None, 107)               11556     \n",
            "                                                                 \n",
            "=================================================================\n",
            "Total params: 4,287,163\n",
            "Trainable params: 4,283,365\n",
            "Non-trainable params: 3,798\n",
            "_________________________________________________________________\n"
          ]
        }
      ]
    },
    {
      "cell_type": "code",
      "metadata": {
        "id": "df30HUqFjWre"
      },
      "source": [
        ""
      ],
      "execution_count": null,
      "outputs": []
    }
  ]
}