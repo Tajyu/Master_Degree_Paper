{
  "nbformat": 4,
  "nbformat_minor": 0,
  "metadata": {
    "colab": {
      "name": "3Class_Genus_BatchNormal_Input_dim_64_Layer_8.ipynb",
      "provenance": [],
      "collapsed_sections": [],
      "mount_file_id": "15ifVy9-7F5AcFI1B4qudhCV_psdlVn5q",
      "authorship_tag": "ABX9TyN2qM7dMDxIOYMu5/38S0FP",
      "include_colab_link": true
    },
    "kernelspec": {
      "name": "python3",
      "display_name": "Python 3"
    },
    "language_info": {
      "name": "python"
    },
    "accelerator": "GPU"
  },
  "cells": [
    {
      "cell_type": "markdown",
      "metadata": {
        "id": "view-in-github",
        "colab_type": "text"
      },
      "source": [
        "<a href=\"https://colab.research.google.com/github/Tajyu/Master_Degree_Paper/blob/main/Code/Filter_64/Input_dim/3Class_Genus_BatchNormal_Input_dim_64_Layer_8.ipynb\" target=\"_parent\"><img src=\"https://colab.research.google.com/assets/colab-badge.svg\" alt=\"Open In Colab\"/></a>"
      ]
    },
    {
      "cell_type": "code",
      "metadata": {
        "id": "yWckd06_68Em"
      },
      "source": [
        "import tensorflow as tf\n",
        "from tensorflow.keras import datasets, layers, models\n",
        "from keras.preprocessing.image import ImageDataGenerator\n",
        "import numpy as np\n",
        "import matplotlib.pyplot as plt\n",
        "import cv2 as cv\n",
        "import os\n",
        "import pathlib\n",
        "import PIL\n",
        "from tensorflow import keras\n",
        "from tensorflow.keras import layers\n",
        "from tensorflow.keras.models import Sequential\n",
        "from tensorflow.keras.layers import Dense, Flatten, BatchNormalization, Dropout"
      ],
      "execution_count": null,
      "outputs": []
    },
    {
      "cell_type": "code",
      "metadata": {
        "id": "xav9zirHttk_"
      },
      "source": [
        "image_list = os.listdir('/content/drive/MyDrive/Colab Notebooks/Final_Project/Cell_Genus')"
      ],
      "execution_count": null,
      "outputs": []
    },
    {
      "cell_type": "code",
      "metadata": {
        "colab": {
          "base_uri": "https://localhost:8080/"
        },
        "id": "K-wD0dM5tx_E",
        "outputId": "9ab24aa2-b64c-4f63-fea5-084a428442a2"
      },
      "source": [
        "print(image_list)"
      ],
      "execution_count": null,
      "outputs": [
        {
          "output_type": "stream",
          "name": "stdout",
          "text": [
            "['10_Genus_Stauroneis_Ehrenberg', '10_Genus_Staurosira_Ehrenberg', '11_Genus_Craspedostauros_E.J_Cox_1999', '11_Genus_Staurosirella_Williams_and_Round', '12_Genus_Caloneis_Cleve_1894', '12_Genus_Synedra_Ehrenberg', '13_Genus_Pinnularia_Ehrenberg_1843', '1_Genus_Acanthoceras_Honigmann', '1_Genus_Achnanthes_Bory', '1_Genus_Actinocyclus_Ehrenberg', '1_Genus_Aphanocapsa_Nageli_1849', '1_Genus_Asterionella_Hassall', '1_Genus_Aulacoseira', '1_Genus_Biremis_Mann_et_Cox_in_Round_Crawford_and_Mann', '1_Genus_Characium_A_Braun_in_Kutzing_1849', '1_Genus_Chroococcus_Nageli', '1_Genus_Closterium_Nitzsch_ex_Ralfs_1848', '1_Genus_Coelastrum_Nageli_1849', '1_Genus_Cylindrocystis_Meneghini_ex_de_Bary_1858', '1_Genus_Dictyosphaerium_Nageli_1849', '1_Genus_Docidium_Brebisson_ex_Ralfs_1848', '1_Genus_Eunotia_Ehrenberg', '1_Genus_Geitlerinema_(Anagnostidis_et_Komarek)_Anagnostidis_1989', '1_Genus_Gonatozygon_de_Bary_1856', '1_Genus_Hydrodictyon_Roth_1797', '1_Genus_Hydrosera_whampoensis', '1_Genus_Jaaginema_Anagnostidis_et_Komarek_1988', '1_Genus_Lyngbya_C_Agardh_ex_Gomont_1892', '1_Genus_Melosira_Agardh', '1_Genus_Micractinium_Fresenius_1858', '1_Genus_Micrasterias_Ralfs_1848', '1_Genus_Microcystis_Kutzing_ex_Lemmermann_1907', '1_Genus_Oscillatoria_Vaucher_ex_Gomont_1982', '1_Genus_Pediastrum_Meyen_1829', '1_Genus_Penium_Brebisson_ex_Ralfs_in_Ralfs_1848', '1_Genus_Phormidium_Kutzing_ex_Gomont_1892', '1_Genus_Planktothrix_Anagnostidis_et_Komarek_1988', '1_Genus_Pleurosira_laevis_(Ehrenberg)', '1_Genus_Rhizosolenia_Ehrenberg', '1_Genus_Schizochlamydella_Korshikov_1953', '1_Genus_Staurodesmus_Teiling_1848', '1_Genus_Trochiscia_Kutzing_1834', '1_Scenedesmus_Hegewald_1978', '2_Acutodesmus_Hegewald_1978', '2_Genus_Achnanthidium_Kutzing', '2_Genus_Actinastrum_Lagerheim_1882', '2_Genus_Actinella_Lewis', '2_Genus_Ankyra_Fott_1957', '2_Genus_Caloneis_Cleve', '2_Genus_Chaetoceros_Ehrenberg', '2_Genus_Coenochloris_Korshikov_1953', '2_Genus_Cyclotella', '2_Genus_Diatoma_Bory', '2_Genus_Dimorphococcus_A_Braun_1855', '2_Genus_Golenkinia_Chodat_1894', '2_Genus_Haplotaenium_Bando_1988', '2_Genus_Leibleinia_(Gomont)_L_Hoffman_1985', '2_Genus_Leptolyngbya_Anagnostidis_et_Komarek_1988', '2_Genus_Merismopedia_Meyen_1839', '2_Genus_Netrium_(Nageli)_Itzigsohn_et_Rothe_in_Rabenhorst_1856', '2_Genus_Orthoseira_Thwaites_1848', '2_Genus_Phormidium_Kutzing_ex_Gomont_1892', '2_Genus_Sorastrum_Kutzing_1845', '2_Genus_Staurastrum_Meyen_ex_Ralfs_1848', '3_Desmodesmus_Chodat_1926', '3_Genus_Acanthosphaera_Lemmerman_1899', '3_Genus_Anorthoneis_Grunow', '3_Genus_Cyclostephanos_Round', '3_Genus_Dichotomococcus_Korshikov_1928', '3_Genus_Heteroleibleinia_(Geitler)_L_Hoffmann_1985', '3_Genus_Limnothrix_Meffert_1988', '3_Genus_Meridion_Agardh', '3_Genus_Paradoxia_Svirenko_1928', '3_Genus_Peronia_Bebisson_and_Arnott_ex_Kitton', '3_Genus_Phormidiochaete_Komarek_in_Anagnostidis_2001', '3_Genus_Pinnularia_Ehrenberg_1', '3_Genus_Pleurotaenium_Nageli_1849', '3_Genus_Radiococcus_Schmidle_1902', '3_Genus_Snowella_Elenkin_1938', '3_Genus_Spirotaenia_Brebisson_in_Ralfs_1848', '4_Genus_Botryococcus_Kutzing_1849', '4_Genus_Cocconeis_Ehrenberg', '4_Genus_Eutetramorus_Walton_1918', '4_Genus_Leptolyngbya_Anagnostidis_et_Komarek_1988', '4_Genus_Opephora_Petit', '4_Genus_Pinnularia_Ehrenberg_2', '4_Genus_Schroederia_Lemmermann_1898', '4_Genus_Stephanodiscus_Ehrenberg', '4_Genus_Synechocystis_Sauvageau_1892', '4_Genus_Tortitaenia_A_J_Brook_1998', '5_Genus_Caloneis_Cleve', '5_Genus_Coenocystis_Korshikov_1953', '5_Genus_Planktolyngbya_Anagnostidis_et_Komarek_1988', '5_Genus_Tabellaria_Ehrenberg', '5_Genus_Thalassiosira_Cleve', '5_Genus_Woronichinia_Elenkin_1933', '6_Genus_Anomoeoneis_Pfitzer', '6_Genus_Fragilaria_Lyngbye', '6_Genus_Gloeocystis_Nageli_1849', '6_Genus_Pseudanabaena_Lauterborn_1915', '6_Genus_Skeletonema_Greville', '7_Genus_Caloneis_Cleve', '7_Genus_Hannaea_Patrick', '8_Genus_Diploneis(Ehrenberg)_Cleve', '8_Genus_Pseudostaurosira_Williams_and_Round', '9_Genus_Neidium_Pfitzer', '9_Genus_Punctastriata_Williams_and_Round']\n"
          ]
        }
      ]
    },
    {
      "cell_type": "code",
      "metadata": {
        "id": "o-0DvzEHt8VE"
      },
      "source": [
        "data_generator = ImageDataGenerator(rescale = 1./255)\n",
        "\n",
        "data_dir = \"/content/drive/MyDrive/Colab Notebooks/Final_Project/Cell_Genus\""
      ],
      "execution_count": null,
      "outputs": []
    },
    {
      "cell_type": "code",
      "metadata": {
        "id": "7aTCfEm3t10n"
      },
      "source": [
        "batch_size = 32\n",
        "img_height = 180\n",
        "img_width = 180"
      ],
      "execution_count": null,
      "outputs": []
    },
    {
      "cell_type": "code",
      "metadata": {
        "id": "9Smg-miEt22s",
        "colab": {
          "base_uri": "https://localhost:8080/"
        },
        "outputId": "9c635641-34cc-4d55-c2e7-a163e8bfb462"
      },
      "source": [
        "train_ds = tf.keras.preprocessing.image_dataset_from_directory(\n",
        "  data_dir,\n",
        "  color_mode = \"grayscale\",\n",
        "  validation_split=0.2,\n",
        "  subset=\"training\",\n",
        "  seed=123,\n",
        "  image_size=(img_height, img_width),\n",
        "  batch_size=batch_size)"
      ],
      "execution_count": null,
      "outputs": [
        {
          "output_type": "stream",
          "name": "stdout",
          "text": [
            "Found 6226 files belonging to 107 classes.\n",
            "Using 4981 files for training.\n"
          ]
        }
      ]
    },
    {
      "cell_type": "code",
      "metadata": {
        "id": "1nR0WdQGt44x",
        "colab": {
          "base_uri": "https://localhost:8080/"
        },
        "outputId": "8de6e497-97a9-4ae2-9ed1-d7549601c478"
      },
      "source": [
        "val_ds = tf.keras.preprocessing.image_dataset_from_directory(\n",
        "  data_dir,\n",
        "  color_mode = \"grayscale\",\n",
        "  validation_split=0.2,\n",
        "  subset=\"validation\",\n",
        "  seed=123,\n",
        "  image_size=(img_height, img_width),\n",
        "  batch_size=batch_size)"
      ],
      "execution_count": null,
      "outputs": [
        {
          "output_type": "stream",
          "name": "stdout",
          "text": [
            "Found 6226 files belonging to 107 classes.\n",
            "Using 1245 files for validation.\n"
          ]
        }
      ]
    },
    {
      "cell_type": "code",
      "metadata": {
        "id": "F-cz_CtGug8Y",
        "colab": {
          "base_uri": "https://localhost:8080/"
        },
        "outputId": "89d9ae94-e13e-467d-ec34-194aa92c0c47"
      },
      "source": [
        "class_names = train_ds.class_names\n",
        "print(class_names)"
      ],
      "execution_count": null,
      "outputs": [
        {
          "output_type": "stream",
          "name": "stdout",
          "text": [
            "['10_Genus_Stauroneis_Ehrenberg', '10_Genus_Staurosira_Ehrenberg', '11_Genus_Craspedostauros_E.J_Cox_1999', '11_Genus_Staurosirella_Williams_and_Round', '12_Genus_Caloneis_Cleve_1894', '12_Genus_Synedra_Ehrenberg', '13_Genus_Pinnularia_Ehrenberg_1843', '1_Genus_Acanthoceras_Honigmann', '1_Genus_Achnanthes_Bory', '1_Genus_Actinocyclus_Ehrenberg', '1_Genus_Aphanocapsa_Nageli_1849', '1_Genus_Asterionella_Hassall', '1_Genus_Aulacoseira', '1_Genus_Biremis_Mann_et_Cox_in_Round_Crawford_and_Mann', '1_Genus_Characium_A_Braun_in_Kutzing_1849', '1_Genus_Chroococcus_Nageli', '1_Genus_Closterium_Nitzsch_ex_Ralfs_1848', '1_Genus_Coelastrum_Nageli_1849', '1_Genus_Cylindrocystis_Meneghini_ex_de_Bary_1858', '1_Genus_Dictyosphaerium_Nageli_1849', '1_Genus_Docidium_Brebisson_ex_Ralfs_1848', '1_Genus_Eunotia_Ehrenberg', '1_Genus_Geitlerinema_(Anagnostidis_et_Komarek)_Anagnostidis_1989', '1_Genus_Gonatozygon_de_Bary_1856', '1_Genus_Hydrodictyon_Roth_1797', '1_Genus_Hydrosera_whampoensis', '1_Genus_Jaaginema_Anagnostidis_et_Komarek_1988', '1_Genus_Lyngbya_C_Agardh_ex_Gomont_1892', '1_Genus_Melosira_Agardh', '1_Genus_Micractinium_Fresenius_1858', '1_Genus_Micrasterias_Ralfs_1848', '1_Genus_Microcystis_Kutzing_ex_Lemmermann_1907', '1_Genus_Oscillatoria_Vaucher_ex_Gomont_1982', '1_Genus_Pediastrum_Meyen_1829', '1_Genus_Penium_Brebisson_ex_Ralfs_in_Ralfs_1848', '1_Genus_Phormidium_Kutzing_ex_Gomont_1892', '1_Genus_Planktothrix_Anagnostidis_et_Komarek_1988', '1_Genus_Pleurosira_laevis_(Ehrenberg)', '1_Genus_Rhizosolenia_Ehrenberg', '1_Genus_Schizochlamydella_Korshikov_1953', '1_Genus_Staurodesmus_Teiling_1848', '1_Genus_Trochiscia_Kutzing_1834', '1_Scenedesmus_Hegewald_1978', '2_Acutodesmus_Hegewald_1978', '2_Genus_Achnanthidium_Kutzing', '2_Genus_Actinastrum_Lagerheim_1882', '2_Genus_Actinella_Lewis', '2_Genus_Ankyra_Fott_1957', '2_Genus_Caloneis_Cleve', '2_Genus_Chaetoceros_Ehrenberg', '2_Genus_Coenochloris_Korshikov_1953', '2_Genus_Cyclotella', '2_Genus_Diatoma_Bory', '2_Genus_Dimorphococcus_A_Braun_1855', '2_Genus_Golenkinia_Chodat_1894', '2_Genus_Haplotaenium_Bando_1988', '2_Genus_Leibleinia_(Gomont)_L_Hoffman_1985', '2_Genus_Leptolyngbya_Anagnostidis_et_Komarek_1988', '2_Genus_Merismopedia_Meyen_1839', '2_Genus_Netrium_(Nageli)_Itzigsohn_et_Rothe_in_Rabenhorst_1856', '2_Genus_Orthoseira_Thwaites_1848', '2_Genus_Phormidium_Kutzing_ex_Gomont_1892', '2_Genus_Sorastrum_Kutzing_1845', '2_Genus_Staurastrum_Meyen_ex_Ralfs_1848', '3_Desmodesmus_Chodat_1926', '3_Genus_Acanthosphaera_Lemmerman_1899', '3_Genus_Anorthoneis_Grunow', '3_Genus_Cyclostephanos_Round', '3_Genus_Dichotomococcus_Korshikov_1928', '3_Genus_Heteroleibleinia_(Geitler)_L_Hoffmann_1985', '3_Genus_Limnothrix_Meffert_1988', '3_Genus_Meridion_Agardh', '3_Genus_Paradoxia_Svirenko_1928', '3_Genus_Peronia_Bebisson_and_Arnott_ex_Kitton', '3_Genus_Phormidiochaete_Komarek_in_Anagnostidis_2001', '3_Genus_Pinnularia_Ehrenberg_1', '3_Genus_Pleurotaenium_Nageli_1849', '3_Genus_Radiococcus_Schmidle_1902', '3_Genus_Snowella_Elenkin_1938', '3_Genus_Spirotaenia_Brebisson_in_Ralfs_1848', '4_Genus_Botryococcus_Kutzing_1849', '4_Genus_Cocconeis_Ehrenberg', '4_Genus_Eutetramorus_Walton_1918', '4_Genus_Leptolyngbya_Anagnostidis_et_Komarek_1988', '4_Genus_Opephora_Petit', '4_Genus_Pinnularia_Ehrenberg_2', '4_Genus_Schroederia_Lemmermann_1898', '4_Genus_Stephanodiscus_Ehrenberg', '4_Genus_Synechocystis_Sauvageau_1892', '4_Genus_Tortitaenia_A_J_Brook_1998', '5_Genus_Caloneis_Cleve', '5_Genus_Coenocystis_Korshikov_1953', '5_Genus_Planktolyngbya_Anagnostidis_et_Komarek_1988', '5_Genus_Tabellaria_Ehrenberg', '5_Genus_Thalassiosira_Cleve', '5_Genus_Woronichinia_Elenkin_1933', '6_Genus_Anomoeoneis_Pfitzer', '6_Genus_Fragilaria_Lyngbye', '6_Genus_Gloeocystis_Nageli_1849', '6_Genus_Pseudanabaena_Lauterborn_1915', '6_Genus_Skeletonema_Greville', '7_Genus_Caloneis_Cleve', '7_Genus_Hannaea_Patrick', '8_Genus_Diploneis(Ehrenberg)_Cleve', '8_Genus_Pseudostaurosira_Williams_and_Round', '9_Genus_Neidium_Pfitzer', '9_Genus_Punctastriata_Williams_and_Round']\n"
          ]
        }
      ]
    },
    {
      "cell_type": "code",
      "metadata": {
        "id": "5EQOikPAukic",
        "colab": {
          "base_uri": "https://localhost:8080/"
        },
        "outputId": "6bf9ae9f-1c4f-4d9f-9f27-d0aa058f954d"
      },
      "source": [
        "for image_batch, labels_batch in train_ds:\n",
        "  print(image_batch.shape)\n",
        "  print(labels_batch.shape)\n",
        "  break"
      ],
      "execution_count": null,
      "outputs": [
        {
          "output_type": "stream",
          "name": "stdout",
          "text": [
            "(32, 180, 180, 1)\n",
            "(32,)\n"
          ]
        }
      ]
    },
    {
      "cell_type": "code",
      "metadata": {
        "id": "9eVl7tiDux9q"
      },
      "source": [
        "from tensorflow.keras import layers\n",
        "\n",
        "normalization_layer = tf.keras.layers.experimental.preprocessing.Rescaling(1./255)"
      ],
      "execution_count": null,
      "outputs": []
    },
    {
      "cell_type": "code",
      "metadata": {
        "id": "AiIrsxzZuzEo",
        "colab": {
          "base_uri": "https://localhost:8080/"
        },
        "outputId": "6ad726f2-8f57-4a7e-ca9b-49c4259871b3"
      },
      "source": [
        "normalized_ds = train_ds.map(lambda x, y: (normalization_layer(x), y))\n",
        "image_batch, labels_batch = next(iter(normalized_ds))\n",
        "first_image = image_batch[0]\n",
        "# Notice the pixels values are now in `[0,1]`.\n",
        "print(np.min(first_image), np.max(first_image))"
      ],
      "execution_count": null,
      "outputs": [
        {
          "output_type": "stream",
          "name": "stdout",
          "text": [
            "0.0 1.0\n"
          ]
        }
      ]
    },
    {
      "cell_type": "code",
      "metadata": {
        "id": "__WbVabru0Bp"
      },
      "source": [
        "AUTOTUNE = tf.data.experimental.AUTOTUNE\n",
        "\n",
        "train_ds = train_ds.cache().prefetch(buffer_size=AUTOTUNE)\n",
        "val_ds = val_ds.cache().prefetch(buffer_size=AUTOTUNE)"
      ],
      "execution_count": null,
      "outputs": []
    },
    {
      "cell_type": "code",
      "metadata": {
        "id": "g1GeYFXCu2gV"
      },
      "source": [
        "num_classes = 107\n",
        "model = tf.keras.Sequential([\n",
        "    layers.experimental.preprocessing.Rescaling(1./255),\n",
        "    layers.Conv2D(64, 3,input_shape = image_batch, activation='relu'),\n",
        "    layers.MaxPooling2D(),\n",
        "    layers.Conv2D(64, 3, activation='relu'),\n",
        "    layers.MaxPooling2D(),\n",
        "    layers.Conv2D(64, 3, activation='relu'),\n",
        "    layers.MaxPooling2D(),\n",
        "    layers.Flatten(),\n",
        "    BatchNormalization(),\n",
        "    layers.Dense(128, input_dim = 107, activation='relu'),\n",
        "    BatchNormalization(),\n",
        "    layers.Dense(128, activation='relu'),\n",
        "    BatchNormalization(),\n",
        "    layers.Dense(128, activation='relu'),\n",
        "    BatchNormalization(),\n",
        "    layers.Dense(128, activation='relu'),\n",
        "    BatchNormalization(),\n",
        "    layers.Dense(128, activation='relu'),\n",
        "    BatchNormalization(),\n",
        "    layers.Dense(128, activation='relu'),\n",
        "    BatchNormalization(),\n",
        "    layers.Dense(128, activation='relu'),\n",
        "    BatchNormalization(),\n",
        "    layers.Dense(107, activation='softmax'),\n",
        "    BatchNormalization(),\n",
        "    layers.Dense(num_classes)\n",
        "    ])"
      ],
      "execution_count": null,
      "outputs": []
    },
    {
      "cell_type": "code",
      "metadata": {
        "id": "wU4xPAvNYWry"
      },
      "source": [
        "model.compile(\n",
        "    optimizer='adam',\n",
        "    loss=tf.losses.SparseCategoricalCrossentropy(from_logits=True),\n",
        "    metrics=['accuracy'])"
      ],
      "execution_count": null,
      "outputs": []
    },
    {
      "cell_type": "code",
      "metadata": {
        "id": "Tk8ssrbHu44p",
        "colab": {
          "base_uri": "https://localhost:8080/"
        },
        "outputId": "a809a159-ef09-449d-976e-7ef704b08382"
      },
      "source": [
        "epochs=50\n",
        "history = model.fit(\n",
        "  train_ds,\n",
        "  validation_data=val_ds,\n",
        "  epochs=epochs\n",
        ")"
      ],
      "execution_count": null,
      "outputs": [
        {
          "output_type": "stream",
          "name": "stdout",
          "text": [
            "Epoch 1/50\n",
            "156/156 [==============================] - 974s 6s/step - loss: 3.6440 - accuracy: 0.2345 - val_loss: 4.2414 - val_accuracy: 0.1173\n",
            "Epoch 2/50\n",
            "156/156 [==============================] - 4s 28ms/step - loss: 2.5804 - accuracy: 0.3580 - val_loss: 3.7102 - val_accuracy: 0.2434\n",
            "Epoch 3/50\n",
            "156/156 [==============================] - 4s 28ms/step - loss: 2.1811 - accuracy: 0.4314 - val_loss: 2.9933 - val_accuracy: 0.3414\n",
            "Epoch 4/50\n",
            "156/156 [==============================] - 4s 29ms/step - loss: 1.8760 - accuracy: 0.4937 - val_loss: 2.2864 - val_accuracy: 0.4241\n",
            "Epoch 5/50\n",
            "156/156 [==============================] - 4s 28ms/step - loss: 1.6069 - accuracy: 0.5543 - val_loss: 2.6960 - val_accuracy: 0.3430\n",
            "Epoch 6/50\n",
            "156/156 [==============================] - 4s 28ms/step - loss: 1.4085 - accuracy: 0.6073 - val_loss: 3.1366 - val_accuracy: 0.2988\n",
            "Epoch 7/50\n",
            "156/156 [==============================] - 4s 28ms/step - loss: 1.2236 - accuracy: 0.6531 - val_loss: 2.3692 - val_accuracy: 0.4313\n",
            "Epoch 8/50\n",
            "156/156 [==============================] - 4s 28ms/step - loss: 1.0243 - accuracy: 0.7101 - val_loss: 2.5804 - val_accuracy: 0.3880\n",
            "Epoch 9/50\n",
            "156/156 [==============================] - 4s 28ms/step - loss: 0.8965 - accuracy: 0.7434 - val_loss: 2.5732 - val_accuracy: 0.4482\n",
            "Epoch 10/50\n",
            "156/156 [==============================] - 4s 29ms/step - loss: 0.7895 - accuracy: 0.7757 - val_loss: 2.9783 - val_accuracy: 0.3952\n",
            "Epoch 11/50\n",
            "156/156 [==============================] - 4s 28ms/step - loss: 0.6554 - accuracy: 0.8107 - val_loss: 2.3509 - val_accuracy: 0.4940\n",
            "Epoch 12/50\n",
            "156/156 [==============================] - 4s 28ms/step - loss: 0.5559 - accuracy: 0.8446 - val_loss: 2.4034 - val_accuracy: 0.4980\n",
            "Epoch 13/50\n",
            "156/156 [==============================] - 4s 28ms/step - loss: 0.4336 - accuracy: 0.8828 - val_loss: 2.3738 - val_accuracy: 0.4980\n",
            "Epoch 14/50\n",
            "156/156 [==============================] - 4s 28ms/step - loss: 0.3546 - accuracy: 0.9072 - val_loss: 2.4090 - val_accuracy: 0.5349\n",
            "Epoch 15/50\n",
            "156/156 [==============================] - 4s 28ms/step - loss: 0.2944 - accuracy: 0.9213 - val_loss: 2.8204 - val_accuracy: 0.4731\n",
            "Epoch 16/50\n",
            "156/156 [==============================] - 4s 29ms/step - loss: 0.2554 - accuracy: 0.9329 - val_loss: 2.6484 - val_accuracy: 0.4956\n",
            "Epoch 17/50\n",
            "156/156 [==============================] - 4s 28ms/step - loss: 0.2009 - accuracy: 0.9496 - val_loss: 2.9933 - val_accuracy: 0.4884\n",
            "Epoch 18/50\n",
            "156/156 [==============================] - 4s 28ms/step - loss: 0.2011 - accuracy: 0.9492 - val_loss: 2.9583 - val_accuracy: 0.5028\n",
            "Epoch 19/50\n",
            "156/156 [==============================] - 4s 28ms/step - loss: 0.2360 - accuracy: 0.9348 - val_loss: 3.2116 - val_accuracy: 0.4859\n",
            "Epoch 20/50\n",
            "156/156 [==============================] - 4s 28ms/step - loss: 0.2458 - accuracy: 0.9299 - val_loss: 3.0596 - val_accuracy: 0.4956\n",
            "Epoch 21/50\n",
            "156/156 [==============================] - 4s 28ms/step - loss: 0.2182 - accuracy: 0.9422 - val_loss: 3.0740 - val_accuracy: 0.5076\n",
            "Epoch 22/50\n",
            "156/156 [==============================] - 4s 29ms/step - loss: 0.1649 - accuracy: 0.9542 - val_loss: 3.0097 - val_accuracy: 0.5165\n",
            "Epoch 23/50\n",
            "156/156 [==============================] - 4s 28ms/step - loss: 0.1245 - accuracy: 0.9685 - val_loss: 3.0021 - val_accuracy: 0.5028\n",
            "Epoch 24/50\n",
            "156/156 [==============================] - 4s 28ms/step - loss: 0.1314 - accuracy: 0.9651 - val_loss: 3.2140 - val_accuracy: 0.4787\n",
            "Epoch 25/50\n",
            "156/156 [==============================] - 4s 28ms/step - loss: 0.0967 - accuracy: 0.9747 - val_loss: 3.1601 - val_accuracy: 0.5124\n",
            "Epoch 26/50\n",
            "156/156 [==============================] - 4s 28ms/step - loss: 0.0815 - accuracy: 0.9795 - val_loss: 2.9370 - val_accuracy: 0.5301\n",
            "Epoch 27/50\n",
            "156/156 [==============================] - 4s 28ms/step - loss: 0.0568 - accuracy: 0.9874 - val_loss: 2.9688 - val_accuracy: 0.5317\n",
            "Epoch 28/50\n",
            "156/156 [==============================] - 5s 29ms/step - loss: 0.0531 - accuracy: 0.9880 - val_loss: 3.2168 - val_accuracy: 0.5133\n",
            "Epoch 29/50\n",
            "156/156 [==============================] - 4s 28ms/step - loss: 0.0506 - accuracy: 0.9890 - val_loss: 3.2769 - val_accuracy: 0.5020\n",
            "Epoch 30/50\n",
            "156/156 [==============================] - 4s 28ms/step - loss: 0.0518 - accuracy: 0.9880 - val_loss: 3.3354 - val_accuracy: 0.5068\n",
            "Epoch 31/50\n",
            "156/156 [==============================] - 4s 28ms/step - loss: 0.1120 - accuracy: 0.9697 - val_loss: 3.6244 - val_accuracy: 0.4771\n",
            "Epoch 32/50\n",
            "156/156 [==============================] - 4s 28ms/step - loss: 0.2189 - accuracy: 0.9374 - val_loss: 4.2995 - val_accuracy: 0.4112\n",
            "Epoch 33/50\n",
            "156/156 [==============================] - 4s 28ms/step - loss: 0.2596 - accuracy: 0.9229 - val_loss: 3.5286 - val_accuracy: 0.4988\n",
            "Epoch 34/50\n",
            "156/156 [==============================] - 4s 29ms/step - loss: 0.1965 - accuracy: 0.9418 - val_loss: 3.2878 - val_accuracy: 0.4988\n",
            "Epoch 35/50\n",
            "156/156 [==============================] - 4s 28ms/step - loss: 0.0883 - accuracy: 0.9743 - val_loss: 3.2689 - val_accuracy: 0.5052\n",
            "Epoch 36/50\n",
            "156/156 [==============================] - 4s 28ms/step - loss: 0.0382 - accuracy: 0.9918 - val_loss: 3.2198 - val_accuracy: 0.5253\n",
            "Epoch 37/50\n",
            "156/156 [==============================] - 4s 28ms/step - loss: 0.0178 - accuracy: 0.9966 - val_loss: 3.0659 - val_accuracy: 0.5398\n",
            "Epoch 38/50\n",
            "156/156 [==============================] - 4s 28ms/step - loss: 0.0100 - accuracy: 0.9982 - val_loss: 3.0532 - val_accuracy: 0.5422\n",
            "Epoch 39/50\n",
            "156/156 [==============================] - 4s 29ms/step - loss: 0.0084 - accuracy: 0.9994 - val_loss: 3.1383 - val_accuracy: 0.5430\n",
            "Epoch 40/50\n",
            "156/156 [==============================] - 4s 29ms/step - loss: 0.0052 - accuracy: 0.9996 - val_loss: 3.1422 - val_accuracy: 0.5478\n",
            "Epoch 41/50\n",
            "156/156 [==============================] - 4s 28ms/step - loss: 0.0038 - accuracy: 0.9998 - val_loss: 3.1747 - val_accuracy: 0.5454\n",
            "Epoch 42/50\n",
            "156/156 [==============================] - 4s 28ms/step - loss: 0.0050 - accuracy: 0.9992 - val_loss: 3.3986 - val_accuracy: 0.5181\n",
            "Epoch 43/50\n",
            "156/156 [==============================] - 4s 28ms/step - loss: 0.0126 - accuracy: 0.9976 - val_loss: 3.4239 - val_accuracy: 0.5301\n",
            "Epoch 44/50\n",
            "156/156 [==============================] - 4s 28ms/step - loss: 0.0191 - accuracy: 0.9960 - val_loss: 3.5368 - val_accuracy: 0.5165\n",
            "Epoch 45/50\n",
            "156/156 [==============================] - 5s 29ms/step - loss: 0.0537 - accuracy: 0.9867 - val_loss: 3.6249 - val_accuracy: 0.5124\n",
            "Epoch 46/50\n",
            "156/156 [==============================] - 4s 28ms/step - loss: 0.3381 - accuracy: 0.9052 - val_loss: 4.1615 - val_accuracy: 0.4185\n",
            "Epoch 47/50\n",
            "156/156 [==============================] - 4s 28ms/step - loss: 0.3956 - accuracy: 0.9006 - val_loss: 3.5137 - val_accuracy: 0.4610\n",
            "Epoch 48/50\n",
            "156/156 [==============================] - 4s 28ms/step - loss: 0.1944 - accuracy: 0.9424 - val_loss: 3.1674 - val_accuracy: 0.5277\n",
            "Epoch 49/50\n",
            "156/156 [==============================] - 4s 28ms/step - loss: 0.0852 - accuracy: 0.9785 - val_loss: 3.0497 - val_accuracy: 0.5373\n",
            "Epoch 50/50\n",
            "156/156 [==============================] - 4s 29ms/step - loss: 0.0231 - accuracy: 0.9952 - val_loss: 3.0576 - val_accuracy: 0.5293\n"
          ]
        }
      ]
    },
    {
      "cell_type": "code",
      "metadata": {
        "id": "f1z_vHocu59c",
        "colab": {
          "base_uri": "https://localhost:8080/",
          "height": 499
        },
        "outputId": "8be812af-986a-4222-df92-13ae49111eb6"
      },
      "source": [
        "acc = history.history['accuracy']\n",
        "val_acc = history.history['val_accuracy']\n",
        "\n",
        "loss=history.history['loss']\n",
        "val_loss=history.history['val_loss']\n",
        "\n",
        "epochs_range = range(epochs)\n",
        "\n",
        "plt.figure(figsize=(8, 8))\n",
        "plt.subplot(1, 2, 1)\n",
        "plt.plot(epochs_range, acc, label='Training Accuracy')\n",
        "plt.plot(epochs_range, val_acc, label='Validation Accuracy')\n",
        "plt.legend(loc='lower right')\n",
        "plt.title('Training and Validation Accuracy')\n",
        "\n",
        "plt.subplot(1, 2, 2)\n",
        "plt.plot(epochs_range, loss, label='Training Loss')\n",
        "plt.plot(epochs_range, val_loss, label='Validation Loss')\n",
        "plt.legend(loc='upper right')\n",
        "plt.title('Training and Validation Loss')\n",
        "plt.show()"
      ],
      "execution_count": null,
      "outputs": [
        {
          "output_type": "display_data",
          "data": {
            "image/png": "[encoded data removed]",
            "text/plain": [
              "<Figure size 576x576 with 2 Axes>"
            ]
          },
          "metadata": {
            "needs_background": "light"
          }
        }
      ]
    },
    {
      "cell_type": "code",
      "metadata": {
        "id": "XinJ6xXD9YNO"
      },
      "source": [
        "data_augmentation = keras.Sequential(\n",
        "  [\n",
        "    layers.experimental.preprocessing.RandomFlip(\"horizontal\", \n",
        "                                                 input_shape=(img_height, \n",
        "                                                              img_width,\n",
        "                                                              1)),\n",
        "    layers.experimental.preprocessing.RandomRotation(0.1),\n",
        "    layers.experimental.preprocessing.RandomZoom(0.1),\n",
        "  ]\n",
        ")"
      ],
      "execution_count": null,
      "outputs": []
    },
    {
      "cell_type": "code",
      "metadata": {
        "id": "8WT2BYElEYZj"
      },
      "source": [
        "model = Sequential([\n",
        "  data_augmentation,\n",
        "  layers.experimental.preprocessing.Rescaling(1./255),\n",
        "  layers.Conv2D(64, 3,input_shape = image_batch, activation='relu'),\n",
        "  layers.MaxPooling2D(),\n",
        "  layers.Conv2D(64, 3, padding='same', activation='relu'),\n",
        "  layers.MaxPooling2D(),\n",
        "  layers.Conv2D(64, 3, padding='same', activation='relu'),\n",
        "  layers.MaxPooling2D(),\n",
        "  layers.Dropout(0.2),\n",
        "  layers.Flatten(),\n",
        "  layers.Dense(128, input_dim = 107, activation='relu'),\n",
        "  BatchNormalization(),\n",
        "  layers.Dense(128, activation='relu'),\n",
        "  BatchNormalization(),\n",
        "  layers.Dense(128, activation='relu'),\n",
        "  BatchNormalization(),\n",
        "  layers.Dense(128, activation='relu'),\n",
        "  BatchNormalization(),\n",
        "  layers.Dense(128, activation='relu'),\n",
        "  BatchNormalization(),\n",
        "  layers.Dense(128, activation='relu'),\n",
        "  BatchNormalization(),\n",
        "  layers.Dense(128, activation='relu'),\n",
        "  BatchNormalization(),\n",
        "  layers.Dense(107, activation='softmax'),\n",
        "  BatchNormalization(),\n",
        "  layers.Dense(num_classes)\n",
        "])"
      ],
      "execution_count": null,
      "outputs": []
    },
    {
      "cell_type": "code",
      "metadata": {
        "id": "opOHP3auEdsw",
        "colab": {
          "base_uri": "https://localhost:8080/"
        },
        "outputId": "3b51d13a-21be-43d9-96cf-6d645674ea32"
      },
      "source": [
        "BatchNormalization(),model.compile(\n",
        "    optimizer='adam',\n",
        "    loss=tf.losses.SparseCategoricalCrossentropy(from_logits=True),\n",
        "    metrics=['accuracy'])"
      ],
      "execution_count": null,
      "outputs": [
        {
          "output_type": "execute_result",
          "data": {
            "text/plain": [
              "(<keras.layers.normalization.batch_normalization.BatchNormalization at 0x7fb7ba5de690>,\n",
              " None)"
            ]
          },
          "metadata": {},
          "execution_count": 19
        }
      ]
    },
    {
      "cell_type": "code",
      "metadata": {
        "id": "3Ay4tlHlEfBX",
        "colab": {
          "base_uri": "https://localhost:8080/"
        },
        "outputId": "0598d2eb-9a05-4d82-985f-3e64f47ca2a9"
      },
      "source": [
        "model.summary()"
      ],
      "execution_count": null,
      "outputs": [
        {
          "output_type": "stream",
          "name": "stdout",
          "text": [
            "Model: \"sequential_2\"\n",
            "_________________________________________________________________\n",
            " Layer (type)                Output Shape              Param #   \n",
            "=================================================================\n",
            " sequential_1 (Sequential)   (None, 180, 180, 1)       0         \n",
            "                                                                 \n",
            " rescaling_2 (Rescaling)     (None, 180, 180, 1)       0         \n",
            "                                                                 \n",
            " conv2d_3 (Conv2D)           (None, 178, 178, 64)      640       \n",
            "                                                                 \n",
            " max_pooling2d_3 (MaxPooling  (None, 89, 89, 64)       0         \n",
            " 2D)                                                             \n",
            "                                                                 \n",
            " conv2d_4 (Conv2D)           (None, 89, 89, 64)        36928     \n",
            "                                                                 \n",
            " max_pooling2d_4 (MaxPooling  (None, 44, 44, 64)       0         \n",
            " 2D)                                                             \n",
            "                                                                 \n",
            " conv2d_5 (Conv2D)           (None, 44, 44, 64)        36928     \n",
            "                                                                 \n",
            " max_pooling2d_5 (MaxPooling  (None, 22, 22, 64)       0         \n",
            " 2D)                                                             \n",
            "                                                                 \n",
            " dropout (Dropout)           (None, 22, 22, 64)        0         \n",
            "                                                                 \n",
            " flatten_1 (Flatten)         (None, 30976)             0         \n",
            "                                                                 \n",
            " dense_9 (Dense)             (None, 128)               3965056   \n",
            "                                                                 \n",
            " batch_normalization_9 (Batc  (None, 128)              512       \n",
            " hNormalization)                                                 \n",
            "                                                                 \n",
            " dense_10 (Dense)            (None, 128)               16512     \n",
            "                                                                 \n",
            " batch_normalization_10 (Bat  (None, 128)              512       \n",
            " chNormalization)                                                \n",
            "                                                                 \n",
            " dense_11 (Dense)            (None, 128)               16512     \n",
            "                                                                 \n",
            " batch_normalization_11 (Bat  (None, 128)              512       \n",
            " chNormalization)                                                \n",
            "                                                                 \n",
            " dense_12 (Dense)            (None, 128)               16512     \n",
            "                                                                 \n",
            " batch_normalization_12 (Bat  (None, 128)              512       \n",
            " chNormalization)                                                \n",
            "                                                                 \n",
            " dense_13 (Dense)            (None, 128)               16512     \n",
            "                                                                 \n",
            " batch_normalization_13 (Bat  (None, 128)              512       \n",
            " chNormalization)                                                \n",
            "                                                                 \n",
            " dense_14 (Dense)            (None, 128)               16512     \n",
            "                                                                 \n",
            " batch_normalization_14 (Bat  (None, 128)              512       \n",
            " chNormalization)                                                \n",
            "                                                                 \n",
            " dense_15 (Dense)            (None, 128)               16512     \n",
            "                                                                 \n",
            " batch_normalization_15 (Bat  (None, 128)              512       \n",
            " chNormalization)                                                \n",
            "                                                                 \n",
            " dense_16 (Dense)            (None, 107)               13803     \n",
            "                                                                 \n",
            " batch_normalization_16 (Bat  (None, 107)              428       \n",
            " chNormalization)                                                \n",
            "                                                                 \n",
            " dense_17 (Dense)            (None, 107)               11556     \n",
            "                                                                 \n",
            "=================================================================\n",
            "Total params: 4,167,995\n",
            "Trainable params: 4,165,989\n",
            "Non-trainable params: 2,006\n",
            "_________________________________________________________________\n"
          ]
        }
      ]
    },
    {
      "cell_type": "code",
      "metadata": {
        "id": "Jc8rD_v9Ef41",
        "colab": {
          "base_uri": "https://localhost:8080/"
        },
        "outputId": "2e626a85-f47d-4054-94ae-3429025c8511"
      },
      "source": [
        "epochs = 50\n",
        "history = model.fit(\n",
        "  train_ds,\n",
        "  validation_data=val_ds,\n",
        "  epochs=epochs\n",
        ")"
      ],
      "execution_count": null,
      "outputs": [
        {
          "output_type": "stream",
          "name": "stdout",
          "text": [
            "Epoch 1/50\n",
            "156/156 [==============================] - 8s 34ms/step - loss: 3.9158 - accuracy: 0.1614 - val_loss: 4.1432 - val_accuracy: 0.1301\n",
            "Epoch 2/50\n",
            "156/156 [==============================] - 5s 30ms/step - loss: 2.9791 - accuracy: 0.2554 - val_loss: 3.7511 - val_accuracy: 0.1502\n",
            "Epoch 3/50\n",
            "156/156 [==============================] - 5s 30ms/step - loss: 2.6998 - accuracy: 0.2987 - val_loss: 3.7298 - val_accuracy: 0.1100\n",
            "Epoch 4/50\n",
            "156/156 [==============================] - 5s 30ms/step - loss: 2.4930 - accuracy: 0.3274 - val_loss: 2.6104 - val_accuracy: 0.3141\n",
            "Epoch 5/50\n",
            "156/156 [==============================] - 5s 30ms/step - loss: 2.3758 - accuracy: 0.3551 - val_loss: 2.9960 - val_accuracy: 0.2667\n",
            "Epoch 6/50\n",
            "156/156 [==============================] - 5s 31ms/step - loss: 2.2570 - accuracy: 0.3708 - val_loss: 2.7215 - val_accuracy: 0.3108\n",
            "Epoch 7/50\n",
            "156/156 [==============================] - 5s 30ms/step - loss: 2.1700 - accuracy: 0.3859 - val_loss: 2.5393 - val_accuracy: 0.3462\n",
            "Epoch 8/50\n",
            "156/156 [==============================] - 5s 30ms/step - loss: 2.0750 - accuracy: 0.4136 - val_loss: 2.4083 - val_accuracy: 0.3823\n",
            "Epoch 9/50\n",
            "156/156 [==============================] - 5s 30ms/step - loss: 1.9879 - accuracy: 0.4290 - val_loss: 2.8345 - val_accuracy: 0.3100\n",
            "Epoch 10/50\n",
            "156/156 [==============================] - 5s 30ms/step - loss: 1.8885 - accuracy: 0.4503 - val_loss: 2.3205 - val_accuracy: 0.3815\n",
            "Epoch 11/50\n",
            "156/156 [==============================] - 5s 30ms/step - loss: 1.8696 - accuracy: 0.4493 - val_loss: 2.7870 - val_accuracy: 0.3478\n",
            "Epoch 12/50\n",
            "156/156 [==============================] - 5s 31ms/step - loss: 1.7960 - accuracy: 0.4668 - val_loss: 2.6648 - val_accuracy: 0.3470\n",
            "Epoch 13/50\n",
            "156/156 [==============================] - 5s 30ms/step - loss: 1.7267 - accuracy: 0.4905 - val_loss: 2.5163 - val_accuracy: 0.3679\n",
            "Epoch 14/50\n",
            "156/156 [==============================] - 5s 30ms/step - loss: 1.6681 - accuracy: 0.5037 - val_loss: 2.3156 - val_accuracy: 0.3976\n",
            "Epoch 15/50\n",
            "156/156 [==============================] - 5s 30ms/step - loss: 1.6201 - accuracy: 0.5103 - val_loss: 2.5224 - val_accuracy: 0.3687\n",
            "Epoch 16/50\n",
            "156/156 [==============================] - 5s 30ms/step - loss: 1.5616 - accuracy: 0.5258 - val_loss: 2.2863 - val_accuracy: 0.4257\n",
            "Epoch 17/50\n",
            "156/156 [==============================] - 5s 30ms/step - loss: 1.5027 - accuracy: 0.5386 - val_loss: 2.7153 - val_accuracy: 0.3767\n",
            "Epoch 18/50\n",
            "156/156 [==============================] - 5s 31ms/step - loss: 1.4669 - accuracy: 0.5429 - val_loss: 2.2032 - val_accuracy: 0.4474\n",
            "Epoch 19/50\n",
            "156/156 [==============================] - 5s 30ms/step - loss: 1.4097 - accuracy: 0.5631 - val_loss: 2.8091 - val_accuracy: 0.3614\n",
            "Epoch 20/50\n",
            "156/156 [==============================] - 5s 30ms/step - loss: 1.3609 - accuracy: 0.5788 - val_loss: 2.6424 - val_accuracy: 0.3791\n",
            "Epoch 21/50\n",
            "156/156 [==============================] - 5s 30ms/step - loss: 1.3483 - accuracy: 0.5714 - val_loss: 2.7716 - val_accuracy: 0.3687\n",
            "Epoch 22/50\n",
            "156/156 [==============================] - 5s 30ms/step - loss: 1.3081 - accuracy: 0.5864 - val_loss: 2.6289 - val_accuracy: 0.3936\n",
            "Epoch 23/50\n",
            "156/156 [==============================] - 5s 30ms/step - loss: 1.2655 - accuracy: 0.5945 - val_loss: 2.5656 - val_accuracy: 0.4137\n",
            "Epoch 24/50\n",
            "156/156 [==============================] - 5s 31ms/step - loss: 1.2090 - accuracy: 0.6101 - val_loss: 3.0121 - val_accuracy: 0.3759\n",
            "Epoch 25/50\n",
            "156/156 [==============================] - 5s 30ms/step - loss: 1.1823 - accuracy: 0.6131 - val_loss: 3.0441 - val_accuracy: 0.3590\n",
            "Epoch 26/50\n",
            "156/156 [==============================] - 5s 30ms/step - loss: 1.1619 - accuracy: 0.6236 - val_loss: 2.8676 - val_accuracy: 0.3807\n",
            "Epoch 27/50\n",
            "156/156 [==============================] - 5s 30ms/step - loss: 1.1010 - accuracy: 0.6396 - val_loss: 2.5882 - val_accuracy: 0.4281\n",
            "Epoch 28/50\n",
            "156/156 [==============================] - 5s 30ms/step - loss: 1.0847 - accuracy: 0.6483 - val_loss: 2.9429 - val_accuracy: 0.3847\n",
            "Epoch 29/50\n",
            "156/156 [==============================] - 5s 30ms/step - loss: 1.0594 - accuracy: 0.6529 - val_loss: 2.8485 - val_accuracy: 0.4056\n",
            "Epoch 30/50\n",
            "156/156 [==============================] - 5s 31ms/step - loss: 1.0259 - accuracy: 0.6619 - val_loss: 2.6918 - val_accuracy: 0.4305\n",
            "Epoch 31/50\n",
            "156/156 [==============================] - 5s 30ms/step - loss: 0.9877 - accuracy: 0.6754 - val_loss: 2.3625 - val_accuracy: 0.4699\n",
            "Epoch 32/50\n",
            "156/156 [==============================] - 5s 30ms/step - loss: 0.9479 - accuracy: 0.6914 - val_loss: 3.0685 - val_accuracy: 0.3888\n",
            "Epoch 33/50\n",
            "156/156 [==============================] - 5s 30ms/step - loss: 0.9121 - accuracy: 0.6952 - val_loss: 2.4320 - val_accuracy: 0.4498\n",
            "Epoch 34/50\n",
            "156/156 [==============================] - 5s 30ms/step - loss: 0.8948 - accuracy: 0.7041 - val_loss: 2.7102 - val_accuracy: 0.4080\n",
            "Epoch 35/50\n",
            "156/156 [==============================] - 5s 30ms/step - loss: 0.8757 - accuracy: 0.7105 - val_loss: 2.6747 - val_accuracy: 0.4329\n",
            "Epoch 36/50\n",
            "156/156 [==============================] - 5s 31ms/step - loss: 0.8511 - accuracy: 0.7133 - val_loss: 2.6760 - val_accuracy: 0.4321\n",
            "Epoch 37/50\n",
            "156/156 [==============================] - 5s 30ms/step - loss: 0.8273 - accuracy: 0.7268 - val_loss: 2.5454 - val_accuracy: 0.4498\n",
            "Epoch 38/50\n",
            "156/156 [==============================] - 5s 30ms/step - loss: 0.7996 - accuracy: 0.7304 - val_loss: 2.5219 - val_accuracy: 0.4466\n",
            "Epoch 39/50\n",
            "156/156 [==============================] - 5s 30ms/step - loss: 0.7744 - accuracy: 0.7340 - val_loss: 2.7528 - val_accuracy: 0.4273\n",
            "Epoch 40/50\n",
            "156/156 [==============================] - 5s 30ms/step - loss: 0.7702 - accuracy: 0.7348 - val_loss: 2.8289 - val_accuracy: 0.4426\n",
            "Epoch 41/50\n",
            "156/156 [==============================] - 5s 31ms/step - loss: 0.7026 - accuracy: 0.7667 - val_loss: 2.6498 - val_accuracy: 0.4498\n",
            "Epoch 42/50\n",
            "156/156 [==============================] - 5s 30ms/step - loss: 0.7005 - accuracy: 0.7619 - val_loss: 3.3597 - val_accuracy: 0.3944\n",
            "Epoch 43/50\n",
            "156/156 [==============================] - 5s 30ms/step - loss: 0.7060 - accuracy: 0.7633 - val_loss: 2.9718 - val_accuracy: 0.4514\n",
            "Epoch 44/50\n",
            "156/156 [==============================] - 5s 30ms/step - loss: 0.6424 - accuracy: 0.7846 - val_loss: 2.7117 - val_accuracy: 0.4707\n",
            "Epoch 45/50\n",
            "156/156 [==============================] - 5s 30ms/step - loss: 0.6599 - accuracy: 0.7794 - val_loss: 2.8837 - val_accuracy: 0.4337\n",
            "Epoch 46/50\n",
            "156/156 [==============================] - 5s 30ms/step - loss: 0.6592 - accuracy: 0.7806 - val_loss: 3.0267 - val_accuracy: 0.4249\n",
            "Epoch 47/50\n",
            "156/156 [==============================] - 5s 31ms/step - loss: 0.6059 - accuracy: 0.7946 - val_loss: 2.9631 - val_accuracy: 0.4337\n",
            "Epoch 48/50\n",
            "156/156 [==============================] - 5s 30ms/step - loss: 0.5844 - accuracy: 0.8057 - val_loss: 3.1599 - val_accuracy: 0.4177\n",
            "Epoch 49/50\n",
            "156/156 [==============================] - 5s 30ms/step - loss: 0.5539 - accuracy: 0.8125 - val_loss: 3.6769 - val_accuracy: 0.4024\n",
            "Epoch 50/50\n",
            "156/156 [==============================] - 5s 30ms/step - loss: 0.5088 - accuracy: 0.8354 - val_loss: 3.0476 - val_accuracy: 0.4627\n"
          ]
        }
      ]
    },
    {
      "cell_type": "code",
      "metadata": {
        "id": "ynhS2KjVEhj8",
        "colab": {
          "base_uri": "https://localhost:8080/",
          "height": 499
        },
        "outputId": "0ab40692-637c-4ab0-c7f9-ab7bd1a64a11"
      },
      "source": [
        "acc = history.history['accuracy']\n",
        "val_acc = history.history['val_accuracy']\n",
        "\n",
        "loss = history.history['loss']\n",
        "val_loss = history.history['val_loss']\n",
        "\n",
        "epochs_range = range(epochs)\n",
        "\n",
        "plt.figure(figsize=(8, 8))\n",
        "plt.subplot(1, 2, 1)\n",
        "plt.plot(epochs_range, acc, label='Training Accuracy')\n",
        "plt.plot(epochs_range, val_acc, label='Validation Accuracy')\n",
        "plt.legend(loc='lower right')\n",
        "plt.title('Training and Validation Accuracy')\n",
        "\n",
        "plt.subplot(1, 2, 2)\n",
        "plt.plot(epochs_range, loss, label='Training Loss')\n",
        "plt.plot(epochs_range, val_loss, label='Validation Loss')\n",
        "plt.legend(loc='upper right')\n",
        "plt.title('Training and Validation Loss')\n",
        "plt.show()"
      ],
      "execution_count": null,
      "outputs": [
        {
          "output_type": "display_data",
          "data": {
            "image/png": "[encoded data removed]",
            "text/plain": [
              "<Figure size 576x576 with 2 Axes>"
            ]
          },
          "metadata": {
            "needs_background": "light"
          }
        }
      ]
    },
    {
      "cell_type": "code",
      "metadata": {
        "id": "IbEQMrsAH2yZ",
        "colab": {
          "base_uri": "https://localhost:8080/"
        },
        "outputId": "779ae24c-d2da-47b0-ef51-a4370756af11"
      },
      "source": [
        "model.compile(\n",
        "    optimizer='adam',\n",
        "    loss=tf.losses.SparseCategoricalCrossentropy(from_logits=True),\n",
        "    metrics=['accuracy'])\n",
        "model.summary()"
      ],
      "execution_count": null,
      "outputs": [
        {
          "output_type": "stream",
          "name": "stdout",
          "text": [
            "Model: \"sequential_2\"\n",
            "_________________________________________________________________\n",
            " Layer (type)                Output Shape              Param #   \n",
            "=================================================================\n",
            " sequential_1 (Sequential)   (None, 180, 180, 1)       0         \n",
            "                                                                 \n",
            " rescaling_2 (Rescaling)     (None, 180, 180, 1)       0         \n",
            "                                                                 \n",
            " conv2d_3 (Conv2D)           (None, 178, 178, 64)      640       \n",
            "                                                                 \n",
            " max_pooling2d_3 (MaxPooling  (None, 89, 89, 64)       0         \n",
            " 2D)                                                             \n",
            "                                                                 \n",
            " conv2d_4 (Conv2D)           (None, 89, 89, 64)        36928     \n",
            "                                                                 \n",
            " max_pooling2d_4 (MaxPooling  (None, 44, 44, 64)       0         \n",
            " 2D)                                                             \n",
            "                                                                 \n",
            " conv2d_5 (Conv2D)           (None, 44, 44, 64)        36928     \n",
            "                                                                 \n",
            " max_pooling2d_5 (MaxPooling  (None, 22, 22, 64)       0         \n",
            " 2D)                                                             \n",
            "                                                                 \n",
            " dropout (Dropout)           (None, 22, 22, 64)        0         \n",
            "                                                                 \n",
            " flatten_1 (Flatten)         (None, 30976)             0         \n",
            "                                                                 \n",
            " dense_9 (Dense)             (None, 128)               3965056   \n",
            "                                                                 \n",
            " batch_normalization_9 (Batc  (None, 128)              512       \n",
            " hNormalization)                                                 \n",
            "                                                                 \n",
            " dense_10 (Dense)            (None, 128)               16512     \n",
            "                                                                 \n",
            " batch_normalization_10 (Bat  (None, 128)              512       \n",
            " chNormalization)                                                \n",
            "                                                                 \n",
            " dense_11 (Dense)            (None, 128)               16512     \n",
            "                                                                 \n",
            " batch_normalization_11 (Bat  (None, 128)              512       \n",
            " chNormalization)                                                \n",
            "                                                                 \n",
            " dense_12 (Dense)            (None, 128)               16512     \n",
            "                                                                 \n",
            " batch_normalization_12 (Bat  (None, 128)              512       \n",
            " chNormalization)                                                \n",
            "                                                                 \n",
            " dense_13 (Dense)            (None, 128)               16512     \n",
            "                                                                 \n",
            " batch_normalization_13 (Bat  (None, 128)              512       \n",
            " chNormalization)                                                \n",
            "                                                                 \n",
            " dense_14 (Dense)            (None, 128)               16512     \n",
            "                                                                 \n",
            " batch_normalization_14 (Bat  (None, 128)              512       \n",
            " chNormalization)                                                \n",
            "                                                                 \n",
            " dense_15 (Dense)            (None, 128)               16512     \n",
            "                                                                 \n",
            " batch_normalization_15 (Bat  (None, 128)              512       \n",
            " chNormalization)                                                \n",
            "                                                                 \n",
            " dense_16 (Dense)            (None, 107)               13803     \n",
            "                                                                 \n",
            " batch_normalization_16 (Bat  (None, 107)              428       \n",
            " chNormalization)                                                \n",
            "                                                                 \n",
            " dense_17 (Dense)            (None, 107)               11556     \n",
            "                                                                 \n",
            "=================================================================\n",
            "Total params: 4,167,995\n",
            "Trainable params: 4,165,989\n",
            "Non-trainable params: 2,006\n",
            "_________________________________________________________________\n"
          ]
        }
      ]
    },
    {
      "cell_type": "code",
      "metadata": {
        "id": "df30HUqFjWre"
      },
      "source": [
        ""
      ],
      "execution_count": null,
      "outputs": []
    }
  ]
}