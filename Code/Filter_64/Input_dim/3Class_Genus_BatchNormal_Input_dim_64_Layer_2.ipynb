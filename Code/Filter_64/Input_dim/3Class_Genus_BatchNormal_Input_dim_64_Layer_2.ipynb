{
  "nbformat": 4,
  "nbformat_minor": 0,
  "metadata": {
    "colab": {
      "name": "3Class_Genus_BatchNormal_Input_dim_64_Layer_2.ipynb",
      "provenance": [],
      "collapsed_sections": [],
      "mount_file_id": "1Wv9up2Yh0YCmdc74SGNEbRchaS_gC_c8",
      "authorship_tag": "ABX9TyNoYpBN2BPpblq0dYIwp/g2",
      "include_colab_link": true
    },
    "kernelspec": {
      "name": "python3",
      "display_name": "Python 3"
    },
    "language_info": {
      "name": "python"
    },
    "accelerator": "GPU"
  },
  "cells": [
    {
      "cell_type": "markdown",
      "metadata": {
        "id": "view-in-github",
        "colab_type": "text"
      },
      "source": [
        "<a href=\"https://colab.research.google.com/github/Tajyu/Master_Degree_Paper/blob/main/Code/Filter_64/Input_dim/3Class_Genus_BatchNormal_Input_dim_64_Layer_2.ipynb\" target=\"_parent\"><img src=\"https://colab.research.google.com/assets/colab-badge.svg\" alt=\"Open In Colab\"/></a>"
      ]
    },
    {
      "cell_type": "code",
      "metadata": {
        "id": "yWckd06_68Em"
      },
      "source": [
        "import tensorflow as tf\n",
        "from tensorflow.keras import datasets, layers, models\n",
        "from keras.preprocessing.image import ImageDataGenerator\n",
        "import numpy as np\n",
        "import matplotlib.pyplot as plt\n",
        "import cv2 as cv\n",
        "import os\n",
        "import pathlib\n",
        "import PIL\n",
        "from tensorflow import keras\n",
        "from tensorflow.keras import layers\n",
        "from tensorflow.keras.models import Sequential\n",
        "from tensorflow.keras.layers import Dense, Flatten, BatchNormalization, Dropout"
      ],
      "execution_count": null,
      "outputs": []
    },
    {
      "cell_type": "code",
      "metadata": {
        "id": "xav9zirHttk_"
      },
      "source": [
        "image_list = os.listdir('/content/drive/MyDrive/Colab Notebooks/Final_Project/Cell_Genus')"
      ],
      "execution_count": null,
      "outputs": []
    },
    {
      "cell_type": "code",
      "metadata": {
        "colab": {
          "base_uri": "https://localhost:8080/"
        },
        "id": "K-wD0dM5tx_E",
        "outputId": "82cc4558-2315-464b-bb70-18c0ea873812"
      },
      "source": [
        "print(image_list)"
      ],
      "execution_count": null,
      "outputs": [
        {
          "output_type": "stream",
          "name": "stdout",
          "text": [
            "['10_Genus_Stauroneis_Ehrenberg', '10_Genus_Staurosira_Ehrenberg', '11_Genus_Craspedostauros_E.J_Cox_1999', '11_Genus_Staurosirella_Williams_and_Round', '12_Genus_Caloneis_Cleve_1894', '12_Genus_Synedra_Ehrenberg', '13_Genus_Pinnularia_Ehrenberg_1843', '1_Genus_Acanthoceras_Honigmann', '1_Genus_Achnanthes_Bory', '1_Genus_Actinocyclus_Ehrenberg', '1_Genus_Aphanocapsa_Nageli_1849', '1_Genus_Asterionella_Hassall', '1_Genus_Aulacoseira', '1_Genus_Biremis_Mann_et_Cox_in_Round_Crawford_and_Mann', '1_Genus_Characium_A_Braun_in_Kutzing_1849', '1_Genus_Chroococcus_Nageli', '1_Genus_Closterium_Nitzsch_ex_Ralfs_1848', '1_Genus_Coelastrum_Nageli_1849', '1_Genus_Cylindrocystis_Meneghini_ex_de_Bary_1858', '1_Genus_Dictyosphaerium_Nageli_1849', '1_Genus_Docidium_Brebisson_ex_Ralfs_1848', '1_Genus_Eunotia_Ehrenberg', '1_Genus_Geitlerinema_(Anagnostidis_et_Komarek)_Anagnostidis_1989', '1_Genus_Gonatozygon_de_Bary_1856', '1_Genus_Hydrodictyon_Roth_1797', '1_Genus_Hydrosera_whampoensis', '1_Genus_Jaaginema_Anagnostidis_et_Komarek_1988', '1_Genus_Lyngbya_C_Agardh_ex_Gomont_1892', '1_Genus_Melosira_Agardh', '1_Genus_Micractinium_Fresenius_1858', '1_Genus_Micrasterias_Ralfs_1848', '1_Genus_Microcystis_Kutzing_ex_Lemmermann_1907', '1_Genus_Oscillatoria_Vaucher_ex_Gomont_1982', '1_Genus_Pediastrum_Meyen_1829', '1_Genus_Penium_Brebisson_ex_Ralfs_in_Ralfs_1848', '1_Genus_Phormidium_Kutzing_ex_Gomont_1892', '1_Genus_Planktothrix_Anagnostidis_et_Komarek_1988', '1_Genus_Pleurosira_laevis_(Ehrenberg)', '1_Genus_Rhizosolenia_Ehrenberg', '1_Genus_Schizochlamydella_Korshikov_1953', '1_Genus_Staurodesmus_Teiling_1848', '1_Genus_Trochiscia_Kutzing_1834', '1_Scenedesmus_Hegewald_1978', '2_Acutodesmus_Hegewald_1978', '2_Genus_Achnanthidium_Kutzing', '2_Genus_Actinastrum_Lagerheim_1882', '2_Genus_Actinella_Lewis', '2_Genus_Ankyra_Fott_1957', '2_Genus_Caloneis_Cleve', '2_Genus_Chaetoceros_Ehrenberg', '2_Genus_Coenochloris_Korshikov_1953', '2_Genus_Cyclotella', '2_Genus_Diatoma_Bory', '2_Genus_Dimorphococcus_A_Braun_1855', '2_Genus_Golenkinia_Chodat_1894', '2_Genus_Haplotaenium_Bando_1988', '2_Genus_Leibleinia_(Gomont)_L_Hoffman_1985', '2_Genus_Leptolyngbya_Anagnostidis_et_Komarek_1988', '2_Genus_Merismopedia_Meyen_1839', '2_Genus_Netrium_(Nageli)_Itzigsohn_et_Rothe_in_Rabenhorst_1856', '2_Genus_Orthoseira_Thwaites_1848', '2_Genus_Phormidium_Kutzing_ex_Gomont_1892', '2_Genus_Sorastrum_Kutzing_1845', '2_Genus_Staurastrum_Meyen_ex_Ralfs_1848', '3_Desmodesmus_Chodat_1926', '3_Genus_Acanthosphaera_Lemmerman_1899', '3_Genus_Anorthoneis_Grunow', '3_Genus_Cyclostephanos_Round', '3_Genus_Dichotomococcus_Korshikov_1928', '3_Genus_Heteroleibleinia_(Geitler)_L_Hoffmann_1985', '3_Genus_Limnothrix_Meffert_1988', '3_Genus_Meridion_Agardh', '3_Genus_Paradoxia_Svirenko_1928', '3_Genus_Peronia_Bebisson_and_Arnott_ex_Kitton', '3_Genus_Phormidiochaete_Komarek_in_Anagnostidis_2001', '3_Genus_Pinnularia_Ehrenberg_1', '3_Genus_Pleurotaenium_Nageli_1849', '3_Genus_Radiococcus_Schmidle_1902', '3_Genus_Snowella_Elenkin_1938', '3_Genus_Spirotaenia_Brebisson_in_Ralfs_1848', '4_Genus_Botryococcus_Kutzing_1849', '4_Genus_Cocconeis_Ehrenberg', '4_Genus_Eutetramorus_Walton_1918', '4_Genus_Leptolyngbya_Anagnostidis_et_Komarek_1988', '4_Genus_Opephora_Petit', '4_Genus_Pinnularia_Ehrenberg_2', '4_Genus_Schroederia_Lemmermann_1898', '4_Genus_Stephanodiscus_Ehrenberg', '4_Genus_Synechocystis_Sauvageau_1892', '4_Genus_Tortitaenia_A_J_Brook_1998', '5_Genus_Caloneis_Cleve', '5_Genus_Coenocystis_Korshikov_1953', '5_Genus_Planktolyngbya_Anagnostidis_et_Komarek_1988', '5_Genus_Tabellaria_Ehrenberg', '5_Genus_Thalassiosira_Cleve', '5_Genus_Woronichinia_Elenkin_1933', '6_Genus_Anomoeoneis_Pfitzer', '6_Genus_Fragilaria_Lyngbye', '6_Genus_Gloeocystis_Nageli_1849', '6_Genus_Pseudanabaena_Lauterborn_1915', '6_Genus_Skeletonema_Greville', '7_Genus_Caloneis_Cleve', '7_Genus_Hannaea_Patrick', '8_Genus_Diploneis(Ehrenberg)_Cleve', '8_Genus_Pseudostaurosira_Williams_and_Round', '9_Genus_Neidium_Pfitzer', '9_Genus_Punctastriata_Williams_and_Round']\n"
          ]
        }
      ]
    },
    {
      "cell_type": "code",
      "metadata": {
        "id": "o-0DvzEHt8VE"
      },
      "source": [
        "data_generator = ImageDataGenerator(rescale = 1./255)\n",
        "\n",
        "data_dir = \"/content/drive/MyDrive/Colab Notebooks/Final_Project/Cell_Genus\""
      ],
      "execution_count": null,
      "outputs": []
    },
    {
      "cell_type": "code",
      "metadata": {
        "id": "7aTCfEm3t10n"
      },
      "source": [
        "batch_size = 32\n",
        "img_height = 180\n",
        "img_width = 180"
      ],
      "execution_count": null,
      "outputs": []
    },
    {
      "cell_type": "code",
      "metadata": {
        "colab": {
          "base_uri": "https://localhost:8080/"
        },
        "id": "9Smg-miEt22s",
        "outputId": "d016187c-e864-4a96-a568-4efe5ac606de"
      },
      "source": [
        "train_ds = tf.keras.preprocessing.image_dataset_from_directory(\n",
        "  data_dir,\n",
        "  color_mode = \"grayscale\",\n",
        "  validation_split=0.2,\n",
        "  subset=\"training\",\n",
        "  seed=123,\n",
        "  image_size=(img_height, img_width),\n",
        "  batch_size=batch_size)"
      ],
      "execution_count": null,
      "outputs": [
        {
          "output_type": "stream",
          "name": "stdout",
          "text": [
            "Found 6226 files belonging to 107 classes.\n",
            "Using 4981 files for training.\n"
          ]
        }
      ]
    },
    {
      "cell_type": "code",
      "metadata": {
        "colab": {
          "base_uri": "https://localhost:8080/"
        },
        "id": "1nR0WdQGt44x",
        "outputId": "8da2dc63-8194-4dad-dca8-1fe997c2a816"
      },
      "source": [
        "val_ds = tf.keras.preprocessing.image_dataset_from_directory(\n",
        "  data_dir,\n",
        "  color_mode = \"grayscale\",\n",
        "  validation_split=0.2,\n",
        "  subset=\"validation\",\n",
        "  seed=123,\n",
        "  image_size=(img_height, img_width),\n",
        "  batch_size=batch_size)"
      ],
      "execution_count": null,
      "outputs": [
        {
          "output_type": "stream",
          "name": "stdout",
          "text": [
            "Found 6226 files belonging to 107 classes.\n",
            "Using 1245 files for validation.\n"
          ]
        }
      ]
    },
    {
      "cell_type": "code",
      "metadata": {
        "colab": {
          "base_uri": "https://localhost:8080/"
        },
        "id": "F-cz_CtGug8Y",
        "outputId": "7890c639-4e32-4a91-f665-c412e1ad14ec"
      },
      "source": [
        "class_names = train_ds.class_names\n",
        "print(class_names)"
      ],
      "execution_count": null,
      "outputs": [
        {
          "output_type": "stream",
          "name": "stdout",
          "text": [
            "['10_Genus_Stauroneis_Ehrenberg', '10_Genus_Staurosira_Ehrenberg', '11_Genus_Craspedostauros_E.J_Cox_1999', '11_Genus_Staurosirella_Williams_and_Round', '12_Genus_Caloneis_Cleve_1894', '12_Genus_Synedra_Ehrenberg', '13_Genus_Pinnularia_Ehrenberg_1843', '1_Genus_Acanthoceras_Honigmann', '1_Genus_Achnanthes_Bory', '1_Genus_Actinocyclus_Ehrenberg', '1_Genus_Aphanocapsa_Nageli_1849', '1_Genus_Asterionella_Hassall', '1_Genus_Aulacoseira', '1_Genus_Biremis_Mann_et_Cox_in_Round_Crawford_and_Mann', '1_Genus_Characium_A_Braun_in_Kutzing_1849', '1_Genus_Chroococcus_Nageli', '1_Genus_Closterium_Nitzsch_ex_Ralfs_1848', '1_Genus_Coelastrum_Nageli_1849', '1_Genus_Cylindrocystis_Meneghini_ex_de_Bary_1858', '1_Genus_Dictyosphaerium_Nageli_1849', '1_Genus_Docidium_Brebisson_ex_Ralfs_1848', '1_Genus_Eunotia_Ehrenberg', '1_Genus_Geitlerinema_(Anagnostidis_et_Komarek)_Anagnostidis_1989', '1_Genus_Gonatozygon_de_Bary_1856', '1_Genus_Hydrodictyon_Roth_1797', '1_Genus_Hydrosera_whampoensis', '1_Genus_Jaaginema_Anagnostidis_et_Komarek_1988', '1_Genus_Lyngbya_C_Agardh_ex_Gomont_1892', '1_Genus_Melosira_Agardh', '1_Genus_Micractinium_Fresenius_1858', '1_Genus_Micrasterias_Ralfs_1848', '1_Genus_Microcystis_Kutzing_ex_Lemmermann_1907', '1_Genus_Oscillatoria_Vaucher_ex_Gomont_1982', '1_Genus_Pediastrum_Meyen_1829', '1_Genus_Penium_Brebisson_ex_Ralfs_in_Ralfs_1848', '1_Genus_Phormidium_Kutzing_ex_Gomont_1892', '1_Genus_Planktothrix_Anagnostidis_et_Komarek_1988', '1_Genus_Pleurosira_laevis_(Ehrenberg)', '1_Genus_Rhizosolenia_Ehrenberg', '1_Genus_Schizochlamydella_Korshikov_1953', '1_Genus_Staurodesmus_Teiling_1848', '1_Genus_Trochiscia_Kutzing_1834', '1_Scenedesmus_Hegewald_1978', '2_Acutodesmus_Hegewald_1978', '2_Genus_Achnanthidium_Kutzing', '2_Genus_Actinastrum_Lagerheim_1882', '2_Genus_Actinella_Lewis', '2_Genus_Ankyra_Fott_1957', '2_Genus_Caloneis_Cleve', '2_Genus_Chaetoceros_Ehrenberg', '2_Genus_Coenochloris_Korshikov_1953', '2_Genus_Cyclotella', '2_Genus_Diatoma_Bory', '2_Genus_Dimorphococcus_A_Braun_1855', '2_Genus_Golenkinia_Chodat_1894', '2_Genus_Haplotaenium_Bando_1988', '2_Genus_Leibleinia_(Gomont)_L_Hoffman_1985', '2_Genus_Leptolyngbya_Anagnostidis_et_Komarek_1988', '2_Genus_Merismopedia_Meyen_1839', '2_Genus_Netrium_(Nageli)_Itzigsohn_et_Rothe_in_Rabenhorst_1856', '2_Genus_Orthoseira_Thwaites_1848', '2_Genus_Phormidium_Kutzing_ex_Gomont_1892', '2_Genus_Sorastrum_Kutzing_1845', '2_Genus_Staurastrum_Meyen_ex_Ralfs_1848', '3_Desmodesmus_Chodat_1926', '3_Genus_Acanthosphaera_Lemmerman_1899', '3_Genus_Anorthoneis_Grunow', '3_Genus_Cyclostephanos_Round', '3_Genus_Dichotomococcus_Korshikov_1928', '3_Genus_Heteroleibleinia_(Geitler)_L_Hoffmann_1985', '3_Genus_Limnothrix_Meffert_1988', '3_Genus_Meridion_Agardh', '3_Genus_Paradoxia_Svirenko_1928', '3_Genus_Peronia_Bebisson_and_Arnott_ex_Kitton', '3_Genus_Phormidiochaete_Komarek_in_Anagnostidis_2001', '3_Genus_Pinnularia_Ehrenberg_1', '3_Genus_Pleurotaenium_Nageli_1849', '3_Genus_Radiococcus_Schmidle_1902', '3_Genus_Snowella_Elenkin_1938', '3_Genus_Spirotaenia_Brebisson_in_Ralfs_1848', '4_Genus_Botryococcus_Kutzing_1849', '4_Genus_Cocconeis_Ehrenberg', '4_Genus_Eutetramorus_Walton_1918', '4_Genus_Leptolyngbya_Anagnostidis_et_Komarek_1988', '4_Genus_Opephora_Petit', '4_Genus_Pinnularia_Ehrenberg_2', '4_Genus_Schroederia_Lemmermann_1898', '4_Genus_Stephanodiscus_Ehrenberg', '4_Genus_Synechocystis_Sauvageau_1892', '4_Genus_Tortitaenia_A_J_Brook_1998', '5_Genus_Caloneis_Cleve', '5_Genus_Coenocystis_Korshikov_1953', '5_Genus_Planktolyngbya_Anagnostidis_et_Komarek_1988', '5_Genus_Tabellaria_Ehrenberg', '5_Genus_Thalassiosira_Cleve', '5_Genus_Woronichinia_Elenkin_1933', '6_Genus_Anomoeoneis_Pfitzer', '6_Genus_Fragilaria_Lyngbye', '6_Genus_Gloeocystis_Nageli_1849', '6_Genus_Pseudanabaena_Lauterborn_1915', '6_Genus_Skeletonema_Greville', '7_Genus_Caloneis_Cleve', '7_Genus_Hannaea_Patrick', '8_Genus_Diploneis(Ehrenberg)_Cleve', '8_Genus_Pseudostaurosira_Williams_and_Round', '9_Genus_Neidium_Pfitzer', '9_Genus_Punctastriata_Williams_and_Round']\n"
          ]
        }
      ]
    },
    {
      "cell_type": "code",
      "metadata": {
        "colab": {
          "base_uri": "https://localhost:8080/"
        },
        "id": "5EQOikPAukic",
        "outputId": "5e7a4585-ff27-449f-a5a4-bb19109f784e"
      },
      "source": [
        "for image_batch, labels_batch in train_ds:\n",
        "  print(image_batch.shape)\n",
        "  print(labels_batch.shape)\n",
        "  break"
      ],
      "execution_count": null,
      "outputs": [
        {
          "output_type": "stream",
          "name": "stdout",
          "text": [
            "(32, 180, 180, 1)\n",
            "(32,)\n"
          ]
        }
      ]
    },
    {
      "cell_type": "code",
      "metadata": {
        "id": "9eVl7tiDux9q"
      },
      "source": [
        "from tensorflow.keras import layers\n",
        "\n",
        "normalization_layer = tf.keras.layers.experimental.preprocessing.Rescaling(1./255)"
      ],
      "execution_count": null,
      "outputs": []
    },
    {
      "cell_type": "code",
      "metadata": {
        "colab": {
          "base_uri": "https://localhost:8080/"
        },
        "id": "AiIrsxzZuzEo",
        "outputId": "9729417c-2cf1-4613-eeb0-48991ba14a29"
      },
      "source": [
        "normalized_ds = train_ds.map(lambda x, y: (normalization_layer(x), y))\n",
        "image_batch, labels_batch = next(iter(normalized_ds))\n",
        "first_image = image_batch[0]\n",
        "# Notice the pixels values are now in `[0,1]`.\n",
        "print(np.min(first_image), np.max(first_image))"
      ],
      "execution_count": null,
      "outputs": [
        {
          "output_type": "stream",
          "name": "stdout",
          "text": [
            "0.0 1.0\n"
          ]
        }
      ]
    },
    {
      "cell_type": "code",
      "metadata": {
        "id": "__WbVabru0Bp"
      },
      "source": [
        "AUTOTUNE = tf.data.experimental.AUTOTUNE\n",
        "\n",
        "train_ds = train_ds.cache().prefetch(buffer_size=AUTOTUNE)\n",
        "val_ds = val_ds.cache().prefetch(buffer_size=AUTOTUNE)"
      ],
      "execution_count": null,
      "outputs": []
    },
    {
      "cell_type": "code",
      "metadata": {
        "id": "g1GeYFXCu2gV"
      },
      "source": [
        "num_classes = 107\n",
        "model = tf.keras.Sequential([\n",
        "    layers.experimental.preprocessing.Rescaling(1./255),\n",
        "    layers.Conv2D(64, 3,input_shape = image_batch, activation='relu'),\n",
        "    layers.MaxPooling2D(),\n",
        "    layers.Conv2D(64, 3, activation='relu'),\n",
        "    layers.MaxPooling2D(),\n",
        "    layers.Conv2D(64, 3, activation='relu'),\n",
        "    layers.MaxPooling2D(),\n",
        "    layers.Flatten(),\n",
        "    BatchNormalization(),\n",
        "    layers.Dense(128, input_dim = 107, activation='relu'),\n",
        "    BatchNormalization(),\n",
        "    layers.Dense(107, activation='softmax'),\n",
        "    BatchNormalization(),\n",
        "    layers.Dense(num_classes)\n",
        "    ])"
      ],
      "execution_count": null,
      "outputs": []
    },
    {
      "cell_type": "code",
      "metadata": {
        "id": "wU4xPAvNYWry"
      },
      "source": [
        "model.compile(\n",
        "    optimizer='adam',\n",
        "    loss=tf.losses.SparseCategoricalCrossentropy(from_logits=True),\n",
        "    metrics=['accuracy'])"
      ],
      "execution_count": null,
      "outputs": []
    },
    {
      "cell_type": "code",
      "metadata": {
        "colab": {
          "base_uri": "https://localhost:8080/"
        },
        "id": "Tk8ssrbHu44p",
        "outputId": "972a007e-672b-41f8-b71c-960f6b6fa850"
      },
      "source": [
        "epochs=50\n",
        "history = model.fit(\n",
        "  train_ds,\n",
        "  validation_data=val_ds,\n",
        "  epochs=epochs\n",
        ")"
      ],
      "execution_count": null,
      "outputs": [
        {
          "output_type": "stream",
          "name": "stdout",
          "text": [
            "Epoch 1/50\n",
            "156/156 [==============================] - 1362s 9s/step - loss: 3.1477 - accuracy: 0.3272 - val_loss: 4.2283 - val_accuracy: 0.0996\n",
            "Epoch 2/50\n",
            "156/156 [==============================] - 4s 26ms/step - loss: 1.8822 - accuracy: 0.5302 - val_loss: 3.6706 - val_accuracy: 0.2602\n",
            "Epoch 3/50\n",
            "156/156 [==============================] - 4s 26ms/step - loss: 1.1779 - accuracy: 0.7213 - val_loss: 2.7773 - val_accuracy: 0.4008\n",
            "Epoch 4/50\n",
            "156/156 [==============================] - 4s 26ms/step - loss: 0.7204 - accuracy: 0.8498 - val_loss: 2.2496 - val_accuracy: 0.4651\n",
            "Epoch 5/50\n",
            "156/156 [==============================] - 4s 26ms/step - loss: 0.4312 - accuracy: 0.9159 - val_loss: 2.0833 - val_accuracy: 0.5108\n",
            "Epoch 6/50\n",
            "156/156 [==============================] - 4s 26ms/step - loss: 0.2743 - accuracy: 0.9496 - val_loss: 2.0688 - val_accuracy: 0.5173\n",
            "Epoch 7/50\n",
            "156/156 [==============================] - 4s 26ms/step - loss: 0.1775 - accuracy: 0.9705 - val_loss: 2.3108 - val_accuracy: 0.4948\n",
            "Epoch 8/50\n",
            "156/156 [==============================] - 4s 26ms/step - loss: 0.1141 - accuracy: 0.9835 - val_loss: 2.1781 - val_accuracy: 0.5084\n",
            "Epoch 9/50\n",
            "156/156 [==============================] - 4s 26ms/step - loss: 0.0702 - accuracy: 0.9902 - val_loss: 2.0865 - val_accuracy: 0.5333\n",
            "Epoch 10/50\n",
            "156/156 [==============================] - 4s 26ms/step - loss: 0.0486 - accuracy: 0.9942 - val_loss: 2.0531 - val_accuracy: 0.5462\n",
            "Epoch 11/50\n",
            "156/156 [==============================] - 4s 26ms/step - loss: 0.0356 - accuracy: 0.9956 - val_loss: 2.1392 - val_accuracy: 0.5398\n",
            "Epoch 12/50\n",
            "156/156 [==============================] - 4s 26ms/step - loss: 0.0244 - accuracy: 0.9974 - val_loss: 2.1187 - val_accuracy: 0.5494\n",
            "Epoch 13/50\n",
            "156/156 [==============================] - 4s 26ms/step - loss: 0.0162 - accuracy: 0.9988 - val_loss: 2.1036 - val_accuracy: 0.5462\n",
            "Epoch 14/50\n",
            "156/156 [==============================] - 4s 26ms/step - loss: 0.0101 - accuracy: 0.9996 - val_loss: 2.1587 - val_accuracy: 0.5486\n",
            "Epoch 15/50\n",
            "156/156 [==============================] - 4s 26ms/step - loss: 0.0075 - accuracy: 1.0000 - val_loss: 2.1529 - val_accuracy: 0.5518\n",
            "Epoch 16/50\n",
            "156/156 [==============================] - 4s 26ms/step - loss: 0.0055 - accuracy: 1.0000 - val_loss: 2.1904 - val_accuracy: 0.5478\n",
            "Epoch 17/50\n",
            "156/156 [==============================] - 4s 26ms/step - loss: 0.0047 - accuracy: 0.9998 - val_loss: 2.2047 - val_accuracy: 0.5502\n",
            "Epoch 18/50\n",
            "156/156 [==============================] - 4s 26ms/step - loss: 0.0037 - accuracy: 1.0000 - val_loss: 2.2195 - val_accuracy: 0.5494\n",
            "Epoch 19/50\n",
            "156/156 [==============================] - 4s 26ms/step - loss: 0.0031 - accuracy: 1.0000 - val_loss: 2.2225 - val_accuracy: 0.5534\n",
            "Epoch 20/50\n",
            "156/156 [==============================] - 4s 26ms/step - loss: 0.0026 - accuracy: 1.0000 - val_loss: 2.2507 - val_accuracy: 0.5510\n",
            "Epoch 21/50\n",
            "156/156 [==============================] - 4s 26ms/step - loss: 0.0022 - accuracy: 1.0000 - val_loss: 2.2729 - val_accuracy: 0.5518\n",
            "Epoch 22/50\n",
            "156/156 [==============================] - 4s 26ms/step - loss: 0.0019 - accuracy: 1.0000 - val_loss: 2.2937 - val_accuracy: 0.5510\n",
            "Epoch 23/50\n",
            "156/156 [==============================] - 4s 26ms/step - loss: 0.0017 - accuracy: 1.0000 - val_loss: 2.3130 - val_accuracy: 0.5478\n",
            "Epoch 24/50\n",
            "156/156 [==============================] - 4s 26ms/step - loss: 0.0015 - accuracy: 1.0000 - val_loss: 2.3337 - val_accuracy: 0.5494\n",
            "Epoch 25/50\n",
            "156/156 [==============================] - 4s 26ms/step - loss: 0.0013 - accuracy: 1.0000 - val_loss: 2.3532 - val_accuracy: 0.5494\n",
            "Epoch 26/50\n",
            "156/156 [==============================] - 4s 26ms/step - loss: 0.0012 - accuracy: 1.0000 - val_loss: 2.3729 - val_accuracy: 0.5502\n",
            "Epoch 27/50\n",
            "156/156 [==============================] - 4s 26ms/step - loss: 0.0011 - accuracy: 1.0000 - val_loss: 2.3918 - val_accuracy: 0.5486\n",
            "Epoch 28/50\n",
            "156/156 [==============================] - 4s 26ms/step - loss: 9.6541e-04 - accuracy: 1.0000 - val_loss: 2.4111 - val_accuracy: 0.5470\n",
            "Epoch 29/50\n",
            "156/156 [==============================] - 4s 26ms/step - loss: 8.6954e-04 - accuracy: 1.0000 - val_loss: 2.4293 - val_accuracy: 0.5454\n",
            "Epoch 30/50\n",
            "156/156 [==============================] - 4s 26ms/step - loss: 7.8461e-04 - accuracy: 1.0000 - val_loss: 2.4479 - val_accuracy: 0.5446\n",
            "Epoch 31/50\n",
            "156/156 [==============================] - 4s 26ms/step - loss: 7.0901e-04 - accuracy: 1.0000 - val_loss: 2.4661 - val_accuracy: 0.5446\n",
            "Epoch 32/50\n",
            "156/156 [==============================] - 4s 26ms/step - loss: 6.4155e-04 - accuracy: 1.0000 - val_loss: 2.4842 - val_accuracy: 0.5446\n",
            "Epoch 33/50\n",
            "156/156 [==============================] - 4s 26ms/step - loss: 5.8105e-04 - accuracy: 1.0000 - val_loss: 2.5022 - val_accuracy: 0.5454\n",
            "Epoch 34/50\n",
            "156/156 [==============================] - 4s 26ms/step - loss: 5.2677e-04 - accuracy: 1.0000 - val_loss: 2.5206 - val_accuracy: 0.5446\n",
            "Epoch 35/50\n",
            "156/156 [==============================] - 4s 26ms/step - loss: 4.7781e-04 - accuracy: 1.0000 - val_loss: 2.5378 - val_accuracy: 0.5438\n",
            "Epoch 36/50\n",
            "156/156 [==============================] - 4s 26ms/step - loss: 4.3386e-04 - accuracy: 1.0000 - val_loss: 2.5566 - val_accuracy: 0.5430\n",
            "Epoch 37/50\n",
            "156/156 [==============================] - 4s 26ms/step - loss: 3.9418e-04 - accuracy: 1.0000 - val_loss: 2.5727 - val_accuracy: 0.5414\n",
            "Epoch 38/50\n",
            "156/156 [==============================] - 4s 26ms/step - loss: 3.6007e-04 - accuracy: 1.0000 - val_loss: 2.5955 - val_accuracy: 0.5422\n",
            "Epoch 39/50\n",
            "156/156 [==============================] - 4s 27ms/step - loss: 3.8405e-04 - accuracy: 1.0000 - val_loss: 2.8251 - val_accuracy: 0.5237\n",
            "Epoch 40/50\n",
            "156/156 [==============================] - 4s 26ms/step - loss: 0.5187 - accuracy: 0.8585 - val_loss: 8.4023 - val_accuracy: 0.1984\n",
            "Epoch 41/50\n",
            "156/156 [==============================] - 4s 26ms/step - loss: 0.5827 - accuracy: 0.8285 - val_loss: 3.0874 - val_accuracy: 0.4908\n",
            "Epoch 42/50\n",
            "156/156 [==============================] - 4s 26ms/step - loss: 0.1198 - accuracy: 0.9701 - val_loss: 2.5557 - val_accuracy: 0.5157\n",
            "Epoch 43/50\n",
            "156/156 [==============================] - 4s 26ms/step - loss: 0.0296 - accuracy: 0.9962 - val_loss: 2.4029 - val_accuracy: 0.5414\n",
            "Epoch 44/50\n",
            "156/156 [==============================] - 4s 26ms/step - loss: 0.0113 - accuracy: 0.9992 - val_loss: 2.3861 - val_accuracy: 0.5446\n",
            "Epoch 45/50\n",
            "156/156 [==============================] - 4s 26ms/step - loss: 0.0068 - accuracy: 1.0000 - val_loss: 2.4081 - val_accuracy: 0.5422\n",
            "Epoch 46/50\n",
            "156/156 [==============================] - 4s 26ms/step - loss: 0.0050 - accuracy: 1.0000 - val_loss: 2.4350 - val_accuracy: 0.5406\n",
            "Epoch 47/50\n",
            "156/156 [==============================] - 4s 26ms/step - loss: 0.0040 - accuracy: 1.0000 - val_loss: 2.4582 - val_accuracy: 0.5406\n",
            "Epoch 48/50\n",
            "156/156 [==============================] - 4s 26ms/step - loss: 0.0033 - accuracy: 1.0000 - val_loss: 2.4799 - val_accuracy: 0.5414\n",
            "Epoch 49/50\n",
            "156/156 [==============================] - 4s 26ms/step - loss: 0.0028 - accuracy: 1.0000 - val_loss: 2.5011 - val_accuracy: 0.5406\n",
            "Epoch 50/50\n",
            "156/156 [==============================] - 4s 26ms/step - loss: 0.0024 - accuracy: 1.0000 - val_loss: 2.5212 - val_accuracy: 0.5406\n"
          ]
        }
      ]
    },
    {
      "cell_type": "code",
      "metadata": {
        "colab": {
          "base_uri": "https://localhost:8080/",
          "height": 499
        },
        "id": "f1z_vHocu59c",
        "outputId": "d67d4ad9-947e-4838-b331-7529420fe5cc"
      },
      "source": [
        "acc = history.history['accuracy']\n",
        "val_acc = history.history['val_accuracy']\n",
        "\n",
        "loss=history.history['loss']\n",
        "val_loss=history.history['val_loss']\n",
        "\n",
        "epochs_range = range(epochs)\n",
        "\n",
        "plt.figure(figsize=(8, 8))\n",
        "plt.subplot(1, 2, 1)\n",
        "plt.plot(epochs_range, acc, label='Training Accuracy')\n",
        "plt.plot(epochs_range, val_acc, label='Validation Accuracy')\n",
        "plt.legend(loc='lower right')\n",
        "plt.title('Training and Validation Accuracy')\n",
        "\n",
        "plt.subplot(1, 2, 2)\n",
        "plt.plot(epochs_range, loss, label='Training Loss')\n",
        "plt.plot(epochs_range, val_loss, label='Validation Loss')\n",
        "plt.legend(loc='upper right')\n",
        "plt.title('Training and Validation Loss')\n",
        "plt.show()"
      ],
      "execution_count": null,
      "outputs": [
        {
          "output_type": "display_data",
          "data": {
            "image/png": "[encoded data removed]",
            "text/plain": [
              "<Figure size 576x576 with 2 Axes>"
            ]
          },
          "metadata": {
            "needs_background": "light"
          }
        }
      ]
    },
    {
      "cell_type": "code",
      "metadata": {
        "id": "XinJ6xXD9YNO"
      },
      "source": [
        "data_augmentation = keras.Sequential(\n",
        "  [\n",
        "    layers.experimental.preprocessing.RandomFlip(\"horizontal\", \n",
        "                                                 input_shape=(img_height, \n",
        "                                                              img_width,\n",
        "                                                              1)),\n",
        "    layers.experimental.preprocessing.RandomRotation(0.1),\n",
        "    layers.experimental.preprocessing.RandomZoom(0.1),\n",
        "  ]\n",
        ")"
      ],
      "execution_count": null,
      "outputs": []
    },
    {
      "cell_type": "code",
      "metadata": {
        "id": "8WT2BYElEYZj"
      },
      "source": [
        "model = Sequential([\n",
        "  data_augmentation,\n",
        "  layers.experimental.preprocessing.Rescaling(1./255),\n",
        "  layers.Conv2D(64, 3,input_shape = image_batch, activation='relu'),\n",
        "  layers.MaxPooling2D(),\n",
        "  layers.Conv2D(64, 3, padding='same', activation='relu'),\n",
        "  layers.MaxPooling2D(),\n",
        "  layers.Conv2D(64, 3, padding='same', activation='relu'),\n",
        "  layers.MaxPooling2D(),\n",
        "  layers.Dropout(0.2),\n",
        "  layers.Flatten(),\n",
        "  layers.Dense(128, input_dim = 107, activation='relu'),\n",
        "  BatchNormalization(),\n",
        "  layers.Dense(107, activation='softmax'),\n",
        "  BatchNormalization(),\n",
        "  layers.Dense(num_classes)\n",
        "])"
      ],
      "execution_count": null,
      "outputs": []
    },
    {
      "cell_type": "code",
      "metadata": {
        "id": "opOHP3auEdsw",
        "colab": {
          "base_uri": "https://localhost:8080/"
        },
        "outputId": "13f7ba57-2892-40ca-c029-173ed911c52e"
      },
      "source": [
        "BatchNormalization(),model.compile(\n",
        "    optimizer='adam',\n",
        "    loss=tf.losses.SparseCategoricalCrossentropy(from_logits=True),\n",
        "    metrics=['accuracy'])"
      ],
      "execution_count": null,
      "outputs": [
        {
          "output_type": "execute_result",
          "data": {
            "text/plain": [
              "(<keras.layers.normalization.batch_normalization.BatchNormalization at 0x7f8e004f5550>,\n",
              " None)"
            ]
          },
          "metadata": {},
          "execution_count": 19
        }
      ]
    },
    {
      "cell_type": "code",
      "metadata": {
        "colab": {
          "base_uri": "https://localhost:8080/"
        },
        "id": "3Ay4tlHlEfBX",
        "outputId": "7720d2d4-f31d-4b68-d26e-19936066f18c"
      },
      "source": [
        "model.summary()"
      ],
      "execution_count": null,
      "outputs": [
        {
          "output_type": "stream",
          "name": "stdout",
          "text": [
            "Model: \"sequential_2\"\n",
            "_________________________________________________________________\n",
            " Layer (type)                Output Shape              Param #   \n",
            "=================================================================\n",
            " sequential_1 (Sequential)   (None, 180, 180, 1)       0         \n",
            "                                                                 \n",
            " rescaling_2 (Rescaling)     (None, 180, 180, 1)       0         \n",
            "                                                                 \n",
            " conv2d_3 (Conv2D)           (None, 178, 178, 64)      640       \n",
            "                                                                 \n",
            " max_pooling2d_3 (MaxPooling  (None, 89, 89, 64)       0         \n",
            " 2D)                                                             \n",
            "                                                                 \n",
            " conv2d_4 (Conv2D)           (None, 89, 89, 64)        36928     \n",
            "                                                                 \n",
            " max_pooling2d_4 (MaxPooling  (None, 44, 44, 64)       0         \n",
            " 2D)                                                             \n",
            "                                                                 \n",
            " conv2d_5 (Conv2D)           (None, 44, 44, 64)        36928     \n",
            "                                                                 \n",
            " max_pooling2d_5 (MaxPooling  (None, 22, 22, 64)       0         \n",
            " 2D)                                                             \n",
            "                                                                 \n",
            " dropout (Dropout)           (None, 22, 22, 64)        0         \n",
            "                                                                 \n",
            " flatten_1 (Flatten)         (None, 30976)             0         \n",
            "                                                                 \n",
            " dense_3 (Dense)             (None, 128)               3965056   \n",
            "                                                                 \n",
            " batch_normalization_3 (Batc  (None, 128)              512       \n",
            " hNormalization)                                                 \n",
            "                                                                 \n",
            " dense_4 (Dense)             (None, 107)               13803     \n",
            "                                                                 \n",
            " batch_normalization_4 (Batc  (None, 107)              428       \n",
            " hNormalization)                                                 \n",
            "                                                                 \n",
            " dense_5 (Dense)             (None, 107)               11556     \n",
            "                                                                 \n",
            "=================================================================\n",
            "Total params: 4,065,851\n",
            "Trainable params: 4,065,381\n",
            "Non-trainable params: 470\n",
            "_________________________________________________________________\n"
          ]
        }
      ]
    },
    {
      "cell_type": "code",
      "metadata": {
        "colab": {
          "base_uri": "https://localhost:8080/"
        },
        "id": "Jc8rD_v9Ef41",
        "outputId": "108da351-23ec-4f2c-fe8b-3de4442fe96b"
      },
      "source": [
        "epochs = 50\n",
        "history = model.fit(\n",
        "  train_ds,\n",
        "  validation_data=val_ds,\n",
        "  epochs=epochs\n",
        ")"
      ],
      "execution_count": null,
      "outputs": [
        {
          "output_type": "stream",
          "name": "stdout",
          "text": [
            "Epoch 1/50\n",
            "156/156 [==============================] - 6s 31ms/step - loss: 3.4725 - accuracy: 0.2479 - val_loss: 4.1446 - val_accuracy: 0.1751\n",
            "Epoch 2/50\n",
            "156/156 [==============================] - 4s 29ms/step - loss: 2.4795 - accuracy: 0.3596 - val_loss: 3.5825 - val_accuracy: 0.2683\n",
            "Epoch 3/50\n",
            "156/156 [==============================] - 4s 29ms/step - loss: 2.1476 - accuracy: 0.4134 - val_loss: 3.0821 - val_accuracy: 0.2956\n",
            "Epoch 4/50\n",
            "156/156 [==============================] - 4s 29ms/step - loss: 1.9390 - accuracy: 0.4567 - val_loss: 2.5798 - val_accuracy: 0.3679\n",
            "Epoch 5/50\n",
            "156/156 [==============================] - 4s 29ms/step - loss: 1.7873 - accuracy: 0.4871 - val_loss: 2.8372 - val_accuracy: 0.3550\n",
            "Epoch 6/50\n",
            "156/156 [==============================] - 4s 29ms/step - loss: 1.6677 - accuracy: 0.5136 - val_loss: 2.3172 - val_accuracy: 0.4153\n",
            "Epoch 7/50\n",
            "156/156 [==============================] - 4s 28ms/step - loss: 1.5665 - accuracy: 0.5386 - val_loss: 2.3692 - val_accuracy: 0.4225\n",
            "Epoch 8/50\n",
            "156/156 [==============================] - 4s 29ms/step - loss: 1.4875 - accuracy: 0.5553 - val_loss: 2.3756 - val_accuracy: 0.4402\n",
            "Epoch 9/50\n",
            "156/156 [==============================] - 4s 29ms/step - loss: 1.3910 - accuracy: 0.5860 - val_loss: 3.0118 - val_accuracy: 0.3502\n",
            "Epoch 10/50\n",
            "156/156 [==============================] - 4s 28ms/step - loss: 1.3264 - accuracy: 0.5890 - val_loss: 2.6574 - val_accuracy: 0.4209\n",
            "Epoch 11/50\n",
            "156/156 [==============================] - 4s 28ms/step - loss: 1.2666 - accuracy: 0.6053 - val_loss: 2.3658 - val_accuracy: 0.4337\n",
            "Epoch 12/50\n",
            "156/156 [==============================] - 4s 29ms/step - loss: 1.1847 - accuracy: 0.6282 - val_loss: 2.2980 - val_accuracy: 0.4570\n",
            "Epoch 13/50\n",
            "156/156 [==============================] - 4s 28ms/step - loss: 1.1220 - accuracy: 0.6559 - val_loss: 2.3612 - val_accuracy: 0.4426\n",
            "Epoch 14/50\n",
            "156/156 [==============================] - 4s 28ms/step - loss: 1.0781 - accuracy: 0.6617 - val_loss: 2.5473 - val_accuracy: 0.4056\n",
            "Epoch 15/50\n",
            "156/156 [==============================] - 4s 29ms/step - loss: 1.0615 - accuracy: 0.6613 - val_loss: 2.3008 - val_accuracy: 0.4546\n",
            "Epoch 16/50\n",
            "156/156 [==============================] - 4s 29ms/step - loss: 1.0013 - accuracy: 0.6816 - val_loss: 2.2450 - val_accuracy: 0.4699\n",
            "Epoch 17/50\n",
            "156/156 [==============================] - 4s 29ms/step - loss: 0.9609 - accuracy: 0.6975 - val_loss: 2.1020 - val_accuracy: 0.5157\n",
            "Epoch 18/50\n",
            "156/156 [==============================] - 4s 29ms/step - loss: 0.9053 - accuracy: 0.7125 - val_loss: 2.2790 - val_accuracy: 0.4867\n",
            "Epoch 19/50\n",
            "156/156 [==============================] - 4s 29ms/step - loss: 0.8664 - accuracy: 0.7296 - val_loss: 2.3247 - val_accuracy: 0.4867\n",
            "Epoch 20/50\n",
            "156/156 [==============================] - 4s 29ms/step - loss: 0.8616 - accuracy: 0.7268 - val_loss: 2.2719 - val_accuracy: 0.4843\n",
            "Epoch 21/50\n",
            "156/156 [==============================] - 4s 29ms/step - loss: 0.8237 - accuracy: 0.7384 - val_loss: 2.2674 - val_accuracy: 0.4763\n",
            "Epoch 22/50\n",
            "156/156 [==============================] - 4s 29ms/step - loss: 0.7819 - accuracy: 0.7585 - val_loss: 2.1629 - val_accuracy: 0.5133\n",
            "Epoch 23/50\n",
            "156/156 [==============================] - 4s 29ms/step - loss: 0.7399 - accuracy: 0.7639 - val_loss: 2.1375 - val_accuracy: 0.5092\n",
            "Epoch 24/50\n",
            "156/156 [==============================] - 4s 29ms/step - loss: 0.7218 - accuracy: 0.7691 - val_loss: 2.1392 - val_accuracy: 0.5092\n",
            "Epoch 25/50\n",
            "156/156 [==============================] - 4s 28ms/step - loss: 0.6981 - accuracy: 0.7729 - val_loss: 2.0056 - val_accuracy: 0.5639\n",
            "Epoch 26/50\n",
            "156/156 [==============================] - 4s 28ms/step - loss: 0.6609 - accuracy: 0.7862 - val_loss: 2.2440 - val_accuracy: 0.5333\n",
            "Epoch 27/50\n",
            "156/156 [==============================] - 4s 29ms/step - loss: 0.6417 - accuracy: 0.7904 - val_loss: 2.4769 - val_accuracy: 0.4948\n",
            "Epoch 28/50\n",
            "156/156 [==============================] - 4s 28ms/step - loss: 0.6069 - accuracy: 0.8039 - val_loss: 2.1265 - val_accuracy: 0.5414\n",
            "Epoch 29/50\n",
            "156/156 [==============================] - 4s 29ms/step - loss: 0.5893 - accuracy: 0.8077 - val_loss: 2.3904 - val_accuracy: 0.5116\n",
            "Epoch 30/50\n",
            "156/156 [==============================] - 4s 28ms/step - loss: 0.5706 - accuracy: 0.8205 - val_loss: 2.1918 - val_accuracy: 0.5341\n",
            "Epoch 31/50\n",
            "156/156 [==============================] - 4s 29ms/step - loss: 0.5481 - accuracy: 0.8247 - val_loss: 2.1960 - val_accuracy: 0.5526\n",
            "Epoch 32/50\n",
            "156/156 [==============================] - 4s 29ms/step - loss: 0.5417 - accuracy: 0.8320 - val_loss: 2.1939 - val_accuracy: 0.5414\n",
            "Epoch 33/50\n",
            "156/156 [==============================] - 4s 28ms/step - loss: 0.5178 - accuracy: 0.8304 - val_loss: 2.2979 - val_accuracy: 0.5406\n",
            "Epoch 34/50\n",
            "156/156 [==============================] - 4s 28ms/step - loss: 0.5193 - accuracy: 0.8338 - val_loss: 2.2768 - val_accuracy: 0.5494\n",
            "Epoch 35/50\n",
            "156/156 [==============================] - 4s 28ms/step - loss: 0.4820 - accuracy: 0.8402 - val_loss: 2.4589 - val_accuracy: 0.5414\n",
            "Epoch 36/50\n",
            "156/156 [==============================] - 4s 29ms/step - loss: 0.4786 - accuracy: 0.8454 - val_loss: 2.3505 - val_accuracy: 0.5550\n",
            "Epoch 37/50\n",
            "156/156 [==============================] - 4s 29ms/step - loss: 0.4811 - accuracy: 0.8402 - val_loss: 2.2448 - val_accuracy: 0.5590\n",
            "Epoch 38/50\n",
            "156/156 [==============================] - 5s 31ms/step - loss: 0.4415 - accuracy: 0.8542 - val_loss: 2.5357 - val_accuracy: 0.5181\n",
            "Epoch 39/50\n",
            "156/156 [==============================] - 4s 29ms/step - loss: 0.4393 - accuracy: 0.8629 - val_loss: 2.4275 - val_accuracy: 0.5478\n",
            "Epoch 40/50\n",
            "156/156 [==============================] - 4s 29ms/step - loss: 0.4336 - accuracy: 0.8593 - val_loss: 2.5990 - val_accuracy: 0.5173\n",
            "Epoch 41/50\n",
            "156/156 [==============================] - 4s 29ms/step - loss: 0.4206 - accuracy: 0.8601 - val_loss: 2.3373 - val_accuracy: 0.5655\n",
            "Epoch 42/50\n",
            "156/156 [==============================] - 4s 29ms/step - loss: 0.4008 - accuracy: 0.8727 - val_loss: 2.4545 - val_accuracy: 0.5695\n",
            "Epoch 43/50\n",
            "156/156 [==============================] - 4s 29ms/step - loss: 0.3901 - accuracy: 0.8727 - val_loss: 2.4334 - val_accuracy: 0.5687\n",
            "Epoch 44/50\n",
            "156/156 [==============================] - 4s 29ms/step - loss: 0.3713 - accuracy: 0.8828 - val_loss: 2.5670 - val_accuracy: 0.5438\n",
            "Epoch 45/50\n",
            "156/156 [==============================] - 4s 29ms/step - loss: 0.3760 - accuracy: 0.8836 - val_loss: 2.5911 - val_accuracy: 0.5373\n",
            "Epoch 46/50\n",
            "156/156 [==============================] - 5s 29ms/step - loss: 0.3460 - accuracy: 0.8910 - val_loss: 2.3189 - val_accuracy: 0.5606\n",
            "Epoch 47/50\n",
            "156/156 [==============================] - 4s 29ms/step - loss: 0.3665 - accuracy: 0.8840 - val_loss: 2.6145 - val_accuracy: 0.5398\n",
            "Epoch 48/50\n",
            "156/156 [==============================] - 4s 29ms/step - loss: 0.3416 - accuracy: 0.8860 - val_loss: 2.4797 - val_accuracy: 0.5574\n",
            "Epoch 49/50\n",
            "156/156 [==============================] - 4s 29ms/step - loss: 0.3188 - accuracy: 0.9008 - val_loss: 2.5246 - val_accuracy: 0.5606\n",
            "Epoch 50/50\n",
            "156/156 [==============================] - 4s 29ms/step - loss: 0.3206 - accuracy: 0.8932 - val_loss: 2.9088 - val_accuracy: 0.5181\n"
          ]
        }
      ]
    },
    {
      "cell_type": "code",
      "metadata": {
        "colab": {
          "base_uri": "https://localhost:8080/",
          "height": 499
        },
        "id": "ynhS2KjVEhj8",
        "outputId": "4678f84d-f8c2-4fe8-fe1d-9abd5c16b8e1"
      },
      "source": [
        "acc = history.history['accuracy']\n",
        "val_acc = history.history['val_accuracy']\n",
        "\n",
        "loss = history.history['loss']\n",
        "val_loss = history.history['val_loss']\n",
        "\n",
        "epochs_range = range(epochs)\n",
        "\n",
        "plt.figure(figsize=(8, 8))\n",
        "plt.subplot(1, 2, 1)\n",
        "plt.plot(epochs_range, acc, label='Training Accuracy')\n",
        "plt.plot(epochs_range, val_acc, label='Validation Accuracy')\n",
        "plt.legend(loc='lower right')\n",
        "plt.title('Training and Validation Accuracy')\n",
        "\n",
        "plt.subplot(1, 2, 2)\n",
        "plt.plot(epochs_range, loss, label='Training Loss')\n",
        "plt.plot(epochs_range, val_loss, label='Validation Loss')\n",
        "plt.legend(loc='upper right')\n",
        "plt.title('Training and Validation Loss')\n",
        "plt.show()"
      ],
      "execution_count": null,
      "outputs": [
        {
          "output_type": "display_data",
          "data": {
            "image/png": "[encoded data removed]",
            "text/plain": [
              "<Figure size 576x576 with 2 Axes>"
            ]
          },
          "metadata": {
            "needs_background": "light"
          }
        }
      ]
    },
    {
      "cell_type": "code",
      "metadata": {
        "colab": {
          "base_uri": "https://localhost:8080/"
        },
        "id": "IbEQMrsAH2yZ",
        "outputId": "3f71c871-9fb8-417f-e098-e1d104584ce4"
      },
      "source": [
        "model.compile(\n",
        "    optimizer='adam',\n",
        "    loss=tf.losses.SparseCategoricalCrossentropy(from_logits=True),\n",
        "    metrics=['accuracy'])\n",
        "model.summary()"
      ],
      "execution_count": null,
      "outputs": [
        {
          "output_type": "stream",
          "name": "stdout",
          "text": [
            "Model: \"sequential_2\"\n",
            "_________________________________________________________________\n",
            " Layer (type)                Output Shape              Param #   \n",
            "=================================================================\n",
            " sequential_1 (Sequential)   (None, 180, 180, 1)       0         \n",
            "                                                                 \n",
            " rescaling_2 (Rescaling)     (None, 180, 180, 1)       0         \n",
            "                                                                 \n",
            " conv2d_3 (Conv2D)           (None, 178, 178, 64)      640       \n",
            "                                                                 \n",
            " max_pooling2d_3 (MaxPooling  (None, 89, 89, 64)       0         \n",
            " 2D)                                                             \n",
            "                                                                 \n",
            " conv2d_4 (Conv2D)           (None, 89, 89, 64)        36928     \n",
            "                                                                 \n",
            " max_pooling2d_4 (MaxPooling  (None, 44, 44, 64)       0         \n",
            " 2D)                                                             \n",
            "                                                                 \n",
            " conv2d_5 (Conv2D)           (None, 44, 44, 64)        36928     \n",
            "                                                                 \n",
            " max_pooling2d_5 (MaxPooling  (None, 22, 22, 64)       0         \n",
            " 2D)                                                             \n",
            "                                                                 \n",
            " dropout (Dropout)           (None, 22, 22, 64)        0         \n",
            "                                                                 \n",
            " flatten_1 (Flatten)         (None, 30976)             0         \n",
            "                                                                 \n",
            " dense_3 (Dense)             (None, 128)               3965056   \n",
            "                                                                 \n",
            " batch_normalization_3 (Batc  (None, 128)              512       \n",
            " hNormalization)                                                 \n",
            "                                                                 \n",
            " dense_4 (Dense)             (None, 107)               13803     \n",
            "                                                                 \n",
            " batch_normalization_4 (Batc  (None, 107)              428       \n",
            " hNormalization)                                                 \n",
            "                                                                 \n",
            " dense_5 (Dense)             (None, 107)               11556     \n",
            "                                                                 \n",
            "=================================================================\n",
            "Total params: 4,065,851\n",
            "Trainable params: 4,065,381\n",
            "Non-trainable params: 470\n",
            "_________________________________________________________________\n"
          ]
        }
      ]
    },
    {
      "cell_type": "code",
      "metadata": {
        "id": "df30HUqFjWre"
      },
      "source": [
        ""
      ],
      "execution_count": null,
      "outputs": []
    }
  ]
}