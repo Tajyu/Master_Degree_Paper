{
  "nbformat": 4,
  "nbformat_minor": 0,
  "metadata": {
    "colab": {
      "name": "3Class_Genus_BatchNormal_Input_dim_64_Layer_9.ipynb",
      "provenance": [],
      "collapsed_sections": [],
      "mount_file_id": "1RBmmJiWAUYpR_evpSmLRae1loe8-mYcc",
      "authorship_tag": "ABX9TyPiqojHzi7z018diAjxMsjN",
      "include_colab_link": true
    },
    "kernelspec": {
      "name": "python3",
      "display_name": "Python 3"
    },
    "language_info": {
      "name": "python"
    },
    "accelerator": "GPU"
  },
  "cells": [
    {
      "cell_type": "markdown",
      "metadata": {
        "id": "view-in-github",
        "colab_type": "text"
      },
      "source": [
        "<a href=\"https://colab.research.google.com/github/Tajyu/Master_Degree_Paper/blob/main/Code/Filter_64/Input_dim/3Class_Genus_BatchNormal_Input_dim_64_Layer_9.ipynb\" target=\"_parent\"><img src=\"https://colab.research.google.com/assets/colab-badge.svg\" alt=\"Open In Colab\"/></a>"
      ]
    },
    {
      "cell_type": "code",
      "metadata": {
        "id": "yWckd06_68Em"
      },
      "source": [
        "import tensorflow as tf\n",
        "from tensorflow.keras import datasets, layers, models\n",
        "from keras.preprocessing.image import ImageDataGenerator\n",
        "import numpy as np\n",
        "import matplotlib.pyplot as plt\n",
        "import cv2 as cv\n",
        "import os\n",
        "import pathlib\n",
        "import PIL\n",
        "from tensorflow import keras\n",
        "from tensorflow.keras import layers\n",
        "from tensorflow.keras.models import Sequential\n",
        "from tensorflow.keras.layers import Dense, Flatten, BatchNormalization, Dropout"
      ],
      "execution_count": null,
      "outputs": []
    },
    {
      "cell_type": "code",
      "metadata": {
        "id": "xav9zirHttk_"
      },
      "source": [
        "image_list = os.listdir('/content/drive/MyDrive/Colab Notebooks/Final_Project/Cell_Genus')"
      ],
      "execution_count": null,
      "outputs": []
    },
    {
      "cell_type": "code",
      "metadata": {
        "colab": {
          "base_uri": "https://localhost:8080/"
        },
        "id": "K-wD0dM5tx_E",
        "outputId": "77c418bd-b604-4ebc-aed9-9ad3f61ae4f2"
      },
      "source": [
        "print(image_list)"
      ],
      "execution_count": null,
      "outputs": [
        {
          "output_type": "stream",
          "name": "stdout",
          "text": [
            "['10_Genus_Stauroneis_Ehrenberg', '10_Genus_Staurosira_Ehrenberg', '11_Genus_Craspedostauros_E.J_Cox_1999', '11_Genus_Staurosirella_Williams_and_Round', '12_Genus_Caloneis_Cleve_1894', '12_Genus_Synedra_Ehrenberg', '13_Genus_Pinnularia_Ehrenberg_1843', '1_Genus_Acanthoceras_Honigmann', '1_Genus_Achnanthes_Bory', '1_Genus_Actinocyclus_Ehrenberg', '1_Genus_Aphanocapsa_Nageli_1849', '1_Genus_Asterionella_Hassall', '1_Genus_Aulacoseira', '1_Genus_Biremis_Mann_et_Cox_in_Round_Crawford_and_Mann', '1_Genus_Characium_A_Braun_in_Kutzing_1849', '1_Genus_Chroococcus_Nageli', '1_Genus_Closterium_Nitzsch_ex_Ralfs_1848', '1_Genus_Coelastrum_Nageli_1849', '1_Genus_Cylindrocystis_Meneghini_ex_de_Bary_1858', '1_Genus_Dictyosphaerium_Nageli_1849', '1_Genus_Docidium_Brebisson_ex_Ralfs_1848', '1_Genus_Eunotia_Ehrenberg', '1_Genus_Geitlerinema_(Anagnostidis_et_Komarek)_Anagnostidis_1989', '1_Genus_Gonatozygon_de_Bary_1856', '1_Genus_Hydrodictyon_Roth_1797', '1_Genus_Hydrosera_whampoensis', '1_Genus_Jaaginema_Anagnostidis_et_Komarek_1988', '1_Genus_Lyngbya_C_Agardh_ex_Gomont_1892', '1_Genus_Melosira_Agardh', '1_Genus_Micractinium_Fresenius_1858', '1_Genus_Micrasterias_Ralfs_1848', '1_Genus_Microcystis_Kutzing_ex_Lemmermann_1907', '1_Genus_Oscillatoria_Vaucher_ex_Gomont_1982', '1_Genus_Pediastrum_Meyen_1829', '1_Genus_Penium_Brebisson_ex_Ralfs_in_Ralfs_1848', '1_Genus_Phormidium_Kutzing_ex_Gomont_1892', '1_Genus_Planktothrix_Anagnostidis_et_Komarek_1988', '1_Genus_Pleurosira_laevis_(Ehrenberg)', '1_Genus_Rhizosolenia_Ehrenberg', '1_Genus_Schizochlamydella_Korshikov_1953', '1_Genus_Staurodesmus_Teiling_1848', '1_Genus_Trochiscia_Kutzing_1834', '1_Scenedesmus_Hegewald_1978', '2_Acutodesmus_Hegewald_1978', '2_Genus_Achnanthidium_Kutzing', '2_Genus_Actinastrum_Lagerheim_1882', '2_Genus_Actinella_Lewis', '2_Genus_Ankyra_Fott_1957', '2_Genus_Caloneis_Cleve', '2_Genus_Chaetoceros_Ehrenberg', '2_Genus_Coenochloris_Korshikov_1953', '2_Genus_Cyclotella', '2_Genus_Diatoma_Bory', '2_Genus_Dimorphococcus_A_Braun_1855', '2_Genus_Golenkinia_Chodat_1894', '2_Genus_Haplotaenium_Bando_1988', '2_Genus_Leibleinia_(Gomont)_L_Hoffman_1985', '2_Genus_Leptolyngbya_Anagnostidis_et_Komarek_1988', '2_Genus_Merismopedia_Meyen_1839', '2_Genus_Netrium_(Nageli)_Itzigsohn_et_Rothe_in_Rabenhorst_1856', '2_Genus_Orthoseira_Thwaites_1848', '2_Genus_Phormidium_Kutzing_ex_Gomont_1892', '2_Genus_Sorastrum_Kutzing_1845', '2_Genus_Staurastrum_Meyen_ex_Ralfs_1848', '3_Desmodesmus_Chodat_1926', '3_Genus_Acanthosphaera_Lemmerman_1899', '3_Genus_Anorthoneis_Grunow', '3_Genus_Cyclostephanos_Round', '3_Genus_Dichotomococcus_Korshikov_1928', '3_Genus_Heteroleibleinia_(Geitler)_L_Hoffmann_1985', '3_Genus_Limnothrix_Meffert_1988', '3_Genus_Meridion_Agardh', '3_Genus_Paradoxia_Svirenko_1928', '3_Genus_Peronia_Bebisson_and_Arnott_ex_Kitton', '3_Genus_Phormidiochaete_Komarek_in_Anagnostidis_2001', '3_Genus_Pinnularia_Ehrenberg_1', '3_Genus_Pleurotaenium_Nageli_1849', '3_Genus_Radiococcus_Schmidle_1902', '3_Genus_Snowella_Elenkin_1938', '3_Genus_Spirotaenia_Brebisson_in_Ralfs_1848', '4_Genus_Botryococcus_Kutzing_1849', '4_Genus_Cocconeis_Ehrenberg', '4_Genus_Eutetramorus_Walton_1918', '4_Genus_Leptolyngbya_Anagnostidis_et_Komarek_1988', '4_Genus_Opephora_Petit', '4_Genus_Pinnularia_Ehrenberg_2', '4_Genus_Schroederia_Lemmermann_1898', '4_Genus_Stephanodiscus_Ehrenberg', '4_Genus_Synechocystis_Sauvageau_1892', '4_Genus_Tortitaenia_A_J_Brook_1998', '5_Genus_Caloneis_Cleve', '5_Genus_Coenocystis_Korshikov_1953', '5_Genus_Planktolyngbya_Anagnostidis_et_Komarek_1988', '5_Genus_Tabellaria_Ehrenberg', '5_Genus_Thalassiosira_Cleve', '5_Genus_Woronichinia_Elenkin_1933', '6_Genus_Anomoeoneis_Pfitzer', '6_Genus_Fragilaria_Lyngbye', '6_Genus_Gloeocystis_Nageli_1849', '6_Genus_Pseudanabaena_Lauterborn_1915', '6_Genus_Skeletonema_Greville', '7_Genus_Caloneis_Cleve', '7_Genus_Hannaea_Patrick', '8_Genus_Diploneis(Ehrenberg)_Cleve', '8_Genus_Pseudostaurosira_Williams_and_Round', '9_Genus_Neidium_Pfitzer', '9_Genus_Punctastriata_Williams_and_Round']\n"
          ]
        }
      ]
    },
    {
      "cell_type": "code",
      "metadata": {
        "id": "o-0DvzEHt8VE"
      },
      "source": [
        "data_generator = ImageDataGenerator(rescale = 1./255)\n",
        "\n",
        "data_dir = \"/content/drive/MyDrive/Colab Notebooks/Final_Project/Cell_Genus\""
      ],
      "execution_count": null,
      "outputs": []
    },
    {
      "cell_type": "code",
      "metadata": {
        "id": "7aTCfEm3t10n"
      },
      "source": [
        "batch_size = 32\n",
        "img_height = 180\n",
        "img_width = 180"
      ],
      "execution_count": null,
      "outputs": []
    },
    {
      "cell_type": "code",
      "metadata": {
        "id": "9Smg-miEt22s",
        "colab": {
          "base_uri": "https://localhost:8080/"
        },
        "outputId": "bf7ed017-c47f-4128-82c4-c3ba443b3441"
      },
      "source": [
        "train_ds = tf.keras.preprocessing.image_dataset_from_directory(\n",
        "  data_dir,\n",
        "  color_mode = \"grayscale\",\n",
        "  validation_split=0.2,\n",
        "  subset=\"training\",\n",
        "  seed=123,\n",
        "  image_size=(img_height, img_width),\n",
        "  batch_size=batch_size)"
      ],
      "execution_count": null,
      "outputs": [
        {
          "output_type": "stream",
          "name": "stdout",
          "text": [
            "Found 6226 files belonging to 107 classes.\n",
            "Using 4981 files for training.\n"
          ]
        }
      ]
    },
    {
      "cell_type": "code",
      "metadata": {
        "id": "1nR0WdQGt44x",
        "colab": {
          "base_uri": "https://localhost:8080/"
        },
        "outputId": "c04c4a4c-3ecb-4e0c-d368-e7d7e70efa74"
      },
      "source": [
        "val_ds = tf.keras.preprocessing.image_dataset_from_directory(\n",
        "  data_dir,\n",
        "  color_mode = \"grayscale\",\n",
        "  validation_split=0.2,\n",
        "  subset=\"validation\",\n",
        "  seed=123,\n",
        "  image_size=(img_height, img_width),\n",
        "  batch_size=batch_size)"
      ],
      "execution_count": null,
      "outputs": [
        {
          "output_type": "stream",
          "name": "stdout",
          "text": [
            "Found 6226 files belonging to 107 classes.\n",
            "Using 1245 files for validation.\n"
          ]
        }
      ]
    },
    {
      "cell_type": "code",
      "metadata": {
        "id": "F-cz_CtGug8Y",
        "colab": {
          "base_uri": "https://localhost:8080/"
        },
        "outputId": "96e483bd-5d55-4194-fbad-cc7f490fac84"
      },
      "source": [
        "class_names = train_ds.class_names\n",
        "print(class_names)"
      ],
      "execution_count": null,
      "outputs": [
        {
          "output_type": "stream",
          "name": "stdout",
          "text": [
            "['10_Genus_Stauroneis_Ehrenberg', '10_Genus_Staurosira_Ehrenberg', '11_Genus_Craspedostauros_E.J_Cox_1999', '11_Genus_Staurosirella_Williams_and_Round', '12_Genus_Caloneis_Cleve_1894', '12_Genus_Synedra_Ehrenberg', '13_Genus_Pinnularia_Ehrenberg_1843', '1_Genus_Acanthoceras_Honigmann', '1_Genus_Achnanthes_Bory', '1_Genus_Actinocyclus_Ehrenberg', '1_Genus_Aphanocapsa_Nageli_1849', '1_Genus_Asterionella_Hassall', '1_Genus_Aulacoseira', '1_Genus_Biremis_Mann_et_Cox_in_Round_Crawford_and_Mann', '1_Genus_Characium_A_Braun_in_Kutzing_1849', '1_Genus_Chroococcus_Nageli', '1_Genus_Closterium_Nitzsch_ex_Ralfs_1848', '1_Genus_Coelastrum_Nageli_1849', '1_Genus_Cylindrocystis_Meneghini_ex_de_Bary_1858', '1_Genus_Dictyosphaerium_Nageli_1849', '1_Genus_Docidium_Brebisson_ex_Ralfs_1848', '1_Genus_Eunotia_Ehrenberg', '1_Genus_Geitlerinema_(Anagnostidis_et_Komarek)_Anagnostidis_1989', '1_Genus_Gonatozygon_de_Bary_1856', '1_Genus_Hydrodictyon_Roth_1797', '1_Genus_Hydrosera_whampoensis', '1_Genus_Jaaginema_Anagnostidis_et_Komarek_1988', '1_Genus_Lyngbya_C_Agardh_ex_Gomont_1892', '1_Genus_Melosira_Agardh', '1_Genus_Micractinium_Fresenius_1858', '1_Genus_Micrasterias_Ralfs_1848', '1_Genus_Microcystis_Kutzing_ex_Lemmermann_1907', '1_Genus_Oscillatoria_Vaucher_ex_Gomont_1982', '1_Genus_Pediastrum_Meyen_1829', '1_Genus_Penium_Brebisson_ex_Ralfs_in_Ralfs_1848', '1_Genus_Phormidium_Kutzing_ex_Gomont_1892', '1_Genus_Planktothrix_Anagnostidis_et_Komarek_1988', '1_Genus_Pleurosira_laevis_(Ehrenberg)', '1_Genus_Rhizosolenia_Ehrenberg', '1_Genus_Schizochlamydella_Korshikov_1953', '1_Genus_Staurodesmus_Teiling_1848', '1_Genus_Trochiscia_Kutzing_1834', '1_Scenedesmus_Hegewald_1978', '2_Acutodesmus_Hegewald_1978', '2_Genus_Achnanthidium_Kutzing', '2_Genus_Actinastrum_Lagerheim_1882', '2_Genus_Actinella_Lewis', '2_Genus_Ankyra_Fott_1957', '2_Genus_Caloneis_Cleve', '2_Genus_Chaetoceros_Ehrenberg', '2_Genus_Coenochloris_Korshikov_1953', '2_Genus_Cyclotella', '2_Genus_Diatoma_Bory', '2_Genus_Dimorphococcus_A_Braun_1855', '2_Genus_Golenkinia_Chodat_1894', '2_Genus_Haplotaenium_Bando_1988', '2_Genus_Leibleinia_(Gomont)_L_Hoffman_1985', '2_Genus_Leptolyngbya_Anagnostidis_et_Komarek_1988', '2_Genus_Merismopedia_Meyen_1839', '2_Genus_Netrium_(Nageli)_Itzigsohn_et_Rothe_in_Rabenhorst_1856', '2_Genus_Orthoseira_Thwaites_1848', '2_Genus_Phormidium_Kutzing_ex_Gomont_1892', '2_Genus_Sorastrum_Kutzing_1845', '2_Genus_Staurastrum_Meyen_ex_Ralfs_1848', '3_Desmodesmus_Chodat_1926', '3_Genus_Acanthosphaera_Lemmerman_1899', '3_Genus_Anorthoneis_Grunow', '3_Genus_Cyclostephanos_Round', '3_Genus_Dichotomococcus_Korshikov_1928', '3_Genus_Heteroleibleinia_(Geitler)_L_Hoffmann_1985', '3_Genus_Limnothrix_Meffert_1988', '3_Genus_Meridion_Agardh', '3_Genus_Paradoxia_Svirenko_1928', '3_Genus_Peronia_Bebisson_and_Arnott_ex_Kitton', '3_Genus_Phormidiochaete_Komarek_in_Anagnostidis_2001', '3_Genus_Pinnularia_Ehrenberg_1', '3_Genus_Pleurotaenium_Nageli_1849', '3_Genus_Radiococcus_Schmidle_1902', '3_Genus_Snowella_Elenkin_1938', '3_Genus_Spirotaenia_Brebisson_in_Ralfs_1848', '4_Genus_Botryococcus_Kutzing_1849', '4_Genus_Cocconeis_Ehrenberg', '4_Genus_Eutetramorus_Walton_1918', '4_Genus_Leptolyngbya_Anagnostidis_et_Komarek_1988', '4_Genus_Opephora_Petit', '4_Genus_Pinnularia_Ehrenberg_2', '4_Genus_Schroederia_Lemmermann_1898', '4_Genus_Stephanodiscus_Ehrenberg', '4_Genus_Synechocystis_Sauvageau_1892', '4_Genus_Tortitaenia_A_J_Brook_1998', '5_Genus_Caloneis_Cleve', '5_Genus_Coenocystis_Korshikov_1953', '5_Genus_Planktolyngbya_Anagnostidis_et_Komarek_1988', '5_Genus_Tabellaria_Ehrenberg', '5_Genus_Thalassiosira_Cleve', '5_Genus_Woronichinia_Elenkin_1933', '6_Genus_Anomoeoneis_Pfitzer', '6_Genus_Fragilaria_Lyngbye', '6_Genus_Gloeocystis_Nageli_1849', '6_Genus_Pseudanabaena_Lauterborn_1915', '6_Genus_Skeletonema_Greville', '7_Genus_Caloneis_Cleve', '7_Genus_Hannaea_Patrick', '8_Genus_Diploneis(Ehrenberg)_Cleve', '8_Genus_Pseudostaurosira_Williams_and_Round', '9_Genus_Neidium_Pfitzer', '9_Genus_Punctastriata_Williams_and_Round']\n"
          ]
        }
      ]
    },
    {
      "cell_type": "code",
      "metadata": {
        "id": "5EQOikPAukic",
        "colab": {
          "base_uri": "https://localhost:8080/"
        },
        "outputId": "6f0903d4-a492-43c0-e636-dad2e03c5bf8"
      },
      "source": [
        "for image_batch, labels_batch in train_ds:\n",
        "  print(image_batch.shape)\n",
        "  print(labels_batch.shape)\n",
        "  break"
      ],
      "execution_count": null,
      "outputs": [
        {
          "output_type": "stream",
          "name": "stdout",
          "text": [
            "(32, 180, 180, 1)\n",
            "(32,)\n"
          ]
        }
      ]
    },
    {
      "cell_type": "code",
      "metadata": {
        "id": "9eVl7tiDux9q"
      },
      "source": [
        "from tensorflow.keras import layers\n",
        "\n",
        "normalization_layer = tf.keras.layers.experimental.preprocessing.Rescaling(1./255)"
      ],
      "execution_count": null,
      "outputs": []
    },
    {
      "cell_type": "code",
      "metadata": {
        "id": "AiIrsxzZuzEo",
        "colab": {
          "base_uri": "https://localhost:8080/"
        },
        "outputId": "82e0799b-648a-4a9e-e15d-d0080b5ba7c1"
      },
      "source": [
        "normalized_ds = train_ds.map(lambda x, y: (normalization_layer(x), y))\n",
        "image_batch, labels_batch = next(iter(normalized_ds))\n",
        "first_image = image_batch[0]\n",
        "# Notice the pixels values are now in `[0,1]`.\n",
        "print(np.min(first_image), np.max(first_image))"
      ],
      "execution_count": null,
      "outputs": [
        {
          "output_type": "stream",
          "name": "stdout",
          "text": [
            "0.0 1.0\n"
          ]
        }
      ]
    },
    {
      "cell_type": "code",
      "metadata": {
        "id": "__WbVabru0Bp"
      },
      "source": [
        "AUTOTUNE = tf.data.experimental.AUTOTUNE\n",
        "\n",
        "train_ds = train_ds.cache().prefetch(buffer_size=AUTOTUNE)\n",
        "val_ds = val_ds.cache().prefetch(buffer_size=AUTOTUNE)"
      ],
      "execution_count": null,
      "outputs": []
    },
    {
      "cell_type": "code",
      "metadata": {
        "id": "g1GeYFXCu2gV"
      },
      "source": [
        "num_classes = 107\n",
        "model = tf.keras.Sequential([\n",
        "    layers.experimental.preprocessing.Rescaling(1./255),\n",
        "    layers.Conv2D(64, 3,input_shape = image_batch, activation='relu'),\n",
        "    layers.MaxPooling2D(),\n",
        "    layers.Conv2D(64, 3, activation='relu'),\n",
        "    layers.MaxPooling2D(),\n",
        "    layers.Conv2D(64, 3, activation='relu'),\n",
        "    layers.MaxPooling2D(),\n",
        "    layers.Flatten(),\n",
        "    BatchNormalization(),\n",
        "    layers.Dense(128, input_dim = 107, activation='relu'),\n",
        "    BatchNormalization(),\n",
        "    layers.Dense(128, activation='relu'),\n",
        "    BatchNormalization(),\n",
        "    layers.Dense(128, activation='relu'),\n",
        "    BatchNormalization(),\n",
        "    layers.Dense(128, activation='relu'),\n",
        "    BatchNormalization(),\n",
        "    layers.Dense(128, activation='relu'),\n",
        "    BatchNormalization(),\n",
        "    layers.Dense(128, activation='relu'),\n",
        "    BatchNormalization(),\n",
        "    layers.Dense(128, activation='relu'),\n",
        "    BatchNormalization(),\n",
        "    layers.Dense(128, activation='relu'),\n",
        "    BatchNormalization(),\n",
        "    layers.Dense(107, activation='softmax'),\n",
        "    BatchNormalization(),\n",
        "    layers.Dense(num_classes)\n",
        "    ])"
      ],
      "execution_count": null,
      "outputs": []
    },
    {
      "cell_type": "code",
      "metadata": {
        "id": "wU4xPAvNYWry"
      },
      "source": [
        "model.compile(\n",
        "    optimizer='adam',\n",
        "    loss=tf.losses.SparseCategoricalCrossentropy(from_logits=True),\n",
        "    metrics=['accuracy'])"
      ],
      "execution_count": null,
      "outputs": []
    },
    {
      "cell_type": "code",
      "metadata": {
        "id": "Tk8ssrbHu44p",
        "colab": {
          "base_uri": "https://localhost:8080/"
        },
        "outputId": "d53949c2-291a-44f7-e1ea-47b1cdb3f4d2"
      },
      "source": [
        "epochs=50\n",
        "history = model.fit(\n",
        "  train_ds,\n",
        "  validation_data=val_ds,\n",
        "  epochs=epochs\n",
        ")"
      ],
      "execution_count": null,
      "outputs": [
        {
          "output_type": "stream",
          "name": "stdout",
          "text": [
            "Epoch 1/50\n",
            "156/156 [==============================] - 384s 2s/step - loss: 3.7355 - accuracy: 0.2239 - val_loss: 4.2204 - val_accuracy: 0.1277\n",
            "Epoch 2/50\n",
            "156/156 [==============================] - 5s 30ms/step - loss: 2.6846 - accuracy: 0.3323 - val_loss: 3.6706 - val_accuracy: 0.2474\n",
            "Epoch 3/50\n",
            "156/156 [==============================] - 5s 30ms/step - loss: 2.3239 - accuracy: 0.3901 - val_loss: 2.9497 - val_accuracy: 0.3582\n",
            "Epoch 4/50\n",
            "156/156 [==============================] - 5s 30ms/step - loss: 2.0653 - accuracy: 0.4429 - val_loss: 2.8084 - val_accuracy: 0.3028\n",
            "Epoch 5/50\n",
            "156/156 [==============================] - 5s 30ms/step - loss: 1.8220 - accuracy: 0.4991 - val_loss: 2.8048 - val_accuracy: 0.3229\n",
            "Epoch 6/50\n",
            "156/156 [==============================] - 5s 30ms/step - loss: 1.6080 - accuracy: 0.5479 - val_loss: 2.6759 - val_accuracy: 0.3365\n",
            "Epoch 7/50\n",
            "156/156 [==============================] - 5s 30ms/step - loss: 1.4070 - accuracy: 0.6013 - val_loss: 2.4274 - val_accuracy: 0.4329\n",
            "Epoch 8/50\n",
            "156/156 [==============================] - 5s 30ms/step - loss: 1.2508 - accuracy: 0.6396 - val_loss: 2.1059 - val_accuracy: 0.4803\n",
            "Epoch 9/50\n",
            "156/156 [==============================] - 5s 30ms/step - loss: 1.0455 - accuracy: 0.6960 - val_loss: 2.2721 - val_accuracy: 0.4851\n",
            "Epoch 10/50\n",
            "156/156 [==============================] - 5s 30ms/step - loss: 0.9271 - accuracy: 0.7330 - val_loss: 2.4042 - val_accuracy: 0.4498\n",
            "Epoch 11/50\n",
            "156/156 [==============================] - 5s 29ms/step - loss: 0.8004 - accuracy: 0.7677 - val_loss: 2.3223 - val_accuracy: 0.4755\n",
            "Epoch 12/50\n",
            "156/156 [==============================] - 5s 30ms/step - loss: 0.6836 - accuracy: 0.8049 - val_loss: 2.7673 - val_accuracy: 0.4329\n",
            "Epoch 13/50\n",
            "156/156 [==============================] - 5s 30ms/step - loss: 0.6108 - accuracy: 0.8277 - val_loss: 2.4102 - val_accuracy: 0.4755\n",
            "Epoch 14/50\n",
            "156/156 [==============================] - 5s 30ms/step - loss: 0.5186 - accuracy: 0.8528 - val_loss: 2.4914 - val_accuracy: 0.4948\n",
            "Epoch 15/50\n",
            "156/156 [==============================] - 5s 30ms/step - loss: 0.4820 - accuracy: 0.8581 - val_loss: 2.8119 - val_accuracy: 0.4651\n",
            "Epoch 16/50\n",
            "156/156 [==============================] - 5s 30ms/step - loss: 0.3827 - accuracy: 0.8938 - val_loss: 2.7162 - val_accuracy: 0.4948\n",
            "Epoch 17/50\n",
            "156/156 [==============================] - 5s 30ms/step - loss: 0.3240 - accuracy: 0.9169 - val_loss: 2.9473 - val_accuracy: 0.4651\n",
            "Epoch 18/50\n",
            "156/156 [==============================] - 5s 30ms/step - loss: 0.2831 - accuracy: 0.9217 - val_loss: 3.1812 - val_accuracy: 0.4602\n",
            "Epoch 19/50\n",
            "156/156 [==============================] - 5s 30ms/step - loss: 0.2806 - accuracy: 0.9205 - val_loss: 3.0095 - val_accuracy: 0.4779\n",
            "Epoch 20/50\n",
            "156/156 [==============================] - 5s 30ms/step - loss: 0.2757 - accuracy: 0.9249 - val_loss: 2.8341 - val_accuracy: 0.4972\n",
            "Epoch 21/50\n",
            "156/156 [==============================] - 5s 29ms/step - loss: 0.2343 - accuracy: 0.9372 - val_loss: 2.7561 - val_accuracy: 0.5277\n",
            "Epoch 22/50\n",
            "156/156 [==============================] - 5s 30ms/step - loss: 0.2033 - accuracy: 0.9418 - val_loss: 2.9735 - val_accuracy: 0.4924\n",
            "Epoch 23/50\n",
            "156/156 [==============================] - 5s 30ms/step - loss: 0.1869 - accuracy: 0.9464 - val_loss: 3.0444 - val_accuracy: 0.4996\n",
            "Epoch 24/50\n",
            "156/156 [==============================] - 5s 30ms/step - loss: 0.1790 - accuracy: 0.9490 - val_loss: 2.9318 - val_accuracy: 0.5149\n",
            "Epoch 25/50\n",
            "156/156 [==============================] - 5s 30ms/step - loss: 0.1958 - accuracy: 0.9444 - val_loss: 3.2242 - val_accuracy: 0.4755\n",
            "Epoch 26/50\n",
            "156/156 [==============================] - 5s 30ms/step - loss: 0.2003 - accuracy: 0.9462 - val_loss: 3.0819 - val_accuracy: 0.5004\n",
            "Epoch 27/50\n",
            "156/156 [==============================] - 5s 30ms/step - loss: 0.1706 - accuracy: 0.9522 - val_loss: 2.9543 - val_accuracy: 0.5100\n",
            "Epoch 28/50\n",
            "156/156 [==============================] - 5s 30ms/step - loss: 0.1257 - accuracy: 0.9661 - val_loss: 3.0088 - val_accuracy: 0.5349\n",
            "Epoch 29/50\n",
            "156/156 [==============================] - 5s 30ms/step - loss: 0.0923 - accuracy: 0.9769 - val_loss: 3.1484 - val_accuracy: 0.5357\n",
            "Epoch 30/50\n",
            "156/156 [==============================] - 5s 30ms/step - loss: 0.0651 - accuracy: 0.9863 - val_loss: 3.0432 - val_accuracy: 0.5293\n",
            "Epoch 31/50\n",
            "156/156 [==============================] - 5s 29ms/step - loss: 0.0416 - accuracy: 0.9916 - val_loss: 3.1030 - val_accuracy: 0.5197\n",
            "Epoch 32/50\n",
            "156/156 [==============================] - 5s 30ms/step - loss: 0.0508 - accuracy: 0.9888 - val_loss: 3.3379 - val_accuracy: 0.5076\n",
            "Epoch 33/50\n",
            "156/156 [==============================] - 5s 30ms/step - loss: 0.0495 - accuracy: 0.9882 - val_loss: 3.2581 - val_accuracy: 0.5277\n",
            "Epoch 34/50\n",
            "156/156 [==============================] - 5s 29ms/step - loss: 0.0815 - accuracy: 0.9771 - val_loss: 3.3594 - val_accuracy: 0.5052\n",
            "Epoch 35/50\n",
            "156/156 [==============================] - 5s 30ms/step - loss: 0.1310 - accuracy: 0.9637 - val_loss: 3.8467 - val_accuracy: 0.4739\n",
            "Epoch 36/50\n",
            "156/156 [==============================] - 5s 30ms/step - loss: 0.2527 - accuracy: 0.9255 - val_loss: 3.7922 - val_accuracy: 0.4699\n",
            "Epoch 37/50\n",
            "156/156 [==============================] - 5s 30ms/step - loss: 0.2937 - accuracy: 0.9213 - val_loss: 3.5976 - val_accuracy: 0.4859\n",
            "Epoch 38/50\n",
            "156/156 [==============================] - 5s 30ms/step - loss: 0.1786 - accuracy: 0.9474 - val_loss: 3.2264 - val_accuracy: 0.5068\n",
            "Epoch 39/50\n",
            "156/156 [==============================] - 5s 30ms/step - loss: 0.1056 - accuracy: 0.9713 - val_loss: 3.4498 - val_accuracy: 0.4956\n",
            "Epoch 40/50\n",
            "156/156 [==============================] - 5s 30ms/step - loss: 0.0766 - accuracy: 0.9785 - val_loss: 3.3299 - val_accuracy: 0.5237\n",
            "Epoch 41/50\n",
            "156/156 [==============================] - 5s 30ms/step - loss: 0.0308 - accuracy: 0.9948 - val_loss: 3.2620 - val_accuracy: 0.5325\n",
            "Epoch 42/50\n",
            "156/156 [==============================] - 5s 30ms/step - loss: 0.0131 - accuracy: 0.9986 - val_loss: 3.1787 - val_accuracy: 0.5454\n",
            "Epoch 43/50\n",
            "156/156 [==============================] - 5s 29ms/step - loss: 0.0089 - accuracy: 0.9994 - val_loss: 3.2079 - val_accuracy: 0.5438\n",
            "Epoch 44/50\n",
            "156/156 [==============================] - 5s 30ms/step - loss: 0.0051 - accuracy: 0.9998 - val_loss: 3.2507 - val_accuracy: 0.5422\n",
            "Epoch 45/50\n",
            "156/156 [==============================] - 5s 30ms/step - loss: 0.0035 - accuracy: 1.0000 - val_loss: 3.2763 - val_accuracy: 0.5446\n",
            "Epoch 46/50\n",
            "156/156 [==============================] - 5s 29ms/step - loss: 0.0030 - accuracy: 1.0000 - val_loss: 3.3063 - val_accuracy: 0.5446\n",
            "Epoch 47/50\n",
            "156/156 [==============================] - 5s 30ms/step - loss: 0.0026 - accuracy: 1.0000 - val_loss: 3.3354 - val_accuracy: 0.5446\n",
            "Epoch 48/50\n",
            "156/156 [==============================] - 5s 30ms/step - loss: 0.0023 - accuracy: 1.0000 - val_loss: 3.3637 - val_accuracy: 0.5454\n",
            "Epoch 49/50\n",
            "156/156 [==============================] - 5s 30ms/step - loss: 0.0021 - accuracy: 1.0000 - val_loss: 3.3908 - val_accuracy: 0.5446\n",
            "Epoch 50/50\n",
            "156/156 [==============================] - 5s 29ms/step - loss: 0.0019 - accuracy: 1.0000 - val_loss: 3.4174 - val_accuracy: 0.5454\n"
          ]
        }
      ]
    },
    {
      "cell_type": "code",
      "metadata": {
        "id": "f1z_vHocu59c",
        "colab": {
          "base_uri": "https://localhost:8080/",
          "height": 499
        },
        "outputId": "0ba22044-05f0-49b6-90d2-e2270baac151"
      },
      "source": [
        "acc = history.history['accuracy']\n",
        "val_acc = history.history['val_accuracy']\n",
        "\n",
        "loss=history.history['loss']\n",
        "val_loss=history.history['val_loss']\n",
        "\n",
        "epochs_range = range(epochs)\n",
        "\n",
        "plt.figure(figsize=(8, 8))\n",
        "plt.subplot(1, 2, 1)\n",
        "plt.plot(epochs_range, acc, label='Training Accuracy')\n",
        "plt.plot(epochs_range, val_acc, label='Validation Accuracy')\n",
        "plt.legend(loc='lower right')\n",
        "plt.title('Training and Validation Accuracy')\n",
        "\n",
        "plt.subplot(1, 2, 2)\n",
        "plt.plot(epochs_range, loss, label='Training Loss')\n",
        "plt.plot(epochs_range, val_loss, label='Validation Loss')\n",
        "plt.legend(loc='upper right')\n",
        "plt.title('Training and Validation Loss')\n",
        "plt.show()"
      ],
      "execution_count": null,
      "outputs": [
        {
          "output_type": "display_data",
          "data": {
            "image/png": "[encoded data removed]",
            "text/plain": [
              "<Figure size 576x576 with 2 Axes>"
            ]
          },
          "metadata": {
            "needs_background": "light"
          }
        }
      ]
    },
    {
      "cell_type": "code",
      "metadata": {
        "id": "XinJ6xXD9YNO"
      },
      "source": [
        "data_augmentation = keras.Sequential(\n",
        "  [\n",
        "    layers.experimental.preprocessing.RandomFlip(\"horizontal\", \n",
        "                                                 input_shape=(img_height, \n",
        "                                                              img_width,\n",
        "                                                              1)),\n",
        "    layers.experimental.preprocessing.RandomRotation(0.1),\n",
        "    layers.experimental.preprocessing.RandomZoom(0.1),\n",
        "  ]\n",
        ")"
      ],
      "execution_count": null,
      "outputs": []
    },
    {
      "cell_type": "code",
      "metadata": {
        "id": "8WT2BYElEYZj"
      },
      "source": [
        "model = Sequential([\n",
        "  data_augmentation,\n",
        "  layers.experimental.preprocessing.Rescaling(1./255),\n",
        "  layers.Conv2D(64, 3,input_shape = image_batch, activation='relu'),\n",
        "  layers.MaxPooling2D(),\n",
        "  layers.Conv2D(64, 3, padding='same', activation='relu'),\n",
        "  layers.MaxPooling2D(),\n",
        "  layers.Conv2D(64, 3, padding='same', activation='relu'),\n",
        "  layers.MaxPooling2D(),\n",
        "  layers.Dropout(0.2),\n",
        "  layers.Flatten(),\n",
        "  layers.Dense(128, input_dim = 107, activation='relu'),\n",
        "  BatchNormalization(),\n",
        "  layers.Dense(128, activation='relu'),\n",
        "  BatchNormalization(),\n",
        "  layers.Dense(128, activation='relu'),\n",
        "  BatchNormalization(),\n",
        "  layers.Dense(128, activation='relu'),\n",
        "  BatchNormalization(),\n",
        "  layers.Dense(128, activation='relu'),\n",
        "  BatchNormalization(),\n",
        "  layers.Dense(128, activation='relu'),\n",
        "  BatchNormalization(),\n",
        "  layers.Dense(128, activation='relu'),\n",
        "  BatchNormalization(),\n",
        "  layers.Dense(128, activation='relu'),\n",
        "  BatchNormalization(),\n",
        "  layers.Dense(107, activation='softmax'),\n",
        "  BatchNormalization(),\n",
        "  layers.Dense(num_classes)\n",
        "])"
      ],
      "execution_count": null,
      "outputs": []
    },
    {
      "cell_type": "code",
      "metadata": {
        "id": "opOHP3auEdsw",
        "colab": {
          "base_uri": "https://localhost:8080/"
        },
        "outputId": "b9eb586d-74e1-4e53-ec79-812be383414c"
      },
      "source": [
        "BatchNormalization(),model.compile(\n",
        "    optimizer='adam',\n",
        "    loss=tf.losses.SparseCategoricalCrossentropy(from_logits=True),\n",
        "    metrics=['accuracy'])"
      ],
      "execution_count": null,
      "outputs": [
        {
          "output_type": "execute_result",
          "data": {
            "text/plain": [
              "(<keras.layers.normalization.batch_normalization.BatchNormalization at 0x7f96b051cc90>,\n",
              " None)"
            ]
          },
          "metadata": {},
          "execution_count": 19
        }
      ]
    },
    {
      "cell_type": "code",
      "metadata": {
        "id": "3Ay4tlHlEfBX",
        "colab": {
          "base_uri": "https://localhost:8080/"
        },
        "outputId": "7b070ab8-4171-4f5f-965b-1f5aa6eb40bd"
      },
      "source": [
        "model.summary()"
      ],
      "execution_count": null,
      "outputs": [
        {
          "output_type": "stream",
          "name": "stdout",
          "text": [
            "Model: \"sequential_2\"\n",
            "_________________________________________________________________\n",
            " Layer (type)                Output Shape              Param #   \n",
            "=================================================================\n",
            " sequential_1 (Sequential)   (None, 180, 180, 1)       0         \n",
            "                                                                 \n",
            " rescaling_2 (Rescaling)     (None, 180, 180, 1)       0         \n",
            "                                                                 \n",
            " conv2d_3 (Conv2D)           (None, 178, 178, 64)      640       \n",
            "                                                                 \n",
            " max_pooling2d_3 (MaxPooling  (None, 89, 89, 64)       0         \n",
            " 2D)                                                             \n",
            "                                                                 \n",
            " conv2d_4 (Conv2D)           (None, 89, 89, 64)        36928     \n",
            "                                                                 \n",
            " max_pooling2d_4 (MaxPooling  (None, 44, 44, 64)       0         \n",
            " 2D)                                                             \n",
            "                                                                 \n",
            " conv2d_5 (Conv2D)           (None, 44, 44, 64)        36928     \n",
            "                                                                 \n",
            " max_pooling2d_5 (MaxPooling  (None, 22, 22, 64)       0         \n",
            " 2D)                                                             \n",
            "                                                                 \n",
            " dropout (Dropout)           (None, 22, 22, 64)        0         \n",
            "                                                                 \n",
            " flatten_1 (Flatten)         (None, 30976)             0         \n",
            "                                                                 \n",
            " dense_10 (Dense)            (None, 128)               3965056   \n",
            "                                                                 \n",
            " batch_normalization_10 (Bat  (None, 128)              512       \n",
            " chNormalization)                                                \n",
            "                                                                 \n",
            " dense_11 (Dense)            (None, 128)               16512     \n",
            "                                                                 \n",
            " batch_normalization_11 (Bat  (None, 128)              512       \n",
            " chNormalization)                                                \n",
            "                                                                 \n",
            " dense_12 (Dense)            (None, 128)               16512     \n",
            "                                                                 \n",
            " batch_normalization_12 (Bat  (None, 128)              512       \n",
            " chNormalization)                                                \n",
            "                                                                 \n",
            " dense_13 (Dense)            (None, 128)               16512     \n",
            "                                                                 \n",
            " batch_normalization_13 (Bat  (None, 128)              512       \n",
            " chNormalization)                                                \n",
            "                                                                 \n",
            " dense_14 (Dense)            (None, 128)               16512     \n",
            "                                                                 \n",
            " batch_normalization_14 (Bat  (None, 128)              512       \n",
            " chNormalization)                                                \n",
            "                                                                 \n",
            " dense_15 (Dense)            (None, 128)               16512     \n",
            "                                                                 \n",
            " batch_normalization_15 (Bat  (None, 128)              512       \n",
            " chNormalization)                                                \n",
            "                                                                 \n",
            " dense_16 (Dense)            (None, 128)               16512     \n",
            "                                                                 \n",
            " batch_normalization_16 (Bat  (None, 128)              512       \n",
            " chNormalization)                                                \n",
            "                                                                 \n",
            " dense_17 (Dense)            (None, 128)               16512     \n",
            "                                                                 \n",
            " batch_normalization_17 (Bat  (None, 128)              512       \n",
            " chNormalization)                                                \n",
            "                                                                 \n",
            " dense_18 (Dense)            (None, 107)               13803     \n",
            "                                                                 \n",
            " batch_normalization_18 (Bat  (None, 107)              428       \n",
            " chNormalization)                                                \n",
            "                                                                 \n",
            " dense_19 (Dense)            (None, 107)               11556     \n",
            "                                                                 \n",
            "=================================================================\n",
            "Total params: 4,185,019\n",
            "Trainable params: 4,182,757\n",
            "Non-trainable params: 2,262\n",
            "_________________________________________________________________\n"
          ]
        }
      ]
    },
    {
      "cell_type": "code",
      "metadata": {
        "id": "Jc8rD_v9Ef41",
        "colab": {
          "base_uri": "https://localhost:8080/"
        },
        "outputId": "4d3e5918-e7fd-4218-c378-52406453bcf5"
      },
      "source": [
        "epochs = 50\n",
        "history = model.fit(\n",
        "  train_ds,\n",
        "  validation_data=val_ds,\n",
        "  epochs=epochs\n",
        ")"
      ],
      "execution_count": null,
      "outputs": [
        {
          "output_type": "stream",
          "name": "stdout",
          "text": [
            "Epoch 1/50\n",
            "156/156 [==============================] - 8s 35ms/step - loss: 4.0070 - accuracy: 0.1419 - val_loss: 4.1779 - val_accuracy: 0.1012\n",
            "Epoch 2/50\n",
            "156/156 [==============================] - 5s 32ms/step - loss: 3.0552 - accuracy: 0.2524 - val_loss: 3.7116 - val_accuracy: 0.2281\n",
            "Epoch 3/50\n",
            "156/156 [==============================] - 5s 32ms/step - loss: 2.7496 - accuracy: 0.2975 - val_loss: 3.3226 - val_accuracy: 0.1912\n",
            "Epoch 4/50\n",
            "156/156 [==============================] - 5s 32ms/step - loss: 2.5964 - accuracy: 0.3120 - val_loss: 2.9822 - val_accuracy: 0.2618\n",
            "Epoch 5/50\n",
            "156/156 [==============================] - 5s 32ms/step - loss: 2.4738 - accuracy: 0.3309 - val_loss: 3.0825 - val_accuracy: 0.2643\n",
            "Epoch 6/50\n",
            "156/156 [==============================] - 5s 32ms/step - loss: 2.3308 - accuracy: 0.3580 - val_loss: 3.1199 - val_accuracy: 0.2570\n",
            "Epoch 7/50\n",
            "156/156 [==============================] - 5s 32ms/step - loss: 2.2314 - accuracy: 0.3666 - val_loss: 2.7870 - val_accuracy: 0.3076\n",
            "Epoch 8/50\n",
            "156/156 [==============================] - 5s 31ms/step - loss: 2.1775 - accuracy: 0.3778 - val_loss: 2.8387 - val_accuracy: 0.3301\n",
            "Epoch 9/50\n",
            "156/156 [==============================] - 5s 31ms/step - loss: 2.0898 - accuracy: 0.3983 - val_loss: 3.2982 - val_accuracy: 0.2201\n",
            "Epoch 10/50\n",
            "156/156 [==============================] - 5s 31ms/step - loss: 2.0338 - accuracy: 0.4106 - val_loss: 3.1464 - val_accuracy: 0.2522\n",
            "Epoch 11/50\n",
            "156/156 [==============================] - 5s 32ms/step - loss: 1.9886 - accuracy: 0.4228 - val_loss: 2.9682 - val_accuracy: 0.2892\n",
            "Epoch 12/50\n",
            "156/156 [==============================] - 5s 31ms/step - loss: 1.9105 - accuracy: 0.4359 - val_loss: 2.6758 - val_accuracy: 0.3542\n",
            "Epoch 13/50\n",
            "156/156 [==============================] - 5s 31ms/step - loss: 1.8795 - accuracy: 0.4389 - val_loss: 2.3666 - val_accuracy: 0.3807\n",
            "Epoch 14/50\n",
            "156/156 [==============================] - 5s 31ms/step - loss: 1.7987 - accuracy: 0.4589 - val_loss: 2.5266 - val_accuracy: 0.3936\n",
            "Epoch 15/50\n",
            "156/156 [==============================] - 5s 32ms/step - loss: 1.7393 - accuracy: 0.4618 - val_loss: 2.6563 - val_accuracy: 0.3534\n",
            "Epoch 16/50\n",
            "156/156 [==============================] - 5s 32ms/step - loss: 1.7067 - accuracy: 0.4842 - val_loss: 2.2264 - val_accuracy: 0.4104\n",
            "Epoch 17/50\n",
            "156/156 [==============================] - 5s 32ms/step - loss: 1.6520 - accuracy: 0.4915 - val_loss: 2.3349 - val_accuracy: 0.4313\n",
            "Epoch 18/50\n",
            "156/156 [==============================] - 5s 31ms/step - loss: 1.6566 - accuracy: 0.4909 - val_loss: 2.6222 - val_accuracy: 0.3727\n",
            "Epoch 19/50\n",
            "156/156 [==============================] - 5s 32ms/step - loss: 1.5732 - accuracy: 0.5101 - val_loss: 2.5231 - val_accuracy: 0.3888\n",
            "Epoch 20/50\n",
            "156/156 [==============================] - 5s 32ms/step - loss: 1.5462 - accuracy: 0.5178 - val_loss: 2.1362 - val_accuracy: 0.4369\n",
            "Epoch 21/50\n",
            "156/156 [==============================] - 5s 32ms/step - loss: 1.4602 - accuracy: 0.5403 - val_loss: 2.3934 - val_accuracy: 0.4104\n",
            "Epoch 22/50\n",
            "156/156 [==============================] - 5s 32ms/step - loss: 1.4740 - accuracy: 0.5306 - val_loss: 2.3164 - val_accuracy: 0.4080\n",
            "Epoch 23/50\n",
            "156/156 [==============================] - 5s 32ms/step - loss: 1.4078 - accuracy: 0.5525 - val_loss: 3.0988 - val_accuracy: 0.3084\n",
            "Epoch 24/50\n",
            "156/156 [==============================] - 5s 32ms/step - loss: 1.3711 - accuracy: 0.5746 - val_loss: 2.9057 - val_accuracy: 0.3462\n",
            "Epoch 25/50\n",
            "156/156 [==============================] - 5s 32ms/step - loss: 1.3389 - accuracy: 0.5736 - val_loss: 3.1075 - val_accuracy: 0.3414\n",
            "Epoch 26/50\n",
            "156/156 [==============================] - 5s 32ms/step - loss: 1.3009 - accuracy: 0.5812 - val_loss: 2.6070 - val_accuracy: 0.3952\n",
            "Epoch 27/50\n",
            "156/156 [==============================] - 5s 32ms/step - loss: 1.2812 - accuracy: 0.5848 - val_loss: 2.4468 - val_accuracy: 0.4225\n",
            "Epoch 28/50\n",
            "156/156 [==============================] - 5s 32ms/step - loss: 1.2333 - accuracy: 0.5959 - val_loss: 2.3218 - val_accuracy: 0.4418\n",
            "Epoch 29/50\n",
            "156/156 [==============================] - 5s 32ms/step - loss: 1.1878 - accuracy: 0.6169 - val_loss: 2.4858 - val_accuracy: 0.4145\n",
            "Epoch 30/50\n",
            "156/156 [==============================] - 5s 32ms/step - loss: 1.1450 - accuracy: 0.6270 - val_loss: 2.4626 - val_accuracy: 0.4353\n",
            "Epoch 31/50\n",
            "156/156 [==============================] - 5s 32ms/step - loss: 1.1331 - accuracy: 0.6270 - val_loss: 2.3567 - val_accuracy: 0.4217\n",
            "Epoch 32/50\n",
            "156/156 [==============================] - 5s 32ms/step - loss: 1.1075 - accuracy: 0.6352 - val_loss: 2.6257 - val_accuracy: 0.4000\n",
            "Epoch 33/50\n",
            "156/156 [==============================] - 5s 32ms/step - loss: 1.0402 - accuracy: 0.6611 - val_loss: 2.3624 - val_accuracy: 0.4305\n",
            "Epoch 34/50\n",
            "156/156 [==============================] - 5s 33ms/step - loss: 1.0063 - accuracy: 0.6655 - val_loss: 2.5308 - val_accuracy: 0.4241\n",
            "Epoch 35/50\n",
            "156/156 [==============================] - 5s 32ms/step - loss: 1.0158 - accuracy: 0.6677 - val_loss: 2.7665 - val_accuracy: 0.4080\n",
            "Epoch 36/50\n",
            "156/156 [==============================] - 5s 32ms/step - loss: 0.9846 - accuracy: 0.6691 - val_loss: 2.6827 - val_accuracy: 0.4321\n",
            "Epoch 37/50\n",
            "156/156 [==============================] - 5s 32ms/step - loss: 0.9447 - accuracy: 0.6874 - val_loss: 2.4445 - val_accuracy: 0.4297\n",
            "Epoch 38/50\n",
            "156/156 [==============================] - 5s 32ms/step - loss: 0.9229 - accuracy: 0.6936 - val_loss: 3.2012 - val_accuracy: 0.3510\n",
            "Epoch 39/50\n",
            "156/156 [==============================] - 5s 32ms/step - loss: 0.8794 - accuracy: 0.7121 - val_loss: 2.4359 - val_accuracy: 0.4482\n",
            "Epoch 40/50\n",
            "156/156 [==============================] - 5s 32ms/step - loss: 0.8520 - accuracy: 0.7123 - val_loss: 3.0020 - val_accuracy: 0.3904\n",
            "Epoch 41/50\n",
            "156/156 [==============================] - 5s 32ms/step - loss: 0.8503 - accuracy: 0.7105 - val_loss: 3.0750 - val_accuracy: 0.3679\n",
            "Epoch 42/50\n",
            "156/156 [==============================] - 5s 32ms/step - loss: 0.8105 - accuracy: 0.7302 - val_loss: 2.5836 - val_accuracy: 0.4257\n",
            "Epoch 43/50\n",
            "156/156 [==============================] - 5s 32ms/step - loss: 0.8017 - accuracy: 0.7304 - val_loss: 2.8892 - val_accuracy: 0.4080\n",
            "Epoch 44/50\n",
            "156/156 [==============================] - 5s 32ms/step - loss: 0.7643 - accuracy: 0.7410 - val_loss: 2.5563 - val_accuracy: 0.4474\n",
            "Epoch 45/50\n",
            "156/156 [==============================] - 5s 32ms/step - loss: 0.7212 - accuracy: 0.7553 - val_loss: 2.7662 - val_accuracy: 0.4225\n",
            "Epoch 46/50\n",
            "156/156 [==============================] - 5s 32ms/step - loss: 0.7311 - accuracy: 0.7567 - val_loss: 2.9266 - val_accuracy: 0.4112\n",
            "Epoch 47/50\n",
            "156/156 [==============================] - 5s 32ms/step - loss: 0.7055 - accuracy: 0.7647 - val_loss: 3.5288 - val_accuracy: 0.3598\n",
            "Epoch 48/50\n",
            "156/156 [==============================] - 5s 32ms/step - loss: 0.6769 - accuracy: 0.7729 - val_loss: 2.7250 - val_accuracy: 0.4410\n",
            "Epoch 49/50\n",
            "156/156 [==============================] - 5s 32ms/step - loss: 0.6873 - accuracy: 0.7711 - val_loss: 3.0671 - val_accuracy: 0.4048\n",
            "Epoch 50/50\n",
            "156/156 [==============================] - 5s 32ms/step - loss: 0.6805 - accuracy: 0.7727 - val_loss: 3.3858 - val_accuracy: 0.3831\n"
          ]
        }
      ]
    },
    {
      "cell_type": "code",
      "metadata": {
        "id": "ynhS2KjVEhj8",
        "colab": {
          "base_uri": "https://localhost:8080/",
          "height": 499
        },
        "outputId": "1fbc47d7-3cfa-43db-a516-ea38df90bab7"
      },
      "source": [
        "acc = history.history['accuracy']\n",
        "val_acc = history.history['val_accuracy']\n",
        "\n",
        "loss = history.history['loss']\n",
        "val_loss = history.history['val_loss']\n",
        "\n",
        "epochs_range = range(epochs)\n",
        "\n",
        "plt.figure(figsize=(8, 8))\n",
        "plt.subplot(1, 2, 1)\n",
        "plt.plot(epochs_range, acc, label='Training Accuracy')\n",
        "plt.plot(epochs_range, val_acc, label='Validation Accuracy')\n",
        "plt.legend(loc='lower right')\n",
        "plt.title('Training and Validation Accuracy')\n",
        "\n",
        "plt.subplot(1, 2, 2)\n",
        "plt.plot(epochs_range, loss, label='Training Loss')\n",
        "plt.plot(epochs_range, val_loss, label='Validation Loss')\n",
        "plt.legend(loc='upper right')\n",
        "plt.title('Training and Validation Loss')\n",
        "plt.show()"
      ],
      "execution_count": null,
      "outputs": [
        {
          "output_type": "display_data",
          "data": {
            "image/png": "[encoded data removed]",
            "text/plain": [
              "<Figure size 576x576 with 2 Axes>"
            ]
          },
          "metadata": {
            "needs_background": "light"
          }
        }
      ]
    },
    {
      "cell_type": "code",
      "metadata": {
        "id": "IbEQMrsAH2yZ",
        "colab": {
          "base_uri": "https://localhost:8080/"
        },
        "outputId": "68b8ba09-080f-42d8-9137-a36b684971e7"
      },
      "source": [
        "model.compile(\n",
        "    optimizer='adam',\n",
        "    loss=tf.losses.SparseCategoricalCrossentropy(from_logits=True),\n",
        "    metrics=['accuracy'])\n",
        "model.summary()"
      ],
      "execution_count": null,
      "outputs": [
        {
          "output_type": "stream",
          "name": "stdout",
          "text": [
            "Model: \"sequential_2\"\n",
            "_________________________________________________________________\n",
            " Layer (type)                Output Shape              Param #   \n",
            "=================================================================\n",
            " sequential_1 (Sequential)   (None, 180, 180, 1)       0         \n",
            "                                                                 \n",
            " rescaling_2 (Rescaling)     (None, 180, 180, 1)       0         \n",
            "                                                                 \n",
            " conv2d_3 (Conv2D)           (None, 178, 178, 64)      640       \n",
            "                                                                 \n",
            " max_pooling2d_3 (MaxPooling  (None, 89, 89, 64)       0         \n",
            " 2D)                                                             \n",
            "                                                                 \n",
            " conv2d_4 (Conv2D)           (None, 89, 89, 64)        36928     \n",
            "                                                                 \n",
            " max_pooling2d_4 (MaxPooling  (None, 44, 44, 64)       0         \n",
            " 2D)                                                             \n",
            "                                                                 \n",
            " conv2d_5 (Conv2D)           (None, 44, 44, 64)        36928     \n",
            "                                                                 \n",
            " max_pooling2d_5 (MaxPooling  (None, 22, 22, 64)       0         \n",
            " 2D)                                                             \n",
            "                                                                 \n",
            " dropout (Dropout)           (None, 22, 22, 64)        0         \n",
            "                                                                 \n",
            " flatten_1 (Flatten)         (None, 30976)             0         \n",
            "                                                                 \n",
            " dense_10 (Dense)            (None, 128)               3965056   \n",
            "                                                                 \n",
            " batch_normalization_10 (Bat  (None, 128)              512       \n",
            " chNormalization)                                                \n",
            "                                                                 \n",
            " dense_11 (Dense)            (None, 128)               16512     \n",
            "                                                                 \n",
            " batch_normalization_11 (Bat  (None, 128)              512       \n",
            " chNormalization)                                                \n",
            "                                                                 \n",
            " dense_12 (Dense)            (None, 128)               16512     \n",
            "                                                                 \n",
            " batch_normalization_12 (Bat  (None, 128)              512       \n",
            " chNormalization)                                                \n",
            "                                                                 \n",
            " dense_13 (Dense)            (None, 128)               16512     \n",
            "                                                                 \n",
            " batch_normalization_13 (Bat  (None, 128)              512       \n",
            " chNormalization)                                                \n",
            "                                                                 \n",
            " dense_14 (Dense)            (None, 128)               16512     \n",
            "                                                                 \n",
            " batch_normalization_14 (Bat  (None, 128)              512       \n",
            " chNormalization)                                                \n",
            "                                                                 \n",
            " dense_15 (Dense)            (None, 128)               16512     \n",
            "                                                                 \n",
            " batch_normalization_15 (Bat  (None, 128)              512       \n",
            " chNormalization)                                                \n",
            "                                                                 \n",
            " dense_16 (Dense)            (None, 128)               16512     \n",
            "                                                                 \n",
            " batch_normalization_16 (Bat  (None, 128)              512       \n",
            " chNormalization)                                                \n",
            "                                                                 \n",
            " dense_17 (Dense)            (None, 128)               16512     \n",
            "                                                                 \n",
            " batch_normalization_17 (Bat  (None, 128)              512       \n",
            " chNormalization)                                                \n",
            "                                                                 \n",
            " dense_18 (Dense)            (None, 107)               13803     \n",
            "                                                                 \n",
            " batch_normalization_18 (Bat  (None, 107)              428       \n",
            " chNormalization)                                                \n",
            "                                                                 \n",
            " dense_19 (Dense)            (None, 107)               11556     \n",
            "                                                                 \n",
            "=================================================================\n",
            "Total params: 4,185,019\n",
            "Trainable params: 4,182,757\n",
            "Non-trainable params: 2,262\n",
            "_________________________________________________________________\n"
          ]
        }
      ]
    },
    {
      "cell_type": "code",
      "metadata": {
        "id": "df30HUqFjWre"
      },
      "source": [
        ""
      ],
      "execution_count": null,
      "outputs": []
    }
  ]
}