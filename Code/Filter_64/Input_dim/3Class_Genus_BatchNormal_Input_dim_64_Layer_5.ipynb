{
  "nbformat": 4,
  "nbformat_minor": 0,
  "metadata": {
    "colab": {
      "name": "3Class_Genus_BatchNormal_Input_dim_64_Layer_5.ipynb",
      "provenance": [],
      "collapsed_sections": [],
      "mount_file_id": "1z7SXimolH9GT3U8kD7_bL0ZwJJfcrRuG",
      "authorship_tag": "ABX9TyPBkVq9p9x3YefsdE/fd7w0",
      "include_colab_link": true
    },
    "kernelspec": {
      "name": "python3",
      "display_name": "Python 3"
    },
    "language_info": {
      "name": "python"
    },
    "accelerator": "GPU"
  },
  "cells": [
    {
      "cell_type": "markdown",
      "metadata": {
        "id": "view-in-github",
        "colab_type": "text"
      },
      "source": [
        "<a href=\"https://colab.research.google.com/github/Tajyu/Master_Degree_Paper/blob/main/Code/Filter_64/Input_dim/3Class_Genus_BatchNormal_Input_dim_64_Layer_5.ipynb\" target=\"_parent\"><img src=\"https://colab.research.google.com/assets/colab-badge.svg\" alt=\"Open In Colab\"/></a>"
      ]
    },
    {
      "cell_type": "code",
      "metadata": {
        "id": "yWckd06_68Em"
      },
      "source": [
        "import tensorflow as tf\n",
        "from tensorflow.keras import datasets, layers, models\n",
        "from keras.preprocessing.image import ImageDataGenerator\n",
        "import numpy as np\n",
        "import matplotlib.pyplot as plt\n",
        "import cv2 as cv\n",
        "import os\n",
        "import pathlib\n",
        "import PIL\n",
        "from tensorflow import keras\n",
        "from tensorflow.keras import layers\n",
        "from tensorflow.keras.models import Sequential\n",
        "from tensorflow.keras.layers import Dense, Flatten, BatchNormalization, Dropout"
      ],
      "execution_count": null,
      "outputs": []
    },
    {
      "cell_type": "code",
      "metadata": {
        "id": "xav9zirHttk_"
      },
      "source": [
        "image_list = os.listdir('/content/drive/MyDrive/Colab Notebooks/Final_Project/Cell_Genus')"
      ],
      "execution_count": null,
      "outputs": []
    },
    {
      "cell_type": "code",
      "metadata": {
        "colab": {
          "base_uri": "https://localhost:8080/"
        },
        "id": "K-wD0dM5tx_E",
        "outputId": "f21527a2-422f-40f6-9073-b55b63fec6dc"
      },
      "source": [
        "print(image_list)"
      ],
      "execution_count": null,
      "outputs": [
        {
          "output_type": "stream",
          "name": "stdout",
          "text": [
            "['10_Genus_Stauroneis_Ehrenberg', '10_Genus_Staurosira_Ehrenberg', '11_Genus_Craspedostauros_E.J_Cox_1999', '11_Genus_Staurosirella_Williams_and_Round', '12_Genus_Caloneis_Cleve_1894', '12_Genus_Synedra_Ehrenberg', '13_Genus_Pinnularia_Ehrenberg_1843', '1_Genus_Acanthoceras_Honigmann', '1_Genus_Achnanthes_Bory', '1_Genus_Actinocyclus_Ehrenberg', '1_Genus_Aphanocapsa_Nageli_1849', '1_Genus_Asterionella_Hassall', '1_Genus_Aulacoseira', '1_Genus_Biremis_Mann_et_Cox_in_Round_Crawford_and_Mann', '1_Genus_Characium_A_Braun_in_Kutzing_1849', '1_Genus_Chroococcus_Nageli', '1_Genus_Closterium_Nitzsch_ex_Ralfs_1848', '1_Genus_Coelastrum_Nageli_1849', '1_Genus_Cylindrocystis_Meneghini_ex_de_Bary_1858', '1_Genus_Dictyosphaerium_Nageli_1849', '1_Genus_Docidium_Brebisson_ex_Ralfs_1848', '1_Genus_Eunotia_Ehrenberg', '1_Genus_Geitlerinema_(Anagnostidis_et_Komarek)_Anagnostidis_1989', '1_Genus_Gonatozygon_de_Bary_1856', '1_Genus_Hydrodictyon_Roth_1797', '1_Genus_Hydrosera_whampoensis', '1_Genus_Jaaginema_Anagnostidis_et_Komarek_1988', '1_Genus_Lyngbya_C_Agardh_ex_Gomont_1892', '1_Genus_Melosira_Agardh', '1_Genus_Micractinium_Fresenius_1858', '1_Genus_Micrasterias_Ralfs_1848', '1_Genus_Microcystis_Kutzing_ex_Lemmermann_1907', '1_Genus_Oscillatoria_Vaucher_ex_Gomont_1982', '1_Genus_Pediastrum_Meyen_1829', '1_Genus_Penium_Brebisson_ex_Ralfs_in_Ralfs_1848', '1_Genus_Phormidium_Kutzing_ex_Gomont_1892', '1_Genus_Planktothrix_Anagnostidis_et_Komarek_1988', '1_Genus_Pleurosira_laevis_(Ehrenberg)', '1_Genus_Rhizosolenia_Ehrenberg', '1_Genus_Schizochlamydella_Korshikov_1953', '1_Genus_Staurodesmus_Teiling_1848', '1_Genus_Trochiscia_Kutzing_1834', '1_Scenedesmus_Hegewald_1978', '2_Acutodesmus_Hegewald_1978', '2_Genus_Achnanthidium_Kutzing', '2_Genus_Actinastrum_Lagerheim_1882', '2_Genus_Actinella_Lewis', '2_Genus_Ankyra_Fott_1957', '2_Genus_Caloneis_Cleve', '2_Genus_Chaetoceros_Ehrenberg', '2_Genus_Coenochloris_Korshikov_1953', '2_Genus_Cyclotella', '2_Genus_Diatoma_Bory', '2_Genus_Dimorphococcus_A_Braun_1855', '2_Genus_Golenkinia_Chodat_1894', '2_Genus_Haplotaenium_Bando_1988', '2_Genus_Leibleinia_(Gomont)_L_Hoffman_1985', '2_Genus_Leptolyngbya_Anagnostidis_et_Komarek_1988', '2_Genus_Merismopedia_Meyen_1839', '2_Genus_Netrium_(Nageli)_Itzigsohn_et_Rothe_in_Rabenhorst_1856', '2_Genus_Orthoseira_Thwaites_1848', '2_Genus_Phormidium_Kutzing_ex_Gomont_1892', '2_Genus_Sorastrum_Kutzing_1845', '2_Genus_Staurastrum_Meyen_ex_Ralfs_1848', '3_Desmodesmus_Chodat_1926', '3_Genus_Acanthosphaera_Lemmerman_1899', '3_Genus_Anorthoneis_Grunow', '3_Genus_Cyclostephanos_Round', '3_Genus_Dichotomococcus_Korshikov_1928', '3_Genus_Heteroleibleinia_(Geitler)_L_Hoffmann_1985', '3_Genus_Limnothrix_Meffert_1988', '3_Genus_Meridion_Agardh', '3_Genus_Paradoxia_Svirenko_1928', '3_Genus_Peronia_Bebisson_and_Arnott_ex_Kitton', '3_Genus_Phormidiochaete_Komarek_in_Anagnostidis_2001', '3_Genus_Pinnularia_Ehrenberg_1', '3_Genus_Pleurotaenium_Nageli_1849', '3_Genus_Radiococcus_Schmidle_1902', '3_Genus_Snowella_Elenkin_1938', '3_Genus_Spirotaenia_Brebisson_in_Ralfs_1848', '4_Genus_Botryococcus_Kutzing_1849', '4_Genus_Cocconeis_Ehrenberg', '4_Genus_Eutetramorus_Walton_1918', '4_Genus_Leptolyngbya_Anagnostidis_et_Komarek_1988', '4_Genus_Opephora_Petit', '4_Genus_Pinnularia_Ehrenberg_2', '4_Genus_Schroederia_Lemmermann_1898', '4_Genus_Stephanodiscus_Ehrenberg', '4_Genus_Synechocystis_Sauvageau_1892', '4_Genus_Tortitaenia_A_J_Brook_1998', '5_Genus_Caloneis_Cleve', '5_Genus_Coenocystis_Korshikov_1953', '5_Genus_Planktolyngbya_Anagnostidis_et_Komarek_1988', '5_Genus_Tabellaria_Ehrenberg', '5_Genus_Thalassiosira_Cleve', '5_Genus_Woronichinia_Elenkin_1933', '6_Genus_Anomoeoneis_Pfitzer', '6_Genus_Fragilaria_Lyngbye', '6_Genus_Gloeocystis_Nageli_1849', '6_Genus_Pseudanabaena_Lauterborn_1915', '6_Genus_Skeletonema_Greville', '7_Genus_Caloneis_Cleve', '7_Genus_Hannaea_Patrick', '8_Genus_Diploneis(Ehrenberg)_Cleve', '8_Genus_Pseudostaurosira_Williams_and_Round', '9_Genus_Neidium_Pfitzer', '9_Genus_Punctastriata_Williams_and_Round']\n"
          ]
        }
      ]
    },
    {
      "cell_type": "code",
      "metadata": {
        "id": "o-0DvzEHt8VE"
      },
      "source": [
        "data_generator = ImageDataGenerator(rescale = 1./255)\n",
        "\n",
        "data_dir = \"/content/drive/MyDrive/Colab Notebooks/Final_Project/Cell_Genus\""
      ],
      "execution_count": null,
      "outputs": []
    },
    {
      "cell_type": "code",
      "metadata": {
        "id": "7aTCfEm3t10n"
      },
      "source": [
        "batch_size = 32\n",
        "img_height = 180\n",
        "img_width = 180"
      ],
      "execution_count": null,
      "outputs": []
    },
    {
      "cell_type": "code",
      "metadata": {
        "colab": {
          "base_uri": "https://localhost:8080/"
        },
        "id": "9Smg-miEt22s",
        "outputId": "b44440e9-d9eb-4e5a-fd7d-3e9116aba9ec"
      },
      "source": [
        "train_ds = tf.keras.preprocessing.image_dataset_from_directory(\n",
        "  data_dir,\n",
        "  color_mode = \"grayscale\",\n",
        "  validation_split=0.2,\n",
        "  subset=\"training\",\n",
        "  seed=123,\n",
        "  image_size=(img_height, img_width),\n",
        "  batch_size=batch_size)"
      ],
      "execution_count": null,
      "outputs": [
        {
          "output_type": "stream",
          "name": "stdout",
          "text": [
            "Found 6226 files belonging to 107 classes.\n",
            "Using 4981 files for training.\n"
          ]
        }
      ]
    },
    {
      "cell_type": "code",
      "metadata": {
        "colab": {
          "base_uri": "https://localhost:8080/"
        },
        "id": "1nR0WdQGt44x",
        "outputId": "92fa0a3d-cdae-4dbf-d313-d94d1f636f6d"
      },
      "source": [
        "val_ds = tf.keras.preprocessing.image_dataset_from_directory(\n",
        "  data_dir,\n",
        "  color_mode = \"grayscale\",\n",
        "  validation_split=0.2,\n",
        "  subset=\"validation\",\n",
        "  seed=123,\n",
        "  image_size=(img_height, img_width),\n",
        "  batch_size=batch_size)"
      ],
      "execution_count": null,
      "outputs": [
        {
          "output_type": "stream",
          "name": "stdout",
          "text": [
            "Found 6226 files belonging to 107 classes.\n",
            "Using 1245 files for validation.\n"
          ]
        }
      ]
    },
    {
      "cell_type": "code",
      "metadata": {
        "colab": {
          "base_uri": "https://localhost:8080/"
        },
        "id": "F-cz_CtGug8Y",
        "outputId": "729198bd-9608-4f25-9739-961fb56009f1"
      },
      "source": [
        "class_names = train_ds.class_names\n",
        "print(class_names)"
      ],
      "execution_count": null,
      "outputs": [
        {
          "output_type": "stream",
          "name": "stdout",
          "text": [
            "['10_Genus_Stauroneis_Ehrenberg', '10_Genus_Staurosira_Ehrenberg', '11_Genus_Craspedostauros_E.J_Cox_1999', '11_Genus_Staurosirella_Williams_and_Round', '12_Genus_Caloneis_Cleve_1894', '12_Genus_Synedra_Ehrenberg', '13_Genus_Pinnularia_Ehrenberg_1843', '1_Genus_Acanthoceras_Honigmann', '1_Genus_Achnanthes_Bory', '1_Genus_Actinocyclus_Ehrenberg', '1_Genus_Aphanocapsa_Nageli_1849', '1_Genus_Asterionella_Hassall', '1_Genus_Aulacoseira', '1_Genus_Biremis_Mann_et_Cox_in_Round_Crawford_and_Mann', '1_Genus_Characium_A_Braun_in_Kutzing_1849', '1_Genus_Chroococcus_Nageli', '1_Genus_Closterium_Nitzsch_ex_Ralfs_1848', '1_Genus_Coelastrum_Nageli_1849', '1_Genus_Cylindrocystis_Meneghini_ex_de_Bary_1858', '1_Genus_Dictyosphaerium_Nageli_1849', '1_Genus_Docidium_Brebisson_ex_Ralfs_1848', '1_Genus_Eunotia_Ehrenberg', '1_Genus_Geitlerinema_(Anagnostidis_et_Komarek)_Anagnostidis_1989', '1_Genus_Gonatozygon_de_Bary_1856', '1_Genus_Hydrodictyon_Roth_1797', '1_Genus_Hydrosera_whampoensis', '1_Genus_Jaaginema_Anagnostidis_et_Komarek_1988', '1_Genus_Lyngbya_C_Agardh_ex_Gomont_1892', '1_Genus_Melosira_Agardh', '1_Genus_Micractinium_Fresenius_1858', '1_Genus_Micrasterias_Ralfs_1848', '1_Genus_Microcystis_Kutzing_ex_Lemmermann_1907', '1_Genus_Oscillatoria_Vaucher_ex_Gomont_1982', '1_Genus_Pediastrum_Meyen_1829', '1_Genus_Penium_Brebisson_ex_Ralfs_in_Ralfs_1848', '1_Genus_Phormidium_Kutzing_ex_Gomont_1892', '1_Genus_Planktothrix_Anagnostidis_et_Komarek_1988', '1_Genus_Pleurosira_laevis_(Ehrenberg)', '1_Genus_Rhizosolenia_Ehrenberg', '1_Genus_Schizochlamydella_Korshikov_1953', '1_Genus_Staurodesmus_Teiling_1848', '1_Genus_Trochiscia_Kutzing_1834', '1_Scenedesmus_Hegewald_1978', '2_Acutodesmus_Hegewald_1978', '2_Genus_Achnanthidium_Kutzing', '2_Genus_Actinastrum_Lagerheim_1882', '2_Genus_Actinella_Lewis', '2_Genus_Ankyra_Fott_1957', '2_Genus_Caloneis_Cleve', '2_Genus_Chaetoceros_Ehrenberg', '2_Genus_Coenochloris_Korshikov_1953', '2_Genus_Cyclotella', '2_Genus_Diatoma_Bory', '2_Genus_Dimorphococcus_A_Braun_1855', '2_Genus_Golenkinia_Chodat_1894', '2_Genus_Haplotaenium_Bando_1988', '2_Genus_Leibleinia_(Gomont)_L_Hoffman_1985', '2_Genus_Leptolyngbya_Anagnostidis_et_Komarek_1988', '2_Genus_Merismopedia_Meyen_1839', '2_Genus_Netrium_(Nageli)_Itzigsohn_et_Rothe_in_Rabenhorst_1856', '2_Genus_Orthoseira_Thwaites_1848', '2_Genus_Phormidium_Kutzing_ex_Gomont_1892', '2_Genus_Sorastrum_Kutzing_1845', '2_Genus_Staurastrum_Meyen_ex_Ralfs_1848', '3_Desmodesmus_Chodat_1926', '3_Genus_Acanthosphaera_Lemmerman_1899', '3_Genus_Anorthoneis_Grunow', '3_Genus_Cyclostephanos_Round', '3_Genus_Dichotomococcus_Korshikov_1928', '3_Genus_Heteroleibleinia_(Geitler)_L_Hoffmann_1985', '3_Genus_Limnothrix_Meffert_1988', '3_Genus_Meridion_Agardh', '3_Genus_Paradoxia_Svirenko_1928', '3_Genus_Peronia_Bebisson_and_Arnott_ex_Kitton', '3_Genus_Phormidiochaete_Komarek_in_Anagnostidis_2001', '3_Genus_Pinnularia_Ehrenberg_1', '3_Genus_Pleurotaenium_Nageli_1849', '3_Genus_Radiococcus_Schmidle_1902', '3_Genus_Snowella_Elenkin_1938', '3_Genus_Spirotaenia_Brebisson_in_Ralfs_1848', '4_Genus_Botryococcus_Kutzing_1849', '4_Genus_Cocconeis_Ehrenberg', '4_Genus_Eutetramorus_Walton_1918', '4_Genus_Leptolyngbya_Anagnostidis_et_Komarek_1988', '4_Genus_Opephora_Petit', '4_Genus_Pinnularia_Ehrenberg_2', '4_Genus_Schroederia_Lemmermann_1898', '4_Genus_Stephanodiscus_Ehrenberg', '4_Genus_Synechocystis_Sauvageau_1892', '4_Genus_Tortitaenia_A_J_Brook_1998', '5_Genus_Caloneis_Cleve', '5_Genus_Coenocystis_Korshikov_1953', '5_Genus_Planktolyngbya_Anagnostidis_et_Komarek_1988', '5_Genus_Tabellaria_Ehrenberg', '5_Genus_Thalassiosira_Cleve', '5_Genus_Woronichinia_Elenkin_1933', '6_Genus_Anomoeoneis_Pfitzer', '6_Genus_Fragilaria_Lyngbye', '6_Genus_Gloeocystis_Nageli_1849', '6_Genus_Pseudanabaena_Lauterborn_1915', '6_Genus_Skeletonema_Greville', '7_Genus_Caloneis_Cleve', '7_Genus_Hannaea_Patrick', '8_Genus_Diploneis(Ehrenberg)_Cleve', '8_Genus_Pseudostaurosira_Williams_and_Round', '9_Genus_Neidium_Pfitzer', '9_Genus_Punctastriata_Williams_and_Round']\n"
          ]
        }
      ]
    },
    {
      "cell_type": "code",
      "metadata": {
        "colab": {
          "base_uri": "https://localhost:8080/"
        },
        "id": "5EQOikPAukic",
        "outputId": "2814a81d-7854-4398-9789-7c8cff3608ff"
      },
      "source": [
        "for image_batch, labels_batch in train_ds:\n",
        "  print(image_batch.shape)\n",
        "  print(labels_batch.shape)\n",
        "  break"
      ],
      "execution_count": null,
      "outputs": [
        {
          "output_type": "stream",
          "name": "stdout",
          "text": [
            "(32, 180, 180, 1)\n",
            "(32,)\n"
          ]
        }
      ]
    },
    {
      "cell_type": "code",
      "metadata": {
        "id": "9eVl7tiDux9q"
      },
      "source": [
        "from tensorflow.keras import layers\n",
        "\n",
        "normalization_layer = tf.keras.layers.experimental.preprocessing.Rescaling(1./255)"
      ],
      "execution_count": null,
      "outputs": []
    },
    {
      "cell_type": "code",
      "metadata": {
        "colab": {
          "base_uri": "https://localhost:8080/"
        },
        "id": "AiIrsxzZuzEo",
        "outputId": "e4641922-e83a-457a-ce66-eb6e0b49cc46"
      },
      "source": [
        "normalized_ds = train_ds.map(lambda x, y: (normalization_layer(x), y))\n",
        "image_batch, labels_batch = next(iter(normalized_ds))\n",
        "first_image = image_batch[0]\n",
        "# Notice the pixels values are now in `[0,1]`.\n",
        "print(np.min(first_image), np.max(first_image))"
      ],
      "execution_count": null,
      "outputs": [
        {
          "output_type": "stream",
          "name": "stdout",
          "text": [
            "0.0 1.0\n"
          ]
        }
      ]
    },
    {
      "cell_type": "code",
      "metadata": {
        "id": "__WbVabru0Bp"
      },
      "source": [
        "AUTOTUNE = tf.data.experimental.AUTOTUNE\n",
        "\n",
        "train_ds = train_ds.cache().prefetch(buffer_size=AUTOTUNE)\n",
        "val_ds = val_ds.cache().prefetch(buffer_size=AUTOTUNE)"
      ],
      "execution_count": null,
      "outputs": []
    },
    {
      "cell_type": "code",
      "metadata": {
        "id": "g1GeYFXCu2gV"
      },
      "source": [
        "num_classes = 107\n",
        "model = tf.keras.Sequential([\n",
        "    layers.experimental.preprocessing.Rescaling(1./255),\n",
        "    layers.Conv2D(64, 3,input_shape = image_batch, activation='relu'),\n",
        "    layers.MaxPooling2D(),\n",
        "    layers.Conv2D(64, 3, activation='relu'),\n",
        "    layers.MaxPooling2D(),\n",
        "    layers.Conv2D(64, 3, activation='relu'),\n",
        "    layers.MaxPooling2D(),\n",
        "    layers.Flatten(),\n",
        "    BatchNormalization(),\n",
        "    layers.Dense(128, input_dim = 107, activation='relu'),\n",
        "    BatchNormalization(),\n",
        "    layers.Dense(128, activation='relu'),\n",
        "    BatchNormalization(),\n",
        "    layers.Dense(128, activation='relu'),\n",
        "    BatchNormalization(),\n",
        "    layers.Dense(128, activation='relu'),\n",
        "    BatchNormalization(),\n",
        "    layers.Dense(107, activation='softmax'),\n",
        "    BatchNormalization(),\n",
        "    layers.Dense(num_classes)\n",
        "    ])"
      ],
      "execution_count": null,
      "outputs": []
    },
    {
      "cell_type": "code",
      "metadata": {
        "id": "wU4xPAvNYWry"
      },
      "source": [
        "model.compile(\n",
        "    optimizer='adam',\n",
        "    loss=tf.losses.SparseCategoricalCrossentropy(from_logits=True),\n",
        "    metrics=['accuracy'])"
      ],
      "execution_count": null,
      "outputs": []
    },
    {
      "cell_type": "code",
      "metadata": {
        "colab": {
          "base_uri": "https://localhost:8080/"
        },
        "id": "Tk8ssrbHu44p",
        "outputId": "b92f71a8-69a0-47f6-978f-f7fe6b28b5ca"
      },
      "source": [
        "epochs=50\n",
        "history = model.fit(\n",
        "  train_ds,\n",
        "  validation_data=val_ds,\n",
        "  epochs=epochs\n",
        ")"
      ],
      "execution_count": null,
      "outputs": [
        {
          "output_type": "stream",
          "name": "stdout",
          "text": [
            "Epoch 1/50\n",
            "156/156 [==============================] - 381s 2s/step - loss: 3.4258 - accuracy: 0.2756 - val_loss: 4.2586 - val_accuracy: 0.1349\n",
            "Epoch 2/50\n",
            "156/156 [==============================] - 4s 28ms/step - loss: 2.3040 - accuracy: 0.4206 - val_loss: 3.6720 - val_accuracy: 0.3165\n",
            "Epoch 3/50\n",
            "156/156 [==============================] - 4s 27ms/step - loss: 1.8150 - accuracy: 0.5212 - val_loss: 2.8869 - val_accuracy: 0.3566\n",
            "Epoch 4/50\n",
            "156/156 [==============================] - 4s 28ms/step - loss: 1.4319 - accuracy: 0.6155 - val_loss: 2.3439 - val_accuracy: 0.4120\n",
            "Epoch 5/50\n",
            "156/156 [==============================] - 4s 28ms/step - loss: 1.1171 - accuracy: 0.7111 - val_loss: 2.3136 - val_accuracy: 0.4410\n",
            "Epoch 6/50\n",
            "156/156 [==============================] - 4s 28ms/step - loss: 0.8487 - accuracy: 0.7755 - val_loss: 2.1911 - val_accuracy: 0.4779\n",
            "Epoch 7/50\n",
            "156/156 [==============================] - 4s 27ms/step - loss: 0.6441 - accuracy: 0.8330 - val_loss: 2.1872 - val_accuracy: 0.4924\n",
            "Epoch 8/50\n",
            "156/156 [==============================] - 4s 27ms/step - loss: 0.4675 - accuracy: 0.8799 - val_loss: 2.3266 - val_accuracy: 0.4835\n",
            "Epoch 9/50\n",
            "156/156 [==============================] - 4s 27ms/step - loss: 0.3268 - accuracy: 0.9239 - val_loss: 2.4448 - val_accuracy: 0.4900\n",
            "Epoch 10/50\n",
            "156/156 [==============================] - 4s 27ms/step - loss: 0.2314 - accuracy: 0.9534 - val_loss: 2.3484 - val_accuracy: 0.4980\n",
            "Epoch 11/50\n",
            "156/156 [==============================] - 4s 27ms/step - loss: 0.1570 - accuracy: 0.9703 - val_loss: 2.4407 - val_accuracy: 0.4988\n",
            "Epoch 12/50\n",
            "156/156 [==============================] - 4s 28ms/step - loss: 0.1065 - accuracy: 0.9849 - val_loss: 2.8664 - val_accuracy: 0.4618\n",
            "Epoch 13/50\n",
            "156/156 [==============================] - 4s 28ms/step - loss: 0.0727 - accuracy: 0.9892 - val_loss: 2.5655 - val_accuracy: 0.5213\n",
            "Epoch 14/50\n",
            "156/156 [==============================] - 4s 28ms/step - loss: 0.0634 - accuracy: 0.9900 - val_loss: 2.5164 - val_accuracy: 0.5285\n",
            "Epoch 15/50\n",
            "156/156 [==============================] - 4s 28ms/step - loss: 0.0442 - accuracy: 0.9946 - val_loss: 2.5006 - val_accuracy: 0.5470\n",
            "Epoch 16/50\n",
            "156/156 [==============================] - 4s 28ms/step - loss: 0.0321 - accuracy: 0.9954 - val_loss: 2.5588 - val_accuracy: 0.5317\n",
            "Epoch 17/50\n",
            "156/156 [==============================] - 4s 28ms/step - loss: 0.0204 - accuracy: 0.9992 - val_loss: 2.5550 - val_accuracy: 0.5406\n",
            "Epoch 18/50\n",
            "156/156 [==============================] - 4s 28ms/step - loss: 0.0143 - accuracy: 0.9994 - val_loss: 2.5646 - val_accuracy: 0.5494\n",
            "Epoch 19/50\n",
            "156/156 [==============================] - 4s 27ms/step - loss: 0.0088 - accuracy: 0.9994 - val_loss: 2.5924 - val_accuracy: 0.5574\n",
            "Epoch 20/50\n",
            "156/156 [==============================] - 4s 27ms/step - loss: 0.0060 - accuracy: 1.0000 - val_loss: 2.6216 - val_accuracy: 0.5534\n",
            "Epoch 21/50\n",
            "156/156 [==============================] - 4s 28ms/step - loss: 0.0045 - accuracy: 1.0000 - val_loss: 2.6531 - val_accuracy: 0.5518\n",
            "Epoch 22/50\n",
            "156/156 [==============================] - 4s 27ms/step - loss: 0.0037 - accuracy: 1.0000 - val_loss: 2.6830 - val_accuracy: 0.5518\n",
            "Epoch 23/50\n",
            "156/156 [==============================] - 4s 28ms/step - loss: 0.0032 - accuracy: 1.0000 - val_loss: 2.7129 - val_accuracy: 0.5502\n",
            "Epoch 24/50\n",
            "156/156 [==============================] - 4s 27ms/step - loss: 0.0028 - accuracy: 1.0000 - val_loss: 2.7410 - val_accuracy: 0.5502\n",
            "Epoch 25/50\n",
            "156/156 [==============================] - 4s 28ms/step - loss: 0.0024 - accuracy: 1.0000 - val_loss: 2.7686 - val_accuracy: 0.5494\n",
            "Epoch 26/50\n",
            "156/156 [==============================] - 4s 27ms/step - loss: 0.0021 - accuracy: 1.0000 - val_loss: 2.7958 - val_accuracy: 0.5502\n",
            "Epoch 27/50\n",
            "156/156 [==============================] - 4s 28ms/step - loss: 0.0019 - accuracy: 1.0000 - val_loss: 2.8220 - val_accuracy: 0.5502\n",
            "Epoch 28/50\n",
            "156/156 [==============================] - 4s 28ms/step - loss: 0.0017 - accuracy: 1.0000 - val_loss: 2.8477 - val_accuracy: 0.5510\n",
            "Epoch 29/50\n",
            "156/156 [==============================] - 4s 27ms/step - loss: 0.0015 - accuracy: 1.0000 - val_loss: 2.8729 - val_accuracy: 0.5502\n",
            "Epoch 30/50\n",
            "156/156 [==============================] - 4s 27ms/step - loss: 0.0014 - accuracy: 1.0000 - val_loss: 2.8972 - val_accuracy: 0.5526\n",
            "Epoch 31/50\n",
            "156/156 [==============================] - 4s 28ms/step - loss: 0.0012 - accuracy: 1.0000 - val_loss: 2.9217 - val_accuracy: 0.5518\n",
            "Epoch 32/50\n",
            "156/156 [==============================] - 4s 28ms/step - loss: 0.0011 - accuracy: 1.0000 - val_loss: 2.9464 - val_accuracy: 0.5502\n",
            "Epoch 33/50\n",
            "156/156 [==============================] - 4s 28ms/step - loss: 9.8972e-04 - accuracy: 1.0000 - val_loss: 2.9702 - val_accuracy: 0.5510\n",
            "Epoch 34/50\n",
            "156/156 [==============================] - 4s 28ms/step - loss: 8.9551e-04 - accuracy: 1.0000 - val_loss: 2.9940 - val_accuracy: 0.5510\n",
            "Epoch 35/50\n",
            "156/156 [==============================] - 4s 27ms/step - loss: 8.1139e-04 - accuracy: 1.0000 - val_loss: 3.0179 - val_accuracy: 0.5518\n",
            "Epoch 36/50\n",
            "156/156 [==============================] - 4s 28ms/step - loss: 7.3595e-04 - accuracy: 1.0000 - val_loss: 3.0413 - val_accuracy: 0.5502\n",
            "Epoch 37/50\n",
            "156/156 [==============================] - 4s 28ms/step - loss: 6.6830e-04 - accuracy: 1.0000 - val_loss: 3.0649 - val_accuracy: 0.5494\n",
            "Epoch 38/50\n",
            "156/156 [==============================] - 4s 27ms/step - loss: 6.0749e-04 - accuracy: 1.0000 - val_loss: 3.0880 - val_accuracy: 0.5494\n",
            "Epoch 39/50\n",
            "156/156 [==============================] - 4s 28ms/step - loss: 5.5267e-04 - accuracy: 1.0000 - val_loss: 3.1111 - val_accuracy: 0.5494\n",
            "Epoch 40/50\n",
            "156/156 [==============================] - 4s 27ms/step - loss: 5.0322e-04 - accuracy: 1.0000 - val_loss: 3.1346 - val_accuracy: 0.5494\n",
            "Epoch 41/50\n",
            "156/156 [==============================] - 4s 27ms/step - loss: 4.5850e-04 - accuracy: 1.0000 - val_loss: 3.1576 - val_accuracy: 0.5486\n",
            "Epoch 42/50\n",
            "156/156 [==============================] - 4s 28ms/step - loss: 4.1808e-04 - accuracy: 1.0000 - val_loss: 3.1807 - val_accuracy: 0.5478\n",
            "Epoch 43/50\n",
            "156/156 [==============================] - 4s 28ms/step - loss: 3.8149e-04 - accuracy: 1.0000 - val_loss: 3.2039 - val_accuracy: 0.5470\n",
            "Epoch 44/50\n",
            "156/156 [==============================] - 4s 28ms/step - loss: 3.4840e-04 - accuracy: 1.0000 - val_loss: 3.2267 - val_accuracy: 0.5470\n",
            "Epoch 45/50\n",
            "156/156 [==============================] - 4s 28ms/step - loss: 3.1876e-04 - accuracy: 1.0000 - val_loss: 3.2500 - val_accuracy: 0.5462\n",
            "Epoch 46/50\n",
            "156/156 [==============================] - 4s 28ms/step - loss: 2.9864e-04 - accuracy: 1.0000 - val_loss: 3.2723 - val_accuracy: 0.5486\n",
            "Epoch 47/50\n",
            "156/156 [==============================] - 4s 27ms/step - loss: 1.4575 - accuracy: 0.6555 - val_loss: 6.1170 - val_accuracy: 0.2554\n",
            "Epoch 48/50\n",
            "156/156 [==============================] - 4s 28ms/step - loss: 1.2689 - accuracy: 0.6591 - val_loss: 2.7290 - val_accuracy: 0.4482\n",
            "Epoch 49/50\n",
            "156/156 [==============================] - 4s 27ms/step - loss: 0.4824 - accuracy: 0.8609 - val_loss: 2.7033 - val_accuracy: 0.4892\n",
            "Epoch 50/50\n",
            "156/156 [==============================] - 4s 27ms/step - loss: 0.1901 - accuracy: 0.9486 - val_loss: 2.6089 - val_accuracy: 0.5068\n"
          ]
        }
      ]
    },
    {
      "cell_type": "code",
      "metadata": {
        "colab": {
          "base_uri": "https://localhost:8080/",
          "height": 499
        },
        "id": "f1z_vHocu59c",
        "outputId": "bb4b297d-7506-4850-b579-784d61c52e4e"
      },
      "source": [
        "acc = history.history['accuracy']\n",
        "val_acc = history.history['val_accuracy']\n",
        "\n",
        "loss=history.history['loss']\n",
        "val_loss=history.history['val_loss']\n",
        "\n",
        "epochs_range = range(epochs)\n",
        "\n",
        "plt.figure(figsize=(8, 8))\n",
        "plt.subplot(1, 2, 1)\n",
        "plt.plot(epochs_range, acc, label='Training Accuracy')\n",
        "plt.plot(epochs_range, val_acc, label='Validation Accuracy')\n",
        "plt.legend(loc='lower right')\n",
        "plt.title('Training and Validation Accuracy')\n",
        "\n",
        "plt.subplot(1, 2, 2)\n",
        "plt.plot(epochs_range, loss, label='Training Loss')\n",
        "plt.plot(epochs_range, val_loss, label='Validation Loss')\n",
        "plt.legend(loc='upper right')\n",
        "plt.title('Training and Validation Loss')\n",
        "plt.show()"
      ],
      "execution_count": null,
      "outputs": [
        {
          "output_type": "display_data",
          "data": {
            "image/png": "[encoded data removed]",
            "text/plain": [
              "<Figure size 576x576 with 2 Axes>"
            ]
          },
          "metadata": {
            "needs_background": "light"
          }
        }
      ]
    },
    {
      "cell_type": "code",
      "metadata": {
        "id": "XinJ6xXD9YNO"
      },
      "source": [
        "data_augmentation = keras.Sequential(\n",
        "  [\n",
        "    layers.experimental.preprocessing.RandomFlip(\"horizontal\", \n",
        "                                                 input_shape=(img_height, \n",
        "                                                              img_width,\n",
        "                                                              1)),\n",
        "    layers.experimental.preprocessing.RandomRotation(0.1),\n",
        "    layers.experimental.preprocessing.RandomZoom(0.1),\n",
        "  ]\n",
        ")"
      ],
      "execution_count": null,
      "outputs": []
    },
    {
      "cell_type": "code",
      "metadata": {
        "id": "8WT2BYElEYZj"
      },
      "source": [
        "model = Sequential([\n",
        "  data_augmentation,\n",
        "  layers.experimental.preprocessing.Rescaling(1./255),\n",
        "  layers.Conv2D(64, 3,input_shape = image_batch, activation='relu'),\n",
        "  layers.MaxPooling2D(),\n",
        "  layers.Conv2D(64, 3, padding='same', activation='relu'),\n",
        "  layers.MaxPooling2D(),\n",
        "  layers.Conv2D(64, 3, padding='same', activation='relu'),\n",
        "  layers.MaxPooling2D(),\n",
        "  layers.Dropout(0.2),\n",
        "  layers.Flatten(),\n",
        "  layers.Dense(128, input_dim = 107, activation='relu'),\n",
        "  BatchNormalization(),\n",
        "  layers.Dense(128, activation='relu'),\n",
        "  BatchNormalization(),\n",
        "  layers.Dense(128, activation='relu'),\n",
        "  BatchNormalization(),\n",
        "  layers.Dense(128, activation='relu'),\n",
        "  BatchNormalization(),\n",
        "  layers.Dense(107, activation='softmax'),\n",
        "  BatchNormalization(),\n",
        "  layers.Dense(num_classes)\n",
        "])"
      ],
      "execution_count": null,
      "outputs": []
    },
    {
      "cell_type": "code",
      "metadata": {
        "id": "opOHP3auEdsw",
        "colab": {
          "base_uri": "https://localhost:8080/"
        },
        "outputId": "7b3478d8-a197-4a0b-f778-3dd856c1d94b"
      },
      "source": [
        "BatchNormalization(),model.compile(\n",
        "    optimizer='adam',\n",
        "    loss=tf.losses.SparseCategoricalCrossentropy(from_logits=True),\n",
        "    metrics=['accuracy'])"
      ],
      "execution_count": null,
      "outputs": [
        {
          "output_type": "execute_result",
          "data": {
            "text/plain": [
              "(<keras.layers.normalization.batch_normalization.BatchNormalization at 0x7fa61938fd10>,\n",
              " None)"
            ]
          },
          "metadata": {},
          "execution_count": 19
        }
      ]
    },
    {
      "cell_type": "code",
      "metadata": {
        "colab": {
          "base_uri": "https://localhost:8080/"
        },
        "id": "3Ay4tlHlEfBX",
        "outputId": "7ddd02c9-d10e-4924-b153-7e093b6e5def"
      },
      "source": [
        "model.summary()"
      ],
      "execution_count": null,
      "outputs": [
        {
          "output_type": "stream",
          "name": "stdout",
          "text": [
            "Model: \"sequential_2\"\n",
            "_________________________________________________________________\n",
            " Layer (type)                Output Shape              Param #   \n",
            "=================================================================\n",
            " sequential_1 (Sequential)   (None, 180, 180, 1)       0         \n",
            "                                                                 \n",
            " rescaling_2 (Rescaling)     (None, 180, 180, 1)       0         \n",
            "                                                                 \n",
            " conv2d_3 (Conv2D)           (None, 178, 178, 64)      640       \n",
            "                                                                 \n",
            " max_pooling2d_3 (MaxPooling  (None, 89, 89, 64)       0         \n",
            " 2D)                                                             \n",
            "                                                                 \n",
            " conv2d_4 (Conv2D)           (None, 89, 89, 64)        36928     \n",
            "                                                                 \n",
            " max_pooling2d_4 (MaxPooling  (None, 44, 44, 64)       0         \n",
            " 2D)                                                             \n",
            "                                                                 \n",
            " conv2d_5 (Conv2D)           (None, 44, 44, 64)        36928     \n",
            "                                                                 \n",
            " max_pooling2d_5 (MaxPooling  (None, 22, 22, 64)       0         \n",
            " 2D)                                                             \n",
            "                                                                 \n",
            " dropout (Dropout)           (None, 22, 22, 64)        0         \n",
            "                                                                 \n",
            " flatten_1 (Flatten)         (None, 30976)             0         \n",
            "                                                                 \n",
            " dense_6 (Dense)             (None, 128)               3965056   \n",
            "                                                                 \n",
            " batch_normalization_6 (Batc  (None, 128)              512       \n",
            " hNormalization)                                                 \n",
            "                                                                 \n",
            " dense_7 (Dense)             (None, 128)               16512     \n",
            "                                                                 \n",
            " batch_normalization_7 (Batc  (None, 128)              512       \n",
            " hNormalization)                                                 \n",
            "                                                                 \n",
            " dense_8 (Dense)             (None, 128)               16512     \n",
            "                                                                 \n",
            " batch_normalization_8 (Batc  (None, 128)              512       \n",
            " hNormalization)                                                 \n",
            "                                                                 \n",
            " dense_9 (Dense)             (None, 128)               16512     \n",
            "                                                                 \n",
            " batch_normalization_9 (Batc  (None, 128)              512       \n",
            " hNormalization)                                                 \n",
            "                                                                 \n",
            " dense_10 (Dense)            (None, 107)               13803     \n",
            "                                                                 \n",
            " batch_normalization_10 (Bat  (None, 107)              428       \n",
            " chNormalization)                                                \n",
            "                                                                 \n",
            " dense_11 (Dense)            (None, 107)               11556     \n",
            "                                                                 \n",
            "=================================================================\n",
            "Total params: 4,116,923\n",
            "Trainable params: 4,115,685\n",
            "Non-trainable params: 1,238\n",
            "_________________________________________________________________\n"
          ]
        }
      ]
    },
    {
      "cell_type": "code",
      "metadata": {
        "colab": {
          "base_uri": "https://localhost:8080/"
        },
        "id": "Jc8rD_v9Ef41",
        "outputId": "64ebb59f-35ba-41cf-e241-59025300d4d8"
      },
      "source": [
        "epochs = 50\n",
        "history = model.fit(\n",
        "  train_ds,\n",
        "  validation_data=val_ds,\n",
        "  epochs=epochs\n",
        ")"
      ],
      "execution_count": null,
      "outputs": [
        {
          "output_type": "stream",
          "name": "stdout",
          "text": [
            "Epoch 1/50\n",
            "156/156 [==============================] - 7s 32ms/step - loss: 3.7580 - accuracy: 0.1803 - val_loss: 4.1525 - val_accuracy: 0.1703\n",
            "Epoch 2/50\n",
            "156/156 [==============================] - 5s 29ms/step - loss: 2.7748 - accuracy: 0.3082 - val_loss: 3.7076 - val_accuracy: 0.2201\n",
            "Epoch 3/50\n",
            "156/156 [==============================] - 5s 29ms/step - loss: 2.4592 - accuracy: 0.3503 - val_loss: 3.2192 - val_accuracy: 0.2329\n",
            "Epoch 4/50\n",
            "156/156 [==============================] - 5s 29ms/step - loss: 2.2668 - accuracy: 0.3806 - val_loss: 2.7854 - val_accuracy: 0.2892\n",
            "Epoch 5/50\n",
            "156/156 [==============================] - 5s 29ms/step - loss: 2.1357 - accuracy: 0.3971 - val_loss: 2.6775 - val_accuracy: 0.3333\n",
            "Epoch 6/50\n",
            "156/156 [==============================] - 5s 29ms/step - loss: 2.0002 - accuracy: 0.4371 - val_loss: 3.2236 - val_accuracy: 0.2859\n",
            "Epoch 7/50\n",
            "156/156 [==============================] - 5s 29ms/step - loss: 1.9052 - accuracy: 0.4489 - val_loss: 2.5442 - val_accuracy: 0.3655\n",
            "Epoch 8/50\n",
            "156/156 [==============================] - 5s 29ms/step - loss: 1.8185 - accuracy: 0.4692 - val_loss: 2.6733 - val_accuracy: 0.3446\n",
            "Epoch 9/50\n",
            "156/156 [==============================] - 5s 29ms/step - loss: 1.7167 - accuracy: 0.4941 - val_loss: 2.6607 - val_accuracy: 0.3751\n",
            "Epoch 10/50\n",
            "156/156 [==============================] - 5s 29ms/step - loss: 1.6371 - accuracy: 0.5111 - val_loss: 2.3220 - val_accuracy: 0.4032\n",
            "Epoch 11/50\n",
            "156/156 [==============================] - 5s 29ms/step - loss: 1.5391 - accuracy: 0.5332 - val_loss: 2.9219 - val_accuracy: 0.3430\n",
            "Epoch 12/50\n",
            "156/156 [==============================] - 5s 29ms/step - loss: 1.4806 - accuracy: 0.5453 - val_loss: 2.5999 - val_accuracy: 0.3735\n",
            "Epoch 13/50\n",
            "156/156 [==============================] - 5s 30ms/step - loss: 1.4300 - accuracy: 0.5551 - val_loss: 2.7710 - val_accuracy: 0.3711\n",
            "Epoch 14/50\n",
            "156/156 [==============================] - 5s 30ms/step - loss: 1.3644 - accuracy: 0.5806 - val_loss: 2.3138 - val_accuracy: 0.4137\n",
            "Epoch 15/50\n",
            "156/156 [==============================] - 5s 29ms/step - loss: 1.3023 - accuracy: 0.5898 - val_loss: 2.3065 - val_accuracy: 0.4442\n",
            "Epoch 16/50\n",
            "156/156 [==============================] - 5s 29ms/step - loss: 1.2475 - accuracy: 0.5999 - val_loss: 2.2474 - val_accuracy: 0.4353\n",
            "Epoch 17/50\n",
            "156/156 [==============================] - 5s 30ms/step - loss: 1.2043 - accuracy: 0.6190 - val_loss: 2.4334 - val_accuracy: 0.4064\n",
            "Epoch 18/50\n",
            "156/156 [==============================] - 5s 30ms/step - loss: 1.1386 - accuracy: 0.6416 - val_loss: 2.8407 - val_accuracy: 0.3815\n",
            "Epoch 19/50\n",
            "156/156 [==============================] - 5s 29ms/step - loss: 1.1108 - accuracy: 0.6444 - val_loss: 2.2031 - val_accuracy: 0.4602\n",
            "Epoch 20/50\n",
            "156/156 [==============================] - 5s 29ms/step - loss: 1.0518 - accuracy: 0.6671 - val_loss: 2.5965 - val_accuracy: 0.3960\n",
            "Epoch 21/50\n",
            "156/156 [==============================] - 5s 29ms/step - loss: 1.0093 - accuracy: 0.6774 - val_loss: 2.2331 - val_accuracy: 0.4506\n",
            "Epoch 22/50\n",
            "156/156 [==============================] - 5s 29ms/step - loss: 0.9576 - accuracy: 0.6977 - val_loss: 2.6315 - val_accuracy: 0.4281\n",
            "Epoch 23/50\n",
            "156/156 [==============================] - 5s 29ms/step - loss: 0.9391 - accuracy: 0.6964 - val_loss: 2.6891 - val_accuracy: 0.4145\n",
            "Epoch 24/50\n",
            "156/156 [==============================] - 5s 29ms/step - loss: 0.8942 - accuracy: 0.7077 - val_loss: 2.7888 - val_accuracy: 0.4096\n",
            "Epoch 25/50\n",
            "156/156 [==============================] - 5s 30ms/step - loss: 0.8787 - accuracy: 0.7139 - val_loss: 2.3111 - val_accuracy: 0.4691\n",
            "Epoch 26/50\n",
            "156/156 [==============================] - 5s 29ms/step - loss: 0.8509 - accuracy: 0.7278 - val_loss: 2.4958 - val_accuracy: 0.4329\n",
            "Epoch 27/50\n",
            "156/156 [==============================] - 5s 29ms/step - loss: 0.7925 - accuracy: 0.7412 - val_loss: 2.3281 - val_accuracy: 0.4618\n",
            "Epoch 28/50\n",
            "156/156 [==============================] - 5s 30ms/step - loss: 0.7553 - accuracy: 0.7523 - val_loss: 2.6902 - val_accuracy: 0.4137\n",
            "Epoch 29/50\n",
            "156/156 [==============================] - 5s 29ms/step - loss: 0.7356 - accuracy: 0.7599 - val_loss: 2.4386 - val_accuracy: 0.4651\n",
            "Epoch 30/50\n",
            "156/156 [==============================] - 5s 29ms/step - loss: 0.7059 - accuracy: 0.7621 - val_loss: 2.6040 - val_accuracy: 0.4699\n",
            "Epoch 31/50\n",
            "156/156 [==============================] - 5s 29ms/step - loss: 0.6940 - accuracy: 0.7715 - val_loss: 2.4799 - val_accuracy: 0.4578\n",
            "Epoch 32/50\n",
            "156/156 [==============================] - 5s 29ms/step - loss: 0.6748 - accuracy: 0.7770 - val_loss: 2.5158 - val_accuracy: 0.4691\n",
            "Epoch 33/50\n",
            "156/156 [==============================] - 5s 29ms/step - loss: 0.6474 - accuracy: 0.7856 - val_loss: 2.7211 - val_accuracy: 0.4498\n",
            "Epoch 34/50\n",
            "156/156 [==============================] - 5s 29ms/step - loss: 0.6191 - accuracy: 0.7966 - val_loss: 2.6111 - val_accuracy: 0.4490\n",
            "Epoch 35/50\n",
            "156/156 [==============================] - 5s 30ms/step - loss: 0.5930 - accuracy: 0.7974 - val_loss: 2.6944 - val_accuracy: 0.4530\n",
            "Epoch 36/50\n",
            "156/156 [==============================] - 5s 29ms/step - loss: 0.5863 - accuracy: 0.8097 - val_loss: 3.0913 - val_accuracy: 0.4032\n",
            "Epoch 37/50\n",
            "156/156 [==============================] - 5s 29ms/step - loss: 0.5788 - accuracy: 0.8109 - val_loss: 3.2969 - val_accuracy: 0.4096\n",
            "Epoch 38/50\n",
            "156/156 [==============================] - 5s 29ms/step - loss: 0.5378 - accuracy: 0.8211 - val_loss: 2.4683 - val_accuracy: 0.4835\n",
            "Epoch 39/50\n",
            "156/156 [==============================] - 5s 29ms/step - loss: 0.5292 - accuracy: 0.8251 - val_loss: 2.5305 - val_accuracy: 0.5012\n",
            "Epoch 40/50\n",
            "156/156 [==============================] - 5s 29ms/step - loss: 0.4942 - accuracy: 0.8414 - val_loss: 2.6483 - val_accuracy: 0.4835\n",
            "Epoch 41/50\n",
            "156/156 [==============================] - 5s 29ms/step - loss: 0.4634 - accuracy: 0.8506 - val_loss: 2.6920 - val_accuracy: 0.4867\n",
            "Epoch 42/50\n",
            "156/156 [==============================] - 5s 30ms/step - loss: 0.4666 - accuracy: 0.8422 - val_loss: 2.8119 - val_accuracy: 0.4771\n",
            "Epoch 43/50\n",
            "156/156 [==============================] - 5s 30ms/step - loss: 0.4961 - accuracy: 0.8350 - val_loss: 2.7780 - val_accuracy: 0.4876\n",
            "Epoch 44/50\n",
            "156/156 [==============================] - 5s 30ms/step - loss: 0.4693 - accuracy: 0.8482 - val_loss: 2.8907 - val_accuracy: 0.4570\n",
            "Epoch 45/50\n",
            "156/156 [==============================] - 5s 30ms/step - loss: 0.4256 - accuracy: 0.8557 - val_loss: 2.6797 - val_accuracy: 0.4859\n",
            "Epoch 46/50\n",
            "156/156 [==============================] - 5s 29ms/step - loss: 0.4116 - accuracy: 0.8663 - val_loss: 3.0243 - val_accuracy: 0.4466\n",
            "Epoch 47/50\n",
            "156/156 [==============================] - 5s 29ms/step - loss: 0.4020 - accuracy: 0.8723 - val_loss: 3.3944 - val_accuracy: 0.4361\n",
            "Epoch 48/50\n",
            "156/156 [==============================] - 5s 30ms/step - loss: 0.3828 - accuracy: 0.8749 - val_loss: 2.8392 - val_accuracy: 0.4779\n",
            "Epoch 49/50\n",
            "156/156 [==============================] - 5s 29ms/step - loss: 0.3763 - accuracy: 0.8767 - val_loss: 3.3008 - val_accuracy: 0.4683\n",
            "Epoch 50/50\n",
            "156/156 [==============================] - 5s 30ms/step - loss: 0.3625 - accuracy: 0.8824 - val_loss: 2.7196 - val_accuracy: 0.5133\n"
          ]
        }
      ]
    },
    {
      "cell_type": "code",
      "metadata": {
        "colab": {
          "base_uri": "https://localhost:8080/",
          "height": 499
        },
        "id": "ynhS2KjVEhj8",
        "outputId": "e3391b61-fd61-4345-eba2-a40fcf6beb3b"
      },
      "source": [
        "acc = history.history['accuracy']\n",
        "val_acc = history.history['val_accuracy']\n",
        "\n",
        "loss = history.history['loss']\n",
        "val_loss = history.history['val_loss']\n",
        "\n",
        "epochs_range = range(epochs)\n",
        "\n",
        "plt.figure(figsize=(8, 8))\n",
        "plt.subplot(1, 2, 1)\n",
        "plt.plot(epochs_range, acc, label='Training Accuracy')\n",
        "plt.plot(epochs_range, val_acc, label='Validation Accuracy')\n",
        "plt.legend(loc='lower right')\n",
        "plt.title('Training and Validation Accuracy')\n",
        "\n",
        "plt.subplot(1, 2, 2)\n",
        "plt.plot(epochs_range, loss, label='Training Loss')\n",
        "plt.plot(epochs_range, val_loss, label='Validation Loss')\n",
        "plt.legend(loc='upper right')\n",
        "plt.title('Training and Validation Loss')\n",
        "plt.show()"
      ],
      "execution_count": null,
      "outputs": [
        {
          "output_type": "display_data",
          "data": {
            "image/png": "[encoded data removed]",
            "text/plain": [
              "<Figure size 576x576 with 2 Axes>"
            ]
          },
          "metadata": {
            "needs_background": "light"
          }
        }
      ]
    },
    {
      "cell_type": "code",
      "metadata": {
        "colab": {
          "base_uri": "https://localhost:8080/"
        },
        "id": "IbEQMrsAH2yZ",
        "outputId": "13d9aa1e-8d6b-45d4-839e-a87061d49d88"
      },
      "source": [
        "model.compile(\n",
        "    optimizer='adam',\n",
        "    loss=tf.losses.SparseCategoricalCrossentropy(from_logits=True),\n",
        "    metrics=['accuracy'])\n",
        "model.summary()"
      ],
      "execution_count": null,
      "outputs": [
        {
          "output_type": "stream",
          "name": "stdout",
          "text": [
            "Model: \"sequential_2\"\n",
            "_________________________________________________________________\n",
            " Layer (type)                Output Shape              Param #   \n",
            "=================================================================\n",
            " sequential_1 (Sequential)   (None, 180, 180, 1)       0         \n",
            "                                                                 \n",
            " rescaling_2 (Rescaling)     (None, 180, 180, 1)       0         \n",
            "                                                                 \n",
            " conv2d_3 (Conv2D)           (None, 178, 178, 64)      640       \n",
            "                                                                 \n",
            " max_pooling2d_3 (MaxPooling  (None, 89, 89, 64)       0         \n",
            " 2D)                                                             \n",
            "                                                                 \n",
            " conv2d_4 (Conv2D)           (None, 89, 89, 64)        36928     \n",
            "                                                                 \n",
            " max_pooling2d_4 (MaxPooling  (None, 44, 44, 64)       0         \n",
            " 2D)                                                             \n",
            "                                                                 \n",
            " conv2d_5 (Conv2D)           (None, 44, 44, 64)        36928     \n",
            "                                                                 \n",
            " max_pooling2d_5 (MaxPooling  (None, 22, 22, 64)       0         \n",
            " 2D)                                                             \n",
            "                                                                 \n",
            " dropout (Dropout)           (None, 22, 22, 64)        0         \n",
            "                                                                 \n",
            " flatten_1 (Flatten)         (None, 30976)             0         \n",
            "                                                                 \n",
            " dense_6 (Dense)             (None, 128)               3965056   \n",
            "                                                                 \n",
            " batch_normalization_6 (Batc  (None, 128)              512       \n",
            " hNormalization)                                                 \n",
            "                                                                 \n",
            " dense_7 (Dense)             (None, 128)               16512     \n",
            "                                                                 \n",
            " batch_normalization_7 (Batc  (None, 128)              512       \n",
            " hNormalization)                                                 \n",
            "                                                                 \n",
            " dense_8 (Dense)             (None, 128)               16512     \n",
            "                                                                 \n",
            " batch_normalization_8 (Batc  (None, 128)              512       \n",
            " hNormalization)                                                 \n",
            "                                                                 \n",
            " dense_9 (Dense)             (None, 128)               16512     \n",
            "                                                                 \n",
            " batch_normalization_9 (Batc  (None, 128)              512       \n",
            " hNormalization)                                                 \n",
            "                                                                 \n",
            " dense_10 (Dense)            (None, 107)               13803     \n",
            "                                                                 \n",
            " batch_normalization_10 (Bat  (None, 107)              428       \n",
            " chNormalization)                                                \n",
            "                                                                 \n",
            " dense_11 (Dense)            (None, 107)               11556     \n",
            "                                                                 \n",
            "=================================================================\n",
            "Total params: 4,116,923\n",
            "Trainable params: 4,115,685\n",
            "Non-trainable params: 1,238\n",
            "_________________________________________________________________\n"
          ]
        }
      ]
    },
    {
      "cell_type": "code",
      "metadata": {
        "id": "df30HUqFjWre"
      },
      "source": [
        ""
      ],
      "execution_count": null,
      "outputs": []
    }
  ]
}